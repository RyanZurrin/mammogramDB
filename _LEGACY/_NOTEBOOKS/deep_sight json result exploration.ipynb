{
 "cells": [
  {
   "cell_type": "code",
   "execution_count": 1,
   "id": "636b9ba4",
   "metadata": {},
   "outputs": [
    {
     "name": "stdout",
     "output_type": "stream",
     "text": [
      "Populating the interactive namespace from numpy and matplotlib\n"
     ]
    }
   ],
   "source": [
    "import sys\n",
    "import time\n",
    "sys.path.insert(0,'../..')\n",
    "import omama as O\n",
    "import json\n",
    "import os"
   ]
  },
  {
   "cell_type": "code",
   "execution_count": 2,
   "id": "edf82101",
   "metadata": {},
   "outputs": [
    {
     "name": "stdout",
     "output_type": "stream",
     "text": [
      "/tmp/test/rnd_imgs/rnd_imgs_one_folder\n"
     ]
    },
    {
     "data": {
      "text/plain": [
       "0"
      ]
     },
     "execution_count": 2,
     "metadata": {},
     "output_type": "execute_result"
    }
   ],
   "source": [
    "os.chdir(\"/tmp/test/rnd_imgs/rnd_imgs_one_folder/\")\n",
    "os.system(\"pwd\")"
   ]
  },
  {
   "cell_type": "code",
   "execution_count": 3,
   "id": "632b66ed",
   "metadata": {},
   "outputs": [],
   "source": [
    "img1=O.DataHelper.get(\"DXm.2.25.217321484352248699030844413496181043774\")"
   ]
  },
  {
   "cell_type": "code",
   "execution_count": 4,
   "id": "98f23668",
   "metadata": {},
   "outputs": [],
   "source": [
    "img2=O.DataHelper.get(\"DXm.2.25.124381528605702917763164197238060295247\")"
   ]
  },
  {
   "cell_type": "code",
   "execution_count": 5,
   "id": "3544526c",
   "metadata": {},
   "outputs": [],
   "source": [
    "img3=O.DataHelper.get(\"DXm.2.25.38579031505102571256361347111343069904\")"
   ]
  },
  {
   "cell_type": "code",
   "execution_count": 6,
   "id": "71fa4e91",
   "metadata": {},
   "outputs": [],
   "source": [
    "img4=O.DataHelper.get(\"DXm.2.25.41840648022000818954245230828971871497\")"
   ]
  },
  {
   "cell_type": "code",
   "execution_count": 7,
   "id": "21a53ea9",
   "metadata": {},
   "outputs": [],
   "source": [
    "O.DataHelper.store(img1, \"/tmp/test/rnd_imgs/rnd_imgs_one_folder/img1.dcm\")"
   ]
  },
  {
   "cell_type": "code",
   "execution_count": 8,
   "id": "8e733a2d",
   "metadata": {},
   "outputs": [],
   "source": [
    "O.DataHelper.store(img2, \"/tmp/test/rnd_imgs/rnd_imgs_one_folder/img2.dcm\")"
   ]
  },
  {
   "cell_type": "code",
   "execution_count": 9,
   "id": "b7060f59",
   "metadata": {},
   "outputs": [],
   "source": [
    "O.DataHelper.store(img3, \"/tmp/test/rnd_imgs/rnd_imgs_one_folder/img3.dcm\")"
   ]
  },
  {
   "cell_type": "code",
   "execution_count": 10,
   "id": "a505e9f0",
   "metadata": {},
   "outputs": [],
   "source": [
    "O.DataHelper.store(img4, \"/tmp/test/rnd_imgs/rnd_imgs_one_folder/img4.dcm\")"
   ]
  },
  {
   "cell_type": "code",
   "execution_count": null,
   "id": "4f8f8431",
   "metadata": {},
   "outputs": [],
   "source": []
  },
  {
   "cell_type": "code",
   "execution_count": null,
   "id": "29ba6b3d",
   "metadata": {},
   "outputs": [],
   "source": []
  },
  {
   "cell_type": "code",
   "execution_count": null,
   "id": "668f90d1",
   "metadata": {},
   "outputs": [],
   "source": []
  },
  {
   "cell_type": "code",
   "execution_count": 11,
   "id": "85a45a8f",
   "metadata": {},
   "outputs": [],
   "source": [
    "os.chdir(\"/tmp/test/rnd_imgs/out_one_folder_2/rnd_imgs_one_folder\")"
   ]
  },
  {
   "cell_type": "code",
   "execution_count": 12,
   "id": "1e467481",
   "metadata": {},
   "outputs": [],
   "source": [
    " f = open('results_full.json')\n",
    "json_result = json.load(f) "
   ]
  },
  {
   "cell_type": "code",
   "execution_count": 13,
   "id": "f624dfe3",
   "metadata": {},
   "outputs": [
    {
     "data": {
      "text/plain": [
       "{'0': ['FAC-140'],\n",
       " '1': None,\n",
       " '2': None,\n",
       " '3': ['FAC-140'],\n",
       " '4': None,\n",
       " '5': ['FAC-140'],\n",
       " '6': None,\n",
       " '7': ['PAC-30']}"
      ]
     },
     "execution_count": 13,
     "metadata": {},
     "output_type": "execute_result"
    }
   ],
   "source": [
    "metadata_dict = json.loads(json_result['_metadata'])\n",
    "metadata_dict[\"failed_checks\"]"
   ]
  },
  {
   "cell_type": "code",
   "execution_count": 14,
   "id": "6f320db5",
   "metadata": {},
   "outputs": [
    {
     "data": {
      "text/plain": [
       "{'input_dir': '/tmp/test/rnd_imgs/rnd_imgs_one_folder',\n",
       " 'input_files': ['/tmp/test/rnd_imgs/rnd_imgs_one_folder/0.dcm',\n",
       "  '/tmp/test/rnd_imgs/rnd_imgs_one_folder/4.dcm',\n",
       "  '/tmp/test/rnd_imgs/rnd_imgs_one_folder/5.dcm',\n",
       "  '/tmp/test/rnd_imgs/rnd_imgs_one_folder/1.dcm',\n",
       "  '/tmp/test/rnd_imgs/rnd_imgs_one_folder/7.dcm',\n",
       "  '/tmp/test/rnd_imgs/rnd_imgs_one_folder/2.dcm',\n",
       "  '/tmp/test/rnd_imgs/rnd_imgs_one_folder/3.dcm',\n",
       "  '/tmp/test/rnd_imgs/rnd_imgs_one_folder/6.dcm'],\n",
       " 'output_dir': '/root/output/rnd_imgs_one_folder',\n",
       " '_metadata': '{\"failed_checks\":{\"0\":[\"FAC-140\"],\"1\":null,\"2\":null,\"3\":[\"FAC-140\"],\"4\":null,\"5\":[\"FAC-140\"],\"6\":null,\"7\":[\"PAC-30\"]},\"dcm_path\":{\"0\":\"\\\\/tmp\\\\/test\\\\/rnd_imgs\\\\/rnd_imgs_one_folder\\\\/0.dcm\",\"1\":\"\\\\/tmp\\\\/test\\\\/rnd_imgs\\\\/rnd_imgs_one_folder\\\\/4.dcm\",\"2\":\"\\\\/tmp\\\\/test\\\\/rnd_imgs\\\\/rnd_imgs_one_folder\\\\/5.dcm\",\"3\":\"\\\\/tmp\\\\/test\\\\/rnd_imgs\\\\/rnd_imgs_one_folder\\\\/1.dcm\",\"4\":\"\\\\/tmp\\\\/test\\\\/rnd_imgs\\\\/rnd_imgs_one_folder\\\\/7.dcm\",\"5\":\"\\\\/tmp\\\\/test\\\\/rnd_imgs\\\\/rnd_imgs_one_folder\\\\/2.dcm\",\"6\":\"\\\\/tmp\\\\/test\\\\/rnd_imgs\\\\/rnd_imgs_one_folder\\\\/3.dcm\",\"7\":\"\\\\/tmp\\\\/test\\\\/rnd_imgs\\\\/rnd_imgs_one_folder\\\\/6.dcm\"},\"AccessionNumber\":{\"0\":\"DHQIYMUZYN9O\",\"1\":\"DH1OFF4VA1LX\",\"2\":\"DHCYZE4PCJMY\",\"3\":\"DH3Q1SFQSRW2\",\"4\":\"DH1NKMS6D73P\",\"5\":\"DHV5YVDC7W49\",\"6\":\"DHKFCEPONEB3\",\"7\":\"DHJW0HQ0BBGP\"},\"Columns\":{\"0\":\"1914\",\"1\":\"1996\",\"2\":\"1996\",\"3\":\"2394\",\"4\":\"1996\",\"5\":\"1914\",\"6\":\"3328\",\"7\":\"1996\"},\"CompressionForce\":{\"0\":\"70\",\"1\":\"\",\"2\":\"\",\"3\":\"100\",\"4\":\"\",\"5\":\"0\",\"6\":\"80.090200\",\"7\":\"\"},\"ContentDate\":{\"0\":\"\",\"1\":\"\",\"2\":\"\",\"3\":\"\",\"4\":\"\",\"5\":\"\",\"6\":\"\",\"7\":\"\"},\"ContentTime\":{\"0\":\"000000\",\"1\":\"\",\"2\":\"\",\"3\":\"000000\",\"4\":\"\",\"5\":\"000000\",\"6\":\"000000\",\"7\":\"\"},\"DetectorBinning\":{\"0\":\"[1, 1]\",\"1\":\"\",\"2\":\"\",\"3\":\"[1, 1]\",\"4\":\"\",\"5\":\"[1, 1]\",\"6\":\"\",\"7\":\"\"},\"Exposure\":{\"0\":\"56\",\"1\":\"\",\"2\":\"\",\"3\":\"43\",\"4\":\"\",\"5\":\"90\",\"6\":\"111\",\"7\":\"\"},\"FieldOfViewHorizontalFlip\":{\"0\":\"NO\",\"1\":\"\",\"2\":\"\",\"3\":\"NO\",\"4\":\"\",\"5\":\"NO\",\"6\":\"NO\",\"7\":\"\"},\"FieldOfViewOrigin\":{\"0\":\"[5, 1]\",\"1\":\"\",\"2\":\"\",\"3\":\"[5, 1]\",\"4\":\"\",\"5\":\"[389, 1]\",\"6\":\"[0, 256]\",\"7\":\"\"},\"FieldOfViewRotation\":{\"0\":\"180\",\"1\":\"\",\"2\":\"\",\"3\":\"0\",\"4\":\"\",\"5\":\"180\",\"6\":\"0\",\"7\":\"\"},\"FrameOfReferenceUID\":{\"0\":\"\",\"1\":\"2.25.112603152056030810667079136060654100678\",\"2\":\"2.25.179365357956782350714220830351535541629\",\"3\":\"\",\"4\":\"2.25.278620018541441234436756036752349582048\",\"5\":\"\",\"6\":\"\",\"7\":\"2.25.109363770481855905193349351497394803810\"},\"ImageLaterality\":{\"0\":\"R\",\"1\":\"L\",\"2\":\"L\",\"3\":\"L\",\"4\":\"L\",\"5\":\"R\",\"6\":\"R\",\"7\":\"L\"},\"ImagerPixelSpacing\":{\"0\":\"[0.09409090909091, 0.09409090909091]\",\"1\":\"[0.106402, 0.106402]\",\"2\":\"[0.105720, 0.105720]\",\"3\":\"[0.09409090909091, 0.09409090909091]\",\"4\":\"[0.106422, 0.106422]\",\"5\":\"[0.09409090909091, 0.09409090909091]\",\"6\":\"[.070, .070]\",\"7\":\"[0.105414, 0.105414]\"},\"ImageType\":{\"0\":\"[\\'ORIGINAL\\', \\'PRIMARY\\', \\'\\']\",\"1\":\"[\\'DERIVED\\', \\'PRIMARY\\', \\'VOLUME\\', \\'NONE\\']\",\"2\":\"[\\'DERIVED\\', \\'PRIMARY\\', \\'VOLUME\\', \\'NONE\\']\",\"3\":\"[\\'ORIGINAL\\', \\'PRIMARY\\', \\'\\']\",\"4\":\"[\\'DERIVED\\', \\'PRIMARY\\', \\'VOLUME\\', \\'NONE\\']\",\"5\":\"[\\'ORIGINAL\\', \\'PRIMARY\\', \\'\\']\",\"6\":\"[\\'DERIVED\\', \\'SECONDARY\\']\",\"7\":\"[\\'DERIVED\\', \\'PRIMARY\\', \\'VOLUME\\', \\'NONE\\']\"},\"InstitutionName\":{\"0\":\"\",\"1\":\"\",\"2\":\"\",\"3\":\"\",\"4\":\"\",\"5\":\"\",\"6\":\"\",\"7\":\"\"},\"Manufacturer\":{\"0\":\"GE MEDICAL SYSTEMS\",\"1\":\"HOLOGIC, Inc.\",\"2\":\"HOLOGIC, Inc.\",\"3\":\"GE MEDICAL SYSTEMS\",\"4\":\"HOLOGIC, Inc.\",\"5\":\"GE MEDICAL SYSTEMS\",\"6\":\"HOLOGIC, Inc.\",\"7\":\"HOLOGIC, Inc.\"},\"ManufacturerModelName\":{\"0\":\"Senographe Essential VERSION ADS_53.40\",\"1\":\"Selenia Dimensions\",\"2\":\"Selenia Dimensions\",\"3\":\"Senographe Essential VERSION ADS_53.40\",\"4\":\"Selenia Dimensions\",\"5\":\"Senographe Essential VERSION ADS_53.10.1.1\",\"6\":\"Lorad Selenia\",\"7\":\"Selenia Dimensions\"},\"Modality\":{\"0\":\"MG\",\"1\":\"MG\",\"2\":\"MG\",\"3\":\"MG\",\"4\":\"MG\",\"5\":\"MG\",\"6\":\"MG\",\"7\":\"MG\"},\"NumberOfFrames\":{\"0\":\"\",\"1\":\"79\",\"2\":\"86\",\"3\":\"\",\"4\":\"78\",\"5\":\"\",\"6\":\"\",\"7\":\"91\"},\"PatientAge\":{\"0\":\"370M\",\"1\":\"\",\"2\":\"\",\"3\":\"599M\",\"4\":\"\",\"5\":\"656M\",\"6\":\"604M\",\"7\":\"\"},\"PatientBirthDate\":{\"0\":\"\",\"1\":\"\",\"2\":\"\",\"3\":\"\",\"4\":\"\",\"5\":\"\",\"6\":\"\",\"7\":\"\"},\"PatientID\":{\"0\":\"DH5XKAU5Y7S8\",\"1\":\"DHFKR11O1J02\",\"2\":\"DHKDQ2HUYWDR\",\"3\":\"DHFY3MFIZ1ER\",\"4\":\"DHVGGTPS2DPK\",\"5\":\"DHIUMDM3TVN6\",\"6\":\"DHPPLZ1FL0R9\",\"7\":\"DHZW554XDUJE\"},\"PatientName\":{\"0\":\"\",\"1\":\"\",\"2\":\"\",\"3\":\"\",\"4\":\"\",\"5\":\"\",\"6\":\"\",\"7\":\"\"},\"PatientOrientation\":{\"0\":\"P|FL\",\"1\":\"P|L\",\"2\":\"P|HL\",\"3\":\"A|FR\",\"4\":\"P|L\",\"5\":\"P|L\",\"6\":\"P|L\",\"7\":\"P|HL\"},\"PatientSex\":{\"0\":\"\",\"1\":\"\",\"2\":\"\",\"3\":\"\",\"4\":\"\",\"5\":\"\",\"6\":\"\",\"7\":\"\"},\"PixelSpacing\":{\"0\":\"\",\"1\":\"\",\"2\":\"\",\"3\":\"\",\"4\":\"\",\"5\":\"\",\"6\":\"[0.0700, 0.0700]\",\"7\":\"\"},\"PresentationIntentType\":{\"0\":\"FOR PRESENTATION\",\"1\":\"\",\"2\":\"\",\"3\":\"FOR PRESENTATION\",\"4\":\"\",\"5\":\"FOR PRESENTATION\",\"6\":\"FOR PRESENTATION\",\"7\":\"\"},\"ProtocolName\":{\"0\":\"\",\"1\":\"\",\"2\":\"\",\"3\":\"\",\"4\":\"\",\"5\":\"\",\"6\":\"\",\"7\":\"\"},\"ReferringPhysicianName\":{\"0\":\"\",\"1\":\"\",\"2\":\"\",\"3\":\"\",\"4\":\"\",\"5\":\"\",\"6\":\"\",\"7\":\"\"},\"Rows\":{\"0\":\"2294\",\"1\":\"2457\",\"2\":\"2457\",\"3\":\"3062\",\"4\":\"2457\",\"5\":\"2294\",\"6\":\"4096\",\"7\":\"2457\"},\"SeriesDescription\":{\"0\":\"MAMMO DIAGNOSTIC BILATERAL DIGITAL W CAD\",\"1\":\"\",\"2\":\"\",\"3\":\"MAMMO SCREENING BILATERAL DIGITAL W CAD\",\"4\":\"\",\"5\":\"MAMMO SCREEN BILAT DIGITAL W\\\\/CAD\",\"6\":\"R CC\",\"7\":\"\"},\"SeriesInstanceUID\":{\"0\":\"2.25.294087740190809267649418158741423971325\",\"1\":\"2.25.201116567701031001515128679633495620751\",\"2\":\"2.25.44057487501199150190429015785803042977\",\"3\":\"2.25.68205849433972921342784181445910819822\",\"4\":\"2.25.243293212532618472122310315816359503079\",\"5\":\"2.25.23047088631341842848662374114355339714\",\"6\":\"2.25.207468501256764809189073763259614679028\",\"7\":\"2.25.294698967920786594247464429461784451922\"},\"SeriesNumber\":{\"0\":\"33785\",\"1\":\"73200000\",\"2\":\"73200000\",\"3\":\"37423\",\"4\":\"73200000\",\"5\":\"11120\",\"6\":\"1\",\"7\":\"73200000\"},\"SOPClassUID\":{\"0\":\"1.2.840.10008.5.1.4.1.1.1.2\",\"1\":\"1.2.840.10008.5.1.4.1.1.13.1.3\",\"2\":\"1.2.840.10008.5.1.4.1.1.13.1.3\",\"3\":\"1.2.840.10008.5.1.4.1.1.1.2\",\"4\":\"1.2.840.10008.5.1.4.1.1.13.1.3\",\"5\":\"1.2.840.10008.5.1.4.1.1.1.2\",\"6\":\"1.2.840.10008.5.1.4.1.1.1.2\",\"7\":\"1.2.840.10008.5.1.4.1.1.13.1.3\"},\"SOPInstanceUID\":{\"0\":\"2.25.17706469335542333687216150508464998599\",\"1\":\"2.25.73177912155766146971542808269141747687\",\"2\":\"2.25.117295932085879664601247040238532702307\",\"3\":\"2.25.153376227414213078712527477287014152722\",\"4\":\"2.25.9732983231781425775949792807481365696\",\"5\":\"2.25.74175994495885163885357886397963004875\",\"6\":\"2.25.93363845430193074673424294156665894496\",\"7\":\"2.25.334372421733205591261923661537582664673\"},\"StudyDate\":{\"0\":\"\",\"1\":\"\",\"2\":\"\",\"3\":\"\",\"4\":\"\",\"5\":\"\",\"6\":\"\",\"7\":\"\"},\"StudyDescription\":{\"0\":\"MAMMO DIAGNOSTIC BILATERAL DIGITAL W CAD\",\"1\":\"\",\"2\":\"\",\"3\":\"MAMMO SCREENING BILATERAL DIGITAL W CAD\",\"4\":\"\",\"5\":\"MAMMO SCREENING BILATERAL DIGITAL W CAD\",\"6\":\"MAMMO BILATERAL\",\"7\":\"\"},\"StudyID\":{\"0\":\"\",\"1\":\"\",\"2\":\"\",\"3\":\"\",\"4\":\"\",\"5\":\"\",\"6\":\"\",\"7\":\"\"},\"StudyInstanceUID\":{\"0\":\"2.25.134875546576503108712503370537649290190\",\"1\":\"2.25.318329750602490089458143362468236018963\",\"2\":\"2.25.40906239658322681867902156728955277308\",\"3\":\"2.25.28905289849935303381865105902139180117\",\"4\":\"2.25.313597459790252218633888092692975983818\",\"5\":\"2.25.62935342309559960045852914708268584975\",\"6\":\"2.25.42759761419554354965991606258603398554\",\"7\":\"2.25.48867247611552241809826851131767051416\"},\"StudyTime\":{\"0\":\"000000\",\"1\":\"000001.2.826.0.1.3680043.9.7134.1.5.0.14342.1505928124.311565\",\"2\":\"000001.2.826.0.1.3680043.9.7134.1.5.0.77971.1505882495.849032\",\"3\":\"000000\",\"4\":\"000001.2.826.0.1.3680043.9.7134.1.5.0.49296.1505857183.675586\",\"5\":\"000000\",\"6\":\"000000\",\"7\":\"000001.2.826.0.1.3680043.9.7134.1.5.0.52988.1505859655.550648\"},\"ViewPosition\":{\"0\":\"MLO\",\"1\":\"CC\",\"2\":\"MLO\",\"3\":\"MLO\",\"4\":\"CC\",\"5\":\"CC\",\"6\":\"CC\",\"7\":\"MLO\"},\"WindowCenter\":{\"0\":\"[2845, 2893, 2767]\",\"1\":\"512\",\"2\":\"512\",\"3\":\"[2983, 3025, 2917]\",\"4\":\"512\",\"5\":\"[2929, 3001, 2821, 2929]\",\"6\":\"2047\",\"7\":\"512\"},\"WindowWidth\":{\"0\":\"[900, 750, 1050]\",\"1\":\"512\",\"2\":\"512\",\"3\":\"[900, 750, 1050]\",\"4\":\"512\",\"5\":\"[900, 750, 1050, 2301]\",\"6\":\"4096\",\"7\":\"512\"},\"WindowCenterWidthExplanation\":{\"0\":\"[\\'NORMAL\\', \\'HARDER\\', \\'SOFTER\\']\",\"1\":\"\",\"2\":\"\",\"3\":\"[\\'NORMAL\\', \\'HARDER\\', \\'SOFTER\\']\",\"4\":\"\",\"5\":\"[\\'NORMAL\\', \\'HARDER\\', \\'SOFTER\\', \\'USER\\']\",\"6\":\"\",\"7\":\"\"},\"ImageClassification\":{\"0\":\"Unknown\",\"1\":\"Hologic Slices\",\"2\":\"Hologic Slices\",\"3\":\"Unknown\",\"4\":\"Hologic Slices\",\"5\":\"Unknown\",\"6\":\"Unknown\",\"7\":\"Hologic Slices\"},\"np_paths\":{\"0\":null,\"1\":null,\"2\":null,\"3\":null,\"4\":null,\"5\":null,\"6\":null,\"7\":null},\"pixel_array_shape\":{\"0\":null,\"1\":[79,2457,1996],\"2\":[86,2457,1996],\"3\":null,\"4\":[78,2457,1996],\"5\":null,\"6\":[4096,3328],\"7\":null}}',\n",
       " 'study_metadata': {'PatientName': '',\n",
       "  'PatientID': 'DHFKR11O1J02',\n",
       "  'PatientFirstName': '',\n",
       "  'PatientLastName': '',\n",
       "  'PatientBirthDate': '',\n",
       "  'PatientSex': '',\n",
       "  'AccessionNumber': 'DH1OFF4VA1LX',\n",
       "  'StudyInstanceUID': '2.25.318329750602490089458143362468236018963',\n",
       "  'StudyDate': ''},\n",
       " '_checker_validation_passed': False,\n",
       " '_failed_acceptance_criteria_list': ['SAC-81',\n",
       "  'PAC-30',\n",
       "  'SAC-90',\n",
       "  'SAC-100',\n",
       "  'SAC-130',\n",
       "  'SAC-131',\n",
       "  'SAC-40',\n",
       "  'FAC-140'],\n",
       " 'results_raw': None,\n",
       " 'results': None,\n",
       " 'results_file_name': 'results_full.json',\n",
       " 'reports_expected': [],\n",
       " 'reports_generated': {},\n",
       " 'output_send_results': {},\n",
       " 'preprocessed': True,\n",
       " 'predicted': False,\n",
       " 'outputs_sent': False,\n",
       " '_error_code': 2,\n",
       " '_error_messages': [\"The study did not meet the required acceptance criteria. Failed flags: ['FAC-140', 'FAC-140', 'FAC-140', 'PAC-30', 'SAC-40', 'SAC-81', 'SAC-90', 'SAC-100', 'SAC-130', 'SAC-131']\"],\n",
       " 'studies_db_id': None,\n",
       " 'uid': None}"
      ]
     },
     "execution_count": 14,
     "metadata": {},
     "output_type": "execute_result"
    }
   ],
   "source": [
    "json_result"
   ]
  }
 ],
 "metadata": {
  "kernelspec": {
   "display_name": "Python 3 (ipykernel)",
   "language": "python",
   "name": "python3"
  },
  "language_info": {
   "codemirror_mode": {
    "name": "ipython",
    "version": 3
   },
   "file_extension": ".py",
   "mimetype": "text/x-python",
   "name": "python",
   "nbconvert_exporter": "python",
   "pygments_lexer": "ipython3",
   "version": "3.9.7"
  }
 },
 "nbformat": 4,
 "nbformat_minor": 5
}
