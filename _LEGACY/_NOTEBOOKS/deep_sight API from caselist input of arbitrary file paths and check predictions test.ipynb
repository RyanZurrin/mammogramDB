{
 "cells": [
  {
   "cell_type": "code",
   "execution_count": 1,
   "id": "5992c437",
   "metadata": {},
   "outputs": [
    {
     "name": "stdout",
     "output_type": "stream",
     "text": [
      "Populating the interactive namespace from numpy and matplotlib\n"
     ]
    }
   ],
   "source": [
    "import sys\n",
    "import time\n",
    "sys.path.insert(0,'../..')\n",
    "import omama as O\n",
    "import json"
   ]
  },
  {
   "cell_type": "code",
   "execution_count": 2,
   "id": "e1867f03",
   "metadata": {},
   "outputs": [
    {
     "name": "stdout",
     "output_type": "stream",
     "text": [
      "...took 87.34617853164673\n"
     ]
    }
   ],
   "source": [
    "pred = O.DeepSight.run(\"/tmp/test/whitelist_2d_10_count.txt\", timing=True)"
   ]
  },
  {
   "cell_type": "code",
   "execution_count": null,
   "id": "ad0e2fff",
   "metadata": {},
   "outputs": [],
   "source": [
    "pred = O.DeepSight.run(\"/tmp/test/rnd_imgs/caselist.txt\", input_dir= \"/tmp/test/rnd_imgs\", output_dir= \"/tmp/test/rnd_imgs/generic_folder\", timing=True)"
   ]
  },
  {
   "cell_type": "code",
   "execution_count": null,
   "id": "62d9f0f4",
   "metadata": {},
   "outputs": [],
   "source": [
    "pred = O.DeepSight.run(\"/tmp/test/rnd_imgs/caselist.txt\", input_dir= \"/tmp/test/rnd_imgs\", timing=True)"
   ]
  },
  {
   "cell_type": "code",
   "execution_count": null,
   "id": "f4bb85fb",
   "metadata": {},
   "outputs": [],
   "source": [
    "pred"
   ]
  },
  {
   "cell_type": "code",
   "execution_count": null,
   "id": "61bcfa21",
   "metadata": {
    "scrolled": false
   },
   "outputs": [],
   "source": [
    "pred = O.DeepSight.run(\"/tmp/test/rnd_imgs/rnd_imgs_one_folder/caselist.txt\", input_dir= \"/tmp/test/rnd_imgs/rnd_imgs_one_folder\", timing=True)"
   ]
  },
  {
   "cell_type": "code",
   "execution_count": null,
   "id": "5464cac9",
   "metadata": {},
   "outputs": [],
   "source": [
    "pred\n"
   ]
  },
  {
   "cell_type": "code",
   "execution_count": null,
   "id": "f90334aa",
   "metadata": {},
   "outputs": [],
   "source": [
    "imgs = O.DataHelper.get2D(N=10, cancer=True, timing=True)"
   ]
  },
  {
   "cell_type": "code",
   "execution_count": null,
   "id": "53525a09",
   "metadata": {},
   "outputs": [],
   "source": [
    "pred1 = O.DeepSight.run(imgs, timing=True)"
   ]
  },
  {
   "cell_type": "code",
   "execution_count": null,
   "id": "aa69b953",
   "metadata": {},
   "outputs": [],
   "source": []
  }
 ],
 "metadata": {
  "kernelspec": {
   "display_name": "Python 3 (ipykernel)",
   "language": "python",
   "name": "python3"
  },
  "language_info": {
   "codemirror_mode": {
    "name": "ipython",
    "version": 3
   },
   "file_extension": ".py",
   "mimetype": "text/x-python",
   "name": "python",
   "nbconvert_exporter": "python",
   "pygments_lexer": "ipython3",
   "version": "3.9.7"
  }
 },
 "nbformat": 4,
 "nbformat_minor": 5
}
