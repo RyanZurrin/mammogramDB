{
 "cells": [
  {
   "cell_type": "markdown",
   "id": "d0adee30",
   "metadata": {},
   "source": [
    "# XGBOD - Improving Supervised Outlier Detection with Unsupervised Representation Learning. A semi-supervised outlier detection framework.\n",
    "### XGBOD class for outlier detection. It first uses the passed in unsupervised outlier detectors to extract richer representation of the data and then concatenates the newly generated features to the original feature for constructing the augmented feature space. An XGBoost classifier is then applied on this augmented feature space. \n",
    "Source: https://pyod.readthedocs.io/en/latest/pyod.models.html#module-pyod.models.xgbod"
   ]
  },
  {
   "cell_type": "markdown",
   "id": "51813d2e",
   "metadata": {},
   "source": [
    "### Arguments that work with XGBOD algorithm:\n",
    "1. X\n",
    "2. Y"
   ]
  },
  {
   "cell_type": "code",
   "execution_count": 4,
   "id": "1aa4da19",
   "metadata": {},
   "outputs": [
    {
     "name": "stdout",
     "output_type": "stream",
     "text": [
      "Populating the interactive namespace from numpy and matplotlib\n",
      "The autoreload extension is already loaded. To reload it, use:\n",
      "  %reload_ext autoreload\n"
     ]
    }
   ],
   "source": [
    "%pylab inline\n",
    "%load_ext autoreload\n",
    "%autoreload 2\n",
    "import sys\n",
    "import time\n",
    "sys.path.insert(0,'../../../..')\n",
    "import omama as O"
   ]
  },
  {
   "cell_type": "code",
   "execution_count": 5,
   "id": "b5fa73c4",
   "metadata": {
    "scrolled": true
   },
   "outputs": [
    {
     "name": "stdout",
     "output_type": "stream",
     "text": [
      "get2D                    ...took   206.357722 seconds\n",
      "image downsampling       ...took     9.067056 seconds\n",
      "image downsampling       ...took    12.384873 seconds\n",
      "image downsampling       ...took    15.710515 seconds\n",
      "image downsampling       ...took    19.036841 seconds\n",
      "image downsampling       ...took    38.867119 seconds\n",
      "image downsampling       ...took    42.219393 seconds\n",
      "image downsampling       ...took    45.564503 seconds\n",
      "image downsampling       ...took    48.881651 seconds\n",
      "image downsampling       ...took    52.216632 seconds\n",
      "image downsampling       ...took    59.689196 seconds\n",
      "image downsampling       ...took    79.267627 seconds\n",
      "image downsampling       ...took    82.593528 seconds\n",
      "image downsampling       ...took    90.028784 seconds\n",
      "image downsampling       ...took    93.597543 seconds\n",
      "image downsampling       ...took    96.896374 seconds\n",
      "image downsampling       ...took   106.842792 seconds\n",
      "image downsampling       ...took   114.378898 seconds\n",
      "image downsampling       ...took   117.736002 seconds\n",
      "image downsampling       ...took   121.039662 seconds\n",
      "image downsampling       ...took   140.634556 seconds\n",
      "image downsampling       ...took   148.054260 seconds\n",
      "image downsampling       ...took   155.445276 seconds\n",
      "image downsampling       ...took   158.972796 seconds\n",
      "image downsampling       ...took   166.395644 seconds\n",
      "image downsampling       ...took   185.941642 seconds\n",
      "image downsampling       ...took   189.226572 seconds\n",
      "image downsampling       ...took   196.689634 seconds\n",
      "image downsampling       ...took   199.987819 seconds\n",
      "image downsampling       ...took   203.517139 seconds\n",
      "image downsampling       ...took   223.093634 seconds\n",
      "image downsampling       ...took   226.409283 seconds\n",
      "image downsampling       ...took   229.748487 seconds\n",
      "image downsampling       ...took   233.066111 seconds\n",
      "image downsampling       ...took   240.524126 seconds\n",
      "image downsampling       ...took   247.966414 seconds\n",
      "image downsampling       ...took   251.277087 seconds\n",
      "image downsampling       ...took   258.804473 seconds\n",
      "image downsampling       ...took   266.446423 seconds\n",
      "image downsampling       ...took   269.783682 seconds\n",
      "image downsampling       ...took   277.213631 seconds\n",
      "image downsampling       ...took   280.504056 seconds\n",
      "image downsampling       ...took   283.838871 seconds\n",
      "image downsampling       ...took   287.176749 seconds\n",
      "image downsampling       ...took   290.503637 seconds\n",
      "image downsampling       ...took   297.946446 seconds\n",
      "image downsampling       ...took   301.291087 seconds\n",
      "image downsampling       ...took   308.694940 seconds\n",
      "image downsampling       ...took   312.020591 seconds\n",
      "image downsampling       ...took   319.458350 seconds\n",
      "image downsampling       ...took   322.780003 seconds\n",
      "image downsampling       ...took   326.310815 seconds\n",
      "image downsampling       ...took   333.717182 seconds\n",
      "image downsampling       ...took   337.032402 seconds\n",
      "image downsampling       ...took   340.361537 seconds\n",
      "image downsampling       ...took   347.811924 seconds\n",
      "image downsampling       ...took   351.141626 seconds\n",
      "image downsampling       ...took   354.439108 seconds\n",
      "image downsampling       ...took   357.783946 seconds\n",
      "image downsampling       ...took   361.088900 seconds\n",
      "image downsampling       ...took   368.514172 seconds\n",
      "image downsampling       ...took   371.823865 seconds\n",
      "image downsampling       ...took   375.141382 seconds\n",
      "image downsampling       ...took   382.785630 seconds\n",
      "image downsampling       ...took   386.049113 seconds\n",
      "image downsampling       ...took   393.557154 seconds\n",
      "image downsampling       ...took   396.913626 seconds\n",
      "image downsampling       ...took   400.228588 seconds\n",
      "image downsampling       ...took   407.647953 seconds\n",
      "image downsampling       ...took   410.965401 seconds\n",
      "image downsampling       ...took   418.404576 seconds\n",
      "image downsampling       ...took   421.733630 seconds\n",
      "image downsampling       ...took   429.170376 seconds\n",
      "image downsampling       ...took   436.877922 seconds\n",
      "image downsampling       ...took   444.331812 seconds\n",
      "image downsampling       ...took   447.671583 seconds\n",
      "image downsampling       ...took   450.992704 seconds\n",
      "image downsampling       ...took   454.330965 seconds\n",
      "image downsampling       ...took   461.810491 seconds\n",
      "image downsampling       ...took   465.145235 seconds\n",
      "image downsampling       ...took   468.485628 seconds\n",
      "image downsampling       ...took   475.904672 seconds\n",
      "image downsampling       ...took   479.249629 seconds\n",
      "image downsampling       ...took   482.566982 seconds\n",
      "image downsampling       ...took   489.970337 seconds\n",
      "image downsampling       ...took   497.643711 seconds\n",
      "image downsampling       ...took   500.989640 seconds\n",
      "image downsampling       ...took   504.314943 seconds\n",
      "image downsampling       ...took   511.725994 seconds\n",
      "image downsampling       ...took   519.170410 seconds\n",
      "image downsampling       ...took   526.606395 seconds\n",
      "image downsampling       ...took   534.012327 seconds\n",
      "image downsampling       ...took   541.468527 seconds\n",
      "image downsampling       ...took   561.303932 seconds\n",
      "image downsampling       ...took   564.640145 seconds\n",
      "image downsampling       ...took   567.957413 seconds\n",
      "image downsampling       ...took   577.952688 seconds\n",
      "image downsampling       ...took   587.897271 seconds\n",
      "image downsampling       ...took   595.338416 seconds\n",
      "image downsampling       ...took   599.005632 seconds\n",
      "image downsampling       ...took   602.325624 seconds\n",
      "downsample               ...took   602.326887 seconds\n"
     ]
    }
   ],
   "source": [
    "imgs = O.DataHelper.get2D(N = 100, config_num=7, randomize=True, timing=True)\n",
    "downsampled_imgs = O.Normalize.downsample(imgs, output_shape=(64, 64), flatten=True, timing=True)"
   ]
  },
  {
   "cell_type": "code",
   "execution_count": 6,
   "id": "b376126b",
   "metadata": {},
   "outputs": [
    {
     "ename": "TypeError",
     "evalue": "fit() missing 1 required positional argument: 'y'",
     "output_type": "error",
     "traceback": [
      "\u001B[0;31m---------------------------------------------------------------------------\u001B[0m",
      "\u001B[0;31mTypeError\u001B[0m                                 Traceback (most recent call last)",
      "\u001B[0;32m/tmp/ipykernel_3239058/404411311.py\u001B[0m in \u001B[0;36m<module>\u001B[0;34m\u001B[0m\n\u001B[0;32m----> 1\u001B[0;31m \u001B[0mtrain_scoresX\u001B[0m\u001B[0;34m,\u001B[0m \u001B[0mtrain_labelsX\u001B[0m \u001B[0;34m=\u001B[0m \u001B[0mO\u001B[0m\u001B[0;34m.\u001B[0m\u001B[0mOutlierDetector\u001B[0m\u001B[0;34m.\u001B[0m\u001B[0mdetect_outliers\u001B[0m\u001B[0;34m(\u001B[0m\u001B[0mdownsampled_imgs\u001B[0m\u001B[0;34m,\u001B[0m \u001B[0mpyod_algorithm\u001B[0m\u001B[0;34m=\u001B[0m\u001B[0;34m'XGBOD'\u001B[0m\u001B[0;34m)\u001B[0m\u001B[0;34m\u001B[0m\u001B[0;34m\u001B[0m\u001B[0m\n\u001B[0m\u001B[1;32m      2\u001B[0m \u001B[0mO\u001B[0m\u001B[0;34m.\u001B[0m\u001B[0mFeatures\u001B[0m\u001B[0;34m.\u001B[0m\u001B[0mview_image_and_features\u001B[0m\u001B[0;34m(\u001B[0m\u001B[0mimgs\u001B[0m\u001B[0;34m,\u001B[0m \u001B[0;34m[\u001B[0m\u001B[0;34m'downsample'\u001B[0m\u001B[0;34m]\u001B[0m\u001B[0;34m,\u001B[0m \u001B[0mtrain_scores\u001B[0m\u001B[0;34m=\u001B[0m\u001B[0;34m[\u001B[0m\u001B[0mtrain_scoresX\u001B[0m\u001B[0;34m]\u001B[0m\u001B[0;34m)\u001B[0m\u001B[0;34m\u001B[0m\u001B[0;34m\u001B[0m\u001B[0m\n",
      "\u001B[0;32m~/Projects/omama/_EXPERIMENTS/OUTLIER_DETECTION/PYOD_20/DOWNSAMPLED/../../../../omama/outlier_detection/outlier_detector.py\u001B[0m in \u001B[0;36mdetect_outliers\u001B[0;34m(data_x, data_y, pyod_algorithm, activation_hidden, algorithm, alpha, approx_clf, approx_clf_list, approx_flag_global, approx_ng_clf_list, assume_centered, bandwidth, base_estimator, base_estimators, base_score, batch_size, behaviour, beta, booster, bootstrap, bootstrap_features, bps_flag, c, cache_size, capacity, check_detector, check_estimator, clustering_estimator, coef0, colsample_bylevel, colsample_bytree, combination, contamination, copy, cost_forecast_loc_fit, cost_forecast_loc_pred, covariance_type, D_layers, decay, decoder_neurons, degree, dis_measure, dropout_rate, encoder_neurons, epochs, epochs_query, eps, estimator_list, estimator_params, G_layers, gamma, hidden_activation, hidden_neurons, index_D_layer_for_recon_error, init_params, iterated_power, jl_method, kernel, l2_regularizer, latent_dim, latent_dim_G, leaf_size, learning_rate, learning_rate_query, loss, lr_d, lr_g, max_delta_step, max_depth, max_features, max_iter, max_samples, means_init, method, metric, metric_params, min_child_weight, momentum, n_bins, n_clusters, n_components, n_estimators, n_init, n_iter, n_jobs, n_neighbors, n_random_cuts, n_selected_components, novelty, nthread, nu, objective, optimizer, output_activation, p, parallel_execution, perplexity, precisions_init, preprocessing, radius, random_state, ref_set, reg_alpha, reg_covar, reg_lambda, rp_clf_list, rp_ng_clf_list, rp_flag_global, rule_of_thumb, scale_pos_weight, shrinking, silent, standardization, standardization_flag_list, stop_epochs, store_precision, subsample, subset_size, support_fraction, svd_solver, target_dim_frac, tol, use_ae, use_weights, validation_size, verbose, warm_start, weighted, weights_init, whiten, whitening)\u001B[0m\n\u001B[1;32m   1001\u001B[0m \u001B[0;34m\u001B[0m\u001B[0m\n\u001B[1;32m   1002\u001B[0m         \u001B[0;32mif\u001B[0m \u001B[0mdata_y\u001B[0m \u001B[0;32mis\u001B[0m \u001B[0;32mNone\u001B[0m\u001B[0;34m:\u001B[0m\u001B[0;34m\u001B[0m\u001B[0;34m\u001B[0m\u001B[0m\n\u001B[0;32m-> 1003\u001B[0;31m             \u001B[0mclf\u001B[0m\u001B[0;34m.\u001B[0m\u001B[0mfit\u001B[0m\u001B[0;34m(\u001B[0m\u001B[0mdata_x\u001B[0m\u001B[0;34m)\u001B[0m\u001B[0;34m\u001B[0m\u001B[0;34m\u001B[0m\u001B[0m\n\u001B[0m\u001B[1;32m   1004\u001B[0m         \u001B[0;32melse\u001B[0m\u001B[0;34m:\u001B[0m\u001B[0;34m\u001B[0m\u001B[0;34m\u001B[0m\u001B[0m\n\u001B[1;32m   1005\u001B[0m             \u001B[0mclf\u001B[0m\u001B[0;34m.\u001B[0m\u001B[0mfit\u001B[0m\u001B[0;34m(\u001B[0m\u001B[0mdata_x\u001B[0m\u001B[0;34m,\u001B[0m \u001B[0mdata_y\u001B[0m\u001B[0;34m)\u001B[0m\u001B[0;34m\u001B[0m\u001B[0;34m\u001B[0m\u001B[0m\n",
      "\u001B[0;31mTypeError\u001B[0m: fit() missing 1 required positional argument: 'y'"
     ]
    }
   ],
   "source": [
    "train_scoresX, train_labelsX = O.OutlierDetector.detect_outliers(downsampled_imgs, pyod_algorithm='XGBOD')\n",
    "O.Features.view_image_and_features(imgs, ['downsample'], train_scores=[train_scoresX])"
   ]
  },
  {
   "cell_type": "code",
   "execution_count": null,
   "id": "ee5a7823",
   "metadata": {},
   "outputs": [],
   "source": []
  }
 ],
 "metadata": {
  "kernelspec": {
   "display_name": "Python 3 (ipykernel)",
   "language": "python",
   "name": "python3"
  },
  "language_info": {
   "codemirror_mode": {
    "name": "ipython",
    "version": 3
   },
   "file_extension": ".py",
   "mimetype": "text/x-python",
   "name": "python",
   "nbconvert_exporter": "python",
   "pygments_lexer": "ipython3",
   "version": "3.9.7"
  }
 },
 "nbformat": 4,
 "nbformat_minor": 5
}
