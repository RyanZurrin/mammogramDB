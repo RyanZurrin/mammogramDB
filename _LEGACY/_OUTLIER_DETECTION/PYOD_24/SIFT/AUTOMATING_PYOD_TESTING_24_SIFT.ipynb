{
 "cells": [
  {
   "cell_type": "code",
   "execution_count": 1,
   "id": "d2d0ce1d",
   "metadata": {},
   "outputs": [
    {
     "name": "stdout",
     "output_type": "stream",
     "text": [
      "Populating the interactive namespace from numpy and matplotlib\n"
     ]
    }
   ],
   "source": [
    "%pylab inline\n",
    "%load_ext autoreload\n",
    "%autoreload 2"
   ]
  },
  {
   "cell_type": "code",
   "execution_count": 2,
   "id": "14be8401",
   "metadata": {},
   "outputs": [],
   "source": [
    "import sys\n",
    "import time\n",
    "sys.path.insert(0,'../../../..')\n",
    "import omama as O"
   ]
  },
  {
   "cell_type": "code",
   "execution_count": 6,
   "id": "e9979482",
   "metadata": {},
   "outputs": [],
   "source": [
    "imgs = O.DataHelper.get2D(N = 100, config_num=7, randomize=True)\n",
    "features = O.Features.get_features(imgs, feature_type=\"sift\", norm_type=\"max\")"
   ]
  },
  {
   "cell_type": "code",
   "execution_count": 7,
   "id": "21115775",
   "metadata": {},
   "outputs": [],
   "source": [
    "configuration = {\n",
    "    \"contamination\": 0.24,\n",
    "    \"verbose\": False,\n",
    "    \"n_jobs\": 1,\n",
    "    \"norm_type\": \"max\",\n",
    "    \"tol\": 0.5,\n",
    "    \"n_bins\": 2,\n",
    "    \"alpha\": 0.08,\n",
    "    \"beta\": 3,\n",
    "    \"n_neighbors\": 3,\n",
    "    \"n_clusters\": 2,\n",
    "    \"base_estimators\": [\n",
    "        \"LOF\",\n",
    "        \"INNE\",\n",
    "        \"CBLOF\",\n",
    "        \"FB\"\n",
    "    ],\n",
    "    \"cluster_estimator\": \"KMeans\",\n",
    "    \"n_estimators\": 6,\n",
    "    \"subset_size\": 0.5,\n",
    "    \"combination\": \"maximum\",\n",
    "    \"leaf_size\": 30,\n",
    "    \"p\": 2,\n",
    "    \"novelty\": True,\n",
    "    \"kernel\": \"rbf\",\n",
    "    \"degree\": 3,\n",
    "    \"gamma\": 0.1,\n",
    "    \"coef0\": 1,\n",
    "    \"nu\": 0.5,\n",
    "    \"shrinking\": True,\n",
    "    \"cache_size\": 200,\n",
    "    \"max_iter\": -1,\n",
    "    \"max_samples\": 0.5,\n",
    "    \"bandwidth\": 2.0,\n",
    "    \"radius\": 1.0,\n",
    "    \"hidden_neurons\": [\n",
    "        24,\n",
    "        12,\n",
    "        12,\n",
    "        24\n",
    "    ]\n",
    "}"
   ]
  },
  {
   "cell_type": "code",
   "execution_count": 10,
   "id": "f849684b",
   "metadata": {},
   "outputs": [
    {
     "name": "stdout",
     "output_type": "stream",
     "text": [
      "Running COF... len of imgs and t_scores are equal for COF\n",
      "COF accuracy: 0.7916666666666666\n"
     ]
    }
   ],
   "source": [
    "train_scores, train_labels, accuracy = \\\n",
    "O.OutlierDetector.detect_outliers(features=features,\n",
    "                                  imgs=imgs,\n",
    "                                  pyod_algorithm='COF',\n",
    "                                  accuracy_score=True,\n",
    "                                  number_bad=24,\n",
    "                                  **configuration)"
   ]
  },
  {
   "cell_type": "code",
   "execution_count": null,
   "id": "f13602b2",
   "metadata": {},
   "outputs": [],
   "source": [
    "# Running COF... len of imgs and t_scores are equal for COF\n",
    "# COF accuracy: 0.7916666666666666\n"
   ]
  },
  {
   "cell_type": "code",
   "execution_count": null,
   "id": "f13c4e48",
   "metadata": {},
   "outputs": [],
   "source": []
  },
  {
   "cell_type": "code",
   "execution_count": 5,
   "id": "a177b38b",
   "metadata": {},
   "outputs": [
    {
     "name": "stderr",
     "output_type": "stream",
     "text": [
      "[Parallel(n_jobs=1)]: Using backend SequentialBackend with 1 concurrent workers.\n",
      "[Parallel(n_jobs=1)]: Done   1 out of   1 | elapsed:    0.6s finished\n",
      "[Parallel(n_jobs=1)]: Using backend SequentialBackend with 1 concurrent workers.\n",
      "[Parallel(n_jobs=1)]: Done   1 out of   1 | elapsed:    0.4s finished\n"
     ]
    },
    {
     "name": "stdout",
     "output_type": "stream",
     "text": [
      "run_all_algorithms       ...took   101.361176 seconds\n",
      "OD __init__              ...took   101.361690 seconds\n"
     ]
    }
   ],
   "source": [
    "OLD = O.OutlierDetector(run_id='Histograms', imgs=imgs, features=histograms, number_bad=8, verbose=False, timing=True, kwargs=agruments)"
   ]
  },
  {
   "cell_type": "code",
   "execution_count": 6,
   "id": "30995168",
   "metadata": {},
   "outputs": [
    {
     "data": {
      "text/plain": [
       "({'IForest': 0.25,\n",
       "  'PCA': 0.25,\n",
       "  'MCD': 0.25,\n",
       "  'HBOS': 0.25,\n",
       "  'AE': 0.25,\n",
       "  'VAE': 0.25,\n",
       "  'ECOD': 0.125,\n",
       "  'OCSVM': 0.125,\n",
       "  'COPOD': 0.125,\n",
       "  'KDE': 0.125,\n",
       "  'SUOD': 0.125,\n",
       "  'SOGAAL': 0.125,\n",
       "  'MOGAAL': 0.125,\n",
       "  'DeepSVDD': 0.125,\n",
       "  'LOF': 0.0,\n",
       "  'CBLOF': 0.0,\n",
       "  'SOS': 0.0,\n",
       "  'Sampling': 0.0,\n",
       "  'LMDD': 0.0,\n",
       "  'COF': 0.0,\n",
       "  'KNN': 0.0,\n",
       "  'AvgKNN': 0.0,\n",
       "  'MedKNN': 0.0,\n",
       "  'SOD': 0.0,\n",
       "  'INNE': 0.0,\n",
       "  'FB': 0.0,\n",
       "  'LODA': 0.0,\n",
       "  'AnoGAN': 0.0,\n",
       "  'GMM': -1,\n",
       "  'CD': -1,\n",
       "  'XGBOD': -1},\n",
       " {'GMM': ValueError('Fitting the mixture model failed because some components have ill-defined empirical covariance (for instance caused by singleton or collapsed samples). Try to decrease the number of components, or increase reg_covar.'),\n",
       "  'CD': TypeError(\"fit() missing 1 required positional argument: 'y'\"),\n",
       "  'XGBOD': TypeError(\"fit() missing 1 required positional argument: 'y'\")})"
      ]
     },
     "execution_count": 6,
     "metadata": {},
     "output_type": "execute_result"
    }
   ],
   "source": [
    "OLD.results"
   ]
  },
  {
   "cell_type": "code",
   "execution_count": 7,
   "id": "890d636d",
   "metadata": {},
   "outputs": [
    {
     "name": "stdout",
     "output_type": "stream",
     "text": [
      "{\n",
      "    \"Histograms_8%_363887a4636b71afb694b9878dbd7ee2\": {\n",
      "        \"IForest\": 0.25,\n",
      "        \"PCA\": 0.25,\n",
      "        \"MCD\": 0.25,\n",
      "        \"HBOS\": 0.25,\n",
      "        \"AE\": 0.25,\n",
      "        \"VAE\": 0.25,\n",
      "        \"ECOD\": 0.125,\n",
      "        \"OCSVM\": 0.125,\n",
      "        \"COPOD\": 0.125,\n",
      "        \"KDE\": 0.125,\n",
      "        \"SUOD\": 0.125,\n",
      "        \"SOGAAL\": 0.125,\n",
      "        \"MOGAAL\": 0.125,\n",
      "        \"DeepSVDD\": 0.125,\n",
      "        \"LOF\": 0.0,\n",
      "        \"CBLOF\": 0.0,\n",
      "        \"SOS\": 0.0,\n",
      "        \"Sampling\": 0.0,\n",
      "        \"LMDD\": 0.0,\n",
      "        \"COF\": 0.0,\n",
      "        \"KNN\": 0.0,\n",
      "        \"AvgKNN\": 0.0,\n",
      "        \"MedKNN\": 0.0,\n",
      "        \"SOD\": 0.0,\n",
      "        \"INNE\": 0.0,\n",
      "        \"FB\": 0.0,\n",
      "        \"LODA\": 0.0,\n",
      "        \"AnoGAN\": 0.0,\n",
      "        \"GMM\": -1,\n",
      "        \"CD\": -1,\n",
      "        \"XGBOD\": -1\n",
      "    },\n",
      "    \"Histograms_8%_363887a4636b71afb694b9878dbd7ee2_config\": {\n",
      "        \"kwargs\": {\n",
      "            \"contamination\": 0.08,\n",
      "            \"verbose\": false\n",
      "        }\n",
      "    }\n",
      "}\n"
     ]
    }
   ],
   "source": [
    "O.OutlierDetector.show_records()"
   ]
  },
  {
   "cell_type": "code",
   "execution_count": null,
   "id": "db173253",
   "metadata": {},
   "outputs": [],
   "source": []
  }
 ],
 "metadata": {
  "kernelspec": {
   "display_name": "Python 3 (ipykernel)",
   "language": "python",
   "name": "python3"
  },
  "language_info": {
   "codemirror_mode": {
    "name": "ipython",
    "version": 3
   },
   "file_extension": ".py",
   "mimetype": "text/x-python",
   "name": "python",
   "nbconvert_exporter": "python",
   "pygments_lexer": "ipython3",
   "version": "3.9.7"
  }
 },
 "nbformat": 4,
 "nbformat_minor": 5
}
