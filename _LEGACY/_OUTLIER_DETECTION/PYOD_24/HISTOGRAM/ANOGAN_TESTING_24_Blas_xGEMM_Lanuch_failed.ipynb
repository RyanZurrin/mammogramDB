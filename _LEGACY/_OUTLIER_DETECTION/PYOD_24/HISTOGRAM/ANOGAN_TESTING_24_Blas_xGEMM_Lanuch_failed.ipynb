{
 "cells": [
  {
   "cell_type": "markdown",
   "id": "d0adee30",
   "metadata": {},
   "source": [
    "# ANOGAN - Anomaly Detection with Generative Adversarial Networks \n",
    "### Anomaly Detection with Generative Adversarial Networks\n",
    "Source: https://pyod.readthedocs.io/en/latest/pyod.models.html#module-pyod.models.anogan"
   ]
  },
  {
   "cell_type": "markdown",
   "id": "51813d2e",
   "metadata": {},
   "source": [
    "### Arguments that work with ANOGAN algorithm:\n",
    "1. activation_hidden\n",
    "2. dropout_rate\n",
    "3. latent_dim_G\n",
    "4. G_layers\n",
    "5. verbose\n",
    "6. D_layers\n",
    "7. index_D_layer_for_recon_error\n",
    "8. epochs\n",
    "9. preprocessing\n",
    "10. learning_rate\n",
    "11. learning_rate_query\n",
    "12. epochs_query\n",
    "13. batch_size\n",
    "14. output_activation\n",
    "15. contamination"
   ]
  },
  {
   "cell_type": "code",
   "execution_count": 1,
   "id": "1aa4da19",
   "metadata": {},
   "outputs": [
    {
     "name": "stdout",
     "output_type": "stream",
     "text": [
      "Populating the interactive namespace from numpy and matplotlib\n"
     ]
    }
   ],
   "source": [
    "%pylab inline\n",
    "%load_ext autoreload\n",
    "%autoreload 2\n",
    "import sys\n",
    "import time\n",
    "sys.path.insert(0,'../../../..')\n",
    "import omama as O"
   ]
  },
  {
   "cell_type": "code",
   "execution_count": 2,
   "id": "b5fa73c4",
   "metadata": {
    "scrolled": true
   },
   "outputs": [
    {
     "name": "stdout",
     "output_type": "stream",
     "text": [
      "get2D                    ...took    41.112309 seconds\n",
      "image downsampling       ...took     0.976532 seconds\n",
      "image downsampling       ...took     2.223050 seconds\n",
      "image downsampling       ...took     2.688282 seconds\n",
      "image downsampling       ...took     3.737368 seconds\n",
      "image downsampling       ...took     4.785774 seconds\n",
      "image downsampling       ...took     5.836280 seconds\n",
      "image downsampling       ...took     6.303492 seconds\n",
      "image downsampling       ...took     7.371809 seconds\n",
      "image downsampling       ...took     7.840779 seconds\n",
      "image downsampling       ...took     8.669509 seconds\n",
      "image downsampling       ...took    11.566145 seconds\n",
      "image downsampling       ...took    12.036845 seconds\n",
      "image downsampling       ...took    12.506532 seconds\n",
      "image downsampling       ...took    15.272420 seconds\n",
      "image downsampling       ...took    15.741009 seconds\n",
      "image downsampling       ...took    16.216768 seconds\n",
      "image downsampling       ...took    17.271968 seconds\n",
      "image downsampling       ...took    17.742810 seconds\n",
      "image downsampling       ...took    18.210909 seconds\n",
      "image downsampling       ...took    19.268536 seconds\n",
      "image downsampling       ...took    20.420961 seconds\n",
      "image downsampling       ...took    22.092684 seconds\n",
      "image downsampling       ...took    22.619884 seconds\n",
      "image downsampling       ...took    23.673337 seconds\n",
      "image downsampling       ...took    24.725810 seconds\n",
      "image downsampling       ...took    25.193835 seconds\n",
      "image downsampling       ...took    26.244701 seconds\n",
      "image downsampling       ...took    27.296582 seconds\n",
      "image downsampling       ...took    28.348388 seconds\n",
      "image downsampling       ...took    28.817438 seconds\n",
      "image downsampling       ...took    29.285899 seconds\n",
      "image downsampling       ...took    29.761292 seconds\n",
      "image downsampling       ...took    30.229355 seconds\n",
      "image downsampling       ...took    31.641268 seconds\n",
      "image downsampling       ...took    32.109987 seconds\n",
      "image downsampling       ...took    32.579774 seconds\n",
      "image downsampling       ...took    34.142823 seconds\n",
      "image downsampling       ...took    35.654318 seconds\n",
      "image downsampling       ...took    36.856194 seconds\n",
      "image downsampling       ...took    37.326971 seconds\n",
      "image downsampling       ...took    37.796251 seconds\n",
      "image downsampling       ...took    41.002196 seconds\n",
      "image downsampling       ...took    41.500706 seconds\n",
      "image downsampling       ...took    42.391043 seconds\n",
      "image downsampling       ...took    43.894876 seconds\n",
      "image downsampling       ...took    44.364469 seconds\n",
      "image downsampling       ...took    46.147999 seconds\n",
      "image downsampling       ...took    46.805994 seconds\n",
      "image downsampling       ...took    47.894595 seconds\n",
      "image downsampling       ...took    48.959839 seconds\n",
      "image downsampling       ...took    50.336168 seconds\n",
      "image downsampling       ...took    51.096959 seconds\n",
      "image downsampling       ...took    51.779878 seconds\n",
      "image downsampling       ...took    52.249002 seconds\n",
      "image downsampling       ...took    52.721098 seconds\n",
      "image downsampling       ...took    53.190014 seconds\n",
      "image downsampling       ...took    53.661903 seconds\n",
      "image downsampling       ...took    54.130906 seconds\n",
      "image downsampling       ...took    54.604044 seconds\n",
      "image downsampling       ...took    55.073682 seconds\n",
      "image downsampling       ...took    56.124698 seconds\n",
      "image downsampling       ...took    57.177287 seconds\n",
      "image downsampling       ...took    59.941711 seconds\n",
      "image downsampling       ...took    60.411303 seconds\n",
      "image downsampling       ...took    60.880854 seconds\n",
      "image downsampling       ...took    61.350659 seconds\n",
      "image downsampling       ...took    61.819317 seconds\n",
      "image downsampling       ...took    62.288563 seconds\n",
      "image downsampling       ...took    63.342113 seconds\n",
      "image downsampling       ...took    64.394380 seconds\n",
      "image downsampling       ...took    64.864178 seconds\n",
      "image downsampling       ...took    65.334749 seconds\n",
      "image downsampling       ...took    65.804513 seconds\n",
      "image downsampling       ...took    66.273874 seconds\n",
      "image downsampling       ...took    66.743507 seconds\n",
      "image downsampling       ...took    67.794886 seconds\n",
      "image downsampling       ...took    68.850532 seconds\n",
      "image downsampling       ...took    69.904165 seconds\n",
      "image downsampling       ...took    70.374293 seconds\n",
      "image downsampling       ...took    71.445387 seconds\n",
      "image downsampling       ...took    71.916367 seconds\n",
      "image downsampling       ...took    72.385382 seconds\n",
      "image downsampling       ...took    73.440967 seconds\n",
      "image downsampling       ...took    73.910193 seconds\n",
      "image downsampling       ...took    74.380748 seconds\n",
      "image downsampling       ...took    75.435280 seconds\n",
      "image downsampling       ...took    78.206534 seconds\n",
      "image downsampling       ...took    78.676130 seconds\n",
      "image downsampling       ...took    79.145195 seconds\n",
      "image downsampling       ...took    79.614348 seconds\n",
      "image downsampling       ...took    80.669032 seconds\n",
      "image downsampling       ...took    81.723071 seconds\n",
      "image downsampling       ...took    82.776816 seconds\n",
      "image downsampling       ...took    84.198028 seconds\n",
      "image downsampling       ...took    84.668320 seconds\n",
      "image downsampling       ...took    85.720099 seconds\n",
      "image downsampling       ...took    86.189530 seconds\n",
      "image downsampling       ...took    87.243979 seconds\n",
      "image downsampling       ...took    90.012798 seconds\n",
      "image downsampling       ...took    91.429607 seconds\n",
      "downsample               ...took    91.430836 seconds\n"
     ]
    }
   ],
   "source": [
    "imgs = O.DataHelper.get2D(N = 100, config_num=7, randomize=True, timing=True)\n",
    "downsampled_imgs = O.Normalize.downsample(imgs, output_shape=(64, 64), flatten=True, timing=True)"
   ]
  },
  {
   "cell_type": "code",
   "execution_count": 3,
   "id": "b376126b",
   "metadata": {},
   "outputs": [
    {
     "name": "stderr",
     "output_type": "stream",
     "text": [
      "2022-08-31 22:18:59.717730: I tensorflow/stream_executor/platform/default/dso_loader.cc:53] Successfully opened dynamic library libcudart.so.11.0\n",
      "2022-08-31 22:19:01.230163: I tensorflow/stream_executor/platform/default/dso_loader.cc:53] Successfully opened dynamic library libcuda.so.1\n",
      "2022-08-31 22:19:01.487593: I tensorflow/core/common_runtime/gpu/gpu_device.cc:1733] Found device 0 with properties: \n",
      "pciBusID: 0000:0f:00.0 name: A100-SXM4-40GB computeCapability: 8.0\n",
      "coreClock: 1.41GHz coreCount: 108 deviceMemorySize: 39.59GiB deviceMemoryBandwidth: 1.41TiB/s\n",
      "2022-08-31 22:19:01.487689: I tensorflow/stream_executor/platform/default/dso_loader.cc:53] Successfully opened dynamic library libcudart.so.11.0\n",
      "2022-08-31 22:19:01.491364: I tensorflow/stream_executor/platform/default/dso_loader.cc:53] Successfully opened dynamic library libcublas.so.11\n",
      "2022-08-31 22:19:01.491408: I tensorflow/stream_executor/platform/default/dso_loader.cc:53] Successfully opened dynamic library libcublasLt.so.11\n",
      "2022-08-31 22:19:01.492374: I tensorflow/stream_executor/platform/default/dso_loader.cc:53] Successfully opened dynamic library libcufft.so.10\n",
      "2022-08-31 22:19:01.492770: I tensorflow/stream_executor/platform/default/dso_loader.cc:53] Successfully opened dynamic library libcurand.so.10\n",
      "2022-08-31 22:19:01.493413: I tensorflow/stream_executor/platform/default/dso_loader.cc:53] Successfully opened dynamic library libcusolver.so.11\n",
      "2022-08-31 22:19:01.494253: I tensorflow/stream_executor/platform/default/dso_loader.cc:53] Successfully opened dynamic library libcusparse.so.11\n",
      "2022-08-31 22:19:01.494567: I tensorflow/stream_executor/platform/default/dso_loader.cc:53] Successfully opened dynamic library libcudnn.so.8\n",
      "2022-08-31 22:19:01.501265: I tensorflow/core/common_runtime/gpu/gpu_device.cc:1871] Adding visible gpu devices: 0\n",
      "2022-08-31 22:19:01.502063: I tensorflow/core/platform/cpu_feature_guard.cc:142] This TensorFlow binary is optimized with oneAPI Deep Neural Network Library (oneDNN) to use the following CPU instructions in performance-critical operations:  AVX2 FMA\n",
      "To enable them in other operations, rebuild TensorFlow with the appropriate compiler flags.\n",
      "2022-08-31 22:19:01.507870: I tensorflow/core/common_runtime/gpu/gpu_device.cc:1733] Found device 0 with properties: \n",
      "pciBusID: 0000:0f:00.0 name: A100-SXM4-40GB computeCapability: 8.0\n",
      "coreClock: 1.41GHz coreCount: 108 deviceMemorySize: 39.59GiB deviceMemoryBandwidth: 1.41TiB/s\n",
      "2022-08-31 22:19:01.515421: I tensorflow/core/common_runtime/gpu/gpu_device.cc:1871] Adding visible gpu devices: 0\n",
      "2022-08-31 22:19:01.515467: I tensorflow/stream_executor/platform/default/dso_loader.cc:53] Successfully opened dynamic library libcudart.so.11.0\n",
      "2022-08-31 22:19:02.184263: I tensorflow/core/common_runtime/gpu/gpu_device.cc:1258] Device interconnect StreamExecutor with strength 1 edge matrix:\n",
      "2022-08-31 22:19:02.184319: I tensorflow/core/common_runtime/gpu/gpu_device.cc:1264]      0 \n",
      "2022-08-31 22:19:02.184327: I tensorflow/core/common_runtime/gpu/gpu_device.cc:1277] 0:   N \n",
      "2022-08-31 22:19:02.194209: I tensorflow/core/common_runtime/gpu/gpu_device.cc:1418] Created TensorFlow device (/job:localhost/replica:0/task:0/device:GPU:0 with 419 MB memory) -> physical GPU (device: 0, name: A100-SXM4-40GB, pci bus id: 0000:0f:00.0, compute capability: 8.0)\n",
      "2022-08-31 22:19:02.271609: I tensorflow/stream_executor/platform/default/dso_loader.cc:53] Successfully opened dynamic library libcublas.so.11\n",
      "2022-08-31 22:19:03.030970: E tensorflow/stream_executor/cuda/cuda_blas.cc:226] failed to create cublas handle: CUBLAS_STATUS_NOT_INITIALIZED\n",
      "2022-08-31 22:19:03.031335: W tensorflow/stream_executor/stream.cc:1455] attempting to perform BLAS operation using StreamExecutor without BLAS support\n"
     ]
    },
    {
     "ename": "InternalError",
     "evalue": "Blas xGEMM launch failed : a.shape=[1,32,2], b.shape=[1,2,20], m=32, n=20, k=2 [Op:MatMul]",
     "output_type": "error",
     "traceback": [
      "\u001B[0;31m---------------------------------------------------------------------------\u001B[0m",
      "\u001B[0;31mInternalError\u001B[0m                             Traceback (most recent call last)",
      "\u001B[0;32m/tmp/ipykernel_3132844/2516782726.py\u001B[0m in \u001B[0;36m<module>\u001B[0;34m\u001B[0m\n\u001B[0;32m----> 1\u001B[0;31m \u001B[0mtrain_scoresX\u001B[0m\u001B[0;34m,\u001B[0m \u001B[0mtrain_labelsX\u001B[0m \u001B[0;34m=\u001B[0m \u001B[0mO\u001B[0m\u001B[0;34m.\u001B[0m\u001B[0mOutlierDetector\u001B[0m\u001B[0;34m.\u001B[0m\u001B[0mdetect_outliers\u001B[0m\u001B[0;34m(\u001B[0m\u001B[0mdownsampled_imgs\u001B[0m\u001B[0;34m,\u001B[0m \u001B[0mpyod_algorithm\u001B[0m\u001B[0;34m=\u001B[0m\u001B[0;34m'AnoGAN'\u001B[0m\u001B[0;34m)\u001B[0m\u001B[0;34m\u001B[0m\u001B[0;34m\u001B[0m\u001B[0m\n\u001B[0m\u001B[1;32m      2\u001B[0m \u001B[0mO\u001B[0m\u001B[0;34m.\u001B[0m\u001B[0mFeatures\u001B[0m\u001B[0;34m.\u001B[0m\u001B[0mview_image_and_features\u001B[0m\u001B[0;34m(\u001B[0m\u001B[0mimgs\u001B[0m\u001B[0;34m,\u001B[0m \u001B[0;34m[\u001B[0m\u001B[0;34m'downsample'\u001B[0m\u001B[0;34m]\u001B[0m\u001B[0;34m,\u001B[0m \u001B[0mtrain_scores\u001B[0m\u001B[0;34m=\u001B[0m\u001B[0;34m[\u001B[0m\u001B[0mtrain_scoresX\u001B[0m\u001B[0;34m]\u001B[0m\u001B[0;34m)\u001B[0m\u001B[0;34m\u001B[0m\u001B[0;34m\u001B[0m\u001B[0m\n",
      "\u001B[0;32m~/Projects/omama/_EXPERIMENTS/OUTLIER_DETECTION/PYOD_20/DOWNSAMPLED/../../../../omama/outlier_detection/outlier_detector.py\u001B[0m in \u001B[0;36mdetect_outliers\u001B[0;34m(data_x, data_y, pyod_algorithm, activation_hidden, algorithm, alpha, approx_clf, approx_clf_list, approx_flag_global, approx_ng_clf_list, assume_centered, bandwidth, base_estimator, base_estimators, base_score, batch_size, behaviour, beta, booster, bootstrap, bootstrap_features, bps_flag, c, cache_size, capacity, check_detector, check_estimator, clustering_estimator, coef0, colsample_bylevel, colsample_bytree, combination, contamination, copy, cost_forecast_loc_fit, cost_forecast_loc_pred, covariance_type, D_layers, decay, decoder_neurons, degree, dis_measure, dropout_rate, encoder_neurons, epochs, epochs_query, eps, estimator_list, estimator_params, G_layers, gamma, hidden_activation, hidden_neurons, index_D_layer_for_recon_error, init_params, iterated_power, jl_method, kernel, l2_regularizer, latent_dim, latent_dim_G, leaf_size, learning_rate, learning_rate_query, loss, lr_d, lr_g, max_delta_step, max_depth, max_features, max_iter, max_samples, means_init, method, metric, metric_params, min_child_weight, momentum, n_bins, n_clusters, n_components, n_estimators, n_init, n_iter, n_jobs, n_neighbors, n_random_cuts, n_selected_components, novelty, nthread, nu, objective, optimizer, output_activation, p, parallel_execution, perplexity, precisions_init, preprocessing, radius, random_state, ref_set, reg_alpha, reg_covar, reg_lambda, rp_clf_list, rp_ng_clf_list, rp_flag_global, rule_of_thumb, scale_pos_weight, shrinking, silent, standardization, standardization_flag_list, stop_epochs, store_precision, subsample, subset_size, support_fraction, svd_solver, target_dim_frac, tol, use_ae, use_weights, validation_size, verbose, warm_start, weighted, weights_init, whiten, whitening)\u001B[0m\n\u001B[1;32m   1001\u001B[0m \u001B[0;34m\u001B[0m\u001B[0m\n\u001B[1;32m   1002\u001B[0m         \u001B[0;32mif\u001B[0m \u001B[0mdata_y\u001B[0m \u001B[0;32mis\u001B[0m \u001B[0;32mNone\u001B[0m\u001B[0;34m:\u001B[0m\u001B[0;34m\u001B[0m\u001B[0;34m\u001B[0m\u001B[0m\n\u001B[0;32m-> 1003\u001B[0;31m             \u001B[0mclf\u001B[0m\u001B[0;34m.\u001B[0m\u001B[0mfit\u001B[0m\u001B[0;34m(\u001B[0m\u001B[0mdata_x\u001B[0m\u001B[0;34m)\u001B[0m\u001B[0;34m\u001B[0m\u001B[0;34m\u001B[0m\u001B[0m\n\u001B[0m\u001B[1;32m   1004\u001B[0m         \u001B[0;32melse\u001B[0m\u001B[0;34m:\u001B[0m\u001B[0;34m\u001B[0m\u001B[0;34m\u001B[0m\u001B[0m\n\u001B[1;32m   1005\u001B[0m             \u001B[0mclf\u001B[0m\u001B[0;34m.\u001B[0m\u001B[0mfit\u001B[0m\u001B[0;34m(\u001B[0m\u001B[0mdata_x\u001B[0m\u001B[0;34m,\u001B[0m \u001B[0mdata_y\u001B[0m\u001B[0;34m)\u001B[0m\u001B[0;34m\u001B[0m\u001B[0;34m\u001B[0m\u001B[0m\n",
      "\u001B[0;32m~/miniconda3/envs/O/lib/python3.9/site-packages/pyod/models/anogan.py\u001B[0m in \u001B[0;36mfit\u001B[0;34m(self, X, y)\u001B[0m\n\u001B[1;32m    328\u001B[0m             \u001B[0mlatent_noise\u001B[0m \u001B[0;34m=\u001B[0m \u001B[0mnp\u001B[0m\u001B[0;34m.\u001B[0m\u001B[0mrandom\u001B[0m\u001B[0;34m.\u001B[0m\u001B[0mnormal\u001B[0m\u001B[0;34m(\u001B[0m\u001B[0;36m0\u001B[0m\u001B[0;34m,\u001B[0m \u001B[0;36m1\u001B[0m\u001B[0;34m,\u001B[0m \u001B[0;34m(\u001B[0m\u001B[0mX_train_sel\u001B[0m\u001B[0;34m.\u001B[0m\u001B[0mshape\u001B[0m\u001B[0;34m[\u001B[0m\u001B[0;36m0\u001B[0m\u001B[0;34m]\u001B[0m\u001B[0;34m,\u001B[0m \u001B[0mself\u001B[0m\u001B[0;34m.\u001B[0m\u001B[0mlatent_dim_G\u001B[0m\u001B[0;34m)\u001B[0m\u001B[0;34m)\u001B[0m\u001B[0;34m\u001B[0m\u001B[0;34m\u001B[0m\u001B[0m\n\u001B[1;32m    329\u001B[0m \u001B[0;34m\u001B[0m\u001B[0m\n\u001B[0;32m--> 330\u001B[0;31m             self.train_step((np.float32(X_train_sel),\n\u001B[0m\u001B[1;32m    331\u001B[0m                              np.float32(latent_noise)))\n\u001B[1;32m    332\u001B[0m \u001B[0;34m\u001B[0m\u001B[0m\n",
      "\u001B[0;32m~/miniconda3/envs/O/lib/python3.9/site-packages/pyod/models/anogan.py\u001B[0m in \u001B[0;36mtrain_step\u001B[0;34m(self, data)\u001B[0m\n\u001B[1;32m    211\u001B[0m \u001B[0;34m\u001B[0m\u001B[0m\n\u001B[1;32m    212\u001B[0m         \u001B[0;32mwith\u001B[0m \u001B[0mtf\u001B[0m\u001B[0;34m.\u001B[0m\u001B[0mGradientTape\u001B[0m\u001B[0;34m(\u001B[0m\u001B[0;34m)\u001B[0m \u001B[0;32mas\u001B[0m \u001B[0mgen_tape\u001B[0m\u001B[0;34m,\u001B[0m \u001B[0mtf\u001B[0m\u001B[0;34m.\u001B[0m\u001B[0mGradientTape\u001B[0m\u001B[0;34m(\u001B[0m\u001B[0;34m)\u001B[0m \u001B[0;32mas\u001B[0m \u001B[0mdisc_tape\u001B[0m\u001B[0;34m:\u001B[0m\u001B[0;34m\u001B[0m\u001B[0;34m\u001B[0m\u001B[0m\n\u001B[0;32m--> 213\u001B[0;31m             \u001B[0mX_gen\u001B[0m \u001B[0;34m=\u001B[0m \u001B[0mself\u001B[0m\u001B[0;34m.\u001B[0m\u001B[0mgenerator\u001B[0m\u001B[0;34m(\u001B[0m\u001B[0;34m{\u001B[0m\u001B[0;34m'I1'\u001B[0m\u001B[0;34m:\u001B[0m \u001B[0mlatent_noise\u001B[0m\u001B[0;34m}\u001B[0m\u001B[0;34m,\u001B[0m \u001B[0mtraining\u001B[0m\u001B[0;34m=\u001B[0m\u001B[0;32mTrue\u001B[0m\u001B[0;34m)\u001B[0m\u001B[0;34m\u001B[0m\u001B[0;34m\u001B[0m\u001B[0m\n\u001B[0m\u001B[1;32m    214\u001B[0m \u001B[0;34m\u001B[0m\u001B[0m\n\u001B[1;32m    215\u001B[0m             \u001B[0mreal_output\u001B[0m\u001B[0;34m,\u001B[0m \u001B[0m_\u001B[0m \u001B[0;34m=\u001B[0m \u001B[0mself\u001B[0m\u001B[0;34m.\u001B[0m\u001B[0mdiscriminator\u001B[0m\u001B[0;34m(\u001B[0m\u001B[0;34m{\u001B[0m\u001B[0;34m'I1'\u001B[0m\u001B[0;34m:\u001B[0m \u001B[0mX_original\u001B[0m\u001B[0;34m}\u001B[0m\u001B[0;34m,\u001B[0m \u001B[0mtraining\u001B[0m\u001B[0;34m=\u001B[0m\u001B[0;32mTrue\u001B[0m\u001B[0;34m)\u001B[0m\u001B[0;34m\u001B[0m\u001B[0;34m\u001B[0m\u001B[0m\n",
      "\u001B[0;32m~/miniconda3/envs/O/lib/python3.9/site-packages/tensorflow/python/keras/engine/base_layer.py\u001B[0m in \u001B[0;36m__call__\u001B[0;34m(self, *args, **kwargs)\u001B[0m\n\u001B[1;32m   1028\u001B[0m         with autocast_variable.enable_auto_cast_variables(\n\u001B[1;32m   1029\u001B[0m             self._compute_dtype_object):\n\u001B[0;32m-> 1030\u001B[0;31m           \u001B[0moutputs\u001B[0m \u001B[0;34m=\u001B[0m \u001B[0mcall_fn\u001B[0m\u001B[0;34m(\u001B[0m\u001B[0minputs\u001B[0m\u001B[0;34m,\u001B[0m \u001B[0;34m*\u001B[0m\u001B[0margs\u001B[0m\u001B[0;34m,\u001B[0m \u001B[0;34m**\u001B[0m\u001B[0mkwargs\u001B[0m\u001B[0;34m)\u001B[0m\u001B[0;34m\u001B[0m\u001B[0;34m\u001B[0m\u001B[0m\n\u001B[0m\u001B[1;32m   1031\u001B[0m \u001B[0;34m\u001B[0m\u001B[0m\n\u001B[1;32m   1032\u001B[0m         \u001B[0;32mif\u001B[0m \u001B[0mself\u001B[0m\u001B[0;34m.\u001B[0m\u001B[0m_activity_regularizer\u001B[0m\u001B[0;34m:\u001B[0m\u001B[0;34m\u001B[0m\u001B[0;34m\u001B[0m\u001B[0m\n",
      "\u001B[0;32m~/miniconda3/envs/O/lib/python3.9/site-packages/tensorflow/python/keras/engine/functional.py\u001B[0m in \u001B[0;36mcall\u001B[0;34m(self, inputs, training, mask)\u001B[0m\n\u001B[1;32m    418\u001B[0m         \u001B[0ma\u001B[0m \u001B[0mlist\u001B[0m \u001B[0mof\u001B[0m \u001B[0mtensors\u001B[0m \u001B[0;32mif\u001B[0m \u001B[0mthere\u001B[0m \u001B[0mare\u001B[0m \u001B[0mmore\u001B[0m \u001B[0mthan\u001B[0m \u001B[0mone\u001B[0m \u001B[0moutputs\u001B[0m\u001B[0;34m.\u001B[0m\u001B[0;34m\u001B[0m\u001B[0;34m\u001B[0m\u001B[0m\n\u001B[1;32m    419\u001B[0m     \"\"\"\n\u001B[0;32m--> 420\u001B[0;31m     return self._run_internal_graph(\n\u001B[0m\u001B[1;32m    421\u001B[0m         inputs, training=training, mask=mask)\n\u001B[1;32m    422\u001B[0m \u001B[0;34m\u001B[0m\u001B[0m\n",
      "\u001B[0;32m~/miniconda3/envs/O/lib/python3.9/site-packages/tensorflow/python/keras/engine/functional.py\u001B[0m in \u001B[0;36m_run_internal_graph\u001B[0;34m(self, inputs, training, mask)\u001B[0m\n\u001B[1;32m    554\u001B[0m \u001B[0;34m\u001B[0m\u001B[0m\n\u001B[1;32m    555\u001B[0m         \u001B[0margs\u001B[0m\u001B[0;34m,\u001B[0m \u001B[0mkwargs\u001B[0m \u001B[0;34m=\u001B[0m \u001B[0mnode\u001B[0m\u001B[0;34m.\u001B[0m\u001B[0mmap_arguments\u001B[0m\u001B[0;34m(\u001B[0m\u001B[0mtensor_dict\u001B[0m\u001B[0;34m)\u001B[0m\u001B[0;34m\u001B[0m\u001B[0;34m\u001B[0m\u001B[0m\n\u001B[0;32m--> 556\u001B[0;31m         \u001B[0moutputs\u001B[0m \u001B[0;34m=\u001B[0m \u001B[0mnode\u001B[0m\u001B[0;34m.\u001B[0m\u001B[0mlayer\u001B[0m\u001B[0;34m(\u001B[0m\u001B[0;34m*\u001B[0m\u001B[0margs\u001B[0m\u001B[0;34m,\u001B[0m \u001B[0;34m**\u001B[0m\u001B[0mkwargs\u001B[0m\u001B[0;34m)\u001B[0m\u001B[0;34m\u001B[0m\u001B[0;34m\u001B[0m\u001B[0m\n\u001B[0m\u001B[1;32m    557\u001B[0m \u001B[0;34m\u001B[0m\u001B[0m\n\u001B[1;32m    558\u001B[0m         \u001B[0;31m# Update tensor_dict.\u001B[0m\u001B[0;34m\u001B[0m\u001B[0;34m\u001B[0m\u001B[0m\n",
      "\u001B[0;32m~/miniconda3/envs/O/lib/python3.9/site-packages/tensorflow/python/keras/engine/base_layer.py\u001B[0m in \u001B[0;36m__call__\u001B[0;34m(self, *args, **kwargs)\u001B[0m\n\u001B[1;32m   1028\u001B[0m         with autocast_variable.enable_auto_cast_variables(\n\u001B[1;32m   1029\u001B[0m             self._compute_dtype_object):\n\u001B[0;32m-> 1030\u001B[0;31m           \u001B[0moutputs\u001B[0m \u001B[0;34m=\u001B[0m \u001B[0mcall_fn\u001B[0m\u001B[0;34m(\u001B[0m\u001B[0minputs\u001B[0m\u001B[0;34m,\u001B[0m \u001B[0;34m*\u001B[0m\u001B[0margs\u001B[0m\u001B[0;34m,\u001B[0m \u001B[0;34m**\u001B[0m\u001B[0mkwargs\u001B[0m\u001B[0;34m)\u001B[0m\u001B[0;34m\u001B[0m\u001B[0;34m\u001B[0m\u001B[0m\n\u001B[0m\u001B[1;32m   1031\u001B[0m \u001B[0;34m\u001B[0m\u001B[0m\n\u001B[1;32m   1032\u001B[0m         \u001B[0;32mif\u001B[0m \u001B[0mself\u001B[0m\u001B[0;34m.\u001B[0m\u001B[0m_activity_regularizer\u001B[0m\u001B[0;34m:\u001B[0m\u001B[0;34m\u001B[0m\u001B[0;34m\u001B[0m\u001B[0m\n",
      "\u001B[0;32m~/miniconda3/envs/O/lib/python3.9/site-packages/tensorflow/python/keras/layers/core.py\u001B[0m in \u001B[0;36mcall\u001B[0;34m(self, inputs)\u001B[0m\n\u001B[1;32m   1240\u001B[0m             self.kernel, ids, weights, combiner='sum')\n\u001B[1;32m   1241\u001B[0m       \u001B[0;32melse\u001B[0m\u001B[0;34m:\u001B[0m\u001B[0;34m\u001B[0m\u001B[0;34m\u001B[0m\u001B[0m\n\u001B[0;32m-> 1242\u001B[0;31m         \u001B[0moutputs\u001B[0m \u001B[0;34m=\u001B[0m \u001B[0mgen_math_ops\u001B[0m\u001B[0;34m.\u001B[0m\u001B[0mMatMul\u001B[0m\u001B[0;34m(\u001B[0m\u001B[0ma\u001B[0m\u001B[0;34m=\u001B[0m\u001B[0minputs\u001B[0m\u001B[0;34m,\u001B[0m \u001B[0mb\u001B[0m\u001B[0;34m=\u001B[0m\u001B[0mself\u001B[0m\u001B[0;34m.\u001B[0m\u001B[0mkernel\u001B[0m\u001B[0;34m)\u001B[0m\u001B[0;34m\u001B[0m\u001B[0;34m\u001B[0m\u001B[0m\n\u001B[0m\u001B[1;32m   1243\u001B[0m     \u001B[0;31m# Broadcast kernel to inputs.\u001B[0m\u001B[0;34m\u001B[0m\u001B[0;34m\u001B[0m\u001B[0m\n\u001B[1;32m   1244\u001B[0m     \u001B[0;32melse\u001B[0m\u001B[0;34m:\u001B[0m\u001B[0;34m\u001B[0m\u001B[0;34m\u001B[0m\u001B[0m\n",
      "\u001B[0;32m~/miniconda3/envs/O/lib/python3.9/site-packages/tensorflow/python/util/tf_export.py\u001B[0m in \u001B[0;36mwrapper\u001B[0;34m(*args, **kwargs)\u001B[0m\n\u001B[1;32m    402\u001B[0m           \u001B[0;34m'Please pass these args as kwargs instead.'\u001B[0m\u001B[0;34m\u001B[0m\u001B[0;34m\u001B[0m\u001B[0m\n\u001B[1;32m    403\u001B[0m           .format(f=f.__name__, kwargs=f_argspec.args))\n\u001B[0;32m--> 404\u001B[0;31m     \u001B[0;32mreturn\u001B[0m \u001B[0mf\u001B[0m\u001B[0;34m(\u001B[0m\u001B[0;34m**\u001B[0m\u001B[0mkwargs\u001B[0m\u001B[0;34m)\u001B[0m\u001B[0;34m\u001B[0m\u001B[0;34m\u001B[0m\u001B[0m\n\u001B[0m\u001B[1;32m    405\u001B[0m \u001B[0;34m\u001B[0m\u001B[0m\n\u001B[1;32m    406\u001B[0m   \u001B[0;32mreturn\u001B[0m \u001B[0mtf_decorator\u001B[0m\u001B[0;34m.\u001B[0m\u001B[0mmake_decorator\u001B[0m\u001B[0;34m(\u001B[0m\u001B[0mf\u001B[0m\u001B[0;34m,\u001B[0m \u001B[0mwrapper\u001B[0m\u001B[0;34m,\u001B[0m \u001B[0mdecorator_argspec\u001B[0m\u001B[0;34m=\u001B[0m\u001B[0mf_argspec\u001B[0m\u001B[0;34m)\u001B[0m\u001B[0;34m\u001B[0m\u001B[0;34m\u001B[0m\u001B[0m\n",
      "\u001B[0;32m~/miniconda3/envs/O/lib/python3.9/site-packages/tensorflow/python/ops/gen_math_ops.py\u001B[0m in \u001B[0;36mmat_mul\u001B[0;34m(a, b, transpose_a, transpose_b, name)\u001B[0m\n\u001B[1;32m   5698\u001B[0m       \u001B[0;32mreturn\u001B[0m \u001B[0m_result\u001B[0m\u001B[0;34m\u001B[0m\u001B[0;34m\u001B[0m\u001B[0m\n\u001B[1;32m   5699\u001B[0m     \u001B[0;32mexcept\u001B[0m \u001B[0m_core\u001B[0m\u001B[0;34m.\u001B[0m\u001B[0m_NotOkStatusException\u001B[0m \u001B[0;32mas\u001B[0m \u001B[0me\u001B[0m\u001B[0;34m:\u001B[0m\u001B[0;34m\u001B[0m\u001B[0;34m\u001B[0m\u001B[0m\n\u001B[0;32m-> 5700\u001B[0;31m       \u001B[0m_ops\u001B[0m\u001B[0;34m.\u001B[0m\u001B[0mraise_from_not_ok_status\u001B[0m\u001B[0;34m(\u001B[0m\u001B[0me\u001B[0m\u001B[0;34m,\u001B[0m \u001B[0mname\u001B[0m\u001B[0;34m)\u001B[0m\u001B[0;34m\u001B[0m\u001B[0;34m\u001B[0m\u001B[0m\n\u001B[0m\u001B[1;32m   5701\u001B[0m     \u001B[0;32mexcept\u001B[0m \u001B[0m_core\u001B[0m\u001B[0;34m.\u001B[0m\u001B[0m_FallbackException\u001B[0m\u001B[0;34m:\u001B[0m\u001B[0;34m\u001B[0m\u001B[0;34m\u001B[0m\u001B[0m\n\u001B[1;32m   5702\u001B[0m       \u001B[0;32mpass\u001B[0m\u001B[0;34m\u001B[0m\u001B[0;34m\u001B[0m\u001B[0m\n",
      "\u001B[0;32m~/miniconda3/envs/O/lib/python3.9/site-packages/tensorflow/python/framework/ops.py\u001B[0m in \u001B[0;36mraise_from_not_ok_status\u001B[0;34m(e, name)\u001B[0m\n\u001B[1;32m   6895\u001B[0m   \u001B[0mmessage\u001B[0m \u001B[0;34m=\u001B[0m \u001B[0me\u001B[0m\u001B[0;34m.\u001B[0m\u001B[0mmessage\u001B[0m \u001B[0;34m+\u001B[0m \u001B[0;34m(\u001B[0m\u001B[0;34m\" name: \"\u001B[0m \u001B[0;34m+\u001B[0m \u001B[0mname\u001B[0m \u001B[0;32mif\u001B[0m \u001B[0mname\u001B[0m \u001B[0;32mis\u001B[0m \u001B[0;32mnot\u001B[0m \u001B[0;32mNone\u001B[0m \u001B[0;32melse\u001B[0m \u001B[0;34m\"\"\u001B[0m\u001B[0;34m)\u001B[0m\u001B[0;34m\u001B[0m\u001B[0;34m\u001B[0m\u001B[0m\n\u001B[1;32m   6896\u001B[0m   \u001B[0;31m# pylint: disable=protected-access\u001B[0m\u001B[0;34m\u001B[0m\u001B[0;34m\u001B[0m\u001B[0m\n\u001B[0;32m-> 6897\u001B[0;31m   \u001B[0msix\u001B[0m\u001B[0;34m.\u001B[0m\u001B[0mraise_from\u001B[0m\u001B[0;34m(\u001B[0m\u001B[0mcore\u001B[0m\u001B[0;34m.\u001B[0m\u001B[0m_status_to_exception\u001B[0m\u001B[0;34m(\u001B[0m\u001B[0me\u001B[0m\u001B[0;34m.\u001B[0m\u001B[0mcode\u001B[0m\u001B[0;34m,\u001B[0m \u001B[0mmessage\u001B[0m\u001B[0;34m)\u001B[0m\u001B[0;34m,\u001B[0m \u001B[0;32mNone\u001B[0m\u001B[0;34m)\u001B[0m\u001B[0;34m\u001B[0m\u001B[0;34m\u001B[0m\u001B[0m\n\u001B[0m\u001B[1;32m   6898\u001B[0m   \u001B[0;31m# pylint: enable=protected-access\u001B[0m\u001B[0;34m\u001B[0m\u001B[0;34m\u001B[0m\u001B[0m\n\u001B[1;32m   6899\u001B[0m \u001B[0;34m\u001B[0m\u001B[0m\n",
      "\u001B[0;32m~/miniconda3/envs/O/lib/python3.9/site-packages/six.py\u001B[0m in \u001B[0;36mraise_from\u001B[0;34m(value, from_value)\u001B[0m\n",
      "\u001B[0;31mInternalError\u001B[0m: Blas xGEMM launch failed : a.shape=[1,32,2], b.shape=[1,2,20], m=32, n=20, k=2 [Op:MatMul]"
     ]
    }
   ],
   "source": [
    "train_scoresX, train_labelsX = O.OutlierDetector.detect_outliers(downsampled_imgs, pyod_algorithm='AnoGAN')\n",
    "O.Features.view_image_and_features(imgs, ['downsample'], train_scores=[train_scoresX])"
   ]
  },
  {
   "cell_type": "code",
   "execution_count": null,
   "id": "ee5a7823",
   "metadata": {},
   "outputs": [],
   "source": []
  }
 ],
 "metadata": {
  "kernelspec": {
   "display_name": "Python 3 (ipykernel)",
   "language": "python",
   "name": "python3"
  },
  "language_info": {
   "codemirror_mode": {
    "name": "ipython",
    "version": 3
   },
   "file_extension": ".py",
   "mimetype": "text/x-python",
   "name": "python",
   "nbconvert_exporter": "python",
   "pygments_lexer": "ipython3",
   "version": "3.9.7"
  }
 },
 "nbformat": 4,
 "nbformat_minor": 5
}
