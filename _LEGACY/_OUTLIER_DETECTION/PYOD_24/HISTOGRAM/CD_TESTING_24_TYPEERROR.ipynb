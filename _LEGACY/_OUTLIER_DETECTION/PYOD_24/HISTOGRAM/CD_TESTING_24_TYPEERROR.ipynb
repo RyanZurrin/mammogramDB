{
 "cells": [
  {
   "cell_type": "markdown",
   "id": "d0adee30",
   "metadata": {},
   "source": [
    "# CD - Cook’s distance outlier detection\n",
    "### Cook’s distance can be used to identify points that negatively affect a regression model. A combination of each observation’s leverage and residual values are used in the measurement. Higher leverage and residuals relate to higher Cook’s distances. \n",
    "Source: https://pyod.readthedocs.io/en/latest/pyod.models.html#module-pyod.models.cd"
   ]
  },
  {
   "cell_type": "markdown",
   "id": "51813d2e",
   "metadata": {},
   "source": [
    "### Arguments that work with CD algorithm:\n",
    "1. contamination\n",
    "2. whitening\n",
    "3. rule_of_thumb"
   ]
  },
  {
   "cell_type": "code",
   "execution_count": 1,
   "id": "1aa4da19",
   "metadata": {},
   "outputs": [
    {
     "name": "stdout",
     "output_type": "stream",
     "text": [
      "Populating the interactive namespace from numpy and matplotlib\n"
     ]
    }
   ],
   "source": [
    "%pylab inline\n",
    "%load_ext autoreload\n",
    "%autoreload 2\n",
    "import sys\n",
    "import time\n",
    "sys.path.insert(0,'../../../..')\n",
    "import omama as O"
   ]
  },
  {
   "cell_type": "code",
   "execution_count": 2,
   "id": "b5fa73c4",
   "metadata": {},
   "outputs": [
    {
     "name": "stdout",
     "output_type": "stream",
     "text": [
      "get2D                    ...took   196.069085 seconds\n",
      "image downsampling       ...took     4.186195 seconds\n",
      "image downsampling       ...took     7.020317 seconds\n",
      "image downsampling       ...took    13.622937 seconds\n",
      "image downsampling       ...took    16.466546 seconds\n",
      "image downsampling       ...took    22.837957 seconds\n",
      "image downsampling       ...took    29.216416 seconds\n",
      "image downsampling       ...took    35.597460 seconds\n",
      "image downsampling       ...took    38.458433 seconds\n",
      "image downsampling       ...took    55.217417 seconds\n",
      "image downsampling       ...took    58.071501 seconds\n",
      "image downsampling       ...took    60.926002 seconds\n",
      "image downsampling       ...took    67.308427 seconds\n",
      "image downsampling       ...took    70.199394 seconds\n",
      "image downsampling       ...took    73.225702 seconds\n",
      "image downsampling       ...took    76.107533 seconds\n",
      "image downsampling       ...took    78.946156 seconds\n",
      "image downsampling       ...took    85.321887 seconds\n",
      "image downsampling       ...took    91.690511 seconds\n",
      "image downsampling       ...took    98.020232 seconds\n",
      "image downsampling       ...took   104.388277 seconds\n",
      "image downsampling       ...took   107.291471 seconds\n",
      "image downsampling       ...took   110.125939 seconds\n",
      "image downsampling       ...took   116.498837 seconds\n",
      "image downsampling       ...took   119.347700 seconds\n",
      "image downsampling       ...took   122.188033 seconds\n",
      "image downsampling       ...took   130.976674 seconds\n",
      "image downsampling       ...took   137.315332 seconds\n",
      "image downsampling       ...took   140.191613 seconds\n",
      "image downsampling       ...took   143.032421 seconds\n",
      "image downsampling       ...took   159.744869 seconds\n",
      "image downsampling       ...took   162.600392 seconds\n",
      "image downsampling       ...took   168.996407 seconds\n",
      "image downsampling       ...took   175.365583 seconds\n",
      "image downsampling       ...took   178.190559 seconds\n",
      "image downsampling       ...took   181.098578 seconds\n",
      "image downsampling       ...took   183.963444 seconds\n",
      "image downsampling       ...took   192.729384 seconds\n",
      "image downsampling       ...took   199.093455 seconds\n",
      "image downsampling       ...took   201.974756 seconds\n",
      "image downsampling       ...took   208.302550 seconds\n",
      "image downsampling       ...took   214.684255 seconds\n",
      "image downsampling       ...took   217.531051 seconds\n",
      "image downsampling       ...took   223.898221 seconds\n",
      "image downsampling       ...took   230.248500 seconds\n",
      "image downsampling       ...took   233.212404 seconds\n",
      "image downsampling       ...took   236.168546 seconds\n",
      "image downsampling       ...took   242.510636 seconds\n",
      "image downsampling       ...took   248.884971 seconds\n",
      "image downsampling       ...took   251.735388 seconds\n",
      "image downsampling       ...took   258.123600 seconds\n",
      "image downsampling       ...took   260.959942 seconds\n",
      "image downsampling       ...took   267.386876 seconds\n",
      "image downsampling       ...took   270.238201 seconds\n",
      "image downsampling       ...took   273.111443 seconds\n",
      "image downsampling       ...took   275.958205 seconds\n",
      "image downsampling       ...took   278.837029 seconds\n",
      "image downsampling       ...took   281.662266 seconds\n",
      "image downsampling       ...took   298.408580 seconds\n",
      "image downsampling       ...took   301.535433 seconds\n",
      "image downsampling       ...took   304.370524 seconds\n",
      "image downsampling       ...took   307.240578 seconds\n",
      "image downsampling       ...took   313.615443 seconds\n",
      "image downsampling       ...took   319.995355 seconds\n",
      "image downsampling       ...took   322.863445 seconds\n",
      "image downsampling       ...took   329.205632 seconds\n",
      "image downsampling       ...took   335.582430 seconds\n",
      "image downsampling       ...took   338.478941 seconds\n",
      "image downsampling       ...took   341.325659 seconds\n",
      "image downsampling       ...took   344.434098 seconds\n",
      "image downsampling       ...took   347.311479 seconds\n",
      "image downsampling       ...took   350.170384 seconds\n",
      "image downsampling       ...took   353.007612 seconds\n",
      "image downsampling       ...took   355.881067 seconds\n",
      "image downsampling       ...took   358.744795 seconds\n",
      "image downsampling       ...took   361.585613 seconds\n",
      "image downsampling       ...took   378.259896 seconds\n",
      "image downsampling       ...took   381.096121 seconds\n",
      "image downsampling       ...took   383.942299 seconds\n",
      "image downsampling       ...took   386.795732 seconds\n",
      "image downsampling       ...took   389.649517 seconds\n",
      "image downsampling       ...took   392.492730 seconds\n",
      "image downsampling       ...took   395.371443 seconds\n",
      "image downsampling       ...took   401.976258 seconds\n",
      "image downsampling       ...took   404.824989 seconds\n",
      "image downsampling       ...took   413.355825 seconds\n",
      "image downsampling       ...took   416.205111 seconds\n",
      "image downsampling       ...took   419.049767 seconds\n",
      "image downsampling       ...took   435.792580 seconds\n",
      "image downsampling       ...took   442.143454 seconds\n",
      "image downsampling       ...took   448.511443 seconds\n",
      "image downsampling       ...took   454.884703 seconds\n",
      "image downsampling       ...took   461.317064 seconds\n",
      "image downsampling       ...took   467.877057 seconds\n",
      "image downsampling       ...took   474.240364 seconds\n",
      "image downsampling       ...took   480.598853 seconds\n",
      "image downsampling       ...took   483.471095 seconds\n",
      "image downsampling       ...took   489.842793 seconds\n",
      "image downsampling       ...took   506.803457 seconds\n",
      "image downsampling       ...took   513.126687 seconds\n",
      "image downsampling       ...took   515.979093 seconds\n",
      "downsample               ...took   516.020573 seconds\n"
     ]
    }
   ],
   "source": [
    "imgs = O.DataHelper.get2D(N = 100, config_num=7, randomize=True, timing=True)\n",
    "downsampled_imgs = O.Normalize.downsample(imgs, output_shape=(64, 64), flatten=True, timing=True)"
   ]
  },
  {
   "cell_type": "code",
   "execution_count": 3,
   "id": "b376126b",
   "metadata": {},
   "outputs": [
    {
     "ename": "TypeError",
     "evalue": "fit() missing 1 required positional argument: 'y'",
     "output_type": "error",
     "traceback": [
      "\u001B[0;31m---------------------------------------------------------------------------\u001B[0m",
      "\u001B[0;31mTypeError\u001B[0m                                 Traceback (most recent call last)",
      "\u001B[0;32m/tmp/ipykernel_3133500/90930901.py\u001B[0m in \u001B[0;36m<module>\u001B[0;34m\u001B[0m\n\u001B[0;32m----> 1\u001B[0;31m \u001B[0mtrain_scoresX\u001B[0m\u001B[0;34m,\u001B[0m \u001B[0mtrain_labelsX\u001B[0m \u001B[0;34m=\u001B[0m \u001B[0mO\u001B[0m\u001B[0;34m.\u001B[0m\u001B[0mOutlierDetector\u001B[0m\u001B[0;34m.\u001B[0m\u001B[0mdetect_outliers\u001B[0m\u001B[0;34m(\u001B[0m\u001B[0mdownsampled_imgs\u001B[0m\u001B[0;34m,\u001B[0m \u001B[0mpyod_algorithm\u001B[0m\u001B[0;34m=\u001B[0m\u001B[0;34m'CD'\u001B[0m\u001B[0;34m)\u001B[0m\u001B[0;34m\u001B[0m\u001B[0;34m\u001B[0m\u001B[0m\n\u001B[0m\u001B[1;32m      2\u001B[0m \u001B[0mO\u001B[0m\u001B[0;34m.\u001B[0m\u001B[0mFeatures\u001B[0m\u001B[0;34m.\u001B[0m\u001B[0mview_image_and_features\u001B[0m\u001B[0;34m(\u001B[0m\u001B[0mimgs\u001B[0m\u001B[0;34m,\u001B[0m \u001B[0;34m[\u001B[0m\u001B[0;34m'downsample'\u001B[0m\u001B[0;34m]\u001B[0m\u001B[0;34m,\u001B[0m \u001B[0mtrain_scores\u001B[0m\u001B[0;34m=\u001B[0m\u001B[0;34m[\u001B[0m\u001B[0mtrain_scoresX\u001B[0m\u001B[0;34m]\u001B[0m\u001B[0;34m)\u001B[0m\u001B[0;34m\u001B[0m\u001B[0;34m\u001B[0m\u001B[0m\n",
      "\u001B[0;32m~/Projects/omama/_EXPERIMENTS/OUTLIER_DETECTION/PYOD_20/DOWNSAMPLED/../../../../omama/outlier_detection/outlier_detector.py\u001B[0m in \u001B[0;36mdetect_outliers\u001B[0;34m(data_x, data_y, pyod_algorithm, activation_hidden, algorithm, alpha, approx_clf, approx_clf_list, approx_flag_global, approx_ng_clf_list, assume_centered, bandwidth, base_estimator, base_estimators, base_score, batch_size, behaviour, beta, booster, bootstrap, bootstrap_features, bps_flag, c, cache_size, capacity, check_detector, check_estimator, clustering_estimator, coef0, colsample_bylevel, colsample_bytree, combination, contamination, copy, cost_forecast_loc_fit, cost_forecast_loc_pred, covariance_type, D_layers, decay, decoder_neurons, degree, dis_measure, dropout_rate, encoder_neurons, epochs, epochs_query, eps, estimator_list, estimator_params, G_layers, gamma, hidden_activation, hidden_neurons, index_D_layer_for_recon_error, init_params, iterated_power, jl_method, kernel, l2_regularizer, latent_dim, latent_dim_G, leaf_size, learning_rate, learning_rate_query, loss, lr_d, lr_g, max_delta_step, max_depth, max_features, max_iter, max_samples, means_init, method, metric, metric_params, min_child_weight, momentum, n_bins, n_clusters, n_components, n_estimators, n_init, n_iter, n_jobs, n_neighbors, n_random_cuts, n_selected_components, novelty, nthread, nu, objective, optimizer, output_activation, p, parallel_execution, perplexity, precisions_init, preprocessing, radius, random_state, ref_set, reg_alpha, reg_covar, reg_lambda, rp_clf_list, rp_ng_clf_list, rp_flag_global, rule_of_thumb, scale_pos_weight, shrinking, silent, standardization, standardization_flag_list, stop_epochs, store_precision, subsample, subset_size, support_fraction, svd_solver, target_dim_frac, tol, use_ae, use_weights, validation_size, verbose, warm_start, weighted, weights_init, whiten, whitening)\u001B[0m\n\u001B[1;32m   1001\u001B[0m \u001B[0;34m\u001B[0m\u001B[0m\n\u001B[1;32m   1002\u001B[0m         \u001B[0;32mif\u001B[0m \u001B[0mdata_y\u001B[0m \u001B[0;32mis\u001B[0m \u001B[0;32mNone\u001B[0m\u001B[0;34m:\u001B[0m\u001B[0;34m\u001B[0m\u001B[0;34m\u001B[0m\u001B[0m\n\u001B[0;32m-> 1003\u001B[0;31m             \u001B[0mclf\u001B[0m\u001B[0;34m.\u001B[0m\u001B[0mfit\u001B[0m\u001B[0;34m(\u001B[0m\u001B[0mdata_x\u001B[0m\u001B[0;34m)\u001B[0m\u001B[0;34m\u001B[0m\u001B[0;34m\u001B[0m\u001B[0m\n\u001B[0m\u001B[1;32m   1004\u001B[0m         \u001B[0;32melse\u001B[0m\u001B[0;34m:\u001B[0m\u001B[0;34m\u001B[0m\u001B[0;34m\u001B[0m\u001B[0m\n\u001B[1;32m   1005\u001B[0m             \u001B[0mclf\u001B[0m\u001B[0;34m.\u001B[0m\u001B[0mfit\u001B[0m\u001B[0;34m(\u001B[0m\u001B[0mdata_x\u001B[0m\u001B[0;34m,\u001B[0m \u001B[0mdata_y\u001B[0m\u001B[0;34m)\u001B[0m\u001B[0;34m\u001B[0m\u001B[0;34m\u001B[0m\u001B[0m\n",
      "\u001B[0;31mTypeError\u001B[0m: fit() missing 1 required positional argument: 'y'"
     ]
    }
   ],
   "source": [
    "train_scoresX, train_labelsX = O.OutlierDetector.detect_outliers(downsampled_imgs, pyod_algorithm='CD')\n",
    "O.Features.view_image_and_features(imgs, ['downsample'], train_scores=[train_scoresX])"
   ]
  },
  {
   "cell_type": "code",
   "execution_count": null,
   "id": "ee5a7823",
   "metadata": {},
   "outputs": [],
   "source": []
  }
 ],
 "metadata": {
  "kernelspec": {
   "display_name": "Python 3 (ipykernel)",
   "language": "python",
   "name": "python3"
  },
  "language_info": {
   "codemirror_mode": {
    "name": "ipython",
    "version": 3
   },
   "file_extension": ".py",
   "mimetype": "text/x-python",
   "name": "python",
   "nbconvert_exporter": "python",
   "pygments_lexer": "ipython3",
   "version": "3.9.7"
  }
 },
 "nbformat": 4,
 "nbformat_minor": 5
}
