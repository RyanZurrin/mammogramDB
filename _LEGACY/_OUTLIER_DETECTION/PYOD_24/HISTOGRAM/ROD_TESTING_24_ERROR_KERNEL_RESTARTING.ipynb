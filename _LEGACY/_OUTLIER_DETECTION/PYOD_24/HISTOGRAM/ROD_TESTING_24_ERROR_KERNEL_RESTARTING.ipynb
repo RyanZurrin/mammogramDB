{
 "cells": [
  {
   "cell_type": "markdown",
   "id": "25f0705b",
   "metadata": {},
   "source": [
    "# ROD - Rotation-based Outlier Detector\n",
    "### Rotation-based Outlier Detection (ROD), is a robust and parameter-free algorithm that requires no statistical distribution assumptions and works intuitively in three-dimensional space, where the 3D-vectors, representing the data points, are rotated about the geometric median two times counterclockwise using Rodrigues rotation formula. The results of the rotation are parallelepipeds where their volumes are mathematically analyzed as cost functions and used to calculate the Median Absolute Deviations to obtain the outlying score. For high dimensions > 3, the overall score is calculated by taking the average of the overall 3D-subspaces scores, that were resulted from decomposing the original data space.\n",
    "Source: https://pyod.readthedocs.io/en/latest/pyod.models.html#module-pyod.models.rod"
   ]
  },
  {
   "cell_type": "markdown",
   "id": "42aeeaf6",
   "metadata": {},
   "source": [
    "### Arguments that work with XXXX algorithm:\n",
    "1. contamination\n",
    "2. parallel_execution"
   ]
  },
  {
   "cell_type": "code",
   "execution_count": 1,
   "id": "0b98be67",
   "metadata": {},
   "outputs": [
    {
     "name": "stdout",
     "output_type": "stream",
     "text": [
      "Populating the interactive namespace from numpy and matplotlib\n"
     ]
    }
   ],
   "source": [
    "%pylab inline\n",
    "%load_ext autoreload\n",
    "%autoreload 2\n",
    "import sys\n",
    "import time\n",
    "sys.path.insert(0,'../../../..')\n",
    "import omama as O"
   ]
  },
  {
   "cell_type": "code",
   "execution_count": 2,
   "id": "e8d1cbc8",
   "metadata": {
    "scrolled": true
   },
   "outputs": [
    {
     "name": "stdout",
     "output_type": "stream",
     "text": [
      "get2D                    ...took    51.350973 seconds\n",
      "image downsampling       ...took     1.399569 seconds\n",
      "image downsampling       ...took     2.825785 seconds\n",
      "image downsampling       ...took     3.490484 seconds\n",
      "image downsampling       ...took     4.142944 seconds\n",
      "image downsampling       ...took     6.332487 seconds\n",
      "image downsampling       ...took     7.777156 seconds\n",
      "image downsampling       ...took    11.422333 seconds\n",
      "image downsampling       ...took    12.043806 seconds\n",
      "image downsampling       ...took    13.468140 seconds\n",
      "image downsampling       ...took    14.117002 seconds\n",
      "image downsampling       ...took    15.319171 seconds\n",
      "image downsampling       ...took    17.540311 seconds\n",
      "image downsampling       ...took    18.012154 seconds\n",
      "image downsampling       ...took    18.484268 seconds\n",
      "image downsampling       ...took    18.955850 seconds\n",
      "image downsampling       ...took    20.009718 seconds\n",
      "image downsampling       ...took    20.481559 seconds\n",
      "image downsampling       ...took    20.953900 seconds\n",
      "image downsampling       ...took    21.426609 seconds\n",
      "image downsampling       ...took    22.478690 seconds\n",
      "image downsampling       ...took    23.531101 seconds\n",
      "image downsampling       ...took    24.002687 seconds\n",
      "image downsampling       ...took    24.474555 seconds\n",
      "image downsampling       ...took    25.525197 seconds\n",
      "image downsampling       ...took    25.996794 seconds\n",
      "image downsampling       ...took    26.467726 seconds\n",
      "image downsampling       ...took    29.227974 seconds\n",
      "image downsampling       ...took    30.546829 seconds\n",
      "image downsampling       ...took    33.931217 seconds\n",
      "image downsampling       ...took    37.343114 seconds\n",
      "image downsampling       ...took    38.677866 seconds\n",
      "image downsampling       ...took    39.915219 seconds\n",
      "image downsampling       ...took    41.042428 seconds\n",
      "image downsampling       ...took    41.535292 seconds\n",
      "image downsampling       ...took    42.588550 seconds\n",
      "image downsampling       ...took    43.644970 seconds\n",
      "image downsampling       ...took    45.035922 seconds\n",
      "image downsampling       ...took    45.879554 seconds\n",
      "image downsampling       ...took    47.404247 seconds\n",
      "image downsampling       ...took    49.087371 seconds\n",
      "image downsampling       ...took    51.231536 seconds\n",
      "image downsampling       ...took    51.930754 seconds\n",
      "image downsampling       ...took    52.451090 seconds\n",
      "image downsampling       ...took    53.612208 seconds\n",
      "image downsampling       ...took    54.949514 seconds\n",
      "image downsampling       ...took    55.705235 seconds\n",
      "image downsampling       ...took    57.458019 seconds\n",
      "image downsampling       ...took    58.370620 seconds\n",
      "image downsampling       ...took    59.942799 seconds\n",
      "image downsampling       ...took    64.059489 seconds\n",
      "image downsampling       ...took    65.766817 seconds\n",
      "image downsampling       ...took    66.753165 seconds\n",
      "image downsampling       ...took    67.487216 seconds\n",
      "image downsampling       ...took    71.547308 seconds\n",
      "image downsampling       ...took    73.448203 seconds\n",
      "image downsampling       ...took    74.317047 seconds\n",
      "image downsampling       ...took    75.098001 seconds\n",
      "image downsampling       ...took    76.780621 seconds\n",
      "image downsampling       ...took    77.660296 seconds\n",
      "image downsampling       ...took    78.467330 seconds\n",
      "image downsampling       ...took    80.056739 seconds\n",
      "image downsampling       ...took    80.766304 seconds\n",
      "image downsampling       ...took    82.438607 seconds\n",
      "image downsampling       ...took    83.930394 seconds\n",
      "image downsampling       ...took    84.715511 seconds\n",
      "image downsampling       ...took    86.866475 seconds\n",
      "image downsampling       ...took    87.636524 seconds\n",
      "image downsampling       ...took    88.372546 seconds\n",
      "image downsampling       ...took    89.123439 seconds\n",
      "image downsampling       ...took    91.433674 seconds\n",
      "image downsampling       ...took    92.255937 seconds\n",
      "image downsampling       ...took    92.930077 seconds\n",
      "image downsampling       ...took    94.160647 seconds\n",
      "image downsampling       ...took    95.340058 seconds\n",
      "image downsampling       ...took    96.712673 seconds\n",
      "image downsampling       ...took    98.226768 seconds\n",
      "image downsampling       ...took    99.826548 seconds\n",
      "image downsampling       ...took   100.578637 seconds\n",
      "image downsampling       ...took   101.263411 seconds\n",
      "image downsampling       ...took   101.942274 seconds\n",
      "image downsampling       ...took   103.472886 seconds\n",
      "image downsampling       ...took   104.208745 seconds\n",
      "image downsampling       ...took   108.306038 seconds\n",
      "image downsampling       ...took   108.991285 seconds\n",
      "image downsampling       ...took   110.654709 seconds\n",
      "image downsampling       ...took   112.204297 seconds\n",
      "image downsampling       ...took   112.927879 seconds\n",
      "image downsampling       ...took   114.541520 seconds\n",
      "image downsampling       ...took   115.204490 seconds\n",
      "image downsampling       ...took   116.782654 seconds\n",
      "image downsampling       ...took   118.415559 seconds\n",
      "image downsampling       ...took   120.112636 seconds\n",
      "image downsampling       ...took   121.737595 seconds\n",
      "image downsampling       ...took   122.394413 seconds\n",
      "image downsampling       ...took   124.091193 seconds\n",
      "image downsampling       ...took   124.847893 seconds\n",
      "image downsampling       ...took   126.557320 seconds\n",
      "image downsampling       ...took   128.261196 seconds\n",
      "image downsampling       ...took   130.136616 seconds\n",
      "image downsampling       ...took   130.882417 seconds\n",
      "downsample               ...took   130.884244 seconds\n"
     ]
    }
   ],
   "source": [
    "imgs = O.DataHelper.get2D(N = 100, config_num=5, randomize=True, timing=True)\n",
    "downsampled_imgs = O.Normalize.downsample(imgs, output_shape=(64, 64), flatten=True, timing=True)"
   ]
  },
  {
   "cell_type": "code",
   "execution_count": null,
   "id": "15955aea",
   "metadata": {},
   "outputs": [],
   "source": [
    "train_scoresX, train_labelsX = O.OutlierDetector.detect_outliers(downsampled_imgs, pyod_algorithm='ROD')\n",
    "O.Features.view_image_and_features(imgs, ['downsample'], train_scores=[train_scoresX])"
   ]
  },
  {
   "cell_type": "code",
   "execution_count": null,
   "id": "0e1e1b10",
   "metadata": {},
   "outputs": [],
   "source": []
  }
 ],
 "metadata": {
  "kernelspec": {
   "display_name": "Python 3 (ipykernel)",
   "language": "python",
   "name": "python3"
  },
  "language_info": {
   "codemirror_mode": {
    "name": "ipython",
    "version": 3
   },
   "file_extension": ".py",
   "mimetype": "text/x-python",
   "name": "python",
   "nbconvert_exporter": "python",
   "pygments_lexer": "ipython3",
   "version": "3.9.7"
  }
 },
 "nbformat": 4,
 "nbformat_minor": 5
}
