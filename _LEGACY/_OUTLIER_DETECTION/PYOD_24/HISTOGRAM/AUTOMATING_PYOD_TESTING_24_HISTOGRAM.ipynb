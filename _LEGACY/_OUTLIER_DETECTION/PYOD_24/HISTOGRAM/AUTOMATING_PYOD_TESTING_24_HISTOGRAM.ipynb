{
 "cells": [
  {
   "cell_type": "code",
   "execution_count": 1,
   "id": "d2d0ce1d",
   "metadata": {},
   "outputs": [
    {
     "name": "stdout",
     "output_type": "stream",
     "text": [
      "Populating the interactive namespace from numpy and matplotlib\n"
     ]
    }
   ],
   "source": [
    "%pylab inline\n",
    "%load_ext autoreload\n",
    "%autoreload 2"
   ]
  },
  {
   "cell_type": "code",
   "execution_count": 2,
   "id": "14be8401",
   "metadata": {},
   "outputs": [],
   "source": [
    "import sys\n",
    "import time\n",
    "sys.path.insert(0,'../..')\n",
    "import omama as O"
   ]
  },
  {
   "cell_type": "code",
   "execution_count": 3,
   "id": "e9979482",
   "metadata": {},
   "outputs": [
    {
     "name": "stdout",
     "output_type": "stream",
     "text": [
      "get2D                    ...took    79.833800 seconds\n"
     ]
    }
   ],
   "source": [
    "imgs = O.DataHelper.get2D(N = 100, config_num=7, randomize=True, timing=True)\n",
    "histograms = O.Features.get_features(imgs, feature_type=\"hist\", norm_type=\"minmax\")"
   ]
  },
  {
   "cell_type": "code",
   "execution_count": 4,
   "id": "60f9f1bd",
   "metadata": {},
   "outputs": [],
   "source": [
    "agruments = {\"contamination\": .25, \"verbose\": False}"
   ]
  },
  {
   "cell_type": "code",
   "execution_count": 5,
   "id": "a177b38b",
   "metadata": {},
   "outputs": [
    {
     "name": "stderr",
     "output_type": "stream",
     "text": [
      "[Parallel(n_jobs=1)]: Using backend SequentialBackend with 1 concurrent workers.\n",
      "[Parallel(n_jobs=1)]: Done   1 out of   1 | elapsed:    1.2s finished\n",
      "[Parallel(n_jobs=1)]: Using backend SequentialBackend with 1 concurrent workers.\n",
      "[Parallel(n_jobs=1)]: Done   1 out of   1 | elapsed:    0.8s finished\n"
     ]
    },
    {
     "name": "stdout",
     "output_type": "stream",
     "text": [
      "run_all_algorithms       ...took   198.634495 seconds\n",
      "OD __init__              ...took   198.634939 seconds\n"
     ]
    }
   ],
   "source": [
    "OLD = O.OutlierDetector(run_id='Histogram', imgs=imgs, features=histograms, number_bad=24, verbose=False, timing=True, kwargs=agruments)"
   ]
  },
  {
   "cell_type": "code",
   "execution_count": 6,
   "id": "1e409bbe",
   "metadata": {},
   "outputs": [
    {
     "data": {
      "text/plain": [
       "({'HBOS': 0.625,\n",
       "  'IForest': 0.4166666666666667,\n",
       "  'COPOD': 0.3333333333333333,\n",
       "  'SUOD': 0.3333333333333333,\n",
       "  'SOD': 0.2916666666666667,\n",
       "  'VAE': 0.25,\n",
       "  'DeepSVDD': 0.20833333333333334,\n",
       "  'ECOD': 0.16666666666666666,\n",
       "  'OCSVM': 0.16666666666666666,\n",
       "  'KDE': 0.16666666666666666,\n",
       "  'PCA': 0.16666666666666666,\n",
       "  'MCD': 0.16666666666666666,\n",
       "  'AE': 0.16666666666666666,\n",
       "  'SOGAAL': 0.16666666666666666,\n",
       "  'MOGAAL': 0.16666666666666666,\n",
       "  'COF': 0.08333333333333333,\n",
       "  'INNE': 0.08333333333333333,\n",
       "  'FB': 0.08333333333333333,\n",
       "  'CBLOF': 0.041666666666666664,\n",
       "  'Sampling': 0.041666666666666664,\n",
       "  'KNN': 0.041666666666666664,\n",
       "  'AvgKNN': 0.041666666666666664,\n",
       "  'MedKNN': 0.041666666666666664,\n",
       "  'LOF': 0.0,\n",
       "  'SOS': 0.0,\n",
       "  'LMDD': 0.0,\n",
       "  'LODA': 0.0,\n",
       "  'AnoGAN': 0.0,\n",
       "  'GMM': -1,\n",
       "  'CD': -1,\n",
       "  'XGBOD': -1},\n",
       " {'GMM': ValueError('Fitting the mixture model failed because some components have ill-defined empirical covariance (for instance caused by singleton or collapsed samples). Try to decrease the number of components, or increase reg_covar.'),\n",
       "  'CD': TypeError(\"fit() missing 1 required positional argument: 'y'\"),\n",
       "  'XGBOD': TypeError(\"fit() missing 1 required positional argument: 'y'\")})"
      ]
     },
     "execution_count": 6,
     "metadata": {},
     "output_type": "execute_result"
    }
   ],
   "source": [
    "OLD.results"
   ]
  },
  {
   "cell_type": "code",
   "execution_count": 7,
   "id": "3fad4307",
   "metadata": {},
   "outputs": [
    {
     "name": "stdout",
     "output_type": "stream",
     "text": [
      "{\n",
      "    \"Histograms_8\": {\n",
      "        \"IForest\": 0.25,\n",
      "        \"Sampling\": 0.25,\n",
      "        \"PCA\": 0.25,\n",
      "        \"HBOS\": 0.25,\n",
      "        \"AE\": 0.25,\n",
      "        \"VAE\": 0.25,\n",
      "        \"DeepSVDD\": 0.25,\n",
      "        \"ECOD\": 0.125,\n",
      "        \"COPOD\": 0.125,\n",
      "        \"SUOD\": 0.125,\n",
      "        \"LOF\": 0.0,\n",
      "        \"OCSVM\": 0.0,\n",
      "        \"CBLOF\": 0.0,\n",
      "        \"SOS\": 0.0,\n",
      "        \"KDE\": 0.0,\n",
      "        \"MCD\": 0.0,\n",
      "        \"LMDD\": 0.0,\n",
      "        \"COF\": 0.0,\n",
      "        \"KNN\": 0.0,\n",
      "        \"AvgKNN\": 0.0,\n",
      "        \"MedKNN\": 0.0,\n",
      "        \"SOD\": 0.0,\n",
      "        \"INNE\": 0.0,\n",
      "        \"FB\": 0.0,\n",
      "        \"LODA\": 0.0,\n",
      "        \"SOGAAL\": 0.0,\n",
      "        \"MOGAAL\": 0.0,\n",
      "        \"AnoGAN\": 0.0,\n",
      "        \"GMM\": -1,\n",
      "        \"CD\": -1,\n",
      "        \"XGBOD\": -1\n",
      "    },\n",
      "    \"Histogram_24\": {\n",
      "        \"HBOS\": 0.625,\n",
      "        \"IForest\": 0.4166666666666667,\n",
      "        \"COPOD\": 0.3333333333333333,\n",
      "        \"SUOD\": 0.3333333333333333,\n",
      "        \"SOD\": 0.2916666666666667,\n",
      "        \"VAE\": 0.25,\n",
      "        \"DeepSVDD\": 0.20833333333333334,\n",
      "        \"ECOD\": 0.16666666666666666,\n",
      "        \"OCSVM\": 0.16666666666666666,\n",
      "        \"KDE\": 0.16666666666666666,\n",
      "        \"PCA\": 0.16666666666666666,\n",
      "        \"MCD\": 0.16666666666666666,\n",
      "        \"AE\": 0.16666666666666666,\n",
      "        \"SOGAAL\": 0.16666666666666666,\n",
      "        \"MOGAAL\": 0.16666666666666666,\n",
      "        \"COF\": 0.08333333333333333,\n",
      "        \"INNE\": 0.08333333333333333,\n",
      "        \"FB\": 0.08333333333333333,\n",
      "        \"CBLOF\": 0.041666666666666664,\n",
      "        \"Sampling\": 0.041666666666666664,\n",
      "        \"KNN\": 0.041666666666666664,\n",
      "        \"AvgKNN\": 0.041666666666666664,\n",
      "        \"MedKNN\": 0.041666666666666664,\n",
      "        \"LOF\": 0.0,\n",
      "        \"SOS\": 0.0,\n",
      "        \"LMDD\": 0.0,\n",
      "        \"LODA\": 0.0,\n",
      "        \"AnoGAN\": 0.0,\n",
      "        \"GMM\": -1,\n",
      "        \"CD\": -1,\n",
      "        \"XGBOD\": -1\n",
      "    }\n",
      "}\n"
     ]
    }
   ],
   "source": [
    "OLD.show_records()"
   ]
  },
  {
   "cell_type": "code",
   "execution_count": null,
   "id": "6105bf72",
   "metadata": {},
   "outputs": [],
   "source": []
  },
  {
   "cell_type": "code",
   "execution_count": null,
   "id": "ee3c4eb3",
   "metadata": {},
   "outputs": [],
   "source": []
  },
  {
   "cell_type": "code",
   "execution_count": 5,
   "id": "30995168",
   "metadata": {},
   "outputs": [
    {
     "data": {
      "text/plain": [
       "({'HBOS': 0.625,\n",
       "  'COPOD': 0.3333333333333333,\n",
       "  'SOD': 0.3333333333333333,\n",
       "  'SUOD': 0.3333333333333333,\n",
       "  'OCSVM': 0.25,\n",
       "  'IForest': 0.25,\n",
       "  'KDE': 0.25,\n",
       "  'SOGAAL': 0.25,\n",
       "  'MOGAAL': 0.25,\n",
       "  'MCD': 0.20833333333333334,\n",
       "  'VAE': 0.20833333333333334,\n",
       "  'ECOD': 0.16666666666666666,\n",
       "  'PCA': 0.16666666666666666,\n",
       "  'AE': 0.16666666666666666,\n",
       "  'DeepSVDD': 0.125,\n",
       "  'COF': 0.08333333333333333,\n",
       "  'LODA': 0.08333333333333333,\n",
       "  'Sampling': 0.041666666666666664,\n",
       "  'KNN': 0.041666666666666664,\n",
       "  'AvgKNN': 0.041666666666666664,\n",
       "  'MedKNN': 0.041666666666666664,\n",
       "  'INNE': 0.041666666666666664,\n",
       "  'AnoGAN': 0.041666666666666664,\n",
       "  'LOF': 0.0,\n",
       "  'CBLOF': 0.0,\n",
       "  'SOS': 0.0,\n",
       "  'LMDD': 0.0,\n",
       "  'FB': 0.0,\n",
       "  'GMM': -1,\n",
       "  'CD': -1,\n",
       "  'XGBOD': -1},\n",
       " {'GMM': ValueError('Fitting the mixture model failed because some components have ill-defined empirical covariance (for instance caused by singleton or collapsed samples). Try to decrease the number of components, or increase reg_covar.'),\n",
       "  'CD': TypeError(\"fit() missing 1 required positional argument: 'y'\"),\n",
       "  'XGBOD': TypeError(\"fit() missing 1 required positional argument: 'y'\")})"
      ]
     },
     "execution_count": 5,
     "metadata": {},
     "output_type": "execute_result"
    }
   ],
   "source": [
    "OLD.results"
   ]
  },
  {
   "cell_type": "code",
   "execution_count": null,
   "id": "890d636d",
   "metadata": {},
   "outputs": [],
   "source": []
  }
 ],
 "metadata": {
  "kernelspec": {
   "display_name": "Python 3 (ipykernel)",
   "language": "python",
   "name": "python3"
  },
  "language_info": {
   "codemirror_mode": {
    "name": "ipython",
    "version": 3
   },
   "file_extension": ".py",
   "mimetype": "text/x-python",
   "name": "python",
   "nbconvert_exporter": "python",
   "pygments_lexer": "ipython3",
   "version": "3.9.7"
  }
 },
 "nbformat": 4,
 "nbformat_minor": 5
}
