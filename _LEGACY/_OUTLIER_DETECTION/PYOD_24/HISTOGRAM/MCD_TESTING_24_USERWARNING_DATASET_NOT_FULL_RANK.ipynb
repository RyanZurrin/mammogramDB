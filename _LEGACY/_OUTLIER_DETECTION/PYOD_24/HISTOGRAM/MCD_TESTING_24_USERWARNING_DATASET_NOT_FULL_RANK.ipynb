{
 "cells": [
  {
   "cell_type": "markdown",
   "id": "474c4270",
   "metadata": {},
   "source": [
    "# MCD - Minimum Covariance Determinant\n",
    "### The Minimum Covariance Determinant covariance estimator is to be applied on Gaussian-distributed data, but could still be relevant on data drawn from a unimodal, symmetric distribution. It is not meant to be used with multi-modal data (the algorithm used to fit a MinCovDet object is likely to fail in such a case). One should consider projection pursuit methods to deal with multi-modal datasets. \n",
    "### **First fit a minimum covariance determinant model and then compute the Mahalanobis distance as the outlier degree of the data**\n",
    "source: https://pyod.readthedocs.io/en/latest/pyod.models.html#module-pyod.models.mcd"
   ]
  },
  {
   "cell_type": "markdown",
   "id": "3767102d",
   "metadata": {},
   "source": [
    "### Arguments that work with MCD algorithm:\n",
    "1. contamination\n",
    "2. store_precision\n",
    "3. assume_centered\n",
    "4. support_fraction\n",
    "5. random_state"
   ]
  },
  {
   "cell_type": "code",
   "execution_count": 1,
   "id": "3e8721f4",
   "metadata": {},
   "outputs": [
    {
     "name": "stdout",
     "output_type": "stream",
     "text": [
      "Populating the interactive namespace from numpy and matplotlib\n"
     ]
    }
   ],
   "source": [
    "%pylab inline\n",
    "%load_ext autoreload\n",
    "%autoreload 2\n",
    "import sys\n",
    "import time\n",
    "sys.path.insert(0,'../../../..')\n",
    "import omama as O\n",
    "import numpy as np"
   ]
  },
  {
   "cell_type": "code",
   "execution_count": 2,
   "id": "ce9469e2",
   "metadata": {
    "scrolled": true
   },
   "outputs": [
    {
     "name": "stdout",
     "output_type": "stream",
     "text": [
      "get2D                    ...took   268.930234 seconds\n",
      "image downsampling       ...took     9.177547 seconds\n",
      "image downsampling       ...took    12.489545 seconds\n",
      "image downsampling       ...took    15.824099 seconds\n",
      "image downsampling       ...took    23.294832 seconds\n",
      "image downsampling       ...took    42.806543 seconds\n",
      "image downsampling       ...took    50.219193 seconds\n",
      "image downsampling       ...took    57.670556 seconds\n",
      "image downsampling       ...took    77.339929 seconds\n",
      "image downsampling       ...took    80.672830 seconds\n",
      "image downsampling       ...took    88.127226 seconds\n",
      "image downsampling       ...took    91.442551 seconds\n",
      "image downsampling       ...took    94.738550 seconds\n",
      "image downsampling       ...took    98.034448 seconds\n",
      "image downsampling       ...took   105.475368 seconds\n",
      "image downsampling       ...took   108.769129 seconds\n",
      "image downsampling       ...took   118.749479 seconds\n",
      "image downsampling       ...took   122.053458 seconds\n",
      "image downsampling       ...took   129.773667 seconds\n",
      "image downsampling       ...took   137.178432 seconds\n",
      "image downsampling       ...took   156.689222 seconds\n",
      "image downsampling       ...took   164.123353 seconds\n",
      "image downsampling       ...took   171.561276 seconds\n",
      "image downsampling       ...took   181.738555 seconds\n",
      "image downsampling       ...took   185.026330 seconds\n",
      "image downsampling       ...took   188.354147 seconds\n",
      "image downsampling       ...took   191.674554 seconds\n",
      "image downsampling       ...took   199.089090 seconds\n",
      "image downsampling       ...took   206.538148 seconds\n",
      "image downsampling       ...took   213.946425 seconds\n",
      "image downsampling       ...took   221.398044 seconds\n",
      "image downsampling       ...took   228.855351 seconds\n",
      "image downsampling       ...took   236.553706 seconds\n",
      "image downsampling       ...took   244.006563 seconds\n",
      "image downsampling       ...took   247.293806 seconds\n",
      "image downsampling       ...took   250.598546 seconds\n",
      "image downsampling       ...took   258.009812 seconds\n",
      "image downsampling       ...took   261.382548 seconds\n",
      "image downsampling       ...took   264.738554 seconds\n",
      "image downsampling       ...took   268.016902 seconds\n",
      "image downsampling       ...took   271.317347 seconds\n",
      "image downsampling       ...took   274.623949 seconds\n",
      "image downsampling       ...took   294.316798 seconds\n",
      "image downsampling       ...took   297.628912 seconds\n",
      "image downsampling       ...took   300.936205 seconds\n",
      "image downsampling       ...took   304.258565 seconds\n",
      "image downsampling       ...took   307.560448 seconds\n",
      "image downsampling       ...took   314.998471 seconds\n",
      "image downsampling       ...took   318.316246 seconds\n",
      "image downsampling       ...took   337.829004 seconds\n",
      "image downsampling       ...took   341.113816 seconds\n",
      "image downsampling       ...took   344.427882 seconds\n",
      "image downsampling       ...took   347.850964 seconds\n",
      "image downsampling       ...took   355.414557 seconds\n",
      "image downsampling       ...took   362.813358 seconds\n",
      "image downsampling       ...took   366.148049 seconds\n",
      "image downsampling       ...took   385.646547 seconds\n",
      "image downsampling       ...took   388.929117 seconds\n",
      "image downsampling       ...took   392.228267 seconds\n",
      "image downsampling       ...took   402.130383 seconds\n",
      "image downsampling       ...took   405.447722 seconds\n",
      "image downsampling       ...took   413.095313 seconds\n",
      "image downsampling       ...took   416.386066 seconds\n",
      "image downsampling       ...took   419.689842 seconds\n",
      "image downsampling       ...took   427.101643 seconds\n",
      "image downsampling       ...took   434.549698 seconds\n",
      "image downsampling       ...took   437.868280 seconds\n",
      "image downsampling       ...took   445.338548 seconds\n",
      "image downsampling       ...took   448.658541 seconds\n",
      "image downsampling       ...took   456.091281 seconds\n",
      "image downsampling       ...took   459.387838 seconds\n",
      "image downsampling       ...took   462.841953 seconds\n",
      "image downsampling       ...took   470.255478 seconds\n",
      "image downsampling       ...took   473.601621 seconds\n",
      "image downsampling       ...took   481.049773 seconds\n",
      "image downsampling       ...took   484.360718 seconds\n",
      "image downsampling       ...took   487.644467 seconds\n",
      "image downsampling       ...took   490.937011 seconds\n",
      "image downsampling       ...took   494.257330 seconds\n",
      "image downsampling       ...took   501.724918 seconds\n",
      "image downsampling       ...took   509.180819 seconds\n",
      "image downsampling       ...took   512.489745 seconds\n",
      "image downsampling       ...took   515.797573 seconds\n",
      "image downsampling       ...took   519.109036 seconds\n",
      "image downsampling       ...took   522.658305 seconds\n",
      "image downsampling       ...took   525.994544 seconds\n",
      "image downsampling       ...took   529.283697 seconds\n",
      "image downsampling       ...took   532.574169 seconds\n",
      "image downsampling       ...took   535.910563 seconds\n",
      "image downsampling       ...took   539.222550 seconds\n",
      "image downsampling       ...took   542.516503 seconds\n",
      "image downsampling       ...took   545.833209 seconds\n",
      "image downsampling       ...took   549.206533 seconds\n",
      "image downsampling       ...took   552.530566 seconds\n",
      "image downsampling       ...took   555.836863 seconds\n",
      "image downsampling       ...took   563.290393 seconds\n",
      "image downsampling       ...took   570.733645 seconds\n",
      "image downsampling       ...took   578.209891 seconds\n",
      "image downsampling       ...took   585.846543 seconds\n",
      "image downsampling       ...took   593.254021 seconds\n",
      "image downsampling       ...took   600.731346 seconds\n",
      "downsample               ...took   600.732626 seconds\n"
     ]
    }
   ],
   "source": [
    "imgs = O.DataHelper.get2D(N = 100, config_num=7, randomize=True, timing=True)\n",
    "downsampled_imgs = O.Normalize.downsample(imgs, output_shape=(64, 64), flatten=True, timing=True)"
   ]
  },
  {
   "cell_type": "code",
   "execution_count": null,
   "id": "a4de845e",
   "metadata": {
    "scrolled": true
   },
   "outputs": [
    {
     "name": "stderr",
     "output_type": "stream",
     "text": [
      "/home/ryan.zurrin001/miniconda3/envs/O/lib/python3.9/site-packages/sklearn/covariance/_robust_covariance.py:647: UserWarning: The covariance matrix associated to your dataset is not full rank\n",
      "  warnings.warn(\"The covariance matrix associated to your dataset \"\n"
     ]
    }
   ],
   "source": [
    "train_scoresX, train_labelsX = O.OutlierDetector.detect_outliers(downsampled_imgs, pyod_algorithm='MCD')\n",
    "O.Features.view_image_and_features(imgs, ['downsample'], train_scores=[train_scoresX])"
   ]
  },
  {
   "cell_type": "code",
   "execution_count": null,
   "id": "865f1e0a",
   "metadata": {},
   "outputs": [],
   "source": [
    "# I interupted kernel after about 30 minutes of sitting idle"
   ]
  }
 ],
 "metadata": {
  "kernelspec": {
   "display_name": "Python 3 (ipykernel)",
   "language": "python",
   "name": "python3"
  },
  "language_info": {
   "codemirror_mode": {
    "name": "ipython",
    "version": 3
   },
   "file_extension": ".py",
   "mimetype": "text/x-python",
   "name": "python",
   "nbconvert_exporter": "python",
   "pygments_lexer": "ipython3",
   "version": "3.9.7"
  }
 },
 "nbformat": 4,
 "nbformat_minor": 5
}
