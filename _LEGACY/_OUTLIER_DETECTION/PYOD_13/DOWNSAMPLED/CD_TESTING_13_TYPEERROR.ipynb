{
 "cells": [
  {
   "cell_type": "markdown",
   "id": "d0adee30",
   "metadata": {},
   "source": [
    "# CD - Cook’s distance outlier detection\n",
    "### Cook’s distance can be used to identify points that negatively affect a regression model. A combination of each observation’s leverage and residual values are used in the measurement. Higher leverage and residuals relate to higher Cook’s distances. \n",
    "Source: https://pyod.readthedocs.io/en/latest/pyod.models.html#module-pyod.models.cd"
   ]
  },
  {
   "cell_type": "markdown",
   "id": "51813d2e",
   "metadata": {},
   "source": [
    "### Arguments that work with CD algorithm:\n",
    "1. contamination\n",
    "2. whitening\n",
    "3. rule_of_thumb"
   ]
  },
  {
   "cell_type": "code",
   "execution_count": 1,
   "id": "1aa4da19",
   "metadata": {},
   "outputs": [
    {
     "name": "stdout",
     "output_type": "stream",
     "text": [
      "Populating the interactive namespace from numpy and matplotlib\n"
     ]
    }
   ],
   "source": [
    "%pylab inline\n",
    "%load_ext autoreload\n",
    "%autoreload 2\n",
    "import sys\n",
    "import time\n",
    "sys.path.insert(0,'../../../..')\n",
    "import omama as O"
   ]
  },
  {
   "cell_type": "code",
   "execution_count": 2,
   "id": "b5fa73c4",
   "metadata": {},
   "outputs": [
    {
     "name": "stdout",
     "output_type": "stream",
     "text": [
      "get2D                    ...took    64.610775 seconds\n",
      "image downsampling       ...took     2.928922 seconds\n",
      "image downsampling       ...took     3.859823 seconds\n",
      "image downsampling       ...took     4.811956 seconds\n",
      "image downsampling       ...took     5.713163 seconds\n",
      "image downsampling       ...took     7.234348 seconds\n",
      "image downsampling       ...took     8.301923 seconds\n",
      "image downsampling       ...took     8.774933 seconds\n",
      "image downsampling       ...took    11.580148 seconds\n",
      "image downsampling       ...took    12.642415 seconds\n",
      "image downsampling       ...took    13.113608 seconds\n",
      "image downsampling       ...took    13.589638 seconds\n",
      "image downsampling       ...took    16.380426 seconds\n",
      "image downsampling       ...took    16.852228 seconds\n",
      "image downsampling       ...took    17.325496 seconds\n",
      "image downsampling       ...took    18.392361 seconds\n",
      "image downsampling       ...took    18.863576 seconds\n",
      "image downsampling       ...took    19.335511 seconds\n",
      "image downsampling       ...took    19.814935 seconds\n",
      "image downsampling       ...took    20.289081 seconds\n",
      "image downsampling       ...took    20.759999 seconds\n",
      "image downsampling       ...took    21.820422 seconds\n",
      "image downsampling       ...took    23.260620 seconds\n",
      "image downsampling       ...took    24.321671 seconds\n",
      "image downsampling       ...took    25.382486 seconds\n",
      "image downsampling       ...took    26.440964 seconds\n",
      "image downsampling       ...took    26.919529 seconds\n",
      "image downsampling       ...took    27.393307 seconds\n",
      "image downsampling       ...took    27.864091 seconds\n",
      "image downsampling       ...took    28.339514 seconds\n",
      "image downsampling       ...took    29.398377 seconds\n",
      "image downsampling       ...took    30.459076 seconds\n",
      "image downsampling       ...took    31.533959 seconds\n",
      "image downsampling       ...took    32.014069 seconds\n",
      "image downsampling       ...took    33.376368 seconds\n",
      "image downsampling       ...took    33.848084 seconds\n",
      "image downsampling       ...took    34.908092 seconds\n",
      "image downsampling       ...took    35.385358 seconds\n",
      "image downsampling       ...took    36.692785 seconds\n",
      "image downsampling       ...took    37.179963 seconds\n",
      "image downsampling       ...took    38.259260 seconds\n",
      "image downsampling       ...took    39.339593 seconds\n",
      "image downsampling       ...took    40.965113 seconds\n",
      "image downsampling       ...took    43.939270 seconds\n",
      "image downsampling       ...took    45.014294 seconds\n",
      "image downsampling       ...took    46.076823 seconds\n",
      "image downsampling       ...took    47.947122 seconds\n",
      "image downsampling       ...took    50.079624 seconds\n",
      "image downsampling       ...took    53.466856 seconds\n",
      "image downsampling       ...took    54.902561 seconds\n",
      "image downsampling       ...took    56.334810 seconds\n",
      "image downsampling       ...took    60.296751 seconds\n",
      "image downsampling       ...took    62.193826 seconds\n",
      "image downsampling       ...took    64.105152 seconds\n",
      "image downsampling       ...took    69.284256 seconds\n",
      "image downsampling       ...took    71.670236 seconds\n",
      "image downsampling       ...took    77.036653 seconds\n",
      "image downsampling       ...took    82.418833 seconds\n",
      "image downsampling       ...took    87.771428 seconds\n",
      "image downsampling       ...took    90.391229 seconds\n",
      "image downsampling       ...took    92.798841 seconds\n",
      "image downsampling       ...took    95.156016 seconds\n",
      "image downsampling       ...took    97.548805 seconds\n",
      "image downsampling       ...took   104.656659 seconds\n",
      "image downsampling       ...took   107.030560 seconds\n",
      "image downsampling       ...took   109.416330 seconds\n",
      "image downsampling       ...took   111.774536 seconds\n",
      "image downsampling       ...took   117.153344 seconds\n",
      "image downsampling       ...took   122.501346 seconds\n",
      "image downsampling       ...took   124.860039 seconds\n",
      "image downsampling       ...took   130.227338 seconds\n",
      "image downsampling       ...took   132.636140 seconds\n",
      "image downsampling       ...took   134.988431 seconds\n",
      "image downsampling       ...took   140.352262 seconds\n",
      "image downsampling       ...took   143.275028 seconds\n",
      "image downsampling       ...took   149.465900 seconds\n",
      "image downsampling       ...took   151.838321 seconds\n",
      "image downsampling       ...took   167.079597 seconds\n",
      "image downsampling       ...took   173.508914 seconds\n",
      "image downsampling       ...took   179.933223 seconds\n",
      "image downsampling       ...took   197.158789 seconds\n",
      "image downsampling       ...took   214.049788 seconds\n",
      "image downsampling       ...took   220.506160 seconds\n",
      "image downsampling       ...took   223.375632 seconds\n",
      "image downsampling       ...took   226.234803 seconds\n",
      "image downsampling       ...took   232.676119 seconds\n",
      "image downsampling       ...took   235.542414 seconds\n",
      "image downsampling       ...took   238.398311 seconds\n",
      "image downsampling       ...took   244.930809 seconds\n",
      "image downsampling       ...took   251.638243 seconds\n",
      "image downsampling       ...took   254.491193 seconds\n",
      "image downsampling       ...took   260.930706 seconds\n",
      "image downsampling       ...took   263.811014 seconds\n",
      "image downsampling       ...took   266.689095 seconds\n",
      "image downsampling       ...took   269.564047 seconds\n",
      "image downsampling       ...took   276.036470 seconds\n",
      "image downsampling       ...took   278.918485 seconds\n",
      "image downsampling       ...took   281.752046 seconds\n",
      "image downsampling       ...took   288.237713 seconds\n",
      "image downsampling       ...took   294.676089 seconds\n",
      "image downsampling       ...took   301.117345 seconds\n",
      "downsample               ...took   301.118640 seconds\n"
     ]
    }
   ],
   "source": [
    "imgs = O.DataHelper.get2D(N = 100, config_num=6, randomize=True, timing=True)\n",
    "downsampled_imgs = O.Normalize.downsample(imgs, output_shape=(64, 64), flatten=True, timing=True)"
   ]
  },
  {
   "cell_type": "code",
   "execution_count": 3,
   "id": "b376126b",
   "metadata": {},
   "outputs": [
    {
     "ename": "TypeError",
     "evalue": "fit() missing 1 required positional argument: 'y'",
     "output_type": "error",
     "traceback": [
      "\u001B[0;31m---------------------------------------------------------------------------\u001B[0m",
      "\u001B[0;31mTypeError\u001B[0m                                 Traceback (most recent call last)",
      "\u001B[0;32m/tmp/ipykernel_2969302/90930901.py\u001B[0m in \u001B[0;36m<module>\u001B[0;34m\u001B[0m\n\u001B[0;32m----> 1\u001B[0;31m \u001B[0mtrain_scoresX\u001B[0m\u001B[0;34m,\u001B[0m \u001B[0mtrain_labelsX\u001B[0m \u001B[0;34m=\u001B[0m \u001B[0mO\u001B[0m\u001B[0;34m.\u001B[0m\u001B[0mOutlierDetector\u001B[0m\u001B[0;34m.\u001B[0m\u001B[0mdetect_outliers\u001B[0m\u001B[0;34m(\u001B[0m\u001B[0mdownsampled_imgs\u001B[0m\u001B[0;34m,\u001B[0m \u001B[0mpyod_algorithm\u001B[0m\u001B[0;34m=\u001B[0m\u001B[0;34m'CD'\u001B[0m\u001B[0;34m)\u001B[0m\u001B[0;34m\u001B[0m\u001B[0;34m\u001B[0m\u001B[0m\n\u001B[0m\u001B[1;32m      2\u001B[0m \u001B[0mO\u001B[0m\u001B[0;34m.\u001B[0m\u001B[0mFeatures\u001B[0m\u001B[0;34m.\u001B[0m\u001B[0mview_image_and_features\u001B[0m\u001B[0;34m(\u001B[0m\u001B[0mimgs\u001B[0m\u001B[0;34m,\u001B[0m \u001B[0;34m[\u001B[0m\u001B[0;34m'downsample'\u001B[0m\u001B[0;34m]\u001B[0m\u001B[0;34m,\u001B[0m \u001B[0mtrain_scores\u001B[0m\u001B[0;34m=\u001B[0m\u001B[0;34m[\u001B[0m\u001B[0mtrain_scoresX\u001B[0m\u001B[0;34m]\u001B[0m\u001B[0;34m)\u001B[0m\u001B[0;34m\u001B[0m\u001B[0;34m\u001B[0m\u001B[0m\n",
      "\u001B[0;32m~/Projects/omama/_EXPERIMENTS/OUTLIER_DETECTION/PYOD_10/DOWNSAMPLED/../../../../omama/outlier_detection/outlier_detector.py\u001B[0m in \u001B[0;36mdetect_outliers\u001B[0;34m(data_x, data_y, pyod_algorithm, activation_hidden, algorithm, alpha, approx_clf, approx_clf_list, approx_flag_global, approx_ng_clf_list, assume_centered, bandwidth, base_estimator, base_estimators, base_score, batch_size, behaviour, beta, booster, bootstrap, bootstrap_features, bps_flag, c, cache_size, capacity, check_detector, check_estimator, clustering_estimator, coef0, colsample_bylevel, colsample_bytree, combination, contamination, copy, cost_forecast_loc_fit, cost_forecast_loc_pred, covariance_type, D_layers, decay, decoder_neurons, degree, dis_measure, dropout_rate, encoder_neurons, epochs, epochs_query, eps, estimator_list, estimator_params, G_layers, gamma, hidden_activation, hidden_neurons, index_D_layer_for_recon_error, init_params, iterated_power, jl_method, kernel, l2_regularizer, latent_dim, latent_dim_G, leaf_size, learning_rate, learning_rate_query, loss, lr_d, lr_g, max_delta_step, max_depth, max_features, max_iter, max_samples, means_init, method, metric, metric_params, min_child_weight, momentum, n_bins, n_clusters, n_components, n_estimators, n_init, n_iter, n_jobs, n_neighbors, n_random_cuts, n_selected_components, novelty, nthread, nu, objective, optimizer, output_activation, p, parallel_execution, perplexity, precisions_init, preprocessing, radius, random_state, ref_set, reg_alpha, reg_covar, reg_lambda, rp_clf_list, rp_ng_clf_list, rp_flag_global, rule_of_thumb, scale_pos_weight, shrinking, silent, standardization, standardization_flag_list, stop_epochs, store_precision, subsample, subset_size, support_fraction, svd_solver, target_dim_frac, tol, use_ae, use_weights, validation_size, verbose, warm_start, weighted, weights_init, whiten, whitening)\u001B[0m\n\u001B[1;32m   1002\u001B[0m \u001B[0;34m\u001B[0m\u001B[0m\n\u001B[1;32m   1003\u001B[0m         \u001B[0;32mif\u001B[0m \u001B[0mdata_y\u001B[0m \u001B[0;32mis\u001B[0m \u001B[0;32mNone\u001B[0m\u001B[0;34m:\u001B[0m\u001B[0;34m\u001B[0m\u001B[0;34m\u001B[0m\u001B[0m\n\u001B[0;32m-> 1004\u001B[0;31m             \u001B[0mclf\u001B[0m\u001B[0;34m.\u001B[0m\u001B[0mfit\u001B[0m\u001B[0;34m(\u001B[0m\u001B[0mdata_x\u001B[0m\u001B[0;34m)\u001B[0m\u001B[0;34m\u001B[0m\u001B[0;34m\u001B[0m\u001B[0m\n\u001B[0m\u001B[1;32m   1005\u001B[0m         \u001B[0;32melse\u001B[0m\u001B[0;34m:\u001B[0m\u001B[0;34m\u001B[0m\u001B[0;34m\u001B[0m\u001B[0m\n\u001B[1;32m   1006\u001B[0m             \u001B[0mclf\u001B[0m\u001B[0;34m.\u001B[0m\u001B[0mfit\u001B[0m\u001B[0;34m(\u001B[0m\u001B[0mdata_x\u001B[0m\u001B[0;34m,\u001B[0m \u001B[0mdata_y\u001B[0m\u001B[0;34m)\u001B[0m\u001B[0;34m\u001B[0m\u001B[0;34m\u001B[0m\u001B[0m\n",
      "\u001B[0;31mTypeError\u001B[0m: fit() missing 1 required positional argument: 'y'"
     ]
    }
   ],
   "source": [
    "train_scoresX, train_labelsX = O.OutlierDetector.detect_outliers(downsampled_imgs, pyod_algorithm='CD')\n",
    "O.Features.view_image_and_features(imgs, ['downsample'], train_scores=[train_scoresX])"
   ]
  },
  {
   "cell_type": "code",
   "execution_count": null,
   "id": "ee5a7823",
   "metadata": {},
   "outputs": [],
   "source": []
  }
 ],
 "metadata": {
  "kernelspec": {
   "display_name": "Python 3 (ipykernel)",
   "language": "python",
   "name": "python3"
  },
  "language_info": {
   "codemirror_mode": {
    "name": "ipython",
    "version": 3
   },
   "file_extension": ".py",
   "mimetype": "text/x-python",
   "name": "python",
   "nbconvert_exporter": "python",
   "pygments_lexer": "ipython3",
   "version": "3.9.7"
  }
 },
 "nbformat": 4,
 "nbformat_minor": 5
}
