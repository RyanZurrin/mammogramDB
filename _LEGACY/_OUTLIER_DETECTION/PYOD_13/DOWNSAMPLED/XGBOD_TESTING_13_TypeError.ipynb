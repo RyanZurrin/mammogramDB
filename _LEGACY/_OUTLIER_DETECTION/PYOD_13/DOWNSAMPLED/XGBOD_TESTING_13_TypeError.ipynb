{
 "cells": [
  {
   "cell_type": "markdown",
   "id": "d0adee30",
   "metadata": {},
   "source": [
    "# XGBOD - Improving Supervised Outlier Detection with Unsupervised Representation Learning. A semi-supervised outlier detection framework.\n",
    "### XGBOD class for outlier detection. It first uses the passed in unsupervised outlier detectors to extract richer representation of the data and then concatenates the newly generated features to the original feature for constructing the augmented feature space. An XGBoost classifier is then applied on this augmented feature space. \n",
    "Source: https://pyod.readthedocs.io/en/latest/pyod.models.html#module-pyod.models.xgbod"
   ]
  },
  {
   "cell_type": "markdown",
   "id": "51813d2e",
   "metadata": {},
   "source": [
    "### Arguments that work with XGBOD algorithm:\n",
    "1. X\n",
    "2. Y"
   ]
  },
  {
   "cell_type": "code",
   "execution_count": 1,
   "id": "1aa4da19",
   "metadata": {},
   "outputs": [
    {
     "name": "stdout",
     "output_type": "stream",
     "text": [
      "Populating the interactive namespace from numpy and matplotlib\n"
     ]
    }
   ],
   "source": [
    "%pylab inline\n",
    "%load_ext autoreload\n",
    "%autoreload 2\n",
    "import sys\n",
    "import time\n",
    "sys.path.insert(0,'../../../..')\n",
    "import omama as O"
   ]
  },
  {
   "cell_type": "code",
   "execution_count": 2,
   "id": "b5fa73c4",
   "metadata": {
    "scrolled": true
   },
   "outputs": [
    {
     "name": "stdout",
     "output_type": "stream",
     "text": [
      "get2D                    ...took   231.477348 seconds\n",
      "image downsampling       ...took     7.733478 seconds\n",
      "image downsampling       ...took    10.841355 seconds\n",
      "image downsampling       ...took    16.582113 seconds\n",
      "image downsampling       ...took    21.955897 seconds\n",
      "image downsampling       ...took    36.047027 seconds\n",
      "image downsampling       ...took    41.407710 seconds\n",
      "image downsampling       ...took    43.800677 seconds\n",
      "image downsampling       ...took    49.150343 seconds\n",
      "image downsampling       ...took    51.551768 seconds\n",
      "image downsampling       ...took    54.157568 seconds\n",
      "image downsampling       ...took    56.540276 seconds\n",
      "image downsampling       ...took    58.931505 seconds\n",
      "image downsampling       ...took    64.293139 seconds\n",
      "image downsampling       ...took    66.728841 seconds\n",
      "image downsampling       ...took    72.044477 seconds\n",
      "image downsampling       ...took    74.440831 seconds\n",
      "image downsampling       ...took    79.807958 seconds\n",
      "image downsampling       ...took    85.191787 seconds\n",
      "image downsampling       ...took    87.573070 seconds\n",
      "image downsampling       ...took    89.984197 seconds\n",
      "image downsampling       ...took    97.132955 seconds\n",
      "image downsampling       ...took   102.503895 seconds\n",
      "image downsampling       ...took   104.883222 seconds\n",
      "image downsampling       ...took   110.432235 seconds\n",
      "image downsampling       ...took   124.479527 seconds\n",
      "image downsampling       ...took   126.848828 seconds\n",
      "image downsampling       ...took   132.156300 seconds\n",
      "image downsampling       ...took   137.505671 seconds\n",
      "image downsampling       ...took   142.841613 seconds\n",
      "image downsampling       ...took   148.177890 seconds\n",
      "image downsampling       ...took   150.566003 seconds\n",
      "image downsampling       ...took   155.892640 seconds\n",
      "image downsampling       ...took   158.294325 seconds\n",
      "image downsampling       ...took   160.847494 seconds\n",
      "image downsampling       ...took   163.244061 seconds\n",
      "image downsampling       ...took   165.631281 seconds\n",
      "image downsampling       ...took   168.019255 seconds\n",
      "image downsampling       ...took   170.377270 seconds\n",
      "image downsampling       ...took   175.729704 seconds\n",
      "image downsampling       ...took   178.112456 seconds\n",
      "image downsampling       ...took   180.488881 seconds\n",
      "image downsampling       ...took   182.870492 seconds\n",
      "image downsampling       ...took   189.997406 seconds\n",
      "image downsampling       ...took   195.359700 seconds\n",
      "image downsampling       ...took   197.771207 seconds\n",
      "image downsampling       ...took   200.125394 seconds\n",
      "image downsampling       ...took   205.478661 seconds\n",
      "image downsampling       ...took   207.892855 seconds\n",
      "image downsampling       ...took   210.446423 seconds\n",
      "image downsampling       ...took   212.900563 seconds\n",
      "image downsampling       ...took   218.289713 seconds\n",
      "image downsampling       ...took   223.639836 seconds\n",
      "image downsampling       ...took   230.854176 seconds\n",
      "image downsampling       ...took   236.211825 seconds\n",
      "image downsampling       ...took   250.237214 seconds\n",
      "image downsampling       ...took   252.654777 seconds\n",
      "image downsampling       ...took   255.010577 seconds\n",
      "image downsampling       ...took   260.638155 seconds\n",
      "image downsampling       ...took   265.963392 seconds\n",
      "image downsampling       ...took   268.356052 seconds\n",
      "image downsampling       ...took   273.699866 seconds\n",
      "image downsampling       ...took   287.771926 seconds\n",
      "image downsampling       ...took   290.154932 seconds\n",
      "image downsampling       ...took   292.557043 seconds\n",
      "image downsampling       ...took   294.938148 seconds\n",
      "image downsampling       ...took   300.258457 seconds\n",
      "image downsampling       ...took   302.640525 seconds\n",
      "image downsampling       ...took   316.837215 seconds\n",
      "image downsampling       ...took   319.236848 seconds\n",
      "image downsampling       ...took   321.593844 seconds\n",
      "image downsampling       ...took   326.922910 seconds\n",
      "image downsampling       ...took   332.278229 seconds\n",
      "image downsampling       ...took   337.646777 seconds\n",
      "image downsampling       ...took   340.054598 seconds\n",
      "image downsampling       ...took   342.427130 seconds\n",
      "image downsampling       ...took   344.804109 seconds\n",
      "image downsampling       ...took   350.185515 seconds\n",
      "image downsampling       ...took   352.574648 seconds\n",
      "image downsampling       ...took   366.847387 seconds\n",
      "image downsampling       ...took   372.204787 seconds\n",
      "image downsampling       ...took   377.525874 seconds\n",
      "image downsampling       ...took   379.924845 seconds\n",
      "image downsampling       ...took   385.269707 seconds\n",
      "image downsampling       ...took   390.612874 seconds\n",
      "image downsampling       ...took   393.000558 seconds\n",
      "image downsampling       ...took   398.352237 seconds\n",
      "image downsampling       ...took   403.729287 seconds\n",
      "image downsampling       ...took   406.126670 seconds\n",
      "image downsampling       ...took   408.493274 seconds\n",
      "image downsampling       ...took   413.812028 seconds\n",
      "image downsampling       ...took   416.195071 seconds\n",
      "image downsampling       ...took   421.816478 seconds\n",
      "image downsampling       ...took   424.179613 seconds\n",
      "image downsampling       ...took   429.569780 seconds\n",
      "image downsampling       ...took   431.935018 seconds\n",
      "image downsampling       ...took   437.363883 seconds\n",
      "image downsampling       ...took   442.722211 seconds\n",
      "image downsampling       ...took   448.087225 seconds\n",
      "image downsampling       ...took   450.529073 seconds\n",
      "image downsampling       ...took   455.941715 seconds\n",
      "downsample               ...took   455.943088 seconds\n"
     ]
    }
   ],
   "source": [
    "imgs = O.DataHelper.get2D(N = 100, config_num=6, randomize=True, timing=True)\n",
    "downsampled_imgs = O.Normalize.downsample(imgs, output_shape=(64, 64), flatten=True, timing=True)"
   ]
  },
  {
   "cell_type": "code",
   "execution_count": 3,
   "id": "b376126b",
   "metadata": {},
   "outputs": [
    {
     "ename": "TypeError",
     "evalue": "fit() missing 1 required positional argument: 'y'",
     "output_type": "error",
     "traceback": [
      "\u001B[0;31m---------------------------------------------------------------------------\u001B[0m",
      "\u001B[0;31mTypeError\u001B[0m                                 Traceback (most recent call last)",
      "\u001B[0;32m/tmp/ipykernel_2970967/404411311.py\u001B[0m in \u001B[0;36m<module>\u001B[0;34m\u001B[0m\n\u001B[0;32m----> 1\u001B[0;31m \u001B[0mtrain_scoresX\u001B[0m\u001B[0;34m,\u001B[0m \u001B[0mtrain_labelsX\u001B[0m \u001B[0;34m=\u001B[0m \u001B[0mO\u001B[0m\u001B[0;34m.\u001B[0m\u001B[0mOutlierDetector\u001B[0m\u001B[0;34m.\u001B[0m\u001B[0mdetect_outliers\u001B[0m\u001B[0;34m(\u001B[0m\u001B[0mdownsampled_imgs\u001B[0m\u001B[0;34m,\u001B[0m \u001B[0mpyod_algorithm\u001B[0m\u001B[0;34m=\u001B[0m\u001B[0;34m'XGBOD'\u001B[0m\u001B[0;34m)\u001B[0m\u001B[0;34m\u001B[0m\u001B[0;34m\u001B[0m\u001B[0m\n\u001B[0m\u001B[1;32m      2\u001B[0m \u001B[0mO\u001B[0m\u001B[0;34m.\u001B[0m\u001B[0mFeatures\u001B[0m\u001B[0;34m.\u001B[0m\u001B[0mview_image_and_features\u001B[0m\u001B[0;34m(\u001B[0m\u001B[0mimgs\u001B[0m\u001B[0;34m,\u001B[0m \u001B[0;34m[\u001B[0m\u001B[0;34m'downsample'\u001B[0m\u001B[0;34m]\u001B[0m\u001B[0;34m,\u001B[0m \u001B[0mtrain_scores\u001B[0m\u001B[0;34m=\u001B[0m\u001B[0;34m[\u001B[0m\u001B[0mtrain_scoresX\u001B[0m\u001B[0;34m]\u001B[0m\u001B[0;34m)\u001B[0m\u001B[0;34m\u001B[0m\u001B[0;34m\u001B[0m\u001B[0m\n",
      "\u001B[0;32m~/Projects/omama/_EXPERIMENTS/OUTLIER_DETECTION/PYOD_10/DOWNSAMPLED/../../../../omama/outlier_detection/outlier_detector.py\u001B[0m in \u001B[0;36mdetect_outliers\u001B[0;34m(data_x, data_y, pyod_algorithm, activation_hidden, algorithm, alpha, approx_clf, approx_clf_list, approx_flag_global, approx_ng_clf_list, assume_centered, bandwidth, base_estimator, base_estimators, base_score, batch_size, behaviour, beta, booster, bootstrap, bootstrap_features, bps_flag, c, cache_size, capacity, check_detector, check_estimator, clustering_estimator, coef0, colsample_bylevel, colsample_bytree, combination, contamination, copy, cost_forecast_loc_fit, cost_forecast_loc_pred, covariance_type, D_layers, decay, decoder_neurons, degree, dis_measure, dropout_rate, encoder_neurons, epochs, epochs_query, eps, estimator_list, estimator_params, G_layers, gamma, hidden_activation, hidden_neurons, index_D_layer_for_recon_error, init_params, iterated_power, jl_method, kernel, l2_regularizer, latent_dim, latent_dim_G, leaf_size, learning_rate, learning_rate_query, loss, lr_d, lr_g, max_delta_step, max_depth, max_features, max_iter, max_samples, means_init, method, metric, metric_params, min_child_weight, momentum, n_bins, n_clusters, n_components, n_estimators, n_init, n_iter, n_jobs, n_neighbors, n_random_cuts, n_selected_components, novelty, nthread, nu, objective, optimizer, output_activation, p, parallel_execution, perplexity, precisions_init, preprocessing, radius, random_state, ref_set, reg_alpha, reg_covar, reg_lambda, rp_clf_list, rp_ng_clf_list, rp_flag_global, rule_of_thumb, scale_pos_weight, shrinking, silent, standardization, standardization_flag_list, stop_epochs, store_precision, subsample, subset_size, support_fraction, svd_solver, target_dim_frac, tol, use_ae, use_weights, validation_size, verbose, warm_start, weighted, weights_init, whiten, whitening)\u001B[0m\n\u001B[1;32m   1002\u001B[0m \u001B[0;34m\u001B[0m\u001B[0m\n\u001B[1;32m   1003\u001B[0m         \u001B[0;32mif\u001B[0m \u001B[0mdata_y\u001B[0m \u001B[0;32mis\u001B[0m \u001B[0;32mNone\u001B[0m\u001B[0;34m:\u001B[0m\u001B[0;34m\u001B[0m\u001B[0;34m\u001B[0m\u001B[0m\n\u001B[0;32m-> 1004\u001B[0;31m             \u001B[0mclf\u001B[0m\u001B[0;34m.\u001B[0m\u001B[0mfit\u001B[0m\u001B[0;34m(\u001B[0m\u001B[0mdata_x\u001B[0m\u001B[0;34m)\u001B[0m\u001B[0;34m\u001B[0m\u001B[0;34m\u001B[0m\u001B[0m\n\u001B[0m\u001B[1;32m   1005\u001B[0m         \u001B[0;32melse\u001B[0m\u001B[0;34m:\u001B[0m\u001B[0;34m\u001B[0m\u001B[0;34m\u001B[0m\u001B[0m\n\u001B[1;32m   1006\u001B[0m             \u001B[0mclf\u001B[0m\u001B[0;34m.\u001B[0m\u001B[0mfit\u001B[0m\u001B[0;34m(\u001B[0m\u001B[0mdata_x\u001B[0m\u001B[0;34m,\u001B[0m \u001B[0mdata_y\u001B[0m\u001B[0;34m)\u001B[0m\u001B[0;34m\u001B[0m\u001B[0;34m\u001B[0m\u001B[0m\n",
      "\u001B[0;31mTypeError\u001B[0m: fit() missing 1 required positional argument: 'y'"
     ]
    }
   ],
   "source": [
    "train_scoresX, train_labelsX = O.OutlierDetector.detect_outliers(downsampled_imgs, pyod_algorithm='XGBOD')\n",
    "O.Features.view_image_and_features(imgs, ['downsample'], train_scores=[train_scoresX])"
   ]
  },
  {
   "cell_type": "code",
   "execution_count": null,
   "id": "ee5a7823",
   "metadata": {},
   "outputs": [],
   "source": []
  }
 ],
 "metadata": {
  "kernelspec": {
   "display_name": "Python 3 (ipykernel)",
   "language": "python",
   "name": "python3"
  },
  "language_info": {
   "codemirror_mode": {
    "name": "ipython",
    "version": 3
   },
   "file_extension": ".py",
   "mimetype": "text/x-python",
   "name": "python",
   "nbconvert_exporter": "python",
   "pygments_lexer": "ipython3",
   "version": "3.9.7"
  }
 },
 "nbformat": 4,
 "nbformat_minor": 5
}
