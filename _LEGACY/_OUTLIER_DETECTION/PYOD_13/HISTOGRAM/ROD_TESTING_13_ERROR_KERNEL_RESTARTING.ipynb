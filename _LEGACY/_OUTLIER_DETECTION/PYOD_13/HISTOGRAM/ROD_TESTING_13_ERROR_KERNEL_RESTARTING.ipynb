{
 "cells": [
  {
   "cell_type": "markdown",
   "id": "25f0705b",
   "metadata": {},
   "source": [
    "# ROD - Rotation-based Outlier Detector\n",
    "### Rotation-based Outlier Detection (ROD), is a robust and parameter-free algorithm that requires no statistical distribution assumptions and works intuitively in three-dimensional space, where the 3D-vectors, representing the data points, are rotated about the geometric median two times counterclockwise using Rodrigues rotation formula. The results of the rotation are parallelepipeds where their volumes are mathematically analyzed as cost functions and used to calculate the Median Absolute Deviations to obtain the outlying score. For high dimensions > 3, the overall score is calculated by taking the average of the overall 3D-subspaces scores, that were resulted from decomposing the original data space.\n",
    "Source: https://pyod.readthedocs.io/en/latest/pyod.models.html#module-pyod.models.rod"
   ]
  },
  {
   "cell_type": "markdown",
   "id": "42aeeaf6",
   "metadata": {},
   "source": [
    "### Arguments that work with XXXX algorithm:\n",
    "1. contamination\n",
    "2. parallel_execution"
   ]
  },
  {
   "cell_type": "code",
   "execution_count": null,
   "id": "0b98be67",
   "metadata": {},
   "outputs": [],
   "source": [
    "%pylab inline\n",
    "%load_ext autoreload\n",
    "%autoreload 2\n",
    "import sys\n",
    "import time\n",
    "sys.path.insert(0,'../../../..')\n",
    "import omama as O"
   ]
  },
  {
   "cell_type": "code",
   "execution_count": null,
   "id": "e8d1cbc8",
   "metadata": {
    "scrolled": true
   },
   "outputs": [],
   "source": [
    "imgs = O.DataHelper.get2D(N = 100, config_num=6, randomize=True, timing=True)\n",
    "downsampled_imgs = O.Normalize.downsample(imgs, output_shape=(64, 64), flatten=True, timing=True)"
   ]
  },
  {
   "cell_type": "code",
   "execution_count": null,
   "id": "15955aea",
   "metadata": {},
   "outputs": [],
   "source": [
    "train_scoresX, train_labelsX = O.OutlierDetector.detect_outliers(downsampled_imgs, pyod_algorithm='ROD')\n",
    "O.Features.view_image_and_features(imgs, ['downsample'], train_scores=[train_scoresX])"
   ]
  },
  {
   "cell_type": "code",
   "execution_count": null,
   "id": "0e1e1b10",
   "metadata": {},
   "outputs": [],
   "source": []
  }
 ],
 "metadata": {
  "kernelspec": {
   "display_name": "Python 3 (ipykernel)",
   "language": "python",
   "name": "python3"
  },
  "language_info": {
   "codemirror_mode": {
    "name": "ipython",
    "version": 3
   },
   "file_extension": ".py",
   "mimetype": "text/x-python",
   "name": "python",
   "nbconvert_exporter": "python",
   "pygments_lexer": "ipython3",
   "version": "3.9.7"
  }
 },
 "nbformat": 4,
 "nbformat_minor": 5
}
