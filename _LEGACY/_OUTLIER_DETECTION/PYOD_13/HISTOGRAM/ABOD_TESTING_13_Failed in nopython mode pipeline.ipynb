{
 "cells": [
  {
   "cell_type": "markdown",
   "id": "d0adee30",
   "metadata": {},
   "source": [
    "# ABOD - Angle-based Outlier Detector\n",
    "### ABOD class for Angle-base Outlier Detection. For an observation, the variance of its weighted cosine scores to all neighbors could be viewed as the outlying score\n",
    "Source: https://pyod.readthedocs.io/en/latest/pyod.models.html#module-pyod.models.abod"
   ]
  },
  {
   "cell_type": "markdown",
   "id": "51813d2e",
   "metadata": {},
   "source": [
    "### Arguments that work with ABOD algorithm:\n",
    "1. contamination\n",
    "2. n_neighbors\n",
    "3. method"
   ]
  },
  {
   "cell_type": "code",
   "execution_count": 1,
   "id": "1aa4da19",
   "metadata": {},
   "outputs": [
    {
     "name": "stdout",
     "output_type": "stream",
     "text": [
      "Populating the interactive namespace from numpy and matplotlib\n"
     ]
    }
   ],
   "source": [
    "%pylab inline\n",
    "%load_ext autoreload\n",
    "%autoreload 2\n",
    "import sys\n",
    "import time\n",
    "sys.path.insert(0,'../../../..')\n",
    "import omama as O"
   ]
  },
  {
   "cell_type": "code",
   "execution_count": 2,
   "id": "b5fa73c4",
   "metadata": {
    "scrolled": true
   },
   "outputs": [
    {
     "name": "stdout",
     "output_type": "stream",
     "text": [
      "get2D                    ...took    40.981104 seconds\n"
     ]
    }
   ],
   "source": [
    "imgs = O.DataHelper.get2D(N = 100, config_num=6, randomize=True, timing=True)\n",
    "feature_imgs = O.Features.get_features(imgs, feature_type=\"hist\", norm_type=\"minmax\")"
   ]
  },
  {
   "cell_type": "code",
   "execution_count": 3,
   "id": "b376126b",
   "metadata": {},
   "outputs": [
    {
     "name": "stdout",
     "output_type": "stream",
     "text": [
      "In ABOD algorithm\n"
     ]
    },
    {
     "ename": "TypingError",
     "evalue": "Failed in nopython mode pipeline (step: nopython frontend)\nNo implementation of function Function(<function dot at 0x7f95e80374c0>) found for signature:\n \n >>> dot(array(uint32, 1d, C), array(uint32, 1d, C))\n \nThere are 4 candidate implementations:\n  - Of which 4 did not match due to:\n  Overload in function '_OverloadWrapper._build.<locals>.ol_generated': File: numba/core/overload_glue.py: Line 131.\n    With argument(s): '(array(uint32, 1d, C), array(uint32, 1d, C))':\n   Rejected as the implementation raised a specific error:\n     TypingError: Failed in nopython mode pipeline (step: nopython frontend)\n   No implementation of function Function(<intrinsic stub>) found for signature:\n    \n    >>> stub(array(uint32, 1d, C), array(uint32, 1d, C))\n    \n   There are 2 candidate implementations:\n     - Of which 2 did not match due to:\n     Intrinsic in function 'stub': File: numba/core/overload_glue.py: Line 35.\n       With argument(s): '(array(uint32, 1d, C), array(uint32, 1d, C))':\n      Rejected as the implementation raised a specific error:\n        TypingError: np.dot() only supported on float and complex arrays\n     raised from /home/ryan.zurrin001/miniconda3/envs/O/lib/python3.9/site-packages/numba/core/typing/npydecl.py:970\n   \n   During: resolving callee type: Function(<intrinsic stub>)\n   During: typing of call at <string> (3)\n   \n   \n   File \"<string>\", line 3:\n   <source missing, REPL/exec in use?>\n\n  raised from /home/ryan.zurrin001/miniconda3/envs/O/lib/python3.9/site-packages/numba/core/typeinfer.py:1086\n\nDuring: resolving callee type: Function(<function dot at 0x7f95e80374c0>)\nDuring: typing of call at /home/ryan.zurrin001/miniconda3/envs/O/lib/python3.9/site-packages/pyod/models/abod.py (50)\n\n\nFile \"../../../../../../miniconda3/envs/O/lib/python3.9/site-packages/pyod/models/abod.py\", line 50:\ndef _wcos(curr_pt, a, b):  # pragma: no cover\n    <source elided>\n    # wcos = (<a_curr, b_curr>/((|a_curr|*|b_curr|)^2)\n    wcos = np.dot(a_curr, b_curr) / (\n    ^\n",
     "output_type": "error",
     "traceback": [
      "\u001B[0;31m---------------------------------------------------------------------------\u001B[0m",
      "\u001B[0;31mTypingError\u001B[0m                               Traceback (most recent call last)",
      "\u001B[0;32m/tmp/ipykernel_2241106/3647129212.py\u001B[0m in \u001B[0;36m<module>\u001B[0;34m\u001B[0m\n\u001B[0;32m----> 1\u001B[0;31m \u001B[0mtrain_scoresX\u001B[0m\u001B[0;34m,\u001B[0m \u001B[0mtrain_labelsX\u001B[0m \u001B[0;34m=\u001B[0m \u001B[0mO\u001B[0m\u001B[0;34m.\u001B[0m\u001B[0mOutlierDetector\u001B[0m\u001B[0;34m.\u001B[0m\u001B[0mdetect_outliers\u001B[0m\u001B[0;34m(\u001B[0m\u001B[0mfeature_imgs\u001B[0m\u001B[0;34m,\u001B[0m \u001B[0mpyod_algorithm\u001B[0m\u001B[0;34m=\u001B[0m\u001B[0;34m'ABOD'\u001B[0m\u001B[0;34m)\u001B[0m\u001B[0;34m\u001B[0m\u001B[0;34m\u001B[0m\u001B[0m\n\u001B[0m\u001B[1;32m      2\u001B[0m \u001B[0mO\u001B[0m\u001B[0;34m.\u001B[0m\u001B[0mFeatures\u001B[0m\u001B[0;34m.\u001B[0m\u001B[0mview_image_and_features\u001B[0m\u001B[0;34m(\u001B[0m\u001B[0mimgs\u001B[0m\u001B[0;34m,\u001B[0m \u001B[0;34m[\u001B[0m\u001B[0;34m'hist'\u001B[0m\u001B[0;34m]\u001B[0m\u001B[0;34m,\u001B[0m \u001B[0mtrain_scores\u001B[0m\u001B[0;34m=\u001B[0m\u001B[0;34m[\u001B[0m\u001B[0mtrain_scoresX\u001B[0m\u001B[0;34m]\u001B[0m\u001B[0;34m)\u001B[0m\u001B[0;34m\u001B[0m\u001B[0;34m\u001B[0m\u001B[0m\n",
      "\u001B[0;32m~/Projects/omama/_EXPERIMENTS/OUTLIER_DETECTION/PYOD_13/HISTOGRAM/../../../../omama/outlier_detection/outlier_detector.py\u001B[0m in \u001B[0;36mdetect_outliers\u001B[0;34m(data_x, pyod_algorithm, **kwargs)\u001B[0m\n\u001B[1;32m    980\u001B[0m             \u001B[0;32mraise\u001B[0m \u001B[0mValueError\u001B[0m\u001B[0;34m(\u001B[0m\u001B[0;34m'Algorithm not supported'\u001B[0m\u001B[0;34m)\u001B[0m\u001B[0;34m\u001B[0m\u001B[0;34m\u001B[0m\u001B[0m\n\u001B[1;32m    981\u001B[0m \u001B[0;34m\u001B[0m\u001B[0m\n\u001B[0;32m--> 982\u001B[0;31m         \u001B[0mclf\u001B[0m\u001B[0;34m.\u001B[0m\u001B[0mfit\u001B[0m\u001B[0;34m(\u001B[0m\u001B[0mdata_x\u001B[0m\u001B[0;34m)\u001B[0m\u001B[0;34m\u001B[0m\u001B[0;34m\u001B[0m\u001B[0m\n\u001B[0m\u001B[1;32m    983\u001B[0m \u001B[0;34m\u001B[0m\u001B[0m\n\u001B[1;32m    984\u001B[0m         \u001B[0;32mreturn\u001B[0m \u001B[0mclf\u001B[0m\u001B[0;34m.\u001B[0m\u001B[0mdecision_scores_\u001B[0m\u001B[0;34m,\u001B[0m \u001B[0mclf\u001B[0m\u001B[0;34m.\u001B[0m\u001B[0mlabels_\u001B[0m\u001B[0;34m\u001B[0m\u001B[0;34m\u001B[0m\u001B[0m\n",
      "\u001B[0;32m~/miniconda3/envs/O/lib/python3.9/site-packages/pyod/models/abod.py\u001B[0m in \u001B[0;36mfit\u001B[0;34m(self, X, y)\u001B[0m\n\u001B[1;32m    169\u001B[0m \u001B[0;34m\u001B[0m\u001B[0m\n\u001B[1;32m    170\u001B[0m         \u001B[0;32mif\u001B[0m \u001B[0mself\u001B[0m\u001B[0;34m.\u001B[0m\u001B[0mmethod\u001B[0m \u001B[0;34m==\u001B[0m \u001B[0;34m'fast'\u001B[0m\u001B[0;34m:\u001B[0m\u001B[0;34m\u001B[0m\u001B[0;34m\u001B[0m\u001B[0m\n\u001B[0;32m--> 171\u001B[0;31m             \u001B[0mself\u001B[0m\u001B[0;34m.\u001B[0m\u001B[0m_fit_fast\u001B[0m\u001B[0;34m(\u001B[0m\u001B[0;34m)\u001B[0m\u001B[0;34m\u001B[0m\u001B[0;34m\u001B[0m\u001B[0m\n\u001B[0m\u001B[1;32m    172\u001B[0m         \u001B[0;32melif\u001B[0m \u001B[0mself\u001B[0m\u001B[0;34m.\u001B[0m\u001B[0mmethod\u001B[0m \u001B[0;34m==\u001B[0m \u001B[0;34m'default'\u001B[0m\u001B[0;34m:\u001B[0m\u001B[0;34m\u001B[0m\u001B[0;34m\u001B[0m\u001B[0m\n\u001B[1;32m    173\u001B[0m             \u001B[0mself\u001B[0m\u001B[0;34m.\u001B[0m\u001B[0m_fit_default\u001B[0m\u001B[0;34m(\u001B[0m\u001B[0;34m)\u001B[0m\u001B[0;34m\u001B[0m\u001B[0;34m\u001B[0m\u001B[0m\n",
      "\u001B[0;32m~/miniconda3/envs/O/lib/python3.9/site-packages/pyod/models/abod.py\u001B[0m in \u001B[0;36m_fit_fast\u001B[0;34m(self)\u001B[0m\n\u001B[1;32m    220\u001B[0m             \u001B[0mcurr_pt\u001B[0m \u001B[0;34m=\u001B[0m \u001B[0mself\u001B[0m\u001B[0;34m.\u001B[0m\u001B[0mX_train_\u001B[0m\u001B[0;34m[\u001B[0m\u001B[0mi\u001B[0m\u001B[0;34m,\u001B[0m \u001B[0;34m:\u001B[0m\u001B[0;34m]\u001B[0m\u001B[0;34m\u001B[0m\u001B[0;34m\u001B[0m\u001B[0m\n\u001B[1;32m    221\u001B[0m             \u001B[0mX_ind\u001B[0m \u001B[0;34m=\u001B[0m \u001B[0mind_arr\u001B[0m\u001B[0;34m[\u001B[0m\u001B[0mi\u001B[0m\u001B[0;34m,\u001B[0m \u001B[0;34m:\u001B[0m\u001B[0;34m]\u001B[0m\u001B[0;34m\u001B[0m\u001B[0;34m\u001B[0m\u001B[0m\n\u001B[0;32m--> 222\u001B[0;31m             self.decision_scores_[i, 0] = _calculate_wocs(curr_pt,\n\u001B[0m\u001B[1;32m    223\u001B[0m                                                           \u001B[0mself\u001B[0m\u001B[0;34m.\u001B[0m\u001B[0mX_train_\u001B[0m\u001B[0;34m,\u001B[0m\u001B[0;34m\u001B[0m\u001B[0;34m\u001B[0m\u001B[0m\n\u001B[1;32m    224\u001B[0m                                                           X_ind)\n",
      "\u001B[0;32m~/miniconda3/envs/O/lib/python3.9/site-packages/pyod/models/abod.py\u001B[0m in \u001B[0;36m_calculate_wocs\u001B[0;34m(curr_pt, X, X_ind)\u001B[0m\n\u001B[1;32m     85\u001B[0m             \u001B[0;32mcontinue\u001B[0m\u001B[0;34m\u001B[0m\u001B[0;34m\u001B[0m\u001B[0m\n\u001B[1;32m     86\u001B[0m         \u001B[0;31m# add the weighted cosine to the list\u001B[0m\u001B[0;34m\u001B[0m\u001B[0;34m\u001B[0m\u001B[0m\n\u001B[0;32m---> 87\u001B[0;31m         \u001B[0mwcos_list\u001B[0m\u001B[0;34m.\u001B[0m\u001B[0mappend\u001B[0m\u001B[0;34m(\u001B[0m\u001B[0m_wcos\u001B[0m\u001B[0;34m(\u001B[0m\u001B[0mcurr_pt\u001B[0m\u001B[0;34m,\u001B[0m \u001B[0ma\u001B[0m\u001B[0;34m,\u001B[0m \u001B[0mb\u001B[0m\u001B[0;34m)\u001B[0m\u001B[0;34m)\u001B[0m\u001B[0;34m\u001B[0m\u001B[0;34m\u001B[0m\u001B[0m\n\u001B[0m\u001B[1;32m     88\u001B[0m     \u001B[0;32mreturn\u001B[0m \u001B[0mnp\u001B[0m\u001B[0;34m.\u001B[0m\u001B[0mvar\u001B[0m\u001B[0;34m(\u001B[0m\u001B[0mwcos_list\u001B[0m\u001B[0;34m)\u001B[0m\u001B[0;34m\u001B[0m\u001B[0;34m\u001B[0m\u001B[0m\n\u001B[1;32m     89\u001B[0m \u001B[0;34m\u001B[0m\u001B[0m\n",
      "\u001B[0;32m~/miniconda3/envs/O/lib/python3.9/site-packages/numba/core/dispatcher.py\u001B[0m in \u001B[0;36m_compile_for_args\u001B[0;34m(self, *args, **kws)\u001B[0m\n\u001B[1;32m    466\u001B[0m                 \u001B[0me\u001B[0m\u001B[0;34m.\u001B[0m\u001B[0mpatch_message\u001B[0m\u001B[0;34m(\u001B[0m\u001B[0mmsg\u001B[0m\u001B[0;34m)\u001B[0m\u001B[0;34m\u001B[0m\u001B[0;34m\u001B[0m\u001B[0m\n\u001B[1;32m    467\u001B[0m \u001B[0;34m\u001B[0m\u001B[0m\n\u001B[0;32m--> 468\u001B[0;31m             \u001B[0merror_rewrite\u001B[0m\u001B[0;34m(\u001B[0m\u001B[0me\u001B[0m\u001B[0;34m,\u001B[0m \u001B[0;34m'typing'\u001B[0m\u001B[0;34m)\u001B[0m\u001B[0;34m\u001B[0m\u001B[0;34m\u001B[0m\u001B[0m\n\u001B[0m\u001B[1;32m    469\u001B[0m         \u001B[0;32mexcept\u001B[0m \u001B[0merrors\u001B[0m\u001B[0;34m.\u001B[0m\u001B[0mUnsupportedError\u001B[0m \u001B[0;32mas\u001B[0m \u001B[0me\u001B[0m\u001B[0;34m:\u001B[0m\u001B[0;34m\u001B[0m\u001B[0;34m\u001B[0m\u001B[0m\n\u001B[1;32m    470\u001B[0m             \u001B[0;31m# Something unsupported is present in the user code, add help info\u001B[0m\u001B[0;34m\u001B[0m\u001B[0;34m\u001B[0m\u001B[0m\n",
      "\u001B[0;32m~/miniconda3/envs/O/lib/python3.9/site-packages/numba/core/dispatcher.py\u001B[0m in \u001B[0;36merror_rewrite\u001B[0;34m(e, issue_type)\u001B[0m\n\u001B[1;32m    407\u001B[0m                 \u001B[0;32mraise\u001B[0m \u001B[0me\u001B[0m\u001B[0;34m\u001B[0m\u001B[0;34m\u001B[0m\u001B[0m\n\u001B[1;32m    408\u001B[0m             \u001B[0;32melse\u001B[0m\u001B[0;34m:\u001B[0m\u001B[0;34m\u001B[0m\u001B[0;34m\u001B[0m\u001B[0m\n\u001B[0;32m--> 409\u001B[0;31m                 \u001B[0;32mraise\u001B[0m \u001B[0me\u001B[0m\u001B[0;34m.\u001B[0m\u001B[0mwith_traceback\u001B[0m\u001B[0;34m(\u001B[0m\u001B[0;32mNone\u001B[0m\u001B[0;34m)\u001B[0m\u001B[0;34m\u001B[0m\u001B[0;34m\u001B[0m\u001B[0m\n\u001B[0m\u001B[1;32m    410\u001B[0m \u001B[0;34m\u001B[0m\u001B[0m\n\u001B[1;32m    411\u001B[0m         \u001B[0margtypes\u001B[0m \u001B[0;34m=\u001B[0m \u001B[0;34m[\u001B[0m\u001B[0;34m]\u001B[0m\u001B[0;34m\u001B[0m\u001B[0;34m\u001B[0m\u001B[0m\n",
      "\u001B[0;31mTypingError\u001B[0m: Failed in nopython mode pipeline (step: nopython frontend)\nNo implementation of function Function(<function dot at 0x7f95e80374c0>) found for signature:\n \n >>> dot(array(uint32, 1d, C), array(uint32, 1d, C))\n \nThere are 4 candidate implementations:\n  - Of which 4 did not match due to:\n  Overload in function '_OverloadWrapper._build.<locals>.ol_generated': File: numba/core/overload_glue.py: Line 131.\n    With argument(s): '(array(uint32, 1d, C), array(uint32, 1d, C))':\n   Rejected as the implementation raised a specific error:\n     TypingError: Failed in nopython mode pipeline (step: nopython frontend)\n   No implementation of function Function(<intrinsic stub>) found for signature:\n    \n    >>> stub(array(uint32, 1d, C), array(uint32, 1d, C))\n    \n   There are 2 candidate implementations:\n     - Of which 2 did not match due to:\n     Intrinsic in function 'stub': File: numba/core/overload_glue.py: Line 35.\n       With argument(s): '(array(uint32, 1d, C), array(uint32, 1d, C))':\n      Rejected as the implementation raised a specific error:\n        TypingError: np.dot() only supported on float and complex arrays\n     raised from /home/ryan.zurrin001/miniconda3/envs/O/lib/python3.9/site-packages/numba/core/typing/npydecl.py:970\n   \n   During: resolving callee type: Function(<intrinsic stub>)\n   During: typing of call at <string> (3)\n   \n   \n   File \"<string>\", line 3:\n   <source missing, REPL/exec in use?>\n\n  raised from /home/ryan.zurrin001/miniconda3/envs/O/lib/python3.9/site-packages/numba/core/typeinfer.py:1086\n\nDuring: resolving callee type: Function(<function dot at 0x7f95e80374c0>)\nDuring: typing of call at /home/ryan.zurrin001/miniconda3/envs/O/lib/python3.9/site-packages/pyod/models/abod.py (50)\n\n\nFile \"../../../../../../miniconda3/envs/O/lib/python3.9/site-packages/pyod/models/abod.py\", line 50:\ndef _wcos(curr_pt, a, b):  # pragma: no cover\n    <source elided>\n    # wcos = (<a_curr, b_curr>/((|a_curr|*|b_curr|)^2)\n    wcos = np.dot(a_curr, b_curr) / (\n    ^\n"
     ]
    }
   ],
   "source": [
    "train_scoresX, train_labelsX = O.OutlierDetector.detect_outliers(feature_imgs, pyod_algorithm='ABOD')\n",
    "O.Features.view_image_and_features(imgs, ['hist'], train_scores=[train_scoresX])"
   ]
  },
  {
   "cell_type": "code",
   "execution_count": null,
   "id": "ee5a7823",
   "metadata": {},
   "outputs": [],
   "source": []
  }
 ],
 "metadata": {
  "kernelspec": {
   "display_name": "Python 3 (ipykernel)",
   "language": "python",
   "name": "python3"
  },
  "language_info": {
   "codemirror_mode": {
    "name": "ipython",
    "version": 3
   },
   "file_extension": ".py",
   "mimetype": "text/x-python",
   "name": "python",
   "nbconvert_exporter": "python",
   "pygments_lexer": "ipython3",
   "version": "3.9.7"
  }
 },
 "nbformat": 4,
 "nbformat_minor": 5
}
