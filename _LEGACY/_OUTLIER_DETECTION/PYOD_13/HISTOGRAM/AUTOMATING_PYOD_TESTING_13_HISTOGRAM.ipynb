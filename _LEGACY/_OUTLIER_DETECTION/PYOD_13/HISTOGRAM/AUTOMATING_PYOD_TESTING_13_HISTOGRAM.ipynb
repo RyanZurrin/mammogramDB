{
 "cells": [
  {
   "cell_type": "code",
   "execution_count": 18,
   "id": "d2d0ce1d",
   "metadata": {},
   "outputs": [
    {
     "name": "stdout",
     "output_type": "stream",
     "text": [
      "Populating the interactive namespace from numpy and matplotlib\n",
      "The autoreload extension is already loaded. To reload it, use:\n",
      "  %reload_ext autoreload\n"
     ]
    }
   ],
   "source": [
    "%pylab inline\n",
    "%load_ext autoreload\n",
    "%autoreload 2"
   ]
  },
  {
   "cell_type": "code",
   "execution_count": 19,
   "id": "14be8401",
   "metadata": {},
   "outputs": [],
   "source": [
    "import sys\n",
    "import time\n",
    "sys.path.insert(0,'../../../..')\n",
    "import omama as O"
   ]
  },
  {
   "cell_type": "code",
   "execution_count": 20,
   "id": "e9979482",
   "metadata": {},
   "outputs": [
    {
     "name": "stdout",
     "output_type": "stream",
     "text": [
      "get2D                    ...took    41.755974 seconds\n"
     ]
    }
   ],
   "source": [
    "imgs = O.DataHelper.get2D(N = 100, config_num=6, randomize=True, timing=True)\n",
    "histograms = O.Features.get_features(imgs, feature_type=\"hist\", norm_type=\"minmax\")"
   ]
  },
  {
   "cell_type": "code",
   "execution_count": 21,
   "id": "a4ff95ec",
   "metadata": {},
   "outputs": [],
   "source": [
    "arguments = {\"contamination\": .13, \"verbose\": False}"
   ]
  },
  {
   "cell_type": "code",
   "execution_count": 22,
   "id": "a177b38b",
   "metadata": {},
   "outputs": [
    {
     "name": "stderr",
     "output_type": "stream",
     "text": [
      "[Parallel(n_jobs=1)]: Using backend SequentialBackend with 1 concurrent workers.\n",
      "[Parallel(n_jobs=1)]: Done   1 out of   1 | elapsed:    0.6s finished\n",
      "[Parallel(n_jobs=1)]: Using backend SequentialBackend with 1 concurrent workers.\n",
      "[Parallel(n_jobs=1)]: Done   1 out of   1 | elapsed:    0.4s finished\n"
     ]
    },
    {
     "name": "stdout",
     "output_type": "stream",
     "text": [
      "run_all_algorithms       ...took    92.586896 seconds\n",
      "OD __init__              ...took    92.587293 seconds\n"
     ]
    }
   ],
   "source": [
    "OLD = O.OutlierDetector(run_id='Histograms', imgs=imgs, features=histograms, number_bad=13, verbose=False, timing=True, kwargs=agruments)"
   ]
  },
  {
   "cell_type": "code",
   "execution_count": 23,
   "id": "30995168",
   "metadata": {},
   "outputs": [
    {
     "data": {
      "text/plain": [
       "({'COPOD': 0.3076923076923077,\n",
       "  'HBOS': 0.3076923076923077,\n",
       "  'SUOD': 0.3076923076923077,\n",
       "  'ECOD': 0.23076923076923078,\n",
       "  'OCSVM': 0.23076923076923078,\n",
       "  'IForest': 0.23076923076923078,\n",
       "  'KDE': 0.23076923076923078,\n",
       "  'SOGAAL': 0.23076923076923078,\n",
       "  'DeepSVDD': 0.23076923076923078,\n",
       "  'PCA': 0.15384615384615385,\n",
       "  'SOD': 0.15384615384615385,\n",
       "  'AE': 0.15384615384615385,\n",
       "  'VAE': 0.15384615384615385,\n",
       "  'MCD': 0.07692307692307693,\n",
       "  'MOGAAL': 0.07692307692307693,\n",
       "  'LOF': 0.0,\n",
       "  'CBLOF': 0.0,\n",
       "  'SOS': 0.0,\n",
       "  'Sampling': 0.0,\n",
       "  'LMDD': 0.0,\n",
       "  'COF': 0.0,\n",
       "  'KNN': 0.0,\n",
       "  'AvgKNN': 0.0,\n",
       "  'MedKNN': 0.0,\n",
       "  'INNE': 0.0,\n",
       "  'FB': 0.0,\n",
       "  'LODA': 0.0,\n",
       "  'AnoGAN': 0.0,\n",
       "  'GMM': -1,\n",
       "  'CD': -1,\n",
       "  'XGBOD': -1},\n",
       " {'GMM': ValueError('Fitting the mixture model failed because some components have ill-defined empirical covariance (for instance caused by singleton or collapsed samples). Try to decrease the number of components, or increase reg_covar.'),\n",
       "  'CD': TypeError(\"fit() missing 1 required positional argument: 'y'\"),\n",
       "  'XGBOD': TypeError(\"fit() missing 1 required positional argument: 'y'\")})"
      ]
     },
     "execution_count": 23,
     "metadata": {},
     "output_type": "execute_result"
    }
   ],
   "source": [
    "OLD.results"
   ]
  },
  {
   "cell_type": "code",
   "execution_count": 24,
   "id": "890d636d",
   "metadata": {},
   "outputs": [
    {
     "name": "stdout",
     "output_type": "stream",
     "text": [
      "{\n",
      "    \"Histograms_13%_3cadecaa7b4768ea6f5a362305d09b16\": {\n",
      "        \"COPOD\": 0.3076923076923077,\n",
      "        \"HBOS\": 0.3076923076923077,\n",
      "        \"SUOD\": 0.3076923076923077,\n",
      "        \"ECOD\": 0.23076923076923078,\n",
      "        \"OCSVM\": 0.23076923076923078,\n",
      "        \"IForest\": 0.23076923076923078,\n",
      "        \"KDE\": 0.23076923076923078,\n",
      "        \"SOGAAL\": 0.23076923076923078,\n",
      "        \"DeepSVDD\": 0.23076923076923078,\n",
      "        \"PCA\": 0.15384615384615385,\n",
      "        \"SOD\": 0.15384615384615385,\n",
      "        \"AE\": 0.15384615384615385,\n",
      "        \"VAE\": 0.15384615384615385,\n",
      "        \"MCD\": 0.07692307692307693,\n",
      "        \"MOGAAL\": 0.07692307692307693,\n",
      "        \"LOF\": 0.0,\n",
      "        \"CBLOF\": 0.0,\n",
      "        \"SOS\": 0.0,\n",
      "        \"Sampling\": 0.0,\n",
      "        \"LMDD\": 0.0,\n",
      "        \"COF\": 0.0,\n",
      "        \"KNN\": 0.0,\n",
      "        \"AvgKNN\": 0.0,\n",
      "        \"MedKNN\": 0.0,\n",
      "        \"INNE\": 0.0,\n",
      "        \"FB\": 0.0,\n",
      "        \"LODA\": 0.0,\n",
      "        \"AnoGAN\": 0.0,\n",
      "        \"GMM\": -1,\n",
      "        \"CD\": -1,\n",
      "        \"XGBOD\": -1\n",
      "    },\n",
      "    \"Histograms_13%_3cadecaa7b4768ea6f5a362305d09b16_config\": {\n",
      "        \"kwargs\": {\n",
      "            \"contamination\": 0.13,\n",
      "            \"verbose\": false\n",
      "        }\n",
      "    }\n",
      "}\n"
     ]
    }
   ],
   "source": [
    "O.OutlierDetector.show_records()"
   ]
  },
  {
   "cell_type": "code",
   "execution_count": null,
   "id": "7e97fd55",
   "metadata": {},
   "outputs": [],
   "source": []
  }
 ],
 "metadata": {
  "kernelspec": {
   "display_name": "Python 3 (ipykernel)",
   "language": "python",
   "name": "python3"
  },
  "language_info": {
   "codemirror_mode": {
    "name": "ipython",
    "version": 3
   },
   "file_extension": ".py",
   "mimetype": "text/x-python",
   "name": "python",
   "nbconvert_exporter": "python",
   "pygments_lexer": "ipython3",
   "version": "3.9.7"
  }
 },
 "nbformat": 4,
 "nbformat_minor": 5
}
