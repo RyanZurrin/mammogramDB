{
 "cells": [
  {
   "cell_type": "code",
   "execution_count": 1,
   "id": "5c20da49",
   "metadata": {},
   "outputs": [],
   "source": [
    "import sys\n",
    "import time\n",
    "sys.path.insert(0,'../..')\n",
    "import omama as O\n",
    "import numpy as np\n",
    "import mahotas as mh\n",
    "import matplotlib.pyplot as plt"
   ]
  },
  {
   "cell_type": "code",
   "execution_count": 5,
   "id": "9496ffd5",
   "metadata": {},
   "outputs": [],
   "source": [
    "img1 = O.DataHelper.get2D(config_num=2)\n",
    "img2 = O.DataHelper.get2D(config_num=2)"
   ]
  },
  {
   "cell_type": "code",
   "execution_count": 8,
   "id": "5b322a0d",
   "metadata": {},
   "outputs": [
    {
     "data": {
      "text/plain": [
       "array([[3357, 3265, 3175, ...,    9,    3,    4],\n",
       "       [3327, 3223, 3135, ...,    7,    5,    4],\n",
       "       [3266, 3137, 3073, ...,    8,    8,    8],\n",
       "       ...,\n",
       "       [2352, 2395, 2431, ...,   19,   19,   20],\n",
       "       [2340, 2367, 2417, ...,   17,   19,   21],\n",
       "       [2340, 2383, 2403, ...,   18,   15,   17]], dtype=uint16)"
      ]
     },
     "execution_count": 8,
     "metadata": {},
     "output_type": "execute_result"
    }
   ],
   "source": [
    "img1[0].pixels"
   ]
  },
  {
   "cell_type": "code",
   "execution_count": 9,
   "id": "454e2add",
   "metadata": {},
   "outputs": [
    {
     "data": {
      "text/plain": [
       "array([[   0,    0,    0, ...,    0,    0,    0],\n",
       "       [   0,    0,    0, ...,    0,    0,    0],\n",
       "       [   0,    0,    0, ...,    0,    0,    0],\n",
       "       ...,\n",
       "       [3043, 3089, 3066, ...,    0,    0,    0],\n",
       "       [3083, 3055, 3078, ...,    0,    0,    0],\n",
       "       [3117, 3123, 3155, ...,    0,    0,    0]], dtype=uint16)"
      ]
     },
     "execution_count": 9,
     "metadata": {},
     "output_type": "execute_result"
    }
   ],
   "source": [
    "img2[0].pixels"
   ]
  },
  {
   "cell_type": "code",
   "execution_count": 10,
   "id": "6b0cefeb",
   "metadata": {},
   "outputs": [],
   "source": [
    "# normalizing images\n",
    "img1_new = img1[0].pixels.astype(np.float32)\n",
    "img1_new /= img1_new.max()\n",
    "img1_new *= 255\n",
    "\n",
    "img2_new = img2[0].pixels.astype(np.float32)\n",
    "img2_new /= img2_new.max()\n",
    "img2_new *= 255"
   ]
  },
  {
   "cell_type": "code",
   "execution_count": 11,
   "id": "74ab6e93",
   "metadata": {},
   "outputs": [
    {
     "name": "stdout",
     "output_type": "stream",
     "text": [
      "255.0\n",
      "0.0\n"
     ]
    }
   ],
   "source": [
    "print(img1_new.max())\n",
    "print(img1_new.min())"
   ]
  },
  {
   "cell_type": "code",
   "execution_count": 12,
   "id": "9ad20c07",
   "metadata": {},
   "outputs": [
    {
     "name": "stdout",
     "output_type": "stream",
     "text": [
      "255.0\n",
      "0.0\n"
     ]
    }
   ],
   "source": [
    "print(img2_new.max())\n",
    "print(img2_new.min())"
   ]
  },
  {
   "cell_type": "code",
   "execution_count": 13,
   "id": "2a7c0a64",
   "metadata": {},
   "outputs": [],
   "source": [
    "img1_hist = mh.fullhistogram(img1_new.astype(np.uint8))\n",
    "img2_hist = mh.fullhistogram(img2_new.astype(np.uint8))"
   ]
  },
  {
   "cell_type": "code",
   "execution_count": 14,
   "id": "b9501d32",
   "metadata": {},
   "outputs": [
    {
     "data": {
      "text/plain": [
       "1568771"
      ]
     },
     "execution_count": 14,
     "metadata": {},
     "output_type": "execute_result"
    }
   ],
   "source": [
    "img1_hist.max()"
   ]
  },
  {
   "cell_type": "code",
   "execution_count": 15,
   "id": "20d0df49",
   "metadata": {},
   "outputs": [
    {
     "data": {
      "text/plain": [
       "5391886"
      ]
     },
     "execution_count": 15,
     "metadata": {},
     "output_type": "execute_result"
    }
   ],
   "source": [
    "img2_hist.max()"
   ]
  },
  {
   "cell_type": "code",
   "execution_count": 32,
   "id": "382c5bf3",
   "metadata": {},
   "outputs": [
    {
     "data": {
      "text/plain": [
       "(array([242.,  10.,   1.,   1.,   1.,   0.,   0.,   0.,   0.,   1.]),\n",
       " array([      0. ,  156877.1,  313754.2,  470631.3,  627508.4,  784385.5,\n",
       "         941262.6, 1098139.7, 1255016.8, 1411893.9, 1568771. ]),\n",
       " <BarContainer object of 10 artists>)"
      ]
     },
     "execution_count": 32,
     "metadata": {},
     "output_type": "execute_result"
    },
    {
     "data": {
      "image/png": "[encoded data removed]",
      "text/plain": [
       "<Figure size 432x288 with 1 Axes>"
      ]
     },
     "metadata": {
      "needs_background": "light"
     },
     "output_type": "display_data"
    }
   ],
   "source": [
    "plt.hist(img1_hist)"
   ]
  },
  {
   "cell_type": "code",
   "execution_count": 17,
   "id": "07d0332c",
   "metadata": {},
   "outputs": [
    {
     "data": {
      "text/plain": [
       "(array([255.,   0.,   0.,   0.,   0.,   0.,   0.,   0.,   0.,   1.]),\n",
       " array([2.8000000e+01, 5.3921380e+05, 1.0783996e+06, 1.6175854e+06,\n",
       "        2.1567712e+06, 2.6959570e+06, 3.2351428e+06, 3.7743286e+06,\n",
       "        4.3135144e+06, 4.8527002e+06, 5.3918860e+06]),\n",
       " <BarContainer object of 10 artists>)"
      ]
     },
     "execution_count": 17,
     "metadata": {},
     "output_type": "execute_result"
    },
    {
     "data": {
      "image/png": "[encoded data removed]",
      "text/plain": [
       "<Figure size 432x288 with 1 Axes>"
      ]
     },
     "metadata": {
      "needs_background": "light"
     },
     "output_type": "display_data"
    }
   ],
   "source": [
    "plt.hist(img2_hist)"
   ]
  },
  {
   "cell_type": "code",
   "execution_count": null,
   "id": "8a71276b",
   "metadata": {},
   "outputs": [],
   "source": []
  }
 ],
 "metadata": {
  "kernelspec": {
   "display_name": "Python 3 (ipykernel)",
   "language": "python",
   "name": "python3"
  },
  "language_info": {
   "codemirror_mode": {
    "name": "ipython",
    "version": 3
   },
   "file_extension": ".py",
   "mimetype": "text/x-python",
   "name": "python",
   "nbconvert_exporter": "python",
   "pygments_lexer": "ipython3",
   "version": "3.9.7"
  }
 },
 "nbformat": 4,
 "nbformat_minor": 5
}
