{
 "cells": [
  {
   "cell_type": "code",
   "execution_count": 2,
   "id": "56c73822",
   "metadata": {},
   "outputs": [],
   "source": [
    "import glob, re, os"
   ]
  },
  {
   "cell_type": "code",
   "execution_count": 3,
   "id": "84fb251b",
   "metadata": {},
   "outputs": [],
   "source": [
    "path = os.getcwd()"
   ]
  },
  {
   "cell_type": "code",
   "execution_count": 4,
   "id": "3eb5d096",
   "metadata": {},
   "outputs": [
    {
     "name": "stdout",
     "output_type": "stream",
     "text": [
      "/home/ryan.zurrin001/Projects/omama/_EXPERIMENTS/OUTLIER_DETECTION/PYOD_20/DOWNSAMPLED\n"
     ]
    }
   ],
   "source": [
    "print(path)"
   ]
  },
  {
   "cell_type": "code",
   "execution_count": 4,
   "id": "23a0f000",
   "metadata": {},
   "outputs": [],
   "source": [
    "# Fixes spaces by replacing with _\n",
    "for filename in glob.glob('*.ipynb'):\n",
    "    new_name = filename.replace(' ', '_')\n",
    "    os.rename(filename, new_name)"
   ]
  },
  {
   "cell_type": "code",
   "execution_count": 5,
   "id": "69a7604e",
   "metadata": {},
   "outputs": [],
   "source": [
    "# Fixes dashes by replacing removing\n",
    "for filename in glob.glob('*.ipynb'):\n",
    "    new_name = filename.replace('-', '')\n",
    "    os.rename(filename, new_name)"
   ]
  },
  {
   "cell_type": "code",
   "execution_count": 6,
   "id": "7a652154",
   "metadata": {},
   "outputs": [],
   "source": [
    "# fixes double underscore with single underscore\n",
    "for filename in glob.glob('*.ipynb'):\n",
    "    new_name = filename.replace('__', '_')\n",
    "    os.rename(filename, new_name)"
   ]
  },
  {
   "cell_type": "code",
   "execution_count": 5,
   "id": "c9234641",
   "metadata": {},
   "outputs": [],
   "source": [
    "# Fixes a sequence of characters by replacing with specified other sequence\n",
    "str_to_remove = '5'\n",
    "replace_with = '20'\n",
    "for filename in glob.glob('*.ipynb'):\n",
    "    new_name = filename.replace(str_to_remove, replace_with)\n",
    "    os.rename(filename, new_name)"
   ]
  },
  {
   "cell_type": "code",
   "execution_count": null,
   "id": "5c002ace",
   "metadata": {},
   "outputs": [],
   "source": []
  }
 ],
 "metadata": {
  "kernelspec": {
   "display_name": "Python 3 (ipykernel)",
   "language": "python",
   "name": "python3"
  },
  "language_info": {
   "codemirror_mode": {
    "name": "ipython",
    "version": 3
   },
   "file_extension": ".py",
   "mimetype": "text/x-python",
   "name": "python",
   "nbconvert_exporter": "python",
   "pygments_lexer": "ipython3",
   "version": "3.9.7"
  }
 },
 "nbformat": 4,
 "nbformat_minor": 5
}
