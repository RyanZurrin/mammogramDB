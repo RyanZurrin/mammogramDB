{
 "cells": [
  {
   "cell_type": "markdown",
   "id": "d0adee30",
   "metadata": {},
   "source": [
    "# CD - Cook’s distance outlier detection\n",
    "### Cook’s distance can be used to identify points that negatively affect a regression model. A combination of each observation’s leverage and residual values are used in the measurement. Higher leverage and residuals relate to higher Cook’s distances. \n",
    "Source: https://pyod.readthedocs.io/en/latest/pyod.models.html#module-pyod.models.cd"
   ]
  },
  {
   "cell_type": "markdown",
   "id": "51813d2e",
   "metadata": {},
   "source": [
    "### Arguments that work with CD algorithm:\n",
    "1. contamination\n",
    "2. whitening\n",
    "3. rule_of_thumb"
   ]
  },
  {
   "cell_type": "code",
   "execution_count": 1,
   "id": "1aa4da19",
   "metadata": {},
   "outputs": [
    {
     "name": "stdout",
     "output_type": "stream",
     "text": [
      "Populating the interactive namespace from numpy and matplotlib\n"
     ]
    }
   ],
   "source": [
    "%pylab inline\n",
    "%load_ext autoreload\n",
    "%autoreload 2\n",
    "import sys\n",
    "import time\n",
    "sys.path.insert(0,'../../../..')\n",
    "import omama as O"
   ]
  },
  {
   "cell_type": "code",
   "execution_count": 2,
   "id": "b5fa73c4",
   "metadata": {
    "collapsed": true
   },
   "outputs": [
    {
     "name": "stdout",
     "output_type": "stream",
     "text": [
      "get2D                    ...took   256.434849 seconds\n",
      "image downsampling       ...took     7.634355 seconds\n",
      "image downsampling       ...took    13.968050 seconds\n",
      "image downsampling       ...took    16.806030 seconds\n",
      "image downsampling       ...took    19.635928 seconds\n",
      "image downsampling       ...took    22.487517 seconds\n",
      "image downsampling       ...took    28.818999 seconds\n",
      "image downsampling       ...took    31.937942 seconds\n",
      "image downsampling       ...took    34.775139 seconds\n",
      "image downsampling       ...took    37.610083 seconds\n",
      "image downsampling       ...took    43.958313 seconds\n",
      "image downsampling       ...took    50.288214 seconds\n",
      "image downsampling       ...took    66.900637 seconds\n",
      "image downsampling       ...took    69.709699 seconds\n",
      "image downsampling       ...took    72.812616 seconds\n",
      "image downsampling       ...took    75.642920 seconds\n",
      "image downsampling       ...took    78.482874 seconds\n",
      "image downsampling       ...took    81.316399 seconds\n",
      "image downsampling       ...took    87.640191 seconds\n",
      "image downsampling       ...took    93.934879 seconds\n",
      "image downsampling       ...took   100.279523 seconds\n",
      "image downsampling       ...took   103.093480 seconds\n",
      "image downsampling       ...took   109.433649 seconds\n",
      "image downsampling       ...took   126.285571 seconds\n",
      "image downsampling       ...took   129.133205 seconds\n",
      "image downsampling       ...took   135.468168 seconds\n",
      "image downsampling       ...took   138.291320 seconds\n",
      "image downsampling       ...took   144.612451 seconds\n",
      "image downsampling       ...took   153.344491 seconds\n",
      "image downsampling       ...took   156.169226 seconds\n",
      "image downsampling       ...took   162.527219 seconds\n",
      "image downsampling       ...took   165.381163 seconds\n",
      "image downsampling       ...took   173.842594 seconds\n",
      "image downsampling       ...took   180.191183 seconds\n",
      "image downsampling       ...took   186.494720 seconds\n",
      "image downsampling       ...took   192.872372 seconds\n",
      "image downsampling       ...took   199.340972 seconds\n",
      "image downsampling       ...took   202.201675 seconds\n",
      "image downsampling       ...took   205.023072 seconds\n",
      "image downsampling       ...took   211.337927 seconds\n",
      "image downsampling       ...took   214.189450 seconds\n",
      "image downsampling       ...took   220.502511 seconds\n",
      "image downsampling       ...took   226.860429 seconds\n",
      "image downsampling       ...took   233.204248 seconds\n",
      "image downsampling       ...took   239.762430 seconds\n",
      "image downsampling       ...took   246.102212 seconds\n",
      "image downsampling       ...took   252.468326 seconds\n",
      "image downsampling       ...took   255.280598 seconds\n",
      "image downsampling       ...took   258.118780 seconds\n",
      "image downsampling       ...took   260.949808 seconds\n",
      "image downsampling       ...took   267.275012 seconds\n",
      "image downsampling       ...took   273.588652 seconds\n",
      "image downsampling       ...took   276.409930 seconds\n",
      "image downsampling       ...took   282.767942 seconds\n",
      "image downsampling       ...took   285.846141 seconds\n",
      "image downsampling       ...took   288.638478 seconds\n",
      "image downsampling       ...took   291.517714 seconds\n",
      "image downsampling       ...took   294.358445 seconds\n",
      "image downsampling       ...took   310.980470 seconds\n",
      "image downsampling       ...took   313.785846 seconds\n",
      "image downsampling       ...took   330.653090 seconds\n",
      "image downsampling       ...took   333.462983 seconds\n",
      "image downsampling       ...took   339.798686 seconds\n",
      "image downsampling       ...took   342.638494 seconds\n",
      "image downsampling       ...took   349.004232 seconds\n",
      "image downsampling       ...took   351.837592 seconds\n",
      "image downsampling       ...took   358.171527 seconds\n",
      "image downsampling       ...took   364.472188 seconds\n",
      "image downsampling       ...took   370.781308 seconds\n",
      "image downsampling       ...took   387.573976 seconds\n",
      "image downsampling       ...took   390.416926 seconds\n",
      "image downsampling       ...took   396.731441 seconds\n",
      "image downsampling       ...took   399.572656 seconds\n",
      "image downsampling       ...took   402.447525 seconds\n",
      "image downsampling       ...took   408.730436 seconds\n",
      "image downsampling       ...took   415.371366 seconds\n",
      "image downsampling       ...took   421.709818 seconds\n",
      "image downsampling       ...took   424.571533 seconds\n",
      "image downsampling       ...took   427.379952 seconds\n",
      "image downsampling       ...took   430.247531 seconds\n",
      "image downsampling       ...took   436.583528 seconds\n",
      "image downsampling       ...took   439.393771 seconds\n",
      "image downsampling       ...took   442.218686 seconds\n",
      "image downsampling       ...took   448.590608 seconds\n",
      "image downsampling       ...took   455.191305 seconds\n",
      "image downsampling       ...took   461.522609 seconds\n",
      "image downsampling       ...took   478.173405 seconds\n",
      "image downsampling       ...took   486.602797 seconds\n",
      "image downsampling       ...took   493.200717 seconds\n",
      "image downsampling       ...took   499.529967 seconds\n",
      "image downsampling       ...took   502.415525 seconds\n",
      "image downsampling       ...took   505.245778 seconds\n",
      "image downsampling       ...took   513.754009 seconds\n",
      "image downsampling       ...took   520.198476 seconds\n",
      "image downsampling       ...took   526.554444 seconds\n",
      "image downsampling       ...took   532.934273 seconds\n",
      "image downsampling       ...took   539.732626 seconds\n",
      "image downsampling       ...took   555.312436 seconds\n",
      "image downsampling       ...took   557.204894 seconds\n",
      "image downsampling       ...took   558.728635 seconds\n",
      "image downsampling       ...took   560.147643 seconds\n",
      "downsample               ...took   560.160594 seconds\n"
     ]
    }
   ],
   "source": [
    "imgs = O.DataHelper.get2D(N = 100, config_num=5, randomize=True, timing=True)\n",
    "downsampled_imgs = O.Normalize.downsample(imgs, output_shape=(64, 64), flatten=True, timing=True)"
   ]
  },
  {
   "cell_type": "code",
   "execution_count": 3,
   "id": "b376126b",
   "metadata": {},
   "outputs": [
    {
     "ename": "TypeError",
     "evalue": "fit() missing 1 required positional argument: 'y'",
     "output_type": "error",
     "traceback": [
      "\u001B[0;31m---------------------------------------------------------------------------\u001B[0m",
      "\u001B[0;31mTypeError\u001B[0m                                 Traceback (most recent call last)",
      "\u001B[0;32m/tmp/ipykernel_1169126/90930901.py\u001B[0m in \u001B[0;36m<module>\u001B[0;34m\u001B[0m\n\u001B[0;32m----> 1\u001B[0;31m \u001B[0mtrain_scoresX\u001B[0m\u001B[0;34m,\u001B[0m \u001B[0mtrain_labelsX\u001B[0m \u001B[0;34m=\u001B[0m \u001B[0mO\u001B[0m\u001B[0;34m.\u001B[0m\u001B[0mOutlierDetector\u001B[0m\u001B[0;34m.\u001B[0m\u001B[0mdetect_outliers\u001B[0m\u001B[0;34m(\u001B[0m\u001B[0mdownsampled_imgs\u001B[0m\u001B[0;34m,\u001B[0m \u001B[0mpyod_algorithm\u001B[0m\u001B[0;34m=\u001B[0m\u001B[0;34m'CD'\u001B[0m\u001B[0;34m)\u001B[0m\u001B[0;34m\u001B[0m\u001B[0;34m\u001B[0m\u001B[0m\n\u001B[0m\u001B[1;32m      2\u001B[0m \u001B[0mO\u001B[0m\u001B[0;34m.\u001B[0m\u001B[0mFeatures\u001B[0m\u001B[0;34m.\u001B[0m\u001B[0mview_image_and_features\u001B[0m\u001B[0;34m(\u001B[0m\u001B[0mimgs\u001B[0m\u001B[0;34m,\u001B[0m \u001B[0;34m[\u001B[0m\u001B[0;34m'downsample'\u001B[0m\u001B[0;34m]\u001B[0m\u001B[0;34m,\u001B[0m \u001B[0mtrain_scores\u001B[0m\u001B[0;34m=\u001B[0m\u001B[0;34m[\u001B[0m\u001B[0mtrain_scoresX\u001B[0m\u001B[0;34m]\u001B[0m\u001B[0;34m)\u001B[0m\u001B[0;34m\u001B[0m\u001B[0;34m\u001B[0m\u001B[0m\n",
      "\u001B[0;32m~/Projects/omama/_EXPERIMENTS/OUTLIER_DETECTION/PYOD_5/DOWNSAMPLED/../../../../omama/outlier_detection/outlier_detector.py\u001B[0m in \u001B[0;36mdetect_outliers\u001B[0;34m(data_x, data_y, pyod_algorithm, activation_hidden, algorithm, alpha, approx_clf, approx_clf_list, approx_flag_global, approx_ng_clf_list, assume_centered, bandwidth, base_estimator, base_estimators, batch_size, behaviour, beta, bootstrap, bootstrap_features, bps_flag, c, cache_size, capacity, check_detector, check_estimator, clustering_estimator, coef0, combination, contamination, copy, cost_forecast_loc_fit, cost_forecast_loc_pred, covariance_type, D_layers, decay, decoder_neurons, degree, dis_measure, dropout_rate, encoder_neurons, epochs, epochs_query, eps, estimator_params, G_layers, gamma, hidden_activation, hidden_neurons, index_D_layer_for_recon_error, init_params, iterated_power, jl_method, kernel, l2_regularizer, latent_dim, latent_dim_G, leaf_size, learning_rate, learning_rate_query, loss, lr_d, lr_g, max_features, max_iter, max_samples, means_init, method, metric, metric_params, momentum, n_bins, n_clusters, n_components, n_estimators, n_init, n_iter, n_jobs, n_neighbors, n_random_cuts, n_selected_components, novelty, nu, optimizer, output_activation, p, parallel_execution, perplexity, precisions_init, preprocessing, radius, random_state, ref_set, reg_covar, rp_clf_list, rp_ng_clf_list, rp_flag_global, shrinking, standardization, stop_epochs, store_precision, subset_size, support_fraction, svd_solver, target_dim_frac, tol, use_ae, use_weights, validation_size, verbose, warm_start, weighted, weights_init, whiten)\u001B[0m\n\u001B[1;32m    921\u001B[0m \u001B[0;34m\u001B[0m\u001B[0m\n\u001B[1;32m    922\u001B[0m         \u001B[0;32mif\u001B[0m \u001B[0mdata_y\u001B[0m \u001B[0;32mis\u001B[0m \u001B[0;32mNone\u001B[0m\u001B[0;34m:\u001B[0m\u001B[0;34m\u001B[0m\u001B[0;34m\u001B[0m\u001B[0m\n\u001B[0;32m--> 923\u001B[0;31m             \u001B[0mclf\u001B[0m\u001B[0;34m.\u001B[0m\u001B[0mfit\u001B[0m\u001B[0;34m(\u001B[0m\u001B[0mdata_x\u001B[0m\u001B[0;34m)\u001B[0m\u001B[0;34m\u001B[0m\u001B[0;34m\u001B[0m\u001B[0m\n\u001B[0m\u001B[1;32m    924\u001B[0m         \u001B[0;32melse\u001B[0m\u001B[0;34m:\u001B[0m\u001B[0;34m\u001B[0m\u001B[0;34m\u001B[0m\u001B[0m\n\u001B[1;32m    925\u001B[0m             \u001B[0mclf\u001B[0m\u001B[0;34m.\u001B[0m\u001B[0mfit\u001B[0m\u001B[0;34m(\u001B[0m\u001B[0mdata_x\u001B[0m\u001B[0;34m,\u001B[0m \u001B[0mdata_y\u001B[0m\u001B[0;34m)\u001B[0m\u001B[0;34m\u001B[0m\u001B[0;34m\u001B[0m\u001B[0m\n",
      "\u001B[0;31mTypeError\u001B[0m: fit() missing 1 required positional argument: 'y'"
     ]
    }
   ],
   "source": [
    "train_scoresX, train_labelsX = O.OutlierDetector.detect_outliers(downsampled_imgs, pyod_algorithm='CD')\n",
    "O.Features.view_image_and_features(imgs, ['downsample'], train_scores=[train_scoresX])"
   ]
  },
  {
   "cell_type": "code",
   "execution_count": null,
   "id": "ee5a7823",
   "metadata": {},
   "outputs": [],
   "source": []
  }
 ],
 "metadata": {
  "kernelspec": {
   "display_name": "Python 3 (ipykernel)",
   "language": "python",
   "name": "python3"
  },
  "language_info": {
   "codemirror_mode": {
    "name": "ipython",
    "version": 3
   },
   "file_extension": ".py",
   "mimetype": "text/x-python",
   "name": "python",
   "nbconvert_exporter": "python",
   "pygments_lexer": "ipython3",
   "version": "3.9.7"
  }
 },
 "nbformat": 4,
 "nbformat_minor": 5
}
