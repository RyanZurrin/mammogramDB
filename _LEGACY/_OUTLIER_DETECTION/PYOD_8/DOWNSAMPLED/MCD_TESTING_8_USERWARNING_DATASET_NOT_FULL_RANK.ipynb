{
 "cells": [
  {
   "cell_type": "markdown",
   "id": "474c4270",
   "metadata": {},
   "source": [
    "# MCD - Minimum Covariance Determinant\n",
    "### The Minimum Covariance Determinant covariance estimator is to be applied on Gaussian-distributed data, but could still be relevant on data drawn from a unimodal, symmetric distribution. It is not meant to be used with multi-modal data (the algorithm used to fit a MinCovDet object is likely to fail in such a case). One should consider projection pursuit methods to deal with multi-modal datasets. \n",
    "### **First fit a minimum covariance determinant model and then compute the Mahalanobis distance as the outlier degree of the data**\n",
    "source: https://pyod.readthedocs.io/en/latest/pyod.models.html#module-pyod.models.mcd"
   ]
  },
  {
   "cell_type": "markdown",
   "id": "3767102d",
   "metadata": {},
   "source": [
    "### Arguments that work with MCD algorithm:\n",
    "1. contamination\n",
    "2. store_precision\n",
    "3. assume_centered\n",
    "4. support_fraction\n",
    "5. random_state"
   ]
  },
  {
   "cell_type": "code",
   "execution_count": 1,
   "id": "3e8721f4",
   "metadata": {},
   "outputs": [
    {
     "name": "stdout",
     "output_type": "stream",
     "text": [
      "Populating the interactive namespace from numpy and matplotlib\n"
     ]
    }
   ],
   "source": [
    "%pylab inline\n",
    "%load_ext autoreload\n",
    "%autoreload 2\n",
    "import sys\n",
    "import time\n",
    "sys.path.insert(0,'../../../..')\n",
    "import omama as O\n",
    "import numpy as np"
   ]
  },
  {
   "cell_type": "code",
   "execution_count": 2,
   "id": "ce9469e2",
   "metadata": {
    "scrolled": true
   },
   "outputs": [
    {
     "name": "stdout",
     "output_type": "stream",
     "text": [
      "get2D                    ...took   241.527317 seconds\n",
      "image downsampling       ...took     4.643785 seconds\n",
      "image downsampling       ...took    10.951169 seconds\n",
      "image downsampling       ...took    17.063339 seconds\n",
      "image downsampling       ...took    19.660075 seconds\n",
      "image downsampling       ...took    21.577223 seconds\n",
      "image downsampling       ...took    25.864239 seconds\n",
      "image downsampling       ...took    32.674478 seconds\n",
      "image downsampling       ...took    34.934848 seconds\n",
      "image downsampling       ...took    41.284354 seconds\n",
      "image downsampling       ...took    44.456362 seconds\n",
      "image downsampling       ...took    47.448798 seconds\n",
      "image downsampling       ...took    53.185518 seconds\n",
      "image downsampling       ...took    56.386700 seconds\n",
      "image downsampling       ...took    63.432212 seconds\n",
      "image downsampling       ...took    69.936235 seconds\n",
      "image downsampling       ...took    77.370873 seconds\n",
      "image downsampling       ...took    83.608903 seconds\n",
      "image downsampling       ...took    96.750609 seconds\n",
      "image downsampling       ...took    98.675929 seconds\n",
      "image downsampling       ...took   100.589923 seconds\n",
      "image downsampling       ...took   102.527710 seconds\n",
      "image downsampling       ...took   104.647201 seconds\n",
      "image downsampling       ...took   108.912997 seconds\n",
      "image downsampling       ...took   115.411911 seconds\n",
      "image downsampling       ...took   118.122004 seconds\n",
      "image downsampling       ...took   120.993568 seconds\n",
      "image downsampling       ...took   126.965673 seconds\n",
      "image downsampling       ...took   129.330629 seconds\n",
      "image downsampling       ...took   133.335548 seconds\n",
      "image downsampling       ...took   139.219455 seconds\n",
      "image downsampling       ...took   143.556128 seconds\n",
      "image downsampling       ...took   145.957098 seconds\n",
      "image downsampling       ...took   150.481331 seconds\n",
      "image downsampling       ...took   152.634446 seconds\n",
      "image downsampling       ...took   156.887843 seconds\n",
      "image downsampling       ...took   159.147857 seconds\n",
      "image downsampling       ...took   162.998753 seconds\n",
      "image downsampling       ...took   168.904260 seconds\n",
      "image downsampling       ...took   173.292261 seconds\n",
      "image downsampling       ...took   177.529828 seconds\n",
      "image downsampling       ...took   181.755837 seconds\n",
      "image downsampling       ...took   184.440269 seconds\n",
      "image downsampling       ...took   186.996213 seconds\n",
      "image downsampling       ...took   193.021549 seconds\n",
      "image downsampling       ...took   198.864975 seconds\n",
      "image downsampling       ...took   214.588612 seconds\n",
      "image downsampling       ...took   221.498458 seconds\n",
      "image downsampling       ...took   223.653059 seconds\n",
      "image downsampling       ...took   225.573619 seconds\n",
      "image downsampling       ...took   227.504212 seconds\n",
      "image downsampling       ...took   238.855208 seconds\n",
      "image downsampling       ...took   240.779360 seconds\n",
      "image downsampling       ...took   251.905272 seconds\n",
      "image downsampling       ...took   257.339290 seconds\n",
      "image downsampling       ...took   260.165617 seconds\n",
      "image downsampling       ...took   263.051775 seconds\n",
      "image downsampling       ...took   265.816907 seconds\n",
      "image downsampling       ...took   272.408030 seconds\n",
      "image downsampling       ...took   278.713699 seconds\n",
      "image downsampling       ...took   281.426400 seconds\n",
      "image downsampling       ...took   284.334858 seconds\n",
      "image downsampling       ...took   299.781766 seconds\n",
      "image downsampling       ...took   305.971716 seconds\n",
      "image downsampling       ...took   312.431215 seconds\n",
      "image downsampling       ...took   318.562723 seconds\n",
      "image downsampling       ...took   324.095724 seconds\n",
      "image downsampling       ...took   329.141015 seconds\n",
      "image downsampling       ...took   343.785889 seconds\n",
      "image downsampling       ...took   346.340036 seconds\n",
      "image downsampling       ...took   349.332220 seconds\n",
      "image downsampling       ...took   355.292743 seconds\n",
      "image downsampling       ...took   361.644286 seconds\n",
      "image downsampling       ...took   364.440222 seconds\n",
      "image downsampling       ...took   367.242043 seconds\n",
      "image downsampling       ...took   370.372227 seconds\n",
      "image downsampling       ...took   373.103007 seconds\n",
      "image downsampling       ...took   379.454791 seconds\n",
      "image downsampling       ...took   385.598280 seconds\n",
      "image downsampling       ...took   392.081288 seconds\n",
      "image downsampling       ...took   398.693463 seconds\n",
      "image downsampling       ...took   404.835685 seconds\n",
      "image downsampling       ...took   406.957312 seconds\n",
      "image downsampling       ...took   412.112671 seconds\n",
      "image downsampling       ...took   416.379498 seconds\n",
      "image downsampling       ...took   420.646775 seconds\n",
      "image downsampling       ...took   424.961179 seconds\n",
      "image downsampling       ...took   429.327602 seconds\n",
      "image downsampling       ...took   432.426861 seconds\n",
      "image downsampling       ...took   449.953611 seconds\n",
      "image downsampling       ...took   453.746089 seconds\n",
      "image downsampling       ...took   460.815585 seconds\n",
      "image downsampling       ...took   464.141685 seconds\n",
      "image downsampling       ...took   467.160125 seconds\n",
      "image downsampling       ...took   472.504364 seconds\n",
      "image downsampling       ...took   474.449928 seconds\n",
      "image downsampling       ...took   477.492220 seconds\n",
      "image downsampling       ...took   483.591040 seconds\n",
      "image downsampling       ...took   486.378900 seconds\n",
      "image downsampling       ...took   489.233476 seconds\n",
      "image downsampling       ...took   492.168848 seconds\n",
      "downsample               ...took   492.191008 seconds\n"
     ]
    }
   ],
   "source": [
    "imgs = O.DataHelper.get2D(N = 100, config_num=5, randomize=True, timing=True)\n",
    "downsampled_imgs = O.Normalize.downsample(imgs, output_shape=(64, 64), flatten=True, timing=True)"
   ]
  },
  {
   "cell_type": "code",
   "execution_count": 3,
   "id": "a4de845e",
   "metadata": {
    "scrolled": true
   },
   "outputs": [
    {
     "name": "stderr",
     "output_type": "stream",
     "text": [
      "/home/ryan.zurrin001/miniconda3/envs/O/lib/python3.9/site-packages/sklearn/covariance/_robust_covariance.py:647: UserWarning: The covariance matrix associated to your dataset is not full rank\n",
      "  warnings.warn(\"The covariance matrix associated to your dataset \"\n"
     ]
    },
    {
     "ename": "KeyboardInterrupt",
     "evalue": "",
     "output_type": "error",
     "traceback": [
      "\u001B[0;31m---------------------------------------------------------------------------\u001B[0m",
      "\u001B[0;31mKeyboardInterrupt\u001B[0m                         Traceback (most recent call last)",
      "\u001B[0;32m/tmp/ipykernel_2549225/677355460.py\u001B[0m in \u001B[0;36m<module>\u001B[0;34m\u001B[0m\n\u001B[0;32m----> 1\u001B[0;31m \u001B[0mtrain_scoresX\u001B[0m\u001B[0;34m,\u001B[0m \u001B[0mtrain_labelsX\u001B[0m \u001B[0;34m=\u001B[0m \u001B[0mO\u001B[0m\u001B[0;34m.\u001B[0m\u001B[0mOutlierDetector\u001B[0m\u001B[0;34m.\u001B[0m\u001B[0mdetect_outliers\u001B[0m\u001B[0;34m(\u001B[0m\u001B[0mdownsampled_imgs\u001B[0m\u001B[0;34m,\u001B[0m \u001B[0mpyod_algorithm\u001B[0m\u001B[0;34m=\u001B[0m\u001B[0;34m'MCD'\u001B[0m\u001B[0;34m)\u001B[0m\u001B[0;34m\u001B[0m\u001B[0;34m\u001B[0m\u001B[0m\n\u001B[0m\u001B[1;32m      2\u001B[0m \u001B[0mO\u001B[0m\u001B[0;34m.\u001B[0m\u001B[0mFeatures\u001B[0m\u001B[0;34m.\u001B[0m\u001B[0mview_image_and_features\u001B[0m\u001B[0;34m(\u001B[0m\u001B[0mimgs\u001B[0m\u001B[0;34m,\u001B[0m \u001B[0;34m[\u001B[0m\u001B[0;34m'downsample'\u001B[0m\u001B[0;34m]\u001B[0m\u001B[0;34m,\u001B[0m \u001B[0mtrain_scores\u001B[0m\u001B[0;34m=\u001B[0m\u001B[0;34m[\u001B[0m\u001B[0mtrain_scoresX\u001B[0m\u001B[0;34m]\u001B[0m\u001B[0;34m)\u001B[0m\u001B[0;34m\u001B[0m\u001B[0;34m\u001B[0m\u001B[0m\n",
      "\u001B[0;32m~/Projects/omama/_EXPERIMENTS/OUTLIER_DETECTION/PYOD_5/DOWNSAMPLED/../../../../omama/outlier_detection/outlier_detector.py\u001B[0m in \u001B[0;36mdetect_outliers\u001B[0;34m(data_x, data_y, pyod_algorithm, algorithm, n_bins, n_neighbors, n_jobs, n_clusters, n_estimators, clustering_estimator, use_weights, check_estimator, random_state, alpha, beta, bandwidth, leaf_size, metric, metric_params, p, novelty, tol, contamination, perplexity, eps, kernel, degree, gamma, coef0, nu, shrinking, cache_size, verbose, max_iter, max_samples, max_features, bootstrap, behaviour)\u001B[0m\n\u001B[1;32m    354\u001B[0m             \u001B[0mclf\u001B[0m \u001B[0;34m=\u001B[0m \u001B[0mVAE\u001B[0m\u001B[0;34m(\u001B[0m\u001B[0;34m)\u001B[0m\u001B[0;34m\u001B[0m\u001B[0;34m\u001B[0m\u001B[0m\n\u001B[1;32m    355\u001B[0m \u001B[0;34m\u001B[0m\u001B[0m\n\u001B[0;32m--> 356\u001B[0;31m         \u001B[0;32melif\u001B[0m \u001B[0mpyod_algorithm\u001B[0m \u001B[0;34m==\u001B[0m \u001B[0;34m'Beta-VAE'\u001B[0m\u001B[0;34m:\u001B[0m\u001B[0;34m\u001B[0m\u001B[0;34m\u001B[0m\u001B[0m\n\u001B[0m\u001B[1;32m    357\u001B[0m             \u001B[0;32mfrom\u001B[0m \u001B[0mpyod\u001B[0m\u001B[0;34m.\u001B[0m\u001B[0mmodels\u001B[0m\u001B[0;34m.\u001B[0m\u001B[0mvae\u001B[0m \u001B[0;32mimport\u001B[0m \u001B[0mBetaVAE\u001B[0m\u001B[0;34m\u001B[0m\u001B[0;34m\u001B[0m\u001B[0m\n\u001B[1;32m    358\u001B[0m             \u001B[0mclf\u001B[0m \u001B[0;34m=\u001B[0m \u001B[0mBetaVAE\u001B[0m\u001B[0;34m(\u001B[0m\u001B[0;34m)\u001B[0m\u001B[0;34m\u001B[0m\u001B[0;34m\u001B[0m\u001B[0m\n",
      "\u001B[0;32m~/miniconda3/envs/O/lib/python3.9/site-packages/pyod/models/mcd.py\u001B[0m in \u001B[0;36mfit\u001B[0;34m(self, X, y)\u001B[0m\n\u001B[1;32m    145\u001B[0m                                    \u001B[0msupport_fraction\u001B[0m\u001B[0;34m=\u001B[0m\u001B[0mself\u001B[0m\u001B[0;34m.\u001B[0m\u001B[0msupport_fraction\u001B[0m\u001B[0;34m,\u001B[0m\u001B[0;34m\u001B[0m\u001B[0;34m\u001B[0m\u001B[0m\n\u001B[1;32m    146\u001B[0m                                    random_state=self.random_state)\n\u001B[0;32m--> 147\u001B[0;31m         \u001B[0mself\u001B[0m\u001B[0;34m.\u001B[0m\u001B[0mdetector_\u001B[0m\u001B[0;34m.\u001B[0m\u001B[0mfit\u001B[0m\u001B[0;34m(\u001B[0m\u001B[0mX\u001B[0m\u001B[0;34m=\u001B[0m\u001B[0mX\u001B[0m\u001B[0;34m,\u001B[0m \u001B[0my\u001B[0m\u001B[0;34m=\u001B[0m\u001B[0my\u001B[0m\u001B[0;34m)\u001B[0m\u001B[0;34m\u001B[0m\u001B[0;34m\u001B[0m\u001B[0m\n\u001B[0m\u001B[1;32m    148\u001B[0m \u001B[0;34m\u001B[0m\u001B[0m\n\u001B[1;32m    149\u001B[0m         \u001B[0;31m# Use mahalanabis distance as the outlier score\u001B[0m\u001B[0;34m\u001B[0m\u001B[0;34m\u001B[0m\u001B[0m\n",
      "\u001B[0;32m~/miniconda3/envs/O/lib/python3.9/site-packages/sklearn/covariance/_robust_covariance.py\u001B[0m in \u001B[0;36mfit\u001B[0;34m(self, X, y)\u001B[0m\n\u001B[1;32m    648\u001B[0m                           \"is not full rank\")\n\u001B[1;32m    649\u001B[0m         \u001B[0;31m# compute and store raw estimates\u001B[0m\u001B[0;34m\u001B[0m\u001B[0;34m\u001B[0m\u001B[0m\n\u001B[0;32m--> 650\u001B[0;31m         raw_location, raw_covariance, raw_support, raw_dist = fast_mcd(\n\u001B[0m\u001B[1;32m    651\u001B[0m             \u001B[0mX\u001B[0m\u001B[0;34m,\u001B[0m \u001B[0msupport_fraction\u001B[0m\u001B[0;34m=\u001B[0m\u001B[0mself\u001B[0m\u001B[0;34m.\u001B[0m\u001B[0msupport_fraction\u001B[0m\u001B[0;34m,\u001B[0m\u001B[0;34m\u001B[0m\u001B[0;34m\u001B[0m\u001B[0m\n\u001B[1;32m    652\u001B[0m             \u001B[0mcov_computation_method\u001B[0m\u001B[0;34m=\u001B[0m\u001B[0mself\u001B[0m\u001B[0;34m.\u001B[0m\u001B[0m_nonrobust_covariance\u001B[0m\u001B[0;34m,\u001B[0m\u001B[0;34m\u001B[0m\u001B[0;34m\u001B[0m\u001B[0m\n",
      "\u001B[0;32m~/miniconda3/envs/O/lib/python3.9/site-packages/sklearn/covariance/_robust_covariance.py\u001B[0m in \u001B[0;36mfast_mcd\u001B[0;34m(X, support_fraction, cov_computation_method, random_state)\u001B[0m\n\u001B[1;32m    497\u001B[0m         \u001B[0mn_trials\u001B[0m \u001B[0;34m=\u001B[0m \u001B[0;36m30\u001B[0m\u001B[0;34m\u001B[0m\u001B[0;34m\u001B[0m\u001B[0m\n\u001B[1;32m    498\u001B[0m         \u001B[0mn_best\u001B[0m \u001B[0;34m=\u001B[0m \u001B[0;36m10\u001B[0m\u001B[0;34m\u001B[0m\u001B[0;34m\u001B[0m\u001B[0m\n\u001B[0;32m--> 499\u001B[0;31m         locations_best, covariances_best, _, _ = select_candidates(\n\u001B[0m\u001B[1;32m    500\u001B[0m             \u001B[0mX\u001B[0m\u001B[0;34m,\u001B[0m \u001B[0mn_support\u001B[0m\u001B[0;34m,\u001B[0m \u001B[0mn_trials\u001B[0m\u001B[0;34m=\u001B[0m\u001B[0mn_trials\u001B[0m\u001B[0;34m,\u001B[0m \u001B[0mselect\u001B[0m\u001B[0;34m=\u001B[0m\u001B[0mn_best\u001B[0m\u001B[0;34m,\u001B[0m \u001B[0mn_iter\u001B[0m\u001B[0;34m=\u001B[0m\u001B[0;36m2\u001B[0m\u001B[0;34m,\u001B[0m\u001B[0;34m\u001B[0m\u001B[0;34m\u001B[0m\u001B[0m\n\u001B[1;32m    501\u001B[0m             \u001B[0mcov_computation_method\u001B[0m\u001B[0;34m=\u001B[0m\u001B[0mcov_computation_method\u001B[0m\u001B[0;34m,\u001B[0m\u001B[0;34m\u001B[0m\u001B[0;34m\u001B[0m\u001B[0m\n",
      "\u001B[0;32m~/miniconda3/envs/O/lib/python3.9/site-packages/sklearn/covariance/_robust_covariance.py\u001B[0m in \u001B[0;36mselect_candidates\u001B[0;34m(X, n_support, n_trials, select, n_iter, verbose, cov_computation_method, random_state)\u001B[0m\n\u001B[1;32m    283\u001B[0m         \u001B[0;32mfor\u001B[0m \u001B[0mj\u001B[0m \u001B[0;32min\u001B[0m \u001B[0mrange\u001B[0m\u001B[0;34m(\u001B[0m\u001B[0mn_trials\u001B[0m\u001B[0;34m)\u001B[0m\u001B[0;34m:\u001B[0m\u001B[0;34m\u001B[0m\u001B[0;34m\u001B[0m\u001B[0m\n\u001B[1;32m    284\u001B[0m             all_estimates.append(\n\u001B[0;32m--> 285\u001B[0;31m                 _c_step(\n\u001B[0m\u001B[1;32m    286\u001B[0m                     \u001B[0mX\u001B[0m\u001B[0;34m,\u001B[0m \u001B[0mn_support\u001B[0m\u001B[0;34m,\u001B[0m \u001B[0mremaining_iterations\u001B[0m\u001B[0;34m=\u001B[0m\u001B[0mn_iter\u001B[0m\u001B[0;34m,\u001B[0m \u001B[0mverbose\u001B[0m\u001B[0;34m=\u001B[0m\u001B[0mverbose\u001B[0m\u001B[0;34m,\u001B[0m\u001B[0;34m\u001B[0m\u001B[0;34m\u001B[0m\u001B[0m\n\u001B[1;32m    287\u001B[0m                     \u001B[0mcov_computation_method\u001B[0m\u001B[0;34m=\u001B[0m\u001B[0mcov_computation_method\u001B[0m\u001B[0;34m,\u001B[0m\u001B[0;34m\u001B[0m\u001B[0;34m\u001B[0m\u001B[0m\n",
      "\u001B[0;32m~/miniconda3/envs/O/lib/python3.9/site-packages/sklearn/covariance/_robust_covariance.py\u001B[0m in \u001B[0;36m_c_step\u001B[0;34m(X, n_support, random_state, remaining_iterations, initial_estimates, verbose, cov_computation_method)\u001B[0m\n\u001B[1;32m    146\u001B[0m         \u001B[0mlocation\u001B[0m \u001B[0;34m=\u001B[0m \u001B[0mX_support\u001B[0m\u001B[0;34m.\u001B[0m\u001B[0mmean\u001B[0m\u001B[0;34m(\u001B[0m\u001B[0maxis\u001B[0m\u001B[0;34m=\u001B[0m\u001B[0;36m0\u001B[0m\u001B[0;34m)\u001B[0m\u001B[0;34m\u001B[0m\u001B[0;34m\u001B[0m\u001B[0m\n\u001B[1;32m    147\u001B[0m         \u001B[0mcovariance\u001B[0m \u001B[0;34m=\u001B[0m \u001B[0mcov_computation_method\u001B[0m\u001B[0;34m(\u001B[0m\u001B[0mX_support\u001B[0m\u001B[0;34m)\u001B[0m\u001B[0;34m\u001B[0m\u001B[0;34m\u001B[0m\u001B[0m\n\u001B[0;32m--> 148\u001B[0;31m         \u001B[0mdet\u001B[0m \u001B[0;34m=\u001B[0m \u001B[0mfast_logdet\u001B[0m\u001B[0;34m(\u001B[0m\u001B[0mcovariance\u001B[0m\u001B[0;34m)\u001B[0m\u001B[0;34m\u001B[0m\u001B[0;34m\u001B[0m\u001B[0m\n\u001B[0m\u001B[1;32m    149\u001B[0m         \u001B[0;31m# update remaining iterations for early stopping\u001B[0m\u001B[0;34m\u001B[0m\u001B[0;34m\u001B[0m\u001B[0m\n\u001B[1;32m    150\u001B[0m         \u001B[0mremaining_iterations\u001B[0m \u001B[0;34m-=\u001B[0m \u001B[0;36m1\u001B[0m\u001B[0;34m\u001B[0m\u001B[0;34m\u001B[0m\u001B[0m\n",
      "\u001B[0;32m~/miniconda3/envs/O/lib/python3.9/site-packages/sklearn/utils/extmath.py\u001B[0m in \u001B[0;36mfast_logdet\u001B[0;34m(A)\u001B[0m\n\u001B[1;32m     91\u001B[0m         \u001B[0mThe\u001B[0m \u001B[0mmatrix\u001B[0m\u001B[0;34m\u001B[0m\u001B[0;34m\u001B[0m\u001B[0m\n\u001B[1;32m     92\u001B[0m     \"\"\"\n\u001B[0;32m---> 93\u001B[0;31m     \u001B[0msign\u001B[0m\u001B[0;34m,\u001B[0m \u001B[0mld\u001B[0m \u001B[0;34m=\u001B[0m \u001B[0mnp\u001B[0m\u001B[0;34m.\u001B[0m\u001B[0mlinalg\u001B[0m\u001B[0;34m.\u001B[0m\u001B[0mslogdet\u001B[0m\u001B[0;34m(\u001B[0m\u001B[0mA\u001B[0m\u001B[0;34m)\u001B[0m\u001B[0;34m\u001B[0m\u001B[0;34m\u001B[0m\u001B[0m\n\u001B[0m\u001B[1;32m     94\u001B[0m     \u001B[0;32mif\u001B[0m \u001B[0;32mnot\u001B[0m \u001B[0msign\u001B[0m \u001B[0;34m>\u001B[0m \u001B[0;36m0\u001B[0m\u001B[0;34m:\u001B[0m\u001B[0;34m\u001B[0m\u001B[0;34m\u001B[0m\u001B[0m\n\u001B[1;32m     95\u001B[0m         \u001B[0;32mreturn\u001B[0m \u001B[0;34m-\u001B[0m\u001B[0mnp\u001B[0m\u001B[0;34m.\u001B[0m\u001B[0minf\u001B[0m\u001B[0;34m\u001B[0m\u001B[0;34m\u001B[0m\u001B[0m\n",
      "\u001B[0;32m<__array_function__ internals>\u001B[0m in \u001B[0;36mslogdet\u001B[0;34m(*args, **kwargs)\u001B[0m\n",
      "\u001B[0;32m~/miniconda3/envs/O/lib/python3.9/site-packages/numpy/linalg/linalg.py\u001B[0m in \u001B[0;36mslogdet\u001B[0;34m(a)\u001B[0m\n\u001B[1;32m   2096\u001B[0m     \u001B[0mreal_t\u001B[0m \u001B[0;34m=\u001B[0m \u001B[0m_realType\u001B[0m\u001B[0;34m(\u001B[0m\u001B[0mresult_t\u001B[0m\u001B[0;34m)\u001B[0m\u001B[0;34m\u001B[0m\u001B[0;34m\u001B[0m\u001B[0m\n\u001B[1;32m   2097\u001B[0m     \u001B[0msignature\u001B[0m \u001B[0;34m=\u001B[0m \u001B[0;34m'D->Dd'\u001B[0m \u001B[0;32mif\u001B[0m \u001B[0misComplexType\u001B[0m\u001B[0;34m(\u001B[0m\u001B[0mt\u001B[0m\u001B[0;34m)\u001B[0m \u001B[0;32melse\u001B[0m \u001B[0;34m'd->dd'\u001B[0m\u001B[0;34m\u001B[0m\u001B[0;34m\u001B[0m\u001B[0m\n\u001B[0;32m-> 2098\u001B[0;31m     \u001B[0msign\u001B[0m\u001B[0;34m,\u001B[0m \u001B[0mlogdet\u001B[0m \u001B[0;34m=\u001B[0m \u001B[0m_umath_linalg\u001B[0m\u001B[0;34m.\u001B[0m\u001B[0mslogdet\u001B[0m\u001B[0;34m(\u001B[0m\u001B[0ma\u001B[0m\u001B[0;34m,\u001B[0m \u001B[0msignature\u001B[0m\u001B[0;34m=\u001B[0m\u001B[0msignature\u001B[0m\u001B[0;34m)\u001B[0m\u001B[0;34m\u001B[0m\u001B[0;34m\u001B[0m\u001B[0m\n\u001B[0m\u001B[1;32m   2099\u001B[0m     \u001B[0msign\u001B[0m \u001B[0;34m=\u001B[0m \u001B[0msign\u001B[0m\u001B[0;34m.\u001B[0m\u001B[0mastype\u001B[0m\u001B[0;34m(\u001B[0m\u001B[0mresult_t\u001B[0m\u001B[0;34m,\u001B[0m \u001B[0mcopy\u001B[0m\u001B[0;34m=\u001B[0m\u001B[0;32mFalse\u001B[0m\u001B[0;34m)\u001B[0m\u001B[0;34m\u001B[0m\u001B[0;34m\u001B[0m\u001B[0m\n\u001B[1;32m   2100\u001B[0m     \u001B[0mlogdet\u001B[0m \u001B[0;34m=\u001B[0m \u001B[0mlogdet\u001B[0m\u001B[0;34m.\u001B[0m\u001B[0mastype\u001B[0m\u001B[0;34m(\u001B[0m\u001B[0mreal_t\u001B[0m\u001B[0;34m,\u001B[0m \u001B[0mcopy\u001B[0m\u001B[0;34m=\u001B[0m\u001B[0;32mFalse\u001B[0m\u001B[0;34m)\u001B[0m\u001B[0;34m\u001B[0m\u001B[0;34m\u001B[0m\u001B[0m\n",
      "\u001B[0;31mKeyboardInterrupt\u001B[0m: "
     ]
    }
   ],
   "source": [
    "train_scoresX, train_labelsX = O.OutlierDetector.detect_outliers(downsampled_imgs, pyod_algorithm='MCD')\n",
    "O.Features.view_image_and_features(imgs, ['downsample'], train_scores=[train_scoresX])"
   ]
  },
  {
   "cell_type": "code",
   "execution_count": null,
   "id": "865f1e0a",
   "metadata": {},
   "outputs": [],
   "source": [
    "# I interupted kernel after about 30 minutes of sitting idle"
   ]
  }
 ],
 "metadata": {
  "kernelspec": {
   "display_name": "Python 3 (ipykernel)",
   "language": "python",
   "name": "python3"
  },
  "language_info": {
   "codemirror_mode": {
    "name": "ipython",
    "version": 3
   },
   "file_extension": ".py",
   "mimetype": "text/x-python",
   "name": "python",
   "nbconvert_exporter": "python",
   "pygments_lexer": "ipython3",
   "version": "3.9.7"
  }
 },
 "nbformat": 4,
 "nbformat_minor": 5
}
