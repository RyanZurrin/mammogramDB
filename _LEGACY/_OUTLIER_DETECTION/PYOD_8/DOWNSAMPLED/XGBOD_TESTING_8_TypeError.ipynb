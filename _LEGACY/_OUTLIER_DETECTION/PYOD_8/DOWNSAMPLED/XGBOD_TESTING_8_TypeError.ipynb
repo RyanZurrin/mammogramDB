{
 "cells": [
  {
   "cell_type": "markdown",
   "id": "d0adee30",
   "metadata": {},
   "source": [
    "# XGBOD - Improving Supervised Outlier Detection with Unsupervised Representation Learning. A semi-supervised outlier detection framework.\n",
    "### XGBOD class for outlier detection. It first uses the passed in unsupervised outlier detectors to extract richer representation of the data and then concatenates the newly generated features to the original feature for constructing the augmented feature space. An XGBoost classifier is then applied on this augmented feature space. \n",
    "Source: https://pyod.readthedocs.io/en/latest/pyod.models.html#module-pyod.models.xgbod"
   ]
  },
  {
   "cell_type": "markdown",
   "id": "51813d2e",
   "metadata": {},
   "source": [
    "### Arguments that work with XGBOD algorithm:\n",
    "1. X\n",
    "2. Y"
   ]
  },
  {
   "cell_type": "code",
   "execution_count": 1,
   "id": "1aa4da19",
   "metadata": {},
   "outputs": [
    {
     "name": "stdout",
     "output_type": "stream",
     "text": [
      "Populating the interactive namespace from numpy and matplotlib\n"
     ]
    }
   ],
   "source": [
    "%pylab inline\n",
    "%load_ext autoreload\n",
    "%autoreload 2\n",
    "import sys\n",
    "import time\n",
    "sys.path.insert(0,'../../../..')\n",
    "import omama as O"
   ]
  },
  {
   "cell_type": "code",
   "execution_count": 2,
   "id": "b5fa73c4",
   "metadata": {
    "scrolled": true
   },
   "outputs": [
    {
     "name": "stdout",
     "output_type": "stream",
     "text": [
      "get2D                    ...took   257.090974 seconds\n",
      "image downsampling       ...took     7.564911 seconds\n",
      "image downsampling       ...took    13.904374 seconds\n",
      "image downsampling       ...took    16.762820 seconds\n",
      "image downsampling       ...took    33.573192 seconds\n",
      "image downsampling       ...took    36.437873 seconds\n",
      "image downsampling       ...took    53.002605 seconds\n",
      "image downsampling       ...took    59.313259 seconds\n",
      "image downsampling       ...took    62.160951 seconds\n",
      "image downsampling       ...took    65.176659 seconds\n",
      "image downsampling       ...took    68.082411 seconds\n",
      "image downsampling       ...took    70.937007 seconds\n",
      "image downsampling       ...took    73.748523 seconds\n",
      "image downsampling       ...took    76.617876 seconds\n",
      "image downsampling       ...took    82.923743 seconds\n",
      "image downsampling       ...took    85.788069 seconds\n",
      "image downsampling       ...took    88.608979 seconds\n",
      "image downsampling       ...took    94.956528 seconds\n",
      "image downsampling       ...took    97.789882 seconds\n",
      "image downsampling       ...took   104.270563 seconds\n",
      "image downsampling       ...took   107.149294 seconds\n",
      "image downsampling       ...took   113.501878 seconds\n",
      "image downsampling       ...took   130.136086 seconds\n",
      "image downsampling       ...took   136.445797 seconds\n",
      "image downsampling       ...took   142.814024 seconds\n",
      "image downsampling       ...took   149.404512 seconds\n",
      "image downsampling       ...took   155.721422 seconds\n",
      "image downsampling       ...took   158.621870 seconds\n",
      "image downsampling       ...took   164.937301 seconds\n",
      "image downsampling       ...took   167.793874 seconds\n",
      "image downsampling       ...took   174.125882 seconds\n",
      "image downsampling       ...took   180.443904 seconds\n",
      "image downsampling       ...took   186.770458 seconds\n",
      "image downsampling       ...took   189.836044 seconds\n",
      "image downsampling       ...took   198.345869 seconds\n",
      "image downsampling       ...took   201.189434 seconds\n",
      "image downsampling       ...took   204.009384 seconds\n",
      "image downsampling       ...took   210.349601 seconds\n",
      "image downsampling       ...took   216.684801 seconds\n",
      "image downsampling       ...took   219.541944 seconds\n",
      "image downsampling       ...took   225.867976 seconds\n",
      "image downsampling       ...took   232.300180 seconds\n",
      "image downsampling       ...took   235.324770 seconds\n",
      "image downsampling       ...took   241.657261 seconds\n",
      "image downsampling       ...took   244.530894 seconds\n",
      "image downsampling       ...took   250.861873 seconds\n",
      "image downsampling       ...took   257.159137 seconds\n",
      "image downsampling       ...took   263.483988 seconds\n",
      "image downsampling       ...took   269.821742 seconds\n",
      "image downsampling       ...took   276.158254 seconds\n",
      "image downsampling       ...took   292.943820 seconds\n",
      "image downsampling       ...took   295.787104 seconds\n",
      "image downsampling       ...took   298.611069 seconds\n",
      "image downsampling       ...took   315.319909 seconds\n",
      "image downsampling       ...took   321.648249 seconds\n",
      "image downsampling       ...took   324.681766 seconds\n",
      "image downsampling       ...took   333.166590 seconds\n",
      "image downsampling       ...took   336.016554 seconds\n",
      "image downsampling       ...took   338.837312 seconds\n",
      "image downsampling       ...took   341.684837 seconds\n",
      "image downsampling       ...took   344.513519 seconds\n",
      "image downsampling       ...took   361.153640 seconds\n",
      "image downsampling       ...took   369.912189 seconds\n",
      "image downsampling       ...took   372.721255 seconds\n",
      "image downsampling       ...took   375.544810 seconds\n",
      "image downsampling       ...took   381.897585 seconds\n",
      "image downsampling       ...took   388.230279 seconds\n",
      "image downsampling       ...took   391.069751 seconds\n",
      "image downsampling       ...took   393.941871 seconds\n",
      "image downsampling       ...took   400.254625 seconds\n",
      "image downsampling       ...took   406.839646 seconds\n",
      "image downsampling       ...took   409.704056 seconds\n",
      "image downsampling       ...took   416.020384 seconds\n",
      "image downsampling       ...took   418.836146 seconds\n",
      "image downsampling       ...took   425.198513 seconds\n",
      "image downsampling       ...took   428.004335 seconds\n",
      "image downsampling       ...took   436.518671 seconds\n",
      "image downsampling       ...took   439.379732 seconds\n",
      "image downsampling       ...took   445.785104 seconds\n",
      "image downsampling       ...took   452.253899 seconds\n",
      "image downsampling       ...took   458.609574 seconds\n",
      "image downsampling       ...took   464.941860 seconds\n",
      "image downsampling       ...took   467.789871 seconds\n",
      "image downsampling       ...took   470.633873 seconds\n",
      "image downsampling       ...took   476.947656 seconds\n",
      "image downsampling       ...took   483.292345 seconds\n",
      "image downsampling       ...took   486.303279 seconds\n",
      "image downsampling       ...took   489.163812 seconds\n",
      "image downsampling       ...took   495.497872 seconds\n",
      "image downsampling       ...took   501.858357 seconds\n",
      "image downsampling       ...took   508.277237 seconds\n",
      "image downsampling       ...took   514.669812 seconds\n",
      "image downsampling       ...took   531.838722 seconds\n",
      "image downsampling       ...took   534.781646 seconds\n",
      "image downsampling       ...took   541.325384 seconds\n",
      "image downsampling       ...took   544.289788 seconds\n",
      "image downsampling       ...took   546.794658 seconds\n",
      "image downsampling       ...took   551.072368 seconds\n",
      "image downsampling       ...took   554.290467 seconds\n",
      "image downsampling       ...took   555.225573 seconds\n",
      "image downsampling       ...took   556.153143 seconds\n",
      "downsample               ...took   556.178996 seconds\n"
     ]
    }
   ],
   "source": [
    "imgs = O.DataHelper.get2D(N = 100, config_num=5, randomize=True, timing=True)\n",
    "downsampled_imgs = O.Normalize.downsample(imgs, output_shape=(64, 64), flatten=True, timing=True)"
   ]
  },
  {
   "cell_type": "code",
   "execution_count": 4,
   "id": "b376126b",
   "metadata": {},
   "outputs": [
    {
     "ename": "TypeError",
     "evalue": "fit() missing 1 required positional argument: 'y'",
     "output_type": "error",
     "traceback": [
      "\u001B[0;31m---------------------------------------------------------------------------\u001B[0m",
      "\u001B[0;31mTypeError\u001B[0m                                 Traceback (most recent call last)",
      "\u001B[0;32m/tmp/ipykernel_1257376/404411311.py\u001B[0m in \u001B[0;36m<module>\u001B[0;34m\u001B[0m\n\u001B[0;32m----> 1\u001B[0;31m \u001B[0mtrain_scoresX\u001B[0m\u001B[0;34m,\u001B[0m \u001B[0mtrain_labelsX\u001B[0m \u001B[0;34m=\u001B[0m \u001B[0mO\u001B[0m\u001B[0;34m.\u001B[0m\u001B[0mOutlierDetector\u001B[0m\u001B[0;34m.\u001B[0m\u001B[0mdetect_outliers\u001B[0m\u001B[0;34m(\u001B[0m\u001B[0mdownsampled_imgs\u001B[0m\u001B[0;34m,\u001B[0m \u001B[0mpyod_algorithm\u001B[0m\u001B[0;34m=\u001B[0m\u001B[0;34m'XGBOD'\u001B[0m\u001B[0;34m)\u001B[0m\u001B[0;34m\u001B[0m\u001B[0;34m\u001B[0m\u001B[0m\n\u001B[0m\u001B[1;32m      2\u001B[0m \u001B[0mO\u001B[0m\u001B[0;34m.\u001B[0m\u001B[0mFeatures\u001B[0m\u001B[0;34m.\u001B[0m\u001B[0mview_image_and_features\u001B[0m\u001B[0;34m(\u001B[0m\u001B[0mimgs\u001B[0m\u001B[0;34m,\u001B[0m \u001B[0;34m[\u001B[0m\u001B[0;34m'downsample'\u001B[0m\u001B[0;34m]\u001B[0m\u001B[0;34m,\u001B[0m \u001B[0mtrain_scores\u001B[0m\u001B[0;34m=\u001B[0m\u001B[0;34m[\u001B[0m\u001B[0mtrain_scoresX\u001B[0m\u001B[0;34m]\u001B[0m\u001B[0;34m)\u001B[0m\u001B[0;34m\u001B[0m\u001B[0;34m\u001B[0m\u001B[0m\n",
      "\u001B[0;32m~/Projects/omama/_EXPERIMENTS/OUTLIER_DETECTION/PYOD_5/DOWNSAMPLED/../../../../omama/outlier_detection/outlier_detector.py\u001B[0m in \u001B[0;36mdetect_outliers\u001B[0;34m(data_x, data_y, pyod_algorithm, activation_hidden, algorithm, alpha, approx_clf, approx_clf_list, approx_flag_global, approx_ng_clf_list, assume_centered, bandwidth, base_estimator, base_estimators, batch_size, behaviour, beta, bootstrap, bootstrap_features, bps_flag, c, cache_size, capacity, check_detector, check_estimator, clustering_estimator, coef0, combination, contamination, copy, cost_forecast_loc_fit, cost_forecast_loc_pred, covariance_type, D_layers, decay, decoder_neurons, degree, dis_measure, dropout_rate, encoder_neurons, epochs, epochs_query, eps, estimator_params, G_layers, gamma, hidden_activation, hidden_neurons, index_D_layer_for_recon_error, init_params, iterated_power, jl_method, kernel, l2_regularizer, latent_dim, latent_dim_G, leaf_size, learning_rate, learning_rate_query, loss, lr_d, lr_g, max_features, max_iter, max_samples, means_init, method, metric, metric_params, momentum, n_bins, n_clusters, n_components, n_estimators, n_init, n_iter, n_jobs, n_neighbors, n_random_cuts, n_selected_components, novelty, nu, optimizer, output_activation, p, parallel_execution, perplexity, precisions_init, preprocessing, radius, random_state, ref_set, reg_covar, rp_clf_list, rp_ng_clf_list, rp_flag_global, rule_of_thumb, shrinking, standardization, stop_epochs, store_precision, subset_size, support_fraction, svd_solver, target_dim_frac, tol, use_ae, use_weights, validation_size, verbose, warm_start, weighted, weights_init, whiten, whitening)\u001B[0m\n\u001B[1;32m    931\u001B[0m \u001B[0;34m\u001B[0m\u001B[0m\n\u001B[1;32m    932\u001B[0m         \u001B[0;32mif\u001B[0m \u001B[0mdata_y\u001B[0m \u001B[0;32mis\u001B[0m \u001B[0;32mNone\u001B[0m\u001B[0;34m:\u001B[0m\u001B[0;34m\u001B[0m\u001B[0;34m\u001B[0m\u001B[0m\n\u001B[0;32m--> 933\u001B[0;31m             \u001B[0mclf\u001B[0m\u001B[0;34m.\u001B[0m\u001B[0mfit\u001B[0m\u001B[0;34m(\u001B[0m\u001B[0mdata_x\u001B[0m\u001B[0;34m)\u001B[0m\u001B[0;34m\u001B[0m\u001B[0;34m\u001B[0m\u001B[0m\n\u001B[0m\u001B[1;32m    934\u001B[0m         \u001B[0;32melse\u001B[0m\u001B[0;34m:\u001B[0m\u001B[0;34m\u001B[0m\u001B[0;34m\u001B[0m\u001B[0m\n\u001B[1;32m    935\u001B[0m             \u001B[0mclf\u001B[0m\u001B[0;34m.\u001B[0m\u001B[0mfit\u001B[0m\u001B[0;34m(\u001B[0m\u001B[0mdata_x\u001B[0m\u001B[0;34m,\u001B[0m \u001B[0mdata_y\u001B[0m\u001B[0;34m)\u001B[0m\u001B[0;34m\u001B[0m\u001B[0;34m\u001B[0m\u001B[0m\n",
      "\u001B[0;31mTypeError\u001B[0m: fit() missing 1 required positional argument: 'y'"
     ]
    }
   ],
   "source": [
    "train_scoresX, train_labelsX = O.OutlierDetector.detect_outliers(downsampled_imgs, pyod_algorithm='XGBOD')\n",
    "O.Features.view_image_and_features(imgs, ['downsample'], train_scores=[train_scoresX])"
   ]
  },
  {
   "cell_type": "code",
   "execution_count": null,
   "id": "ee5a7823",
   "metadata": {},
   "outputs": [],
   "source": []
  }
 ],
 "metadata": {
  "kernelspec": {
   "display_name": "Python 3 (ipykernel)",
   "language": "python",
   "name": "python3"
  },
  "language_info": {
   "codemirror_mode": {
    "name": "ipython",
    "version": 3
   },
   "file_extension": ".py",
   "mimetype": "text/x-python",
   "name": "python",
   "nbconvert_exporter": "python",
   "pygments_lexer": "ipython3",
   "version": "3.9.7"
  }
 },
 "nbformat": 4,
 "nbformat_minor": 5
}
