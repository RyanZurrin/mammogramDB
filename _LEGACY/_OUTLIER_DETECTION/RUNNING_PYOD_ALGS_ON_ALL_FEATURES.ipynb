{
 "cells": [
  {
   "cell_type": "code",
   "execution_count": 1,
   "id": "9c4c3178",
   "metadata": {},
   "outputs": [
    {
     "name": "stdout",
     "output_type": "stream",
     "text": [
      "Populating the interactive namespace from numpy and matplotlib\n"
     ]
    }
   ],
   "source": [
    "%pylab inline\n",
    "%load_ext autoreload\n",
    "%autoreload 2"
   ]
  },
  {
   "cell_type": "code",
   "execution_count": 2,
   "id": "cd0b0e80",
   "metadata": {},
   "outputs": [],
   "source": [
    "import sys\n",
    "import time\n",
    "sys.path.insert(0,'../..')\n",
    "import omama as O"
   ]
  },
  {
   "cell_type": "code",
   "execution_count": 3,
   "id": "03f87e2d",
   "metadata": {},
   "outputs": [
    {
     "name": "stdout",
     "output_type": "stream",
     "text": [
      "get2D                    ...took    42.505787 seconds\n"
     ]
    }
   ],
   "source": [
    "imgs_8 = O.DataHelper.get2D(N = 100, config_num=5, randomize=True, timing=True)"
   ]
  },
  {
   "cell_type": "code",
   "execution_count": 9,
   "id": "6b2a978f",
   "metadata": {},
   "outputs": [
    {
     "name": "stdout",
     "output_type": "stream",
     "text": [
      "get2D                    ...took    42.171206 seconds\n"
     ]
    }
   ],
   "source": [
    "imgs_13 =  O.DataHelper.get2D(N = 100, config_num=6, randomize=True, timing=True)"
   ]
  },
  {
   "cell_type": "code",
   "execution_count": 16,
   "id": "f82e2199",
   "metadata": {},
   "outputs": [
    {
     "name": "stdout",
     "output_type": "stream",
     "text": [
      "get2D                    ...took    42.303612 seconds\n"
     ]
    }
   ],
   "source": [
    "imgs_24 =  O.DataHelper.get2D(N = 100, config_num=7, randomize=True, timing=True)"
   ]
  },
  {
   "cell_type": "code",
   "execution_count": 4,
   "id": "b51afbda",
   "metadata": {},
   "outputs": [],
   "source": [
    "hist_8 = O.Features.get_features(imgs_8, feature_type=\"hist\", norm_type=\"minmax\")"
   ]
  },
  {
   "cell_type": "code",
   "execution_count": 13,
   "id": "8ac8e41d",
   "metadata": {},
   "outputs": [],
   "source": [
    "hist_13 = O.Features.get_features(imgs_13, feature_type=\"hist\", norm_type=\"minmax\")"
   ]
  },
  {
   "cell_type": "code",
   "execution_count": null,
   "id": "4c8f6921",
   "metadata": {},
   "outputs": [],
   "source": [
    "hist_24 = O.Features.get_features(imgs_24, feature_type=\"hist\", norm_type=\"minmax\")"
   ]
  },
  {
   "cell_type": "code",
   "execution_count": 4,
   "id": "93e756a7",
   "metadata": {},
   "outputs": [],
   "source": [
    "down_8 = O.Normalize.downsample(imgs_8, output_shape=(64, 64), flatten=True)"
   ]
  },
  {
   "cell_type": "code",
   "execution_count": null,
   "id": "bc959e15",
   "metadata": {},
   "outputs": [],
   "source": [
    "down_13 = O.Normalize.downsample(imgs_13, output_shape=(64, 64), flatten=True)"
   ]
  },
  {
   "cell_type": "code",
   "execution_count": 17,
   "id": "9aabd4ee",
   "metadata": {},
   "outputs": [],
   "source": [
    "down_24 = O.Normalize.downsample(imgs_24, output_shape=(64, 64), flatten=True)"
   ]
  },
  {
   "cell_type": "code",
   "execution_count": 5,
   "id": "5a5553fc",
   "metadata": {},
   "outputs": [],
   "source": [
    "agruments_8 = {\"contamination\": .08, \"verbose\": False}\n",
    "agruments_13 = {\"contamination\": .13, \"verbose\": False}\n",
    "agruments_24 = {\"contamination\": .24, \"verbose\": False}"
   ]
  },
  {
   "cell_type": "code",
   "execution_count": 12,
   "id": "8bb4f55c",
   "metadata": {},
   "outputs": [
    {
     "ename": "NameError",
     "evalue": "name 'hist_8' is not defined",
     "output_type": "error",
     "traceback": [
      "\u001B[0;31m---------------------------------------------------------------------------\u001B[0m",
      "\u001B[0;31mNameError\u001B[0m                                 Traceback (most recent call last)",
      "\u001B[0;32m/tmp/ipykernel_2855816/811024398.py\u001B[0m in \u001B[0;36m<module>\u001B[0;34m\u001B[0m\n\u001B[0;32m----> 1\u001B[0;31m \u001B[0mOLD_H8\u001B[0m \u001B[0;34m=\u001B[0m \u001B[0mO\u001B[0m\u001B[0;34m.\u001B[0m\u001B[0mOutlierDetector\u001B[0m\u001B[0;34m(\u001B[0m\u001B[0mrun_id\u001B[0m\u001B[0;34m=\u001B[0m\u001B[0;34m'Histogram'\u001B[0m\u001B[0;34m,\u001B[0m \u001B[0mimgs\u001B[0m\u001B[0;34m=\u001B[0m\u001B[0mimgs_8\u001B[0m\u001B[0;34m,\u001B[0m \u001B[0mfeatures\u001B[0m\u001B[0;34m=\u001B[0m\u001B[0mhist_8\u001B[0m\u001B[0;34m,\u001B[0m \u001B[0mnumber_bad\u001B[0m\u001B[0;34m=\u001B[0m\u001B[0;36m8\u001B[0m\u001B[0;34m,\u001B[0m \u001B[0mverbose\u001B[0m\u001B[0;34m=\u001B[0m\u001B[0;32mFalse\u001B[0m\u001B[0;34m,\u001B[0m \u001B[0mtiming\u001B[0m\u001B[0;34m=\u001B[0m\u001B[0;32mTrue\u001B[0m\u001B[0;34m,\u001B[0m \u001B[0mkwargs\u001B[0m\u001B[0;34m=\u001B[0m\u001B[0magruments_8\u001B[0m\u001B[0;34m)\u001B[0m\u001B[0;34m\u001B[0m\u001B[0;34m\u001B[0m\u001B[0m\n\u001B[0m",
      "\u001B[0;31mNameError\u001B[0m: name 'hist_8' is not defined"
     ]
    }
   ],
   "source": [
    "OLD_H8 = O.OutlierDetector(run_id='Histogram', imgs=imgs_8, features=hist_8, number_bad=8, verbose=False, timing=True, kwargs=agruments_8)"
   ]
  },
  {
   "cell_type": "code",
   "execution_count": 14,
   "id": "b7a99be7",
   "metadata": {},
   "outputs": [
    {
     "name": "stderr",
     "output_type": "stream",
     "text": [
      "[Parallel(n_jobs=1)]: Using backend SequentialBackend with 1 concurrent workers.\n",
      "[Parallel(n_jobs=1)]: Done   1 out of   1 | elapsed:    0.6s finished\n",
      "[Parallel(n_jobs=1)]: Using backend SequentialBackend with 1 concurrent workers.\n",
      "[Parallel(n_jobs=1)]: Done   1 out of   1 | elapsed:    0.4s finished\n"
     ]
    },
    {
     "name": "stdout",
     "output_type": "stream",
     "text": [
      "run_all_algorithms       ...took    93.577225 seconds\n",
      "OD __init__              ...took    93.577732 seconds\n"
     ]
    }
   ],
   "source": [
    "OLD_H13 = O.OutlierDetector(run_id='Histogram', imgs=imgs_13, features=hist_13, number_bad=13, verbose=False, timing=True, kwargs=agruments_13)"
   ]
  },
  {
   "cell_type": "code",
   "execution_count": null,
   "id": "1ac7536f",
   "metadata": {},
   "outputs": [],
   "source": [
    "OLD_H24 = O.OutlierDetector(run_id='Histogram', imgs=imgs_24, features=hist_24, number_bad=24, verbose=False, timing=True, kwargs=agruments_24)"
   ]
  },
  {
   "cell_type": "code",
   "execution_count": 7,
   "id": "c208669c",
   "metadata": {},
   "outputs": [
    {
     "name": "stderr",
     "output_type": "stream",
     "text": [
      "[Parallel(n_jobs=1)]: Using backend SequentialBackend with 1 concurrent workers.\n",
      "[Parallel(n_jobs=1)]: Done   1 out of   1 | elapsed:    8.8s finished\n",
      "[Parallel(n_jobs=1)]: Using backend SequentialBackend with 1 concurrent workers.\n",
      "[Parallel(n_jobs=1)]: Done   1 out of   1 | elapsed:    5.1s finished\n"
     ]
    },
    {
     "name": "stdout",
     "output_type": "stream",
     "text": [
      "run_all_algorithms       ...took   152.932643 seconds\n",
      "OD __init__              ...took   152.932955 seconds\n"
     ]
    }
   ],
   "source": [
    "OLD_D8 = O.OutlierDetector(run_id='DownSample', imgs=imgs_8, features=down_8, number_bad=8, exclude=['MCD'], verbose=False, timing=True, kwargs=agruments_8)"
   ]
  },
  {
   "cell_type": "code",
   "execution_count": null,
   "id": "2c858a8d",
   "metadata": {},
   "outputs": [],
   "source": [
    "OLD_D13 = O.OutlierDetector(run_id='DownSample', imgs=imgs_13, features=down_13, number_bad=13, exclude=['MCD'], verbose=False, timing=True, kwargs=agruments_13)"
   ]
  },
  {
   "cell_type": "code",
   "execution_count": 18,
   "id": "1e3ee50f",
   "metadata": {},
   "outputs": [
    {
     "name": "stderr",
     "output_type": "stream",
     "text": [
      "[Parallel(n_jobs=1)]: Using backend SequentialBackend with 1 concurrent workers.\n",
      "[Parallel(n_jobs=1)]: Done   1 out of   1 | elapsed:   12.8s finished\n",
      "[Parallel(n_jobs=1)]: Using backend SequentialBackend with 1 concurrent workers.\n",
      "[Parallel(n_jobs=1)]: Done   1 out of   1 | elapsed:    5.1s finished\n"
     ]
    },
    {
     "name": "stdout",
     "output_type": "stream",
     "text": [
      "run_all_algorithms       ...took   144.181931 seconds\n",
      "OD __init__              ...took   144.182473 seconds\n"
     ]
    }
   ],
   "source": [
    "OLD_D24 = O.OutlierDetector(run_id='DownSample', imgs=imgs_24, features=down_24, number_bad=24, exclude=['MCD'], verbose=False, timing=True, kwargs=agruments_24)"
   ]
  },
  {
   "cell_type": "code",
   "execution_count": null,
   "id": "d61d62fd",
   "metadata": {},
   "outputs": [],
   "source": []
  },
  {
   "cell_type": "code",
   "execution_count": 19,
   "id": "28c45800",
   "metadata": {},
   "outputs": [
    {
     "name": "stdout",
     "output_type": "stream",
     "text": [
      "{\n",
      "    \"Histograms_8\": {\n",
      "        \"IForest\": 0.25,\n",
      "        \"Sampling\": 0.25,\n",
      "        \"PCA\": 0.25,\n",
      "        \"HBOS\": 0.25,\n",
      "        \"AE\": 0.25,\n",
      "        \"VAE\": 0.25,\n",
      "        \"DeepSVDD\": 0.25,\n",
      "        \"ECOD\": 0.125,\n",
      "        \"COPOD\": 0.125,\n",
      "        \"SUOD\": 0.125,\n",
      "        \"LOF\": 0.0,\n",
      "        \"OCSVM\": 0.0,\n",
      "        \"CBLOF\": 0.0,\n",
      "        \"SOS\": 0.0,\n",
      "        \"KDE\": 0.0,\n",
      "        \"MCD\": 0.0,\n",
      "        \"LMDD\": 0.0,\n",
      "        \"COF\": 0.0,\n",
      "        \"KNN\": 0.0,\n",
      "        \"AvgKNN\": 0.0,\n",
      "        \"MedKNN\": 0.0,\n",
      "        \"SOD\": 0.0,\n",
      "        \"INNE\": 0.0,\n",
      "        \"FB\": 0.0,\n",
      "        \"LODA\": 0.0,\n",
      "        \"SOGAAL\": 0.0,\n",
      "        \"MOGAAL\": 0.0,\n",
      "        \"AnoGAN\": 0.0,\n",
      "        \"GMM\": -1,\n",
      "        \"CD\": -1,\n",
      "        \"XGBOD\": -1\n",
      "    },\n",
      "    \"Histogram_24\": {\n",
      "        \"HBOS\": 0.625,\n",
      "        \"IForest\": 0.4166666666666667,\n",
      "        \"COPOD\": 0.3333333333333333,\n",
      "        \"SUOD\": 0.3333333333333333,\n",
      "        \"SOD\": 0.2916666666666667,\n",
      "        \"VAE\": 0.25,\n",
      "        \"DeepSVDD\": 0.20833333333333334,\n",
      "        \"ECOD\": 0.16666666666666666,\n",
      "        \"OCSVM\": 0.16666666666666666,\n",
      "        \"KDE\": 0.16666666666666666,\n",
      "        \"PCA\": 0.16666666666666666,\n",
      "        \"MCD\": 0.16666666666666666,\n",
      "        \"AE\": 0.16666666666666666,\n",
      "        \"SOGAAL\": 0.16666666666666666,\n",
      "        \"MOGAAL\": 0.16666666666666666,\n",
      "        \"COF\": 0.08333333333333333,\n",
      "        \"INNE\": 0.08333333333333333,\n",
      "        \"FB\": 0.08333333333333333,\n",
      "        \"CBLOF\": 0.041666666666666664,\n",
      "        \"Sampling\": 0.041666666666666664,\n",
      "        \"KNN\": 0.041666666666666664,\n",
      "        \"AvgKNN\": 0.041666666666666664,\n",
      "        \"MedKNN\": 0.041666666666666664,\n",
      "        \"LOF\": 0.0,\n",
      "        \"SOS\": 0.0,\n",
      "        \"LMDD\": 0.0,\n",
      "        \"LODA\": 0.0,\n",
      "        \"AnoGAN\": 0.0,\n",
      "        \"GMM\": -1,\n",
      "        \"CD\": -1,\n",
      "        \"XGBOD\": -1\n",
      "    },\n",
      "    \"Histogram_8\": {\n",
      "        \"DeepSVDD\": 0.375,\n",
      "        \"IForest\": 0.25,\n",
      "        \"PCA\": 0.25,\n",
      "        \"HBOS\": 0.25,\n",
      "        \"AE\": 0.25,\n",
      "        \"VAE\": 0.25,\n",
      "        \"ECOD\": 0.125,\n",
      "        \"COPOD\": 0.125,\n",
      "        \"SUOD\": 0.125,\n",
      "        \"LOF\": 0.0,\n",
      "        \"OCSVM\": 0.0,\n",
      "        \"CBLOF\": 0.0,\n",
      "        \"SOS\": 0.0,\n",
      "        \"KDE\": 0.0,\n",
      "        \"Sampling\": 0.0,\n",
      "        \"MCD\": 0.0,\n",
      "        \"LMDD\": 0.0,\n",
      "        \"COF\": 0.0,\n",
      "        \"KNN\": 0.0,\n",
      "        \"AvgKNN\": 0.0,\n",
      "        \"MedKNN\": 0.0,\n",
      "        \"SOD\": 0.0,\n",
      "        \"INNE\": 0.0,\n",
      "        \"FB\": 0.0,\n",
      "        \"LODA\": 0.0,\n",
      "        \"SOGAAL\": 0.0,\n",
      "        \"MOGAAL\": 0.0,\n",
      "        \"AnoGAN\": 0.0,\n",
      "        \"GMM\": -1,\n",
      "        \"CD\": -1,\n",
      "        \"XGBOD\": -1\n",
      "    },\n",
      "    \"DownSample_8\": {\n",
      "        \"LOF\": 0.625,\n",
      "        \"CBLOF\": 0.625,\n",
      "        \"SOS\": 0.625,\n",
      "        \"KNN\": 0.625,\n",
      "        \"AvgKNN\": 0.625,\n",
      "        \"MedKNN\": 0.625,\n",
      "        \"INNE\": 0.625,\n",
      "        \"FB\": 0.625,\n",
      "        \"KDE\": 0.5,\n",
      "        \"Sampling\": 0.5,\n",
      "        \"PCA\": 0.5,\n",
      "        \"MCD\": 0.5,\n",
      "        \"SOD\": 0.5,\n",
      "        \"AE\": 0.5,\n",
      "        \"OCSVM\": 0.375,\n",
      "        \"LMDD\": 0.375,\n",
      "        \"COF\": 0.375,\n",
      "        \"SUOD\": 0.375,\n",
      "        \"VAE\": 0.375,\n",
      "        \"COPOD\": 0.25,\n",
      "        \"GMM\": 0.25,\n",
      "        \"LODA\": 0.25,\n",
      "        \"ECOD\": 0.125,\n",
      "        \"IForest\": 0.125,\n",
      "        \"MOGAAL\": 0.125,\n",
      "        \"DeepSVDD\": 0.125,\n",
      "        \"HBOS\": 0.0,\n",
      "        \"SOGAAL\": 0.0,\n",
      "        \"AnoGAN\": 0.0,\n",
      "        \"CD\": -1,\n",
      "        \"XGBOD\": -1\n",
      "    },\n",
      "    \"Histogram_13\": {\n",
      "        \"SUOD\": 0.3076923076923077,\n",
      "        \"OCSVM\": 0.23076923076923078,\n",
      "        \"IForest\": 0.23076923076923078,\n",
      "        \"COPOD\": 0.23076923076923078,\n",
      "        \"KDE\": 0.23076923076923078,\n",
      "        \"PCA\": 0.23076923076923078,\n",
      "        \"HBOS\": 0.23076923076923078,\n",
      "        \"AE\": 0.23076923076923078,\n",
      "        \"VAE\": 0.23076923076923078,\n",
      "        \"SOGAAL\": 0.23076923076923078,\n",
      "        \"MOGAAL\": 0.23076923076923078,\n",
      "        \"ECOD\": 0.15384615384615385,\n",
      "        \"DeepSVDD\": 0.15384615384615385,\n",
      "        \"SOD\": 0.07692307692307693,\n",
      "        \"LODA\": 0.07692307692307693,\n",
      "        \"AnoGAN\": 0.07692307692307693,\n",
      "        \"LOF\": 0.0,\n",
      "        \"CBLOF\": 0.0,\n",
      "        \"SOS\": 0.0,\n",
      "        \"Sampling\": 0.0,\n",
      "        \"MCD\": 0.0,\n",
      "        \"LMDD\": 0.0,\n",
      "        \"COF\": 0.0,\n",
      "        \"KNN\": 0.0,\n",
      "        \"AvgKNN\": 0.0,\n",
      "        \"MedKNN\": 0.0,\n",
      "        \"INNE\": 0.0,\n",
      "        \"FB\": 0.0,\n",
      "        \"GMM\": -1,\n",
      "        \"CD\": -1,\n",
      "        \"XGBOD\": -1\n",
      "    },\n",
      "    \"DownSample_24\": {\n",
      "        \"LOF\": 0.2916666666666667,\n",
      "        \"CBLOF\": 0.2916666666666667,\n",
      "        \"GMM\": 0.2916666666666667,\n",
      "        \"AvgKNN\": 0.2916666666666667,\n",
      "        \"INNE\": 0.2916666666666667,\n",
      "        \"FB\": 0.2916666666666667,\n",
      "        \"ECOD\": 0.25,\n",
      "        \"OCSVM\": 0.25,\n",
      "        \"IForest\": 0.25,\n",
      "        \"SOS\": 0.25,\n",
      "        \"KDE\": 0.25,\n",
      "        \"COF\": 0.25,\n",
      "        \"KNN\": 0.25,\n",
      "        \"MedKNN\": 0.25,\n",
      "        \"SUOD\": 0.25,\n",
      "        \"PCA\": 0.20833333333333334,\n",
      "        \"MCD\": 0.20833333333333334,\n",
      "        \"LMDD\": 0.20833333333333334,\n",
      "        \"SOD\": 0.20833333333333334,\n",
      "        \"AE\": 0.20833333333333334,\n",
      "        \"VAE\": 0.20833333333333334,\n",
      "        \"LODA\": 0.16666666666666666,\n",
      "        \"COPOD\": 0.125,\n",
      "        \"Sampling\": 0.125,\n",
      "        \"AnoGAN\": 0.125,\n",
      "        \"HBOS\": 0.08333333333333333,\n",
      "        \"SOGAAL\": 0.08333333333333333,\n",
      "        \"MOGAAL\": 0.041666666666666664,\n",
      "        \"DeepSVDD\": 0.041666666666666664,\n",
      "        \"CD\": -1,\n",
      "        \"XGBOD\": -1\n",
      "    }\n",
      "}\n"
     ]
    }
   ],
   "source": [
    "OLD_D8.show_records()"
   ]
  },
  {
   "cell_type": "code",
   "execution_count": null,
   "id": "ecf98dac",
   "metadata": {},
   "outputs": [],
   "source": []
  }
 ],
 "metadata": {
  "kernelspec": {
   "display_name": "Python 3 (ipykernel)",
   "language": "python",
   "name": "python3"
  },
  "language_info": {
   "codemirror_mode": {
    "name": "ipython",
    "version": 3
   },
   "file_extension": ".py",
   "mimetype": "text/x-python",
   "name": "python",
   "nbconvert_exporter": "python",
   "pygments_lexer": "ipython3",
   "version": "3.9.7"
  }
 },
 "nbformat": 4,
 "nbformat_minor": 5
}
