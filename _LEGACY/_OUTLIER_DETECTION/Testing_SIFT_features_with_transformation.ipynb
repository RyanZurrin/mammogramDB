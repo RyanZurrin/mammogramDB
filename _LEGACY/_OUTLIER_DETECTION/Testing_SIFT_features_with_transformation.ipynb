{
 "cells": [
  {
   "cell_type": "code",
   "execution_count": 1,
   "id": "5c20da49",
   "metadata": {},
   "outputs": [],
   "source": [
    "import sys\n",
    "import time\n",
    "sys.path.insert(0,'../..')\n",
    "import omama as O\n",
    "import numpy as np\n",
    "import matplotlib.pyplot as plt\n",
    "from skimage import data\n",
    "from skimage import transform\n",
    "from skimage.color import rgb2gray\n",
    "from skimage.feature import match_descriptors, plot_matches, SIFT"
   ]
  },
  {
   "cell_type": "code",
   "execution_count": 2,
   "id": "9496ffd5",
   "metadata": {},
   "outputs": [],
   "source": [
    "imgs = O.DataHelper.get2D(N=2, config_num=2)"
   ]
  },
  {
   "cell_type": "code",
   "execution_count": 3,
   "id": "c9cd22a4",
   "metadata": {},
   "outputs": [],
   "source": [
    "norm = O.Normalize.minmax(imgs[0].pixels)"
   ]
  },
  {
   "cell_type": "code",
   "execution_count": 4,
   "id": "66260f4c",
   "metadata": {},
   "outputs": [],
   "source": [
    "img1 = norm.copy()"
   ]
  },
  {
   "cell_type": "code",
   "execution_count": 5,
   "id": "0ef811f9",
   "metadata": {},
   "outputs": [],
   "source": [
    "img2 = transform.rotate(img1, 180)"
   ]
  },
  {
   "cell_type": "code",
   "execution_count": 6,
   "id": "1ebe223b",
   "metadata": {},
   "outputs": [],
   "source": [
    "tform = transform.AffineTransform(scale=(1.3, 1.1), rotation=0.5, translation=(0, -200))"
   ]
  },
  {
   "cell_type": "code",
   "execution_count": 7,
   "id": "fd284679",
   "metadata": {},
   "outputs": [],
   "source": [
    "img3 = transform.warp(img1, tform)"
   ]
  },
  {
   "cell_type": "code",
   "execution_count": 8,
   "id": "4e8d1234",
   "metadata": {},
   "outputs": [],
   "source": [
    "descriptor_extractor = SIFT()"
   ]
  },
  {
   "cell_type": "code",
   "execution_count": 9,
   "id": "a2c6d26e",
   "metadata": {},
   "outputs": [],
   "source": [
    "descriptor_extractor.detect_and_extract(img1)"
   ]
  },
  {
   "cell_type": "code",
   "execution_count": 10,
   "id": "912f1cdf",
   "metadata": {},
   "outputs": [],
   "source": [
    "keypoints1 = descriptor_extractor.keypoints\n",
    "descriptors1 = descriptor_extractor.descriptors"
   ]
  },
  {
   "cell_type": "code",
   "execution_count": 11,
   "id": "abdd2365",
   "metadata": {},
   "outputs": [],
   "source": [
    "descriptor_extractor.detect_and_extract(img2)"
   ]
  },
  {
   "cell_type": "code",
   "execution_count": 12,
   "id": "9d60b581",
   "metadata": {},
   "outputs": [],
   "source": [
    "keypoints2 = descriptor_extractor.keypoints\n",
    "descriptors2 = descriptor_extractor.descriptors"
   ]
  },
  {
   "cell_type": "code",
   "execution_count": 13,
   "id": "f36495f6",
   "metadata": {},
   "outputs": [],
   "source": [
    "descriptor_extractor.detect_and_extract(img3)"
   ]
  },
  {
   "cell_type": "code",
   "execution_count": 14,
   "id": "9aded41f",
   "metadata": {},
   "outputs": [],
   "source": [
    "keypoints3 = descriptor_extractor.keypoints\n",
    "descriptors3 = descriptor_extractor.descriptors"
   ]
  },
  {
   "cell_type": "code",
   "execution_count": 15,
   "id": "0ad85fa8",
   "metadata": {},
   "outputs": [],
   "source": [
    "matches12 = match_descriptors(descriptors1, descriptors2, max_ratio=0.6, cross_check=True)"
   ]
  },
  {
   "cell_type": "code",
   "execution_count": 16,
   "id": "c0813351",
   "metadata": {},
   "outputs": [],
   "source": [
    "matches13 = match_descriptors(descriptors1, descriptors3, max_ratio=0.6, cross_check=True)"
   ]
  },
  {
   "cell_type": "code",
   "execution_count": 32,
   "id": "93ff96b8",
   "metadata": {},
   "outputs": [
    {
     "data": {
      "image/png": "[encoded data removed]",
      "text/plain": [
       "<Figure size 792x576 with 4 Axes>"
      ]
     },
     "metadata": {
      "needs_background": "light"
     },
     "output_type": "display_data"
    }
   ],
   "source": [
    "fig, ax = plt.subplots(nrows=2, ncols=2, figsize=(11, 8))"
   ]
  },
  {
   "cell_type": "code",
   "execution_count": 33,
   "id": "dd426d9d",
   "metadata": {},
   "outputs": [
    {
     "data": {
      "text/plain": [
       "<Figure size 432x288 with 0 Axes>"
      ]
     },
     "metadata": {},
     "output_type": "display_data"
    }
   ],
   "source": [
    "\n",
    "plot_matches(ax[0, 0], img1, img2, keypoints1, keypoints2, matches12)\n",
    "ax[0, 0].axis('off')\n",
    "ax[0, 0].set_title(\"Original Image vs. Flipped Image\\n\"\n",
    "                   \"(all keypoints and matches)\")\n",
    "plt.tight_layout()\n",
    "plt.show()"
   ]
  },
  {
   "cell_type": "code",
   "execution_count": 34,
   "id": "9b684652",
   "metadata": {},
   "outputs": [
    {
     "data": {
      "text/plain": [
       "<Figure size 432x288 with 0 Axes>"
      ]
     },
     "metadata": {},
     "output_type": "display_data"
    }
   ],
   "source": [
    "\n",
    "plot_matches(ax[1, 0], img1, img3, keypoints1, keypoints3, matches13)\n",
    "ax[1, 0].axis('off')\n",
    "ax[1, 0].set_title(\"Original Image vs. Transformed Image\\n\"\n",
    "                   \"(all keypoints and matches)\")\n",
    "plt.tight_layout()\n",
    "plt.show()"
   ]
  },
  {
   "cell_type": "code",
   "execution_count": 35,
   "id": "ce236424",
   "metadata": {},
   "outputs": [
    {
     "data": {
      "text/plain": [
       "<Figure size 432x288 with 0 Axes>"
      ]
     },
     "metadata": {},
     "output_type": "display_data"
    }
   ],
   "source": [
    "\n",
    "plot_matches(ax[0, 1], img1, img2, keypoints1, keypoints2, matches12[::15],\n",
    "             only_matches=True)\n",
    "ax[0, 1].axis('off')\n",
    "ax[0, 1].set_title(\"Original Image vs. Flipped Image\\n\"\n",
    "                   \"(subset of matches for visibility)\")\n",
    "plt.tight_layout()\n",
    "plt.show()"
   ]
  },
  {
   "cell_type": "code",
   "execution_count": 36,
   "id": "f3835f57",
   "metadata": {},
   "outputs": [
    {
     "data": {
      "text/plain": [
       "<Figure size 432x288 with 0 Axes>"
      ]
     },
     "metadata": {},
     "output_type": "display_data"
    }
   ],
   "source": [
    "\n",
    "plot_matches(ax[1, 1], img1, img3, keypoints1, keypoints3, matches13[::15],\n",
    "             only_matches=True)\n",
    "ax[1, 1].axis('off')\n",
    "ax[1, 1].set_title(\"Original Image vs. Transformed Image\\n\"\n",
    "                   \"(subset of matches for visibility)\")\n",
    "plt.tight_layout()\n",
    "plt.show()"
   ]
  },
  {
   "cell_type": "code",
   "execution_count": 37,
   "id": "a9893b9d",
   "metadata": {},
   "outputs": [
    {
     "data": {
      "text/plain": [
       "<Figure size 432x288 with 0 Axes>"
      ]
     },
     "metadata": {},
     "output_type": "display_data"
    }
   ],
   "source": [
    "plt.tight_layout()\n",
    "plt.show()"
   ]
  },
  {
   "cell_type": "code",
   "execution_count": null,
   "id": "f624b5e0",
   "metadata": {},
   "outputs": [],
   "source": []
  }
 ],
 "metadata": {
  "kernelspec": {
   "display_name": "Python 3 (ipykernel)",
   "language": "python",
   "name": "python3"
  },
  "language_info": {
   "codemirror_mode": {
    "name": "ipython",
    "version": 3
   },
   "file_extension": ".py",
   "mimetype": "text/x-python",
   "name": "python",
   "nbconvert_exporter": "python",
   "pygments_lexer": "ipython3",
   "version": "3.9.13"
  }
 },
 "nbformat": 4,
 "nbformat_minor": 5
}
