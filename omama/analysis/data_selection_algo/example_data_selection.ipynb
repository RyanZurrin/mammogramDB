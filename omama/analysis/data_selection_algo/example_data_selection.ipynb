{
 "cells": [
  {
   "cell_type": "code",
   "execution_count": 30,
   "id": "f47e4fdf",
   "metadata": {},
   "outputs": [],
   "source": [
    "from src.data_selector import DataSelector\n",
    "import pandas as pd\n",
    "import numpy as np\n",
    "import os"
   ]
  },
  {
   "cell_type": "code",
   "execution_count": 2,
   "id": "71c4564b",
   "metadata": {},
   "outputs": [],
   "source": [
    "ds=DataSelector()"
   ]
  },
  {
   "cell_type": "code",
   "execution_count": 3,
   "id": "faa2889e",
   "metadata": {},
   "outputs": [],
   "source": [
    "df_omama = pd.read_pickle('df_omama.pkl')"
   ]
  },
  {
   "cell_type": "code",
   "execution_count": 5,
   "id": "cd8c4ac9",
   "metadata": {},
   "outputs": [
    {
     "data": {
      "text/html": [
       "<div>\n",
       "<style scoped>\n",
       "    .dataframe tbody tr th:only-of-type {\n",
       "        vertical-align: middle;\n",
       "    }\n",
       "\n",
       "    .dataframe tbody tr th {\n",
       "        vertical-align: top;\n",
       "    }\n",
       "\n",
       "    .dataframe thead th {\n",
       "        text-align: right;\n",
       "    }\n",
       "</style>\n",
       "<table border=\"1\" class=\"dataframe\">\n",
       "  <thead>\n",
       "    <tr style=\"text-align: right;\">\n",
       "      <th></th>\n",
       "      <th>filePath</th>\n",
       "      <th>image</th>\n",
       "      <th>StudyInstanceUID</th>\n",
       "      <th>Imagelaterality</th>\n",
       "      <th>label</th>\n",
       "      <th>PatientAge</th>\n",
       "      <th>PatientName</th>\n",
       "      <th>PatientBirthDate</th>\n",
       "      <th>PatientSex</th>\n",
       "      <th>PatientID</th>\n",
       "      <th>...</th>\n",
       "      <th>SmallestImagePixelValue</th>\n",
       "      <th>X0028_0106</th>\n",
       "      <th>LargestImagePixelValue</th>\n",
       "      <th>X0028_0107</th>\n",
       "      <th>ScheduledProcedureStepID</th>\n",
       "      <th>X0040_0009</th>\n",
       "      <th>XRay3DReconstructionSequence</th>\n",
       "      <th>X0018_9530</th>\n",
       "      <th>X0019_1001</th>\n",
       "      <th>X0019_1097</th>\n",
       "    </tr>\n",
       "  </thead>\n",
       "  <tbody>\n",
       "    <tr>\n",
       "      <th>0</th>\n",
       "      <td>/raid/data01/deephealth/dh_dh2/2.25.1002004176...</td>\n",
       "      <td>2D</td>\n",
       "      <td>2.25.100200417657065059753016354291204569362</td>\n",
       "      <td>R</td>\n",
       "      <td>NonCancer</td>\n",
       "      <td></td>\n",
       "      <td></td>\n",
       "      <td></td>\n",
       "      <td>None</td>\n",
       "      <td>DHZSR3WBG7XF</td>\n",
       "      <td>...</td>\n",
       "      <td>NaN</td>\n",
       "      <td>NaN</td>\n",
       "      <td>NaN</td>\n",
       "      <td>NaN</td>\n",
       "      <td>NaN</td>\n",
       "      <td>NaN</td>\n",
       "      <td>NaN</td>\n",
       "      <td>NaN</td>\n",
       "      <td>NaN</td>\n",
       "      <td>NaN</td>\n",
       "    </tr>\n",
       "    <tr>\n",
       "      <th>1</th>\n",
       "      <td>/raid/data01/deephealth/dh_dh2/2.25.1002004176...</td>\n",
       "      <td>2D</td>\n",
       "      <td>2.25.100200417657065059753016354291204569362</td>\n",
       "      <td>R</td>\n",
       "      <td>NonCancer</td>\n",
       "      <td></td>\n",
       "      <td></td>\n",
       "      <td></td>\n",
       "      <td>None</td>\n",
       "      <td>DHZSR3WBG7XF</td>\n",
       "      <td>...</td>\n",
       "      <td>NaN</td>\n",
       "      <td>NaN</td>\n",
       "      <td>NaN</td>\n",
       "      <td>NaN</td>\n",
       "      <td>NaN</td>\n",
       "      <td>NaN</td>\n",
       "      <td>NaN</td>\n",
       "      <td>NaN</td>\n",
       "      <td>NaN</td>\n",
       "      <td>NaN</td>\n",
       "    </tr>\n",
       "    <tr>\n",
       "      <th>2</th>\n",
       "      <td>/raid/data01/deephealth/dh_dh2/2.25.1002004176...</td>\n",
       "      <td>2D</td>\n",
       "      <td>2.25.100200417657065059753016354291204569362</td>\n",
       "      <td>R</td>\n",
       "      <td>NonCancer</td>\n",
       "      <td></td>\n",
       "      <td></td>\n",
       "      <td></td>\n",
       "      <td>None</td>\n",
       "      <td>DHZSR3WBG7XF</td>\n",
       "      <td>...</td>\n",
       "      <td>NaN</td>\n",
       "      <td>NaN</td>\n",
       "      <td>NaN</td>\n",
       "      <td>NaN</td>\n",
       "      <td>NaN</td>\n",
       "      <td>NaN</td>\n",
       "      <td>NaN</td>\n",
       "      <td>NaN</td>\n",
       "      <td>NaN</td>\n",
       "      <td>NaN</td>\n",
       "    </tr>\n",
       "    <tr>\n",
       "      <th>3</th>\n",
       "      <td>/raid/data01/deephealth/dh_dh2/2.25.1002004176...</td>\n",
       "      <td>2D</td>\n",
       "      <td>2.25.100200417657065059753016354291204569362</td>\n",
       "      <td>L</td>\n",
       "      <td>NonCancer</td>\n",
       "      <td></td>\n",
       "      <td></td>\n",
       "      <td></td>\n",
       "      <td>None</td>\n",
       "      <td>DHZSR3WBG7XF</td>\n",
       "      <td>...</td>\n",
       "      <td>NaN</td>\n",
       "      <td>NaN</td>\n",
       "      <td>NaN</td>\n",
       "      <td>NaN</td>\n",
       "      <td>NaN</td>\n",
       "      <td>NaN</td>\n",
       "      <td>NaN</td>\n",
       "      <td>NaN</td>\n",
       "      <td>NaN</td>\n",
       "      <td>NaN</td>\n",
       "    </tr>\n",
       "    <tr>\n",
       "      <th>4</th>\n",
       "      <td>/raid/data01/deephealth/dh_dh2/2.25.1002004176...</td>\n",
       "      <td>2D</td>\n",
       "      <td>2.25.100200417657065059753016354291204569362</td>\n",
       "      <td>L</td>\n",
       "      <td>NonCancer</td>\n",
       "      <td></td>\n",
       "      <td></td>\n",
       "      <td></td>\n",
       "      <td>None</td>\n",
       "      <td>DHZSR3WBG7XF</td>\n",
       "      <td>...</td>\n",
       "      <td>NaN</td>\n",
       "      <td>NaN</td>\n",
       "      <td>NaN</td>\n",
       "      <td>NaN</td>\n",
       "      <td>NaN</td>\n",
       "      <td>NaN</td>\n",
       "      <td>NaN</td>\n",
       "      <td>NaN</td>\n",
       "      <td>NaN</td>\n",
       "      <td>NaN</td>\n",
       "    </tr>\n",
       "  </tbody>\n",
       "</table>\n",
       "<p>5 rows × 294 columns</p>\n",
       "</div>"
      ],
      "text/plain": [
       "                                            filePath image  \\\n",
       "0  /raid/data01/deephealth/dh_dh2/2.25.1002004176...    2D   \n",
       "1  /raid/data01/deephealth/dh_dh2/2.25.1002004176...    2D   \n",
       "2  /raid/data01/deephealth/dh_dh2/2.25.1002004176...    2D   \n",
       "3  /raid/data01/deephealth/dh_dh2/2.25.1002004176...    2D   \n",
       "4  /raid/data01/deephealth/dh_dh2/2.25.1002004176...    2D   \n",
       "\n",
       "                               StudyInstanceUID Imagelaterality      label  \\\n",
       "0  2.25.100200417657065059753016354291204569362               R  NonCancer   \n",
       "1  2.25.100200417657065059753016354291204569362               R  NonCancer   \n",
       "2  2.25.100200417657065059753016354291204569362               R  NonCancer   \n",
       "3  2.25.100200417657065059753016354291204569362               L  NonCancer   \n",
       "4  2.25.100200417657065059753016354291204569362               L  NonCancer   \n",
       "\n",
       "  PatientAge PatientName PatientBirthDate PatientSex     PatientID  ...  \\\n",
       "0                                               None  DHZSR3WBG7XF  ...   \n",
       "1                                               None  DHZSR3WBG7XF  ...   \n",
       "2                                               None  DHZSR3WBG7XF  ...   \n",
       "3                                               None  DHZSR3WBG7XF  ...   \n",
       "4                                               None  DHZSR3WBG7XF  ...   \n",
       "\n",
       "  SmallestImagePixelValue X0028_0106 LargestImagePixelValue X0028_0107  \\\n",
       "0                     NaN        NaN                    NaN        NaN   \n",
       "1                     NaN        NaN                    NaN        NaN   \n",
       "2                     NaN        NaN                    NaN        NaN   \n",
       "3                     NaN        NaN                    NaN        NaN   \n",
       "4                     NaN        NaN                    NaN        NaN   \n",
       "\n",
       "  ScheduledProcedureStepID X0040_0009 XRay3DReconstructionSequence X0018_9530  \\\n",
       "0                      NaN        NaN                          NaN        NaN   \n",
       "1                      NaN        NaN                          NaN        NaN   \n",
       "2                      NaN        NaN                          NaN        NaN   \n",
       "3                      NaN        NaN                          NaN        NaN   \n",
       "4                      NaN        NaN                          NaN        NaN   \n",
       "\n",
       "  X0019_1001 X0019_1097  \n",
       "0        NaN        NaN  \n",
       "1        NaN        NaN  \n",
       "2        NaN        NaN  \n",
       "3        NaN        NaN  \n",
       "4        NaN        NaN  \n",
       "\n",
       "[5 rows x 294 columns]"
      ]
     },
     "execution_count": 5,
     "metadata": {},
     "output_type": "execute_result"
    }
   ],
   "source": [
    "df_omama.head()"
   ]
  },
  {
   "cell_type": "code",
   "execution_count": 8,
   "id": "4403926b",
   "metadata": {},
   "outputs": [
    {
     "name": "stdout",
     "output_type": "stream",
     "text": [
      "<class 'pandas.core.frame.DataFrame'>\n",
      "RangeIndex: 110500 entries, 0 to 110499\n",
      "Columns: 294 entries, filePath to X0019_1097\n",
      "dtypes: float64(79), int64(20), object(195)\n",
      "memory usage: 247.9+ MB\n"
     ]
    }
   ],
   "source": [
    "df_omama.info()"
   ]
  },
  {
   "cell_type": "code",
   "execution_count": 6,
   "id": "6a3d571d",
   "metadata": {},
   "outputs": [
    {
     "data": {
      "text/plain": [
       "'/raid/data01/deephealth/dh_dh2/2.25.100200417657065059753016354291204569362/DXm.2.25.128135024517585088804036346256122061228'"
      ]
     },
     "execution_count": 6,
     "metadata": {},
     "output_type": "execute_result"
    }
   ],
   "source": [
    "df_omama.filePath[0]"
   ]
  },
  {
   "cell_type": "code",
   "execution_count": 20,
   "id": "0447c6ea",
   "metadata": {},
   "outputs": [
    {
     "data": {
      "text/plain": [
       "'/raid/data01/deephealth/dh_dcm_ast/2.25.91997877614994112660231120982170991143/BT.2.25.308636611583627994365513503537421622017'"
      ]
     },
     "execution_count": 20,
     "metadata": {},
     "output_type": "execute_result"
    }
   ],
   "source": [
    "df_omama.filePath[110499]"
   ]
  },
  {
   "cell_type": "code",
   "execution_count": 16,
   "id": "467309ad",
   "metadata": {},
   "outputs": [
    {
     "ename": "SyntaxError",
     "evalue": "invalid syntax (4118960510.py, line 1)",
     "output_type": "error",
     "traceback": [
      "\u001B[0;36m  File \u001B[0;32m\"/tmp/ipykernel_1830362/4118960510.py\"\u001B[0;36m, line \u001B[0;32m1\u001B[0m\n\u001B[0;31m    5df_omama_full = pd.read_pickle('/home/p.bendiksen001/deephealth/df_omama.pkl')\u001B[0m\n\u001B[0m     ^\u001B[0m\n\u001B[0;31mSyntaxError\u001B[0m\u001B[0;31m:\u001B[0m invalid syntax\n"
     ]
    }
   ],
   "source": [
    "df_omama_full = pd.read_pickle('/home/p.bendiksen001/deephealth/df_omama.pkl')"
   ]
  },
  {
   "cell_type": "code",
   "execution_count": 17,
   "id": "17976e05",
   "metadata": {},
   "outputs": [
    {
     "name": "stdout",
     "output_type": "stream",
     "text": [
      "<class 'pandas.core.frame.DataFrame'>\n",
      "RangeIndex: 967991 entries, 0 to 967990\n",
      "Columns: 552 entries, folder to X0019_10aa\n",
      "dtypes: float64(129), int64(18), object(405)\n",
      "memory usage: 4.0+ GB\n"
     ]
    }
   ],
   "source": [
    "df_omama_full.info()"
   ]
  },
  {
   "cell_type": "code",
   "execution_count": 23,
   "id": "4f447dc8",
   "metadata": {},
   "outputs": [
    {
     "name": "stderr",
     "output_type": "stream",
     "text": [
      "/tmp/ipykernel_1830362/1900614772.py:1: PerformanceWarning: DataFrame is highly fragmented.  This is usually the result of calling `frame.insert` many times, which has poor performance.  Consider joining all columns at once using pd.concat(axis=1) instead. To get a de-fragmented frame, use `newframe = frame.copy()`\n",
      "  df_omama_full[\"SOPComplete\"] = np.where(df_omama_full[\"image\"] == \"2D\", \"DXm.\" + df_omama_full[\"SOPInstanceUID\"], \"BT.\" + df_omama_full[\"SOPInstanceUID\"])\n"
     ]
    }
   ],
   "source": [
    "df_omama_full[\"SOPComplete\"] = np.where(df_omama_full[\"image\"] == \"2D\", \"DXm.\" + df_omama_full[\"SOPInstanceUID\"], \"BT.\" + df_omama_full[\"SOPInstanceUID\"])"
   ]
  },
  {
   "cell_type": "code",
   "execution_count": 24,
   "id": "d1783a73",
   "metadata": {},
   "outputs": [
    {
     "data": {
      "text/plain": [
       "0         DXm.2.25.119403010146292111130118207990186551199\n",
       "1         DXm.2.25.214600937758118091934649285423608587441\n",
       "2         DXm.2.25.327701373051007081828181561095836790377\n",
       "3          DXm.2.25.97161058065485149118059870586506470816\n",
       "4         DXm.2.25.127461109080365862090076836140412024743\n",
       "                                ...                       \n",
       "967986     BT.2.25.117108874188634682510725625126450495571\n",
       "967987     BT.2.25.124969554781640179732889824134754074251\n",
       "967988      BT.2.25.18774900664134780566926755376268994775\n",
       "967989     BT.2.25.217835790555360639815176220764757729313\n",
       "967990     BT.2.25.320573614720783835284657859537143941259\n",
       "Name: SOPComplete, Length: 967991, dtype: object"
      ]
     },
     "execution_count": 24,
     "metadata": {},
     "output_type": "execute_result"
    }
   ],
   "source": [
    "df_omama_full[\"SOPComplete\"]"
   ]
  },
  {
   "cell_type": "code",
   "execution_count": 25,
   "id": "4406dfd8",
   "metadata": {},
   "outputs": [
    {
     "data": {
      "text/plain": [
       "0         dh_dcm_ast\n",
       "1         dh_dcm_ast\n",
       "2         dh_dcm_ast\n",
       "3         dh_dcm_ast\n",
       "4         dh_dcm_ast\n",
       "             ...    \n",
       "967986        dh_dh2\n",
       "967987        dh_dh2\n",
       "967988        dh_dh2\n",
       "967989        dh_dh2\n",
       "967990        dh_dh2\n",
       "Name: folder, Length: 967991, dtype: object"
      ]
     },
     "execution_count": 25,
     "metadata": {},
     "output_type": "execute_result"
    }
   ],
   "source": [
    "df_omama_full[\"folder\"]"
   ]
  },
  {
   "cell_type": "code",
   "execution_count": 26,
   "id": "ee8343bd",
   "metadata": {},
   "outputs": [
    {
     "name": "stderr",
     "output_type": "stream",
     "text": [
      "/tmp/ipykernel_1830362/1036958450.py:1: PerformanceWarning: DataFrame is highly fragmented.  This is usually the result of calling `frame.insert` many times, which has poor performance.  Consider joining all columns at once using pd.concat(axis=1) instead. To get a de-fragmented frame, use `newframe = frame.copy()`\n",
      "  df_omama_full[\"FilePath\"] = \"/raid/data01/deephealth/\" + df_omama_full[\"folder\"] + \"/\" + df_omama_full[\"StudyInstanceUID\"] + \"/\" + df_omama_full[\"SOPComplete\"]\n"
     ]
    }
   ],
   "source": [
    "df_omama_full[\"FilePath\"] = \"/raid/data01/deephealth/\" + df_omama_full[\"folder\"] + \"/\" + df_omama_full[\"StudyInstanceUID\"] + \"/\" + df_omama_full[\"SOPComplete\"]"
   ]
  },
  {
   "cell_type": "code",
   "execution_count": 28,
   "id": "1e59fb80",
   "metadata": {},
   "outputs": [
    {
     "data": {
      "text/plain": [
       "'/raid/data01/deephealth/dh_dcm_ast/2.25.100001373726337750354689693677327988604/DXm.2.25.48829293264107961149604832788133324634'"
      ]
     },
     "execution_count": 28,
     "metadata": {},
     "output_type": "execute_result"
    }
   ],
   "source": [
    "df_omama_full[\"FilePath\"][10]"
   ]
  },
  {
   "cell_type": "code",
   "execution_count": 31,
   "id": "f1922610",
   "metadata": {},
   "outputs": [],
   "source": [
    "df_omama_full.to_pickle(os.path.join('/home/p.bendiksen001/deephealth', 'df_omama_complete.pkl'))"
   ]
  },
  {
   "cell_type": "code",
   "execution_count": null,
   "id": "c3f4bdb0",
   "metadata": {},
   "outputs": [],
   "source": [
    "df[\"gender\"] = np.where(df[\"gender\"] == \"female\", 0, 1)"
   ]
  },
  {
   "cell_type": "code",
   "execution_count": 3,
   "id": "00c6c5e5",
   "metadata": {},
   "outputs": [
    {
     "name": "stdout",
     "output_type": "stream",
     "text": [
      "Loading dh_dh2 directory contents into memory\n",
      "Completed loading dh_dh2 directory contents into memory\n",
      "Loading dh_dh0new directory contents into memory\n",
      "Completed loading dh_dh0new directory contents into memory\n",
      "Loading dh_dcm_ast directory contents into memory\n",
      "Completed loading dh_dcm_ast directory contents into memory\n",
      "Contents of all directories loaded into memory\n"
     ]
    }
   ],
   "source": [
    "ds.scrape_and_store_database(timeit=False)"
   ]
  },
  {
   "cell_type": "code",
   "execution_count": null,
   "id": "7acbcc95",
   "metadata": {},
   "outputs": [],
   "source": [
    "# path = \"/raid/data01/deephealth/dh_dh2\"\n",
    "# ds=DataSelector(path=path, time_it=True)"
   ]
  },
  {
   "cell_type": "code",
   "execution_count": null,
   "id": "cdd6bf29",
   "metadata": {},
   "outputs": [],
   "source": [
    "df_ast = pd.read_pickle('dh_dcm_ast.pkl')"
   ]
  },
  {
   "cell_type": "code",
   "execution_count": null,
   "id": "6f2e78c2",
   "metadata": {},
   "outputs": [],
   "source": [
    "df_dh0new = pd.read_pickle('dh_dh0new.pkl')"
   ]
  },
  {
   "cell_type": "code",
   "execution_count": null,
   "id": "6682929d",
   "metadata": {},
   "outputs": [],
   "source": [
    "df_dh2 = pd.read_pickle('dh_dh2.pkl')"
   ]
  },
  {
   "cell_type": "code",
   "execution_count": null,
   "id": "eec702f6",
   "metadata": {},
   "outputs": [],
   "source": [
    "result_dfs_holder = [df_ast, df_dh0new, df_dh2]"
   ]
  },
  {
   "cell_type": "code",
   "execution_count": null,
   "id": "c4692863",
   "metadata": {},
   "outputs": [],
   "source": [
    "df_omama = pd.DataFrame()\n",
    "for df in result_dfs_holder:\n",
    "    df_omama = pd.concat([df_omama, df], ignore_index=True)\n"
   ]
  },
  {
   "cell_type": "code",
   "execution_count": null,
   "id": "a67c83e9",
   "metadata": {},
   "outputs": [],
   "source": [
    "import os\n",
    "df_omama.to_pickle(os.path.join(os.getcwd(), 'df_omama.pkl'))"
   ]
  },
  {
   "cell_type": "code",
   "execution_count": null,
   "id": "b928cbe2",
   "metadata": {},
   "outputs": [],
   "source": [
    "df_ast = pd.read_pickle('df_omama.pkl')"
   ]
  },
  {
   "cell_type": "code",
   "execution_count": null,
   "id": "dfd61a6b",
   "metadata": {},
   "outputs": [],
   "source": [
    "print(f\"record number df_ast: {len(df_ast.index)}\")\n",
    "df_ast.head(3)"
   ]
  },
  {
   "cell_type": "code",
   "execution_count": null,
   "id": "05c7cdd2",
   "metadata": {},
   "outputs": [],
   "source": [
    "print(f\"record number df_ast: {len(df_dh0new.index)}\")\n",
    "df_dh0new.head(3)"
   ]
  },
  {
   "cell_type": "code",
   "execution_count": null,
   "id": "0aa75f2d",
   "metadata": {},
   "outputs": [],
   "source": [
    "print(f\"record number df_ast: {len(df_dh2.index)}\")\n",
    "df_dh2.head(3)"
   ]
  },
  {
   "cell_type": "code",
   "execution_count": null,
   "id": "3e838944",
   "metadata": {},
   "outputs": [],
   "source": [
    "df_ast=df_ast.dropna(axis=1, how='all')\n",
    "print(len(df_ast.index))\n",
    "print(df_ast.nunique())\n",
    "df_ast.head(15)"
   ]
  },
  {
   "cell_type": "code",
   "execution_count": null,
   "id": "4d15ca61",
   "metadata": {},
   "outputs": [],
   "source": [
    "type(df_ast.loc[df_ast.index[1], \"X5200_9230\"])\n",
    "check_nan = df_ast['X5200_9230'].isnull().values.any()\n",
    "check_nan"
   ]
  },
  {
   "cell_type": "code",
   "execution_count": null,
   "id": "4f747bda",
   "metadata": {},
   "outputs": [],
   "source": [
    "df_ast=df_ast.dropna(axis=1, how='all')"
   ]
  },
  {
   "cell_type": "code",
   "execution_count": null,
   "id": "dff1337f",
   "metadata": {},
   "outputs": [],
   "source": [
    "type(df_ast.loc[df_ast.index[1], \"X5200_9230\"])\n",
    "series = df_ast['X5200_9230']\n",
    "series"
   ]
  },
  {
   "cell_type": "code",
   "execution_count": null,
   "id": "2d1637d7",
   "metadata": {},
   "outputs": [],
   "source": [
    "pd.to_numeric(series)"
   ]
  },
  {
   "cell_type": "code",
   "execution_count": null,
   "id": "0591abab",
   "metadata": {},
   "outputs": [],
   "source": [
    "df_ast['X5200_9230'].dropna\n",
    "df_temp=df_ast.loc[:, ~(df_ast == 'NaN').any()]\n",
    "df_temp.head(15)"
   ]
  },
  {
   "cell_type": "code",
   "execution_count": null,
   "id": "e2d4f52b",
   "metadata": {},
   "outputs": [],
   "source": [
    "df_ast.columns.values.tolist()"
   ]
  },
  {
   "cell_type": "code",
   "execution_count": null,
   "id": "8207e6b2",
   "metadata": {},
   "outputs": [],
   "source": [
    "path = \"/raid/data01/deephealth\"\n",
    "folder_1 = \"dh_dcm_ast\"\n",
    "folder_2 = \"dh_dh0new\"\n",
    "folder_3 = \"dh_dh2\"\n",
    "directories = [folder_1, folder_2, folder_3]"
   ]
  },
  {
   "cell_type": "code",
   "execution_count": null,
   "id": "a0a417e5",
   "metadata": {},
   "outputs": [],
   "source": [
    "ds=DataSelector(path=path, directories=directories, time_it=True)"
   ]
  },
  {
   "cell_type": "code",
   "execution_count": null,
   "id": "f7ce0936",
   "metadata": {},
   "outputs": [],
   "source": [
    "df = pd.read_pickle('df_omama.pkl')"
   ]
  },
  {
   "cell_type": "code",
   "execution_count": null,
   "id": "4dc7c9a9",
   "metadata": {},
   "outputs": [],
   "source": [
    "len(df.index)"
   ]
  },
  {
   "cell_type": "code",
   "execution_count": null,
   "id": "35b5f7c1",
   "metadata": {},
   "outputs": [],
   "source": [
    "df.columns.values.tolist()"
   ]
  },
  {
   "cell_type": "code",
   "execution_count": null,
   "id": "0ad7c2fb",
   "metadata": {},
   "outputs": [],
   "source": [
    "df.nunique()"
   ]
  },
  {
   "cell_type": "code",
   "execution_count": null,
   "id": "77b524f7",
   "metadata": {},
   "outputs": [],
   "source": [
    "df.head()"
   ]
  },
  {
   "cell_type": "code",
   "execution_count": null,
   "id": "7235ba23",
   "metadata": {},
   "outputs": [],
   "source": [
    "multi_suid = df.groupby([\"SeriesInstanceUID\"]).SOPInstanceUID.nunique().gt(1)\n",
    "print(f\"SOP count for whom at least two studies were performed: {multi_suid.sum()}\")"
   ]
  },
  {
   "cell_type": "code",
   "execution_count": null,
   "id": "56c8596f",
   "metadata": {},
   "outputs": [],
   "source": [
    "path = \"/raid/data01/deephealth/dh_dh0new\"\n",
    "ds_2=DataSelector(path=path, time_it=True)"
   ]
  },
  {
   "cell_type": "code",
   "execution_count": null,
   "id": "6aba570a",
   "metadata": {},
   "outputs": [],
   "source": [
    "df_1 = ds_2.load()"
   ]
  },
  {
   "cell_type": "code",
   "execution_count": null,
   "id": "2bc88308",
   "metadata": {},
   "outputs": [],
   "source": [
    "multi_suid = df_1.groupby([\"SeriesInstanceUID\"]).SOPInstanceUID.nunique().gt(1)\n",
    "print(f\"SeriesInstance count with at least two SOPs: {multi_suid.sum()}\")"
   ]
  },
  {
   "cell_type": "code",
   "execution_count": null,
   "id": "59ccc7e5",
   "metadata": {},
   "outputs": [],
   "source": []
  },
  {
   "cell_type": "code",
   "execution_count": null,
   "id": "d88dcc98",
   "metadata": {},
   "outputs": [],
   "source": [
    "df_1 = df_1[df_1[]]"
   ]
  }
 ],
 "metadata": {
  "kernelspec": {
   "display_name": "Python 3 (ipykernel)",
   "language": "python",
   "name": "python3"
  },
  "language_info": {
   "codemirror_mode": {
    "name": "ipython",
    "version": 3
   },
   "file_extension": ".py",
   "mimetype": "text/x-python",
   "name": "python",
   "nbconvert_exporter": "python",
   "pygments_lexer": "ipython3",
   "version": "3.9.7"
  }
 },
 "nbformat": 4,
 "nbformat_minor": 5
}
