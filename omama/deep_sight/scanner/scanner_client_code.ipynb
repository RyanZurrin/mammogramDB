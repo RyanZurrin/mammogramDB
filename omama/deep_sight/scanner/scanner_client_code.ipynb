{
 "cells": [
  {
   "cell_type": "code",
   "execution_count": 1,
   "id": "41b576c5",
   "metadata": {},
   "outputs": [],
   "source": [
    "import sys\n",
    "import time\n",
    "sys.path.insert(0,'../..')\n",
    "import omama as O\n",
    "import pandas as pd\n",
    "import numpy as np\n",
    "from omama.analysis.data_selection_algo.src.data_selector import DataSelector\n"
   ]
  },
  {
   "cell_type": "code",
   "execution_count": 2,
   "id": "bbc37792",
   "metadata": {},
   "outputs": [],
   "source": [
    "subsetter=DataSelector()"
   ]
  },
  {
   "cell_type": "code",
   "execution_count": 3,
   "id": "705e7638",
   "metadata": {},
   "outputs": [],
   "source": [
    "df_omama=subsetter.load_dataset(filepath=\"/home/p.bendiksen001/deephealth/df_omama_reduced.pkl\")"
   ]
  },
  {
   "cell_type": "code",
   "execution_count": null,
   "id": "7c321970",
   "metadata": {},
   "outputs": [],
   "source": [
    "print(df_omama.loc[[200000]])"
   ]
  },
  {
   "cell_type": "code",
   "execution_count": 4,
   "id": "80b36309",
   "metadata": {},
   "outputs": [],
   "source": [
    "scanner=O.Scanner()"
   ]
  },
  {
   "cell_type": "code",
   "execution_count": 5,
   "id": "1aceb1ee",
   "metadata": {},
   "outputs": [
    {
     "name": "stdout",
     "output_type": "stream",
     "text": [
      "/home/p.bendiksen001/deephealth/omama/omama/deep_sight\n",
      "error % for predictions.json is 0.07371058676132804\n",
      "/home/p.bendiksen001/deephealth/omama/omama/deep_sight\n",
      "error % for predictions.json is 0.1206282722513089\n",
      "/home/p.bendiksen001/deephealth/omama/omama/deep_sight\n",
      "error % for predictions.json is 0.06723741908540405\n",
      "/home/p.bendiksen001/deephealth/omama/omama/deep_sight\n",
      "error % for predictions.json is 0.05408227187304239\n",
      "/home/p.bendiksen001/deephealth/omama/omama/deep_sight\n",
      "error % for predictions.json is 0.07183128001670495\n",
      "/home/p.bendiksen001/deephealth/omama/omama/deep_sight\n",
      "error % for predictions.json is 0.06431405303821257\n",
      "/home/p.bendiksen001/deephealth/omama/omama/deep_sight\n",
      "error % for predictions.json is 0.07287533931927334\n",
      "/home/p.bendiksen001/deephealth/omama/omama/deep_sight\n",
      "error % for predictions.json is 0.07120484443516392\n",
      "/home/p.bendiksen001/deephealth/omama/omama/deep_sight\n",
      "error % for predictions.json is 0.06473167675923992\n",
      "/home/p.bendiksen001/deephealth/omama/omama/deep_sight\n",
      "error % for predictions.json is 0.05554395489663813\n",
      "/home/p.bendiksen001/deephealth/omama/omama/deep_sight\n",
      "error % for predictions.json is 0.06326999373564418\n",
      "/home/p.bendiksen001/deephealth/omama/omama/deep_sight\n",
      "error % for predictions.json is 0.0649404886197536\n",
      "/home/p.bendiksen001/deephealth/omama/omama/deep_sight\n",
      "error % for predictions.json is 0.0676550428064314\n",
      "/home/p.bendiksen001/deephealth/omama/omama/deep_sight\n",
      "error % for predictions.json is 0.25642096471079556\n",
      "/home/p.bendiksen001/deephealth/omama/omama/deep_sight\n",
      "error % for predictions.json is 0.07412821048235539\n",
      "/home/p.bendiksen001/deephealth/omama/omama/deep_sight\n",
      "error % for predictions.json is 0.07391939862184171\n",
      "/home/p.bendiksen001/deephealth/omama/omama/deep_sight\n",
      "error % for predictions.json is 0.05888494466485696\n",
      "/home/p.bendiksen001/deephealth/omama/omama/deep_sight\n",
      "error % for predictions.json is 0.06055543954896638\n",
      "/home/p.bendiksen001/deephealth/omama/omama/deep_sight\n",
      "error % for predictions.json is 0.05825850908331593\n",
      "/home/p.bendiksen001/deephealth/omama/omama/deep_sight\n",
      "error % for predictions.json is 0.05888494466485696\n",
      "/home/p.bendiksen001/deephealth/omama/omama/deep_sight\n",
      "error % for predictions.json is 0.06076425140948006\n",
      "/home/p.bendiksen001/deephealth/omama/omama/deep_sight\n",
      "error % for predictions.json is 0.25370641052411774\n",
      "/home/p.bendiksen001/deephealth/omama/omama/deep_sight\n",
      "error % for predictions.json is 0.07997494257673836\n",
      "/home/p.bendiksen001/deephealth/omama/omama/deep_sight\n",
      "error % for predictions.json is 0.06932553769054083\n",
      "/home/p.bendiksen001/deephealth/omama/omama/deep_sight\n",
      "error % for predictions.json is 0.06702860722489037\n",
      "/home/p.bendiksen001/deephealth/omama/omama/deep_sight\n",
      "error % for predictions.json is 0.0630611818751305\n",
      "/home/p.bendiksen001/deephealth/omama/omama/deep_sight\n",
      "error % for predictions.json is 0.06577573606180831\n",
      "/home/p.bendiksen001/deephealth/omama/omama/deep_sight\n",
      "error % for predictions.json is 0.06013781582793903\n",
      "/home/p.bendiksen001/deephealth/omama/omama/deep_sight\n",
      "error % for predictions.json is 0.0676550428064314\n",
      "/home/p.bendiksen001/deephealth/omama/omama/deep_sight\n",
      "error % for predictions.json is 0.05972019210691167\n",
      "/home/p.bendiksen001/deephealth/omama/omama/deep_sight\n",
      "error % for predictions.json is 0.07308415117978702\n",
      "/home/p.bendiksen001/deephealth/omama/omama/deep_sight\n",
      "error % for predictions.json is 0.06326999373564418\n",
      "/home/p.bendiksen001/deephealth/omama/omama/deep_sight\n",
      "error % for predictions.json is 0.16997285445813323\n",
      "/home/p.bendiksen001/deephealth/omama/omama/deep_sight\n",
      "error % for predictions.json is 0.05637920233869284\n",
      "/home/p.bendiksen001/deephealth/omama/omama/deep_sight\n",
      "error % for predictions.json is 0.057214449780747544\n",
      "/home/p.bendiksen001/deephealth/omama/omama/deep_sight\n",
      "error % for predictions.json is 0.0649404886197536\n",
      "/home/p.bendiksen001/deephealth/omama/omama/deep_sight\n",
      "error % for predictions.json is 0.07245771559824599\n",
      "/home/p.bendiksen001/deephealth/omama/omama/deep_sight\n",
      "error % for predictions.json is 0.057005637920233866\n",
      "/home/p.bendiksen001/deephealth/omama/omama/deep_sight\n",
      "error % for predictions.json is 0.053664648152015035\n",
      "/home/p.bendiksen001/deephealth/omama/omama/deep_sight\n",
      "error % for predictions.json is 0.07538108164543746\n",
      "total error count : 15053\n",
      "total error %: 0.07858686686226807\n",
      "total cases: 191546\n"
     ]
    }
   ],
   "source": [
    "scanner.list_pred_files('/raid/mpsych/deepsight_run', '.json')"
   ]
  },
  {
   "cell_type": "code",
   "execution_count": 1,
   "id": "3c7cc7e8",
   "metadata": {},
   "outputs": [
    {
     "ename": "NameError",
     "evalue": "name 'df_omama' is not defined",
     "output_type": "error",
     "traceback": [
      "\u001B[0;31m---------------------------------------------------------------------------\u001B[0m",
      "\u001B[0;31mNameError\u001B[0m                                 Traceback (most recent call last)",
      "Input \u001B[0;32mIn [1]\u001B[0m, in \u001B[0;36m<cell line: 1>\u001B[0;34m()\u001B[0m\n\u001B[0;32m----> 1\u001B[0m \u001B[43mdf_omama\u001B[49m\u001B[38;5;241m.\u001B[39minfo()\n",
      "\u001B[0;31mNameError\u001B[0m: name 'df_omama' is not defined"
     ]
    }
   ],
   "source": [
    "df_omama.info()"
   ]
  },
  {
   "cell_type": "code",
   "execution_count": null,
   "id": "4e277e6a",
   "metadata": {},
   "outputs": [],
   "source": [
    "df_omama['SOPInstanceUID'][0]"
   ]
  },
  {
   "cell_type": "code",
   "execution_count": null,
   "id": "7cc5881b",
   "metadata": {},
   "outputs": [],
   "source": [
    "result = scanner.get_label_by_sops(df_omama)"
   ]
  },
  {
   "cell_type": "code",
   "execution_count": null,
   "id": "b9dd5a71",
   "metadata": {},
   "outputs": [],
   "source": [
    "scanner.cross_matrix(0.5, df_omama)"
   ]
  },
  {
   "cell_type": "code",
   "execution_count": null,
   "id": "0d0c6675",
   "metadata": {},
   "outputs": [],
   "source": [
    "scanner.cross_matrix(0.5, df_omama)"
   ]
  },
  {
   "cell_type": "code",
   "execution_count": null,
   "id": "2c4c15b2",
   "metadata": {},
   "outputs": [],
   "source": [
    "scanner.cross_matrix(0.5, df_omama)"
   ]
  },
  {
   "cell_type": "code",
   "execution_count": null,
   "id": "77953661",
   "metadata": {},
   "outputs": [],
   "source": [
    "scanner.cross_matrix(0.5, df_omama)"
   ]
  },
  {
   "cell_type": "code",
   "execution_count": null,
   "id": "b4fd7e73",
   "metadata": {},
   "outputs": [],
   "source": [
    "scanner.cross_matirx(0.5)"
   ]
  },
  {
   "cell_type": "code",
   "execution_count": null,
   "id": "da9167a9",
   "metadata": {},
   "outputs": [],
   "source": [
    "with open('/raid/mpsych/deepsight_run/2D_whitelist_results/2D_preds_with_labels.txt', 'w') as file:\n",
    "            file.write(json.dumps(scanner.aggregate_preds_dict))  # use `json.loads` to do the reverse"
   ]
  }
 ],
 "metadata": {
  "kernelspec": {
   "display_name": "Python 3 (ipykernel)",
   "language": "python",
   "name": "python3"
  },
  "language_info": {
   "codemirror_mode": {
    "name": "ipython",
    "version": 3
   },
   "file_extension": ".py",
   "mimetype": "text/x-python",
   "name": "python",
   "nbconvert_exporter": "python",
   "pygments_lexer": "ipython3",
   "version": "3.9.12"
  }
 },
 "nbformat": 4,
 "nbformat_minor": 5
}
