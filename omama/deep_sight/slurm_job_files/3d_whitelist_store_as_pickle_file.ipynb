{
 "cells": [
  {
   "cell_type": "code",
   "execution_count": 5,
   "id": "6688445f",
   "metadata": {},
   "outputs": [],
   "source": [
    "import sys\n",
    "import os\n",
    "import _pickle as cPickle\n",
    "sys.path.insert(0,'../../..')\n",
    "import omama as O\n",
    "import pickle"
   ]
  },
  {
   "cell_type": "code",
   "execution_count": 6,
   "id": "6828d317",
   "metadata": {},
   "outputs": [
    {
     "name": "stdout",
     "output_type": "stream",
     "text": [
      "54706\n"
     ]
    }
   ],
   "source": [
    "with open(r\"/home/ryan.zurrin001/Projects/omama/omama/deep_sight/slurm_job_files/kaggle_caselist.txt\", \"rb\") as file:\n",
    "    lines = file.readlines()\n",
    "    lines = [line.strip() for line in lines]\n",
    "    print(len(lines))\n",
    "sample = lines[0:10]"
   ]
  },
  {
   "cell_type": "code",
   "execution_count": 7,
   "id": "097c02e2",
   "metadata": {},
   "outputs": [],
   "source": [
    "with open('kaggle_caselist.pkl', 'wb') as f:\n",
    "    pickle.dump(sample, f)"
   ]
  },
  {
   "cell_type": "code",
   "execution_count": null,
   "id": "00a93085",
   "metadata": {},
   "outputs": [],
   "source": []
  },
  {
   "cell_type": "code",
   "execution_count": null,
   "id": "1e7030df",
   "metadata": {},
   "outputs": [],
   "source": []
  }
 ],
 "metadata": {
  "kernelspec": {
   "display_name": "Python 3 (ipykernel)",
   "language": "python",
   "name": "python3"
  },
  "language_info": {
   "codemirror_mode": {
    "name": "ipython",
    "version": 3
   },
   "file_extension": ".py",
   "mimetype": "text/x-python",
   "name": "python",
   "nbconvert_exporter": "python",
   "pygments_lexer": "ipython3",
   "version": "3.9.7"
  }
 },
 "nbformat": 4,
 "nbformat_minor": 5
}
