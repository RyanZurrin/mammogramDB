{
 "cells": [
  {
   "cell_type": "code",
   "execution_count": 1,
   "id": "a6c20017",
   "metadata": {},
   "outputs": [
    {
     "name": "stdout",
     "output_type": "stream",
     "text": [
      "Populating the interactive namespace from numpy and matplotlib\n"
     ]
    }
   ],
   "source": [
    "%pylab inline\n",
    "%load_ext autoreload\n",
    "%autoreload 2"
   ]
  },
  {
   "cell_type": "code",
   "execution_count": 2,
   "id": "a27d9099",
   "metadata": {},
   "outputs": [],
   "source": [
    "import sys\n",
    "sys.path.insert(0,'../..')\n",
    "import omama as O\n",
    "from skimage.transform import resize"
   ]
  },
  {
   "cell_type": "code",
   "execution_count": 3,
   "id": "905108b3",
   "metadata": {},
   "outputs": [],
   "source": [
    "odl = O.OutlierDetectorLite()"
   ]
  },
  {
   "cell_type": "code",
   "execution_count": 5,
   "id": "6d674d2a",
   "metadata": {},
   "outputs": [],
   "source": [
    "data = odl.load_data(\"A\")"
   ]
  },
  {
   "cell_type": "code",
   "execution_count": 7,
   "id": "cc47998b",
   "metadata": {},
   "outputs": [
    {
     "data": {
      "text/plain": [
       "namespace(filePath='/raid/data01/deephealth/dh_dcm_ast/2.25.100092564201717920227778015190137094051/DXm.2.25.177313671738924764407441602033767426589',\n",
       "          SOPInstanceUID='2.25.177313671738924764407441602033767426589',\n",
       "          StudyInstanceUID='2.25.100092564201717920227778015190137094051',\n",
       "          label='NonCancer',\n",
       "          imageLaterality='R',\n",
       "          shape=(2294, 1914),\n",
       "          metadata=None,\n",
       "          pixels=array([[   0,    0,    0, ..., 2429, 2430, 2443],\n",
       "                        [   0,    0,    0, ..., 2420, 2446, 2457],\n",
       "                        [   0,    0,    0, ..., 2444, 2461, 2454],\n",
       "                        ...,\n",
       "                        [   0,    0,    0, ..., 2481, 2505, 2536],\n",
       "                        [   0,    0,    0, ..., 2494, 2521, 2527],\n",
       "                        [   0,    0,    0, ..., 2510, 2525, 2541]], dtype=uint16))"
      ]
     },
     "execution_count": 7,
     "metadata": {},
     "output_type": "execute_result"
    }
   ],
   "source": [
    "data[0]"
   ]
  },
  {
   "cell_type": "code",
   "execution_count": 8,
   "id": "595f0f26",
   "metadata": {},
   "outputs": [
    {
     "data": {
      "text/plain": [
       "100"
      ]
     },
     "execution_count": 8,
     "metadata": {},
     "output_type": "execute_result"
    }
   ],
   "source": [
    "len(data)"
   ]
  },
  {
   "cell_type": "code",
   "execution_count": 10,
   "id": "8142ec09",
   "metadata": {},
   "outputs": [
    {
     "data": {
      "text/plain": [
       "types.SimpleNamespace"
      ]
     },
     "execution_count": 10,
     "metadata": {},
     "output_type": "execute_result"
    }
   ],
   "source": [
    "type(data[0])"
   ]
  },
  {
   "cell_type": "code",
   "execution_count": 11,
   "id": "5d03b3bc",
   "metadata": {},
   "outputs": [],
   "source": [
    "feature_vector = O.Features.get_features(data, feature_type='orb', norm_type='zscore')"
   ]
  },
  {
   "cell_type": "code",
   "execution_count": 13,
   "id": "a2c39916",
   "metadata": {},
   "outputs": [],
   "source": [
    "labels = odl.load_ground_truth('A')"
   ]
  },
  {
   "cell_type": "code",
   "execution_count": 15,
   "id": "091a0d0e",
   "metadata": {},
   "outputs": [
    {
     "data": {
      "text/plain": [
       "(50,)"
      ]
     },
     "execution_count": 15,
     "metadata": {},
     "output_type": "execute_result"
    }
   ],
   "source": []
  },
  {
   "cell_type": "code",
   "execution_count": 20,
   "id": "85facd6b",
   "metadata": {},
   "outputs": [
    {
     "name": "stdout",
     "output_type": "stream",
     "text": [
      "(array([27, 38, 47, 48, 61, 63, 81, 90]),)\n"
     ]
    }
   ],
   "source": [
    "print(np.where(np.array(labels) > 0))"
   ]
  },
  {
   "cell_type": "code",
   "execution_count": 25,
   "id": "58cd8220",
   "metadata": {},
   "outputs": [
    {
     "data": {
      "text/plain": [
       "<matplotlib.image.AxesImage at 0x7fd5a2266eb0>"
      ]
     },
     "execution_count": 25,
     "metadata": {},
     "output_type": "execute_result"
    },
    {
     "data": {
      "image/png": "[encoded data removed]",
      "text/plain": [
       "<Figure size 432x288 with 1 Axes>"
      ]
     },
     "metadata": {
      "needs_background": "light"
     },
     "output_type": "display_data"
    }
   ],
   "source": [
    "imshow(data[48].pixels)"
   ]
  },
  {
   "cell_type": "code",
   "execution_count": 28,
   "id": "c8893066",
   "metadata": {},
   "outputs": [
    {
     "data": {
      "text/plain": [
       "array([ 557.7704  ,  553.8676  ,  667.1843  ,  668.08624 ,  628.2613  ,\n",
       "        628.2613  ,  667.94604 ,  668.0662  ,  591.1155  ,  668.1247  ,\n",
       "        668.0662  ,  667.78204 ,  668.08624 ,  667.81757 ,  667.20825 ,\n",
       "        591.1617  ,  545.6676  ,  666.7919  ,  311.6694  ,  659.147   ,\n",
       "        635.00146 , -223.52432 ,  598.4337  , -206.44157 ,  576.3895  ,\n",
       "        661.66565 , -223.52432 ,  663.78784 ,  598.4337  , -221.19716 ,\n",
       "        -49.443718, -210.29445 , -210.29445 ,  625.4307  ,  650.66516 ,\n",
       "        115.97442 ,  625.4307  , -223.55333 ,  645.1131  ,  648.46454 ,\n",
       "        668.1262  ,  553.64636 , -223.56471 ,  668.1262  ,  598.4337  ,\n",
       "        576.3895  , -204.13567 ,  461.20224 , -209.3587  ,  -75.86151 ],\n",
       "      dtype=float32)"
      ]
     },
     "execution_count": 28,
     "metadata": {},
     "output_type": "execute_result"
    }
   ],
   "source": [
    "feature_vector[48]"
   ]
  },
  {
   "cell_type": "code",
   "execution_count": 29,
   "id": "be394e93",
   "metadata": {},
   "outputs": [
    {
     "data": {
      "text/plain": [
       "array([479.64996, 465.32825, 438.98804, 480.41602, 116.93207, 456.2219 ,\n",
       "       428.46634, 495.93066, 459.8093 , 285.60138, 455.52908, 393.32233,\n",
       "       363.2337 , 344.71295, 331.21072, 333.86255, 282.69672, 363.2337 ,\n",
       "       231.24167, 258.96582, 438.98804, 285.60138, 247.29424, 336.78976,\n",
       "       336.30402, 291.87683, 400.2651 , 400.71512, 582.80145, 585.2291 ,\n",
       "       563.6578 , 404.4382 , 457.765  , 407.7072 , 529.9909 , 553.3708 ,\n",
       "       402.53882, 403.99887, 410.27524, 544.3592 , 568.70447, 538.7805 ,\n",
       "       565.9819 , 466.90033, 474.01447, 558.23706, 409.72287, 402.53882,\n",
       "       519.6247 , 538.7805 ], dtype=float32)"
      ]
     },
     "execution_count": 29,
     "metadata": {},
     "output_type": "execute_result"
    }
   ],
   "source": [
    "feature_vector[47]"
   ]
  },
  {
   "cell_type": "code",
   "execution_count": 30,
   "id": "78cd4851",
   "metadata": {},
   "outputs": [
    {
     "data": {
      "text/plain": [
       "array([ 667.84186 ,  664.97644 ,  668.1248  ,  -70.204865,  668.12555 ,\n",
       "       -169.52567 ,  667.94336 ,  667.84186 , -171.368   , -131.97124 ,\n",
       "        662.1204  , -171.368   ,  641.0165  ,  668.1248  ,  667.84186 ,\n",
       "       -171.368   , -174.36398 , -131.97124 , -133.00189 ,  625.7542  ,\n",
       "        599.6667  ,  461.21603 ,  492.1071  ,  490.6168  ,  534.46124 ,\n",
       "        645.2763  ,  507.66437 ,  625.7542  ,  482.13873 ,  157.74939 ,\n",
       "        426.98697 ,  271.9469  ,  426.98697 ,  426.98697 ,  372.78918 ,\n",
       "        377.92938 ,  402.04462 ,  408.25912 ,  364.07397 ,  373.04733 ,\n",
       "        403.06628 ,  340.05746 ,  369.31354 ,  274.23206 ,  403.35297 ,\n",
       "        384.96185 ,  390.07254 ,  357.28577 ,  397.21356 ,  403.06628 ],\n",
       "      dtype=float32)"
      ]
     },
     "execution_count": 30,
     "metadata": {},
     "output_type": "execute_result"
    }
   ],
   "source": [
    "feature_vector[7]"
   ]
  },
  {
   "cell_type": "code",
   "execution_count": null,
   "id": "bfe443d7",
   "metadata": {},
   "outputs": [],
   "source": []
  }
 ],
 "metadata": {
  "kernelspec": {
   "display_name": "Python 3 (ipykernel)",
   "language": "python",
   "name": "python3"
  },
  "language_info": {
   "codemirror_mode": {
    "name": "ipython",
    "version": 3
   },
   "file_extension": ".py",
   "mimetype": "text/x-python",
   "name": "python",
   "nbconvert_exporter": "python",
   "pygments_lexer": "ipython3",
   "version": "3.9.7"
  }
 },
 "nbformat": 4,
 "nbformat_minor": 5
}
