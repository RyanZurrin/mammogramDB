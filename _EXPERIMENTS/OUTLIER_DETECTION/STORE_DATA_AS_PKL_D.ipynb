{
 "cells": [
  {
   "cell_type": "code",
   "execution_count": 1,
   "id": "85492d08",
   "metadata": {},
   "outputs": [
    {
     "name": "stdout",
     "output_type": "stream",
     "text": [
      "Populating the interactive namespace from numpy and matplotlib\n"
     ]
    }
   ],
   "source": [
    "%pylab inline"
   ]
  },
  {
   "cell_type": "code",
   "execution_count": 1,
   "id": "7f9716e0",
   "metadata": {},
   "outputs": [],
   "source": [
    "import sys\n",
    "sys.path.insert(0,'../..')"
   ]
  },
  {
   "cell_type": "code",
   "execution_count": 2,
   "id": "499d4a50",
   "metadata": {},
   "outputs": [],
   "source": [
    "import omama as O # importing the Omama package\n"
   ]
  },
  {
   "cell_type": "code",
   "execution_count": null,
   "id": "9f62a564",
   "metadata": {},
   "outputs": [],
   "source": []
  },
  {
   "cell_type": "code",
   "execution_count": 3,
   "id": "63e07c6c",
   "metadata": {},
   "outputs": [],
   "source": [
    "import pickle"
   ]
  },
  {
   "cell_type": "code",
   "execution_count": 4,
   "id": "53c54ab9",
   "metadata": {},
   "outputs": [],
   "source": [
    "imgs = O.DataHelper.get2D(N=100, config_num=25, randomize=True)\n",
    "with open('/raid/mpsych/datasetD.pkl','wb') as f:\n",
    "    pickle.dump(imgs, f)"
   ]
  },
  {
   "cell_type": "code",
   "execution_count": null,
   "id": "ab4fa415",
   "metadata": {},
   "outputs": [],
   "source": []
  },
  {
   "cell_type": "code",
   "execution_count": 5,
   "id": "b4e74d02",
   "metadata": {},
   "outputs": [
    {
     "name": "stdout",
     "output_type": "stream",
     "text": [
      "all stored\n"
     ]
    }
   ],
   "source": [
    "print('all stored')"
   ]
  },
  {
   "cell_type": "code",
   "execution_count": null,
   "id": "6d9f5310",
   "metadata": {},
   "outputs": [],
   "source": []
  }
 ],
 "metadata": {
  "kernelspec": {
   "display_name": "Python 3 (ipykernel)",
   "language": "python",
   "name": "python3"
  },
  "language_info": {
   "codemirror_mode": {
    "name": "ipython",
    "version": 3
   },
   "file_extension": ".py",
   "mimetype": "text/x-python",
   "name": "python",
   "nbconvert_exporter": "python",
   "pygments_lexer": "ipython3",
   "version": "3.9.7"
  }
 },
 "nbformat": 4,
 "nbformat_minor": 5
}
