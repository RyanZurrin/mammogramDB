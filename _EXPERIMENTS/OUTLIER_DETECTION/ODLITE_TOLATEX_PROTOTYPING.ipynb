{
 "cells": [
  {
   "cell_type": "code",
   "execution_count": 10,
   "id": "84569445",
   "metadata": {},
   "outputs": [
    {
     "name": "stdout",
     "output_type": "stream",
     "text": [
      "Populating the interactive namespace from numpy and matplotlib\n",
      "The autoreload extension is already loaded. To reload it, use:\n",
      "  %reload_ext autoreload\n"
     ]
    },
    {
     "name": "stderr",
     "output_type": "stream",
     "text": [
      "/home/ryan.zurrin001/miniconda3/envs/O/lib/python3.9/site-packages/IPython/core/magics/pylab.py:159: UserWarning: pylab import has clobbered these variables: ['f']\n",
      "`%matplotlib` prevents importing * from pylab and numpy\n",
      "  warn(\"pylab import has clobbered these variables: %s\"  % clobbered +\n"
     ]
    },
    {
     "data": {
      "text/html": [
       "<style>.container { width:100% !important; }</style>"
      ],
      "text/plain": [
       "<IPython.core.display.HTML object>"
      ]
     },
     "metadata": {},
     "output_type": "display_data"
    }
   ],
   "source": [
    "%pylab inline\n",
    "%load_ext autoreload\n",
    "%autoreload 2\n",
    "from IPython.display import display, HTML\n",
    "display(HTML(\"<style>.container { width:100% !important; }</style>\"))"
   ]
  },
  {
   "cell_type": "code",
   "execution_count": 2,
   "id": "54397dc4",
   "metadata": {},
   "outputs": [],
   "source": [
    "import sys\n",
    "sys.path.insert(0,'../..')\n",
    "import omama as O\n",
    "import pickle"
   ]
  },
  {
   "cell_type": "code",
   "execution_count": 3,
   "id": "aea347fe",
   "metadata": {},
   "outputs": [],
   "source": [
    "odl = O.OutlierDetectorLite()"
   ]
  },
  {
   "cell_type": "code",
   "execution_count": 4,
   "id": "7c5b3b38",
   "metadata": {},
   "outputs": [],
   "source": [
    "with open('/tmp/res.pkl', 'rb') as f:\n",
    "    results = pickle.load(f)"
   ]
  },
  {
   "cell_type": "code",
   "execution_count": 5,
   "id": "49c2e559",
   "metadata": {},
   "outputs": [
    {
     "name": "stdout",
     "output_type": "stream",
     "text": [
      "{'LOF': [{'algorithm': 'LOF', 'norm': 'minmax', 'feat': 'sift', 'dataset': 'B', 'scores:': array([0.98203577, 0.96860224, 1.22883514, 1.02525519, 1.08581035,\n",
      "       1.02003558, 1.42627422, 1.00061726, 1.03799643, 1.01837236,\n",
      "       1.16096457, 1.05332689, 1.12325056, 2.06947872, 1.06280386,\n",
      "       1.00173178, 1.3009579 , 1.1797447 , 1.01486229, 1.60244576,\n",
      "       1.03490708, 1.06792012, 1.56302033, 1.07998424, 0.99046547,\n",
      "       0.95270445, 1.11714541, 1.13317385, 1.0238154 , 1.01062169,\n",
      "       1.46284257, 1.05698413, 0.99046547, 1.19449613, 1.00445666,\n",
      "       1.00670855, 2.81221561, 1.05737732, 1.07288326, 1.30291535,\n",
      "       1.07721614, 1.00091636, 0.98171702, 2.66928277, 1.27220268,\n",
      "       1.08905617, 1.06024888, 1.04676816, 1.12132998, 0.99631229,\n",
      "       1.35430678, 1.46530802, 1.00309805, 1.02098187, 1.11104638,\n",
      "       1.04871827, 1.26904355, 1.28570506, 0.98347176, 1.54478528,\n",
      "       1.0244971 , 0.98582491, 2.31319106, 1.05400015, 1.0056401 ,\n",
      "       1.34445514, 1.1789507 , 0.97310336, 0.97091823, 2.8136797 ,\n",
      "       0.9587078 , 0.98748496, 1.04877249, 1.00506171, 1.54301917,\n",
      "       1.02891002, 1.2648022 , 1.00760598, 1.52696509, 1.15892493,\n",
      "       1.23204363, 2.2620008 , 1.13627416, 1.01469331, 1.14730147,\n",
      "       1.47806891, 1.01158725, 1.00506171, 1.38863073, 1.03840367,\n",
      "       1.14160266, 1.17667058, 0.98969295, 1.5032795 , 1.04401847,\n",
      "       2.33393796, 1.04188518, 1.01538651, 1.02390312, 1.06449806]), 'labels': array([0, 0, 0, 0, 0, 0, 0, 0, 0, 0, 0, 0, 0, 1, 0, 0, 0, 0, 0, 1, 0, 0,\n",
      "       1, 0, 0, 0, 0, 0, 0, 0, 0, 0, 0, 0, 0, 0, 1, 0, 0, 0, 0, 0, 0, 1,\n",
      "       0, 0, 0, 0, 0, 0, 0, 0, 0, 0, 0, 0, 0, 0, 0, 1, 0, 0, 1, 0, 0, 0,\n",
      "       0, 0, 0, 1, 0, 0, 0, 0, 1, 0, 0, 0, 1, 0, 0, 1, 0, 0, 0, 0, 0, 0,\n",
      "       0, 0, 0, 0, 0, 1, 0, 1, 0, 0, 0, 0]), 'groundtruth': [1, 0, 0, 0, 0, 0, 1, 0, 0, 0, 0, 0, 0, 1, 0, 0, 0, 1, 0, 0, 0, 0, 0, 0, 0, 0, 0, 0, 0, 0, 0, 0, 0, 0, 0, 0, 1, 0, 0, 0, 0, 0, 0, 1, 0, 0, 0, 0, 0, 0, 0, 0, 0, 0, 0, 0, 0, 1, 0, 0, 0, 0, 1, 0, 0, 0, 0, 0, 0, 1, 0, 0, 0, 0, 0, 0, 1, 0, 0, 0, 0, 1, 0, 0, 0, 0, 0, 0, 1, 0, 0, 0, 0, 0, 0, 1, 0, 0, 0, 0], 'evaluation': {'groundtruth_indices': (array([ 0,  6, 13, 17, 36, 43, 57, 62, 69, 76, 81, 88, 95]),), 'pred_indices': (array([13, 19, 22, 36, 43, 59, 62, 69, 74, 78, 81, 93, 95]),), 'roc_auc': 0.7347480106100795, 'f1': 0.5384615384615384, 'acc': 0.88, 'tn': 81, 'fp': 6, 'fn': 6, 'tp': 7, 'jaccard_score': 0.3684210526315789}}, {'algorithm': 'LOF', 'norm': 'minmax', 'feat': 'sift', 'dataset': 'B', 'scores:': array([1.02793868, 1.0670636 , 1.05550352, 1.01961977, 1.05475374,\n",
      "       1.03444388, 1.80427462, 1.07256816, 1.38742388, 1.02215857,\n",
      "       1.03766671, 1.37994108, 1.09757789, 1.56988374, 1.02787934,\n",
      "       0.97439761, 1.2199445 , 1.01738316, 1.02587183, 1.05706746,\n",
      "       1.05807538, 1.15665606, 1.58365311, 1.02270232, 1.03648189,\n",
      "       0.99824822, 1.08406017, 1.05051681, 1.09323584, 0.99354961,\n",
      "       1.24102025, 1.01159535, 0.98077758, 1.16623178, 1.05101448,\n",
      "       0.99463427, 2.29422605, 1.06829621, 0.97920468, 1.39882381,\n",
      "       1.21752006, 1.11747405, 1.08756629, 2.35059477, 1.14870523,\n",
      "       0.99844785, 1.19896513, 1.04065001, 1.18489809, 1.01770145,\n",
      "       1.35236513, 1.46542156, 1.2137062 , 0.9663606 , 1.12862922,\n",
      "       1.25238706, 1.20095277, 1.23830878, 1.00515683, 1.3195439 ,\n",
      "       1.00351681, 1.24194027, 2.04761663, 1.16723694, 1.00811838,\n",
      "       1.71026397, 1.12480616, 1.30850654, 0.98241843, 2.60264624,\n",
      "       1.32353413, 1.00594236, 1.08344257, 0.97589534, 0.9941556 ,\n",
      "       1.01176398, 1.31213765, 0.97469746, 1.33785024, 1.00676136,\n",
      "       1.26571947, 2.30105273, 1.19262215, 1.00630452, 1.01770145,\n",
      "       1.06399004, 0.9903795 , 0.99996315, 1.17751568, 1.07468789,\n",
      "       1.21581362, 1.11674375, 1.02089766, 1.88844579, 0.9839488 ,\n",
      "       2.38976888, 1.31953793, 0.9806922 , 0.98652323, 1.29595497]), 'labels': array([0, 0, 0, 0, 0, 0, 1, 0, 0, 0, 0, 0, 0, 1, 0, 0, 0, 0, 0, 0, 0, 0,\n",
      "       1, 0, 0, 0, 0, 0, 0, 0, 0, 0, 0, 0, 0, 0, 1, 0, 0, 1, 0, 0, 0, 1,\n",
      "       0, 0, 0, 0, 0, 0, 0, 1, 0, 0, 0, 0, 0, 0, 0, 0, 0, 0, 1, 0, 0, 1,\n",
      "       0, 0, 0, 1, 0, 0, 0, 0, 0, 0, 0, 0, 0, 0, 0, 1, 0, 0, 0, 0, 0, 0,\n",
      "       0, 0, 0, 0, 0, 1, 0, 1, 0, 0, 0, 0]), 'groundtruth': [1, 0, 0, 0, 0, 0, 1, 0, 0, 0, 0, 0, 0, 1, 0, 0, 0, 1, 0, 0, 0, 0, 0, 0, 0, 0, 0, 0, 0, 0, 0, 0, 0, 0, 0, 0, 1, 0, 0, 0, 0, 0, 0, 1, 0, 0, 0, 0, 0, 0, 0, 0, 0, 0, 0, 0, 0, 1, 0, 0, 0, 0, 1, 0, 0, 0, 0, 0, 0, 1, 0, 0, 0, 0, 0, 0, 1, 0, 0, 0, 0, 1, 0, 0, 0, 0, 0, 0, 1, 0, 0, 0, 0, 0, 0, 1, 0, 0, 0, 0], 'evaluation': {'groundtruth_indices': (array([ 0,  6, 13, 17, 36, 43, 57, 62, 69, 76, 81, 88, 95]),), 'pred_indices': (array([ 6, 13, 22, 36, 39, 43, 51, 62, 65, 69, 81, 93, 95]),), 'roc_auc': 0.7789566755083996, 'f1': 0.6153846153846154, 'acc': 0.9, 'tn': 82, 'fp': 5, 'fn': 5, 'tp': 8, 'jaccard_score': 0.4444444444444444}}, {'algorithm': 'LOF', 'norm': 'minmax', 'feat': 'sift', 'dataset': 'B', 'scores:': array([1.04107387, 1.16107908, 1.07811726, 1.12047448, 1.09519068,\n",
      "       1.00788086, 1.6159942 , 1.00833578, 1.00484463, 1.05193906,\n",
      "       1.15230338, 1.08497432, 1.31464762, 1.8739348 , 1.1269695 ,\n",
      "       1.00327522, 1.22160308, 1.07701429, 1.00221593, 1.14439757,\n",
      "       1.02027039, 1.09190249, 1.42895333, 1.1171608 , 1.00679032,\n",
      "       1.01772002, 1.18093471, 0.9809206 , 1.01457925, 1.09485233,\n",
      "       1.3060832 , 1.06964704, 0.98525401, 1.17082172, 1.06208455,\n",
      "       1.21125154, 2.21165673, 1.17037808, 1.41288712, 1.05836533,\n",
      "       1.2498047 , 1.08868201, 1.15354616, 2.0675024 , 1.4086958 ,\n",
      "       0.99176958, 1.16642787, 0.99375459, 1.19674931, 1.0236116 ,\n",
      "       1.38441393, 1.41997803, 1.56563807, 1.02452035, 1.07433571,\n",
      "       0.9805439 , 1.07757167, 1.44955177, 1.00339012, 1.51904124,\n",
      "       1.07031082, 0.99960632, 2.17214468, 1.33958381, 1.00043287,\n",
      "       1.29589386, 1.14351893, 1.04107387, 1.04903428, 1.91410769,\n",
      "       1.12001208, 1.03725839, 1.01780362, 0.96623375, 1.50145909,\n",
      "       0.9879038 , 1.38011567, 1.05378392, 1.41936855, 0.99815357,\n",
      "       1.03221508, 1.83740604, 1.18655038, 1.00484463, 1.00880024,\n",
      "       1.12159398, 1.08158456, 1.00471582, 1.2464776 , 1.10678953,\n",
      "       1.07926276, 1.15359332, 0.98237094, 1.94663334, 1.10890662,\n",
      "       2.5057467 , 1.00719981, 0.98479109, 0.98962904, 1.43556963]), 'labels': array([0, 0, 0, 0, 0, 0, 1, 0, 0, 0, 0, 0, 0, 1, 0, 0, 0, 0, 0, 0, 0, 0,\n",
      "       0, 0, 0, 0, 0, 0, 0, 0, 0, 0, 0, 0, 0, 0, 1, 0, 0, 0, 0, 0, 0, 1,\n",
      "       0, 0, 0, 0, 0, 0, 0, 0, 1, 0, 0, 0, 0, 1, 0, 1, 0, 0, 1, 0, 0, 0,\n",
      "       0, 0, 0, 1, 0, 0, 0, 0, 1, 0, 0, 0, 0, 0, 0, 1, 0, 0, 0, 0, 0, 0,\n",
      "       0, 0, 0, 0, 0, 1, 0, 1, 0, 0, 0, 0]), 'groundtruth': [1, 0, 0, 0, 0, 0, 1, 0, 0, 0, 0, 0, 0, 1, 0, 0, 0, 1, 0, 0, 0, 0, 0, 0, 0, 0, 0, 0, 0, 0, 0, 0, 0, 0, 0, 0, 1, 0, 0, 0, 0, 0, 0, 1, 0, 0, 0, 0, 0, 0, 0, 0, 0, 0, 0, 0, 0, 1, 0, 0, 0, 0, 1, 0, 0, 0, 0, 0, 0, 1, 0, 0, 0, 0, 0, 0, 1, 0, 0, 0, 0, 1, 0, 0, 0, 0, 0, 0, 1, 0, 0, 0, 0, 0, 0, 1, 0, 0, 0, 0], 'evaluation': {'groundtruth_indices': (array([ 0,  6, 13, 17, 36, 43, 57, 62, 69, 76, 81, 88, 95]),), 'pred_indices': (array([ 6, 13, 36, 43, 52, 57, 59, 62, 69, 74, 81, 93, 95]),), 'roc_auc': 0.8231653404067197, 'f1': 0.6923076923076923, 'acc': 0.92, 'tn': 83, 'fp': 4, 'fn': 4, 'tp': 9, 'jaccard_score': 0.5294117647058824}}], 'COF': [{'algorithm': 'COF', 'norm': 'minmax', 'feat': 'sift', 'dataset': 'B', 'scores:': array([1.00894665, 1.07322728, 1.12754304, 1.08083492, 1.08287975,\n",
      "       1.0442048 , 1.26233636, 1.01813765, 1.09664894, 1.01818795,\n",
      "       1.1658182 , 1.01200294, 1.26936592, 1.57636703, 1.08924732,\n",
      "       1.0976673 , 1.06471582, 1.12362076, 0.93036264, 1.07164634,\n",
      "       1.01746001, 0.97087663, 1.34661467, 1.00956029, 1.11200606,\n",
      "       0.96792666, 0.98452543, 0.97487053, 1.06702794, 1.12898303,\n",
      "       1.2991126 , 1.10731131, 0.94522843, 1.075007  , 0.91533545,\n",
      "       0.98228132, 1.91611049, 1.24184654, 1.01057414, 1.2730878 ,\n",
      "       1.07910888, 1.07434414, 1.05435197, 1.61585816, 1.23627094,\n",
      "       1.20282866, 1.1716153 , 1.02912298, 1.21638639, 0.99528415,\n",
      "       1.13174715, 1.3982675 , 1.04750438, 1.00416804, 1.02531995,\n",
      "       1.170314  , 1.07008256, 1.19246472, 1.18450313, 1.27089452,\n",
      "       0.97530183, 1.21750012, 1.61753114, 1.06571103, 1.04671268,\n",
      "       1.27447996, 1.13066797, 1.07616561, 1.01308482, 1.68635446,\n",
      "       1.16255757, 0.99235412, 0.99008385, 1.03495431, 1.30544771,\n",
      "       1.08961536, 1.47057278, 0.95837126, 1.37985821, 1.08212109,\n",
      "       1.01055846, 1.61338062, 1.0759278 , 1.17846924, 1.29895982,\n",
      "       1.03336285, 1.10468105, 1.0380572 , 1.25404405, 0.98496336,\n",
      "       1.09753752, 1.0759278 , 1.02840986, 1.44846841, 1.28586916,\n",
      "       1.87823803, 1.09779912, 0.99196687, 0.98902331, 1.12460794]), 'labels': array([0, 0, 0, 0, 0, 0, 0, 0, 0, 0, 0, 0, 0, 1, 0, 0, 0, 0, 0, 0, 0, 0,\n",
      "       1, 0, 0, 0, 0, 0, 0, 0, 0, 0, 0, 0, 0, 0, 1, 0, 0, 0, 0, 0, 0, 1,\n",
      "       0, 0, 0, 0, 0, 0, 0, 1, 0, 0, 0, 0, 0, 0, 0, 0, 0, 0, 1, 0, 0, 0,\n",
      "       0, 0, 0, 1, 0, 0, 0, 0, 1, 0, 1, 0, 1, 0, 0, 1, 0, 0, 0, 0, 0, 0,\n",
      "       0, 0, 0, 0, 0, 1, 0, 1, 0, 0, 0, 0]), 'groundtruth': [1, 0, 0, 0, 0, 0, 1, 0, 0, 0, 0, 0, 0, 1, 0, 0, 0, 1, 0, 0, 0, 0, 0, 0, 0, 0, 0, 0, 0, 0, 0, 0, 0, 0, 0, 0, 1, 0, 0, 0, 0, 0, 0, 1, 0, 0, 0, 0, 0, 0, 0, 0, 0, 0, 0, 0, 0, 1, 0, 0, 0, 0, 1, 0, 0, 0, 0, 0, 0, 1, 0, 0, 0, 0, 0, 0, 1, 0, 0, 0, 0, 1, 0, 0, 0, 0, 0, 0, 1, 0, 0, 0, 0, 0, 0, 1, 0, 0, 0, 0], 'evaluation': {'groundtruth_indices': (array([ 0,  6, 13, 17, 36, 43, 57, 62, 69, 76, 81, 88, 95]),), 'pred_indices': (array([13, 22, 36, 43, 51, 62, 69, 74, 76, 78, 81, 93, 95]),), 'roc_auc': 0.7789566755083996, 'f1': 0.6153846153846154, 'acc': 0.9, 'tn': 82, 'fp': 5, 'fn': 5, 'tp': 8, 'jaccard_score': 0.4444444444444444}}, {'algorithm': 'COF', 'norm': 'minmax', 'feat': 'sift', 'dataset': 'B', 'scores:': array([1.14981322, 1.08474272, 1.26348904, 1.07652206, 1.10120982,\n",
      "       1.00196963, 1.35306072, 1.06687374, 1.00574235, 1.07384083,\n",
      "       1.15342812, 1.21739261, 1.05826674, 1.42537283, 1.10747318,\n",
      "       1.04144008, 1.07741703, 1.16477366, 0.98057682, 1.47484512,\n",
      "       1.01838333, 1.06526744, 1.48631311, 1.05079144, 1.17109326,\n",
      "       0.99515739, 1.06307953, 1.10697013, 1.18773129, 1.00510602,\n",
      "       1.34707842, 1.00669104, 0.97775667, 1.01829027, 0.99902254,\n",
      "       1.09183532, 1.93062191, 1.00517135, 1.16605014, 1.50968461,\n",
      "       1.05350498, 1.00062876, 0.98169103, 1.89573842, 1.28967122,\n",
      "       1.04316775, 1.16358577, 0.97029375, 1.10972904, 1.04141032,\n",
      "       1.21828044, 1.09385778, 1.6367582 , 1.11172139, 1.04661022,\n",
      "       1.08764014, 1.29557113, 1.13223781, 1.02918749, 1.2640632 ,\n",
      "       1.0774398 , 1.18141183, 1.68988419, 1.21161543, 1.01192166,\n",
      "       1.51668465, 1.02637917, 0.9825055 , 1.05258577, 1.81717442,\n",
      "       1.0919362 , 1.09465526, 0.99170976, 0.98691895, 0.94665469,\n",
      "       1.02776703, 1.33035327, 1.04328297, 1.43803671, 1.05013111,\n",
      "       1.10359034, 1.42503264, 1.06622532, 0.98956622, 1.16372509,\n",
      "       1.57818908, 1.06718311, 0.97450203, 1.13214364, 1.05895214,\n",
      "       1.11738998, 1.06577834, 1.01624599, 1.29191417, 1.09388247,\n",
      "       1.84702853, 1.20258122, 1.02946784, 1.00309513, 1.22081523]), 'labels': array([0, 0, 0, 0, 0, 0, 0, 0, 0, 0, 0, 0, 0, 1, 0, 0, 0, 0, 0, 1, 0, 0,\n",
      "       1, 0, 0, 0, 0, 0, 0, 0, 0, 0, 0, 0, 0, 0, 1, 0, 0, 1, 0, 0, 0, 1,\n",
      "       0, 0, 0, 0, 0, 0, 0, 0, 1, 0, 0, 0, 0, 0, 0, 0, 0, 0, 1, 0, 0, 1,\n",
      "       0, 0, 0, 1, 0, 0, 0, 0, 0, 0, 0, 0, 1, 0, 0, 0, 0, 0, 0, 1, 0, 0,\n",
      "       0, 0, 0, 0, 0, 0, 0, 1, 0, 0, 0, 0]), 'groundtruth': [1, 0, 0, 0, 0, 0, 1, 0, 0, 0, 0, 0, 0, 1, 0, 0, 0, 1, 0, 0, 0, 0, 0, 0, 0, 0, 0, 0, 0, 0, 0, 0, 0, 0, 0, 0, 1, 0, 0, 0, 0, 0, 0, 1, 0, 0, 0, 0, 0, 0, 0, 0, 0, 0, 0, 0, 0, 1, 0, 0, 0, 0, 1, 0, 0, 0, 0, 0, 0, 1, 0, 0, 0, 0, 0, 0, 1, 0, 0, 0, 0, 1, 0, 0, 0, 0, 0, 0, 1, 0, 0, 0, 0, 0, 0, 1, 0, 0, 0, 0], 'evaluation': {'groundtruth_indices': (array([ 0,  6, 13, 17, 36, 43, 57, 62, 69, 76, 81, 88, 95]),), 'pred_indices': (array([13, 19, 22, 36, 39, 43, 52, 62, 65, 69, 78, 85, 95]),), 'roc_auc': 0.6905393457117596, 'f1': 0.46153846153846156, 'acc': 0.86, 'tn': 80, 'fp': 7, 'fn': 7, 'tp': 6, 'jaccard_score': 0.3}}, {'algorithm': 'COF', 'norm': 'minmax', 'feat': 'sift', 'dataset': 'B', 'scores:': array([1.18439936, 1.1448778 , 1.15074703, 1.07617844, 0.9842625 ,\n",
      "       1.03929646, 1.48824096, 1.0345129 , 1.24560433, 1.00732212,\n",
      "       1.19761991, 0.99876993, 1.0230618 , 1.55200547, 1.05426112,\n",
      "       1.01917535, 1.20767368, 1.07789364, 1.00869334, 1.00855615,\n",
      "       0.98160041, 1.11918703, 1.33516804, 1.03461564, 1.03483158,\n",
      "       1.00681562, 1.06638173, 0.95304247, 1.08992733, 0.99075584,\n",
      "       1.15874015, 1.01008446, 0.98159233, 1.14902675, 1.16185538,\n",
      "       0.99286871, 1.88988454, 1.28217512, 1.02437269, 1.21161827,\n",
      "       1.13919197, 0.99911764, 1.02146522, 1.77634051, 1.37502364,\n",
      "       1.09098805, 1.40484757, 1.00398194, 1.08424222, 0.99056676,\n",
      "       1.16753496, 1.35646802, 1.02838334, 1.04340918, 1.00509629,\n",
      "       1.11862155, 1.22592239, 1.26739425, 1.09030058, 1.19536318,\n",
      "       0.99085433, 1.32266051, 1.40789764, 1.17242084, 1.02926912,\n",
      "       1.3940582 , 1.14433902, 1.06108054, 1.04159322, 1.69430304,\n",
      "       1.00314539, 1.0728436 , 1.03367931, 1.05842168, 1.4158692 ,\n",
      "       0.99371868, 1.40300105, 1.00164994, 1.21710146, 1.04326601,\n",
      "       1.04823251, 1.51942859, 1.07164532, 1.09619088, 1.09545422,\n",
      "       1.00504051, 0.99452715, 0.99073728, 1.27469137, 1.05445963,\n",
      "       1.18388333, 1.07215092, 1.00482783, 1.48645521, 1.1342555 ,\n",
      "       1.82916088, 1.0315839 , 1.02145778, 0.99407312, 1.28082246]), 'labels': array([0, 0, 0, 0, 0, 0, 1, 0, 0, 0, 0, 0, 0, 1, 0, 0, 0, 0, 0, 0, 0, 0,\n",
      "       0, 0, 0, 0, 0, 0, 0, 0, 0, 0, 0, 0, 0, 0, 1, 0, 0, 0, 0, 0, 0, 1,\n",
      "       0, 0, 1, 0, 0, 0, 0, 0, 0, 0, 0, 0, 0, 0, 0, 0, 0, 0, 1, 0, 0, 1,\n",
      "       0, 0, 0, 1, 0, 0, 0, 0, 1, 0, 1, 0, 0, 0, 0, 1, 0, 0, 0, 0, 0, 0,\n",
      "       0, 0, 0, 0, 0, 1, 0, 1, 0, 0, 0, 0]), 'groundtruth': [1, 0, 0, 0, 0, 0, 1, 0, 0, 0, 0, 0, 0, 1, 0, 0, 0, 1, 0, 0, 0, 0, 0, 0, 0, 0, 0, 0, 0, 0, 0, 0, 0, 0, 0, 0, 1, 0, 0, 0, 0, 0, 0, 1, 0, 0, 0, 0, 0, 0, 0, 0, 0, 0, 0, 0, 0, 1, 0, 0, 0, 0, 1, 0, 0, 0, 0, 0, 0, 1, 0, 0, 0, 0, 0, 0, 1, 0, 0, 0, 0, 1, 0, 0, 0, 0, 0, 0, 1, 0, 0, 0, 0, 0, 0, 1, 0, 0, 0, 0], 'evaluation': {'groundtruth_indices': (array([ 0,  6, 13, 17, 36, 43, 57, 62, 69, 76, 81, 88, 95]),), 'pred_indices': (array([ 6, 13, 36, 43, 46, 62, 65, 69, 74, 76, 81, 93, 95]),), 'roc_auc': 0.8231653404067197, 'f1': 0.6923076923076923, 'acc': 0.92, 'tn': 83, 'fp': 4, 'fn': 4, 'tp': 9, 'jaccard_score': 0.5294117647058824}}]}\n"
     ]
    }
   ],
   "source": [
    "print(results)"
   ]
  },
  {
   "cell_type": "code",
   "execution_count": 11,
   "id": "4abe4bd8",
   "metadata": {},
   "outputs": [],
   "source": [
    "NO_RUNS = len(results[list(results.keys())[0]])"
   ]
  },
  {
   "cell_type": "code",
   "execution_count": 12,
   "id": "8f8955b9",
   "metadata": {},
   "outputs": [
    {
     "data": {
      "text/plain": [
       "3"
      ]
     },
     "execution_count": 12,
     "metadata": {},
     "output_type": "execute_result"
    }
   ],
   "source": [
    "NO_RUNS"
   ]
  },
  {
   "cell_type": "code",
   "execution_count": 13,
   "id": "93835a04",
   "metadata": {},
   "outputs": [
    {
     "name": "stdout",
     "output_type": "stream",
     "text": [
      "LOF\n",
      "    roc_auc 0.7789566755083995 +/- 0.03609622373685793\n",
      "    f1 0.6153846153846153 +/- 0.06280742930213278\n",
      "    acc 0.9 +/- 0.016329931618554536\n",
      "    tn 82.0 +/- 0.816496580927726\n",
      "    fp 5.0 +/- 0.816496580927726\n",
      "    fn 5.0 +/- 0.816496580927726\n",
      "    tp 8.0 +/- 0.816496580927726\n",
      "    jaccard_score 0.4474257539273019 +/- 0.06575798302980533\n",
      "COF\n",
      "    roc_auc 0.7642204538756263 +/- 0.05513789252540436\n",
      "    f1 0.5897435897435898 +/- 0.09593993299420361\n",
      "    acc 0.8933333333333334 +/- 0.024944382578492966\n",
      "    tn 81.66666666666667 +/- 1.247219128924647\n",
      "    fp 5.333333333333333 +/- 1.247219128924647\n",
      "    fn 5.333333333333333 +/- 1.247219128924647\n",
      "    tp 7.666666666666667 +/- 1.247219128924647\n",
      "    jaccard_score 0.4246187363834422 +/- 0.09470034660780234\n"
     ]
    }
   ],
   "source": [
    "for algo in results.keys():\n",
    "    \n",
    "    metrics = {}\n",
    "    \n",
    "    for method in results[algo][0]['evaluation'].keys():\n",
    "        if method.find('indices') != -1:\n",
    "            continue\n",
    "            \n",
    "        metrics[method] = []\n",
    "            \n",
    "    for run in range(0, NO_RUNS):\n",
    "        \n",
    "        \n",
    "        for m in metrics.keys():\n",
    "            cur = results[algo][run]['evaluation'][m]\n",
    "            \n",
    "            metrics[m].append(cur)\n",
    "    print(algo)\n",
    "    for m in metrics.keys():\n",
    "        print('   ', m, np.mean(metrics[m]), '+/-', np.std(metrics[m]))"
   ]
  },
  {
   "cell_type": "code",
   "execution_count": 5,
   "id": "79530f34",
   "metadata": {},
   "outputs": [
    {
     "name": "stdout",
     "output_type": "stream",
     "text": [
      "<class 'dict'>\n",
      "\n",
      "    \\begin{table}[!h]\n",
      "    \\centering\n",
      "    \\label{tab:results}\n",
      "    \\caption{Results for dataset A}\n",
      "    \\resizebox{\\textwidth}{!}{\n",
      "    \\begin{tabular}{ccl|ccl|ccl}\n",
      "    \\toprule\n",
      "    \\textbf{Algorithm} & \\textbf{Norm. + Feature}  & \\textbf{Score}  & \\\\\n",
      "    \\midrule\n",
      "    LOF & Min-Max + SIFT & $0.4109\\pm0.1056$ & \\\\\n",
      "INNE & Max + SIFT & $0.3613\\pm0.0848$ & \\\\\n",
      "SOS & Max + SIFT & $0.3333\\pm0.0000$ & \\\\\n",
      "SOD & Min-Max + SIFT & $0.2062\\pm0.1199$ & \\\\\n",
      "FB & Max + SIFT & $0.1628\\pm0.0621$ & \\\\\n",
      "AE & Max + Histogram & $0.1429\\pm0.0000$ & \\\\\n",
      "VAE & Min-Max + Histogram & $0.1429\\pm0.0000$ & \\\\\n",
      "DeepSVDD & Gaussian + Histogram & $0.0728\\pm0.0844$ & \\\\\n",
      "CBLOF & Gaussian + Histogram & $0.0667\\pm0.0000$ & \\\\\n",
      "COF & Gaussian + Histogram & $0.0667\\pm0.0000$ & \\\\\n",
      "Sampling & Gaussian + Histogram & $0.0533\\pm0.0267$ & \\\\\n",
      "LODA & Gaussian + Histogram & $0.0286\\pm0.0571$ & \\\\\n",
      "AvgKNN & Gaussian + Histogram & $0.0000\\pm0.0000$ & \\\\\n",
      "SOGAAL & Max + SIFT & $0.0000\\pm0.0000$ & \\\\\n",
      "AnoGAN & Gaussian + Histogram & $0.0000\\pm0.0000$ & \\\\\n",
      "HBOS & Gaussian + Histogram & $0.0000\\pm0.0000$ & \\\\\n",
      "OCSVM & Gaussian + Histogram & $0.0000\\pm0.0000$ & \\\\\n",
      "IForest & Gaussian + Histogram & $0.0000\\pm0.0000$ & \\\\\n",
      "COPOD & Gaussian + Histogram & $0.0000\\pm0.0000$ & \\\\\n",
      "KDE & Gaussian + Histogram & $0.0000\\pm0.0000$ & \\\\\n",
      "PCA & Gaussian + Histogram & $0.0000\\pm0.0000$ & \\\\\n",
      "LMDD & Gaussian + Histogram & $0.0000\\pm0.0000$ & \\\\\n",
      "ECOD & Gaussian + Histogram & $0.0000\\pm0.0000$ & \\\\\n",
      "KNN & Gaussian + Histogram & $0.0000\\pm0.0000$ & \\\\\n",
      "MedKNN & Gaussian + Histogram & $0.0000\\pm0.0000$ & \\\\\n",
      "SUOD & Gaussian + Histogram & $0.0000\\pm0.0000$ & \\\\\n",
      "\n",
      "    \\bottomrule\n",
      "    \\end{tabular}\n",
      "    }\n",
      "    \\end{table}\n",
      "    \n"
     ]
    },
    {
     "data": {
      "text/plain": [
       "'\\n    \\\\begin{table}[!h]\\n    \\\\centering\\n    \\\\label{tab:results}\\n    \\\\caption{Results for dataset A}\\n    \\\\resizebox{\\\\textwidth}{!}{\\n    \\\\begin{tabular}{ccl|ccl|ccl}\\n    \\\\toprule\\n    \\\\textbf{Algorithm} & \\\\textbf{Norm. + Feature}  & \\\\textbf{Score}  & \\\\\\\\\\n    \\\\midrule\\n    LOF & Min-Max + SIFT & $0.4109\\\\pm0.1056$ & \\\\\\\\\\nINNE & Max + SIFT & $0.3613\\\\pm0.0848$ & \\\\\\\\\\nSOS & Max + SIFT & $0.3333\\\\pm0.0000$ & \\\\\\\\\\nSOD & Min-Max + SIFT & $0.2062\\\\pm0.1199$ & \\\\\\\\\\nFB & Max + SIFT & $0.1628\\\\pm0.0621$ & \\\\\\\\\\nAE & Max + Histogram & $0.1429\\\\pm0.0000$ & \\\\\\\\\\nVAE & Min-Max + Histogram & $0.1429\\\\pm0.0000$ & \\\\\\\\\\nDeepSVDD & Gaussian + Histogram & $0.0728\\\\pm0.0844$ & \\\\\\\\\\nCBLOF & Gaussian + Histogram & $0.0667\\\\pm0.0000$ & \\\\\\\\\\nCOF & Gaussian + Histogram & $0.0667\\\\pm0.0000$ & \\\\\\\\\\nSampling & Gaussian + Histogram & $0.0533\\\\pm0.0267$ & \\\\\\\\\\nLODA & Gaussian + Histogram & $0.0286\\\\pm0.0571$ & \\\\\\\\\\nAvgKNN & Gaussian + Histogram & $0.0000\\\\pm0.0000$ & \\\\\\\\\\nSOGAAL & Max + SIFT & $0.0000\\\\pm0.0000$ & \\\\\\\\\\nAnoGAN & Gaussian + Histogram & $0.0000\\\\pm0.0000$ & \\\\\\\\\\nHBOS & Gaussian + Histogram & $0.0000\\\\pm0.0000$ & \\\\\\\\\\nOCSVM & Gaussian + Histogram & $0.0000\\\\pm0.0000$ & \\\\\\\\\\nIForest & Gaussian + Histogram & $0.0000\\\\pm0.0000$ & \\\\\\\\\\nCOPOD & Gaussian + Histogram & $0.0000\\\\pm0.0000$ & \\\\\\\\\\nKDE & Gaussian + Histogram & $0.0000\\\\pm0.0000$ & \\\\\\\\\\nPCA & Gaussian + Histogram & $0.0000\\\\pm0.0000$ & \\\\\\\\\\nLMDD & Gaussian + Histogram & $0.0000\\\\pm0.0000$ & \\\\\\\\\\nECOD & Gaussian + Histogram & $0.0000\\\\pm0.0000$ & \\\\\\\\\\nKNN & Gaussian + Histogram & $0.0000\\\\pm0.0000$ & \\\\\\\\\\nMedKNN & Gaussian + Histogram & $0.0000\\\\pm0.0000$ & \\\\\\\\\\nSUOD & Gaussian + Histogram & $0.0000\\\\pm0.0000$ & \\\\\\\\\\n\\n    \\\\bottomrule\\n    \\\\end{tabular}\\n    }\\n    \\\\end{table}\\n    '"
      ]
     },
     "execution_count": 5,
     "metadata": {},
     "output_type": "execute_result"
    }
   ],
   "source": [
    "odl.result_to_latex('/raid/mpsych/ODL/A_best_5_144220.pkl')"
   ]
  },
  {
   "cell_type": "code",
   "execution_count": 6,
   "id": "92a5038a",
   "metadata": {},
   "outputs": [
    {
     "name": "stdout",
     "output_type": "stream",
     "text": [
      "<class 'dict'>\n",
      "\n",
      "    \\begin{table}[!h]\n",
      "    \\centering\n",
      "    \\label{tab:results}\n",
      "    \\caption{Results for dataset B}\n",
      "    \\resizebox{\\textwidth}{!}{\n",
      "    \\begin{tabular}{ccl|ccl|ccl}\n",
      "    \\toprule\n",
      "    \\textbf{Algorithm} & \\textbf{Norm. + Feature}  & \\textbf{Score}  & \\\\\n",
      "    \\midrule\n",
      "    INNE & Min-Max + SIFT & $0.5337\\pm0.0808$ & \\\\\n",
      "LOF & Min-Max + SIFT & $0.4954\\pm0.0416$ & \\\\\n",
      "COF & Min-Max + SIFT & $0.4784\\pm0.0416$ & \\\\\n",
      "SOS & Max + SIFT & $0.3426\\pm0.0574$ & \\\\\n",
      "HBOS & Max + Histogram & $0.3000\\pm0.0000$ & \\\\\n",
      "SOD & Min-Max + SIFT & $0.2280\\pm0.0439$ & \\\\\n",
      "AE & Max + SIFT & $0.1818\\pm0.0000$ & \\\\\n",
      "VAE & Max + SIFT & $0.1818\\pm0.0000$ & \\\\\n",
      "DeepSVDD & Gaussian + Histogram & $0.0974\\pm0.0738$ & \\\\\n",
      "LMDD & Max + SIFT & $0.0668\\pm0.0360$ & \\\\\n",
      "LODA & Gaussian + Histogram & $0.0420\\pm0.0373$ & \\\\\n",
      "AnoGAN & Max + SIFT & $0.0400\\pm0.0000$ & \\\\\n",
      "CBLOF & Gaussian + Histogram & $0.0400\\pm0.0000$ & \\\\\n",
      "KNN & Gaussian + Histogram & $0.0400\\pm0.0000$ & \\\\\n",
      "MedKNN & Gaussian + Histogram & $0.0400\\pm0.0000$ & \\\\\n",
      "Sampling & Gaussian + Histogram & $0.0320\\pm0.0160$ & \\\\\n",
      "FB & Gaussian + Histogram & $0.0240\\pm0.0196$ & \\\\\n",
      "SUOD & Gaussian + Histogram & $0.0080\\pm0.0160$ & \\\\\n",
      "AvgKNN & Gaussian + Histogram & $0.0000\\pm0.0000$ & \\\\\n",
      "SOGAAL & Gaussian + ORB & $0.0000\\pm0.0000$ & \\\\\n",
      "OCSVM & Gaussian + Histogram & $0.0000\\pm0.0000$ & \\\\\n",
      "IForest & Gaussian + Histogram & $0.0000\\pm0.0000$ & \\\\\n",
      "COPOD & Gaussian + Histogram & $0.0000\\pm0.0000$ & \\\\\n",
      "KDE & Gaussian + Histogram & $0.0000\\pm0.0000$ & \\\\\n",
      "PCA & Gaussian + Histogram & $0.0000\\pm0.0000$ & \\\\\n",
      "ECOD & Gaussian + Histogram & $0.0000\\pm0.0000$ & \\\\\n",
      "\n",
      "    \\bottomrule\n",
      "    \\end{tabular}\n",
      "    }\n",
      "    \\end{table}\n",
      "    \n"
     ]
    },
    {
     "data": {
      "text/plain": [
       "'\\n    \\\\begin{table}[!h]\\n    \\\\centering\\n    \\\\label{tab:results}\\n    \\\\caption{Results for dataset B}\\n    \\\\resizebox{\\\\textwidth}{!}{\\n    \\\\begin{tabular}{ccl|ccl|ccl}\\n    \\\\toprule\\n    \\\\textbf{Algorithm} & \\\\textbf{Norm. + Feature}  & \\\\textbf{Score}  & \\\\\\\\\\n    \\\\midrule\\n    INNE & Min-Max + SIFT & $0.5337\\\\pm0.0808$ & \\\\\\\\\\nLOF & Min-Max + SIFT & $0.4954\\\\pm0.0416$ & \\\\\\\\\\nCOF & Min-Max + SIFT & $0.4784\\\\pm0.0416$ & \\\\\\\\\\nSOS & Max + SIFT & $0.3426\\\\pm0.0574$ & \\\\\\\\\\nHBOS & Max + Histogram & $0.3000\\\\pm0.0000$ & \\\\\\\\\\nSOD & Min-Max + SIFT & $0.2280\\\\pm0.0439$ & \\\\\\\\\\nAE & Max + SIFT & $0.1818\\\\pm0.0000$ & \\\\\\\\\\nVAE & Max + SIFT & $0.1818\\\\pm0.0000$ & \\\\\\\\\\nDeepSVDD & Gaussian + Histogram & $0.0974\\\\pm0.0738$ & \\\\\\\\\\nLMDD & Max + SIFT & $0.0668\\\\pm0.0360$ & \\\\\\\\\\nLODA & Gaussian + Histogram & $0.0420\\\\pm0.0373$ & \\\\\\\\\\nAnoGAN & Max + SIFT & $0.0400\\\\pm0.0000$ & \\\\\\\\\\nCBLOF & Gaussian + Histogram & $0.0400\\\\pm0.0000$ & \\\\\\\\\\nKNN & Gaussian + Histogram & $0.0400\\\\pm0.0000$ & \\\\\\\\\\nMedKNN & Gaussian + Histogram & $0.0400\\\\pm0.0000$ & \\\\\\\\\\nSampling & Gaussian + Histogram & $0.0320\\\\pm0.0160$ & \\\\\\\\\\nFB & Gaussian + Histogram & $0.0240\\\\pm0.0196$ & \\\\\\\\\\nSUOD & Gaussian + Histogram & $0.0080\\\\pm0.0160$ & \\\\\\\\\\nAvgKNN & Gaussian + Histogram & $0.0000\\\\pm0.0000$ & \\\\\\\\\\nSOGAAL & Gaussian + ORB & $0.0000\\\\pm0.0000$ & \\\\\\\\\\nOCSVM & Gaussian + Histogram & $0.0000\\\\pm0.0000$ & \\\\\\\\\\nIForest & Gaussian + Histogram & $0.0000\\\\pm0.0000$ & \\\\\\\\\\nCOPOD & Gaussian + Histogram & $0.0000\\\\pm0.0000$ & \\\\\\\\\\nKDE & Gaussian + Histogram & $0.0000\\\\pm0.0000$ & \\\\\\\\\\nPCA & Gaussian + Histogram & $0.0000\\\\pm0.0000$ & \\\\\\\\\\nECOD & Gaussian + Histogram & $0.0000\\\\pm0.0000$ & \\\\\\\\\\n\\n    \\\\bottomrule\\n    \\\\end{tabular}\\n    }\\n    \\\\end{table}\\n    '"
      ]
     },
     "execution_count": 6,
     "metadata": {},
     "output_type": "execute_result"
    }
   ],
   "source": [
    "odl.result_to_latex('/raid/mpsych/ODL/B_best_5_144221.pkl')"
   ]
  },
  {
   "cell_type": "code",
   "execution_count": 6,
   "id": "8f9775c2",
   "metadata": {},
   "outputs": [
    {
     "name": "stdout",
     "output_type": "stream",
     "text": [
      "<class 'dict'>\n",
      "\n",
      "        \\begin{table}[!h]\n",
      "        \\centering\n",
      "        \\label{tab:results}\n",
      "        \\caption{Results for dataset D}\n",
      "        \\resizebox{\\textwidth}{!}{\n",
      "        \\begin{tabular}{ccl}\n",
      "        \\toprule\n",
      "        \\textbf{Algorithm} & \\textbf{Norm. + Feature}  & \\textbf{Jaccard Score}  \\\\\n",
      "        \\midrule\n",
      "        PCA & Gaussian + Histogram & 0.4118 \\\\\n",
      "FB & Gaussian + Histogram & 0.4118 \\\\\n",
      "COPOD & Gaussian + Histogram & 0.3333 \\\\\n",
      "ECOD & Gaussian + Histogram & 0.3333 \\\\\n",
      "IForest & Gaussian + Histogram & $0.2950\\pm0.1663$ \\\\\n",
      "DeepSVDD & Gaussian + Histogram & $0.2421\\pm0.1443$ \\\\\n",
      "AnoGAN & Max + ORB & 0.2000 \\\\\n",
      "SUOD & Gaussian + Histogram & $0.1941\\pm0.0117$ \\\\\n",
      "LMDD & Min-Max + SIFT & $0.1325\\pm0.0208$ \\\\\n",
      "Sampling & Gaussian + Histogram & $0.1319\\pm0.1411$ \\\\\n",
      "MedKNN & Gaussian + Histogram & 0.0682 \\\\\n",
      "AvgKNN & Gaussian + Histogram & 0.0667 \\\\\n",
      "KNN & Gaussian + Histogram & 0.0667 \\\\\n",
      "SOD & Min-Max + SIFT & $0.0622\\pm0.0177$ \\\\\n",
      "LOF & Min-Max + SIFT & $0.0574\\pm0.0114$ \\\\\n",
      "COF & Max + SIFT & $0.0439\\pm0.0203$ \\\\\n",
      "AE & Max + SIFT & 0.0435 \\\\\n",
      "VAE & Min-Max + SIFT & 0.0435 \\\\\n",
      "CBLOF & Gaussian + Histogram & 0.0435 \\\\\n",
      "LODA & Gaussian + Histogram & 0.0417 \\\\\n",
      "SOGAAL & Max + Histogram & $0.0410\\pm0.0821$ \\\\\n",
      "INNE & Min-Max + SIFT & $0.0346\\pm0.0109$ \\\\\n",
      "SOS & Min-Max + SIFT & $0.0218\\pm0.0243$ \\\\\n",
      "HBOS & Gaussian + Histogram & 0.0000 \\\\\n",
      "OCSVM & Gaussian + Histogram & 0.0000 \\\\\n",
      "KDE & Gaussian + Histogram & 0.0000 \\\\\n",
      "\n",
      "        \\bottomrule\n",
      "        \\end{tabular}\n",
      "        }\n",
      "        \\end{table}\n",
      "        \n"
     ]
    },
    {
     "data": {
      "text/plain": [
       "'\\n        \\\\begin{table}[!h]\\n        \\\\centering\\n        \\\\label{tab:results}\\n        \\\\caption{Results for dataset D}\\n        \\\\resizebox{\\\\textwidth}{!}{\\n        \\\\begin{tabular}{ccl}\\n        \\\\toprule\\n        \\\\textbf{Algorithm} & \\\\textbf{Norm. + Feature}  & \\\\textbf{Jaccard Score}  \\\\\\\\\\n        \\\\midrule\\n        PCA & Gaussian + Histogram & 0.4118 \\\\\\\\\\nFB & Gaussian + Histogram & 0.4118 \\\\\\\\\\nCOPOD & Gaussian + Histogram & 0.3333 \\\\\\\\\\nECOD & Gaussian + Histogram & 0.3333 \\\\\\\\\\nIForest & Gaussian + Histogram & $0.2950\\\\pm0.1663$ \\\\\\\\\\nDeepSVDD & Gaussian + Histogram & $0.2421\\\\pm0.1443$ \\\\\\\\\\nAnoGAN & Max + ORB & 0.2000 \\\\\\\\\\nSUOD & Gaussian + Histogram & $0.1941\\\\pm0.0117$ \\\\\\\\\\nLMDD & Min-Max + SIFT & $0.1325\\\\pm0.0208$ \\\\\\\\\\nSampling & Gaussian + Histogram & $0.1319\\\\pm0.1411$ \\\\\\\\\\nMedKNN & Gaussian + Histogram & 0.0682 \\\\\\\\\\nAvgKNN & Gaussian + Histogram & 0.0667 \\\\\\\\\\nKNN & Gaussian + Histogram & 0.0667 \\\\\\\\\\nSOD & Min-Max + SIFT & $0.0622\\\\pm0.0177$ \\\\\\\\\\nLOF & Min-Max + SIFT & $0.0574\\\\pm0.0114$ \\\\\\\\\\nCOF & Max + SIFT & $0.0439\\\\pm0.0203$ \\\\\\\\\\nAE & Max + SIFT & 0.0435 \\\\\\\\\\nVAE & Min-Max + SIFT & 0.0435 \\\\\\\\\\nCBLOF & Gaussian + Histogram & 0.0435 \\\\\\\\\\nLODA & Gaussian + Histogram & 0.0417 \\\\\\\\\\nSOGAAL & Max + Histogram & $0.0410\\\\pm0.0821$ \\\\\\\\\\nINNE & Min-Max + SIFT & $0.0346\\\\pm0.0109$ \\\\\\\\\\nSOS & Min-Max + SIFT & $0.0218\\\\pm0.0243$ \\\\\\\\\\nHBOS & Gaussian + Histogram & 0.0000 \\\\\\\\\\nOCSVM & Gaussian + Histogram & 0.0000 \\\\\\\\\\nKDE & Gaussian + Histogram & 0.0000 \\\\\\\\\\n\\n        \\\\bottomrule\\n        \\\\end{tabular}\\n        }\\n        \\\\end{table}\\n        '"
      ]
     },
     "execution_count": 6,
     "metadata": {},
     "output_type": "execute_result"
    }
   ],
   "source": [
    "odl.result_to_latex('/raid/mpsych/ODL/D_best_5_144395.pkl')"
   ]
  },
  {
   "cell_type": "code",
   "execution_count": 14,
   "id": "bc73f1fd",
   "metadata": {},
   "outputs": [
    {
     "name": "stdout",
     "output_type": "stream",
     "text": [
      "\n",
      "        \\begin{table}[!h]\n",
      "        \\centering\n",
      "        \\label{tab:results}\n",
      "        \\caption{ }\n",
      "        \\resizebox{\\textwidth}{!}{\n",
      "        \\begin{tabular}{ccl|ccl|ccl}\n",
      "        \\toprule\n",
      "        \\multicolumn{3}{c}{\\textbf{Dataset A}} & \\multicolumn{3}{c}{\\textbf{Dataset B}} & \\multicolumn{3}{c}{\\textbf{Dataset C}}  \\\\\n",
      "        \\textbf{Algorithm} & \\textbf{Norm. + Feature}  & \\textbf{Jaccard Score} & \\textbf{Algorithm} & \\textbf{Norm. + Feature}  & \\textbf{Jaccard Score} & \\textbf{Algorithm} & \\textbf{Norm. + Feature}  & \\textbf{Jaccard Score} \\\\\n",
      "        \\midrule\n",
      "        INNE & Max + SIFT & $0.3576\\pm0.0485$ &INNE & Min-Max + SIFT & $0.4325\\pm0.0740$ &AvgKNN & Gaussian + Histogram & 0.7143 \\\\\n",
      "SOS & Max + SIFT & $0.3128\\pm0.0410$ &SOS & Max + SIFT & $0.3165\\pm0.0683$ &CBLOF & Gaussian + Histogram & 0.7143 \\\\\n",
      "SOD & Min-Max + SIFT & $0.1956\\pm0.0431$ &HBOS & Max + Histogram & 0.3000 &MedKNN & Gaussian + Histogram & 0.7143 \\\\\n",
      "VAE & Min-Max + Histogram & $0.1604\\pm0.0352$ &SOD & Min-Max + SIFT & $0.2889\\pm0.0484$ &HBOS & Gaussian + Histogram & 0.7037 \\\\\n",
      "FB & Max + SIFT & $0.1452\\pm0.0520$ &AE & Max + SIFT & 0.1818 &KNN & Gaussian + Histogram & 0.6786 \\\\\n",
      "AE & Max + Histogram & 0.1429 &LOF & Min-Max + SIFT & 0.1818 &INNE & Min-Max + SIFT & $0.6228\\pm0.0429$ \\\\\n",
      "LOF & Min-Max + SIFT & $0.1147\\pm0.0651$ &VAE & Max + SIFT & $0.1715\\pm0.0206$ &SOS & Min-Max + SIFT & $0.5310\\pm0.0621$ \\\\\n",
      "CBLOF & Gaussian + Histogram & 0.0667 &COF & Min-Max + SIFT & $0.1715\\pm0.0206$ &SUOD & Gaussian + Histogram & $0.5296\\pm0.0375$ \\\\\n",
      "COF & Gaussian + Histogram & 0.0667 &DeepSVDD & Gaussian + Histogram & $0.0949\\pm0.0508$ &Sampling & Gaussian + Histogram & $0.4733\\pm0.0375$ \\\\\n",
      "LODA & Gaussian + Histogram & $0.0552\\pm0.0530$ &LODA & Gaussian + Histogram & $0.0674\\pm0.0442$ &SOD & Min-Max + SIFT & $0.4727\\pm0.0223$ \\\\\n",
      "DeepSVDD & Gaussian + Histogram & $0.0286\\pm0.0571$ &AnoGAN & Max + SIFT & $0.0573\\pm0.0212$ &COPOD & Gaussian + Histogram & 0.4545 \\\\\n",
      "SOGAAL & Max + SIFT & $0.0267\\pm0.0327$ &CBLOF & Gaussian + Histogram & 0.0400 &ECOD & Gaussian + Histogram & 0.4545 \\\\\n",
      "Sampling & Gaussian + Histogram & $0.0267\\pm0.0327$ &KNN & Gaussian + Histogram & 0.0400 &FB & Gaussian + Histogram & 0.4545 \\\\\n",
      "AvgKNN & Gaussian + Histogram & 0.0000 &MedKNN & Gaussian + Histogram & 0.0400 &VAE & Min-Max + SIFT & $0.4460\\pm0.0171$ \\\\\n",
      "AnoGAN & Gaussian + Histogram & 0.0000 &LMDD & Max + SIFT & $0.0320\\pm0.0160$ &COF & Max + SIFT & $0.4379\\pm0.0332$ \\\\\n",
      "HBOS & Gaussian + Histogram & 0.0000 &Sampling & Gaussian + Histogram & $0.0240\\pm0.0196$ &LOF & Min-Max + SIFT & $0.4203\\pm0.0171$ \\\\\n",
      "OCSVM & Gaussian + Histogram & 0.0000 &FB & Gaussian + Histogram & $0.0160\\pm0.0196$ &IForest & Gaussian + Histogram & 0.4118 \\\\\n",
      "IForest & Gaussian + Histogram & 0.0000 &AvgKNN & Gaussian + Histogram & 0.0000 &PCA & Gaussian + Histogram & 0.3667 \\\\\n",
      "COPOD & Gaussian + Histogram & 0.0000 &SOGAAL & Gaussian + ORB & 0.0000 &DeepSVDD & Gaussian + Histogram & $0.3345\\pm0.2567$ \\\\\n",
      "KDE & Gaussian + Histogram & 0.0000 &OCSVM & Gaussian + Histogram & 0.0000 &AE & Max + SIFT & $0.3117\\pm0.0177$ \\\\\n",
      "PCA & Gaussian + Histogram & 0.0000 &IForest & Gaussian + Histogram & 0.0000 &LODA & Gaussian + Histogram & 0.2632 \\\\\n",
      "LMDD & Gaussian + Histogram & 0.0000 &COPOD & Gaussian + Histogram & 0.0000 &LMDD & Min-Max + SIFT & $0.1211\\pm0.1089$ \\\\\n",
      "ECOD & Gaussian + Histogram & 0.0000 &KDE & Gaussian + Histogram & 0.0000 &AnoGAN & Max + ORB & 0.1163 \\\\\n",
      "KNN & Gaussian + Histogram & 0.0000 &PCA & Gaussian + Histogram & 0.0000 &SOGAAL & Max + Histogram & 0.0000 \\\\\n",
      "MedKNN & Gaussian + Histogram & 0.0000 &ECOD & Gaussian + Histogram & 0.0000 &OCSVM & Gaussian + Histogram & 0.0000 \\\\\n",
      "SUOD & Gaussian + Histogram & 0.0000 &SUOD & Gaussian + Histogram & 0.0000 &KDE & Gaussian + Histogram & 0.0000 \\\\\n",
      "\n",
      "        \\bottomrule\n",
      "        \\end{tabular}\n",
      "        }\n",
      "        \\end{table}\n",
      "        \n"
     ]
    }
   ],
   "source": [
    "latex = odl.results_to_latex('/raid/mpsych/ODL/A_default_5_144399.pkl', '/raid/mpsych/ODL/B_default_5_144400.pkl', '/raid/mpsych/ODL/C_default_5_144401.pkl') # zscore\n",
    "# latex = odl.results_to_latex('/raid/mpsych/ODL/A_default_5_144387.pkl', '/raid/mpsych/ODL/B_default_5_144388.pkl', '/raid/mpsych/ODL/C_default_5_144389.pkl' , variable='roc_auc')   # gaussian blur   , variable='roc_auc'"
   ]
  },
  {
   "cell_type": "code",
   "execution_count": 25,
   "id": "0953b299",
   "metadata": {},
   "outputs": [
    {
     "name": "stdout",
     "output_type": "stream",
     "text": [
      "\n",
      "        \\begin{table}[!h]\n",
      "        \\centering\n",
      "        \\label{tab:results}\n",
      "        \\caption{ }\n",
      "        \\resizebox{\\textwidth}{!}{\n",
      "        \\begin{tabular}{ccl|ccl}\n",
      "        \\toprule\n",
      "        \\multicolumn{3}{c}{\\textbf{Dataset ASTAR}} & \\multicolumn{3}{c}{\\textbf{Dataset BSTAR}} \\\\\n",
      "        \\textbf{Algorithm} & \\textbf{Norm. + Feature}  & \\textbf{F1 Score} &\\textbf{Algorithm} & \\textbf{Norm. + Feature}  & \\textbf{F1 Score} \\\\\n",
      "        \\midrule\n",
      "        HBOS & Gaussian + Histogram & 0.7885 &HBOS & Gaussian + Histogram & 0.7805 \\\\\n",
      "AvgKNN & Gaussian + Histogram & 0.7460 &AvgKNN & Gaussian + Histogram & 0.6600 \\\\\n",
      "CBLOF & Gaussian + Histogram & $0.7460\\pm0.0100$ &ECOD & Gaussian + Histogram & 0.6600 \\\\\n",
      "KNN & Gaussian + Histogram & 0.7460 &KNN & Gaussian + Histogram & 0.6600 \\\\\n",
      "MedKNN & Gaussian + Histogram & 0.7460 &MedKNN & Gaussian + Histogram & 0.6600 \\\\\n",
      "ECOD & Gaussian + Histogram & 0.7097 &SUOD & Gaussian + Histogram & $0.6466\\pm0.0089$ \\\\\n",
      "SUOD & Gaussian + Histogram & $0.6901\\pm0.0091$ &IForest & Gaussian + Histogram & $0.6453\\pm0.0093$ \\\\\n",
      "IForest & Gaussian + Histogram & $0.6578\\pm0.0679$ &FB & Max + SIFT & $0.6080\\pm0.0412$ \\\\\n",
      "LODA & Gaussian + Histogram & $0.5642\\pm0.2737$ &LOF & Min-Max + SIFT & $0.6060\\pm0.0380$ \\\\\n",
      "DeepSVDD & Gaussian + Histogram & $0.5024\\pm0.1326$ &SOS & Max + SIFT & $0.5080\\pm0.0492$ \\\\\n",
      "LOF & Min-Max + SIFT & $0.4873\\pm0.0444$ &PCA & Gaussian + Histogram & 0.4783 \\\\\n",
      "Sampling & Gaussian + Histogram & $0.4450\\pm0.3305$ &COPOD & Gaussian + Histogram & 0.4583 \\\\\n",
      "FB & Max + SIFT & $0.4302\\pm0.0479$ &INNE & Max + SIFT & $0.4560\\pm0.0332$ \\\\\n",
      "INNE & Max + SIFT & $0.3667\\pm0.0398$ &DeepSVDD & Gaussian + Histogram & $0.3898\\pm0.0534$ \\\\\n",
      "COPOD & Gaussian + Histogram & 0.3651 &LODA & Gaussian + Histogram & $0.3082\\pm0.3615$ \\\\\n",
      "PCA & Gaussian + Histogram & 0.3651 &Sampling & Gaussian + Histogram & $0.2620\\pm0.3169$ \\\\\n",
      "SOD & Min-Max + SIFT & $0.2667\\pm0.0185$ &SOD & Min-Max + SIFT & $0.1780\\pm0.0209$ \\\\\n",
      "SOS & Max + SIFT & $0.2302\\pm0.0573$ &AE & Max + Histogram & 0.1200 \\\\\n",
      "COF & Gaussian + Histogram & 0.1746 &COF & Gaussian + Histogram & 0.1000 \\\\\n",
      "AE & Max + Histogram & 0.1270 &VAE & Min-Max + Histogram & $0.0920\\pm0.0098$ \\\\\n",
      "VAE & Min-Max + Histogram & 0.1111 &CBLOF & Gaussian + Histogram & 0.0202 \\\\\n",
      "SOGAAL & Max + SIFT & $0.0143\\pm0.0429$ &SOGAAL & Max + SIFT & 0.0000 \\\\\n",
      "AnoGAN & Gaussian + Histogram & 0.0000 &AnoGAN & Gaussian + Histogram & 0.0000 \\\\\n",
      "OCSVM & Gaussian + Histogram & 0.0000 &OCSVM & Gaussian + Histogram & 0.0000 \\\\\n",
      "KDE & Gaussian + Histogram & 0.0000 &KDE & Gaussian + Histogram & 0.0000 \\\\\n",
      "LMDD & Gaussian + Histogram & 0.0000 &LMDD & Gaussian + Histogram & 0.0000 \\\\\n",
      "\n",
      "        \\bottomrule\n",
      "        \\end{tabular}\n",
      "        }\n",
      "        \\end{table}\n",
      "        \n"
     ]
    }
   ],
   "source": [
    "datasets = ['/raid/mpsych/ODL/ASTAR_default_10_152153.pkl', '/raid/mpsych/ODL/BSTAR_default_10_152154.pkl']\n",
    "latex = odl.results_to_latex(datasets, variable='f1_score') # zscore\n",
    "# latex = odl.results_to_latex('/raid/mpsych/ODL/A_default_5_144387.pkl', '/raid/mpsych/ODL/B_default_5_144388.pkl', '/raid/mpsych/ODL/C_default_5_144389.pkl' , variable='roc_auc')   # gaussian blur   , variable='roc_auc'"
   ]
  },
  {
   "cell_type": "code",
   "execution_count": null,
   "id": "0f476bda",
   "metadata": {},
   "outputs": [],
   "source": []
  },
  {
   "cell_type": "code",
   "execution_count": 10,
   "id": "b7cc4ea4",
   "metadata": {},
   "outputs": [
    {
     "name": "stdout",
     "output_type": "stream",
     "text": [
      "LOF\n",
      "    roc_auc 0.7789566755083995 +/- 0.03609622373685793\n",
      "    f1 0.6153846153846153 +/- 0.06280742930213278\n",
      "    acc 0.9 +/- 0.016329931618554536\n",
      "    tn 82.0 +/- 0.816496580927726\n",
      "    fp 5.0 +/- 0.816496580927726\n",
      "    fn 5.0 +/- 0.816496580927726\n",
      "    tp 8.0 +/- 0.816496580927726\n",
      "    jaccard_score 0.4474257539273019 +/- 0.06575798302980533\n",
      "COF\n",
      "    roc_auc 0.7642204538756263 +/- 0.05513789252540436\n",
      "    f1 0.5897435897435898 +/- 0.09593993299420361\n",
      "    acc 0.8933333333333334 +/- 0.024944382578492966\n",
      "    tn 81.66666666666667 +/- 1.247219128924647\n",
      "    fp 5.333333333333333 +/- 1.247219128924647\n",
      "    fn 5.333333333333333 +/- 1.247219128924647\n",
      "    tp 7.666666666666667 +/- 1.247219128924647\n",
      "    jaccard_score 0.4246187363834422 +/- 0.09470034660780234\n"
     ]
    }
   ],
   "source": [
    "odl.print_results(results)"
   ]
  },
  {
   "cell_type": "code",
   "execution_count": null,
   "id": "ceb5573c",
   "metadata": {},
   "outputs": [],
   "source": []
  }
 ],
 "metadata": {
  "kernelspec": {
   "display_name": "Python 3 (ipykernel)",
   "language": "python",
   "name": "python3"
  },
  "language_info": {
   "codemirror_mode": {
    "name": "ipython",
    "version": 3
   },
   "file_extension": ".py",
   "mimetype": "text/x-python",
   "name": "python",
   "nbconvert_exporter": "python",
   "pygments_lexer": "ipython3",
   "version": "3.9.7"
  }
 },
 "nbformat": 4,
 "nbformat_minor": 5
}
