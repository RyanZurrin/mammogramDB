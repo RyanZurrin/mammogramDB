{
 "cells": [
  {
   "cell_type": "code",
   "execution_count": 3,
   "id": "a6c20017",
   "metadata": {},
   "outputs": [
    {
     "name": "stdout",
     "output_type": "stream",
     "text": [
      "Populating the interactive namespace from numpy and matplotlib\n",
      "The autoreload extension is already loaded. To reload it, use:\n",
      "  %reload_ext autoreload\n"
     ]
    }
   ],
   "source": [
    "%pylab inline\n",
    "%load_ext autoreload\n",
    "%autoreload 2"
   ]
  },
  {
   "cell_type": "code",
   "execution_count": 4,
   "id": "a27d9099",
   "metadata": {},
   "outputs": [],
   "source": [
    "import sys\n",
    "sys.path.insert(0,'../..')\n",
    "import omama as O\n",
    "from skimage.transform import resize"
   ]
  },
  {
   "cell_type": "code",
   "execution_count": 5,
   "id": "905108b3",
   "metadata": {},
   "outputs": [],
   "source": [
    "odl = O.OutlierDetectorLite()"
   ]
  },
  {
   "cell_type": "code",
   "execution_count": 6,
   "id": "6d674d2a",
   "metadata": {},
   "outputs": [],
   "source": [
    "data = odl.load_data(\"A\")"
   ]
  },
  {
   "cell_type": "code",
   "execution_count": 7,
   "id": "70feee7e",
   "metadata": {},
   "outputs": [],
   "source": [
    "pixels = O.Normalize.extract_pixels(data)"
   ]
  },
  {
   "cell_type": "code",
   "execution_count": 8,
   "id": "c0e5108b",
   "metadata": {},
   "outputs": [
    {
     "data": {
      "text/plain": [
       "numpy.ndarray"
      ]
     },
     "execution_count": 8,
     "metadata": {},
     "output_type": "execute_result"
    }
   ],
   "source": [
    "type(pixels[0])"
   ]
  },
  {
   "cell_type": "code",
   "execution_count": 9,
   "id": "ef9e6289",
   "metadata": {},
   "outputs": [
    {
     "data": {
      "text/plain": [
       "[array([[   0,    0,    0, ..., 2429, 2430, 2443],\n",
       "        [   0,    0,    0, ..., 2420, 2446, 2457],\n",
       "        [   0,    0,    0, ..., 2444, 2461, 2454],\n",
       "        ...,\n",
       "        [   0,    0,    0, ..., 2481, 2505, 2536],\n",
       "        [   0,    0,    0, ..., 2494, 2521, 2527],\n",
       "        [   0,    0,    0, ..., 2510, 2525, 2541]], dtype=uint16),\n",
       " array([[ 104,  100,  100, ..., 2828, 2738, 2741],\n",
       "        [ 107,  100,  103, ..., 2810, 2745, 2731],\n",
       "        [ 103,   99,  101, ..., 2753, 2765, 2748],\n",
       "        ...,\n",
       "        [ 105,  104,  105, ..., 2590, 2563, 2567],\n",
       "        [ 107,  108,  106, ..., 2585, 2565, 2577],\n",
       "        [ 104,  104,  101, ..., 2581, 2568, 2562]], dtype=uint16)]"
      ]
     },
     "execution_count": 9,
     "metadata": {},
     "output_type": "execute_result"
    }
   ],
   "source": [
    "pixels[:2]"
   ]
  },
  {
   "cell_type": "code",
   "execution_count": 61,
   "id": "6c33f525",
   "metadata": {},
   "outputs": [],
   "source": [
    "resized = []\n",
    "for p in pixels:\n",
    "    resized.append(np.array(resize(p, (256,256))).reshape(-1))"
   ]
  },
  {
   "cell_type": "code",
   "execution_count": 62,
   "id": "8718760c",
   "metadata": {},
   "outputs": [
    {
     "data": {
      "text/plain": [
       "[array([0.        , 0.        , 0.        , ..., 0.03895602, 0.03768494,\n",
       "        0.03796986]),\n",
       " array([0.00152881, 0.00154785, 0.0015675 , ..., 0.03832124, 0.03867875,\n",
       "        0.03945722])]"
      ]
     },
     "execution_count": 62,
     "metadata": {},
     "output_type": "execute_result"
    }
   ],
   "source": [
    "resized[:2]"
   ]
  },
  {
   "cell_type": "code",
   "execution_count": null,
   "id": "e3fec784",
   "metadata": {},
   "outputs": [],
   "source": []
  },
  {
   "cell_type": "code",
   "execution_count": 52,
   "id": "7d7a3706",
   "metadata": {},
   "outputs": [
    {
     "data": {
      "text/plain": [
       "[array([0.        , 0.        , 0.        , ..., 0.03895602, 0.03768494,\n",
       "        0.03796986]),\n",
       " array([0.00152881, 0.00154785, 0.0015675 , ..., 0.03832124, 0.03867875,\n",
       "        0.03945722])]"
      ]
     },
     "execution_count": 52,
     "metadata": {},
     "output_type": "execute_result"
    }
   ],
   "source": [
    "resized[:2]"
   ]
  },
  {
   "cell_type": "code",
   "execution_count": 53,
   "id": "184aba31",
   "metadata": {},
   "outputs": [],
   "source": [
    "resized = np.asarray(resized)"
   ]
  },
  {
   "cell_type": "code",
   "execution_count": 54,
   "id": "17a327f6",
   "metadata": {},
   "outputs": [
    {
     "data": {
      "text/plain": [
       "(100, 65536)"
      ]
     },
     "execution_count": 54,
     "metadata": {},
     "output_type": "execute_result"
    }
   ],
   "source": [
    "resized.shape"
   ]
  },
  {
   "cell_type": "code",
   "execution_count": 55,
   "id": "3ce96fb0",
   "metadata": {},
   "outputs": [],
   "source": [
    "for i in range(len(resized)):\n",
    "    resized[i] = O.Normalize.get_norm(resized[i], 'minmax')[0]    "
   ]
  },
  {
   "cell_type": "code",
   "execution_count": 56,
   "id": "0d4bcb82",
   "metadata": {},
   "outputs": [
    {
     "data": {
      "text/plain": [
       "array([  0.        ,   0.        ,   0.        , ..., 176.70581055,\n",
       "       170.94015503, 172.23258972])"
      ]
     },
     "execution_count": 56,
     "metadata": {},
     "output_type": "execute_result"
    }
   ],
   "source": [
    "resized[0]"
   ]
  },
  {
   "cell_type": "code",
   "execution_count": 57,
   "id": "a3ee1837",
   "metadata": {},
   "outputs": [
    {
     "data": {
      "text/plain": [
       "(65536,)"
      ]
     },
     "execution_count": 57,
     "metadata": {},
     "output_type": "execute_result"
    }
   ],
   "source": [
    "resized[0].shape"
   ]
  },
  {
   "cell_type": "code",
   "execution_count": 58,
   "id": "a0e51347",
   "metadata": {},
   "outputs": [],
   "source": [
    "resized = np.asarray(resized)"
   ]
  },
  {
   "cell_type": "code",
   "execution_count": 59,
   "id": "9ac8483e",
   "metadata": {},
   "outputs": [
    {
     "data": {
      "text/plain": [
       "numpy.ndarray"
      ]
     },
     "execution_count": 59,
     "metadata": {},
     "output_type": "execute_result"
    }
   ],
   "source": [
    "type(resized)"
   ]
  },
  {
   "cell_type": "code",
   "execution_count": 60,
   "id": "da921a55",
   "metadata": {},
   "outputs": [
    {
     "data": {
      "text/plain": [
       "(100, 65536)"
      ]
     },
     "execution_count": 60,
     "metadata": {},
     "output_type": "execute_result"
    }
   ],
   "source": [
    "resized.shape"
   ]
  },
  {
   "cell_type": "code",
   "execution_count": null,
   "id": "1e7e12a3",
   "metadata": {},
   "outputs": [],
   "source": []
  }
 ],
 "metadata": {
  "kernelspec": {
   "display_name": "Python 3 (ipykernel)",
   "language": "python",
   "name": "python3"
  },
  "language_info": {
   "codemirror_mode": {
    "name": "ipython",
    "version": 3
   },
   "file_extension": ".py",
   "mimetype": "text/x-python",
   "name": "python",
   "nbconvert_exporter": "python",
   "pygments_lexer": "ipython3",
   "version": "3.9.7"
  }
 },
 "nbformat": 4,
 "nbformat_minor": 5
}
