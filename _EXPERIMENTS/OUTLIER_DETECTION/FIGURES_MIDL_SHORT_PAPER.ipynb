{
 "cells": [
  {
   "cell_type": "code",
   "execution_count": 1,
   "id": "1ad12d91",
   "metadata": {},
   "outputs": [
    {
     "name": "stdout",
     "output_type": "stream",
     "text": [
      "Populating the interactive namespace from numpy and matplotlib\n"
     ]
    }
   ],
   "source": [
    "%pylab inline\n",
    "%load_ext autoreload\n",
    "%autoreload 2\n",
    "import sys\n",
    "sys.path.insert(0,'../..')\n",
    "import omama as O"
   ]
  },
  {
   "cell_type": "code",
   "execution_count": 2,
   "id": "307db1bc",
   "metadata": {},
   "outputs": [],
   "source": [
    "odl = O.OutlierDetectorLite()"
   ]
  },
  {
   "cell_type": "code",
   "execution_count": 3,
   "id": "a167973b",
   "metadata": {},
   "outputs": [],
   "source": [
    "cache_path = \"/raid/mpsych/ODL/ALL_RESULTS/\""
   ]
  },
  {
   "cell_type": "code",
   "execution_count": 4,
   "id": "6183d36b",
   "metadata": {},
   "outputs": [],
   "source": [
    "path_a = '/raid/mpsych/ODL/A_default_5_144387.pkl'\n",
    "path_b = '/raid/mpsych/ODL/B_default_5_144388.pkl'\n",
    "path_c = '/raid/mpsych//ODL/C_default_5_144389.pkl'\n",
    "path_A = '/raid/mpsych/ODL/ASTAR_default_10_152236.pkl'\n",
    "path_B = '/raid/mpsych/ODL/BSTAR_default_10_152237.pkl'\n",
    "path_C = \"/raid/mpsych/ODL/ALL_RESULTS/CSTAR_ALL_RESULTS.pkl\""
   ]
  },
  {
   "cell_type": "code",
   "execution_count": 5,
   "id": "fdd60100",
   "metadata": {},
   "outputs": [
    {
     "name": "stdout",
     "output_type": "stream",
     "text": [
      "\n",
      "        \\begin{table}[!h]\n",
      "        \\centering\n",
      "        \\label{tab:results}\n",
      "        \\caption{ }\n",
      "        \\resizebox{\\textwidth}{!}{\n",
      "        \\begin{tabular}{ccl|ccl|ccl|ccl|ccl|ccl}\n",
      "        \\toprule\n",
      "        \\multicolumn{3}{c}{\\textbf{Dataset A}} & \\multicolumn{3}{c}{\\textbf{Dataset B}} & \\multicolumn{3}{c}{\\textbf{Dataset C}} & \\multicolumn{3}{c}{\\textbf{Dataset ASTAR}} & \\multicolumn{3}{c}{\\textbf{Dataset BSTAR}} & \\multicolumn{3}{c}{\\textbf{Dataset CSTAR}} \\\\\n",
      "        \\textbf{Algorithm} & \\textbf{Norm. + Feature}  & \\textbf{Roc Auc} &\\textbf{Algorithm} & \\textbf{Norm. + Feature}  & \\textbf{Roc Auc} &\\textbf{Algorithm} & \\textbf{Norm. + Feature}  & \\textbf{Roc Auc} &\\textbf{Algorithm} & \\textbf{Norm. + Feature}  & \\textbf{Roc Auc} &\\textbf{Algorithm} & \\textbf{Norm. + Feature}  & \\textbf{Roc Auc} &\\textbf{Algorithm} & \\textbf{Norm. + Feature}  & \\textbf{Roc Auc} \\\\\n",
      "        \\midrule\n",
      "        DeepSVDD & Gaussian + Histogram & $0.8234\\pm0.0333$ &DeepSVDD & Gaussian + Histogram & $0.8243\\pm0.0023$ &AvgKNN & Gaussian + Histogram & 0.8904 &CBLOF & Gaussian + Histogram & $0.8662\\pm0.0034$ &AvgKNN & Gaussian + Histogram & 0.8211 &VAE & Min-Max + Histogram & $0.7470\\pm0.0135$ \\\\\n",
      "AvgKNN & Gaussian + Histogram & 0.7962 &AvgKNN & Gaussian + Histogram & 0.8232 &CBLOF & Gaussian + Histogram & 0.8904 &AvgKNN & Gaussian + Histogram & 0.8645 &ECOD & Gaussian + Histogram & 0.8211 &INNE & Min-Max + SIFT & $0.7470\\pm0.0332$ \\\\\n",
      "HBOS & Gaussian + Histogram & 0.7962 &CBLOF & Gaussian + Histogram & 0.8232 &MedKNN & Gaussian + Histogram & 0.8904 &KNN & Gaussian + Histogram & 0.8645 &KNN & Gaussian + Histogram & 0.8211 &FB & Min-Max + SIFT & $0.7403\\pm0.0166$ \\\\\n",
      "CBLOF & Gaussian + Histogram & 0.7962 &MedKNN & Gaussian + Histogram & 0.8232 &HBOS & Gaussian + Histogram & 0.8761 &MedKNN & Gaussian + Histogram & 0.8645 &MedKNN & Gaussian + Histogram & 0.8211 &AE & Min-Max + Histogram & 0.7200 \\\\\n",
      "COF & Gaussian + Histogram & 0.7962 &INNE & Min-Max + SIFT & $0.7878\\pm0.0177$ &KNN & Gaussian + Histogram & 0.8695 &ECOD & Gaussian + Histogram & 0.8401 &HBOS & Gaussian + Histogram & 0.8200 &LOF & Max + SIFT & 0.7200 \\\\\n",
      "KNN & Gaussian + Histogram & 0.7962 &KNN & Gaussian + Histogram & 0.7847 &INNE & Min-Max + SIFT & $0.8575\\pm0.0205$ &HBOS & Gaussian + Histogram & 0.8254 &SUOD & Gaussian + Histogram & $0.8127\\pm0.0042$ &PCA & Min-Max + Histogram & 0.7200 \\\\\n",
      "MedKNN & Gaussian + Histogram & 0.7962 &IForest & Gaussian + Histogram & 0.7790 &SOS & Min-Max + SIFT & $0.8136\\pm0.0205$ &SUOD & Gaussian + Histogram & $0.8253\\pm0.0022$ &IForest & Gaussian + Histogram & $0.8111\\pm0.0008$ &HBOS & Max + Histogram & 0.6861 \\\\\n",
      "Sampling & Gaussian + Histogram & $0.7690\\pm0.0333$ &ECOD & Gaussian + Histogram & 0.7790 &SUOD & Gaussian + Histogram & $0.7752\\pm0.0269$ &IForest & Gaussian + Histogram & $0.8173\\pm0.0166$ &LOF & Min-Max + SIFT & $0.7947\\pm0.0135$ &COPOD & robust + Histogram & 0.6861 \\\\\n",
      "INNE & Max + SIFT & $0.7554\\pm0.0333$ &SUOD & Gaussian + Histogram & $0.7536\\pm0.0231$ &Sampling & Gaussian + Histogram & $0.7697\\pm0.0662$ &Sampling & Gaussian + Histogram & $0.7605\\pm0.1396$ &FB & Max + SIFT & $0.7842\\pm0.0207$ &SOS & Max + SIFT & 0.6861 \\\\\n",
      "ECOD & Gaussian + Histogram & 0.7337 &SOS & Max + SIFT & $0.7347\\pm0.0559$ &COPOD & Gaussian + Histogram & 0.7533 &DeepSVDD & Gaussian + Histogram & $0.7502\\pm0.0894$ &SOS & Max + SIFT & $0.7495\\pm0.0140$ &LMDD & Max + ORB & 0.6861 \\\\\n",
      "IForest & Gaussian + Histogram & 0.7283 &Sampling & Gaussian + Histogram & $0.7171\\pm0.0217$ &COF & Max + SIFT & 0.7533 &LOF & Min-Max + SIFT & $0.7383\\pm0.0171$ &PCA & Gaussian + Histogram & 0.7095 &COF & Max + SIFT & 0.6861 \\\\\n",
      "SUOD & Gaussian + Histogram & 0.7283 &PCA & Gaussian + Histogram & 0.6963 &ECOD & Gaussian + Histogram & 0.7533 &FB & Max + SIFT & $0.7052\\pm0.0280$ &COPOD & Gaussian + Histogram & 0.7074 &ECOD & robust + Histogram & 0.6861 \\\\\n",
      "SOS & Max + SIFT & $0.7147\\pm0.0272$ &HBOS & Max + Histogram & 0.6905 &FB & Gaussian + Histogram & 0.7533 &COPOD & Gaussian + Histogram & 0.6612 &INNE & Max + SIFT & $0.6989\\pm0.0227$ &IForest & Max + Histogram & $0.6726\\pm0.0506$ \\\\\n",
      "LODA & Gaussian + Histogram & $0.6614\\pm0.0608$ &SOD & Min-Max + SIFT & $0.6729\\pm0.0354$ &SOD & Min-Max + SIFT & $0.7478\\pm0.0110$ &PCA & Gaussian + Histogram & 0.6612 &DeepSVDD & Gaussian + Histogram & $0.6961\\pm0.0355$ &AnoGAN & zscore + SIFT & 0.6523 \\\\\n",
      "COPOD & Gaussian + Histogram & 0.6603 &LODA & Gaussian + Histogram & $0.6490\\pm0.0863$ &VAE & Min-Max + SIFT & $0.7368\\pm0.0219$ &INNE & Max + SIFT & $0.6502\\pm0.0251$ &LODA & Gaussian + Histogram & $0.6911\\pm0.1400$ &DeepSVDD & Min-Max + Histogram & $0.6455\\pm0.0783$ \\\\\n",
      "PCA & Gaussian + Histogram & 0.6603 &COPOD & Gaussian + Histogram & 0.6463 &LOF & Min-Max + SIFT & $0.7368\\pm0.0219$ &SOD & Min-Max + SIFT & $0.6112\\pm0.0216$ &Sampling & Gaussian + Histogram & $0.6498\\pm0.1692$ &SUOD & Max + Histogram & $0.6320\\pm0.0166$ \\\\\n",
      "SOD & Min-Max + SIFT & $0.6467\\pm0.0508$ &AE & Max + SIFT & 0.6021 &IForest & Gaussian + Histogram & 0.7259 &LODA & Gaussian + Histogram & $0.6105\\pm0.1378$ &SOD & Min-Max + SIFT & $0.5789\\pm0.0182$ &SOD & Min-Max + SIFT & 0.6184 \\\\\n",
      "AE & Max + Histogram & 0.5924 &VAE & Max + SIFT & 0.6021 &PCA & Gaussian + Histogram & 0.6897 &SOS & Max + SIFT & $0.5816\\pm0.0205$ &AE & Max + Histogram & 0.5368 &OCSVM & Gaussian + ORB & 0.5846 \\\\\n",
      "VAE & Min-Max + Histogram & 0.5924 &LOF & Min-Max + SIFT & 0.6021 &AE & Max + SIFT & $0.6656\\pm0.0110$ &COF & Gaussian + Histogram & 0.5596 &COF & Gaussian + Histogram & 0.5263 &LODA & zscore + Histogram & $0.5508\\pm0.0303$ \\\\\n",
      "FB & Max + SIFT & 0.5924 &COF & Min-Max + SIFT & 0.6021 &LODA & Gaussian + Histogram & 0.6162 &AE & Max + Histogram & 0.5341 &VAE & Min-Max + Histogram & $0.5232\\pm0.0048$ &KNN & Max + SIFT & 0.5508 \\\\\n",
      "LOF & Min-Max + SIFT & $0.5516\\pm0.0333$ &FB & Gaussian + Histogram & 0.6021 &DeepSVDD & Gaussian + Histogram & $0.5871\\pm0.1561$ &VAE & Min-Max + Histogram & 0.5257 &SOGAAL & Max + SIFT & 0.5000 &AvgKNN & zscore + SIFT & 0.5508 \\\\\n",
      "SOGAAL & Max + SIFT & $0.5049\\pm0.0098$ &LMDD & Max + SIFT & $0.5225\\pm0.0516$ &OCSVM & Gaussian + Histogram & 0.5000 &SOGAAL & Max + SIFT & 0.5000 &OCSVM & Gaussian + Histogram & 0.5000 &MedKNN & zscore + SIFT & 0.5508 \\\\\n",
      "OCSVM & Gaussian + Histogram & 0.5000 &SOGAAL & Gaussian + ORB & 0.5000 &KDE & Gaussian + Histogram & 0.5000 &OCSVM & Gaussian + Histogram & 0.5000 &KDE & Gaussian + Histogram & 0.5000 &CBLOF & zscore + SIFT & $0.5372\\pm0.0166$ \\\\\n",
      "KDE & Gaussian + Histogram & 0.5000 &OCSVM & Gaussian + Histogram & 0.5000 &LMDD & Min-Max + SIFT & $0.4901\\pm0.0806$ &KDE & Gaussian + Histogram & 0.5000 &CBLOF & Gaussian + Histogram & 0.4847 &Sampling & zscore + SIFT & $0.5305\\pm0.0166$ \\\\\n",
      "AnoGAN & Gaussian + Histogram & 0.4620 &KDE & Gaussian + Histogram & 0.5000 &AnoGAN & Max + ORB & 0.4792 &AnoGAN & Gaussian + Histogram & $0.4784\\pm0.0003$ &AnoGAN & Gaussian + Histogram & 0.4742 &SOGAAL & Max + SIFT & $0.5120\\pm0.0240$ \\\\\n",
      "LMDD & Gaussian + Histogram & 0.4565 &AnoGAN & Max + SIFT & 0.4695 &SOGAAL & Max + Histogram & $0.4776\\pm0.0385$ &LMDD & Gaussian + Histogram & 0.4674 &LMDD & Gaussian + Histogram & 0.4737 &KDE & Max + ORB & 0.5000 \\\\\n",
      "\n",
      "        \\bottomrule\n",
      "        \\end{tabular}\n",
      "        }\n",
      "        \\end{table}\n",
      "        \n"
     ]
    },
    {
     "data": {
      "text/plain": [
       "'\\n        \\\\begin{table}[!h]\\n        \\\\centering\\n        \\\\label{tab:results}\\n        \\\\caption{ }\\n        \\\\resizebox{\\\\textwidth}{!}{\\n        \\\\begin{tabular}{ccl|ccl|ccl|ccl|ccl|ccl}\\n        \\\\toprule\\n        \\\\multicolumn{3}{c}{\\\\textbf{Dataset A}} & \\\\multicolumn{3}{c}{\\\\textbf{Dataset B}} & \\\\multicolumn{3}{c}{\\\\textbf{Dataset C}} & \\\\multicolumn{3}{c}{\\\\textbf{Dataset ASTAR}} & \\\\multicolumn{3}{c}{\\\\textbf{Dataset BSTAR}} & \\\\multicolumn{3}{c}{\\\\textbf{Dataset CSTAR}} \\\\\\\\\\n        \\\\textbf{Algorithm} & \\\\textbf{Norm. + Feature}  & \\\\textbf{Roc Auc} &\\\\textbf{Algorithm} & \\\\textbf{Norm. + Feature}  & \\\\textbf{Roc Auc} &\\\\textbf{Algorithm} & \\\\textbf{Norm. + Feature}  & \\\\textbf{Roc Auc} &\\\\textbf{Algorithm} & \\\\textbf{Norm. + Feature}  & \\\\textbf{Roc Auc} &\\\\textbf{Algorithm} & \\\\textbf{Norm. + Feature}  & \\\\textbf{Roc Auc} &\\\\textbf{Algorithm} & \\\\textbf{Norm. + Feature}  & \\\\textbf{Roc Auc} \\\\\\\\\\n        \\\\midrule\\n        DeepSVDD & Gaussian + Histogram & $0.8234\\\\pm0.0333$ &DeepSVDD & Gaussian + Histogram & $0.8243\\\\pm0.0023$ &AvgKNN & Gaussian + Histogram & 0.8904 &CBLOF & Gaussian + Histogram & $0.8662\\\\pm0.0034$ &AvgKNN & Gaussian + Histogram & 0.8211 &VAE & Min-Max + Histogram & $0.7470\\\\pm0.0135$ \\\\\\\\\\nAvgKNN & Gaussian + Histogram & 0.7962 &AvgKNN & Gaussian + Histogram & 0.8232 &CBLOF & Gaussian + Histogram & 0.8904 &AvgKNN & Gaussian + Histogram & 0.8645 &ECOD & Gaussian + Histogram & 0.8211 &INNE & Min-Max + SIFT & $0.7470\\\\pm0.0332$ \\\\\\\\\\nHBOS & Gaussian + Histogram & 0.7962 &CBLOF & Gaussian + Histogram & 0.8232 &MedKNN & Gaussian + Histogram & 0.8904 &KNN & Gaussian + Histogram & 0.8645 &KNN & Gaussian + Histogram & 0.8211 &FB & Min-Max + SIFT & $0.7403\\\\pm0.0166$ \\\\\\\\\\nCBLOF & Gaussian + Histogram & 0.7962 &MedKNN & Gaussian + Histogram & 0.8232 &HBOS & Gaussian + Histogram & 0.8761 &MedKNN & Gaussian + Histogram & 0.8645 &MedKNN & Gaussian + Histogram & 0.8211 &AE & Min-Max + Histogram & 0.7200 \\\\\\\\\\nCOF & Gaussian + Histogram & 0.7962 &INNE & Min-Max + SIFT & $0.7878\\\\pm0.0177$ &KNN & Gaussian + Histogram & 0.8695 &ECOD & Gaussian + Histogram & 0.8401 &HBOS & Gaussian + Histogram & 0.8200 &LOF & Max + SIFT & 0.7200 \\\\\\\\\\nKNN & Gaussian + Histogram & 0.7962 &KNN & Gaussian + Histogram & 0.7847 &INNE & Min-Max + SIFT & $0.8575\\\\pm0.0205$ &HBOS & Gaussian + Histogram & 0.8254 &SUOD & Gaussian + Histogram & $0.8127\\\\pm0.0042$ &PCA & Min-Max + Histogram & 0.7200 \\\\\\\\\\nMedKNN & Gaussian + Histogram & 0.7962 &IForest & Gaussian + Histogram & 0.7790 &SOS & Min-Max + SIFT & $0.8136\\\\pm0.0205$ &SUOD & Gaussian + Histogram & $0.8253\\\\pm0.0022$ &IForest & Gaussian + Histogram & $0.8111\\\\pm0.0008$ &HBOS & Max + Histogram & 0.6861 \\\\\\\\\\nSampling & Gaussian + Histogram & $0.7690\\\\pm0.0333$ &ECOD & Gaussian + Histogram & 0.7790 &SUOD & Gaussian + Histogram & $0.7752\\\\pm0.0269$ &IForest & Gaussian + Histogram & $0.8173\\\\pm0.0166$ &LOF & Min-Max + SIFT & $0.7947\\\\pm0.0135$ &COPOD & robust + Histogram & 0.6861 \\\\\\\\\\nINNE & Max + SIFT & $0.7554\\\\pm0.0333$ &SUOD & Gaussian + Histogram & $0.7536\\\\pm0.0231$ &Sampling & Gaussian + Histogram & $0.7697\\\\pm0.0662$ &Sampling & Gaussian + Histogram & $0.7605\\\\pm0.1396$ &FB & Max + SIFT & $0.7842\\\\pm0.0207$ &SOS & Max + SIFT & 0.6861 \\\\\\\\\\nECOD & Gaussian + Histogram & 0.7337 &SOS & Max + SIFT & $0.7347\\\\pm0.0559$ &COPOD & Gaussian + Histogram & 0.7533 &DeepSVDD & Gaussian + Histogram & $0.7502\\\\pm0.0894$ &SOS & Max + SIFT & $0.7495\\\\pm0.0140$ &LMDD & Max + ORB & 0.6861 \\\\\\\\\\nIForest & Gaussian + Histogram & 0.7283 &Sampling & Gaussian + Histogram & $0.7171\\\\pm0.0217$ &COF & Max + SIFT & 0.7533 &LOF & Min-Max + SIFT & $0.7383\\\\pm0.0171$ &PCA & Gaussian + Histogram & 0.7095 &COF & Max + SIFT & 0.6861 \\\\\\\\\\nSUOD & Gaussian + Histogram & 0.7283 &PCA & Gaussian + Histogram & 0.6963 &ECOD & Gaussian + Histogram & 0.7533 &FB & Max + SIFT & $0.7052\\\\pm0.0280$ &COPOD & Gaussian + Histogram & 0.7074 &ECOD & robust + Histogram & 0.6861 \\\\\\\\\\nSOS & Max + SIFT & $0.7147\\\\pm0.0272$ &HBOS & Max + Histogram & 0.6905 &FB & Gaussian + Histogram & 0.7533 &COPOD & Gaussian + Histogram & 0.6612 &INNE & Max + SIFT & $0.6989\\\\pm0.0227$ &IForest & Max + Histogram & $0.6726\\\\pm0.0506$ \\\\\\\\\\nLODA & Gaussian + Histogram & $0.6614\\\\pm0.0608$ &SOD & Min-Max + SIFT & $0.6729\\\\pm0.0354$ &SOD & Min-Max + SIFT & $0.7478\\\\pm0.0110$ &PCA & Gaussian + Histogram & 0.6612 &DeepSVDD & Gaussian + Histogram & $0.6961\\\\pm0.0355$ &AnoGAN & zscore + SIFT & 0.6523 \\\\\\\\\\nCOPOD & Gaussian + Histogram & 0.6603 &LODA & Gaussian + Histogram & $0.6490\\\\pm0.0863$ &VAE & Min-Max + SIFT & $0.7368\\\\pm0.0219$ &INNE & Max + SIFT & $0.6502\\\\pm0.0251$ &LODA & Gaussian + Histogram & $0.6911\\\\pm0.1400$ &DeepSVDD & Min-Max + Histogram & $0.6455\\\\pm0.0783$ \\\\\\\\\\nPCA & Gaussian + Histogram & 0.6603 &COPOD & Gaussian + Histogram & 0.6463 &LOF & Min-Max + SIFT & $0.7368\\\\pm0.0219$ &SOD & Min-Max + SIFT & $0.6112\\\\pm0.0216$ &Sampling & Gaussian + Histogram & $0.6498\\\\pm0.1692$ &SUOD & Max + Histogram & $0.6320\\\\pm0.0166$ \\\\\\\\\\nSOD & Min-Max + SIFT & $0.6467\\\\pm0.0508$ &AE & Max + SIFT & 0.6021 &IForest & Gaussian + Histogram & 0.7259 &LODA & Gaussian + Histogram & $0.6105\\\\pm0.1378$ &SOD & Min-Max + SIFT & $0.5789\\\\pm0.0182$ &SOD & Min-Max + SIFT & 0.6184 \\\\\\\\\\nAE & Max + Histogram & 0.5924 &VAE & Max + SIFT & 0.6021 &PCA & Gaussian + Histogram & 0.6897 &SOS & Max + SIFT & $0.5816\\\\pm0.0205$ &AE & Max + Histogram & 0.5368 &OCSVM & Gaussian + ORB & 0.5846 \\\\\\\\\\nVAE & Min-Max + Histogram & 0.5924 &LOF & Min-Max + SIFT & 0.6021 &AE & Max + SIFT & $0.6656\\\\pm0.0110$ &COF & Gaussian + Histogram & 0.5596 &COF & Gaussian + Histogram & 0.5263 &LODA & zscore + Histogram & $0.5508\\\\pm0.0303$ \\\\\\\\\\nFB & Max + SIFT & 0.5924 &COF & Min-Max + SIFT & 0.6021 &LODA & Gaussian + Histogram & 0.6162 &AE & Max + Histogram & 0.5341 &VAE & Min-Max + Histogram & $0.5232\\\\pm0.0048$ &KNN & Max + SIFT & 0.5508 \\\\\\\\\\nLOF & Min-Max + SIFT & $0.5516\\\\pm0.0333$ &FB & Gaussian + Histogram & 0.6021 &DeepSVDD & Gaussian + Histogram & $0.5871\\\\pm0.1561$ &VAE & Min-Max + Histogram & 0.5257 &SOGAAL & Max + SIFT & 0.5000 &AvgKNN & zscore + SIFT & 0.5508 \\\\\\\\\\nSOGAAL & Max + SIFT & $0.5049\\\\pm0.0098$ &LMDD & Max + SIFT & $0.5225\\\\pm0.0516$ &OCSVM & Gaussian + Histogram & 0.5000 &SOGAAL & Max + SIFT & 0.5000 &OCSVM & Gaussian + Histogram & 0.5000 &MedKNN & zscore + SIFT & 0.5508 \\\\\\\\\\nOCSVM & Gaussian + Histogram & 0.5000 &SOGAAL & Gaussian + ORB & 0.5000 &KDE & Gaussian + Histogram & 0.5000 &OCSVM & Gaussian + Histogram & 0.5000 &KDE & Gaussian + Histogram & 0.5000 &CBLOF & zscore + SIFT & $0.5372\\\\pm0.0166$ \\\\\\\\\\nKDE & Gaussian + Histogram & 0.5000 &OCSVM & Gaussian + Histogram & 0.5000 &LMDD & Min-Max + SIFT & $0.4901\\\\pm0.0806$ &KDE & Gaussian + Histogram & 0.5000 &CBLOF & Gaussian + Histogram & 0.4847 &Sampling & zscore + SIFT & $0.5305\\\\pm0.0166$ \\\\\\\\\\nAnoGAN & Gaussian + Histogram & 0.4620 &KDE & Gaussian + Histogram & 0.5000 &AnoGAN & Max + ORB & 0.4792 &AnoGAN & Gaussian + Histogram & $0.4784\\\\pm0.0003$ &AnoGAN & Gaussian + Histogram & 0.4742 &SOGAAL & Max + SIFT & $0.5120\\\\pm0.0240$ \\\\\\\\\\nLMDD & Gaussian + Histogram & 0.4565 &AnoGAN & Max + SIFT & 0.4695 &SOGAAL & Max + Histogram & $0.4776\\\\pm0.0385$ &LMDD & Gaussian + Histogram & 0.4674 &LMDD & Gaussian + Histogram & 0.4737 &KDE & Max + ORB & 0.5000 \\\\\\\\\\n\\n        \\\\bottomrule\\n        \\\\end{tabular}\\n        }\\n        \\\\end{table}\\n        '"
      ]
     },
     "execution_count": 5,
     "metadata": {},
     "output_type": "execute_result"
    }
   ],
   "source": [
    "odl.results_to_latex([path_a,path_b,path_c,path_A,path_B, path_C], variable=\"roc_auc\")"
   ]
  },
  {
   "cell_type": "code",
   "execution_count": null,
   "id": "cc0fa2f7",
   "metadata": {},
   "outputs": [],
   "source": []
  },
  {
   "cell_type": "code",
   "execution_count": 44,
   "id": "947a02da",
   "metadata": {},
   "outputs": [
    {
     "name": "stdout",
     "output_type": "stream",
     "text": [
      "\n",
      "        \\begin{table}[!ht]\n",
      "        \\centering\n",
      "        \\label{tab:final_results}\n",
      "        \\caption{\\textbf{Outlier Detection Results.} AUC ROC scores (the higher, the better) for the evaluated algorithms with best performing normalization and features (G+H: Gaussian and Histogram, M+H: Max and Histogram, MM+S: Min-Max and SIFT\\TODO{...}) on our test datasets with varying properties of unwanted images. Our method performed best overall with an average score of \\TODO{X$\\pm$Y}.}\n",
      "        \r",
      "esizebox{\\textwidth}{!}{\n",
      "        \begin{tabular}{ccl|cl|cl|cl|cl|cl}\n",
      "        \toprule\n",
      "        \\textbf{Algorithm}&\\multicolumn{2}{c}{\\textbf{A (n=100, x\\%)}} & \\multicolumn{2}{c}{\\textbf{B (n=100, x\\%)}} & \\multicolumn{2}{c}{\\textbf{C (n=100, x\\%)}}\n",
      "        &\\multicolumn{2}{c}{\textbf{A (x\\%)}} & \\multicolumn{2}{c}{\\textbf{B (x\\%)}} & \\multicolumn{2}{c}{\\textbf{C (x\\%)}}  \\\\\n",
      "        \\midrule\n",
      "        AE & M + H & 0.2500 &M + S & 0.3077 &M + S & $0.4917\\pm0.0167$ &M + H & 0.1270 &M + H & 0.1200 &MM + H & 0.1391 \\\\\n",
      "AvgKNN & G + H & 0.6250 &G + H & 0.6923 &G + H & 0.8333 &G + H & 0.7460 &G + H & 0.6600 &Z + S & 0.0522 \\\\\n",
      "VAE & MM + H & 0.2500 &M + S & 0.3077 &MM + S & $0.6000\\pm0.0333$ &MM + H & 0.1111 &MM + H & $0.0940\\pm0.0092$ &MM + H & $0.1530\\pm0.0070$ \\\\\n",
      "SOGAAL & M + S & $0.0250\\pm0.0500$ &G + O & 0.0000 &M + H & 0.0000 &M + S & 0.0000 &M + S & 0.0000 &M + S & $0.0124\\pm0.0247$ \\\\\n",
      "DeepSVDD & G + H & $0.6750\\pm0.0612$ &G + H & $0.6978\\pm0.0111$ &G + H & $0.2913\\pm0.2867$ &G + H & $0.5322\\pm0.1676$ &G + H & $0.4292\\pm0.0619$ &MM + H & $0.1009\\pm0.0403$ \\\\\n",
      "AnoGAN & G + H & 0.0000 &M + S & 0.0769 &M + O & 0.2083 &G + H & 0.0000 &G + H & 0.0000 &Z + S & 0.1043 \\\\\n",
      "HBOS & G + H & 0.6250 &M + H & 0.4615 &G + H & 0.8261 &G + H & 0.7885 &G + H & 0.7805 &M + H & 0.1217 \\\\\n",
      "LOF & MM + S & $0.1750\\pm0.0612$ &MM + S & 0.3077 &MM + S & $0.6000\\pm0.0333$ &MM + S & $0.5095\\pm0.0321$ &MM + S & $0.6100\\pm0.0257$ &M + S & 0.1391 \\\\\n",
      "OCSVM & G + H & 0.0000 &G + H & 0.0000 &G + H & 0.0000 &G + H & 0.0000 &G + H & 0.0000 &G + O & 0.0696 \\\\\n",
      "IForest & G + H & 0.5000 &G + H & 0.6154 &G + H & 0.5833 &G + H & $0.6739\\pm0.0328$ &G + H & $0.6473\\pm0.0101$ &M + H & $0.1148\\pm0.0260$ \\\\\n",
      "CBLOF & G + H & 0.6250 &G + H & 0.6923 &G + H & 0.8333 &G + H & $0.7492\\pm0.0063$ &G + H & 0.0202 &Z + S & $0.0452\\pm0.0085$ \\\\\n",
      "COPOD & G + H & 0.3750 &G + H & 0.3846 &G + H & 0.6250 &G + H & 0.3651 &G + H & 0.4583 &R + H & 0.1217 \\\\\n",
      "SOS & M + S & $0.4750\\pm0.0500$ &M + S & $0.5385\\pm0.0973$ &MM + S & $0.7167\\pm0.0312$ &M + S & $0.2159\\pm0.0384$ &M + S & $0.5240\\pm0.0265$ &M + S & 0.1217 \\\\\n",
      "KDE & G + H & 0.0000 &G + H & 0.0000 &G + H & 0.0000 &G + H & 0.0000 &G + H & 0.0000 &M + O & 0.0000 \\\\\n",
      "Sampling & G + H & $0.5750\\pm0.0612$ &G + H & $0.5077\\pm0.0377$ &G + H & $0.6500\\pm0.1007$ &G + H & $0.5508\\pm0.2622$ &G + H & $0.3341\\pm0.3221$ &Z + S & $0.0417\\pm0.0085$ \\\\\n",
      "PCA & G + H & 0.3750 &G + H & 0.4800 &G + H & 0.5366 &G + H & 0.3651 &G + H & 0.4783 &MM + H & 0.1391 \\\\\n",
      "LMDD & G + H & 0.0000 &M + S & $0.1692\\pm0.0897$ &MM + S & $0.2250\\pm0.1225$ &G + H & 0.0000 &G + H & 0.0000 &M + O & 0.1217 \\\\\n",
      "COF & G + H & 0.6250 &MM + S & 0.3077 &M + S & 0.6250 &G + H & 0.1746 &G + H & 0.1000 &M + S & 0.1217 \\\\\n",
      "ECOD & G + H & 0.5333 &G + H & 0.6154 &G + H & 0.6250 &G + H & 0.7097 &G + H & 0.6600 &R + H & 0.1217 \\\\\n",
      "KNN & G + H & 0.6250 &G + H & 0.6400 &G + H & 0.8085 &G + H & 0.7460 &G + H & 0.6600 &M + S & 0.0522 \\\\\n",
      "MedKNN & G + H & 0.6250 &G + H & 0.6923 &G + H & 0.8333 &G + H & 0.7460 &G + H & 0.6600 &Z + S & 0.0522 \\\\\n",
      "SOD & MM + S & $0.3500\\pm0.0935$ &MM + S & $0.4308\\pm0.0615$ &MM + S & $0.6167\\pm0.0167$ &MM + S & $0.2714\\pm0.0404$ &MM + S & $0.2000\\pm0.0346$ &MM + S & 0.0870 \\\\\n",
      "INNE & M + S & $0.5500\\pm0.0612$ &MM + S & $0.6308\\pm0.0308$ &MM + S & $0.7833\\pm0.0312$ &M + S & $0.3444\\pm0.0471$ &M + S & $0.4280\\pm0.0431$ &MM + S & $0.1530\\pm0.0170$ \\\\\n",
      "FB & M + S & 0.2500 &G + H & 0.3077 &G + H & 0.6250 &M + S & $0.4476\\pm0.0525$ &M + S & $0.5900\\pm0.0392$ &MM + S & $0.1496\\pm0.0085$ \\\\\n",
      "LODA & G + H & $0.3800\\pm0.1122$ &G + H & $0.4017\\pm0.1585$ &G + H & 0.4167 &G + H & $0.3312\\pm0.3241$ &G + H & $0.5019\\pm0.3246$ &Z + H & $0.0522\\pm0.0156$ \\\\\n",
      "SUOD & G + H & 0.5000 &G + H & $0.5742\\pm0.0444$ &G + H & $0.6583\\pm0.0408$ &G + H & $0.6926\\pm0.0104$ &G + H & $0.6446\\pm0.0079$ &M + H & $0.0939\\pm0.0085$ \\\\\n",
      "\n",
      "        \\bottomrule\n",
      "        \\end{tabular}\n",
      "        }\n",
      "        \\end{table}\n",
      "        \n"
     ]
    },
    {
     "data": {
      "text/plain": [
       "'\\n        \\\\begin{table}[!ht]\\n        \\\\centering\\n        \\\\label{tab:final_results}\\n        \\\\caption{\\\\textbf{Outlier Detection Results.} AUC ROC scores (the higher, the better) for the evaluated algorithms with best performing normalization and features (G+H: Gaussian and Histogram, M+H: Max and Histogram, MM+S: Min-Max and SIFT\\\\TODO{...}) on our test datasets with varying properties of unwanted images. Our method performed best overall with an average score of \\\\TODO{X$\\\\pm$Y}.}\\n        \\resizebox{\\\\textwidth}{!}{\\n        \\x08egin{tabular}{ccl|cl|cl|cl|cl|cl}\\n        \\toprule\\n        \\\\textbf{Algorithm}&\\\\multicolumn{2}{c}{\\\\textbf{A (n=100, x\\\\%)}} & \\\\multicolumn{2}{c}{\\\\textbf{B (n=100, x\\\\%)}} & \\\\multicolumn{2}{c}{\\\\textbf{C (n=100, x\\\\%)}}\\n        &\\\\multicolumn{2}{c}{\\textbf{A (x\\\\%)}} & \\\\multicolumn{2}{c}{\\\\textbf{B (x\\\\%)}} & \\\\multicolumn{2}{c}{\\\\textbf{C (x\\\\%)}}  \\\\\\\\\\n        \\\\midrule\\n        AE & M + H & 0.2500 &M + S & 0.3077 &M + S & $0.4917\\\\pm0.0167$ &M + H & 0.1270 &M + H & 0.1200 &MM + H & 0.1391 \\\\\\\\\\nAvgKNN & G + H & 0.6250 &G + H & 0.6923 &G + H & 0.8333 &G + H & 0.7460 &G + H & 0.6600 &Z + S & 0.0522 \\\\\\\\\\nVAE & MM + H & 0.2500 &M + S & 0.3077 &MM + S & $0.6000\\\\pm0.0333$ &MM + H & 0.1111 &MM + H & $0.0940\\\\pm0.0092$ &MM + H & $0.1530\\\\pm0.0070$ \\\\\\\\\\nSOGAAL & M + S & $0.0250\\\\pm0.0500$ &G + O & 0.0000 &M + H & 0.0000 &M + S & 0.0000 &M + S & 0.0000 &M + S & $0.0124\\\\pm0.0247$ \\\\\\\\\\nDeepSVDD & G + H & $0.6750\\\\pm0.0612$ &G + H & $0.6978\\\\pm0.0111$ &G + H & $0.2913\\\\pm0.2867$ &G + H & $0.5322\\\\pm0.1676$ &G + H & $0.4292\\\\pm0.0619$ &MM + H & $0.1009\\\\pm0.0403$ \\\\\\\\\\nAnoGAN & G + H & 0.0000 &M + S & 0.0769 &M + O & 0.2083 &G + H & 0.0000 &G + H & 0.0000 &Z + S & 0.1043 \\\\\\\\\\nHBOS & G + H & 0.6250 &M + H & 0.4615 &G + H & 0.8261 &G + H & 0.7885 &G + H & 0.7805 &M + H & 0.1217 \\\\\\\\\\nLOF & MM + S & $0.1750\\\\pm0.0612$ &MM + S & 0.3077 &MM + S & $0.6000\\\\pm0.0333$ &MM + S & $0.5095\\\\pm0.0321$ &MM + S & $0.6100\\\\pm0.0257$ &M + S & 0.1391 \\\\\\\\\\nOCSVM & G + H & 0.0000 &G + H & 0.0000 &G + H & 0.0000 &G + H & 0.0000 &G + H & 0.0000 &G + O & 0.0696 \\\\\\\\\\nIForest & G + H & 0.5000 &G + H & 0.6154 &G + H & 0.5833 &G + H & $0.6739\\\\pm0.0328$ &G + H & $0.6473\\\\pm0.0101$ &M + H & $0.1148\\\\pm0.0260$ \\\\\\\\\\nCBLOF & G + H & 0.6250 &G + H & 0.6923 &G + H & 0.8333 &G + H & $0.7492\\\\pm0.0063$ &G + H & 0.0202 &Z + S & $0.0452\\\\pm0.0085$ \\\\\\\\\\nCOPOD & G + H & 0.3750 &G + H & 0.3846 &G + H & 0.6250 &G + H & 0.3651 &G + H & 0.4583 &R + H & 0.1217 \\\\\\\\\\nSOS & M + S & $0.4750\\\\pm0.0500$ &M + S & $0.5385\\\\pm0.0973$ &MM + S & $0.7167\\\\pm0.0312$ &M + S & $0.2159\\\\pm0.0384$ &M + S & $0.5240\\\\pm0.0265$ &M + S & 0.1217 \\\\\\\\\\nKDE & G + H & 0.0000 &G + H & 0.0000 &G + H & 0.0000 &G + H & 0.0000 &G + H & 0.0000 &M + O & 0.0000 \\\\\\\\\\nSampling & G + H & $0.5750\\\\pm0.0612$ &G + H & $0.5077\\\\pm0.0377$ &G + H & $0.6500\\\\pm0.1007$ &G + H & $0.5508\\\\pm0.2622$ &G + H & $0.3341\\\\pm0.3221$ &Z + S & $0.0417\\\\pm0.0085$ \\\\\\\\\\nPCA & G + H & 0.3750 &G + H & 0.4800 &G + H & 0.5366 &G + H & 0.3651 &G + H & 0.4783 &MM + H & 0.1391 \\\\\\\\\\nLMDD & G + H & 0.0000 &M + S & $0.1692\\\\pm0.0897$ &MM + S & $0.2250\\\\pm0.1225$ &G + H & 0.0000 &G + H & 0.0000 &M + O & 0.1217 \\\\\\\\\\nCOF & G + H & 0.6250 &MM + S & 0.3077 &M + S & 0.6250 &G + H & 0.1746 &G + H & 0.1000 &M + S & 0.1217 \\\\\\\\\\nECOD & G + H & 0.5333 &G + H & 0.6154 &G + H & 0.6250 &G + H & 0.7097 &G + H & 0.6600 &R + H & 0.1217 \\\\\\\\\\nKNN & G + H & 0.6250 &G + H & 0.6400 &G + H & 0.8085 &G + H & 0.7460 &G + H & 0.6600 &M + S & 0.0522 \\\\\\\\\\nMedKNN & G + H & 0.6250 &G + H & 0.6923 &G + H & 0.8333 &G + H & 0.7460 &G + H & 0.6600 &Z + S & 0.0522 \\\\\\\\\\nSOD & MM + S & $0.3500\\\\pm0.0935$ &MM + S & $0.4308\\\\pm0.0615$ &MM + S & $0.6167\\\\pm0.0167$ &MM + S & $0.2714\\\\pm0.0404$ &MM + S & $0.2000\\\\pm0.0346$ &MM + S & 0.0870 \\\\\\\\\\nINNE & M + S & $0.5500\\\\pm0.0612$ &MM + S & $0.6308\\\\pm0.0308$ &MM + S & $0.7833\\\\pm0.0312$ &M + S & $0.3444\\\\pm0.0471$ &M + S & $0.4280\\\\pm0.0431$ &MM + S & $0.1530\\\\pm0.0170$ \\\\\\\\\\nFB & M + S & 0.2500 &G + H & 0.3077 &G + H & 0.6250 &M + S & $0.4476\\\\pm0.0525$ &M + S & $0.5900\\\\pm0.0392$ &MM + S & $0.1496\\\\pm0.0085$ \\\\\\\\\\nLODA & G + H & $0.3800\\\\pm0.1122$ &G + H & $0.4017\\\\pm0.1585$ &G + H & 0.4167 &G + H & $0.3312\\\\pm0.3241$ &G + H & $0.5019\\\\pm0.3246$ &Z + H & $0.0522\\\\pm0.0156$ \\\\\\\\\\nSUOD & G + H & 0.5000 &G + H & $0.5742\\\\pm0.0444$ &G + H & $0.6583\\\\pm0.0408$ &G + H & $0.6926\\\\pm0.0104$ &G + H & $0.6446\\\\pm0.0079$ &M + H & $0.0939\\\\pm0.0085$ \\\\\\\\\\n\\n        \\\\bottomrule\\n        \\\\end{tabular}\\n        }\\n        \\\\end{table}\\n        '"
      ]
     },
     "execution_count": 44,
     "metadata": {},
     "output_type": "execute_result"
    }
   ],
   "source": [
    "odl.results_to_latex_alt_style([path_a,path_b,path_c,path_A,path_B, path_C], variable=\"f1\")"
   ]
  },
  {
   "cell_type": "code",
   "execution_count": 19,
   "id": "4db69b13",
   "metadata": {},
   "outputs": [
    {
     "name": "stdout",
     "output_type": "stream",
     "text": [
      "AE\n",
      "AvgKNN\n",
      "VAE\n",
      "SOGAAL\n",
      "DeepSVDD\n",
      "AnoGAN\n",
      "HBOS\n",
      "LOF\n",
      "OCSVM\n",
      "IForest\n",
      "CBLOF\n",
      "COPOD\n",
      "SOS\n",
      "KDE\n",
      "Sampling\n",
      "PCA\n",
      "LMDD\n",
      "COF\n",
      "ECOD\n",
      "KNN\n",
      "MedKNN\n",
      "SOD\n",
      "INNE\n",
      "FB\n",
      "LODA\n",
      "SUOD\n"
     ]
    }
   ],
   "source": [
    "for k, v in testing[0].items():\n",
    "    print(k)"
   ]
  },
  {
   "cell_type": "code",
   "execution_count": 20,
   "id": "f1ffd817",
   "metadata": {},
   "outputs": [
    {
     "name": "stdout",
     "output_type": "stream",
     "text": [
      "AE\n",
      "AvgKNN\n",
      "VAE\n",
      "SOGAAL\n",
      "DeepSVDD\n",
      "AnoGAN\n",
      "HBOS\n",
      "LOF\n",
      "OCSVM\n",
      "IForest\n",
      "CBLOF\n",
      "COPOD\n",
      "SOS\n",
      "KDE\n",
      "Sampling\n",
      "PCA\n",
      "LMDD\n",
      "COF\n",
      "ECOD\n",
      "KNN\n",
      "MedKNN\n",
      "SOD\n",
      "INNE\n",
      "FB\n",
      "LODA\n",
      "SUOD\n"
     ]
    }
   ],
   "source": [
    "for k, v in testing[1].items():\n",
    "    print(k)"
   ]
  },
  {
   "cell_type": "code",
   "execution_count": 21,
   "id": "d581bf71",
   "metadata": {},
   "outputs": [
    {
     "name": "stdout",
     "output_type": "stream",
     "text": [
      "AE\n",
      "AvgKNN\n",
      "VAE\n",
      "SOGAAL\n",
      "DeepSVDD\n",
      "AnoGAN\n",
      "HBOS\n",
      "LOF\n",
      "OCSVM\n",
      "IForest\n",
      "CBLOF\n",
      "COPOD\n",
      "SOS\n",
      "KDE\n",
      "Sampling\n",
      "PCA\n",
      "LMDD\n",
      "COF\n",
      "ECOD\n",
      "KNN\n",
      "MedKNN\n",
      "SOD\n",
      "INNE\n",
      "FB\n",
      "LODA\n",
      "SUOD\n"
     ]
    }
   ],
   "source": [
    "for k, v in testing[2].items():\n",
    "    print(k)"
   ]
  },
  {
   "cell_type": "code",
   "execution_count": 42,
   "id": "a944dc50",
   "metadata": {},
   "outputs": [],
   "source": [
    "example = odl.load_results(path_C)"
   ]
  },
  {
   "cell_type": "code",
   "execution_count": 43,
   "id": "249ab1b7",
   "metadata": {
    "scrolled": true
   },
   "outputs": [
    {
     "ename": "KeyError",
     "evalue": "'f1'",
     "output_type": "error",
     "traceback": [
      "\u001b[0;31m---------------------------------------------------------------------------\u001b[0m",
      "\u001b[0;31mKeyError\u001b[0m                                  Traceback (most recent call last)",
      "\u001b[0;32m/tmp/ipykernel_1238413/1062138618.py\u001b[0m in \u001b[0;36m<module>\u001b[0;34m\u001b[0m\n\u001b[1;32m      1\u001b[0m \u001b[0;32mfor\u001b[0m \u001b[0mk\u001b[0m\u001b[0;34m,\u001b[0m \u001b[0mv\u001b[0m \u001b[0;32min\u001b[0m \u001b[0mexample\u001b[0m\u001b[0;34m.\u001b[0m\u001b[0mitems\u001b[0m\u001b[0;34m(\u001b[0m\u001b[0;34m)\u001b[0m\u001b[0;34m:\u001b[0m\u001b[0;34m\u001b[0m\u001b[0;34m\u001b[0m\u001b[0m\n\u001b[0;32m----> 2\u001b[0;31m     \u001b[0mprint\u001b[0m\u001b[0;34m(\u001b[0m\u001b[0mexample\u001b[0m\u001b[0;34m[\u001b[0m\u001b[0mk\u001b[0m\u001b[0;34m]\u001b[0m\u001b[0;34m[\u001b[0m\u001b[0;36m0\u001b[0m\u001b[0;34m]\u001b[0m\u001b[0;34m[\u001b[0m\u001b[0;34m'evaluation'\u001b[0m\u001b[0;34m]\u001b[0m\u001b[0;34m[\u001b[0m\u001b[0;34m\"f1\"\u001b[0m\u001b[0;34m]\u001b[0m\u001b[0;34m)\u001b[0m\u001b[0;34m\u001b[0m\u001b[0;34m\u001b[0m\u001b[0m\n\u001b[0m",
      "\u001b[0;31mKeyError\u001b[0m: 'f1'"
     ]
    }
   ],
   "source": [
    "for k, v in example.items():\n",
    "    print(example[k][0]['evaluation'][\"f1\"])"
   ]
  },
  {
   "cell_type": "code",
   "execution_count": null,
   "id": "c7b7872a",
   "metadata": {},
   "outputs": [],
   "source": []
  },
  {
   "cell_type": "code",
   "execution_count": null,
   "id": "079a01f8",
   "metadata": {},
   "outputs": [],
   "source": []
  },
  {
   "cell_type": "code",
   "execution_count": null,
   "id": "c752f94e",
   "metadata": {},
   "outputs": [],
   "source": []
  },
  {
   "cell_type": "code",
   "execution_count": null,
   "id": "391ccab2",
   "metadata": {},
   "outputs": [],
   "source": []
  }
 ],
 "metadata": {
  "kernelspec": {
   "display_name": "Python 3 (ipykernel)",
   "language": "python",
   "name": "python3"
  },
  "language_info": {
   "codemirror_mode": {
    "name": "ipython",
    "version": 3
   },
   "file_extension": ".py",
   "mimetype": "text/x-python",
   "name": "python",
   "nbconvert_exporter": "python",
   "pygments_lexer": "ipython3",
   "version": "3.9.7"
  }
 },
 "nbformat": 4,
 "nbformat_minor": 5
}
