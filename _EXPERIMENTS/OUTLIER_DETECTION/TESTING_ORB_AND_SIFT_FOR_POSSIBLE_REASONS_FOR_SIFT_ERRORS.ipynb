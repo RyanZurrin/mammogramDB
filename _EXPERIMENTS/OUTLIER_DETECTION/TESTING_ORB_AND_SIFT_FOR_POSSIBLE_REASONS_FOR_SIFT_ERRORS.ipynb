{
 "cells": [
  {
   "cell_type": "code",
   "execution_count": 1,
   "id": "8d19a507",
   "metadata": {},
   "outputs": [
    {
     "name": "stdout",
     "output_type": "stream",
     "text": [
      "Populating the interactive namespace from numpy and matplotlib\n"
     ]
    }
   ],
   "source": [
    "%pylab inline\n",
    "%load_ext autoreload\n",
    "%autoreload 2"
   ]
  },
  {
   "cell_type": "code",
   "execution_count": 2,
   "id": "c20ebe56",
   "metadata": {},
   "outputs": [],
   "source": [
    "import sys\n",
    "sys.path.insert(0,'../..')\n",
    "import omama as O\n",
    "from types import SimpleNamespace"
   ]
  },
  {
   "cell_type": "code",
   "execution_count": 3,
   "id": "dbc54e0e",
   "metadata": {},
   "outputs": [
    {
     "name": "stdout",
     "output_type": "stream",
     "text": [
      "populating dataset with 8% errors...\n"
     ]
    }
   ],
   "source": [
    "dataset = \"A\"\n",
    "if dataset == 1 or dataset == \"A\":\n",
    "    print(f'populating dataset with 8% errors...')\n"
   ]
  },
  {
   "cell_type": "code",
   "execution_count": 4,
   "id": "1e7f533a",
   "metadata": {},
   "outputs": [],
   "source": [
    "images = [[1],[1,2,3,4,5],[5,4,3,2,5,3,4],[3,4],[8,8,8],[1,0,2,93,4,5],[5,8,7,3]]\n",
    "train_scores = [1,5,7,2,3,6,4]"
   ]
  },
  {
   "cell_type": "code",
   "execution_count": 5,
   "id": "3ff4ab53",
   "metadata": {},
   "outputs": [],
   "source": [
    "images_list = []\n",
    "for i in range(len(images)):\n",
    "    if train_scores is None:\n",
    "        images_list.append(SimpleNamespace(image=images[i]))\n",
    "    else:\n",
    "        images_list.append(SimpleNamespace(image=images[i],\n",
    "                                           train_scores=train_scores[i]))\n",
    "images_list = sorted(images_list, key=lambda x: x.train_scores)"
   ]
  },
  {
   "cell_type": "code",
   "execution_count": 6,
   "id": "749fbdc3",
   "metadata": {},
   "outputs": [
    {
     "data": {
      "text/plain": [
       "[namespace(image=[1], train_scores=1),\n",
       " namespace(image=[3, 4], train_scores=2),\n",
       " namespace(image=[8, 8, 8], train_scores=3),\n",
       " namespace(image=[5, 8, 7, 3], train_scores=4),\n",
       " namespace(image=[1, 2, 3, 4, 5], train_scores=5),\n",
       " namespace(image=[1, 0, 2, 93, 4, 5], train_scores=6),\n",
       " namespace(image=[5, 4, 3, 2, 5, 3, 4], train_scores=7)]"
      ]
     },
     "execution_count": 6,
     "metadata": {},
     "output_type": "execute_result"
    }
   ],
   "source": [
    "images_list"
   ]
  },
  {
   "cell_type": "code",
   "execution_count": 7,
   "id": "54048db5",
   "metadata": {},
   "outputs": [],
   "source": [
    "ds = images_list[1]"
   ]
  },
  {
   "cell_type": "code",
   "execution_count": 8,
   "id": "533db550",
   "metadata": {},
   "outputs": [
    {
     "data": {
      "text/plain": [
       "namespace(image=[3, 4], train_scores=2)"
      ]
     },
     "execution_count": 8,
     "metadata": {},
     "output_type": "execute_result"
    }
   ],
   "source": [
    "ds"
   ]
  },
  {
   "cell_type": "code",
   "execution_count": 9,
   "id": "95ab3ff9",
   "metadata": {},
   "outputs": [
    {
     "data": {
      "text/plain": [
       "[3, 4]"
      ]
     },
     "execution_count": 9,
     "metadata": {},
     "output_type": "execute_result"
    }
   ],
   "source": [
    "ds.image"
   ]
  },
  {
   "cell_type": "code",
   "execution_count": 10,
   "id": "a25b5a08",
   "metadata": {},
   "outputs": [
    {
     "data": {
      "text/plain": [
       "2"
      ]
     },
     "execution_count": 10,
     "metadata": {},
     "output_type": "execute_result"
    }
   ],
   "source": [
    "ds.train_scores"
   ]
  },
  {
   "cell_type": "code",
   "execution_count": 11,
   "id": "1322a845",
   "metadata": {},
   "outputs": [
    {
     "name": "stdout",
     "output_type": "stream",
     "text": [
      "DataLoader type is:  <class 'omama.loaders.omama_loader.OmamaLoader'>\n"
     ]
    }
   ],
   "source": [
    "imgs =  O.DataHelper.get2D(N=10)"
   ]
  },
  {
   "cell_type": "code",
   "execution_count": 12,
   "id": "8d94b889",
   "metadata": {},
   "outputs": [
    {
     "data": {
      "text/plain": [
       "[namespace(filePath='/raid/data01/deephealth/dh_dcm_ast/2.25.100000201839274263174475898571171534853/DXm.2.25.119403010146292111130118207990186551199',\n",
       "           SOPInstanceUID='2.25.119403010146292111130118207990186551199',\n",
       "           StudyInstanceUID='2.25.100000201839274263174475898571171534853',\n",
       "           PatientID='DHJ5JE9QXAV0',\n",
       "           InstanceNumber=\"2\",\n",
       "           label='NonCancer',\n",
       "           imageLaterality='L',\n",
       "           shape=(3062, 2394),\n",
       "           metadata=None,\n",
       "           pixels=array([[   0,    0,    0, ...,    0,    0,    0],\n",
       "                         [   0,    0,    0, ...,    0,    0,    0],\n",
       "                         [   0,    0,    0, ...,    0,    0,    0],\n",
       "                         ...,\n",
       "                         [3043, 3089, 3066, ...,    0,    0,    0],\n",
       "                         [3083, 3055, 3078, ...,    0,    0,    0],\n",
       "                         [3117, 3123, 3155, ...,    0,    0,    0]], dtype=uint16)),\n",
       " namespace(filePath='/raid/data01/deephealth/dh_dcm_ast/2.25.100000625325569371753126863626315692897/DXm.2.25.127461109080365862090076836140412024743',\n",
       "           SOPInstanceUID='2.25.127461109080365862090076836140412024743',\n",
       "           StudyInstanceUID='2.25.100000625325569371753126863626315692897',\n",
       "           PatientID='DHGPX698NDOD',\n",
       "           InstanceNumber=\"1\",\n",
       "           label='NonCancer',\n",
       "           imageLaterality='R',\n",
       "           shape=(2294, 1914),\n",
       "           metadata=None,\n",
       "           pixels=array([[63, 62, 62, ..., 53, 52, 50],\n",
       "                         [62, 64, 64, ..., 52, 51, 51],\n",
       "                         [62, 64, 65, ..., 53, 52, 49],\n",
       "                         ...,\n",
       "                         [54, 53, 49, ..., 46, 45, 43],\n",
       "                         [53, 53, 49, ..., 47, 46, 44],\n",
       "                         [52, 53, 52, ..., 47, 45, 42]], dtype=uint16)),\n",
       " namespace(filePath='/raid/data01/deephealth/dh_dcm_ast/2.25.100001373726337750354689693677327988604/DXm.2.25.275395047981175631229220204776148301030',\n",
       "           SOPInstanceUID='2.25.275395047981175631229220204776148301030',\n",
       "           StudyInstanceUID='2.25.100001373726337750354689693677327988604',\n",
       "           PatientID='DHHH0JGQENU9',\n",
       "           InstanceNumber=\"2\",\n",
       "           label='NonCancer',\n",
       "           imageLaterality='L',\n",
       "           shape=(3062, 2394),\n",
       "           metadata=None,\n",
       "           pixels=array([[3, 5, 5, ..., 0, 0, 0],\n",
       "                         [3, 6, 8, ..., 0, 0, 0],\n",
       "                         [5, 5, 4, ..., 0, 0, 0],\n",
       "                         ...,\n",
       "                         [3, 4, 6, ..., 0, 0, 0],\n",
       "                         [4, 7, 8, ..., 0, 0, 0],\n",
       "                         [8, 8, 9, ..., 0, 0, 0]], dtype=uint16)),\n",
       " namespace(filePath='/raid/data01/deephealth/dh_dcm_ast/2.25.100002486421861526414567925681184545224/DXm.2.25.109671841718419919187642480808451180070',\n",
       "           SOPInstanceUID='2.25.109671841718419919187642480808451180070',\n",
       "           StudyInstanceUID='2.25.100002486421861526414567925681184545224',\n",
       "           PatientID='DHRG6TGWCKX0',\n",
       "           InstanceNumber=\"3\",\n",
       "           label='NonCancer',\n",
       "           imageLaterality='R',\n",
       "           shape=(3062, 2394),\n",
       "           metadata=None,\n",
       "           pixels=array([[   0,    0,    0, ..., 2704, 2678, 2673],\n",
       "                         [   0,    0,    0, ..., 2771, 2684, 2732],\n",
       "                         [   0,    0,    0, ..., 2837, 2731, 2743],\n",
       "                         ...,\n",
       "                         [   3,    2,    4, ..., 2790, 2793, 2735],\n",
       "                         [   1,    0,    0, ..., 2804, 2788, 2727],\n",
       "                         [   6,    0,    1, ..., 2805, 2789, 2723]], dtype=uint16)),\n",
       " namespace(filePath='/raid/data01/deephealth/dh_dcm_ast/2.25.100003993811033958377395338343645516433/DXm.2.25.118275985486690043433875765475611783958',\n",
       "           SOPInstanceUID='2.25.118275985486690043433875765475611783958',\n",
       "           StudyInstanceUID='2.25.100003993811033958377395338343645516433',\n",
       "           PatientID='DHC7SV1RHP5I',\n",
       "           InstanceNumber=\"1\",\n",
       "           label='NonCancer',\n",
       "           imageLaterality='R',\n",
       "           shape=(2294, 1914),\n",
       "           metadata=None,\n",
       "           pixels=array([[679, 680, 683, ..., 607, 611, 611],\n",
       "                         [649, 647, 651, ..., 609, 607, 605],\n",
       "                         [623, 625, 620, ..., 600, 607, 609],\n",
       "                         ...,\n",
       "                         [569, 570, 568, ..., 592, 592, 587],\n",
       "                         [567, 569, 567, ..., 592, 592, 591],\n",
       "                         [568, 572, 565, ..., 601, 599, 590]], dtype=uint16)),\n",
       " namespace(filePath='/raid/data01/deephealth/dh_dcm_ast/2.25.100004454449807661552970665704502783926/DXm.2.25.132064263369658277898069989669470954177',\n",
       "           SOPInstanceUID='2.25.132064263369658277898069989669470954177',\n",
       "           StudyInstanceUID='2.25.100004454449807661552970665704502783926',\n",
       "           PatientID='DHBQGYUFYVVS',\n",
       "           InstanceNumber=\"1\",\n",
       "           label='NonCancer',\n",
       "           imageLaterality='R',\n",
       "           shape=(3062, 2394),\n",
       "           metadata=None,\n",
       "           pixels=array([[   0,    0,    0, ..., 3818, 3874, 3909],\n",
       "                         [   0,    0,    0, ..., 3783, 3859, 3886],\n",
       "                         [   0,    0,    0, ..., 3745, 3837, 3873],\n",
       "                         ...,\n",
       "                         [   0,    0,    0, ..., 3102, 3108, 3152],\n",
       "                         [   0,    0,    0, ..., 3102, 3132, 3114],\n",
       "                         [   0,    0,    0, ..., 3058, 3076, 3139]], dtype=uint16)),\n",
       " namespace(filePath='/raid/data01/deephealth/dh_dcm_ast/2.25.100004982052899897087730675188236727259/DXm.2.25.104625202764978067155026670894285635386',\n",
       "           SOPInstanceUID='2.25.104625202764978067155026670894285635386',\n",
       "           StudyInstanceUID='2.25.100004982052899897087730675188236727259',\n",
       "           PatientID='DH0OSOV1VPCG',\n",
       "           InstanceNumber=\"1\",\n",
       "           label='NonCancer',\n",
       "           imageLaterality='R',\n",
       "           shape=(3062, 2394),\n",
       "           metadata=None,\n",
       "           pixels=array([[   0,    0,    0, ...,    0,    0,    0],\n",
       "                         [   0,    0,    0, ...,    0,    0,    0],\n",
       "                         [   0,    0,    0, ...,    0,    0,    0],\n",
       "                         ...,\n",
       "                         [   0,    0,    0, ..., 2431, 2473, 2493],\n",
       "                         [   0,    0,    0, ..., 2433, 2470, 2504],\n",
       "                         [   0,    0,    0, ..., 2437, 2462, 2503]], dtype=uint16)),\n",
       " namespace(filePath='/raid/data01/deephealth/dh_dcm_ast/2.25.100006125634150061092965994022792663370/DXm.2.25.105740110712269762199814895950720578890',\n",
       "           SOPInstanceUID='2.25.105740110712269762199814895950720578890',\n",
       "           StudyInstanceUID='2.25.100006125634150061092965994022792663370',\n",
       "           PatientID='DH9X88CIMVS6',\n",
       "           InstanceNumber=\"1\",\n",
       "           label='NonCancer',\n",
       "           imageLaterality='R',\n",
       "           shape=(2294, 1914),\n",
       "           metadata=None,\n",
       "           pixels=array([[ 802,  799,  800, ..., 3067, 3226, 3340],\n",
       "                         [ 802,  802,  800, ..., 3172, 3287, 3358],\n",
       "                         [ 800,  802,  801, ..., 3208, 3307, 3359],\n",
       "                         ...,\n",
       "                         [ 802,  798,  794, ...,  833,  831,  825],\n",
       "                         [ 802,  802,  797, ...,  835,  833,  824],\n",
       "                         [ 801,  799,  799, ...,  835,  831,  825]], dtype=uint16)),\n",
       " namespace(filePath='/raid/data01/deephealth/dh_dcm_ast/2.25.100009947449817628093236168268562725537/DXm.2.25.132505748830747409740198430912303576844',\n",
       "           SOPInstanceUID='2.25.132505748830747409740198430912303576844',\n",
       "           StudyInstanceUID='2.25.100009947449817628093236168268562725537',\n",
       "           PatientID='DHRKHX3OZT0W',\n",
       "           InstanceNumber=\"2\",\n",
       "           label='NonCancer',\n",
       "           imageLaterality='L',\n",
       "           shape=(2294, 1914),\n",
       "           metadata=None,\n",
       "           pixels=array([[532, 533, 537, ..., 486, 487, 487],\n",
       "                         [531, 534, 539, ..., 487, 484, 486],\n",
       "                         [532, 536, 537, ..., 487, 488, 489],\n",
       "                         ...,\n",
       "                         [539, 539, 543, ..., 479, 484, 481],\n",
       "                         [537, 540, 540, ..., 479, 477, 479],\n",
       "                         [542, 540, 540, ..., 483, 482, 482]], dtype=uint16)),\n",
       " namespace(filePath='/raid/data01/deephealth/dh_dcm_ast/2.25.100010254743296422456950313303974030631/DXm.2.25.212857589446387007944124142399710170940',\n",
       "           SOPInstanceUID='2.25.212857589446387007944124142399710170940',\n",
       "           StudyInstanceUID='2.25.100010254743296422456950313303974030631',\n",
       "           PatientID='DH5J159TNH7U',\n",
       "           InstanceNumber=\"2\",\n",
       "           label='NonCancer',\n",
       "           imageLaterality='L',\n",
       "           shape=(2294, 1914),\n",
       "           metadata=None,\n",
       "           pixels=array([[ 396,  399,  401, ...,  405,  405,  405],\n",
       "                         [ 395,  398,  396, ...,  406,  406,  404],\n",
       "                         [ 395,  395,  396, ...,  404,  406,  407],\n",
       "                         ...,\n",
       "                         [2653, 2625, 2609, ...,  431,  433,  438],\n",
       "                         [2679, 2636, 2605, ...,  451,  453,  456],\n",
       "                         [2680, 2647, 2623, ...,  478,  480,  480]], dtype=uint16))]"
      ]
     },
     "execution_count": 12,
     "metadata": {},
     "output_type": "execute_result"
    }
   ],
   "source": [
    "imgs"
   ]
  },
  {
   "cell_type": "code",
   "execution_count": 13,
   "id": "d461d849",
   "metadata": {},
   "outputs": [],
   "source": [
    "ts = [5,2,77,6,4,3,6,2,11,23]"
   ]
  },
  {
   "cell_type": "code",
   "execution_count": 14,
   "id": "aceaac28",
   "metadata": {},
   "outputs": [],
   "source": [
    "image_list = []\n",
    "for i in range(len(imgs)):\n",
    "    image_list.append(SimpleNamespace(image=imgs[i],\n",
    "                                           score=ts[i]))\n",
    "image_list = sorted(image_list, key=lambda x: x.score, reverse=True)"
   ]
  },
  {
   "cell_type": "code",
   "execution_count": 15,
   "id": "6bcec95d",
   "metadata": {},
   "outputs": [
    {
     "data": {
      "text/plain": [
       "[namespace(image=namespace(filePath='/raid/data01/deephealth/dh_dcm_ast/2.25.100001373726337750354689693677327988604/DXm.2.25.275395047981175631229220204776148301030',\n",
       "                           SOPInstanceUID='2.25.275395047981175631229220204776148301030',\n",
       "                           StudyInstanceUID='2.25.100001373726337750354689693677327988604',\n",
       "                           PatientID='DHHH0JGQENU9',\n",
       "                           InstanceNumber=\"2\",\n",
       "                           label='NonCancer',\n",
       "                           imageLaterality='L',\n",
       "                           shape=(3062, 2394),\n",
       "                           metadata=None,\n",
       "                           pixels=array([[3, 5, 5, ..., 0, 0, 0],\n",
       "                                         [3, 6, 8, ..., 0, 0, 0],\n",
       "                                         [5, 5, 4, ..., 0, 0, 0],\n",
       "                                         ...,\n",
       "                                         [3, 4, 6, ..., 0, 0, 0],\n",
       "                                         [4, 7, 8, ..., 0, 0, 0],\n",
       "                                         [8, 8, 9, ..., 0, 0, 0]], dtype=uint16)),\n",
       "           score=77),\n",
       " namespace(image=namespace(filePath='/raid/data01/deephealth/dh_dcm_ast/2.25.100010254743296422456950313303974030631/DXm.2.25.212857589446387007944124142399710170940',\n",
       "                           SOPInstanceUID='2.25.212857589446387007944124142399710170940',\n",
       "                           StudyInstanceUID='2.25.100010254743296422456950313303974030631',\n",
       "                           PatientID='DH5J159TNH7U',\n",
       "                           InstanceNumber=\"2\",\n",
       "                           label='NonCancer',\n",
       "                           imageLaterality='L',\n",
       "                           shape=(2294, 1914),\n",
       "                           metadata=None,\n",
       "                           pixels=array([[ 396,  399,  401, ...,  405,  405,  405],\n",
       "                                         [ 395,  398,  396, ...,  406,  406,  404],\n",
       "                                         [ 395,  395,  396, ...,  404,  406,  407],\n",
       "                                         ...,\n",
       "                                         [2653, 2625, 2609, ...,  431,  433,  438],\n",
       "                                         [2679, 2636, 2605, ...,  451,  453,  456],\n",
       "                                         [2680, 2647, 2623, ...,  478,  480,  480]], dtype=uint16)),\n",
       "           score=23),\n",
       " namespace(image=namespace(filePath='/raid/data01/deephealth/dh_dcm_ast/2.25.100009947449817628093236168268562725537/DXm.2.25.132505748830747409740198430912303576844',\n",
       "                           SOPInstanceUID='2.25.132505748830747409740198430912303576844',\n",
       "                           StudyInstanceUID='2.25.100009947449817628093236168268562725537',\n",
       "                           PatientID='DHRKHX3OZT0W',\n",
       "                           InstanceNumber=\"2\",\n",
       "                           label='NonCancer',\n",
       "                           imageLaterality='L',\n",
       "                           shape=(2294, 1914),\n",
       "                           metadata=None,\n",
       "                           pixels=array([[532, 533, 537, ..., 486, 487, 487],\n",
       "                                         [531, 534, 539, ..., 487, 484, 486],\n",
       "                                         [532, 536, 537, ..., 487, 488, 489],\n",
       "                                         ...,\n",
       "                                         [539, 539, 543, ..., 479, 484, 481],\n",
       "                                         [537, 540, 540, ..., 479, 477, 479],\n",
       "                                         [542, 540, 540, ..., 483, 482, 482]], dtype=uint16)),\n",
       "           score=11),\n",
       " namespace(image=namespace(filePath='/raid/data01/deephealth/dh_dcm_ast/2.25.100002486421861526414567925681184545224/DXm.2.25.109671841718419919187642480808451180070',\n",
       "                           SOPInstanceUID='2.25.109671841718419919187642480808451180070',\n",
       "                           StudyInstanceUID='2.25.100002486421861526414567925681184545224',\n",
       "                           PatientID='DHRG6TGWCKX0',\n",
       "                           InstanceNumber=\"3\",\n",
       "                           label='NonCancer',\n",
       "                           imageLaterality='R',\n",
       "                           shape=(3062, 2394),\n",
       "                           metadata=None,\n",
       "                           pixels=array([[   0,    0,    0, ..., 2704, 2678, 2673],\n",
       "                                         [   0,    0,    0, ..., 2771, 2684, 2732],\n",
       "                                         [   0,    0,    0, ..., 2837, 2731, 2743],\n",
       "                                         ...,\n",
       "                                         [   3,    2,    4, ..., 2790, 2793, 2735],\n",
       "                                         [   1,    0,    0, ..., 2804, 2788, 2727],\n",
       "                                         [   6,    0,    1, ..., 2805, 2789, 2723]], dtype=uint16)),\n",
       "           score=6),\n",
       " namespace(image=namespace(filePath='/raid/data01/deephealth/dh_dcm_ast/2.25.100004982052899897087730675188236727259/DXm.2.25.104625202764978067155026670894285635386',\n",
       "                           SOPInstanceUID='2.25.104625202764978067155026670894285635386',\n",
       "                           StudyInstanceUID='2.25.100004982052899897087730675188236727259',\n",
       "                           PatientID='DH0OSOV1VPCG',\n",
       "                           InstanceNumber=\"1\",\n",
       "                           label='NonCancer',\n",
       "                           imageLaterality='R',\n",
       "                           shape=(3062, 2394),\n",
       "                           metadata=None,\n",
       "                           pixels=array([[   0,    0,    0, ...,    0,    0,    0],\n",
       "                                         [   0,    0,    0, ...,    0,    0,    0],\n",
       "                                         [   0,    0,    0, ...,    0,    0,    0],\n",
       "                                         ...,\n",
       "                                         [   0,    0,    0, ..., 2431, 2473, 2493],\n",
       "                                         [   0,    0,    0, ..., 2433, 2470, 2504],\n",
       "                                         [   0,    0,    0, ..., 2437, 2462, 2503]], dtype=uint16)),\n",
       "           score=6),\n",
       " namespace(image=namespace(filePath='/raid/data01/deephealth/dh_dcm_ast/2.25.100000201839274263174475898571171534853/DXm.2.25.119403010146292111130118207990186551199',\n",
       "                           SOPInstanceUID='2.25.119403010146292111130118207990186551199',\n",
       "                           StudyInstanceUID='2.25.100000201839274263174475898571171534853',\n",
       "                           PatientID='DHJ5JE9QXAV0',\n",
       "                           InstanceNumber=\"2\",\n",
       "                           label='NonCancer',\n",
       "                           imageLaterality='L',\n",
       "                           shape=(3062, 2394),\n",
       "                           metadata=None,\n",
       "                           pixels=array([[   0,    0,    0, ...,    0,    0,    0],\n",
       "                                         [   0,    0,    0, ...,    0,    0,    0],\n",
       "                                         [   0,    0,    0, ...,    0,    0,    0],\n",
       "                                         ...,\n",
       "                                         [3043, 3089, 3066, ...,    0,    0,    0],\n",
       "                                         [3083, 3055, 3078, ...,    0,    0,    0],\n",
       "                                         [3117, 3123, 3155, ...,    0,    0,    0]], dtype=uint16)),\n",
       "           score=5),\n",
       " namespace(image=namespace(filePath='/raid/data01/deephealth/dh_dcm_ast/2.25.100003993811033958377395338343645516433/DXm.2.25.118275985486690043433875765475611783958',\n",
       "                           SOPInstanceUID='2.25.118275985486690043433875765475611783958',\n",
       "                           StudyInstanceUID='2.25.100003993811033958377395338343645516433',\n",
       "                           PatientID='DHC7SV1RHP5I',\n",
       "                           InstanceNumber=\"1\",\n",
       "                           label='NonCancer',\n",
       "                           imageLaterality='R',\n",
       "                           shape=(2294, 1914),\n",
       "                           metadata=None,\n",
       "                           pixels=array([[679, 680, 683, ..., 607, 611, 611],\n",
       "                                         [649, 647, 651, ..., 609, 607, 605],\n",
       "                                         [623, 625, 620, ..., 600, 607, 609],\n",
       "                                         ...,\n",
       "                                         [569, 570, 568, ..., 592, 592, 587],\n",
       "                                         [567, 569, 567, ..., 592, 592, 591],\n",
       "                                         [568, 572, 565, ..., 601, 599, 590]], dtype=uint16)),\n",
       "           score=4),\n",
       " namespace(image=namespace(filePath='/raid/data01/deephealth/dh_dcm_ast/2.25.100004454449807661552970665704502783926/DXm.2.25.132064263369658277898069989669470954177',\n",
       "                           SOPInstanceUID='2.25.132064263369658277898069989669470954177',\n",
       "                           StudyInstanceUID='2.25.100004454449807661552970665704502783926',\n",
       "                           PatientID='DHBQGYUFYVVS',\n",
       "                           InstanceNumber=\"1\",\n",
       "                           label='NonCancer',\n",
       "                           imageLaterality='R',\n",
       "                           shape=(3062, 2394),\n",
       "                           metadata=None,\n",
       "                           pixels=array([[   0,    0,    0, ..., 3818, 3874, 3909],\n",
       "                                         [   0,    0,    0, ..., 3783, 3859, 3886],\n",
       "                                         [   0,    0,    0, ..., 3745, 3837, 3873],\n",
       "                                         ...,\n",
       "                                         [   0,    0,    0, ..., 3102, 3108, 3152],\n",
       "                                         [   0,    0,    0, ..., 3102, 3132, 3114],\n",
       "                                         [   0,    0,    0, ..., 3058, 3076, 3139]], dtype=uint16)),\n",
       "           score=3),\n",
       " namespace(image=namespace(filePath='/raid/data01/deephealth/dh_dcm_ast/2.25.100000625325569371753126863626315692897/DXm.2.25.127461109080365862090076836140412024743',\n",
       "                           SOPInstanceUID='2.25.127461109080365862090076836140412024743',\n",
       "                           StudyInstanceUID='2.25.100000625325569371753126863626315692897',\n",
       "                           PatientID='DHGPX698NDOD',\n",
       "                           InstanceNumber=\"1\",\n",
       "                           label='NonCancer',\n",
       "                           imageLaterality='R',\n",
       "                           shape=(2294, 1914),\n",
       "                           metadata=None,\n",
       "                           pixels=array([[63, 62, 62, ..., 53, 52, 50],\n",
       "                                         [62, 64, 64, ..., 52, 51, 51],\n",
       "                                         [62, 64, 65, ..., 53, 52, 49],\n",
       "                                         ...,\n",
       "                                         [54, 53, 49, ..., 46, 45, 43],\n",
       "                                         [53, 53, 49, ..., 47, 46, 44],\n",
       "                                         [52, 53, 52, ..., 47, 45, 42]], dtype=uint16)),\n",
       "           score=2),\n",
       " namespace(image=namespace(filePath='/raid/data01/deephealth/dh_dcm_ast/2.25.100006125634150061092965994022792663370/DXm.2.25.105740110712269762199814895950720578890',\n",
       "                           SOPInstanceUID='2.25.105740110712269762199814895950720578890',\n",
       "                           StudyInstanceUID='2.25.100006125634150061092965994022792663370',\n",
       "                           PatientID='DH9X88CIMVS6',\n",
       "                           InstanceNumber=\"1\",\n",
       "                           label='NonCancer',\n",
       "                           imageLaterality='R',\n",
       "                           shape=(2294, 1914),\n",
       "                           metadata=None,\n",
       "                           pixels=array([[ 802,  799,  800, ..., 3067, 3226, 3340],\n",
       "                                         [ 802,  802,  800, ..., 3172, 3287, 3358],\n",
       "                                         [ 800,  802,  801, ..., 3208, 3307, 3359],\n",
       "                                         ...,\n",
       "                                         [ 802,  798,  794, ...,  833,  831,  825],\n",
       "                                         [ 802,  802,  797, ...,  835,  833,  824],\n",
       "                                         [ 801,  799,  799, ...,  835,  831,  825]], dtype=uint16)),\n",
       "           score=2)]"
      ]
     },
     "execution_count": 15,
     "metadata": {},
     "output_type": "execute_result"
    }
   ],
   "source": [
    "image_list"
   ]
  },
  {
   "cell_type": "code",
   "execution_count": 16,
   "id": "a79f7d15",
   "metadata": {},
   "outputs": [
    {
     "data": {
      "text/plain": [
       "10"
      ]
     },
     "execution_count": 16,
     "metadata": {},
     "output_type": "execute_result"
    }
   ],
   "source": [
    "len(image_list)"
   ]
  },
  {
   "cell_type": "code",
   "execution_count": 17,
   "id": "9d9f12b7",
   "metadata": {},
   "outputs": [
    {
     "data": {
      "text/plain": [
       "str"
      ]
     },
     "execution_count": 17,
     "metadata": {},
     "output_type": "execute_result"
    }
   ],
   "source": [
    "type(image_list[0].image.filePath)"
   ]
  },
  {
   "cell_type": "code",
   "execution_count": 18,
   "id": "0efe5b4b",
   "metadata": {},
   "outputs": [
    {
     "data": {
      "text/plain": [
       "types.SimpleNamespace"
      ]
     },
     "execution_count": 18,
     "metadata": {},
     "output_type": "execute_result"
    }
   ],
   "source": [
    "type(imgs[0])"
   ]
  },
  {
   "cell_type": "code",
   "execution_count": 19,
   "id": "328f0684",
   "metadata": {},
   "outputs": [],
   "source": [
    "pixels = []\n",
    "for img in imgs:\n",
    "    pixels.append(img.pixels)"
   ]
  },
  {
   "cell_type": "code",
   "execution_count": 20,
   "id": "3cfdc2db",
   "metadata": {},
   "outputs": [
    {
     "data": {
      "text/plain": [
       "list"
      ]
     },
     "execution_count": 20,
     "metadata": {},
     "output_type": "execute_result"
    }
   ],
   "source": [
    "type(pixels)"
   ]
  },
  {
   "cell_type": "code",
   "execution_count": 21,
   "id": "78a0d7e4",
   "metadata": {},
   "outputs": [],
   "source": [
    "normalized_pixels = []\n",
    "for p in pixels:\n",
    "    max_val = np.max(p)\n",
    "    min_val = np.min(p)\n",
    "    temp_pixels = p.astype(np.float32).copy()\n",
    "    temp_pixels -= min_val\n",
    "    temp_pixels /= (max_val - min_val)\n",
    "    temp_pixels *= 255\n",
    "    normalized_pixels.append(temp_pixels)"
   ]
  },
  {
   "cell_type": "code",
   "execution_count": 22,
   "id": "97ca7d6d",
   "metadata": {},
   "outputs": [
    {
     "data": {
      "text/plain": [
       "array([[  0.     ,   0.     ,   0.     , ...,   0.     ,   0.     ,\n",
       "          0.     ],\n",
       "       [  0.     ,   0.     ,   0.     , ...,   0.     ,   0.     ,\n",
       "          0.     ],\n",
       "       [  0.     ,   0.     ,   0.     , ...,   0.     ,   0.     ,\n",
       "          0.     ],\n",
       "       ...,\n",
       "       [189.49084, 192.35532, 190.92308, ...,   0.     ,   0.     ,\n",
       "          0.     ],\n",
       "       [191.98169, 190.2381 , 191.67033, ...,   0.     ,   0.     ,\n",
       "          0.     ],\n",
       "       [194.0989 , 194.47253, 196.46521, ...,   0.     ,   0.     ,\n",
       "          0.     ]], dtype=float32)"
      ]
     },
     "execution_count": 22,
     "metadata": {},
     "output_type": "execute_result"
    }
   ],
   "source": [
    "normalized_pixels[0]"
   ]
  },
  {
   "cell_type": "code",
   "execution_count": 23,
   "id": "c47d6dff",
   "metadata": {},
   "outputs": [
    {
     "data": {
      "text/plain": [
       "list"
      ]
     },
     "execution_count": 23,
     "metadata": {},
     "output_type": "execute_result"
    }
   ],
   "source": [
    "type(normalized_pixels)"
   ]
  },
  {
   "cell_type": "code",
   "execution_count": 24,
   "id": "ff74e87f",
   "metadata": {},
   "outputs": [
    {
     "name": "stdout",
     "output_type": "stream",
     "text": [
      "(3062, 2394)\n",
      "(2294, 1914)\n",
      "(3062, 2394)\n",
      "(3062, 2394)\n",
      "(2294, 1914)\n",
      "(3062, 2394)\n",
      "(3062, 2394)\n",
      "(2294, 1914)\n",
      "(2294, 1914)\n",
      "(2294, 1914)\n"
     ]
    }
   ],
   "source": [
    "for i in range(len(normalized_pixels)):\n",
    "    print(normalized_pixels[i].shape)"
   ]
  },
  {
   "cell_type": "code",
   "execution_count": 25,
   "id": "40b0bca2",
   "metadata": {},
   "outputs": [],
   "source": [
    "from skimage.feature import SIFT"
   ]
  },
  {
   "cell_type": "code",
   "execution_count": 26,
   "id": "bde8f70f",
   "metadata": {},
   "outputs": [],
   "source": [
    "kwargs = {}\n",
    "upsampling = kwargs.get('upsampling', 1)\n",
    "n_octaves = kwargs.get('n_octaves', 1)\n",
    "n_scales = kwargs.get('n_scales', 1)\n",
    "sigma_min = kwargs.get('sigma_min', 1.3)\n",
    "sigma_in = kwargs.get('sigma_in', .5)\n",
    "c_dog = kwargs.get('c_dog', .7)\n",
    "c_edge = kwargs.get('c_edge', .05)\n",
    "n_bins = kwargs.get('n_bins', 10)\n",
    "lambda_ori = kwargs.get('lambda_ori', .5)\n",
    "c_max = kwargs.get('c_max', 1.5)\n",
    "lambda_descr = kwargs.get('lambda_descr', .5)\n",
    "n_hist = kwargs.get('n_hist', 1)\n",
    "n_ori = kwargs.get('n_ori', 1)"
   ]
  },
  {
   "cell_type": "code",
   "execution_count": 27,
   "id": "ebfc5003",
   "metadata": {},
   "outputs": [],
   "source": [
    "descriptor_extractor = SIFT(upsampling=upsampling,\n",
    "                            n_octaves=n_octaves,\n",
    "                            n_scales=n_scales,\n",
    "                            sigma_min=sigma_min,\n",
    "                            sigma_in=sigma_in,\n",
    "                            c_dog=c_dog,\n",
    "                            c_edge=c_edge,\n",
    "                            n_bins=n_bins,\n",
    "                            lambda_ori=lambda_ori,\n",
    "                            c_max=c_max,\n",
    "                            lambda_descr=lambda_descr,\n",
    "                            n_hist=n_hist,\n",
    "                            n_ori=n_ori)\n"
   ]
  },
  {
   "cell_type": "code",
   "execution_count": 68,
   "id": "f7a28e2c",
   "metadata": {},
   "outputs": [
    {
     "name": "stdout",
     "output_type": "stream",
     "text": [
      "(3062, 2394)\n",
      "(2294, 1914)\n",
      "(3062, 2394)\n",
      "(3062, 2394)\n",
      "(2294, 1914)\n",
      "(3062, 2394)\n",
      "(3062, 2394)\n",
      "(2294, 1914)\n",
      "(2294, 1914)\n",
      "(2294, 1914)\n"
     ]
    }
   ],
   "source": [
    "keypoints = []\n",
    "if isinstance(normalized_pixels, list) or isinstance(normalized_pixels, np.ndarray):\n",
    "    for i in range(len(normalized_pixels)):\n",
    "        print(normalized_pixels[i].shape)\n",
    "        descriptor_extractor.detect_and_extract(normalized_pixels[i])\n",
    "        keypoints.append(descriptor_extractor.keypoints)\n",
    "else:\n",
    "    print(\"in the else statement\")\n",
    "    descriptor_extractor.detect_and_extract(normalized_pixels)\n",
    "    keypoints.append(descriptor_extractor.keypoints)"
   ]
  },
  {
   "cell_type": "code",
   "execution_count": 44,
   "id": "23018744",
   "metadata": {},
   "outputs": [
    {
     "data": {
      "text/plain": [
       "array([[ 298,   11],\n",
       "       [ 299,   15],\n",
       "       [ 333,    6],\n",
       "       [ 345,   50],\n",
       "       [ 384,  169],\n",
       "       [ 384,  170],\n",
       "       [ 387,   68],\n",
       "       [ 391,  183],\n",
       "       [ 394,   81],\n",
       "       [ 396,  193],\n",
       "       [ 402,  203],\n",
       "       [ 416,  226],\n",
       "       [ 416,  120],\n",
       "       [ 432,  136],\n",
       "       [ 435,  189],\n",
       "       [ 436, 1527],\n",
       "       [ 436, 1527],\n",
       "       [ 439, 1575],\n",
       "       [ 442, 1569],\n",
       "       [ 464,    7],\n",
       "       [ 467,  147],\n",
       "       [ 468,   20],\n",
       "       [ 476,   90],\n",
       "       [ 476,  142],\n",
       "       [ 479, 1504],\n",
       "       [ 483, 1575],\n",
       "       [ 481, 1645],\n",
       "       [ 484, 1574],\n",
       "       [ 488, 1633],\n",
       "       [ 493,  127],\n",
       "       [ 497,  180],\n",
       "       [ 502, 1529],\n",
       "       [ 509, 1536],\n",
       "       [ 510,   12],\n",
       "       [ 515, 1621],\n",
       "       [ 523,  193],\n",
       "       [ 536, 1702],\n",
       "       [ 541, 1613],\n",
       "       [ 548, 1598],\n",
       "       [ 555, 1697],\n",
       "       [ 559,   34],\n",
       "       [ 563, 1618],\n",
       "       [ 563,  124],\n",
       "       [ 563,  305],\n",
       "       [ 566,  149],\n",
       "       [ 572,  159],\n",
       "       [ 573, 1627],\n",
       "       [ 577,  144],\n",
       "       [ 579,  369],\n",
       "       [ 584, 1683],\n",
       "       [ 589,   52],\n",
       "       [ 590,  387],\n",
       "       [ 592,   65],\n",
       "       [ 601,  146],\n",
       "       [ 622,  419],\n",
       "       [ 623,  369],\n",
       "       [ 624,  513],\n",
       "       [ 630,  417],\n",
       "       [ 631,  417],\n",
       "       [ 643,  289],\n",
       "       [ 650,   33],\n",
       "       [ 653,  439],\n",
       "       [ 653,  439],\n",
       "       [ 687,  271],\n",
       "       [ 729,  489],\n",
       "       [ 769,  314],\n",
       "       [ 774,  100],\n",
       "       [ 798,  541],\n",
       "       [ 804,  535],\n",
       "       [ 821,  484],\n",
       "       [ 844,  480],\n",
       "       [ 847,  105],\n",
       "       [ 884,  516],\n",
       "       [ 906,  489],\n",
       "       [ 907,  105],\n",
       "       [ 910,   94],\n",
       "       [ 926,  601],\n",
       "       [ 926,  576],\n",
       "       [ 929,  628],\n",
       "       [ 943,  614],\n",
       "       [ 943,  594],\n",
       "       [ 956,  296],\n",
       "       [ 987,  553],\n",
       "       [1001,  421],\n",
       "       [1005,  678],\n",
       "       [1011,  674],\n",
       "       [1013,  638],\n",
       "       [1023,  685],\n",
       "       [1023,  685],\n",
       "       [1028,  572],\n",
       "       [1039,  606],\n",
       "       [1040,  556],\n",
       "       [1041,  148],\n",
       "       [1044,  170],\n",
       "       [1047,  548],\n",
       "       [1062,  461],\n",
       "       [1064,  675],\n",
       "       [1072,  664],\n",
       "       [1078,  718],\n",
       "       [1083,  568],\n",
       "       [1084,  726],\n",
       "       [1089,  694],\n",
       "       [1091,  578],\n",
       "       [1093,  391],\n",
       "       [1098,  417],\n",
       "       [1098,  452],\n",
       "       [1099,  685],\n",
       "       [1100,  698],\n",
       "       [1107,  631],\n",
       "       [1110,  417],\n",
       "       [1113,   73],\n",
       "       [1122,  580],\n",
       "       [1121,  729],\n",
       "       [1123,  590],\n",
       "       [1124,  660],\n",
       "       [1129,  670],\n",
       "       [1134,  663],\n",
       "       [1135,  710],\n",
       "       [1136,  612],\n",
       "       [1151,  459],\n",
       "       [1156,  730],\n",
       "       [1158,  638],\n",
       "       [1162,  701],\n",
       "       [1167,  727],\n",
       "       [1169,  670],\n",
       "       [1169,  717],\n",
       "       [1175,  660],\n",
       "       [1175,  734],\n",
       "       [1179,  238],\n",
       "       [1186,  590],\n",
       "       [1186,  598],\n",
       "       [1191,  708],\n",
       "       [1194,  531],\n",
       "       [1197,  845],\n",
       "       [1206,   90],\n",
       "       [1209,  854],\n",
       "       [1209,  584],\n",
       "       [1214,  610],\n",
       "       [1235,  736],\n",
       "       [1239,  581],\n",
       "       [1239,  650],\n",
       "       [1242,  564],\n",
       "       [1250,  167],\n",
       "       [1255,  715],\n",
       "       [1261,  612],\n",
       "       [1260,  846],\n",
       "       [1269,  621],\n",
       "       [1281,  702],\n",
       "       [1283,  736],\n",
       "       [1292,  778],\n",
       "       [1295,  645],\n",
       "       [1303,  741],\n",
       "       [1307,  699],\n",
       "       [1320,  662],\n",
       "       [1327,  498],\n",
       "       [1336,  655],\n",
       "       [1346,  648],\n",
       "       [1380,  462],\n",
       "       [1402,  500],\n",
       "       [1409,  108],\n",
       "       [1409,  793],\n",
       "       [1413,  603],\n",
       "       [1430,   16],\n",
       "       [1439,  640],\n",
       "       [1447,  549],\n",
       "       [1449,  538],\n",
       "       [1463,  534],\n",
       "       [1464,  636],\n",
       "       [1474,   45],\n",
       "       [1523,  377],\n",
       "       [1528,  350],\n",
       "       [1532,  537],\n",
       "       [1533,   46],\n",
       "       [1582,  258],\n",
       "       [1589,  240],\n",
       "       [1593,  443],\n",
       "       [1593,  479],\n",
       "       [1595,  463],\n",
       "       [1619,  506],\n",
       "       [1623,  181],\n",
       "       [1651,  189],\n",
       "       [1675,  285],\n",
       "       [1675,  504],\n",
       "       [1680,  155],\n",
       "       [1700,  440],\n",
       "       [1709,  108],\n",
       "       [1709,  259],\n",
       "       [1716,   79],\n",
       "       [1738,   54],\n",
       "       [1739,  131],\n",
       "       [1744,  111],\n",
       "       [1760,  194],\n",
       "       [1767,  233],\n",
       "       [1768,   24],\n",
       "       [1769,  194],\n",
       "       [1780,  297],\n",
       "       [1780,  405],\n",
       "       [1785,   44],\n",
       "       [1785,  417],\n",
       "       [1787,   14],\n",
       "       [1792,  393],\n",
       "       [1799,  268],\n",
       "       [1814,  183],\n",
       "       [1833,  465],\n",
       "       [1854,  443],\n",
       "       [1863,   77],\n",
       "       [1878,  147],\n",
       "       [1894,   31],\n",
       "       [1893,   74],\n",
       "       [1894,   91],\n",
       "       [1905,   30],\n",
       "       [1967,  268],\n",
       "       [1994,  181],\n",
       "       [2055,   41]])"
      ]
     },
     "execution_count": 44,
     "metadata": {},
     "output_type": "execute_result"
    }
   ],
   "source": [
    "keypoints[9]"
   ]
  },
  {
   "cell_type": "code",
   "execution_count": 70,
   "id": "8cec7a3c",
   "metadata": {},
   "outputs": [
    {
     "name": "stdout",
     "output_type": "stream",
     "text": [
      "type of intensities: <class 'list'>\n",
      "type of intensities: <class 'list'>\n",
      "type of intensities: <class 'list'>\n",
      "type of intensities: <class 'list'>\n",
      "type of intensities: <class 'list'>\n",
      "type of intensities: <class 'list'>\n",
      "type of intensities: <class 'list'>\n",
      "type of intensities: <class 'list'>\n",
      "type of intensities: <class 'list'>\n",
      "type of intensities: <class 'list'>\n"
     ]
    }
   ],
   "source": [
    "intensities = []\n",
    "for i in range(len(keypoints)):\n",
    "    intensities.append(\n",
    "        O.Features._extract_pixel_intensity_from_keypoints(\n",
    "            keypoints[i], pixels[i]))"
   ]
  },
  {
   "cell_type": "code",
   "execution_count": 66,
   "id": "aac2ef73",
   "metadata": {},
   "outputs": [
    {
     "data": {
      "text/plain": [
       "list"
      ]
     },
     "execution_count": 66,
     "metadata": {},
     "output_type": "execute_result"
    }
   ],
   "source": [
    "type(intensities)"
   ]
  },
  {
   "cell_type": "code",
   "execution_count": null,
   "id": "5c23b958",
   "metadata": {},
   "outputs": [],
   "source": []
  },
  {
   "cell_type": "code",
   "execution_count": null,
   "id": "82196b81",
   "metadata": {},
   "outputs": [],
   "source": []
  },
  {
   "cell_type": "code",
   "execution_count": null,
   "id": "67fb9f5b",
   "metadata": {},
   "outputs": [],
   "source": []
  },
  {
   "cell_type": "code",
   "execution_count": 34,
   "id": "f2f27f17",
   "metadata": {},
   "outputs": [],
   "source": [
    "from skimage.feature import ORB"
   ]
  },
  {
   "cell_type": "code",
   "execution_count": 35,
   "id": "41cdd9fa",
   "metadata": {},
   "outputs": [],
   "source": [
    "downsampled_images = O.Normalize.downsample(pixels, output_shape=(256,256))[0]"
   ]
  },
  {
   "cell_type": "code",
   "execution_count": 36,
   "id": "956b190b",
   "metadata": {},
   "outputs": [
    {
     "data": {
      "text/plain": [
       "(256, 256)"
      ]
     },
     "execution_count": 36,
     "metadata": {},
     "output_type": "execute_result"
    }
   ],
   "source": [
    "downsampled_images[0].shape"
   ]
  },
  {
   "cell_type": "code",
   "execution_count": 37,
   "id": "2bb9ac41",
   "metadata": {},
   "outputs": [],
   "source": [
    "norm_imgs = O.Normalize.get_norm(downsampled_images, norm_type='minmax')[0]"
   ]
  },
  {
   "cell_type": "code",
   "execution_count": 48,
   "id": "2e13050d",
   "metadata": {},
   "outputs": [
    {
     "data": {
      "text/plain": [
       "(256, 256)"
      ]
     },
     "execution_count": 48,
     "metadata": {},
     "output_type": "execute_result"
    }
   ],
   "source": [
    "norm_imgs[0].shape"
   ]
  },
  {
   "cell_type": "code",
   "execution_count": 39,
   "id": "c83683a0",
   "metadata": {},
   "outputs": [],
   "source": [
    "kwargs = {}\n",
    "n_keypoints = kwargs.get('n_keypoints', 50)\n",
    "fast_n = kwargs.get('fast_n', 9)\n",
    "fast_threshold = kwargs.get('fast_threshold', 0.08)\n",
    "harris_k = kwargs.get('harris_k', 0.04)\n",
    "downscale = kwargs.get('downscale', 1.2)\n",
    "n_scales = kwargs.get('n_scales', 8)\n"
   ]
  },
  {
   "cell_type": "code",
   "execution_count": 40,
   "id": "94e5e53c",
   "metadata": {},
   "outputs": [],
   "source": [
    "descriptor_extractor_orb = ORB(n_keypoints=n_keypoints,\n",
    "                               fast_n=fast_n,\n",
    "                               fast_threshold=fast_threshold,\n",
    "                               harris_k=harris_k,\n",
    "                               downscale=downscale,\n",
    "                               n_scales=n_scales)\n"
   ]
  },
  {
   "cell_type": "code",
   "execution_count": 51,
   "id": "e80e6eeb",
   "metadata": {},
   "outputs": [
    {
     "name": "stdout",
     "output_type": "stream",
     "text": [
      "(256, 256)\n",
      "(256, 256)\n",
      "(256, 256)\n",
      "(256, 256)\n",
      "(256, 256)\n",
      "(256, 256)\n",
      "(256, 256)\n",
      "(256, 256)\n",
      "(256, 256)\n",
      "(256, 256)\n"
     ]
    }
   ],
   "source": [
    "keypoints2 = []\n",
    "if isinstance(norm_imgs, list) or isinstance(norm_imgs, np.ndarray):\n",
    "    for i in range(len(norm_imgs)):\n",
    "        print(norm_imgs[i].shape)\n",
    "        descriptor_extractor_orb.detect_and_extract(norm_imgs[i])\n",
    "        keypoints2.append(descriptor_extractor_orb.keypoints)\n",
    "else:\n",
    "    print(\"in the else statement\")\n",
    "    descriptor_extractor_orb.detect_and_extract(norm_imgs)\n",
    "    keypoints2.append(descriptor_extractor_orb.keypoints)"
   ]
  },
  {
   "cell_type": "code",
   "execution_count": 52,
   "id": "037255d2",
   "metadata": {},
   "outputs": [
    {
     "data": {
      "text/plain": [
       "array([[ 54.     , 196.8    ],\n",
       "       [ 54.74304, 201.55392],\n",
       "       [ 54.     , 196.     ],\n",
       "       [ 44.928  , 205.632  ],\n",
       "       [ 44.64   , 204.48   ],\n",
       "       [ 57.     , 232.     ],\n",
       "       [ 45.6192 , 205.2864 ],\n",
       "       [ 44.     , 203.     ],\n",
       "       [ 53.9136 , 201.1392 ],\n",
       "       [ 53.568  , 200.448  ],\n",
       "       [ 68.     , 225.     ],\n",
       "       [ 44.4    , 204.     ],\n",
       "       [ 53.28   , 198.72   ],\n",
       "       [ 67.68   , 226.08   ],\n",
       "       [ 57.6    , 231.6    ],\n",
       "       [ 67.2    , 225.6    ],\n",
       "       [ 56.     , 210.     ],\n",
       "       [ 56.     , 217.     ],\n",
       "       [ 60.     , 220.     ],\n",
       "       [ 55.2    , 217.2    ],\n",
       "       [ 55.2    , 211.2    ],\n",
       "       [ 54.     , 205.     ],\n",
       "       [ 55.296  , 214.272  ],\n",
       "       [ 60.     , 222.     ],\n",
       "       [ 52.     , 213.     ],\n",
       "       [ 54.72   , 213.12   ],\n",
       "       [ 52.8    , 213.6    ],\n",
       "       [ 52.     , 202.     ],\n",
       "       [ 58.752  , 224.64   ],\n",
       "       [ 59.04   , 223.2    ],\n",
       "       [ 52.8    , 204.     ],\n",
       "       [ 57.     , 223.     ],\n",
       "       [ 51.84   , 205.92   ],\n",
       "       [128.     ,  95.     ],\n",
       "       [143.     ,  95.     ],\n",
       "       [128.     ,  91.     ],\n",
       "       [128.4    ,  91.2    ],\n",
       "       [140.4    ,  79.2    ],\n",
       "       [124.8    ,  92.4    ],\n",
       "       [125.28   ,  92.16   ],\n",
       "       [141.12   ,  79.2    ],\n",
       "       [141.696  ,  79.488  ],\n",
       "       [138.     ,  96.     ],\n",
       "       [128.4    ,  96.     ],\n",
       "       [136.     ,  92.     ],\n",
       "       [149.     ,  88.     ],\n",
       "       [122.4    ,  91.2    ],\n",
       "       [140.     ,  79.     ],\n",
       "       [124.     ,  84.     ],\n",
       "       [140.     ,  98.     ]])"
      ]
     },
     "execution_count": 52,
     "metadata": {},
     "output_type": "execute_result"
    }
   ],
   "source": [
    "keypoints2[9]"
   ]
  },
  {
   "cell_type": "code",
   "execution_count": 53,
   "id": "293efa83",
   "metadata": {},
   "outputs": [],
   "source": [
    "intensities2 = []\n",
    "for i in range(len(keypoints2)):\n",
    "    intensities2.append(\n",
    "        O.Features._extract_pixel_intensity_from_keypoints(\n",
    "            keypoints2[i], norm_imgs[i]))"
   ]
  },
  {
   "cell_type": "code",
   "execution_count": 59,
   "id": "55b18d31",
   "metadata": {},
   "outputs": [
    {
     "name": "stdout",
     "output_type": "stream",
     "text": [
      "<class 'numpy.ndarray'>\n",
      "<class 'numpy.ndarray'>\n"
     ]
    }
   ],
   "source": [
    "print(type(intensities[0]))\n",
    "print(type(intensities2[0]))"
   ]
  },
  {
   "cell_type": "code",
   "execution_count": 60,
   "id": "5b39d787",
   "metadata": {},
   "outputs": [
    {
     "name": "stdout",
     "output_type": "stream",
     "text": [
      "(182,)\n",
      "(50,)\n"
     ]
    }
   ],
   "source": [
    "print(intensities[0].shape)\n",
    "print(intensities2[0].shape)"
   ]
  },
  {
   "cell_type": "code",
   "execution_count": 61,
   "id": "22dbe167",
   "metadata": {},
   "outputs": [],
   "source": [
    "keypoints = intensities"
   ]
  },
  {
   "cell_type": "code",
   "execution_count": 63,
   "id": "daf3fd60",
   "metadata": {},
   "outputs": [
    {
     "data": {
      "text/plain": [
       "[array([2324, 2344, 2341, 2321, 2340, 2319, 2652, 2345, 2702, 2296, 2345,\n",
       "        2303, 2345, 3025, 2789, 3108, 2755, 2726, 3155, 3118, 3063, 2697,\n",
       "        2567, 2828, 3104, 3085, 2989, 3008, 2922, 2882, 3209, 3077, 3112,\n",
       "        2979, 2947, 2826, 3078, 2937, 3026, 2730, 2657, 2961, 3193, 2946,\n",
       "        2908, 3058, 2973, 3095, 3275, 2901, 2898, 3025, 2735, 2914, 3064,\n",
       "        2962, 3109, 3086, 3035, 3109, 3028, 3086, 3143, 3153, 3093, 2742,\n",
       "        2901, 2678, 3052, 2743, 2730, 2977, 2610, 3073, 2952, 2948, 2998,\n",
       "        2939, 3083, 3068, 2853, 2827, 3020, 3032, 2969, 3160, 3070, 3046,\n",
       "        3069, 2730, 2668, 3016, 2982, 2710, 3002, 3106, 2720, 2919, 3146,\n",
       "        3216, 2716, 2734, 3086, 2798, 3112, 2925, 2791, 2978, 2701, 2985,\n",
       "        2942, 2893, 2984, 2948, 3095, 2982, 2710, 2699, 2668, 2718, 2826,\n",
       "        2660, 2667, 3000, 2908, 2732, 3087, 2892, 2813, 3143, 2919, 3151,\n",
       "        2775, 2534, 2887, 2673, 3153, 2232, 2996, 2904, 2890, 1713, 3251,\n",
       "        3243, 2145, 3733, 3352, 2076, 3500, 3478, 2916, 2560, 2399, 2067,\n",
       "        2465, 2845, 2474, 2396, 2821, 2827, 2506, 2909, 2588, 2541, 2571,\n",
       "        2978, 2794, 2825, 2804, 2878, 2571, 2895, 2813, 2806, 3161, 2634,\n",
       "        2781, 3199, 2990, 2828, 3158, 3070], dtype=uint16),\n",
       " array([2462, 2646, 2689, 2702, 2693, 2616, 2465, 2608, 2658, 2605, 2742,\n",
       "        2638, 2444, 2727, 2630, 2628, 2656, 2643, 2588, 2449, 2420, 2371,\n",
       "        2725, 2514, 2621, 2543, 2498, 2499, 2635, 2591, 2939, 2636, 2537,\n",
       "        2677, 2942, 2396, 2634, 2451, 2607, 2410, 2717, 2752, 2396, 2842,\n",
       "        2992, 2628, 2922, 2683, 2702, 2437, 2890, 3046, 2641, 2708, 3052,\n",
       "        2817, 2857, 2739, 2865, 2342, 2980, 2650, 2557, 2593, 2504, 2924,\n",
       "        2460, 2825, 2867, 2626, 2865, 2376, 2811, 2582, 2382, 2552, 2375,\n",
       "        2468, 2611, 2380, 2665, 2469, 2356, 2864, 2527, 2803, 2464, 2920,\n",
       "        2499, 3083, 2675, 2902, 2431, 2703, 2647, 2483, 2956, 2685, 2466,\n",
       "        2735, 2788, 2901, 2461, 2618, 2527, 2727, 2812, 2708, 2886, 2486,\n",
       "        2688, 2646, 2432, 2603, 3166, 2794, 2982, 2924, 3127, 2899, 2797,\n",
       "        2901, 2826, 2637, 2640, 2876, 2880, 2922, 2923, 2809, 3114, 2894,\n",
       "        3079, 2788, 2891, 2418, 2106, 2552, 2189, 2916, 3061, 2785, 2594,\n",
       "        2460, 2619, 2574, 2979, 2741, 2926, 2502, 2757, 2583, 2894, 2771,\n",
       "        2872, 2404, 2880, 2940, 3061, 2580, 3081, 2721, 2581, 2741, 3026,\n",
       "        2314, 2694, 2973, 2515, 2846, 2694, 2717, 2693, 2874, 2801, 2881,\n",
       "        2484, 2792, 2698, 2494, 2901, 2520, 2849, 2508, 2490, 2810, 2784,\n",
       "        2708, 2780, 2715, 2716, 2502, 2947, 2670, 2705, 2830, 2566, 2655,\n",
       "        2475, 2688, 2712, 2488, 2422, 2752, 2646, 2607, 2424, 2637, 2421,\n",
       "        2544, 2461, 2762, 2411, 2664, 2482, 2738, 2640, 2448, 2447, 2465,\n",
       "        2531, 2425, 2779, 2641, 2652, 2739, 2606, 2628, 2338, 2452, 2362,\n",
       "        2353, 2547, 2678, 2623, 2364, 2726, 2417, 2849, 2566, 2579, 2666,\n",
       "        2378, 2556, 2448, 2530, 2493, 2751, 2527, 2970, 2573, 2757, 2622,\n",
       "        2533, 2499, 2586, 2599, 2363, 2459, 2563, 2407, 2556, 2454, 2526,\n",
       "        2620, 2586, 2532, 2473, 2462, 2715, 2770, 2707, 2613, 2573, 2421,\n",
       "        2667, 2597, 2430, 2572, 2652, 2466, 2625, 2418, 2650, 2628, 2471,\n",
       "        2456, 2628, 2584, 2558, 2557, 2482, 2521, 2702, 2734, 2613, 2644,\n",
       "        2548, 2600, 2527, 2651, 2673, 2687, 2696, 2469, 2503, 2642, 2634,\n",
       "        2781, 2667, 2419, 2497, 2431, 2643, 2456, 2503, 2714, 2395, 2624,\n",
       "        2709, 2774, 2610, 2378, 2778, 2738, 2739, 2527, 2566, 2427, 2647,\n",
       "        2455, 2732, 2624, 2796, 2644, 2664, 2652, 2657, 2612, 2578, 2599,\n",
       "        2333, 2592, 2394, 2446, 2717, 2750, 2679, 2442, 2758, 2691, 2568,\n",
       "        2360, 2645, 2591, 2606, 2618, 2458, 2579, 2579, 2482, 2668, 2673,\n",
       "        2690, 2701, 2711], dtype=uint16),\n",
       " array([2521, 2530, 2573, 2621, 2525, 2724, 2742, 2661, 2722, 2687, 2775,\n",
       "        2906, 2473, 2606, 2750, 2745, 2780, 2351, 2825, 2896, 2463, 2942,\n",
       "        2614, 2593, 2919, 2575, 2948, 2692, 2810, 2329, 3132, 3015, 3180,\n",
       "        2573, 2344, 2687, 2319, 3216, 2266, 3733, 2875, 2369, 2948, 2440,\n",
       "        2708, 2601, 2592, 2298, 3122, 2674, 2663, 2785, 2490, 2996, 2696,\n",
       "        2812, 2770, 2692, 2621, 2883, 2511, 2921, 2921, 2932, 2617, 2897,\n",
       "        2387, 2444, 2437, 2941, 2582, 2306, 2598, 2326, 2739, 2590, 2664,\n",
       "        2325, 2412, 2451, 2998, 2427, 2324, 3069, 2617, 2463, 2439, 2770,\n",
       "        2612, 2876, 2734, 2584, 2707, 2627, 2505, 2488, 2742, 2687, 2640,\n",
       "        2810, 2461, 2720, 2592, 2874, 2681, 2343, 2316, 2768, 2796, 2697,\n",
       "        2770, 2491, 2766, 2713, 2646, 2791, 2613, 2563, 2669, 2829, 2770,\n",
       "        2860, 2693, 2833, 2992, 2833, 2774, 2625, 2698, 2736, 2670, 2562,\n",
       "        2874, 2454, 2537, 2678, 2837, 2844, 2887, 2773, 2587, 2707, 2412,\n",
       "        2659, 2637, 2671, 2882, 2350, 2340, 2592, 2759, 2902, 2706, 2754,\n",
       "        2721, 2707, 2795, 2765, 2840, 2802, 2919, 2664, 2407, 2441, 2946,\n",
       "        2517, 2893, 2716, 2489, 2359, 2560, 2738, 2788, 2493, 2625, 2645,\n",
       "        2596, 2690, 2542, 2648, 2624, 2617, 2423, 2597, 2628, 2706, 2644,\n",
       "        2734, 2733, 2628, 2716, 2667, 2385, 2767, 2625, 2757, 2417, 2451,\n",
       "        2485, 2520, 2396, 2650, 2498, 2441], dtype=uint16),\n",
       " array([2609, 3178, 3066, 2435, 2499, 2632, 2467, 3085, 2601, 2463, 2464,\n",
       "        3101, 2605, 2990, 3067, 2594, 3015, 2663, 2443, 2663, 2488, 2523,\n",
       "        2973, 2697, 2839, 2539, 3084, 2741, 2267, 2765, 2628, 2597, 3018,\n",
       "        2673, 2451, 2163, 2370, 2525, 2496, 2471, 2365, 2236, 2531, 2368,\n",
       "        2621, 2640, 2407, 2931, 2445, 2480, 2270, 2599, 2725, 2130, 2439,\n",
       "        2364, 2792, 2748, 2729, 2760, 2294, 2320, 2724, 2341, 2822, 2890,\n",
       "        2384, 2769, 2455, 2906, 2939, 2984, 2440, 3028, 2628, 2944, 2946,\n",
       "        2812, 2411, 2695, 2686, 2337, 2730, 2969, 2942, 2726, 2692, 2787,\n",
       "        2310, 2676, 2755, 2707, 2927, 2802, 2370, 2909, 2574, 2507, 2306,\n",
       "        2560, 2310, 2318, 2951, 2666, 2298, 2369, 2681, 2526, 2526, 2613,\n",
       "        2502, 2273, 2632, 2541, 2524, 2593, 2884, 2618, 2865, 2618, 2268,\n",
       "        2405, 2267, 2642, 2255, 2566, 2305, 2547, 2616, 2693, 2653, 2898,\n",
       "        2273, 2280, 2880, 2694, 2695, 2302, 2694, 2548, 2520, 2655, 2801,\n",
       "        2466, 2625, 2802, 2760, 2822, 2685, 2488, 2885, 2625, 3017, 3004,\n",
       "        2363, 2550, 2318, 2498, 2853, 2458, 2786, 2403, 2588, 2604, 2514,\n",
       "        2583, 2581, 2291, 2517, 2344, 2695, 2652, 2629, 2376, 2665, 2878,\n",
       "        2562, 2589, 2442, 3059, 2678, 2514, 2559, 2355, 2723, 2725, 2606,\n",
       "        2635, 2326, 2474, 2645, 2682, 2498, 2498, 2352, 2682, 2872, 2578,\n",
       "        2538, 2482, 2611, 2627, 2355, 2312, 2510, 2550, 2382, 2687, 2583,\n",
       "        2381, 2591, 2583, 2749, 2299, 2377, 2314, 2580, 2830, 2774, 2356,\n",
       "        2594, 2594, 2661, 2684, 2739, 2680, 2516, 2799, 2484, 2738, 2370,\n",
       "        2575, 2589, 2653, 2617, 2658, 2649, 2620, 2540, 2652, 2568, 2863,\n",
       "        2599, 2942, 2645, 2459, 2794, 2715, 2384, 2730, 2699, 2861, 2693,\n",
       "        2668, 2326, 2722, 2434, 2636, 2589, 2599, 2479, 2716, 2611, 2752,\n",
       "        2379, 2771, 2803, 2582, 2544, 2618, 2728, 2793, 2871, 2406, 2613,\n",
       "        2671, 2659, 2549, 2605, 2734, 2627, 2700, 2785, 2826, 2628, 2578,\n",
       "        2806, 2633, 2566, 2622, 2481, 2623, 2257, 2484, 2793, 2721, 2807,\n",
       "        2584, 2581, 2634, 2517, 2396, 2561, 2896, 2803, 2500, 2486, 2776,\n",
       "        2749, 2488, 2725, 2493, 2483, 2331, 2333, 2674, 2511, 2402, 2634,\n",
       "        2587, 2570, 2826, 2847, 2415, 2662, 2496, 2794, 2491, 2825, 2317,\n",
       "        2773, 2331, 2342, 2514, 2558, 2729, 2724, 2345, 2481, 2739, 2520,\n",
       "        2630, 2518, 2792, 2806, 2775, 2871, 2699, 2601, 2671, 2544, 2784,\n",
       "        2705, 2391, 2756, 2420, 2549, 2742, 2676, 2811, 2471, 2552, 2739,\n",
       "        2751, 2564, 2499, 2550, 2754, 2567, 2747, 2711, 2534, 2594, 2655,\n",
       "        2703, 2864, 2636, 2478, 2561, 2617, 2360, 2816, 2465, 2793, 2527,\n",
       "        2567, 2673, 2567, 2538, 2866, 2692, 2669, 2494, 2566, 2333, 2817,\n",
       "        2720, 2665, 2946, 2493, 2470, 2629, 2446, 2354, 2834, 2832, 2529,\n",
       "        2496, 2468, 2567, 2376, 2622, 2793, 2578, 2608, 2627, 2677, 2437,\n",
       "        2581, 2520, 2457, 2421, 2395, 2413, 2758, 2507, 2753, 2768, 2632,\n",
       "        2671, 2745, 2636, 2646, 2941, 2537, 2593, 2509, 2908, 2604, 2670,\n",
       "        2199, 2327, 2777, 2631, 3027, 2417, 2562, 2313, 2431, 2278, 2700,\n",
       "        2736, 2046, 2489, 2649, 2813, 1978, 2649, 2717, 2533, 2734, 2305,\n",
       "        2574, 2643, 2808, 2437, 2530, 2394, 2581, 2632, 2963, 2589, 2530,\n",
       "        2578, 2466, 2535, 2506, 2477, 2717, 2735, 2769, 2622, 2685, 2710,\n",
       "        2526, 2918, 2370, 2411, 2495, 2351, 2497, 2737, 2628, 2607, 2640,\n",
       "        2818, 2764, 2448, 2359, 2730, 2493, 2847, 2628, 2685, 2805, 2465,\n",
       "        2668, 2523, 2729, 2680, 2735, 2463, 2488, 2481, 2398, 2564, 2411,\n",
       "        2576, 2749, 2623, 2681, 2513, 2563, 2527, 1620, 1478, 2415, 2161,\n",
       "        2688, 2636, 2459, 2485, 2315], dtype=uint16),\n",
       " array([ 580, 2390, 2270, 2876, 2236, 2434, 2162, 2428, 2811, 2853, 2242,\n",
       "        2460, 2536, 2536, 2430, 2398, 2157, 2331, 2112, 2389, 2340, 2081,\n",
       "        2246, 2285, 2069, 2057, 2242, 2278, 2392, 2578, 2518, 2292, 2398,\n",
       "        2384, 2340, 2436, 2699, 2513, 2650, 2351, 2391, 2482, 2193, 2618,\n",
       "        2329, 2511, 2451, 2289, 2613, 2590, 2418, 2490, 2509, 2516, 2310,\n",
       "        2446, 2404, 2551, 2463, 2347, 2337, 2651, 2599, 2605, 2352, 2550,\n",
       "        2494, 2289, 2394, 2378, 2333, 2638, 2528, 2582, 2365, 2365, 2367,\n",
       "        2293, 2511, 2636, 2527, 2359, 2264, 2347, 2483, 2601, 2301, 2489,\n",
       "        2534, 2400, 2572, 2322, 2346, 2534, 2304, 2288, 2537, 2594, 2286,\n",
       "        2228, 2230, 2287, 2545, 2585, 2573, 2505, 2513, 2561, 2404, 2616,\n",
       "        2532, 2347, 2318, 2429, 2747, 2354, 2327, 2773, 2246, 2427, 2388,\n",
       "        2211, 2680, 2427, 2407, 2648, 2319, 2669, 2425, 2363, 2296, 2494,\n",
       "        2485, 2704, 2337, 2264, 2396, 2395, 2677, 2586, 2527, 2728, 2460,\n",
       "        2485, 2540, 2500, 3497, 2414, 2421, 2258, 2344, 2612, 2339, 2278,\n",
       "        2579, 2327, 2357, 2401, 2495, 2530, 2532, 2559, 2541, 2327, 2449,\n",
       "        2544, 2457, 2313, 2543, 2244, 2273, 2321, 2371, 2497, 2399, 2346,\n",
       "        2250, 2284, 2617, 2711, 2360, 2487, 2489, 2532, 2236, 2278, 2163,\n",
       "        2473, 2549, 2305, 2302, 2616, 2621, 2332, 2323, 2444, 2595, 2206,\n",
       "        2536, 2589, 2521, 2593, 2355, 2508, 2443, 2478, 2534, 2626, 2171,\n",
       "        2324, 2135, 2215, 2494, 2446, 2356, 2300, 2251, 2456, 2523, 2563,\n",
       "        2561, 2156, 2697, 2503, 2511, 2215, 2460, 2482, 2362, 2305, 2546,\n",
       "        2326, 2355, 2454, 2269, 2151, 2464, 2539, 2187, 2307, 2539, 2446,\n",
       "        2322, 2271, 2341, 2536, 2491, 2250, 2282, 2474, 2360, 2434, 2633,\n",
       "        2527, 2524, 2393, 2305, 2283, 2642, 2640, 2420, 2413, 2488, 2385,\n",
       "        2440, 2182, 2550, 2582, 2665, 2363, 2467, 2345, 2259, 2376, 2456,\n",
       "        2677, 2515, 2466, 2396, 2299, 2349, 2218, 2267, 2261, 2578, 2636,\n",
       "        2488, 2520, 2567, 2236, 2528, 2556, 2332, 2591, 2662, 2396, 2305,\n",
       "        2349, 2516, 2359, 2248, 2329, 2567, 2512, 2572, 2591, 2392, 2459,\n",
       "        2250, 2421, 2262, 2277, 2315, 2411, 2511, 2558, 2526, 2402, 2395,\n",
       "        2340, 2250, 2250, 2420, 2361, 2603, 2483, 2351, 2535, 2346, 2652,\n",
       "        2522, 2528, 2257, 2448, 2701, 2238, 2308, 2536, 2599, 2358, 2425,\n",
       "        2332, 2424, 2296, 2414, 2530, 2270, 2607, 2574, 2348, 2226, 2061,\n",
       "        2338, 2500, 2269, 2500, 2157, 2573, 2556, 2659, 2186, 2291, 2425,\n",
       "        2511, 2341, 2360, 2278, 2356, 2334, 2573, 2833, 2490, 2509, 2468,\n",
       "        2310, 2976, 2521, 2343, 2523, 2497, 2603, 2381, 2537, 2361, 2608,\n",
       "        2567, 2557, 2506, 2572, 2577, 2460, 2269, 2704, 2265, 2644, 2600,\n",
       "        2506, 2530, 2275, 2598, 2419, 2498, 2350, 2562, 2319, 2617, 2461,\n",
       "        2468, 2414, 2351, 2471, 2664, 2561, 2416, 2447, 2676, 2475, 2535,\n",
       "        2399, 2473, 2361, 2760, 2219, 2460, 2438, 2375, 2835, 2254, 2501,\n",
       "        2143, 2455, 2703, 2545, 2371, 2709, 2678, 2500, 2300, 2251, 2333,\n",
       "        2361, 2460, 2274, 2717, 2327, 2580, 2285, 2417, 2384, 2474, 2381,\n",
       "        2284, 2424, 2627, 2236, 2529, 2481, 2285, 2697, 2379, 2484, 2489,\n",
       "        2481, 2599, 2792, 2382, 2476, 2379, 2451, 2756, 2662, 2472, 2370,\n",
       "        2249, 2138, 2308, 2475, 2664, 2342, 2528, 2641, 2454, 2423, 2254,\n",
       "        2294, 2528, 2446, 2564, 2582, 2584, 2400, 2209, 2362, 2189, 2358,\n",
       "        2246, 2202, 2450, 2202, 2593, 2524, 2422, 2727, 2345, 2388, 2397,\n",
       "        2442, 2500, 2433, 2518, 2301, 2471, 2307, 2459, 2501, 2521, 2336,\n",
       "        2265, 2305, 2474, 2442, 2352, 2538, 2570, 2238, 2496, 2437, 2452,\n",
       "        2293, 2232, 2171, 2552, 2178, 2381, 2205, 2318, 2407, 2175, 2355,\n",
       "        2542, 2270, 2530, 2530, 2524, 2244, 2395, 2354, 2310, 2378, 2354,\n",
       "        2346, 2283, 2232, 2249, 2381, 2279, 2469, 2398, 2269, 2476, 2476,\n",
       "        2285, 2258, 2201, 2449, 2425, 2406, 2455, 2233, 2493, 2194, 2459,\n",
       "        2611, 2260, 2457, 2416, 2390, 2547, 2356, 2225, 2517, 2250, 2439,\n",
       "        2235, 2316, 2215, 2170, 2420, 2208, 2324, 2626, 2394, 2331, 2331,\n",
       "        2236, 2239, 2401, 2456, 2505, 2324, 2377, 2380, 2177, 2690, 2371,\n",
       "        2472, 2403, 2438, 2386, 2484, 2547], dtype=uint16),\n",
       " array([2673, 2698, 2705, 2674, 3161, 2719, 2815, 2689, 2694, 2680, 2773,\n",
       "        2995, 2970, 2771, 2956, 2745, 3100, 3065, 3058, 2761, 2908, 3224,\n",
       "        3019, 3249, 3289, 3328, 3207, 3210, 3064, 3172, 3134, 2748, 3162,\n",
       "        3181, 3128, 3190, 2707, 2985, 3206, 3082, 3205, 2970, 3181, 3352,\n",
       "        3102, 3001, 3139, 3017, 3243, 3224, 3131, 2906, 3173, 2986, 3278,\n",
       "        3077, 3050, 3275, 3364, 3259, 3140, 3229, 3151, 3067, 2992, 3454,\n",
       "        3207, 2924, 3192, 3007, 3340, 3061, 2857, 3373, 3322, 2946, 3224,\n",
       "        3168, 3130, 3220, 2884, 3025, 2972, 2890, 3259, 3278, 2848, 3017,\n",
       "        2798, 2790, 2864, 3088, 2990, 2985, 3161, 3169, 3315, 2988, 3726,\n",
       "        3181, 3627, 3117, 2892, 3555, 3047, 3076, 2978, 3179, 2960, 3009,\n",
       "        3451, 2983, 3063, 2793, 3180, 2966, 3096, 3112, 3465, 3116, 3029,\n",
       "        3058, 3058, 3036, 3099, 3425, 2999, 3155, 3370, 2969, 3078, 2967,\n",
       "        3370, 2976, 2797, 3196, 3247, 3028, 3021, 3230, 3204, 3120, 3274,\n",
       "        2982, 2942, 2947, 3324, 3020, 2869, 3159, 3232, 3057, 2849, 3347,\n",
       "        3166, 3248, 3164, 2883, 3033, 3035, 3065, 2960, 2978, 3329, 2848,\n",
       "        3257, 3015, 2893, 3208, 3221, 2887, 2939, 3177, 3165, 3029, 3166,\n",
       "        3152, 3211, 3109, 3050, 2871, 3052, 3286, 2936, 2963, 2863, 3024,\n",
       "        2788, 3163, 3311, 3130, 2895, 3193, 3133, 3200, 3221, 3181, 3145,\n",
       "        2934, 3153, 2924, 3071, 3197, 3076, 3075, 3154, 3076, 2914, 2737,\n",
       "        3188, 2953, 3121, 2826, 3061, 3094, 2862, 2768, 2790, 2804, 3138,\n",
       "        2977, 3036, 3014, 3041, 2846, 2828, 2924, 3013, 2919, 2865, 2901,\n",
       "        3191, 3107, 2866], dtype=uint16),\n",
       " array([2143, 2066, 2066, 2575, 2448, 2562, 2159, 2129, 2552, 2473, 2105,\n",
       "        2458, 2172, 1977, 1810, 1810, 2819, 2843, 2914, 1816, 3181, 2589,\n",
       "        2589, 2730, 2846, 2734, 2857, 2427, 2730, 2420, 2843, 2453, 2789,\n",
       "        2468, 2926, 2647, 2596, 2612, 2841, 2728, 2433, 2602, 2641, 2449,\n",
       "        2993, 2810, 2554, 2575, 2987, 2503, 2808, 2908, 2723, 2643, 2604,\n",
       "        2693, 2801, 2526, 2934, 2650, 2933, 2716, 2953, 2992, 2894, 2953,\n",
       "        2680, 2736, 2793, 2757, 2770, 2801, 2651, 2782, 2952, 2622, 2684,\n",
       "        2809, 2620, 2746, 2786, 2735, 2909, 2602, 2824, 2936, 2528, 2967,\n",
       "        2604, 2424, 2769, 2687, 2508, 2901, 3053, 2768, 2774, 2814, 2383,\n",
       "        2771, 2763, 2789, 2656, 2913, 2849, 2449, 2818, 2491, 2632, 2663,\n",
       "        2650, 2650, 2431, 2480, 2450, 2722, 2465, 2466, 2889, 2903, 2881,\n",
       "        2798, 2761, 2416, 2675, 2703, 2727, 2466, 2450, 2698, 2932, 2932,\n",
       "        2425, 2498, 2862, 2557, 2791, 2630, 2965, 2565, 2555, 2794, 2591,\n",
       "        2685, 2553, 3009, 2556, 2488, 2833, 2907, 2743, 2638, 2354, 2655,\n",
       "        2863, 2715, 2989, 2862, 2725, 2737, 2963, 2751, 2988, 2662, 3034,\n",
       "        2691, 2724, 2662, 2488, 2446, 2828, 2776, 2947, 2826, 2823, 2614,\n",
       "        2769, 2444, 3950, 2602, 2500, 2815, 2808, 2738, 2474, 2539, 2717,\n",
       "        2829, 2818, 2645, 2610, 2476, 3029, 2444, 2842, 2612, 2398, 2479,\n",
       "        2760, 2773, 2619, 2421, 2630, 2662, 2602, 2885, 2673, 2372, 2702,\n",
       "        2752, 2883, 2664, 2552, 2583, 2589, 2810, 3031, 2453, 2746, 2653,\n",
       "        2401, 2968, 2660, 2612, 2601, 2478, 2718, 2693, 2739, 2473, 3018,\n",
       "        2828, 2688, 3079, 2808, 2823, 2942, 2815, 2523, 2824, 2992, 2680,\n",
       "        2572, 2682, 2513, 2703, 2506, 2531, 2715, 2488, 2809, 2714, 2411,\n",
       "        2506, 2660, 2532, 2770, 2803, 2711, 2950, 2702, 2676, 2502, 2693,\n",
       "        2525, 2649, 2747, 2885, 2645, 3066, 2691, 2819, 2943, 2514, 2893,\n",
       "        2676, 2707, 2715, 2878, 2612, 2533, 2729, 2492, 2432, 2573, 2651,\n",
       "        2773, 2761, 2453, 2461, 2699, 2659, 2657, 2702, 2557, 2556, 2556,\n",
       "        2546, 2551, 2584, 2366, 2442, 1932, 2762, 2531, 2805, 2512],\n",
       "       dtype=uint16),\n",
       " array([1231, 2458, 2444, 2453, 2609, 2432, 2299, 2450, 2449, 2668, 2715,\n",
       "        2687, 2667, 2511, 2664, 2642, 2583, 2626, 2525, 2497, 2706, 2662,\n",
       "        2603, 2798, 2462, 2631, 2826, 2534, 2529, 2728, 2544, 2536, 2704,\n",
       "        2668, 2694, 2756, 2585, 2543, 2609, 2554, 2559, 2491, 2484, 2564,\n",
       "        2963, 2660, 2996, 2706, 2738, 2654, 2466, 2575, 2712, 2534, 2606,\n",
       "        2564, 2531, 2474, 2821, 2755, 2761, 2657, 2746, 3013, 2565, 2491,\n",
       "        2682, 2777, 2669, 2706, 2595, 2750, 2594, 2477, 2701, 2597, 2444,\n",
       "        2522, 2732, 2742, 2493, 2470, 2634, 2474, 2492, 2568, 2797, 2886,\n",
       "        2547, 2616, 2643, 2645, 2915, 2881, 2552, 2745, 2876, 2651, 2741,\n",
       "        2904, 2512, 2792, 2841, 2526, 2872, 2781, 2585, 2988, 2738, 2786,\n",
       "        2618, 2666, 2921, 2859, 2547, 2572, 2788, 2556, 2578, 2715, 2983,\n",
       "        2516, 2775, 2704, 2620, 2676, 2837, 2614, 2578, 3012, 2629, 2530,\n",
       "        2572, 2673, 2987, 2616, 3156, 2928, 2719, 2667, 2796, 2704, 2537,\n",
       "        2960, 2625, 2902, 2783, 2745, 2893, 2778, 2597, 2943, 2925, 2585,\n",
       "        2585, 2529, 2815, 2833, 2552, 2546, 2790, 2618, 2782, 2662, 2651,\n",
       "        2883, 2923, 2870, 2440, 2706, 2677, 2733, 2716, 2764, 2505, 2547,\n",
       "        2616, 2689, 2831, 2512, 2612, 2549, 2647, 2537, 2585, 2626, 2647,\n",
       "        2921, 2759, 2721, 2519, 2996, 2515, 2806, 2610, 2716, 2574, 2752,\n",
       "        2605, 2930, 2532, 2616, 2840, 2540, 2723, 2478, 2532, 2465, 2694,\n",
       "        2775, 2644, 2645, 2622, 2599, 2642, 2419, 2830, 2633, 2837, 2424,\n",
       "        2656, 2472, 2511, 2828, 2729, 2772, 2697, 2565, 2818, 2562, 2563,\n",
       "        2921, 2702, 2870, 2529, 2562, 2815, 2729, 2602, 2502, 2423, 2553,\n",
       "        2655, 2640, 2503, 2855, 2581, 2903, 2808, 2673, 2628, 2712, 2696,\n",
       "        2612, 2649, 2519, 2606, 2501, 2794, 2582, 2777, 2667, 2901, 2392,\n",
       "        2725, 2666, 2547, 2574, 2730, 2696, 2453, 2581, 2780, 2768, 2724,\n",
       "        2543, 2608, 2707, 2615, 2803, 2719, 2787, 2453, 2536, 2442, 2651,\n",
       "        2765, 2736, 2725, 2639, 2531, 2724, 2540, 2706, 2790, 2757, 2642,\n",
       "        2493, 2784, 2481, 2623, 2501, 2732, 2515, 2532, 2756, 2734, 2694,\n",
       "        2491, 2749, 2569, 2712, 2592, 2820, 2724, 2481, 2717, 2522, 2678,\n",
       "        2567, 2517, 2763, 2720, 2730, 2786, 2630, 2595, 2740, 2827, 2513,\n",
       "        2576, 2737, 2668, 2450, 2713, 2810, 2714, 2668, 2608, 2678, 2607,\n",
       "        2551, 2815, 2718, 2577, 2701, 2625, 2516, 2529, 2784, 2753, 2540,\n",
       "        2758, 2756, 2545, 2554, 2615, 2760, 2563, 2859, 2698, 2861, 2858,\n",
       "        2758, 2728, 2784, 2885, 2768, 2736, 2522, 2753, 2585, 2732, 2652,\n",
       "        3047, 2652, 2481, 2837, 2589, 2714, 2460, 2500, 2879, 2846, 2631,\n",
       "        2642, 2732, 2550, 2607, 2731, 2854, 2534, 2629, 2713, 2666, 2642,\n",
       "        2828, 2485, 2709, 2681, 2665, 2701, 2575, 2815, 2463, 2335, 2563,\n",
       "        2614, 2662, 2572, 2685, 2531, 2595, 2637, 2460, 2794, 2859, 2778,\n",
       "        2723, 2668, 2704, 2675, 2755, 2785, 2791, 2507, 2621, 2565, 2458,\n",
       "        2617, 2615, 2905, 2780, 2644, 2657, 2842, 2856, 2764, 2609, 2771,\n",
       "        2703, 2390, 2639, 2784, 2570, 2782, 2556, 2837, 2396, 2716, 2546,\n",
       "        2590, 2602, 2506, 2806, 2791, 2398, 2691, 2611, 2795, 2531, 2641,\n",
       "        2585, 2562, 2431, 2696, 2581, 2446, 2522, 2972, 2817, 2769, 3022,\n",
       "        2031, 2604, 2737, 2622, 2576, 2528, 2802, 2684, 2916, 2790, 2795,\n",
       "        2599, 2577, 2814, 2970, 2782, 2618, 2560, 2612, 2558, 2553, 2450,\n",
       "        2679, 2727, 2669, 2567, 2729, 2640, 2772, 2604, 2423, 2784, 2781,\n",
       "        2749, 2442, 2636, 2982, 2796, 2483, 2788, 2563, 2617, 2600, 2789,\n",
       "        2810, 2795, 2496, 2894, 2734, 2514, 2841, 2834, 2493, 2748, 3041,\n",
       "        2623, 2497, 2774, 2569, 2862, 2793, 2840, 2843, 2620, 2762, 2841,\n",
       "        2776, 2904, 2661, 2749, 2766, 2593, 2884, 2821, 2630, 2669, 2726,\n",
       "        2634, 2804, 2551, 2646, 2749, 2813, 2732, 2759, 2547, 2825, 2656,\n",
       "        2488, 2667, 2815, 2781, 2855, 2615, 2807, 2694, 3079, 2669, 2722,\n",
       "        2758, 2733, 2945, 2789, 2706, 2544, 2739, 2746, 2664, 2623, 2616,\n",
       "        2787, 2705, 2609, 2665, 2913, 2589, 2579, 2927, 2784, 2889, 2846,\n",
       "        2806, 3046, 2605, 2791, 2815, 2781, 2791, 3089, 2684, 2647, 2550,\n",
       "        2568, 2849, 2708, 2635, 2708, 2616, 2557, 2820, 2590, 2843, 2607,\n",
       "        2646, 2767, 2824, 2549, 2825, 3032, 3056, 2753, 2590, 2944, 3141,\n",
       "        3100, 2499, 2844, 2775, 2832, 2907, 2709, 2684, 3025, 2764, 2814,\n",
       "        3042, 2533, 2856, 2826, 2746, 2833, 2668, 2716, 2602, 2942, 2674,\n",
       "        2905, 2667, 2617, 2933, 2640, 2734, 2844, 2817, 2820, 2513, 2575,\n",
       "        2584, 2509, 2672, 2647, 2747, 2697, 2976, 2789, 2628, 2969, 2671,\n",
       "        2671, 2612, 3053, 2685, 3004, 2717, 2931, 2692, 2629, 2693, 2572,\n",
       "        2641, 2530, 2526, 2949, 2540, 2591, 2628, 2688, 2917, 2715, 2529,\n",
       "        2702, 2563, 2719, 2604, 2905, 2606, 2726, 2475, 2665, 2462, 2758,\n",
       "        2746, 2693, 2711, 2482, 2558, 2597, 2812, 2670, 2772, 2588, 2600,\n",
       "        2688, 2587, 2542, 2705, 2629, 2704, 2559, 2714, 2699, 2532, 2677,\n",
       "        2422, 2817, 2737, 2640, 2640, 2444, 2545, 2703, 2655, 2581, 2488,\n",
       "        2728, 2612, 2537, 2561, 2512, 2547, 2610, 2542, 2491, 2601],\n",
       "       dtype=uint16),\n",
       " array([2551, 2408, 2420, 2184, 2617, 2365, 2345, 2430, 2306, 2401, 2714,\n",
       "        2790, 2321, 2409, 2423, 2730, 2804, 2443, 3078, 2280, 2759, 2670,\n",
       "        2514, 2391, 2346, 2218, 3285, 2361, 2546, 2208, 2362, 2356, 2500,\n",
       "        2616, 2475, 2238, 2390, 2289, 2471, 2260, 2284, 2519, 2503, 2512,\n",
       "        2190, 2341, 2410, 2391, 2479, 2516, 2496, 2366, 2658, 2542, 2208,\n",
       "        2391, 2438, 2346, 2413, 2423, 2465, 2265, 2157, 2392, 2546, 2587,\n",
       "        2449, 2225, 2407, 2162, 2352, 2324, 2375, 2526, 2330, 2287, 2198,\n",
       "        2301, 2551, 2155, 2546, 2298, 2222, 2501, 2391, 2289, 2194, 2089,\n",
       "        2188, 2374, 2540, 2237, 2313, 2203, 2329, 2214, 2520, 2326, 2598,\n",
       "        2223, 2377, 2568, 2630, 2139, 2324, 2244, 2299, 2434, 2280, 2433,\n",
       "        2597, 2538, 2375, 2664, 2298, 2211, 2528, 2519, 2457, 2335, 2588,\n",
       "        2600, 2630, 2663, 2346, 2657, 2378, 2528, 2181, 2567, 2541, 2573,\n",
       "        2726, 2513, 2566, 3038, 2764, 2529, 2420, 2978, 2697, 2255, 2403,\n",
       "        2421, 2231, 2561, 2658, 2454, 2609, 2669, 2457, 2167, 2434, 2498,\n",
       "        2502, 2497, 2145, 2482, 2562, 2360, 2670, 2206, 2555, 2466, 2173,\n",
       "        2493, 2146, 2275, 2377, 2528, 2480, 2170, 2245, 2799, 2404, 2579,\n",
       "        2380, 2396, 2186, 2173, 2404, 2470, 2372, 2424, 2109, 2097, 2364,\n",
       "        2255, 2406, 2464, 2154, 2276, 2370, 2250, 2177, 2634, 2216, 2824,\n",
       "        2500, 2917, 2468, 2978, 2487, 2243, 2776, 2799, 2288, 2228, 2652,\n",
       "        2306, 2387, 2579, 2180, 2157, 2349, 2541, 2740, 2374, 2199, 2369,\n",
       "        2076, 2517, 2594, 2435, 2218, 2455, 2648, 2517, 2103, 2471, 2406,\n",
       "        2555, 2138, 2433, 2317, 2256, 2202, 2278, 2392, 2212, 2290, 2443,\n",
       "        2388, 2109, 2166, 2350, 2485, 2240, 2554, 2427, 2335, 2129, 2244,\n",
       "        2291, 2506, 2256, 2432, 2097, 2137, 2369, 2135, 2378, 2166, 2287,\n",
       "        2329, 2194, 2266, 2377, 2186, 2344, 2270, 2362, 2421, 2422, 2144,\n",
       "        2149, 2196, 2315, 2351, 2153, 2199, 2382, 2094, 2321, 2401, 2388,\n",
       "        2362, 2238, 2382, 2367, 2421, 2259, 2525, 2410, 2453, 2191, 2463,\n",
       "        2456, 2246, 2433, 2151, 2204, 2470, 2450, 2515, 2225, 2247, 2329,\n",
       "        2490, 2199, 2525, 2368, 2563, 2454, 2437], dtype=uint16),\n",
       " array([1662, 1623, 3174, 2960, 2551, 2554, 2799, 2489, 2799, 2419, 2377,\n",
       "        2354, 2703, 2718, 2445, 2454, 2454, 2460, 2402, 2548, 2656, 2717,\n",
       "        2400, 2388, 2487, 2339, 2321, 2331, 2984, 2390, 2587, 3092, 2352,\n",
       "        2754, 2341, 2609, 2562, 2257, 2373, 2563, 2734, 2440, 2714, 2369,\n",
       "        2731, 2695, 2596, 2481, 2654, 2464, 2755, 2616, 2749, 2606, 2377,\n",
       "        2620, 2584, 2521, 2577, 2343, 2737, 2587, 2587, 2355, 2629, 2669,\n",
       "        2720, 2367, 2721, 2407, 2372, 2785, 2738, 2596, 2617, 2742, 2376,\n",
       "        2645, 2327, 2414, 2391, 2790, 2628, 2684, 2389, 2826, 2473, 2409,\n",
       "        2409, 2371, 2628, 2394, 2687, 2697, 2774, 2305, 2270, 2314, 2287,\n",
       "        2695, 2546, 2652, 2501, 2613, 2628, 2360, 2709, 2390, 2533, 2385,\n",
       "        2637, 2511, 2445, 2840, 2887, 2948, 2565, 2699, 2645, 2675, 2352,\n",
       "        2793, 2399, 2644, 2672, 2426, 2403, 2599, 2516, 2757, 2370, 2504,\n",
       "        2662, 2393, 2679, 2444, 2605, 2554, 2630, 2810, 2321, 2540, 2350,\n",
       "        2743, 2718, 2400, 2359, 2543, 2729, 2565, 2220, 2659, 2253, 2333,\n",
       "        2519, 2387, 2336, 2477, 2682, 2619, 2416, 2548, 2489, 2600, 2392,\n",
       "        2570, 2414, 2743, 2722, 2525, 2644, 2593, 2440, 2654, 2678, 2610,\n",
       "        2613, 2379, 2308, 2363, 2368, 2537, 2537, 2404, 2563, 2409, 2610,\n",
       "        2513, 2435, 2655, 2559, 2371, 2345, 2664, 2616, 2537, 2379, 2694,\n",
       "        2672, 2666, 2612, 2293, 2322, 2347, 2407, 2382, 2335, 2645, 2380,\n",
       "        2344, 2373, 2606, 2583, 2467], dtype=uint16)]"
      ]
     },
     "execution_count": 63,
     "metadata": {},
     "output_type": "execute_result"
    }
   ],
   "source": [
    "keypoints"
   ]
  },
  {
   "cell_type": "code",
   "execution_count": null,
   "id": "f9e1c87f",
   "metadata": {},
   "outputs": [],
   "source": []
  }
 ],
 "metadata": {
  "kernelspec": {
   "display_name": "Python 3 (ipykernel)",
   "language": "python",
   "name": "python3"
  },
  "language_info": {
   "codemirror_mode": {
    "name": "ipython",
    "version": 3
   },
   "file_extension": ".py",
   "mimetype": "text/x-python",
   "name": "python",
   "nbconvert_exporter": "python",
   "pygments_lexer": "ipython3",
   "version": "3.9.7"
  }
 },
 "nbformat": 4,
 "nbformat_minor": 5
}
