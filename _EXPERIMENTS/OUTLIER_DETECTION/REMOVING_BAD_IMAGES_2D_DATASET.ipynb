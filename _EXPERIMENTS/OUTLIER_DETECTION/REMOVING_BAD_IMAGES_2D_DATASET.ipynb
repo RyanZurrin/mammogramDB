{
 "cells": [
  {
   "cell_type": "code",
   "execution_count": 12,
   "id": "f4cafa52",
   "metadata": {},
   "outputs": [
    {
     "name": "stdout",
     "output_type": "stream",
     "text": [
      "Populating the interactive namespace from numpy and matplotlib\n",
      "The autoreload extension is already loaded. To reload it, use:\n",
      "  %reload_ext autoreload\n"
     ]
    }
   ],
   "source": [
    "%pylab inline\n",
    "%load_ext autoreload\n",
    "%autoreload 2\n",
    "import sys\n",
    "sys.path.insert(0,'../..')\n",
    "import omama as O"
   ]
  },
  {
   "cell_type": "code",
   "execution_count": 2,
   "id": "01347546",
   "metadata": {},
   "outputs": [],
   "source": [
    "part1 = O.DataHelper.file_to_list(\"/raid/mpsych/cache_files/RERUN_MEGARUN/2023_03_14_20_52_45_hist_minmax.txt\")\n",
    "part2 = O.DataHelper.file_to_list(\"/raid/mpsych/cache_files/RERUN_MEGARUN/2023_03_14_20_52_51_hist_minmax.txt\")\n",
    "part3 = O.DataHelper.file_to_list(\"/raid/mpsych/cache_files/RERUN_MEGARUN/2023_03_15_02_32_26_hist_minmax.txt\")\n",
    "part4 = O.DataHelper.file_to_list(\"/raid/mpsych/cache_files/RERUN_MEGARUN/2023_03_15_02_32_41_hist_minmax.txt\")"
   ]
  },
  {
   "cell_type": "code",
   "execution_count": 5,
   "id": "86d7fd19",
   "metadata": {},
   "outputs": [
    {
     "name": "stdout",
     "output_type": "stream",
     "text": [
      "2071 2053 2058 1942\n"
     ]
    }
   ],
   "source": [
    "print(len(part1), len(part2), len(part3), len(part4))"
   ]
  },
  {
   "cell_type": "code",
   "execution_count": 11,
   "id": "e6384345",
   "metadata": {},
   "outputs": [
    {
     "data": {
      "text/plain": [
       "8124"
      ]
     },
     "execution_count": 11,
     "metadata": {},
     "output_type": "execute_result"
    }
   ],
   "source": [
    "sum([len(part1), len(part2), len(part3), len(part4)])"
   ]
  },
  {
   "cell_type": "code",
   "execution_count": 15,
   "id": "c47a5f2f",
   "metadata": {},
   "outputs": [],
   "source": [
    "old_part1 = O.DataHelper.file_to_list(\"/raid/mpsych/whitelists/partition_0.txt\")\n",
    "old_part2 = O.DataHelper.file_to_list(\"/raid/mpsych/whitelists/partition_1.txt\")\n",
    "old_part3 = O.DataHelper.file_to_list(\"/raid/mpsych/whitelists/partition_2.txt\")\n",
    "old_part4 = O.DataHelper.file_to_list(\"/raid/mpsych/whitelists/partition_3.txt\")"
   ]
  },
  {
   "cell_type": "code",
   "execution_count": 16,
   "id": "465cca07",
   "metadata": {},
   "outputs": [],
   "source": [
    "bad_images = set(part1+part2+part3+part4)"
   ]
  },
  {
   "cell_type": "code",
   "execution_count": 17,
   "id": "5dc8045f",
   "metadata": {},
   "outputs": [
    {
     "data": {
      "text/plain": [
       "8124"
      ]
     },
     "execution_count": 17,
     "metadata": {},
     "output_type": "execute_result"
    }
   ],
   "source": [
    "len(bad_images)"
   ]
  },
  {
   "cell_type": "code",
   "execution_count": 18,
   "id": "114198a5",
   "metadata": {},
   "outputs": [],
   "source": [
    "old_2d_images = set(old_part1 + old_part2 + old_part3 + old_part4)"
   ]
  },
  {
   "cell_type": "code",
   "execution_count": 19,
   "id": "0b91c247",
   "metadata": {},
   "outputs": [
    {
     "data": {
      "text/plain": [
       "176492"
      ]
     },
     "execution_count": 19,
     "metadata": {},
     "output_type": "execute_result"
    }
   ],
   "source": [
    "len(old_2d_images)"
   ]
  },
  {
   "cell_type": "code",
   "execution_count": 21,
   "id": "5b62eb09",
   "metadata": {},
   "outputs": [],
   "source": [
    "final = old_2d_images - bad_images"
   ]
  },
  {
   "cell_type": "code",
   "execution_count": 22,
   "id": "80d36ee8",
   "metadata": {},
   "outputs": [
    {
     "data": {
      "text/plain": [
       "168368"
      ]
     },
     "execution_count": 22,
     "metadata": {},
     "output_type": "execute_result"
    }
   ],
   "source": [
    "len(final)"
   ]
  },
  {
   "cell_type": "code",
   "execution_count": 23,
   "id": "ddbd4594",
   "metadata": {},
   "outputs": [
    {
     "data": {
      "text/plain": [
       "42092.0"
      ]
     },
     "execution_count": 23,
     "metadata": {},
     "output_type": "execute_result"
    }
   ],
   "source": [
    "168368/4"
   ]
  },
  {
   "cell_type": "code",
   "execution_count": 25,
   "id": "78344bd3",
   "metadata": {},
   "outputs": [
    {
     "data": {
      "text/plain": [
       "'/raid/mpsych/whitelists/2d_no_ml_bad_removed.txt'"
      ]
     },
     "execution_count": 25,
     "metadata": {},
     "output_type": "execute_result"
    }
   ],
   "source": [
    "O.DataHelper.list_to_caselist(list(final), \"/raid/mpsych/whitelists/2d_no_ml_bad_removed.txt\")"
   ]
  },
  {
   "cell_type": "code",
   "execution_count": 35,
   "id": "1b94c3f4",
   "metadata": {},
   "outputs": [
    {
     "name": "stdout",
     "output_type": "stream",
     "text": [
      "DataLoader type is:  <class 'omama.loaders.omama_loader.OmamaLoader'>\n",
      "load_studies             ...took     0.277948 seconds\n",
      "load_images              ...took     0.101613 seconds\n",
      "csv_to_map               ...took     0.203999 seconds\n",
      "load_pickle              ...took     0.412685 seconds\n",
      "generate_counts          ...took     0.181998 seconds\n",
      "generate_stats           ...took     0.216137 seconds\n",
      "total _init              ...took     1.402401 seconds\n",
      "total __init__           ...took     1.421288 seconds\n"
     ]
    }
   ],
   "source": [
    "ol = O.OmamaLoader(config_num=28)\n",
    "data_2d = O.Data(ol, load_cache=True, timing=True)"
   ]
  },
  {
   "cell_type": "code",
   "execution_count": 36,
   "id": "b83489b8",
   "metadata": {},
   "outputs": [
    {
     "name": "stdout",
     "output_type": "stream",
     "text": [
      "Data(namespace(dh_dh2=namespace(total=17, 3D=0, 2D=17),\n",
      "          dh_dh0new=namespace(total=288, 3D=0, 2D=288),\n",
      "          dh_dcm_ast=namespace(total=168063, 3D=0, 2D=168063),\n",
      "          total_all_dicoms=168368,\n",
      "          total_2d_all=168368,\n",
      "          total_3d_all=0,\n",
      "          total_2d_cancer=6048,\n",
      "          total_2d_preindex=1586,\n",
      "          total_2d_noncancer=160734,\n",
      "          total_3d_cancer=0,\n",
      "          total_3d_preindex=0,\n",
      "          total_3d_noncancer=0,\n",
      "          total_cancer=6048,\n",
      "          total_preindex=1586,\n",
      "          total_noncancer=160734,\n",
      "          total_no_label=0))\n"
     ]
    }
   ],
   "source": [
    "print(data_2d)"
   ]
  },
  {
   "cell_type": "code",
   "execution_count": 38,
   "id": "65f833a8",
   "metadata": {},
   "outputs": [
    {
     "name": "stdout",
     "output_type": "stream",
     "text": [
      "Saving partitioned paths to files in: /raid/mpsych/whitelists/\n"
     ]
    }
   ],
   "source": [
    "parts = data_2d.partition_data(4, save_directory=\"/raid/mpsych/whitelists/\" , file_name_prefix=\"no_ml\")"
   ]
  },
  {
   "cell_type": "code",
   "execution_count": null,
   "id": "7ce0459d",
   "metadata": {},
   "outputs": [],
   "source": []
  }
 ],
 "metadata": {
  "kernelspec": {
   "display_name": "Python 3 (ipykernel)",
   "language": "python",
   "name": "python3"
  },
  "language_info": {
   "codemirror_mode": {
    "name": "ipython",
    "version": 3
   },
   "file_extension": ".py",
   "mimetype": "text/x-python",
   "name": "python",
   "nbconvert_exporter": "python",
   "pygments_lexer": "ipython3",
   "version": "3.9.7"
  }
 },
 "nbformat": 4,
 "nbformat_minor": 5
}
