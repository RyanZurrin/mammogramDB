{
 "cells": [
  {
   "cell_type": "code",
   "execution_count": 1,
   "id": "67430de6",
   "metadata": {},
   "outputs": [
    {
     "name": "stdout",
     "output_type": "stream",
     "text": [
      "Populating the interactive namespace from numpy and matplotlib\n"
     ]
    }
   ],
   "source": [
    "%pylab inline"
   ]
  },
  {
   "cell_type": "code",
   "execution_count": 2,
   "id": "6725d8f9",
   "metadata": {},
   "outputs": [],
   "source": [
    "import sys\n",
    "sys.path.insert(0,'../..')\n",
    "import omama as O"
   ]
  },
  {
   "cell_type": "code",
   "execution_count": 3,
   "id": "321f5147",
   "metadata": {},
   "outputs": [],
   "source": [
    "odl = O.OutlierDetectorLite()"
   ]
  },
  {
   "cell_type": "code",
   "execution_count": 7,
   "id": "a13b1402",
   "metadata": {
    "scrolled": false
   },
   "outputs": [
    {
     "name": "stdout",
     "output_type": "stream",
     "text": [
      "IForest\n",
      "    roc_auc 0.6494565217391304 +/- 0.0\n",
      "    f1_score 0.33333333333333326 +/- 0.0\n",
      "    acc_score 0.88 +/- 0.0\n",
      "    jaccard_score 0.2 +/- 0.0\n",
      "    precision_score 0.3 +/- 0.0\n",
      "    average_precision 0.16249999999999998 +/- 0.0\n",
      "    recall_score 0.375 +/- 0.0\n",
      "    hamming_loss 0.12 +/- 0.0\n",
      "    log_loss 4.144709139209396 +/- 0.0\n",
      "    tn 85.0 +/- 0.0\n",
      "    fp 7.0 +/- 0.0\n",
      "    fn 5.0 +/- 0.0\n",
      "    tp 3.0 +/- 0.0\n"
     ]
    }
   ],
   "source": [
    "odl.print_results('/raid/mpsych/ODL/A_custom_1_153152.pkl')"
   ]
  },
  {
   "cell_type": "code",
   "execution_count": 8,
   "id": "1bc81694",
   "metadata": {},
   "outputs": [
    {
     "name": "stdout",
     "output_type": "stream",
     "text": [
      "IForest\n",
      "    roc_auc 0.6494565217391304 +/- 0.0\n",
      "    f1_score 0.33333333333333326 +/- 0.0\n",
      "    acc_score 0.88 +/- 0.0\n",
      "    jaccard_score 0.2 +/- 0.0\n",
      "    precision_score 0.3 +/- 0.0\n",
      "    average_precision 0.16249999999999998 +/- 0.0\n",
      "    recall_score 0.375 +/- 0.0\n",
      "    hamming_loss 0.12 +/- 0.0\n",
      "    log_loss 4.144709139209396 +/- 0.0\n",
      "    tn 85.0 +/- 0.0\n",
      "    fp 7.0 +/- 0.0\n",
      "    fn 5.0 +/- 0.0\n",
      "    tp 3.0 +/- 0.0\n"
     ]
    }
   ],
   "source": [
    "odl.print_results('/raid/mpsych/ODL/A_custom_1_153263.pkl')"
   ]
  },
  {
   "cell_type": "code",
   "execution_count": null,
   "id": "5691f042",
   "metadata": {},
   "outputs": [],
   "source": []
  }
 ],
 "metadata": {
  "kernelspec": {
   "display_name": "Python 3 (ipykernel)",
   "language": "python",
   "name": "python3"
  },
  "language_info": {
   "codemirror_mode": {
    "name": "ipython",
    "version": 3
   },
   "file_extension": ".py",
   "mimetype": "text/x-python",
   "name": "python",
   "nbconvert_exporter": "python",
   "pygments_lexer": "ipython3",
   "version": "3.9.7"
  }
 },
 "nbformat": 4,
 "nbformat_minor": 5
}
