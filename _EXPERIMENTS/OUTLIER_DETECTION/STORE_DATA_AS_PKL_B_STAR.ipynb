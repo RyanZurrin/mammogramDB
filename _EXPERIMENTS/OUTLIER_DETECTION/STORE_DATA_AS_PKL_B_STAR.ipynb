{
 "cells": [
  {
   "cell_type": "code",
   "execution_count": 1,
   "id": "85492d08",
   "metadata": {},
   "outputs": [
    {
     "name": "stdout",
     "output_type": "stream",
     "text": [
      "Populating the interactive namespace from numpy and matplotlib\n"
     ]
    }
   ],
   "source": [
    "%pylab inline"
   ]
  },
  {
   "cell_type": "code",
   "execution_count": 2,
   "id": "7f9716e0",
   "metadata": {},
   "outputs": [],
   "source": [
    "import sys\n",
    "sys.path.insert(0,'../..')"
   ]
  },
  {
   "cell_type": "code",
   "execution_count": 3,
   "id": "499d4a50",
   "metadata": {},
   "outputs": [],
   "source": [
    "import omama as O # importing the Omama package\n"
   ]
  },
  {
   "cell_type": "code",
   "execution_count": null,
   "id": "9f62a564",
   "metadata": {},
   "outputs": [],
   "source": []
  },
  {
   "cell_type": "code",
   "execution_count": 4,
   "id": "63e07c6c",
   "metadata": {},
   "outputs": [],
   "source": [
    "import pickle"
   ]
  },
  {
   "cell_type": "code",
   "execution_count": 5,
   "id": "53c54ab9",
   "metadata": {},
   "outputs": [
    {
     "ename": "PermissionError",
     "evalue": "[Errno 13] Permission denied: '/raid/mpsych/datasetA.pkl'",
     "output_type": "error",
     "traceback": [
      "\u001B[0;31m---------------------------------------------------------------------------\u001B[0m",
      "\u001B[0;31mPermissionError\u001B[0m                           Traceback (most recent call last)",
      "\u001B[0;32m/tmp/ipykernel_4147177/4128324411.py\u001B[0m in \u001B[0;36m<module>\u001B[0;34m\u001B[0m\n\u001B[1;32m      1\u001B[0m \u001B[0mimgs\u001B[0m \u001B[0;34m=\u001B[0m \u001B[0mO\u001B[0m\u001B[0;34m.\u001B[0m\u001B[0mDataHelper\u001B[0m\u001B[0;34m.\u001B[0m\u001B[0mget2D\u001B[0m\u001B[0;34m(\u001B[0m\u001B[0mN\u001B[0m\u001B[0;34m=\u001B[0m\u001B[0;36m1000\u001B[0m\u001B[0;34m,\u001B[0m \u001B[0mconfig_num\u001B[0m\u001B[0;34m=\u001B[0m\u001B[0;36m27\u001B[0m\u001B[0;34m)\u001B[0m\u001B[0;34m\u001B[0m\u001B[0;34m\u001B[0m\u001B[0m\n\u001B[0;32m----> 2\u001B[0;31m \u001B[0;32mwith\u001B[0m \u001B[0mopen\u001B[0m\u001B[0;34m(\u001B[0m\u001B[0;34m'/raid/mpsych/datasetA.pkl'\u001B[0m\u001B[0;34m,\u001B[0m\u001B[0;34m'wb'\u001B[0m\u001B[0;34m)\u001B[0m \u001B[0;32mas\u001B[0m \u001B[0mf\u001B[0m\u001B[0;34m:\u001B[0m\u001B[0;34m\u001B[0m\u001B[0;34m\u001B[0m\u001B[0m\n\u001B[0m\u001B[1;32m      3\u001B[0m     \u001B[0mpickle\u001B[0m\u001B[0;34m.\u001B[0m\u001B[0mdump\u001B[0m\u001B[0;34m(\u001B[0m\u001B[0mimgs\u001B[0m\u001B[0;34m,\u001B[0m \u001B[0mf\u001B[0m\u001B[0;34m)\u001B[0m\u001B[0;34m\u001B[0m\u001B[0;34m\u001B[0m\u001B[0m\n",
      "\u001B[0;31mPermissionError\u001B[0m: [Errno 13] Permission denied: '/raid/mpsych/datasetA.pkl'"
     ]
    }
   ],
   "source": [
    "imgs = O.DataHelper.get2D(N=1000, config_num=27)\n"
   ]
  },
  {
   "cell_type": "code",
   "execution_count": 7,
   "id": "33b8f949",
   "metadata": {},
   "outputs": [
    {
     "data": {
      "text/plain": [
       "1000"
      ]
     },
     "execution_count": 7,
     "metadata": {},
     "output_type": "execute_result"
    }
   ],
   "source": [
    "len(imgs)"
   ]
  },
  {
   "cell_type": "code",
   "execution_count": 8,
   "id": "dc12741f",
   "metadata": {},
   "outputs": [],
   "source": [
    "with open('/raid/mpsych/datasetB_STAR.pkl','wb') as f:\n",
    "    pickle.dump(imgs, f)"
   ]
  },
  {
   "cell_type": "code",
   "execution_count": 9,
   "id": "b4e74d02",
   "metadata": {},
   "outputs": [
    {
     "name": "stdout",
     "output_type": "stream",
     "text": [
      "all stored\n"
     ]
    }
   ],
   "source": [
    "print('all stored')"
   ]
  },
  {
   "cell_type": "code",
   "execution_count": null,
   "id": "6d9f5310",
   "metadata": {},
   "outputs": [],
   "source": []
  }
 ],
 "metadata": {
  "kernelspec": {
   "display_name": "Python 3 (ipykernel)",
   "language": "python",
   "name": "python3"
  },
  "language_info": {
   "codemirror_mode": {
    "name": "ipython",
    "version": 3
   },
   "file_extension": ".py",
   "mimetype": "text/x-python",
   "name": "python",
   "nbconvert_exporter": "python",
   "pygments_lexer": "ipython3",
   "version": "3.9.7"
  }
 },
 "nbformat": 4,
 "nbformat_minor": 5
}
