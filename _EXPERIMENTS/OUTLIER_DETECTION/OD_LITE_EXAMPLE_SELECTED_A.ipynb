{
 "cells": [
  {
   "cell_type": "code",
   "execution_count": 1,
   "id": "f700b297",
   "metadata": {},
   "outputs": [
    {
     "name": "stdout",
     "output_type": "stream",
     "text": [
      "Populating the interactive namespace from numpy and matplotlib\n"
     ]
    }
   ],
   "source": [
    "%pylab inline\n",
    "%load_ext autoreload\n",
    "%autoreload 2"
   ]
  },
  {
   "cell_type": "code",
   "execution_count": 2,
   "id": "36ac4e16",
   "metadata": {},
   "outputs": [],
   "source": [
    "import sys\n",
    "sys.path.insert(0,'../..')\n",
    "import omama as O"
   ]
  },
  {
   "cell_type": "code",
   "execution_count": 3,
   "id": "000bf49c",
   "metadata": {},
   "outputs": [],
   "source": [
    "odl = O.OutlierDetectorLite()"
   ]
  },
  {
   "cell_type": "code",
   "execution_count": 4,
   "id": "37f09d33",
   "metadata": {},
   "outputs": [],
   "source": [
    "NO_RUNS = 3\n",
    "DATASET = 'B'\n",
    "ALGORITHMS = ['LOF','COF']#odl.ALGORITHMS[0:3]"
   ]
  },
  {
   "cell_type": "code",
   "execution_count": 5,
   "id": "26de3ab1",
   "metadata": {
    "scrolled": false
   },
   "outputs": [
    {
     "name": "stdout",
     "output_type": "stream",
     "text": [
      "Running LOF\n",
      "Loaded images.\n",
      "{'contamination': 0.13, 'verbose': False, 'norm_type': 'minmax', 'metric': 'euclidean', 'n_jobs': 1, 'n_bins': 2, 'alpha': 0.2, 'n_clusters': 2, 'tol': 0.2, 'beta': 3, 'n_neighbors': 3, 'base_estimators': ['LOF', 'INNE', 'CBLOF', 'FB'], 'cluster_estimator': 'KMeans', 'n_estimators': 6, 'subset_size': 0.5, 'combination': 'maximum', 'leaf_size': 50, 'p': 3, 'novelty': False, 'kernel': 'rbf', 'degree': 2, 'gamma': 0.1, 'coef0': 1, 'nu': 0.5, 'shrinking': True, 'cache_size': 50, 'max_iter': -1, 'max_samples': 0.5, 'bandwidth': 1.0, 'radius': 1.0, 'hidden_neurons': [24, 12, 12, 24]}\n",
      "Loaded config, norm, and feats.\n",
      "Calculated features!\n",
      "Running LOF...\n",
      "In LOF algorithm\n",
      "len of imgs and t_scores are equal for LOF\n",
      "Trained!\n",
      "LOF 0.3684210526315789\n",
      "Loaded images.\n",
      "{'contamination': 0.13, 'verbose': False, 'norm_type': 'minmax', 'metric': 'euclidean', 'n_jobs': 1, 'n_bins': 2, 'alpha': 0.2, 'n_clusters': 2, 'tol': 0.2, 'beta': 3, 'n_neighbors': 3, 'base_estimators': ['LOF', 'INNE', 'CBLOF', 'FB'], 'cluster_estimator': 'KMeans', 'n_estimators': 6, 'subset_size': 0.5, 'combination': 'maximum', 'leaf_size': 50, 'p': 3, 'novelty': False, 'kernel': 'rbf', 'degree': 2, 'gamma': 0.1, 'coef0': 1, 'nu': 0.5, 'shrinking': True, 'cache_size': 50, 'max_iter': -1, 'max_samples': 0.5, 'bandwidth': 1.0, 'radius': 1.0, 'hidden_neurons': [24, 12, 12, 24]}\n",
      "Loaded config, norm, and feats.\n",
      "Calculated features!\n",
      "Running LOF...\n",
      "In LOF algorithm\n",
      "len of imgs and t_scores are equal for LOF\n",
      "Trained!\n",
      "LOF 0.4444444444444444\n",
      "Loaded images.\n",
      "{'contamination': 0.13, 'verbose': False, 'norm_type': 'minmax', 'metric': 'euclidean', 'n_jobs': 1, 'n_bins': 2, 'alpha': 0.2, 'n_clusters': 2, 'tol': 0.2, 'beta': 3, 'n_neighbors': 3, 'base_estimators': ['LOF', 'INNE', 'CBLOF', 'FB'], 'cluster_estimator': 'KMeans', 'n_estimators': 6, 'subset_size': 0.5, 'combination': 'maximum', 'leaf_size': 50, 'p': 3, 'novelty': False, 'kernel': 'rbf', 'degree': 2, 'gamma': 0.1, 'coef0': 1, 'nu': 0.5, 'shrinking': True, 'cache_size': 50, 'max_iter': -1, 'max_samples': 0.5, 'bandwidth': 1.0, 'radius': 1.0, 'hidden_neurons': [24, 12, 12, 24]}\n",
      "Loaded config, norm, and feats.\n",
      "Calculated features!\n",
      "Running LOF...\n",
      "In LOF algorithm\n",
      "len of imgs and t_scores are equal for LOF\n",
      "Trained!\n",
      "LOF 0.5294117647058824\n",
      "================================================================================\n",
      "Running COF\n",
      "Loaded images.\n",
      "{'contamination': 0.13, 'verbose': False, 'n_jobs': 1, 'norm_type': 'minmax', 'tol': 0.5, 'n_bins': 2, 'alpha': 0.08, 'beta': 3, 'n_neighbors': 3, 'n_clusters': 2, 'base_estimators': ['LOF', 'INNE', 'CBLOF', 'FB'], 'cluster_estimator': 'KMeans', 'n_estimators': 6, 'subset_size': 0.5, 'combination': 'maximum', 'leaf_size': 30, 'p': 2, 'novelty': True, 'kernel': 'rbf', 'degree': 3, 'gamma': 0.1, 'coef0': 1, 'nu': 0.5, 'shrinking': True, 'cache_size': 200, 'max_iter': -1, 'max_samples': 0.5, 'bandwidth': 2.0, 'radius': 1.0, 'hidden_neurons': [24, 12, 12, 24]}\n",
      "Loaded config, norm, and feats.\n",
      "Calculated features!\n",
      "Running COF...\n",
      "In COF algorithm\n",
      "len of imgs and t_scores are equal for COF\n",
      "Trained!\n",
      "COF 0.4444444444444444\n",
      "Loaded images.\n",
      "{'contamination': 0.13, 'verbose': False, 'n_jobs': 1, 'norm_type': 'minmax', 'tol': 0.5, 'n_bins': 2, 'alpha': 0.08, 'beta': 3, 'n_neighbors': 3, 'n_clusters': 2, 'base_estimators': ['LOF', 'INNE', 'CBLOF', 'FB'], 'cluster_estimator': 'KMeans', 'n_estimators': 6, 'subset_size': 0.5, 'combination': 'maximum', 'leaf_size': 30, 'p': 2, 'novelty': True, 'kernel': 'rbf', 'degree': 3, 'gamma': 0.1, 'coef0': 1, 'nu': 0.5, 'shrinking': True, 'cache_size': 200, 'max_iter': -1, 'max_samples': 0.5, 'bandwidth': 2.0, 'radius': 1.0, 'hidden_neurons': [24, 12, 12, 24]}\n",
      "Loaded config, norm, and feats.\n",
      "Calculated features!\n",
      "Running COF...\n",
      "In COF algorithm\n",
      "len of imgs and t_scores are equal for COF\n",
      "Trained!\n",
      "COF 0.3\n",
      "Loaded images.\n",
      "{'contamination': 0.13, 'verbose': False, 'n_jobs': 1, 'norm_type': 'minmax', 'tol': 0.5, 'n_bins': 2, 'alpha': 0.08, 'beta': 3, 'n_neighbors': 3, 'n_clusters': 2, 'base_estimators': ['LOF', 'INNE', 'CBLOF', 'FB'], 'cluster_estimator': 'KMeans', 'n_estimators': 6, 'subset_size': 0.5, 'combination': 'maximum', 'leaf_size': 30, 'p': 2, 'novelty': True, 'kernel': 'rbf', 'degree': 3, 'gamma': 0.1, 'coef0': 1, 'nu': 0.5, 'shrinking': True, 'cache_size': 200, 'max_iter': -1, 'max_samples': 0.5, 'bandwidth': 2.0, 'radius': 1.0, 'hidden_neurons': [24, 12, 12, 24]}\n",
      "Loaded config, norm, and feats.\n",
      "Calculated features!\n",
      "Running COF...\n",
      "In COF algorithm\n",
      "len of imgs and t_scores are equal for COF\n",
      "Trained!\n",
      "COF 0.5294117647058824\n",
      "================================================================================\n"
     ]
    }
   ],
   "source": [
    "runs = {}\n",
    "\n",
    "for algo in ALGORITHMS:\n",
    "    \n",
    "    print('Running', algo)\n",
    "\n",
    "    runs[algo] = []\n",
    "    \n",
    "    for run in range(NO_RUNS):\n",
    "    \n",
    "        results = odl.run(DATASET, algo)\n",
    "        \n",
    "        print(algo, results['evaluation']['jaccard_score'])\n",
    "        \n",
    "        runs[algo].append(results)\n",
    "\n",
    "    print('='*80)\n",
    "    "
   ]
  },
  {
   "cell_type": "code",
   "execution_count": 6,
   "id": "79180193",
   "metadata": {},
   "outputs": [
    {
     "name": "stdout",
     "output_type": "stream",
     "text": [
      "LOF\n",
      "    roc_auc 0.7789566755083995 +/- 0.03609622373685793\n",
      "    f1 0.6153846153846153 +/- 0.06280742930213278\n",
      "    acc 0.9 +/- 0.016329931618554536\n",
      "    tn 82.0 +/- 0.816496580927726\n",
      "    fp 5.0 +/- 0.816496580927726\n",
      "    fn 5.0 +/- 0.816496580927726\n",
      "    tp 8.0 +/- 0.816496580927726\n",
      "    jaccard_score 0.4474257539273019 +/- 0.06575798302980533\n",
      "COF\n",
      "    roc_auc 0.7642204538756263 +/- 0.05513789252540436\n",
      "    f1 0.5897435897435898 +/- 0.09593993299420361\n",
      "    acc 0.8933333333333334 +/- 0.024944382578492966\n",
      "    tn 81.66666666666667 +/- 1.247219128924647\n",
      "    fp 5.333333333333333 +/- 1.247219128924647\n",
      "    fn 5.333333333333333 +/- 1.247219128924647\n",
      "    tp 7.666666666666667 +/- 1.247219128924647\n",
      "    jaccard_score 0.4246187363834422 +/- 0.09470034660780234\n"
     ]
    }
   ],
   "source": [
    "for algo in ALGORITHMS:\n",
    "    \n",
    "    metrics = {}\n",
    "\n",
    "    for method in runs[algo][run]['evaluation'].keys():\n",
    "        if method.find('indices') != -1:\n",
    "            continue\n",
    "\n",
    "        metrics[method] = []\n",
    "    \n",
    "    for run in range(0,NO_RUNS):\n",
    "        \n",
    "        for m in metrics.keys():\n",
    "            cur = runs[algo][run]['evaluation'][m]\n",
    "        \n",
    "            metrics[m].append(cur)\n",
    "    \n",
    "    print(algo)\n",
    "    for m in metrics.keys():\n",
    "        print('   ', m, np.mean(metrics[m]), '+/-', np.std(metrics[m]))"
   ]
  },
  {
   "cell_type": "code",
   "execution_count": 7,
   "id": "85afdeb2",
   "metadata": {},
   "outputs": [],
   "source": [
    "import pickle"
   ]
  },
  {
   "cell_type": "code",
   "execution_count": 8,
   "id": "41a6ad4e",
   "metadata": {},
   "outputs": [],
   "source": [
    "with open('/tmp/res.pkl', 'wb') as f:\n",
    "    pickle.dump(runs, f)"
   ]
  },
  {
   "cell_type": "code",
   "execution_count": null,
   "id": "e0fa1d61",
   "metadata": {},
   "outputs": [],
   "source": []
  },
  {
   "cell_type": "code",
   "execution_count": null,
   "id": "3c7c4ebf",
   "metadata": {},
   "outputs": [],
   "source": []
  }
 ],
 "metadata": {
  "kernelspec": {
   "display_name": "Python 3 (ipykernel)",
   "language": "python",
   "name": "python3"
  },
  "language_info": {
   "codemirror_mode": {
    "name": "ipython",
    "version": 3
   },
   "file_extension": ".py",
   "mimetype": "text/x-python",
   "name": "python",
   "nbconvert_exporter": "python",
   "pygments_lexer": "ipython3",
   "version": "3.9.7"
  }
 },
 "nbformat": 4,
 "nbformat_minor": 5
}
