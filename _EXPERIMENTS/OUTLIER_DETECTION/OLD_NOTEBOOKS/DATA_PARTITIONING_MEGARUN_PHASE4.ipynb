{
 "cells": [
  {
   "cell_type": "code",
   "execution_count": 1,
   "id": "93720a5a",
   "metadata": {},
   "outputs": [
    {
     "name": "stdout",
     "output_type": "stream",
     "text": [
      "Populating the interactive namespace from numpy and matplotlib\n"
     ]
    }
   ],
   "source": [
    "%pylab inline\n",
    "%load_ext autoreload\n",
    "%autoreload 2\n",
    "import sys\n",
    "import time\n",
    "sys.path.insert(0,'../..')\n",
    "import omama as O"
   ]
  },
  {
   "cell_type": "code",
   "execution_count": 2,
   "id": "dd29ec19",
   "metadata": {
    "scrolled": true
   },
   "outputs": [
    {
     "name": "stdout",
     "output_type": "stream",
     "text": [
      "load_studies             ...took     0.259478 seconds\n",
      "load_images              ...took     0.106293 seconds\n",
      "csv_to_map               ...took     0.217819 seconds\n",
      "load_pickle              ...took     0.391751 seconds\n",
      "generate_counts          ...took     0.180533 seconds\n",
      "generate_stats           ...took     0.212087 seconds\n",
      "total _init              ...took     1.378770 seconds\n",
      "total __init__           ...took     1.378841 seconds\n"
     ]
    }
   ],
   "source": [
    "omama_loader = O.OmamaLoader(config_num=14)\n",
    "data = O.Data(omama_loader, load_cache=True, timing=True)"
   ]
  },
  {
   "cell_type": "code",
   "execution_count": 3,
   "id": "88cc189d",
   "metadata": {},
   "outputs": [
    {
     "name": "stdout",
     "output_type": "stream",
     "text": [
      "Data(namespace(dh_dh2=namespace(total=17, 3D=0, 2D=17),\n",
      "          dh_dh0new=namespace(total=287, 3D=0, 2D=287),\n",
      "          dh_dcm_ast=namespace(total=164540, 3D=0, 2D=164540),\n",
      "          total_all_dicoms=164844,\n",
      "          total_2d_all=164844,\n",
      "          total_3d_all=0,\n",
      "          total_2d_cancer=5587,\n",
      "          total_2d_preindex=1542,\n",
      "          total_2d_noncancer=157715,\n",
      "          total_3d_cancer=0,\n",
      "          total_3d_preindex=0,\n",
      "          total_3d_noncancer=0,\n",
      "          total_cancer=5587,\n",
      "          total_preindex=1542,\n",
      "          total_noncancer=157715,\n",
      "          total_no_label=0))\n"
     ]
    }
   ],
   "source": [
    "print(data)"
   ]
  },
  {
   "cell_type": "code",
   "execution_count": 4,
   "id": "ce113699",
   "metadata": {},
   "outputs": [
    {
     "data": {
      "text/plain": [
       "164844"
      ]
     },
     "execution_count": 4,
     "metadata": {},
     "output_type": "execute_result"
    }
   ],
   "source": [
    "len(data)"
   ]
  },
  {
   "cell_type": "code",
   "execution_count": 10,
   "id": "89c48728",
   "metadata": {},
   "outputs": [
    {
     "name": "stdout",
     "output_type": "stream",
     "text": [
      "Saving partitioned paths to files in: /raid/mpsych/whitelists/\n",
      "partition_data           ...took     0.215154 seconds\n"
     ]
    }
   ],
   "source": [
    "save_dir = '/raid/mpsych/whitelists/'\n",
    "prefix = 'phase4_partition_'\n",
    "test_partition_list = data.partition_data(num_partitions=4, save_directory=save_dir, file_name_prefix=prefix, timing=True)"
   ]
  },
  {
   "cell_type": "code",
   "execution_count": 11,
   "id": "267e6908",
   "metadata": {},
   "outputs": [
    {
     "data": {
      "text/plain": [
       "41211"
      ]
     },
     "execution_count": 11,
     "metadata": {},
     "output_type": "execute_result"
    }
   ],
   "source": [
    "len(test_partition_list[0])"
   ]
  },
  {
   "cell_type": "code",
   "execution_count": 12,
   "id": "fa7bb8d6",
   "metadata": {},
   "outputs": [
    {
     "data": {
      "text/plain": [
       "41211"
      ]
     },
     "execution_count": 12,
     "metadata": {},
     "output_type": "execute_result"
    }
   ],
   "source": [
    "len(test_partition_list[1])"
   ]
  },
  {
   "cell_type": "code",
   "execution_count": 13,
   "id": "173bd247",
   "metadata": {},
   "outputs": [
    {
     "data": {
      "text/plain": [
       "41211"
      ]
     },
     "execution_count": 13,
     "metadata": {},
     "output_type": "execute_result"
    }
   ],
   "source": [
    "len(test_partition_list[2])"
   ]
  },
  {
   "cell_type": "code",
   "execution_count": 14,
   "id": "1bcdfc95",
   "metadata": {},
   "outputs": [
    {
     "data": {
      "text/plain": [
       "41211"
      ]
     },
     "execution_count": 14,
     "metadata": {},
     "output_type": "execute_result"
    }
   ],
   "source": [
    "len(test_partition_list[3])"
   ]
  },
  {
   "cell_type": "code",
   "execution_count": 2,
   "id": "5246b986",
   "metadata": {
    "scrolled": true
   },
   "outputs": [
    {
     "name": "stdout",
     "output_type": "stream",
     "text": [
      "load_studies             ...took     0.055203 seconds\n",
      "load_images              ...took     0.021975 seconds\n",
      "csv_to_map               ...took     0.219362 seconds\n",
      "1000                     ...took     1.107269 seconds\n",
      "2000                     ...took     2.206079 seconds\n",
      "3000                     ...took     3.282597 seconds\n",
      "4000                     ...took     4.352019 seconds\n",
      "5000                     ...took     5.424598 seconds\n",
      "6000                     ...took     6.538703 seconds\n",
      "7000                     ...took     7.610162 seconds\n",
      "8000                     ...took     8.679108 seconds\n",
      "9000                     ...took     9.749761 seconds\n",
      "10000                    ...took    10.857996 seconds\n",
      "11000                    ...took    11.923301 seconds\n",
      "12000                    ...took    12.990696 seconds\n",
      "13000                    ...took    14.064939 seconds\n",
      "14000                    ...took    15.132618 seconds\n",
      "15000                    ...took    16.278790 seconds\n",
      "16000                    ...took    17.342343 seconds\n",
      "17000                    ...took    18.411410 seconds\n",
      "18000                    ...took    19.482368 seconds\n",
      "19000                    ...took    20.548090 seconds\n",
      "20000                    ...took    21.652093 seconds\n",
      "21000                    ...took    22.721335 seconds\n",
      "22000                    ...took    23.790910 seconds\n",
      "23000                    ...took    25.029945 seconds\n",
      "24000                    ...took    26.300280 seconds\n",
      "25000                    ...took    27.369145 seconds\n",
      "26000                    ...took    28.433135 seconds\n",
      "27000                    ...took    29.500389 seconds\n",
      "28000                    ...took    30.609912 seconds\n",
      "29000                    ...took    31.684534 seconds\n",
      "30000                    ...took    32.755060 seconds\n",
      "31000                    ...took    33.822861 seconds\n",
      "32000                    ...took    34.889077 seconds\n",
      "33000                    ...took    35.996776 seconds\n",
      "34000                    ...took    37.065103 seconds\n",
      "35000                    ...took    38.129017 seconds\n",
      "36000                    ...took    39.235846 seconds\n",
      "37000                    ...took    40.299772 seconds\n",
      "38000                    ...took    41.408974 seconds\n",
      "39000                    ...took    42.481173 seconds\n",
      "40000                    ...took    43.549409 seconds\n",
      "41000                    ...took    44.619011 seconds\n",
      "load_labels              ...took    44.839778 seconds\n",
      "save_pickle              ...took     0.060315 seconds\n",
      "generate_counts          ...took     0.048966 seconds\n",
      "generate_stats           ...took     0.049783 seconds\n",
      "total _init              ...took    45.306202 seconds\n",
      "total __init__           ...took    45.306282 seconds\n"
     ]
    }
   ],
   "source": [
    "omama_loader = O.OmamaLoader(config_num=15)\n",
    "data = O.Data(omama_loader, load_cache=True, timing=True)"
   ]
  },
  {
   "cell_type": "code",
   "execution_count": 3,
   "id": "e1d87b11",
   "metadata": {},
   "outputs": [
    {
     "name": "stdout",
     "output_type": "stream",
     "text": [
      "Data(namespace(dh_dh2=namespace(total=3, 3D=0, 2D=3),\n",
      "          dh_dh0new=namespace(total=76, 3D=0, 2D=76),\n",
      "          dh_dcm_ast=namespace(total=41132, 3D=0, 2D=41132),\n",
      "          total_all_dicoms=41211,\n",
      "          total_2d_all=41211,\n",
      "          total_3d_all=0,\n",
      "          total_2d_cancer=1363,\n",
      "          total_2d_preindex=366,\n",
      "          total_2d_noncancer=39482,\n",
      "          total_3d_cancer=0,\n",
      "          total_3d_preindex=0,\n",
      "          total_3d_noncancer=0,\n",
      "          total_cancer=1363,\n",
      "          total_preindex=366,\n",
      "          total_noncancer=39482,\n",
      "          total_no_label=0))\n"
     ]
    }
   ],
   "source": [
    "print(data)"
   ]
  },
  {
   "cell_type": "code",
   "execution_count": 2,
   "id": "db5fada9",
   "metadata": {
    "scrolled": true
   },
   "outputs": [
    {
     "name": "stdout",
     "output_type": "stream",
     "text": [
      "load_studies             ...took     0.054633 seconds\n",
      "load_images              ...took     0.021474 seconds\n",
      "csv_to_map               ...took     0.223292 seconds\n",
      "1000                     ...took     1.062572 seconds\n",
      "2000                     ...took     2.161591 seconds\n",
      "3000                     ...took     3.220990 seconds\n",
      "4000                     ...took     4.284522 seconds\n",
      "5000                     ...took     5.347589 seconds\n",
      "6000                     ...took     6.411101 seconds\n",
      "7000                     ...took     7.549732 seconds\n",
      "8000                     ...took     8.612638 seconds\n",
      "9000                     ...took     9.676440 seconds\n",
      "10000                    ...took    10.740894 seconds\n",
      "11000                    ...took    11.799643 seconds\n",
      "12000                    ...took    12.898115 seconds\n",
      "13000                    ...took    13.959780 seconds\n",
      "14000                    ...took    15.020637 seconds\n",
      "15000                    ...took    16.080465 seconds\n",
      "16000                    ...took    17.174400 seconds\n",
      "17000                    ...took    18.232198 seconds\n",
      "18000                    ...took    19.294491 seconds\n",
      "19000                    ...took    20.624015 seconds\n",
      "20000                    ...took    21.682700 seconds\n",
      "21000                    ...took    22.777984 seconds\n",
      "22000                    ...took    23.832880 seconds\n",
      "23000                    ...took    24.954741 seconds\n",
      "24000                    ...took    26.010873 seconds\n",
      "25000                    ...took    27.105014 seconds\n",
      "26000                    ...took    28.160456 seconds\n",
      "27000                    ...took    29.220217 seconds\n",
      "28000                    ...took    30.277843 seconds\n",
      "29000                    ...took    31.331375 seconds\n",
      "30000                    ...took    32.430464 seconds\n",
      "31000                    ...took    33.526132 seconds\n",
      "32000                    ...took    34.585326 seconds\n",
      "33000                    ...took    35.644073 seconds\n",
      "34000                    ...took    36.699985 seconds\n",
      "35000                    ...took    37.793646 seconds\n",
      "36000                    ...took    38.852447 seconds\n",
      "37000                    ...took    39.916500 seconds\n",
      "38000                    ...took    40.978060 seconds\n",
      "39000                    ...took    42.079391 seconds\n",
      "40000                    ...took    43.135379 seconds\n",
      "41000                    ...took    44.193533 seconds\n",
      "load_labels              ...took    44.412660 seconds\n",
      "save_pickle              ...took     0.099564 seconds\n",
      "generate_counts          ...took     0.048755 seconds\n",
      "generate_stats           ...took     0.049901 seconds\n",
      "total _init              ...took    44.921396 seconds\n",
      "total __init__           ...took    44.921471 seconds\n"
     ]
    }
   ],
   "source": [
    "omama_loader = O.OmamaLoader(config_num=16)\n",
    "data1 = O.Data(omama_loader, load_cache=True, timing=True)"
   ]
  },
  {
   "cell_type": "code",
   "execution_count": 3,
   "id": "7abdb267",
   "metadata": {},
   "outputs": [
    {
     "name": "stdout",
     "output_type": "stream",
     "text": [
      "Data(namespace(dh_dh2=namespace(total=2, 3D=0, 2D=2),\n",
      "          dh_dh0new=namespace(total=64, 3D=0, 2D=64),\n",
      "          dh_dcm_ast=namespace(total=41145, 3D=0, 2D=41145),\n",
      "          total_all_dicoms=41211,\n",
      "          total_2d_all=41211,\n",
      "          total_3d_all=0,\n",
      "          total_2d_cancer=1396,\n",
      "          total_2d_preindex=398,\n",
      "          total_2d_noncancer=39417,\n",
      "          total_3d_cancer=0,\n",
      "          total_3d_preindex=0,\n",
      "          total_3d_noncancer=0,\n",
      "          total_cancer=1396,\n",
      "          total_preindex=398,\n",
      "          total_noncancer=39417,\n",
      "          total_no_label=0))\n"
     ]
    }
   ],
   "source": [
    "print(data1)"
   ]
  },
  {
   "cell_type": "code",
   "execution_count": 2,
   "id": "7d4d1742",
   "metadata": {
    "scrolled": true
   },
   "outputs": [
    {
     "name": "stdout",
     "output_type": "stream",
     "text": [
      "load_studies             ...took     0.054552 seconds\n",
      "load_images              ...took     0.021981 seconds\n",
      "csv_to_map               ...took     0.220471 seconds\n",
      "1000                     ...took     1.066537 seconds\n",
      "2000                     ...took     2.129931 seconds\n",
      "3000                     ...took     3.228045 seconds\n",
      "4000                     ...took     4.293207 seconds\n",
      "5000                     ...took     5.361273 seconds\n",
      "6000                     ...took     6.428783 seconds\n",
      "7000                     ...took     7.495429 seconds\n",
      "8000                     ...took     8.636172 seconds\n",
      "9000                     ...took     9.700252 seconds\n",
      "10000                    ...took    10.762111 seconds\n",
      "11000                    ...took    11.824558 seconds\n",
      "12000                    ...took    12.885332 seconds\n",
      "13000                    ...took    13.985765 seconds\n",
      "14000                    ...took    15.050663 seconds\n",
      "15000                    ...took    16.115732 seconds\n",
      "16000                    ...took    17.177823 seconds\n",
      "17000                    ...took    18.278243 seconds\n",
      "18000                    ...took    19.340656 seconds\n",
      "19000                    ...took    20.406513 seconds\n",
      "20000                    ...took    21.472023 seconds\n",
      "21000                    ...took    22.534762 seconds\n",
      "22000                    ...took    23.674359 seconds\n",
      "23000                    ...took    24.822131 seconds\n",
      "24000                    ...took    25.988656 seconds\n",
      "25000                    ...took    27.181182 seconds\n",
      "26000                    ...took    28.282228 seconds\n",
      "27000                    ...took    29.344957 seconds\n",
      "28000                    ...took    30.407102 seconds\n",
      "29000                    ...took    31.472254 seconds\n",
      "30000                    ...took    32.536551 seconds\n",
      "31000                    ...took    33.674585 seconds\n",
      "32000                    ...took    34.742299 seconds\n",
      "33000                    ...took    35.810056 seconds\n",
      "34000                    ...took    36.873817 seconds\n",
      "35000                    ...took    37.938271 seconds\n",
      "36000                    ...took    39.044726 seconds\n",
      "37000                    ...took    40.113797 seconds\n",
      "38000                    ...took    41.182163 seconds\n",
      "39000                    ...took    42.247349 seconds\n",
      "40000                    ...took    43.348251 seconds\n",
      "41000                    ...took    44.412592 seconds\n",
      "load_labels              ...took    44.673902 seconds\n",
      "save_pickle              ...took     0.060469 seconds\n",
      "generate_counts          ...took     0.049237 seconds\n",
      "generate_stats           ...took     0.049634 seconds\n",
      "total _init              ...took    45.141024 seconds\n",
      "total __init__           ...took    45.141102 seconds\n"
     ]
    }
   ],
   "source": [
    "omama_loader = O.OmamaLoader(config_num=17)\n",
    "data2 = O.Data(omama_loader, load_cache=True, timing=True)"
   ]
  },
  {
   "cell_type": "code",
   "execution_count": 3,
   "id": "7f8167c5",
   "metadata": {},
   "outputs": [
    {
     "name": "stdout",
     "output_type": "stream",
     "text": [
      "Data(namespace(dh_dh2=namespace(total=5, 3D=0, 2D=5),\n",
      "          dh_dh0new=namespace(total=78, 3D=0, 2D=78),\n",
      "          dh_dcm_ast=namespace(total=41128, 3D=0, 2D=41128),\n",
      "          total_all_dicoms=41211,\n",
      "          total_2d_all=41211,\n",
      "          total_3d_all=0,\n",
      "          total_2d_cancer=1358,\n",
      "          total_2d_preindex=380,\n",
      "          total_2d_noncancer=39473,\n",
      "          total_3d_cancer=0,\n",
      "          total_3d_preindex=0,\n",
      "          total_3d_noncancer=0,\n",
      "          total_cancer=1358,\n",
      "          total_preindex=380,\n",
      "          total_noncancer=39473,\n",
      "          total_no_label=0))\n"
     ]
    }
   ],
   "source": [
    "print(data2)"
   ]
  },
  {
   "cell_type": "code",
   "execution_count": 2,
   "id": "c2cceccc",
   "metadata": {},
   "outputs": [
    {
     "name": "stdout",
     "output_type": "stream",
     "text": [
      "load_studies             ...took     0.054552 seconds\n",
      "load_images              ...took     0.022243 seconds\n",
      "csv_to_map               ...took     0.220431 seconds\n",
      "1000                     ...took     1.074615 seconds\n",
      "2000                     ...took     2.143296 seconds\n",
      "3000                     ...took     3.212831 seconds\n",
      "4000                     ...took     4.333363 seconds\n",
      "5000                     ...took     5.406647 seconds\n",
      "6000                     ...took     6.479889 seconds\n",
      "7000                     ...took     7.554136 seconds\n",
      "8000                     ...took     8.704464 seconds\n",
      "9000                     ...took     9.775951 seconds\n",
      "10000                    ...took    10.849010 seconds\n",
      "11000                    ...took    11.928739 seconds\n",
      "12000                    ...took    13.004559 seconds\n",
      "13000                    ...took    14.112738 seconds\n",
      "14000                    ...took    15.209082 seconds\n",
      "15000                    ...took    16.296444 seconds\n",
      "16000                    ...took    17.375162 seconds\n",
      "17000                    ...took    18.490313 seconds\n",
      "18000                    ...took    19.567593 seconds\n",
      "19000                    ...took    20.691432 seconds\n",
      "20000                    ...took    21.769925 seconds\n",
      "21000                    ...took    22.847431 seconds\n",
      "22000                    ...took    23.967422 seconds\n",
      "23000                    ...took    25.110748 seconds\n",
      "24000                    ...took    26.188875 seconds\n",
      "25000                    ...took    27.264098 seconds\n",
      "26000                    ...took    28.338430 seconds\n",
      "27000                    ...took    29.450284 seconds\n",
      "28000                    ...took    30.524021 seconds\n",
      "29000                    ...took    31.620818 seconds\n",
      "30000                    ...took    32.726988 seconds\n",
      "31000                    ...took    33.843143 seconds\n",
      "32000                    ...took    34.917708 seconds\n",
      "33000                    ...took    35.990916 seconds\n",
      "34000                    ...took    37.059585 seconds\n",
      "35000                    ...took    38.136646 seconds\n",
      "36000                    ...took    39.257519 seconds\n",
      "37000                    ...took    40.569086 seconds\n",
      "38000                    ...took    41.680893 seconds\n",
      "39000                    ...took    42.758542 seconds\n",
      "40000                    ...took    43.873819 seconds\n",
      "41000                    ...took    44.944522 seconds\n",
      "load_labels              ...took    45.165944 seconds\n",
      "save_pickle              ...took     0.060238 seconds\n",
      "generate_counts          ...took     0.049702 seconds\n",
      "generate_stats           ...took     0.050114 seconds\n",
      "total _init              ...took    45.634040 seconds\n",
      "total __init__           ...took    45.634115 seconds\n"
     ]
    }
   ],
   "source": [
    "omama_loader = O.OmamaLoader(config_num=18)\n",
    "data3 = O.Data(omama_loader, load_cache=True, timing=True)"
   ]
  },
  {
   "cell_type": "code",
   "execution_count": 3,
   "id": "6c60d8c0",
   "metadata": {},
   "outputs": [
    {
     "name": "stdout",
     "output_type": "stream",
     "text": [
      "Data(namespace(dh_dh2=namespace(total=7, 3D=0, 2D=7),\n",
      "          dh_dh0new=namespace(total=69, 3D=0, 2D=69),\n",
      "          dh_dcm_ast=namespace(total=41135, 3D=0, 2D=41135),\n",
      "          total_all_dicoms=41211,\n",
      "          total_2d_all=41211,\n",
      "          total_3d_all=0,\n",
      "          total_2d_cancer=1470,\n",
      "          total_2d_preindex=398,\n",
      "          total_2d_noncancer=39343,\n",
      "          total_3d_cancer=0,\n",
      "          total_3d_preindex=0,\n",
      "          total_3d_noncancer=0,\n",
      "          total_cancer=1470,\n",
      "          total_preindex=398,\n",
      "          total_noncancer=39343,\n",
      "          total_no_label=0))\n"
     ]
    }
   ],
   "source": [
    "print(data3)"
   ]
  },
  {
   "cell_type": "code",
   "execution_count": null,
   "id": "06fd1da0",
   "metadata": {},
   "outputs": [],
   "source": []
  }
 ],
 "metadata": {
  "kernelspec": {
   "display_name": "Python 3 (ipykernel)",
   "language": "python",
   "name": "python3"
  },
  "language_info": {
   "codemirror_mode": {
    "name": "ipython",
    "version": 3
   },
   "file_extension": ".py",
   "mimetype": "text/x-python",
   "name": "python",
   "nbconvert_exporter": "python",
   "pygments_lexer": "ipython3",
   "version": "3.9.7"
  }
 },
 "nbformat": 4,
 "nbformat_minor": 5
}
