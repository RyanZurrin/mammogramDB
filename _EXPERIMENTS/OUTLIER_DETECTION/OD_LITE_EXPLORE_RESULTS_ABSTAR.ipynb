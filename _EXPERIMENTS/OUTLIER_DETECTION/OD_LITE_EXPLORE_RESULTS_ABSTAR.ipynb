{
 "cells": [
  {
   "cell_type": "code",
   "execution_count": 7,
   "id": "67430de6",
   "metadata": {},
   "outputs": [
    {
     "name": "stdout",
     "output_type": "stream",
     "text": [
      "Populating the interactive namespace from numpy and matplotlib\n",
      "The autoreload extension is already loaded. To reload it, use:\n",
      "  %reload_ext autoreload\n"
     ]
    }
   ],
   "source": [
    "%pylab inline\n",
    "%load_ext autoreload\n",
    "%autoreload 2"
   ]
  },
  {
   "cell_type": "code",
   "execution_count": 8,
   "id": "6725d8f9",
   "metadata": {},
   "outputs": [],
   "source": [
    "import sys\n",
    "sys.path.insert(0,'../..')\n",
    "import omama as O"
   ]
  },
  {
   "cell_type": "code",
   "execution_count": 9,
   "id": "321f5147",
   "metadata": {},
   "outputs": [],
   "source": [
    "odl = O.OutlierDetectorLite()"
   ]
  },
  {
   "cell_type": "code",
   "execution_count": 10,
   "id": "49988361",
   "metadata": {},
   "outputs": [
    {
     "name": "stdout",
     "output_type": "stream",
     "text": [
      "\n",
      "        \\begin{table}[!h]\n",
      "        \\centering\n",
      "        \\label{tab:results}\n",
      "        \\caption{ }\n",
      "        \\resizebox{\\textwidth}{!}{\n",
      "        \\begin{tabular}{ccl|ccl}\n",
      "        \\toprule\n",
      "        \\multicolumn{3}{c}{\\textbf{Dataset ASTAR}} & \\multicolumn{3}{c}{\\textbf{Dataset BSTAR}} \\\\\n",
      "        \\textbf{Algorithm} & \\textbf{Norm. + Feature}  & \\textbf{Roc Auc} &\\textbf{Algorithm} & \\textbf{Norm. + Feature}  & \\textbf{Roc Auc} \\\\\n",
      "        \\midrule\n",
      "        LOF & Min-Max + SIFT & $0.7340\\pm0.0170$ &LOF & Min-Max + SIFT & $0.8000\\pm0.0125$ \\\\\n",
      "FB & Max + SIFT & $0.7019\\pm0.0207$ &FB & Max + SIFT & $0.7884\\pm0.0179$ \\\\\n",
      "INNE & Max + SIFT & $0.6841\\pm0.0355$ &SOS & Max + SIFT & $0.7495\\pm0.0239$ \\\\\n",
      "SOD & Min-Max + SIFT & $0.6112\\pm0.0154$ &INNE & Max + SIFT & $0.6968\\pm0.0239$ \\\\\n",
      "SOS & Max + SIFT & $0.5884\\pm0.0215$ &HBOS & Gaussian + Histogram & 0.5895 \\\\\n",
      "ECOD & Gaussian + Histogram & 0.5680 &ECOD & Gaussian + Histogram & 0.5789 \\\\\n",
      "IForest & Gaussian + Histogram & $0.5409\\pm0.0200$ &SOD & Min-Max + SIFT & $0.5705\\pm0.0113$ \\\\\n",
      "AE & Max + Histogram & 0.5341 &SUOD & Gaussian + Histogram & $0.5526\\pm0.0158$ \\\\\n",
      "COPOD & Gaussian + Histogram & 0.5341 &DeepSVDD & Gaussian + Histogram & $0.5432\\pm0.0450$ \\\\\n",
      "SUOD & Gaussian + Histogram & $0.5274\\pm0.0051$ &AE & Max + Histogram & 0.5368 \\\\\n",
      "VAE & Min-Max + Histogram & 0.5257 &PCA & Gaussian + Histogram & 0.5263 \\\\\n",
      "PCA & Gaussian + Histogram & 0.5257 &VAE & Min-Max + Histogram & $0.5221\\pm0.0052$ \\\\\n",
      "COF & Gaussian + Histogram & 0.5257 &IForest & Gaussian + Histogram & $0.5105\\pm0.0151$ \\\\\n",
      "DeepSVDD & Gaussian + Histogram & $0.5248\\pm0.0285$ &COPOD & Gaussian + Histogram & 0.5053 \\\\\n",
      "HBOS & Gaussian + Histogram & 0.5172 &SOGAAL & Max + SIFT & 0.5000 \\\\\n",
      "SOGAAL & Max + SIFT & 0.5000 &OCSVM & Gaussian + Histogram & 0.5000 \\\\\n",
      "OCSVM & Gaussian + Histogram & 0.5000 &KDE & Gaussian + Histogram & 0.5000 \\\\\n",
      "KDE & Gaussian + Histogram & 0.5000 &KNN & Gaussian + Histogram & 0.4953 \\\\\n",
      "KNN & Gaussian + Histogram & 0.4833 &AvgKNN & Gaussian + Histogram & 0.4947 \\\\\n",
      "AvgKNN & Gaussian + Histogram & 0.4833 &COF & Gaussian + Histogram & 0.4947 \\\\\n",
      "MedKNN & Gaussian + Histogram & 0.4833 &MedKNN & Gaussian + Histogram & 0.4947 \\\\\n",
      "LODA & Gaussian + Histogram & $0.4757\\pm0.0080$ &LODA & Gaussian + Histogram & $0.4821\\pm0.0123$ \\\\\n",
      "AnoGAN & Gaussian + Histogram & $0.4723\\pm0.0040$ &AnoGAN & Gaussian + Histogram & $0.4739\\pm0.0003$ \\\\\n",
      "Sampling & Gaussian + Histogram & $0.4681\\pm0.0034$ &CBLOF & Gaussian + Histogram & 0.4737 \\\\\n",
      "CBLOF & Gaussian + Histogram & 0.4664 &Sampling & Gaussian + Histogram & 0.4737 \\\\\n",
      "LMDD & Gaussian + Histogram & 0.4664 &LMDD & Gaussian + Histogram & 0.4737 \\\\\n",
      "\n",
      "        \\bottomrule\n",
      "        \\end{tabular}\n",
      "        }\n",
      "        \\end{table}\n",
      "        \n"
     ]
    },
    {
     "data": {
      "text/plain": [
       "'\\n        \\\\begin{table}[!h]\\n        \\\\centering\\n        \\\\label{tab:results}\\n        \\\\caption{ }\\n        \\\\resizebox{\\\\textwidth}{!}{\\n        \\\\begin{tabular}{ccl|ccl}\\n        \\\\toprule\\n        \\\\multicolumn{3}{c}{\\\\textbf{Dataset ASTAR}} & \\\\multicolumn{3}{c}{\\\\textbf{Dataset BSTAR}} \\\\\\\\\\n        \\\\textbf{Algorithm} & \\\\textbf{Norm. + Feature}  & \\\\textbf{Roc Auc} &\\\\textbf{Algorithm} & \\\\textbf{Norm. + Feature}  & \\\\textbf{Roc Auc} \\\\\\\\\\n        \\\\midrule\\n        LOF & Min-Max + SIFT & $0.7340\\\\pm0.0170$ &LOF & Min-Max + SIFT & $0.8000\\\\pm0.0125$ \\\\\\\\\\nFB & Max + SIFT & $0.7019\\\\pm0.0207$ &FB & Max + SIFT & $0.7884\\\\pm0.0179$ \\\\\\\\\\nINNE & Max + SIFT & $0.6841\\\\pm0.0355$ &SOS & Max + SIFT & $0.7495\\\\pm0.0239$ \\\\\\\\\\nSOD & Min-Max + SIFT & $0.6112\\\\pm0.0154$ &INNE & Max + SIFT & $0.6968\\\\pm0.0239$ \\\\\\\\\\nSOS & Max + SIFT & $0.5884\\\\pm0.0215$ &HBOS & Gaussian + Histogram & 0.5895 \\\\\\\\\\nECOD & Gaussian + Histogram & 0.5680 &ECOD & Gaussian + Histogram & 0.5789 \\\\\\\\\\nIForest & Gaussian + Histogram & $0.5409\\\\pm0.0200$ &SOD & Min-Max + SIFT & $0.5705\\\\pm0.0113$ \\\\\\\\\\nAE & Max + Histogram & 0.5341 &SUOD & Gaussian + Histogram & $0.5526\\\\pm0.0158$ \\\\\\\\\\nCOPOD & Gaussian + Histogram & 0.5341 &DeepSVDD & Gaussian + Histogram & $0.5432\\\\pm0.0450$ \\\\\\\\\\nSUOD & Gaussian + Histogram & $0.5274\\\\pm0.0051$ &AE & Max + Histogram & 0.5368 \\\\\\\\\\nVAE & Min-Max + Histogram & 0.5257 &PCA & Gaussian + Histogram & 0.5263 \\\\\\\\\\nPCA & Gaussian + Histogram & 0.5257 &VAE & Min-Max + Histogram & $0.5221\\\\pm0.0052$ \\\\\\\\\\nCOF & Gaussian + Histogram & 0.5257 &IForest & Gaussian + Histogram & $0.5105\\\\pm0.0151$ \\\\\\\\\\nDeepSVDD & Gaussian + Histogram & $0.5248\\\\pm0.0285$ &COPOD & Gaussian + Histogram & 0.5053 \\\\\\\\\\nHBOS & Gaussian + Histogram & 0.5172 &SOGAAL & Max + SIFT & 0.5000 \\\\\\\\\\nSOGAAL & Max + SIFT & 0.5000 &OCSVM & Gaussian + Histogram & 0.5000 \\\\\\\\\\nOCSVM & Gaussian + Histogram & 0.5000 &KDE & Gaussian + Histogram & 0.5000 \\\\\\\\\\nKDE & Gaussian + Histogram & 0.5000 &KNN & Gaussian + Histogram & 0.4953 \\\\\\\\\\nKNN & Gaussian + Histogram & 0.4833 &AvgKNN & Gaussian + Histogram & 0.4947 \\\\\\\\\\nAvgKNN & Gaussian + Histogram & 0.4833 &COF & Gaussian + Histogram & 0.4947 \\\\\\\\\\nMedKNN & Gaussian + Histogram & 0.4833 &MedKNN & Gaussian + Histogram & 0.4947 \\\\\\\\\\nLODA & Gaussian + Histogram & $0.4757\\\\pm0.0080$ &LODA & Gaussian + Histogram & $0.4821\\\\pm0.0123$ \\\\\\\\\\nAnoGAN & Gaussian + Histogram & $0.4723\\\\pm0.0040$ &AnoGAN & Gaussian + Histogram & $0.4739\\\\pm0.0003$ \\\\\\\\\\nSampling & Gaussian + Histogram & $0.4681\\\\pm0.0034$ &CBLOF & Gaussian + Histogram & 0.4737 \\\\\\\\\\nCBLOF & Gaussian + Histogram & 0.4664 &Sampling & Gaussian + Histogram & 0.4737 \\\\\\\\\\nLMDD & Gaussian + Histogram & 0.4664 &LMDD & Gaussian + Histogram & 0.4737 \\\\\\\\\\n\\n        \\\\bottomrule\\n        \\\\end{tabular}\\n        }\\n        \\\\end{table}\\n        '"
      ]
     },
     "execution_count": 10,
     "metadata": {},
     "output_type": "execute_result"
    }
   ],
   "source": [
    "pathA = '/raid/mpsych/ODL/ASTAR_default_10_152545.pkl'\n",
    "pathB = '/raid/mpsych/ODL/BSTAR_default_10_152546.pkl'\n",
    "\n",
    "odl.results_to_latex([pathA, pathB], variable='roc_auc')"
   ]
  },
  {
   "cell_type": "code",
   "execution_count": 11,
   "id": "4f2e48da",
   "metadata": {},
   "outputs": [
    {
     "name": "stdout",
     "output_type": "stream",
     "text": [
      "\n",
      "        \\begin{table}[!h]\n",
      "        \\centering\n",
      "        \\label{tab:results}\n",
      "        \\caption{ }\n",
      "        \\resizebox{\\textwidth}{!}{\n",
      "        \\begin{tabular}{ccl|ccl}\n",
      "        \\toprule\n",
      "        \\multicolumn{3}{c}{\\textbf{Dataset ASTAR}} & \\multicolumn{3}{c}{\\textbf{Dataset BSTAR}} \\\\\n",
      "        \\textbf{Algorithm} & \\textbf{Norm. + Feature}  & \\textbf{Jaccard Score} &\\textbf{Algorithm} & \\textbf{Norm. + Feature}  & \\textbf{Jaccard Score} \\\\\n",
      "        \\midrule\n",
      "        LOF & Min-Max + SIFT & $0.3354\\pm0.0288$ &LOF & Min-Max + SIFT & $0.4497\\pm0.0249$ \\\\\n",
      "FB & Max + SIFT & $0.2839\\pm0.0316$ &FB & Max + SIFT & $0.4274\\pm0.0346$ \\\\\n",
      "INNE & Max + SIFT & $0.2584\\pm0.0525$ &SOS & Max + SIFT & $0.3563\\pm0.0418$ \\\\\n",
      "SOD & Min-Max + SIFT & $0.1573\\pm0.0190$ &INNE & Max + SIFT & $0.2701\\pm0.0381$ \\\\\n",
      "SOS & Max + SIFT & $0.1296\\pm0.0253$ &HBOS & Gaussian + Histogram & 0.1236 \\\\\n",
      "ECOD & Gaussian + Histogram & 0.1053 &ECOD & Gaussian + Histogram & 0.1111 \\\\\n",
      "IForest & Gaussian + Histogram & $0.0755\\pm0.0219$ &SOD & Min-Max + SIFT & $0.1015\\pm0.0132$ \\\\\n",
      "AE & Max + Histogram & 0.0678 &SUOD & Gaussian + Histogram & $0.0814\\pm0.0175$ \\\\\n",
      "COPOD & Gaussian + Histogram & 0.0678 &DeepSVDD & Gaussian + Histogram & $0.0731\\pm0.0535$ \\\\\n",
      "SUOD & Gaussian + Histogram & $0.0606\\pm0.0054$ &AE & Max + Histogram & 0.0638 \\\\\n",
      "VAE & Min-Max + Histogram & 0.0588 &PCA & Gaussian + Histogram & 0.0526 \\\\\n",
      "PCA & Gaussian + Histogram & 0.0588 &VAE & Min-Max + Histogram & $0.0482\\pm0.0054$ \\\\\n",
      "COF & Gaussian + Histogram & 0.0588 &IForest & Gaussian + Histogram & $0.0365\\pm0.0156$ \\\\\n",
      "DeepSVDD & Gaussian + Histogram & $0.0588\\pm0.0299$ &COPOD & Gaussian + Histogram & 0.0309 \\\\\n",
      "HBOS & Gaussian + Histogram & 0.0500 &KNN & Gaussian + Histogram & 0.0206 \\\\\n",
      "KNN & Gaussian + Histogram & 0.0161 &AvgKNN & Gaussian + Histogram & 0.0204 \\\\\n",
      "AvgKNN & Gaussian + Histogram & 0.0161 &COF & Gaussian + Histogram & 0.0204 \\\\\n",
      "MedKNN & Gaussian + Histogram & 0.0161 &MedKNN & Gaussian + Histogram & 0.0204 \\\\\n",
      "LODA & Gaussian + Histogram & $0.0089\\pm0.0077$ &LODA & Gaussian + Histogram & $0.0082\\pm0.0121$ \\\\\n",
      "Sampling & Gaussian + Histogram & $0.0016\\pm0.0032$ &SOGAAL & Max + SIFT & 0.0000 \\\\\n",
      "SOGAAL & Max + SIFT & 0.0000 &AnoGAN & Gaussian + Histogram & 0.0000 \\\\\n",
      "AnoGAN & Gaussian + Histogram & 0.0000 &OCSVM & Gaussian + Histogram & 0.0000 \\\\\n",
      "OCSVM & Gaussian + Histogram & 0.0000 &CBLOF & Gaussian + Histogram & 0.0000 \\\\\n",
      "CBLOF & Gaussian + Histogram & 0.0000 &KDE & Gaussian + Histogram & 0.0000 \\\\\n",
      "KDE & Gaussian + Histogram & 0.0000 &Sampling & Gaussian + Histogram & 0.0000 \\\\\n",
      "LMDD & Gaussian + Histogram & 0.0000 &LMDD & Gaussian + Histogram & 0.0000 \\\\\n",
      "\n",
      "        \\bottomrule\n",
      "        \\end{tabular}\n",
      "        }\n",
      "        \\end{table}\n",
      "        \n"
     ]
    },
    {
     "data": {
      "text/plain": [
       "'\\n        \\\\begin{table}[!h]\\n        \\\\centering\\n        \\\\label{tab:results}\\n        \\\\caption{ }\\n        \\\\resizebox{\\\\textwidth}{!}{\\n        \\\\begin{tabular}{ccl|ccl}\\n        \\\\toprule\\n        \\\\multicolumn{3}{c}{\\\\textbf{Dataset ASTAR}} & \\\\multicolumn{3}{c}{\\\\textbf{Dataset BSTAR}} \\\\\\\\\\n        \\\\textbf{Algorithm} & \\\\textbf{Norm. + Feature}  & \\\\textbf{Jaccard Score} &\\\\textbf{Algorithm} & \\\\textbf{Norm. + Feature}  & \\\\textbf{Jaccard Score} \\\\\\\\\\n        \\\\midrule\\n        LOF & Min-Max + SIFT & $0.3354\\\\pm0.0288$ &LOF & Min-Max + SIFT & $0.4497\\\\pm0.0249$ \\\\\\\\\\nFB & Max + SIFT & $0.2839\\\\pm0.0316$ &FB & Max + SIFT & $0.4274\\\\pm0.0346$ \\\\\\\\\\nINNE & Max + SIFT & $0.2584\\\\pm0.0525$ &SOS & Max + SIFT & $0.3563\\\\pm0.0418$ \\\\\\\\\\nSOD & Min-Max + SIFT & $0.1573\\\\pm0.0190$ &INNE & Max + SIFT & $0.2701\\\\pm0.0381$ \\\\\\\\\\nSOS & Max + SIFT & $0.1296\\\\pm0.0253$ &HBOS & Gaussian + Histogram & 0.1236 \\\\\\\\\\nECOD & Gaussian + Histogram & 0.1053 &ECOD & Gaussian + Histogram & 0.1111 \\\\\\\\\\nIForest & Gaussian + Histogram & $0.0755\\\\pm0.0219$ &SOD & Min-Max + SIFT & $0.1015\\\\pm0.0132$ \\\\\\\\\\nAE & Max + Histogram & 0.0678 &SUOD & Gaussian + Histogram & $0.0814\\\\pm0.0175$ \\\\\\\\\\nCOPOD & Gaussian + Histogram & 0.0678 &DeepSVDD & Gaussian + Histogram & $0.0731\\\\pm0.0535$ \\\\\\\\\\nSUOD & Gaussian + Histogram & $0.0606\\\\pm0.0054$ &AE & Max + Histogram & 0.0638 \\\\\\\\\\nVAE & Min-Max + Histogram & 0.0588 &PCA & Gaussian + Histogram & 0.0526 \\\\\\\\\\nPCA & Gaussian + Histogram & 0.0588 &VAE & Min-Max + Histogram & $0.0482\\\\pm0.0054$ \\\\\\\\\\nCOF & Gaussian + Histogram & 0.0588 &IForest & Gaussian + Histogram & $0.0365\\\\pm0.0156$ \\\\\\\\\\nDeepSVDD & Gaussian + Histogram & $0.0588\\\\pm0.0299$ &COPOD & Gaussian + Histogram & 0.0309 \\\\\\\\\\nHBOS & Gaussian + Histogram & 0.0500 &KNN & Gaussian + Histogram & 0.0206 \\\\\\\\\\nKNN & Gaussian + Histogram & 0.0161 &AvgKNN & Gaussian + Histogram & 0.0204 \\\\\\\\\\nAvgKNN & Gaussian + Histogram & 0.0161 &COF & Gaussian + Histogram & 0.0204 \\\\\\\\\\nMedKNN & Gaussian + Histogram & 0.0161 &MedKNN & Gaussian + Histogram & 0.0204 \\\\\\\\\\nLODA & Gaussian + Histogram & $0.0089\\\\pm0.0077$ &LODA & Gaussian + Histogram & $0.0082\\\\pm0.0121$ \\\\\\\\\\nSampling & Gaussian + Histogram & $0.0016\\\\pm0.0032$ &SOGAAL & Max + SIFT & 0.0000 \\\\\\\\\\nSOGAAL & Max + SIFT & 0.0000 &AnoGAN & Gaussian + Histogram & 0.0000 \\\\\\\\\\nAnoGAN & Gaussian + Histogram & 0.0000 &OCSVM & Gaussian + Histogram & 0.0000 \\\\\\\\\\nOCSVM & Gaussian + Histogram & 0.0000 &CBLOF & Gaussian + Histogram & 0.0000 \\\\\\\\\\nCBLOF & Gaussian + Histogram & 0.0000 &KDE & Gaussian + Histogram & 0.0000 \\\\\\\\\\nKDE & Gaussian + Histogram & 0.0000 &Sampling & Gaussian + Histogram & 0.0000 \\\\\\\\\\nLMDD & Gaussian + Histogram & 0.0000 &LMDD & Gaussian + Histogram & 0.0000 \\\\\\\\\\n\\n        \\\\bottomrule\\n        \\\\end{tabular}\\n        }\\n        \\\\end{table}\\n        '"
      ]
     },
     "execution_count": 11,
     "metadata": {},
     "output_type": "execute_result"
    }
   ],
   "source": [
    "odl.results_to_latex([pathA, pathB], variable='jaccard_score')"
   ]
  },
  {
   "cell_type": "code",
   "execution_count": 12,
   "id": "38548941",
   "metadata": {},
   "outputs": [
    {
     "name": "stdout",
     "output_type": "stream",
     "text": [
      "\n",
      "        \\begin{table}[!h]\n",
      "        \\centering\n",
      "        \\label{tab:results}\n",
      "        \\caption{ }\n",
      "        \\resizebox{\\textwidth}{!}{\n",
      "        \\begin{tabular}{ccl|ccl}\n",
      "        \\toprule\n",
      "        \\multicolumn{3}{c}{\\textbf{Dataset ASTAR}} & \\multicolumn{3}{c}{\\textbf{Dataset BSTAR}} \\\\\n",
      "        \\textbf{Algorithm} & \\textbf{Norm. + Feature}  & \\textbf{F1 Score} &\\textbf{Algorithm} & \\textbf{Norm. + Feature}  & \\textbf{F1 Score} \\\\\n",
      "        \\midrule\n",
      "        LOF & Min-Max + SIFT & $0.5016\\pm0.0319$ &LOF & Min-Max + SIFT & $0.6200\\pm0.0237$ \\\\\n",
      "FB & Max + SIFT & $0.4413\\pm0.0388$ &FB & Max + SIFT & $0.5980\\pm0.0340$ \\\\\n",
      "INNE & Max + SIFT & $0.4079\\pm0.0666$ &SOS & Max + SIFT & $0.5240\\pm0.0454$ \\\\\n",
      "SOD & Min-Max + SIFT & $0.2714\\pm0.0288$ &INNE & Max + SIFT & $0.4240\\pm0.0454$ \\\\\n",
      "SOS & Max + SIFT & $0.2286\\pm0.0403$ &HBOS & Gaussian + Histogram & 0.2200 \\\\\n",
      "ECOD & Gaussian + Histogram & 0.1905 &ECOD & Gaussian + Histogram & 0.2000 \\\\\n",
      "IForest & Gaussian + Histogram & $0.1397\\pm0.0374$ &SOD & Min-Max + SIFT & $0.1840\\pm0.0215$ \\\\\n",
      "AE & Max + Histogram & 0.1270 &SUOD & Gaussian + Histogram & $0.1500\\pm0.0300$ \\\\\n",
      "COPOD & Gaussian + Histogram & 0.1270 &DeepSVDD & Gaussian + Histogram & $0.1320\\pm0.0854$ \\\\\n",
      "SUOD & Gaussian + Histogram & $0.1143\\pm0.0095$ &AE & Max + Histogram & 0.1200 \\\\\n",
      "VAE & Min-Max + Histogram & 0.1111 &PCA & Gaussian + Histogram & 0.1000 \\\\\n",
      "PCA & Gaussian + Histogram & 0.1111 &VAE & Min-Max + Histogram & $0.0920\\pm0.0098$ \\\\\n",
      "COF & Gaussian + Histogram & 0.1111 &IForest & Gaussian + Histogram & $0.0700\\pm0.0286$ \\\\\n",
      "DeepSVDD & Gaussian + Histogram & $0.1095\\pm0.0533$ &COPOD & Gaussian + Histogram & 0.0600 \\\\\n",
      "HBOS & Gaussian + Histogram & 0.0952 &KNN & Gaussian + Histogram & 0.0404 \\\\\n",
      "KNN & Gaussian + Histogram & 0.0317 &AvgKNN & Gaussian + Histogram & 0.0400 \\\\\n",
      "AvgKNN & Gaussian + Histogram & 0.0317 &COF & Gaussian + Histogram & 0.0400 \\\\\n",
      "MedKNN & Gaussian + Histogram & 0.0317 &MedKNN & Gaussian + Histogram & 0.0400 \\\\\n",
      "LODA & Gaussian + Histogram & $0.0175\\pm0.0150$ &LODA & Gaussian + Histogram & $0.0160\\pm0.0233$ \\\\\n",
      "Sampling & Gaussian + Histogram & $0.0032\\pm0.0063$ &SOGAAL & Max + SIFT & 0.0000 \\\\\n",
      "SOGAAL & Max + SIFT & 0.0000 &AnoGAN & Gaussian + Histogram & 0.0000 \\\\\n",
      "AnoGAN & Gaussian + Histogram & 0.0000 &OCSVM & Gaussian + Histogram & 0.0000 \\\\\n",
      "OCSVM & Gaussian + Histogram & 0.0000 &CBLOF & Gaussian + Histogram & 0.0000 \\\\\n",
      "CBLOF & Gaussian + Histogram & 0.0000 &KDE & Gaussian + Histogram & 0.0000 \\\\\n",
      "KDE & Gaussian + Histogram & 0.0000 &Sampling & Gaussian + Histogram & 0.0000 \\\\\n",
      "LMDD & Gaussian + Histogram & 0.0000 &LMDD & Gaussian + Histogram & 0.0000 \\\\\n",
      "\n",
      "        \\bottomrule\n",
      "        \\end{tabular}\n",
      "        }\n",
      "        \\end{table}\n",
      "        \n"
     ]
    },
    {
     "data": {
      "text/plain": [
       "'\\n        \\\\begin{table}[!h]\\n        \\\\centering\\n        \\\\label{tab:results}\\n        \\\\caption{ }\\n        \\\\resizebox{\\\\textwidth}{!}{\\n        \\\\begin{tabular}{ccl|ccl}\\n        \\\\toprule\\n        \\\\multicolumn{3}{c}{\\\\textbf{Dataset ASTAR}} & \\\\multicolumn{3}{c}{\\\\textbf{Dataset BSTAR}} \\\\\\\\\\n        \\\\textbf{Algorithm} & \\\\textbf{Norm. + Feature}  & \\\\textbf{F1 Score} &\\\\textbf{Algorithm} & \\\\textbf{Norm. + Feature}  & \\\\textbf{F1 Score} \\\\\\\\\\n        \\\\midrule\\n        LOF & Min-Max + SIFT & $0.5016\\\\pm0.0319$ &LOF & Min-Max + SIFT & $0.6200\\\\pm0.0237$ \\\\\\\\\\nFB & Max + SIFT & $0.4413\\\\pm0.0388$ &FB & Max + SIFT & $0.5980\\\\pm0.0340$ \\\\\\\\\\nINNE & Max + SIFT & $0.4079\\\\pm0.0666$ &SOS & Max + SIFT & $0.5240\\\\pm0.0454$ \\\\\\\\\\nSOD & Min-Max + SIFT & $0.2714\\\\pm0.0288$ &INNE & Max + SIFT & $0.4240\\\\pm0.0454$ \\\\\\\\\\nSOS & Max + SIFT & $0.2286\\\\pm0.0403$ &HBOS & Gaussian + Histogram & 0.2200 \\\\\\\\\\nECOD & Gaussian + Histogram & 0.1905 &ECOD & Gaussian + Histogram & 0.2000 \\\\\\\\\\nIForest & Gaussian + Histogram & $0.1397\\\\pm0.0374$ &SOD & Min-Max + SIFT & $0.1840\\\\pm0.0215$ \\\\\\\\\\nAE & Max + Histogram & 0.1270 &SUOD & Gaussian + Histogram & $0.1500\\\\pm0.0300$ \\\\\\\\\\nCOPOD & Gaussian + Histogram & 0.1270 &DeepSVDD & Gaussian + Histogram & $0.1320\\\\pm0.0854$ \\\\\\\\\\nSUOD & Gaussian + Histogram & $0.1143\\\\pm0.0095$ &AE & Max + Histogram & 0.1200 \\\\\\\\\\nVAE & Min-Max + Histogram & 0.1111 &PCA & Gaussian + Histogram & 0.1000 \\\\\\\\\\nPCA & Gaussian + Histogram & 0.1111 &VAE & Min-Max + Histogram & $0.0920\\\\pm0.0098$ \\\\\\\\\\nCOF & Gaussian + Histogram & 0.1111 &IForest & Gaussian + Histogram & $0.0700\\\\pm0.0286$ \\\\\\\\\\nDeepSVDD & Gaussian + Histogram & $0.1095\\\\pm0.0533$ &COPOD & Gaussian + Histogram & 0.0600 \\\\\\\\\\nHBOS & Gaussian + Histogram & 0.0952 &KNN & Gaussian + Histogram & 0.0404 \\\\\\\\\\nKNN & Gaussian + Histogram & 0.0317 &AvgKNN & Gaussian + Histogram & 0.0400 \\\\\\\\\\nAvgKNN & Gaussian + Histogram & 0.0317 &COF & Gaussian + Histogram & 0.0400 \\\\\\\\\\nMedKNN & Gaussian + Histogram & 0.0317 &MedKNN & Gaussian + Histogram & 0.0400 \\\\\\\\\\nLODA & Gaussian + Histogram & $0.0175\\\\pm0.0150$ &LODA & Gaussian + Histogram & $0.0160\\\\pm0.0233$ \\\\\\\\\\nSampling & Gaussian + Histogram & $0.0032\\\\pm0.0063$ &SOGAAL & Max + SIFT & 0.0000 \\\\\\\\\\nSOGAAL & Max + SIFT & 0.0000 &AnoGAN & Gaussian + Histogram & 0.0000 \\\\\\\\\\nAnoGAN & Gaussian + Histogram & 0.0000 &OCSVM & Gaussian + Histogram & 0.0000 \\\\\\\\\\nOCSVM & Gaussian + Histogram & 0.0000 &CBLOF & Gaussian + Histogram & 0.0000 \\\\\\\\\\nCBLOF & Gaussian + Histogram & 0.0000 &KDE & Gaussian + Histogram & 0.0000 \\\\\\\\\\nKDE & Gaussian + Histogram & 0.0000 &Sampling & Gaussian + Histogram & 0.0000 \\\\\\\\\\nLMDD & Gaussian + Histogram & 0.0000 &LMDD & Gaussian + Histogram & 0.0000 \\\\\\\\\\n\\n        \\\\bottomrule\\n        \\\\end{tabular}\\n        }\\n        \\\\end{table}\\n        '"
      ]
     },
     "execution_count": 12,
     "metadata": {},
     "output_type": "execute_result"
    }
   ],
   "source": [
    "odl.results_to_latex([pathA, pathB], variable='f1_score')"
   ]
  },
  {
   "cell_type": "code",
   "execution_count": null,
   "id": "e3cee8a4",
   "metadata": {},
   "outputs": [],
   "source": []
  }
 ],
 "metadata": {
  "kernelspec": {
   "display_name": "Python 3 (ipykernel)",
   "language": "python",
   "name": "python3"
  },
  "language_info": {
   "codemirror_mode": {
    "name": "ipython",
    "version": 3
   },
   "file_extension": ".py",
   "mimetype": "text/x-python",
   "name": "python",
   "nbconvert_exporter": "python",
   "pygments_lexer": "ipython3",
   "version": "3.9.7"
  }
 },
 "nbformat": 4,
 "nbformat_minor": 5
}
