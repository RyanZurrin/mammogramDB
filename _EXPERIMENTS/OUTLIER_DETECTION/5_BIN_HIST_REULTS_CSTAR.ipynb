{
 "cells": [
  {
   "cell_type": "code",
   "execution_count": 1,
   "id": "91d345bd",
   "metadata": {},
   "outputs": [
    {
     "name": "stdout",
     "output_type": "stream",
     "text": [
      "Populating the interactive namespace from numpy and matplotlib\n"
     ]
    }
   ],
   "source": [
    "%pylab inline\n",
    "%load_ext autoreload\n",
    "%autoreload 2\n",
    "import sys\n",
    "sys.path.insert(0,'../..')\n",
    "import omama as O"
   ]
  },
  {
   "cell_type": "code",
   "execution_count": 2,
   "id": "e4530b48",
   "metadata": {},
   "outputs": [],
   "source": [
    "odl = O.OutlierDetectorLite()"
   ]
  },
  {
   "cell_type": "code",
   "execution_count": 3,
   "id": "32378bb6",
   "metadata": {},
   "outputs": [],
   "source": [
    "data_imgs = odl.load_data(DATASET='CSTAR')"
   ]
  },
  {
   "cell_type": "code",
   "execution_count": 4,
   "id": "fe6e28d8",
   "metadata": {},
   "outputs": [],
   "source": [
    "gt = odl.load_ground_truth('CSTAR')"
   ]
  },
  {
   "cell_type": "code",
   "execution_count": 5,
   "id": "13bd13ed",
   "metadata": {},
   "outputs": [
    {
     "data": {
      "text/plain": [
       "1000"
      ]
     },
     "execution_count": 5,
     "metadata": {},
     "output_type": "execute_result"
    }
   ],
   "source": [
    "len(data_imgs)"
   ]
  },
  {
   "cell_type": "code",
   "execution_count": 6,
   "id": "21f153e0",
   "metadata": {},
   "outputs": [],
   "source": [
    "binary_bin_feats = O.Features.get_features(data=data_imgs, feature_type='hist', norm_type='minmax', bins=5)"
   ]
  },
  {
   "cell_type": "code",
   "execution_count": 14,
   "id": "f590beab",
   "metadata": {
    "scrolled": true
   },
   "outputs": [],
   "source": [
    "bad_images = []\n",
    "bad_indexes_found = []\n",
    "paths = []\n",
    "for i, binary in enumerate(binary_bin_feats):\n",
    "    if binary[4] > 15000 or binary[1] < 2000:\n",
    "        print(i, binary)\n",
    "        bad_images.append(data_imgs[i])\n",
    "        paths.append(data_imgs[i].filePath)\n",
    "        bad_indexes_found.append(i)"
   ]
  },
  {
   "cell_type": "code",
   "execution_count": null,
   "id": "dda1db53",
   "metadata": {},
   "outputs": [],
   "source": []
  },
  {
   "cell_type": "code",
   "execution_count": 8,
   "id": "5ddd6f8f",
   "metadata": {},
   "outputs": [],
   "source": [
    "# 117, 628,"
   ]
  },
  {
   "cell_type": "code",
   "execution_count": 9,
   "id": "92d539e9",
   "metadata": {},
   "outputs": [
    {
     "data": {
      "text/plain": [
       "(array([ 24,  26,  73, 190, 209, 212, 259, 364, 471, 642, 655, 744, 788,\n",
       "        815, 970]),)"
      ]
     },
     "execution_count": 9,
     "metadata": {},
     "output_type": "execute_result"
    }
   ],
   "source": [
    "np.where(np.array(gt)>0)"
   ]
  },
  {
   "cell_type": "code",
   "execution_count": 10,
   "id": "a8f34edf",
   "metadata": {},
   "outputs": [
    {
     "data": {
      "text/plain": [
       "0"
      ]
     },
     "execution_count": 10,
     "metadata": {},
     "output_type": "execute_result"
    }
   ],
   "source": [
    "len(bad_images)"
   ]
  },
  {
   "cell_type": "code",
   "execution_count": null,
   "id": "a30ae7b9",
   "metadata": {},
   "outputs": [],
   "source": []
  },
  {
   "cell_type": "code",
   "execution_count": null,
   "id": "abbba7ed",
   "metadata": {},
   "outputs": [],
   "source": []
  }
 ],
 "metadata": {
  "kernelspec": {
   "display_name": "Python 3 (ipykernel)",
   "language": "python",
   "name": "python3"
  },
  "language_info": {
   "codemirror_mode": {
    "name": "ipython",
    "version": 3
   },
   "file_extension": ".py",
   "mimetype": "text/x-python",
   "name": "python",
   "nbconvert_exporter": "python",
   "pygments_lexer": "ipython3",
   "version": "3.9.7"
  }
 },
 "nbformat": 4,
 "nbformat_minor": 5
}
