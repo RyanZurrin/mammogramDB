{
 "cells": [
  {
   "cell_type": "code",
   "execution_count": 1,
   "id": "3f61d0ae",
   "metadata": {},
   "outputs": [
    {
     "name": "stdout",
     "output_type": "stream",
     "text": [
      "Populating the interactive namespace from numpy and matplotlib\n"
     ]
    }
   ],
   "source": [
    "%pylab inline\n",
    "%load_ext autoreload\n",
    "%autoreload 2"
   ]
  },
  {
   "cell_type": "code",
   "execution_count": 2,
   "id": "95cee42e",
   "metadata": {},
   "outputs": [],
   "source": [
    "import sys\n",
    "sys.path.insert(0,'../..')"
   ]
  },
  {
   "cell_type": "code",
   "execution_count": 3,
   "id": "b9678d5e",
   "metadata": {},
   "outputs": [],
   "source": [
    "import pickle"
   ]
  },
  {
   "cell_type": "code",
   "execution_count": 4,
   "id": "3115bd11",
   "metadata": {},
   "outputs": [],
   "source": [
    "import omama as O # importing the Omama package\n"
   ]
  },
  {
   "cell_type": "code",
   "execution_count": 5,
   "id": "cb52241c",
   "metadata": {},
   "outputs": [],
   "source": [
    "DATASET = 'B'\n",
    "ALGORITHM = 'AE' # TODO\n",
    "\n",
    "\n",
    "\n"
   ]
  },
  {
   "cell_type": "code",
   "execution_count": 6,
   "id": "deb3294d",
   "metadata": {},
   "outputs": [],
   "source": [
    "DATASET_C = {'A':0.08, 'B': 0.13, 'C': 0.24}\n",
    "\n",
    "CONTAMINATION = DATASET_C[DATASET]"
   ]
  },
  {
   "cell_type": "code",
   "execution_count": 7,
   "id": "3dd1b8e9",
   "metadata": {},
   "outputs": [],
   "source": [
    "# load Dataset A\n",
    "with open('/raid/mpsych/dataset'+DATASET+'.pkl', 'rb') as f:\n",
    "    imgs = pickle.load(f)\n",
    "\n",
    "\n"
   ]
  },
  {
   "cell_type": "code",
   "execution_count": 8,
   "id": "668376bc",
   "metadata": {},
   "outputs": [
    {
     "data": {
      "text/plain": [
       "<matplotlib.image.AxesImage at 0x7f4a11218880>"
      ]
     },
     "execution_count": 8,
     "metadata": {},
     "output_type": "execute_result"
    },
    {
     "data": {
      "image/png": "[encoded data removed]",
      "text/plain": [
       "<Figure size 432x288 with 1 Axes>"
      ]
     },
     "metadata": {
      "needs_background": "light"
     },
     "output_type": "display_data"
    }
   ],
   "source": [
    "imshow(imgs[10].pixels)"
   ]
  },
  {
   "cell_type": "code",
   "execution_count": 9,
   "id": "5e114144",
   "metadata": {},
   "outputs": [],
   "source": [
    "# setup algorithm w/ best config w/ best feat w/ best norm\n",
    "with open('/raid/mpsych/dataset'+DATASET+'_configs.pkl', 'rb') as f:\n",
    "    configs = pickle.load(f)\n",
    "    \n",
    "CONFIG = configs[ALGORITHM]['config']\n",
    "NORM = configs[ALGORITHM]['norm']\n",
    "FEAT = configs[ALGORITHM]['feat']\n",
    "\n",
    "CONFIG['verbose'] = True"
   ]
  },
  {
   "cell_type": "code",
   "execution_count": 10,
   "id": "8cf8d24b",
   "metadata": {},
   "outputs": [
    {
     "data": {
      "text/plain": [
       "('max', 'sift')"
      ]
     },
     "execution_count": 10,
     "metadata": {},
     "output_type": "execute_result"
    }
   ],
   "source": [
    "NORM, FEAT"
   ]
  },
  {
   "cell_type": "code",
   "execution_count": 11,
   "id": "dc049fe8",
   "metadata": {},
   "outputs": [
    {
     "data": {
      "text/plain": [
       "{'contamination': 0.13,\n",
       " 'verbose': True,\n",
       " 'n_jobs': 1,\n",
       " 'norm_type': 'max',\n",
       " 'tol': 0.5,\n",
       " 'n_bins': 2,\n",
       " 'alpha': 0.08,\n",
       " 'beta': 3,\n",
       " 'n_neighbors': 3,\n",
       " 'n_clusters': 2,\n",
       " 'base_estimators': ['LOF', 'INNE', 'CBLOF', 'FB'],\n",
       " 'cluster_estimator': 'KMeans',\n",
       " 'n_estimators': 6,\n",
       " 'subset_size': 0.5,\n",
       " 'combination': 'maximum',\n",
       " 'leaf_size': 30,\n",
       " 'p': 2,\n",
       " 'novelty': True,\n",
       " 'kernel': 'rbf',\n",
       " 'degree': 3,\n",
       " 'gamma': 0.1,\n",
       " 'coef0': 1,\n",
       " 'nu': 0.5,\n",
       " 'shrinking': True,\n",
       " 'cache_size': 200,\n",
       " 'max_iter': -1,\n",
       " 'max_samples': 0.5,\n",
       " 'bandwidth': 2.0,\n",
       " 'radius': 1.0,\n",
       " 'hidden_neurons': [24, 12, 12, 24]}"
      ]
     },
     "execution_count": 11,
     "metadata": {},
     "output_type": "execute_result"
    }
   ],
   "source": [
    "CONFIG"
   ]
  },
  {
   "cell_type": "code",
   "execution_count": null,
   "id": "9783ffbb",
   "metadata": {},
   "outputs": [],
   "source": []
  },
  {
   "cell_type": "code",
   "execution_count": 12,
   "id": "dc6e6c9c",
   "metadata": {},
   "outputs": [],
   "source": [
    "feature_vector = O.Features.get_features(imgs, FEAT, NORM)"
   ]
  },
  {
   "cell_type": "code",
   "execution_count": 13,
   "id": "9cc3a3dd",
   "metadata": {
    "scrolled": false
   },
   "outputs": [
    {
     "name": "stdout",
     "output_type": "stream",
     "text": [
      "Running AE...\n",
      "In AE algorithm\n"
     ]
    },
    {
     "name": "stderr",
     "output_type": "stream",
     "text": [
      "2023-01-15 15:15:17.548652: I tensorflow/stream_executor/platform/default/dso_loader.cc:53] Successfully opened dynamic library libcudart.so.11.0\n",
      "2023-01-15 15:15:18.957732: I tensorflow/stream_executor/platform/default/dso_loader.cc:53] Successfully opened dynamic library libcuda.so.1\n",
      "2023-01-15 15:15:19.041815: I tensorflow/core/common_runtime/gpu/gpu_device.cc:1733] Found device 0 with properties: \n",
      "pciBusID: 0000:0f:00.0 name: A100-SXM4-40GB computeCapability: 8.0\n",
      "coreClock: 1.41GHz coreCount: 108 deviceMemorySize: 39.59GiB deviceMemoryBandwidth: 1.41TiB/s\n",
      "2023-01-15 15:15:19.041864: I tensorflow/stream_executor/platform/default/dso_loader.cc:53] Successfully opened dynamic library libcudart.so.11.0\n",
      "2023-01-15 15:15:19.045166: I tensorflow/stream_executor/platform/default/dso_loader.cc:53] Successfully opened dynamic library libcublas.so.11\n",
      "2023-01-15 15:15:19.045207: I tensorflow/stream_executor/platform/default/dso_loader.cc:53] Successfully opened dynamic library libcublasLt.so.11\n",
      "2023-01-15 15:15:19.046113: I tensorflow/stream_executor/platform/default/dso_loader.cc:53] Successfully opened dynamic library libcufft.so.10\n",
      "2023-01-15 15:15:19.046446: I tensorflow/stream_executor/platform/default/dso_loader.cc:53] Successfully opened dynamic library libcurand.so.10\n",
      "2023-01-15 15:15:19.047006: I tensorflow/stream_executor/platform/default/dso_loader.cc:53] Successfully opened dynamic library libcusolver.so.11\n",
      "2023-01-15 15:15:19.047812: I tensorflow/stream_executor/platform/default/dso_loader.cc:53] Successfully opened dynamic library libcusparse.so.11\n",
      "2023-01-15 15:15:19.048062: I tensorflow/stream_executor/platform/default/dso_loader.cc:53] Successfully opened dynamic library libcudnn.so.8\n",
      "2023-01-15 15:15:19.053343: I tensorflow/core/common_runtime/gpu/gpu_device.cc:1871] Adding visible gpu devices: 0\n"
     ]
    },
    {
     "name": "stdout",
     "output_type": "stream",
     "text": [
      "Model: \"sequential\"\n",
      "_________________________________________________________________\n",
      "Layer (type)                 Output Shape              Param #   \n",
      "=================================================================\n",
      "dense (Dense)                (None, 64)                4160      \n",
      "_________________________________________________________________\n",
      "dropout (Dropout)            (None, 64)                0         \n",
      "_________________________________________________________________\n",
      "dense_1 (Dense)              (None, 64)                4160      \n",
      "_________________________________________________________________\n",
      "dropout_1 (Dropout)          (None, 64)                0         \n",
      "_________________________________________________________________\n",
      "dense_2 (Dense)              (None, 24)                1560      \n",
      "_________________________________________________________________\n",
      "dropout_2 (Dropout)          (None, 24)                0         \n",
      "_________________________________________________________________\n",
      "dense_3 (Dense)              (None, 12)                300       \n",
      "_________________________________________________________________\n",
      "dropout_3 (Dropout)          (None, 12)                0         \n",
      "_________________________________________________________________\n",
      "dense_4 (Dense)              (None, 12)                156       \n",
      "_________________________________________________________________\n",
      "dropout_4 (Dropout)          (None, 12)                0         \n",
      "_________________________________________________________________\n",
      "dense_5 (Dense)              (None, 24)                312       \n",
      "_________________________________________________________________\n",
      "dropout_5 (Dropout)          (None, 24)                0         \n",
      "_________________________________________________________________\n",
      "dense_6 (Dense)              (None, 64)                1600      \n",
      "=================================================================\n",
      "Total params: 12,248\n",
      "Trainable params: 12,248\n",
      "Non-trainable params: 0\n",
      "_________________________________________________________________\n",
      "None\n"
     ]
    },
    {
     "name": "stderr",
     "output_type": "stream",
     "text": [
      "2023-01-15 15:15:19.053997: I tensorflow/core/platform/cpu_feature_guard.cc:142] This TensorFlow binary is optimized with oneAPI Deep Neural Network Library (oneDNN) to use the following CPU instructions in performance-critical operations:  AVX2 FMA\n",
      "To enable them in other operations, rebuild TensorFlow with the appropriate compiler flags.\n",
      "2023-01-15 15:15:19.056940: I tensorflow/core/common_runtime/gpu/gpu_device.cc:1733] Found device 0 with properties: \n",
      "pciBusID: 0000:0f:00.0 name: A100-SXM4-40GB computeCapability: 8.0\n",
      "coreClock: 1.41GHz coreCount: 108 deviceMemorySize: 39.59GiB deviceMemoryBandwidth: 1.41TiB/s\n",
      "2023-01-15 15:15:19.062038: I tensorflow/core/common_runtime/gpu/gpu_device.cc:1871] Adding visible gpu devices: 0\n",
      "2023-01-15 15:15:19.062071: I tensorflow/stream_executor/platform/default/dso_loader.cc:53] Successfully opened dynamic library libcudart.so.11.0\n",
      "2023-01-15 15:15:19.531545: I tensorflow/core/common_runtime/gpu/gpu_device.cc:1258] Device interconnect StreamExecutor with strength 1 edge matrix:\n",
      "2023-01-15 15:15:19.531593: I tensorflow/core/common_runtime/gpu/gpu_device.cc:1264]      0 \n",
      "2023-01-15 15:15:19.531600: I tensorflow/core/common_runtime/gpu/gpu_device.cc:1277] 0:   N \n",
      "2023-01-15 15:15:19.539278: I tensorflow/core/common_runtime/gpu/gpu_device.cc:1418] Created TensorFlow device (/job:localhost/replica:0/task:0/device:GPU:0 with 38425 MB memory) -> physical GPU (device: 0, name: A100-SXM4-40GB, pci bus id: 0000:0f:00.0, compute capability: 8.0)\n",
      "2023-01-15 15:15:20.220719: I tensorflow/compiler/mlir/mlir_graph_optimization_pass.cc:176] None of the MLIR Optimization Passes are enabled (registered 2)\n",
      "2023-01-15 15:15:20.222047: I tensorflow/core/platform/profile_utils/cpu_utils.cc:114] CPU Frequency: 2245755000 Hz\n"
     ]
    },
    {
     "name": "stdout",
     "output_type": "stream",
     "text": [
      "Epoch 1/100\n"
     ]
    },
    {
     "name": "stderr",
     "output_type": "stream",
     "text": [
      "2023-01-15 15:15:20.851405: I tensorflow/stream_executor/platform/default/dso_loader.cc:53] Successfully opened dynamic library libcublas.so.11\n"
     ]
    },
    {
     "name": "stdout",
     "output_type": "stream",
     "text": [
      "3/3 [==============================] - 2s 80ms/step - loss: 9.2301 - val_loss: 10.4036\n",
      "Epoch 2/100\n",
      "3/3 [==============================] - 0s 12ms/step - loss: 7.4849 - val_loss: 8.7616\n",
      "Epoch 3/100\n",
      "1/3 [=========>....................] - ETA: 0s - loss: 6.9064"
     ]
    },
    {
     "name": "stderr",
     "output_type": "stream",
     "text": [
      "2023-01-15 15:15:21.665393: I tensorflow/stream_executor/platform/default/dso_loader.cc:53] Successfully opened dynamic library libcublasLt.so.11\n",
      "2023-01-15 15:15:21.665746: I tensorflow/stream_executor/cuda/cuda_blas.cc:1838] TensorFloat-32 will be used for the matrix multiplication. This will only be logged once.\n"
     ]
    },
    {
     "name": "stdout",
     "output_type": "stream",
     "text": [
      "3/3 [==============================] - 0s 13ms/step - loss: 6.2502 - val_loss: 7.5782\n",
      "Epoch 4/100\n",
      "3/3 [==============================] - 0s 13ms/step - loss: 5.4590 - val_loss: 6.7376\n",
      "Epoch 5/100\n",
      "3/3 [==============================] - 0s 13ms/step - loss: 4.9299 - val_loss: 6.1093\n",
      "Epoch 6/100\n",
      "3/3 [==============================] - 0s 12ms/step - loss: 4.4869 - val_loss: 5.6397\n",
      "Epoch 7/100\n",
      "3/3 [==============================] - 0s 11ms/step - loss: 4.1978 - val_loss: 5.2810\n",
      "Epoch 8/100\n",
      "3/3 [==============================] - 0s 12ms/step - loss: 3.9899 - val_loss: 5.0060\n",
      "Epoch 9/100\n",
      "3/3 [==============================] - 0s 24ms/step - loss: 3.8313 - val_loss: 4.8004\n",
      "Epoch 10/100\n",
      "3/3 [==============================] - 0s 13ms/step - loss: 3.6952 - val_loss: 4.6409\n",
      "Epoch 11/100\n",
      "3/3 [==============================] - 0s 12ms/step - loss: 3.6007 - val_loss: 4.5098\n",
      "Epoch 12/100\n",
      "3/3 [==============================] - 0s 13ms/step - loss: 3.5111 - val_loss: 4.4014\n",
      "Epoch 13/100\n",
      "3/3 [==============================] - 0s 13ms/step - loss: 3.4441 - val_loss: 4.3064\n",
      "Epoch 14/100\n",
      "3/3 [==============================] - 0s 13ms/step - loss: 3.3811 - val_loss: 4.2270\n",
      "Epoch 15/100\n",
      "3/3 [==============================] - 0s 12ms/step - loss: 3.3350 - val_loss: 4.1602\n",
      "Epoch 16/100\n",
      "3/3 [==============================] - 0s 13ms/step - loss: 3.2880 - val_loss: 4.1003\n",
      "Epoch 17/100\n",
      "3/3 [==============================] - 0s 12ms/step - loss: 3.2524 - val_loss: 4.0471\n",
      "Epoch 18/100\n",
      "3/3 [==============================] - 0s 12ms/step - loss: 3.2214 - val_loss: 4.0052\n",
      "Epoch 19/100\n",
      "3/3 [==============================] - 0s 11ms/step - loss: 3.1871 - val_loss: 3.9636\n",
      "Epoch 20/100\n",
      "3/3 [==============================] - 0s 11ms/step - loss: 3.1570 - val_loss: 3.9265\n",
      "Epoch 21/100\n",
      "3/3 [==============================] - 0s 26ms/step - loss: 3.1287 - val_loss: 3.8948\n",
      "Epoch 22/100\n",
      "3/3 [==============================] - 0s 13ms/step - loss: 3.1039 - val_loss: 3.8637\n",
      "Epoch 23/100\n",
      "3/3 [==============================] - 0s 13ms/step - loss: 3.0735 - val_loss: 3.8338\n",
      "Epoch 24/100\n",
      "3/3 [==============================] - 0s 13ms/step - loss: 3.0407 - val_loss: 3.8074\n",
      "Epoch 25/100\n",
      "3/3 [==============================] - 0s 14ms/step - loss: 3.0165 - val_loss: 3.7761\n",
      "Epoch 26/100\n",
      "3/3 [==============================] - 0s 13ms/step - loss: 2.9890 - val_loss: 3.7456\n",
      "Epoch 27/100\n",
      "3/3 [==============================] - 0s 13ms/step - loss: 2.9486 - val_loss: 3.7175\n",
      "Epoch 28/100\n",
      "3/3 [==============================] - 0s 13ms/step - loss: 2.9182 - val_loss: 3.6867\n",
      "Epoch 29/100\n",
      "3/3 [==============================] - 0s 14ms/step - loss: 2.8823 - val_loss: 3.6546\n",
      "Epoch 30/100\n",
      "3/3 [==============================] - 0s 11ms/step - loss: 2.8459 - val_loss: 3.6227\n",
      "Epoch 31/100\n",
      "3/3 [==============================] - 0s 29ms/step - loss: 2.8123 - val_loss: 3.5859\n",
      "Epoch 32/100\n",
      "3/3 [==============================] - 0s 13ms/step - loss: 2.7804 - val_loss: 3.5464\n",
      "Epoch 33/100\n",
      "3/3 [==============================] - 0s 13ms/step - loss: 2.7333 - val_loss: 3.5057\n",
      "Epoch 34/100\n",
      "3/3 [==============================] - 0s 13ms/step - loss: 2.6937 - val_loss: 3.4631\n",
      "Epoch 35/100\n",
      "3/3 [==============================] - 0s 13ms/step - loss: 2.6552 - val_loss: 3.4159\n",
      "Epoch 36/100\n",
      "3/3 [==============================] - 0s 13ms/step - loss: 2.6092 - val_loss: 3.3639\n",
      "Epoch 37/100\n",
      "3/3 [==============================] - 0s 13ms/step - loss: 2.5633 - val_loss: 3.3129\n",
      "Epoch 38/100\n",
      "3/3 [==============================] - 0s 13ms/step - loss: 2.4952 - val_loss: 3.2608\n",
      "Epoch 39/100\n",
      "3/3 [==============================] - 0s 14ms/step - loss: 2.4441 - val_loss: 3.2039\n",
      "Epoch 40/100\n",
      "3/3 [==============================] - 0s 11ms/step - loss: 2.4200 - val_loss: 3.1475\n",
      "Epoch 41/100\n",
      "3/3 [==============================] - 0s 11ms/step - loss: 2.3440 - val_loss: 3.0895\n",
      "Epoch 42/100\n",
      "3/3 [==============================] - 0s 11ms/step - loss: 2.2970 - val_loss: 3.0299\n",
      "Epoch 43/100\n",
      "3/3 [==============================] - 0s 11ms/step - loss: 2.2395 - val_loss: 2.9719\n",
      "Epoch 44/100\n",
      "3/3 [==============================] - 0s 11ms/step - loss: 2.1690 - val_loss: 2.9179\n",
      "Epoch 45/100\n",
      "3/3 [==============================] - 0s 11ms/step - loss: 2.1303 - val_loss: 2.8651\n",
      "Epoch 46/100\n",
      "3/3 [==============================] - 0s 11ms/step - loss: 2.1068 - val_loss: 2.8099\n",
      "Epoch 47/100\n",
      "3/3 [==============================] - 0s 12ms/step - loss: 2.0525 - val_loss: 2.7607\n",
      "Epoch 48/100\n",
      "3/3 [==============================] - 0s 11ms/step - loss: 2.0221 - val_loss: 2.7195\n",
      "Epoch 49/100\n",
      "3/3 [==============================] - 0s 11ms/step - loss: 1.9548 - val_loss: 2.6822\n",
      "Epoch 50/100\n",
      "3/3 [==============================] - 0s 11ms/step - loss: 1.9500 - val_loss: 2.6521\n",
      "Epoch 51/100\n",
      "3/3 [==============================] - 0s 11ms/step - loss: 1.9132 - val_loss: 2.6271\n",
      "Epoch 52/100\n",
      "3/3 [==============================] - 0s 11ms/step - loss: 1.9017 - val_loss: 2.6006\n",
      "Epoch 53/100\n",
      "3/3 [==============================] - 0s 11ms/step - loss: 1.8456 - val_loss: 2.5815\n",
      "Epoch 54/100\n",
      "3/3 [==============================] - 0s 11ms/step - loss: 1.8457 - val_loss: 2.5625\n",
      "Epoch 55/100\n",
      "3/3 [==============================] - 0s 11ms/step - loss: 1.8213 - val_loss: 2.5412\n",
      "Epoch 56/100\n",
      "3/3 [==============================] - 0s 11ms/step - loss: 1.7902 - val_loss: 2.5218\n",
      "Epoch 57/100\n",
      "3/3 [==============================] - 0s 11ms/step - loss: 1.7592 - val_loss: 2.5032\n",
      "Epoch 58/100\n",
      "3/3 [==============================] - 0s 11ms/step - loss: 1.7497 - val_loss: 2.4840\n",
      "Epoch 59/100\n",
      "3/3 [==============================] - 0s 12ms/step - loss: 1.7239 - val_loss: 2.4668\n",
      "Epoch 60/100\n",
      "3/3 [==============================] - 0s 11ms/step - loss: 1.7079 - val_loss: 2.4530\n",
      "Epoch 61/100\n",
      "3/3 [==============================] - 0s 11ms/step - loss: 1.7357 - val_loss: 2.4381\n",
      "Epoch 62/100\n",
      "3/3 [==============================] - 0s 11ms/step - loss: 1.7080 - val_loss: 2.4270\n",
      "Epoch 63/100\n",
      "3/3 [==============================] - 0s 11ms/step - loss: 1.6945 - val_loss: 2.4200\n",
      "Epoch 64/100\n",
      "3/3 [==============================] - 0s 11ms/step - loss: 1.6807 - val_loss: 2.4116\n",
      "Epoch 65/100\n",
      "3/3 [==============================] - 0s 11ms/step - loss: 1.6526 - val_loss: 2.4056\n",
      "Epoch 66/100\n",
      "3/3 [==============================] - 0s 11ms/step - loss: 1.6448 - val_loss: 2.3965\n",
      "Epoch 67/100\n",
      "3/3 [==============================] - 0s 11ms/step - loss: 1.6461 - val_loss: 2.3882\n",
      "Epoch 68/100\n",
      "3/3 [==============================] - 0s 11ms/step - loss: 1.6279 - val_loss: 2.3799\n",
      "Epoch 69/100\n",
      "3/3 [==============================] - 0s 11ms/step - loss: 1.6150 - val_loss: 2.3728\n",
      "Epoch 70/100\n",
      "3/3 [==============================] - 0s 11ms/step - loss: 1.6101 - val_loss: 2.3647\n",
      "Epoch 71/100\n",
      "3/3 [==============================] - 0s 11ms/step - loss: 1.5810 - val_loss: 2.3553\n",
      "Epoch 72/100\n",
      "3/3 [==============================] - 0s 11ms/step - loss: 1.5775 - val_loss: 2.3480\n",
      "Epoch 73/100\n",
      "3/3 [==============================] - 0s 11ms/step - loss: 1.5512 - val_loss: 2.3387\n",
      "Epoch 74/100\n",
      "3/3 [==============================] - 0s 11ms/step - loss: 1.5575 - val_loss: 2.3261\n",
      "Epoch 75/100\n",
      "3/3 [==============================] - 0s 12ms/step - loss: 1.5538 - val_loss: 2.3160\n",
      "Epoch 76/100\n",
      "3/3 [==============================] - 0s 11ms/step - loss: 1.5328 - val_loss: 2.3054\n",
      "Epoch 77/100\n",
      "3/3 [==============================] - 0s 11ms/step - loss: 1.5470 - val_loss: 2.2964\n",
      "Epoch 78/100\n",
      "3/3 [==============================] - 0s 11ms/step - loss: 1.5215 - val_loss: 2.2895\n",
      "Epoch 79/100\n",
      "3/3 [==============================] - 0s 11ms/step - loss: 1.5144 - val_loss: 2.2860\n",
      "Epoch 80/100\n",
      "3/3 [==============================] - 0s 11ms/step - loss: 1.5051 - val_loss: 2.2818\n",
      "Epoch 81/100\n",
      "3/3 [==============================] - 0s 11ms/step - loss: 1.5003 - val_loss: 2.2782\n",
      "Epoch 82/100\n",
      "3/3 [==============================] - 0s 11ms/step - loss: 1.4891 - val_loss: 2.2781\n",
      "Epoch 83/100\n",
      "3/3 [==============================] - 0s 11ms/step - loss: 1.4880 - val_loss: 2.2736\n",
      "Epoch 84/100\n",
      "3/3 [==============================] - 0s 11ms/step - loss: 1.4726 - val_loss: 2.2685\n",
      "Epoch 85/100\n",
      "3/3 [==============================] - 0s 11ms/step - loss: 1.4625 - val_loss: 2.2630\n"
     ]
    },
    {
     "name": "stdout",
     "output_type": "stream",
     "text": [
      "Epoch 86/100\n",
      "3/3 [==============================] - 0s 11ms/step - loss: 1.4551 - val_loss: 2.2558\n",
      "Epoch 87/100\n",
      "3/3 [==============================] - 0s 11ms/step - loss: 1.4548 - val_loss: 2.2475\n",
      "Epoch 88/100\n",
      "3/3 [==============================] - 0s 11ms/step - loss: 1.4414 - val_loss: 2.2439\n",
      "Epoch 89/100\n",
      "3/3 [==============================] - 0s 11ms/step - loss: 1.4643 - val_loss: 2.2379\n",
      "Epoch 90/100\n",
      "3/3 [==============================] - 0s 11ms/step - loss: 1.4485 - val_loss: 2.2325\n",
      "Epoch 91/100\n",
      "3/3 [==============================] - 0s 11ms/step - loss: 1.4425 - val_loss: 2.2296\n",
      "Epoch 92/100\n",
      "3/3 [==============================] - 0s 11ms/step - loss: 1.4320 - val_loss: 2.2253\n",
      "Epoch 93/100\n",
      "3/3 [==============================] - 0s 11ms/step - loss: 1.4208 - val_loss: 2.2241\n",
      "Epoch 94/100\n",
      "3/3 [==============================] - 0s 11ms/step - loss: 1.4120 - val_loss: 2.2229\n",
      "Epoch 95/100\n",
      "3/3 [==============================] - 0s 11ms/step - loss: 1.4159 - val_loss: 2.2202\n",
      "Epoch 96/100\n",
      "3/3 [==============================] - 0s 11ms/step - loss: 1.4018 - val_loss: 2.2148\n",
      "Epoch 97/100\n",
      "3/3 [==============================] - 0s 11ms/step - loss: 1.4058 - val_loss: 2.2088\n",
      "Epoch 98/100\n",
      "3/3 [==============================] - 0s 11ms/step - loss: 1.3933 - val_loss: 2.2042\n",
      "Epoch 99/100\n",
      "3/3 [==============================] - 0s 11ms/step - loss: 1.3885 - val_loss: 2.1972\n",
      "Epoch 100/100\n",
      "3/3 [==============================] - 0s 11ms/step - loss: 1.3851 - val_loss: 2.1908\n",
      "len of imgs and t_scores are equal for AE\n",
      "AE accuracy: 0.23076923076923078\n"
     ]
    }
   ],
   "source": [
    "train_scores, train_labels, accuracy = O.OutlierDetector.detect_outliers(features=feature_vector,\n",
    "                                                imgs=imgs,\n",
    "                                                pyod_algorithm=ALGORITHM,\n",
    "                                                display=False,\n",
    "                                                number_bad=int(CONTAMINATION*100),\n",
    "                                                accuracy_score=True,\n",
    "                                                **CONFIG)"
   ]
  },
  {
   "cell_type": "code",
   "execution_count": 14,
   "id": "4279a83e",
   "metadata": {},
   "outputs": [],
   "source": [
    "# store results\n",
    "results = {'scores:': train_scores,\n",
    " 'labels': train_labels,\n",
    " 'accuracy': accuracy}\n",
    "\n"
   ]
  },
  {
   "cell_type": "code",
   "execution_count": 15,
   "id": "edfb6b82",
   "metadata": {},
   "outputs": [
    {
     "data": {
      "text/plain": [
       "array([ 5.3765006,  5.700533 ,  7.6999817, 20.55564  ,  4.216266 ,\n",
       "        3.4003813,  3.4934886,  1.9666308,  3.7971582,  3.2994153,\n",
       "        2.2250094,  4.94763  ,  2.7358177,  3.1476228,  2.5632825,\n",
       "        2.723815 ,  3.1084297,  4.2678037,  5.743675 ,  5.275879 ,\n",
       "        5.7607346,  3.1746116,  2.0943801,  3.6153514,  6.6214323,\n",
       "        3.301689 , 20.551579 ,  3.6501606,  4.086243 ,  4.3209443,\n",
       "        3.0297205, 18.603897 ,  3.294956 , 19.550076 ,  5.165837 ,\n",
       "        4.0302606, 20.333012 ,  3.116079 ,  5.193648 ,  1.7952965,\n",
       "        4.0773525,  7.7775826,  4.99632  ,  7.88181  ,  3.5463283,\n",
       "        4.0641932,  2.7083447,  3.2664688,  3.7913325,  4.06284  ,\n",
       "       19.461927 ,  2.095551 ,  3.8394418,  3.8603187,  3.167973 ,\n",
       "        3.041227 ,  6.867558 ,  3.79611  ,  2.2863054,  4.4973645,\n",
       "       21.31053  ,  5.088819 ,  3.109289 ,  2.9561486, 20.703236 ,\n",
       "        4.4646487,  2.780326 ,  4.500168 , 15.917748 ,  7.75554  ,\n",
       "        3.0523384,  3.6365576,  3.2050037,  3.2483156,  8.296027 ,\n",
       "        2.5724456,  2.155835 ,  4.2543573,  3.604324 ,  5.0564823,\n",
       "        4.059585 ,  4.493809 ,  2.6225529,  2.9351017,  2.713917 ,\n",
       "        3.4564402,  6.6965113,  7.555994 ,  5.8004847,  4.8539224,\n",
       "        2.3300838, 21.876268 , 20.61078  , 19.904268 ,  3.223256 ,\n",
       "        5.3844743,  5.129228 ,  4.592624 ,  3.025115 ,  4.544799 ],\n",
       "      dtype=float32)"
      ]
     },
     "execution_count": 15,
     "metadata": {},
     "output_type": "execute_result"
    }
   ],
   "source": [
    "train_scores"
   ]
  },
  {
   "cell_type": "code",
   "execution_count": 16,
   "id": "8255310a",
   "metadata": {},
   "outputs": [
    {
     "data": {
      "text/plain": [
       "array([0, 0, 0, 1, 0, 0, 0, 0, 0, 0, 0, 0, 0, 0, 0, 0, 0, 0, 0, 0, 0, 0,\n",
       "       0, 0, 0, 0, 1, 0, 0, 0, 0, 1, 0, 1, 0, 0, 1, 0, 0, 0, 0, 0, 0, 0,\n",
       "       0, 0, 0, 0, 0, 0, 1, 0, 0, 0, 0, 0, 0, 0, 0, 0, 1, 0, 0, 0, 1, 0,\n",
       "       0, 0, 1, 0, 0, 0, 0, 0, 1, 0, 0, 0, 0, 0, 0, 0, 0, 0, 0, 0, 0, 0,\n",
       "       0, 0, 0, 1, 1, 1, 0, 0, 0, 0, 0, 0])"
      ]
     },
     "execution_count": 16,
     "metadata": {},
     "output_type": "execute_result"
    }
   ],
   "source": [
    "train_labels"
   ]
  },
  {
   "cell_type": "code",
   "execution_count": 17,
   "id": "2acdc1eb",
   "metadata": {},
   "outputs": [
    {
     "data": {
      "text/plain": [
       "0.23076923076923078"
      ]
     },
     "execution_count": 17,
     "metadata": {},
     "output_type": "execute_result"
    }
   ],
   "source": [
    "accuracy"
   ]
  },
  {
   "cell_type": "code",
   "execution_count": 18,
   "id": "f783ffcc",
   "metadata": {},
   "outputs": [],
   "source": [
    "#./run.py COF  # this will run this code 10 times"
   ]
  },
  {
   "cell_type": "code",
   "execution_count": null,
   "id": "367c2c6d",
   "metadata": {},
   "outputs": [],
   "source": []
  }
 ],
 "metadata": {
  "kernelspec": {
   "display_name": "Python 3 (ipykernel)",
   "language": "python",
   "name": "python3"
  },
  "language_info": {
   "codemirror_mode": {
    "name": "ipython",
    "version": 3
   },
   "file_extension": ".py",
   "mimetype": "text/x-python",
   "name": "python",
   "nbconvert_exporter": "python",
   "pygments_lexer": "ipython3",
   "version": "3.9.7"
  }
 },
 "nbformat": 4,
 "nbformat_minor": 5
}
