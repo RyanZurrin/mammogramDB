{
 "cells": [
  {
   "cell_type": "code",
   "execution_count": 1,
   "id": "f700b297",
   "metadata": {},
   "outputs": [
    {
     "name": "stdout",
     "output_type": "stream",
     "text": [
      "Populating the interactive namespace from numpy and matplotlib\n"
     ]
    }
   ],
   "source": [
    "%pylab inline\n",
    "%load_ext autoreload\n",
    "%autoreload 2"
   ]
  },
  {
   "cell_type": "code",
   "execution_count": 2,
   "id": "36ac4e16",
   "metadata": {},
   "outputs": [],
   "source": [
    "import sys, pyod\n",
    "sys.path.insert(0,'../..')\n",
    "import omama as O"
   ]
  },
  {
   "cell_type": "code",
   "execution_count": null,
   "id": "20f517e8",
   "metadata": {},
   "outputs": [],
   "source": []
  },
  {
   "cell_type": "code",
   "execution_count": 3,
   "id": "4da31758",
   "metadata": {},
   "outputs": [],
   "source": [
    "DATASET = 'A'\n",
    "ALGORITHM = 'KNN'\n",
    "DEFAULT_CONFIG = False"
   ]
  },
  {
   "cell_type": "code",
   "execution_count": null,
   "id": "4bf4347f",
   "metadata": {},
   "outputs": [],
   "source": []
  },
  {
   "cell_type": "code",
   "execution_count": 4,
   "id": "000bf49c",
   "metadata": {},
   "outputs": [],
   "source": [
    "odl = O.OutlierDetectorLite()"
   ]
  },
  {
   "cell_type": "code",
   "execution_count": 5,
   "id": "26de3ab1",
   "metadata": {},
   "outputs": [
    {
     "name": "stdout",
     "output_type": "stream",
     "text": [
      "Loaded images.\n",
      "{'contamination': 0.08, 'verbose': False, 'n_jobs': 1, 'norm_type': 'gaussian', 'tol': 0.5, 'n_bins': 2, 'alpha': 0.08, 'beta': 3, 'n_neighbors': 3, 'n_clusters': 2, 'base_estimators': ['LOF', 'INNE', 'CBLOF', 'FB'], 'cluster_estimator': 'KMeans', 'n_estimators': 6, 'subset_size': 0.5, 'combination': 'maximum', 'leaf_size': 30, 'p': 2, 'novelty': True, 'kernel': 'rbf', 'degree': 3, 'gamma': 0.1, 'coef0': 1, 'nu': 0.5, 'shrinking': True, 'cache_size': 200, 'max_iter': -1, 'max_samples': 0.5, 'bandwidth': 2.0, 'radius': 1.0, 'hidden_neurons': [24, 12, 12, 24]}\n",
      "Loaded config, norm, and feats.\n",
      "Calculated features!\n",
      "Running KNN...\n",
      "In KNN algorithm\n",
      "KNN(algorithm='auto', contamination=0.08, leaf_size=30, method='largest',\n",
      "  metric='minkowski', metric_params=None, n_jobs=1, n_neighbors=3, p=2,\n",
      "  radius=1.0)\n",
      "len of imgs and t_scores are equal for KNN\n",
      "Trained!\n"
     ]
    }
   ],
   "source": [
    "results = odl.run(DATASET, ALGORITHM, default_config=DEFAULT_CONFIG)"
   ]
  },
  {
   "cell_type": "code",
   "execution_count": 6,
   "id": "5ec5793f",
   "metadata": {},
   "outputs": [
    {
     "name": "stdout",
     "output_type": "stream",
     "text": [
      "{'algorithm': 'KNN', 'norm': 'gaussian', 'feat': 'hist', 'dataset': 'A', 'scores:': array([ 3102504.60505025,   706530.78079727,   961339.77945886,\n",
      "         574275.5735777 ,  1347548.35254101,   555858.25452358,\n",
      "        1085476.09484042,   816630.48506653,  1011419.46864493,\n",
      "         618128.44264117,  1534030.68405818, 10827710.32525086,\n",
      "        3834863.09393673,  4307292.71840909,   765047.61166871,\n",
      "         919134.15665614,   574275.5735777 ,  3974310.25270071,\n",
      "        1017166.76772592,   728851.97652884,   914190.04802612,\n",
      "        4603124.62504829,   892555.82046279,  4387517.47103211,\n",
      "         770248.95483993,   776304.57197546,   686148.06825058,\n",
      "         978137.1398899 , 10622685.93883703,   816630.48506653,\n",
      "        2305327.91791927,  1713413.29544275,   883345.5970955 ,\n",
      "         925018.02106121,   884878.21535848,   847993.82598106,\n",
      "         861841.03427256,   657707.74965938,  5004854.91806845,\n",
      "         890139.77620933,   849376.91375031,  1002195.8420708 ,\n",
      "         925018.02106121,  1150275.64687339,  3924859.46851502,\n",
      "        9182882.43170106,   717697.25725685,   849810.75061569,\n",
      "        2013076.95694626,  2126536.5144328 ,  4148876.19707168,\n",
      "        4349174.10684351,   914190.04802612,  1326593.05582006,\n",
      "        9049212.00028212,  3338970.17064004,   639831.06207655,\n",
      "        7407663.3632732 ,   574983.75096171,  4499599.15768194,\n",
      "        5151716.6407616 ,  2307582.83945951,   998858.69331853,\n",
      "        2268985.93670036,  5190457.59696253,   686148.06825058,\n",
      "        5531952.83568235,  5839698.65880989,  4311685.75012697,\n",
      "         888757.357259  ,   984502.2062992 ,   707637.38278726,\n",
      "        1067566.07439446,   706396.34005422,  1076776.21658541,\n",
      "         883345.5970955 ,  1055491.88166466,  3925433.17667465,\n",
      "        4316701.40876851,   779524.33530583,  1037641.16776466,\n",
      "        5549222.3404542 ,   857989.41714219,   644663.84257068,\n",
      "        1189864.22088573,  3420098.94277315,  5803681.06278748,\n",
      "         830959.71045533,   825529.59077794,   986131.48017797,\n",
      "        2164889.93455603,  1093704.4585609 ,  3280090.92304466,\n",
      "        2747540.44708026,  3854107.24332134,  4309073.08742982,\n",
      "        9169540.07553061,   962049.19003032,  1605051.00836266,\n",
      "        9898481.9176209 ]), 'labels': array([0, 0, 0, 0, 0, 0, 0, 0, 0, 0, 0, 1, 0, 0, 0, 0, 0, 0, 0, 0, 0, 0,\n",
      "       0, 0, 0, 0, 0, 0, 1, 0, 0, 0, 0, 0, 0, 0, 0, 0, 0, 0, 0, 0, 0, 0,\n",
      "       0, 1, 0, 0, 0, 0, 0, 0, 0, 0, 1, 0, 0, 1, 0, 0, 0, 0, 0, 0, 0, 0,\n",
      "       0, 1, 0, 0, 0, 0, 0, 0, 0, 0, 0, 0, 0, 0, 0, 0, 0, 0, 0, 0, 0, 0,\n",
      "       0, 0, 0, 0, 0, 0, 0, 0, 1, 0, 0, 1]), 'groundtruth': [0, 0, 0, 0, 0, 0, 0, 0, 0, 0, 0, 0, 0, 0, 0, 0, 0, 0, 0, 0, 0, 0, 0, 0, 0, 0, 0, 1, 0, 0, 0, 0, 0, 0, 0, 0, 0, 0, 1, 0, 0, 0, 0, 0, 0, 0, 0, 1, 1, 0, 0, 0, 0, 0, 0, 0, 0, 0, 0, 0, 0, 1, 0, 1, 0, 0, 0, 0, 0, 0, 0, 0, 0, 0, 0, 0, 0, 0, 0, 0, 0, 1, 0, 0, 0, 0, 0, 0, 0, 0, 1, 0, 0, 0, 0, 0, 0, 0, 0, 0], 'evaluation': {'groundtruth_indices': (array([27, 38, 47, 48, 61, 63, 81, 90]),), 'pred_indices': (array([11, 28, 45, 54, 57, 67, 96, 99]),), 'roc_auc': 0.4565217391304348, 'f1': 0.0, 'acc': 0.84, 'tn': 84, 'fp': 8, 'fn': 8, 'tp': 0, 'jaccard_score': 0.0}}\n"
     ]
    }
   ],
   "source": [
    "scores = results['evaluation']\n",
    "print(results)"
   ]
  },
  {
   "cell_type": "code",
   "execution_count": null,
   "id": "4b1c18e2",
   "metadata": {},
   "outputs": [],
   "source": []
  }
 ],
 "metadata": {
  "kernelspec": {
   "display_name": "Python 3 (ipykernel)",
   "language": "python",
   "name": "python3"
  },
  "language_info": {
   "codemirror_mode": {
    "name": "ipython",
    "version": 3
   },
   "file_extension": ".py",
   "mimetype": "text/x-python",
   "name": "python",
   "nbconvert_exporter": "python",
   "pygments_lexer": "ipython3",
   "version": "3.9.7"
  }
 },
 "nbformat": 4,
 "nbformat_minor": 5
}
