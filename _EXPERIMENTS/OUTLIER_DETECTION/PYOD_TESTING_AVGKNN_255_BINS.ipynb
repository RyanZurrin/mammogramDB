{
 "cells": [
  {
   "cell_type": "code",
   "execution_count": 13,
   "id": "be8695c6",
   "metadata": {},
   "outputs": [
    {
     "name": "stdout",
     "output_type": "stream",
     "text": [
      "Populating the interactive namespace from numpy and matplotlib\n",
      "The autoreload extension is already loaded. To reload it, use:\n",
      "  %reload_ext autoreload\n"
     ]
    },
    {
     "name": "stderr",
     "output_type": "stream",
     "text": [
      "/home/ryan.zurrin001/miniconda3/envs/O/lib/python3.9/site-packages/IPython/core/magics/pylab.py:159: UserWarning: pylab import has clobbered these variables: ['f']\n",
      "`%matplotlib` prevents importing * from pylab and numpy\n",
      "  warn(\"pylab import has clobbered these variables: %s\"  % clobbered +\n"
     ]
    }
   ],
   "source": [
    "%pylab inline\n",
    "%load_ext autoreload\n",
    "%autoreload 2"
   ]
  },
  {
   "cell_type": "code",
   "execution_count": 14,
   "id": "2da1fd1c",
   "metadata": {},
   "outputs": [],
   "source": [
    "import sys\n",
    "sys.path.insert(0,'../..')\n",
    "import omama as O\n",
    "from pyod.models.knn import KNN\n",
    "import pickle\n",
    "import sklearn"
   ]
  },
  {
   "cell_type": "code",
   "execution_count": 15,
   "id": "f27db0b9",
   "metadata": {},
   "outputs": [],
   "source": [
    "with open('/raid/mpsych/datasetA.pkl','rb') as f:\n",
    "    datasetA_X = pickle.load(f)\n",
    "    \n",
    "with open('/raid/mpsych/datasetA_labels.pkl', 'rb') as f1:\n",
    "    labels = np.asarray(pickle.load(f1))"
   ]
  },
  {
   "cell_type": "code",
   "execution_count": 16,
   "id": "03dfcfa1",
   "metadata": {},
   "outputs": [],
   "source": [
    "X_feat_vect = O.Features.get_features(datasetA_X, 'hist', 'gaussian')"
   ]
  },
  {
   "cell_type": "code",
   "execution_count": 17,
   "id": "33bc60eb",
   "metadata": {
    "scrolled": false
   },
   "outputs": [
    {
     "data": {
      "text/plain": [
       "array([3258608,    2834,    2005,    1503,    1194,    1353,     965,\n",
       "           986,     954,     845,     783,     578,     972,     587,\n",
       "           660,     559,     628,     699,     604,     450,     527,\n",
       "           500,     684,     522,     454,     405,     513,     422,\n",
       "           661,     396,     391,     469,     384,     388,     594,\n",
       "           424,     339,     445,     370,     343,     368,     503,\n",
       "           389,     397,     380,     330,     354,     337,     325,\n",
       "           423,     461,     282,     310,     373,     296,     300,\n",
       "           315,     337,     339,     316,     306,     327,     256,\n",
       "           279,     241,     283,     287,     271,     256,     280,\n",
       "           220,     274,     256,     274,     228,     236,     229,\n",
       "           255,     234,     241,     215,     250,     248,     267,\n",
       "           240,     223,     234,     258,     239,     228,     228,\n",
       "           233,     283,     255,     296,     224,     267,     246,\n",
       "           273,     268,     263,     278,     285,     301,     305,\n",
       "           309,     306,     296,     316,     334,     347,     339,\n",
       "           356,     366,     394,     384,     406,     424,     404,\n",
       "           427,     488,     503,     462,     520,     555,     626,\n",
       "           693,     897,    1331,    1497,    2391,    3417,    4510,\n",
       "          5083,    7271,   11804,   15072,   16747,   15643,   14305,\n",
       "         16577,   20261,   23886,   29584,   33889,   40255,   39015,\n",
       "         29485,   22630,   20376,   19447,   19181,   20387,   21271,\n",
       "         22661,   22615,   23532,   24235,   24763,   25111,   24788,\n",
       "         23730,   23335,   22794,   22006,   20974,   19795,   18775,\n",
       "         17199,   15841,   14546,   13686,   12099,   11292,   10543,\n",
       "          9556,    8836,    7903,    7241,    6851,    6426,    6058,\n",
       "          5591,    5304,    5140,    4786,    4448,    3850,    3693,\n",
       "          3610,    3651,    3761,    3697,    3665,    3437,    3373,\n",
       "          3120,    2717,    2341,    2190,    1865,    1881,    1770,\n",
       "          1753,    1670,    1618,    1637,    1573,    1620,    1659,\n",
       "          1594,    1622,    1621,    1689,    1670,    1745,    1701,\n",
       "          1832,    1878,    1830,    1786,    1715,    1630,    1640,\n",
       "          1574,    1705,    1752,    1736,    1734,    1615,    1511,\n",
       "          1333,    1288,    1189,    1163,    1168,    1251,    1098,\n",
       "          1115,    1221,    1169,    1374,    1462,    1570,    1622,\n",
       "          1843,    2128,    2165,    2094,    1851,    1598,    1015,\n",
       "           380,     166,      21,       1], dtype=uint32)"
      ]
     },
     "execution_count": 17,
     "metadata": {},
     "output_type": "execute_result"
    }
   ],
   "source": [
    "X_feat_vect[0]"
   ]
  },
  {
   "cell_type": "code",
   "execution_count": 18,
   "id": "a162fcc1",
   "metadata": {},
   "outputs": [
    {
     "data": {
      "text/plain": [
       "[<matplotlib.lines.Line2D at 0x7fc23ca28df0>]"
      ]
     },
     "execution_count": 18,
     "metadata": {},
     "output_type": "execute_result"
    },
    {
     "data": {
      "image/png": "[encoded data removed]",
      "text/plain": [
       "<Figure size 432x288 with 1 Axes>"
      ]
     },
     "metadata": {
      "needs_background": "light"
     },
     "output_type": "display_data"
    }
   ],
   "source": [
    "plt.plot(X_feat_vect[0])"
   ]
  },
  {
   "cell_type": "code",
   "execution_count": 31,
   "id": "cdc4ecbc",
   "metadata": {},
   "outputs": [],
   "source": [
    "import mahotas as mh\n",
    "normalized_pixels = mh.gaussian_filter(datasetA_X[0].pixels, sigma=50)\n",
    "#         normalized_pixels /= normalized_pixels.max()\n",
    "#         normalized_pixels *= 255"
   ]
  },
  {
   "cell_type": "code",
   "execution_count": 36,
   "id": "ecc8b982",
   "metadata": {},
   "outputs": [],
   "source": [
    "feature2 = X_feat_vect[0].copy().astype(float)"
   ]
  },
  {
   "cell_type": "code",
   "execution_count": 37,
   "id": "4ddc2bf3",
   "metadata": {},
   "outputs": [],
   "source": [
    "feature2 /= feature2.max()"
   ]
  },
  {
   "cell_type": "code",
   "execution_count": 38,
   "id": "cd03c72b",
   "metadata": {},
   "outputs": [
    {
     "data": {
      "text/plain": [
       "1.0"
      ]
     },
     "execution_count": 38,
     "metadata": {},
     "output_type": "execute_result"
    }
   ],
   "source": [
    "feature2.max()"
   ]
  },
  {
   "cell_type": "code",
   "execution_count": 39,
   "id": "6f477468",
   "metadata": {},
   "outputs": [
    {
     "data": {
      "text/plain": [
       "array([1.00000000e+00, 8.69696508e-04, 6.15293401e-04, 4.61239891e-04,\n",
       "       3.66414125e-04, 4.15207966e-04, 2.96138719e-04, 3.02583189e-04,\n",
       "       2.92763045e-04, 2.59313179e-04, 2.40286650e-04, 1.77376352e-04,\n",
       "       2.98286876e-04, 1.80138268e-04, 2.02540471e-04, 1.71545642e-04,\n",
       "       1.92720327e-04, 2.14508772e-04, 1.85355219e-04, 1.38095776e-04,\n",
       "       1.61725498e-04, 1.53439751e-04, 2.09905579e-04, 1.60191100e-04,\n",
       "       1.39323294e-04, 1.24286198e-04, 1.57429184e-04, 1.29503150e-04,\n",
       "       2.02847351e-04, 1.21524283e-04, 1.19989885e-04, 1.43926486e-04,\n",
       "       1.17841729e-04, 1.19069247e-04, 1.82286424e-04, 1.30116909e-04,\n",
       "       1.04032151e-04, 1.36561378e-04, 1.13545416e-04, 1.05259669e-04,\n",
       "       1.12931657e-04, 1.54360389e-04, 1.19376126e-04, 1.21831162e-04,\n",
       "       1.16614211e-04, 1.01270236e-04, 1.08635344e-04, 1.03418392e-04,\n",
       "       9.97358381e-05, 1.29810029e-04, 1.41471450e-04, 8.65400195e-05,\n",
       "       9.51326456e-05, 1.14466054e-04, 9.08363326e-05, 9.20638506e-05,\n",
       "       9.66670431e-05, 1.03418392e-04, 1.04032151e-04, 9.69739226e-05,\n",
       "       9.39051276e-05, 1.00349597e-04, 7.85611525e-05, 8.56193810e-05,\n",
       "       7.39579600e-05, 8.68468990e-05, 8.80744171e-05, 8.31643450e-05,\n",
       "       7.85611525e-05, 8.59262605e-05, 6.75134904e-05, 8.40849835e-05,\n",
       "       7.85611525e-05, 8.40849835e-05, 6.99685264e-05, 7.24235625e-05,\n",
       "       7.02754059e-05, 7.82542730e-05, 7.18098034e-05, 7.39579600e-05,\n",
       "       6.59790929e-05, 7.67198755e-05, 7.61061165e-05, 8.19368270e-05,\n",
       "       7.36510805e-05, 6.84341289e-05, 7.18098034e-05, 7.91749115e-05,\n",
       "       7.33442010e-05, 6.99685264e-05, 6.99685264e-05, 7.15029239e-05,\n",
       "       8.68468990e-05, 7.82542730e-05, 9.08363326e-05, 6.87410084e-05,\n",
       "       8.19368270e-05, 7.54923575e-05, 8.37781040e-05, 8.22437065e-05,\n",
       "       8.07093090e-05, 8.53125015e-05, 8.74606580e-05, 9.23707301e-05,\n",
       "       9.35982481e-05, 9.48257661e-05, 9.39051276e-05, 9.08363326e-05,\n",
       "       9.69739226e-05, 1.02497754e-04, 1.06487187e-04, 1.04032151e-04,\n",
       "       1.09249103e-04, 1.12317898e-04, 1.20910524e-04, 1.17841729e-04,\n",
       "       1.24593078e-04, 1.30116909e-04, 1.23979319e-04, 1.31037547e-04,\n",
       "       1.49757197e-04, 1.54360389e-04, 1.41778330e-04, 1.59577341e-04,\n",
       "       1.70318124e-04, 1.92106568e-04, 2.12667495e-04, 2.75270913e-04,\n",
       "       4.08456617e-04, 4.59398614e-04, 7.33748889e-04, 1.04860726e-03,\n",
       "       1.38402655e-03, 1.55986851e-03, 2.23132086e-03, 3.62240564e-03,\n",
       "       4.62528785e-03, 5.13931102e-03, 4.80051605e-03, 4.38991127e-03,\n",
       "       5.08714150e-03, 6.21768559e-03, 7.33012378e-03, 9.07872318e-03,\n",
       "       1.03998394e-02, 1.23534343e-02, 1.19729038e-02, 9.04834211e-03,\n",
       "       6.94468313e-03, 6.25297673e-03, 5.96788567e-03, 5.88625573e-03,\n",
       "       6.25635241e-03, 6.52763389e-03, 6.95419639e-03, 6.94007994e-03,\n",
       "       7.22148844e-03, 7.43722473e-03, 7.59925711e-03, 7.70605117e-03,\n",
       "       7.60692909e-03, 7.28225058e-03, 7.16103318e-03, 6.99501137e-03,\n",
       "       6.75319032e-03, 6.43649067e-03, 6.07467974e-03, 5.76166265e-03,\n",
       "       5.27802055e-03, 4.86127819e-03, 4.46386923e-03, 4.19995286e-03,\n",
       "       3.71293509e-03, 3.46528334e-03, 3.23543059e-03, 2.93254052e-03,\n",
       "       2.71158728e-03, 2.42526870e-03, 2.22211447e-03, 2.10243147e-03,\n",
       "       1.97200768e-03, 1.85907602e-03, 1.71576330e-03, 1.62768888e-03,\n",
       "       1.57736064e-03, 1.46872530e-03, 1.36500002e-03, 1.18148608e-03,\n",
       "       1.13330600e-03, 1.10783500e-03, 1.12041706e-03, 1.15417381e-03,\n",
       "       1.13453352e-03, 1.12471337e-03, 1.05474485e-03, 1.03510456e-03,\n",
       "       9.57464046e-04, 8.33791607e-04, 7.18404914e-04, 6.72066109e-04,\n",
       "       5.72330271e-04, 5.77240343e-04, 5.43176718e-04, 5.37959767e-04,\n",
       "       5.12488768e-04, 4.96531034e-04, 5.02361745e-04, 4.82721457e-04,\n",
       "       4.97144793e-04, 5.09113094e-04, 4.89165926e-04, 4.97758552e-04,\n",
       "       4.97451673e-04, 5.18319479e-04, 5.12488768e-04, 5.35504731e-04,\n",
       "       5.22002033e-04, 5.62203248e-04, 5.76319705e-04, 5.61589489e-04,\n",
       "       5.48086790e-04, 5.26298346e-04, 5.00213588e-04, 5.03282383e-04,\n",
       "       4.83028336e-04, 5.23229551e-04, 5.37652887e-04, 5.32742815e-04,\n",
       "       5.32129056e-04, 4.95610396e-04, 4.63694927e-04, 4.09070376e-04,\n",
       "       3.95260798e-04, 3.64879728e-04, 3.56900861e-04, 3.58435258e-04,\n",
       "       3.83906257e-04, 3.36953693e-04, 3.42170645e-04, 3.74699872e-04,\n",
       "       3.58742138e-04, 4.21652436e-04, 4.48657832e-04, 4.81800818e-04,\n",
       "       4.97758552e-04, 5.65578922e-04, 6.53039580e-04, 6.64394122e-04,\n",
       "       6.42605677e-04, 5.68033958e-04, 4.90393444e-04, 3.11482694e-04,\n",
       "       1.16614211e-04, 5.09419973e-05, 6.44446954e-06, 3.06879502e-07])"
      ]
     },
     "execution_count": 39,
     "metadata": {},
     "output_type": "execute_result"
    }
   ],
   "source": [
    "feature2"
   ]
  },
  {
   "cell_type": "code",
   "execution_count": null,
   "id": "8e22c52b",
   "metadata": {},
   "outputs": [],
   "source": [
    "pydicom."
   ]
  },
  {
   "cell_type": "code",
   "execution_count": 32,
   "id": "8bbc3ba8",
   "metadata": {},
   "outputs": [
    {
     "data": {
      "text/plain": [
       "<matplotlib.image.AxesImage at 0x7fc23b41b550>"
      ]
     },
     "execution_count": 32,
     "metadata": {},
     "output_type": "execute_result"
    },
    {
     "data": {
      "image/png": "[encoded data removed]",
      "text/plain": [
       "<Figure size 432x288 with 1 Axes>"
      ]
     },
     "metadata": {
      "needs_background": "light"
     },
     "output_type": "display_data"
    }
   ],
   "source": [
    "plt.imshow(normalized_pixels)"
   ]
  },
  {
   "cell_type": "code",
   "execution_count": 19,
   "id": "98d96193",
   "metadata": {},
   "outputs": [
    {
     "data": {
      "text/plain": [
       "(array([27, 38, 47, 48, 61, 63, 81, 90]),)"
      ]
     },
     "execution_count": 19,
     "metadata": {},
     "output_type": "execute_result"
    }
   ],
   "source": [
    "np.where(labels > 0)"
   ]
  },
  {
   "cell_type": "code",
   "execution_count": null,
   "id": "8cdb1a2f",
   "metadata": {},
   "outputs": [],
   "source": []
  },
  {
   "cell_type": "code",
   "execution_count": 20,
   "id": "93c34167",
   "metadata": {},
   "outputs": [],
   "source": [
    "clf = KNN(method='mean')\n",
    "clf.fit(X_feat_vect)\n",
    "    \n",
    "y_train_scores = clf.decision_scores_\n",
    "pred_labels = clf.labels_\n",
    "# y_test_scores = clf.decision_function(X_test)"
   ]
  },
  {
   "cell_type": "code",
   "execution_count": 21,
   "id": "4ab41b1b",
   "metadata": {},
   "outputs": [],
   "source": [
    "eval = O.OutlierDetectorLite.evaluate(labels, pred_labels)"
   ]
  },
  {
   "cell_type": "code",
   "execution_count": 22,
   "id": "eb8aff6e",
   "metadata": {},
   "outputs": [
    {
     "data": {
      "text/plain": [
       "{'groundtruth_indices': (array([27, 38, 47, 48, 61, 63, 81, 90]),),\n",
       " 'pred_indices': (array([ 7, 10, 26, 33, 36, 37, 40, 72, 74, 82]),),\n",
       " 'roc_auc': 0.44565217391304346,\n",
       " 'f1_score': 0.0,\n",
       " 'acc_score': 0.82,\n",
       " 'jaccard_score': 0.0,\n",
       " 'precision_score': 0.0,\n",
       " 'average_precision': 0.08,\n",
       " 'recall_score': 0.0,\n",
       " 'hamming_loss': 0.18,\n",
       " 'log_loss': 6.217059710826943,\n",
       " 'tn': 82,\n",
       " 'fp': 10,\n",
       " 'fn': 8,\n",
       " 'tp': 0}"
      ]
     },
     "execution_count": 22,
     "metadata": {},
     "output_type": "execute_result"
    }
   ],
   "source": [
    "eval"
   ]
  },
  {
   "cell_type": "code",
   "execution_count": null,
   "id": "9098fe4a",
   "metadata": {},
   "outputs": [],
   "source": []
  },
  {
   "cell_type": "code",
   "execution_count": null,
   "id": "05a2ed7c",
   "metadata": {},
   "outputs": [],
   "source": []
  },
  {
   "cell_type": "code",
   "execution_count": null,
   "id": "86d311f0",
   "metadata": {},
   "outputs": [],
   "source": []
  }
 ],
 "metadata": {
  "kernelspec": {
   "display_name": "Python 3 (ipykernel)",
   "language": "python",
   "name": "python3"
  },
  "language_info": {
   "codemirror_mode": {
    "name": "ipython",
    "version": 3
   },
   "file_extension": ".py",
   "mimetype": "text/x-python",
   "name": "python",
   "nbconvert_exporter": "python",
   "pygments_lexer": "ipython3",
   "version": "3.9.7"
  }
 },
 "nbformat": 4,
 "nbformat_minor": 5
}
