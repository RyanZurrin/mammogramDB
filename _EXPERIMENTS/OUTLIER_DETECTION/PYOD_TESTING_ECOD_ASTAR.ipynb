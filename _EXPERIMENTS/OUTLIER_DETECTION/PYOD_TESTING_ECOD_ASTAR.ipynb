{
 "cells": [
  {
   "cell_type": "code",
   "execution_count": 1,
   "id": "17c3ae6b",
   "metadata": {},
   "outputs": [
    {
     "name": "stdout",
     "output_type": "stream",
     "text": [
      "Populating the interactive namespace from numpy and matplotlib\n"
     ]
    }
   ],
   "source": [
    "%pylab inline\n",
    "%load_ext autoreload\n",
    "%autoreload 2"
   ]
  },
  {
   "cell_type": "code",
   "execution_count": 2,
   "id": "257e421f",
   "metadata": {},
   "outputs": [],
   "source": [
    "import sys\n",
    "sys.path.insert(0,'../..')\n",
    "import omama as O\n",
    "from pyod.models.ecod import ECOD\n",
    "import pickle\n",
    "import sklearn"
   ]
  },
  {
   "cell_type": "code",
   "execution_count": 3,
   "id": "5a148df3",
   "metadata": {},
   "outputs": [],
   "source": [
    "with open('/raid/mpsych/datasetASTAR.pkl','rb') as f:\n",
    "    datasetASTAR_X = pickle.load(f)\n",
    "    \n",
    "with open('/raid/mpsych/datasetASTAR_labels.pkl', 'rb') as f1:\n",
    "    labels = np.asarray(pickle.load(f1))"
   ]
  },
  {
   "cell_type": "code",
   "execution_count": 4,
   "id": "677a9d9b",
   "metadata": {},
   "outputs": [
    {
     "data": {
      "text/plain": [
       "(array([ 32,  62,  79, 136, 182, 196, 199, 208, 209, 228, 233, 236, 244,\n",
       "        245, 261, 274, 276, 279, 304, 311, 336, 365, 385, 386, 388, 447,\n",
       "        484, 534, 544, 560, 575, 579, 585, 596, 605, 627, 700, 713, 718,\n",
       "        741, 743, 754, 762, 764, 767, 776, 789, 792, 793, 807, 829, 846,\n",
       "        847, 849, 853, 879, 882, 898, 936, 953, 971, 972, 975]),)"
      ]
     },
     "execution_count": 4,
     "metadata": {},
     "output_type": "execute_result"
    }
   ],
   "source": [
    "np.where(labels > 0)"
   ]
  },
  {
   "cell_type": "code",
   "execution_count": 5,
   "id": "e88c311b",
   "metadata": {},
   "outputs": [],
   "source": [
    "X_feat_vect = O.Features.get_features(datasetASTAR_X, 'hist', 'gaussian')"
   ]
  },
  {
   "cell_type": "code",
   "execution_count": 6,
   "id": "fa258fdd",
   "metadata": {},
   "outputs": [],
   "source": [
    "clf = ECOD()\n",
    "clf.fit(X_feat_vect)\n",
    "    \n",
    "y_train_scores = clf.decision_scores_\n",
    "\n",
    "# y_test_scores = clf.decision_function(X_test)"
   ]
  },
  {
   "cell_type": "code",
   "execution_count": 7,
   "id": "516d97f9",
   "metadata": {},
   "outputs": [],
   "source": [
    "pred_labels = clf.labels_"
   ]
  },
  {
   "cell_type": "code",
   "execution_count": 8,
   "id": "4669cedd",
   "metadata": {},
   "outputs": [],
   "source": [
    "eval = O.OutlierDetectorLite.evaluate(labels,pred_labels)"
   ]
  },
  {
   "cell_type": "code",
   "execution_count": 9,
   "id": "896a4c57",
   "metadata": {},
   "outputs": [
    {
     "data": {
      "text/plain": [
       "{'groundtruth_indices': (array([ 32,  62,  79, 136, 182, 196, 199, 208, 209, 228, 233, 236, 244,\n",
       "         245, 261, 274, 276, 279, 304, 311, 336, 365, 385, 386, 388, 447,\n",
       "         484, 534, 544, 560, 575, 579, 585, 596, 605, 627, 700, 713, 718,\n",
       "         741, 743, 754, 762, 764, 767, 776, 789, 792, 793, 807, 829, 846,\n",
       "         847, 849, 853, 879, 882, 898, 936, 953, 971, 972, 975]),),\n",
       " 'pred_indices': (array([ 12,  17,  26,  30,  32,  62,  79,  87, 107, 116, 122, 136, 164,\n",
       "         182, 191, 199, 208, 209, 213, 214, 219, 227, 228, 233, 236, 237,\n",
       "         244, 255, 273, 274, 304, 307, 311, 315, 316, 326, 336, 361, 365,\n",
       "         378, 385, 386, 388, 392, 399, 400, 418, 419, 422, 431, 484, 494,\n",
       "         500, 501, 534, 540, 544, 559, 560, 561, 575, 576, 579, 585, 593,\n",
       "         596, 605, 628, 630, 682, 689, 696, 713, 743, 753, 754, 762, 764,\n",
       "         776, 789, 791, 792, 793, 807, 808, 820, 829, 853, 867, 879, 895,\n",
       "         898, 936, 944, 947, 953, 957, 970, 972, 975]),),\n",
       " 'roc_auc': 0.8447341227490641,\n",
       " 'f1_score': 0.5766871165644172,\n",
       " 'acc_score': 0.931,\n",
       " 'jaccard_score': 0.4051724137931034,\n",
       " 'precision_score': 0.47,\n",
       " 'average_precision': 0.36663492063492065,\n",
       " 'recall_score': 0.746031746031746,\n",
       " 'hamming_loss': 0.069,\n",
       " 'log_loss': 2.3832179499126376,\n",
       " 'tn': 884,\n",
       " 'fp': 53,\n",
       " 'fn': 16,\n",
       " 'tp': 47}"
      ]
     },
     "execution_count": 9,
     "metadata": {},
     "output_type": "execute_result"
    }
   ],
   "source": [
    "eval"
   ]
  },
  {
   "cell_type": "code",
   "execution_count": null,
   "id": "31e37dd0",
   "metadata": {},
   "outputs": [],
   "source": []
  },
  {
   "cell_type": "code",
   "execution_count": null,
   "id": "2c9d899e",
   "metadata": {},
   "outputs": [],
   "source": []
  },
  {
   "cell_type": "code",
   "execution_count": 28,
   "id": "fae1fcdd",
   "metadata": {},
   "outputs": [
    {
     "data": {
      "text/plain": [
       "{'groundtruth_indices': (array([ 32,  62,  79, 136, 182, 196, 199, 208, 209, 228, 233, 236, 244,\n",
       "         245, 261, 274, 276, 279, 304, 311, 336, 365, 385, 386, 388, 447,\n",
       "         484, 534, 544, 560, 575, 579, 585, 596, 605, 627, 700, 713, 718,\n",
       "         741, 743, 754, 762, 764, 767, 776, 789, 792, 793, 807, 829, 846,\n",
       "         847, 849, 853, 879, 882, 898, 936, 953, 971, 972, 975]),),\n",
       " 'pred_indices': (array([  0,  12,  15,  23,  27,  30,  59,  72,  90, 109, 127, 141, 145,\n",
       "         153, 154, 157, 164, 169, 171, 191, 193, 196, 204, 214, 215, 245,\n",
       "         248, 255, 264, 267, 273, 274, 275, 309, 315, 318, 326, 348, 363,\n",
       "         385, 386, 400, 403, 418, 423, 426, 428, 431, 448, 449, 454, 455,\n",
       "         474, 475, 489, 493, 494, 495, 515, 519, 540, 557, 580, 632, 646,\n",
       "         661, 666, 668, 696, 700, 702, 718, 735, 736, 741, 742, 767, 768,\n",
       "         769, 796, 814, 820, 829, 838, 843, 847, 867, 870, 879, 882, 883,\n",
       "         895, 936, 940, 941, 947, 951, 954, 985, 999]),),\n",
       " 'roc_auc': 0.5652199691687418,\n",
       " 'f1_score': 0.17177914110429449,\n",
       " 'acc_score': 0.865,\n",
       " 'jaccard_score': 0.09395973154362416,\n",
       " 'precision_score': 0.14,\n",
       " 'average_precision': 0.08011111111111112,\n",
       " 'recall_score': 0.2222222222222222,\n",
       " 'hamming_loss': 0.135,\n",
       " 'log_loss': 4.662803578691939,\n",
       " 'tn': 851,\n",
       " 'fp': 86,\n",
       " 'fn': 49,\n",
       " 'tp': 14}"
      ]
     },
     "execution_count": 28,
     "metadata": {},
     "output_type": "execute_result"
    }
   ],
   "source": [
    "eval"
   ]
  },
  {
   "cell_type": "code",
   "execution_count": null,
   "id": "4bfe3ef5",
   "metadata": {},
   "outputs": [],
   "source": []
  }
 ],
 "metadata": {
  "kernelspec": {
   "display_name": "Python 3 (ipykernel)",
   "language": "python",
   "name": "python3"
  },
  "language_info": {
   "codemirror_mode": {
    "name": "ipython",
    "version": 3
   },
   "file_extension": ".py",
   "mimetype": "text/x-python",
   "name": "python",
   "nbconvert_exporter": "python",
   "pygments_lexer": "ipython3",
   "version": "3.9.7"
  }
 },
 "nbformat": 4,
 "nbformat_minor": 5
}
