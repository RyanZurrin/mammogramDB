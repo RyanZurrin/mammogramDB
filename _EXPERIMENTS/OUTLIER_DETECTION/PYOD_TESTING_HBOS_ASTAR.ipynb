{
 "cells": [
  {
   "cell_type": "code",
   "execution_count": 7,
   "id": "66c21452",
   "metadata": {},
   "outputs": [
    {
     "name": "stdout",
     "output_type": "stream",
     "text": [
      "Populating the interactive namespace from numpy and matplotlib\n",
      "The autoreload extension is already loaded. To reload it, use:\n",
      "  %reload_ext autoreload\n"
     ]
    },
    {
     "name": "stderr",
     "output_type": "stream",
     "text": [
      "/home/ryan.zurrin001/miniconda3/envs/O/lib/python3.9/site-packages/IPython/core/magics/pylab.py:159: UserWarning: pylab import has clobbered these variables: ['clf', 'f']\n",
      "`%matplotlib` prevents importing * from pylab and numpy\n",
      "  warn(\"pylab import has clobbered these variables: %s\"  % clobbered +\n"
     ]
    }
   ],
   "source": [
    "%pylab inline\n",
    "%load_ext autoreload\n",
    "%autoreload 2"
   ]
  },
  {
   "cell_type": "code",
   "execution_count": 8,
   "id": "acb467fd",
   "metadata": {},
   "outputs": [],
   "source": [
    "import sys\n",
    "sys.path.insert(0,'../..')\n",
    "import omama as O\n",
    "from pyod.models.hbos import HBOS\n",
    "import pickle\n",
    "import sklearn"
   ]
  },
  {
   "cell_type": "code",
   "execution_count": 9,
   "id": "131e30c2",
   "metadata": {},
   "outputs": [],
   "source": [
    "with open('/raid/mpsych/datasetASTAR.pkl','rb') as f:\n",
    "    datasetA_X = pickle.load(f)\n",
    "    \n",
    "with open('/raid/mpsych/datasetASTAR_labels.pkl', 'rb') as f1:\n",
    "    labels = np.asarray(pickle.load(f1))"
   ]
  },
  {
   "cell_type": "code",
   "execution_count": 10,
   "id": "4ef50a33",
   "metadata": {},
   "outputs": [
    {
     "data": {
      "text/plain": [
       "(array([ 32,  62,  79, 136, 182, 196, 199, 208, 209, 228, 233, 236, 244,\n",
       "        245, 261, 274, 276, 279, 304, 311, 336, 365, 385, 386, 388, 447,\n",
       "        484, 534, 544, 560, 575, 579, 585, 596, 605, 627, 700, 713, 718,\n",
       "        741, 743, 754, 762, 764, 767, 776, 789, 792, 793, 807, 829, 846,\n",
       "        847, 849, 853, 879, 882, 898, 936, 953, 971, 972, 975]),)"
      ]
     },
     "execution_count": 10,
     "metadata": {},
     "output_type": "execute_result"
    }
   ],
   "source": [
    "np.where(labels > 0)"
   ]
  },
  {
   "cell_type": "code",
   "execution_count": 11,
   "id": "3711f9fa",
   "metadata": {},
   "outputs": [],
   "source": [
    "X_feat_vect = O.Features.get_features(datasetA_X, 'hist', 'gaussian')"
   ]
  },
  {
   "cell_type": "code",
   "execution_count": 12,
   "id": "69c584a4",
   "metadata": {},
   "outputs": [],
   "source": [
    "clf = HBOS()\n",
    "clf.fit(X_feat_vect)\n",
    "    \n",
    "y_train_scores = clf.decision_scores_\n",
    "pred_labels = clf.labels_\n",
    "# y_test_scores = clf.decision_function(X_test)"
   ]
  },
  {
   "cell_type": "code",
   "execution_count": 13,
   "id": "bf576e44",
   "metadata": {},
   "outputs": [],
   "source": [
    "eval = O.OutlierDetectorLite.evaluate(labels, pred_labels)"
   ]
  },
  {
   "cell_type": "code",
   "execution_count": 14,
   "id": "486d0c75",
   "metadata": {},
   "outputs": [
    {
     "data": {
      "text/plain": [
       "{'groundtruth_indices': (array([ 32,  62,  79, 136, 182, 196, 199, 208, 209, 228, 233, 236, 244,\n",
       "         245, 261, 274, 276, 279, 304, 311, 336, 365, 385, 386, 388, 447,\n",
       "         484, 534, 544, 560, 575, 579, 585, 596, 605, 627, 700, 713, 718,\n",
       "         741, 743, 754, 762, 764, 767, 776, 789, 792, 793, 807, 829, 846,\n",
       "         847, 849, 853, 879, 882, 898, 936, 953, 971, 972, 975]),),\n",
       " 'pred_indices': (array([ 32,  49,  56,  62,  71,  72,  79,  83, 182, 186, 197, 199, 208,\n",
       "         209, 228, 233, 236, 244, 282, 304, 307, 311, 320, 322, 327, 332,\n",
       "         336, 343, 351, 361, 365, 369, 386, 388, 407, 432, 448, 456, 457,\n",
       "         469, 484, 534, 541, 544, 549, 555, 560, 575, 584, 585, 596, 605,\n",
       "         630, 661, 666, 684, 713, 715, 743, 754, 762, 764, 776, 789, 792,\n",
       "         793, 807, 853, 862, 875, 887, 898, 904, 915, 924, 936, 953, 972,\n",
       "         975, 995]),),\n",
       " 'roc_auc': 0.8045857261438905,\n",
       " 'f1_score': 0.5734265734265733,\n",
       " 'acc_score': 0.939,\n",
       " 'jaccard_score': 0.4019607843137255,\n",
       " 'precision_score': 0.5125,\n",
       " 'average_precision': 0.35553174603174603,\n",
       " 'recall_score': 0.6507936507936508,\n",
       " 'hamming_loss': 0.061,\n",
       " 'log_loss': 2.1068965443893295,\n",
       " 'tn': 898,\n",
       " 'fp': 39,\n",
       " 'fn': 22,\n",
       " 'tp': 41}"
      ]
     },
     "execution_count": 14,
     "metadata": {},
     "output_type": "execute_result"
    }
   ],
   "source": [
    "eval"
   ]
  },
  {
   "cell_type": "code",
   "execution_count": null,
   "id": "924e4633",
   "metadata": {},
   "outputs": [],
   "source": []
  },
  {
   "cell_type": "code",
   "execution_count": 8,
   "id": "78eb15f8",
   "metadata": {},
   "outputs": [
    {
     "data": {
      "text/plain": [
       "{'groundtruth_indices': (array([ 32,  62,  79, 136, 182, 196, 199, 208, 209, 228, 233, 236, 244,\n",
       "         245, 261, 274, 276, 279, 304, 311, 336, 365, 385, 386, 388, 447,\n",
       "         484, 534, 544, 560, 575, 579, 585, 596, 605, 627, 700, 713, 718,\n",
       "         741, 743, 754, 762, 764, 767, 776, 789, 792, 793, 807, 829, 846,\n",
       "         847, 849, 853, 879, 882, 898, 936, 953, 971, 972, 975]),),\n",
       " 'pred_indices': (array([ 10,  12,  17,  26,  30,  49,  56,  67,  71,  72,  79,  83,  87,\n",
       "         116, 146, 152, 164, 191, 199, 213, 214, 219, 227, 236, 237, 255,\n",
       "         271, 273, 276, 282, 284, 301, 311, 315, 316, 322, 326, 327, 348,\n",
       "         373, 378, 385, 386, 392, 394, 400, 403, 418, 419, 422, 431, 432,\n",
       "         437, 456, 469, 474, 494, 501, 509, 515, 540, 549, 561, 579, 584,\n",
       "         605, 628, 633, 634, 666, 682, 689, 696, 700, 715, 735, 753, 786,\n",
       "         791, 795, 808, 820, 862, 867, 869, 875, 880, 887, 895, 901, 915,\n",
       "         924, 925, 947, 957, 967, 975, 976, 983, 999]),),\n",
       " 'roc_auc': 0.5398095915705308,\n",
       " 'f1_score': 0.13496932515337423,\n",
       " 'acc_score': 0.859,\n",
       " 'jaccard_score': 0.07236842105263158,\n",
       " 'precision_score': 0.11,\n",
       " 'recall_score': 0.1746031746031746,\n",
       " 'tn': 848,\n",
       " 'fp': 89,\n",
       " 'fn': 52,\n",
       " 'tp': 11}"
      ]
     },
     "execution_count": 8,
     "metadata": {},
     "output_type": "execute_result"
    }
   ],
   "source": [
    "evaluate(labels,pred_labels)"
   ]
  },
  {
   "cell_type": "code",
   "execution_count": null,
   "id": "7f833950",
   "metadata": {},
   "outputs": [],
   "source": []
  }
 ],
 "metadata": {
  "kernelspec": {
   "display_name": "Python 3 (ipykernel)",
   "language": "python",
   "name": "python3"
  },
  "language_info": {
   "codemirror_mode": {
    "name": "ipython",
    "version": 3
   },
   "file_extension": ".py",
   "mimetype": "text/x-python",
   "name": "python",
   "nbconvert_exporter": "python",
   "pygments_lexer": "ipython3",
   "version": "3.9.7"
  }
 },
 "nbformat": 4,
 "nbformat_minor": 5
}
