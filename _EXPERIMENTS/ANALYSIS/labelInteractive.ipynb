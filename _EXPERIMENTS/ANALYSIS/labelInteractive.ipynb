{
 "cells": [
  {
   "cell_type": "code",
   "execution_count": 2,
   "id": "7aae0ad6",
   "metadata": {},
   "outputs": [
    {
     "name": "stdout",
     "output_type": "stream",
     "text": [
      "Populating the interactive namespace from numpy and matplotlib\n"
     ]
    }
   ],
   "source": [
    "%pylab inline\n",
    "%load_ext autoreload\n",
    "%autoreload 2"
   ]
  },
  {
   "cell_type": "code",
   "execution_count": 3,
   "id": "ba081f2d",
   "metadata": {},
   "outputs": [],
   "source": [
    "import omama.label as O\n",
    "import os\n",
    "import pandas as pd\n",
    "import pickle"
   ]
  },
  {
   "cell_type": "code",
   "execution_count": 4,
   "id": "dff5fb88",
   "metadata": {},
   "outputs": [],
   "source": [
    "path = '/raid/data01/deephealth/'\n",
    "folder = 'dh_dh2'"
   ]
  },
  {
   "cell_type": "code",
   "execution_count": 5,
   "id": "e32aaedd",
   "metadata": {},
   "outputs": [],
   "source": [
    "data = O.Data(path, folder)"
   ]
  },
  {
   "cell_type": "code",
   "execution_count": 5,
   "id": "7510d048",
   "metadata": {},
   "outputs": [],
   "source": [
    "l_df = pd.DataFrame(columns=['folder', '2D/3D', 'label', 'image laterality'])"
   ]
  },
  {
   "cell_type": "code",
   "execution_count": null,
   "id": "a1430441",
   "metadata": {},
   "outputs": [],
   "source": [
    "result = data.createFullRecord(l_df, executionTime=True)"
   ]
  },
  {
   "cell_type": "code",
   "execution_count": 8,
   "id": "18287f1e",
   "metadata": {},
   "outputs": [],
   "source": [
    "picklefile = open('data', 'wb')\n",
    "#pickle the dataframe\n",
    "pickle.dump(data, picklefile)\n",
    "#close file\n",
    "picklefile.close()"
   ]
  },
  {
   "cell_type": "code",
   "execution_count": 9,
   "id": "5690f5d4",
   "metadata": {},
   "outputs": [],
   "source": [
    "#read the pickle file\n",
    "picklefile = open('data', 'rb')\n",
    "#unpickle the dataframe\n",
    "df_result = pickle.load(picklefile)\n",
    "#close file\n",
    "picklefile.close()"
   ]
  },
  {
   "cell_type": "code",
   "execution_count": 10,
   "id": "396ad08c",
   "metadata": {},
   "outputs": [
    {
     "data": {
      "text/plain": [
       "<omama.labelplot.Data at 0x7f719c494220>"
      ]
     },
     "execution_count": 10,
     "metadata": {},
     "output_type": "execute_result"
    }
   ],
   "source": [
    "df_result"
   ]
  },
  {
   "cell_type": "code",
   "execution_count": null,
   "id": "04d1c3b9",
   "metadata": {},
   "outputs": [],
   "source": []
  }
 ],
 "metadata": {
  "kernelspec": {
   "display_name": "Python 3 (ipykernel)",
   "language": "python",
   "name": "python3"
  },
  "language_info": {
   "codemirror_mode": {
    "name": "ipython",
    "version": 3
   },
   "file_extension": ".py",
   "mimetype": "text/x-python",
   "name": "python",
   "nbconvert_exporter": "python",
   "pygments_lexer": "ipython3",
   "version": "3.9.7"
  }
 },
 "nbformat": 4,
 "nbformat_minor": 5
}
