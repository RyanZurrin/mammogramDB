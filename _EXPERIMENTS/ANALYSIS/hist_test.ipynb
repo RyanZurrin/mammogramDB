{
 "cells": [
  {
   "cell_type": "code",
   "execution_count": 1,
   "id": "4f79ef00",
   "metadata": {},
   "outputs": [
    {
     "name": "stdout",
     "output_type": "stream",
     "text": [
      "Populating the interactive namespace from numpy and matplotlib\n"
     ]
    }
   ],
   "source": [
    "%pylab inline"
   ]
  },
  {
   "cell_type": "code",
   "execution_count": null,
   "id": "6bd0e250",
   "metadata": {},
   "outputs": [],
   "source": []
  },
  {
   "cell_type": "code",
   "execution_count": 6,
   "id": "2a88f91d",
   "metadata": {},
   "outputs": [],
   "source": [
    "import mahotas as mh\n",
    "import sys\n",
    "sys.path.append('../../')\n",
    "import omama as O"
   ]
  },
  {
   "cell_type": "code",
   "execution_count": 9,
   "id": "2deec0ac",
   "metadata": {},
   "outputs": [
    {
     "name": "stdout",
     "output_type": "stream",
     "text": [
      "total __init__           ...took     0.000002 seconds\n"
     ]
    }
   ],
   "source": [
    "omama_loader = O.OmamaLoader(config_num=2)\n",
    "data = O.Data(data_loader=omama_loader, timing = True, load_cache=True)"
   ]
  },
  {
   "cell_type": "code",
   "execution_count": 10,
   "id": "0449aa05",
   "metadata": {},
   "outputs": [],
   "source": [
    "img5 = data.get_image(path='/raid/data01/deephealth/dh_dcm_ast/2.25.59518095988146941551295309024035471154/DXm.2.25.109470556841645406325516709731106512800')"
   ]
  },
  {
   "cell_type": "code",
   "execution_count": 26,
   "id": "6dfedc08",
   "metadata": {},
   "outputs": [],
   "source": [
    "img1 = img5.pixels"
   ]
  },
  {
   "cell_type": "code",
   "execution_count": 27,
   "id": "3aa96bd5",
   "metadata": {},
   "outputs": [
    {
     "data": {
      "text/plain": [
       "(0, 4095)"
      ]
     },
     "execution_count": 27,
     "metadata": {},
     "output_type": "execute_result"
    }
   ],
   "source": [
    "img1.min(), img1.max()"
   ]
  },
  {
   "cell_type": "code",
   "execution_count": 28,
   "id": "9c822dac",
   "metadata": {},
   "outputs": [],
   "source": [
    "img1 = img1.astype(np.float32)\n",
    "img1 /= img1.max()\n",
    "img1 *= 255\n",
    "img1 = img1.astype(np.uint8)"
   ]
  },
  {
   "cell_type": "code",
   "execution_count": 29,
   "id": "fedf1d5f",
   "metadata": {},
   "outputs": [
    {
     "data": {
      "text/plain": [
       "array([[  0,   0,   0, ...,   0,   0,   0],\n",
       "       [  0,   0,   0, ...,   0,   0,   0],\n",
       "       [  0,   0,   0, ...,   0,   0,   0],\n",
       "       ...,\n",
       "       [  0,   0,   0, ..., 162, 176, 184],\n",
       "       [  0,   0,   0, ..., 166, 180, 183],\n",
       "       [  0,   0,   0, ..., 166, 180, 181]], dtype=uint8)"
      ]
     },
     "execution_count": 29,
     "metadata": {},
     "output_type": "execute_result"
    }
   ],
   "source": [
    "img1"
   ]
  },
  {
   "cell_type": "code",
   "execution_count": 30,
   "id": "12066b6a",
   "metadata": {},
   "outputs": [
    {
     "data": {
      "text/plain": [
       "(0, 255)"
      ]
     },
     "execution_count": 30,
     "metadata": {},
     "output_type": "execute_result"
    }
   ],
   "source": [
    "img1.min(), img1.max()"
   ]
  },
  {
   "cell_type": "code",
   "execution_count": 33,
   "id": "ac55d4d0",
   "metadata": {},
   "outputs": [],
   "source": [
    "counts  = mh.fullhistogram(img1)"
   ]
  },
  {
   "cell_type": "code",
   "execution_count": 36,
   "id": "32bfa27d",
   "metadata": {},
   "outputs": [
    {
     "data": {
      "text/plain": [
       "array([6139759,    5510,    4101,    2501,    1918,    1544,    1547,\n",
       "          1620,    1973,    2379,    2810,    3422,    3784,    4590,\n",
       "          5455,    6257,    7098,    9767,   10837,   12245,   15012,\n",
       "         16748,   17560,   19961,   22326,   23315,   24208,   26357,\n",
       "         26350,   27945,   27320,   30939,   27272,   30427,   28869,\n",
       "         29221,   29870,   28083,   28387,   28568,   28805,   26076,\n",
       "         26487,   26639,   26832,   26938,   26791,   24360,   24116,\n",
       "         23886,   23741,   23747,   23376,   23096,   22692,   20300,\n",
       "         19893,   21873,   19518,   19117,   18900,   18457,   18384,\n",
       "         15664,   20086,   15493,   15218,   16975,   17081,   16680,\n",
       "         14557,   14461,   16142,   14171,   14134,   15901,   13766,\n",
       "         11684,   13558,   15635,   13623,   13174,   13283,   13295,\n",
       "         11187,   12801,   12850,   12789,   12851,   12590,   10792,\n",
       "         12533,   12510,   10431,   12280,   12190,   10547,   12242,\n",
       "         10358,   12145,   10336,   12049,   12056,   10240,   12010,\n",
       "         11703,   10069,    9993,   11616,   11469,    9762,    9813,\n",
       "         11349,    9779,   11310,    9439,   11012,    9311,   10768,\n",
       "         10572,    9079,   10399,    8739,   10131,    8767,   10043,\n",
       "         10234,    8454,    9684,    8530,    9580,    8132,    9354,\n",
       "          8093,   10504,    7784,    9309,    9105,    8859,    7668,\n",
       "          8637,    8802,    8371,    8475,    8314,    6897,    8039,\n",
       "          9120,    7987,    7677,    6419,    8370,    7317,    7073,\n",
       "          8050,    6786,    6670,    6719,    6326,    7240,    6948,\n",
       "          6088,    5865,    6554,    5652,    6233,    6024,    5875,\n",
       "          5124,    5601,    6113,    4652,    5673,    4920,    4675,\n",
       "          4551,    4837,    4114,    4417,    3786,    4025,    3423,\n",
       "          3709,    3430,    3009,    3501,    3030,    3046,    2799,\n",
       "          2840,    2780,    2406,    2447,    2440,    2100,    2356,\n",
       "          1987,    1848,    1777,    1998,    1523,    1602,    1548,\n",
       "          1336,    1382,    1131,    1112,     913,    1123,     873,\n",
       "           770,     731,     656,     626,     538,     490,     462,\n",
       "           417,     380,     298,     288,     246,     192,     211,\n",
       "           177,     168,     115,     115,     112,      99,      80,\n",
       "            75,      61,      41,      45,      49,      51,      51,\n",
       "            39,      32,      44,      19,      24,       7,       4,\n",
       "             4,       3,       1,       4,      10,       7,       9,\n",
       "            12,      28,     798,    7946], dtype=uint32)"
      ]
     },
     "execution_count": 36,
     "metadata": {},
     "output_type": "execute_result"
    }
   ],
   "source": [
    "counts"
   ]
  },
  {
   "cell_type": "code",
   "execution_count": 39,
   "id": "575452af",
   "metadata": {},
   "outputs": [
    {
     "data": {
      "text/plain": [
       "(array([78., 28., 37., 42., 19., 12.,  7., 12., 10., 10.]),\n",
       " array([1.00000e+00, 3.09480e+03, 6.18860e+03, 9.28240e+03, 1.23762e+04,\n",
       "        1.54700e+04, 1.85638e+04, 2.16576e+04, 2.47514e+04, 2.78452e+04,\n",
       "        3.09390e+04]),\n",
       " <BarContainer object of 10 artists>)"
      ]
     },
     "execution_count": 39,
     "metadata": {},
     "output_type": "execute_result"
    },
    {
     "data": {
      "image/png": "[encoded data removed]",
      "text/plain": [
       "<Figure size 432x288 with 1 Axes>"
      ]
     },
     "metadata": {
      "needs_background": "light"
     },
     "output_type": "display_data"
    }
   ],
   "source": [
    "plt.hist(counts[1:]) # ignore the heavy counts of pixel value 0 (too much emptiness)"
   ]
  },
  {
   "cell_type": "code",
   "execution_count": null,
   "id": "a4bfc511",
   "metadata": {},
   "outputs": [],
   "source": []
  }
 ],
 "metadata": {
  "kernelspec": {
   "display_name": "Python 3 (ipykernel)",
   "language": "python",
   "name": "python3"
  },
  "language_info": {
   "codemirror_mode": {
    "name": "ipython",
    "version": 3
   },
   "file_extension": ".py",
   "mimetype": "text/x-python",
   "name": "python",
   "nbconvert_exporter": "python",
   "pygments_lexer": "ipython3",
   "version": "3.9.7"
  }
 },
 "nbformat": 4,
 "nbformat_minor": 5
}
