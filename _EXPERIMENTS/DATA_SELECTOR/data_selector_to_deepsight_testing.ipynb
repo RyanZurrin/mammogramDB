{
 "cells": [
  {
   "cell_type": "code",
   "execution_count": 25,
   "id": "24b0879d",
   "metadata": {},
   "outputs": [
    {
     "name": "stdout",
     "output_type": "stream",
     "text": [
      "Populating the interactive namespace from numpy and matplotlib\n",
      "The autoreload extension is already loaded. To reload it, use:\n",
      "  %reload_ext autoreload\n"
     ]
    }
   ],
   "source": [
    "%pylab inline\n",
    "%load_ext autoreload\n",
    "%autoreload 2\n",
    "import sys\n",
    "import time\n",
    "sys.path.insert(0,'..')\n",
    "import omama as O\n",
    "import json\n",
    "from omama.omama_loader import Label\n",
    "from omama.data_helper import DataHelper as DH\n",
    "from omama.analysis.data_selection_algo.src.data_selector import DataSelector"
   ]
  },
  {
   "cell_type": "code",
   "execution_count": 26,
   "id": "212811b6",
   "metadata": {},
   "outputs": [],
   "source": [
    "subsetter=DataSelector()"
   ]
  },
  {
   "cell_type": "code",
   "execution_count": 27,
   "id": "498934c5",
   "metadata": {},
   "outputs": [
    {
     "name": "stderr",
     "output_type": "stream",
     "text": [
      "/home/p.bendiksen001/deephealth/omama/_EXPERIMENTS/../omama/analysis/data_selection_algo/src/data_selector.py:220: FutureWarning: The default value of regex will change from True to False in a future version.\n",
      "  df_omama['Shape'] = df_omama['Shape'].str.replace('(2457, 1890,.*)', '2457, 1890, x)')\n",
      "/home/p.bendiksen001/deephealth/omama/_EXPERIMENTS/../omama/analysis/data_selection_algo/src/data_selector.py:221: FutureWarning: The default value of regex will change from True to False in a future version.\n",
      "  df_omama['Shape'] = df_omama['Shape'].str.replace('(2457, 1996,.*)', '2457, 1996, x)')\n",
      "/home/p.bendiksen001/deephealth/omama/_EXPERIMENTS/../omama/analysis/data_selection_algo/src/data_selector.py:222: FutureWarning: The default value of regex will change from True to False in a future version.\n",
      "  df_omama['Shape'] = df_omama['Shape'].str.replace('(2059, 652,.*)', '2059, 652, x)')\n",
      "/home/p.bendiksen001/deephealth/omama/_EXPERIMENTS/../omama/analysis/data_selection_algo/src/data_selector.py:223: FutureWarning: The default value of regex will change from True to False in a future version.\n",
      "  df_omama['Shape'] = df_omama['Shape'].str.replace('(2023, 918,.*)', '2023, 918, x)')\n",
      "/home/p.bendiksen001/deephealth/omama/_EXPERIMENTS/../omama/analysis/data_selection_algo/src/data_selector.py:226: UserWarning: This pattern is interpreted as a regular expression, and has match groups. To actually get the groups, use str.extract.\n",
      "  df_omama = df_omama[~df_omama[\"Shape\"].str.contains(pattern)]\n"
     ]
    }
   ],
   "source": [
    "df_omama=subsetter.subset_pipeline_post_manufacturer_step(filepath=\"../../df_omama.pkl\")"
   ]
  },
  {
   "cell_type": "code",
   "execution_count": 28,
   "id": "8a04c975",
   "metadata": {},
   "outputs": [
    {
     "name": "stdout",
     "output_type": "stream",
     "text": [
      "Total cases count: 259081\n",
      "Total studies count: 197785\n",
      "Total patients count: 196653\n",
      "\n",
      "Total 2D cases count: 191547\n",
      "Total 2D studies count: 181687\n",
      "\n",
      "Total 2D patients count: 181666\n",
      "\n",
      "Total 3D cases count: 67534\n",
      "Total 3D studies count: 16268\n",
      "Total 3D patient count: 15149\n",
      "number of 3D studies that match with those of 2D: 170\n",
      "number of 3D patients that match with those of 2D: 162\n",
      "\n",
      "2d Cancer cases count: 12188\n",
      "Unique 2D Cancer Study instances count: 4507\n",
      "Unique 2D Cancer Patient instances count: 4486\n",
      "number of 2D cancer studies that match with those of 2D noncancer: 2179\n",
      "number of 2D cancer patients that match with those of 2D noncancer: 2179\n",
      "\n",
      "2d Cancer -Pre- cases count: 1820\n",
      "Unique 2D Cancer -Pre- Study instances count: 777\n",
      "Unique 2D Cancer -Pre- Patient instances count: 777\n",
      "Nonunique 2D Cancer -Pre- Study instances count: 1043\n",
      "number of 2D pre cancer studies that match with those of 2D noncancer: 655\n",
      "number of 2D pre cancer patients that match with those of 2D noncancer: 655\n",
      "\n",
      "2d Cancer -Index- cases count: 10368\n",
      "Unique 2D Cancer -Index- Study instances count: 3748\n",
      "Unique 2D Cancer -Index- Patient instances count: 3727\n",
      "Nonunique 2D Cancer -Index- Study instances count: 6620\n",
      "number of 2D index cancer studies that match with those of 2D noncancer: 1524\n",
      "number of 2D index cancer patients that match with those of 2D noncancer: 1524\n",
      "\n",
      "number of 2D precancer studies that match with those of 2D indexcancer cases: 18\n",
      "number of 2D precancer patients that match with those of 2D indexcancer cases: 18\n",
      "\n",
      "3d Cancer -Index- cases count: 376\n",
      "unique 3D Cancer Study instances count 170\n",
      "unique 3D Cancer Patient instances count 149\n",
      "Nonunique 3D Cancer study instances count 206\n",
      "\n",
      "number of 3D cancer Studies that match with 3D noncancer: 136\n",
      "number of 3D cancer Patients that match with 3D noncancer: 137\n",
      "Sanity Check: number of 3D cancer Studies that match with 3D: 170\n",
      "\n",
      "2d Noncancer cases count: 179359\n",
      "Unique 2D Noncancer study instances count: 179359\n",
      "Unique 2D Noncancer patient instances count: 179359\n",
      "Nonunique 2D Noncancer study instances count: 0\n",
      "Sanity Check: number of 2D noncancer Studies that match with 2D: 179359\n",
      "\n",
      "3d Noncancer cases count: 67158\n",
      "Unique 3D Noncancer study instances count 16234\n",
      "Unique 3D Noncancer patient instances count 15137\n",
      "Nonunique 3D Noncancer study instances count 50924\n",
      "number of 3D noncancer studies that match with those of 2D noncancer: 0\n",
      "number of 3D noncancer patients that match with those of 2D noncancer: 13\n",
      "\n"
     ]
    }
   ],
   "source": [
    "subsetter.check_metrics(df_omama)"
   ]
  }
 ],
 "metadata": {
  "kernelspec": {
   "display_name": "Python 3 (ipykernel)",
   "language": "python",
   "name": "python3"
  },
  "language_info": {
   "codemirror_mode": {
    "name": "ipython",
    "version": 3
   },
   "file_extension": ".py",
   "mimetype": "text/x-python",
   "name": "python",
   "nbconvert_exporter": "python",
   "pygments_lexer": "ipython3",
   "version": "3.9.7"
  }
 },
 "nbformat": 4,
 "nbformat_minor": 5
}
