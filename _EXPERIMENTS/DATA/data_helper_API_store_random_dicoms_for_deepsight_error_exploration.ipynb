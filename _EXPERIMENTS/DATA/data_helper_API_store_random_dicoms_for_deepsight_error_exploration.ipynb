{
 "cells": [
  {
   "cell_type": "code",
   "execution_count": 1,
   "id": "30820de2",
   "metadata": {},
   "outputs": [
    {
     "name": "stdout",
     "output_type": "stream",
     "text": [
      "Populating the interactive namespace from numpy and matplotlib\n"
     ]
    }
   ],
   "source": [
    "%pylab inline\n",
    "import sys\n",
    "sys.path.insert(0,'../..')\n",
    "import omama as O"
   ]
  },
  {
   "cell_type": "code",
   "execution_count": 2,
   "id": "d080c721",
   "metadata": {},
   "outputs": [],
   "source": [
    "img_obj_2D_cancer=O.DataHelper.get2D(N=2, cancer=True, randomize=True, timing=False)"
   ]
  },
  {
   "cell_type": "code",
   "execution_count": 3,
   "id": "dc6812e1",
   "metadata": {},
   "outputs": [],
   "source": [
    "img_obj_2D_noncancer=O.DataHelper.get2D(N=2, cancer=False, randomize=True, timing=False)"
   ]
  },
  {
   "cell_type": "code",
   "execution_count": 4,
   "id": "7eff2744",
   "metadata": {},
   "outputs": [],
   "source": [
    "img_obj_3D_cancer=O.DataHelper.get3D(N=2, cancer=True, randomize=True, timing=False)"
   ]
  },
  {
   "cell_type": "code",
   "execution_count": 5,
   "id": "acb52fb6",
   "metadata": {},
   "outputs": [],
   "source": [
    "img_obj_3D_noncancer=O.DataHelper.get3D(N=2, cancer=False, randomize=True, timing=False)"
   ]
  },
  {
   "cell_type": "code",
   "execution_count": 6,
   "id": "62f2cdf9",
   "metadata": {},
   "outputs": [],
   "source": [
    "imgs_obs_lists = [img_obj_2D_cancer, img_obj_2D_noncancer, img_obj_3D_cancer, img_obj_3D_noncancer]"
   ]
  },
  {
   "cell_type": "code",
   "execution_count": 7,
   "id": "0be1bf6a",
   "metadata": {},
   "outputs": [],
   "source": [
    "imgs_obs_list = [item for sublist in imgs_obs_lists for item in sublist]"
   ]
  },
  {
   "cell_type": "code",
   "execution_count": null,
   "id": "e928bd2e",
   "metadata": {},
   "outputs": [],
   "source": [
    "path_to_store = '/tmp/test/rnd_imgs/rnd_imgs_one_folder/tmp.dcm'\n",
    "\n",
    "for i in range(len(imgs_obs_list)):\n",
    "    path_to_store = path_to_store.rsplit(\"/\", 1)[0] + '/' + str(i) + '.dcm'\n",
    "    print(path_to_store)\n",
    "    O.DataHelper.store(imgs_obs_list[i], path_to_store)\n",
    "\n",
    "\n",
    "\n",
    "\n"
   ]
  },
  {
   "cell_type": "code",
   "execution_count": null,
   "id": "30477c3e",
   "metadata": {},
   "outputs": [],
   "source": [
    "path_to_store = '/tmp/test/rnd_imgs/rnd_imgs_many_folders/tmp.dcm'\n",
    "\n",
    "for i in range(len(imgs_obs_list)):\n",
    "    path_to_store = path_to_store.rsplit(\"/\", 1)[0] + '/' + str(i) + '/' + str(i) + '.dcm'\n",
    "    print(path_to_store)\n",
    "    O.DataHelper.store(imgs_obs_list[i], path_to_store)\n",
    "    path_to_store = path_to_store.rsplit(\"/\", 1)[0]\n"
   ]
  },
  {
   "cell_type": "code",
   "execution_count": null,
   "id": "e8450950",
   "metadata": {},
   "outputs": [],
   "source": []
  }
 ],
 "metadata": {
  "kernelspec": {
   "display_name": "Python 3 (ipykernel)",
   "language": "python",
   "name": "python3"
  },
  "language_info": {
   "codemirror_mode": {
    "name": "ipython",
    "version": 3
   },
   "file_extension": ".py",
   "mimetype": "text/x-python",
   "name": "python",
   "nbconvert_exporter": "python",
   "pygments_lexer": "ipython3",
   "version": "3.9.7"
  }
 },
 "nbformat": 4,
 "nbformat_minor": 5
}
