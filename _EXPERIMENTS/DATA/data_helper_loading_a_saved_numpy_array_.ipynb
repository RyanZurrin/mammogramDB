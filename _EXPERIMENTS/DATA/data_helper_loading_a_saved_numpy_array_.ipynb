{
 "cells": [
  {
   "cell_type": "code",
   "execution_count": 14,
   "id": "9813cb20",
   "metadata": {},
   "outputs": [],
   "source": [
    "import sys\n",
    "sys.path.insert(0,'../..')\n",
    "import omama as O\n",
    "import numpy as np"
   ]
  },
  {
   "cell_type": "code",
   "execution_count": 15,
   "id": "77cfb967",
   "metadata": {},
   "outputs": [],
   "source": [
    "i = O.DataHelper.get('DXm.2.25.223683239969149915459367729320842482983')"
   ]
  },
  {
   "cell_type": "code",
   "execution_count": 16,
   "id": "9786ad37",
   "metadata": {},
   "outputs": [],
   "source": [
    "O.DataHelper.store(i, 'npy04.npy') # store method can save as numpy array"
   ]
  },
  {
   "cell_type": "code",
   "execution_count": 17,
   "id": "928ee6f4",
   "metadata": {},
   "outputs": [],
   "source": [
    "nparray = np.load('npy04.npy')"
   ]
  },
  {
   "cell_type": "code",
   "execution_count": 18,
   "id": "0117de75",
   "metadata": {},
   "outputs": [
    {
     "data": {
      "text/plain": [
       "array([[3610, 3611, 3570, ...,    0,    0,    0],\n",
       "       [3646, 3530, 3530, ...,    0,    0,    0],\n",
       "       [3625, 3543, 3572, ...,    0,    0,    0],\n",
       "       ...,\n",
       "       [2998, 2971, 2914, ...,    0,    0,    0],\n",
       "       [2966, 2970, 2917, ...,    0,    0,    0],\n",
       "       [2942, 2977, 2904, ...,    0,    0,    0]], dtype=uint16)"
      ]
     },
     "execution_count": 18,
     "metadata": {},
     "output_type": "execute_result"
    }
   ],
   "source": [
    "nparray"
   ]
  },
  {
   "cell_type": "code",
   "execution_count": null,
   "id": "4e0e1eb3",
   "metadata": {},
   "outputs": [],
   "source": []
  }
 ],
 "metadata": {
  "kernelspec": {
   "display_name": "Python 3 (ipykernel)",
   "language": "python",
   "name": "python3"
  },
  "language_info": {
   "codemirror_mode": {
    "name": "ipython",
    "version": 3
   },
   "file_extension": ".py",
   "mimetype": "text/x-python",
   "name": "python",
   "nbconvert_exporter": "python",
   "pygments_lexer": "ipython3",
   "version": "3.9.7"
  }
 },
 "nbformat": 4,
 "nbformat_minor": 5
}
