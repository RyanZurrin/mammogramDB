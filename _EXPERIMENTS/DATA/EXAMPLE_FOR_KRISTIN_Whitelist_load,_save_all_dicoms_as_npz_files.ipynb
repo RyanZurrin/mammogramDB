{
 "cells": [
  {
   "cell_type": "code",
   "execution_count": 1,
   "id": "6e8b3c1c",
   "metadata": {},
   "outputs": [],
   "source": [
    "import sys\n",
    "import time\n",
    "sys.path.insert(0,'../..')\n",
    "import omama as O"
   ]
  },
  {
   "cell_type": "code",
   "execution_count": 2,
   "id": "920a288d",
   "metadata": {},
   "outputs": [
    {
     "name": "stdout",
     "output_type": "stream",
     "text": [
      "load_studies             ...took     0.273912 seconds\n",
      "load_images              ...took     0.115166 seconds\n",
      "csv_to_map               ...took     0.218814 seconds\n",
      "load_pickle              ...took     0.397517 seconds\n",
      "generate_counts          ...took     0.178087 seconds\n",
      "generate_stats           ...took     0.210504 seconds\n",
      "total _init              ...took     1.404502 seconds\n",
      "total __init__           ...took     1.404523 seconds\n"
     ]
    }
   ],
   "source": [
    "cache_paths = [\"/raid/mpsych/cache_files/wl_2d_final\", \"/raid/mpsych/cache_files/wl_2d_label_to_sop\"]\n",
    "whitelist_path = r\"/raid/mpsych/cache_files/2D_whitelist_final.txt\" \n",
    "omama_loader = O.OmamaLoader()\n",
    "data = O.Data(data_loader=omama_loader, whitelist_path=whitelist_path, load_cache=True, cache_paths=cache_paths, timing=True)"
   ]
  },
  {
   "cell_type": "code",
   "execution_count": 3,
   "id": "713891de",
   "metadata": {},
   "outputs": [],
   "source": [
    "# there is already 1000 2d npz files saved for you at this location.\n",
    "folder_path = r'/raid/mpsych/npz_files/' \n",
    "for i in range(1000, ): # will save the first 100 images stored in data class\n",
    "    O.DataHelper.store(data[i], folder_path + str(i)+'.npz') # store method will store as .dcm by default\n",
    "    \n",
    "# to save all images you can use this code below, or change len(data) to some number above 1000\n",
    "# to save additional npz files. range(1000, 2000) would save 1000 different npz files\n",
    "for i in range(1000, len(data)):\n",
    "    O.DataHelper.store(data[i], folder_path + str(i)+'.npz') # store method will store as .dcm by default"
   ]
  },
  {
   "cell_type": "code",
   "execution_count": null,
   "id": "d9e0d981",
   "metadata": {},
   "outputs": [],
   "source": []
  }
 ],
 "metadata": {
  "kernelspec": {
   "display_name": "Python 3 (ipykernel)",
   "language": "python",
   "name": "python3"
  },
  "language_info": {
   "codemirror_mode": {
    "name": "ipython",
    "version": 3
   },
   "file_extension": ".py",
   "mimetype": "text/x-python",
   "name": "python",
   "nbconvert_exporter": "python",
   "pygments_lexer": "ipython3",
   "version": "3.9.7"
  }
 },
 "nbformat": 4,
 "nbformat_minor": 5
}
