{
 "cells": [
  {
   "cell_type": "code",
   "execution_count": 1,
   "id": "00a56165",
   "metadata": {},
   "outputs": [],
   "source": [
    "import sys\n",
    "import time\n",
    "sys.path.insert(0,'../..')\n",
    "import omama as O"
   ]
  },
  {
   "cell_type": "code",
   "execution_count": 2,
   "id": "adecda2a",
   "metadata": {},
   "outputs": [
    {
     "name": "stdout",
     "output_type": "stream",
     "text": [
      "get2D                    ...took     8.922705 seconds\n"
     ]
    }
   ],
   "source": [
    "imgs = O.DataHelper.get2D(N=2, randomize=True, timing=True)"
   ]
  },
  {
   "cell_type": "code",
   "execution_count": 3,
   "id": "e642d326",
   "metadata": {},
   "outputs": [
    {
     "name": "stdout",
     "output_type": "stream",
     "text": [
      "get3D                    ...took    19.420108 seconds\n"
     ]
    }
   ],
   "source": [
    "imgs3d = O.DataHelper.get3D(N=2, cancer=True, randomize=True, timing=True)"
   ]
  },
  {
   "cell_type": "code",
   "execution_count": 11,
   "id": "1f4f0714",
   "metadata": {},
   "outputs": [
    {
     "data": {
      "text/plain": [
       "namespace(filePath='/raid/data01/deephealth/dh_dcm_ast/2.25.141864391389002192540286887157847226243/DXm.2.25.31051363817661629659960558658758703528',\n",
       "          SOPInstanceUID='2.25.31051363817661629659960558658758703528',\n",
       "          StudyInstanceUID='2.25.141864391389002192540286887157847226243',\n",
       "          label='IndexCancer',\n",
       "          imageLaterality='R',\n",
       "          shape=(2294, 1914),\n",
       "          metadata=None,\n",
       "          pixels=array([[0, 0, 0, ..., 0, 0, 0],\n",
       "                        [0, 0, 0, ..., 0, 0, 0],\n",
       "                        [0, 0, 0, ..., 0, 0, 0],\n",
       "                        ...,\n",
       "                        [0, 0, 0, ..., 0, 0, 0],\n",
       "                        [0, 0, 0, ..., 0, 0, 0],\n",
       "                        [0, 0, 0, ..., 0, 0, 0]], dtype=uint16))"
      ]
     },
     "execution_count": 11,
     "metadata": {},
     "output_type": "execute_result"
    }
   ],
   "source": [
    "imgs[0]"
   ]
  },
  {
   "cell_type": "code",
   "execution_count": 12,
   "id": "55627168",
   "metadata": {},
   "outputs": [
    {
     "name": "stdout",
     "output_type": "stream",
     "text": [
      "/raid/data01/deephealth/dh_dcm_ast/2.25.141864391389002192540286887157847226243/DXm.2.25.31051363817661629659960558658758703528 2.25.31051363817661629659960558658758703528 [[0 0 0 ... 0 0 0]\n",
      " [0 0 0 ... 0 0 0]\n",
      " [0 0 0 ... 0 0 0]\n",
      " ...\n",
      " [0 0 0 ... 0 0 0]\n",
      " [0 0 0 ... 0 0 0]\n",
      " [0 0 0 ... 0 0 0]]\n"
     ]
    }
   ],
   "source": [
    "# how to access attributes of the imgs\n",
    "print(imgs[0].filePath, imgs[0].SOPInstanceUID, imgs[0].pixels)"
   ]
  },
  {
   "cell_type": "code",
   "execution_count": 13,
   "id": "068baa85",
   "metadata": {},
   "outputs": [
    {
     "data": {
      "text/plain": [
       "[namespace(filePath='/raid/data01/deephealth/dh_dh0new/2.25.194379880212545175208188807460918300403/BT.2.25.261512487944217755806005567288429972873',\n",
       "           SOPInstanceUID='2.25.261512487944217755806005567288429972873',\n",
       "           StudyInstanceUID='2.25.194379880212545175208188807460918300403',\n",
       "           label='IndexCancer',\n",
       "           imageLaterality='L',\n",
       "           shape=(88, 2457, 1996),\n",
       "           metadata=None,\n",
       "           pixels=array([[[  0,   0,   0, ..., 439, 421, 411],\n",
       "                          [  0,   0,   0, ..., 476, 467, 439],\n",
       "                          [  0,   0,   0, ..., 477, 458, 440],\n",
       "                          ...,\n",
       "                          [  0,   0,   0, ..., 819, 794, 877],\n",
       "                          [  0,   0,   0, ..., 760, 699, 780],\n",
       "                          [  0,   0,   0, ..., 813, 802, 832]],\n",
       "                  \n",
       "                         [[  0,   0,   0, ..., 486, 477, 440],\n",
       "                          [  0,   0,   0, ..., 493, 457, 431],\n",
       "                          [  0,   0,   0, ..., 451, 422, 456],\n",
       "                          ...,\n",
       "                          [  0,   0,   0, ..., 835, 816, 890],\n",
       "                          [  0,   0,   0, ..., 833, 792, 871],\n",
       "                          [  0,   0,   0, ..., 819, 709, 771]],\n",
       "                  \n",
       "                         [[  0,   0,   0, ..., 497, 470, 434],\n",
       "                          [  0,   0,   0, ..., 475, 432, 460],\n",
       "                          [  0,   0,   0, ..., 547, 478, 497],\n",
       "                          ...,\n",
       "                          [  0,   0,   0, ..., 839, 685, 749],\n",
       "                          [  0,   0,   0, ..., 846, 845, 913],\n",
       "                          [  0,   0,   0, ..., 869, 816, 828]],\n",
       "                  \n",
       "                         ...,\n",
       "                  \n",
       "                         [[  0,   0,   0, ..., 468, 479, 499],\n",
       "                          [  0,   0,   0, ..., 442, 462, 489],\n",
       "                          [  0,   0,   0, ..., 467, 449, 476],\n",
       "                          ...,\n",
       "                          [  0,   0,   0, ..., 703, 733, 794],\n",
       "                          [  0,   0,   0, ..., 734, 740, 741],\n",
       "                          [  0,   0,   0, ..., 742, 735, 722]],\n",
       "                  \n",
       "                         [[  0,   0,   0, ..., 453, 463, 483],\n",
       "                          [  0,   0,   0, ..., 461, 464, 492],\n",
       "                          [  0,   0,   0, ..., 458, 444, 482],\n",
       "                          ...,\n",
       "                          [  0,   0,   0, ..., 697, 705, 736],\n",
       "                          [  0,   0,   0, ..., 725, 733, 787],\n",
       "                          [  0,   0,   0, ..., 747, 757, 759]],\n",
       "                  \n",
       "                         [[  0,   0,   0, ..., 468, 470, 490],\n",
       "                          [  0,   0,   0, ..., 449, 442, 480],\n",
       "                          [  0,   0,   0, ..., 439, 441, 469],\n",
       "                          ...,\n",
       "                          [  0,   0,   0, ..., 755, 770, 789],\n",
       "                          [  0,   0,   0, ..., 707, 688, 742],\n",
       "                          [  0,   0,   0, ..., 722, 729, 738]]], dtype=uint16)),\n",
       " namespace(filePath='/raid/data01/deephealth/dh_dh0new/2.25.48238291082537081839748795051749235410/BT.2.25.165237115471310833628169895830380603116',\n",
       "           SOPInstanceUID='2.25.165237115471310833628169895830380603116',\n",
       "           StudyInstanceUID='2.25.48238291082537081839748795051749235410',\n",
       "           label='IndexCancer',\n",
       "           imageLaterality='L',\n",
       "           shape=(63, 2457, 1996),\n",
       "           metadata=None,\n",
       "           pixels=array([[[  0,   0,   0, ..., 597, 573, 494],\n",
       "                          [  0,   0,   0, ..., 582, 610, 549],\n",
       "                          [  0,   0,   0, ..., 562, 581, 540],\n",
       "                          ...,\n",
       "                          [  0,   0,   0, ..., 764, 722, 782],\n",
       "                          [  0,   0,   0, ..., 687, 659, 726],\n",
       "                          [  0,   0,   0, ..., 684, 677, 762]],\n",
       "                  \n",
       "                         [[  0,   0,   0, ..., 548, 590, 534],\n",
       "                          [  0,   0,   0, ..., 557, 581, 543],\n",
       "                          [  0,   0,   0, ..., 575, 608, 525],\n",
       "                          ...,\n",
       "                          [  0,   0,   0, ..., 726, 648, 763],\n",
       "                          [  0,   0,   0, ..., 733, 693, 754],\n",
       "                          [  0,   0,   0, ..., 679, 636, 698]],\n",
       "                  \n",
       "                         [[  0,   0,   0, ..., 559, 570, 545],\n",
       "                          [  0,   0,   0, ..., 586, 604, 525],\n",
       "                          [  0,   0,   0, ..., 586, 622, 561],\n",
       "                          ...,\n",
       "                          [  0,   0,   0, ..., 682, 652, 703],\n",
       "                          [  0,   0,   0, ..., 771, 671, 766],\n",
       "                          [  0,   0,   0, ..., 710, 682, 752]],\n",
       "                  \n",
       "                         ...,\n",
       "                  \n",
       "                         [[  0,   0,   0, ..., 623, 664, 625],\n",
       "                          [  0,   0,   0, ..., 587, 610, 610],\n",
       "                          [  0,   0,   0, ..., 599, 574, 618],\n",
       "                          ...,\n",
       "                          [  0,   0,   0, ..., 643, 577, 571],\n",
       "                          [  0,   0,   0, ..., 603, 591, 583],\n",
       "                          [  0,   0,   0, ..., 620, 634, 607]],\n",
       "                  \n",
       "                         [[  0,   0,   0, ..., 598, 614, 603],\n",
       "                          [  0,   0,   0, ..., 617, 590, 599],\n",
       "                          [  0,   0,   0, ..., 662, 635, 635],\n",
       "                          ...,\n",
       "                          [  0,   0,   0, ..., 668, 667, 655],\n",
       "                          [  0,   0,   0, ..., 612, 556, 530],\n",
       "                          [  0,   0,   0, ..., 628, 615, 602]],\n",
       "                  \n",
       "                         [[  0,   0,   0, ..., 637, 605, 599],\n",
       "                          [  0,   0,   0, ..., 658, 635, 638],\n",
       "                          [  0,   0,   0, ..., 645, 670, 679],\n",
       "                          ...,\n",
       "                          [  0,   0,   0, ..., 675, 638, 620],\n",
       "                          [  0,   0,   0, ..., 673, 647, 637],\n",
       "                          [  0,   0,   0, ..., 582, 587, 583]]], dtype=uint16))]"
      ]
     },
     "execution_count": 13,
     "metadata": {},
     "output_type": "execute_result"
    }
   ],
   "source": [
    "imgs3d"
   ]
  },
  {
   "cell_type": "code",
   "execution_count": null,
   "id": "59b33130",
   "metadata": {},
   "outputs": [],
   "source": []
  },
  {
   "cell_type": "code",
   "execution_count": 8,
   "id": "22fe93dc",
   "metadata": {},
   "outputs": [],
   "source": [
    "O.DataHelper.store(imgs3d[0], '2.25.205155606315651364519194979570998440143.dcm')"
   ]
  },
  {
   "cell_type": "code",
   "execution_count": 9,
   "id": "4bbb7fa0",
   "metadata": {},
   "outputs": [],
   "source": [
    "O.DataHelper.store(imgs3d[1], '2.25.116265885699054591177666411225145500652.dcm')"
   ]
  },
  {
   "cell_type": "code",
   "execution_count": null,
   "id": "f9495009",
   "metadata": {},
   "outputs": [],
   "source": []
  }
 ],
 "metadata": {
  "kernelspec": {
   "display_name": "Python 3 (ipykernel)",
   "language": "python",
   "name": "python3"
  },
  "language_info": {
   "codemirror_mode": {
    "name": "ipython",
    "version": 3
   },
   "file_extension": ".py",
   "mimetype": "text/x-python",
   "name": "python",
   "nbconvert_exporter": "python",
   "pygments_lexer": "ipython3",
   "version": "3.9.7"
  }
 },
 "nbformat": 4,
 "nbformat_minor": 5
}
