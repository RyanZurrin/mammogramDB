{
 "cells": [
  {
   "cell_type": "code",
   "execution_count": 1,
   "id": "44d6dd9d",
   "metadata": {},
   "outputs": [],
   "source": [
    "import sys\n",
    "import time\n",
    "sys.path.insert(0,'../..')\n",
    "import omama as O"
   ]
  },
  {
   "cell_type": "code",
   "execution_count": 2,
   "id": "30959ec7",
   "metadata": {},
   "outputs": [],
   "source": [
    "cache_path = r\"/hpcstor6/scratch01/r/ryan.zurrin001/pickle/whitelistTest\"\n",
    "whitelist_path = r\"whitelist.txt\"\n",
    "omama_loader = O.OmamaLoader(config_num=2)\n",
    "data = O.Data(data_loader=omama_loader, load_cache=True)"
   ]
  },
  {
   "cell_type": "code",
   "execution_count": 3,
   "id": "09767439",
   "metadata": {},
   "outputs": [
    {
     "name": "stdout",
     "output_type": "stream",
     "text": [
      "Data(namespace(dh_dh2=namespace(total=17, 3D=0, 2D=17),\n",
      "          dh_dh0new=namespace(total=288, 3D=0, 2D=288),\n",
      "          dh_dcm_ast=namespace(total=176189, 3D=0, 2D=176189),\n",
      "          total_all_dicoms=176494,\n",
      "          total_2d_all=176494,\n",
      "          total_3d_all=0,\n",
      "          total_2d_cancer=7466,\n",
      "          total_2d_preindex=1658,\n",
      "          total_2d_noncancer=167370,\n",
      "          total_3d_cancer=0,\n",
      "          total_3d_preindex=0,\n",
      "          total_3d_noncancer=0,\n",
      "          total_cancer=7466,\n",
      "          total_preindex=1658,\n",
      "          total_noncancer=167370,\n",
      "          total_no_label=0))\n"
     ]
    }
   ],
   "source": [
    "print(data)"
   ]
  },
  {
   "cell_type": "code",
   "execution_count": 6,
   "id": "e6fd633e",
   "metadata": {},
   "outputs": [
    {
     "name": "stdout",
     "output_type": "stream",
     "text": [
      "filter_images            ...took     0.153357 seconds\n"
     ]
    }
   ],
   "source": [
    "data.filter_data(labels=[\"IndexCancer\"], studies=['dh_dh0new', 'dh_dh2'], timing=True)"
   ]
  },
  {
   "cell_type": "code",
   "execution_count": 7,
   "id": "eb87feaa",
   "metadata": {},
   "outputs": [
    {
     "data": {
      "text/plain": [
       "pydicom.dataset.FileDataset"
      ]
     },
     "execution_count": 7,
     "metadata": {},
     "output_type": "execute_result"
    }
   ],
   "source": [
    "type(data[0])"
   ]
  },
  {
   "cell_type": "code",
   "execution_count": 5,
   "id": "affa17ed",
   "metadata": {},
   "outputs": [
    {
     "name": "stdout",
     "output_type": "stream",
     "text": [
      "namespace(dh_dh2=namespace(total=64, 3D=27, 2D=37),\n",
      "          dh_dh0new=namespace(total=722, 3D=347, 2D=375),\n",
      "          dh_dcm_ast=namespace(total=0, 3D=0, 2D=0),\n",
      "          total_all_dicoms=786,\n",
      "          total_2d_all=412,\n",
      "          total_3d_all=374,\n",
      "          total_2d_cancer=412,\n",
      "          total_2d_preindex=0,\n",
      "          total_2d_noncancer=0,\n",
      "          total_3d_cancer=374,\n",
      "          total_3d_preindex=0,\n",
      "          total_3d_noncancer=0,\n",
      "          total_cancer=786,\n",
      "          total_preindex=0,\n",
      "          total_noncancer=0,\n",
      "          total_no_label=0)\n",
      "None\n"
     ]
    }
   ],
   "source": [
    "print(data)"
   ]
  },
  {
   "cell_type": "code",
   "execution_count": 6,
   "id": "7d6783cf",
   "metadata": {},
   "outputs": [
    {
     "name": "stdout",
     "output_type": "stream",
     "text": [
      "study paths have a length of 204192\n",
      "image paths have a length of 292525\n"
     ]
    }
   ],
   "source": [
    "data.reset_data()"
   ]
  },
  {
   "cell_type": "code",
   "execution_count": 7,
   "id": "8d476874",
   "metadata": {},
   "outputs": [
    {
     "name": "stdout",
     "output_type": "stream",
     "text": [
      "namespace(dh_dh2=namespace(total=10168, 3D=9363, 2D=805),\n",
      "          dh_dh0new=namespace(total=67454, 3D=62736, 2D=4718),\n",
      "          dh_dcm_ast=namespace(total=214903, 3D=58, 2D=214845),\n",
      "          total_all_dicoms=292525,\n",
      "          total_2d_all=220368,\n",
      "          total_3d_all=72157,\n",
      "          total_2d_cancer=14965,\n",
      "          total_2d_preindex=1915,\n",
      "          total_2d_noncancer=180297,\n",
      "          total_3d_cancer=376,\n",
      "          total_3d_preindex=0,\n",
      "          total_3d_noncancer=67162,\n",
      "          total_cancer=15341,\n",
      "          total_preindex=1915,\n",
      "          total_noncancer=247459,\n",
      "          total_no_label=27810)\n",
      "None\n"
     ]
    }
   ],
   "source": [
    "print(data)"
   ]
  },
  {
   "cell_type": "code",
   "execution_count": 8,
   "id": "b9188e94",
   "metadata": {},
   "outputs": [
    {
     "name": "stdout",
     "output_type": "stream",
     "text": [
      "Now Processing filtered images: 6.518479890489538%\n",
      "Now Processing filtered images: 13.036959780979076%\n",
      "Now Processing filtered images: 19.555439671468612%\n",
      "filter_images            ...took     0.134066 seconds\n"
     ]
    }
   ],
   "source": [
    "data.filter_data(labels=[\"IndexCancer\"], timing=True)"
   ]
  },
  {
   "cell_type": "code",
   "execution_count": 9,
   "id": "bf7abcbd",
   "metadata": {},
   "outputs": [
    {
     "name": "stdout",
     "output_type": "stream",
     "text": [
      "namespace(dh_dh2=namespace(total=64, 3D=27, 2D=37),\n",
      "          dh_dh0new=namespace(total=722, 3D=347, 2D=375),\n",
      "          dh_dcm_ast=namespace(total=14555, 3D=2, 2D=14553),\n",
      "          total_all_dicoms=15341,\n",
      "          total_2d_all=14965,\n",
      "          total_3d_all=376,\n",
      "          total_2d_cancer=14965,\n",
      "          total_2d_preindex=0,\n",
      "          total_2d_noncancer=0,\n",
      "          total_3d_cancer=376,\n",
      "          total_3d_preindex=0,\n",
      "          total_3d_noncancer=0,\n",
      "          total_cancer=15341,\n",
      "          total_preindex=0,\n",
      "          total_noncancer=0,\n",
      "          total_no_label=0)\n",
      "None\n"
     ]
    }
   ],
   "source": [
    "print(data)"
   ]
  }
 ],
 "metadata": {
  "kernelspec": {
   "display_name": "Python 3 (ipykernel)",
   "language": "python",
   "name": "python3"
  },
  "language_info": {
   "codemirror_mode": {
    "name": "ipython",
    "version": 3
   },
   "file_extension": ".py",
   "mimetype": "text/x-python",
   "name": "python",
   "nbconvert_exporter": "python",
   "pygments_lexer": "ipython3",
   "version": "3.9.7"
  }
 },
 "nbformat": 4,
 "nbformat_minor": 5
}
