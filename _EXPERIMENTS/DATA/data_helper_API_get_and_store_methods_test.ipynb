{
 "cells": [
  {
   "cell_type": "code",
   "execution_count": 1,
   "id": "88a7800a",
   "metadata": {},
   "outputs": [],
   "source": [
    "import sys\n",
    "sys.path.insert(0,'../..')\n",
    "import omama as O"
   ]
  },
  {
   "cell_type": "code",
   "execution_count": null,
   "id": "86930025",
   "metadata": {},
   "outputs": [],
   "source": [
    "kl = O.KaggleLoader"
   ]
  },
  {
   "cell_type": "code",
   "execution_count": null,
   "id": "e3e99aa8",
   "metadata": {},
   "outputs": [],
   "source": []
  },
  {
   "cell_type": "code",
   "execution_count": 2,
   "id": "1d7aba9d",
   "metadata": {},
   "outputs": [
    {
     "name": "stdout",
     "output_type": "stream",
     "text": [
      "DataLoader type is:  <class 'omama.omama_loader.OmamaLoader'>\n"
     ]
    },
    {
     "ename": "FileNotFoundError",
     "evalue": "[Errno 2] No such file or directory: ''",
     "output_type": "error",
     "traceback": [
      "\u001B[0;31m---------------------------------------------------------------------------\u001B[0m",
      "\u001B[0;31mFileNotFoundError\u001B[0m                         Traceback (most recent call last)",
      "\u001B[0;32m/tmp/ipykernel_551286/2639636374.py\u001B[0m in \u001B[0;36m<module>\u001B[0;34m\u001B[0m\n\u001B[1;32m      1\u001B[0m \u001B[0;31m# DXm.2.25.255073504482661356085799470659084545194  BT.2.25.272134092342094924593478569736471498621\u001B[0m\u001B[0;34m\u001B[0m\u001B[0;34m\u001B[0m\u001B[0m\n\u001B[1;32m      2\u001B[0m \u001B[0mkl\u001B[0m \u001B[0;34m=\u001B[0m \u001B[0mO\u001B[0m\u001B[0;34m.\u001B[0m\u001B[0mKaggleLoader\u001B[0m\u001B[0;34m(\u001B[0m\u001B[0;34m)\u001B[0m\u001B[0;34m\u001B[0m\u001B[0;34m\u001B[0m\u001B[0m\n\u001B[0;32m----> 3\u001B[0;31m \u001B[0mi\u001B[0m \u001B[0;34m=\u001B[0m \u001B[0mO\u001B[0m\u001B[0;34m.\u001B[0m\u001B[0mDataHelper\u001B[0m\u001B[0;34m.\u001B[0m\u001B[0mget\u001B[0m\u001B[0;34m(\u001B[0m\u001B[0mdata_loader\u001B[0m\u001B[0;34m=\u001B[0m\u001B[0mkl\u001B[0m\u001B[0;34m,\u001B[0m \u001B[0mimage\u001B[0m\u001B[0;34m=\u001B[0m\u001B[0;34m'/raid/mpsych/kaggle_mammograms/original/train_images/10011/1031443799.dcm'\u001B[0m\u001B[0;34m)\u001B[0m \u001B[0;31m# TODO should give the img w/ meta,pixels:completed\u001B[0m\u001B[0;34m\u001B[0m\u001B[0;34m\u001B[0m\u001B[0m\n\u001B[0m",
      "\u001B[0;32m~/Projects/omama/_EXPERIMENTS/DATA/../../omama/data_helper.py\u001B[0m in \u001B[0;36mget\u001B[0;34m(image, view, config_num, data_loader, timing)\u001B[0m\n\u001B[1;32m    776\u001B[0m         \u001B[0mpath\u001B[0m \u001B[0;34m=\u001B[0m \u001B[0mDataHelper\u001B[0m\u001B[0;34m.\u001B[0m\u001B[0mcheck_type\u001B[0m\u001B[0;34m(\u001B[0m\u001B[0mimage\u001B[0m\u001B[0;34m,\u001B[0m \u001B[0mdata\u001B[0m\u001B[0;34m)\u001B[0m\u001B[0;34m\u001B[0m\u001B[0;34m\u001B[0m\u001B[0m\n\u001B[1;32m    777\u001B[0m         \u001B[0mdicom_name\u001B[0m \u001B[0;34m=\u001B[0m \u001B[0mos\u001B[0m\u001B[0;34m.\u001B[0m\u001B[0mpath\u001B[0m\u001B[0;34m.\u001B[0m\u001B[0mbasename\u001B[0m\u001B[0;34m(\u001B[0m\u001B[0mpath\u001B[0m\u001B[0;34m)\u001B[0m\u001B[0;34m\u001B[0m\u001B[0;34m\u001B[0m\u001B[0m\n\u001B[0;32m--> 778\u001B[0;31m         img = data.get_image(dicom_name=dicom_name,\n\u001B[0m\u001B[1;32m    779\u001B[0m                              \u001B[0mtiming\u001B[0m\u001B[0;34m=\u001B[0m\u001B[0mtiming\u001B[0m\u001B[0;34m,\u001B[0m\u001B[0;34m\u001B[0m\u001B[0;34m\u001B[0m\u001B[0m\n\u001B[1;32m    780\u001B[0m                              dicom_header=True)\n",
      "\u001B[0;32m~/Projects/omama/_EXPERIMENTS/DATA/../../omama/data.py\u001B[0m in \u001B[0;36mget_image\u001B[0;34m(cls, image_id, dicom_name, path, pixels, dicom_header, timing)\u001B[0m\n\u001B[1;32m   1207\u001B[0m                 int(ds.NumberOfFrames), int(ds.Rows), int(ds.Columns))\n\u001B[1;32m   1208\u001B[0m         \u001B[0;32melse\u001B[0m\u001B[0;34m:\u001B[0m\u001B[0;34m\u001B[0m\u001B[0;34m\u001B[0m\u001B[0m\n\u001B[0;32m-> 1209\u001B[0;31m             ds1 = dicom.filereader.dcmread(img_path, stop_before_pixels=True,\n\u001B[0m\u001B[1;32m   1210\u001B[0m                                            specific_tags=[\n\u001B[1;32m   1211\u001B[0m                                                \u001B[0;34m\"PatientID\"\u001B[0m\u001B[0;34m,\u001B[0m\u001B[0;34m\u001B[0m\u001B[0;34m\u001B[0m\u001B[0m\n",
      "\u001B[0;32m~/miniconda3/envs/O/lib/python3.9/site-packages/pydicom/filereader.py\u001B[0m in \u001B[0;36mdcmread\u001B[0;34m(fp, defer_size, stop_before_pixels, force, specific_tags)\u001B[0m\n\u001B[1;32m    845\u001B[0m         \u001B[0;32mexcept\u001B[0m \u001B[0mException\u001B[0m\u001B[0;34m:\u001B[0m\u001B[0;34m\u001B[0m\u001B[0;34m\u001B[0m\u001B[0m\n\u001B[1;32m    846\u001B[0m             \u001B[0mlogger\u001B[0m\u001B[0;34m.\u001B[0m\u001B[0mdebug\u001B[0m\u001B[0;34m(\u001B[0m\u001B[0;34m\"Reading file '{0}'\"\u001B[0m\u001B[0;34m.\u001B[0m\u001B[0mformat\u001B[0m\u001B[0;34m(\u001B[0m\u001B[0mfp\u001B[0m\u001B[0;34m)\u001B[0m\u001B[0;34m)\u001B[0m\u001B[0;34m\u001B[0m\u001B[0;34m\u001B[0m\u001B[0m\n\u001B[0;32m--> 847\u001B[0;31m         \u001B[0mfp\u001B[0m \u001B[0;34m=\u001B[0m \u001B[0mopen\u001B[0m\u001B[0;34m(\u001B[0m\u001B[0mfp\u001B[0m\u001B[0;34m,\u001B[0m \u001B[0;34m'rb'\u001B[0m\u001B[0;34m)\u001B[0m\u001B[0;34m\u001B[0m\u001B[0;34m\u001B[0m\u001B[0m\n\u001B[0m\u001B[1;32m    848\u001B[0m \u001B[0;34m\u001B[0m\u001B[0m\n\u001B[1;32m    849\u001B[0m     \u001B[0;32mif\u001B[0m \u001B[0mconfig\u001B[0m\u001B[0;34m.\u001B[0m\u001B[0mdebugging\u001B[0m\u001B[0;34m:\u001B[0m\u001B[0;34m\u001B[0m\u001B[0;34m\u001B[0m\u001B[0m\n",
      "\u001B[0;31mFileNotFoundError\u001B[0m: [Errno 2] No such file or directory: ''"
     ]
    }
   ],
   "source": [
    "\n",
    "i = O.DataHelper.get(data_loader=kl, image='/raid/mpsych/kaggle_mammograms/original/train_images/10011/1031443799.dcm') # TODO should give the img w/ meta,pixels:completed"
   ]
  },
  {
   "cell_type": "code",
   "execution_count": 2,
   "id": "093a2900",
   "metadata": {},
   "outputs": [
    {
     "name": "stdout",
     "output_type": "stream",
     "text": [
      "DataLoader type is:  <class 'omama.omama_loader.OmamaLoader'>\n"
     ]
    }
   ],
   "source": [
    "img = O.DataHelper.get2D(config_num=2, )"
   ]
  },
  {
   "cell_type": "code",
   "execution_count": 3,
   "id": "9cf9bbf3",
   "metadata": {},
   "outputs": [
    {
     "data": {
      "text/plain": [
       "[namespace(filePath='/raid/data01/deephealth/dh_dcm_ast/2.25.100000201839274263174475898571171534853/DXm.2.25.119403010146292111130118207990186551199',\n",
       "           SOPInstanceUID='2.25.119403010146292111130118207990186551199',\n",
       "           StudyInstanceUID='2.25.100000201839274263174475898571171534853',\n",
       "           PatientID='DHJ5JE9QXAV0',\n",
       "           InstanceNumber=\"2\",\n",
       "           label='NonCancer',\n",
       "           imageLaterality='L',\n",
       "           shape=(3062, 2394),\n",
       "           metadata=None,\n",
       "           pixels=array([[   0,    0,    0, ...,    0,    0,    0],\n",
       "                         [   0,    0,    0, ...,    0,    0,    0],\n",
       "                         [   0,    0,    0, ...,    0,    0,    0],\n",
       "                         ...,\n",
       "                         [3043, 3089, 3066, ...,    0,    0,    0],\n",
       "                         [3083, 3055, 3078, ...,    0,    0,    0],\n",
       "                         [3117, 3123, 3155, ...,    0,    0,    0]], dtype=uint16))]"
      ]
     },
     "execution_count": 3,
     "metadata": {},
     "output_type": "execute_result"
    }
   ],
   "source": [
    "img"
   ]
  },
  {
   "cell_type": "code",
   "execution_count": null,
   "id": "8033ec2b",
   "metadata": {},
   "outputs": [],
   "source": [
    "i"
   ]
  },
  {
   "cell_type": "code",
   "execution_count": 6,
   "id": "d32f4951",
   "metadata": {},
   "outputs": [],
   "source": [
    "O.DataHelper.store(i, 'DXm.2.25.119403010146292111130118207990186551199.dcm') # store method will store as .dcm by default"
   ]
  },
  {
   "cell_type": "code",
   "execution_count": 5,
   "id": "4ba10c19",
   "metadata": {},
   "outputs": [],
   "source": [
    "O.DataHelper.store(i, 'png02.png') # store method can save as png"
   ]
  },
  {
   "cell_type": "code",
   "execution_count": 6,
   "id": "fba1f9b9",
   "metadata": {},
   "outputs": [],
   "source": [
    "O.DataHelper.store(i, 'jpg02.jpg') # store method can save as jpg"
   ]
  },
  {
   "cell_type": "code",
   "execution_count": 7,
   "id": "8d53cc8b",
   "metadata": {},
   "outputs": [],
   "source": [
    "O.DataHelper.store(i, 'npy02.npy') # store method can save as numpy array"
   ]
  },
  {
   "cell_type": "code",
   "execution_count": 8,
   "id": "99636aab",
   "metadata": {},
   "outputs": [],
   "source": [
    "O.DataHelper.store(i, 'npy02.npz') # store method can save as numpy array"
   ]
  },
  {
   "cell_type": "code",
   "execution_count": 9,
   "id": "dde25d74",
   "metadata": {},
   "outputs": [],
   "source": [
    "O.DataHelper.store(i, 'tiff02.tif') # store method can save as numpy array"
   ]
  },
  {
   "cell_type": "code",
   "execution_count": 10,
   "id": "d9767a22",
   "metadata": {},
   "outputs": [],
   "source": [
    "import pydicom as dicom"
   ]
  },
  {
   "cell_type": "code",
   "execution_count": 12,
   "id": "a61ee464",
   "metadata": {},
   "outputs": [],
   "source": [
    "ds = dicom.dcmread('dcm02.DCM') # testing getting the file made from the store method"
   ]
  },
  {
   "cell_type": "code",
   "execution_count": 13,
   "id": "16a8124a",
   "metadata": {
    "scrolled": true
   },
   "outputs": [
    {
     "data": {
      "text/plain": [
       "Dataset.file_meta -------------------------------\n",
       "(0002, 0000) File Meta Information Group Length  UL: 192\n",
       "(0002, 0001) File Meta Information Version       OB: b'\\x00\\x01'\n",
       "(0002, 0002) Media Storage SOP Class UID         UI: Digital Mammography X-Ray Image Storage - For Presentation\n",
       "(0002, 0003) Media Storage SOP Instance UID      UI: 2.25.111853748911842310359376443303476322293\n",
       "(0002, 0010) Transfer Syntax UID                 UI: JPEG Lossless, Non-Hierarchical, First-Order Prediction (Process 14 [Selection Value 1])\n",
       "(0002, 0012) Implementation Class UID            UI: 1.2.276.0.7230010.3.0.3.6.4\n",
       "(0002, 0013) Implementation Version Name         SH: 'OFFIS_DCMTK_364'\n",
       "-------------------------------------------------\n",
       "(0008, 0005) Specific Character Set              CS: 'ISO_IR 100'\n",
       "(0008, 0008) Image Type                          CS: ['ORIGINAL', 'PRIMARY', '']\n",
       "(0008, 0016) SOP Class UID                       UI: Digital Mammography X-Ray Image Storage - For Presentation\n",
       "(0008, 0018) SOP Instance UID                    UI: 2.25.111853748911842310359376443303476322293\n",
       "(0008, 0020) Study Date                          DA: ''\n",
       "(0008, 0021) Series Date                         DA: ''\n",
       "(0008, 0023) Content Date                        DA: ''\n",
       "(0008, 0030) Study Time                          TM: ''\n",
       "(0008, 0033) Content Time                        TM: ''\n",
       "(0008, 0050) Accession Number                    SH: 'DHIF61QJH2BZ'\n",
       "(0008, 0060) Modality                            CS: 'MG'\n",
       "(0008, 0064) Conversion Type                     CS: 'WSD'\n",
       "(0008, 0068) Presentation Intent Type            CS: 'FOR PRESENTATION'\n",
       "(0008, 0070) Manufacturer                        LO: 'GE MEDICAL SYSTEMS'\n",
       "(0008, 0080) Institution Name                    LO: ''\n",
       "(0008, 1030) Study Description                   LO: 'MAMMO SCREENING BILATERAL DIGITAL W CAD'\n",
       "(0008, 103e) Series Description                  LO: 'MAMMO SCREEN BILAT DIGITAL W/CAD'\n",
       "(0008, 1090) Manufacturer's Model Name           LO: 'Senographe Essential VERSION ADS_53.10.1.1'\n",
       "(0008, 2218)  Anatomic Region Sequence  1 item(s) ---- \n",
       "   (0008, 0100) Code Value                          SH: 'T-04000'\n",
       "   (0008, 0102) Coding Scheme Designator            SH: 'SNM3'\n",
       "   (0008, 0104) Code Meaning                        LO: 'BREAST'\n",
       "   ---------\n",
       "(0010, 0010) Patient's Name                      PN: ''\n",
       "(0010, 0020) Patient ID                          LO: 'DH5YIWUW7H9H'\n",
       "(0010, 0030) Patient's Birth Date                DA: ''\n",
       "(0010, 0040) Patient's Sex                       CS: ''\n",
       "(0010, 1010) Patient's Age                       AS: '375M'\n",
       "(0018, 0015) Body Part Examined                  CS: 'BREAST'\n",
       "(0018, 0060) KVP                                 DS: '29.0'\n",
       "(0018, 1110) Distance Source to Detector         DS: '660.0'\n",
       "(0018, 1111) Distance Source to Patient          DS: '660.0'\n",
       "(0018, 1114) Estimated Radiographic Magnificatio DS: '1.0'\n",
       "(0018, 1147) Field of View Shape                 CS: 'RECTANGLE'\n",
       "(0018, 1149) Field of View Dimension(s)          IS: [229, 191]\n",
       "(0018, 1150) Exposure Time                       IS: '1083'\n",
       "(0018, 1151) X-Ray Tube Current                  IS: '61'\n",
       "(0018, 1152) Exposure                            IS: '67'\n",
       "(0018, 1153) Exposure in uAs                     IS: '67300'\n",
       "(0018, 1160) Filter Type                         SH: 'STRIP'\n",
       "(0018, 1164) Imager Pixel Spacing                DS: [0.09409090909091, 0.09409090909091]\n",
       "(0018, 1166) Grid                                CS: ['RECIPROCATING', 'FOCUSED']\n",
       "(0018, 1190) Focal Spot(s)                       DS: '0.3'\n",
       "(0018, 1191) Anode Target Material               CS: 'RHODIUM'\n",
       "(0018, 11a0) Body Part Thickness                 DS: '42.0'\n",
       "(0018, 11a2) Compression Force                   DS: '50.0'\n",
       "(0018, 1401) Acquisition Device Processing Code  LO: 'GEMS_FFDM_PV'\n",
       "(0018, 1405) Relative X-Ray Exposure             IS: '6462'\n",
       "(0018, 1508) Positioner Type                     CS: 'MAMMOGRAPHIC'\n",
       "(0018, 1510) Positioner Primary Angle            DS: '0.0'\n",
       "(0018, 1531) Detector Secondary Angle            DS: '0.0'\n",
       "(0018, 1700) Collimator Shape                    CS: 'RECTANGULAR'\n",
       "(0018, 1702) Collimator Left Vertical Edge       IS: '0'\n",
       "(0018, 1704) Collimator Right Vertical Edge      IS: '1915'\n",
       "(0018, 1706) Collimator Upper Horizontal Edge    IS: '0'\n",
       "(0018, 1708) Collimator Lower Horizontal Edge    IS: '2295'\n",
       "(0018, 5101) View Position                       CS: 'CC'\n",
       "(0018, 6000) Sensitivity                         DS: '0.00947283394635'\n",
       "(0018, 7000) Detector Conditions Nominal Flag    CS: 'YES'\n",
       "(0018, 7001) Detector Temperature                DS: '30.564655303955'\n",
       "(0018, 7004) Detector Type                       CS: 'SCINTILLATOR'\n",
       "(0018, 7005) Detector Configuration              CS: 'AREA'\n",
       "(0018, 7006) Detector Description                LT: 'DETECTOR VERSION 2.0 MTFCOMP 2.1'\n",
       "(0018, 701a) Detector Binning                    DS: [1, 1]\n",
       "(0018, 7020) Detector Element Physical Size      DS: [0.1, 0.1]\n",
       "(0018, 7022) Detector Element Spacing            DS: [0.1, 0.1]\n",
       "(0018, 7024) Detector Active Shape               CS: 'RECTANGLE'\n",
       "(0018, 7026) Detector Active Dimension(s)        DS: [240, 307.2]\n",
       "(0018, 7030) Field of View Origin                DS: [389, 1]\n",
       "(0018, 7032) Field of View Rotation              DS: '180.0'\n",
       "(0018, 7034) Field of View Horizontal Flip       CS: 'NO'\n",
       "(0018, 7050) Filter Material                     CS: 'RHODIUM'\n",
       "(0018, 7060) Exposure Control Mode               CS: 'AUTOMATIC'\n",
       "(0018, 7062) Exposure Control Mode Description   LT: 'AOP contrast RECTANGLE 1634 mm 190 mm 180 mm 240 mm EXP DOSE 169282 nGy PRE-EXP DOSE 2882 nGy PRE-EXP THICK 40 mm PRE-EXP COMPO 50 % PRE-EXP KV 25 PRE-EXP TRACK Mo PRE-EXP FILTER Rh PADDLE 1 FLATFIELD no'\n",
       "(0018, 7064) Exposure Status                     CS: 'NORMAL'\n",
       "(0020, 000d) Study Instance UID                  UI: 2.25.100803531244586427585619692354273775854\n",
       "(0020, 000e) Series Instance UID                 UI: 2.25.164231860073969586237871558996575951726\n",
       "(0020, 0011) Series Number                       IS: '13223'\n",
       "(0020, 0013) Instance Number                     IS: '5'\n",
       "(0020, 0020) Patient Orientation                 CS: ['P', 'L']\n",
       "(0020, 0062) Image Laterality                    CS: 'R'\n",
       "(0028, 0002) Samples per Pixel                   US: 1\n",
       "(0028, 0004) Photometric Interpretation          CS: 'MONOCHROME2'\n",
       "(0028, 0010) Rows                                US: 2294\n",
       "(0028, 0011) Columns                             US: 1914\n",
       "(0028, 0100) Bits Allocated                      US: 16\n",
       "(0028, 0101) Bits Stored                         US: 12\n",
       "(0028, 0102) High Bit                            US: 11\n",
       "(0028, 0103) Pixel Representation                US: 0\n",
       "(0028, 0120) Pixel Padding Value                 US: 0\n",
       "(0028, 0121) Pixel Padding Range Limit           US: 30\n",
       "(0028, 0300) Quality Control Image               CS: 'NO'\n",
       "(0028, 0301) Burned In Annotation                CS: 'NO'\n",
       "(0028, 1040) Pixel Intensity Relationship        CS: 'LOG'\n",
       "(0028, 1041) Pixel Intensity Relationship Sign   SS: -1\n",
       "(0028, 1050) Window Center                       DS: [2065, 2107, 2005]\n",
       "(0028, 1051) Window Width                        DS: [900, 750, 1050]\n",
       "(0028, 1052) Rescale Intercept                   DS: '0.0'\n",
       "(0028, 1053) Rescale Slope                       DS: '1.0'\n",
       "(0028, 1054) Rescale Type                        LO: 'US'\n",
       "(0028, 1055) Window Center & Width Explanation   LO: ['NORMAL', 'HARDER', 'SOFTER']\n",
       "(0028, 1056) VOI LUT Function                    CS: 'SIGMOID'\n",
       "(0028, 1300) Breast Implant Present              CS: 'NO'\n",
       "(0028, 2110) Lossy Image Compression             CS: '00'\n",
       "(0028, 3010)  VOI LUT Sequence  3 item(s) ---- \n",
       "   (0028, 3002) LUT Descriptor                      US: [4057, 37, 12]\n",
       "   (0028, 3003) LUT Explanation                     LO: 'NORMAL'\n",
       "   (0028, 3006) LUT Data                            US: Array of 4057 elements\n",
       "   ---------\n",
       "   (0028, 3002) LUT Descriptor                      US: [3381, 417, 12]\n",
       "   (0028, 3003) LUT Explanation                     LO: 'HARDER'\n",
       "   (0028, 3006) LUT Data                            US: Array of 3381 elements\n",
       "   ---------\n",
       "   (0028, 3002) LUT Descriptor                      US: [4021, 62, 12]\n",
       "   (0028, 3003) LUT Explanation                     LO: 'SOFTER'\n",
       "   (0028, 3006) LUT Data                            US: Array of 4021 elements\n",
       "   ---------\n",
       "(0040, 0302) Entrance Dose                       US: 0\n",
       "(0040, 0306) Distance Source to Entrance         DS: '618.0'\n",
       "(0040, 0316) Organ Dose                          DS: '0.0188'\n",
       "(0040, 0318) Organ Exposed                       CS: 'BREAST'\n",
       "(0040, 8302) Entrance Dose in mGy                DS: '6.462'\n",
       "(0054, 0220)  View Code Sequence  1 item(s) ---- \n",
       "   (0008, 0100) Code Value                          SH: 'R-10242'\n",
       "   (0008, 0102) Coding Scheme Designator            SH: 'SNM3'\n",
       "   (0008, 0104) Code Meaning                        LO: 'cranio-caudal'\n",
       "   (0054, 0222)  View Modifier Code Sequence  0 item(s) ---- \n",
       "   ---------\n",
       "(2050, 0020) Presentation LUT Shape              CS: 'IDENTITY'\n",
       "(7fe0, 0010) Pixel Data                          OB: Array of 1524746 elements"
      ]
     },
     "execution_count": 13,
     "metadata": {},
     "output_type": "execute_result"
    }
   ],
   "source": [
    "ds"
   ]
  },
  {
   "cell_type": "code",
   "execution_count": 14,
   "id": "f97497f8",
   "metadata": {},
   "outputs": [
    {
     "data": {
      "text/plain": [
       "(2294, 1914)"
      ]
     },
     "execution_count": 14,
     "metadata": {},
     "output_type": "execute_result"
    }
   ],
   "source": [
    "ds.pixel_array.shape"
   ]
  },
  {
   "cell_type": "code",
   "execution_count": null,
   "id": "95fb981b",
   "metadata": {},
   "outputs": [],
   "source": [
    "img3d = O.DataHelper.get3D(randomize=True, N=2)"
   ]
  },
  {
   "cell_type": "code",
   "execution_count": null,
   "id": "5ec90dae",
   "metadata": {},
   "outputs": [],
   "source": []
  }
 ],
 "metadata": {
  "kernelspec": {
   "display_name": "Python 3 (ipykernel)",
   "language": "python",
   "name": "python3"
  },
  "language_info": {
   "codemirror_mode": {
    "name": "ipython",
    "version": 3
   },
   "file_extension": ".py",
   "mimetype": "text/x-python",
   "name": "python",
   "nbconvert_exporter": "python",
   "pygments_lexer": "ipython3",
   "version": "3.9.7"
  }
 },
 "nbformat": 4,
 "nbformat_minor": 5
}
