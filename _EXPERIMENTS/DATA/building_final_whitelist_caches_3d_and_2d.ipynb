{
 "cells": [
  {
   "cell_type": "code",
   "execution_count": 1,
   "id": "29937bba",
   "metadata": {},
   "outputs": [
    {
     "name": "stdout",
     "output_type": "stream",
     "text": [
      "Populating the interactive namespace from numpy and matplotlib\n"
     ]
    }
   ],
   "source": [
    "%pylab inline\n",
    "%load_ext autoreload\n",
    "%autoreload 2"
   ]
  },
  {
   "cell_type": "code",
   "execution_count": 2,
   "id": "8b890372",
   "metadata": {},
   "outputs": [],
   "source": [
    "import sys\n",
    "import time\n",
    "sys.path.insert(0,'../..')\n",
    "import omama as O"
   ]
  },
  {
   "cell_type": "code",
   "execution_count": 3,
   "id": "6737b144",
   "metadata": {
    "scrolled": true
   },
   "outputs": [
    {
     "name": "stdout",
     "output_type": "stream",
     "text": [
      "load_studies             ...took     0.348813 seconds\n",
      "load_images              ...took     0.148140 seconds\n",
      "csv_to_map               ...took     0.225070 seconds\n",
      "1000                     ...took     1.267028 seconds\n",
      "2000                     ...took     2.567792 seconds\n",
      "3000                     ...took     3.823497 seconds\n",
      "4000                     ...took     5.119975 seconds\n",
      "5000                     ...took     6.392732 seconds\n",
      "6000                     ...took     7.668279 seconds\n",
      "7000                     ...took     8.942312 seconds\n",
      "8000                     ...took    10.402824 seconds\n",
      "9000                     ...took    11.682027 seconds\n",
      "10000                    ...took    12.960770 seconds\n",
      "11000                    ...took    14.233971 seconds\n",
      "12000                    ...took    15.552878 seconds\n",
      "13000                    ...took    16.832512 seconds\n",
      "14000                    ...took    18.118037 seconds\n",
      "15000                    ...took    19.428969 seconds\n",
      "16000                    ...took    20.808918 seconds\n",
      "17000                    ...took    22.084223 seconds\n",
      "18000                    ...took    23.362514 seconds\n",
      "19000                    ...took    24.668286 seconds\n",
      "20000                    ...took    26.045309 seconds\n",
      "21000                    ...took    27.337541 seconds\n",
      "22000                    ...took    28.633749 seconds\n",
      "23000                    ...took    29.957606 seconds\n",
      "24000                    ...took    31.500864 seconds\n",
      "25000                    ...took    32.800331 seconds\n",
      "26000                    ...took    34.091106 seconds\n",
      "27000                    ...took    35.382457 seconds\n",
      "28000                    ...took    36.678668 seconds\n",
      "29000                    ...took    37.975189 seconds\n",
      "30000                    ...took    39.275237 seconds\n",
      "31000                    ...took    40.568652 seconds\n",
      "32000                    ...took    41.904549 seconds\n",
      "33000                    ...took    43.190884 seconds\n",
      "34000                    ...took    44.469418 seconds\n",
      "35000                    ...took    45.751394 seconds\n",
      "36000                    ...took    47.044627 seconds\n",
      "37000                    ...took    48.328491 seconds\n",
      "38000                    ...took    49.604643 seconds\n",
      "39000                    ...took    50.901726 seconds\n",
      "40000                    ...took    52.183218 seconds\n",
      "41000                    ...took    53.459357 seconds\n",
      "42000                    ...took    54.729104 seconds\n",
      "43000                    ...took    56.018214 seconds\n",
      "44000                    ...took    57.297479 seconds\n",
      "45000                    ...took    58.575078 seconds\n",
      "46000                    ...took    59.857676 seconds\n",
      "47000                    ...took    61.135351 seconds\n",
      "48000                    ...took    62.410420 seconds\n",
      "49000                    ...took    63.684841 seconds\n",
      "50000                    ...took    64.963529 seconds\n",
      "51000                    ...took    66.237375 seconds\n",
      "52000                    ...took    67.536496 seconds\n",
      "53000                    ...took    68.807016 seconds\n",
      "54000                    ...took    70.073677 seconds\n",
      "55000                    ...took    71.363055 seconds\n",
      "56000                    ...took    72.633311 seconds\n",
      "57000                    ...took    73.904091 seconds\n",
      "58000                    ...took    75.171607 seconds\n",
      "59000                    ...took    76.443925 seconds\n",
      "60000                    ...took    77.709130 seconds\n",
      "61000                    ...took    79.124953 seconds\n",
      "62000                    ...took    80.461899 seconds\n",
      "63000                    ...took    81.753477 seconds\n",
      "64000                    ...took    83.019111 seconds\n",
      "65000                    ...took    84.277745 seconds\n",
      "66000                    ...took    85.788146 seconds\n",
      "67000                    ...took    87.044874 seconds\n",
      "68000                    ...took    88.305149 seconds\n",
      "69000                    ...took    89.570029 seconds\n",
      "70000                    ...took    90.929617 seconds\n",
      "71000                    ...took    92.191028 seconds\n",
      "72000                    ...took    93.452109 seconds\n",
      "73000                    ...took    94.711167 seconds\n",
      "74000                    ...took    95.972672 seconds\n",
      "75000                    ...took    97.245735 seconds\n",
      "76000                    ...took    98.505755 seconds\n",
      "77000                    ...took    99.763820 seconds\n",
      "78000                    ...took   101.026595 seconds\n",
      "79000                    ...took   102.289482 seconds\n",
      "80000                    ...took   103.548077 seconds\n",
      "81000                    ...took   104.809433 seconds\n",
      "82000                    ...took   106.069490 seconds\n",
      "83000                    ...took   107.329915 seconds\n",
      "84000                    ...took   108.593894 seconds\n",
      "85000                    ...took   109.851585 seconds\n",
      "86000                    ...took   111.160080 seconds\n",
      "87000                    ...took   112.499330 seconds\n",
      "88000                    ...took   113.758982 seconds\n",
      "89000                    ...took   115.019566 seconds\n",
      "90000                    ...took   116.322455 seconds\n",
      "91000                    ...took   117.735075 seconds\n",
      "92000                    ...took   118.990374 seconds\n",
      "93000                    ...took   120.253597 seconds\n",
      "94000                    ...took   121.514251 seconds\n",
      "95000                    ...took   122.772068 seconds\n",
      "96000                    ...took   124.030517 seconds\n",
      "97000                    ...took   125.298896 seconds\n",
      "98000                    ...took   126.563267 seconds\n",
      "99000                    ...took   127.826692 seconds\n",
      "100000                   ...took   129.087445 seconds\n",
      "101000                   ...took   130.378325 seconds\n",
      "102000                   ...took   131.636096 seconds\n",
      "103000                   ...took   133.057777 seconds\n",
      "104000                   ...took   134.429643 seconds\n",
      "105000                   ...took   135.744865 seconds\n",
      "106000                   ...took   137.049341 seconds\n",
      "107000                   ...took   138.355355 seconds\n",
      "108000                   ...took   140.015037 seconds\n",
      "109000                   ...took   141.322930 seconds\n",
      "110000                   ...took   142.704293 seconds\n",
      "111000                   ...took   143.999374 seconds\n",
      "112000                   ...took   145.286719 seconds\n",
      "113000                   ...took   146.572333 seconds\n",
      "114000                   ...took   147.860520 seconds\n",
      "115000                   ...took   149.149348 seconds\n",
      "116000                   ...took   150.436767 seconds\n",
      "117000                   ...took   151.718721 seconds\n",
      "118000                   ...took   153.128259 seconds\n",
      "119000                   ...took   154.421167 seconds\n",
      "120000                   ...took   155.710788 seconds\n",
      "121000                   ...took   156.999509 seconds\n",
      "122000                   ...took   158.281101 seconds\n",
      "123000                   ...took   159.564821 seconds\n",
      "124000                   ...took   160.875351 seconds\n",
      "125000                   ...took   162.155573 seconds\n",
      "126000                   ...took   163.439287 seconds\n",
      "127000                   ...took   164.727351 seconds\n",
      "128000                   ...took   166.046596 seconds\n",
      "129000                   ...took   167.326617 seconds\n",
      "130000                   ...took   168.615196 seconds\n",
      "131000                   ...took   169.924123 seconds\n",
      "132000                   ...took   171.202826 seconds\n",
      "133000                   ...took   172.486355 seconds\n",
      "134000                   ...took   173.858796 seconds\n",
      "135000                   ...took   175.146080 seconds\n",
      "136000                   ...took   176.422365 seconds\n",
      "137000                   ...took   177.705431 seconds\n",
      "138000                   ...took   178.988480 seconds\n",
      "139000                   ...took   180.274056 seconds\n",
      "140000                   ...took   181.557214 seconds\n",
      "141000                   ...took   182.842558 seconds\n",
      "142000                   ...took   184.129231 seconds\n",
      "143000                   ...took   185.413437 seconds\n",
      "144000                   ...took   186.701302 seconds\n",
      "145000                   ...took   187.985730 seconds\n",
      "146000                   ...took   189.265355 seconds\n",
      "147000                   ...took   190.557280 seconds\n",
      "148000                   ...took   191.899995 seconds\n",
      "149000                   ...took   193.220978 seconds\n"
     ]
    },
    {
     "name": "stdout",
     "output_type": "stream",
     "text": [
      "150000                   ...took   194.502838 seconds\n",
      "151000                   ...took   195.777641 seconds\n",
      "152000                   ...took   197.062313 seconds\n",
      "153000                   ...took   198.577175 seconds\n",
      "154000                   ...took   199.855021 seconds\n",
      "155000                   ...took   201.136225 seconds\n",
      "156000                   ...took   202.418870 seconds\n",
      "157000                   ...took   203.699456 seconds\n",
      "158000                   ...took   204.977112 seconds\n",
      "159000                   ...took   206.254122 seconds\n",
      "160000                   ...took   207.555946 seconds\n",
      "161000                   ...took   208.839905 seconds\n",
      "162000                   ...took   210.117229 seconds\n",
      "163000                   ...took   211.400147 seconds\n",
      "164000                   ...took   212.675342 seconds\n",
      "165000                   ...took   214.004727 seconds\n",
      "166000                   ...took   215.283630 seconds\n",
      "167000                   ...took   216.563963 seconds\n",
      "168000                   ...took   217.887102 seconds\n",
      "169000                   ...took   219.198754 seconds\n",
      "170000                   ...took   220.479632 seconds\n",
      "171000                   ...took   221.756864 seconds\n",
      "172000                   ...took   223.119747 seconds\n",
      "173000                   ...took   224.398664 seconds\n",
      "174000                   ...took   225.682812 seconds\n",
      "175000                   ...took   226.976679 seconds\n",
      "176000                   ...took   228.258979 seconds\n",
      "177000                   ...took   243.538378 seconds\n",
      "178000                   ...took   264.041389 seconds\n",
      "179000                   ...took   283.859415 seconds\n",
      "180000                   ...took   304.273384 seconds\n",
      "181000                   ...took   324.442382 seconds\n",
      "182000                   ...took   344.594893 seconds\n",
      "183000                   ...took   364.410021 seconds\n",
      "184000                   ...took   384.125659 seconds\n",
      "185000                   ...took   404.029989 seconds\n",
      "186000                   ...took   423.386464 seconds\n",
      "187000                   ...took   443.375636 seconds\n",
      "188000                   ...took   463.427472 seconds\n",
      "189000                   ...took   483.257945 seconds\n",
      "190000                   ...took   503.140966 seconds\n",
      "191000                   ...took   522.740615 seconds\n",
      "192000                   ...took   543.143397 seconds\n",
      "193000                   ...took   563.496230 seconds\n",
      "194000                   ...took   583.848312 seconds\n",
      "195000                   ...took   603.885746 seconds\n",
      "196000                   ...took   623.597155 seconds\n",
      "197000                   ...took   643.675248 seconds\n",
      "198000                   ...took   663.722953 seconds\n",
      "199000                   ...took   683.710994 seconds\n",
      "200000                   ...took   703.749968 seconds\n",
      "201000                   ...took   724.021374 seconds\n",
      "202000                   ...took   744.422269 seconds\n",
      "203000                   ...took   764.541162 seconds\n",
      "204000                   ...took   784.813565 seconds\n",
      "205000                   ...took   804.369603 seconds\n",
      "206000                   ...took   823.929590 seconds\n",
      "207000                   ...took   843.777689 seconds\n",
      "208000                   ...took   863.962087 seconds\n",
      "209000                   ...took   884.125132 seconds\n",
      "210000                   ...took   904.001799 seconds\n",
      "211000                   ...took   924.459841 seconds\n",
      "212000                   ...took   944.467979 seconds\n",
      "213000                   ...took   964.638386 seconds\n",
      "214000                   ...took   984.596541 seconds\n",
      "215000                   ...took   1004.938931 seconds\n",
      "216000                   ...took   1025.049537 seconds\n",
      "217000                   ...took   1044.792768 seconds\n",
      "218000                   ...took   1064.915373 seconds\n",
      "219000                   ...took   1084.617572 seconds\n",
      "220000                   ...took   1104.502011 seconds\n",
      "221000                   ...took   1124.810181 seconds\n",
      "222000                   ...took   1144.999002 seconds\n",
      "223000                   ...took   1164.858410 seconds\n",
      "224000                   ...took   1184.940954 seconds\n",
      "225000                   ...took   1205.188836 seconds\n",
      "226000                   ...took   1225.450788 seconds\n",
      "227000                   ...took   1245.266623 seconds\n",
      "228000                   ...took   1265.559650 seconds\n",
      "229000                   ...took   1285.178273 seconds\n",
      "230000                   ...took   1305.421267 seconds\n",
      "231000                   ...took   1325.781071 seconds\n",
      "232000                   ...took   1345.827762 seconds\n",
      "233000                   ...took   1365.421162 seconds\n",
      "234000                   ...took   1385.715510 seconds\n",
      "235000                   ...took   1405.354694 seconds\n",
      "236000                   ...took   1424.097130 seconds\n",
      "237000                   ...took   1442.152818 seconds\n",
      "238000                   ...took   1460.347132 seconds\n",
      "239000                   ...took   1478.055486 seconds\n",
      "240000                   ...took   1496.368610 seconds\n",
      "241000                   ...took   1514.190670 seconds\n",
      "242000                   ...took   1532.777695 seconds\n",
      "243000                   ...took   1550.372347 seconds\n",
      "244000                   ...took   1568.397964 seconds\n",
      "load_labels              ...took   1568.832811 seconds\n",
      "save_pickle              ...took     0.401725 seconds\n",
      "generate_counts          ...took     0.281153 seconds\n",
      "generate_stats           ...took     0.336776 seconds\n",
      "total _init              ...took   1570.585499 seconds\n",
      "total __init__           ...took   1570.585593 seconds\n"
     ]
    }
   ],
   "source": [
    "# ol = O.OmamaLoader(config_num=4)\n",
    "# data = O.Data(data_loader=ol, cache=True, timing=True)"
   ]
  },
  {
   "cell_type": "code",
   "execution_count": 8,
   "id": "e5e08190",
   "metadata": {
    "scrolled": true
   },
   "outputs": [
    {
     "name": "stdout",
     "output_type": "stream",
     "text": [
      "total __init__           ...took     0.000002 seconds\n"
     ]
    }
   ],
   "source": [
    "ol = O.OmamaLoader(config_num=3)\n",
    "data = O.Data(data_loader=ol, load_cache=True, timing=True)"
   ]
  },
  {
   "cell_type": "code",
   "execution_count": 4,
   "id": "eef781b9",
   "metadata": {},
   "outputs": [
    {
     "name": "stdout",
     "output_type": "stream",
     "text": [
      "namespace(dh_dh2=namespace(total=8767, 3D=8750, 2D=17),\n",
      "          dh_dh0new=namespace(total=59013, 3D=58725, 2D=288),\n",
      "          dh_dcm_ast=namespace(total=176243, 3D=54, 2D=176189),\n",
      "          total_all_dicoms=244023,\n",
      "          total_2d_all=176494,\n",
      "          total_3d_all=67529,\n",
      "          total_2d_cancer=7466,\n",
      "          total_2d_preindex=1658,\n",
      "          total_2d_noncancer=167370,\n",
      "          total_3d_cancer=376,\n",
      "          total_3d_preindex=0,\n",
      "          total_3d_noncancer=67153,\n",
      "          total_cancer=7842,\n",
      "          total_preindex=1658,\n",
      "          total_noncancer=234523,\n",
      "          total_no_label=0)\n",
      "None\n"
     ]
    }
   ],
   "source": [
    "print(data)"
   ]
  },
  {
   "cell_type": "code",
   "execution_count": 10,
   "id": "de9f3be0",
   "metadata": {},
   "outputs": [],
   "source": [
    "data.filter_data(labels=['IndexCancer'])"
   ]
  },
  {
   "cell_type": "code",
   "execution_count": 11,
   "id": "505ae2b7",
   "metadata": {},
   "outputs": [
    {
     "data": {
      "text/plain": [
       "7760"
      ]
     },
     "execution_count": 11,
     "metadata": {},
     "output_type": "execute_result"
    }
   ],
   "source": [
    "len(data)"
   ]
  },
  {
   "cell_type": "code",
   "execution_count": 12,
   "id": "b183610c",
   "metadata": {},
   "outputs": [
    {
     "name": "stdout",
     "output_type": "stream",
     "text": [
      "namespace(dh_dh2=namespace(total=34, 3D=17, 2D=17),\n",
      "          dh_dh0new=namespace(total=563, 3D=277, 2D=286),\n",
      "          dh_dcm_ast=namespace(total=7163, 3D=0, 2D=7163),\n",
      "          total_all_dicoms=7760,\n",
      "          total_2d_all=7466,\n",
      "          total_3d_all=294,\n",
      "          total_2d_cancer=7466,\n",
      "          total_2d_preindex=0,\n",
      "          total_2d_noncancer=0,\n",
      "          total_3d_cancer=294,\n",
      "          total_3d_preindex=0,\n",
      "          total_3d_noncancer=0,\n",
      "          total_cancer=7760,\n",
      "          total_preindex=0,\n",
      "          total_noncancer=0,\n",
      "          total_no_label=0)\n",
      "None\n"
     ]
    }
   ],
   "source": [
    "print(data)"
   ]
  },
  {
   "cell_type": "code",
   "execution_count": null,
   "id": "0c098a7d",
   "metadata": {},
   "outputs": [],
   "source": []
  }
 ],
 "metadata": {
  "kernelspec": {
   "display_name": "Python 3 (ipykernel)",
   "language": "python",
   "name": "python3"
  },
  "language_info": {
   "codemirror_mode": {
    "name": "ipython",
    "version": 3
   },
   "file_extension": ".py",
   "mimetype": "text/x-python",
   "name": "python",
   "nbconvert_exporter": "python",
   "pygments_lexer": "ipython3",
   "version": "3.9.7"
  }
 },
 "nbformat": 4,
 "nbformat_minor": 5
}
