{
 "cells": [
  {
   "cell_type": "code",
   "execution_count": 1,
   "id": "29937bba",
   "metadata": {},
   "outputs": [
    {
     "name": "stdout",
     "output_type": "stream",
     "text": [
      "Populating the interactive namespace from numpy and matplotlib\n"
     ]
    }
   ],
   "source": [
    "%pylab inline\n",
    "%load_ext autoreload\n",
    "%autoreload 2"
   ]
  },
  {
   "cell_type": "code",
   "execution_count": 2,
   "id": "8b890372",
   "metadata": {},
   "outputs": [],
   "source": [
    "import sys\n",
    "import time\n",
    "sys.path.insert(0,'../..')\n",
    "import omama as O"
   ]
  },
  {
   "cell_type": "code",
   "execution_count": 3,
   "id": "2da861a2",
   "metadata": {},
   "outputs": [
    {
     "name": "stdout",
     "output_type": "stream",
     "text": [
      "load_studies             ...took     0.072082 seconds\n",
      "load_images              ...took     0.033548 seconds\n",
      "csv_to_map               ...took     0.218592 seconds\n",
      "load_pickle              ...took     0.165130 seconds\n",
      "generate_counts          ...took     0.072591 seconds\n",
      "generate_stats           ...took     0.127055 seconds\n",
      "total _init              ...took     0.699426 seconds\n",
      "total __init__           ...took     0.699498 seconds\n"
     ]
    }
   ],
   "source": [
    "ol = O.OmamaLoader(config_num=3)\n",
    "data = O.Data(data_loader=ol, load_cache=True, timing=True)"
   ]
  },
  {
   "cell_type": "code",
   "execution_count": 4,
   "id": "e5e08190",
   "metadata": {
    "scrolled": true
   },
   "outputs": [],
   "source": [
    "# ol = O.OmamaLoader(config_num=3)\n",
    "# data = O.Data(data_loader=ol, load_cache=True, timing=True)"
   ]
  },
  {
   "cell_type": "code",
   "execution_count": 4,
   "id": "56f4edc0",
   "metadata": {},
   "outputs": [
    {
     "name": "stdout",
     "output_type": "stream",
     "text": [
      "Data(namespace(dh_dh2=namespace(total=8750, 3D=8750, 2D=0),\n",
      "          dh_dh0new=namespace(total=58724, 3D=58724, 2D=0),\n",
      "          dh_dcm_ast=namespace(total=54, 3D=54, 2D=0),\n",
      "          total_all_dicoms=67528,\n",
      "          total_2d_all=0,\n",
      "          total_3d_all=67528,\n",
      "          total_2d_cancer=0,\n",
      "          total_2d_preindex=0,\n",
      "          total_2d_noncancer=0,\n",
      "          total_3d_cancer=376,\n",
      "          total_3d_preindex=0,\n",
      "          total_3d_noncancer=67152,\n",
      "          total_cancer=376,\n",
      "          total_preindex=0,\n",
      "          total_noncancer=67152,\n",
      "          total_no_label=0))\n"
     ]
    }
   ],
   "source": [
    "# new numbers after adding the new images after 3D rerun\n",
    "print(data)"
   ]
  },
  {
   "cell_type": "code",
   "execution_count": null,
   "id": "9b51aa85",
   "metadata": {},
   "outputs": [],
   "source": []
  },
  {
   "cell_type": "code",
   "execution_count": 4,
   "id": "eef781b9",
   "metadata": {},
   "outputs": [
    {
     "name": "stdout",
     "output_type": "stream",
     "text": [
      "namespace(dh_dh2=namespace(total=5123, 3D=5123, 2D=0),\n",
      "          dh_dh0new=namespace(total=52405, 3D=52405, 2D=0),\n",
      "          dh_dcm_ast=namespace(total=44, 3D=44, 2D=0),\n",
      "          total_all_dicoms=57572,\n",
      "          total_2d_all=0,\n",
      "          total_3d_all=57572,\n",
      "          total_2d_cancer=0,\n",
      "          total_2d_preindex=0,\n",
      "          total_2d_noncancer=0,\n",
      "          total_3d_cancer=294,\n",
      "          total_3d_preindex=0,\n",
      "          total_3d_noncancer=57278,\n",
      "          total_cancer=294,\n",
      "          total_preindex=0,\n",
      "          total_noncancer=57278,\n",
      "          total_no_label=0)\n",
      "None\n"
     ]
    }
   ],
   "source": [
    "# print(data) This was the numbers before rerunning with some additional ignored errors"
   ]
  },
  {
   "cell_type": "code",
   "execution_count": null,
   "id": "421172e9",
   "metadata": {},
   "outputs": [],
   "source": []
  },
  {
   "cell_type": "code",
   "execution_count": null,
   "id": "bfcf2a76",
   "metadata": {},
   "outputs": [],
   "source": []
  },
  {
   "cell_type": "code",
   "execution_count": 5,
   "id": "de9f3be0",
   "metadata": {},
   "outputs": [],
   "source": [
    "data.filter_data(labels=['IndexCancer'])"
   ]
  },
  {
   "cell_type": "code",
   "execution_count": 6,
   "id": "505ae2b7",
   "metadata": {},
   "outputs": [
    {
     "data": {
      "text/plain": [
       "376"
      ]
     },
     "execution_count": 6,
     "metadata": {},
     "output_type": "execute_result"
    }
   ],
   "source": [
    "len(data)"
   ]
  },
  {
   "cell_type": "code",
   "execution_count": 7,
   "id": "b183610c",
   "metadata": {},
   "outputs": [
    {
     "name": "stdout",
     "output_type": "stream",
     "text": [
      "Data(namespace(dh_dh2=namespace(total=27, 3D=27, 2D=0),\n",
      "          dh_dh0new=namespace(total=347, 3D=347, 2D=0),\n",
      "          dh_dcm_ast=namespace(total=2, 3D=2, 2D=0),\n",
      "          total_all_dicoms=376,\n",
      "          total_2d_all=0,\n",
      "          total_3d_all=376,\n",
      "          total_2d_cancer=0,\n",
      "          total_2d_preindex=0,\n",
      "          total_2d_noncancer=0,\n",
      "          total_3d_cancer=376,\n",
      "          total_3d_preindex=0,\n",
      "          total_3d_noncancer=0,\n",
      "          total_cancer=376,\n",
      "          total_preindex=0,\n",
      "          total_noncancer=0,\n",
      "          total_no_label=0))\n"
     ]
    }
   ],
   "source": [
    "print(data)"
   ]
  },
  {
   "cell_type": "code",
   "execution_count": 8,
   "id": "69b4ef94",
   "metadata": {},
   "outputs": [
    {
     "data": {
      "text/plain": [
       "'2.25.123204232252392180492801746224515939015'"
      ]
     },
     "execution_count": 8,
     "metadata": {},
     "output_type": "execute_result"
    }
   ],
   "source": [
    "data[0].SOPInstanceUID"
   ]
  },
  {
   "cell_type": "code",
   "execution_count": 9,
   "id": "31ae2e82",
   "metadata": {},
   "outputs": [
    {
     "data": {
      "text/plain": [
       "'IndexCancer'"
      ]
     },
     "execution_count": 9,
     "metadata": {},
     "output_type": "execute_result"
    }
   ],
   "source": [
    "data.get_label(data[0].SOPInstanceUID)"
   ]
  },
  {
   "cell_type": "code",
   "execution_count": 10,
   "id": "536e3dfb",
   "metadata": {},
   "outputs": [
    {
     "name": "stdout",
     "output_type": "stream",
     "text": [
      "IndexCancer\n",
      "IndexCancer\n",
      "IndexCancer\n",
      "IndexCancer\n",
      "IndexCancer\n",
      "IndexCancer\n",
      "IndexCancer\n",
      "IndexCancer\n",
      "IndexCancer\n",
      "IndexCancer\n",
      "IndexCancer\n",
      "IndexCancer\n",
      "IndexCancer\n",
      "IndexCancer\n",
      "IndexCancer\n",
      "IndexCancer\n",
      "IndexCancer\n",
      "IndexCancer\n",
      "IndexCancer\n",
      "IndexCancer\n",
      "IndexCancer\n",
      "IndexCancer\n",
      "IndexCancer\n",
      "IndexCancer\n",
      "IndexCancer\n",
      "IndexCancer\n",
      "IndexCancer\n",
      "IndexCancer\n",
      "IndexCancer\n",
      "IndexCancer\n",
      "IndexCancer\n",
      "IndexCancer\n",
      "IndexCancer\n",
      "IndexCancer\n",
      "IndexCancer\n",
      "IndexCancer\n",
      "IndexCancer\n",
      "IndexCancer\n",
      "IndexCancer\n",
      "IndexCancer\n",
      "IndexCancer\n",
      "IndexCancer\n",
      "IndexCancer\n",
      "IndexCancer\n",
      "IndexCancer\n",
      "IndexCancer\n",
      "IndexCancer\n",
      "IndexCancer\n",
      "IndexCancer\n",
      "IndexCancer\n",
      "IndexCancer\n",
      "IndexCancer\n",
      "IndexCancer\n",
      "IndexCancer\n",
      "IndexCancer\n",
      "IndexCancer\n",
      "IndexCancer\n",
      "IndexCancer\n",
      "IndexCancer\n",
      "IndexCancer\n",
      "IndexCancer\n",
      "IndexCancer\n",
      "IndexCancer\n",
      "IndexCancer\n",
      "IndexCancer\n",
      "IndexCancer\n",
      "IndexCancer\n",
      "IndexCancer\n",
      "IndexCancer\n",
      "IndexCancer\n",
      "IndexCancer\n",
      "IndexCancer\n",
      "IndexCancer\n",
      "IndexCancer\n",
      "IndexCancer\n",
      "IndexCancer\n",
      "IndexCancer\n",
      "IndexCancer\n",
      "IndexCancer\n",
      "IndexCancer\n",
      "IndexCancer\n",
      "IndexCancer\n",
      "IndexCancer\n",
      "IndexCancer\n",
      "IndexCancer\n",
      "IndexCancer\n",
      "IndexCancer\n",
      "IndexCancer\n",
      "IndexCancer\n",
      "IndexCancer\n",
      "IndexCancer\n",
      "IndexCancer\n",
      "IndexCancer\n",
      "IndexCancer\n",
      "IndexCancer\n",
      "IndexCancer\n",
      "IndexCancer\n",
      "IndexCancer\n",
      "IndexCancer\n",
      "IndexCancer\n",
      "IndexCancer\n",
      "IndexCancer\n",
      "IndexCancer\n",
      "IndexCancer\n",
      "IndexCancer\n",
      "IndexCancer\n",
      "IndexCancer\n",
      "IndexCancer\n",
      "IndexCancer\n",
      "IndexCancer\n",
      "IndexCancer\n",
      "IndexCancer\n",
      "IndexCancer\n",
      "IndexCancer\n",
      "IndexCancer\n",
      "IndexCancer\n",
      "IndexCancer\n",
      "IndexCancer\n",
      "IndexCancer\n",
      "IndexCancer\n",
      "IndexCancer\n",
      "IndexCancer\n",
      "IndexCancer\n",
      "IndexCancer\n",
      "IndexCancer\n",
      "IndexCancer\n",
      "IndexCancer\n",
      "IndexCancer\n",
      "IndexCancer\n",
      "IndexCancer\n",
      "IndexCancer\n",
      "IndexCancer\n",
      "IndexCancer\n",
      "IndexCancer\n",
      "IndexCancer\n",
      "IndexCancer\n",
      "IndexCancer\n",
      "IndexCancer\n",
      "IndexCancer\n",
      "IndexCancer\n",
      "IndexCancer\n",
      "IndexCancer\n",
      "IndexCancer\n",
      "IndexCancer\n",
      "IndexCancer\n",
      "IndexCancer\n",
      "IndexCancer\n",
      "IndexCancer\n",
      "IndexCancer\n",
      "IndexCancer\n",
      "IndexCancer\n",
      "IndexCancer\n",
      "IndexCancer\n",
      "IndexCancer\n",
      "IndexCancer\n",
      "IndexCancer\n",
      "IndexCancer\n",
      "IndexCancer\n",
      "IndexCancer\n",
      "IndexCancer\n",
      "IndexCancer\n",
      "IndexCancer\n",
      "IndexCancer\n",
      "IndexCancer\n",
      "IndexCancer\n",
      "IndexCancer\n",
      "IndexCancer\n",
      "IndexCancer\n",
      "IndexCancer\n",
      "IndexCancer\n",
      "IndexCancer\n",
      "IndexCancer\n",
      "IndexCancer\n",
      "IndexCancer\n",
      "IndexCancer\n",
      "IndexCancer\n",
      "IndexCancer\n",
      "IndexCancer\n",
      "IndexCancer\n",
      "IndexCancer\n",
      "IndexCancer\n",
      "IndexCancer\n",
      "IndexCancer\n",
      "IndexCancer\n",
      "IndexCancer\n",
      "IndexCancer\n",
      "IndexCancer\n",
      "IndexCancer\n",
      "IndexCancer\n",
      "IndexCancer\n",
      "IndexCancer\n",
      "IndexCancer\n",
      "IndexCancer\n",
      "IndexCancer\n",
      "IndexCancer\n",
      "IndexCancer\n",
      "IndexCancer\n",
      "IndexCancer\n",
      "IndexCancer\n",
      "IndexCancer\n",
      "IndexCancer\n",
      "IndexCancer\n",
      "IndexCancer\n",
      "IndexCancer\n",
      "IndexCancer\n",
      "IndexCancer\n",
      "IndexCancer\n",
      "IndexCancer\n",
      "IndexCancer\n",
      "IndexCancer\n",
      "IndexCancer\n",
      "IndexCancer\n",
      "IndexCancer\n",
      "IndexCancer\n",
      "IndexCancer\n",
      "IndexCancer\n",
      "IndexCancer\n",
      "IndexCancer\n",
      "IndexCancer\n",
      "IndexCancer\n",
      "IndexCancer\n",
      "IndexCancer\n",
      "IndexCancer\n",
      "IndexCancer\n",
      "IndexCancer\n",
      "IndexCancer\n",
      "IndexCancer\n",
      "IndexCancer\n",
      "IndexCancer\n",
      "IndexCancer\n",
      "IndexCancer\n",
      "IndexCancer\n",
      "IndexCancer\n",
      "IndexCancer\n",
      "IndexCancer\n",
      "IndexCancer\n",
      "IndexCancer\n",
      "IndexCancer\n",
      "IndexCancer\n",
      "IndexCancer\n",
      "IndexCancer\n",
      "IndexCancer\n",
      "IndexCancer\n",
      "IndexCancer\n",
      "IndexCancer\n",
      "IndexCancer\n",
      "IndexCancer\n",
      "IndexCancer\n",
      "IndexCancer\n",
      "IndexCancer\n",
      "IndexCancer\n",
      "IndexCancer\n",
      "IndexCancer\n",
      "IndexCancer\n",
      "IndexCancer\n",
      "IndexCancer\n",
      "IndexCancer\n",
      "IndexCancer\n",
      "IndexCancer\n",
      "IndexCancer\n",
      "IndexCancer\n",
      "IndexCancer\n",
      "IndexCancer\n",
      "IndexCancer\n",
      "IndexCancer\n",
      "IndexCancer\n",
      "IndexCancer\n",
      "IndexCancer\n",
      "IndexCancer\n",
      "IndexCancer\n",
      "IndexCancer\n",
      "IndexCancer\n",
      "IndexCancer\n",
      "IndexCancer\n",
      "IndexCancer\n",
      "IndexCancer\n",
      "IndexCancer\n",
      "IndexCancer\n",
      "IndexCancer\n",
      "IndexCancer\n",
      "IndexCancer\n",
      "IndexCancer\n",
      "IndexCancer\n",
      "IndexCancer\n",
      "IndexCancer\n",
      "IndexCancer\n",
      "IndexCancer\n",
      "IndexCancer\n",
      "IndexCancer\n",
      "IndexCancer\n",
      "IndexCancer\n",
      "IndexCancer\n",
      "IndexCancer\n",
      "IndexCancer\n",
      "IndexCancer\n",
      "IndexCancer\n",
      "IndexCancer\n",
      "IndexCancer\n",
      "IndexCancer\n",
      "IndexCancer\n",
      "IndexCancer\n",
      "IndexCancer\n",
      "IndexCancer\n",
      "IndexCancer\n",
      "IndexCancer\n",
      "IndexCancer\n",
      "IndexCancer\n",
      "IndexCancer\n",
      "IndexCancer\n",
      "IndexCancer\n",
      "IndexCancer\n",
      "IndexCancer\n",
      "IndexCancer\n",
      "IndexCancer\n",
      "IndexCancer\n",
      "IndexCancer\n",
      "IndexCancer\n",
      "IndexCancer\n",
      "IndexCancer\n",
      "IndexCancer\n",
      "IndexCancer\n",
      "IndexCancer\n",
      "IndexCancer\n",
      "IndexCancer\n",
      "IndexCancer\n",
      "IndexCancer\n",
      "IndexCancer\n",
      "IndexCancer\n",
      "IndexCancer\n",
      "IndexCancer\n",
      "IndexCancer\n",
      "IndexCancer\n",
      "IndexCancer\n",
      "IndexCancer\n",
      "IndexCancer\n",
      "IndexCancer\n",
      "IndexCancer\n",
      "IndexCancer\n",
      "IndexCancer\n",
      "IndexCancer\n",
      "IndexCancer\n",
      "IndexCancer\n",
      "IndexCancer\n",
      "IndexCancer\n",
      "IndexCancer\n",
      "IndexCancer\n",
      "IndexCancer\n",
      "IndexCancer\n",
      "IndexCancer\n",
      "IndexCancer\n",
      "IndexCancer\n",
      "IndexCancer\n",
      "IndexCancer\n",
      "IndexCancer\n",
      "IndexCancer\n",
      "IndexCancer\n",
      "IndexCancer\n",
      "IndexCancer\n",
      "IndexCancer\n",
      "IndexCancer\n",
      "IndexCancer\n",
      "IndexCancer\n",
      "IndexCancer\n",
      "IndexCancer\n",
      "IndexCancer\n",
      "IndexCancer\n",
      "IndexCancer\n",
      "IndexCancer\n",
      "IndexCancer\n",
      "IndexCancer\n",
      "IndexCancer\n",
      "IndexCancer\n",
      "IndexCancer\n",
      "IndexCancer\n",
      "IndexCancer\n",
      "IndexCancer\n"
     ]
    }
   ],
   "source": [
    "for i in range(len(data)):\n",
    "    print(data.get_label(data[i].SOPInstanceUID))"
   ]
  },
  {
   "cell_type": "code",
   "execution_count": 40,
   "id": "2d1015f1",
   "metadata": {},
   "outputs": [
    {
     "data": {
      "text/plain": [
       "'IndexCancer'"
      ]
     },
     "execution_count": 40,
     "metadata": {},
     "output_type": "execute_result"
    }
   ],
   "source": [
    "test_val = '2.25.62620874485538808299313569484625743110'\n",
    "data.get_label(test_val)"
   ]
  },
  {
   "cell_type": "code",
   "execution_count": 41,
   "id": "06b75edc",
   "metadata": {},
   "outputs": [
    {
     "data": {
      "image/png": "[encoded data removed]",
      "text/plain": [
       "<Figure size 720x720 with 1 Axes>"
      ]
     },
     "metadata": {
      "needs_background": "light"
     },
     "output_type": "display_data"
    }
   ],
   "source": [
    "O.DataHelper.view(test_val)"
   ]
  },
  {
   "cell_type": "code",
   "execution_count": null,
   "id": "7a1c54cc",
   "metadata": {},
   "outputs": [],
   "source": []
  }
 ],
 "metadata": {
  "kernelspec": {
   "display_name": "Python 3 (ipykernel)",
   "language": "python",
   "name": "python3"
  },
  "language_info": {
   "codemirror_mode": {
    "name": "ipython",
    "version": 3
   },
   "file_extension": ".py",
   "mimetype": "text/x-python",
   "name": "python",
   "nbconvert_exporter": "python",
   "pygments_lexer": "ipython3",
   "version": "3.9.7"
  }
 },
 "nbformat": 4,
 "nbformat_minor": 5
}
