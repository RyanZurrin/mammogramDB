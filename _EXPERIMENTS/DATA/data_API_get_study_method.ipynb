{
 "cells": [
  {
   "cell_type": "code",
   "execution_count": 2,
   "id": "00a56165",
   "metadata": {},
   "outputs": [],
   "source": [
    "import sys\n",
    "import time\n",
    "sys.path.insert(0,'../..')\n",
    "import omama as O"
   ]
  },
  {
   "cell_type": "code",
   "execution_count": 3,
   "id": "28ae9f44",
   "metadata": {},
   "outputs": [
    {
     "name": "stdout",
     "output_type": "stream",
     "text": [
      "DataLoader type is:  <class 'omama.loaders.omama_loader.OmamaLoader'>\n"
     ]
    }
   ],
   "source": [
    "omama_loader = O.OmamaLoader()\n",
    "data = O.Data(data_loader=omama_loader, load_cache=True)"
   ]
  },
  {
   "cell_type": "code",
   "execution_count": 4,
   "id": "f8bbec0e",
   "metadata": {},
   "outputs": [],
   "source": [
    "study1 = data.get_study(study_key=166) # getting study by study_key"
   ]
  },
  {
   "cell_type": "code",
   "execution_count": 5,
   "id": "697599db",
   "metadata": {},
   "outputs": [
    {
     "data": {
      "text/plain": [
       "namespace(directory='/raid/data01/deephealth/dh_dcm_ast/2.25.100268243335903015016955019823718712908',\n",
       "          study_uid='2.25.100268243335903015016955019823718712908',\n",
       "          study_key=166,\n",
       "          images=['DXm.2.25.6985799881231911823175526008990897496',\n",
       "                  'DXm.2.25.318727038883957049899228550041852825770',\n",
       "                  'DXm.2.25.19499745559179522820793878587898755558',\n",
       "                  'DXm.2.25.92798543017896679614571077987575954130'],\n",
       "          info=None)"
      ]
     },
     "execution_count": 5,
     "metadata": {},
     "output_type": "execute_result"
    }
   ],
   "source": [
    "study1"
   ]
  },
  {
   "cell_type": "code",
   "execution_count": 6,
   "id": "4a151d58",
   "metadata": {},
   "outputs": [
    {
     "data": {
      "text/plain": [
       "['DXm.2.25.6985799881231911823175526008990897496',\n",
       " 'DXm.2.25.318727038883957049899228550041852825770',\n",
       " 'DXm.2.25.19499745559179522820793878587898755558',\n",
       " 'DXm.2.25.92798543017896679614571077987575954130']"
      ]
     },
     "execution_count": 6,
     "metadata": {},
     "output_type": "execute_result"
    }
   ],
   "source": [
    "study1.images # accessing the attributes is done using dot notation"
   ]
  },
  {
   "cell_type": "code",
   "execution_count": 7,
   "id": "13e839d2",
   "metadata": {},
   "outputs": [],
   "source": [
    "# getting a study by using StudyInstanceUID\n",
    "study2 = data.get_study(study_instance_uid='2.25.100268243335903015016955019823718712908', verbose=True)"
   ]
  },
  {
   "cell_type": "code",
   "execution_count": 8,
   "id": "73938a9c",
   "metadata": {},
   "outputs": [
    {
     "data": {
      "text/plain": [
       "namespace(directory='/raid/data01/deephealth/dh_dcm_ast/2.25.100268243335903015016955019823718712908',\n",
       "          study_uid='2.25.100268243335903015016955019823718712908',\n",
       "          study_key=166,\n",
       "          images=['DXm.2.25.6985799881231911823175526008990897496',\n",
       "                  'DXm.2.25.318727038883957049899228550041852825770',\n",
       "                  'DXm.2.25.19499745559179522820793878587898755558',\n",
       "                  'DXm.2.25.92798543017896679614571077987575954130'],\n",
       "          info={'total': 4,\n",
       "                '3D count': 0,\n",
       "                '2D count': 4,\n",
       "                'label counts': Counter({'NonCancer': 4})})"
      ]
     },
     "execution_count": 8,
     "metadata": {},
     "output_type": "execute_result"
    }
   ],
   "source": [
    "study2"
   ]
  },
  {
   "cell_type": "code",
   "execution_count": 9,
   "id": "f40653db",
   "metadata": {},
   "outputs": [
    {
     "data": {
      "text/plain": [
       "namespace(directory='/raid/data01/deephealth/dh_dcm_ast/2.25.100268243335903015016955019823718712908',\n",
       "          study_uid='2.25.100268243335903015016955019823718712908',\n",
       "          study_key=166,\n",
       "          images=['DXm.2.25.6985799881231911823175526008990897496',\n",
       "                  'DXm.2.25.318727038883957049899228550041852825770',\n",
       "                  'DXm.2.25.19499745559179522820793878587898755558',\n",
       "                  'DXm.2.25.92798543017896679614571077987575954130'],\n",
       "          info=None)"
      ]
     },
     "execution_count": 9,
     "metadata": {},
     "output_type": "execute_result"
    }
   ],
   "source": [
    "data.get_study('2.25.100268243335903015016955019823718712908')"
   ]
  },
  {
   "cell_type": "code",
   "execution_count": null,
   "id": "24f024c8",
   "metadata": {},
   "outputs": [],
   "source": []
  },
  {
   "cell_type": "code",
   "execution_count": null,
   "id": "464324c3",
   "metadata": {},
   "outputs": [],
   "source": []
  }
 ],
 "metadata": {
  "kernelspec": {
   "display_name": "Python 3 (ipykernel)",
   "language": "python",
   "name": "python3"
  },
  "language_info": {
   "codemirror_mode": {
    "name": "ipython",
    "version": 3
   },
   "file_extension": ".py",
   "mimetype": "text/x-python",
   "name": "python",
   "nbconvert_exporter": "python",
   "pygments_lexer": "ipython3",
   "version": "3.9.7"
  }
 },
 "nbformat": 4,
 "nbformat_minor": 5
}
