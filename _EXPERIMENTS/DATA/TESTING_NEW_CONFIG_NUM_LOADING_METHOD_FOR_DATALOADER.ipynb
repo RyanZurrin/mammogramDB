{
 "cells": [
  {
   "cell_type": "code",
   "execution_count": 1,
   "id": "00a56165",
   "metadata": {},
   "outputs": [],
   "source": [
    "import sys\n",
    "import time\n",
    "sys.path.insert(0,'../..')\n",
    "import omama as O"
   ]
  },
  {
   "cell_type": "code",
   "execution_count": 2,
   "id": "28ae9f44",
   "metadata": {},
   "outputs": [
    {
     "name": "stdout",
     "output_type": "stream",
     "text": [
      "DataLoader type is:  <class 'omama.loaders.omama_loader.OmamaLoader'>\n",
      "load_studies             ...took     0.288398 seconds\n",
      "load_images              ...took    22.359188 seconds\n",
      "csv_to_map               ...took     0.254938 seconds\n",
      "load_pickle              ...took     2.111016 seconds\n",
      "generate_counts          ...took     1.094263 seconds\n",
      "generate_stats           ...took     1.339236 seconds\n",
      "total _init              ...took    27.459293 seconds\n",
      "total __init__           ...took    27.459652 seconds\n"
     ]
    }
   ],
   "source": [
    "omama_loader = O.OmamaLoader()\n",
    "data = O.Data(data_loader=omama_loader, load_cache=True, timing = True)"
   ]
  },
  {
   "cell_type": "code",
   "execution_count": 3,
   "id": "972b6ab0",
   "metadata": {},
   "outputs": [
    {
     "data": {
      "text/plain": [
       "967991"
      ]
     },
     "execution_count": 3,
     "metadata": {},
     "output_type": "execute_result"
    }
   ],
   "source": [
    "len(data) # use len() to get the total nuber of images in the Data ds."
   ]
  },
  {
   "cell_type": "code",
   "execution_count": 4,
   "id": "201150c2",
   "metadata": {},
   "outputs": [
    {
     "name": "stdout",
     "output_type": "stream",
     "text": [
      "Data(namespace(dh_dh2=namespace(total=22144, 3D=9363, 2D=12781),\n",
      "          dh_dh0new=namespace(total=126460, 3D=62736, 2D=63724),\n",
      "          dh_dcm_ast=namespace(total=819387, 3D=58, 2D=819329),\n",
      "          total_all_dicoms=967991,\n",
      "          total_2d_all=895834,\n",
      "          total_3d_all=72157,\n",
      "          total_2d_cancer=14965,\n",
      "          total_2d_preindex=1915,\n",
      "          total_2d_noncancer=855763,\n",
      "          total_3d_cancer=376,\n",
      "          total_3d_preindex=0,\n",
      "          total_3d_noncancer=67162,\n",
      "          total_cancer=15341,\n",
      "          total_preindex=1915,\n",
      "          total_noncancer=922925,\n",
      "          total_no_label=27810))\n"
     ]
    }
   ],
   "source": [
    "print(data) # use print() to get the printout of the basic stats of where the images come from and what type"
   ]
  },
  {
   "cell_type": "code",
   "execution_count": 5,
   "id": "9e114305",
   "metadata": {},
   "outputs": [
    {
     "data": {
      "text/plain": [
       "'541M'"
      ]
     },
     "execution_count": 5,
     "metadata": {},
     "output_type": "execute_result"
    }
   ],
   "source": [
    "# use array notation [] (bracket notation) to access the dicoms the way you access an array's index.\n",
    "# example this is the first image in Data datastructure\n",
    "data[100].PatientAge"
   ]
  },
  {
   "cell_type": "code",
   "execution_count": 6,
   "id": "c09cdc9b",
   "metadata": {},
   "outputs": [
    {
     "name": "stdout",
     "output_type": "stream",
     "text": [
      "DataLoader type is:  <class 'omama.loaders.omama_loader.OmamaLoader'>\n",
      "load_studies             ...took     0.486785 seconds\n",
      "load_images              ...took     0.114262 seconds\n",
      "csv_to_map               ...took     0.211013 seconds\n",
      "load_pickle              ...took     0.528630 seconds\n",
      "generate_counts          ...took     0.193279 seconds\n",
      "generate_stats           ...took     0.217933 seconds\n",
      "total _init              ...took     1.761070 seconds\n",
      "total __init__           ...took     1.876644 seconds\n"
     ]
    }
   ],
   "source": [
    "omama_loader = O.OmamaLoader(config_num=2)\n",
    "data = O.Data(data_loader=omama_loader, load_cache=True, timing = True)"
   ]
  },
  {
   "cell_type": "code",
   "execution_count": 7,
   "id": "8bff9d07",
   "metadata": {},
   "outputs": [
    {
     "data": {
      "text/plain": [
       "176492"
      ]
     },
     "execution_count": 7,
     "metadata": {},
     "output_type": "execute_result"
    }
   ],
   "source": [
    "len(data)"
   ]
  },
  {
   "cell_type": "code",
   "execution_count": 9,
   "id": "72e13582",
   "metadata": {},
   "outputs": [
    {
     "name": "stdout",
     "output_type": "stream",
     "text": [
      "Data(namespace(dh_dh2=namespace(total=17, 3D=0, 2D=17),\n",
      "          dh_dh0new=namespace(total=288, 3D=0, 2D=288),\n",
      "          dh_dcm_ast=namespace(total=176187, 3D=0, 2D=176187),\n",
      "          total_all_dicoms=176492,\n",
      "          total_2d_all=176492,\n",
      "          total_3d_all=0,\n",
      "          total_2d_cancer=7465,\n",
      "          total_2d_preindex=1657,\n",
      "          total_2d_noncancer=167370,\n",
      "          total_3d_cancer=0,\n",
      "          total_3d_preindex=0,\n",
      "          total_3d_noncancer=0,\n",
      "          total_cancer=7465,\n",
      "          total_preindex=1657,\n",
      "          total_noncancer=167370,\n",
      "          total_no_label=0))\n"
     ]
    }
   ],
   "source": [
    "print(data)"
   ]
  },
  {
   "cell_type": "code",
   "execution_count": 10,
   "id": "68127005",
   "metadata": {},
   "outputs": [
    {
     "name": "stdout",
     "output_type": "stream",
     "text": [
      "DataLoader type is:  <class 'omama.loaders.omama_loader.OmamaLoader'>\n",
      "load_studies             ...took     0.283873 seconds\n",
      "load_images              ...took     0.110589 seconds\n",
      "csv_to_map               ...took     0.222547 seconds\n",
      "load_pickle              ...took     0.251446 seconds\n",
      "generate_counts          ...took     0.349639 seconds\n",
      "generate_stats           ...took     0.357788 seconds\n",
      "total _init              ...took     1.586837 seconds\n",
      "total __init__           ...took     1.612534 seconds\n"
     ]
    }
   ],
   "source": [
    "omama_loader = O.OmamaLoader(config_num=28)\n",
    "data = O.Data(data_loader=omama_loader, load_cache=True, timing = True)"
   ]
  },
  {
   "cell_type": "code",
   "execution_count": 11,
   "id": "297504ad",
   "metadata": {},
   "outputs": [
    {
     "data": {
      "text/plain": [
       "168368"
      ]
     },
     "execution_count": 11,
     "metadata": {},
     "output_type": "execute_result"
    }
   ],
   "source": [
    "len(data)"
   ]
  }
 ],
 "metadata": {
  "kernelspec": {
   "display_name": "Python 3 (ipykernel)",
   "language": "python",
   "name": "python3"
  },
  "language_info": {
   "codemirror_mode": {
    "name": "ipython",
    "version": 3
   },
   "file_extension": ".py",
   "mimetype": "text/x-python",
   "name": "python",
   "nbconvert_exporter": "python",
   "pygments_lexer": "ipython3",
   "version": "3.9.7"
  }
 },
 "nbformat": 4,
 "nbformat_minor": 5
}
