{
 "cells": [
  {
   "cell_type": "code",
   "execution_count": 1,
   "id": "00a56165",
   "metadata": {},
   "outputs": [],
   "source": [
    "import sys\n",
    "import time\n",
    "sys.path.insert(0,'../..')\n",
    "import omama as O"
   ]
  },
  {
   "cell_type": "code",
   "execution_count": 2,
   "id": "28ae9f44",
   "metadata": {},
   "outputs": [],
   "source": [
    "omama_loader = O.OmamaLoader()\n",
    "data = O.Data(data_loader=omama_loader, load_cache=True)"
   ]
  },
  {
   "cell_type": "code",
   "execution_count": 4,
   "id": "46b1d067",
   "metadata": {},
   "outputs": [
    {
     "name": "stdout",
     "output_type": "stream",
     "text": [
      "filter_images            ...took     0.556033 seconds\n"
     ]
    }
   ],
   "source": [
    "# you can filter the data possibly using any constraints you are interested in\n",
    "data.filter_data(_3d=False, row_min=795, col_min=991, labels=['IndexCancer'], studies=['dh_dh0new'], timing =True) "
   ]
  },
  {
   "cell_type": "code",
   "execution_count": 5,
   "id": "d8613852",
   "metadata": {},
   "outputs": [
    {
     "data": {
      "text/plain": [
       "375"
      ]
     },
     "execution_count": 5,
     "metadata": {},
     "output_type": "execute_result"
    }
   ],
   "source": [
    "len(data)"
   ]
  },
  {
   "cell_type": "code",
   "execution_count": 6,
   "id": "d7de5f62",
   "metadata": {},
   "outputs": [
    {
     "data": {
      "text/plain": [
       "'/home/ryan.zurrin001/Projects/dh_dh0new.txt'"
      ]
     },
     "execution_count": 6,
     "metadata": {},
     "output_type": "execute_result"
    }
   ],
   "source": [
    "# this method call will generate a caselist file\n",
    "data.to_text_file(file_path='/home/ryan.zurrin001/Projects/', file_name='dh_dh0new.txt')"
   ]
  }
 ],
 "metadata": {
  "kernelspec": {
   "display_name": "Python 3 (ipykernel)",
   "language": "python",
   "name": "python3"
  },
  "language_info": {
   "codemirror_mode": {
    "name": "ipython",
    "version": 3
   },
   "file_extension": ".py",
   "mimetype": "text/x-python",
   "name": "python",
   "nbconvert_exporter": "python",
   "pygments_lexer": "ipython3",
   "version": "3.9.7"
  }
 },
 "nbformat": 4,
 "nbformat_minor": 5
}
