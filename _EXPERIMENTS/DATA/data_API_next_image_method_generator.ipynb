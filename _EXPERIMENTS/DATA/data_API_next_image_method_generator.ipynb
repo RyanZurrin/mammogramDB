{
 "cells": [
  {
   "cell_type": "code",
   "execution_count": 1,
   "id": "00a56165",
   "metadata": {},
   "outputs": [],
   "source": [
    "import sys\n",
    "import time\n",
    "sys.path.insert(0,'../..')\n",
    "import omama as O\n",
    "from omama.omama_loader import Label"
   ]
  },
  {
   "cell_type": "code",
   "execution_count": 2,
   "id": "28ae9f44",
   "metadata": {},
   "outputs": [],
   "source": [
    "omama_loader = O.OmamaLoader()\n",
    "data = O.Data(data_loader=omama_loader, load_cache=True)"
   ]
  },
  {
   "cell_type": "code",
   "execution_count": 3,
   "id": "bd6453a5",
   "metadata": {},
   "outputs": [
    {
     "name": "stdout",
     "output_type": "stream",
     "text": [
      "namespace(dh_dh2=namespace(total=22144, 3D=9363, 2D=12781),\n",
      "          dh_dh0new=namespace(total=126460, 3D=62736, 2D=63724),\n",
      "          dh_dcm_ast=namespace(total=819387, 3D=58, 2D=819329),\n",
      "          total_all_dicoms=967991,\n",
      "          total_2d_all=895834,\n",
      "          total_3d_all=72157,\n",
      "          total_2d_cancer=14965,\n",
      "          total_2d_preindex=1915,\n",
      "          total_2d_noncancer=855763,\n",
      "          total_3d_cancer=376,\n",
      "          total_3d_preindex=0,\n",
      "          total_3d_noncancer=67162,\n",
      "          total_cancer=15341,\n",
      "          total_preindex=1915,\n",
      "          total_noncancer=922925,\n",
      "          total_no_label=27810)\n",
      "None\n"
     ]
    }
   ],
   "source": [
    "print(data)"
   ]
  },
  {
   "cell_type": "code",
   "execution_count": 3,
   "id": "43c415eb",
   "metadata": {},
   "outputs": [],
   "source": [
    "# will build a generator of 2D cancer images\n",
    "gen = data.next_image(_2d=True, label=Label.CANCER, randomize=True)"
   ]
  },
  {
   "cell_type": "code",
   "execution_count": 4,
   "id": "6fc1a0b6",
   "metadata": {},
   "outputs": [],
   "source": [
    "test_images= []\n",
    "for i in range(10):\n",
    "    test_images.append(next(gen))"
   ]
  },
  {
   "cell_type": "code",
   "execution_count": 5,
   "id": "bfc7070e",
   "metadata": {},
   "outputs": [
    {
     "data": {
      "text/plain": [
       "namespace(filePath='/raid/data01/deephealth/dh_dcm_ast/2.25.265580283725199314209094171656834107506/DXm.2.25.130668081903253362534449621391489906534',\n",
       "          SOPInstanceUID='2.25.130668081903253362534449621391489906534',\n",
       "          StudyInstanceUID='2.25.265580283725199314209094171656834107506',\n",
       "          label='IndexCancer',\n",
       "          imageLaterality='R',\n",
       "          shape=(512, 512),\n",
       "          metadata=None,\n",
       "          pixels=array([[ 1268,  1293,  1270, ...,  3898,  3780,  3653],\n",
       "                        [ 1294,  1304,  1292, ...,  3985,  3823,  3722],\n",
       "                        [ 1283,  1281,  1286, ...,  4032,  3940,  3762],\n",
       "                        ...,\n",
       "                        [16383, 16383, 16383, ...,  3455,  3354,  3319],\n",
       "                        [16383, 16383, 16383, ...,  3467,  3332,  3304],\n",
       "                        [16383, 16383, 16383, ...,  3504,  3377,  3329]], dtype=uint16))"
      ]
     },
     "execution_count": 5,
     "metadata": {},
     "output_type": "execute_result"
    }
   ],
   "source": [
    "test_images[0]"
   ]
  },
  {
   "cell_type": "code",
   "execution_count": 6,
   "id": "c83b8cdd",
   "metadata": {},
   "outputs": [
    {
     "data": {
      "text/plain": [
       "namespace(filePath='/raid/data01/deephealth/dh_dcm_ast/2.25.292294424292410015132225416517437915020/DXm.2.25.229913994172166965848370123142560623597',\n",
       "          SOPInstanceUID='2.25.229913994172166965848370123142560623597',\n",
       "          StudyInstanceUID='2.25.292294424292410015132225416517437915020',\n",
       "          label='IndexCancer',\n",
       "          imageLaterality='R',\n",
       "          shape=(3328, 2560),\n",
       "          metadata=None,\n",
       "          pixels=array([[   0,    0,    0, ...,    0,    0,    0],\n",
       "                        [   0,    0,    0, ...,    0,    0,    0],\n",
       "                        [   0,    0,    0, ...,    0,    0,    0],\n",
       "                        ...,\n",
       "                        [   0,    0,    0, ..., 1546, 1839, 1814],\n",
       "                        [   0,    0,    0, ..., 1494, 1627, 1712],\n",
       "                        [   0,    0,    0, ..., 1655, 1763, 1780]], dtype=uint16))"
      ]
     },
     "execution_count": 6,
     "metadata": {},
     "output_type": "execute_result"
    }
   ],
   "source": [
    "test_images[9]"
   ]
  },
  {
   "cell_type": "code",
   "execution_count": 7,
   "id": "d3b42110",
   "metadata": {},
   "outputs": [],
   "source": [
    "img11 = next(gen)"
   ]
  },
  {
   "cell_type": "code",
   "execution_count": 9,
   "id": "407042e3",
   "metadata": {},
   "outputs": [
    {
     "data": {
      "text/plain": [
       "namespace(filePath='/raid/data01/deephealth/dh_dcm_ast/2.25.113424167371835815219577515459291033325/DXm.2.25.70508415236961793894953805793096999326',\n",
       "          SOPInstanceUID='2.25.70508415236961793894953805793096999326',\n",
       "          StudyInstanceUID='2.25.113424167371835815219577515459291033325',\n",
       "          label='IndexCancer',\n",
       "          imageLaterality='R',\n",
       "          shape=(2294, 1914),\n",
       "          metadata=None,\n",
       "          pixels=array([[0, 0, 0, ..., 0, 0, 0],\n",
       "                        [0, 0, 0, ..., 0, 0, 0],\n",
       "                        [0, 0, 0, ..., 0, 0, 0],\n",
       "                        ...,\n",
       "                        [0, 0, 0, ..., 0, 0, 0],\n",
       "                        [0, 0, 0, ..., 0, 0, 0],\n",
       "                        [0, 0, 0, ..., 0, 0, 0]], dtype=uint16))"
      ]
     },
     "execution_count": 9,
     "metadata": {},
     "output_type": "execute_result"
    }
   ],
   "source": [
    "img11"
   ]
  },
  {
   "cell_type": "code",
   "execution_count": 9,
   "id": "e4dfc060",
   "metadata": {},
   "outputs": [
    {
     "name": "stdout",
     "output_type": "stream",
     "text": [
      "0 ...took 0.4739220142364502 seconds\n",
      "1 ...took 0.8484938144683838 seconds\n",
      "2 ...took 1.0663435459136963 seconds\n",
      "3 ...took 1.2104222774505615 seconds\n",
      "4 ...took 1.3924846649169922 seconds\n",
      "5 ...took 1.601576805114746 seconds\n",
      "6 ...took 1.8101208209991455 seconds\n",
      "7 ...took 2.0245752334594727 seconds\n",
      "8 ...took 2.243414878845215 seconds\n",
      "9 ...took 2.4298276901245117 seconds\n",
      "10 ...took 2.616123676300049 seconds\n",
      "11 ...took 2.80107045173645 seconds\n",
      "12 ...took 3.0049681663513184 seconds\n",
      "13 ...took 3.2283389568328857 seconds\n",
      "14 ...took 3.2435691356658936 seconds\n",
      "15 ...took 3.2587766647338867 seconds\n",
      "16 ...took 3.310011148452759 seconds\n",
      "17 ...took 3.363133192062378 seconds\n",
      "18 ...took 3.410628080368042 seconds\n",
      "19 ...took 3.4250869750976562 seconds\n",
      "20 ...took 3.650195360183716 seconds\n",
      "21 ...took 3.837688684463501 seconds\n",
      "22 ...took 4.019354343414307 seconds\n",
      "23 ...took 4.241757869720459 seconds\n",
      "24 ...took 4.4128828048706055 seconds\n",
      "25 ...took 4.794928073883057 seconds\n",
      "26 ...took 5.1591925621032715 seconds\n",
      "27 ...took 5.448599100112915 seconds\n",
      "28 ...took 5.825210094451904 seconds\n",
      "29 ...took 6.009290456771851 seconds\n",
      "30 ...took 6.223045587539673 seconds\n",
      "31 ...took 6.429977178573608 seconds\n",
      "32 ...took 6.647061109542847 seconds\n",
      "33 ...took 6.870617389678955 seconds\n",
      "34 ...took 7.091174364089966 seconds\n",
      "35 ...took 7.4571661949157715 seconds\n",
      "36 ...took 7.81948447227478 seconds\n",
      "37 ...took 8.188026666641235 seconds\n",
      "38 ...took 8.37001085281372 seconds\n",
      "39 ...took 8.549778461456299 seconds\n",
      "40 ...took 8.818519353866577 seconds\n",
      "41 ...took 9.040910243988037 seconds\n",
      "42 ...took 9.264667987823486 seconds\n",
      "43 ...took 9.57546091079712 seconds\n",
      "44 ...took 9.864365339279175 seconds\n",
      "45 ...took 10.089075088500977 seconds\n",
      "46 ...took 10.30853271484375 seconds\n",
      "47 ...took 10.527322053909302 seconds\n",
      "48 ...took 10.709619045257568 seconds\n",
      "49 ...took 10.893105506896973 seconds\n"
     ]
    }
   ],
   "source": [
    "# build a generator to filter the type of images we wish to use, this builds a list of 50 2d cancer images\n",
    "import time\n",
    "img = []\n",
    "t0 = time.time()\n",
    "generator = data.next_image(_2d = True, label = Label.CANCER)\n",
    "for i in range(50):\n",
    "    img.append(next(generator))\n",
    "    if i % 1 == 0:\n",
    "        print(i, \"...took\", time.time()-t0,\"seconds\" )"
   ]
  },
  {
   "cell_type": "code",
   "execution_count": null,
   "id": "de7e23a5",
   "metadata": {},
   "outputs": [],
   "source": []
  }
 ],
 "metadata": {
  "kernelspec": {
   "display_name": "Python 3 (ipykernel)",
   "language": "python",
   "name": "python3"
  },
  "language_info": {
   "codemirror_mode": {
    "name": "ipython",
    "version": 3
   },
   "file_extension": ".py",
   "mimetype": "text/x-python",
   "name": "python",
   "nbconvert_exporter": "python",
   "pygments_lexer": "ipython3",
   "version": "3.9.7"
  }
 },
 "nbformat": 4,
 "nbformat_minor": 5
}
