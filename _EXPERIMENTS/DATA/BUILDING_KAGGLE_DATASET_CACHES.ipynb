{
 "cells": [
  {
   "cell_type": "code",
   "execution_count": 1,
   "id": "29937bba",
   "metadata": {},
   "outputs": [
    {
     "name": "stdout",
     "output_type": "stream",
     "text": [
      "Populating the interactive namespace from numpy and matplotlib\n"
     ]
    }
   ],
   "source": [
    "%pylab inline\n",
    "%load_ext autoreload\n",
    "%autoreload 2"
   ]
  },
  {
   "cell_type": "code",
   "execution_count": 2,
   "id": "8b890372",
   "metadata": {},
   "outputs": [],
   "source": [
    "import sys\n",
    "import time\n",
    "sys.path.insert(0,'../..')\n",
    "import omama as O"
   ]
  },
  {
   "cell_type": "code",
   "execution_count": 3,
   "id": "2da861a2",
   "metadata": {},
   "outputs": [
    {
     "name": "stdout",
     "output_type": "stream",
     "text": [
      "load_studies             ...took     0.011767 seconds\n",
      "load_images              ...took     0.180048 seconds\n",
      "csv_to_map               ...took     0.029527 seconds\n",
      "1000                     ...took     0.438191 seconds\n",
      "2000                     ...took     0.834761 seconds\n",
      "3000                     ...took     1.269772 seconds\n",
      "4000                     ...took     1.666103 seconds\n",
      "5000                     ...took     2.140284 seconds\n",
      "6000                     ...took     2.539414 seconds\n",
      "7000                     ...took     2.937480 seconds\n",
      "8000                     ...took     3.616740 seconds\n",
      "9000                     ...took     4.016010 seconds\n",
      "10000                    ...took     4.449934 seconds\n",
      "11000                    ...took     4.850011 seconds\n",
      "12000                    ...took     5.287404 seconds\n",
      "13000                    ...took     5.685135 seconds\n",
      "14000                    ...took     6.111156 seconds\n",
      "15000                    ...took     6.516445 seconds\n",
      "16000                    ...took     6.913673 seconds\n",
      "17000                    ...took     7.385020 seconds\n",
      "18000                    ...took     7.782521 seconds\n",
      "19000                    ...took     8.220501 seconds\n",
      "20000                    ...took     8.617362 seconds\n",
      "21000                    ...took     9.013392 seconds\n",
      "22000                    ...took     9.451019 seconds\n",
      "23000                    ...took     9.849553 seconds\n",
      "24000                    ...took    10.285422 seconds\n",
      "25000                    ...took    10.681979 seconds\n",
      "26000                    ...took    11.107939 seconds\n",
      "27000                    ...took    11.513319 seconds\n",
      "28000                    ...took    11.953167 seconds\n",
      "29000                    ...took    12.387812 seconds\n",
      "30000                    ...took    12.786229 seconds\n",
      "31000                    ...took    13.222356 seconds\n",
      "32000                    ...took    13.619681 seconds\n",
      "33000                    ...took    14.016572 seconds\n",
      "34000                    ...took    14.450813 seconds\n",
      "35000                    ...took    14.849607 seconds\n",
      "36000                    ...took    15.283470 seconds\n",
      "37000                    ...took    15.679260 seconds\n",
      "38000                    ...took    16.167619 seconds\n",
      "39000                    ...took    16.566657 seconds\n",
      "40000                    ...took    17.005180 seconds\n",
      "41000                    ...took    17.439312 seconds\n",
      "42000                    ...took    17.836179 seconds\n",
      "43000                    ...took    18.271755 seconds\n",
      "44000                    ...took    18.670696 seconds\n",
      "45000                    ...took    19.100351 seconds\n",
      "46000                    ...took    19.508438 seconds\n",
      "47000                    ...took    19.906405 seconds\n",
      "48000                    ...took    20.342924 seconds\n",
      "49000                    ...took    20.738922 seconds\n",
      "50000                    ...took    21.175779 seconds\n",
      "51000                    ...took    21.571061 seconds\n",
      "52000                    ...took    22.007165 seconds\n",
      "53000                    ...took    22.442328 seconds\n",
      "54000                    ...took    22.840903 seconds\n",
      "load_labels              ...took    23.159564 seconds\n",
      "save_pickle              ...took     0.086057 seconds\n",
      "generate_counts          ...took     0.048096 seconds\n",
      "generate_stats           ...took     0.057168 seconds\n",
      "total _init              ...took    23.574213 seconds\n",
      "total __init__           ...took    23.574289 seconds\n"
     ]
    }
   ],
   "source": [
    "kl = O.KaggleLoader()\n",
    "k_data = O.Data(data_loader=kl, cache=True, timing=True)"
   ]
  },
  {
   "cell_type": "code",
   "execution_count": 4,
   "id": "e5e08190",
   "metadata": {
    "scrolled": true
   },
   "outputs": [
    {
     "name": "stdout",
     "output_type": "stream",
     "text": [
      "Data(namespace(train_images=namespace(total=54706, 3D=0, 2D=54706),\n",
      "          total_all_dicoms=54706,\n",
      "          total_2d_all=54706,\n",
      "          total_3d_all=0,\n",
      "          total_2d_cancer=1158,\n",
      "          total_2d_preindex=0,\n",
      "          total_2d_noncancer=0,\n",
      "          total_3d_cancer=0,\n",
      "          total_3d_preindex=0,\n",
      "          total_3d_noncancer=0,\n",
      "          total_cancer=1158,\n",
      "          total_preindex=0,\n",
      "          total_noncancer=0,\n",
      "          total_no_label=53548))\n"
     ]
    }
   ],
   "source": [
    "print(k_data)"
   ]
  },
  {
   "cell_type": "code",
   "execution_count": null,
   "id": "87ac7f70",
   "metadata": {},
   "outputs": [],
   "source": []
  },
  {
   "cell_type": "code",
   "execution_count": null,
   "id": "87d42372",
   "metadata": {},
   "outputs": [],
   "source": []
  },
  {
   "cell_type": "code",
   "execution_count": null,
   "id": "c2f9d642",
   "metadata": {},
   "outputs": [],
   "source": []
  },
  {
   "cell_type": "code",
   "execution_count": null,
   "id": "4ad9a9ca",
   "metadata": {},
   "outputs": [],
   "source": []
  },
  {
   "cell_type": "code",
   "execution_count": 4,
   "id": "25840992",
   "metadata": {},
   "outputs": [
    {
     "name": "stdout",
     "output_type": "stream",
     "text": [
      "Data(namespace(train_images=namespace(total=54706, 3D=0, 2D=54706),\n",
      "          total_all_dicoms=54706,\n",
      "          total_2d_all=54706,\n",
      "          total_3d_all=0,\n",
      "          total_2d_cancer=1158,\n",
      "          total_2d_preindex=0,\n",
      "          total_2d_noncancer=0,\n",
      "          total_3d_cancer=0,\n",
      "          total_3d_preindex=0,\n",
      "          total_3d_noncancer=0,\n",
      "          total_cancer=1158,\n",
      "          total_preindex=0,\n",
      "          total_noncancer=0,\n",
      "          total_no_label=53548))\n"
     ]
    }
   ],
   "source": [
    "print(k_data)"
   ]
  },
  {
   "cell_type": "code",
   "execution_count": null,
   "id": "de2b2a67",
   "metadata": {},
   "outputs": [],
   "source": []
  }
 ],
 "metadata": {
  "kernelspec": {
   "display_name": "Python 3 (ipykernel)",
   "language": "python",
   "name": "python3"
  },
  "language_info": {
   "codemirror_mode": {
    "name": "ipython",
    "version": 3
   },
   "file_extension": ".py",
   "mimetype": "text/x-python",
   "name": "python",
   "nbconvert_exporter": "python",
   "pygments_lexer": "ipython3",
   "version": "3.9.7"
  }
 },
 "nbformat": 4,
 "nbformat_minor": 5
}
