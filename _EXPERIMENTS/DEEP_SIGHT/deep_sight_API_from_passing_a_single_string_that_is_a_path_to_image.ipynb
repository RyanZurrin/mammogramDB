{
 "cells": [
  {
   "cell_type": "code",
   "execution_count": 4,
   "id": "6239275e",
   "metadata": {},
   "outputs": [],
   "source": [
    "import sys\n",
    "import time\n",
    "sys.path.insert(0,'../..')\n",
    "import omama as O"
   ]
  },
  {
   "cell_type": "code",
   "execution_count": 5,
   "id": "df187161",
   "metadata": {},
   "outputs": [
    {
     "name": "stdout",
     "output_type": "stream",
     "text": [
      "Time to parse SOP UIDs:  6.198883056640625e-06\n",
      "Time to check cache:  0.6938176155090332\n",
      "...took 0.7376399040222168\n"
     ]
    }
   ],
   "source": [
    "path = '/raid/data01/deephealth/dh_dh2/2.25.57608873372317382844324025277635348312/DXm.2.25.256680944970205181978380478557638751599'\n",
    "pred = O.DeepSight.run(path, timing=True)"
   ]
  },
  {
   "cell_type": "code",
   "execution_count": 6,
   "id": "914103f1",
   "metadata": {},
   "outputs": [
    {
     "data": {
      "text/plain": [
       "{'2.25.256680944970205181978380478557638751599': {'coords': [404.0,\n",
       "   1302.0,\n",
       "   554.0,\n",
       "   1444.0],\n",
       "  'score': 0.671106219291687,\n",
       "  'errors': None}}"
      ]
     },
     "execution_count": 6,
     "metadata": {},
     "output_type": "execute_result"
    }
   ],
   "source": [
    "pred"
   ]
  },
  {
   "cell_type": "code",
   "execution_count": null,
   "id": "62eb4b83",
   "metadata": {},
   "outputs": [],
   "source": []
  }
 ],
 "metadata": {
  "kernelspec": {
   "display_name": "Python 3 (ipykernel)",
   "language": "python",
   "name": "python3"
  },
  "language_info": {
   "codemirror_mode": {
    "name": "ipython",
    "version": 3
   },
   "file_extension": ".py",
   "mimetype": "text/x-python",
   "name": "python",
   "nbconvert_exporter": "python",
   "pygments_lexer": "ipython3",
   "version": "3.9.7"
  }
 },
 "nbformat": 4,
 "nbformat_minor": 5
}
