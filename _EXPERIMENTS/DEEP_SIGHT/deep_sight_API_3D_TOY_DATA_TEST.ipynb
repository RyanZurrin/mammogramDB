{
 "cells": [
  {
   "cell_type": "code",
   "execution_count": 1,
   "id": "6b4585ac",
   "metadata": {},
   "outputs": [],
   "source": [
    "import sys\n",
    "import time\n",
    "sys.path.insert(0,'../..')\n",
    "import omama as O"
   ]
  },
  {
   "cell_type": "code",
   "execution_count": 2,
   "id": "ab15c07c",
   "metadata": {},
   "outputs": [
    {
     "name": "stdout",
     "output_type": "stream",
     "text": [
      "load_studies             ...took     0.224862 seconds\n",
      "load_images              ...took     3.731983 seconds\n",
      "csv_to_map               ...took     0.222145 seconds\n",
      "load_pickle              ...took     2.037584 seconds\n",
      "generate_counts          ...took     1.034601 seconds\n",
      "generate_stats           ...took     1.262569 seconds\n",
      "total _init              ...took     8.526729 seconds\n",
      "total __init__           ...took     8.526802 seconds\n",
      "namespace(dh_dh2=namespace(total=22144, 3D=9363, 2D=12781),\n",
      "          dh_dh0new=namespace(total=126460, 3D=62736, 2D=63724),\n",
      "          dh_dcm_ast=namespace(total=819387, 3D=58, 2D=819329),\n",
      "          total_all_dicoms=967991,\n",
      "          total_2d_all=895834,\n",
      "          total_3d_all=72157,\n",
      "          total_2d_cancer=14965,\n",
      "          total_2d_preindex=1915,\n",
      "          total_2d_noncancer=855763,\n",
      "          total_3d_cancer=376,\n",
      "          total_3d_preindex=0,\n",
      "          total_3d_noncancer=67162,\n",
      "          total_cancer=15341,\n",
      "          total_preindex=1915,\n",
      "          total_noncancer=922925,\n",
      "          total_no_label=27810)\n"
     ]
    }
   ],
   "source": [
    "omama_loader = O.OmamaLoader()\n",
    "data = O.Data(data_loader=omama_loader, timing = True, print_data= True, load_cache=True)"
   ]
  },
  {
   "cell_type": "code",
   "execution_count": null,
   "id": "bbab4e5f",
   "metadata": {},
   "outputs": [],
   "source": [
    "img3d = O.DataHelper.get3D(N=2, cancer=True, config_num=3 , timing=True)"
   ]
  },
  {
   "cell_type": "code",
   "execution_count": null,
   "id": "54f2a504",
   "metadata": {},
   "outputs": [],
   "source": [
    "pred = O.DeepSight.run(img3d, timing=True)"
   ]
  },
  {
   "cell_type": "code",
   "execution_count": null,
   "id": "5acba265",
   "metadata": {},
   "outputs": [],
   "source": [
    "pred"
   ]
  },
  {
   "cell_type": "code",
   "execution_count": 3,
   "id": "fdb8cb6d",
   "metadata": {},
   "outputs": [],
   "source": [
    "path1 = data.get_image(dicom_name='2.25.123204232252392180492801746224515939015')"
   ]
  },
  {
   "cell_type": "code",
   "execution_count": 4,
   "id": "05dc8c32",
   "metadata": {},
   "outputs": [],
   "source": [
    "path2 = data.get_image(dicom_name='2.25.268081491876765377401826097609975425794')"
   ]
  },
  {
   "cell_type": "code",
   "execution_count": 5,
   "id": "3b848375",
   "metadata": {},
   "outputs": [
    {
     "name": "stdout",
     "output_type": "stream",
     "text": [
      "namespace(filePath='/raid/data01/deephealth/dh_dcm_ast/2.25.248759284138013060096863671623117297486/BT.2.25.123204232252392180492801746224515939015', SOPInstanceUID='2.25.123204232252392180492801746224515939015', StudyInstanceUID='2.25.248759284138013060096863671623117297486', label='IndexCancer', imageLaterality='L', shape=(77, 2457, 1996), metadata=None, pixels=array([[[0, 0, 0, ..., 0, 0, 0],\n",
      "        [0, 0, 0, ..., 0, 0, 0],\n",
      "        [0, 0, 0, ..., 0, 0, 0],\n",
      "        ...,\n",
      "        [0, 0, 0, ..., 0, 0, 0],\n",
      "        [0, 0, 0, ..., 0, 0, 0],\n",
      "        [0, 0, 0, ..., 0, 0, 0]],\n",
      "\n",
      "       [[0, 0, 0, ..., 0, 0, 0],\n",
      "        [0, 0, 0, ..., 0, 0, 0],\n",
      "        [0, 0, 0, ..., 0, 0, 0],\n",
      "        ...,\n",
      "        [0, 0, 0, ..., 0, 0, 0],\n",
      "        [0, 0, 0, ..., 0, 0, 0],\n",
      "        [0, 0, 0, ..., 0, 0, 0]],\n",
      "\n",
      "       [[0, 0, 0, ..., 0, 0, 0],\n",
      "        [0, 0, 0, ..., 0, 0, 0],\n",
      "        [0, 0, 0, ..., 0, 0, 0],\n",
      "        ...,\n",
      "        [0, 0, 0, ..., 0, 0, 0],\n",
      "        [0, 0, 0, ..., 0, 0, 0],\n",
      "        [0, 0, 0, ..., 0, 0, 0]],\n",
      "\n",
      "       ...,\n",
      "\n",
      "       [[0, 0, 0, ..., 0, 0, 0],\n",
      "        [0, 0, 0, ..., 0, 0, 0],\n",
      "        [0, 0, 0, ..., 0, 0, 0],\n",
      "        ...,\n",
      "        [0, 0, 0, ..., 0, 0, 0],\n",
      "        [0, 0, 0, ..., 0, 0, 0],\n",
      "        [0, 0, 0, ..., 0, 0, 0]],\n",
      "\n",
      "       [[0, 0, 0, ..., 0, 0, 0],\n",
      "        [0, 0, 0, ..., 0, 0, 0],\n",
      "        [0, 0, 0, ..., 0, 0, 0],\n",
      "        ...,\n",
      "        [0, 0, 0, ..., 0, 0, 0],\n",
      "        [0, 0, 0, ..., 0, 0, 0],\n",
      "        [0, 0, 0, ..., 0, 0, 0]],\n",
      "\n",
      "       [[0, 0, 0, ..., 0, 0, 0],\n",
      "        [0, 0, 0, ..., 0, 0, 0],\n",
      "        [0, 0, 0, ..., 0, 0, 0],\n",
      "        ...,\n",
      "        [0, 0, 0, ..., 0, 0, 0],\n",
      "        [0, 0, 0, ..., 0, 0, 0],\n",
      "        [0, 0, 0, ..., 0, 0, 0]]], dtype=uint16))\n"
     ]
    }
   ],
   "source": [
    "print(path1)"
   ]
  },
  {
   "cell_type": "code",
   "execution_count": 6,
   "id": "446eaca6",
   "metadata": {},
   "outputs": [
    {
     "name": "stdout",
     "output_type": "stream",
     "text": [
      "namespace(filePath='/raid/data01/deephealth/dh_dcm_ast/2.25.248759284138013060096863671623117297486/BT.2.25.268081491876765377401826097609975425794', SOPInstanceUID='2.25.268081491876765377401826097609975425794', StudyInstanceUID='2.25.248759284138013060096863671623117297486', label='IndexCancer', imageLaterality='L', shape=(81, 2457, 1996), metadata=None, pixels=array([[[  0,   0,   0, ..., 338, 384, 386],\n",
      "        [  0,   0,   0, ..., 360, 357, 342],\n",
      "        [  0,   0,   0, ..., 352, 335, 302],\n",
      "        ...,\n",
      "        [  0,   0,   0, ..., 702, 743, 695],\n",
      "        [  0,   0,   0, ..., 725, 687, 660],\n",
      "        [  0,   0,   0, ..., 636, 662, 672]],\n",
      "\n",
      "       [[  0,   0,   0, ..., 351, 361, 344],\n",
      "        [  0,   0,   0, ..., 362, 334, 298],\n",
      "        [  0,   0,   0, ..., 343, 308, 326],\n",
      "        ...,\n",
      "        [  0,   0,   0, ..., 678, 737, 720],\n",
      "        [  0,   0,   0, ..., 694, 718, 710],\n",
      "        [  0,   0,   0, ..., 732, 690, 655]],\n",
      "\n",
      "       [[  0,   0,   0, ..., 356, 330, 303],\n",
      "        [  0,   0,   0, ..., 347, 312, 321],\n",
      "        [  0,   0,   0, ..., 319, 285, 322],\n",
      "        ...,\n",
      "        [  0,   0,   0, ..., 695, 722, 680],\n",
      "        [  0,   0,   0, ..., 685, 740, 714],\n",
      "        [  0,   0,   0, ..., 681, 697, 726]],\n",
      "\n",
      "       ...,\n",
      "\n",
      "       [[  0,   0,   0, ..., 357, 367, 359],\n",
      "        [  0,   0,   0, ..., 376, 402, 393],\n",
      "        [  0,   0,   0, ..., 375, 372, 399],\n",
      "        ...,\n",
      "        [  0,   0,   0, ..., 587, 581, 658],\n",
      "        [  0,   0,   0, ..., 617, 550, 555],\n",
      "        [  0,   0,   0, ..., 584, 572, 551]],\n",
      "\n",
      "       [[  0,   0,   0, ..., 369, 370, 380],\n",
      "        [  0,   0,   0, ..., 388, 387, 397],\n",
      "        [  0,   0,   0, ..., 367, 394, 399],\n",
      "        ...,\n",
      "        [  0,   0,   0, ..., 612, 615, 633],\n",
      "        [  0,   0,   0, ..., 604, 608, 653],\n",
      "        [  0,   0,   0, ..., 615, 558, 544]],\n",
      "\n",
      "       [[  0,   0,   0, ..., 400, 402, 395],\n",
      "        [  0,   0,   0, ..., 364, 395, 386],\n",
      "        [  0,   0,   0, ..., 372, 362, 371],\n",
      "        ...,\n",
      "        [  0,   0,   0, ..., 586, 612, 622],\n",
      "        [  0,   0,   0, ..., 569, 587, 641],\n",
      "        [  0,   0,   0, ..., 620, 612, 638]]], dtype=uint16))\n"
     ]
    }
   ],
   "source": [
    "print(path2)"
   ]
  },
  {
   "cell_type": "code",
   "execution_count": null,
   "id": "7ca8ad50",
   "metadata": {},
   "outputs": [],
   "source": []
  },
  {
   "cell_type": "code",
   "execution_count": 11,
   "id": "3a9e2fd8",
   "metadata": {},
   "outputs": [],
   "source": [
    "toylist = ['/raid/data01/deephealth/dh_dcm_ast/2.25.248759284138013060096863671623117297486/BT.2.25.268081491876765377401826097609975425794',\n",
    "            '/raid/data01/deephealth/dh_dcm_ast/2.25.248759284138013060096863671623117297486/BT.2.25.123204232252392180492801746224515939015',\n",
    "            '/raid/data01/deephealth/dh_dh0new/2.25.144614200289558532401796129633895377632/BT.2.25.37164962202785528116814133622274323302',\n",
    "            '/raid/data01/deephealth/dh_dh0new/2.25.273293344491794587420153177809837207106/BT.2.25.37165374325462097993325194615351401923',\n",
    "            '/raid/data01/deephealth/dh_dh0new/2.25.217516271445933927126235315690596173441/BT.2.25.37188666101026683855725824049161217216'\n",
    "]"
   ]
  },
  {
   "cell_type": "code",
   "execution_count": 13,
   "id": "8f0f7a10",
   "metadata": {},
   "outputs": [],
   "source": [
    "import pickle\n",
    "with open('toylist.pkl', 'wb') as f:\n",
    "    pickle.dump(toylist, f)"
   ]
  },
  {
   "cell_type": "code",
   "execution_count": 2,
   "id": "cb96d721",
   "metadata": {},
   "outputs": [],
   "source": [
    "text_file = open('/home/ryan.zurrin001/Projects/omama/omama/deep_sight/whitelists/whitelist_3d.txt')"
   ]
  },
  {
   "cell_type": "code",
   "execution_count": 4,
   "id": "edd35fec",
   "metadata": {},
   "outputs": [],
   "source": [
    "file_content = text_file.read()"
   ]
  },
  {
   "cell_type": "code",
   "execution_count": 5,
   "id": "19e536a1",
   "metadata": {},
   "outputs": [],
   "source": [
    "content_list = file_content.split(\"\\n\")"
   ]
  },
  {
   "cell_type": "code",
   "execution_count": 6,
   "id": "ec11c164",
   "metadata": {},
   "outputs": [
    {
     "data": {
      "text/plain": [
       "67535"
      ]
     },
     "execution_count": 6,
     "metadata": {},
     "output_type": "execute_result"
    }
   ],
   "source": [
    "len(content_list)"
   ]
  },
  {
   "cell_type": "code",
   "execution_count": 12,
   "id": "c2f81b3b",
   "metadata": {},
   "outputs": [
    {
     "data": {
      "text/plain": [
       "'/raid/data01/deephealth/dh_dh0new/2.25.135181292692283597635261140075725741982/BT.2.25.99999129600947434141962746676882710509'"
      ]
     },
     "execution_count": 12,
     "metadata": {},
     "output_type": "execute_result"
    }
   ],
   "source": [
    "content_list[67532]"
   ]
  },
  {
   "cell_type": "code",
   "execution_count": 10,
   "id": "d2557b8c",
   "metadata": {},
   "outputs": [],
   "source": [
    "content_list.remove('')"
   ]
  },
  {
   "cell_type": "code",
   "execution_count": 11,
   "id": "09af18bf",
   "metadata": {},
   "outputs": [
    {
     "data": {
      "text/plain": [
       "67534"
      ]
     },
     "execution_count": 11,
     "metadata": {},
     "output_type": "execute_result"
    }
   ],
   "source": [
    "len(content_list)"
   ]
  },
  {
   "cell_type": "code",
   "execution_count": 13,
   "id": "14539be2",
   "metadata": {},
   "outputs": [],
   "source": [
    "import pickle\n",
    "with open('full_3d_list.pkl', 'wb') as f:\n",
    "    pickle.dump(content_list, f)"
   ]
  },
  {
   "cell_type": "code",
   "execution_count": 15,
   "id": "8b0cca1c",
   "metadata": {},
   "outputs": [],
   "source": [
    "content_list_last = content_list[60777:]"
   ]
  },
  {
   "cell_type": "code",
   "execution_count": 16,
   "id": "a580fd12",
   "metadata": {},
   "outputs": [
    {
     "data": {
      "text/plain": [
       "6757"
      ]
     },
     "execution_count": 16,
     "metadata": {},
     "output_type": "execute_result"
    }
   ],
   "source": [
    "len(content_list_last)"
   ]
  },
  {
   "cell_type": "code",
   "execution_count": 17,
   "id": "1875eeb3",
   "metadata": {},
   "outputs": [],
   "source": [
    "with open('last_run_3d_list.pkl', 'wb') as f:   # size per task is 6757 = 1 task\n",
    "    pickle.dump(content_list_last, f)"
   ]
  },
  {
   "cell_type": "code",
   "execution_count": 18,
   "id": "4d062781",
   "metadata": {},
   "outputs": [],
   "source": [
    "content_list = content_list[:-6757]"
   ]
  },
  {
   "cell_type": "code",
   "execution_count": 19,
   "id": "f9596afd",
   "metadata": {},
   "outputs": [
    {
     "data": {
      "text/plain": [
       "60777"
      ]
     },
     "execution_count": 19,
     "metadata": {},
     "output_type": "execute_result"
    }
   ],
   "source": [
    "len(content_list)"
   ]
  },
  {
   "cell_type": "code",
   "execution_count": 20,
   "id": "e09727e1",
   "metadata": {},
   "outputs": [],
   "source": [
    "with open('nine_runs_3d_list.pkl', 'wb') as f:  # size per task is 6753 = 9 tasks\n",
    "    pickle.dump(content_list, f)"
   ]
  },
  {
   "cell_type": "code",
   "execution_count": null,
   "id": "a633cb3d",
   "metadata": {},
   "outputs": [],
   "source": []
  }
 ],
 "metadata": {
  "kernelspec": {
   "display_name": "Python 3 (ipykernel)",
   "language": "python",
   "name": "python3"
  },
  "language_info": {
   "codemirror_mode": {
    "name": "ipython",
    "version": 3
   },
   "file_extension": ".py",
   "mimetype": "text/x-python",
   "name": "python",
   "nbconvert_exporter": "python",
   "pygments_lexer": "ipython3",
   "version": "3.9.7"
  }
 },
 "nbformat": 4,
 "nbformat_minor": 5
}
