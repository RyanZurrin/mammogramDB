{
 "cells": [
  {
   "cell_type": "code",
   "execution_count": 1,
   "id": "92a0b6f5",
   "metadata": {},
   "outputs": [
    {
     "name": "stdout",
     "output_type": "stream",
     "text": [
      "Populating the interactive namespace from numpy and matplotlib\n"
     ]
    }
   ],
   "source": [
    "%pylab inline\n",
    "%load_ext autoreload\n",
    "%autoreload 2\n",
    "import sys\n",
    "import time\n",
    "sys.path.insert(0,'../..')\n",
    "import omama as O"
   ]
  },
  {
   "cell_type": "code",
   "execution_count": 23,
   "id": "b13ffb4c",
   "metadata": {},
   "outputs": [],
   "source": [
    "output_path = r'/raid/mpsych/deepsight_out/3D_final/e6a3f80b96624a859ce99f3dbdc7012f/'\n",
    "deepsight_out = r'/raid/mpsych/deepsight_out/3D_final/e6a3f80b96624a859ce99f3dbdc7012f/20220728_143118/'\n",
    "caselist_path = r'/raid/mpsych/deepsight_out/3D_final/e6a3f80b96624a859ce99f3dbdc7012f/caselist.txt'"
   ]
  },
  {
   "cell_type": "code",
   "execution_count": 24,
   "id": "f5fd6480",
   "metadata": {
    "scrolled": true
   },
   "outputs": [
    {
     "name": "stdout",
     "output_type": "stream",
     "text": [
      "make study uid dict, string case\n",
      "end with .txt\n",
      "5707\n",
      "Running DeepSight on 6739 cases, please be patient...\n",
      "DH_Summary_dicoms.csv is not a directory\n",
      "DH_Summary_dicoms_aggregated.pkl is not a directory\n",
      "DH_Summary_studies.csv is not a directory\n",
      "centaur_2022-07-28-18-37_92dc0.log is not a directory\n",
      "centaur_config.json is not a directory\n",
      "centaur_errors_tracking.csv is not a directory\n",
      "1 folders were not found\n",
      "folders: ['2.25.206802758942396008444339772768852680509']\n"
     ]
    }
   ],
   "source": [
    "preds = O.DeepSightPost.run(caselist_file_loc=caselist_path, output_dir=output_path, deepsight_out=deepsight_out)"
   ]
  },
  {
   "cell_type": "code",
   "execution_count": null,
   "id": "4d302a19",
   "metadata": {},
   "outputs": [],
   "source": []
  },
  {
   "cell_type": "code",
   "execution_count": null,
   "id": "329dc2db",
   "metadata": {},
   "outputs": [],
   "source": []
  },
  {
   "cell_type": "code",
   "execution_count": null,
   "id": "56975744",
   "metadata": {},
   "outputs": [],
   "source": []
  },
  {
   "cell_type": "code",
   "execution_count": null,
   "id": "6ff8470e",
   "metadata": {},
   "outputs": [],
   "source": [
    "#['2.25.114862816804017381376309277866202349158', '2.25.166589274828683701942770354093159966054', '2.25.212552230814591431250861816401779527198', '2.25.221290162530333477771541287834186963716', '2.25.253094428865312960094189952861321162990', '2.25.261494072384122593293912164223062375250', '2.25.312090746627037060920757258886246763519', '2.25.321706398245934373812641752664331859966', '2.25.57608873372317382844324025277635348312']"
   ]
  },
  {
   "cell_type": "code",
   "execution_count": null,
   "id": "f2ab8999",
   "metadata": {},
   "outputs": [],
   "source": [
    "#['2.25.330870103415171645004220238172450728950']"
   ]
  },
  {
   "cell_type": "code",
   "execution_count": null,
   "id": "e7e15fc1",
   "metadata": {},
   "outputs": [],
   "source": [
    "# ['2.25.96571687832436155540048285930446151393']"
   ]
  },
  {
   "cell_type": "code",
   "execution_count": null,
   "id": "f61b6f8d",
   "metadata": {},
   "outputs": [],
   "source": [
    "# ['2.25.206802758942396008444339772768852680509']"
   ]
  },
  {
   "cell_type": "code",
   "execution_count": null,
   "id": "0a6a1e0e",
   "metadata": {},
   "outputs": [],
   "source": []
  },
  {
   "cell_type": "code",
   "execution_count": null,
   "id": "e9401569",
   "metadata": {},
   "outputs": [],
   "source": []
  }
 ],
 "metadata": {
  "kernelspec": {
   "display_name": "Python 3 (ipykernel)",
   "language": "python",
   "name": "python3"
  },
  "language_info": {
   "codemirror_mode": {
    "name": "ipython",
    "version": 3
   },
   "file_extension": ".py",
   "mimetype": "text/x-python",
   "name": "python",
   "nbconvert_exporter": "python",
   "pygments_lexer": "ipython3",
   "version": "3.9.7"
  }
 },
 "nbformat": 4,
 "nbformat_minor": 5
}
