{
 "cells": [
  {
   "cell_type": "code",
   "execution_count": 1,
   "id": "92a0b6f5",
   "metadata": {},
   "outputs": [
    {
     "name": "stdout",
     "output_type": "stream",
     "text": [
      "Populating the interactive namespace from numpy and matplotlib\n"
     ]
    }
   ],
   "source": [
    "%pylab inline\n",
    "%load_ext autoreload\n",
    "%autoreload 2\n",
    "import sys\n",
    "import time\n",
    "sys.path.insert(0,'../..')\n",
    "import omama as O"
   ]
  },
  {
   "cell_type": "code",
   "execution_count": 2,
   "id": "b13ffb4c",
   "metadata": {},
   "outputs": [],
   "source": [
    "caselist_path = r'/raid/mpsych/whitelists/whitelist_3d.txt'\n",
    "errors_path = r'/raid/mpsych/deepsight_out/fa740826665249b5adc2255ee418e5f7/errors.txt'"
   ]
  },
  {
   "cell_type": "code",
   "execution_count": 3,
   "id": "4d302a19",
   "metadata": {},
   "outputs": [],
   "source": [
    "caselist_file = open(caselist_path)"
   ]
  },
  {
   "cell_type": "code",
   "execution_count": 4,
   "id": "329dc2db",
   "metadata": {},
   "outputs": [],
   "source": [
    "errors_file = open(errors_path)"
   ]
  },
  {
   "cell_type": "code",
   "execution_count": 5,
   "id": "56975744",
   "metadata": {},
   "outputs": [],
   "source": [
    "caselist_contents = caselist_file.read()"
   ]
  },
  {
   "cell_type": "code",
   "execution_count": 6,
   "id": "5890c4dc",
   "metadata": {},
   "outputs": [],
   "source": [
    "caselist_list = caselist_contents.split(\"\\n\")"
   ]
  },
  {
   "cell_type": "code",
   "execution_count": 7,
   "id": "d317d27c",
   "metadata": {},
   "outputs": [
    {
     "data": {
      "text/plain": [
       "67535"
      ]
     },
     "execution_count": 7,
     "metadata": {},
     "output_type": "execute_result"
    }
   ],
   "source": [
    "len(caselist_list)"
   ]
  },
  {
   "cell_type": "code",
   "execution_count": 8,
   "id": "0a6a1e0e",
   "metadata": {},
   "outputs": [],
   "source": [
    "errors_contents = errors_file.read()"
   ]
  },
  {
   "cell_type": "code",
   "execution_count": 9,
   "id": "2214ef45",
   "metadata": {},
   "outputs": [],
   "source": [
    "errors_list = errors_contents.split(\"\\n\")"
   ]
  },
  {
   "cell_type": "code",
   "execution_count": 10,
   "id": "ccb657e1",
   "metadata": {},
   "outputs": [
    {
     "data": {
      "text/plain": [
       "9963"
      ]
     },
     "execution_count": 10,
     "metadata": {},
     "output_type": "execute_result"
    }
   ],
   "source": [
    "len(errors_list)"
   ]
  },
  {
   "cell_type": "code",
   "execution_count": 11,
   "id": "e9401569",
   "metadata": {},
   "outputs": [],
   "source": [
    "caselist_set = set(caselist_list)"
   ]
  },
  {
   "cell_type": "code",
   "execution_count": 12,
   "id": "376fafc4",
   "metadata": {},
   "outputs": [],
   "source": [
    "errors_set = set(errors_list)"
   ]
  },
  {
   "cell_type": "code",
   "execution_count": 13,
   "id": "c365f9d0",
   "metadata": {},
   "outputs": [
    {
     "data": {
      "text/plain": [
       "67535"
      ]
     },
     "execution_count": 13,
     "metadata": {},
     "output_type": "execute_result"
    }
   ],
   "source": [
    "len(caselist_set)"
   ]
  },
  {
   "cell_type": "code",
   "execution_count": 14,
   "id": "2fb1a770",
   "metadata": {},
   "outputs": [
    {
     "data": {
      "text/plain": [
       "9963"
      ]
     },
     "execution_count": 14,
     "metadata": {},
     "output_type": "execute_result"
    }
   ],
   "source": [
    "len(errors_set)"
   ]
  },
  {
   "cell_type": "code",
   "execution_count": 15,
   "id": "5c630554",
   "metadata": {},
   "outputs": [],
   "source": [
    "final_3d_whitelist = caselist_set - errors_set"
   ]
  },
  {
   "cell_type": "code",
   "execution_count": 16,
   "id": "90fe205b",
   "metadata": {},
   "outputs": [
    {
     "data": {
      "text/plain": [
       "57572"
      ]
     },
     "execution_count": 16,
     "metadata": {},
     "output_type": "execute_result"
    }
   ],
   "source": [
    "len(final_3d_whitelist)"
   ]
  },
  {
   "cell_type": "code",
   "execution_count": 17,
   "id": "6a974b34",
   "metadata": {},
   "outputs": [],
   "source": [
    "final_3d_whitelist = list(final_3d_whitelist)"
   ]
  },
  {
   "cell_type": "code",
   "execution_count": 18,
   "id": "80d66638",
   "metadata": {},
   "outputs": [
    {
     "data": {
      "text/plain": [
       "57572"
      ]
     },
     "execution_count": 18,
     "metadata": {},
     "output_type": "execute_result"
    }
   ],
   "source": [
    "len(final_3d_whitelist)"
   ]
  },
  {
   "cell_type": "code",
   "execution_count": 20,
   "id": "886e4dd1",
   "metadata": {},
   "outputs": [],
   "source": [
    "whitelist_3d_final = open(\"whitelist_3d_final.txt\", \"w\")\n",
    "for elem in final_3d_whitelist:\n",
    "    whitelist_3d_final.write(elem + \"\\n\")\n",
    "whitelist_3d_final.close()"
   ]
  },
  {
   "cell_type": "code",
   "execution_count": null,
   "id": "6315bb47",
   "metadata": {},
   "outputs": [],
   "source": []
  }
 ],
 "metadata": {
  "kernelspec": {
   "display_name": "Python 3 (ipykernel)",
   "language": "python",
   "name": "python3"
  },
  "language_info": {
   "codemirror_mode": {
    "name": "ipython",
    "version": 3
   },
   "file_extension": ".py",
   "mimetype": "text/x-python",
   "name": "python",
   "nbconvert_exporter": "python",
   "pygments_lexer": "ipython3",
   "version": "3.9.7"
  }
 },
 "nbformat": 4,
 "nbformat_minor": 5
}
