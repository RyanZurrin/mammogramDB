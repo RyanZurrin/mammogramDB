{
 "cells": [
  {
   "cell_type": "code",
   "execution_count": 1,
   "id": "66ce542e",
   "metadata": {},
   "outputs": [],
   "source": [
    "import sys\n",
    "import time\n",
    "sys.path.insert(0,'../..')\n",
    "import omama as O"
   ]
  },
  {
   "cell_type": "code",
   "execution_count": 2,
   "id": "edc66bef",
   "metadata": {},
   "outputs": [],
   "source": [
    "listtest = ['/raid/data01/deephealth/dh_dcm_ast/2.25.92434989893645082609086922519674721512/DXm.2.25.100072279429840609198612091531622701423',\n",
    "'/raid/data01/deephealth/dh_dh0new/2.25.48238291082537081839748795051749235410/DXm.2.25.100088131968297124081535567373953986257',\n",
    "'/raid/data01/deephealth/dh_dcm_ast/2.25.176055018114969999422644622364737466014/DXm.2.25.100099319109000821355572386677811669231',\n",
    "'/raid/data01/deephealth/dh_dcm_ast/2.25.64686540169772310473592723002840768676/DXm.2.25.100127867225695785882001011686255483444',\n",
    "'/raid/data01/deephealth/dh_dh0new/2.25.193573478732606957793235490683656690158/DXm.2.25.100153784965793487998262867934585453782',\n",
    "'/raid/data01/deephealth/dh_dcm_ast/2.25.256183794331663546272804399765600094215/DXm.2.25.100154570606808451492959840078134841249',\n",
    "'/raid/data01/deephealth/dh_dcm_ast/2.25.237964652338828347821691756236616101035/DXm.2.25.100154679610987957728807763237354429600',\n",
    "'/raid/data01/deephealth/dh_dcm_ast/2.25.10280343232426951208418560496787332401/DXm.2.25.100156069970549784756392253137480560097',\n",
    "'/raid/data01/deephealth/dh_dcm_ast/2.25.251982456411518268893572914365675945347/DXm.2.25.100174831636597707940025046433386913064',\n",
    "'/raid/data01/deephealth/dh_dcm_ast/2.25.213793490817552601987075345152057832468/DXm.2.25.10019047332195527319842144727711173804']"
   ]
  },
  {
   "cell_type": "code",
   "execution_count": 3,
   "id": "dd258c48",
   "metadata": {},
   "outputs": [
    {
     "name": "stdout",
     "output_type": "stream",
     "text": [
      "...took 88.59643602371216\n"
     ]
    }
   ],
   "source": [
    "pred = O.DeepSight.run(listtest, timing=True)"
   ]
  },
  {
   "cell_type": "code",
   "execution_count": 4,
   "id": "254ec1ca",
   "metadata": {},
   "outputs": [
    {
     "data": {
      "text/plain": [
       "{'2.25.100156069970549784756392253137480560097': {'coords': [79.0,\n",
       "   1310.0,\n",
       "   188.0,\n",
       "   1413.0],\n",
       "  'score': 0.9073244333267212,\n",
       "  'errors': None},\n",
       " '2.25.100099319109000821355572386677811669231': {'coords': None,\n",
       "  'score': -1,\n",
       "  'errors': ['FAC-24: lossy image compression']},\n",
       " '2.25.100153784965793487998262867934585453782': {'coords': [372.0,\n",
       "   1676.0,\n",
       "   498.0,\n",
       "   1788.0],\n",
       "  'score': 0.4725988805294037,\n",
       "  'errors': None},\n",
       " '2.25.10019047332195527319842144727711173804': {'coords': [1792.0,\n",
       "   780.0,\n",
       "   2005.0,\n",
       "   987.0],\n",
       "  'score': 0.9338211417198181,\n",
       "  'errors': None},\n",
       " '2.25.100154679610987957728807763237354429600': {'coords': [609.0,\n",
       "   1354.0,\n",
       "   772.0,\n",
       "   1500.0],\n",
       "  'score': 0.38256579637527466,\n",
       "  'errors': None},\n",
       " '2.25.100174831636597707940025046433386913064': {'coords': [1577.0,\n",
       "   405.0,\n",
       "   1880.0,\n",
       "   574.0],\n",
       "  'score': 0.5866000652313232,\n",
       "  'errors': None},\n",
       " '2.25.100154570606808451492959840078134841249': {'coords': [1698.0,\n",
       "   910.0,\n",
       "   1905.0,\n",
       "   1166.0],\n",
       "  'score': 0.575221598148346,\n",
       "  'errors': None},\n",
       " '2.25.100088131968297124081535567373953986257': {'coords': None,\n",
       "  'score': -1,\n",
       "  'errors': ['FAC-170: modified view']},\n",
       " '2.25.100127867225695785882001011686255483444': {'coords': None,\n",
       "  'score': -1,\n",
       "  'errors': ['FAC-160: view not mlo or cc']},\n",
       " '2.25.100072279429840609198612091531622701423': {'coords': None,\n",
       "  'score': -1,\n",
       "  'errors': ['GE-80: window center and width explanation']}}"
      ]
     },
     "execution_count": 4,
     "metadata": {},
     "output_type": "execute_result"
    }
   ],
   "source": [
    "pred"
   ]
  },
  {
   "cell_type": "code",
   "execution_count": null,
   "id": "9aa7d5d0",
   "metadata": {},
   "outputs": [],
   "source": []
  }
 ],
 "metadata": {
  "kernelspec": {
   "display_name": "Python 3 (ipykernel)",
   "language": "python",
   "name": "python3"
  },
  "language_info": {
   "codemirror_mode": {
    "name": "ipython",
    "version": 3
   },
   "file_extension": ".py",
   "mimetype": "text/x-python",
   "name": "python",
   "nbconvert_exporter": "python",
   "pygments_lexer": "ipython3",
   "version": "3.9.7"
  }
 },
 "nbformat": 4,
 "nbformat_minor": 5
}
