{
 "cells": [
  {
   "cell_type": "code",
   "execution_count": 1,
   "id": "776f30ca",
   "metadata": {},
   "outputs": [
    {
     "name": "stdout",
     "output_type": "stream",
     "text": [
      "Populating the interactive namespace from numpy and matplotlib\n"
     ]
    }
   ],
   "source": [
    "%pylab inline\n",
    "%load_ext autoreload\n",
    "%autoreload 2\n",
    "import sys\n",
    "import time\n",
    "sys.path.insert(0,'../..')\n",
    "import omama as O"
   ]
  },
  {
   "cell_type": "code",
   "execution_count": 2,
   "id": "bacc295c",
   "metadata": {},
   "outputs": [
    {
     "name": "stdout",
     "output_type": "stream",
     "text": [
      "load_studies             ...took     0.227271 seconds\n",
      "load_images              ...took     3.683491 seconds\n",
      "csv_to_map               ...took     0.226725 seconds\n",
      "load_pickle              ...took     1.980123 seconds\n",
      "generate_counts          ...took     1.054059 seconds\n",
      "generate_stats           ...took     1.347500 seconds\n",
      "total _init              ...took     8.531730 seconds\n",
      "total __init__           ...took     8.531806 seconds\n"
     ]
    }
   ],
   "source": [
    "ol = O.OmamaLoader()\n",
    "data = O.Data(ol, load_cache=True, timing=True)"
   ]
  },
  {
   "cell_type": "code",
   "execution_count": 13,
   "id": "ba36cafa",
   "metadata": {},
   "outputs": [
    {
     "name": "stderr",
     "output_type": "stream",
     "text": [
      "Not a JPEG file: starts with 0x00 0x00\n"
     ]
    }
   ],
   "source": [
    "img = data.get_image(dicom_name='2.25.138694836363761594443343250674193190895')"
   ]
  },
  {
   "cell_type": "code",
   "execution_count": 14,
   "id": "08efdaf7",
   "metadata": {},
   "outputs": [
    {
     "name": "stderr",
     "output_type": "stream",
     "text": [
      "Not a JPEG file: starts with 0x00 0x00\n"
     ]
    },
    {
     "data": {
      "image/png": "[encoded data removed]",
      "text/plain": [
       "<Figure size 720x720 with 1 Axes>"
      ]
     },
     "metadata": {
      "needs_background": "light"
     },
     "output_type": "display_data"
    }
   ],
   "source": [
    "O.DataHelper.view(img)"
   ]
  },
  {
   "cell_type": "code",
   "execution_count": null,
   "id": "01f6ebb0",
   "metadata": {},
   "outputs": [
    {
     "name": "stderr",
     "output_type": "stream",
     "text": [
      "Not a JPEG file: starts with 0x00 0x00\n"
     ]
    }
   ],
   "source": [
    "img = data.get_image(dicom_name='2.25.173962698448298601733886156947098267096')\n",
    "O.DataHelper.view(img)"
   ]
  },
  {
   "cell_type": "code",
   "execution_count": null,
   "id": "e878f623",
   "metadata": {},
   "outputs": [],
   "source": [
    "img = data.get_image(dicom_name='2.25.327822881354066540078957334233740531313')\n",
    "O.DataHelper.view(img)"
   ]
  },
  {
   "cell_type": "code",
   "execution_count": null,
   "id": "371f633f",
   "metadata": {},
   "outputs": [],
   "source": [
    "img = data.get_image(dicom_name='2.25.327822881354066540078957334233740531313')\n",
    "O.DataHelper.view(img)"
   ]
  }
 ],
 "metadata": {
  "kernelspec": {
   "display_name": "Python 3 (ipykernel)",
   "language": "python",
   "name": "python3"
  },
  "language_info": {
   "codemirror_mode": {
    "name": "ipython",
    "version": 3
   },
   "file_extension": ".py",
   "mimetype": "text/x-python",
   "name": "python",
   "nbconvert_exporter": "python",
   "pygments_lexer": "ipython3",
   "version": "3.9.7"
  }
 },
 "nbformat": 4,
 "nbformat_minor": 5
}
