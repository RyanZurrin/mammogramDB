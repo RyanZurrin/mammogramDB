{
 "cells": [
  {
   "cell_type": "code",
   "execution_count": 1,
   "id": "979c1acd",
   "metadata": {},
   "outputs": [
    {
     "name": "stdout",
     "output_type": "stream",
     "text": [
      "Populating the interactive namespace from numpy and matplotlib\n"
     ]
    }
   ],
   "source": [
    "%pylab inline\n",
    "%load_ext autoreload\n",
    "%autoreload 2"
   ]
  },
  {
   "cell_type": "code",
   "execution_count": 32,
   "id": "6b4585ac",
   "metadata": {},
   "outputs": [],
   "source": [
    "import sys\n",
    "import time\n",
    "sys.path.insert(0,'../..')\n",
    "import omama as O\n",
    "import kaggle as K\n",
    "import pydicom as dicom"
   ]
  },
  {
   "cell_type": "code",
   "execution_count": 30,
   "id": "d785c782",
   "metadata": {},
   "outputs": [],
   "source": [
    "path = '/raid/mpsych/kaggle_mammograms/original/test_images/10008/1591370361.dcm'"
   ]
  },
  {
   "cell_type": "code",
   "execution_count": 33,
   "id": "54f2a504",
   "metadata": {},
   "outputs": [
    {
     "name": "stdout",
     "output_type": "stream",
     "text": [
      "Time to parse SOP UIDs:  4.0531158447265625e-06\n",
      "Time to check cache:  0.0006210803985595703\n",
      "cases is a string\n",
      "cases is a path to a dicom\n",
      "study_uid_dict: {'10008': ['1.2.840.10009.1.2.3.10008.1.1591370361']}\n",
      "Running KaggleSight on 1 cases, please be patient...\n",
      "/home/ryan.zurrin001/Projects/omama/kaggle/deepsight2.sh -i /raid/mpsych/kaggle_mammograms/original -o /raid/mpsych/deepsight_out/kaggle_processed/25be35197d5d4ff4aacc80e660ae280c/20230223_174950 -cl /raid/mpsych/deepsight_out/kaggle_processed/25be35197d5d4ff4aacc80e660ae280c/caselist.txt --additional_params --checks_to_ignore PAC-10 FAC-140 FAC-200 SAC-30 GE-160 SAC-40 SAC-60 SAC-50 SAC-130 HOL-10 HOL-160 FAC-160 FAC-24 FAC-170 FAC-30 FAC-23 PAC-30 FAC-21 FAC-27 FAC-80 FAC-90 FAC-20 IAC-20 HOL-30 HOL-50 HOL-60 HOL-110 HOL-140 HOL-190 HOL-200 HOL-80 HOL-30 HOL-50 HOL-60 HOL-110 HOL-140 HOL-190 HOL-200 HOL-80 > /raid/mpsych/deepsight_out/kaggle_processed/25be35197d5d4ff4aacc80e660ae280c/deepsight_out.txt 2>&1\n",
      "{'input_dir': '/raid/mpsych/kaggle_mammograms/original/test_images/10008', 'input_files': ['/raid/mpsych/kaggle_mammograms/original/test_images/10008/1591370361.dcm'], 'output_dir': '/root/output/10008', '_metadata': None, 'study_metadata': None, '_checker_validation_passed': False, '_failed_acceptance_criteria_list': [], 'results_raw': None, 'results': None, 'results_file_name': 'results_full.json', 'reports_expected': [], 'reports_generated': {}, 'output_send_results': {}, 'preprocessed': False, 'predicted': False, 'outputs_sent': False, '_error_code': 1, '_error_messages': ['Traceback (most recent call last):\\n  File \"/root/centaur/centaur_deploy/deploys/base_deployer.py\", line 318, in run_study\\n    accepted = self.engine.preprocess(input_dir=self.config[Config.MODULE_IO, \\'input_dir\\'])\\n  File \"/root/centaur/centaur_engine/engine.py\", line 87, in preprocess\\n    passed = self.preprocessor.preprocess(self.file_list)\\n  File \"/root/centaur/centaur_engine/preprocessor.py\", line 214, in preprocess\\n    np_data = set_pixel_array((dr, len(self.metadata), save_to_ram))\\n  File \"/root/centaur/centaur_engine/helpers/helper_preprocessor.py\", line 124, in set_pixel_array\\n    orientation_change = get_orientation_change(dr.metadata[\\'ImageLaterality\\'], dr.metadata[\\'PatientOrientation\\'])\\n  File \"/root/centaur/centaur_engine/helpers/helper_preprocessor.py\", line 21, in get_orientation_change\\n    patient_orientation_y = patient_orientation[1]\\nIndexError: list index out of range\\n', 'Error when extracting the study metadata for study \\'/raid/mpsych/kaggle_mammograms/original/test_images/10008\\' in an \\'except\\' block.\\nTraceback (most recent call last):\\n  File \"/root/centaur/centaur_deploy/deploys/base_deployer.py\", line 318, in run_study\\n    accepted = self.engine.preprocess(input_dir=self.config[Config.MODULE_IO, \\'input_dir\\'])\\n  File \"/root/centaur/centaur_engine/engine.py\", line 87, in preprocess\\n    passed = self.preprocessor.preprocess(self.file_list)\\n  File \"/root/centaur/centaur_engine/preprocessor.py\", line 214, in preprocess\\n    np_data = set_pixel_array((dr, len(self.metadata), save_to_ram))\\n  File \"/root/centaur/centaur_engine/helpers/helper_preprocessor.py\", line 124, in set_pixel_array\\n    orientation_change = get_orientation_change(dr.metadata[\\'ImageLaterality\\'], dr.metadata[\\'PatientOrientation\\'])\\n  File \"/root/centaur/centaur_engine/helpers/helper_preprocessor.py\", line 21, in get_orientation_change\\n    patient_orientation_y = patient_orientation[1]\\nIndexError: list index out of range\\n\\nDuring handling of the above exception, another exception occurred:\\n\\nTraceback (most recent call last):\\n  File \"/root/centaur/centaur_deploy/deploys/base_deployer.py\", line 349, in run_study\\n    file_list=study_deploy_results.input_files)\\n  File \"/root/deephealth_utils/data/utils.py\", line 591, in get_study_metadata\\n    raise ValueError(f\"Field {field} could not be read\")\\nValueError: Field PatientName could not be read\\n'], 'studies_db_id': None, 'uid': None}\n",
      "Metadata is None\n",
      "Time to update cache:  0.0001552104949951172\n",
      "...took 5.28908896446228\n",
      "\n",
      " **************************************************************************************************************************\n",
      "************************************************ WARNING: ERRORS DISCOVERED ************************************************\n",
      "****************************************************************************************************************************\n",
      "No predictions made, printing output file located at /raid/mpsych/deepsight_out/kaggle_processed/25be35197d5d4ff4aacc80e660ae280c/deepsight_out.txt for error information.\n",
      " =======================================================================\n",
      "||     DeepSight Mammography Research Software                          ||\n",
      "||     DeepSight is for research purposes only and not for clinical use ||\n",
      "||     DeepHealth, Inc.                                                 ||\n",
      "||     Version 58a38fc60eeb                                             ||\n",
      "||     Copyright © 2021 by DeepHealth, Inc.                             ||\n",
      "||     Bringing the Best Doctor in the World to Every Patient           ||\n",
      " =======================================================================\n",
      "\n",
      "/root/deephealth_utils/data/utils.py:26: UserWarning: No module named 'decode_hologic_sco'\n",
      "  warnings.warn(\"{}\".format(e))\n",
      "Using TensorFlow backend.\n",
      "/opt/conda/lib/python3.7/site-packages/tensorflow/python/framework/dtypes.py:516: FutureWarning: Passing (type, 1) or '1type' as a synonym of type is deprecated; in a future version of numpy, it will be understood as (type, (1,)) / '(1,)type'.\n",
      "  _np_qint8 = np.dtype([(\"qint8\", np.int8, 1)])\n",
      "/opt/conda/lib/python3.7/site-packages/tensorflow/python/framework/dtypes.py:517: FutureWarning: Passing (type, 1) or '1type' as a synonym of type is deprecated; in a future version of numpy, it will be understood as (type, (1,)) / '(1,)type'.\n",
      "  _np_quint8 = np.dtype([(\"quint8\", np.uint8, 1)])\n",
      "/opt/conda/lib/python3.7/site-packages/tensorflow/python/framework/dtypes.py:518: FutureWarning: Passing (type, 1) or '1type' as a synonym of type is deprecated; in a future version of numpy, it will be understood as (type, (1,)) / '(1,)type'.\n",
      "  _np_qint16 = np.dtype([(\"qint16\", np.int16, 1)])\n",
      "/opt/conda/lib/python3.7/site-packages/tensorflow/python/framework/dtypes.py:519: FutureWarning: Passing (type, 1) or '1type' as a synonym of type is deprecated; in a future version of numpy, it will be understood as (type, (1,)) / '(1,)type'.\n",
      "  _np_quint16 = np.dtype([(\"quint16\", np.uint16, 1)])\n",
      "/opt/conda/lib/python3.7/site-packages/tensorflow/python/framework/dtypes.py:520: FutureWarning: Passing (type, 1) or '1type' as a synonym of type is deprecated; in a future version of numpy, it will be understood as (type, (1,)) / '(1,)type'.\n",
      "  _np_qint32 = np.dtype([(\"qint32\", np.int32, 1)])\n",
      "/opt/conda/lib/python3.7/site-packages/tensorflow/python/framework/dtypes.py:525: FutureWarning: Passing (type, 1) or '1type' as a synonym of type is deprecated; in a future version of numpy, it will be understood as (type, (1,)) / '(1,)type'.\n",
      "  np_resource = np.dtype([(\"resource\", np.ubyte, 1)])\n",
      "/opt/conda/lib/python3.7/site-packages/tensorboard/compat/tensorflow_stub/dtypes.py:541: FutureWarning: Passing (type, 1) or '1type' as a synonym of type is deprecated; in a future version of numpy, it will be understood as (type, (1,)) / '(1,)type'.\n",
      "  _np_qint8 = np.dtype([(\"qint8\", np.int8, 1)])\n",
      "/opt/conda/lib/python3.7/site-packages/tensorboard/compat/tensorflow_stub/dtypes.py:542: FutureWarning: Passing (type, 1) or '1type' as a synonym of type is deprecated; in a future version of numpy, it will be understood as (type, (1,)) / '(1,)type'.\n",
      "  _np_quint8 = np.dtype([(\"quint8\", np.uint8, 1)])\n",
      "/opt/conda/lib/python3.7/site-packages/tensorboard/compat/tensorflow_stub/dtypes.py:543: FutureWarning: Passing (type, 1) or '1type' as a synonym of type is deprecated; in a future version of numpy, it will be understood as (type, (1,)) / '(1,)type'.\n",
      "  _np_qint16 = np.dtype([(\"qint16\", np.int16, 1)])\n",
      "/opt/conda/lib/python3.7/site-packages/tensorboard/compat/tensorflow_stub/dtypes.py:544: FutureWarning: Passing (type, 1) or '1type' as a synonym of type is deprecated; in a future version of numpy, it will be understood as (type, (1,)) / '(1,)type'.\n",
      "  _np_quint16 = np.dtype([(\"quint16\", np.uint16, 1)])\n",
      "/opt/conda/lib/python3.7/site-packages/tensorboard/compat/tensorflow_stub/dtypes.py:545: FutureWarning: Passing (type, 1) or '1type' as a synonym of type is deprecated; in a future version of numpy, it will be understood as (type, (1,)) / '(1,)type'.\n",
      "  _np_qint32 = np.dtype([(\"qint32\", np.int32, 1)])\n",
      "/opt/conda/lib/python3.7/site-packages/tensorboard/compat/tensorflow_stub/dtypes.py:550: FutureWarning: Passing (type, 1) or '1type' as a synonym of type is deprecated; in a future version of numpy, it will be understood as (type, (1,)) / '(1,)type'.\n",
      "  np_resource = np.dtype([(\"resource\", np.ubyte, 1)])\n",
      "-1 @@ Running on study: /raid/mpsych/kaggle_mammograms/original/test_images/10008 @@ None\n",
      "-1 @@ Cleaning engine... @@ None\n",
      "-1 @@ Engine is preprocessing files... @@ None\n",
      "0 @@ Processing study. @@ /raid/mpsych/kaggle_mammograms/original/test_images/10008\n",
      "4 @@ Image_Preprocess_CheckStudySize:0.0010418891906738281s;MEM:370606080 @@ 10008\n",
      "2 @@ /raid/mpsych/kaggle_mammograms/original/test_images/10008/1591370361.dcm @@ /raid/mpsych/kaggle_mammograms/original/test_images/10008\n",
      "4 @@ Image_Preprocess_CheckFileSize:0.0003674030303955078s;MEM:370606080 @@ 10008;1591370361.dcm\n",
      "4 @@ Image_DicomHeaderRead:0.0009329319000244141s;MEM:370667520 @@ 1591370361.dcm\n",
      "4 @@ Image_Preprocess_Checker:0.009783029556274414s;MEM:370794496 @@ 10008;1591370361.dcm\n",
      "-1 @@ Start processing data 1677192594.603312 @@ /raid/mpsych/kaggle_mammograms/original/test_images/10008\n",
      "5 @@ Error when extracting the study metadata for study '/raid/mpsych/kaggle_mammograms/original/test_images/10008' in an 'except' block.;   Traceback (most recent call last):;     File \"/root/centaur/centaur_deploy/deploys/base_deployer.py\", line 318, in run_study;       accepted = self.engine.preprocess(input_dir=self.config[Config.MODULE_IO, 'input_dir']);     File \"/root/centaur/centaur_engine/engine.py\", line 87, in preprocess;       passed = self.preprocessor.preprocess(self.file_list);     File \"/root/centaur/centaur_engine/preprocessor.py\", line 214, in preprocess;       np_data = set_pixel_array((dr, len(self.metadata), save_to_ram));     File \"/root/centaur/centaur_engine/helpers/helper_preprocessor.py\", line 124, in set_pixel_array;       orientation_change = get_orientation_change(dr.metadata['ImageLaterality'], dr.metadata['PatientOrientation']);     File \"/root/centaur/centaur_engine/helpers/helper_preprocessor.py\", line 21, in get_orientation_change;       patient_orientation_y = patient_orientation[1];   IndexError: list index out of range;   ;   During handling of the above exception, another exception occurred:;   ;   Traceback (most recent call last):;     File \"/root/centaur/centaur_deploy/deploys/base_deployer.py\", line 349, in run_study;       file_list=study_deploy_results.input_files);     File \"/root/deephealth_utils/data/utils.py\", line 591, in get_study_metadata;       raise ValueError(f\"Field {field} could not be read\");   ValueError: Field PatientName could not be read;    @@ None\n",
      "4 @@ Study_Total:0.14570260047912598s;MEM:370864128 @@ 10008\n",
      "-1 @@ Study results file saved (/root/output/10008/results_full.json) @@ 10008\n",
      "-1 @@ \u001B[31m\u001B[1m @@ None\n",
      "5 @@ Traceback (most recent call last):;     File \"/root/centaur/centaur_deploy/deploys/base_deployer.py\", line 318, in run_study;       accepted = self.engine.preprocess(input_dir=self.config[Config.MODULE_IO, 'input_dir']);     File \"/root/centaur/centaur_engine/engine.py\", line 87, in preprocess;       passed = self.preprocessor.preprocess(self.file_list);     File \"/root/centaur/centaur_engine/preprocessor.py\", line 214, in preprocess;       np_data = set_pixel_array((dr, len(self.metadata), save_to_ram));     File \"/root/centaur/centaur_engine/helpers/helper_preprocessor.py\", line 124, in set_pixel_array;       orientation_change = get_orientation_change(dr.metadata['ImageLaterality'], dr.metadata['PatientOrientation']);     File \"/root/centaur/centaur_engine/helpers/helper_preprocessor.py\", line 21, in get_orientation_change;       patient_orientation_y = patient_orientation[1];   IndexError: list index out of range;   ;   Error when extracting the study metadata for study '/raid/mpsych/kaggle_mammograms/original/test_images/10008' in an 'except' block.;   Traceback (most recent call last):;     File \"/root/centaur/centaur_deploy/deploys/base_deployer.py\", line 318, in run_study;       accepted = self.engine.preprocess(input_dir=self.config[Config.MODULE_IO, 'input_dir']);     File \"/root/centaur/centaur_engine/engine.py\", line 87, in preprocess;       passed = self.preprocessor.preprocess(self.file_list);     File \"/root/centaur/centaur_engine/preprocessor.py\", line 214, in preprocess;       np_data = set_pixel_array((dr, len(self.metadata), save_to_ram));     File \"/root/centaur/centaur_engine/helpers/helper_preprocessor.py\", line 124, in set_pixel_array;       orientation_change = get_orientation_change(dr.metadata['ImageLaterality'], dr.metadata['PatientOrientation']);     File \"/root/centaur/centaur_engine/helpers/helper_preprocessor.py\", line 21, in get_orientation_change;       patient_orientation_y = patient_orientation[1];   IndexError: list index out of range;   ;   During handling of the above exception, another exception occurred:;   ;   Traceback (most recent call last):;     File \"/root/centaur/centaur_deploy/deploys/base_deployer.py\", line 349, in run_study;       file_list=study_deploy_results.input_files);     File \"/root/deephealth_utils/data/utils.py\", line 591, in get_study_metadata;       raise ValueError(f\"Field {field} could not be read\");   ValueError: Field PatientName could not be read;    @@ None\n",
      "-1 @@ Study finished with errors. Study_Total:0.14602112770080566s;MEM:370864128 @@ 10008\n",
      "-1 @@ \u001B[0m @@ None\n",
      "4 @@ DEPLOY_TOTAL_RUN:0:00:00.155566s;MEM:371064832 @@ None\n",
      "\n"
     ]
    }
   ],
   "source": [
    "pred = K.KaggleSight.run(path, timing=True)"
   ]
  },
  {
   "cell_type": "code",
   "execution_count": 34,
   "id": "5acba265",
   "metadata": {},
   "outputs": [
    {
     "data": {
      "text/plain": [
       "{}"
      ]
     },
     "execution_count": 34,
     "metadata": {},
     "output_type": "execute_result"
    }
   ],
   "source": [
    "pred"
   ]
  },
  {
   "cell_type": "code",
   "execution_count": 35,
   "id": "b03418b3",
   "metadata": {},
   "outputs": [],
   "source": [
    "path2 = '/raid/mpsych/kaggle_mammograms/original/test_images/10008/736471439.dcm'"
   ]
  },
  {
   "cell_type": "code",
   "execution_count": 36,
   "id": "e6d297b1",
   "metadata": {},
   "outputs": [
    {
     "name": "stdout",
     "output_type": "stream",
     "text": [
      "Time to parse SOP UIDs:  4.0531158447265625e-06\n",
      "Time to check cache:  0.0005574226379394531\n",
      "cases is a string\n",
      "cases is a path to a dicom\n",
      "study_uid_dict: {'10008': ['1.2.840.10009.1.2.3.10008.1.736471439']}\n",
      "Running KaggleSight on 1 cases, please be patient...\n",
      "/home/ryan.zurrin001/Projects/omama/kaggle/deepsight2.sh -i /raid/mpsych/kaggle_mammograms/original -o /raid/mpsych/deepsight_out/kaggle_processed/d0b8f6c33f954e7a82a56b1085611e93/20230223_175008 -cl /raid/mpsych/deepsight_out/kaggle_processed/d0b8f6c33f954e7a82a56b1085611e93/caselist.txt --additional_params --checks_to_ignore PAC-10 FAC-140 FAC-200 SAC-30 GE-160 SAC-40 SAC-60 SAC-50 SAC-130 HOL-10 HOL-160 FAC-160 FAC-24 FAC-170 FAC-30 FAC-23 PAC-30 FAC-21 FAC-27 FAC-80 FAC-90 FAC-20 IAC-20 HOL-30 HOL-50 HOL-60 HOL-110 HOL-140 HOL-190 HOL-200 HOL-80 HOL-30 HOL-50 HOL-60 HOL-110 HOL-140 HOL-190 HOL-200 HOL-80 > /raid/mpsych/deepsight_out/kaggle_processed/d0b8f6c33f954e7a82a56b1085611e93/deepsight_out.txt 2>&1\n",
      "{'input_dir': '/raid/mpsych/kaggle_mammograms/original/test_images/10008', 'input_files': ['/raid/mpsych/kaggle_mammograms/original/test_images/10008/736471439.dcm'], 'output_dir': '/root/output/10008', '_metadata': None, 'study_metadata': None, '_checker_validation_passed': False, '_failed_acceptance_criteria_list': [], 'results_raw': None, 'results': None, 'results_file_name': 'results_full.json', 'reports_expected': [], 'reports_generated': {}, 'output_send_results': {}, 'preprocessed': False, 'predicted': False, 'outputs_sent': False, '_error_code': 1, '_error_messages': ['Traceback (most recent call last):\\n  File \"/root/centaur/centaur_deploy/deploys/base_deployer.py\", line 318, in run_study\\n    accepted = self.engine.preprocess(input_dir=self.config[Config.MODULE_IO, \\'input_dir\\'])\\n  File \"/root/centaur/centaur_engine/engine.py\", line 87, in preprocess\\n    passed = self.preprocessor.preprocess(self.file_list)\\n  File \"/root/centaur/centaur_engine/preprocessor.py\", line 214, in preprocess\\n    np_data = set_pixel_array((dr, len(self.metadata), save_to_ram))\\n  File \"/root/centaur/centaur_engine/helpers/helper_preprocessor.py\", line 124, in set_pixel_array\\n    orientation_change = get_orientation_change(dr.metadata[\\'ImageLaterality\\'], dr.metadata[\\'PatientOrientation\\'])\\n  File \"/root/centaur/centaur_engine/helpers/helper_preprocessor.py\", line 21, in get_orientation_change\\n    patient_orientation_y = patient_orientation[1]\\nIndexError: list index out of range\\n', 'Error when extracting the study metadata for study \\'/raid/mpsych/kaggle_mammograms/original/test_images/10008\\' in an \\'except\\' block.\\nTraceback (most recent call last):\\n  File \"/root/centaur/centaur_deploy/deploys/base_deployer.py\", line 318, in run_study\\n    accepted = self.engine.preprocess(input_dir=self.config[Config.MODULE_IO, \\'input_dir\\'])\\n  File \"/root/centaur/centaur_engine/engine.py\", line 87, in preprocess\\n    passed = self.preprocessor.preprocess(self.file_list)\\n  File \"/root/centaur/centaur_engine/preprocessor.py\", line 214, in preprocess\\n    np_data = set_pixel_array((dr, len(self.metadata), save_to_ram))\\n  File \"/root/centaur/centaur_engine/helpers/helper_preprocessor.py\", line 124, in set_pixel_array\\n    orientation_change = get_orientation_change(dr.metadata[\\'ImageLaterality\\'], dr.metadata[\\'PatientOrientation\\'])\\n  File \"/root/centaur/centaur_engine/helpers/helper_preprocessor.py\", line 21, in get_orientation_change\\n    patient_orientation_y = patient_orientation[1]\\nIndexError: list index out of range\\n\\nDuring handling of the above exception, another exception occurred:\\n\\nTraceback (most recent call last):\\n  File \"/root/centaur/centaur_deploy/deploys/base_deployer.py\", line 349, in run_study\\n    file_list=study_deploy_results.input_files)\\n  File \"/root/deephealth_utils/data/utils.py\", line 591, in get_study_metadata\\n    raise ValueError(f\"Field {field} could not be read\")\\nValueError: Field PatientName could not be read\\n'], 'studies_db_id': None, 'uid': None}\n",
      "Metadata is None\n",
      "Time to update cache:  0.0003573894500732422\n",
      "...took 5.462129354476929\n",
      "\n",
      " **************************************************************************************************************************\n",
      "************************************************ WARNING: ERRORS DISCOVERED ************************************************\n",
      "****************************************************************************************************************************\n",
      "No predictions made, printing output file located at /raid/mpsych/deepsight_out/kaggle_processed/d0b8f6c33f954e7a82a56b1085611e93/deepsight_out.txt for error information.\n",
      " =======================================================================\n",
      "||     DeepSight Mammography Research Software                          ||\n",
      "||     DeepSight is for research purposes only and not for clinical use ||\n",
      "||     DeepHealth, Inc.                                                 ||\n",
      "||     Version 58a38fc60eeb                                             ||\n",
      "||     Copyright © 2021 by DeepHealth, Inc.                             ||\n",
      "||     Bringing the Best Doctor in the World to Every Patient           ||\n",
      " =======================================================================\n",
      "\n",
      "/root/deephealth_utils/data/utils.py:26: UserWarning: No module named 'decode_hologic_sco'\n",
      "  warnings.warn(\"{}\".format(e))\n",
      "Using TensorFlow backend.\n",
      "/opt/conda/lib/python3.7/site-packages/tensorflow/python/framework/dtypes.py:516: FutureWarning: Passing (type, 1) or '1type' as a synonym of type is deprecated; in a future version of numpy, it will be understood as (type, (1,)) / '(1,)type'.\n",
      "  _np_qint8 = np.dtype([(\"qint8\", np.int8, 1)])\n",
      "/opt/conda/lib/python3.7/site-packages/tensorflow/python/framework/dtypes.py:517: FutureWarning: Passing (type, 1) or '1type' as a synonym of type is deprecated; in a future version of numpy, it will be understood as (type, (1,)) / '(1,)type'.\n",
      "  _np_quint8 = np.dtype([(\"quint8\", np.uint8, 1)])\n",
      "/opt/conda/lib/python3.7/site-packages/tensorflow/python/framework/dtypes.py:518: FutureWarning: Passing (type, 1) or '1type' as a synonym of type is deprecated; in a future version of numpy, it will be understood as (type, (1,)) / '(1,)type'.\n",
      "  _np_qint16 = np.dtype([(\"qint16\", np.int16, 1)])\n",
      "/opt/conda/lib/python3.7/site-packages/tensorflow/python/framework/dtypes.py:519: FutureWarning: Passing (type, 1) or '1type' as a synonym of type is deprecated; in a future version of numpy, it will be understood as (type, (1,)) / '(1,)type'.\n",
      "  _np_quint16 = np.dtype([(\"quint16\", np.uint16, 1)])\n",
      "/opt/conda/lib/python3.7/site-packages/tensorflow/python/framework/dtypes.py:520: FutureWarning: Passing (type, 1) or '1type' as a synonym of type is deprecated; in a future version of numpy, it will be understood as (type, (1,)) / '(1,)type'.\n",
      "  _np_qint32 = np.dtype([(\"qint32\", np.int32, 1)])\n",
      "/opt/conda/lib/python3.7/site-packages/tensorflow/python/framework/dtypes.py:525: FutureWarning: Passing (type, 1) or '1type' as a synonym of type is deprecated; in a future version of numpy, it will be understood as (type, (1,)) / '(1,)type'.\n",
      "  np_resource = np.dtype([(\"resource\", np.ubyte, 1)])\n",
      "/opt/conda/lib/python3.7/site-packages/tensorboard/compat/tensorflow_stub/dtypes.py:541: FutureWarning: Passing (type, 1) or '1type' as a synonym of type is deprecated; in a future version of numpy, it will be understood as (type, (1,)) / '(1,)type'.\n",
      "  _np_qint8 = np.dtype([(\"qint8\", np.int8, 1)])\n",
      "/opt/conda/lib/python3.7/site-packages/tensorboard/compat/tensorflow_stub/dtypes.py:542: FutureWarning: Passing (type, 1) or '1type' as a synonym of type is deprecated; in a future version of numpy, it will be understood as (type, (1,)) / '(1,)type'.\n",
      "  _np_quint8 = np.dtype([(\"quint8\", np.uint8, 1)])\n",
      "/opt/conda/lib/python3.7/site-packages/tensorboard/compat/tensorflow_stub/dtypes.py:543: FutureWarning: Passing (type, 1) or '1type' as a synonym of type is deprecated; in a future version of numpy, it will be understood as (type, (1,)) / '(1,)type'.\n",
      "  _np_qint16 = np.dtype([(\"qint16\", np.int16, 1)])\n",
      "/opt/conda/lib/python3.7/site-packages/tensorboard/compat/tensorflow_stub/dtypes.py:544: FutureWarning: Passing (type, 1) or '1type' as a synonym of type is deprecated; in a future version of numpy, it will be understood as (type, (1,)) / '(1,)type'.\n",
      "  _np_quint16 = np.dtype([(\"quint16\", np.uint16, 1)])\n",
      "/opt/conda/lib/python3.7/site-packages/tensorboard/compat/tensorflow_stub/dtypes.py:545: FutureWarning: Passing (type, 1) or '1type' as a synonym of type is deprecated; in a future version of numpy, it will be understood as (type, (1,)) / '(1,)type'.\n",
      "  _np_qint32 = np.dtype([(\"qint32\", np.int32, 1)])\n",
      "/opt/conda/lib/python3.7/site-packages/tensorboard/compat/tensorflow_stub/dtypes.py:550: FutureWarning: Passing (type, 1) or '1type' as a synonym of type is deprecated; in a future version of numpy, it will be understood as (type, (1,)) / '(1,)type'.\n",
      "  np_resource = np.dtype([(\"resource\", np.ubyte, 1)])\n",
      "-1 @@ Running on study: /raid/mpsych/kaggle_mammograms/original/test_images/10008 @@ None\n",
      "-1 @@ Cleaning engine... @@ None\n",
      "-1 @@ Engine is preprocessing files... @@ None\n",
      "0 @@ Processing study. @@ /raid/mpsych/kaggle_mammograms/original/test_images/10008\n",
      "4 @@ Image_Preprocess_CheckStudySize:0.0010116100311279297s;MEM:370585600 @@ 10008\n",
      "2 @@ /raid/mpsych/kaggle_mammograms/original/test_images/10008/736471439.dcm @@ /raid/mpsych/kaggle_mammograms/original/test_images/10008\n",
      "4 @@ Image_Preprocess_CheckFileSize:0.00037097930908203125s;MEM:370585600 @@ 10008;736471439.dcm\n",
      "4 @@ Image_DicomHeaderRead:0.0009543895721435547s;MEM:370663424 @@ 736471439.dcm\n",
      "4 @@ Image_Preprocess_Checker:0.009857177734375s;MEM:370716672 @@ 10008;736471439.dcm\n",
      "-1 @@ Start processing data 1677192612.8056383 @@ /raid/mpsych/kaggle_mammograms/original/test_images/10008\n",
      "5 @@ Error when extracting the study metadata for study '/raid/mpsych/kaggle_mammograms/original/test_images/10008' in an 'except' block.;   Traceback (most recent call last):;     File \"/root/centaur/centaur_deploy/deploys/base_deployer.py\", line 318, in run_study;       accepted = self.engine.preprocess(input_dir=self.config[Config.MODULE_IO, 'input_dir']);     File \"/root/centaur/centaur_engine/engine.py\", line 87, in preprocess;       passed = self.preprocessor.preprocess(self.file_list);     File \"/root/centaur/centaur_engine/preprocessor.py\", line 214, in preprocess;       np_data = set_pixel_array((dr, len(self.metadata), save_to_ram));     File \"/root/centaur/centaur_engine/helpers/helper_preprocessor.py\", line 124, in set_pixel_array;       orientation_change = get_orientation_change(dr.metadata['ImageLaterality'], dr.metadata['PatientOrientation']);     File \"/root/centaur/centaur_engine/helpers/helper_preprocessor.py\", line 21, in get_orientation_change;       patient_orientation_y = patient_orientation[1];   IndexError: list index out of range;   ;   During handling of the above exception, another exception occurred:;   ;   Traceback (most recent call last):;     File \"/root/centaur/centaur_deploy/deploys/base_deployer.py\", line 349, in run_study;       file_list=study_deploy_results.input_files);     File \"/root/deephealth_utils/data/utils.py\", line 591, in get_study_metadata;       raise ValueError(f\"Field {field} could not be read\");   ValueError: Field PatientName could not be read;    @@ None\n",
      "4 @@ Study_Total:0.1448502540588379s;MEM:370814976 @@ 10008\n",
      "-1 @@ Study results file saved (/root/output/10008/results_full.json) @@ 10008\n",
      "-1 @@ \u001B[31m\u001B[1m @@ None\n",
      "5 @@ Traceback (most recent call last):;     File \"/root/centaur/centaur_deploy/deploys/base_deployer.py\", line 318, in run_study;       accepted = self.engine.preprocess(input_dir=self.config[Config.MODULE_IO, 'input_dir']);     File \"/root/centaur/centaur_engine/engine.py\", line 87, in preprocess;       passed = self.preprocessor.preprocess(self.file_list);     File \"/root/centaur/centaur_engine/preprocessor.py\", line 214, in preprocess;       np_data = set_pixel_array((dr, len(self.metadata), save_to_ram));     File \"/root/centaur/centaur_engine/helpers/helper_preprocessor.py\", line 124, in set_pixel_array;       orientation_change = get_orientation_change(dr.metadata['ImageLaterality'], dr.metadata['PatientOrientation']);     File \"/root/centaur/centaur_engine/helpers/helper_preprocessor.py\", line 21, in get_orientation_change;       patient_orientation_y = patient_orientation[1];   IndexError: list index out of range;   ;   Error when extracting the study metadata for study '/raid/mpsych/kaggle_mammograms/original/test_images/10008' in an 'except' block.;   Traceback (most recent call last):;     File \"/root/centaur/centaur_deploy/deploys/base_deployer.py\", line 318, in run_study;       accepted = self.engine.preprocess(input_dir=self.config[Config.MODULE_IO, 'input_dir']);     File \"/root/centaur/centaur_engine/engine.py\", line 87, in preprocess;       passed = self.preprocessor.preprocess(self.file_list);     File \"/root/centaur/centaur_engine/preprocessor.py\", line 214, in preprocess;       np_data = set_pixel_array((dr, len(self.metadata), save_to_ram));     File \"/root/centaur/centaur_engine/helpers/helper_preprocessor.py\", line 124, in set_pixel_array;       orientation_change = get_orientation_change(dr.metadata['ImageLaterality'], dr.metadata['PatientOrientation']);     File \"/root/centaur/centaur_engine/helpers/helper_preprocessor.py\", line 21, in get_orientation_change;       patient_orientation_y = patient_orientation[1];   IndexError: list index out of range;   ;   During handling of the above exception, another exception occurred:;   ;   Traceback (most recent call last):;     File \"/root/centaur/centaur_deploy/deploys/base_deployer.py\", line 349, in run_study;       file_list=study_deploy_results.input_files);     File \"/root/deephealth_utils/data/utils.py\", line 591, in get_study_metadata;       raise ValueError(f\"Field {field} could not be read\");   ValueError: Field PatientName could not be read;    @@ None\n",
      "-1 @@ Study finished with errors. Study_Total:0.1451704502105713s;MEM:370814976 @@ 10008\n",
      "-1 @@ \u001B[0m @@ None\n",
      "4 @@ DEPLOY_TOTAL_RUN:0:00:00.154707s;MEM:371027968 @@ None\n",
      "\n"
     ]
    }
   ],
   "source": [
    "pred = K.KaggleSight.run(path2, timing=True)"
   ]
  },
  {
   "cell_type": "code",
   "execution_count": null,
   "id": "cc9998cb",
   "metadata": {},
   "outputs": [],
   "source": []
  },
  {
   "cell_type": "code",
   "execution_count": 37,
   "id": "ecdd862d",
   "metadata": {},
   "outputs": [],
   "source": [
    "path3 = '/raid/mpsych/KAGGLE_DS_IMAGES/1591370361.dcm'"
   ]
  },
  {
   "cell_type": "code",
   "execution_count": 38,
   "id": "6915e3ec",
   "metadata": {},
   "outputs": [
    {
     "name": "stdout",
     "output_type": "stream",
     "text": [
      "cases is a string\n",
      "cases is a path to a dicom\n",
      "study_uid_dict: {'KAGGLE_DS_IMAGES': ['1.2.840.10009.1.2.3.10008.1.1591370361']}\n",
      "Running KaggleSight on 1 cases, please be patient...\n",
      "/home/ryan.zurrin001/Projects/omama/kaggle/deepsight2.sh -i /raid -o /raid/mpsych/deepsight_out/kaggle_processed/fbb2050126234a8aa8275f4b92d0cc51/20230223_175019 -cl /raid/mpsych/deepsight_out/kaggle_processed/fbb2050126234a8aa8275f4b92d0cc51/caselist.txt --additional_params --checks_to_ignore PAC-10 FAC-140 FAC-200 SAC-30 GE-160 SAC-40 SAC-60 SAC-50 SAC-130 HOL-10 HOL-160 FAC-160 FAC-24 FAC-170 FAC-30 FAC-23 PAC-30 FAC-21 FAC-27 FAC-80 FAC-90 FAC-20 IAC-20 HOL-30 HOL-50 HOL-60 HOL-110 HOL-140 HOL-190 HOL-200 HOL-80 HOL-30 HOL-50 HOL-60 HOL-110 HOL-140 HOL-190 HOL-200 HOL-80 > /raid/mpsych/deepsight_out/kaggle_processed/fbb2050126234a8aa8275f4b92d0cc51/deepsight_out.txt 2>&1\n",
      "{'input_dir': '/raid/mpsych/KAGGLE_DS_IMAGES', 'input_files': ['/raid/mpsych/KAGGLE_DS_IMAGES/1591370361.dcm'], 'output_dir': '/root/output/KAGGLE_DS_IMAGES', '_metadata': None, 'study_metadata': None, '_checker_validation_passed': False, '_failed_acceptance_criteria_list': [], 'results_raw': None, 'results': None, 'results_file_name': 'results_full.json', 'reports_expected': [], 'reports_generated': {}, 'output_send_results': {}, 'preprocessed': False, 'predicted': False, 'outputs_sent': False, '_error_code': 1, '_error_messages': ['Traceback (most recent call last):\\n  File \"/root/centaur/centaur_deploy/deploys/base_deployer.py\", line 318, in run_study\\n    accepted = self.engine.preprocess(input_dir=self.config[Config.MODULE_IO, \\'input_dir\\'])\\n  File \"/root/centaur/centaur_engine/engine.py\", line 87, in preprocess\\n    passed = self.preprocessor.preprocess(self.file_list)\\n  File \"/root/centaur/centaur_engine/preprocessor.py\", line 214, in preprocess\\n    np_data = set_pixel_array((dr, len(self.metadata), save_to_ram))\\n  File \"/root/centaur/centaur_engine/helpers/helper_preprocessor.py\", line 124, in set_pixel_array\\n    orientation_change = get_orientation_change(dr.metadata[\\'ImageLaterality\\'], dr.metadata[\\'PatientOrientation\\'])\\n  File \"/root/centaur/centaur_engine/helpers/helper_preprocessor.py\", line 21, in get_orientation_change\\n    patient_orientation_y = patient_orientation[1]\\nIndexError: list index out of range\\n', 'Error when extracting the study metadata for study \\'/raid/mpsych/KAGGLE_DS_IMAGES\\' in an \\'except\\' block.\\nTraceback (most recent call last):\\n  File \"/root/centaur/centaur_deploy/deploys/base_deployer.py\", line 318, in run_study\\n    accepted = self.engine.preprocess(input_dir=self.config[Config.MODULE_IO, \\'input_dir\\'])\\n  File \"/root/centaur/centaur_engine/engine.py\", line 87, in preprocess\\n    passed = self.preprocessor.preprocess(self.file_list)\\n  File \"/root/centaur/centaur_engine/preprocessor.py\", line 214, in preprocess\\n    np_data = set_pixel_array((dr, len(self.metadata), save_to_ram))\\n  File \"/root/centaur/centaur_engine/helpers/helper_preprocessor.py\", line 124, in set_pixel_array\\n    orientation_change = get_orientation_change(dr.metadata[\\'ImageLaterality\\'], dr.metadata[\\'PatientOrientation\\'])\\n  File \"/root/centaur/centaur_engine/helpers/helper_preprocessor.py\", line 21, in get_orientation_change\\n    patient_orientation_y = patient_orientation[1]\\nIndexError: list index out of range\\n\\nDuring handling of the above exception, another exception occurred:\\n\\nTraceback (most recent call last):\\n  File \"/root/centaur/centaur_deploy/deploys/base_deployer.py\", line 349, in run_study\\n    file_list=study_deploy_results.input_files)\\n  File \"/root/deephealth_utils/data/utils.py\", line 591, in get_study_metadata\\n    raise ValueError(f\"Field {field} could not be read\")\\nValueError: Field PatientName could not be read\\n'], 'studies_db_id': None, 'uid': None}\n",
      "Metadata is None\n",
      "\n",
      " **************************************************************************************************************************\n",
      "************************************************ WARNING: ERRORS DISCOVERED ************************************************\n",
      "****************************************************************************************************************************\n",
      "No predictions made, printing output file located at /raid/mpsych/deepsight_out/kaggle_processed/fbb2050126234a8aa8275f4b92d0cc51/deepsight_out.txt for error information.\n",
      " =======================================================================\n",
      "||     DeepSight Mammography Research Software                          ||\n",
      "||     DeepSight is for research purposes only and not for clinical use ||\n",
      "||     DeepHealth, Inc.                                                 ||\n",
      "||     Version 58a38fc60eeb                                             ||\n",
      "||     Copyright © 2021 by DeepHealth, Inc.                             ||\n",
      "||     Bringing the Best Doctor in the World to Every Patient           ||\n",
      " =======================================================================\n",
      "\n",
      "/root/deephealth_utils/data/utils.py:26: UserWarning: No module named 'decode_hologic_sco'\n",
      "  warnings.warn(\"{}\".format(e))\n",
      "Using TensorFlow backend.\n",
      "/opt/conda/lib/python3.7/site-packages/tensorflow/python/framework/dtypes.py:516: FutureWarning: Passing (type, 1) or '1type' as a synonym of type is deprecated; in a future version of numpy, it will be understood as (type, (1,)) / '(1,)type'.\n",
      "  _np_qint8 = np.dtype([(\"qint8\", np.int8, 1)])\n",
      "/opt/conda/lib/python3.7/site-packages/tensorflow/python/framework/dtypes.py:517: FutureWarning: Passing (type, 1) or '1type' as a synonym of type is deprecated; in a future version of numpy, it will be understood as (type, (1,)) / '(1,)type'.\n",
      "  _np_quint8 = np.dtype([(\"quint8\", np.uint8, 1)])\n",
      "/opt/conda/lib/python3.7/site-packages/tensorflow/python/framework/dtypes.py:518: FutureWarning: Passing (type, 1) or '1type' as a synonym of type is deprecated; in a future version of numpy, it will be understood as (type, (1,)) / '(1,)type'.\n",
      "  _np_qint16 = np.dtype([(\"qint16\", np.int16, 1)])\n",
      "/opt/conda/lib/python3.7/site-packages/tensorflow/python/framework/dtypes.py:519: FutureWarning: Passing (type, 1) or '1type' as a synonym of type is deprecated; in a future version of numpy, it will be understood as (type, (1,)) / '(1,)type'.\n",
      "  _np_quint16 = np.dtype([(\"quint16\", np.uint16, 1)])\n",
      "/opt/conda/lib/python3.7/site-packages/tensorflow/python/framework/dtypes.py:520: FutureWarning: Passing (type, 1) or '1type' as a synonym of type is deprecated; in a future version of numpy, it will be understood as (type, (1,)) / '(1,)type'.\n",
      "  _np_qint32 = np.dtype([(\"qint32\", np.int32, 1)])\n",
      "/opt/conda/lib/python3.7/site-packages/tensorflow/python/framework/dtypes.py:525: FutureWarning: Passing (type, 1) or '1type' as a synonym of type is deprecated; in a future version of numpy, it will be understood as (type, (1,)) / '(1,)type'.\n",
      "  np_resource = np.dtype([(\"resource\", np.ubyte, 1)])\n",
      "/opt/conda/lib/python3.7/site-packages/tensorboard/compat/tensorflow_stub/dtypes.py:541: FutureWarning: Passing (type, 1) or '1type' as a synonym of type is deprecated; in a future version of numpy, it will be understood as (type, (1,)) / '(1,)type'.\n",
      "  _np_qint8 = np.dtype([(\"qint8\", np.int8, 1)])\n",
      "/opt/conda/lib/python3.7/site-packages/tensorboard/compat/tensorflow_stub/dtypes.py:542: FutureWarning: Passing (type, 1) or '1type' as a synonym of type is deprecated; in a future version of numpy, it will be understood as (type, (1,)) / '(1,)type'.\n",
      "  _np_quint8 = np.dtype([(\"quint8\", np.uint8, 1)])\n",
      "/opt/conda/lib/python3.7/site-packages/tensorboard/compat/tensorflow_stub/dtypes.py:543: FutureWarning: Passing (type, 1) or '1type' as a synonym of type is deprecated; in a future version of numpy, it will be understood as (type, (1,)) / '(1,)type'.\n",
      "  _np_qint16 = np.dtype([(\"qint16\", np.int16, 1)])\n",
      "/opt/conda/lib/python3.7/site-packages/tensorboard/compat/tensorflow_stub/dtypes.py:544: FutureWarning: Passing (type, 1) or '1type' as a synonym of type is deprecated; in a future version of numpy, it will be understood as (type, (1,)) / '(1,)type'.\n",
      "  _np_quint16 = np.dtype([(\"quint16\", np.uint16, 1)])\n",
      "/opt/conda/lib/python3.7/site-packages/tensorboard/compat/tensorflow_stub/dtypes.py:545: FutureWarning: Passing (type, 1) or '1type' as a synonym of type is deprecated; in a future version of numpy, it will be understood as (type, (1,)) / '(1,)type'.\n",
      "  _np_qint32 = np.dtype([(\"qint32\", np.int32, 1)])\n",
      "/opt/conda/lib/python3.7/site-packages/tensorboard/compat/tensorflow_stub/dtypes.py:550: FutureWarning: Passing (type, 1) or '1type' as a synonym of type is deprecated; in a future version of numpy, it will be understood as (type, (1,)) / '(1,)type'.\n",
      "  np_resource = np.dtype([(\"resource\", np.ubyte, 1)])\n",
      "-1 @@ Running on study: /raid/mpsych/KAGGLE_DS_IMAGES @@ None\n",
      "-1 @@ Cleaning engine... @@ None\n",
      "-1 @@ Engine is preprocessing files... @@ None\n",
      "0 @@ Processing study. @@ /raid/mpsych/KAGGLE_DS_IMAGES\n",
      "4 @@ Image_Preprocess_CheckStudySize:0.0010285377502441406s;MEM:370016256 @@ KAGGLE_DS_IMAGES\n",
      "2 @@ /raid/mpsych/KAGGLE_DS_IMAGES/1591370361.dcm @@ /raid/mpsych/KAGGLE_DS_IMAGES\n",
      "4 @@ Image_Preprocess_CheckFileSize:0.0003685951232910156s;MEM:370016256 @@ KAGGLE_DS_IMAGES;1591370361.dcm\n",
      "4 @@ Image_DicomHeaderRead:0.0009493827819824219s;MEM:370143232 @@ 1591370361.dcm\n",
      "4 @@ Image_Preprocess_Checker:0.00982522964477539s;MEM:370216960 @@ KAGGLE_DS_IMAGES;1591370361.dcm\n",
      "-1 @@ Start processing data 1677192623.826883 @@ /raid/mpsych/KAGGLE_DS_IMAGES\n",
      "5 @@ Error when extracting the study metadata for study '/raid/mpsych/KAGGLE_DS_IMAGES' in an 'except' block.;   Traceback (most recent call last):;     File \"/root/centaur/centaur_deploy/deploys/base_deployer.py\", line 318, in run_study;       accepted = self.engine.preprocess(input_dir=self.config[Config.MODULE_IO, 'input_dir']);     File \"/root/centaur/centaur_engine/engine.py\", line 87, in preprocess;       passed = self.preprocessor.preprocess(self.file_list);     File \"/root/centaur/centaur_engine/preprocessor.py\", line 214, in preprocess;       np_data = set_pixel_array((dr, len(self.metadata), save_to_ram));     File \"/root/centaur/centaur_engine/helpers/helper_preprocessor.py\", line 124, in set_pixel_array;       orientation_change = get_orientation_change(dr.metadata['ImageLaterality'], dr.metadata['PatientOrientation']);     File \"/root/centaur/centaur_engine/helpers/helper_preprocessor.py\", line 21, in get_orientation_change;       patient_orientation_y = patient_orientation[1];   IndexError: list index out of range;   ;   During handling of the above exception, another exception occurred:;   ;   Traceback (most recent call last):;     File \"/root/centaur/centaur_deploy/deploys/base_deployer.py\", line 349, in run_study;       file_list=study_deploy_results.input_files);     File \"/root/deephealth_utils/data/utils.py\", line 591, in get_study_metadata;       raise ValueError(f\"Field {field} could not be read\");   ValueError: Field PatientName could not be read;    @@ None\n",
      "4 @@ Study_Total:0.14641118049621582s;MEM:370323456 @@ KAGGLE_DS_IMAGES\n",
      "-1 @@ Study results file saved (/root/output/KAGGLE_DS_IMAGES/results_full.json) @@ KAGGLE_DS_IMAGES\n",
      "-1 @@ \u001B[31m\u001B[1m @@ None\n",
      "5 @@ Traceback (most recent call last):;     File \"/root/centaur/centaur_deploy/deploys/base_deployer.py\", line 318, in run_study;       accepted = self.engine.preprocess(input_dir=self.config[Config.MODULE_IO, 'input_dir']);     File \"/root/centaur/centaur_engine/engine.py\", line 87, in preprocess;       passed = self.preprocessor.preprocess(self.file_list);     File \"/root/centaur/centaur_engine/preprocessor.py\", line 214, in preprocess;       np_data = set_pixel_array((dr, len(self.metadata), save_to_ram));     File \"/root/centaur/centaur_engine/helpers/helper_preprocessor.py\", line 124, in set_pixel_array;       orientation_change = get_orientation_change(dr.metadata['ImageLaterality'], dr.metadata['PatientOrientation']);     File \"/root/centaur/centaur_engine/helpers/helper_preprocessor.py\", line 21, in get_orientation_change;       patient_orientation_y = patient_orientation[1];   IndexError: list index out of range;   ;   Error when extracting the study metadata for study '/raid/mpsych/KAGGLE_DS_IMAGES' in an 'except' block.;   Traceback (most recent call last):;     File \"/root/centaur/centaur_deploy/deploys/base_deployer.py\", line 318, in run_study;       accepted = self.engine.preprocess(input_dir=self.config[Config.MODULE_IO, 'input_dir']);     File \"/root/centaur/centaur_engine/engine.py\", line 87, in preprocess;       passed = self.preprocessor.preprocess(self.file_list);     File \"/root/centaur/centaur_engine/preprocessor.py\", line 214, in preprocess;       np_data = set_pixel_array((dr, len(self.metadata), save_to_ram));     File \"/root/centaur/centaur_engine/helpers/helper_preprocessor.py\", line 124, in set_pixel_array;       orientation_change = get_orientation_change(dr.metadata['ImageLaterality'], dr.metadata['PatientOrientation']);     File \"/root/centaur/centaur_engine/helpers/helper_preprocessor.py\", line 21, in get_orientation_change;       patient_orientation_y = patient_orientation[1];   IndexError: list index out of range;   ;   During handling of the above exception, another exception occurred:;   ;   Traceback (most recent call last):;     File \"/root/centaur/centaur_deploy/deploys/base_deployer.py\", line 349, in run_study;       file_list=study_deploy_results.input_files);     File \"/root/deephealth_utils/data/utils.py\", line 591, in get_study_metadata;       raise ValueError(f\"Field {field} could not be read\");   ValueError: Field PatientName could not be read;    @@ None\n",
      "-1 @@ Study finished with errors. Study_Total:0.14677000045776367s;MEM:370323456 @@ KAGGLE_DS_IMAGES\n",
      "-1 @@ \u001B[0m @@ None\n",
      "4 @@ DEPLOY_TOTAL_RUN:0:00:00.156418s;MEM:370532352 @@ None\n",
      "\n"
     ]
    }
   ],
   "source": [
    "pred = K.KaggleSight.run(path3)"
   ]
  },
  {
   "cell_type": "code",
   "execution_count": null,
   "id": "d4bb8c7b",
   "metadata": {},
   "outputs": [],
   "source": []
  }
 ],
 "metadata": {
  "kernelspec": {
   "display_name": "Python 3 (ipykernel)",
   "language": "python",
   "name": "python3"
  },
  "language_info": {
   "codemirror_mode": {
    "name": "ipython",
    "version": 3
   },
   "file_extension": ".py",
   "mimetype": "text/x-python",
   "name": "python",
   "nbconvert_exporter": "python",
   "pygments_lexer": "ipython3",
   "version": "3.9.7"
  }
 },
 "nbformat": 4,
 "nbformat_minor": 5
}
