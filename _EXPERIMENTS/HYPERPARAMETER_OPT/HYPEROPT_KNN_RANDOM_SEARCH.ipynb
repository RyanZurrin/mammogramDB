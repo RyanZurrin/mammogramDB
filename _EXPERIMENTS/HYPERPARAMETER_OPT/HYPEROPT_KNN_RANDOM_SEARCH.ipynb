{
 "cells": [
  {
   "cell_type": "markdown",
   "id": "f390fb43",
   "metadata": {},
   "source": [
    "# Randomized Search with Hyperopt\n",
    "\n",
    "In this notebook, we will perform Randomized Search to select the best hyperparameters for a Gradient Boosting Classifier, using the open source Python package Hyperopt.\n",
    "\n",
    "The randomized search is performed with the class rand.\n",
    "\n",
    "I find the documentation for Hyperopt quite unintuitive, so it helps to refer to the original article to understand the different parameters and classes.\n",
    "\n",
    "To step out of Scikit-learn, we will optimise the parameters of a Gradient Boosting Machine of the xgboost package.\n",
    "Procedure\n",
    "\n",
    "To tune the hyper-parameters of our model we need to:\n",
    "\n",
    "    define a model\n",
    "    define the hyperparameter space\n",
    "    define the objective function we want to minimize.\n",
    "\n"
   ]
  },
  {
   "cell_type": "code",
   "execution_count": 1,
   "id": "1916ea0a",
   "metadata": {},
   "outputs": [
    {
     "name": "stdout",
     "output_type": "stream",
     "text": [
      "Populating the interactive namespace from numpy and matplotlib\n"
     ]
    }
   ],
   "source": [
    "%pylab inline\n",
    "%load_ext autoreload\n",
    "%autoreload 2"
   ]
  },
  {
   "cell_type": "code",
   "execution_count": 2,
   "id": "432ddd61",
   "metadata": {},
   "outputs": [],
   "source": [
    "import sys\n",
    "sys.path.insert(0,'../..')\n",
    "import omama as O\n",
    "import numpy as np\n",
    "import pandas as pd\n",
    "import sklearn\n",
    "import warnings\n",
    "import matplotlib.pyplot as plt\n",
    "\n",
    "from sklearn.metrics import accuracy_score\n",
    "from sklearn.model_selection import cross_val_score, train_test_split\n",
    "\n",
    "from scipy.spatial.distance import braycurtis, canberra, chebyshev, correlation, dice, hamming, jaccard, kulsinski, mahalanobis, matching, minkowski, rogerstanimoto, russellrao, seuclidean, sokalmichener, sokalsneath, sqeuclidean, yule\n",
    "import scipy\n",
    "\n",
    "from sklearn.svm import SVC\n",
    "from sklearn.ensemble import RandomForestClassifier\n",
    "from sklearn.linear_model import LinearRegression\n",
    "from sklearn.linear_model import Ridge\n",
    "from sklearn.tree import DecisionTreeClassifier\n",
    "from sklearn.cluster import KMeans\n",
    "from sklearn import datasets, cluster\n",
    "\n",
    "from sklearn.model_selection import train_test_split\n",
    "from sklearn.utils.class_weight import compute_class_weight\n",
    "\n",
    "from sklearn.exceptions import ConvergenceWarning\n",
    "warnings.filterwarnings(\"ignore\", category=ConvergenceWarning)\n",
    "\n",
    "from hyperopt import hp, rand, fmin, Trials\n",
    "from pyod.models.knn import KNN\n",
    "import pickle\n",
    "import wandb"
   ]
  },
  {
   "cell_type": "code",
   "execution_count": 3,
   "id": "9950a518",
   "metadata": {},
   "outputs": [],
   "source": [
    "with open('/raid/mpsych/datasetA.pkl','rb') as f:\n",
    "    datasetA_X = pickle.load(f)\n",
    "    \n",
    "with open('/raid/mpsych/datasetA_labels.pkl', 'rb') as f1:\n",
    "    labels = np.asarray(pickle.load(f1))"
   ]
  },
  {
   "cell_type": "code",
   "execution_count": 51,
   "id": "a52c7e2b",
   "metadata": {
    "scrolled": false
   },
   "outputs": [],
   "source": [
    "X_feat_vect, filtered = O.Features.get_features(datasetA_X, 'hist', 'gaussian', sigma=20)"
   ]
  },
  {
   "cell_type": "code",
   "execution_count": 52,
   "id": "2c57d05d",
   "metadata": {},
   "outputs": [
    {
     "data": {
      "text/plain": [
       "<matplotlib.image.AxesImage at 0x7faf84562610>"
      ]
     },
     "execution_count": 52,
     "metadata": {},
     "output_type": "execute_result"
    },
    {
     "data": {
      "image/png": "[encoded data removed]",
      "text/plain": [
       "<Figure size 432x288 with 1 Axes>"
      ]
     },
     "metadata": {
      "needs_background": "light"
     },
     "output_type": "display_data"
    }
   ],
   "source": [
    "imshow(filtered[28])"
   ]
  },
  {
   "cell_type": "code",
   "execution_count": 53,
   "id": "bbfcfbf7",
   "metadata": {},
   "outputs": [
    {
     "data": {
      "text/plain": [
       "[array([3145750,   16160,   10108,    7546,    6080,    5116,    4501,\n",
       "           3964,    3589,    3314,    3038,    2847,    2637,    2488,\n",
       "           2383,    2270,    2159,    2020,    2014,    1911,    1832,\n",
       "           1797,    1737,    1661,    1623,    1575,    1585,    1477,\n",
       "           1500,    1426,    1415,    1370,    1385,    1316,    1317,\n",
       "           1293,    1275,    1256,    1230,    1177,    1233,    1177,\n",
       "           1170,    1174,    1111,    1146,    1106,    1103,    1126,\n",
       "           1055,    1089,    1049,    1061,    1073,    1033,    1047,\n",
       "           1017,    1026,    1009,    1023,    1001,    1000,     996,\n",
       "           1002,     955,    1009,     990,     948,     975,     989,\n",
       "            957,     979,     967,     942,     989,     960,     940,\n",
       "            983,     934,     992,     955,     963,     966,     963,\n",
       "            929,    1001,     961,     991,     951,     961,    1004,\n",
       "            967,     983,    1013,     962,    1024,    1011,     990,\n",
       "           1018,    1039,    1009,    1018,    1073,    1036,    1066,\n",
       "           1091,    1063,    1078,    1127,    1087,    1135,    1120,\n",
       "           1178,    1157,    1199,    1194,    1207,    1257,    1239,\n",
       "           1296,    1312,    1333,    1350,    1418,    1429,    1473,\n",
       "           1513,    1554,    1637,    1661,    1745,    1805,    1920,\n",
       "           2053,    2176,    2365,    3976,    5926,   10394,   17671,\n",
       "          17156,   11303,   11026,   12451,   12882,   11713,   18250,\n",
       "          35540,   37027,   44606,   34659,   21554,   15477,   16851,\n",
       "          15508,   14099,   13422,   15111,   16949,   24145,   26247,\n",
       "          26784,   30027,   30473,   28834,   25988,   23928,   23194,\n",
       "          23684,   22206,   18175,   15946,   15087,   15742,   14838,\n",
       "          13634,   13507,   12364,   11567,   12252,    9226,    6737,\n",
       "           6426,    6830,    6467,    5833,    5133,    5017,    4636,\n",
       "           4339,    3885,    3340,    2790,    2142,    2071,    2085,\n",
       "           2140,    2145,    2156,    2162,    2146,    2129,    2071,\n",
       "           2032,    2039,    2167,    2020,    1847,    1783,    1719,\n",
       "           1691,    1685,    1629,    1592,    1584,    1540,    1528,\n",
       "           1530,    1534,    1592,    1621,    1907,    2480,    2722,\n",
       "           2438,    2120,    1922,    1813,    1706,    1369,    1351,\n",
       "           1330,    1330,    1363,    1376,    1388,    1446,    1499,\n",
       "           1612,    1910,    1980,    1536,    1044,     955,     940,\n",
       "            965,     996,    1036,    1121,    1210,    1342,    1549,\n",
       "           2103,    4150,    1990,       1], dtype=uint32),\n",
       " array([      0,       0,       0,       0,       0,       0,       0,\n",
       "            401,   23147,  118881,  360088,  609311,  970535, 1268707,\n",
       "        1266935,  330657,   31218,   14621,   10335,    8087,    6899,\n",
       "           5906,    5211,    4720,    4324,    3979,    3760,    3515,\n",
       "           3156,    3022,    3053,    2808,    2563,    2686,    2372,\n",
       "           2429,    2375,    2111,    2310,    1924,    2192,    1878,\n",
       "           2059,    1779,    1954,    1764,    1730,    1855,    1562,\n",
       "           1819,    1511,    1661,    1661,    1429,    1703,    1405,\n",
       "           1510,    1563,    1344,    1503,    1480,    1254,    1528,\n",
       "           1372,    1293,    1407,    1383,    1186,    1422,    1325,\n",
       "           1171,    1358,    1302,    1160,    1299,    1299,    1120,\n",
       "           1231,    1296,    1171,    1180,    1246,    1237,    1088,\n",
       "           1258,    1184,    1077,    1190,    1185,    1162,    1129,\n",
       "           1180,    1156,    1098,    1197,    1106,    1119,    1139,\n",
       "           1157,    1088,    1159,    1131,    1105,    1123,    1109,\n",
       "           1180,    1062,    1166,    1141,    1045,    1177,    1094,\n",
       "           1167,    1061,    1177,    1161,    1049,    1184,    1097,\n",
       "           1138,    1140,    1136,    1216,    1081,    1152,    1260,\n",
       "           1060,    1188,    1165,    1180,    1188,    1147,    1258,\n",
       "           1144,    1201,    1273,    1162,    1251,    1243,    1213,\n",
       "           1289,    1253,    1255,    1309,    1294,    1282,    1368,\n",
       "           1289,    1321,    1426,    1340,    1364,    1476,    1385,\n",
       "           1436,    1495,    1461,    1591,    1486,    1613,    1603,\n",
       "           1652,    1757,    1716,    1919,    1729,    2008,    1824,\n",
       "           2060,    1956,    2152,    2039,    2312,    2233,    2404,\n",
       "           2557,    2506,    2880,    3041,    3168,    3396,    3794,\n",
       "           4216,    4468,    4939,    5599,   12483,   21039,   31041,\n",
       "          44539,   77829,   93647,   91697,   80993,   70506,   72969,\n",
       "          68475,   53895,   49241,   43367,   43841,   43186,   49535,\n",
       "          48571,   50511,   41458,   39964,   41155,   38409,   36730,\n",
       "          37583,   35106,   37804,   38583,   39398,   48555,   46444,\n",
       "          47622,   44546,   40958,   56146,   52613,   37154,   26234,\n",
       "          23356,   22336,   20032,   14454,   10859,    9278,    6613,\n",
       "           5504,    4994,    5581,    5016,    4958,    4777,    4094,\n",
       "           3894,    3822,    3632,    3419,    3329,    3342,    3187,\n",
       "           3068,    3171,    2540,    2882,    2971,    1540,    1391,\n",
       "           1366,    1634,     554,       1], dtype=uint32),\n",
       " array([      0,       0,       0,       0,       0,       0,       0,\n",
       "              0,       0,       0,       0,       0,       0,       0,\n",
       "              0,       0,       0,       0,       0,       0,       0,\n",
       "              0,       0,       0,   16507,   51022,  323261, 1056665,\n",
       "         814925,  135140,   52123,   12422,    9391,    7549,    6574,\n",
       "           5802,    5217,    4789,    4358,    4006,    3651,    3457,\n",
       "           3280,    3080,    2944,    2830,    2637,    2620,    2482,\n",
       "           2359,    2367,    2180,    2232,    2077,    2067,    1978,\n",
       "           1954,    1871,    1859,    1830,    1785,    1754,    1701,\n",
       "           1646,    1677,    1629,    1570,    1607,    1504,    1545,\n",
       "           1489,    1445,    1529,    1402,    1418,    1438,    1355,\n",
       "           1414,    1356,    1316,    1392,    1304,    1298,    1309,\n",
       "           1307,    1246,    1286,    1291,    1202,    1260,    1232,\n",
       "           1236,    1175,    1235,    1244,    1145,    1228,    1147,\n",
       "           1231,    1141,    1174,    1149,    1202,    1146,    1117,\n",
       "           1193,    1166,    1102,    1105,    1212,    1135,    1078,\n",
       "           1128,    1193,    1111,    1083,    1162,    1159,    1102,\n",
       "           1123,    1163,    1108,    1144,    1120,    1125,    1136,\n",
       "           1168,    1102,    1110,    1182,    1150,    1130,    1119,\n",
       "           1186,    1208,    1125,    1112,    1231,    1182,    1168,\n",
       "           1162,    1233,    1193,    1205,    1237,    1194,    1257,\n",
       "           1260,    1199,    1266,    1320,    1263,    1233,    1391,\n",
       "           1269,    1352,    1290,    1416,    1389,    1366,    1405,\n",
       "           1470,    1491,    1411,    1471,    1643,    1463,    1600,\n",
       "           1624,    1658,    1673,    1740,    1779,    1825,    1813,\n",
       "           1997,    1970,    2073,    2968,    3445,    3762,    4263,\n",
       "           4944,    4423,    4495,    4759,    4831,    6014,    6308,\n",
       "           7259,    8485,   10894,   14559,   15071,   18179,   21226,\n",
       "          20494,   28527,   26333,   28382,   29852,   42237,   57082,\n",
       "          72618,   63141,   60404,   63592,   86508,   95118,   89167,\n",
       "          82026,   73315,   58017,   45337,   36999,   36979,   28977,\n",
       "          25833,   21977,   18865,   22010,   19442,   17604,   21008,\n",
       "          18963,   16720,   16668,   16560,   16671,   16446,   16926,\n",
       "          16830,   16538,   18242,   21532,   16598,   12155,    8614,\n",
       "           5847,    5225,    2860,    1833,    1151,    1045,     750,\n",
       "            749,     756,     775,     806,     905,    1143,    1581,\n",
       "           1238,     295,     159,       1], dtype=uint32)]"
      ]
     },
     "execution_count": 53,
     "metadata": {},
     "output_type": "execute_result"
    }
   ],
   "source": [
    "X_feat_vect[:3]"
   ]
  },
  {
   "cell_type": "code",
   "execution_count": null,
   "id": "c926cf8d",
   "metadata": {},
   "outputs": [],
   "source": []
  },
  {
   "cell_type": "code",
   "execution_count": 54,
   "id": "9bf9c6dc",
   "metadata": {},
   "outputs": [],
   "source": [
    "X = pd.DataFrame(X_feat_vect)"
   ]
  },
  {
   "cell_type": "code",
   "execution_count": 55,
   "id": "aff6402d",
   "metadata": {
    "scrolled": true
   },
   "outputs": [],
   "source": [
    "y = pd.Series(labels)"
   ]
  },
  {
   "cell_type": "code",
   "execution_count": 56,
   "id": "ea183408",
   "metadata": {},
   "outputs": [
    {
     "data": {
      "text/plain": [
       "0    0.92\n",
       "1    0.08\n",
       "dtype: float64"
      ]
     },
     "execution_count": 56,
     "metadata": {},
     "output_type": "execute_result"
    }
   ],
   "source": [
    "# the target:\n",
    "# percentage of unwanted images (0) to wanted images (1)\n",
    "\n",
    "y.value_counts() / len(y)"
   ]
  },
  {
   "cell_type": "code",
   "execution_count": 57,
   "id": "c58f800a",
   "metadata": {},
   "outputs": [
    {
     "data": {
      "text/plain": [
       "((80, 256), (20, 256))"
      ]
     },
     "execution_count": 57,
     "metadata": {},
     "output_type": "execute_result"
    }
   ],
   "source": [
    "X_train, X_test, y_train, y_test = train_test_split(\n",
    "    X, y, test_size=0.2, random_state=0\n",
    ")\n",
    "X_train.shape, X_test.shape"
   ]
  },
  {
   "cell_type": "code",
   "execution_count": 58,
   "id": "ae491d8e",
   "metadata": {},
   "outputs": [
    {
     "data": {
      "text/html": [
       "<div>\n",
       "<style scoped>\n",
       "    .dataframe tbody tr th:only-of-type {\n",
       "        vertical-align: middle;\n",
       "    }\n",
       "\n",
       "    .dataframe tbody tr th {\n",
       "        vertical-align: top;\n",
       "    }\n",
       "\n",
       "    .dataframe thead th {\n",
       "        text-align: right;\n",
       "    }\n",
       "</style>\n",
       "<table border=\"1\" class=\"dataframe\">\n",
       "  <thead>\n",
       "    <tr style=\"text-align: right;\">\n",
       "      <th></th>\n",
       "      <th>0</th>\n",
       "      <th>1</th>\n",
       "      <th>2</th>\n",
       "      <th>3</th>\n",
       "      <th>4</th>\n",
       "      <th>5</th>\n",
       "      <th>6</th>\n",
       "      <th>7</th>\n",
       "      <th>8</th>\n",
       "      <th>9</th>\n",
       "      <th>...</th>\n",
       "      <th>246</th>\n",
       "      <th>247</th>\n",
       "      <th>248</th>\n",
       "      <th>249</th>\n",
       "      <th>250</th>\n",
       "      <th>251</th>\n",
       "      <th>252</th>\n",
       "      <th>253</th>\n",
       "      <th>254</th>\n",
       "      <th>255</th>\n",
       "    </tr>\n",
       "  </thead>\n",
       "  <tbody>\n",
       "    <tr>\n",
       "      <th>43</th>\n",
       "      <td>0</td>\n",
       "      <td>0</td>\n",
       "      <td>0</td>\n",
       "      <td>0</td>\n",
       "      <td>0</td>\n",
       "      <td>0</td>\n",
       "      <td>0</td>\n",
       "      <td>0</td>\n",
       "      <td>0</td>\n",
       "      <td>0</td>\n",
       "      <td>...</td>\n",
       "      <td>8652</td>\n",
       "      <td>9320</td>\n",
       "      <td>12019</td>\n",
       "      <td>14152</td>\n",
       "      <td>10619</td>\n",
       "      <td>7692</td>\n",
       "      <td>5404</td>\n",
       "      <td>2588</td>\n",
       "      <td>1790</td>\n",
       "      <td>1</td>\n",
       "    </tr>\n",
       "    <tr>\n",
       "      <th>62</th>\n",
       "      <td>0</td>\n",
       "      <td>0</td>\n",
       "      <td>0</td>\n",
       "      <td>0</td>\n",
       "      <td>0</td>\n",
       "      <td>0</td>\n",
       "      <td>0</td>\n",
       "      <td>0</td>\n",
       "      <td>0</td>\n",
       "      <td>0</td>\n",
       "      <td>...</td>\n",
       "      <td>4108</td>\n",
       "      <td>4378</td>\n",
       "      <td>2661</td>\n",
       "      <td>1819</td>\n",
       "      <td>1442</td>\n",
       "      <td>1233</td>\n",
       "      <td>523</td>\n",
       "      <td>433</td>\n",
       "      <td>399</td>\n",
       "      <td>1</td>\n",
       "    </tr>\n",
       "    <tr>\n",
       "      <th>3</th>\n",
       "      <td>0</td>\n",
       "      <td>0</td>\n",
       "      <td>0</td>\n",
       "      <td>0</td>\n",
       "      <td>0</td>\n",
       "      <td>0</td>\n",
       "      <td>0</td>\n",
       "      <td>0</td>\n",
       "      <td>0</td>\n",
       "      <td>0</td>\n",
       "      <td>...</td>\n",
       "      <td>2523</td>\n",
       "      <td>2697</td>\n",
       "      <td>2876</td>\n",
       "      <td>3361</td>\n",
       "      <td>2426</td>\n",
       "      <td>2210</td>\n",
       "      <td>2382</td>\n",
       "      <td>1118</td>\n",
       "      <td>760</td>\n",
       "      <td>1</td>\n",
       "    </tr>\n",
       "    <tr>\n",
       "      <th>71</th>\n",
       "      <td>0</td>\n",
       "      <td>0</td>\n",
       "      <td>0</td>\n",
       "      <td>0</td>\n",
       "      <td>0</td>\n",
       "      <td>0</td>\n",
       "      <td>0</td>\n",
       "      <td>0</td>\n",
       "      <td>0</td>\n",
       "      <td>0</td>\n",
       "      <td>...</td>\n",
       "      <td>51</td>\n",
       "      <td>57</td>\n",
       "      <td>60</td>\n",
       "      <td>59</td>\n",
       "      <td>68</td>\n",
       "      <td>75</td>\n",
       "      <td>104</td>\n",
       "      <td>83</td>\n",
       "      <td>74</td>\n",
       "      <td>1</td>\n",
       "    </tr>\n",
       "    <tr>\n",
       "      <th>45</th>\n",
       "      <td>9109678</td>\n",
       "      <td>51444</td>\n",
       "      <td>34771</td>\n",
       "      <td>27999</td>\n",
       "      <td>24230</td>\n",
       "      <td>22069</td>\n",
       "      <td>20657</td>\n",
       "      <td>19973</td>\n",
       "      <td>19810</td>\n",
       "      <td>20021</td>\n",
       "      <td>...</td>\n",
       "      <td>125</td>\n",
       "      <td>115</td>\n",
       "      <td>123</td>\n",
       "      <td>115</td>\n",
       "      <td>121</td>\n",
       "      <td>125</td>\n",
       "      <td>119</td>\n",
       "      <td>125</td>\n",
       "      <td>122</td>\n",
       "      <td>1</td>\n",
       "    </tr>\n",
       "    <tr>\n",
       "      <th>...</th>\n",
       "      <td>...</td>\n",
       "      <td>...</td>\n",
       "      <td>...</td>\n",
       "      <td>...</td>\n",
       "      <td>...</td>\n",
       "      <td>...</td>\n",
       "      <td>...</td>\n",
       "      <td>...</td>\n",
       "      <td>...</td>\n",
       "      <td>...</td>\n",
       "      <td>...</td>\n",
       "      <td>...</td>\n",
       "      <td>...</td>\n",
       "      <td>...</td>\n",
       "      <td>...</td>\n",
       "      <td>...</td>\n",
       "      <td>...</td>\n",
       "      <td>...</td>\n",
       "      <td>...</td>\n",
       "      <td>...</td>\n",
       "      <td>...</td>\n",
       "    </tr>\n",
       "    <tr>\n",
       "      <th>96</th>\n",
       "      <td>9306405</td>\n",
       "      <td>29365</td>\n",
       "      <td>18657</td>\n",
       "      <td>14007</td>\n",
       "      <td>11361</td>\n",
       "      <td>9705</td>\n",
       "      <td>8509</td>\n",
       "      <td>7581</td>\n",
       "      <td>6936</td>\n",
       "      <td>6392</td>\n",
       "      <td>...</td>\n",
       "      <td>57</td>\n",
       "      <td>61</td>\n",
       "      <td>63</td>\n",
       "      <td>57</td>\n",
       "      <td>57</td>\n",
       "      <td>55</td>\n",
       "      <td>66</td>\n",
       "      <td>55</td>\n",
       "      <td>59</td>\n",
       "      <td>1</td>\n",
       "    </tr>\n",
       "    <tr>\n",
       "      <th>67</th>\n",
       "      <td>5727330</td>\n",
       "      <td>27891</td>\n",
       "      <td>17744</td>\n",
       "      <td>13292</td>\n",
       "      <td>10851</td>\n",
       "      <td>9329</td>\n",
       "      <td>8092</td>\n",
       "      <td>7358</td>\n",
       "      <td>6663</td>\n",
       "      <td>6179</td>\n",
       "      <td>...</td>\n",
       "      <td>294</td>\n",
       "      <td>260</td>\n",
       "      <td>249</td>\n",
       "      <td>231</td>\n",
       "      <td>206</td>\n",
       "      <td>204</td>\n",
       "      <td>195</td>\n",
       "      <td>187</td>\n",
       "      <td>181</td>\n",
       "      <td>1</td>\n",
       "    </tr>\n",
       "    <tr>\n",
       "      <th>64</th>\n",
       "      <td>5203277</td>\n",
       "      <td>24739</td>\n",
       "      <td>15512</td>\n",
       "      <td>11421</td>\n",
       "      <td>9214</td>\n",
       "      <td>7846</td>\n",
       "      <td>6682</td>\n",
       "      <td>6157</td>\n",
       "      <td>5367</td>\n",
       "      <td>4907</td>\n",
       "      <td>...</td>\n",
       "      <td>221</td>\n",
       "      <td>217</td>\n",
       "      <td>193</td>\n",
       "      <td>183</td>\n",
       "      <td>181</td>\n",
       "      <td>158</td>\n",
       "      <td>155</td>\n",
       "      <td>146</td>\n",
       "      <td>140</td>\n",
       "      <td>1</td>\n",
       "    </tr>\n",
       "    <tr>\n",
       "      <th>47</th>\n",
       "      <td>523925</td>\n",
       "      <td>550646</td>\n",
       "      <td>479053</td>\n",
       "      <td>839390</td>\n",
       "      <td>251338</td>\n",
       "      <td>21221</td>\n",
       "      <td>12627</td>\n",
       "      <td>9406</td>\n",
       "      <td>7566</td>\n",
       "      <td>6409</td>\n",
       "      <td>...</td>\n",
       "      <td>12573</td>\n",
       "      <td>15515</td>\n",
       "      <td>19801</td>\n",
       "      <td>25927</td>\n",
       "      <td>34339</td>\n",
       "      <td>46233</td>\n",
       "      <td>66328</td>\n",
       "      <td>110929</td>\n",
       "      <td>455360</td>\n",
       "      <td>1</td>\n",
       "    </tr>\n",
       "    <tr>\n",
       "      <th>44</th>\n",
       "      <td>3772398</td>\n",
       "      <td>25267</td>\n",
       "      <td>15763</td>\n",
       "      <td>11672</td>\n",
       "      <td>9434</td>\n",
       "      <td>7980</td>\n",
       "      <td>6865</td>\n",
       "      <td>6130</td>\n",
       "      <td>5595</td>\n",
       "      <td>5012</td>\n",
       "      <td>...</td>\n",
       "      <td>1802</td>\n",
       "      <td>1773</td>\n",
       "      <td>1746</td>\n",
       "      <td>1705</td>\n",
       "      <td>1740</td>\n",
       "      <td>1781</td>\n",
       "      <td>1433</td>\n",
       "      <td>1336</td>\n",
       "      <td>737</td>\n",
       "      <td>1</td>\n",
       "    </tr>\n",
       "  </tbody>\n",
       "</table>\n",
       "<p>80 rows × 256 columns</p>\n",
       "</div>"
      ],
      "text/plain": [
       "        0       1       2       3       4      5      6      7      8    \\\n",
       "43        0       0       0       0       0      0      0      0      0   \n",
       "62        0       0       0       0       0      0      0      0      0   \n",
       "3         0       0       0       0       0      0      0      0      0   \n",
       "71        0       0       0       0       0      0      0      0      0   \n",
       "45  9109678   51444   34771   27999   24230  22069  20657  19973  19810   \n",
       "..      ...     ...     ...     ...     ...    ...    ...    ...    ...   \n",
       "96  9306405   29365   18657   14007   11361   9705   8509   7581   6936   \n",
       "67  5727330   27891   17744   13292   10851   9329   8092   7358   6663   \n",
       "64  5203277   24739   15512   11421    9214   7846   6682   6157   5367   \n",
       "47   523925  550646  479053  839390  251338  21221  12627   9406   7566   \n",
       "44  3772398   25267   15763   11672    9434   7980   6865   6130   5595   \n",
       "\n",
       "      9    ...    246    247    248    249    250    251    252     253  \\\n",
       "43      0  ...   8652   9320  12019  14152  10619   7692   5404    2588   \n",
       "62      0  ...   4108   4378   2661   1819   1442   1233    523     433   \n",
       "3       0  ...   2523   2697   2876   3361   2426   2210   2382    1118   \n",
       "71      0  ...     51     57     60     59     68     75    104      83   \n",
       "45  20021  ...    125    115    123    115    121    125    119     125   \n",
       "..    ...  ...    ...    ...    ...    ...    ...    ...    ...     ...   \n",
       "96   6392  ...     57     61     63     57     57     55     66      55   \n",
       "67   6179  ...    294    260    249    231    206    204    195     187   \n",
       "64   4907  ...    221    217    193    183    181    158    155     146   \n",
       "47   6409  ...  12573  15515  19801  25927  34339  46233  66328  110929   \n",
       "44   5012  ...   1802   1773   1746   1705   1740   1781   1433    1336   \n",
       "\n",
       "       254  255  \n",
       "43    1790    1  \n",
       "62     399    1  \n",
       "3      760    1  \n",
       "71      74    1  \n",
       "45     122    1  \n",
       "..     ...  ...  \n",
       "96      59    1  \n",
       "67     181    1  \n",
       "64     140    1  \n",
       "47  455360    1  \n",
       "44     737    1  \n",
       "\n",
       "[80 rows x 256 columns]"
      ]
     },
     "execution_count": 58,
     "metadata": {},
     "output_type": "execute_result"
    }
   ],
   "source": [
    "X_train"
   ]
  },
  {
   "cell_type": "code",
   "execution_count": 59,
   "id": "a82189c7",
   "metadata": {},
   "outputs": [
    {
     "name": "stdout",
     "output_type": "stream",
     "text": [
      "{43: 0, 62: 0, 3: 0, 71: 0, 45: 0, 48: 1, 6: 0, 99: 0, 82: 0, 76: 0, 60: 0, 80: 0, 90: 1, 68: 0, 51: 0, 27: 1, 18: 0, 56: 0, 63: 1, 74: 0, 1: 0, 61: 1, 42: 0, 41: 0, 4: 0, 15: 0, 17: 0, 40: 0, 38: 1, 5: 0, 91: 0, 59: 0, 0: 0, 34: 0, 28: 0, 50: 0, 11: 0, 35: 0, 23: 0, 52: 0, 10: 0, 31: 0, 66: 0, 57: 0, 79: 0, 85: 0, 32: 0, 84: 0, 14: 0, 89: 0, 19: 0, 29: 0, 49: 0, 97: 0, 98: 0, 69: 0, 20: 0, 94: 0, 72: 0, 77: 0, 25: 0, 37: 0, 81: 1, 46: 0, 39: 0, 65: 0, 58: 0, 12: 0, 88: 0, 70: 0, 87: 0, 36: 0, 21: 0, 83: 0, 9: 0, 96: 0, 67: 0, 64: 0, 47: 1, 44: 0}\n"
     ]
    }
   ],
   "source": [
    "print(dict(y_train))"
   ]
  },
  {
   "cell_type": "code",
   "execution_count": 60,
   "id": "2e9b1159",
   "metadata": {},
   "outputs": [
    {
     "data": {
      "text/plain": [
       "(array([27, 38, 47, 48, 61, 63, 81, 90]),)"
      ]
     },
     "execution_count": 60,
     "metadata": {},
     "output_type": "execute_result"
    }
   ],
   "source": [
    "np.where(np.array(labels) > 0)"
   ]
  },
  {
   "cell_type": "code",
   "execution_count": null,
   "id": "3093053e",
   "metadata": {},
   "outputs": [],
   "source": []
  },
  {
   "cell_type": "code",
   "execution_count": null,
   "id": "fa440335",
   "metadata": {},
   "outputs": [],
   "source": []
  },
  {
   "cell_type": "markdown",
   "id": "f4fc1021",
   "metadata": {},
   "source": [
    "## Define the Hyperparameter Space\n",
    "\n",
    "- [Hyperopt search space](http://hyperopt.github.io/hyperopt/getting-started/search_spaces/)\n",
    "\n",
    "- [xgb.XGBClassifier hyperparameters](https://xgboost.readthedocs.io/en/latest/python/python_api.html#xgboost.XGBClassifier)\n",
    "\n",
    "- [xgb general parameters](https://xgboost.readthedocs.io/en/latest/parameter.html)"
   ]
  },
  {
   "cell_type": "code",
   "execution_count": 61,
   "id": "1f6cb83b",
   "metadata": {},
   "outputs": [],
   "source": [
    "# determine the hyperparameter space\n",
    "\n",
    "param_grid = {\n",
    "    'contamination': hp.uniform('contamination', 0.07, .1),\n",
    "    'n_neighbors': hp.uniformint('n_neighbors', 1, 50),\n",
    "    'method': hp.choice('method', ['largest', 'mean', 'median']),\n",
    "    'radius': hp.quniform('radius', 0.0, 5.0, .1),\n",
    "    'leaf_size': hp.uniformint('leaf_size', 1, 100),\n",
    "    'metric': hp.choice('metric', ['minkowski', 'cityblock', 'euclidean', 'l1', 'l2', 'manhattan', \n",
    "                                  ]),\n",
    "    'p': hp.uniformint('p', 1, 10),\n",
    "    'n_jobs': hp.uniformint('n_jobs', 1, 4)\n",
    "}"
   ]
  },
  {
   "cell_type": "code",
   "execution_count": 62,
   "id": "282ba0ef",
   "metadata": {},
   "outputs": [
    {
     "data": {
      "text/plain": [
       "dict_keys(['explained_variance', 'r2', 'max_error', 'neg_median_absolute_error', 'neg_mean_absolute_error', 'neg_mean_absolute_percentage_error', 'neg_mean_squared_error', 'neg_mean_squared_log_error', 'neg_root_mean_squared_error', 'neg_mean_poisson_deviance', 'neg_mean_gamma_deviance', 'accuracy', 'top_k_accuracy', 'roc_auc', 'roc_auc_ovr', 'roc_auc_ovo', 'roc_auc_ovr_weighted', 'roc_auc_ovo_weighted', 'balanced_accuracy', 'average_precision', 'neg_log_loss', 'neg_brier_score', 'adjusted_rand_score', 'rand_score', 'homogeneity_score', 'completeness_score', 'v_measure_score', 'mutual_info_score', 'adjusted_mutual_info_score', 'normalized_mutual_info_score', 'fowlkes_mallows_score', 'precision', 'precision_macro', 'precision_micro', 'precision_samples', 'precision_weighted', 'recall', 'recall_macro', 'recall_micro', 'recall_samples', 'recall_weighted', 'f1', 'f1_macro', 'f1_micro', 'f1_samples', 'f1_weighted', 'jaccard', 'jaccard_macro', 'jaccard_micro', 'jaccard_samples', 'jaccard_weighted'])"
      ]
     },
     "execution_count": 62,
     "metadata": {},
     "output_type": "execute_result"
    }
   ],
   "source": [
    "sklearn.metrics.SCORERS.keys()"
   ]
  },
  {
   "cell_type": "code",
   "execution_count": null,
   "id": "2ce7d74c",
   "metadata": {},
   "outputs": [],
   "source": []
  },
  {
   "cell_type": "code",
   "execution_count": 68,
   "id": "b3ac1cf7",
   "metadata": {},
   "outputs": [
    {
     "data": {
      "text/html": [
       "Finishing last run (ID:agilsktx) before initializing another..."
      ],
      "text/plain": [
       "<IPython.core.display.HTML object>"
      ]
     },
     "metadata": {},
     "output_type": "display_data"
    },
    {
     "data": {
      "text/html": [
       "Waiting for W&B process to finish... <strong style=\"color:green\">(success).</strong>"
      ],
      "text/plain": [
       "<IPython.core.display.HTML object>"
      ]
     },
     "metadata": {},
     "output_type": "display_data"
    },
    {
     "data": {
      "application/vnd.jupyter.widget-view+json": {
       "model_id": "8811e55ebe1947eeaa9154e5fa4fd90a",
       "version_major": 2,
       "version_minor": 0
      },
      "text/plain": [
       "VBox(children=(Label(value='0.027 MB of 0.027 MB uploaded (0.000 MB deduped)\\r'), FloatProgress(value=1.0, max…"
      ]
     },
     "metadata": {},
     "output_type": "display_data"
    },
    {
     "data": {
      "text/html": [
       " View run <strong style=\"color:#cdcd00\">exalted-aardvark-43</strong> at: <a href=\"https://wandb.ai/ryanzurrin/omama-hyperopt/runs/agilsktx\" target=\"_blank\">https://wandb.ai/ryanzurrin/omama-hyperopt/runs/agilsktx</a><br/>Synced 6 W&B file(s), 0 media file(s), 0 artifact file(s) and 0 other file(s)"
      ],
      "text/plain": [
       "<IPython.core.display.HTML object>"
      ]
     },
     "metadata": {},
     "output_type": "display_data"
    },
    {
     "data": {
      "text/html": [
       "Find logs at: <code>./wandb/run-20230223_173328-agilsktx/logs</code>"
      ],
      "text/plain": [
       "<IPython.core.display.HTML object>"
      ]
     },
     "metadata": {},
     "output_type": "display_data"
    },
    {
     "data": {
      "text/html": [
       "Successfully finished last run (ID:agilsktx). Initializing new run:<br/>"
      ],
      "text/plain": [
       "<IPython.core.display.HTML object>"
      ]
     },
     "metadata": {},
     "output_type": "display_data"
    },
    {
     "data": {
      "text/html": [
       "wandb version 0.13.10 is available!  To upgrade, please run:\n",
       " $ pip install wandb --upgrade"
      ],
      "text/plain": [
       "<IPython.core.display.HTML object>"
      ]
     },
     "metadata": {},
     "output_type": "display_data"
    },
    {
     "data": {
      "text/html": [
       "Tracking run with wandb version 0.13.9"
      ],
      "text/plain": [
       "<IPython.core.display.HTML object>"
      ]
     },
     "metadata": {},
     "output_type": "display_data"
    },
    {
     "data": {
      "text/html": [
       "Run data is saved locally in <code>/home/ryan.zurrin001/Projects/omama/_EXPERIMENTS/HYPERPARAMETER_OPT/wandb/run-20230223_173446-xq7twopx</code>"
      ],
      "text/plain": [
       "<IPython.core.display.HTML object>"
      ]
     },
     "metadata": {},
     "output_type": "display_data"
    },
    {
     "data": {
      "text/html": [
       "Syncing run <strong><a href=\"https://wandb.ai/ryanzurrin/omama-hyperopt/runs/xq7twopx\" target=\"_blank\">lilac-moon-44</a></strong> to <a href=\"https://wandb.ai/ryanzurrin/omama-hyperopt\" target=\"_blank\">Weights & Biases</a> (<a href=\"https://wandb.me/run\" target=\"_blank\">docs</a>)<br/>"
      ],
      "text/plain": [
       "<IPython.core.display.HTML object>"
      ]
     },
     "metadata": {},
     "output_type": "display_data"
    },
    {
     "data": {
      "text/html": [
       " View project at <a href=\"https://wandb.ai/ryanzurrin/omama-hyperopt\" target=\"_blank\">https://wandb.ai/ryanzurrin/omama-hyperopt</a>"
      ],
      "text/plain": [
       "<IPython.core.display.HTML object>"
      ]
     },
     "metadata": {},
     "output_type": "display_data"
    },
    {
     "data": {
      "text/html": [
       " View run at <a href=\"https://wandb.ai/ryanzurrin/omama-hyperopt/runs/xq7twopx\" target=\"_blank\">https://wandb.ai/ryanzurrin/omama-hyperopt/runs/xq7twopx</a>"
      ],
      "text/plain": [
       "<IPython.core.display.HTML object>"
      ]
     },
     "metadata": {},
     "output_type": "display_data"
    },
    {
     "data": {
      "text/html": [
       "<button onClick=\"this.nextSibling.style.display='block';this.style.display='none';\">Display W&B run</button><iframe src=\"https://wandb.ai/ryanzurrin/omama-hyperopt/runs/xq7twopx?jupyter=true\" style=\"border:none;width:100%;height:420px;display:none;\"></iframe>"
      ],
      "text/plain": [
       "<wandb.sdk.wandb_run.Run at 0x7faf7db04700>"
      ]
     },
     "execution_count": 68,
     "metadata": {},
     "output_type": "execute_result"
    }
   ],
   "source": [
    "params = param_grid\n",
    "wandb.init(\n",
    "    # set the wandb project where this run will be logged\n",
    "    project=\"omama-hyperopt\",\n",
    ")"
   ]
  },
  {
   "cell_type": "markdown",
   "id": "0b3a4001",
   "metadata": {},
   "source": [
    "## Define the objective function\n",
    "\n",
    "This is the hyperparameter response space, the function we want to minimize."
   ]
  },
  {
   "cell_type": "code",
   "execution_count": 69,
   "id": "7aa8f8ee",
   "metadata": {},
   "outputs": [],
   "source": [
    "# the objective function takes the hyperparameter space\n",
    "# as input\n",
    "\n",
    "def objective(params):\n",
    "\n",
    "    # we need a dictionary to indicate which value from the space\n",
    "    # to attribute to each value of the hyperparameter in the xgb\n",
    "    params_dict = {\n",
    "        'contamination': params['contamination'],\n",
    "        'n_neighbors': int(params['n_neighbors']),\n",
    "        'method':params['method'],\n",
    "        'radius': params['radius'],\n",
    "        'leaf_size': int(params['leaf_size']),\n",
    "        'metric': params['metric'],\n",
    "        'p': int(params['p']),\n",
    "        'n_jobs': int(params['n_jobs'])\n",
    "    }\n",
    "    \n",
    "\n",
    "    # with ** we pass the items in the dictionary as parameters\n",
    "    # to the KNN algorithm\n",
    "    clf = KNN(**params_dict)\n",
    "    clf.fit(X_train)\n",
    "    \n",
    "    y_train_scores = clf.decision_scores_\n",
    "    y_test_scores = clf.decision_function(X_test)\n",
    "    \n",
    "    \n",
    "    \n",
    "    \n",
    "\n",
    "    # train with cv\n",
    "    score = cross_val_score(clf, X_train, y_train,\n",
    "                            scoring='accuracy', cv=5, n_jobs=4).mean()\n",
    "    \n",
    "    y_pred = clf.predict(X_test)\n",
    "    print(y_pred)\n",
    "    f1 = sklearn.metrics.f1_score(y_test, y_pred)\n",
    "    print(f1)\n",
    "    precision = sklearn.metrics.precision_score(y_test, y_pred)\n",
    "    print(precision)\n",
    "    recall = sklearn.metrics.recall_score(y_test, y_pred)\n",
    "    print(recall)\n",
    "#     roc_auc = sklearn.metrics.roc_auc_score(y_test, y_pred)\n",
    "#     print(roc_auc)\n",
    "    accuracy = sklearn.metrics.accuracy_score(y_test, y_pred)\n",
    "    print(accuracy)\n",
    "\n",
    "        \n",
    "    # track hyperparameters and run metadata\n",
    "    config={\n",
    "        'contamination': params['contamination'],\n",
    "        'n_neighbors': (params['n_neighbors']),\n",
    "        'method':params['method'],\n",
    "        'radius': params['radius'],\n",
    "        'leaf_size': (params['leaf_size']),\n",
    "        'metric': params['metric'],\n",
    "        'p': (params['p']),\n",
    "        'n_jobs': (params['n_jobs']),\n",
    "        \"architecture\": \"KNN\",\n",
    "        \"dataset\": \"A\",\n",
    "    }\n",
    "    \n",
    "    \n",
    "    wandb.log({\"score\": score})\n",
    "    wandb.log({\"f1\": f1})\n",
    "    wandb.log({\"precision\": precision})\n",
    "    wandb.log({\"recall\": recall})\n",
    "    wandb.log({\"accuracy\": accuracy})\n",
    "\n",
    "\n",
    "    # to minimize, we negate the score\n",
    "    return -score"
   ]
  },
  {
   "cell_type": "code",
   "execution_count": 70,
   "id": "bc9b6ed4",
   "metadata": {},
   "outputs": [],
   "source": [
    "warnings.filterwarnings('ignore')"
   ]
  },
  {
   "cell_type": "markdown",
   "id": "b7471e75",
   "metadata": {},
   "source": [
    "## Randomized Search\n",
    "\n",
    "[fmin](http://hyperopt.github.io/hyperopt/getting-started/minimizing_functions/)"
   ]
  },
  {
   "cell_type": "code",
   "execution_count": 71,
   "id": "5cf325be",
   "metadata": {
    "scrolled": true
   },
   "outputs": [
    {
     "name": "stdout",
     "output_type": "stream",
     "text": [
      "\r",
      "  0%|                                                                                                                                                                  | 0/50 [00:00<?, ?trial/s, best loss=?]"
     ]
    },
    {
     "name": "stderr",
     "output_type": "stream",
     "text": [
      "/home/ryan.zurrin001/miniconda3/envs/O/lib/python3.9/site-packages/pyod/models/base.py:412: UserWarning: y should not be presented in unsupervised learning.\n",
      "  warnings.warn(\n",
      "/home/ryan.zurrin001/miniconda3/envs/O/lib/python3.9/site-packages/pyod/models/base.py:412: UserWarning: y should not be presented in unsupervised learning.\n",
      "  warnings.warn(\n",
      "/home/ryan.zurrin001/miniconda3/envs/O/lib/python3.9/site-packages/pyod/models/base.py:412: UserWarning: y should not be presented in unsupervised learning.\n",
      "  warnings.warn(\n",
      "/home/ryan.zurrin001/miniconda3/envs/O/lib/python3.9/site-packages/pyod/models/base.py:412: UserWarning: y should not be presented in unsupervised learning.\n",
      "  warnings.warn(\n"
     ]
    },
    {
     "name": "stdout",
     "output_type": "stream",
     "text": [
      "[0 0 0 0 0 0 0 0 1 0 0 0 0 0 0 0 0 0 0 0]                                                                                                                                                                     \n",
      "0.0                                                                                                                                                                                                           \n",
      "0.0                                                                                                                                                                                                           \n",
      "0.0                                                                                                                                                                                                           \n",
      "0.95                                                                                                                                                                                                          \n",
      "  2%|██▉                                                                                                                                                 | 1/50 [00:12<10:31, 12.88s/trial, best loss: -0.825]"
     ]
    },
    {
     "name": "stderr",
     "output_type": "stream",
     "text": [
      "/home/ryan.zurrin001/miniconda3/envs/O/lib/python3.9/site-packages/pyod/models/base.py:412: UserWarning: y should not be presented in unsupervised learning.\n",
      "  warnings.warn(\n"
     ]
    },
    {
     "name": "stdout",
     "output_type": "stream",
     "text": [
      "[1 0 0 0 0 0 0 1 1 0 0 0 0 0 0 0 0 0 0 0]                                                                                                                                                                     \n",
      "0.0                                                                                                                                                                                                           \n",
      "0.0                                                                                                                                                                                                           \n",
      "0.0                                                                                                                                                                                                           \n",
      "0.85                                                                                                                                                                                                          \n",
      "  4%|█████▉                                                                                                                                              | 2/50 [00:13<04:20,  5.42s/trial, best loss: -0.825]"
     ]
    },
    {
     "name": "stderr",
     "output_type": "stream",
     "text": [
      "/home/ryan.zurrin001/miniconda3/envs/O/lib/python3.9/site-packages/pyod/models/base.py:412: UserWarning: y should not be presented in unsupervised learning.\n",
      "  warnings.warn(\n",
      "/home/ryan.zurrin001/miniconda3/envs/O/lib/python3.9/site-packages/pyod/models/base.py:412: UserWarning: y should not be presented in unsupervised learning.\n",
      "  warnings.warn(\n",
      "/home/ryan.zurrin001/miniconda3/envs/O/lib/python3.9/site-packages/pyod/models/base.py:412: UserWarning: y should not be presented in unsupervised learning.\n",
      "  warnings.warn(\n",
      "/home/ryan.zurrin001/miniconda3/envs/O/lib/python3.9/site-packages/pyod/models/base.py:412: UserWarning: y should not be presented in unsupervised learning.\n",
      "  warnings.warn(\n",
      "/home/ryan.zurrin001/miniconda3/envs/O/lib/python3.9/site-packages/pyod/models/base.py:412: UserWarning: y should not be presented in unsupervised learning.\n",
      "  warnings.warn(\n"
     ]
    },
    {
     "name": "stdout",
     "output_type": "stream",
     "text": [
      "[1 0 0 0 0 0 0 1 0 0 0 0 0 0 0 0 0 0 0 0]                                                                                                                                                                     \n",
      "0.0                                                                                                                                                                                                           \n",
      "0.0                                                                                                                                                                                                           \n",
      "0.0                                                                                                                                                                                                           \n",
      "0.9                                                                                                                                                                                                           \n",
      "  6%|████████▉                                                                                                                                           | 3/50 [00:13<02:23,  3.04s/trial, best loss: -0.825]"
     ]
    },
    {
     "name": "stderr",
     "output_type": "stream",
     "text": [
      "/home/ryan.zurrin001/miniconda3/envs/O/lib/python3.9/site-packages/pyod/models/base.py:412: UserWarning: y should not be presented in unsupervised learning.\n",
      "  warnings.warn(\n",
      "/home/ryan.zurrin001/miniconda3/envs/O/lib/python3.9/site-packages/pyod/models/base.py:412: UserWarning: y should not be presented in unsupervised learning.\n",
      "  warnings.warn(\n",
      "/home/ryan.zurrin001/miniconda3/envs/O/lib/python3.9/site-packages/pyod/models/base.py:412: UserWarning: y should not be presented in unsupervised learning.\n",
      "  warnings.warn(\n",
      "/home/ryan.zurrin001/miniconda3/envs/O/lib/python3.9/site-packages/pyod/models/base.py:412: UserWarning: y should not be presented in unsupervised learning.\n",
      "  warnings.warn(\n",
      "/home/ryan.zurrin001/miniconda3/envs/O/lib/python3.9/site-packages/pyod/models/base.py:412: UserWarning: y should not be presented in unsupervised learning.\n",
      "  warnings.warn(\n"
     ]
    },
    {
     "name": "stdout",
     "output_type": "stream",
     "text": [
      "                                                                                                                                                                                                              \r"
     ]
    },
    {
     "name": "stderr",
     "output_type": "stream",
     "text": [
      "/home/ryan.zurrin001/miniconda3/envs/O/lib/python3.9/site-packages/pyod/models/base.py:412: UserWarning: y should not be presented in unsupervised learning.\n",
      "  warnings.warn(\n",
      "/home/ryan.zurrin001/miniconda3/envs/O/lib/python3.9/site-packages/pyod/models/base.py:412: UserWarning: y should not be presented in unsupervised learning.\n",
      "  warnings.warn(\n",
      "/home/ryan.zurrin001/miniconda3/envs/O/lib/python3.9/site-packages/pyod/models/base.py:412: UserWarning: y should not be presented in unsupervised learning.\n",
      "  warnings.warn(\n",
      "/home/ryan.zurrin001/miniconda3/envs/O/lib/python3.9/site-packages/pyod/models/base.py:412: UserWarning: y should not be presented in unsupervised learning.\n",
      "  warnings.warn(\n",
      "/home/ryan.zurrin001/miniconda3/envs/O/lib/python3.9/site-packages/pyod/models/base.py:412: UserWarning: y should not be presented in unsupervised learning.\n",
      "  warnings.warn(\n"
     ]
    },
    {
     "name": "stdout",
     "output_type": "stream",
     "text": [
      "[0 0 0 0 0 0 0 0 1 0 0 0 0 0 0 0 0 0 0 0]\n",
      "0.0                                                                                                                                                                                                           \n",
      "0.0                                                                                                                                                                                                           \n",
      "0.0                                                                                                                                                                                                           \n",
      "0.95                                                                                                                                                                                                          \n",
      "[1 0 0 0 0 0 0 0 1 0 0 0 0 0 0 0 0 0 1 0]                                                                                                                                                                     \n",
      "0.0                                                                                                                                                                                                           \n",
      "0.0                                                                                                                                                                                                           \n",
      "  8%|███████████▊                                                                                                                                        | 4/50 [00:13<01:31,  1.99s/trial, best loss: -0.825]"
     ]
    },
    {
     "name": "stderr",
     "output_type": "stream",
     "text": [
      "/home/ryan.zurrin001/miniconda3/envs/O/lib/python3.9/site-packages/pyod/models/base.py:412: UserWarning: y should not be presented in unsupervised learning.\n",
      "  warnings.warn(\n",
      "/home/ryan.zurrin001/miniconda3/envs/O/lib/python3.9/site-packages/pyod/models/base.py:412: UserWarning: y should not be presented in unsupervised learning.\n",
      "  warnings.warn(\n",
      "/home/ryan.zurrin001/miniconda3/envs/O/lib/python3.9/site-packages/pyod/models/base.py:412: UserWarning: y should not be presented in unsupervised learning.\n",
      "  warnings.warn(\n",
      "/home/ryan.zurrin001/miniconda3/envs/O/lib/python3.9/site-packages/pyod/models/base.py:412: UserWarning: y should not be presented in unsupervised learning.\n",
      "  warnings.warn(\n",
      "/home/ryan.zurrin001/miniconda3/envs/O/lib/python3.9/site-packages/pyod/models/base.py:412: UserWarning: y should not be presented in unsupervised learning.\n",
      "  warnings.warn(\n"
     ]
    },
    {
     "name": "stdout",
     "output_type": "stream",
     "text": [
      "0.0                                                                                                                                                                                                           \n",
      "0.85                                                                                                                                                                                                          \n",
      " 10%|██████████████▊                                                                                                                                     | 5/50 [00:13<01:02,  1.38s/trial, best loss: -0.825]"
     ]
    },
    {
     "name": "stderr",
     "output_type": "stream",
     "text": [
      "/home/ryan.zurrin001/miniconda3/envs/O/lib/python3.9/site-packages/pyod/models/base.py:412: UserWarning: y should not be presented in unsupervised learning.\n",
      "  warnings.warn(\n",
      "/home/ryan.zurrin001/miniconda3/envs/O/lib/python3.9/site-packages/pyod/models/base.py:412: UserWarning: y should not be presented in unsupervised learning.\n",
      "  warnings.warn(\n",
      "/home/ryan.zurrin001/miniconda3/envs/O/lib/python3.9/site-packages/pyod/models/base.py:412: UserWarning: y should not be presented in unsupervised learning.\n",
      "  warnings.warn(\n",
      "/home/ryan.zurrin001/miniconda3/envs/O/lib/python3.9/site-packages/pyod/models/base.py:412: UserWarning: y should not be presented in unsupervised learning.\n",
      "  warnings.warn(\n",
      "/home/ryan.zurrin001/miniconda3/envs/O/lib/python3.9/site-packages/pyod/models/base.py:412: UserWarning: y should not be presented in unsupervised learning.\n",
      "  warnings.warn(\n"
     ]
    },
    {
     "name": "stdout",
     "output_type": "stream",
     "text": [
      "[0 0 0 0 0 0 0 0 1 0 0 0 0 0 0 0 0 0 1 0]                                                                                                                                                                     \n",
      "0.0                                                                                                                                                                                                           \n",
      "0.0                                                                                                                                                                                                           \n",
      "0.0                                                                                                                                                                                                           \n",
      "0.9                                                                                                                                                                                                           \n",
      " 12%|█████████████████▊                                                                                                                                  | 6/50 [00:14<00:46,  1.05s/trial, best loss: -0.825]"
     ]
    },
    {
     "name": "stderr",
     "output_type": "stream",
     "text": [
      "/home/ryan.zurrin001/miniconda3/envs/O/lib/python3.9/site-packages/pyod/models/base.py:412: UserWarning: y should not be presented in unsupervised learning.\n",
      "  warnings.warn(\n",
      "/home/ryan.zurrin001/miniconda3/envs/O/lib/python3.9/site-packages/pyod/models/base.py:412: UserWarning: y should not be presented in unsupervised learning.\n",
      "  warnings.warn(\n",
      "/home/ryan.zurrin001/miniconda3/envs/O/lib/python3.9/site-packages/pyod/models/base.py:412: UserWarning: y should not be presented in unsupervised learning.\n",
      "  warnings.warn(\n",
      "/home/ryan.zurrin001/miniconda3/envs/O/lib/python3.9/site-packages/pyod/models/base.py:412: UserWarning: y should not be presented in unsupervised learning.\n",
      "  warnings.warn(\n",
      "/home/ryan.zurrin001/miniconda3/envs/O/lib/python3.9/site-packages/pyod/models/base.py:412: UserWarning: y should not be presented in unsupervised learning.\n",
      "  warnings.warn(\n"
     ]
    },
    {
     "name": "stdout",
     "output_type": "stream",
     "text": [
      "[1 0 0 0 0 0 0 0 0 0 0 0 0 0 0 0 0 0 0 0]                                                                                                                                                                     \n",
      "0.0                                                                                                                                                                                                           \n",
      "0.0                                                                                                                                                                                                           \n",
      "0.0                                                                                                                                                                                                           \n",
      "0.95                                                                                                                                                                                                          \n",
      " 14%|████████████████████▋                                                                                                                               | 7/50 [00:14<00:36,  1.17trial/s, best loss: -0.825]"
     ]
    },
    {
     "name": "stderr",
     "output_type": "stream",
     "text": [
      "/home/ryan.zurrin001/miniconda3/envs/O/lib/python3.9/site-packages/pyod/models/base.py:412: UserWarning: y should not be presented in unsupervised learning.\n",
      "  warnings.warn(\n",
      "/home/ryan.zurrin001/miniconda3/envs/O/lib/python3.9/site-packages/pyod/models/base.py:412: UserWarning: y should not be presented in unsupervised learning.\n",
      "  warnings.warn(\n",
      "/home/ryan.zurrin001/miniconda3/envs/O/lib/python3.9/site-packages/pyod/models/base.py:412: UserWarning: y should not be presented in unsupervised learning.\n",
      "  warnings.warn(\n",
      "/home/ryan.zurrin001/miniconda3/envs/O/lib/python3.9/site-packages/pyod/models/base.py:412: UserWarning: y should not be presented in unsupervised learning.\n",
      "  warnings.warn(\n",
      "/home/ryan.zurrin001/miniconda3/envs/O/lib/python3.9/site-packages/pyod/models/base.py:412: UserWarning: y should not be presented in unsupervised learning.\n",
      "  warnings.warn(\n"
     ]
    },
    {
     "name": "stdout",
     "output_type": "stream",
     "text": [
      "[0 1 0 0 0 0 0 0 1 0 0 0 0 0 0 0 0 0 0 0]                                                                                                                                                                     \n",
      "0.0                                                                                                                                                                                                           \n",
      "0.0                                                                                                                                                                                                           \n",
      "0.0                                                                                                                                                                                                           \n",
      "0.9                                                                                                                                                                                                           \n",
      " 16%|███████████████████████▋                                                                                                                            | 8/50 [00:15<00:28,  1.46trial/s, best loss: -0.825]"
     ]
    },
    {
     "name": "stderr",
     "output_type": "stream",
     "text": [
      "/home/ryan.zurrin001/miniconda3/envs/O/lib/python3.9/site-packages/pyod/models/base.py:412: UserWarning: y should not be presented in unsupervised learning.\n",
      "  warnings.warn(\n",
      "/home/ryan.zurrin001/miniconda3/envs/O/lib/python3.9/site-packages/pyod/models/base.py:412: UserWarning: y should not be presented in unsupervised learning.\n",
      "  warnings.warn(\n",
      "/home/ryan.zurrin001/miniconda3/envs/O/lib/python3.9/site-packages/pyod/models/base.py:412: UserWarning: y should not be presented in unsupervised learning.\n",
      "  warnings.warn(\n",
      "/home/ryan.zurrin001/miniconda3/envs/O/lib/python3.9/site-packages/pyod/models/base.py:412: UserWarning: y should not be presented in unsupervised learning.\n",
      "  warnings.warn(\n",
      "/home/ryan.zurrin001/miniconda3/envs/O/lib/python3.9/site-packages/pyod/models/base.py:412: UserWarning: y should not be presented in unsupervised learning.\n",
      "  warnings.warn(\n"
     ]
    },
    {
     "name": "stdout",
     "output_type": "stream",
     "text": [
      "[1 0 0 0 0 0 0 0 0 0 0 0 0 0 0 0 0 0 0 0]                                                                                                                                                                     \n",
      "0.0                                                                                                                                                                                                           \n",
      "0.0                                                                                                                                                                                                           \n",
      "0.0                                                                                                                                                                                                           \n",
      "0.95                                                                                                                                                                                                          \n",
      " 18%|██████████████████████████▋                                                                                                                         | 9/50 [00:15<00:24,  1.69trial/s, best loss: -0.825]"
     ]
    },
    {
     "name": "stderr",
     "output_type": "stream",
     "text": [
      "/home/ryan.zurrin001/miniconda3/envs/O/lib/python3.9/site-packages/pyod/models/base.py:412: UserWarning: y should not be presented in unsupervised learning.\n",
      "  warnings.warn(\n",
      "/home/ryan.zurrin001/miniconda3/envs/O/lib/python3.9/site-packages/pyod/models/base.py:412: UserWarning: y should not be presented in unsupervised learning.\n",
      "  warnings.warn(\n",
      "/home/ryan.zurrin001/miniconda3/envs/O/lib/python3.9/site-packages/pyod/models/base.py:412: UserWarning: y should not be presented in unsupervised learning.\n",
      "  warnings.warn(\n",
      "/home/ryan.zurrin001/miniconda3/envs/O/lib/python3.9/site-packages/pyod/models/base.py:412: UserWarning: y should not be presented in unsupervised learning.\n",
      "  warnings.warn(\n",
      "/home/ryan.zurrin001/miniconda3/envs/O/lib/python3.9/site-packages/pyod/models/base.py:412: UserWarning: y should not be presented in unsupervised learning.\n",
      "  warnings.warn(\n"
     ]
    },
    {
     "name": "stdout",
     "output_type": "stream",
     "text": [
      "[0 0 0 0 0 0 0 0 1 0 0 0 0 0 0 0 0 0 0 0]                                                                                                                                                                     \n",
      "0.0                                                                                                                                                                                                           \n",
      "0.0                                                                                                                                                                                                           \n",
      "0.0                                                                                                                                                                                                           \n",
      "0.95                                                                                                                                                                                                          \n",
      " 20%|█████████████████████████████▍                                                                                                                     | 10/50 [00:15<00:21,  1.89trial/s, best loss: -0.825]"
     ]
    },
    {
     "name": "stderr",
     "output_type": "stream",
     "text": [
      "/home/ryan.zurrin001/miniconda3/envs/O/lib/python3.9/site-packages/pyod/models/base.py:412: UserWarning: y should not be presented in unsupervised learning.\n",
      "  warnings.warn(\n",
      "/home/ryan.zurrin001/miniconda3/envs/O/lib/python3.9/site-packages/pyod/models/base.py:412: UserWarning: y should not be presented in unsupervised learning.\n",
      "  warnings.warn(\n",
      "/home/ryan.zurrin001/miniconda3/envs/O/lib/python3.9/site-packages/pyod/models/base.py:412: UserWarning: y should not be presented in unsupervised learning.\n",
      "  warnings.warn(\n",
      "/home/ryan.zurrin001/miniconda3/envs/O/lib/python3.9/site-packages/pyod/models/base.py:412: UserWarning: y should not be presented in unsupervised learning.\n",
      "  warnings.warn(\n",
      "/home/ryan.zurrin001/miniconda3/envs/O/lib/python3.9/site-packages/pyod/models/base.py:412: UserWarning: y should not be presented in unsupervised learning.\n",
      "  warnings.warn(\n"
     ]
    },
    {
     "name": "stdout",
     "output_type": "stream",
     "text": [
      "[1 0 0 0 0 0 0 0 1 0 0 0 0 0 1 0 0 0 1 0]                                                                                                                                                                     \n",
      "0.0                                                                                                                                                                                                           \n",
      "0.0                                                                                                                                                                                                           \n",
      "0.0                                                                                                                                                                                                           \n",
      "0.8                                                                                                                                                                                                           \n",
      "[1 0 0 0 0 0 0 0 0 0 0 0 0 0 1 0 0 0 1 0]                                                                                                                                                                     \n",
      "0.0                                                                                                                                                                                                           \n",
      "0.0                                                                                                                                                                                                           \n",
      "0.0                                                                                                                                                                                                           \n",
      "                                                                                                                                                                                                              \r"
     ]
    },
    {
     "name": "stderr",
     "output_type": "stream",
     "text": [
      "/home/ryan.zurrin001/miniconda3/envs/O/lib/python3.9/site-packages/pyod/models/base.py:412: UserWarning: y should not be presented in unsupervised learning.\n",
      "  warnings.warn(\n",
      "/home/ryan.zurrin001/miniconda3/envs/O/lib/python3.9/site-packages/pyod/models/base.py:412: UserWarning: y should not be presented in unsupervised learning.\n",
      "  warnings.warn(\n",
      "/home/ryan.zurrin001/miniconda3/envs/O/lib/python3.9/site-packages/pyod/models/base.py:412: UserWarning: y should not be presented in unsupervised learning.\n",
      "  warnings.warn(\n",
      "/home/ryan.zurrin001/miniconda3/envs/O/lib/python3.9/site-packages/pyod/models/base.py:412: UserWarning: y should not be presented in unsupervised learning.\n",
      "  warnings.warn(\n",
      "/home/ryan.zurrin001/miniconda3/envs/O/lib/python3.9/site-packages/pyod/models/base.py:412: UserWarning: y should not be presented in unsupervised learning.\n",
      "  warnings.warn(\n"
     ]
    },
    {
     "name": "stdout",
     "output_type": "stream",
     "text": [
      "0.85\n",
      " 24%|███████████████████████████████████▎                                                                                                               | 12/50 [00:16<00:16,  2.30trial/s, best loss: -0.825]"
     ]
    },
    {
     "name": "stderr",
     "output_type": "stream",
     "text": [
      "/home/ryan.zurrin001/miniconda3/envs/O/lib/python3.9/site-packages/pyod/models/base.py:412: UserWarning: y should not be presented in unsupervised learning.\n",
      "  warnings.warn(\n",
      "/home/ryan.zurrin001/miniconda3/envs/O/lib/python3.9/site-packages/pyod/models/base.py:412: UserWarning: y should not be presented in unsupervised learning.\n",
      "  warnings.warn(\n",
      "/home/ryan.zurrin001/miniconda3/envs/O/lib/python3.9/site-packages/pyod/models/base.py:412: UserWarning: y should not be presented in unsupervised learning.\n",
      "  warnings.warn(\n",
      "/home/ryan.zurrin001/miniconda3/envs/O/lib/python3.9/site-packages/pyod/models/base.py:412: UserWarning: y should not be presented in unsupervised learning.\n",
      "  warnings.warn(\n",
      "/home/ryan.zurrin001/miniconda3/envs/O/lib/python3.9/site-packages/pyod/models/base.py:412: UserWarning: y should not be presented in unsupervised learning.\n",
      "  warnings.warn(\n"
     ]
    },
    {
     "name": "stdout",
     "output_type": "stream",
     "text": [
      "[0 0 0 0 0 0 0 0 1 0 0 0 0 0 1 0 0 0 1 0]                                                                                                                                                                     \n",
      "0.0                                                                                                                                                                                                           \n",
      "0.0                                                                                                                                                                                                           \n",
      "0.0                                                                                                                                                                                                           \n",
      "0.85                                                                                                                                                                                                          \n",
      " 26%|██████████████████████████████████████▏                                                                                                            | 13/50 [00:16<00:14,  2.50trial/s, best loss: -0.825]"
     ]
    },
    {
     "name": "stderr",
     "output_type": "stream",
     "text": [
      "/home/ryan.zurrin001/miniconda3/envs/O/lib/python3.9/site-packages/pyod/models/base.py:412: UserWarning: y should not be presented in unsupervised learning.\n",
      "  warnings.warn(\n",
      "/home/ryan.zurrin001/miniconda3/envs/O/lib/python3.9/site-packages/pyod/models/base.py:412: UserWarning: y should not be presented in unsupervised learning.\n",
      "  warnings.warn(\n",
      "/home/ryan.zurrin001/miniconda3/envs/O/lib/python3.9/site-packages/pyod/models/base.py:412: UserWarning: y should not be presented in unsupervised learning.\n",
      "  warnings.warn(\n",
      "/home/ryan.zurrin001/miniconda3/envs/O/lib/python3.9/site-packages/pyod/models/base.py:412: UserWarning: y should not be presented in unsupervised learning.\n",
      "  warnings.warn(\n",
      "/home/ryan.zurrin001/miniconda3/envs/O/lib/python3.9/site-packages/pyod/models/base.py:412: UserWarning: y should not be presented in unsupervised learning.\n",
      "  warnings.warn(\n"
     ]
    },
    {
     "name": "stdout",
     "output_type": "stream",
     "text": [
      "[1 0 0 0 0 0 0 1 0 0 0 0 0 0 0 0 0 0 1 0]                                                                                                                                                                     \n",
      "0.0                                                                                                                                                                                                           \n",
      "0.0                                                                                                                                                                                                           \n",
      "0.0                                                                                                                                                                                                           \n",
      "0.85                                                                                                                                                                                                          \n",
      " 28%|█████████████████████████████████████████▏                                                                                                         | 14/50 [00:17<00:14,  2.42trial/s, best loss: -0.825]"
     ]
    },
    {
     "name": "stderr",
     "output_type": "stream",
     "text": [
      "/home/ryan.zurrin001/miniconda3/envs/O/lib/python3.9/site-packages/pyod/models/base.py:412: UserWarning: y should not be presented in unsupervised learning.\n",
      "  warnings.warn(\n",
      "/home/ryan.zurrin001/miniconda3/envs/O/lib/python3.9/site-packages/pyod/models/base.py:412: UserWarning: y should not be presented in unsupervised learning.\n",
      "  warnings.warn(\n",
      "/home/ryan.zurrin001/miniconda3/envs/O/lib/python3.9/site-packages/pyod/models/base.py:412: UserWarning: y should not be presented in unsupervised learning.\n",
      "  warnings.warn(\n",
      "/home/ryan.zurrin001/miniconda3/envs/O/lib/python3.9/site-packages/pyod/models/base.py:412: UserWarning: y should not be presented in unsupervised learning.\n",
      "  warnings.warn(\n",
      "/home/ryan.zurrin001/miniconda3/envs/O/lib/python3.9/site-packages/pyod/models/base.py:412: UserWarning: y should not be presented in unsupervised learning.\n",
      "  warnings.warn(\n"
     ]
    },
    {
     "name": "stdout",
     "output_type": "stream",
     "text": [
      "[1 0 0 0 0 0 0 0 0 0 0 0 0 0 0 0 0 0 0 0]                                                                                                                                                                     \n",
      "0.0                                                                                                                                                                                                           \n",
      "0.0                                                                                                                                                                                                           \n",
      "0.0                                                                                                                                                                                                           \n",
      "0.95                                                                                                                                                                                                          \n",
      " 30%|████████████████████████████████████████████                                                                                                       | 15/50 [00:17<00:14,  2.43trial/s, best loss: -0.825]"
     ]
    },
    {
     "name": "stderr",
     "output_type": "stream",
     "text": [
      "/home/ryan.zurrin001/miniconda3/envs/O/lib/python3.9/site-packages/pyod/models/base.py:412: UserWarning: y should not be presented in unsupervised learning.\n",
      "  warnings.warn(\n",
      "/home/ryan.zurrin001/miniconda3/envs/O/lib/python3.9/site-packages/pyod/models/base.py:412: UserWarning: y should not be presented in unsupervised learning.\n",
      "  warnings.warn(\n",
      "/home/ryan.zurrin001/miniconda3/envs/O/lib/python3.9/site-packages/pyod/models/base.py:412: UserWarning: y should not be presented in unsupervised learning.\n",
      "  warnings.warn(\n",
      "/home/ryan.zurrin001/miniconda3/envs/O/lib/python3.9/site-packages/pyod/models/base.py:412: UserWarning: y should not be presented in unsupervised learning.\n",
      "  warnings.warn(\n",
      "/home/ryan.zurrin001/miniconda3/envs/O/lib/python3.9/site-packages/pyod/models/base.py:412: UserWarning: y should not be presented in unsupervised learning.\n",
      "  warnings.warn(\n"
     ]
    },
    {
     "name": "stdout",
     "output_type": "stream",
     "text": [
      "[1 0 1 0 1 0 1 1 1 0 1 0 0 0 1 0 1 0 1 0]                                                                                                                                                                     \n",
      "0.0                                                                                                                                                                                                           \n",
      "0.0                                                                                                                                                                                                           \n",
      "0.0                                                                                                                                                                                                           \n",
      "0.5                                                                                                                                                                                                           \n",
      " 32%|███████████████████████████████████████████████                                                                                                    | 16/50 [00:18<00:14,  2.40trial/s, best loss: -0.825]"
     ]
    },
    {
     "name": "stderr",
     "output_type": "stream",
     "text": [
      "/home/ryan.zurrin001/miniconda3/envs/O/lib/python3.9/site-packages/pyod/models/base.py:412: UserWarning: y should not be presented in unsupervised learning.\n",
      "  warnings.warn(\n",
      "/home/ryan.zurrin001/miniconda3/envs/O/lib/python3.9/site-packages/pyod/models/base.py:412: UserWarning: y should not be presented in unsupervised learning.\n",
      "  warnings.warn(\n",
      "/home/ryan.zurrin001/miniconda3/envs/O/lib/python3.9/site-packages/pyod/models/base.py:412: UserWarning: y should not be presented in unsupervised learning.\n",
      "  warnings.warn(\n",
      "/home/ryan.zurrin001/miniconda3/envs/O/lib/python3.9/site-packages/pyod/models/base.py:412: UserWarning: y should not be presented in unsupervised learning.\n",
      "  warnings.warn(\n",
      "/home/ryan.zurrin001/miniconda3/envs/O/lib/python3.9/site-packages/pyod/models/base.py:412: UserWarning: y should not be presented in unsupervised learning.\n",
      "  warnings.warn(\n"
     ]
    },
    {
     "name": "stdout",
     "output_type": "stream",
     "text": [
      "[0 0 0 0 0 0 0 0 1 0 0 0 0 0 0 0 0 0 0 0]                                                                                                                                                                     \n",
      "0.0                                                                                                                                                                                                           \n",
      "0.0                                                                                                                                                                                                           \n",
      "0.0                                                                                                                                                                                                           \n",
      "0.95                                                                                                                                                                                                          \n",
      " 34%|█████████████████████████████████████████████████▉                                                                                                 | 17/50 [00:18<00:14,  2.30trial/s, best loss: -0.825]"
     ]
    },
    {
     "name": "stderr",
     "output_type": "stream",
     "text": [
      "/home/ryan.zurrin001/miniconda3/envs/O/lib/python3.9/site-packages/pyod/models/base.py:412: UserWarning: y should not be presented in unsupervised learning.\n",
      "  warnings.warn(\n",
      "/home/ryan.zurrin001/miniconda3/envs/O/lib/python3.9/site-packages/pyod/models/base.py:412: UserWarning: y should not be presented in unsupervised learning.\n",
      "  warnings.warn(\n",
      "/home/ryan.zurrin001/miniconda3/envs/O/lib/python3.9/site-packages/pyod/models/base.py:412: UserWarning: y should not be presented in unsupervised learning.\n",
      "  warnings.warn(\n",
      "/home/ryan.zurrin001/miniconda3/envs/O/lib/python3.9/site-packages/pyod/models/base.py:412: UserWarning: y should not be presented in unsupervised learning.\n",
      "  warnings.warn(\n",
      "/home/ryan.zurrin001/miniconda3/envs/O/lib/python3.9/site-packages/pyod/models/base.py:412: UserWarning: y should not be presented in unsupervised learning.\n",
      "  warnings.warn(\n"
     ]
    },
    {
     "name": "stdout",
     "output_type": "stream",
     "text": [
      "[0 0 0 0 0 0 0 0 1 0 0 0 0 0 0 0 0 0 1 0]                                                                                                                                                                     \n",
      "0.0                                                                                                                                                                                                           \n",
      "0.0                                                                                                                                                                                                           \n",
      "0.0                                                                                                                                                                                                           \n",
      "0.9                                                                                                                                                                                                           \n",
      " 36%|████████████████████████████████████████████████████▉                                                                                              | 18/50 [00:19<00:13,  2.36trial/s, best loss: -0.825]"
     ]
    },
    {
     "name": "stderr",
     "output_type": "stream",
     "text": [
      "/home/ryan.zurrin001/miniconda3/envs/O/lib/python3.9/site-packages/pyod/models/base.py:412: UserWarning: y should not be presented in unsupervised learning.\n",
      "  warnings.warn(\n",
      "/home/ryan.zurrin001/miniconda3/envs/O/lib/python3.9/site-packages/pyod/models/base.py:412: UserWarning: y should not be presented in unsupervised learning.\n",
      "  warnings.warn(\n",
      "/home/ryan.zurrin001/miniconda3/envs/O/lib/python3.9/site-packages/pyod/models/base.py:412: UserWarning: y should not be presented in unsupervised learning.\n",
      "  warnings.warn(\n",
      "/home/ryan.zurrin001/miniconda3/envs/O/lib/python3.9/site-packages/pyod/models/base.py:412: UserWarning: y should not be presented in unsupervised learning.\n",
      "  warnings.warn(\n",
      "/home/ryan.zurrin001/miniconda3/envs/O/lib/python3.9/site-packages/pyod/models/base.py:412: UserWarning: y should not be presented in unsupervised learning.\n",
      "  warnings.warn(\n"
     ]
    },
    {
     "name": "stdout",
     "output_type": "stream",
     "text": [
      "[1 0 0 0 0 0 0 0 0 0 0 0 0 0 0 0 0 0 1 0]                                                                                                                                                                     \n",
      "0.0                                                                                                                                                                                                           \n",
      "0.0                                                                                                                                                                                                           \n",
      "0.0                                                                                                                                                                                                           \n",
      "0.9                                                                                                                                                                                                           \n",
      " 38%|███████████████████████████████████████████████████████▊                                                                                           | 19/50 [00:19<00:12,  2.50trial/s, best loss: -0.825]"
     ]
    },
    {
     "name": "stderr",
     "output_type": "stream",
     "text": [
      "/home/ryan.zurrin001/miniconda3/envs/O/lib/python3.9/site-packages/pyod/models/base.py:412: UserWarning: y should not be presented in unsupervised learning.\n",
      "  warnings.warn(\n",
      "/home/ryan.zurrin001/miniconda3/envs/O/lib/python3.9/site-packages/pyod/models/base.py:412: UserWarning: y should not be presented in unsupervised learning.\n",
      "  warnings.warn(\n",
      "/home/ryan.zurrin001/miniconda3/envs/O/lib/python3.9/site-packages/pyod/models/base.py:412: UserWarning: y should not be presented in unsupervised learning.\n",
      "  warnings.warn(\n",
      "/home/ryan.zurrin001/miniconda3/envs/O/lib/python3.9/site-packages/pyod/models/base.py:412: UserWarning: y should not be presented in unsupervised learning.\n",
      "  warnings.warn(\n",
      "/home/ryan.zurrin001/miniconda3/envs/O/lib/python3.9/site-packages/pyod/models/base.py:412: UserWarning: y should not be presented in unsupervised learning.\n",
      "  warnings.warn(\n"
     ]
    },
    {
     "name": "stdout",
     "output_type": "stream",
     "text": [
      "[0 1 0 0 0 0 0 0 1 0 0 0 0 0 0 0 0 0 0 0]                                                                                                                                                                     \n",
      "0.0                                                                                                                                                                                                           \n",
      "0.0                                                                                                                                                                                                           \n",
      "0.0                                                                                                                                                                                                           \n",
      "0.9                                                                                                                                                                                                           \n",
      " 40%|██████████████████████████████████████████████████████████▊                                                                                        | 20/50 [00:19<00:12,  2.47trial/s, best loss: -0.825]"
     ]
    },
    {
     "name": "stderr",
     "output_type": "stream",
     "text": [
      "/home/ryan.zurrin001/miniconda3/envs/O/lib/python3.9/site-packages/pyod/models/base.py:412: UserWarning: y should not be presented in unsupervised learning.\n",
      "  warnings.warn(\n",
      "/home/ryan.zurrin001/miniconda3/envs/O/lib/python3.9/site-packages/pyod/models/base.py:412: UserWarning: y should not be presented in unsupervised learning.\n",
      "  warnings.warn(\n",
      "/home/ryan.zurrin001/miniconda3/envs/O/lib/python3.9/site-packages/pyod/models/base.py:412: UserWarning: y should not be presented in unsupervised learning.\n",
      "  warnings.warn(\n",
      "/home/ryan.zurrin001/miniconda3/envs/O/lib/python3.9/site-packages/pyod/models/base.py:412: UserWarning: y should not be presented in unsupervised learning.\n",
      "  warnings.warn(\n",
      "/home/ryan.zurrin001/miniconda3/envs/O/lib/python3.9/site-packages/pyod/models/base.py:412: UserWarning: y should not be presented in unsupervised learning.\n",
      "  warnings.warn(\n"
     ]
    },
    {
     "name": "stdout",
     "output_type": "stream",
     "text": [
      "[1 0 0 0 0 0 0 1 0 0 0 0 0 0 0 0 0 0 0 0]                                                                                                                                                                     \n",
      "0.0                                                                                                                                                                                                           \n",
      "0.0                                                                                                                                                                                                           \n",
      "0.0                                                                                                                                                                                                           \n",
      "0.9                                                                                                                                                                                                           \n",
      "[0 0 0 0 0 0 0 1 1 0 0 0 0 0 1 0 0 0 0 0]                                                                                                                                                                     \n",
      "                                                                                                                                                                                                              \r"
     ]
    },
    {
     "name": "stderr",
     "output_type": "stream",
     "text": [
      "/home/ryan.zurrin001/miniconda3/envs/O/lib/python3.9/site-packages/pyod/models/base.py:412: UserWarning: y should not be presented in unsupervised learning.\n",
      "  warnings.warn(\n",
      "/home/ryan.zurrin001/miniconda3/envs/O/lib/python3.9/site-packages/pyod/models/base.py:412: UserWarning: y should not be presented in unsupervised learning.\n",
      "  warnings.warn(\n",
      "/home/ryan.zurrin001/miniconda3/envs/O/lib/python3.9/site-packages/pyod/models/base.py:412: UserWarning: y should not be presented in unsupervised learning.\n",
      "  warnings.warn(\n",
      "/home/ryan.zurrin001/miniconda3/envs/O/lib/python3.9/site-packages/pyod/models/base.py:412: UserWarning: y should not be presented in unsupervised learning.\n",
      "  warnings.warn(\n",
      "/home/ryan.zurrin001/miniconda3/envs/O/lib/python3.9/site-packages/pyod/models/base.py:412: UserWarning: y should not be presented in unsupervised learning.\n",
      "  warnings.warn(\n"
     ]
    },
    {
     "name": "stdout",
     "output_type": "stream",
     "text": [
      "0.0\n",
      "0.0                                                                                                                                                                                                           \n",
      "0.0                                                                                                                                                                                                           \n",
      "0.85                                                                                                                                                                                                          \n",
      " 44%|████████████████████████████████████████████████████████████████▋                                                                                  | 22/50 [00:20<00:10,  2.70trial/s, best loss: -0.825]"
     ]
    },
    {
     "name": "stderr",
     "output_type": "stream",
     "text": [
      "/home/ryan.zurrin001/miniconda3/envs/O/lib/python3.9/site-packages/pyod/models/base.py:412: UserWarning: y should not be presented in unsupervised learning.\n",
      "  warnings.warn(\n",
      "/home/ryan.zurrin001/miniconda3/envs/O/lib/python3.9/site-packages/pyod/models/base.py:412: UserWarning: y should not be presented in unsupervised learning.\n",
      "  warnings.warn(\n",
      "/home/ryan.zurrin001/miniconda3/envs/O/lib/python3.9/site-packages/pyod/models/base.py:412: UserWarning: y should not be presented in unsupervised learning.\n",
      "  warnings.warn(\n",
      "/home/ryan.zurrin001/miniconda3/envs/O/lib/python3.9/site-packages/pyod/models/base.py:412: UserWarning: y should not be presented in unsupervised learning.\n",
      "  warnings.warn(\n"
     ]
    },
    {
     "name": "stdout",
     "output_type": "stream",
     "text": [
      "[1 0 1 0 1 0 1 1 1 0 1 0 0 0 1 0 1 0 1 0]                                                                                                                                                                     \n",
      "0.0                                                                                                                                                                                                           \n",
      "0.0                                                                                                                                                                                                           \n",
      "0.0                                                                                                                                                                                                           \n",
      "0.5                                                                                                                                                                                                           \n",
      " 46%|███████████████████████████████████████████████████████████████████▌                                                                               | 23/50 [00:21<00:11,  2.38trial/s, best loss: -0.825]"
     ]
    },
    {
     "name": "stderr",
     "output_type": "stream",
     "text": [
      "/home/ryan.zurrin001/miniconda3/envs/O/lib/python3.9/site-packages/pyod/models/base.py:412: UserWarning: y should not be presented in unsupervised learning.\n",
      "  warnings.warn(\n",
      "/home/ryan.zurrin001/miniconda3/envs/O/lib/python3.9/site-packages/pyod/models/base.py:412: UserWarning: y should not be presented in unsupervised learning.\n",
      "  warnings.warn(\n",
      "/home/ryan.zurrin001/miniconda3/envs/O/lib/python3.9/site-packages/pyod/models/base.py:412: UserWarning: y should not be presented in unsupervised learning.\n",
      "  warnings.warn(\n",
      "/home/ryan.zurrin001/miniconda3/envs/O/lib/python3.9/site-packages/pyod/models/base.py:412: UserWarning: y should not be presented in unsupervised learning.\n",
      "  warnings.warn(\n",
      "/home/ryan.zurrin001/miniconda3/envs/O/lib/python3.9/site-packages/pyod/models/base.py:412: UserWarning: y should not be presented in unsupervised learning.\n",
      "  warnings.warn(\n",
      "/home/ryan.zurrin001/miniconda3/envs/O/lib/python3.9/site-packages/pyod/models/base.py:412: UserWarning: y should not be presented in unsupervised learning.\n",
      "  warnings.warn(\n"
     ]
    },
    {
     "name": "stdout",
     "output_type": "stream",
     "text": [
      "[1 0 1 0 1 0 1 1 1 0 1 0 0 0 1 0 1 0 1 0]                                                                                                                                                                     \n",
      "0.0                                                                                                                                                                                                           \n",
      "0.0                                                                                                                                                                                                           \n",
      "0.0                                                                                                                                                                                                           \n",
      "0.5                                                                                                                                                                                                           \n",
      " 48%|██████████████████████████████████████████████████████████████████████▌                                                                            | 24/50 [00:21<00:11,  2.30trial/s, best loss: -0.825]"
     ]
    },
    {
     "name": "stderr",
     "output_type": "stream",
     "text": [
      "/home/ryan.zurrin001/miniconda3/envs/O/lib/python3.9/site-packages/pyod/models/base.py:412: UserWarning: y should not be presented in unsupervised learning.\n",
      "  warnings.warn(\n",
      "/home/ryan.zurrin001/miniconda3/envs/O/lib/python3.9/site-packages/pyod/models/base.py:412: UserWarning: y should not be presented in unsupervised learning.\n",
      "  warnings.warn(\n",
      "/home/ryan.zurrin001/miniconda3/envs/O/lib/python3.9/site-packages/pyod/models/base.py:412: UserWarning: y should not be presented in unsupervised learning.\n",
      "  warnings.warn(\n",
      "/home/ryan.zurrin001/miniconda3/envs/O/lib/python3.9/site-packages/pyod/models/base.py:412: UserWarning: y should not be presented in unsupervised learning.\n",
      "  warnings.warn(\n",
      "/home/ryan.zurrin001/miniconda3/envs/O/lib/python3.9/site-packages/pyod/models/base.py:412: UserWarning: y should not be presented in unsupervised learning.\n",
      "  warnings.warn(\n"
     ]
    },
    {
     "name": "stdout",
     "output_type": "stream",
     "text": [
      "[0 1 0 0 0 0 0 0 1 0 0 0 0 0 0 0 0 0 0 0]                                                                                                                                                                     \n",
      "0.0                                                                                                                                                                                                           \n",
      "0.0                                                                                                                                                                                                           \n",
      "0.0                                                                                                                                                                                                           \n",
      "0.9                                                                                                                                                                                                           \n",
      "[0 1 0 0 0 0 0 0 1 0 0 0 0 0 0 0 0 0 0 0]                                                                                                                                                                     \n",
      "0.0                                                                                                                                                                                                           \n",
      "0.0                                                                                                                                                                                                           \n",
      "0.0                                                                                                                                                                                                           \n",
      "0.9                                                                                                                                                                                                           \n",
      " 52%|████████████████████████████████████████████████████████████████████████████▍                                                                      | 26/50 [00:22<00:08,  2.87trial/s, best loss: -0.825]"
     ]
    },
    {
     "name": "stderr",
     "output_type": "stream",
     "text": [
      "/home/ryan.zurrin001/miniconda3/envs/O/lib/python3.9/site-packages/pyod/models/base.py:412: UserWarning: y should not be presented in unsupervised learning.\n",
      "  warnings.warn(\n",
      "/home/ryan.zurrin001/miniconda3/envs/O/lib/python3.9/site-packages/pyod/models/base.py:412: UserWarning: y should not be presented in unsupervised learning.\n",
      "  warnings.warn(\n",
      "/home/ryan.zurrin001/miniconda3/envs/O/lib/python3.9/site-packages/pyod/models/base.py:412: UserWarning: y should not be presented in unsupervised learning.\n",
      "  warnings.warn(\n",
      "/home/ryan.zurrin001/miniconda3/envs/O/lib/python3.9/site-packages/pyod/models/base.py:412: UserWarning: y should not be presented in unsupervised learning.\n",
      "  warnings.warn(\n",
      "/home/ryan.zurrin001/miniconda3/envs/O/lib/python3.9/site-packages/pyod/models/base.py:412: UserWarning: y should not be presented in unsupervised learning.\n",
      "  warnings.warn(\n",
      "/home/ryan.zurrin001/miniconda3/envs/O/lib/python3.9/site-packages/pyod/models/base.py:412: UserWarning: y should not be presented in unsupervised learning.\n",
      "  warnings.warn(\n",
      "/home/ryan.zurrin001/miniconda3/envs/O/lib/python3.9/site-packages/pyod/models/base.py:412: UserWarning: y should not be presented in unsupervised learning.\n",
      "  warnings.warn(\n",
      "/home/ryan.zurrin001/miniconda3/envs/O/lib/python3.9/site-packages/pyod/models/base.py:412: UserWarning: y should not be presented in unsupervised learning.\n",
      "  warnings.warn(\n",
      "/home/ryan.zurrin001/miniconda3/envs/O/lib/python3.9/site-packages/pyod/models/base.py:412: UserWarning: y should not be presented in unsupervised learning.\n",
      "  warnings.warn(\n",
      "/home/ryan.zurrin001/miniconda3/envs/O/lib/python3.9/site-packages/pyod/models/base.py:412: UserWarning: y should not be presented in unsupervised learning.\n",
      "  warnings.warn(\n"
     ]
    },
    {
     "name": "stdout",
     "output_type": "stream",
     "text": [
      "[0 0 0 0 0 0 0 1 0 0 0 0 0 0 1 0 0 0 0 0]                                                                                                                                                                     \n",
      "0.0                                                                                                                                                                                                           \n",
      "0.0                                                                                                                                                                                                           \n",
      "0.0                                                                                                                                                                                                           \n",
      "0.9                                                                                                                                                                                                           \n",
      " 54%|███████████████████████████████████████████████████████████████████████████████▍                                                                   | 27/50 [00:22<00:08,  2.70trial/s, best loss: -0.825]"
     ]
    },
    {
     "name": "stderr",
     "output_type": "stream",
     "text": [
      "/home/ryan.zurrin001/miniconda3/envs/O/lib/python3.9/site-packages/pyod/models/base.py:412: UserWarning: y should not be presented in unsupervised learning.\n",
      "  warnings.warn(\n",
      "/home/ryan.zurrin001/miniconda3/envs/O/lib/python3.9/site-packages/pyod/models/base.py:412: UserWarning: y should not be presented in unsupervised learning.\n",
      "  warnings.warn(\n",
      "/home/ryan.zurrin001/miniconda3/envs/O/lib/python3.9/site-packages/pyod/models/base.py:412: UserWarning: y should not be presented in unsupervised learning.\n",
      "  warnings.warn(\n",
      "/home/ryan.zurrin001/miniconda3/envs/O/lib/python3.9/site-packages/pyod/models/base.py:412: UserWarning: y should not be presented in unsupervised learning.\n",
      "  warnings.warn(\n",
      "/home/ryan.zurrin001/miniconda3/envs/O/lib/python3.9/site-packages/pyod/models/base.py:412: UserWarning: y should not be presented in unsupervised learning.\n",
      "  warnings.warn(\n"
     ]
    },
    {
     "name": "stdout",
     "output_type": "stream",
     "text": [
      "[0 0 0 0 0 0 0 0 1 0 0 0 0 0 0 0 0 0 0 0]                                                                                                                                                                     \n",
      "0.0                                                                                                                                                                                                           \n",
      "0.0                                                                                                                                                                                                           \n",
      "0.0                                                                                                                                                                                                           \n",
      "0.95                                                                                                                                                                                                          \n",
      "[0 0 0 0 0 0 0 0 1 0 0 0 0 0 0 0 0 0 0 0]                                                                                                                                                                     \n",
      "0.0                                                                                                                                                                                                           \n",
      "0.0                                                                                                                                                                                                           \n",
      "0.0                                                                                                                                                                                                           \n",
      "0.95                                                                                                                                                                                                          \n",
      " 58%|█████████████████████████████████████████████████████████████████████████████████████▎                                                             | 29/50 [00:23<00:06,  3.03trial/s, best loss: -0.825]"
     ]
    },
    {
     "name": "stderr",
     "output_type": "stream",
     "text": [
      "/home/ryan.zurrin001/miniconda3/envs/O/lib/python3.9/site-packages/pyod/models/base.py:412: UserWarning: y should not be presented in unsupervised learning.\n",
      "  warnings.warn(\n",
      "/home/ryan.zurrin001/miniconda3/envs/O/lib/python3.9/site-packages/pyod/models/base.py:412: UserWarning: y should not be presented in unsupervised learning.\n",
      "  warnings.warn(\n",
      "/home/ryan.zurrin001/miniconda3/envs/O/lib/python3.9/site-packages/pyod/models/base.py:412: UserWarning: y should not be presented in unsupervised learning.\n",
      "  warnings.warn(\n",
      "/home/ryan.zurrin001/miniconda3/envs/O/lib/python3.9/site-packages/pyod/models/base.py:412: UserWarning: y should not be presented in unsupervised learning.\n",
      "  warnings.warn(\n",
      "/home/ryan.zurrin001/miniconda3/envs/O/lib/python3.9/site-packages/pyod/models/base.py:412: UserWarning: y should not be presented in unsupervised learning.\n",
      "  warnings.warn(\n",
      "/home/ryan.zurrin001/miniconda3/envs/O/lib/python3.9/site-packages/pyod/models/base.py:412: UserWarning: y should not be presented in unsupervised learning.\n",
      "  warnings.warn(\n",
      "/home/ryan.zurrin001/miniconda3/envs/O/lib/python3.9/site-packages/pyod/models/base.py:412: UserWarning: y should not be presented in unsupervised learning.\n",
      "  warnings.warn(\n",
      "/home/ryan.zurrin001/miniconda3/envs/O/lib/python3.9/site-packages/pyod/models/base.py:412: UserWarning: y should not be presented in unsupervised learning.\n",
      "  warnings.warn(\n",
      "/home/ryan.zurrin001/miniconda3/envs/O/lib/python3.9/site-packages/pyod/models/base.py:412: UserWarning: y should not be presented in unsupervised learning.\n",
      "  warnings.warn(\n",
      "/home/ryan.zurrin001/miniconda3/envs/O/lib/python3.9/site-packages/pyod/models/base.py:412: UserWarning: y should not be presented in unsupervised learning.\n",
      "  warnings.warn(\n"
     ]
    },
    {
     "name": "stdout",
     "output_type": "stream",
     "text": [
      "[1 0 0 0 0 0 0 1 0 0 0 0 0 0 1 0 0 0 0 0]                                                                                                                                                                     \n",
      "0.0                                                                                                                                                                                                           \n",
      "0.0                                                                                                                                                                                                           \n",
      "0.0                                                                                                                                                                                                           \n",
      "0.85                                                                                                                                                                                                          \n",
      " 60%|████████████████████████████████████████████████████████████████████████████████████████▏                                                          | 30/50 [00:23<00:06,  2.96trial/s, best loss: -0.825]"
     ]
    },
    {
     "name": "stderr",
     "output_type": "stream",
     "text": [
      "/home/ryan.zurrin001/miniconda3/envs/O/lib/python3.9/site-packages/pyod/models/base.py:412: UserWarning: y should not be presented in unsupervised learning.\n",
      "  warnings.warn(\n",
      "/home/ryan.zurrin001/miniconda3/envs/O/lib/python3.9/site-packages/pyod/models/base.py:412: UserWarning: y should not be presented in unsupervised learning.\n",
      "  warnings.warn(\n",
      "/home/ryan.zurrin001/miniconda3/envs/O/lib/python3.9/site-packages/pyod/models/base.py:412: UserWarning: y should not be presented in unsupervised learning.\n",
      "  warnings.warn(\n",
      "/home/ryan.zurrin001/miniconda3/envs/O/lib/python3.9/site-packages/pyod/models/base.py:412: UserWarning: y should not be presented in unsupervised learning.\n",
      "  warnings.warn(\n",
      "/home/ryan.zurrin001/miniconda3/envs/O/lib/python3.9/site-packages/pyod/models/base.py:412: UserWarning: y should not be presented in unsupervised learning.\n",
      "  warnings.warn(\n"
     ]
    },
    {
     "name": "stdout",
     "output_type": "stream",
     "text": [
      "[0 0 0 0 0 0 0 0 1 0 0 0 0 0 0 0 0 0 0 0]                                                                                                                                                                     \n",
      "0.0                                                                                                                                                                                                           \n",
      "0.0                                                                                                                                                                                                           \n",
      "0.0                                                                                                                                                                                                           \n",
      "0.95                                                                                                                                                                                                          \n",
      " 62%|███████████████████████████████████████████████████████████████████████████████████████████▏                                                       | 31/50 [00:23<00:06,  2.78trial/s, best loss: -0.825]"
     ]
    },
    {
     "name": "stderr",
     "output_type": "stream",
     "text": [
      "/home/ryan.zurrin001/miniconda3/envs/O/lib/python3.9/site-packages/pyod/models/base.py:412: UserWarning: y should not be presented in unsupervised learning.\n",
      "  warnings.warn(\n",
      "/home/ryan.zurrin001/miniconda3/envs/O/lib/python3.9/site-packages/pyod/models/base.py:412: UserWarning: y should not be presented in unsupervised learning.\n",
      "  warnings.warn(\n",
      "/home/ryan.zurrin001/miniconda3/envs/O/lib/python3.9/site-packages/pyod/models/base.py:412: UserWarning: y should not be presented in unsupervised learning.\n",
      "  warnings.warn(\n",
      "/home/ryan.zurrin001/miniconda3/envs/O/lib/python3.9/site-packages/pyod/models/base.py:412: UserWarning: y should not be presented in unsupervised learning.\n",
      "  warnings.warn(\n",
      "/home/ryan.zurrin001/miniconda3/envs/O/lib/python3.9/site-packages/pyod/models/base.py:412: UserWarning: y should not be presented in unsupervised learning.\n",
      "  warnings.warn(\n"
     ]
    },
    {
     "name": "stdout",
     "output_type": "stream",
     "text": [
      "[0 0 0 0 0 0 0 0 1 0 0 0 0 0 0 0 0 0 1 0]                                                                                                                                                                     \n",
      "0.0                                                                                                                                                                                                           \n",
      "0.0                                                                                                                                                                                                           \n",
      "0.0                                                                                                                                                                                                           \n",
      "0.9                                                                                                                                                                                                           \n",
      " 64%|██████████████████████████████████████████████████████████████████████████████████████████████                                                     | 32/50 [00:24<00:06,  2.85trial/s, best loss: -0.825]"
     ]
    },
    {
     "name": "stderr",
     "output_type": "stream",
     "text": [
      "/home/ryan.zurrin001/miniconda3/envs/O/lib/python3.9/site-packages/pyod/models/base.py:412: UserWarning: y should not be presented in unsupervised learning.\n",
      "  warnings.warn(\n",
      "/home/ryan.zurrin001/miniconda3/envs/O/lib/python3.9/site-packages/pyod/models/base.py:412: UserWarning: y should not be presented in unsupervised learning.\n",
      "  warnings.warn(\n",
      "/home/ryan.zurrin001/miniconda3/envs/O/lib/python3.9/site-packages/pyod/models/base.py:412: UserWarning: y should not be presented in unsupervised learning.\n",
      "  warnings.warn(\n",
      "/home/ryan.zurrin001/miniconda3/envs/O/lib/python3.9/site-packages/pyod/models/base.py:412: UserWarning: y should not be presented in unsupervised learning.\n",
      "  warnings.warn(\n",
      "/home/ryan.zurrin001/miniconda3/envs/O/lib/python3.9/site-packages/pyod/models/base.py:412: UserWarning: y should not be presented in unsupervised learning.\n",
      "  warnings.warn(\n"
     ]
    },
    {
     "name": "stdout",
     "output_type": "stream",
     "text": [
      "[1 0 0 0 0 0 0 1 0 0 0 0 0 0 0 0 0 0 0 0]                                                                                                                                                                     \n",
      "0.0                                                                                                                                                                                                           \n",
      "0.0                                                                                                                                                                                                           \n",
      "0.0                                                                                                                                                                                                           \n",
      "0.9                                                                                                                                                                                                           \n",
      "[0 0 0 0 0 0 0 0 1 0 0 0 0 0 0 0 0 0 0 0]                                                                                                                                                                     \n",
      "0.0                                                                                                                                                                                                           \n",
      "0.0                                                                                                                                                                                                           \n",
      "0.0                                                                                                                                                                                                           \n",
      "0.95                                                                                                                                                                                                          \n",
      " 68%|███████████████████████████████████████████████████████████████████████████████████████████████████▉                                               | 34/50 [00:24<00:05,  2.97trial/s, best loss: -0.825]"
     ]
    },
    {
     "name": "stderr",
     "output_type": "stream",
     "text": [
      "/home/ryan.zurrin001/miniconda3/envs/O/lib/python3.9/site-packages/pyod/models/base.py:412: UserWarning: y should not be presented in unsupervised learning.\n",
      "  warnings.warn(\n",
      "/home/ryan.zurrin001/miniconda3/envs/O/lib/python3.9/site-packages/pyod/models/base.py:412: UserWarning: y should not be presented in unsupervised learning.\n",
      "  warnings.warn(\n",
      "/home/ryan.zurrin001/miniconda3/envs/O/lib/python3.9/site-packages/pyod/models/base.py:412: UserWarning: y should not be presented in unsupervised learning.\n",
      "  warnings.warn(\n",
      "/home/ryan.zurrin001/miniconda3/envs/O/lib/python3.9/site-packages/pyod/models/base.py:412: UserWarning: y should not be presented in unsupervised learning.\n",
      "  warnings.warn(\n",
      "/home/ryan.zurrin001/miniconda3/envs/O/lib/python3.9/site-packages/pyod/models/base.py:412: UserWarning: y should not be presented in unsupervised learning.\n",
      "  warnings.warn(\n",
      "/home/ryan.zurrin001/miniconda3/envs/O/lib/python3.9/site-packages/pyod/models/base.py:412: UserWarning: y should not be presented in unsupervised learning.\n",
      "  warnings.warn(\n",
      "/home/ryan.zurrin001/miniconda3/envs/O/lib/python3.9/site-packages/pyod/models/base.py:412: UserWarning: y should not be presented in unsupervised learning.\n",
      "  warnings.warn(\n",
      "/home/ryan.zurrin001/miniconda3/envs/O/lib/python3.9/site-packages/pyod/models/base.py:412: UserWarning: y should not be presented in unsupervised learning.\n",
      "  warnings.warn(\n",
      "/home/ryan.zurrin001/miniconda3/envs/O/lib/python3.9/site-packages/pyod/models/base.py:412: UserWarning: y should not be presented in unsupervised learning.\n",
      "  warnings.warn(\n"
     ]
    },
    {
     "name": "stdout",
     "output_type": "stream",
     "text": [
      "[1 0 1 0 1 0 1 1 1 0 1 0 0 0 1 1 1 0 1 0]                                                                                                                                                                     \n",
      "0.0                                                                                                                                                                                                           \n",
      "0.0                                                                                                                                                                                                           \n",
      "0.0                                                                                                                                                                                                           \n",
      "0.45                                                                                                                                                                                                          \n",
      " 70%|██████████████████████████████████████████████████████████████████████████████████████████████████████▉                                            | 35/50 [00:25<00:06,  2.47trial/s, best loss: -0.825]"
     ]
    },
    {
     "name": "stderr",
     "output_type": "stream",
     "text": [
      "/home/ryan.zurrin001/miniconda3/envs/O/lib/python3.9/site-packages/pyod/models/base.py:412: UserWarning: y should not be presented in unsupervised learning.\n",
      "  warnings.warn(\n",
      "/home/ryan.zurrin001/miniconda3/envs/O/lib/python3.9/site-packages/pyod/models/base.py:412: UserWarning: y should not be presented in unsupervised learning.\n",
      "  warnings.warn(\n",
      "/home/ryan.zurrin001/miniconda3/envs/O/lib/python3.9/site-packages/pyod/models/base.py:412: UserWarning: y should not be presented in unsupervised learning.\n",
      "  warnings.warn(\n",
      "/home/ryan.zurrin001/miniconda3/envs/O/lib/python3.9/site-packages/pyod/models/base.py:412: UserWarning: y should not be presented in unsupervised learning.\n",
      "  warnings.warn(\n",
      "/home/ryan.zurrin001/miniconda3/envs/O/lib/python3.9/site-packages/pyod/models/base.py:412: UserWarning: y should not be presented in unsupervised learning.\n",
      "  warnings.warn(\n",
      "/home/ryan.zurrin001/miniconda3/envs/O/lib/python3.9/site-packages/pyod/models/base.py:412: UserWarning: y should not be presented in unsupervised learning.\n",
      "  warnings.warn(\n"
     ]
    },
    {
     "name": "stdout",
     "output_type": "stream",
     "text": [
      "[1 0 1 0 1 0 1 1 0 0 1 0 0 0 1 0 1 0 1 0]                                                                                                                                                                     \n",
      "0.0                                                                                                                                                                                                           \n",
      "0.0                                                                                                                                                                                                           \n",
      "0.0                                                                                                                                                                                                           \n",
      "0.55                                                                                                                                                                                                          \n",
      " 72%|█████████████████████████████████████████████████████████████████████████████████████████████████████████▊                                         | 36/50 [00:25<00:05,  2.36trial/s, best loss: -0.825]"
     ]
    },
    {
     "name": "stderr",
     "output_type": "stream",
     "text": [
      "/home/ryan.zurrin001/miniconda3/envs/O/lib/python3.9/site-packages/pyod/models/base.py:412: UserWarning: y should not be presented in unsupervised learning.\n",
      "  warnings.warn(\n",
      "/home/ryan.zurrin001/miniconda3/envs/O/lib/python3.9/site-packages/pyod/models/base.py:412: UserWarning: y should not be presented in unsupervised learning.\n",
      "  warnings.warn(\n",
      "/home/ryan.zurrin001/miniconda3/envs/O/lib/python3.9/site-packages/pyod/models/base.py:412: UserWarning: y should not be presented in unsupervised learning.\n",
      "  warnings.warn(\n",
      "/home/ryan.zurrin001/miniconda3/envs/O/lib/python3.9/site-packages/pyod/models/base.py:412: UserWarning: y should not be presented in unsupervised learning.\n",
      "  warnings.warn(\n",
      "/home/ryan.zurrin001/miniconda3/envs/O/lib/python3.9/site-packages/pyod/models/base.py:412: UserWarning: y should not be presented in unsupervised learning.\n",
      "  warnings.warn(\n"
     ]
    },
    {
     "name": "stdout",
     "output_type": "stream",
     "text": [
      "[1 0 0 0 0 0 0 0 1 0 0 0 0 0 0 0 0 0 0 0]                                                                                                                                                                     \n",
      "0.0                                                                                                                                                                                                           \n",
      "0.0                                                                                                                                                                                                           \n",
      "0.0                                                                                                                                                                                                           \n",
      "0.9                                                                                                                                                                                                           \n",
      "[0 0 0 0 0 0 0 0 1 0 0 0 0 0 0 0 0 0 0 0]                                                                                                                                                                     \n",
      "0.0                                                                                                                                                                                                           \n",
      "0.0                                                                                                                                                                                                           \n",
      "                                                                                                                                                                                                              \r"
     ]
    },
    {
     "name": "stderr",
     "output_type": "stream",
     "text": [
      "/home/ryan.zurrin001/miniconda3/envs/O/lib/python3.9/site-packages/pyod/models/base.py:412: UserWarning: y should not be presented in unsupervised learning.\n",
      "  warnings.warn(\n",
      "/home/ryan.zurrin001/miniconda3/envs/O/lib/python3.9/site-packages/pyod/models/base.py:412: UserWarning: y should not be presented in unsupervised learning.\n",
      "  warnings.warn(\n",
      "/home/ryan.zurrin001/miniconda3/envs/O/lib/python3.9/site-packages/pyod/models/base.py:412: UserWarning: y should not be presented in unsupervised learning.\n",
      "  warnings.warn(\n",
      "/home/ryan.zurrin001/miniconda3/envs/O/lib/python3.9/site-packages/pyod/models/base.py:412: UserWarning: y should not be presented in unsupervised learning.\n",
      "  warnings.warn(\n",
      "/home/ryan.zurrin001/miniconda3/envs/O/lib/python3.9/site-packages/pyod/models/base.py:412: UserWarning: y should not be presented in unsupervised learning.\n",
      "  warnings.warn(\n"
     ]
    },
    {
     "name": "stdout",
     "output_type": "stream",
     "text": [
      "0.0\n",
      "0.95                                                                                                                                                                                                          \n",
      " 76%|███████████████████████████████████████████████████████████████████████████████████████████████████████████████▋                                   | 38/50 [00:26<00:04,  2.62trial/s, best loss: -0.825]"
     ]
    },
    {
     "name": "stderr",
     "output_type": "stream",
     "text": [
      "/home/ryan.zurrin001/miniconda3/envs/O/lib/python3.9/site-packages/pyod/models/base.py:412: UserWarning: y should not be presented in unsupervised learning.\n",
      "  warnings.warn(\n",
      "/home/ryan.zurrin001/miniconda3/envs/O/lib/python3.9/site-packages/pyod/models/base.py:412: UserWarning: y should not be presented in unsupervised learning.\n",
      "  warnings.warn(\n",
      "/home/ryan.zurrin001/miniconda3/envs/O/lib/python3.9/site-packages/pyod/models/base.py:412: UserWarning: y should not be presented in unsupervised learning.\n",
      "  warnings.warn(\n",
      "/home/ryan.zurrin001/miniconda3/envs/O/lib/python3.9/site-packages/pyod/models/base.py:412: UserWarning: y should not be presented in unsupervised learning.\n",
      "  warnings.warn(\n",
      "/home/ryan.zurrin001/miniconda3/envs/O/lib/python3.9/site-packages/pyod/models/base.py:412: UserWarning: y should not be presented in unsupervised learning.\n",
      "  warnings.warn(\n"
     ]
    },
    {
     "name": "stdout",
     "output_type": "stream",
     "text": [
      "[0 0 0 0 0 0 0 0 1 0 0 0 0 0 0 0 0 0 1 0]                                                                                                                                                                     \n",
      "0.0                                                                                                                                                                                                           \n",
      "0.0                                                                                                                                                                                                           \n",
      "0.0                                                                                                                                                                                                           \n",
      "0.9                                                                                                                                                                                                           \n",
      " 78%|██████████████████████████████████████████████████████████████████████████████████████████████████████████████████▋                                | 39/50 [00:27<00:04,  2.59trial/s, best loss: -0.825]"
     ]
    },
    {
     "name": "stderr",
     "output_type": "stream",
     "text": [
      "/home/ryan.zurrin001/miniconda3/envs/O/lib/python3.9/site-packages/pyod/models/base.py:412: UserWarning: y should not be presented in unsupervised learning.\n",
      "  warnings.warn(\n",
      "/home/ryan.zurrin001/miniconda3/envs/O/lib/python3.9/site-packages/pyod/models/base.py:412: UserWarning: y should not be presented in unsupervised learning.\n",
      "  warnings.warn(\n",
      "/home/ryan.zurrin001/miniconda3/envs/O/lib/python3.9/site-packages/pyod/models/base.py:412: UserWarning: y should not be presented in unsupervised learning.\n",
      "  warnings.warn(\n",
      "/home/ryan.zurrin001/miniconda3/envs/O/lib/python3.9/site-packages/pyod/models/base.py:412: UserWarning: y should not be presented in unsupervised learning.\n",
      "  warnings.warn(\n",
      "/home/ryan.zurrin001/miniconda3/envs/O/lib/python3.9/site-packages/pyod/models/base.py:412: UserWarning: y should not be presented in unsupervised learning.\n",
      "  warnings.warn(\n"
     ]
    },
    {
     "name": "stdout",
     "output_type": "stream",
     "text": [
      "[0 0 0 0 0 0 0 0 1 0 0 0 0 0 1 0 0 0 1 0]                                                                                                                                                                     \n",
      "0.0                                                                                                                                                                                                           \n",
      "0.0                                                                                                                                                                                                           \n",
      "0.0                                                                                                                                                                                                           \n",
      "0.85                                                                                                                                                                                                          \n",
      " 80%|█████████████████████████████████████████████████████████████████████████████████████████████████████████████████████▌                             | 40/50 [00:27<00:03,  2.68trial/s, best loss: -0.825]"
     ]
    },
    {
     "name": "stderr",
     "output_type": "stream",
     "text": [
      "/home/ryan.zurrin001/miniconda3/envs/O/lib/python3.9/site-packages/pyod/models/base.py:412: UserWarning: y should not be presented in unsupervised learning.\n",
      "  warnings.warn(\n",
      "/home/ryan.zurrin001/miniconda3/envs/O/lib/python3.9/site-packages/pyod/models/base.py:412: UserWarning: y should not be presented in unsupervised learning.\n",
      "  warnings.warn(\n",
      "/home/ryan.zurrin001/miniconda3/envs/O/lib/python3.9/site-packages/pyod/models/base.py:412: UserWarning: y should not be presented in unsupervised learning.\n",
      "  warnings.warn(\n",
      "/home/ryan.zurrin001/miniconda3/envs/O/lib/python3.9/site-packages/pyod/models/base.py:412: UserWarning: y should not be presented in unsupervised learning.\n",
      "  warnings.warn(\n",
      "/home/ryan.zurrin001/miniconda3/envs/O/lib/python3.9/site-packages/pyod/models/base.py:412: UserWarning: y should not be presented in unsupervised learning.\n",
      "  warnings.warn(\n"
     ]
    },
    {
     "name": "stdout",
     "output_type": "stream",
     "text": [
      "[0 0 0 0 0 0 0 0 1 0 0 0 0 0 0 0 0 0 1 0]                                                                                                                                                                     \n",
      "0.0                                                                                                                                                                                                           \n",
      "0.0                                                                                                                                                                                                           \n",
      "0.0                                                                                                                                                                                                           \n",
      "0.9                                                                                                                                                                                                           \n",
      " 82%|████████████████████████████████████████████████████████████████████████████████████████████████████████████████████████▌                          | 41/50 [00:27<00:03,  2.63trial/s, best loss: -0.825]"
     ]
    },
    {
     "name": "stderr",
     "output_type": "stream",
     "text": [
      "/home/ryan.zurrin001/miniconda3/envs/O/lib/python3.9/site-packages/pyod/models/base.py:412: UserWarning: y should not be presented in unsupervised learning.\n",
      "  warnings.warn(\n",
      "/home/ryan.zurrin001/miniconda3/envs/O/lib/python3.9/site-packages/pyod/models/base.py:412: UserWarning: y should not be presented in unsupervised learning.\n",
      "  warnings.warn(\n",
      "/home/ryan.zurrin001/miniconda3/envs/O/lib/python3.9/site-packages/pyod/models/base.py:412: UserWarning: y should not be presented in unsupervised learning.\n",
      "  warnings.warn(\n",
      "/home/ryan.zurrin001/miniconda3/envs/O/lib/python3.9/site-packages/pyod/models/base.py:412: UserWarning: y should not be presented in unsupervised learning.\n",
      "  warnings.warn(\n",
      "/home/ryan.zurrin001/miniconda3/envs/O/lib/python3.9/site-packages/pyod/models/base.py:412: UserWarning: y should not be presented in unsupervised learning.\n",
      "  warnings.warn(\n"
     ]
    },
    {
     "name": "stdout",
     "output_type": "stream",
     "text": [
      "[0 0 0 0 0 0 0 0 1 0 0 0 0 0 0 0 0 0 0 0]                                                                                                                                                                     \n",
      "0.0                                                                                                                                                                                                           \n",
      "0.0                                                                                                                                                                                                           \n",
      "0.0                                                                                                                                                                                                           \n",
      "0.95                                                                                                                                                                                                          \n",
      "[1 0 0 0 0 0 0 0 0 0 0 0 0 0 0 0 0 0 0 0]                                                                                                                                                                     \n",
      "0.0                                                                                                                                                                                                           \n",
      " 84%|███████████████████████████████████████████████████████████████████████████████████████████████████████████████████████████▍                       | 42/50 [00:28<00:03,  2.59trial/s, best loss: -0.825]"
     ]
    },
    {
     "name": "stderr",
     "output_type": "stream",
     "text": [
      "/home/ryan.zurrin001/miniconda3/envs/O/lib/python3.9/site-packages/pyod/models/base.py:412: UserWarning: y should not be presented in unsupervised learning.\n",
      "  warnings.warn(\n",
      "/home/ryan.zurrin001/miniconda3/envs/O/lib/python3.9/site-packages/pyod/models/base.py:412: UserWarning: y should not be presented in unsupervised learning.\n",
      "  warnings.warn(\n",
      "/home/ryan.zurrin001/miniconda3/envs/O/lib/python3.9/site-packages/pyod/models/base.py:412: UserWarning: y should not be presented in unsupervised learning.\n",
      "  warnings.warn(\n",
      "/home/ryan.zurrin001/miniconda3/envs/O/lib/python3.9/site-packages/pyod/models/base.py:412: UserWarning: y should not be presented in unsupervised learning.\n",
      "  warnings.warn(\n",
      "/home/ryan.zurrin001/miniconda3/envs/O/lib/python3.9/site-packages/pyod/models/base.py:412: UserWarning: y should not be presented in unsupervised learning.\n",
      "  warnings.warn(\n"
     ]
    },
    {
     "name": "stdout",
     "output_type": "stream",
     "text": [
      "0.0                                                                                                                                                                                                           \n",
      "0.0                                                                                                                                                                                                           \n",
      "0.95                                                                                                                                                                                                          \n",
      " 86%|██████████████████████████████████████████████████████████████████████████████████████████████████████████████████████████████▍                    | 43/50 [00:28<00:02,  2.72trial/s, best loss: -0.825]"
     ]
    },
    {
     "name": "stderr",
     "output_type": "stream",
     "text": [
      "/home/ryan.zurrin001/miniconda3/envs/O/lib/python3.9/site-packages/pyod/models/base.py:412: UserWarning: y should not be presented in unsupervised learning.\n",
      "  warnings.warn(\n",
      "/home/ryan.zurrin001/miniconda3/envs/O/lib/python3.9/site-packages/pyod/models/base.py:412: UserWarning: y should not be presented in unsupervised learning.\n",
      "  warnings.warn(\n",
      "/home/ryan.zurrin001/miniconda3/envs/O/lib/python3.9/site-packages/pyod/models/base.py:412: UserWarning: y should not be presented in unsupervised learning.\n",
      "  warnings.warn(\n",
      "/home/ryan.zurrin001/miniconda3/envs/O/lib/python3.9/site-packages/pyod/models/base.py:412: UserWarning: y should not be presented in unsupervised learning.\n",
      "  warnings.warn(\n",
      "/home/ryan.zurrin001/miniconda3/envs/O/lib/python3.9/site-packages/pyod/models/base.py:412: UserWarning: y should not be presented in unsupervised learning.\n",
      "  warnings.warn(\n"
     ]
    },
    {
     "name": "stdout",
     "output_type": "stream",
     "text": [
      "[1 0 0 0 0 0 0 1 0 0 0 0 0 0 1 0 0 0 0 0]                                                                                                                                                                     \n",
      "0.0                                                                                                                                                                                                           \n",
      "0.0                                                                                                                                                                                                           \n",
      "0.0                                                                                                                                                                                                           \n",
      "0.85                                                                                                                                                                                                          \n",
      " 88%|█████████████████████████████████████████████████████████████████████████████████████████████████████████████████████████████████▎                 | 44/50 [00:28<00:02,  2.75trial/s, best loss: -0.825]"
     ]
    },
    {
     "name": "stderr",
     "output_type": "stream",
     "text": [
      "/home/ryan.zurrin001/miniconda3/envs/O/lib/python3.9/site-packages/pyod/models/base.py:412: UserWarning: y should not be presented in unsupervised learning.\n",
      "  warnings.warn(\n",
      "/home/ryan.zurrin001/miniconda3/envs/O/lib/python3.9/site-packages/pyod/models/base.py:412: UserWarning: y should not be presented in unsupervised learning.\n",
      "  warnings.warn(\n",
      "/home/ryan.zurrin001/miniconda3/envs/O/lib/python3.9/site-packages/pyod/models/base.py:412: UserWarning: y should not be presented in unsupervised learning.\n",
      "  warnings.warn(\n",
      "/home/ryan.zurrin001/miniconda3/envs/O/lib/python3.9/site-packages/pyod/models/base.py:412: UserWarning: y should not be presented in unsupervised learning.\n",
      "  warnings.warn(\n",
      "/home/ryan.zurrin001/miniconda3/envs/O/lib/python3.9/site-packages/pyod/models/base.py:412: UserWarning: y should not be presented in unsupervised learning.\n",
      "  warnings.warn(\n"
     ]
    },
    {
     "name": "stdout",
     "output_type": "stream",
     "text": [
      "[0 0 0 0 0 0 0 1 1 0 0 0 0 0 1 0 0 0 0 0]                                                                                                                                                                     \n",
      "0.0                                                                                                                                                                                                           \n",
      "0.0                                                                                                                                                                                                           \n",
      "0.0                                                                                                                                                                                                           \n",
      "0.85                                                                                                                                                                                                          \n",
      "                                                                                                                                                                                                              "
     ]
    },
    {
     "name": "stderr",
     "output_type": "stream",
     "text": [
      "/home/ryan.zurrin001/miniconda3/envs/O/lib/python3.9/site-packages/pyod/models/base.py:412: UserWarning: y should not be presented in unsupervised learning.\n",
      "  warnings.warn(\n",
      "/home/ryan.zurrin001/miniconda3/envs/O/lib/python3.9/site-packages/pyod/models/base.py:412: UserWarning: y should not be presented in unsupervised learning.\n",
      "  warnings.warn(\n",
      "/home/ryan.zurrin001/miniconda3/envs/O/lib/python3.9/site-packages/pyod/models/base.py:412: UserWarning: y should not be presented in unsupervised learning.\n",
      "  warnings.warn(\n",
      "/home/ryan.zurrin001/miniconda3/envs/O/lib/python3.9/site-packages/pyod/models/base.py:412: UserWarning: y should not be presented in unsupervised learning.\n",
      "  warnings.warn(\n",
      "/home/ryan.zurrin001/miniconda3/envs/O/lib/python3.9/site-packages/pyod/models/base.py:412: UserWarning: y should not be presented in unsupervised learning.\n",
      "  warnings.warn(\n"
     ]
    },
    {
     "name": "stdout",
     "output_type": "stream",
     "text": [
      "[1 0 0 0 0 0 0 1 0 0 0 0 0 0 1 0 0 0 0 0]\n",
      "0.0                                                                                                                                                                                                           \n",
      "0.0                                                                                                                                                                                                           \n",
      "0.0                                                                                                                                                                                                           \n",
      "0.85                                                                                                                                                                                                          \n",
      "[1 0 1 0 1 0 1 1 1 0 1 0 0 0 1 1 1 0 1 0]                                                                                                                                                                     \n",
      "0.0                                                                                                                                                                                                           \n",
      "0.0                                                                                                                                                                                                           \n",
      "0.0                                                                                                                                                                                                           \n",
      "                                                                                                                                                                                                              "
     ]
    },
    {
     "name": "stderr",
     "output_type": "stream",
     "text": [
      "/home/ryan.zurrin001/miniconda3/envs/O/lib/python3.9/site-packages/pyod/models/base.py:412: UserWarning: y should not be presented in unsupervised learning.\n",
      "  warnings.warn(\n",
      "/home/ryan.zurrin001/miniconda3/envs/O/lib/python3.9/site-packages/pyod/models/base.py:412: UserWarning: y should not be presented in unsupervised learning.\n",
      "  warnings.warn(\n",
      "/home/ryan.zurrin001/miniconda3/envs/O/lib/python3.9/site-packages/pyod/models/base.py:412: UserWarning: y should not be presented in unsupervised learning.\n",
      "  warnings.warn(\n",
      "/home/ryan.zurrin001/miniconda3/envs/O/lib/python3.9/site-packages/pyod/models/base.py:412: UserWarning: y should not be presented in unsupervised learning.\n",
      "  warnings.warn(\n",
      "/home/ryan.zurrin001/miniconda3/envs/O/lib/python3.9/site-packages/pyod/models/base.py:412: UserWarning: y should not be presented in unsupervised learning.\n",
      "  warnings.warn(\n"
     ]
    },
    {
     "name": "stdout",
     "output_type": "stream",
     "text": [
      "0.45\n",
      " 94%|██████████████████████████████████████████████████████████████████████████████████████████████████████████████████████████████████████████▏        | 47/50 [00:29<00:01,  2.87trial/s, best loss: -0.825]"
     ]
    },
    {
     "name": "stderr",
     "output_type": "stream",
     "text": [
      "/home/ryan.zurrin001/miniconda3/envs/O/lib/python3.9/site-packages/pyod/models/base.py:412: UserWarning: y should not be presented in unsupervised learning.\n",
      "  warnings.warn(\n",
      "/home/ryan.zurrin001/miniconda3/envs/O/lib/python3.9/site-packages/pyod/models/base.py:412: UserWarning: y should not be presented in unsupervised learning.\n",
      "  warnings.warn(\n",
      "/home/ryan.zurrin001/miniconda3/envs/O/lib/python3.9/site-packages/pyod/models/base.py:412: UserWarning: y should not be presented in unsupervised learning.\n",
      "  warnings.warn(\n",
      "/home/ryan.zurrin001/miniconda3/envs/O/lib/python3.9/site-packages/pyod/models/base.py:412: UserWarning: y should not be presented in unsupervised learning.\n",
      "  warnings.warn(\n",
      "/home/ryan.zurrin001/miniconda3/envs/O/lib/python3.9/site-packages/pyod/models/base.py:412: UserWarning: y should not be presented in unsupervised learning.\n",
      "  warnings.warn(\n"
     ]
    },
    {
     "name": "stdout",
     "output_type": "stream",
     "text": [
      "[0 0 0 0 0 0 0 0 1 0 0 0 0 0 0 0 0 0 0 0]                                                                                                                                                                     \n",
      "0.0                                                                                                                                                                                                           \n",
      "0.0                                                                                                                                                                                                           \n",
      "0.0                                                                                                                                                                                                           \n",
      "0.95                                                                                                                                                                                                          \n",
      "[1 0 0 0 0 0 0 1 1 0 0 0 0 0 1 0 0 0 0 0]                                                                                                                                                                     \n",
      "0.0                                                                                                                                                                                                           \n",
      "0.0                                                                                                                                                                                                           \n",
      "0.0                                                                                                                                                                                                           \n",
      "0.8                                                                                                                                                                                                           \n",
      " 98%|████████████████████████████████████████████████████████████████████████████████████████████████████████████████████████████████████████████████   | 49/50 [00:30<00:00,  3.09trial/s, best loss: -0.825]"
     ]
    },
    {
     "name": "stderr",
     "output_type": "stream",
     "text": [
      "/home/ryan.zurrin001/miniconda3/envs/O/lib/python3.9/site-packages/pyod/models/base.py:412: UserWarning: y should not be presented in unsupervised learning.\n",
      "  warnings.warn(\n",
      "/home/ryan.zurrin001/miniconda3/envs/O/lib/python3.9/site-packages/pyod/models/base.py:412: UserWarning: y should not be presented in unsupervised learning.\n",
      "  warnings.warn(\n",
      "/home/ryan.zurrin001/miniconda3/envs/O/lib/python3.9/site-packages/pyod/models/base.py:412: UserWarning: y should not be presented in unsupervised learning.\n",
      "  warnings.warn(\n",
      "/home/ryan.zurrin001/miniconda3/envs/O/lib/python3.9/site-packages/pyod/models/base.py:412: UserWarning: y should not be presented in unsupervised learning.\n",
      "  warnings.warn(\n",
      "/home/ryan.zurrin001/miniconda3/envs/O/lib/python3.9/site-packages/pyod/models/base.py:412: UserWarning: y should not be presented in unsupervised learning.\n",
      "  warnings.warn(\n",
      "/home/ryan.zurrin001/miniconda3/envs/O/lib/python3.9/site-packages/pyod/models/base.py:412: UserWarning: y should not be presented in unsupervised learning.\n",
      "  warnings.warn(\n",
      "/home/ryan.zurrin001/miniconda3/envs/O/lib/python3.9/site-packages/pyod/models/base.py:412: UserWarning: y should not be presented in unsupervised learning.\n",
      "  warnings.warn(\n",
      "/home/ryan.zurrin001/miniconda3/envs/O/lib/python3.9/site-packages/pyod/models/base.py:412: UserWarning: y should not be presented in unsupervised learning.\n",
      "  warnings.warn(\n",
      "/home/ryan.zurrin001/miniconda3/envs/O/lib/python3.9/site-packages/pyod/models/base.py:412: UserWarning: y should not be presented in unsupervised learning.\n",
      "  warnings.warn(\n",
      "/home/ryan.zurrin001/miniconda3/envs/O/lib/python3.9/site-packages/pyod/models/base.py:412: UserWarning: y should not be presented in unsupervised learning.\n",
      "  warnings.warn(\n"
     ]
    },
    {
     "name": "stdout",
     "output_type": "stream",
     "text": [
      "[1 0 0 0 0 0 0 1 1 0 0 0 0 0 0 0 0 0 0 0]                                                                                                                                                                     \n",
      "0.0                                                                                                                                                                                                           \n",
      "0.0                                                                                                                                                                                                           \n",
      "0.0                                                                                                                                                                                                           \n",
      "0.85                                                                                                                                                                                                          \n",
      "100%|███████████████████████████████████████████████████████████████████████████████████████████████████████████████████████████████████████████████████| 50/50 [00:30<00:00,  1.61trial/s, best loss: -0.825]\n"
     ]
    }
   ],
   "source": [
    "\n",
    "search = fmin(\n",
    "    fn=objective,\n",
    "    space=param_grid,\n",
    "    max_evals=50,\n",
    "    rstate=np.random.default_rng(42),\n",
    "    algo=rand.suggest,\n",
    ")"
   ]
  },
  {
   "cell_type": "code",
   "execution_count": 72,
   "id": "534d2864",
   "metadata": {},
   "outputs": [
    {
     "data": {
      "text/plain": [
       "dict"
      ]
     },
     "execution_count": 72,
     "metadata": {},
     "output_type": "execute_result"
    }
   ],
   "source": [
    "type(search)"
   ]
  },
  {
   "cell_type": "code",
   "execution_count": 73,
   "id": "c8cd0c3c",
   "metadata": {},
   "outputs": [
    {
     "data": {
      "text/plain": [
       "{'contamination': 0.091466753773393,\n",
       " 'leaf_size': 12.0,\n",
       " 'method': 2,\n",
       " 'metric': 2,\n",
       " 'n_jobs': 3.0,\n",
       " 'n_neighbors': 44.0,\n",
       " 'p': 7.0,\n",
       " 'radius': 4.1000000000000005}"
      ]
     },
     "execution_count": 73,
     "metadata": {},
     "output_type": "execute_result"
    }
   ],
   "source": [
    "search"
   ]
  },
  {
   "cell_type": "code",
   "execution_count": 37,
   "id": "938856a5",
   "metadata": {},
   "outputs": [],
   "source": [
    "best_hp_dict = {\n",
    "        'contamination': search['contamination'], # important int, as it takes integers only\n",
    "        'leaf_size': int(search['leaf_size']), # important int, as it takes integers only\n",
    "        'method': 'mean',\n",
    "        'metric': 'minkowski',\n",
    "        'n_jobs': int(search['n_jobs']),\n",
    "        'n_neighbors': int(search['n_neighbors']),\n",
    "        'p': search['p'],\n",
    "        'radius': search['radius'],\n",
    "}"
   ]
  },
  {
   "cell_type": "code",
   "execution_count": 38,
   "id": "5b673015",
   "metadata": {},
   "outputs": [],
   "source": [
    "clf_final = KNN(**best_hp_dict)\n",
    "clf_final.fit(X_train)\n",
    "\n",
    "y_train_scores = clf_final.decision_scores_\n",
    "y_test_scores = clf_final.decision_function(X_test)"
   ]
  },
  {
   "cell_type": "code",
   "execution_count": null,
   "id": "72d8833c",
   "metadata": {},
   "outputs": [],
   "source": []
  },
  {
   "cell_type": "markdown",
   "id": "75efb4b7",
   "metadata": {},
   "source": [
    "# Evaluating the search\n",
    "\n",
    "We can use Trials if we want to look into the search, and the performance values encountered during the process."
   ]
  },
  {
   "cell_type": "code",
   "execution_count": 39,
   "id": "45d03e6a",
   "metadata": {},
   "outputs": [],
   "source": [
    "scores = O.OutlierDetectorLite.evaluate(labels[0:80], clf_final.labels_)"
   ]
  },
  {
   "cell_type": "code",
   "execution_count": 40,
   "id": "f055e1be",
   "metadata": {},
   "outputs": [
    {
     "data": {
      "text/plain": [
       "{'groundtruth_indices': (array([27, 38, 47, 48, 61, 63]),),\n",
       " 'pred_indices': (array([ 4,  7, 34, 36, 42, 43, 75, 76]),),\n",
       " 'roc_auc': 0.44594594594594594,\n",
       " 'f1_score': 0.0,\n",
       " 'acc_score': 0.825,\n",
       " 'jaccard_score': 0.0,\n",
       " 'precision_score': 0.0,\n",
       " 'average_precision': 0.075,\n",
       " 'recall_score': 0.0,\n",
       " 'hamming_loss': 0.175,\n",
       " 'log_loss': 6.044365828852389,\n",
       " 'tn': 66,\n",
       " 'fp': 8,\n",
       " 'fn': 6,\n",
       " 'tp': 0}"
      ]
     },
     "execution_count": 40,
     "metadata": {},
     "output_type": "execute_result"
    }
   ],
   "source": [
    "scores"
   ]
  },
  {
   "cell_type": "code",
   "execution_count": 42,
   "id": "2042e55e",
   "metadata": {},
   "outputs": [],
   "source": [
    "trials = Trials()"
   ]
  },
  {
   "cell_type": "code",
   "execution_count": 43,
   "id": "d07be6bf",
   "metadata": {},
   "outputs": [
    {
     "name": "stdout",
     "output_type": "stream",
     "text": [
      "[0 0 0 0 0 0 0 0 1 0 0 0 0 0 0 0 0 0 0 0]                                                                                                                                                                     \n",
      "0.0                                                                                                                                                                                                           \n",
      "0.0                                                                                                                                                                                                           \n",
      "0.0                                                                                                                                                                                                           \n",
      "0.95                                                                                                                                                                                                          \n",
      "  2%|██▉                                                                                                                                                 | 1/50 [00:00<00:10,  4.61trial/s, best loss: -0.825]"
     ]
    },
    {
     "name": "stderr",
     "output_type": "stream",
     "text": [
      "/home/ryan.zurrin001/miniconda3/envs/O/lib/python3.9/site-packages/pyod/models/base.py:412: UserWarning: y should not be presented in unsupervised learning.\n",
      "  warnings.warn(\n",
      "/home/ryan.zurrin001/miniconda3/envs/O/lib/python3.9/site-packages/pyod/models/base.py:412: UserWarning: y should not be presented in unsupervised learning.\n",
      "  warnings.warn(\n",
      "/home/ryan.zurrin001/miniconda3/envs/O/lib/python3.9/site-packages/pyod/models/base.py:412: UserWarning: y should not be presented in unsupervised learning.\n",
      "  warnings.warn(\n",
      "/home/ryan.zurrin001/miniconda3/envs/O/lib/python3.9/site-packages/pyod/models/base.py:412: UserWarning: y should not be presented in unsupervised learning.\n",
      "  warnings.warn(\n",
      "/home/ryan.zurrin001/miniconda3/envs/O/lib/python3.9/site-packages/pyod/models/base.py:412: UserWarning: y should not be presented in unsupervised learning.\n",
      "  warnings.warn(\n"
     ]
    },
    {
     "name": "stdout",
     "output_type": "stream",
     "text": [
      "[1 0 0 0 0 0 0 1 1 0 0 0 0 0 0 0 0 0 0 0]                                                                                                                                                                     \n",
      "0.0                                                                                                                                                                                                           \n",
      "0.0                                                                                                                                                                                                           \n",
      "0.0                                                                                                                                                                                                           \n",
      "0.85                                                                                                                                                                                                          \n",
      "[1 0 0 0 0 0 0 1 0 0 0 0 0 0 0 0 0 0 0 0]                                                                                                                                                                     \n",
      "0.0                                                                                                                                                                                                           \n",
      "                                                                                                                                                                                                              "
     ]
    },
    {
     "name": "stderr",
     "output_type": "stream",
     "text": [
      "/home/ryan.zurrin001/miniconda3/envs/O/lib/python3.9/site-packages/pyod/models/base.py:412: UserWarning: y should not be presented in unsupervised learning.\n",
      "  warnings.warn(\n",
      "/home/ryan.zurrin001/miniconda3/envs/O/lib/python3.9/site-packages/pyod/models/base.py:412: UserWarning: y should not be presented in unsupervised learning.\n",
      "  warnings.warn(\n",
      "/home/ryan.zurrin001/miniconda3/envs/O/lib/python3.9/site-packages/pyod/models/base.py:412: UserWarning: y should not be presented in unsupervised learning.\n",
      "  warnings.warn(\n",
      "/home/ryan.zurrin001/miniconda3/envs/O/lib/python3.9/site-packages/pyod/models/base.py:412: UserWarning: y should not be presented in unsupervised learning.\n",
      "  warnings.warn(\n",
      "/home/ryan.zurrin001/miniconda3/envs/O/lib/python3.9/site-packages/pyod/models/base.py:412: UserWarning: y should not be presented in unsupervised learning.\n",
      "  warnings.warn(\n",
      "/home/ryan.zurrin001/miniconda3/envs/O/lib/python3.9/site-packages/pyod/models/base.py:412: UserWarning: y should not be presented in unsupervised learning.\n",
      "  warnings.warn(\n",
      "/home/ryan.zurrin001/miniconda3/envs/O/lib/python3.9/site-packages/pyod/models/base.py:412: UserWarning: y should not be presented in unsupervised learning.\n",
      "  warnings.warn(\n",
      "/home/ryan.zurrin001/miniconda3/envs/O/lib/python3.9/site-packages/pyod/models/base.py:412: UserWarning: y should not be presented in unsupervised learning.\n",
      "  warnings.warn(\n",
      "/home/ryan.zurrin001/miniconda3/envs/O/lib/python3.9/site-packages/pyod/models/base.py:412: UserWarning: y should not be presented in unsupervised learning.\n",
      "  warnings.warn(\n",
      "/home/ryan.zurrin001/miniconda3/envs/O/lib/python3.9/site-packages/pyod/models/base.py:412: UserWarning: y should not be presented in unsupervised learning.\n",
      "  warnings.warn(\n"
     ]
    },
    {
     "name": "stdout",
     "output_type": "stream",
     "text": [
      "0.0\n",
      "0.0                                                                                                                                                                                                           \n",
      "0.9                                                                                                                                                                                                           \n",
      "[0 0 0 0 0 0 0 0 1 0 0 0 0 0 0 0 0 0 0 0]                                                                                                                                                                     \n",
      "0.0                                                                                                                                                                                                           \n",
      "0.0                                                                                                                                                                                                           \n",
      "0.0                                                                                                                                                                                                           \n",
      "0.95                                                                                                                                                                                                          \n",
      "  8%|███████████▊                                                                                                                                        | 4/50 [00:00<00:08,  5.63trial/s, best loss: -0.825]"
     ]
    },
    {
     "name": "stderr",
     "output_type": "stream",
     "text": [
      "/home/ryan.zurrin001/miniconda3/envs/O/lib/python3.9/site-packages/pyod/models/base.py:412: UserWarning: y should not be presented in unsupervised learning.\n",
      "  warnings.warn(\n",
      "/home/ryan.zurrin001/miniconda3/envs/O/lib/python3.9/site-packages/pyod/models/base.py:412: UserWarning: y should not be presented in unsupervised learning.\n",
      "  warnings.warn(\n",
      "/home/ryan.zurrin001/miniconda3/envs/O/lib/python3.9/site-packages/pyod/models/base.py:412: UserWarning: y should not be presented in unsupervised learning.\n",
      "  warnings.warn(\n",
      "/home/ryan.zurrin001/miniconda3/envs/O/lib/python3.9/site-packages/pyod/models/base.py:412: UserWarning: y should not be presented in unsupervised learning.\n",
      "  warnings.warn(\n",
      "/home/ryan.zurrin001/miniconda3/envs/O/lib/python3.9/site-packages/pyod/models/base.py:412: UserWarning: y should not be presented in unsupervised learning.\n",
      "  warnings.warn(\n"
     ]
    },
    {
     "name": "stdout",
     "output_type": "stream",
     "text": [
      "[1 0 0 0 0 0 0 0 1 0 0 0 0 0 0 0 0 0 1 0]                                                                                                                                                                     \n",
      "0.0                                                                                                                                                                                                           \n",
      "0.0                                                                                                                                                                                                           \n",
      "0.0                                                                                                                                                                                                           \n",
      "0.85                                                                                                                                                                                                          \n",
      " 10%|██████████████▊                                                                                                                                     | 5/50 [00:00<00:08,  5.11trial/s, best loss: -0.825]"
     ]
    },
    {
     "name": "stderr",
     "output_type": "stream",
     "text": [
      "/home/ryan.zurrin001/miniconda3/envs/O/lib/python3.9/site-packages/pyod/models/base.py:412: UserWarning: y should not be presented in unsupervised learning.\n",
      "  warnings.warn(\n",
      "/home/ryan.zurrin001/miniconda3/envs/O/lib/python3.9/site-packages/pyod/models/base.py:412: UserWarning: y should not be presented in unsupervised learning.\n",
      "  warnings.warn(\n",
      "/home/ryan.zurrin001/miniconda3/envs/O/lib/python3.9/site-packages/pyod/models/base.py:412: UserWarning: y should not be presented in unsupervised learning.\n",
      "  warnings.warn(\n",
      "/home/ryan.zurrin001/miniconda3/envs/O/lib/python3.9/site-packages/pyod/models/base.py:412: UserWarning: y should not be presented in unsupervised learning.\n",
      "  warnings.warn(\n",
      "/home/ryan.zurrin001/miniconda3/envs/O/lib/python3.9/site-packages/pyod/models/base.py:412: UserWarning: y should not be presented in unsupervised learning.\n",
      "  warnings.warn(\n"
     ]
    },
    {
     "name": "stdout",
     "output_type": "stream",
     "text": [
      "[0 0 0 0 0 0 0 0 1 0 0 0 0 0 0 0 0 0 1 0]                                                                                                                                                                     \n",
      "0.0                                                                                                                                                                                                           \n",
      "0.0                                                                                                                                                                                                           \n",
      "0.0                                                                                                                                                                                                           \n",
      "0.9                                                                                                                                                                                                           \n",
      " 12%|█████████████████▊                                                                                                                                  | 6/50 [00:01<00:08,  4.96trial/s, best loss: -0.825]"
     ]
    },
    {
     "name": "stderr",
     "output_type": "stream",
     "text": [
      "/home/ryan.zurrin001/miniconda3/envs/O/lib/python3.9/site-packages/pyod/models/base.py:412: UserWarning: y should not be presented in unsupervised learning.\n",
      "  warnings.warn(\n",
      "/home/ryan.zurrin001/miniconda3/envs/O/lib/python3.9/site-packages/pyod/models/base.py:412: UserWarning: y should not be presented in unsupervised learning.\n",
      "  warnings.warn(\n",
      "/home/ryan.zurrin001/miniconda3/envs/O/lib/python3.9/site-packages/pyod/models/base.py:412: UserWarning: y should not be presented in unsupervised learning.\n",
      "  warnings.warn(\n",
      "/home/ryan.zurrin001/miniconda3/envs/O/lib/python3.9/site-packages/pyod/models/base.py:412: UserWarning: y should not be presented in unsupervised learning.\n",
      "  warnings.warn(\n",
      "/home/ryan.zurrin001/miniconda3/envs/O/lib/python3.9/site-packages/pyod/models/base.py:412: UserWarning: y should not be presented in unsupervised learning.\n",
      "  warnings.warn(\n"
     ]
    },
    {
     "name": "stdout",
     "output_type": "stream",
     "text": [
      "[1 0 0 0 0 0 0 0 0 0 0 0 0 0 0 0 0 0 0 0]                                                                                                                                                                     \n",
      "0.0                                                                                                                                                                                                           \n",
      "0.0                                                                                                                                                                                                           \n",
      "0.0                                                                                                                                                                                                           \n",
      "0.95                                                                                                                                                                                                          \n",
      " 14%|████████████████████▋                                                                                                                               | 7/50 [00:01<00:09,  4.43trial/s, best loss: -0.825]"
     ]
    },
    {
     "name": "stderr",
     "output_type": "stream",
     "text": [
      "/home/ryan.zurrin001/miniconda3/envs/O/lib/python3.9/site-packages/pyod/models/base.py:412: UserWarning: y should not be presented in unsupervised learning.\n",
      "  warnings.warn(\n",
      "/home/ryan.zurrin001/miniconda3/envs/O/lib/python3.9/site-packages/pyod/models/base.py:412: UserWarning: y should not be presented in unsupervised learning.\n",
      "  warnings.warn(\n",
      "/home/ryan.zurrin001/miniconda3/envs/O/lib/python3.9/site-packages/pyod/models/base.py:412: UserWarning: y should not be presented in unsupervised learning.\n",
      "  warnings.warn(\n",
      "/home/ryan.zurrin001/miniconda3/envs/O/lib/python3.9/site-packages/pyod/models/base.py:412: UserWarning: y should not be presented in unsupervised learning.\n",
      "  warnings.warn(\n",
      "/home/ryan.zurrin001/miniconda3/envs/O/lib/python3.9/site-packages/pyod/models/base.py:412: UserWarning: y should not be presented in unsupervised learning.\n",
      "  warnings.warn(\n"
     ]
    },
    {
     "name": "stdout",
     "output_type": "stream",
     "text": [
      "[0 1 0 0 0 0 0 0 1 0 0 0 0 0 0 0 0 0 0 0]                                                                                                                                                                     \n",
      "0.0                                                                                                                                                                                                           \n",
      "0.0                                                                                                                                                                                                           \n",
      "0.0                                                                                                                                                                                                           \n",
      "0.9                                                                                                                                                                                                           \n",
      " 16%|███████████████████████▋                                                                                                                            | 8/50 [00:01<00:08,  4.77trial/s, best loss: -0.825]"
     ]
    },
    {
     "name": "stderr",
     "output_type": "stream",
     "text": [
      "/home/ryan.zurrin001/miniconda3/envs/O/lib/python3.9/site-packages/pyod/models/base.py:412: UserWarning: y should not be presented in unsupervised learning.\n",
      "  warnings.warn(\n",
      "/home/ryan.zurrin001/miniconda3/envs/O/lib/python3.9/site-packages/pyod/models/base.py:412: UserWarning: y should not be presented in unsupervised learning.\n",
      "  warnings.warn(\n",
      "/home/ryan.zurrin001/miniconda3/envs/O/lib/python3.9/site-packages/pyod/models/base.py:412: UserWarning: y should not be presented in unsupervised learning.\n",
      "  warnings.warn(\n",
      "/home/ryan.zurrin001/miniconda3/envs/O/lib/python3.9/site-packages/pyod/models/base.py:412: UserWarning: y should not be presented in unsupervised learning.\n",
      "  warnings.warn(\n",
      "/home/ryan.zurrin001/miniconda3/envs/O/lib/python3.9/site-packages/pyod/models/base.py:412: UserWarning: y should not be presented in unsupervised learning.\n",
      "  warnings.warn(\n",
      "/home/ryan.zurrin001/miniconda3/envs/O/lib/python3.9/site-packages/pyod/models/base.py:412: UserWarning: y should not be presented in unsupervised learning.\n",
      "  warnings.warn(\n"
     ]
    },
    {
     "name": "stdout",
     "output_type": "stream",
     "text": [
      "[1 0 0 0 0 0 0 0 0 0 0 0 0 0 0 0 0 0 0 0]                                                                                                                                                                     \n",
      "0.0                                                                                                                                                                                                           \n",
      "0.0                                                                                                                                                                                                           \n",
      "0.0                                                                                                                                                                                                           \n",
      "0.95                                                                                                                                                                                                          \n",
      " 18%|██████████████████████████▋                                                                                                                         | 9/50 [00:01<00:08,  4.72trial/s, best loss: -0.825]"
     ]
    },
    {
     "name": "stderr",
     "output_type": "stream",
     "text": [
      "/home/ryan.zurrin001/miniconda3/envs/O/lib/python3.9/site-packages/pyod/models/base.py:412: UserWarning: y should not be presented in unsupervised learning.\n",
      "  warnings.warn(\n",
      "/home/ryan.zurrin001/miniconda3/envs/O/lib/python3.9/site-packages/pyod/models/base.py:412: UserWarning: y should not be presented in unsupervised learning.\n",
      "  warnings.warn(\n",
      "/home/ryan.zurrin001/miniconda3/envs/O/lib/python3.9/site-packages/pyod/models/base.py:412: UserWarning: y should not be presented in unsupervised learning.\n",
      "  warnings.warn(\n",
      "/home/ryan.zurrin001/miniconda3/envs/O/lib/python3.9/site-packages/pyod/models/base.py:412: UserWarning: y should not be presented in unsupervised learning.\n",
      "  warnings.warn(\n"
     ]
    },
    {
     "name": "stdout",
     "output_type": "stream",
     "text": [
      "[0 0 0 0 0 0 0 0 1 0 0 0 0 0 0 0 0 0 0 0]                                                                                                                                                                     \n",
      "0.0                                                                                                                                                                                                           \n",
      "0.0                                                                                                                                                                                                           \n",
      "0.0                                                                                                                                                                                                           \n",
      "0.95                                                                                                                                                                                                          \n",
      " 20%|█████████████████████████████▍                                                                                                                     | 10/50 [00:02<00:08,  4.67trial/s, best loss: -0.825]"
     ]
    },
    {
     "name": "stderr",
     "output_type": "stream",
     "text": [
      "/home/ryan.zurrin001/miniconda3/envs/O/lib/python3.9/site-packages/pyod/models/base.py:412: UserWarning: y should not be presented in unsupervised learning.\n",
      "  warnings.warn(\n",
      "/home/ryan.zurrin001/miniconda3/envs/O/lib/python3.9/site-packages/pyod/models/base.py:412: UserWarning: y should not be presented in unsupervised learning.\n",
      "  warnings.warn(\n",
      "/home/ryan.zurrin001/miniconda3/envs/O/lib/python3.9/site-packages/pyod/models/base.py:412: UserWarning: y should not be presented in unsupervised learning.\n",
      "  warnings.warn(\n",
      "/home/ryan.zurrin001/miniconda3/envs/O/lib/python3.9/site-packages/pyod/models/base.py:412: UserWarning: y should not be presented in unsupervised learning.\n",
      "  warnings.warn(\n",
      "/home/ryan.zurrin001/miniconda3/envs/O/lib/python3.9/site-packages/pyod/models/base.py:412: UserWarning: y should not be presented in unsupervised learning.\n",
      "  warnings.warn(\n",
      "/home/ryan.zurrin001/miniconda3/envs/O/lib/python3.9/site-packages/pyod/models/base.py:412: UserWarning: y should not be presented in unsupervised learning.\n",
      "  warnings.warn(\n"
     ]
    },
    {
     "name": "stdout",
     "output_type": "stream",
     "text": [
      "[1 0 0 0 0 0 0 0 1 0 0 0 0 0 1 0 0 0 1 0]                                                                                                                                                                     \n",
      "0.0                                                                                                                                                                                                           \n",
      "0.0                                                                                                                                                                                                           \n",
      "0.0                                                                                                                                                                                                           \n",
      "0.8                                                                                                                                                                                                           \n",
      " 20%|█████████████████████████████▍                                                                                                                     | 10/50 [00:02<00:08,  4.67trial/s, best loss: -0.825]"
     ]
    },
    {
     "name": "stderr",
     "output_type": "stream",
     "text": [
      "/home/ryan.zurrin001/miniconda3/envs/O/lib/python3.9/site-packages/pyod/models/base.py:412: UserWarning: y should not be presented in unsupervised learning.\n",
      "  warnings.warn(\n",
      "/home/ryan.zurrin001/miniconda3/envs/O/lib/python3.9/site-packages/pyod/models/base.py:412: UserWarning: y should not be presented in unsupervised learning.\n",
      "  warnings.warn(\n",
      "/home/ryan.zurrin001/miniconda3/envs/O/lib/python3.9/site-packages/pyod/models/base.py:412: UserWarning: y should not be presented in unsupervised learning.\n",
      "  warnings.warn(\n",
      "/home/ryan.zurrin001/miniconda3/envs/O/lib/python3.9/site-packages/pyod/models/base.py:412: UserWarning: y should not be presented in unsupervised learning.\n",
      "  warnings.warn(\n"
     ]
    },
    {
     "name": "stdout",
     "output_type": "stream",
     "text": [
      "[1 0 0 0 0 0 0 0 0 0 0 0 0 0 1 0 0 0 1 0]                                                                                                                                                                     \n",
      "0.0                                                                                                                                                                                                           \n",
      "0.0                                                                                                                                                                                                           \n",
      "0.0                                                                                                                                                                                                           \n",
      "0.85                                                                                                                                                                                                          \n",
      " 24%|███████████████████████████████████▎                                                                                                               | 12/50 [00:02<00:08,  4.48trial/s, best loss: -0.825]"
     ]
    },
    {
     "name": "stderr",
     "output_type": "stream",
     "text": [
      "/home/ryan.zurrin001/miniconda3/envs/O/lib/python3.9/site-packages/pyod/models/base.py:412: UserWarning: y should not be presented in unsupervised learning.\n",
      "  warnings.warn(\n",
      "/home/ryan.zurrin001/miniconda3/envs/O/lib/python3.9/site-packages/pyod/models/base.py:412: UserWarning: y should not be presented in unsupervised learning.\n",
      "  warnings.warn(\n",
      "/home/ryan.zurrin001/miniconda3/envs/O/lib/python3.9/site-packages/pyod/models/base.py:412: UserWarning: y should not be presented in unsupervised learning.\n",
      "  warnings.warn(\n",
      "/home/ryan.zurrin001/miniconda3/envs/O/lib/python3.9/site-packages/pyod/models/base.py:412: UserWarning: y should not be presented in unsupervised learning.\n",
      "  warnings.warn(\n",
      "/home/ryan.zurrin001/miniconda3/envs/O/lib/python3.9/site-packages/pyod/models/base.py:412: UserWarning: y should not be presented in unsupervised learning.\n",
      "  warnings.warn(\n",
      "/home/ryan.zurrin001/miniconda3/envs/O/lib/python3.9/site-packages/pyod/models/base.py:412: UserWarning: y should not be presented in unsupervised learning.\n",
      "  warnings.warn(\n",
      "/home/ryan.zurrin001/miniconda3/envs/O/lib/python3.9/site-packages/pyod/models/base.py:412: UserWarning: y should not be presented in unsupervised learning.\n",
      "  warnings.warn(\n",
      "/home/ryan.zurrin001/miniconda3/envs/O/lib/python3.9/site-packages/pyod/models/base.py:412: UserWarning: y should not be presented in unsupervised learning.\n",
      "  warnings.warn(\n",
      "/home/ryan.zurrin001/miniconda3/envs/O/lib/python3.9/site-packages/pyod/models/base.py:412: UserWarning: y should not be presented in unsupervised learning.\n",
      "  warnings.warn(\n"
     ]
    },
    {
     "name": "stdout",
     "output_type": "stream",
     "text": [
      "[0 0 0 0 0 0 0 0 1 0 0 0 0 0 1 0 0 0 1 0]                                                                                                                                                                     \n",
      "0.0                                                                                                                                                                                                           \n",
      "0.0                                                                                                                                                                                                           \n",
      "0.0                                                                                                                                                                                                           \n",
      "0.85                                                                                                                                                                                                          \n",
      " 26%|██████████████████████████████████████▏                                                                                                            | 13/50 [00:02<00:07,  4.63trial/s, best loss: -0.825]"
     ]
    },
    {
     "name": "stderr",
     "output_type": "stream",
     "text": [
      "/home/ryan.zurrin001/miniconda3/envs/O/lib/python3.9/site-packages/pyod/models/base.py:412: UserWarning: y should not be presented in unsupervised learning.\n",
      "  warnings.warn(\n",
      "/home/ryan.zurrin001/miniconda3/envs/O/lib/python3.9/site-packages/pyod/models/base.py:412: UserWarning: y should not be presented in unsupervised learning.\n",
      "  warnings.warn(\n",
      "/home/ryan.zurrin001/miniconda3/envs/O/lib/python3.9/site-packages/pyod/models/base.py:412: UserWarning: y should not be presented in unsupervised learning.\n",
      "  warnings.warn(\n",
      "/home/ryan.zurrin001/miniconda3/envs/O/lib/python3.9/site-packages/pyod/models/base.py:412: UserWarning: y should not be presented in unsupervised learning.\n",
      "  warnings.warn(\n",
      "/home/ryan.zurrin001/miniconda3/envs/O/lib/python3.9/site-packages/pyod/models/base.py:412: UserWarning: y should not be presented in unsupervised learning.\n",
      "  warnings.warn(\n"
     ]
    },
    {
     "name": "stdout",
     "output_type": "stream",
     "text": [
      "[1 0 0 0 0 0 0 1 0 0 0 0 0 0 0 0 0 0 1 0]                                                                                                                                                                     \n",
      "0.0                                                                                                                                                                                                           \n",
      "0.0                                                                                                                                                                                                           \n",
      "0.0                                                                                                                                                                                                           \n",
      "0.85                                                                                                                                                                                                          \n",
      " 28%|█████████████████████████████████████████▏                                                                                                         | 14/50 [00:02<00:07,  4.53trial/s, best loss: -0.825]"
     ]
    },
    {
     "name": "stderr",
     "output_type": "stream",
     "text": [
      "/home/ryan.zurrin001/miniconda3/envs/O/lib/python3.9/site-packages/pyod/models/base.py:412: UserWarning: y should not be presented in unsupervised learning.\n",
      "  warnings.warn(\n",
      "/home/ryan.zurrin001/miniconda3/envs/O/lib/python3.9/site-packages/pyod/models/base.py:412: UserWarning: y should not be presented in unsupervised learning.\n",
      "  warnings.warn(\n",
      "/home/ryan.zurrin001/miniconda3/envs/O/lib/python3.9/site-packages/pyod/models/base.py:412: UserWarning: y should not be presented in unsupervised learning.\n",
      "  warnings.warn(\n",
      "/home/ryan.zurrin001/miniconda3/envs/O/lib/python3.9/site-packages/pyod/models/base.py:412: UserWarning: y should not be presented in unsupervised learning.\n",
      "  warnings.warn(\n",
      "/home/ryan.zurrin001/miniconda3/envs/O/lib/python3.9/site-packages/pyod/models/base.py:412: UserWarning: y should not be presented in unsupervised learning.\n",
      "  warnings.warn(\n"
     ]
    },
    {
     "name": "stdout",
     "output_type": "stream",
     "text": [
      "[1 0 0 0 0 0 0 0 0 0 0 0 0 0 0 0 0 0 0 0]                                                                                                                                                                     \n",
      "0.0                                                                                                                                                                                                           \n",
      "0.0                                                                                                                                                                                                           \n",
      "0.0                                                                                                                                                                                                           \n",
      "0.95                                                                                                                                                                                                          \n",
      " 30%|████████████████████████████████████████████                                                                                                       | 15/50 [00:03<00:07,  4.49trial/s, best loss: -0.825]"
     ]
    },
    {
     "name": "stderr",
     "output_type": "stream",
     "text": [
      "/home/ryan.zurrin001/miniconda3/envs/O/lib/python3.9/site-packages/pyod/models/base.py:412: UserWarning: y should not be presented in unsupervised learning.\n",
      "  warnings.warn(\n",
      "/home/ryan.zurrin001/miniconda3/envs/O/lib/python3.9/site-packages/pyod/models/base.py:412: UserWarning: y should not be presented in unsupervised learning.\n",
      "  warnings.warn(\n",
      "/home/ryan.zurrin001/miniconda3/envs/O/lib/python3.9/site-packages/pyod/models/base.py:412: UserWarning: y should not be presented in unsupervised learning.\n",
      "  warnings.warn(\n",
      "/home/ryan.zurrin001/miniconda3/envs/O/lib/python3.9/site-packages/pyod/models/base.py:412: UserWarning: y should not be presented in unsupervised learning.\n",
      "  warnings.warn(\n",
      "/home/ryan.zurrin001/miniconda3/envs/O/lib/python3.9/site-packages/pyod/models/base.py:412: UserWarning: y should not be presented in unsupervised learning.\n",
      "  warnings.warn(\n",
      "/home/ryan.zurrin001/miniconda3/envs/O/lib/python3.9/site-packages/pyod/models/base.py:412: UserWarning: y should not be presented in unsupervised learning.\n",
      "  warnings.warn(\n"
     ]
    },
    {
     "name": "stdout",
     "output_type": "stream",
     "text": [
      "[1 0 1 0 1 0 1 1 1 0 1 0 0 0 1 0 1 0 1 0]                                                                                                                                                                     \n",
      "0.0                                                                                                                                                                                                           \n",
      "0.0                                                                                                                                                                                                           \n",
      "0.0                                                                                                                                                                                                           \n",
      "0.5                                                                                                                                                                                                           \n",
      "                                                                                                                                                                                                              \r"
     ]
    },
    {
     "name": "stderr",
     "output_type": "stream",
     "text": [
      "/home/ryan.zurrin001/miniconda3/envs/O/lib/python3.9/site-packages/pyod/models/base.py:412: UserWarning: y should not be presented in unsupervised learning.\n",
      "  warnings.warn(\n",
      "/home/ryan.zurrin001/miniconda3/envs/O/lib/python3.9/site-packages/pyod/models/base.py:412: UserWarning: y should not be presented in unsupervised learning.\n",
      "  warnings.warn(\n",
      "/home/ryan.zurrin001/miniconda3/envs/O/lib/python3.9/site-packages/pyod/models/base.py:412: UserWarning: y should not be presented in unsupervised learning.\n",
      "  warnings.warn(\n",
      "/home/ryan.zurrin001/miniconda3/envs/O/lib/python3.9/site-packages/pyod/models/base.py:412: UserWarning: y should not be presented in unsupervised learning.\n",
      "  warnings.warn(\n",
      "/home/ryan.zurrin001/miniconda3/envs/O/lib/python3.9/site-packages/pyod/models/base.py:412: UserWarning: y should not be presented in unsupervised learning.\n",
      "  warnings.warn(\n"
     ]
    },
    {
     "name": "stdout",
     "output_type": "stream",
     "text": [
      "[0 0 0 0 0 0 0 0 1 0 0 0 0 0 0 0 0 0 0 0]\n",
      "0.0                                                                                                                                                                                                           \n",
      "0.0                                                                                                                                                                                                           \n",
      "0.0                                                                                                                                                                                                           \n",
      "0.95                                                                                                                                                                                                          \n",
      "[0 0 0 0 0 0 0 0 1 0 0 0 0 0 0 0 0 0 1 0]                                                                                                                                                                     \n",
      "0.0                                                                                                                                                                                                           \n",
      "0.0                                                                                                                                                                                                           \n",
      "0.0                                                                                                                                                                                                           \n",
      "0.9                                                                                                                                                                                                           \n",
      " 36%|████████████████████████████████████████████████████▉                                                                                              | 18/50 [00:04<00:08,  3.87trial/s, best loss: -0.825]"
     ]
    },
    {
     "name": "stderr",
     "output_type": "stream",
     "text": [
      "/home/ryan.zurrin001/miniconda3/envs/O/lib/python3.9/site-packages/pyod/models/base.py:412: UserWarning: y should not be presented in unsupervised learning.\n",
      "  warnings.warn(\n",
      "/home/ryan.zurrin001/miniconda3/envs/O/lib/python3.9/site-packages/pyod/models/base.py:412: UserWarning: y should not be presented in unsupervised learning.\n",
      "  warnings.warn(\n",
      "/home/ryan.zurrin001/miniconda3/envs/O/lib/python3.9/site-packages/pyod/models/base.py:412: UserWarning: y should not be presented in unsupervised learning.\n",
      "  warnings.warn(\n",
      "/home/ryan.zurrin001/miniconda3/envs/O/lib/python3.9/site-packages/pyod/models/base.py:412: UserWarning: y should not be presented in unsupervised learning.\n",
      "  warnings.warn(\n",
      "/home/ryan.zurrin001/miniconda3/envs/O/lib/python3.9/site-packages/pyod/models/base.py:412: UserWarning: y should not be presented in unsupervised learning.\n",
      "  warnings.warn(\n"
     ]
    },
    {
     "name": "stdout",
     "output_type": "stream",
     "text": [
      "[1 0 0 0 0 0 0 0 0 0 0 0 0 0 0 0 0 0 1 0]                                                                                                                                                                     \n",
      "0.0                                                                                                                                                                                                           \n",
      "0.0                                                                                                                                                                                                           \n",
      "0.0                                                                                                                                                                                                           \n",
      "0.9                                                                                                                                                                                                           \n",
      " 38%|███████████████████████████████████████████████████████▊                                                                                           | 19/50 [00:04<00:07,  4.04trial/s, best loss: -0.825]"
     ]
    },
    {
     "name": "stderr",
     "output_type": "stream",
     "text": [
      "/home/ryan.zurrin001/miniconda3/envs/O/lib/python3.9/site-packages/pyod/models/base.py:412: UserWarning: y should not be presented in unsupervised learning.\n",
      "  warnings.warn(\n",
      "/home/ryan.zurrin001/miniconda3/envs/O/lib/python3.9/site-packages/pyod/models/base.py:412: UserWarning: y should not be presented in unsupervised learning.\n",
      "  warnings.warn(\n",
      "/home/ryan.zurrin001/miniconda3/envs/O/lib/python3.9/site-packages/pyod/models/base.py:412: UserWarning: y should not be presented in unsupervised learning.\n",
      "  warnings.warn(\n",
      "/home/ryan.zurrin001/miniconda3/envs/O/lib/python3.9/site-packages/pyod/models/base.py:412: UserWarning: y should not be presented in unsupervised learning.\n",
      "  warnings.warn(\n",
      "/home/ryan.zurrin001/miniconda3/envs/O/lib/python3.9/site-packages/pyod/models/base.py:412: UserWarning: y should not be presented in unsupervised learning.\n",
      "  warnings.warn(\n",
      "/home/ryan.zurrin001/miniconda3/envs/O/lib/python3.9/site-packages/pyod/models/base.py:412: UserWarning: y should not be presented in unsupervised learning.\n",
      "  warnings.warn(\n",
      "/home/ryan.zurrin001/miniconda3/envs/O/lib/python3.9/site-packages/pyod/models/base.py:412: UserWarning: y should not be presented in unsupervised learning.\n",
      "  warnings.warn(\n",
      "/home/ryan.zurrin001/miniconda3/envs/O/lib/python3.9/site-packages/pyod/models/base.py:412: UserWarning: y should not be presented in unsupervised learning.\n",
      "  warnings.warn(\n",
      "/home/ryan.zurrin001/miniconda3/envs/O/lib/python3.9/site-packages/pyod/models/base.py:412: UserWarning: y should not be presented in unsupervised learning.\n",
      "  warnings.warn(\n",
      "/home/ryan.zurrin001/miniconda3/envs/O/lib/python3.9/site-packages/pyod/models/base.py:412: UserWarning: y should not be presented in unsupervised learning.\n",
      "  warnings.warn(\n"
     ]
    },
    {
     "name": "stdout",
     "output_type": "stream",
     "text": [
      "[0 1 0 0 0 0 0 0 1 0 0 0 0 0 0 0 0 0 0 0]                                                                                                                                                                     \n",
      "0.0                                                                                                                                                                                                           \n",
      "0.0                                                                                                                                                                                                           \n",
      "0.0                                                                                                                                                                                                           \n",
      "0.9                                                                                                                                                                                                           \n",
      "[1 0 0 0 0 0 0 1 0 0 0 0 0 0 0 0 0 0 0 0]                                                                                                                                                                     \n",
      "0.0                                                                                                                                                                                                           \n",
      "0.0                                                                                                                                                                                                           \n",
      "0.0                                                                                                                                                                                                           \n",
      "0.9                                                                                                                                                                                                           \n",
      " 42%|█████████████████████████████████████████████████████████████▋                                                                                     | 21/50 [00:04<00:07,  4.04trial/s, best loss: -0.825]"
     ]
    },
    {
     "name": "stderr",
     "output_type": "stream",
     "text": [
      "/home/ryan.zurrin001/miniconda3/envs/O/lib/python3.9/site-packages/pyod/models/base.py:412: UserWarning: y should not be presented in unsupervised learning.\n",
      "  warnings.warn(\n",
      "/home/ryan.zurrin001/miniconda3/envs/O/lib/python3.9/site-packages/pyod/models/base.py:412: UserWarning: y should not be presented in unsupervised learning.\n",
      "  warnings.warn(\n",
      "/home/ryan.zurrin001/miniconda3/envs/O/lib/python3.9/site-packages/pyod/models/base.py:412: UserWarning: y should not be presented in unsupervised learning.\n",
      "  warnings.warn(\n",
      "/home/ryan.zurrin001/miniconda3/envs/O/lib/python3.9/site-packages/pyod/models/base.py:412: UserWarning: y should not be presented in unsupervised learning.\n",
      "  warnings.warn(\n",
      "/home/ryan.zurrin001/miniconda3/envs/O/lib/python3.9/site-packages/pyod/models/base.py:412: UserWarning: y should not be presented in unsupervised learning.\n",
      "  warnings.warn(\n",
      "/home/ryan.zurrin001/miniconda3/envs/O/lib/python3.9/site-packages/pyod/models/base.py:412: UserWarning: y should not be presented in unsupervised learning.\n",
      "  warnings.warn(\n",
      "/home/ryan.zurrin001/miniconda3/envs/O/lib/python3.9/site-packages/pyod/models/base.py:412: UserWarning: y should not be presented in unsupervised learning.\n",
      "  warnings.warn(\n",
      "/home/ryan.zurrin001/miniconda3/envs/O/lib/python3.9/site-packages/pyod/models/base.py:412: UserWarning: y should not be presented in unsupervised learning.\n",
      "  warnings.warn(\n"
     ]
    },
    {
     "name": "stdout",
     "output_type": "stream",
     "text": [
      "[0 0 0 0 0 0 0 1 1 0 0 0 0 0 1 0 0 0 0 0]                                                                                                                                                                     \n",
      "0.0                                                                                                                                                                                                           \n",
      "0.0                                                                                                                                                                                                           \n",
      "0.0                                                                                                                                                                                                           \n",
      "0.85                                                                                                                                                                                                          \n",
      " 44%|████████████████████████████████████████████████████████████████▋                                                                                  | 22/50 [00:04<00:06,  4.34trial/s, best loss: -0.825]"
     ]
    },
    {
     "name": "stderr",
     "output_type": "stream",
     "text": [
      "/home/ryan.zurrin001/miniconda3/envs/O/lib/python3.9/site-packages/pyod/models/base.py:412: UserWarning: y should not be presented in unsupervised learning.\n",
      "  warnings.warn(\n",
      "/home/ryan.zurrin001/miniconda3/envs/O/lib/python3.9/site-packages/pyod/models/base.py:412: UserWarning: y should not be presented in unsupervised learning.\n",
      "  warnings.warn(\n",
      "/home/ryan.zurrin001/miniconda3/envs/O/lib/python3.9/site-packages/pyod/models/base.py:412: UserWarning: y should not be presented in unsupervised learning.\n",
      "  warnings.warn(\n",
      "/home/ryan.zurrin001/miniconda3/envs/O/lib/python3.9/site-packages/pyod/models/base.py:412: UserWarning: y should not be presented in unsupervised learning.\n",
      "  warnings.warn(\n",
      "/home/ryan.zurrin001/miniconda3/envs/O/lib/python3.9/site-packages/pyod/models/base.py:412: UserWarning: y should not be presented in unsupervised learning.\n",
      "  warnings.warn(\n",
      "/home/ryan.zurrin001/miniconda3/envs/O/lib/python3.9/site-packages/pyod/models/base.py:412: UserWarning: y should not be presented in unsupervised learning.\n",
      "  warnings.warn(\n",
      "/home/ryan.zurrin001/miniconda3/envs/O/lib/python3.9/site-packages/pyod/models/base.py:412: UserWarning: y should not be presented in unsupervised learning.\n",
      "  warnings.warn(\n"
     ]
    },
    {
     "name": "stdout",
     "output_type": "stream",
     "text": [
      "[1 0 1 0 1 0 1 1 1 0 1 0 0 0 1 0 1 0 1 0]                                                                                                                                                                     \n",
      "0.0                                                                                                                                                                                                           \n",
      "0.0                                                                                                                                                                                                           \n",
      "0.0                                                                                                                                                                                                           \n",
      "0.5                                                                                                                                                                                                           \n",
      "                                                                                                                                                                                                              \r"
     ]
    },
    {
     "name": "stderr",
     "output_type": "stream",
     "text": [
      "/home/ryan.zurrin001/miniconda3/envs/O/lib/python3.9/site-packages/pyod/models/base.py:412: UserWarning: y should not be presented in unsupervised learning.\n",
      "  warnings.warn(\n",
      "/home/ryan.zurrin001/miniconda3/envs/O/lib/python3.9/site-packages/pyod/models/base.py:412: UserWarning: y should not be presented in unsupervised learning.\n",
      "  warnings.warn(\n",
      "/home/ryan.zurrin001/miniconda3/envs/O/lib/python3.9/site-packages/pyod/models/base.py:412: UserWarning: y should not be presented in unsupervised learning.\n",
      "  warnings.warn(\n",
      "/home/ryan.zurrin001/miniconda3/envs/O/lib/python3.9/site-packages/pyod/models/base.py:412: UserWarning: y should not be presented in unsupervised learning.\n",
      "  warnings.warn(\n",
      "/home/ryan.zurrin001/miniconda3/envs/O/lib/python3.9/site-packages/pyod/models/base.py:412: UserWarning: y should not be presented in unsupervised learning.\n",
      "  warnings.warn(\n"
     ]
    },
    {
     "name": "stdout",
     "output_type": "stream",
     "text": [
      "[1 0 1 0 1 0 1 1 1 0 1 0 0 0 1 0 1 0 1 0]\n",
      "0.0                                                                                                                                                                                                           \n",
      "0.0                                                                                                                                                                                                           \n",
      "0.0                                                                                                                                                                                                           \n",
      "0.5                                                                                                                                                                                                           \n",
      "[0 1 0 0 0 0 0 0 1 0 0 0 0 0 0 0 0 0 0 0]                                                                                                                                                                     \n",
      "0.0                                                                                                                                                                                                           \n",
      "0.0                                                                                                                                                                                                           \n",
      "0.0                                                                                                                                                                                                           \n",
      "0.9                                                                                                                                                                                                           \n",
      " 50%|█████████████████████████████████████████████████████████████████████████▌                                                                         | 25/50 [00:05<00:06,  3.59trial/s, best loss: -0.825]"
     ]
    },
    {
     "name": "stderr",
     "output_type": "stream",
     "text": [
      "/home/ryan.zurrin001/miniconda3/envs/O/lib/python3.9/site-packages/pyod/models/base.py:412: UserWarning: y should not be presented in unsupervised learning.\n",
      "  warnings.warn(\n",
      "/home/ryan.zurrin001/miniconda3/envs/O/lib/python3.9/site-packages/pyod/models/base.py:412: UserWarning: y should not be presented in unsupervised learning.\n",
      "  warnings.warn(\n",
      "/home/ryan.zurrin001/miniconda3/envs/O/lib/python3.9/site-packages/pyod/models/base.py:412: UserWarning: y should not be presented in unsupervised learning.\n",
      "  warnings.warn(\n",
      "/home/ryan.zurrin001/miniconda3/envs/O/lib/python3.9/site-packages/pyod/models/base.py:412: UserWarning: y should not be presented in unsupervised learning.\n",
      "  warnings.warn(\n",
      "/home/ryan.zurrin001/miniconda3/envs/O/lib/python3.9/site-packages/pyod/models/base.py:412: UserWarning: y should not be presented in unsupervised learning.\n",
      "  warnings.warn(\n"
     ]
    },
    {
     "name": "stdout",
     "output_type": "stream",
     "text": [
      "[0 1 0 0 0 0 0 0 1 0 0 0 0 0 0 0 0 0 0 0]                                                                                                                                                                     \n",
      "0.0                                                                                                                                                                                                           \n",
      "0.0                                                                                                                                                                                                           \n",
      "0.0                                                                                                                                                                                                           \n",
      "0.9                                                                                                                                                                                                           \n",
      " 52%|████████████████████████████████████████████████████████████████████████████▍                                                                      | 26/50 [00:06<00:05,  4.24trial/s, best loss: -0.825]"
     ]
    },
    {
     "name": "stderr",
     "output_type": "stream",
     "text": [
      "/home/ryan.zurrin001/miniconda3/envs/O/lib/python3.9/site-packages/pyod/models/base.py:412: UserWarning: y should not be presented in unsupervised learning.\n",
      "  warnings.warn(\n",
      "/home/ryan.zurrin001/miniconda3/envs/O/lib/python3.9/site-packages/pyod/models/base.py:412: UserWarning: y should not be presented in unsupervised learning.\n",
      "  warnings.warn(\n",
      "/home/ryan.zurrin001/miniconda3/envs/O/lib/python3.9/site-packages/pyod/models/base.py:412: UserWarning: y should not be presented in unsupervised learning.\n",
      "  warnings.warn(\n",
      "/home/ryan.zurrin001/miniconda3/envs/O/lib/python3.9/site-packages/pyod/models/base.py:412: UserWarning: y should not be presented in unsupervised learning.\n",
      "  warnings.warn(\n",
      "/home/ryan.zurrin001/miniconda3/envs/O/lib/python3.9/site-packages/pyod/models/base.py:412: UserWarning: y should not be presented in unsupervised learning.\n",
      "  warnings.warn(\n",
      "/home/ryan.zurrin001/miniconda3/envs/O/lib/python3.9/site-packages/pyod/models/base.py:412: UserWarning: y should not be presented in unsupervised learning.\n",
      "  warnings.warn(\n",
      "/home/ryan.zurrin001/miniconda3/envs/O/lib/python3.9/site-packages/pyod/models/base.py:412: UserWarning: y should not be presented in unsupervised learning.\n",
      "  warnings.warn(\n",
      "/home/ryan.zurrin001/miniconda3/envs/O/lib/python3.9/site-packages/pyod/models/base.py:412: UserWarning: y should not be presented in unsupervised learning.\n",
      "  warnings.warn(\n",
      "/home/ryan.zurrin001/miniconda3/envs/O/lib/python3.9/site-packages/pyod/models/base.py:412: UserWarning: y should not be presented in unsupervised learning.\n",
      "  warnings.warn(\n"
     ]
    },
    {
     "name": "stdout",
     "output_type": "stream",
     "text": [
      "[0 0 0 0 0 0 0 1 0 0 0 0 0 0 1 0 0 0 0 0]                                                                                                                                                                     \n",
      "0.0                                                                                                                                                                                                           \n",
      "0.0                                                                                                                                                                                                           \n",
      "0.0                                                                                                                                                                                                           \n",
      "0.9                                                                                                                                                                                                           \n",
      " 54%|███████████████████████████████████████████████████████████████████████████████▍                                                                   | 27/50 [00:06<00:05,  4.15trial/s, best loss: -0.825]"
     ]
    },
    {
     "name": "stderr",
     "output_type": "stream",
     "text": [
      "/home/ryan.zurrin001/miniconda3/envs/O/lib/python3.9/site-packages/pyod/models/base.py:412: UserWarning: y should not be presented in unsupervised learning.\n",
      "  warnings.warn(\n",
      "/home/ryan.zurrin001/miniconda3/envs/O/lib/python3.9/site-packages/pyod/models/base.py:412: UserWarning: y should not be presented in unsupervised learning.\n",
      "  warnings.warn(\n",
      "/home/ryan.zurrin001/miniconda3/envs/O/lib/python3.9/site-packages/pyod/models/base.py:412: UserWarning: y should not be presented in unsupervised learning.\n",
      "  warnings.warn(\n",
      "/home/ryan.zurrin001/miniconda3/envs/O/lib/python3.9/site-packages/pyod/models/base.py:412: UserWarning: y should not be presented in unsupervised learning.\n",
      "  warnings.warn(\n",
      "/home/ryan.zurrin001/miniconda3/envs/O/lib/python3.9/site-packages/pyod/models/base.py:412: UserWarning: y should not be presented in unsupervised learning.\n",
      "  warnings.warn(\n",
      "/home/ryan.zurrin001/miniconda3/envs/O/lib/python3.9/site-packages/pyod/models/base.py:412: UserWarning: y should not be presented in unsupervised learning.\n",
      "  warnings.warn(\n"
     ]
    },
    {
     "name": "stdout",
     "output_type": "stream",
     "text": [
      "[0 0 0 0 0 0 0 0 1 0 0 0 0 0 0 0 0 0 0 0]                                                                                                                                                                     \n",
      "0.0                                                                                                                                                                                                           \n",
      "0.0                                                                                                                                                                                                           \n",
      "0.0                                                                                                                                                                                                           \n",
      "0.95                                                                                                                                                                                                          \n",
      "[0 0 0 0 0 0 0 0 1 0 0 0 0 0 0 0 0 0 0 0]                                                                                                                                                                     \n",
      "0.0                                                                                                                                                                                                           \n",
      "0.0                                                                                                                                                                                                           \n",
      "0.0                                                                                                                                                                                                           \n",
      "0.95                                                                                                                                                                                                          \n",
      " 58%|█████████████████████████████████████████████████████████████████████████████████████▎                                                             | 29/50 [00:06<00:04,  4.49trial/s, best loss: -0.825]"
     ]
    },
    {
     "name": "stderr",
     "output_type": "stream",
     "text": [
      "/home/ryan.zurrin001/miniconda3/envs/O/lib/python3.9/site-packages/pyod/models/base.py:412: UserWarning: y should not be presented in unsupervised learning.\n",
      "  warnings.warn(\n",
      "/home/ryan.zurrin001/miniconda3/envs/O/lib/python3.9/site-packages/pyod/models/base.py:412: UserWarning: y should not be presented in unsupervised learning.\n",
      "  warnings.warn(\n",
      "/home/ryan.zurrin001/miniconda3/envs/O/lib/python3.9/site-packages/pyod/models/base.py:412: UserWarning: y should not be presented in unsupervised learning.\n",
      "  warnings.warn(\n",
      "/home/ryan.zurrin001/miniconda3/envs/O/lib/python3.9/site-packages/pyod/models/base.py:412: UserWarning: y should not be presented in unsupervised learning.\n",
      "  warnings.warn(\n",
      "/home/ryan.zurrin001/miniconda3/envs/O/lib/python3.9/site-packages/pyod/models/base.py:412: UserWarning: y should not be presented in unsupervised learning.\n",
      "  warnings.warn(\n",
      "/home/ryan.zurrin001/miniconda3/envs/O/lib/python3.9/site-packages/pyod/models/base.py:412: UserWarning: y should not be presented in unsupervised learning.\n",
      "  warnings.warn(\n",
      "/home/ryan.zurrin001/miniconda3/envs/O/lib/python3.9/site-packages/pyod/models/base.py:412: UserWarning: y should not be presented in unsupervised learning.\n",
      "  warnings.warn(\n",
      "/home/ryan.zurrin001/miniconda3/envs/O/lib/python3.9/site-packages/pyod/models/base.py:412: UserWarning: y should not be presented in unsupervised learning.\n",
      "  warnings.warn(\n",
      "/home/ryan.zurrin001/miniconda3/envs/O/lib/python3.9/site-packages/pyod/models/base.py:412: UserWarning: y should not be presented in unsupervised learning.\n",
      "  warnings.warn(\n"
     ]
    },
    {
     "name": "stdout",
     "output_type": "stream",
     "text": [
      "[1 0 0 0 0 0 0 1 0 0 0 0 0 0 1 0 0 0 0 0]                                                                                                                                                                     \n",
      "0.0                                                                                                                                                                                                           \n",
      "0.0                                                                                                                                                                                                           \n",
      "0.0                                                                                                                                                                                                           \n",
      "0.85                                                                                                                                                                                                          \n",
      " 60%|████████████████████████████████████████████████████████████████████████████████████████▏                                                          | 30/50 [00:06<00:04,  4.60trial/s, best loss: -0.825]"
     ]
    },
    {
     "name": "stderr",
     "output_type": "stream",
     "text": [
      "/home/ryan.zurrin001/miniconda3/envs/O/lib/python3.9/site-packages/pyod/models/base.py:412: UserWarning: y should not be presented in unsupervised learning.\n",
      "  warnings.warn(\n",
      "/home/ryan.zurrin001/miniconda3/envs/O/lib/python3.9/site-packages/pyod/models/base.py:412: UserWarning: y should not be presented in unsupervised learning.\n",
      "  warnings.warn(\n",
      "/home/ryan.zurrin001/miniconda3/envs/O/lib/python3.9/site-packages/pyod/models/base.py:412: UserWarning: y should not be presented in unsupervised learning.\n",
      "  warnings.warn(\n",
      "/home/ryan.zurrin001/miniconda3/envs/O/lib/python3.9/site-packages/pyod/models/base.py:412: UserWarning: y should not be presented in unsupervised learning.\n",
      "  warnings.warn(\n",
      "/home/ryan.zurrin001/miniconda3/envs/O/lib/python3.9/site-packages/pyod/models/base.py:412: UserWarning: y should not be presented in unsupervised learning.\n",
      "  warnings.warn(\n"
     ]
    },
    {
     "name": "stdout",
     "output_type": "stream",
     "text": [
      "[0 0 0 0 0 0 0 0 1 0 0 0 0 0 0 0 0 0 0 0]                                                                                                                                                                     \n",
      "0.0                                                                                                                                                                                                           \n",
      "0.0                                                                                                                                                                                                           \n",
      "0.0                                                                                                                                                                                                           \n",
      "0.95                                                                                                                                                                                                          \n",
      " 62%|███████████████████████████████████████████████████████████████████████████████████████████▏                                                       | 31/50 [00:07<00:04,  4.37trial/s, best loss: -0.825]"
     ]
    },
    {
     "name": "stderr",
     "output_type": "stream",
     "text": [
      "/home/ryan.zurrin001/miniconda3/envs/O/lib/python3.9/site-packages/pyod/models/base.py:412: UserWarning: y should not be presented in unsupervised learning.\n",
      "  warnings.warn(\n",
      "/home/ryan.zurrin001/miniconda3/envs/O/lib/python3.9/site-packages/pyod/models/base.py:412: UserWarning: y should not be presented in unsupervised learning.\n",
      "  warnings.warn(\n",
      "/home/ryan.zurrin001/miniconda3/envs/O/lib/python3.9/site-packages/pyod/models/base.py:412: UserWarning: y should not be presented in unsupervised learning.\n",
      "  warnings.warn(\n",
      "/home/ryan.zurrin001/miniconda3/envs/O/lib/python3.9/site-packages/pyod/models/base.py:412: UserWarning: y should not be presented in unsupervised learning.\n",
      "  warnings.warn(\n"
     ]
    },
    {
     "name": "stdout",
     "output_type": "stream",
     "text": [
      "[0 0 0 0 0 0 0 0 1 0 0 0 0 0 0 0 0 0 1 0]                                                                                                                                                                     \n",
      "0.0                                                                                                                                                                                                           \n",
      "0.0                                                                                                                                                                                                           \n",
      "0.0                                                                                                                                                                                                           \n",
      "0.9                                                                                                                                                                                                           \n",
      " 64%|██████████████████████████████████████████████████████████████████████████████████████████████                                                     | 32/50 [00:07<00:04,  4.44trial/s, best loss: -0.825]"
     ]
    },
    {
     "name": "stderr",
     "output_type": "stream",
     "text": [
      "/home/ryan.zurrin001/miniconda3/envs/O/lib/python3.9/site-packages/pyod/models/base.py:412: UserWarning: y should not be presented in unsupervised learning.\n",
      "  warnings.warn(\n",
      "/home/ryan.zurrin001/miniconda3/envs/O/lib/python3.9/site-packages/pyod/models/base.py:412: UserWarning: y should not be presented in unsupervised learning.\n",
      "  warnings.warn(\n",
      "/home/ryan.zurrin001/miniconda3/envs/O/lib/python3.9/site-packages/pyod/models/base.py:412: UserWarning: y should not be presented in unsupervised learning.\n",
      "  warnings.warn(\n",
      "/home/ryan.zurrin001/miniconda3/envs/O/lib/python3.9/site-packages/pyod/models/base.py:412: UserWarning: y should not be presented in unsupervised learning.\n",
      "  warnings.warn(\n",
      "/home/ryan.zurrin001/miniconda3/envs/O/lib/python3.9/site-packages/pyod/models/base.py:412: UserWarning: y should not be presented in unsupervised learning.\n",
      "  warnings.warn(\n",
      "/home/ryan.zurrin001/miniconda3/envs/O/lib/python3.9/site-packages/pyod/models/base.py:412: UserWarning: y should not be presented in unsupervised learning.\n",
      "  warnings.warn(\n"
     ]
    },
    {
     "name": "stdout",
     "output_type": "stream",
     "text": [
      "[1 0 0 0 0 0 0 1 0 0 0 0 0 0 0 0 0 0 0 0]                                                                                                                                                                     \n",
      "0.0                                                                                                                                                                                                           \n",
      "0.0                                                                                                                                                                                                           \n",
      "0.0                                                                                                                                                                                                           \n",
      "0.9                                                                                                                                                                                                           \n",
      " 66%|█████████████████████████████████████████████████████████████████████████████████████████████████                                                  | 33/50 [00:07<00:03,  4.67trial/s, best loss: -0.825]"
     ]
    },
    {
     "name": "stderr",
     "output_type": "stream",
     "text": [
      "/home/ryan.zurrin001/miniconda3/envs/O/lib/python3.9/site-packages/pyod/models/base.py:412: UserWarning: y should not be presented in unsupervised learning.\n",
      "  warnings.warn(\n",
      "/home/ryan.zurrin001/miniconda3/envs/O/lib/python3.9/site-packages/pyod/models/base.py:412: UserWarning: y should not be presented in unsupervised learning.\n",
      "  warnings.warn(\n",
      "/home/ryan.zurrin001/miniconda3/envs/O/lib/python3.9/site-packages/pyod/models/base.py:412: UserWarning: y should not be presented in unsupervised learning.\n",
      "  warnings.warn(\n",
      "/home/ryan.zurrin001/miniconda3/envs/O/lib/python3.9/site-packages/pyod/models/base.py:412: UserWarning: y should not be presented in unsupervised learning.\n",
      "  warnings.warn(\n"
     ]
    },
    {
     "name": "stdout",
     "output_type": "stream",
     "text": [
      "[0 0 0 0 0 0 0 0 1 0 0 0 0 0 0 0 0 0 0 0]                                                                                                                                                                     \n",
      "0.0                                                                                                                                                                                                           \n",
      "0.0                                                                                                                                                                                                           \n",
      "0.0                                                                                                                                                                                                           \n",
      "0.95                                                                                                                                                                                                          \n",
      " 68%|███████████████████████████████████████████████████████████████████████████████████████████████████▉                                               | 34/50 [00:07<00:03,  4.77trial/s, best loss: -0.825]"
     ]
    },
    {
     "name": "stderr",
     "output_type": "stream",
     "text": [
      "/home/ryan.zurrin001/miniconda3/envs/O/lib/python3.9/site-packages/pyod/models/base.py:412: UserWarning: y should not be presented in unsupervised learning.\n",
      "  warnings.warn(\n",
      "/home/ryan.zurrin001/miniconda3/envs/O/lib/python3.9/site-packages/pyod/models/base.py:412: UserWarning: y should not be presented in unsupervised learning.\n",
      "  warnings.warn(\n",
      "/home/ryan.zurrin001/miniconda3/envs/O/lib/python3.9/site-packages/pyod/models/base.py:412: UserWarning: y should not be presented in unsupervised learning.\n",
      "  warnings.warn(\n",
      "/home/ryan.zurrin001/miniconda3/envs/O/lib/python3.9/site-packages/pyod/models/base.py:412: UserWarning: y should not be presented in unsupervised learning.\n",
      "  warnings.warn(\n",
      "/home/ryan.zurrin001/miniconda3/envs/O/lib/python3.9/site-packages/pyod/models/base.py:412: UserWarning: y should not be presented in unsupervised learning.\n",
      "  warnings.warn(\n"
     ]
    },
    {
     "name": "stdout",
     "output_type": "stream",
     "text": [
      "[1 0 1 0 1 0 1 1 1 0 1 0 0 0 1 1 1 0 1 0]                                                                                                                                                                     \n",
      "0.0                                                                                                                                                                                                           \n",
      "0.0                                                                                                                                                                                                           \n",
      "0.0                                                                                                                                                                                                           \n",
      "0.45                                                                                                                                                                                                          \n",
      " 70%|██████████████████████████████████████████████████████████████████████████████████████████████████████▉                                            | 35/50 [00:08<00:03,  4.79trial/s, best loss: -0.825]"
     ]
    },
    {
     "name": "stderr",
     "output_type": "stream",
     "text": [
      "/home/ryan.zurrin001/miniconda3/envs/O/lib/python3.9/site-packages/pyod/models/base.py:412: UserWarning: y should not be presented in unsupervised learning.\n",
      "  warnings.warn(\n",
      "/home/ryan.zurrin001/miniconda3/envs/O/lib/python3.9/site-packages/pyod/models/base.py:412: UserWarning: y should not be presented in unsupervised learning.\n",
      "  warnings.warn(\n",
      "/home/ryan.zurrin001/miniconda3/envs/O/lib/python3.9/site-packages/pyod/models/base.py:412: UserWarning: y should not be presented in unsupervised learning.\n",
      "  warnings.warn(\n",
      "/home/ryan.zurrin001/miniconda3/envs/O/lib/python3.9/site-packages/pyod/models/base.py:412: UserWarning: y should not be presented in unsupervised learning.\n",
      "  warnings.warn(\n",
      "/home/ryan.zurrin001/miniconda3/envs/O/lib/python3.9/site-packages/pyod/models/base.py:412: UserWarning: y should not be presented in unsupervised learning.\n",
      "  warnings.warn(\n",
      "/home/ryan.zurrin001/miniconda3/envs/O/lib/python3.9/site-packages/pyod/models/base.py:412: UserWarning: y should not be presented in unsupervised learning.\n",
      "  warnings.warn(\n"
     ]
    },
    {
     "name": "stdout",
     "output_type": "stream",
     "text": [
      "[1 0 1 0 1 0 1 1 0 0 1 0 0 0 1 0 1 0 1 0]                                                                                                                                                                     \n",
      "0.0                                                                                                                                                                                                           \n",
      "0.0                                                                                                                                                                                                           \n",
      "0.0                                                                                                                                                                                                           \n",
      "0.55                                                                                                                                                                                                          \n",
      " 72%|█████████████████████████████████████████████████████████████████████████████████████████████████████████▊                                         | 36/50 [00:08<00:03,  3.90trial/s, best loss: -0.825]"
     ]
    },
    {
     "name": "stderr",
     "output_type": "stream",
     "text": [
      "/home/ryan.zurrin001/miniconda3/envs/O/lib/python3.9/site-packages/pyod/models/base.py:412: UserWarning: y should not be presented in unsupervised learning.\n",
      "  warnings.warn(\n",
      "/home/ryan.zurrin001/miniconda3/envs/O/lib/python3.9/site-packages/pyod/models/base.py:412: UserWarning: y should not be presented in unsupervised learning.\n",
      "  warnings.warn(\n",
      "/home/ryan.zurrin001/miniconda3/envs/O/lib/python3.9/site-packages/pyod/models/base.py:412: UserWarning: y should not be presented in unsupervised learning.\n",
      "  warnings.warn(\n",
      "/home/ryan.zurrin001/miniconda3/envs/O/lib/python3.9/site-packages/pyod/models/base.py:412: UserWarning: y should not be presented in unsupervised learning.\n",
      "  warnings.warn(\n",
      "/home/ryan.zurrin001/miniconda3/envs/O/lib/python3.9/site-packages/pyod/models/base.py:412: UserWarning: y should not be presented in unsupervised learning.\n",
      "  warnings.warn(\n"
     ]
    },
    {
     "name": "stdout",
     "output_type": "stream",
     "text": [
      "[1 0 0 0 0 0 0 0 1 0 0 0 0 0 0 0 0 0 0 0]                                                                                                                                                                     \n",
      "0.0                                                                                                                                                                                                           \n",
      "0.0                                                                                                                                                                                                           \n",
      "0.0                                                                                                                                                                                                           \n",
      "0.9                                                                                                                                                                                                           \n",
      " 74%|████████████████████████████████████████████████████████████████████████████████████████████████████████████▊                                      | 37/50 [00:08<00:03,  4.17trial/s, best loss: -0.825]"
     ]
    },
    {
     "name": "stderr",
     "output_type": "stream",
     "text": [
      "/home/ryan.zurrin001/miniconda3/envs/O/lib/python3.9/site-packages/pyod/models/base.py:412: UserWarning: y should not be presented in unsupervised learning.\n",
      "  warnings.warn(\n",
      "/home/ryan.zurrin001/miniconda3/envs/O/lib/python3.9/site-packages/pyod/models/base.py:412: UserWarning: y should not be presented in unsupervised learning.\n",
      "  warnings.warn(\n",
      "/home/ryan.zurrin001/miniconda3/envs/O/lib/python3.9/site-packages/pyod/models/base.py:412: UserWarning: y should not be presented in unsupervised learning.\n",
      "  warnings.warn(\n",
      "/home/ryan.zurrin001/miniconda3/envs/O/lib/python3.9/site-packages/pyod/models/base.py:412: UserWarning: y should not be presented in unsupervised learning.\n",
      "  warnings.warn(\n",
      "/home/ryan.zurrin001/miniconda3/envs/O/lib/python3.9/site-packages/pyod/models/base.py:412: UserWarning: y should not be presented in unsupervised learning.\n",
      "  warnings.warn(\n"
     ]
    },
    {
     "name": "stdout",
     "output_type": "stream",
     "text": [
      "[0 0 0 0 0 0 0 0 1 0 0 0 0 0 0 0 0 0 0 0]                                                                                                                                                                     \n",
      "0.0                                                                                                                                                                                                           \n",
      "0.0                                                                                                                                                                                                           \n",
      "0.0                                                                                                                                                                                                           \n",
      "0.95                                                                                                                                                                                                          \n",
      " 76%|███████████████████████████████████████████████████████████████████████████████████████████████████████████████▋                                   | 38/50 [00:08<00:02,  4.34trial/s, best loss: -0.825]"
     ]
    },
    {
     "name": "stderr",
     "output_type": "stream",
     "text": [
      "/home/ryan.zurrin001/miniconda3/envs/O/lib/python3.9/site-packages/pyod/models/base.py:412: UserWarning: y should not be presented in unsupervised learning.\n",
      "  warnings.warn(\n",
      "/home/ryan.zurrin001/miniconda3/envs/O/lib/python3.9/site-packages/pyod/models/base.py:412: UserWarning: y should not be presented in unsupervised learning.\n",
      "  warnings.warn(\n",
      "/home/ryan.zurrin001/miniconda3/envs/O/lib/python3.9/site-packages/pyod/models/base.py:412: UserWarning: y should not be presented in unsupervised learning.\n",
      "  warnings.warn(\n",
      "/home/ryan.zurrin001/miniconda3/envs/O/lib/python3.9/site-packages/pyod/models/base.py:412: UserWarning: y should not be presented in unsupervised learning.\n",
      "  warnings.warn(\n",
      "/home/ryan.zurrin001/miniconda3/envs/O/lib/python3.9/site-packages/pyod/models/base.py:412: UserWarning: y should not be presented in unsupervised learning.\n",
      "  warnings.warn(\n"
     ]
    },
    {
     "name": "stdout",
     "output_type": "stream",
     "text": [
      "[0 0 0 0 0 0 0 0 1 0 0 0 0 0 0 0 0 0 1 0]                                                                                                                                                                     \n",
      "0.0                                                                                                                                                                                                           \n",
      "0.0                                                                                                                                                                                                           \n",
      "0.0                                                                                                                                                                                                           \n",
      "0.9                                                                                                                                                                                                           \n",
      " 78%|██████████████████████████████████████████████████████████████████████████████████████████████████████████████████▋                                | 39/50 [00:09<00:02,  4.36trial/s, best loss: -0.825]"
     ]
    },
    {
     "name": "stderr",
     "output_type": "stream",
     "text": [
      "/home/ryan.zurrin001/miniconda3/envs/O/lib/python3.9/site-packages/pyod/models/base.py:412: UserWarning: y should not be presented in unsupervised learning.\n",
      "  warnings.warn(\n",
      "/home/ryan.zurrin001/miniconda3/envs/O/lib/python3.9/site-packages/pyod/models/base.py:412: UserWarning: y should not be presented in unsupervised learning.\n",
      "  warnings.warn(\n",
      "/home/ryan.zurrin001/miniconda3/envs/O/lib/python3.9/site-packages/pyod/models/base.py:412: UserWarning: y should not be presented in unsupervised learning.\n",
      "  warnings.warn(\n",
      "/home/ryan.zurrin001/miniconda3/envs/O/lib/python3.9/site-packages/pyod/models/base.py:412: UserWarning: y should not be presented in unsupervised learning.\n",
      "  warnings.warn(\n",
      "/home/ryan.zurrin001/miniconda3/envs/O/lib/python3.9/site-packages/pyod/models/base.py:412: UserWarning: y should not be presented in unsupervised learning.\n",
      "  warnings.warn(\n",
      "/home/ryan.zurrin001/miniconda3/envs/O/lib/python3.9/site-packages/pyod/models/base.py:412: UserWarning: y should not be presented in unsupervised learning.\n",
      "  warnings.warn(\n"
     ]
    },
    {
     "name": "stdout",
     "output_type": "stream",
     "text": [
      "[0 0 0 0 0 0 0 0 1 0 0 0 0 0 1 0 0 0 1 0]                                                                                                                                                                     \n",
      "0.0                                                                                                                                                                                                           \n",
      "0.0                                                                                                                                                                                                           \n",
      "0.0                                                                                                                                                                                                           \n",
      "0.85                                                                                                                                                                                                          \n",
      "[0 0 0 0 0 0 0 0 1 0 0 0 0 0 0 0 0 0 1 0]                                                                                                                                                                     \n",
      "0.0                                                                                                                                                                                                           \n",
      "0.0                                                                                                                                                                                                           \n",
      "0.0                                                                                                                                                                                                           \n",
      "0.9                                                                                                                                                                                                           \n",
      " 82%|████████████████████████████████████████████████████████████████████████████████████████████████████████████████████████▌                          | 41/50 [00:09<00:02,  4.48trial/s, best loss: -0.825]"
     ]
    },
    {
     "name": "stderr",
     "output_type": "stream",
     "text": [
      "/home/ryan.zurrin001/miniconda3/envs/O/lib/python3.9/site-packages/pyod/models/base.py:412: UserWarning: y should not be presented in unsupervised learning.\n",
      "  warnings.warn(\n",
      "/home/ryan.zurrin001/miniconda3/envs/O/lib/python3.9/site-packages/pyod/models/base.py:412: UserWarning: y should not be presented in unsupervised learning.\n",
      "  warnings.warn(\n",
      "/home/ryan.zurrin001/miniconda3/envs/O/lib/python3.9/site-packages/pyod/models/base.py:412: UserWarning: y should not be presented in unsupervised learning.\n",
      "  warnings.warn(\n",
      "/home/ryan.zurrin001/miniconda3/envs/O/lib/python3.9/site-packages/pyod/models/base.py:412: UserWarning: y should not be presented in unsupervised learning.\n",
      "  warnings.warn(\n",
      "/home/ryan.zurrin001/miniconda3/envs/O/lib/python3.9/site-packages/pyod/models/base.py:412: UserWarning: y should not be presented in unsupervised learning.\n",
      "  warnings.warn(\n"
     ]
    },
    {
     "name": "stdout",
     "output_type": "stream",
     "text": [
      "[0 0 0 0 0 0 0 0 1 0 0 0 0 0 0 0 0 0 0 0]                                                                                                                                                                     \n",
      "0.0                                                                                                                                                                                                           \n",
      "0.0                                                                                                                                                                                                           \n",
      "0.0                                                                                                                                                                                                           \n",
      "0.95                                                                                                                                                                                                          \n",
      " 84%|███████████████████████████████████████████████████████████████████████████████████████████████████████████████████████████▍                       | 42/50 [00:09<00:01,  4.46trial/s, best loss: -0.825]"
     ]
    },
    {
     "name": "stderr",
     "output_type": "stream",
     "text": [
      "/home/ryan.zurrin001/miniconda3/envs/O/lib/python3.9/site-packages/pyod/models/base.py:412: UserWarning: y should not be presented in unsupervised learning.\n",
      "  warnings.warn(\n",
      "/home/ryan.zurrin001/miniconda3/envs/O/lib/python3.9/site-packages/pyod/models/base.py:412: UserWarning: y should not be presented in unsupervised learning.\n",
      "  warnings.warn(\n",
      "/home/ryan.zurrin001/miniconda3/envs/O/lib/python3.9/site-packages/pyod/models/base.py:412: UserWarning: y should not be presented in unsupervised learning.\n",
      "  warnings.warn(\n",
      "/home/ryan.zurrin001/miniconda3/envs/O/lib/python3.9/site-packages/pyod/models/base.py:412: UserWarning: y should not be presented in unsupervised learning.\n",
      "  warnings.warn(\n",
      "/home/ryan.zurrin001/miniconda3/envs/O/lib/python3.9/site-packages/pyod/models/base.py:412: UserWarning: y should not be presented in unsupervised learning.\n",
      "  warnings.warn(\n"
     ]
    },
    {
     "name": "stdout",
     "output_type": "stream",
     "text": [
      "[1 0 0 0 0 0 0 0 0 0 0 0 0 0 0 0 0 0 0 0]                                                                                                                                                                     \n",
      "0.0                                                                                                                                                                                                           \n",
      "0.0                                                                                                                                                                                                           \n",
      "0.0                                                                                                                                                                                                           \n",
      "0.95                                                                                                                                                                                                          \n",
      " 86%|██████████████████████████████████████████████████████████████████████████████████████████████████████████████████████████████▍                    | 43/50 [00:09<00:01,  4.46trial/s, best loss: -0.825]"
     ]
    },
    {
     "name": "stderr",
     "output_type": "stream",
     "text": [
      "/home/ryan.zurrin001/miniconda3/envs/O/lib/python3.9/site-packages/pyod/models/base.py:412: UserWarning: y should not be presented in unsupervised learning.\n",
      "  warnings.warn(\n",
      "/home/ryan.zurrin001/miniconda3/envs/O/lib/python3.9/site-packages/pyod/models/base.py:412: UserWarning: y should not be presented in unsupervised learning.\n",
      "  warnings.warn(\n",
      "/home/ryan.zurrin001/miniconda3/envs/O/lib/python3.9/site-packages/pyod/models/base.py:412: UserWarning: y should not be presented in unsupervised learning.\n",
      "  warnings.warn(\n",
      "/home/ryan.zurrin001/miniconda3/envs/O/lib/python3.9/site-packages/pyod/models/base.py:412: UserWarning: y should not be presented in unsupervised learning.\n",
      "  warnings.warn(\n",
      "/home/ryan.zurrin001/miniconda3/envs/O/lib/python3.9/site-packages/pyod/models/base.py:412: UserWarning: y should not be presented in unsupervised learning.\n",
      "  warnings.warn(\n"
     ]
    },
    {
     "name": "stdout",
     "output_type": "stream",
     "text": [
      "[1 0 0 0 0 0 0 1 0 0 0 0 0 0 1 0 0 0 0 0]                                                                                                                                                                     \n",
      "0.0                                                                                                                                                                                                           \n",
      "0.0                                                                                                                                                                                                           \n",
      "0.0                                                                                                                                                                                                           \n",
      "0.85                                                                                                                                                                                                          \n",
      " 88%|█████████████████████████████████████████████████████████████████████████████████████████████████████████████████████████████████▎                 | 44/50 [00:10<00:01,  4.54trial/s, best loss: -0.825]"
     ]
    },
    {
     "name": "stderr",
     "output_type": "stream",
     "text": [
      "/home/ryan.zurrin001/miniconda3/envs/O/lib/python3.9/site-packages/pyod/models/base.py:412: UserWarning: y should not be presented in unsupervised learning.\n",
      "  warnings.warn(\n",
      "/home/ryan.zurrin001/miniconda3/envs/O/lib/python3.9/site-packages/pyod/models/base.py:412: UserWarning: y should not be presented in unsupervised learning.\n",
      "  warnings.warn(\n",
      "/home/ryan.zurrin001/miniconda3/envs/O/lib/python3.9/site-packages/pyod/models/base.py:412: UserWarning: y should not be presented in unsupervised learning.\n",
      "  warnings.warn(\n",
      "/home/ryan.zurrin001/miniconda3/envs/O/lib/python3.9/site-packages/pyod/models/base.py:412: UserWarning: y should not be presented in unsupervised learning.\n",
      "  warnings.warn(\n",
      "/home/ryan.zurrin001/miniconda3/envs/O/lib/python3.9/site-packages/pyod/models/base.py:412: UserWarning: y should not be presented in unsupervised learning.\n",
      "  warnings.warn(\n"
     ]
    },
    {
     "name": "stdout",
     "output_type": "stream",
     "text": [
      "[0 0 0 0 0 0 0 1 1 0 0 0 0 0 1 0 0 0 0 0]                                                                                                                                                                     \n",
      "0.0                                                                                                                                                                                                           \n",
      "0.0                                                                                                                                                                                                           \n",
      "0.0                                                                                                                                                                                                           \n",
      "0.85                                                                                                                                                                                                          \n",
      " 90%|████████████████████████████████████████████████████████████████████████████████████████████████████████████████████████████████████▎              | 45/50 [00:10<00:01,  4.22trial/s, best loss: -0.825]"
     ]
    },
    {
     "name": "stderr",
     "output_type": "stream",
     "text": [
      "/home/ryan.zurrin001/miniconda3/envs/O/lib/python3.9/site-packages/pyod/models/base.py:412: UserWarning: y should not be presented in unsupervised learning.\n",
      "  warnings.warn(\n",
      "/home/ryan.zurrin001/miniconda3/envs/O/lib/python3.9/site-packages/pyod/models/base.py:412: UserWarning: y should not be presented in unsupervised learning.\n",
      "  warnings.warn(\n",
      "/home/ryan.zurrin001/miniconda3/envs/O/lib/python3.9/site-packages/pyod/models/base.py:412: UserWarning: y should not be presented in unsupervised learning.\n",
      "  warnings.warn(\n",
      "/home/ryan.zurrin001/miniconda3/envs/O/lib/python3.9/site-packages/pyod/models/base.py:412: UserWarning: y should not be presented in unsupervised learning.\n",
      "  warnings.warn(\n",
      "/home/ryan.zurrin001/miniconda3/envs/O/lib/python3.9/site-packages/pyod/models/base.py:412: UserWarning: y should not be presented in unsupervised learning.\n",
      "  warnings.warn(\n"
     ]
    },
    {
     "name": "stdout",
     "output_type": "stream",
     "text": [
      "[1 0 0 0 0 0 0 1 0 0 0 0 0 0 1 0 0 0 0 0]                                                                                                                                                                     \n",
      "0.0                                                                                                                                                                                                           \n",
      "0.0                                                                                                                                                                                                           \n",
      "0.0                                                                                                                                                                                                           \n",
      "0.85                                                                                                                                                                                                          \n",
      " 92%|███████████████████████████████████████████████████████████████████████████████████████████████████████████████████████████████████████▏           | 46/50 [00:10<00:00,  4.46trial/s, best loss: -0.825]"
     ]
    },
    {
     "name": "stderr",
     "output_type": "stream",
     "text": [
      "/home/ryan.zurrin001/miniconda3/envs/O/lib/python3.9/site-packages/pyod/models/base.py:412: UserWarning: y should not be presented in unsupervised learning.\n",
      "  warnings.warn(\n",
      "/home/ryan.zurrin001/miniconda3/envs/O/lib/python3.9/site-packages/pyod/models/base.py:412: UserWarning: y should not be presented in unsupervised learning.\n",
      "  warnings.warn(\n",
      "/home/ryan.zurrin001/miniconda3/envs/O/lib/python3.9/site-packages/pyod/models/base.py:412: UserWarning: y should not be presented in unsupervised learning.\n",
      "  warnings.warn(\n",
      "/home/ryan.zurrin001/miniconda3/envs/O/lib/python3.9/site-packages/pyod/models/base.py:412: UserWarning: y should not be presented in unsupervised learning.\n",
      "  warnings.warn(\n",
      "/home/ryan.zurrin001/miniconda3/envs/O/lib/python3.9/site-packages/pyod/models/base.py:412: UserWarning: y should not be presented in unsupervised learning.\n",
      "  warnings.warn(\n",
      "/home/ryan.zurrin001/miniconda3/envs/O/lib/python3.9/site-packages/pyod/models/base.py:412: UserWarning: y should not be presented in unsupervised learning.\n",
      "  warnings.warn(\n"
     ]
    },
    {
     "name": "stdout",
     "output_type": "stream",
     "text": [
      "[1 0 1 0 1 0 1 1 1 0 1 0 0 0 1 1 1 0 1 0]                                                                                                                                                                     \n",
      "0.0                                                                                                                                                                                                           \n",
      "0.0                                                                                                                                                                                                           \n",
      "0.0                                                                                                                                                                                                           \n",
      "0.45                                                                                                                                                                                                          \n",
      " 94%|██████████████████████████████████████████████████████████████████████████████████████████████████████████████████████████████████████████▏        | 47/50 [00:10<00:00,  4.43trial/s, best loss: -0.825]"
     ]
    },
    {
     "name": "stderr",
     "output_type": "stream",
     "text": [
      "/home/ryan.zurrin001/miniconda3/envs/O/lib/python3.9/site-packages/pyod/models/base.py:412: UserWarning: y should not be presented in unsupervised learning.\n",
      "  warnings.warn(\n",
      "/home/ryan.zurrin001/miniconda3/envs/O/lib/python3.9/site-packages/pyod/models/base.py:412: UserWarning: y should not be presented in unsupervised learning.\n",
      "  warnings.warn(\n",
      "/home/ryan.zurrin001/miniconda3/envs/O/lib/python3.9/site-packages/pyod/models/base.py:412: UserWarning: y should not be presented in unsupervised learning.\n",
      "  warnings.warn(\n",
      "/home/ryan.zurrin001/miniconda3/envs/O/lib/python3.9/site-packages/pyod/models/base.py:412: UserWarning: y should not be presented in unsupervised learning.\n",
      "  warnings.warn(\n"
     ]
    },
    {
     "name": "stdout",
     "output_type": "stream",
     "text": [
      "[0 0 0 0 0 0 0 0 1 0 0 0 0 0 0 0 0 0 0 0]                                                                                                                                                                     \n",
      " 94%|██████████████████████████████████████████████████████████████████████████████████████████████████████████████████████████████████████████▏        | 47/50 [00:11<00:00,  4.43trial/s, best loss: -0.825]"
     ]
    },
    {
     "name": "stderr",
     "output_type": "stream",
     "text": [
      "/home/ryan.zurrin001/miniconda3/envs/O/lib/python3.9/site-packages/pyod/models/base.py:412: UserWarning: y should not be presented in unsupervised learning.\n",
      "  warnings.warn(\n",
      "/home/ryan.zurrin001/miniconda3/envs/O/lib/python3.9/site-packages/pyod/models/base.py:412: UserWarning: y should not be presented in unsupervised learning.\n",
      "  warnings.warn(\n",
      "/home/ryan.zurrin001/miniconda3/envs/O/lib/python3.9/site-packages/pyod/models/base.py:412: UserWarning: y should not be presented in unsupervised learning.\n",
      "  warnings.warn(\n",
      "/home/ryan.zurrin001/miniconda3/envs/O/lib/python3.9/site-packages/pyod/models/base.py:412: UserWarning: y should not be presented in unsupervised learning.\n",
      "  warnings.warn(\n",
      "/home/ryan.zurrin001/miniconda3/envs/O/lib/python3.9/site-packages/pyod/models/base.py:412: UserWarning: y should not be presented in unsupervised learning.\n",
      "  warnings.warn(\n"
     ]
    },
    {
     "name": "stdout",
     "output_type": "stream",
     "text": [
      "0.0                                                                                                                                                                                                           \n",
      "0.0                                                                                                                                                                                                           \n",
      "0.0                                                                                                                                                                                                           \n",
      "0.95                                                                                                                                                                                                          \n",
      "[1 0 0 0 0 0 0 1 1 0 0 0 0 0 1 0 0 0 0 0]                                                                                                                                                                     \n",
      "0.0                                                                                                                                                                                                           \n",
      "0.0                                                                                                                                                                                                           \n",
      "0.0                                                                                                                                                                                                           \n",
      "0.8                                                                                                                                                                                                           \n",
      " 98%|████████████████████████████████████████████████████████████████████████████████████████████████████████████████████████████████████████████████   | 49/50 [00:11<00:00,  4.49trial/s, best loss: -0.825]"
     ]
    },
    {
     "name": "stderr",
     "output_type": "stream",
     "text": [
      "/home/ryan.zurrin001/miniconda3/envs/O/lib/python3.9/site-packages/pyod/models/base.py:412: UserWarning: y should not be presented in unsupervised learning.\n",
      "  warnings.warn(\n",
      "/home/ryan.zurrin001/miniconda3/envs/O/lib/python3.9/site-packages/pyod/models/base.py:412: UserWarning: y should not be presented in unsupervised learning.\n",
      "  warnings.warn(\n",
      "/home/ryan.zurrin001/miniconda3/envs/O/lib/python3.9/site-packages/pyod/models/base.py:412: UserWarning: y should not be presented in unsupervised learning.\n",
      "  warnings.warn(\n",
      "/home/ryan.zurrin001/miniconda3/envs/O/lib/python3.9/site-packages/pyod/models/base.py:412: UserWarning: y should not be presented in unsupervised learning.\n",
      "  warnings.warn(\n",
      "/home/ryan.zurrin001/miniconda3/envs/O/lib/python3.9/site-packages/pyod/models/base.py:412: UserWarning: y should not be presented in unsupervised learning.\n",
      "  warnings.warn(\n",
      "/home/ryan.zurrin001/miniconda3/envs/O/lib/python3.9/site-packages/pyod/models/base.py:412: UserWarning: y should not be presented in unsupervised learning.\n",
      "  warnings.warn(\n"
     ]
    },
    {
     "name": "stdout",
     "output_type": "stream",
     "text": [
      "[1 0 0 0 0 0 0 1 1 0 0 0 0 0 0 0 0 0 0 0]                                                                                                                                                                     \n",
      "0.0                                                                                                                                                                                                           \n",
      "0.0                                                                                                                                                                                                           \n",
      "0.0                                                                                                                                                                                                           \n",
      "0.85                                                                                                                                                                                                          \n",
      "100%|███████████████████████████████████████████████████████████████████████████████████████████████████████████████████████████████████████████████████| 50/50 [00:11<00:00,  4.33trial/s, best loss: -0.825]\n"
     ]
    },
    {
     "name": "stderr",
     "output_type": "stream",
     "text": [
      "/home/ryan.zurrin001/miniconda3/envs/O/lib/python3.9/site-packages/pyod/models/base.py:412: UserWarning: y should not be presented in unsupervised learning.\n",
      "  warnings.warn(\n",
      "/home/ryan.zurrin001/miniconda3/envs/O/lib/python3.9/site-packages/pyod/models/base.py:412: UserWarning: y should not be presented in unsupervised learning.\n",
      "  warnings.warn(\n",
      "/home/ryan.zurrin001/miniconda3/envs/O/lib/python3.9/site-packages/pyod/models/base.py:412: UserWarning: y should not be presented in unsupervised learning.\n",
      "  warnings.warn(\n",
      "/home/ryan.zurrin001/miniconda3/envs/O/lib/python3.9/site-packages/pyod/models/base.py:412: UserWarning: y should not be presented in unsupervised learning.\n",
      "  warnings.warn(\n"
     ]
    }
   ],
   "source": [
    "second_search = fmin(\n",
    "    fn=objective,\n",
    "    space=param_grid,\n",
    "    max_evals=50,\n",
    "    rstate=np.random.default_rng(42),\n",
    "    algo=rand.suggest,  # randomized search\n",
    "    trials = trials\n",
    ")"
   ]
  },
  {
   "cell_type": "code",
   "execution_count": 44,
   "id": "7c16b541",
   "metadata": {},
   "outputs": [
    {
     "data": {
      "text/plain": [
       "{'contamination': 0.091466753773393,\n",
       " 'leaf_size': 12.0,\n",
       " 'method': 2,\n",
       " 'metric': 2,\n",
       " 'n_jobs': 3.0,\n",
       " 'n_neighbors': 44.0,\n",
       " 'p': 7.0,\n",
       " 'radius': 4.1000000000000005}"
      ]
     },
     "execution_count": 44,
     "metadata": {},
     "output_type": "execute_result"
    }
   ],
   "source": [
    "# best hyperparameters\n",
    "\n",
    "second_search"
   ]
  },
  {
   "cell_type": "code",
   "execution_count": 45,
   "id": "e462dbb0",
   "metadata": {},
   "outputs": [
    {
     "data": {
      "text/plain": [
       "{'contamination': 0.091466753773393,\n",
       " 'leaf_size': 12.0,\n",
       " 'method': 2,\n",
       " 'metric': 2,\n",
       " 'n_jobs': 3.0,\n",
       " 'n_neighbors': 44.0,\n",
       " 'p': 7.0,\n",
       " 'radius': 4.1000000000000005}"
      ]
     },
     "execution_count": 45,
     "metadata": {},
     "output_type": "execute_result"
    }
   ],
   "source": [
    "# the best hyperparameters can also be found in\n",
    "# trials\n",
    "\n",
    "trials.argmin"
   ]
  },
  {
   "cell_type": "code",
   "execution_count": 46,
   "id": "87b0cccd",
   "metadata": {},
   "outputs": [
    {
     "data": {
      "text/html": [
       "<div>\n",
       "<style scoped>\n",
       "    .dataframe tbody tr th:only-of-type {\n",
       "        vertical-align: middle;\n",
       "    }\n",
       "\n",
       "    .dataframe tbody tr th {\n",
       "        vertical-align: top;\n",
       "    }\n",
       "\n",
       "    .dataframe thead th {\n",
       "        text-align: right;\n",
       "    }\n",
       "</style>\n",
       "<table border=\"1\" class=\"dataframe\">\n",
       "  <thead>\n",
       "    <tr style=\"text-align: right;\">\n",
       "      <th></th>\n",
       "      <th>contamination</th>\n",
       "      <th>leaf_size</th>\n",
       "      <th>method</th>\n",
       "      <th>metric</th>\n",
       "      <th>n_jobs</th>\n",
       "      <th>n_neighbors</th>\n",
       "      <th>p</th>\n",
       "      <th>radius</th>\n",
       "    </tr>\n",
       "  </thead>\n",
       "  <tbody>\n",
       "    <tr>\n",
       "      <th>0</th>\n",
       "      <td>0.091467</td>\n",
       "      <td>12.0</td>\n",
       "      <td>2</td>\n",
       "      <td>2</td>\n",
       "      <td>3.0</td>\n",
       "      <td>44.0</td>\n",
       "      <td>7.0</td>\n",
       "      <td>4.1</td>\n",
       "    </tr>\n",
       "    <tr>\n",
       "      <th>1</th>\n",
       "      <td>0.096546</td>\n",
       "      <td>9.0</td>\n",
       "      <td>1</td>\n",
       "      <td>5</td>\n",
       "      <td>1.0</td>\n",
       "      <td>43.0</td>\n",
       "      <td>6.0</td>\n",
       "      <td>1.5</td>\n",
       "    </tr>\n",
       "    <tr>\n",
       "      <th>2</th>\n",
       "      <td>0.096734</td>\n",
       "      <td>83.0</td>\n",
       "      <td>1</td>\n",
       "      <td>3</td>\n",
       "      <td>1.0</td>\n",
       "      <td>31.0</td>\n",
       "      <td>2.0</td>\n",
       "      <td>0.7</td>\n",
       "    </tr>\n",
       "    <tr>\n",
       "      <th>3</th>\n",
       "      <td>0.076178</td>\n",
       "      <td>51.0</td>\n",
       "      <td>0</td>\n",
       "      <td>4</td>\n",
       "      <td>3.0</td>\n",
       "      <td>30.0</td>\n",
       "      <td>3.0</td>\n",
       "      <td>2.0</td>\n",
       "    </tr>\n",
       "    <tr>\n",
       "      <th>4</th>\n",
       "      <td>0.085071</td>\n",
       "      <td>41.0</td>\n",
       "      <td>1</td>\n",
       "      <td>0</td>\n",
       "      <td>2.0</td>\n",
       "      <td>15.0</td>\n",
       "      <td>2.0</td>\n",
       "      <td>2.5</td>\n",
       "    </tr>\n",
       "  </tbody>\n",
       "</table>\n",
       "</div>"
      ],
      "text/plain": [
       "   contamination  leaf_size  method  metric  n_jobs  n_neighbors    p  radius\n",
       "0       0.091467       12.0       2       2     3.0         44.0  7.0     4.1\n",
       "1       0.096546        9.0       1       5     1.0         43.0  6.0     1.5\n",
       "2       0.096734       83.0       1       3     1.0         31.0  2.0     0.7\n",
       "3       0.076178       51.0       0       4     3.0         30.0  3.0     2.0\n",
       "4       0.085071       41.0       1       0     2.0         15.0  2.0     2.5"
      ]
     },
     "execution_count": 46,
     "metadata": {},
     "output_type": "execute_result"
    }
   ],
   "source": [
    "# the search hyperparameter combinations\n",
    "\n",
    "pd.DataFrame(trials.vals).head()"
   ]
  },
  {
   "cell_type": "code",
   "execution_count": 47,
   "id": "d9fd6591",
   "metadata": {},
   "outputs": [
    {
     "data": {
      "text/html": [
       "<div>\n",
       "<style scoped>\n",
       "    .dataframe tbody tr th:only-of-type {\n",
       "        vertical-align: middle;\n",
       "    }\n",
       "\n",
       "    .dataframe tbody tr th {\n",
       "        vertical-align: top;\n",
       "    }\n",
       "\n",
       "    .dataframe thead th {\n",
       "        text-align: right;\n",
       "    }\n",
       "</style>\n",
       "<table border=\"1\" class=\"dataframe\">\n",
       "  <thead>\n",
       "    <tr style=\"text-align: right;\">\n",
       "      <th></th>\n",
       "      <th>loss</th>\n",
       "      <th>status</th>\n",
       "    </tr>\n",
       "  </thead>\n",
       "  <tbody>\n",
       "    <tr>\n",
       "      <th>0</th>\n",
       "      <td>-0.8250</td>\n",
       "      <td>ok</td>\n",
       "    </tr>\n",
       "    <tr>\n",
       "      <th>1</th>\n",
       "      <td>-0.7750</td>\n",
       "      <td>ok</td>\n",
       "    </tr>\n",
       "    <tr>\n",
       "      <th>2</th>\n",
       "      <td>-0.7750</td>\n",
       "      <td>ok</td>\n",
       "    </tr>\n",
       "    <tr>\n",
       "      <th>3</th>\n",
       "      <td>-0.8125</td>\n",
       "      <td>ok</td>\n",
       "    </tr>\n",
       "    <tr>\n",
       "      <th>4</th>\n",
       "      <td>-0.8125</td>\n",
       "      <td>ok</td>\n",
       "    </tr>\n",
       "  </tbody>\n",
       "</table>\n",
       "</div>"
      ],
      "text/plain": [
       "     loss status\n",
       "0 -0.8250     ok\n",
       "1 -0.7750     ok\n",
       "2 -0.7750     ok\n",
       "3 -0.8125     ok\n",
       "4 -0.8125     ok"
      ]
     },
     "execution_count": 47,
     "metadata": {},
     "output_type": "execute_result"
    }
   ],
   "source": [
    "# the results\n",
    "\n",
    "pd.DataFrame(trials.results).head()"
   ]
  },
  {
   "cell_type": "code",
   "execution_count": 48,
   "id": "6dd990b9",
   "metadata": {},
   "outputs": [
    {
     "data": {
      "text/html": [
       "<div>\n",
       "<style scoped>\n",
       "    .dataframe tbody tr th:only-of-type {\n",
       "        vertical-align: middle;\n",
       "    }\n",
       "\n",
       "    .dataframe tbody tr th {\n",
       "        vertical-align: top;\n",
       "    }\n",
       "\n",
       "    .dataframe thead th {\n",
       "        text-align: right;\n",
       "    }\n",
       "</style>\n",
       "<table border=\"1\" class=\"dataframe\">\n",
       "  <thead>\n",
       "    <tr style=\"text-align: right;\">\n",
       "      <th></th>\n",
       "      <th>contamination</th>\n",
       "      <th>leaf_size</th>\n",
       "      <th>method</th>\n",
       "      <th>metric</th>\n",
       "      <th>n_jobs</th>\n",
       "      <th>n_neighbors</th>\n",
       "      <th>p</th>\n",
       "      <th>radius</th>\n",
       "      <th>loss</th>\n",
       "      <th>status</th>\n",
       "    </tr>\n",
       "  </thead>\n",
       "  <tbody>\n",
       "    <tr>\n",
       "      <th>0</th>\n",
       "      <td>0.096337</td>\n",
       "      <td>8.0</td>\n",
       "      <td>2</td>\n",
       "      <td>0</td>\n",
       "      <td>2.0</td>\n",
       "      <td>19.0</td>\n",
       "      <td>7.0</td>\n",
       "      <td>3.8</td>\n",
       "      <td>-0.3625</td>\n",
       "      <td>ok</td>\n",
       "    </tr>\n",
       "    <tr>\n",
       "      <th>1</th>\n",
       "      <td>0.092482</td>\n",
       "      <td>38.0</td>\n",
       "      <td>2</td>\n",
       "      <td>0</td>\n",
       "      <td>4.0</td>\n",
       "      <td>19.0</td>\n",
       "      <td>9.0</td>\n",
       "      <td>2.1</td>\n",
       "      <td>-0.4125</td>\n",
       "      <td>ok</td>\n",
       "    </tr>\n",
       "    <tr>\n",
       "      <th>2</th>\n",
       "      <td>0.098981</td>\n",
       "      <td>66.0</td>\n",
       "      <td>0</td>\n",
       "      <td>0</td>\n",
       "      <td>2.0</td>\n",
       "      <td>5.0</td>\n",
       "      <td>5.0</td>\n",
       "      <td>3.2</td>\n",
       "      <td>-0.4375</td>\n",
       "      <td>ok</td>\n",
       "    </tr>\n",
       "    <tr>\n",
       "      <th>3</th>\n",
       "      <td>0.088461</td>\n",
       "      <td>11.0</td>\n",
       "      <td>2</td>\n",
       "      <td>0</td>\n",
       "      <td>2.0</td>\n",
       "      <td>11.0</td>\n",
       "      <td>10.0</td>\n",
       "      <td>4.4</td>\n",
       "      <td>-0.4500</td>\n",
       "      <td>ok</td>\n",
       "    </tr>\n",
       "    <tr>\n",
       "      <th>4</th>\n",
       "      <td>0.082952</td>\n",
       "      <td>33.0</td>\n",
       "      <td>2</td>\n",
       "      <td>0</td>\n",
       "      <td>1.0</td>\n",
       "      <td>22.0</td>\n",
       "      <td>8.0</td>\n",
       "      <td>4.4</td>\n",
       "      <td>-0.6000</td>\n",
       "      <td>ok</td>\n",
       "    </tr>\n",
       "  </tbody>\n",
       "</table>\n",
       "</div>"
      ],
      "text/plain": [
       "   contamination  leaf_size  method  metric  n_jobs  n_neighbors     p  \\\n",
       "0       0.096337        8.0       2       0     2.0         19.0   7.0   \n",
       "1       0.092482       38.0       2       0     4.0         19.0   9.0   \n",
       "2       0.098981       66.0       0       0     2.0          5.0   5.0   \n",
       "3       0.088461       11.0       2       0     2.0         11.0  10.0   \n",
       "4       0.082952       33.0       2       0     1.0         22.0   8.0   \n",
       "\n",
       "   radius    loss status  \n",
       "0     3.8 -0.3625     ok  \n",
       "1     2.1 -0.4125     ok  \n",
       "2     3.2 -0.4375     ok  \n",
       "3     4.4 -0.4500     ok  \n",
       "4     4.4 -0.6000     ok  "
      ]
     },
     "execution_count": 48,
     "metadata": {},
     "output_type": "execute_result"
    }
   ],
   "source": [
    "results = pd.concat([\n",
    "    pd.DataFrame(trials.vals),\n",
    "    pd.DataFrame(trials.results)],\n",
    "    axis=1,\n",
    ").sort_values(by='loss', ascending=False).reset_index(drop=True)\n",
    "\n",
    "results.head()"
   ]
  },
  {
   "cell_type": "code",
   "execution_count": 49,
   "id": "c644616b",
   "metadata": {},
   "outputs": [
    {
     "data": {
      "text/plain": [
       "Text(0.5, 0, 'Hyperparam combination')"
      ]
     },
     "execution_count": 49,
     "metadata": {},
     "output_type": "execute_result"
    },
    {
     "data": {
      "image/png": "[encoded data removed]",
      "text/plain": [
       "<Figure size 432x288 with 1 Axes>"
      ]
     },
     "metadata": {
      "needs_background": "light"
     },
     "output_type": "display_data"
    }
   ],
   "source": [
    "results['loss'].plot()\n",
    "plt.ylabel('Accuracy')\n",
    "plt.xlabel('Hyperparam combination')"
   ]
  },
  {
   "cell_type": "code",
   "execution_count": 50,
   "id": "03e8c451",
   "metadata": {},
   "outputs": [
    {
     "data": {
      "text/plain": [
       "-0.825"
      ]
     },
     "execution_count": 50,
     "metadata": {},
     "output_type": "execute_result"
    }
   ],
   "source": [
    "pd.DataFrame(trials.results)['loss'].min()"
   ]
  },
  {
   "cell_type": "code",
   "execution_count": null,
   "id": "89affaa1",
   "metadata": {},
   "outputs": [],
   "source": []
  }
 ],
 "metadata": {
  "kernelspec": {
   "display_name": "Python 3 (ipykernel)",
   "language": "python",
   "name": "python3"
  },
  "language_info": {
   "codemirror_mode": {
    "name": "ipython",
    "version": 3
   },
   "file_extension": ".py",
   "mimetype": "text/x-python",
   "name": "python",
   "nbconvert_exporter": "python",
   "pygments_lexer": "ipython3",
   "version": "3.9.7"
  }
 },
 "nbformat": 4,
 "nbformat_minor": 5
}
