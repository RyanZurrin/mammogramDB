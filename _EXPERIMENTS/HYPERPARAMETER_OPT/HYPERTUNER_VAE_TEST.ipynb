{
 "cells": [
  {
   "cell_type": "code",
   "execution_count": 1,
   "id": "04dcf87e",
   "metadata": {},
   "outputs": [
    {
     "name": "stdout",
     "output_type": "stream",
     "text": [
      "Populating the interactive namespace from numpy and matplotlib\n"
     ]
    }
   ],
   "source": [
    "%pylab inline\n",
    "%load_ext autoreload\n",
    "%autoreload 2"
   ]
  },
  {
   "cell_type": "code",
   "execution_count": 2,
   "id": "290877ab",
   "metadata": {},
   "outputs": [
    {
     "name": "stderr",
     "output_type": "stream",
     "text": [
      "2023-03-21 19:29:15.136212: I tensorflow/stream_executor/platform/default/dso_loader.cc:53] Successfully opened dynamic library libcudart.so.11.0\n"
     ]
    }
   ],
   "source": [
    "import sys\n",
    "sys.path.insert(0,'../..')\n",
    "import omama as O\n",
    "import pickle\n",
    "from hyperopt import hp, rand, fmin, Trials\n",
    "from pyod.models.vae import VAE"
   ]
  },
  {
   "cell_type": "code",
   "execution_count": 3,
   "id": "88c95154",
   "metadata": {},
   "outputs": [],
   "source": [
    "# load data and labels\n",
    "\n",
    "with open('/raid/mpsych/datasetCSTAR.pkl','rb') as f:\n",
    "    datasetCSTAR = pickle.load(f)\n",
    "    \n",
    "with open('/raid/mpsych/datasetCSTAR_labels.pkl', 'rb') as f1:\n",
    "    labels = np.asarray(pickle.load(f1))"
   ]
  },
  {
   "cell_type": "code",
   "execution_count": 4,
   "id": "5a7db468",
   "metadata": {},
   "outputs": [
    {
     "name": "stdout",
     "output_type": "stream",
     "text": [
      "1000 1000\n"
     ]
    }
   ],
   "source": [
    "print(len(datasetCSTAR), len(labels))"
   ]
  },
  {
   "cell_type": "code",
   "execution_count": 10,
   "id": "c00642b7",
   "metadata": {},
   "outputs": [],
   "source": [
    "from keras.losses import mse, binary_crossentropy, kullback_leibler_divergence\n",
    "\n",
    "param_grid = {\n",
    "    'contamination': hp.uniform('contamination', 0.001, .2),\n",
    "    'encoder_neurons': hp.choice('encoder_neurons', [[32, 16, 8], [64, 32, 16],\n",
    "                                                    [128, 64, 32]]),\n",
    "    'decoder_neurons': hp.choice('decoder_neurons', [[8, 16, 32], [16, 32, 64],\n",
    "                                                    [32, 64, 128]]),\n",
    "    'latent_dim': hp.choice('latent_dim', [2, 4, 8, 16, 32]),\n",
    "    'hidden_activation': hp.choice('hidden_activation', ['relu', 'tanh']),\n",
    "    'output_activation': hp.choice('output_activation', ['sigmoid', 'tanh']),\n",
    "#     'loss': hp.choice('loss', [mse, binary_crossentropy,\n",
    "#                                  kullback_leibler_divergence]),\n",
    "    'optimizer': hp.choice('optimizer', ['adam', 'rmsprop']),\n",
    "    'epochs': hp.choice('epochs', [50, 75, 100, 150, 200]),\n",
    "    'batch_size': hp.choice('batch_size', [32, 64, 128, 256, 512]),\n",
    "    'dropout_rate': hp.uniform('dropout_rate', 0.0, 0.5),\n",
    "    'l2_regularizer': hp.uniform('l2_regularizer', 0.0, 0.5),\n",
    "    'validation_size': hp.uniform('validation_size', 0.1, 0.5),\n",
    "    'preprocessing': hp.choice('preprocessing', [True, False]),\n",
    "    'gamma': hp.uniform('gamma', 0.001, 0.1),\n",
    "    'random_state': hp.choice('random_state', [0, 42, 2018, 2019]),\n",
    "    'capacity': hp.uniform('capacity', 0.001, 0.1),\n",
    "    'verbose': hp.choice('verbose', [0, 0, 0]),\n",
    "}"
   ]
  },
  {
   "cell_type": "code",
   "execution_count": 11,
   "id": "93599621",
   "metadata": {
    "scrolled": true
   },
   "outputs": [
    {
     "name": "stdout",
     "output_type": "stream",
     "text": [
      "HyperTuner initializing, please be patient...\n",
      "HyperTuner init time: 41.6760 seconds\n",
      "HyperTuner init memory: 68401304\n",
      " MB\n"
     ]
    }
   ],
   "source": [
    "hyperOpt = O.HyperTuner(\n",
    "    algorithm=VAE,\n",
    "    param_space=param_grid,\n",
    "    feature_type='hist',\n",
    "    norm_type='minmax',\n",
    "    data=datasetCSTAR,\n",
    "    gt_labels=labels,\n",
    "    max_evals=30,\n",
    "    timing=True,\n",
    "    supress_tensor_flow_output=True\n",
    ")"
   ]
  },
  {
   "cell_type": "code",
   "execution_count": 12,
   "id": "9a4b5627",
   "metadata": {},
   "outputs": [
    {
     "name": "stdout",
     "output_type": "stream",
     "text": [
      "Supressing Tensor Flow output...\n",
      "HyperTuner optimizing, please be patient...\n",
      " 37%|█████████████████████████████████████████████████▏                                                                                    | 11/30 [05:54<11:32, 36.46s/trial, best loss: -0.9662499999999999]"
     ]
    },
    {
     "name": "stderr",
     "output_type": "stream",
     "text": [
      "job exception: Input contains NaN, infinity or a value too large for dtype('float32').\n",
      "\n"
     ]
    },
    {
     "name": "stdout",
     "output_type": "stream",
     "text": [
      " 37%|█████████████████████████████████████████████████▏                                                                                    | 11/30 [06:02<10:26, 32.96s/trial, best loss: -0.9662499999999999]\n",
      " 73%|██████████████████████████████████████████████████████████████████████████████████████████████████▎                                   | 22/30 [05:54<04:51, 36.48s/trial, best loss: -0.9662499999999999]"
     ]
    },
    {
     "name": "stderr",
     "output_type": "stream",
     "text": [
      "job exception: Input contains NaN, infinity or a value too large for dtype('float32').\n",
      "\n"
     ]
    },
    {
     "name": "stdout",
     "output_type": "stream",
     "text": [
      " 73%|██████████████████████████████████████████████████████████████████████████████████████████████████▎                                   | 22/30 [06:02<04:23, 32.94s/trial, best loss: -0.9662499999999999]\n",
      "100%|██████████████████████████████████████████████████████████████████████████████████████████████████████████████████████████████████████| 30/30 [04:05<00:00, 30.70s/trial, best loss: -0.9662499999999999]\n",
      "Best parameters:\n",
      "batch_size: 0.0\n",
      "capacity: 0.06131767922552495\n",
      "contamination: 0.015414562231089293\n",
      "decoder_neurons: 2.0\n",
      "dropout_rate: 0.42865805527000883\n",
      "encoder_neurons: 2.0\n",
      "epochs: 2.0\n",
      "gamma: 0.04668196456317853\n",
      "hidden_activation: tanh\n",
      "l2_regularizer: 0.4532703965079503\n",
      "latent_dim: 3.0\n",
      "optimizer: rmsprop\n",
      "output_activation: sigmoid\n",
      "preprocessing: False\n",
      "random_state: 3.0\n",
      "validation_size: 0.16440964344699366\n",
      "verbose: 2.0\n"
     ]
    },
    {
     "data": {
      "image/png": "[encoded data removed]",
      "text/plain": [
       "<Figure size 432x288 with 1 Axes>"
      ]
     },
     "metadata": {
      "needs_background": "light"
     },
     "output_type": "display_data"
    }
   ],
   "source": [
    "hyperOpt.optimize()"
   ]
  },
  {
   "cell_type": "code",
   "execution_count": 13,
   "id": "543b0e00",
   "metadata": {},
   "outputs": [
    {
     "name": "stdout",
     "output_type": "stream",
     "text": [
      "Best parameters:\n",
      "batch_size: 0.0\n",
      "capacity: 0.06131767922552495\n",
      "contamination: 0.015414562231089293\n",
      "decoder_neurons: 2.0\n",
      "dropout_rate: 0.42865805527000883\n",
      "encoder_neurons: 2.0\n",
      "epochs: 2.0\n",
      "gamma: 0.04668196456317853\n",
      "hidden_activation: tanh\n",
      "l2_regularizer: 0.4532703965079503\n",
      "latent_dim: 3.0\n",
      "optimizer: rmsprop\n",
      "output_activation: sigmoid\n",
      "preprocessing: False\n",
      "random_state: 3.0\n",
      "validation_size: 0.16440964344699366\n",
      "verbose: 2.0\n"
     ]
    }
   ],
   "source": [
    "hyperOpt.display_best_params()"
   ]
  },
  {
   "cell_type": "code",
   "execution_count": 14,
   "id": "bc17c3b9",
   "metadata": {},
   "outputs": [
    {
     "data": {
      "text/plain": [
       "{'batch_size': 0,\n",
       " 'capacity': 0.06131767922552495,\n",
       " 'contamination': 0.015414562231089293,\n",
       " 'decoder_neurons': 2,\n",
       " 'dropout_rate': 0.42865805527000883,\n",
       " 'encoder_neurons': 2,\n",
       " 'epochs': 2,\n",
       " 'gamma': 0.04668196456317853,\n",
       " 'hidden_activation': 1,\n",
       " 'l2_regularizer': 0.4532703965079503,\n",
       " 'latent_dim': 3,\n",
       " 'optimizer': 1,\n",
       " 'output_activation': 0,\n",
       " 'preprocessing': 1,\n",
       " 'random_state': 3,\n",
       " 'validation_size': 0.16440964344699366,\n",
       " 'verbose': 2}"
      ]
     },
     "execution_count": 14,
     "metadata": {},
     "output_type": "execute_result"
    }
   ],
   "source": [
    "hyperOpt."
   ]
  },
  {
   "cell_type": "code",
   "execution_count": null,
   "id": "b9305b31",
   "metadata": {},
   "outputs": [],
   "source": []
  },
  {
   "cell_type": "code",
   "execution_count": 7,
   "id": "4159f929",
   "metadata": {
    "scrolled": true
   },
   "outputs": [
    {
     "name": "stdout",
     "output_type": "stream",
     "text": [
      "Supressing Tensor Flow output...\n",
      "HyperTuner optimizing, please be patient...\n",
      "\r",
      "  0%|                                                                                                                                                                  | 0/30 [00:00<?, ?trial/s, best loss=?]"
     ]
    },
    {
     "name": "stderr",
     "output_type": "stream",
     "text": [
      "2023-03-21 19:30:05.013318: I tensorflow/stream_executor/platform/default/dso_loader.cc:53] Successfully opened dynamic library libcuda.so.1\n",
      "2023-03-21 19:30:05.041355: E tensorflow/stream_executor/cuda/cuda_driver.cc:328] failed call to cuInit: CUDA_ERROR_NO_DEVICE: no CUDA-capable device is detected\n",
      "2023-03-21 19:30:05.041376: I tensorflow/stream_executor/cuda/cuda_diagnostics.cc:169] retrieving CUDA diagnostic information for host: chimera12\n",
      "2023-03-21 19:30:05.041381: I tensorflow/stream_executor/cuda/cuda_diagnostics.cc:176] hostname: chimera12\n",
      "2023-03-21 19:30:05.041472: I tensorflow/stream_executor/cuda/cuda_diagnostics.cc:200] libcuda reported version is: 450.172.1\n",
      "2023-03-21 19:30:05.041489: I tensorflow/stream_executor/cuda/cuda_diagnostics.cc:204] kernel reported version is: 450.172.1\n",
      "2023-03-21 19:30:05.041494: I tensorflow/stream_executor/cuda/cuda_diagnostics.cc:310] kernel version seems to match DSO: 450.172.1\n",
      "2023-03-21 19:30:05.042015: I tensorflow/core/platform/cpu_feature_guard.cc:142] This TensorFlow binary is optimized with oneAPI Deep Neural Network Library (oneDNN) to use the following CPU instructions in performance-critical operations:  AVX2 FMA\n",
      "To enable them in other operations, rebuild TensorFlow with the appropriate compiler flags.\n",
      "2023-03-21 19:30:05.342169: I tensorflow/compiler/mlir/mlir_graph_optimization_pass.cc:176] None of the MLIR Optimization Passes are enabled (registered 2)\n",
      "2023-03-21 19:30:05.343528: I tensorflow/core/platform/profile_utils/cpu_utils.cc:114] CPU Frequency: 2245755000 Hz\n"
     ]
    },
    {
     "name": "stdout",
     "output_type": "stream",
     "text": [
      " 37%|█████████████████████████████████████████████████████▌                                                                                            | 11/30 [05:55<10:30, 33.17s/trial, best loss: -0.9275]"
     ]
    },
    {
     "name": "stderr",
     "output_type": "stream",
     "text": [
      "job exception: Input contains NaN, infinity or a value too large for dtype('float32').\n",
      "\n"
     ]
    },
    {
     "name": "stdout",
     "output_type": "stream",
     "text": [
      " 37%|█████████████████████████████████████████████████████▌                                                                                            | 11/30 [06:04<10:29, 33.11s/trial, best loss: -0.9275]\n",
      " 73%|███████████████████████████████████████████████████████████████████████████████████████████████████████████                                       | 22/30 [05:55<04:26, 33.26s/trial, best loss: -0.9275]"
     ]
    },
    {
     "name": "stderr",
     "output_type": "stream",
     "text": [
      "job exception: Input contains NaN, infinity or a value too large for dtype('float32').\n",
      "\n"
     ]
    },
    {
     "name": "stdout",
     "output_type": "stream",
     "text": [
      " 73%|███████████████████████████████████████████████████████████████████████████████████████████████████████████                                       | 22/30 [06:03<04:24, 33.05s/trial, best loss: -0.9275]\n",
      "100%|██████████████████████████████████████████████████████████████████████████████████████████████████████████████████████████████████████████████████| 30/30 [04:21<00:00, 32.73s/trial, best loss: -0.9275]\n",
      "Best parameters:\n",
      "batch_size: 3.0\n",
      "capacity: 0.019045994835145314\n",
      "contamination: 0.051232178093530756\n",
      "dropout_rate: 0.29176580122341905\n",
      "epochs: 2.0\n",
      "gamma: 0.021388175613821923\n",
      "hidden_activation: tanh\n",
      "l2_regularizer: 0.036958272662759584\n",
      "latent_dim: 3.0\n",
      "optimizer: adam\n",
      "output_activation: tanh\n",
      "preprocessing: False\n",
      "random_state: 1.0\n",
      "validation_size: 0.1848868467973341\n",
      "verbose: 1.0\n"
     ]
    },
    {
     "data": {
      "image/png": "[encoded data removed]",
      "text/plain": [
       "<Figure size 432x288 with 1 Axes>"
      ]
     },
     "metadata": {
      "needs_background": "light"
     },
     "output_type": "display_data"
    }
   ],
   "source": [
    "hyperOpt.optimize()"
   ]
  },
  {
   "cell_type": "code",
   "execution_count": null,
   "id": "741f0187",
   "metadata": {},
   "outputs": [],
   "source": []
  },
  {
   "cell_type": "code",
   "execution_count": null,
   "id": "7a3bcced",
   "metadata": {},
   "outputs": [],
   "source": []
  },
  {
   "cell_type": "code",
   "execution_count": 8,
   "id": "31120448",
   "metadata": {},
   "outputs": [
    {
     "name": "stdout",
     "output_type": "stream",
     "text": [
      "Best parameters:\n",
      "batch_size: 3.0\n",
      "capacity: 0.019045994835145314\n",
      "contamination: 0.051232178093530756\n",
      "dropout_rate: 0.29176580122341905\n",
      "epochs: 2.0\n",
      "gamma: 0.021388175613821923\n",
      "hidden_activation: tanh\n",
      "l2_regularizer: 0.036958272662759584\n",
      "latent_dim: 3.0\n",
      "optimizer: adam\n",
      "output_activation: tanh\n",
      "preprocessing: False\n",
      "random_state: 1.0\n",
      "validation_size: 0.1848868467973341\n",
      "verbose: 1.0\n"
     ]
    }
   ],
   "source": [
    "hyperOpt.display_best_params()"
   ]
  },
  {
   "cell_type": "code",
   "execution_count": 9,
   "id": "3a3663ae",
   "metadata": {
    "scrolled": false
   },
   "outputs": [
    {
     "name": "stdout",
     "output_type": "stream",
     "text": [
      "Parameter space:\n",
      "contamination: ['0.001', '0.2']\n",
      "latent_dim: ['5', '2', '4', '8', '16', '32']\n",
      "hidden_activation: ['relu', 'tanh']\n",
      "output_activation: ['sigmoid', 'tanh']\n",
      "optimizer: ['adam', 'rmsprop']\n",
      "epochs: ['5', '50', '75', '100', '150', '200']\n",
      "batch_size: ['5', '32', '64', '128', '256', '512']\n",
      "dropout_rate: ['0.0', '0.5']\n",
      "l2_regularizer: ['0.0', '0.5']\n",
      "validation_size: ['0.1', '0.5']\n",
      "preprocessing: ['True', 'False']\n",
      "gamma: ['0.001', '0.1']\n",
      "random_state: ['4', '0', '42', '2018', '2019']\n",
      "capacity: ['0.001', '0.1']\n",
      "verbose: ['3', '0', '0', '0']\n"
     ]
    }
   ],
   "source": [
    "hyperOpt.print_param_space()"
   ]
  },
  {
   "cell_type": "code",
   "execution_count": null,
   "id": "4f8987e5",
   "metadata": {},
   "outputs": [],
   "source": []
  }
 ],
 "metadata": {
  "kernelspec": {
   "display_name": "Python 3 (ipykernel)",
   "language": "python",
   "name": "python3"
  },
  "language_info": {
   "codemirror_mode": {
    "name": "ipython",
    "version": 3
   },
   "file_extension": ".py",
   "mimetype": "text/x-python",
   "name": "python",
   "nbconvert_exporter": "python",
   "pygments_lexer": "ipython3",
   "version": "3.9.7"
  }
 },
 "nbformat": 4,
 "nbformat_minor": 5
}
