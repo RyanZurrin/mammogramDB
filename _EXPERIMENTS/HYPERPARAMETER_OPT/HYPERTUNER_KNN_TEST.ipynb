{
 "cells": [
  {
   "cell_type": "code",
   "execution_count": 1,
   "id": "04dcf87e",
   "metadata": {},
   "outputs": [
    {
     "name": "stdout",
     "output_type": "stream",
     "text": [
      "Populating the interactive namespace from numpy and matplotlib\n"
     ]
    }
   ],
   "source": [
    "%pylab inline\n",
    "%load_ext autoreload\n",
    "%autoreload 2"
   ]
  },
  {
   "cell_type": "code",
   "execution_count": 2,
   "id": "290877ab",
   "metadata": {},
   "outputs": [],
   "source": [
    "import sys\n",
    "sys.path.insert(0,'../..')\n",
    "import omama as O\n",
    "import pickle\n",
    "from hyperopt import hp, rand, fmin, Trials\n",
    "from pyod.models.knn import KNN"
   ]
  },
  {
   "cell_type": "code",
   "execution_count": 3,
   "id": "88c95154",
   "metadata": {},
   "outputs": [],
   "source": [
    "# load data and labels\n",
    "\n",
    "with open('/raid/mpsych/datasetA.pkl','rb') as f:\n",
    "    datasetA = pickle.load(f)\n",
    "    \n",
    "with open('/raid/mpsych/datasetA_labels.pkl', 'rb') as f1:\n",
    "    labels = np.asarray(pickle.load(f1))"
   ]
  },
  {
   "cell_type": "code",
   "execution_count": 4,
   "id": "c00642b7",
   "metadata": {},
   "outputs": [],
   "source": [
    "# determine the hyperparameter space\n",
    "\n",
    "param_grid = {\n",
    "    'contamination': hp.uniform('contamination', 0.07, .1),\n",
    "    'n_neighbors': hp.uniformint('n_neighbors', 1, 50),\n",
    "    'method': hp.choice('method', ['largest', 'mean', 'median']),\n",
    "    'radius': hp.quniform('radius', 0.0, 5.0, .1),\n",
    "    'leaf_size': hp.uniformint('leaf_size', 1, 100),\n",
    "    'metric': hp.choice('metric', ['minkowski', 'cityblock', 'euclidean', 'l1', 'l2', 'manhattan', \n",
    "                                  ]),\n",
    "    'p': hp.uniformint('p', 1, 10),\n",
    "    'n_jobs': hp.uniformint('n_jobs', 1, 4)\n",
    "}"
   ]
  },
  {
   "cell_type": "code",
   "execution_count": 5,
   "id": "93599621",
   "metadata": {},
   "outputs": [
    {
     "name": "stdout",
     "output_type": "stream",
     "text": [
      "HyperTuner initializing, please be patient...\n"
     ]
    }
   ],
   "source": [
    "hyperOpt = O.HyperTuner(\n",
    "    algorithm=KNN,\n",
    "    param_space=param_grid,\n",
    "    feature_type='hist',\n",
    "    norm_type='gaussian',\n",
    "    data=datasetA,\n",
    "    gt_labels=labels,\n",
    "    max_evals=50,\n",
    "    sigma=20\n",
    ")"
   ]
  },
  {
   "cell_type": "code",
   "execution_count": 11,
   "id": "b6c89e42",
   "metadata": {},
   "outputs": [],
   "source": [
    "hyperOpt.max_evals = 100"
   ]
  },
  {
   "cell_type": "code",
   "execution_count": 12,
   "id": "4159f929",
   "metadata": {},
   "outputs": [
    {
     "name": "stdout",
     "output_type": "stream",
     "text": [
      "100%|█████████████████████████████████████████████████████████████████████████████████████████████████████████████████████████████████████████████████| 100/100 [00:19<00:00,  2.52trial/s, best loss: -0.825]\n",
      "Best parameters:\n",
      "contamination: 0.091466753773393\n",
      "leaf_size: 12.0\n",
      "method: median\n",
      "metric: euclidean\n",
      "n_jobs: 3.0\n",
      "n_neighbors: 44.0\n",
      "p: 7.0\n",
      "radius: 4.1000000000000005\n"
     ]
    },
    {
     "data": {
      "image/png": "[encoded data removed]",
      "text/plain": [
       "<Figure size 432x288 with 1 Axes>"
      ]
     },
     "metadata": {
      "needs_background": "light"
     },
     "output_type": "display_data"
    }
   ],
   "source": [
    "hyperOpt.optimize()"
   ]
  },
  {
   "cell_type": "code",
   "execution_count": 13,
   "id": "31120448",
   "metadata": {},
   "outputs": [
    {
     "name": "stdout",
     "output_type": "stream",
     "text": [
      "Best parameters:\n",
      "contamination: 0.091466753773393\n",
      "leaf_size: 12.0\n",
      "method: median\n",
      "metric: euclidean\n",
      "n_jobs: 3.0\n",
      "n_neighbors: 44.0\n",
      "p: 7.0\n",
      "radius: 4.1000000000000005\n"
     ]
    }
   ],
   "source": [
    "hyperOpt.display_best_params()"
   ]
  },
  {
   "cell_type": "code",
   "execution_count": 14,
   "id": "3a3663ae",
   "metadata": {
    "scrolled": false
   },
   "outputs": [
    {
     "name": "stdout",
     "output_type": "stream",
     "text": [
      "Parameter space:\n",
      "contamination: ['0.07', '0.1']\n",
      "n_neighbors: ['1', '50', '1.0']\n",
      "method: ['largest', 'mean', 'median']\n",
      "radius: ['0.0', '5.0', '0.1']\n",
      "leaf_size: ['1', '100', '1.0']\n",
      "metric: ['minkowski', 'cityblock', 'euclidean', 'l1', 'l2', 'manhattan']\n",
      "p: ['1', '10', '1.0']\n",
      "n_jobs: ['1', '4', '1.0']\n"
     ]
    }
   ],
   "source": [
    "hyperOpt.print_param_space()"
   ]
  },
  {
   "cell_type": "code",
   "execution_count": 15,
   "id": "00434a34",
   "metadata": {},
   "outputs": [
    {
     "name": "stdout",
     "output_type": "stream",
     "text": [
      "<class 'dict'>\n"
     ]
    }
   ],
   "source": [
    "print(type(hyperOpt.param_space))"
   ]
  },
  {
   "cell_type": "code",
   "execution_count": 18,
   "id": "4f8987e5",
   "metadata": {},
   "outputs": [
    {
     "name": "stdout",
     "output_type": "stream",
     "text": [
      "HyperTuner\n"
     ]
    }
   ],
   "source": [
    "print(hyperOpt)"
   ]
  },
  {
   "cell_type": "code",
   "execution_count": null,
   "id": "f2ef84dd",
   "metadata": {},
   "outputs": [],
   "source": []
  }
 ],
 "metadata": {
  "kernelspec": {
   "display_name": "Python 3 (ipykernel)",
   "language": "python",
   "name": "python3"
  },
  "language_info": {
   "codemirror_mode": {
    "name": "ipython",
    "version": 3
   },
   "file_extension": ".py",
   "mimetype": "text/x-python",
   "name": "python",
   "nbconvert_exporter": "python",
   "pygments_lexer": "ipython3",
   "version": "3.9.7"
  }
 },
 "nbformat": 4,
 "nbformat_minor": 5
}
