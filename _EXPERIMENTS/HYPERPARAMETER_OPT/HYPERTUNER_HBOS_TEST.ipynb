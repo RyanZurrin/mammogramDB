{
 "cells": [
  {
   "cell_type": "code",
   "execution_count": 1,
   "id": "04dcf87e",
   "metadata": {},
   "outputs": [
    {
     "name": "stdout",
     "output_type": "stream",
     "text": [
      "Populating the interactive namespace from numpy and matplotlib\n"
     ]
    }
   ],
   "source": [
    "%pylab inline\n",
    "%load_ext autoreload\n",
    "%autoreload 2"
   ]
  },
  {
   "cell_type": "code",
   "execution_count": 2,
   "id": "290877ab",
   "metadata": {},
   "outputs": [],
   "source": [
    "import sys\n",
    "sys.path.insert(0,'../..')\n",
    "import omama as O\n",
    "import pickle\n",
    "from hyperopt import hp, rand, fmin, Trials\n",
    "from pyod.models.hbos import HBOS"
   ]
  },
  {
   "cell_type": "code",
   "execution_count": 3,
   "id": "88c95154",
   "metadata": {},
   "outputs": [],
   "source": [
    "# load data and labels\n",
    "\n",
    "with open('/raid/mpsych/datasetB.pkl','rb') as f:\n",
    "    datasetA = pickle.load(f)\n",
    "    \n",
    "with open('/raid/mpsych/datasetB_labels.pkl', 'rb') as f1:\n",
    "    labels = np.asarray(pickle.load(f1))"
   ]
  },
  {
   "cell_type": "code",
   "execution_count": 4,
   "id": "5a7db468",
   "metadata": {},
   "outputs": [
    {
     "name": "stdout",
     "output_type": "stream",
     "text": [
      "100 100\n"
     ]
    }
   ],
   "source": [
    "print(len(datasetA), len(labels))"
   ]
  },
  {
   "cell_type": "code",
   "execution_count": 5,
   "id": "c00642b7",
   "metadata": {},
   "outputs": [],
   "source": [
    "# determine the hyperparameter space\n",
    "\n",
    "param_grid = {\n",
    "    'contamination': hp.uniform('contamination', 0.07, .1),\n",
    "    'n_bins': hp.uniformint('n_bins', 1, 50),\n",
    "    'alpha': hp.uniform('alpha', 0.0, 1.0),\n",
    "    'tol': hp.uniform('tol', 0.0, 1.0),\n",
    "}"
   ]
  },
  {
   "cell_type": "code",
   "execution_count": 6,
   "id": "93599621",
   "metadata": {
    "scrolled": true
   },
   "outputs": [
    {
     "name": "stdout",
     "output_type": "stream",
     "text": [
      "HyperTuner initializing, please be patient...\n",
      "HyperTuner init time: 445.2156 seconds\n",
      "HyperTuner init memory: 6479524\n",
      " MB\n"
     ]
    }
   ],
   "source": [
    "hyperOpt = O.HyperTuner(\n",
    "    algorithm=HBOS,\n",
    "    param_space=param_grid,\n",
    "    feature_type='hist',\n",
    "    norm_type='gaussian',\n",
    "    data=datasetA,\n",
    "    gt_labels=labels,\n",
    "    max_evals=60,\n",
    "    timing=True,\n",
    "    sigma=10\n",
    ")"
   ]
  },
  {
   "cell_type": "code",
   "execution_count": null,
   "id": "9a4b5627",
   "metadata": {},
   "outputs": [],
   "source": []
  },
  {
   "cell_type": "code",
   "execution_count": 8,
   "id": "4159f929",
   "metadata": {},
   "outputs": [
    {
     "name": "stdout",
     "output_type": "stream",
     "text": [
      "100%|██████████████████████████████████████████████████████████████████████████████████████████████████████████████████████████████████████████████████| 60/60 [00:17<00:00,  3.34trial/s, best loss: -0.8875]\n",
      "Best parameters:\n",
      "alpha: 0.6517423997488939\n",
      "contamination: 0.09651779876417847\n",
      "n_bins: 31.0\n",
      "tol: 0.8136554076402878\n"
     ]
    },
    {
     "data": {
      "image/png": "[encoded data removed]",
      "text/plain": [
       "<Figure size 432x288 with 1 Axes>"
      ]
     },
     "metadata": {
      "needs_background": "light"
     },
     "output_type": "display_data"
    }
   ],
   "source": [
    "hyperOpt.optimize()"
   ]
  },
  {
   "cell_type": "code",
   "execution_count": 9,
   "id": "31120448",
   "metadata": {},
   "outputs": [
    {
     "name": "stdout",
     "output_type": "stream",
     "text": [
      "Best parameters:\n",
      "alpha: 0.6517423997488939\n",
      "contamination: 0.09651779876417847\n",
      "n_bins: 31.0\n",
      "tol: 0.8136554076402878\n"
     ]
    }
   ],
   "source": [
    "hyperOpt.display_best_params()"
   ]
  },
  {
   "cell_type": "code",
   "execution_count": 10,
   "id": "3a3663ae",
   "metadata": {
    "scrolled": false
   },
   "outputs": [
    {
     "name": "stdout",
     "output_type": "stream",
     "text": [
      "Parameter space:\n",
      "contamination: ['0.07', '0.1']\n",
      "n_bins: ['1', '50', '1.0']\n",
      "alpha: ['0.0', '1.0']\n",
      "tol: ['0.0', '1.0']\n"
     ]
    }
   ],
   "source": [
    "hyperOpt.print_param_space()"
   ]
  },
  {
   "cell_type": "code",
   "execution_count": null,
   "id": "4f8987e5",
   "metadata": {},
   "outputs": [],
   "source": []
  }
 ],
 "metadata": {
  "kernelspec": {
   "display_name": "Python 3 (ipykernel)",
   "language": "python",
   "name": "python3"
  },
  "language_info": {
   "codemirror_mode": {
    "name": "ipython",
    "version": 3
   },
   "file_extension": ".py",
   "mimetype": "text/x-python",
   "name": "python",
   "nbconvert_exporter": "python",
   "pygments_lexer": "ipython3",
   "version": "3.9.7"
  }
 },
 "nbformat": 4,
 "nbformat_minor": 5
}
