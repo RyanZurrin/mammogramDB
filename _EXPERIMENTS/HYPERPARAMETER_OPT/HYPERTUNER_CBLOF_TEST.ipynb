{
 "cells": [
  {
   "cell_type": "code",
   "execution_count": 2,
   "id": "04dcf87e",
   "metadata": {},
   "outputs": [
    {
     "name": "stdout",
     "output_type": "stream",
     "text": [
      "Populating the interactive namespace from numpy and matplotlib\n"
     ]
    }
   ],
   "source": [
    "%pylab inline\n",
    "%load_ext autoreload\n",
    "%autoreload 2"
   ]
  },
  {
   "cell_type": "code",
   "execution_count": 3,
   "id": "290877ab",
   "metadata": {},
   "outputs": [],
   "source": [
    "import sys\n",
    "sys.path.insert(0,'../..')\n",
    "import omama as O\n",
    "import pickle\n",
    "from hyperopt import hp, rand, fmin, Trials\n",
    "from pyod.models.cblof import CBLOF"
   ]
  },
  {
   "cell_type": "code",
   "execution_count": 4,
   "id": "88c95154",
   "metadata": {},
   "outputs": [],
   "source": [
    "# load data and labels\n",
    "\n",
    "with open('/raid/mpsych/datasetB.pkl','rb') as f:\n",
    "    datasetA = pickle.load(f)\n",
    "    \n",
    "with open('/raid/mpsych/datasetB_labels.pkl', 'rb') as f1:\n",
    "    labels = np.asarray(pickle.load(f1))"
   ]
  },
  {
   "cell_type": "code",
   "execution_count": 5,
   "id": "c00642b7",
   "metadata": {},
   "outputs": [],
   "source": [
    "# determine the hyperparameter space\n",
    "\n",
    "param_grid = {\n",
    "    'contamination': hp.uniform('contamination', 0.07, .1),\n",
    "    'alpha': hp.uniform('alpha', 0.5, 1.0),\n",
    "    'beta': hp.uniform('beta', 1.0, 5.0),\n",
    "    'use_weights': hp.choice('use_weights', [True, False]),\n",
    "    'n_jobs': hp.uniformint('n_jobs', 1, 4),\n",
    "}"
   ]
  },
  {
   "cell_type": "code",
   "execution_count": 5,
   "id": "db6de695",
   "metadata": {},
   "outputs": [],
   "source": [
    "# def opt(params):\n",
    "#     param_dict = {\n",
    "#         'contamination': params['contamination'],\n",
    "#         'n_clusters': int(params['n_clusters']),\n",
    "#         'alpha': params['alpha'],\n",
    "#         'beta': params['beta'],\n",
    "#         'use_weights': params['use_weights'],\n",
    "#         'check_estimator': params['check_estimator'],\n",
    "#         'n_jobs': int(params['n_jobs']),\n",
    "#         'clustering_estimator': params['clustering_estimator'],\n",
    "#     }\n",
    "#     clf = self.algorithm(**params)\n",
    "#     clf.fit(self.X_train, self.y_train)\n",
    "    \n",
    "#     score = -cross_val_score(clf,\n",
    "#                              self.X_train,\n",
    "#                              self.y_train,\n",
    "#                              cv=self.cv,\n",
    "#                              n_jobs=self.n_jobs,\n",
    "#                              scoring=self.scoring).mean()"
   ]
  },
  {
   "cell_type": "code",
   "execution_count": 6,
   "id": "93599621",
   "metadata": {},
   "outputs": [
    {
     "name": "stdout",
     "output_type": "stream",
     "text": [
      "HyperTuner initializing, please be patient...\n"
     ]
    }
   ],
   "source": [
    "hyperOpt = O.HyperTuner(\n",
    "    algorithm=CBLOF,\n",
    "    param_space=param_grid,\n",
    "    feature_type='hist',\n",
    "    norm_type='gaussian',\n",
    "    data=datasetA,\n",
    "    gt_labels=labels,\n",
    "    max_evals=60,\n",
    "    sigma=5\n",
    ")"
   ]
  },
  {
   "cell_type": "code",
   "execution_count": null,
   "id": "e7c607a1",
   "metadata": {},
   "outputs": [],
   "source": []
  },
  {
   "cell_type": "code",
   "execution_count": 7,
   "id": "4159f929",
   "metadata": {},
   "outputs": [
    {
     "name": "stdout",
     "output_type": "stream",
     "text": [
      " 13%|███████████████████▋                                                                                                                                | 8/60 [00:04<00:19,  2.63trial/s, best loss: -0.775]"
     ]
    },
    {
     "name": "stderr",
     "output_type": "stream",
     "text": [
      "job exception: Could not form valid cluster separation. Please change n_clusters or change clustering method\n",
      "\n"
     ]
    },
    {
     "name": "stdout",
     "output_type": "stream",
     "text": [
      " 13%|███████████████████▋                                                                                                                                | 8/60 [00:04<00:30,  1.70trial/s, best loss: -0.775]\n",
      " 27%|███████████████████████████████████████▏                                                                                                           | 16/60 [00:02<00:14,  3.01trial/s, best loss: -0.775]"
     ]
    },
    {
     "name": "stderr",
     "output_type": "stream",
     "text": [
      "job exception: Could not form valid cluster separation. Please change n_clusters or change clustering method\n",
      "\n"
     ]
    },
    {
     "name": "stdout",
     "output_type": "stream",
     "text": [
      " 27%|███████████████████████████████████████▏                                                                                                           | 16/60 [00:02<00:14,  2.95trial/s, best loss: -0.775]\n",
      " 35%|███████████████████████████████████████████████████▍                                                                                               | 21/60 [00:01<00:12,  3.02trial/s, best loss: -0.775]"
     ]
    },
    {
     "name": "stderr",
     "output_type": "stream",
     "text": [
      "job exception: Could not form valid cluster separation. Please change n_clusters or change clustering method\n",
      "\n"
     ]
    },
    {
     "name": "stdout",
     "output_type": "stream",
     "text": [
      " 35%|███████████████████████████████████████████████████▍                                                                                               | 21/60 [00:01<00:13,  2.92trial/s, best loss: -0.775]\n",
      " 43%|███████████████████████████████████████████████████████████████▋                                                                                   | 26/60 [00:01<00:12,  2.79trial/s, best loss: -0.775]"
     ]
    },
    {
     "name": "stderr",
     "output_type": "stream",
     "text": [
      "job exception: Could not form valid cluster separation. Please change n_clusters or change clustering method\n",
      "\n"
     ]
    },
    {
     "name": "stdout",
     "output_type": "stream",
     "text": [
      " 43%|███████████████████████████████████████████████████████████████▋                                                                                   | 26/60 [00:01<00:12,  2.74trial/s, best loss: -0.775]\n",
      " 57%|███████████████████████████████████████████████████████████████████████████████████▎                                                               | 34/60 [00:02<00:08,  3.00trial/s, best loss: -0.775]"
     ]
    },
    {
     "name": "stderr",
     "output_type": "stream",
     "text": [
      "job exception: Could not form valid cluster separation. Please change n_clusters or change clustering method\n",
      "\n"
     ]
    },
    {
     "name": "stdout",
     "output_type": "stream",
     "text": [
      " 57%|███████████████████████████████████████████████████████████████████████████████████▎                                                               | 34/60 [00:02<00:09,  2.78trial/s, best loss: -0.775]\n",
      " 70%|██████████████████████████████████████████████████████████████████████████████████████████████████████▉                                            | 42/60 [00:02<00:05,  3.02trial/s, best loss: -0.775]"
     ]
    },
    {
     "name": "stderr",
     "output_type": "stream",
     "text": [
      "job exception: Could not form valid cluster separation. Please change n_clusters or change clustering method\n",
      "\n"
     ]
    },
    {
     "name": "stdout",
     "output_type": "stream",
     "text": [
      " 70%|██████████████████████████████████████████████████████████████████████████████████████████████████████▉                                            | 42/60 [00:02<00:06,  2.92trial/s, best loss: -0.775]\n",
      " 78%|███████████████████████████████████████████████████████████████████████████████████████████████████████████████████▏                               | 47/60 [00:01<00:04,  2.96trial/s, best loss: -0.775]"
     ]
    },
    {
     "name": "stderr",
     "output_type": "stream",
     "text": [
      "job exception: Could not form valid cluster separation. Please change n_clusters or change clustering method\n",
      "\n"
     ]
    },
    {
     "name": "stdout",
     "output_type": "stream",
     "text": [
      " 78%|███████████████████████████████████████████████████████████████████████████████████████████████████████████████████▏                               | 47/60 [00:01<00:04,  2.89trial/s, best loss: -0.775]\n",
      " 92%|██████████████████████████████████████████████████████████████████████████████████████████████████████████████████████████████████████▊            | 55/60 [00:02<00:01,  3.10trial/s, best loss: -0.775]"
     ]
    },
    {
     "name": "stderr",
     "output_type": "stream",
     "text": [
      "job exception: Could not form valid cluster separation. Please change n_clusters or change clustering method\n",
      "\n"
     ]
    },
    {
     "name": "stdout",
     "output_type": "stream",
     "text": [
      " 92%|██████████████████████████████████████████████████████████████████████████████████████████████████████████████████████████████████████▊            | 55/60 [00:02<00:01,  2.90trial/s, best loss: -0.775]\n",
      "100%|███████████████████████████████████████████████████████████████████████████████████████████████████████████████████████████████████████████████████| 60/60 [00:01<00:00,  2.72trial/s, best loss: -0.775]\n",
      "Best parameters:\n",
      "alpha: 0.7531054068679127\n",
      "beta: 4.477423665141224\n",
      "contamination: 0.07245240825856468\n",
      "n_jobs: 4.0\n",
      "use_weights: False\n"
     ]
    },
    {
     "data": {
      "image/png": "[encoded data removed]",
      "text/plain": [
       "<Figure size 432x288 with 1 Axes>"
      ]
     },
     "metadata": {
      "needs_background": "light"
     },
     "output_type": "display_data"
    }
   ],
   "source": [
    "hyperOpt.optimize()"
   ]
  },
  {
   "cell_type": "code",
   "execution_count": 8,
   "id": "31120448",
   "metadata": {},
   "outputs": [
    {
     "name": "stdout",
     "output_type": "stream",
     "text": [
      "Best parameters:\n",
      "alpha: 0.7531054068679127\n",
      "beta: 4.477423665141224\n",
      "contamination: 0.07245240825856468\n",
      "n_jobs: 4.0\n",
      "use_weights: False\n"
     ]
    }
   ],
   "source": [
    "hyperOpt.display_best_params()"
   ]
  },
  {
   "cell_type": "code",
   "execution_count": 9,
   "id": "3a3663ae",
   "metadata": {
    "scrolled": false
   },
   "outputs": [
    {
     "name": "stdout",
     "output_type": "stream",
     "text": [
      "Parameter space:\n",
      "contamination: ['0.07', '0.1']\n",
      "alpha: ['0.5', '1.0']\n",
      "beta: ['1.0', '5.0']\n",
      "use_weights: ['True', 'False']\n",
      "n_jobs: ['1', '4', '1.0']\n"
     ]
    }
   ],
   "source": [
    "hyperOpt.print_param_space()"
   ]
  },
  {
   "cell_type": "code",
   "execution_count": 10,
   "id": "00434a34",
   "metadata": {},
   "outputs": [
    {
     "name": "stdout",
     "output_type": "stream",
     "text": [
      "<class 'dict'>\n"
     ]
    }
   ],
   "source": [
    "print(type(hyperOpt.param_space))"
   ]
  },
  {
   "cell_type": "code",
   "execution_count": null,
   "id": "4f8987e5",
   "metadata": {},
   "outputs": [],
   "source": []
  }
 ],
 "metadata": {
  "kernelspec": {
   "display_name": "Python 3 (ipykernel)",
   "language": "python",
   "name": "python3"
  },
  "language_info": {
   "codemirror_mode": {
    "name": "ipython",
    "version": 3
   },
   "file_extension": ".py",
   "mimetype": "text/x-python",
   "name": "python",
   "nbconvert_exporter": "python",
   "pygments_lexer": "ipython3",
   "version": "3.9.7"
  }
 },
 "nbformat": 4,
 "nbformat_minor": 5
}
