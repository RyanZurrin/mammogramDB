{
 "cells": [
  {
   "cell_type": "markdown",
   "id": "fb50d53b",
   "metadata": {},
   "source": [
    "# Randomized Search with Hyperopt\n",
    "\n",
    "In this notebook, we will perform Randomized Search to select the best hyperparameters for a Gradient Boosting Classifier, using the open source Python package Hyperopt.\n",
    "\n",
    "The randomized search is performed with the class rand.\n",
    "\n",
    "I find the documentation for Hyperopt quite unintuitive, so it helps to refer to the original article to understand the different parameters and classes.\n",
    "\n",
    "To step out of Scikit-learn, we will optimise the parameters of a Gradient Boosting Machine of the xgboost package.\n",
    "Procedure\n",
    "\n",
    "To tune the hyper-parameters of our model we need to:\n",
    "\n",
    "    define a model\n",
    "    define the hyperparameter space\n",
    "    define the objective function we want to minimize"
   ]
  },
  {
   "cell_type": "code",
   "execution_count": 1,
   "id": "0db3d9ff",
   "metadata": {},
   "outputs": [
    {
     "name": "stdout",
     "output_type": "stream",
     "text": [
      "Populating the interactive namespace from numpy and matplotlib\n"
     ]
    }
   ],
   "source": [
    "%pylab inline\n",
    "%load_ext autoreload\n",
    "%autoreload 2"
   ]
  },
  {
   "cell_type": "code",
   "execution_count": 52,
   "id": "47cb8fdb",
   "metadata": {},
   "outputs": [],
   "source": [
    "import sys\n",
    "sys.path.insert(0,'../..')\n",
    "import omama as O\n",
    "import numpy as np\n",
    "import pandas as pd\n",
    "import sklearn\n",
    "import matplotlib.pyplot as plt\n",
    "\n",
    "from sklearn.metrics import accuracy_score\n",
    "from sklearn.model_selection import cross_val_score, train_test_split\n",
    "from sklearn.metrics import top_k_accuracy_score\n",
    "from scipy.spatial.distance import braycurtis, canberra, chebyshev, correlation, dice, hamming, jaccard, kulsinski, mahalanobis, matching, minkowski, rogerstanimoto, russellrao, seuclidean, sokalmichener, sokalsneath, sqeuclidean, yule\n",
    "import scipy\n",
    "\n",
    "from hyperopt import hp, rand, fmin, Trials\n",
    "from pyod.models.knn import KNN\n",
    "import pickle"
   ]
  },
  {
   "cell_type": "code",
   "execution_count": 5,
   "id": "ad50d7b2",
   "metadata": {},
   "outputs": [],
   "source": [
    "with open('/raid/mpsych/datasetA.pkl','rb') as f:\n",
    "    datasetA_X = pickle.load(f)\n",
    "    \n",
    "with open('/raid/mpsych/datasetA_labels.pkl', 'rb') as f1:\n",
    "    datasetA_y = np.asarray(pickle.load(f1))"
   ]
  },
  {
   "cell_type": "code",
   "execution_count": 6,
   "id": "04f3318b",
   "metadata": {},
   "outputs": [],
   "source": [
    "X_feat_vect = O.Features.get_features(datasetA_X, feature_type='hist', norm_type='gaussian')"
   ]
  },
  {
   "cell_type": "code",
   "execution_count": 7,
   "id": "e11c95b6",
   "metadata": {},
   "outputs": [],
   "source": [
    "X = pd.DataFrame(X_feat_vect)"
   ]
  },
  {
   "cell_type": "code",
   "execution_count": 8,
   "id": "0dbcd1a9",
   "metadata": {},
   "outputs": [],
   "source": [
    "y = pd.Series(datasetA_y)"
   ]
  },
  {
   "cell_type": "code",
   "execution_count": 9,
   "id": "2278a5eb",
   "metadata": {},
   "outputs": [
    {
     "data": {
      "text/plain": [
       "0    0.92\n",
       "1    0.08\n",
       "dtype: float64"
      ]
     },
     "execution_count": 9,
     "metadata": {},
     "output_type": "execute_result"
    }
   ],
   "source": [
    "# the target:\n",
    "# percentage of unwanted images (0) to wanted images (1)\n",
    "\n",
    "y.value_counts() / len(y)"
   ]
  },
  {
   "cell_type": "code",
   "execution_count": 10,
   "id": "aec579fb",
   "metadata": {},
   "outputs": [
    {
     "data": {
      "text/plain": [
       "((80, 256), (20, 256))"
      ]
     },
     "execution_count": 10,
     "metadata": {},
     "output_type": "execute_result"
    }
   ],
   "source": [
    "X_train, X_test, y_train, y_test = train_test_split(\n",
    "    X, y, test_size=0.2, random_state=0\n",
    ")\n",
    "X_train.shape, X_test.shape"
   ]
  },
  {
   "cell_type": "markdown",
   "id": "6f2a82d3",
   "metadata": {},
   "source": [
    "## Define the Hyperparameter Space\n",
    "\n",
    "- [Hyperopt search space](http://hyperopt.github.io/hyperopt/getting-started/search_spaces/)\n",
    "\n",
    "- [xgb.XGBClassifier hyperparameters](https://xgboost.readthedocs.io/en/latest/python/python_api.html#xgboost.XGBClassifier)\n",
    "\n",
    "- [xgb general parameters](https://xgboost.readthedocs.io/en/latest/parameter.html)"
   ]
  },
  {
   "cell_type": "code",
   "execution_count": 64,
   "id": "da7d778a",
   "metadata": {},
   "outputs": [],
   "source": [
    "# determine the hyperparameter space\n",
    "\n",
    "param_grid = {\n",
    "    'contamination': hp.uniform('contamination', 0.07, .1),\n",
    "    'n_neighbors': hp.uniformint('n_neighbors', 1, 50),\n",
    "    'method': hp.choice('method', ['largest', 'mean', 'median']),\n",
    "    'radius': hp.quniform('radius', 0.0, 5.0, .1),\n",
    "    'leaf_size': hp.uniformint('leaf_size', 1, 100),\n",
    "    'metric': hp.choice('metric', ['minkowski', 'cityblock', 'euclidean', 'l1', 'l2', 'manhattan', \n",
    "                                  ]),\n",
    "    'p': hp.uniformint('p', 1, 10),\n",
    "    'n_jobs': hp.uniformint('n_jobs', 1, 4)\n",
    "}"
   ]
  },
  {
   "cell_type": "code",
   "execution_count": 65,
   "id": "9a654765",
   "metadata": {},
   "outputs": [
    {
     "name": "stdout",
     "output_type": "stream",
     "text": [
      "<class 'hyperopt.pyll.base.Apply'>\n"
     ]
    }
   ],
   "source": [
    "print(type(param_grid['n_neighbors']))"
   ]
  },
  {
   "cell_type": "code",
   "execution_count": 68,
   "id": "bd7e3d1c",
   "metadata": {},
   "outputs": [
    {
     "name": "stdout",
     "output_type": "stream",
     "text": [
      "<class 'hyperopt.pyll.base.Apply'>\n"
     ]
    }
   ],
   "source": [
    "print(type(param_grid['method']))"
   ]
  },
  {
   "cell_type": "code",
   "execution_count": 72,
   "id": "cee938db",
   "metadata": {},
   "outputs": [
    {
     "ename": "AttributeError",
     "evalue": "type object 'Apply' has no attribute 'hp'",
     "output_type": "error",
     "traceback": [
      "\u001B[0;31m---------------------------------------------------------------------------\u001B[0m",
      "\u001B[0;31mAttributeError\u001B[0m                            Traceback (most recent call last)",
      "\u001B[0;32m/tmp/ipykernel_2298206/3546665467.py\u001B[0m in \u001B[0;36m<module>\u001B[0;34m\u001B[0m\n\u001B[1;32m      1\u001B[0m \u001B[0;32mfrom\u001B[0m \u001B[0mhyperopt\u001B[0m\u001B[0;34m.\u001B[0m\u001B[0mpyll\u001B[0m\u001B[0;34m.\u001B[0m\u001B[0mbase\u001B[0m \u001B[0;32mimport\u001B[0m \u001B[0mApply\u001B[0m\u001B[0;34m\u001B[0m\u001B[0;34m\u001B[0m\u001B[0m\n\u001B[0;32m----> 2\u001B[0;31m \u001B[0mprint\u001B[0m\u001B[0;34m(\u001B[0m\u001B[0misinstance\u001B[0m\u001B[0;34m(\u001B[0m\u001B[0mparam_grid\u001B[0m\u001B[0;34m[\u001B[0m\u001B[0;34m'n_neighbors'\u001B[0m\u001B[0;34m]\u001B[0m\u001B[0;34m,\u001B[0m \u001B[0mApply\u001B[0m\u001B[0;34m.\u001B[0m\u001B[0mhp\u001B[0m\u001B[0;34m.\u001B[0m\u001B[0muniformint\u001B[0m\u001B[0;34m)\u001B[0m\u001B[0;34m)\u001B[0m\u001B[0;34m\u001B[0m\u001B[0;34m\u001B[0m\u001B[0m\n\u001B[0m",
      "\u001B[0;31mAttributeError\u001B[0m: type object 'Apply' has no attribute 'hp'"
     ]
    }
   ],
   "source": [
    "\n",
    "print(isinstance(param_grid['n_neighbors'], Apply.hp.uniformint))"
   ]
  },
  {
   "cell_type": "code",
   "execution_count": 73,
   "id": "4caf7a41",
   "metadata": {},
   "outputs": [],
   "source": [
    "from hyperopt.pyll.base import Apply"
   ]
  },
  {
   "cell_type": "code",
   "execution_count": 74,
   "id": "f0de86cc",
   "metadata": {},
   "outputs": [
    {
     "data": {
      "text/plain": [
       "<function hyperopt.pyll.base.Apply.inputs(self)>"
      ]
     },
     "execution_count": 74,
     "metadata": {},
     "output_type": "execute_result"
    }
   ],
   "source": [
    "Apply.inputs."
   ]
  },
  {
   "cell_type": "code",
   "execution_count": 12,
   "id": "f5ffdec6",
   "metadata": {},
   "outputs": [
    {
     "data": {
      "text/plain": [
       "dict_keys(['explained_variance', 'r2', 'max_error', 'neg_median_absolute_error', 'neg_mean_absolute_error', 'neg_mean_absolute_percentage_error', 'neg_mean_squared_error', 'neg_mean_squared_log_error', 'neg_root_mean_squared_error', 'neg_mean_poisson_deviance', 'neg_mean_gamma_deviance', 'accuracy', 'top_k_accuracy', 'roc_auc', 'roc_auc_ovr', 'roc_auc_ovo', 'roc_auc_ovr_weighted', 'roc_auc_ovo_weighted', 'balanced_accuracy', 'average_precision', 'neg_log_loss', 'neg_brier_score', 'adjusted_rand_score', 'rand_score', 'homogeneity_score', 'completeness_score', 'v_measure_score', 'mutual_info_score', 'adjusted_mutual_info_score', 'normalized_mutual_info_score', 'fowlkes_mallows_score', 'precision', 'precision_macro', 'precision_micro', 'precision_samples', 'precision_weighted', 'recall', 'recall_macro', 'recall_micro', 'recall_samples', 'recall_weighted', 'f1', 'f1_macro', 'f1_micro', 'f1_samples', 'f1_weighted', 'jaccard', 'jaccard_macro', 'jaccard_micro', 'jaccard_samples', 'jaccard_weighted'])"
      ]
     },
     "execution_count": 12,
     "metadata": {},
     "output_type": "execute_result"
    }
   ],
   "source": [
    "sklearn.metrics.SCORERS.keys()"
   ]
  },
  {
   "cell_type": "markdown",
   "id": "857feaf2",
   "metadata": {},
   "source": [
    "## Define the objective function\n",
    "\n",
    "This is the hyperparameter response space, the function we want to minimize."
   ]
  },
  {
   "cell_type": "code",
   "execution_count": 53,
   "id": "9b2ae212",
   "metadata": {},
   "outputs": [],
   "source": [
    "# the objective function takes the hyperparameter space\n",
    "# as input\n",
    "\n",
    "def objective(params):\n",
    "\n",
    "    # we need a dictionary to indicate which value from the space\n",
    "    # to attribute to each value of the hyperparameter in the xgb\n",
    "    params_dict = {\n",
    "        'contamination': params['contamination'],\n",
    "        'n_neighbors': int(params['n_neighbors']),\n",
    "        'method':params['method'],\n",
    "        'radius': params['radius'],\n",
    "        'leaf_size': int(params['leaf_size']),\n",
    "        'metric': params['metric'],\n",
    "        'p': int(params['p']),\n",
    "        'n_jobs': int(params['n_jobs'])\n",
    "    }\n",
    "\n",
    "    # with ** we pass the items in the dictionary as parameters\n",
    "    # to the KNN algorithm\n",
    "    clf = KNN(**params_dict)\n",
    "    clf.fit(X_train)\n",
    "    \n",
    "#     y_train_scores = clf.decision_scores_\n",
    "#     y_test_scores = clf.decision_function(X_test)\n",
    "    \n",
    "\n",
    "    # train with cv\n",
    "    score = cross_val_score(clf, X_train, y_train,\n",
    "                            scoring=\"accuracy\", cv=5, n_jobs=4).mean()\n",
    "\n",
    "    # to minimize, we negate the score\n",
    "    return -score"
   ]
  },
  {
   "cell_type": "markdown",
   "id": "70705e0f",
   "metadata": {},
   "source": [
    "## Randomized Search\n",
    "\n",
    "[fmin](http://hyperopt.github.io/hyperopt/getting-started/minimizing_functions/)"
   ]
  },
  {
   "cell_type": "code",
   "execution_count": 54,
   "id": "b250d553",
   "metadata": {},
   "outputs": [
    {
     "name": "stdout",
     "output_type": "stream",
     "text": [
      "  4%|██████▏                                                                                                                                                   | 2/50 [00:00<00:03, 14.84trial/s, best loss=?]"
     ]
    },
    {
     "name": "stderr",
     "output_type": "stream",
     "text": [
      "/home/ryan.zurrin001/miniconda3/envs/O/lib/python3.9/site-packages/pyod/models/base.py:412: UserWarning: y should not be presented in unsupervised learning.\n",
      "  warnings.warn(\n",
      "/home/ryan.zurrin001/miniconda3/envs/O/lib/python3.9/site-packages/pyod/models/base.py:412: UserWarning: y should not be presented in unsupervised learning.\n",
      "  warnings.warn(\n",
      "/home/ryan.zurrin001/miniconda3/envs/O/lib/python3.9/site-packages/pyod/models/base.py:412: UserWarning: y should not be presented in unsupervised learning.\n",
      "  warnings.warn(\n",
      "/home/ryan.zurrin001/miniconda3/envs/O/lib/python3.9/site-packages/pyod/models/base.py:412: UserWarning: y should not be presented in unsupervised learning.\n",
      "  warnings.warn(\n",
      "/home/ryan.zurrin001/miniconda3/envs/O/lib/python3.9/site-packages/sklearn/metrics/_ranking.py:1695: UndefinedMetricWarning: 'k' (2) greater than or equal to 'n_classes' (2) will result in a perfect score and is therefore meaningless.\n",
      "  warnings.warn(\n",
      "/home/ryan.zurrin001/miniconda3/envs/O/lib/python3.9/site-packages/pyod/models/base.py:412: UserWarning: y should not be presented in unsupervised learning.\n",
      "  warnings.warn(\n",
      "/home/ryan.zurrin001/miniconda3/envs/O/lib/python3.9/site-packages/sklearn/metrics/_ranking.py:1695: UndefinedMetricWarning: 'k' (2) greater than or equal to 'n_classes' (2) will result in a perfect score and is therefore meaningless.\n",
      "  warnings.warn(\n",
      "/home/ryan.zurrin001/miniconda3/envs/O/lib/python3.9/site-packages/sklearn/metrics/_ranking.py:1695: UndefinedMetricWarning: 'k' (2) greater than or equal to 'n_classes' (2) will result in a perfect score and is therefore meaningless.\n",
      "  warnings.warn(\n",
      "/home/ryan.zurrin001/miniconda3/envs/O/lib/python3.9/site-packages/sklearn/metrics/_ranking.py:1695: UndefinedMetricWarning: 'k' (2) greater than or equal to 'n_classes' (2) will result in a perfect score and is therefore meaningless.\n",
      "  warnings.warn(\n",
      "/home/ryan.zurrin001/miniconda3/envs/O/lib/python3.9/site-packages/sklearn/model_selection/_validation.py:696: UserWarning: Scoring failed. The score on this train-test partition for these parameters will be set to nan. Details: \n",
      "Traceback (most recent call last):\n",
      "  File \"/home/ryan.zurrin001/miniconda3/envs/O/lib/python3.9/site-packages/sklearn/model_selection/_validation.py\", line 687, in _score\n",
      "    scores = scorer(estimator, X_test, y_test)\n",
      "  File \"/home/ryan.zurrin001/miniconda3/envs/O/lib/python3.9/site-packages/sklearn/metrics/_scorer.py\", line 87, in __call__\n",
      "    score = scorer._score(cached_call, estimator,\n",
      "  File \"/home/ryan.zurrin001/miniconda3/envs/O/lib/python3.9/site-packages/sklearn/metrics/_scorer.py\", line 362, in _score\n",
      "    return self._sign * self._score_func(y, y_pred, **self._kwargs)\n",
      "  File \"/home/ryan.zurrin001/miniconda3/envs/O/lib/python3.9/site-packages/sklearn/metrics/_ranking.py\", line 1667, in top_k_accuracy_score\n",
      "    raise ValueError(\n",
      "ValueError: Number of classes in 'y_true' (1) not equal to the number of classes in 'y_score' (2).\n",
      "\n",
      "  warnings.warn(\n",
      "/home/ryan.zurrin001/miniconda3/envs/O/lib/python3.9/site-packages/pyod/models/base.py:412: UserWarning: y should not be presented in unsupervised learning.\n",
      "  warnings.warn(\n",
      "/home/ryan.zurrin001/miniconda3/envs/O/lib/python3.9/site-packages/sklearn/metrics/_ranking.py:1695: UndefinedMetricWarning: 'k' (2) greater than or equal to 'n_classes' (2) will result in a perfect score and is therefore meaningless.\n",
      "  warnings.warn(\n",
      "/home/ryan.zurrin001/miniconda3/envs/O/lib/python3.9/site-packages/pyod/models/base.py:412: UserWarning: y should not be presented in unsupervised learning.\n",
      "  warnings.warn(\n",
      "/home/ryan.zurrin001/miniconda3/envs/O/lib/python3.9/site-packages/sklearn/metrics/_ranking.py:1695: UndefinedMetricWarning: 'k' (2) greater than or equal to 'n_classes' (2) will result in a perfect score and is therefore meaningless.\n",
      "  warnings.warn(\n",
      "/home/ryan.zurrin001/miniconda3/envs/O/lib/python3.9/site-packages/pyod/models/base.py:412: UserWarning: y should not be presented in unsupervised learning.\n",
      "  warnings.warn(\n",
      "/home/ryan.zurrin001/miniconda3/envs/O/lib/python3.9/site-packages/sklearn/model_selection/_validation.py:696: UserWarning: Scoring failed. The score on this train-test partition for these parameters will be set to nan. Details: \n",
      "Traceback (most recent call last):\n",
      "  File \"/home/ryan.zurrin001/miniconda3/envs/O/lib/python3.9/site-packages/sklearn/model_selection/_validation.py\", line 687, in _score\n",
      "    scores = scorer(estimator, X_test, y_test)\n",
      "  File \"/home/ryan.zurrin001/miniconda3/envs/O/lib/python3.9/site-packages/sklearn/metrics/_scorer.py\", line 87, in __call__\n",
      "    score = scorer._score(cached_call, estimator,\n",
      "  File \"/home/ryan.zurrin001/miniconda3/envs/O/lib/python3.9/site-packages/sklearn/metrics/_scorer.py\", line 362, in _score\n",
      "    return self._sign * self._score_func(y, y_pred, **self._kwargs)\n",
      "  File \"/home/ryan.zurrin001/miniconda3/envs/O/lib/python3.9/site-packages/sklearn/metrics/_ranking.py\", line 1667, in top_k_accuracy_score\n",
      "    raise ValueError(\n",
      "ValueError: Number of classes in 'y_true' (1) not equal to the number of classes in 'y_score' (2).\n",
      "\n",
      "  warnings.warn(\n",
      "/home/ryan.zurrin001/miniconda3/envs/O/lib/python3.9/site-packages/pyod/models/base.py:412: UserWarning: y should not be presented in unsupervised learning.\n",
      "  warnings.warn(\n",
      "/home/ryan.zurrin001/miniconda3/envs/O/lib/python3.9/site-packages/sklearn/metrics/_ranking.py:1695: UndefinedMetricWarning: 'k' (2) greater than or equal to 'n_classes' (2) will result in a perfect score and is therefore meaningless.\n",
      "  warnings.warn(\n",
      "/home/ryan.zurrin001/miniconda3/envs/O/lib/python3.9/site-packages/pyod/models/base.py:412: UserWarning: y should not be presented in unsupervised learning.\n",
      "  warnings.warn(\n",
      "/home/ryan.zurrin001/miniconda3/envs/O/lib/python3.9/site-packages/sklearn/metrics/_ranking.py:1695: UndefinedMetricWarning: 'k' (2) greater than or equal to 'n_classes' (2) will result in a perfect score and is therefore meaningless.\n",
      "  warnings.warn(\n",
      "/home/ryan.zurrin001/miniconda3/envs/O/lib/python3.9/site-packages/pyod/models/base.py:412: UserWarning: y should not be presented in unsupervised learning.\n",
      "  warnings.warn(\n",
      "/home/ryan.zurrin001/miniconda3/envs/O/lib/python3.9/site-packages/sklearn/metrics/_ranking.py:1695: UndefinedMetricWarning: 'k' (2) greater than or equal to 'n_classes' (2) will result in a perfect score and is therefore meaningless.\n",
      "  warnings.warn(\n",
      "/home/ryan.zurrin001/miniconda3/envs/O/lib/python3.9/site-packages/pyod/models/base.py:412: UserWarning: y should not be presented in unsupervised learning.\n",
      "  warnings.warn(\n",
      "/home/ryan.zurrin001/miniconda3/envs/O/lib/python3.9/site-packages/sklearn/metrics/_ranking.py:1695: UndefinedMetricWarning: 'k' (2) greater than or equal to 'n_classes' (2) will result in a perfect score and is therefore meaningless.\n",
      "  warnings.warn(\n",
      "/home/ryan.zurrin001/miniconda3/envs/O/lib/python3.9/site-packages/pyod/models/base.py:412: UserWarning: y should not be presented in unsupervised learning.\n",
      "  warnings.warn(\n",
      "/home/ryan.zurrin001/miniconda3/envs/O/lib/python3.9/site-packages/pyod/models/base.py:412: UserWarning: y should not be presented in unsupervised learning.\n",
      "  warnings.warn(\n",
      "/home/ryan.zurrin001/miniconda3/envs/O/lib/python3.9/site-packages/sklearn/metrics/_ranking.py:1695: UndefinedMetricWarning: 'k' (2) greater than or equal to 'n_classes' (2) will result in a perfect score and is therefore meaningless.\n",
      "  warnings.warn(\n",
      "/home/ryan.zurrin001/miniconda3/envs/O/lib/python3.9/site-packages/pyod/models/base.py:412: UserWarning: y should not be presented in unsupervised learning.\n",
      "  warnings.warn(\n",
      "/home/ryan.zurrin001/miniconda3/envs/O/lib/python3.9/site-packages/sklearn/model_selection/_validation.py:696: UserWarning: Scoring failed. The score on this train-test partition for these parameters will be set to nan. Details: \n",
      "Traceback (most recent call last):\n",
      "  File \"/home/ryan.zurrin001/miniconda3/envs/O/lib/python3.9/site-packages/sklearn/model_selection/_validation.py\", line 687, in _score\n",
      "    scores = scorer(estimator, X_test, y_test)\n",
      "  File \"/home/ryan.zurrin001/miniconda3/envs/O/lib/python3.9/site-packages/sklearn/metrics/_scorer.py\", line 87, in __call__\n",
      "    score = scorer._score(cached_call, estimator,\n",
      "  File \"/home/ryan.zurrin001/miniconda3/envs/O/lib/python3.9/site-packages/sklearn/metrics/_scorer.py\", line 362, in _score\n",
      "    return self._sign * self._score_func(y, y_pred, **self._kwargs)\n",
      "  File \"/home/ryan.zurrin001/miniconda3/envs/O/lib/python3.9/site-packages/sklearn/metrics/_ranking.py\", line 1667, in top_k_accuracy_score\n",
      "    raise ValueError(\n",
      "ValueError: Number of classes in 'y_true' (1) not equal to the number of classes in 'y_score' (2).\n",
      "\n",
      "  warnings.warn(\n",
      "/home/ryan.zurrin001/miniconda3/envs/O/lib/python3.9/site-packages/sklearn/metrics/_ranking.py:1695: UndefinedMetricWarning: 'k' (2) greater than or equal to 'n_classes' (2) will result in a perfect score and is therefore meaningless.\n",
      "  warnings.warn(\n",
      "/home/ryan.zurrin001/miniconda3/envs/O/lib/python3.9/site-packages/pyod/models/base.py:412: UserWarning: y should not be presented in unsupervised learning.\n",
      "  warnings.warn(\n"
     ]
    },
    {
     "name": "stdout",
     "output_type": "stream",
     "text": [
      "\r",
      "  8%|████████████▎                                                                                                                                             | 4/50 [00:00<00:03, 14.18trial/s, best loss=?]"
     ]
    },
    {
     "name": "stderr",
     "output_type": "stream",
     "text": [
      "/home/ryan.zurrin001/miniconda3/envs/O/lib/python3.9/site-packages/pyod/models/base.py:412: UserWarning: y should not be presented in unsupervised learning.\n",
      "  warnings.warn(\n",
      "/home/ryan.zurrin001/miniconda3/envs/O/lib/python3.9/site-packages/pyod/models/base.py:412: UserWarning: y should not be presented in unsupervised learning.\n",
      "  warnings.warn(\n",
      "/home/ryan.zurrin001/miniconda3/envs/O/lib/python3.9/site-packages/pyod/models/base.py:412: UserWarning: y should not be presented in unsupervised learning.\n",
      "  warnings.warn(\n",
      "/home/ryan.zurrin001/miniconda3/envs/O/lib/python3.9/site-packages/sklearn/metrics/_ranking.py:1695: UndefinedMetricWarning: 'k' (2) greater than or equal to 'n_classes' (2) will result in a perfect score and is therefore meaningless.\n",
      "  warnings.warn(\n",
      "/home/ryan.zurrin001/miniconda3/envs/O/lib/python3.9/site-packages/pyod/models/base.py:412: UserWarning: y should not be presented in unsupervised learning.\n",
      "  warnings.warn(\n",
      "/home/ryan.zurrin001/miniconda3/envs/O/lib/python3.9/site-packages/sklearn/model_selection/_validation.py:696: UserWarning: Scoring failed. The score on this train-test partition for these parameters will be set to nan. Details: \n",
      "Traceback (most recent call last):\n",
      "  File \"/home/ryan.zurrin001/miniconda3/envs/O/lib/python3.9/site-packages/sklearn/model_selection/_validation.py\", line 687, in _score\n",
      "    scores = scorer(estimator, X_test, y_test)\n",
      "  File \"/home/ryan.zurrin001/miniconda3/envs/O/lib/python3.9/site-packages/sklearn/metrics/_scorer.py\", line 87, in __call__\n",
      "    score = scorer._score(cached_call, estimator,\n",
      "  File \"/home/ryan.zurrin001/miniconda3/envs/O/lib/python3.9/site-packages/sklearn/metrics/_scorer.py\", line 362, in _score\n",
      "    return self._sign * self._score_func(y, y_pred, **self._kwargs)\n",
      "  File \"/home/ryan.zurrin001/miniconda3/envs/O/lib/python3.9/site-packages/sklearn/metrics/_ranking.py\", line 1667, in top_k_accuracy_score\n",
      "    raise ValueError(\n",
      "ValueError: Number of classes in 'y_true' (1) not equal to the number of classes in 'y_score' (2).\n",
      "\n",
      "  warnings.warn(\n",
      "/home/ryan.zurrin001/miniconda3/envs/O/lib/python3.9/site-packages/sklearn/metrics/_ranking.py:1695: UndefinedMetricWarning: 'k' (2) greater than or equal to 'n_classes' (2) will result in a perfect score and is therefore meaningless.\n",
      "  warnings.warn(\n",
      "/home/ryan.zurrin001/miniconda3/envs/O/lib/python3.9/site-packages/sklearn/metrics/_ranking.py:1695: UndefinedMetricWarning: 'k' (2) greater than or equal to 'n_classes' (2) will result in a perfect score and is therefore meaningless.\n",
      "  warnings.warn(\n",
      "/home/ryan.zurrin001/miniconda3/envs/O/lib/python3.9/site-packages/sklearn/metrics/_ranking.py:1695: UndefinedMetricWarning: 'k' (2) greater than or equal to 'n_classes' (2) will result in a perfect score and is therefore meaningless.\n",
      "  warnings.warn(\n",
      "/home/ryan.zurrin001/miniconda3/envs/O/lib/python3.9/site-packages/pyod/models/base.py:412: UserWarning: y should not be presented in unsupervised learning.\n",
      "  warnings.warn(\n",
      "/home/ryan.zurrin001/miniconda3/envs/O/lib/python3.9/site-packages/pyod/models/base.py:412: UserWarning: y should not be presented in unsupervised learning.\n",
      "  warnings.warn(\n",
      "/home/ryan.zurrin001/miniconda3/envs/O/lib/python3.9/site-packages/pyod/models/base.py:412: UserWarning: y should not be presented in unsupervised learning.\n",
      "  warnings.warn(\n",
      "/home/ryan.zurrin001/miniconda3/envs/O/lib/python3.9/site-packages/pyod/models/base.py:412: UserWarning: y should not be presented in unsupervised learning.\n",
      "  warnings.warn(\n",
      "/home/ryan.zurrin001/miniconda3/envs/O/lib/python3.9/site-packages/sklearn/metrics/_ranking.py:1695: UndefinedMetricWarning: 'k' (2) greater than or equal to 'n_classes' (2) will result in a perfect score and is therefore meaningless.\n",
      "  warnings.warn(\n",
      "/home/ryan.zurrin001/miniconda3/envs/O/lib/python3.9/site-packages/pyod/models/base.py:412: UserWarning: y should not be presented in unsupervised learning.\n",
      "  warnings.warn(\n",
      "/home/ryan.zurrin001/miniconda3/envs/O/lib/python3.9/site-packages/sklearn/metrics/_ranking.py:1695: UndefinedMetricWarning: 'k' (2) greater than or equal to 'n_classes' (2) will result in a perfect score and is therefore meaningless.\n",
      "  warnings.warn(\n",
      "/home/ryan.zurrin001/miniconda3/envs/O/lib/python3.9/site-packages/sklearn/model_selection/_validation.py:696: UserWarning: Scoring failed. The score on this train-test partition for these parameters will be set to nan. Details: \n",
      "Traceback (most recent call last):\n",
      "  File \"/home/ryan.zurrin001/miniconda3/envs/O/lib/python3.9/site-packages/sklearn/model_selection/_validation.py\", line 687, in _score\n",
      "    scores = scorer(estimator, X_test, y_test)\n",
      "  File \"/home/ryan.zurrin001/miniconda3/envs/O/lib/python3.9/site-packages/sklearn/metrics/_scorer.py\", line 87, in __call__\n",
      "    score = scorer._score(cached_call, estimator,\n",
      "  File \"/home/ryan.zurrin001/miniconda3/envs/O/lib/python3.9/site-packages/sklearn/metrics/_scorer.py\", line 362, in _score\n",
      "    return self._sign * self._score_func(y, y_pred, **self._kwargs)\n",
      "  File \"/home/ryan.zurrin001/miniconda3/envs/O/lib/python3.9/site-packages/sklearn/metrics/_ranking.py\", line 1667, in top_k_accuracy_score\n",
      "    raise ValueError(\n",
      "ValueError: Number of classes in 'y_true' (1) not equal to the number of classes in 'y_score' (2).\n",
      "\n",
      "  warnings.warn(\n",
      "/home/ryan.zurrin001/miniconda3/envs/O/lib/python3.9/site-packages/sklearn/metrics/_ranking.py:1695: UndefinedMetricWarning: 'k' (2) greater than or equal to 'n_classes' (2) will result in a perfect score and is therefore meaningless.\n",
      "  warnings.warn(\n",
      "/home/ryan.zurrin001/miniconda3/envs/O/lib/python3.9/site-packages/sklearn/metrics/_ranking.py:1695: UndefinedMetricWarning: 'k' (2) greater than or equal to 'n_classes' (2) will result in a perfect score and is therefore meaningless.\n",
      "  warnings.warn(\n",
      "/home/ryan.zurrin001/miniconda3/envs/O/lib/python3.9/site-packages/pyod/models/base.py:412: UserWarning: y should not be presented in unsupervised learning.\n",
      "  warnings.warn(\n",
      "/home/ryan.zurrin001/miniconda3/envs/O/lib/python3.9/site-packages/pyod/models/base.py:412: UserWarning: y should not be presented in unsupervised learning.\n",
      "  warnings.warn(\n",
      "/home/ryan.zurrin001/miniconda3/envs/O/lib/python3.9/site-packages/pyod/models/base.py:412: UserWarning: y should not be presented in unsupervised learning.\n",
      "  warnings.warn(\n",
      "/home/ryan.zurrin001/miniconda3/envs/O/lib/python3.9/site-packages/pyod/models/base.py:412: UserWarning: y should not be presented in unsupervised learning.\n",
      "  warnings.warn(\n",
      "/home/ryan.zurrin001/miniconda3/envs/O/lib/python3.9/site-packages/sklearn/model_selection/_validation.py:696: UserWarning: Scoring failed. The score on this train-test partition for these parameters will be set to nan. Details: \n",
      "Traceback (most recent call last):\n",
      "  File \"/home/ryan.zurrin001/miniconda3/envs/O/lib/python3.9/site-packages/sklearn/model_selection/_validation.py\", line 687, in _score\n",
      "    scores = scorer(estimator, X_test, y_test)\n",
      "  File \"/home/ryan.zurrin001/miniconda3/envs/O/lib/python3.9/site-packages/sklearn/metrics/_scorer.py\", line 87, in __call__\n",
      "    score = scorer._score(cached_call, estimator,\n",
      "  File \"/home/ryan.zurrin001/miniconda3/envs/O/lib/python3.9/site-packages/sklearn/metrics/_scorer.py\", line 362, in _score\n",
      "    return self._sign * self._score_func(y, y_pred, **self._kwargs)\n",
      "  File \"/home/ryan.zurrin001/miniconda3/envs/O/lib/python3.9/site-packages/sklearn/metrics/_ranking.py\", line 1667, in top_k_accuracy_score\n",
      "    raise ValueError(\n",
      "ValueError: Number of classes in 'y_true' (1) not equal to the number of classes in 'y_score' (2).\n",
      "\n",
      "  warnings.warn(\n",
      "/home/ryan.zurrin001/miniconda3/envs/O/lib/python3.9/site-packages/pyod/models/base.py:412: UserWarning: y should not be presented in unsupervised learning.\n",
      "  warnings.warn(\n",
      "/home/ryan.zurrin001/miniconda3/envs/O/lib/python3.9/site-packages/sklearn/metrics/_ranking.py:1695: UndefinedMetricWarning: 'k' (2) greater than or equal to 'n_classes' (2) will result in a perfect score and is therefore meaningless.\n",
      "  warnings.warn(\n",
      "/home/ryan.zurrin001/miniconda3/envs/O/lib/python3.9/site-packages/sklearn/metrics/_ranking.py:1695: UndefinedMetricWarning: 'k' (2) greater than or equal to 'n_classes' (2) will result in a perfect score and is therefore meaningless.\n",
      "  warnings.warn(\n"
     ]
    },
    {
     "name": "stdout",
     "output_type": "stream",
     "text": [
      " 16%|████████████████████████▋                                                                                                                                 | 8/50 [00:00<00:03, 12.40trial/s, best loss=?]"
     ]
    },
    {
     "name": "stderr",
     "output_type": "stream",
     "text": [
      "/home/ryan.zurrin001/miniconda3/envs/O/lib/python3.9/site-packages/sklearn/metrics/_ranking.py:1695: UndefinedMetricWarning: 'k' (2) greater than or equal to 'n_classes' (2) will result in a perfect score and is therefore meaningless.\n",
      "  warnings.warn(\n",
      "/home/ryan.zurrin001/miniconda3/envs/O/lib/python3.9/site-packages/sklearn/metrics/_ranking.py:1695: UndefinedMetricWarning: 'k' (2) greater than or equal to 'n_classes' (2) will result in a perfect score and is therefore meaningless.\n",
      "  warnings.warn(\n",
      "/home/ryan.zurrin001/miniconda3/envs/O/lib/python3.9/site-packages/pyod/models/base.py:412: UserWarning: y should not be presented in unsupervised learning.\n",
      "  warnings.warn(\n",
      "/home/ryan.zurrin001/miniconda3/envs/O/lib/python3.9/site-packages/pyod/models/base.py:412: UserWarning: y should not be presented in unsupervised learning.\n",
      "  warnings.warn(\n",
      "/home/ryan.zurrin001/miniconda3/envs/O/lib/python3.9/site-packages/pyod/models/base.py:412: UserWarning: y should not be presented in unsupervised learning.\n",
      "  warnings.warn(\n",
      "/home/ryan.zurrin001/miniconda3/envs/O/lib/python3.9/site-packages/pyod/models/base.py:412: UserWarning: y should not be presented in unsupervised learning.\n",
      "  warnings.warn(\n",
      "/home/ryan.zurrin001/miniconda3/envs/O/lib/python3.9/site-packages/sklearn/metrics/_ranking.py:1695: UndefinedMetricWarning: 'k' (2) greater than or equal to 'n_classes' (2) will result in a perfect score and is therefore meaningless.\n",
      "  warnings.warn(\n",
      "/home/ryan.zurrin001/miniconda3/envs/O/lib/python3.9/site-packages/pyod/models/base.py:412: UserWarning: y should not be presented in unsupervised learning.\n",
      "  warnings.warn(\n",
      "/home/ryan.zurrin001/miniconda3/envs/O/lib/python3.9/site-packages/sklearn/model_selection/_validation.py:696: UserWarning: Scoring failed. The score on this train-test partition for these parameters will be set to nan. Details: \n",
      "Traceback (most recent call last):\n",
      "  File \"/home/ryan.zurrin001/miniconda3/envs/O/lib/python3.9/site-packages/sklearn/model_selection/_validation.py\", line 687, in _score\n",
      "    scores = scorer(estimator, X_test, y_test)\n",
      "  File \"/home/ryan.zurrin001/miniconda3/envs/O/lib/python3.9/site-packages/sklearn/metrics/_scorer.py\", line 87, in __call__\n",
      "    score = scorer._score(cached_call, estimator,\n",
      "  File \"/home/ryan.zurrin001/miniconda3/envs/O/lib/python3.9/site-packages/sklearn/metrics/_scorer.py\", line 362, in _score\n",
      "    return self._sign * self._score_func(y, y_pred, **self._kwargs)\n",
      "  File \"/home/ryan.zurrin001/miniconda3/envs/O/lib/python3.9/site-packages/sklearn/metrics/_ranking.py\", line 1667, in top_k_accuracy_score\n",
      "    raise ValueError(\n",
      "ValueError: Number of classes in 'y_true' (1) not equal to the number of classes in 'y_score' (2).\n",
      "\n",
      "  warnings.warn(\n",
      "/home/ryan.zurrin001/miniconda3/envs/O/lib/python3.9/site-packages/sklearn/metrics/_ranking.py:1695: UndefinedMetricWarning: 'k' (2) greater than or equal to 'n_classes' (2) will result in a perfect score and is therefore meaningless.\n",
      "  warnings.warn(\n",
      "/home/ryan.zurrin001/miniconda3/envs/O/lib/python3.9/site-packages/sklearn/metrics/_ranking.py:1695: UndefinedMetricWarning: 'k' (2) greater than or equal to 'n_classes' (2) will result in a perfect score and is therefore meaningless.\n",
      "  warnings.warn(\n",
      "/home/ryan.zurrin001/miniconda3/envs/O/lib/python3.9/site-packages/sklearn/metrics/_ranking.py:1695: UndefinedMetricWarning: 'k' (2) greater than or equal to 'n_classes' (2) will result in a perfect score and is therefore meaningless.\n",
      "  warnings.warn(\n",
      "/home/ryan.zurrin001/miniconda3/envs/O/lib/python3.9/site-packages/pyod/models/base.py:412: UserWarning: y should not be presented in unsupervised learning.\n",
      "  warnings.warn(\n",
      "/home/ryan.zurrin001/miniconda3/envs/O/lib/python3.9/site-packages/pyod/models/base.py:412: UserWarning: y should not be presented in unsupervised learning.\n",
      "  warnings.warn(\n",
      "/home/ryan.zurrin001/miniconda3/envs/O/lib/python3.9/site-packages/pyod/models/base.py:412: UserWarning: y should not be presented in unsupervised learning.\n",
      "  warnings.warn(\n",
      "/home/ryan.zurrin001/miniconda3/envs/O/lib/python3.9/site-packages/pyod/models/base.py:412: UserWarning: y should not be presented in unsupervised learning.\n",
      "  warnings.warn(\n",
      "/home/ryan.zurrin001/miniconda3/envs/O/lib/python3.9/site-packages/sklearn/metrics/_ranking.py:1695: UndefinedMetricWarning: 'k' (2) greater than or equal to 'n_classes' (2) will result in a perfect score and is therefore meaningless.\n",
      "  warnings.warn(\n",
      "/home/ryan.zurrin001/miniconda3/envs/O/lib/python3.9/site-packages/pyod/models/base.py:412: UserWarning: y should not be presented in unsupervised learning.\n",
      "  warnings.warn(\n",
      "/home/ryan.zurrin001/miniconda3/envs/O/lib/python3.9/site-packages/sklearn/metrics/_ranking.py:1695: UndefinedMetricWarning: 'k' (2) greater than or equal to 'n_classes' (2) will result in a perfect score and is therefore meaningless.\n",
      "  warnings.warn(\n",
      "/home/ryan.zurrin001/miniconda3/envs/O/lib/python3.9/site-packages/sklearn/model_selection/_validation.py:696: UserWarning: Scoring failed. The score on this train-test partition for these parameters will be set to nan. Details: \n",
      "Traceback (most recent call last):\n",
      "  File \"/home/ryan.zurrin001/miniconda3/envs/O/lib/python3.9/site-packages/sklearn/model_selection/_validation.py\", line 687, in _score\n",
      "    scores = scorer(estimator, X_test, y_test)\n",
      "  File \"/home/ryan.zurrin001/miniconda3/envs/O/lib/python3.9/site-packages/sklearn/metrics/_scorer.py\", line 87, in __call__\n",
      "    score = scorer._score(cached_call, estimator,\n",
      "  File \"/home/ryan.zurrin001/miniconda3/envs/O/lib/python3.9/site-packages/sklearn/metrics/_scorer.py\", line 362, in _score\n",
      "    return self._sign * self._score_func(y, y_pred, **self._kwargs)\n",
      "  File \"/home/ryan.zurrin001/miniconda3/envs/O/lib/python3.9/site-packages/sklearn/metrics/_ranking.py\", line 1667, in top_k_accuracy_score\n",
      "    raise ValueError(\n",
      "ValueError: Number of classes in 'y_true' (1) not equal to the number of classes in 'y_score' (2).\n",
      "\n",
      "  warnings.warn(\n",
      "/home/ryan.zurrin001/miniconda3/envs/O/lib/python3.9/site-packages/sklearn/metrics/_ranking.py:1695: UndefinedMetricWarning: 'k' (2) greater than or equal to 'n_classes' (2) will result in a perfect score and is therefore meaningless.\n",
      "  warnings.warn(\n",
      "/home/ryan.zurrin001/miniconda3/envs/O/lib/python3.9/site-packages/sklearn/metrics/_ranking.py:1695: UndefinedMetricWarning: 'k' (2) greater than or equal to 'n_classes' (2) will result in a perfect score and is therefore meaningless.\n",
      "  warnings.warn(\n",
      "/home/ryan.zurrin001/miniconda3/envs/O/lib/python3.9/site-packages/pyod/models/base.py:412: UserWarning: y should not be presented in unsupervised learning.\n",
      "  warnings.warn(\n",
      "/home/ryan.zurrin001/miniconda3/envs/O/lib/python3.9/site-packages/pyod/models/base.py:412: UserWarning: y should not be presented in unsupervised learning.\n",
      "  warnings.warn(\n"
     ]
    },
    {
     "name": "stdout",
     "output_type": "stream",
     "text": [
      "\r",
      " 20%|██████████████████████████████▌                                                                                                                          | 10/50 [00:00<00:03, 11.83trial/s, best loss=?]"
     ]
    },
    {
     "name": "stderr",
     "output_type": "stream",
     "text": [
      "/home/ryan.zurrin001/miniconda3/envs/O/lib/python3.9/site-packages/pyod/models/base.py:412: UserWarning: y should not be presented in unsupervised learning.\n",
      "  warnings.warn(\n",
      "/home/ryan.zurrin001/miniconda3/envs/O/lib/python3.9/site-packages/pyod/models/base.py:412: UserWarning: y should not be presented in unsupervised learning.\n",
      "  warnings.warn(\n",
      "/home/ryan.zurrin001/miniconda3/envs/O/lib/python3.9/site-packages/sklearn/metrics/_ranking.py:1695: UndefinedMetricWarning: 'k' (2) greater than or equal to 'n_classes' (2) will result in a perfect score and is therefore meaningless.\n",
      "  warnings.warn(\n",
      "/home/ryan.zurrin001/miniconda3/envs/O/lib/python3.9/site-packages/pyod/models/base.py:412: UserWarning: y should not be presented in unsupervised learning.\n",
      "  warnings.warn(\n",
      "/home/ryan.zurrin001/miniconda3/envs/O/lib/python3.9/site-packages/sklearn/metrics/_ranking.py:1695: UndefinedMetricWarning: 'k' (2) greater than or equal to 'n_classes' (2) will result in a perfect score and is therefore meaningless.\n",
      "  warnings.warn(\n",
      "/home/ryan.zurrin001/miniconda3/envs/O/lib/python3.9/site-packages/sklearn/model_selection/_validation.py:696: UserWarning: Scoring failed. The score on this train-test partition for these parameters will be set to nan. Details: \n",
      "Traceback (most recent call last):\n",
      "  File \"/home/ryan.zurrin001/miniconda3/envs/O/lib/python3.9/site-packages/sklearn/model_selection/_validation.py\", line 687, in _score\n",
      "    scores = scorer(estimator, X_test, y_test)\n",
      "  File \"/home/ryan.zurrin001/miniconda3/envs/O/lib/python3.9/site-packages/sklearn/metrics/_scorer.py\", line 87, in __call__\n",
      "    score = scorer._score(cached_call, estimator,\n",
      "  File \"/home/ryan.zurrin001/miniconda3/envs/O/lib/python3.9/site-packages/sklearn/metrics/_scorer.py\", line 362, in _score\n",
      "    return self._sign * self._score_func(y, y_pred, **self._kwargs)\n",
      "  File \"/home/ryan.zurrin001/miniconda3/envs/O/lib/python3.9/site-packages/sklearn/metrics/_ranking.py\", line 1667, in top_k_accuracy_score\n",
      "    raise ValueError(\n",
      "ValueError: Number of classes in 'y_true' (1) not equal to the number of classes in 'y_score' (2).\n",
      "\n",
      "  warnings.warn(\n",
      "/home/ryan.zurrin001/miniconda3/envs/O/lib/python3.9/site-packages/sklearn/metrics/_ranking.py:1695: UndefinedMetricWarning: 'k' (2) greater than or equal to 'n_classes' (2) will result in a perfect score and is therefore meaningless.\n",
      "  warnings.warn(\n",
      "/home/ryan.zurrin001/miniconda3/envs/O/lib/python3.9/site-packages/sklearn/metrics/_ranking.py:1695: UndefinedMetricWarning: 'k' (2) greater than or equal to 'n_classes' (2) will result in a perfect score and is therefore meaningless.\n",
      "  warnings.warn(\n",
      "/home/ryan.zurrin001/miniconda3/envs/O/lib/python3.9/site-packages/pyod/models/base.py:412: UserWarning: y should not be presented in unsupervised learning.\n",
      "  warnings.warn(\n",
      "/home/ryan.zurrin001/miniconda3/envs/O/lib/python3.9/site-packages/pyod/models/base.py:412: UserWarning: y should not be presented in unsupervised learning.\n",
      "  warnings.warn(\n",
      "/home/ryan.zurrin001/miniconda3/envs/O/lib/python3.9/site-packages/pyod/models/base.py:412: UserWarning: y should not be presented in unsupervised learning.\n",
      "  warnings.warn(\n",
      "/home/ryan.zurrin001/miniconda3/envs/O/lib/python3.9/site-packages/pyod/models/base.py:412: UserWarning: y should not be presented in unsupervised learning.\n",
      "  warnings.warn(\n",
      "/home/ryan.zurrin001/miniconda3/envs/O/lib/python3.9/site-packages/sklearn/metrics/_ranking.py:1695: UndefinedMetricWarning: 'k' (2) greater than or equal to 'n_classes' (2) will result in a perfect score and is therefore meaningless.\n",
      "  warnings.warn(\n",
      "/home/ryan.zurrin001/miniconda3/envs/O/lib/python3.9/site-packages/pyod/models/base.py:412: UserWarning: y should not be presented in unsupervised learning.\n",
      "  warnings.warn(\n",
      "/home/ryan.zurrin001/miniconda3/envs/O/lib/python3.9/site-packages/sklearn/metrics/_ranking.py:1695: UndefinedMetricWarning: 'k' (2) greater than or equal to 'n_classes' (2) will result in a perfect score and is therefore meaningless.\n",
      "  warnings.warn(\n",
      "/home/ryan.zurrin001/miniconda3/envs/O/lib/python3.9/site-packages/sklearn/model_selection/_validation.py:696: UserWarning: Scoring failed. The score on this train-test partition for these parameters will be set to nan. Details: \n",
      "Traceback (most recent call last):\n",
      "  File \"/home/ryan.zurrin001/miniconda3/envs/O/lib/python3.9/site-packages/sklearn/model_selection/_validation.py\", line 687, in _score\n",
      "    scores = scorer(estimator, X_test, y_test)\n",
      "  File \"/home/ryan.zurrin001/miniconda3/envs/O/lib/python3.9/site-packages/sklearn/metrics/_scorer.py\", line 87, in __call__\n",
      "    score = scorer._score(cached_call, estimator,\n",
      "  File \"/home/ryan.zurrin001/miniconda3/envs/O/lib/python3.9/site-packages/sklearn/metrics/_scorer.py\", line 362, in _score\n",
      "    return self._sign * self._score_func(y, y_pred, **self._kwargs)\n",
      "  File \"/home/ryan.zurrin001/miniconda3/envs/O/lib/python3.9/site-packages/sklearn/metrics/_ranking.py\", line 1667, in top_k_accuracy_score\n",
      "    raise ValueError(\n",
      "ValueError: Number of classes in 'y_true' (1) not equal to the number of classes in 'y_score' (2).\n",
      "\n",
      "  warnings.warn(\n",
      "/home/ryan.zurrin001/miniconda3/envs/O/lib/python3.9/site-packages/sklearn/metrics/_ranking.py:1695: UndefinedMetricWarning: 'k' (2) greater than or equal to 'n_classes' (2) will result in a perfect score and is therefore meaningless.\n",
      "  warnings.warn(\n",
      "/home/ryan.zurrin001/miniconda3/envs/O/lib/python3.9/site-packages/sklearn/metrics/_ranking.py:1695: UndefinedMetricWarning: 'k' (2) greater than or equal to 'n_classes' (2) will result in a perfect score and is therefore meaningless.\n",
      "  warnings.warn(\n",
      "/home/ryan.zurrin001/miniconda3/envs/O/lib/python3.9/site-packages/pyod/models/base.py:412: UserWarning: y should not be presented in unsupervised learning.\n",
      "  warnings.warn(\n",
      "/home/ryan.zurrin001/miniconda3/envs/O/lib/python3.9/site-packages/pyod/models/base.py:412: UserWarning: y should not be presented in unsupervised learning.\n",
      "  warnings.warn(\n",
      "/home/ryan.zurrin001/miniconda3/envs/O/lib/python3.9/site-packages/pyod/models/base.py:412: UserWarning: y should not be presented in unsupervised learning.\n",
      "  warnings.warn(\n",
      "/home/ryan.zurrin001/miniconda3/envs/O/lib/python3.9/site-packages/pyod/models/base.py:412: UserWarning: y should not be presented in unsupervised learning.\n",
      "  warnings.warn(\n",
      "/home/ryan.zurrin001/miniconda3/envs/O/lib/python3.9/site-packages/sklearn/metrics/_ranking.py:1695: UndefinedMetricWarning: 'k' (2) greater than or equal to 'n_classes' (2) will result in a perfect score and is therefore meaningless.\n",
      "  warnings.warn(\n",
      "/home/ryan.zurrin001/miniconda3/envs/O/lib/python3.9/site-packages/pyod/models/base.py:412: UserWarning: y should not be presented in unsupervised learning.\n",
      "  warnings.warn(\n"
     ]
    },
    {
     "name": "stdout",
     "output_type": "stream",
     "text": [
      "\r",
      " 24%|████████████████████████████████████▋                                                                                                                    | 12/50 [00:00<00:02, 12.70trial/s, best loss=?]"
     ]
    },
    {
     "name": "stderr",
     "output_type": "stream",
     "text": [
      "/home/ryan.zurrin001/miniconda3/envs/O/lib/python3.9/site-packages/sklearn/model_selection/_validation.py:696: UserWarning: Scoring failed. The score on this train-test partition for these parameters will be set to nan. Details: \n",
      "Traceback (most recent call last):\n",
      "  File \"/home/ryan.zurrin001/miniconda3/envs/O/lib/python3.9/site-packages/sklearn/model_selection/_validation.py\", line 687, in _score\n",
      "    scores = scorer(estimator, X_test, y_test)\n",
      "  File \"/home/ryan.zurrin001/miniconda3/envs/O/lib/python3.9/site-packages/sklearn/metrics/_scorer.py\", line 87, in __call__\n",
      "    score = scorer._score(cached_call, estimator,\n",
      "  File \"/home/ryan.zurrin001/miniconda3/envs/O/lib/python3.9/site-packages/sklearn/metrics/_scorer.py\", line 362, in _score\n",
      "    return self._sign * self._score_func(y, y_pred, **self._kwargs)\n",
      "  File \"/home/ryan.zurrin001/miniconda3/envs/O/lib/python3.9/site-packages/sklearn/metrics/_ranking.py\", line 1667, in top_k_accuracy_score\n",
      "    raise ValueError(\n",
      "ValueError: Number of classes in 'y_true' (1) not equal to the number of classes in 'y_score' (2).\n",
      "\n",
      "  warnings.warn(\n",
      "/home/ryan.zurrin001/miniconda3/envs/O/lib/python3.9/site-packages/sklearn/metrics/_ranking.py:1695: UndefinedMetricWarning: 'k' (2) greater than or equal to 'n_classes' (2) will result in a perfect score and is therefore meaningless.\n",
      "  warnings.warn(\n",
      "/home/ryan.zurrin001/miniconda3/envs/O/lib/python3.9/site-packages/sklearn/metrics/_ranking.py:1695: UndefinedMetricWarning: 'k' (2) greater than or equal to 'n_classes' (2) will result in a perfect score and is therefore meaningless.\n",
      "  warnings.warn(\n",
      "/home/ryan.zurrin001/miniconda3/envs/O/lib/python3.9/site-packages/sklearn/metrics/_ranking.py:1695: UndefinedMetricWarning: 'k' (2) greater than or equal to 'n_classes' (2) will result in a perfect score and is therefore meaningless.\n",
      "  warnings.warn(\n",
      "/home/ryan.zurrin001/miniconda3/envs/O/lib/python3.9/site-packages/pyod/models/base.py:412: UserWarning: y should not be presented in unsupervised learning.\n",
      "  warnings.warn(\n",
      "/home/ryan.zurrin001/miniconda3/envs/O/lib/python3.9/site-packages/pyod/models/base.py:412: UserWarning: y should not be presented in unsupervised learning.\n",
      "  warnings.warn(\n",
      "/home/ryan.zurrin001/miniconda3/envs/O/lib/python3.9/site-packages/pyod/models/base.py:412: UserWarning: y should not be presented in unsupervised learning.\n",
      "  warnings.warn(\n",
      "/home/ryan.zurrin001/miniconda3/envs/O/lib/python3.9/site-packages/pyod/models/base.py:412: UserWarning: y should not be presented in unsupervised learning.\n",
      "  warnings.warn(\n",
      "/home/ryan.zurrin001/miniconda3/envs/O/lib/python3.9/site-packages/sklearn/metrics/_ranking.py:1695: UndefinedMetricWarning: 'k' (2) greater than or equal to 'n_classes' (2) will result in a perfect score and is therefore meaningless.\n",
      "  warnings.warn(\n",
      "/home/ryan.zurrin001/miniconda3/envs/O/lib/python3.9/site-packages/pyod/models/base.py:412: UserWarning: y should not be presented in unsupervised learning.\n",
      "  warnings.warn(\n",
      "/home/ryan.zurrin001/miniconda3/envs/O/lib/python3.9/site-packages/sklearn/model_selection/_validation.py:696: UserWarning: Scoring failed. The score on this train-test partition for these parameters will be set to nan. Details: \n",
      "Traceback (most recent call last):\n",
      "  File \"/home/ryan.zurrin001/miniconda3/envs/O/lib/python3.9/site-packages/sklearn/model_selection/_validation.py\", line 687, in _score\n",
      "    scores = scorer(estimator, X_test, y_test)\n",
      "  File \"/home/ryan.zurrin001/miniconda3/envs/O/lib/python3.9/site-packages/sklearn/metrics/_scorer.py\", line 87, in __call__\n",
      "    score = scorer._score(cached_call, estimator,\n",
      "  File \"/home/ryan.zurrin001/miniconda3/envs/O/lib/python3.9/site-packages/sklearn/metrics/_scorer.py\", line 362, in _score\n",
      "    return self._sign * self._score_func(y, y_pred, **self._kwargs)\n",
      "  File \"/home/ryan.zurrin001/miniconda3/envs/O/lib/python3.9/site-packages/sklearn/metrics/_ranking.py\", line 1667, in top_k_accuracy_score\n",
      "    raise ValueError(\n",
      "ValueError: Number of classes in 'y_true' (1) not equal to the number of classes in 'y_score' (2).\n",
      "\n",
      "  warnings.warn(\n",
      "/home/ryan.zurrin001/miniconda3/envs/O/lib/python3.9/site-packages/sklearn/metrics/_ranking.py:1695: UndefinedMetricWarning: 'k' (2) greater than or equal to 'n_classes' (2) will result in a perfect score and is therefore meaningless.\n",
      "  warnings.warn(\n",
      "/home/ryan.zurrin001/miniconda3/envs/O/lib/python3.9/site-packages/sklearn/metrics/_ranking.py:1695: UndefinedMetricWarning: 'k' (2) greater than or equal to 'n_classes' (2) will result in a perfect score and is therefore meaningless.\n",
      "  warnings.warn(\n",
      "/home/ryan.zurrin001/miniconda3/envs/O/lib/python3.9/site-packages/sklearn/metrics/_ranking.py:1695: UndefinedMetricWarning: 'k' (2) greater than or equal to 'n_classes' (2) will result in a perfect score and is therefore meaningless.\n",
      "  warnings.warn(\n",
      "/home/ryan.zurrin001/miniconda3/envs/O/lib/python3.9/site-packages/pyod/models/base.py:412: UserWarning: y should not be presented in unsupervised learning.\n",
      "  warnings.warn(\n",
      "/home/ryan.zurrin001/miniconda3/envs/O/lib/python3.9/site-packages/pyod/models/base.py:412: UserWarning: y should not be presented in unsupervised learning.\n",
      "  warnings.warn(\n",
      "/home/ryan.zurrin001/miniconda3/envs/O/lib/python3.9/site-packages/pyod/models/base.py:412: UserWarning: y should not be presented in unsupervised learning.\n",
      "  warnings.warn(\n",
      "/home/ryan.zurrin001/miniconda3/envs/O/lib/python3.9/site-packages/pyod/models/base.py:412: UserWarning: y should not be presented in unsupervised learning.\n",
      "  warnings.warn(\n",
      "/home/ryan.zurrin001/miniconda3/envs/O/lib/python3.9/site-packages/sklearn/metrics/_ranking.py:1695: UndefinedMetricWarning: 'k' (2) greater than or equal to 'n_classes' (2) will result in a perfect score and is therefore meaningless.\n",
      "  warnings.warn(\n",
      "/home/ryan.zurrin001/miniconda3/envs/O/lib/python3.9/site-packages/pyod/models/base.py:412: UserWarning: y should not be presented in unsupervised learning.\n",
      "  warnings.warn(\n",
      "/home/ryan.zurrin001/miniconda3/envs/O/lib/python3.9/site-packages/sklearn/model_selection/_validation.py:696: UserWarning: Scoring failed. The score on this train-test partition for these parameters will be set to nan. Details: \n",
      "Traceback (most recent call last):\n",
      "  File \"/home/ryan.zurrin001/miniconda3/envs/O/lib/python3.9/site-packages/sklearn/model_selection/_validation.py\", line 687, in _score\n",
      "    scores = scorer(estimator, X_test, y_test)\n",
      "  File \"/home/ryan.zurrin001/miniconda3/envs/O/lib/python3.9/site-packages/sklearn/metrics/_scorer.py\", line 87, in __call__\n",
      "    score = scorer._score(cached_call, estimator,\n",
      "  File \"/home/ryan.zurrin001/miniconda3/envs/O/lib/python3.9/site-packages/sklearn/metrics/_scorer.py\", line 362, in _score\n",
      "    return self._sign * self._score_func(y, y_pred, **self._kwargs)\n",
      "  File \"/home/ryan.zurrin001/miniconda3/envs/O/lib/python3.9/site-packages/sklearn/metrics/_ranking.py\", line 1667, in top_k_accuracy_score\n",
      "    raise ValueError(\n",
      "ValueError: Number of classes in 'y_true' (1) not equal to the number of classes in 'y_score' (2).\n",
      "\n",
      "  warnings.warn(\n",
      "/home/ryan.zurrin001/miniconda3/envs/O/lib/python3.9/site-packages/sklearn/metrics/_ranking.py:1695: UndefinedMetricWarning: 'k' (2) greater than or equal to 'n_classes' (2) will result in a perfect score and is therefore meaningless.\n",
      "  warnings.warn(\n",
      "/home/ryan.zurrin001/miniconda3/envs/O/lib/python3.9/site-packages/sklearn/metrics/_ranking.py:1695: UndefinedMetricWarning: 'k' (2) greater than or equal to 'n_classes' (2) will result in a perfect score and is therefore meaningless.\n",
      "  warnings.warn(\n",
      "/home/ryan.zurrin001/miniconda3/envs/O/lib/python3.9/site-packages/sklearn/metrics/_ranking.py:1695: UndefinedMetricWarning: 'k' (2) greater than or equal to 'n_classes' (2) will result in a perfect score and is therefore meaningless.\n",
      "  warnings.warn(\n",
      "/home/ryan.zurrin001/miniconda3/envs/O/lib/python3.9/site-packages/pyod/models/base.py:412: UserWarning: y should not be presented in unsupervised learning.\n",
      "  warnings.warn(\n",
      "/home/ryan.zurrin001/miniconda3/envs/O/lib/python3.9/site-packages/pyod/models/base.py:412: UserWarning: y should not be presented in unsupervised learning.\n",
      "  warnings.warn(\n",
      "/home/ryan.zurrin001/miniconda3/envs/O/lib/python3.9/site-packages/pyod/models/base.py:412: UserWarning: y should not be presented in unsupervised learning.\n",
      "  warnings.warn(\n",
      "/home/ryan.zurrin001/miniconda3/envs/O/lib/python3.9/site-packages/pyod/models/base.py:412: UserWarning: y should not be presented in unsupervised learning.\n",
      "  warnings.warn(\n",
      "/home/ryan.zurrin001/miniconda3/envs/O/lib/python3.9/site-packages/sklearn/metrics/_ranking.py:1695: UndefinedMetricWarning: 'k' (2) greater than or equal to 'n_classes' (2) will result in a perfect score and is therefore meaningless.\n",
      "  warnings.warn(\n",
      "/home/ryan.zurrin001/miniconda3/envs/O/lib/python3.9/site-packages/pyod/models/base.py:412: UserWarning: y should not be presented in unsupervised learning.\n",
      "  warnings.warn(\n",
      "/home/ryan.zurrin001/miniconda3/envs/O/lib/python3.9/site-packages/sklearn/model_selection/_validation.py:696: UserWarning: Scoring failed. The score on this train-test partition for these parameters will be set to nan. Details: \n",
      "Traceback (most recent call last):\n",
      "  File \"/home/ryan.zurrin001/miniconda3/envs/O/lib/python3.9/site-packages/sklearn/model_selection/_validation.py\", line 687, in _score\n",
      "    scores = scorer(estimator, X_test, y_test)\n",
      "  File \"/home/ryan.zurrin001/miniconda3/envs/O/lib/python3.9/site-packages/sklearn/metrics/_scorer.py\", line 87, in __call__\n",
      "    score = scorer._score(cached_call, estimator,\n",
      "  File \"/home/ryan.zurrin001/miniconda3/envs/O/lib/python3.9/site-packages/sklearn/metrics/_scorer.py\", line 362, in _score\n",
      "    return self._sign * self._score_func(y, y_pred, **self._kwargs)\n",
      "  File \"/home/ryan.zurrin001/miniconda3/envs/O/lib/python3.9/site-packages/sklearn/metrics/_ranking.py\", line 1667, in top_k_accuracy_score\n",
      "    raise ValueError(\n",
      "ValueError: Number of classes in 'y_true' (1) not equal to the number of classes in 'y_score' (2).\n",
      "\n",
      "  warnings.warn(\n"
     ]
    },
    {
     "name": "stdout",
     "output_type": "stream",
     "text": [
      "\r",
      " 28%|██████████████████████████████████████████▊                                                                                                              | 14/50 [00:01<00:02, 13.16trial/s, best loss=?]"
     ]
    },
    {
     "name": "stderr",
     "output_type": "stream",
     "text": [
      "/home/ryan.zurrin001/miniconda3/envs/O/lib/python3.9/site-packages/sklearn/metrics/_ranking.py:1695: UndefinedMetricWarning: 'k' (2) greater than or equal to 'n_classes' (2) will result in a perfect score and is therefore meaningless.\n",
      "  warnings.warn(\n",
      "/home/ryan.zurrin001/miniconda3/envs/O/lib/python3.9/site-packages/sklearn/metrics/_ranking.py:1695: UndefinedMetricWarning: 'k' (2) greater than or equal to 'n_classes' (2) will result in a perfect score and is therefore meaningless.\n",
      "  warnings.warn(\n",
      "/home/ryan.zurrin001/miniconda3/envs/O/lib/python3.9/site-packages/sklearn/metrics/_ranking.py:1695: UndefinedMetricWarning: 'k' (2) greater than or equal to 'n_classes' (2) will result in a perfect score and is therefore meaningless.\n",
      "  warnings.warn(\n",
      "/home/ryan.zurrin001/miniconda3/envs/O/lib/python3.9/site-packages/pyod/models/base.py:412: UserWarning: y should not be presented in unsupervised learning.\n",
      "  warnings.warn(\n",
      "/home/ryan.zurrin001/miniconda3/envs/O/lib/python3.9/site-packages/pyod/models/base.py:412: UserWarning: y should not be presented in unsupervised learning.\n",
      "  warnings.warn(\n",
      "/home/ryan.zurrin001/miniconda3/envs/O/lib/python3.9/site-packages/pyod/models/base.py:412: UserWarning: y should not be presented in unsupervised learning.\n",
      "  warnings.warn(\n",
      "/home/ryan.zurrin001/miniconda3/envs/O/lib/python3.9/site-packages/pyod/models/base.py:412: UserWarning: y should not be presented in unsupervised learning.\n",
      "  warnings.warn(\n",
      "/home/ryan.zurrin001/miniconda3/envs/O/lib/python3.9/site-packages/sklearn/metrics/_ranking.py:1695: UndefinedMetricWarning: 'k' (2) greater than or equal to 'n_classes' (2) will result in a perfect score and is therefore meaningless.\n",
      "  warnings.warn(\n",
      "/home/ryan.zurrin001/miniconda3/envs/O/lib/python3.9/site-packages/pyod/models/base.py:412: UserWarning: y should not be presented in unsupervised learning.\n",
      "  warnings.warn(\n",
      "/home/ryan.zurrin001/miniconda3/envs/O/lib/python3.9/site-packages/sklearn/model_selection/_validation.py:696: UserWarning: Scoring failed. The score on this train-test partition for these parameters will be set to nan. Details: \n",
      "Traceback (most recent call last):\n",
      "  File \"/home/ryan.zurrin001/miniconda3/envs/O/lib/python3.9/site-packages/sklearn/model_selection/_validation.py\", line 687, in _score\n",
      "    scores = scorer(estimator, X_test, y_test)\n",
      "  File \"/home/ryan.zurrin001/miniconda3/envs/O/lib/python3.9/site-packages/sklearn/metrics/_scorer.py\", line 87, in __call__\n",
      "    score = scorer._score(cached_call, estimator,\n",
      "  File \"/home/ryan.zurrin001/miniconda3/envs/O/lib/python3.9/site-packages/sklearn/metrics/_scorer.py\", line 362, in _score\n",
      "    return self._sign * self._score_func(y, y_pred, **self._kwargs)\n",
      "  File \"/home/ryan.zurrin001/miniconda3/envs/O/lib/python3.9/site-packages/sklearn/metrics/_ranking.py\", line 1667, in top_k_accuracy_score\n",
      "    raise ValueError(\n",
      "ValueError: Number of classes in 'y_true' (1) not equal to the number of classes in 'y_score' (2).\n",
      "\n",
      "  warnings.warn(\n",
      "/home/ryan.zurrin001/miniconda3/envs/O/lib/python3.9/site-packages/sklearn/metrics/_ranking.py:1695: UndefinedMetricWarning: 'k' (2) greater than or equal to 'n_classes' (2) will result in a perfect score and is therefore meaningless.\n",
      "  warnings.warn(\n",
      "/home/ryan.zurrin001/miniconda3/envs/O/lib/python3.9/site-packages/sklearn/metrics/_ranking.py:1695: UndefinedMetricWarning: 'k' (2) greater than or equal to 'n_classes' (2) will result in a perfect score and is therefore meaningless.\n",
      "  warnings.warn(\n",
      "/home/ryan.zurrin001/miniconda3/envs/O/lib/python3.9/site-packages/sklearn/metrics/_ranking.py:1695: UndefinedMetricWarning: 'k' (2) greater than or equal to 'n_classes' (2) will result in a perfect score and is therefore meaningless.\n",
      "  warnings.warn(\n",
      "/home/ryan.zurrin001/miniconda3/envs/O/lib/python3.9/site-packages/pyod/models/base.py:412: UserWarning: y should not be presented in unsupervised learning.\n",
      "  warnings.warn(\n",
      "/home/ryan.zurrin001/miniconda3/envs/O/lib/python3.9/site-packages/pyod/models/base.py:412: UserWarning: y should not be presented in unsupervised learning.\n",
      "  warnings.warn(\n",
      "/home/ryan.zurrin001/miniconda3/envs/O/lib/python3.9/site-packages/pyod/models/base.py:412: UserWarning: y should not be presented in unsupervised learning.\n",
      "  warnings.warn(\n",
      "/home/ryan.zurrin001/miniconda3/envs/O/lib/python3.9/site-packages/pyod/models/base.py:412: UserWarning: y should not be presented in unsupervised learning.\n",
      "  warnings.warn(\n",
      "/home/ryan.zurrin001/miniconda3/envs/O/lib/python3.9/site-packages/sklearn/metrics/_ranking.py:1695: UndefinedMetricWarning: 'k' (2) greater than or equal to 'n_classes' (2) will result in a perfect score and is therefore meaningless.\n",
      "  warnings.warn(\n",
      "/home/ryan.zurrin001/miniconda3/envs/O/lib/python3.9/site-packages/pyod/models/base.py:412: UserWarning: y should not be presented in unsupervised learning.\n",
      "  warnings.warn(\n"
     ]
    },
    {
     "name": "stdout",
     "output_type": "stream",
     "text": [
      "\r",
      " 32%|████████████████████████████████████████████████▉                                                                                                        | 16/50 [00:01<00:03, 10.90trial/s, best loss=?]"
     ]
    },
    {
     "name": "stderr",
     "output_type": "stream",
     "text": [
      "/home/ryan.zurrin001/miniconda3/envs/O/lib/python3.9/site-packages/sklearn/metrics/_ranking.py:1695: UndefinedMetricWarning: 'k' (2) greater than or equal to 'n_classes' (2) will result in a perfect score and is therefore meaningless.\n",
      "  warnings.warn(\n",
      "/home/ryan.zurrin001/miniconda3/envs/O/lib/python3.9/site-packages/sklearn/metrics/_ranking.py:1695: UndefinedMetricWarning: 'k' (2) greater than or equal to 'n_classes' (2) will result in a perfect score and is therefore meaningless.\n",
      "  warnings.warn(\n",
      "/home/ryan.zurrin001/miniconda3/envs/O/lib/python3.9/site-packages/sklearn/model_selection/_validation.py:696: UserWarning: Scoring failed. The score on this train-test partition for these parameters will be set to nan. Details: \n",
      "Traceback (most recent call last):\n",
      "  File \"/home/ryan.zurrin001/miniconda3/envs/O/lib/python3.9/site-packages/sklearn/model_selection/_validation.py\", line 687, in _score\n",
      "    scores = scorer(estimator, X_test, y_test)\n",
      "  File \"/home/ryan.zurrin001/miniconda3/envs/O/lib/python3.9/site-packages/sklearn/metrics/_scorer.py\", line 87, in __call__\n",
      "    score = scorer._score(cached_call, estimator,\n",
      "  File \"/home/ryan.zurrin001/miniconda3/envs/O/lib/python3.9/site-packages/sklearn/metrics/_scorer.py\", line 362, in _score\n",
      "    return self._sign * self._score_func(y, y_pred, **self._kwargs)\n",
      "  File \"/home/ryan.zurrin001/miniconda3/envs/O/lib/python3.9/site-packages/sklearn/metrics/_ranking.py\", line 1667, in top_k_accuracy_score\n",
      "    raise ValueError(\n",
      "ValueError: Number of classes in 'y_true' (1) not equal to the number of classes in 'y_score' (2).\n",
      "\n",
      "  warnings.warn(\n",
      "/home/ryan.zurrin001/miniconda3/envs/O/lib/python3.9/site-packages/sklearn/metrics/_ranking.py:1695: UndefinedMetricWarning: 'k' (2) greater than or equal to 'n_classes' (2) will result in a perfect score and is therefore meaningless.\n",
      "  warnings.warn(\n",
      "/home/ryan.zurrin001/miniconda3/envs/O/lib/python3.9/site-packages/pyod/models/base.py:412: UserWarning: y should not be presented in unsupervised learning.\n",
      "  warnings.warn(\n",
      "/home/ryan.zurrin001/miniconda3/envs/O/lib/python3.9/site-packages/pyod/models/base.py:412: UserWarning: y should not be presented in unsupervised learning.\n",
      "  warnings.warn(\n",
      "/home/ryan.zurrin001/miniconda3/envs/O/lib/python3.9/site-packages/pyod/models/base.py:412: UserWarning: y should not be presented in unsupervised learning.\n",
      "  warnings.warn(\n",
      "/home/ryan.zurrin001/miniconda3/envs/O/lib/python3.9/site-packages/pyod/models/base.py:412: UserWarning: y should not be presented in unsupervised learning.\n",
      "  warnings.warn(\n",
      "/home/ryan.zurrin001/miniconda3/envs/O/lib/python3.9/site-packages/sklearn/model_selection/_validation.py:696: UserWarning: Scoring failed. The score on this train-test partition for these parameters will be set to nan. Details: \n",
      "Traceback (most recent call last):\n",
      "  File \"/home/ryan.zurrin001/miniconda3/envs/O/lib/python3.9/site-packages/sklearn/model_selection/_validation.py\", line 687, in _score\n",
      "    scores = scorer(estimator, X_test, y_test)\n",
      "  File \"/home/ryan.zurrin001/miniconda3/envs/O/lib/python3.9/site-packages/sklearn/metrics/_scorer.py\", line 87, in __call__\n",
      "    score = scorer._score(cached_call, estimator,\n",
      "  File \"/home/ryan.zurrin001/miniconda3/envs/O/lib/python3.9/site-packages/sklearn/metrics/_scorer.py\", line 362, in _score\n",
      "    return self._sign * self._score_func(y, y_pred, **self._kwargs)\n",
      "  File \"/home/ryan.zurrin001/miniconda3/envs/O/lib/python3.9/site-packages/sklearn/metrics/_ranking.py\", line 1667, in top_k_accuracy_score\n",
      "    raise ValueError(\n",
      "ValueError: Number of classes in 'y_true' (1) not equal to the number of classes in 'y_score' (2).\n",
      "\n",
      "  warnings.warn(\n",
      "/home/ryan.zurrin001/miniconda3/envs/O/lib/python3.9/site-packages/pyod/models/base.py:412: UserWarning: y should not be presented in unsupervised learning.\n",
      "  warnings.warn(\n",
      "/home/ryan.zurrin001/miniconda3/envs/O/lib/python3.9/site-packages/sklearn/metrics/_ranking.py:1695: UndefinedMetricWarning: 'k' (2) greater than or equal to 'n_classes' (2) will result in a perfect score and is therefore meaningless.\n",
      "  warnings.warn(\n",
      "/home/ryan.zurrin001/miniconda3/envs/O/lib/python3.9/site-packages/sklearn/metrics/_ranking.py:1695: UndefinedMetricWarning: 'k' (2) greater than or equal to 'n_classes' (2) will result in a perfect score and is therefore meaningless.\n",
      "  warnings.warn(\n"
     ]
    },
    {
     "name": "stdout",
     "output_type": "stream",
     "text": [
      "\r",
      " 36%|███████████████████████████████████████████████████████                                                                                                  | 18/50 [00:01<00:03,  9.28trial/s, best loss=?]"
     ]
    },
    {
     "name": "stderr",
     "output_type": "stream",
     "text": [
      "/home/ryan.zurrin001/miniconda3/envs/O/lib/python3.9/site-packages/sklearn/metrics/_ranking.py:1695: UndefinedMetricWarning: 'k' (2) greater than or equal to 'n_classes' (2) will result in a perfect score and is therefore meaningless.\n",
      "  warnings.warn(\n",
      "/home/ryan.zurrin001/miniconda3/envs/O/lib/python3.9/site-packages/sklearn/metrics/_ranking.py:1695: UndefinedMetricWarning: 'k' (2) greater than or equal to 'n_classes' (2) will result in a perfect score and is therefore meaningless.\n",
      "  warnings.warn(\n",
      "/home/ryan.zurrin001/miniconda3/envs/O/lib/python3.9/site-packages/pyod/models/base.py:412: UserWarning: y should not be presented in unsupervised learning.\n",
      "  warnings.warn(\n",
      "/home/ryan.zurrin001/miniconda3/envs/O/lib/python3.9/site-packages/pyod/models/base.py:412: UserWarning: y should not be presented in unsupervised learning.\n",
      "  warnings.warn(\n",
      "/home/ryan.zurrin001/miniconda3/envs/O/lib/python3.9/site-packages/pyod/models/base.py:412: UserWarning: y should not be presented in unsupervised learning.\n",
      "  warnings.warn(\n",
      "/home/ryan.zurrin001/miniconda3/envs/O/lib/python3.9/site-packages/pyod/models/base.py:412: UserWarning: y should not be presented in unsupervised learning.\n",
      "  warnings.warn(\n",
      "/home/ryan.zurrin001/miniconda3/envs/O/lib/python3.9/site-packages/sklearn/metrics/_ranking.py:1695: UndefinedMetricWarning: 'k' (2) greater than or equal to 'n_classes' (2) will result in a perfect score and is therefore meaningless.\n",
      "  warnings.warn(\n",
      "/home/ryan.zurrin001/miniconda3/envs/O/lib/python3.9/site-packages/pyod/models/base.py:412: UserWarning: y should not be presented in unsupervised learning.\n",
      "  warnings.warn(\n",
      "/home/ryan.zurrin001/miniconda3/envs/O/lib/python3.9/site-packages/sklearn/model_selection/_validation.py:696: UserWarning: Scoring failed. The score on this train-test partition for these parameters will be set to nan. Details: \n",
      "Traceback (most recent call last):\n",
      "  File \"/home/ryan.zurrin001/miniconda3/envs/O/lib/python3.9/site-packages/sklearn/model_selection/_validation.py\", line 687, in _score\n",
      "    scores = scorer(estimator, X_test, y_test)\n",
      "  File \"/home/ryan.zurrin001/miniconda3/envs/O/lib/python3.9/site-packages/sklearn/metrics/_scorer.py\", line 87, in __call__\n",
      "    score = scorer._score(cached_call, estimator,\n",
      "  File \"/home/ryan.zurrin001/miniconda3/envs/O/lib/python3.9/site-packages/sklearn/metrics/_scorer.py\", line 362, in _score\n",
      "    return self._sign * self._score_func(y, y_pred, **self._kwargs)\n",
      "  File \"/home/ryan.zurrin001/miniconda3/envs/O/lib/python3.9/site-packages/sklearn/metrics/_ranking.py\", line 1667, in top_k_accuracy_score\n",
      "    raise ValueError(\n",
      "ValueError: Number of classes in 'y_true' (1) not equal to the number of classes in 'y_score' (2).\n",
      "\n",
      "  warnings.warn(\n",
      "/home/ryan.zurrin001/miniconda3/envs/O/lib/python3.9/site-packages/sklearn/metrics/_ranking.py:1695: UndefinedMetricWarning: 'k' (2) greater than or equal to 'n_classes' (2) will result in a perfect score and is therefore meaningless.\n",
      "  warnings.warn(\n",
      "/home/ryan.zurrin001/miniconda3/envs/O/lib/python3.9/site-packages/sklearn/metrics/_ranking.py:1695: UndefinedMetricWarning: 'k' (2) greater than or equal to 'n_classes' (2) will result in a perfect score and is therefore meaningless.\n",
      "  warnings.warn(\n",
      "/home/ryan.zurrin001/miniconda3/envs/O/lib/python3.9/site-packages/sklearn/metrics/_ranking.py:1695: UndefinedMetricWarning: 'k' (2) greater than or equal to 'n_classes' (2) will result in a perfect score and is therefore meaningless.\n",
      "  warnings.warn(\n",
      "/home/ryan.zurrin001/miniconda3/envs/O/lib/python3.9/site-packages/pyod/models/base.py:412: UserWarning: y should not be presented in unsupervised learning.\n",
      "  warnings.warn(\n",
      "/home/ryan.zurrin001/miniconda3/envs/O/lib/python3.9/site-packages/pyod/models/base.py:412: UserWarning: y should not be presented in unsupervised learning.\n",
      "  warnings.warn(\n",
      "/home/ryan.zurrin001/miniconda3/envs/O/lib/python3.9/site-packages/pyod/models/base.py:412: UserWarning: y should not be presented in unsupervised learning.\n",
      "  warnings.warn(\n",
      "/home/ryan.zurrin001/miniconda3/envs/O/lib/python3.9/site-packages/pyod/models/base.py:412: UserWarning: y should not be presented in unsupervised learning.\n",
      "  warnings.warn(\n",
      "/home/ryan.zurrin001/miniconda3/envs/O/lib/python3.9/site-packages/sklearn/metrics/_ranking.py:1695: UndefinedMetricWarning: 'k' (2) greater than or equal to 'n_classes' (2) will result in a perfect score and is therefore meaningless.\n",
      "  warnings.warn(\n",
      "/home/ryan.zurrin001/miniconda3/envs/O/lib/python3.9/site-packages/pyod/models/base.py:412: UserWarning: y should not be presented in unsupervised learning.\n",
      "  warnings.warn(\n",
      "/home/ryan.zurrin001/miniconda3/envs/O/lib/python3.9/site-packages/sklearn/model_selection/_validation.py:696: UserWarning: Scoring failed. The score on this train-test partition for these parameters will be set to nan. Details: \n",
      "Traceback (most recent call last):\n",
      "  File \"/home/ryan.zurrin001/miniconda3/envs/O/lib/python3.9/site-packages/sklearn/model_selection/_validation.py\", line 687, in _score\n",
      "    scores = scorer(estimator, X_test, y_test)\n",
      "  File \"/home/ryan.zurrin001/miniconda3/envs/O/lib/python3.9/site-packages/sklearn/metrics/_scorer.py\", line 87, in __call__\n",
      "    score = scorer._score(cached_call, estimator,\n",
      "  File \"/home/ryan.zurrin001/miniconda3/envs/O/lib/python3.9/site-packages/sklearn/metrics/_scorer.py\", line 362, in _score\n",
      "    return self._sign * self._score_func(y, y_pred, **self._kwargs)\n",
      "  File \"/home/ryan.zurrin001/miniconda3/envs/O/lib/python3.9/site-packages/sklearn/metrics/_ranking.py\", line 1667, in top_k_accuracy_score\n",
      "    raise ValueError(\n",
      "ValueError: Number of classes in 'y_true' (1) not equal to the number of classes in 'y_score' (2).\n",
      "\n",
      "  warnings.warn(\n",
      "/home/ryan.zurrin001/miniconda3/envs/O/lib/python3.9/site-packages/sklearn/metrics/_ranking.py:1695: UndefinedMetricWarning: 'k' (2) greater than or equal to 'n_classes' (2) will result in a perfect score and is therefore meaningless.\n",
      "  warnings.warn(\n",
      "/home/ryan.zurrin001/miniconda3/envs/O/lib/python3.9/site-packages/sklearn/metrics/_ranking.py:1695: UndefinedMetricWarning: 'k' (2) greater than or equal to 'n_classes' (2) will result in a perfect score and is therefore meaningless.\n",
      "  warnings.warn(\n",
      "/home/ryan.zurrin001/miniconda3/envs/O/lib/python3.9/site-packages/sklearn/metrics/_ranking.py:1695: UndefinedMetricWarning: 'k' (2) greater than or equal to 'n_classes' (2) will result in a perfect score and is therefore meaningless.\n",
      "  warnings.warn(\n",
      "/home/ryan.zurrin001/miniconda3/envs/O/lib/python3.9/site-packages/pyod/models/base.py:412: UserWarning: y should not be presented in unsupervised learning.\n",
      "  warnings.warn(\n",
      "/home/ryan.zurrin001/miniconda3/envs/O/lib/python3.9/site-packages/pyod/models/base.py:412: UserWarning: y should not be presented in unsupervised learning.\n",
      "  warnings.warn(\n",
      "/home/ryan.zurrin001/miniconda3/envs/O/lib/python3.9/site-packages/pyod/models/base.py:412: UserWarning: y should not be presented in unsupervised learning.\n",
      "  warnings.warn(\n",
      "/home/ryan.zurrin001/miniconda3/envs/O/lib/python3.9/site-packages/pyod/models/base.py:412: UserWarning: y should not be presented in unsupervised learning.\n",
      "  warnings.warn(\n",
      "/home/ryan.zurrin001/miniconda3/envs/O/lib/python3.9/site-packages/sklearn/metrics/_ranking.py:1695: UndefinedMetricWarning: 'k' (2) greater than or equal to 'n_classes' (2) will result in a perfect score and is therefore meaningless.\n",
      "  warnings.warn(\n",
      "/home/ryan.zurrin001/miniconda3/envs/O/lib/python3.9/site-packages/pyod/models/base.py:412: UserWarning: y should not be presented in unsupervised learning.\n",
      "  warnings.warn(\n",
      "/home/ryan.zurrin001/miniconda3/envs/O/lib/python3.9/site-packages/sklearn/model_selection/_validation.py:696: UserWarning: Scoring failed. The score on this train-test partition for these parameters will be set to nan. Details: \n",
      "Traceback (most recent call last):\n",
      "  File \"/home/ryan.zurrin001/miniconda3/envs/O/lib/python3.9/site-packages/sklearn/model_selection/_validation.py\", line 687, in _score\n",
      "    scores = scorer(estimator, X_test, y_test)\n",
      "  File \"/home/ryan.zurrin001/miniconda3/envs/O/lib/python3.9/site-packages/sklearn/metrics/_scorer.py\", line 87, in __call__\n",
      "    score = scorer._score(cached_call, estimator,\n",
      "  File \"/home/ryan.zurrin001/miniconda3/envs/O/lib/python3.9/site-packages/sklearn/metrics/_scorer.py\", line 362, in _score\n",
      "    return self._sign * self._score_func(y, y_pred, **self._kwargs)\n",
      "  File \"/home/ryan.zurrin001/miniconda3/envs/O/lib/python3.9/site-packages/sklearn/metrics/_ranking.py\", line 1667, in top_k_accuracy_score\n",
      "    raise ValueError(\n",
      "ValueError: Number of classes in 'y_true' (1) not equal to the number of classes in 'y_score' (2).\n",
      "\n",
      "  warnings.warn(\n",
      "/home/ryan.zurrin001/miniconda3/envs/O/lib/python3.9/site-packages/sklearn/metrics/_ranking.py:1695: UndefinedMetricWarning: 'k' (2) greater than or equal to 'n_classes' (2) will result in a perfect score and is therefore meaningless.\n",
      "  warnings.warn(\n",
      "/home/ryan.zurrin001/miniconda3/envs/O/lib/python3.9/site-packages/sklearn/metrics/_ranking.py:1695: UndefinedMetricWarning: 'k' (2) greater than or equal to 'n_classes' (2) will result in a perfect score and is therefore meaningless.\n",
      "  warnings.warn(\n"
     ]
    },
    {
     "name": "stdout",
     "output_type": "stream",
     "text": [
      " 42%|████████████████████████████████████████████████████████████████▎                                                                                        | 21/50 [00:02<00:04,  7.23trial/s, best loss=?]"
     ]
    },
    {
     "name": "stderr",
     "output_type": "stream",
     "text": [
      "/home/ryan.zurrin001/miniconda3/envs/O/lib/python3.9/site-packages/sklearn/metrics/_ranking.py:1695: UndefinedMetricWarning: 'k' (2) greater than or equal to 'n_classes' (2) will result in a perfect score and is therefore meaningless.\n",
      "  warnings.warn(\n",
      "/home/ryan.zurrin001/miniconda3/envs/O/lib/python3.9/site-packages/pyod/models/base.py:412: UserWarning: y should not be presented in unsupervised learning.\n",
      "  warnings.warn(\n",
      "/home/ryan.zurrin001/miniconda3/envs/O/lib/python3.9/site-packages/pyod/models/base.py:412: UserWarning: y should not be presented in unsupervised learning.\n",
      "  warnings.warn(\n",
      "/home/ryan.zurrin001/miniconda3/envs/O/lib/python3.9/site-packages/pyod/models/base.py:412: UserWarning: y should not be presented in unsupervised learning.\n",
      "  warnings.warn(\n",
      "/home/ryan.zurrin001/miniconda3/envs/O/lib/python3.9/site-packages/pyod/models/base.py:412: UserWarning: y should not be presented in unsupervised learning.\n",
      "  warnings.warn(\n",
      "/home/ryan.zurrin001/miniconda3/envs/O/lib/python3.9/site-packages/sklearn/metrics/_ranking.py:1695: UndefinedMetricWarning: 'k' (2) greater than or equal to 'n_classes' (2) will result in a perfect score and is therefore meaningless.\n",
      "  warnings.warn(\n",
      "/home/ryan.zurrin001/miniconda3/envs/O/lib/python3.9/site-packages/pyod/models/base.py:412: UserWarning: y should not be presented in unsupervised learning.\n",
      "  warnings.warn(\n",
      "/home/ryan.zurrin001/miniconda3/envs/O/lib/python3.9/site-packages/sklearn/metrics/_ranking.py:1695: UndefinedMetricWarning: 'k' (2) greater than or equal to 'n_classes' (2) will result in a perfect score and is therefore meaningless.\n",
      "  warnings.warn(\n",
      "/home/ryan.zurrin001/miniconda3/envs/O/lib/python3.9/site-packages/sklearn/model_selection/_validation.py:696: UserWarning: Scoring failed. The score on this train-test partition for these parameters will be set to nan. Details: \n",
      "Traceback (most recent call last):\n",
      "  File \"/home/ryan.zurrin001/miniconda3/envs/O/lib/python3.9/site-packages/sklearn/model_selection/_validation.py\", line 687, in _score\n",
      "    scores = scorer(estimator, X_test, y_test)\n",
      "  File \"/home/ryan.zurrin001/miniconda3/envs/O/lib/python3.9/site-packages/sklearn/metrics/_scorer.py\", line 87, in __call__\n",
      "    score = scorer._score(cached_call, estimator,\n",
      "  File \"/home/ryan.zurrin001/miniconda3/envs/O/lib/python3.9/site-packages/sklearn/metrics/_scorer.py\", line 362, in _score\n",
      "    return self._sign * self._score_func(y, y_pred, **self._kwargs)\n",
      "  File \"/home/ryan.zurrin001/miniconda3/envs/O/lib/python3.9/site-packages/sklearn/metrics/_ranking.py\", line 1667, in top_k_accuracy_score\n",
      "    raise ValueError(\n",
      "ValueError: Number of classes in 'y_true' (1) not equal to the number of classes in 'y_score' (2).\n",
      "\n",
      "  warnings.warn(\n",
      "/home/ryan.zurrin001/miniconda3/envs/O/lib/python3.9/site-packages/sklearn/metrics/_ranking.py:1695: UndefinedMetricWarning: 'k' (2) greater than or equal to 'n_classes' (2) will result in a perfect score and is therefore meaningless.\n",
      "  warnings.warn(\n",
      "/home/ryan.zurrin001/miniconda3/envs/O/lib/python3.9/site-packages/sklearn/metrics/_ranking.py:1695: UndefinedMetricWarning: 'k' (2) greater than or equal to 'n_classes' (2) will result in a perfect score and is therefore meaningless.\n",
      "  warnings.warn(\n",
      "/home/ryan.zurrin001/miniconda3/envs/O/lib/python3.9/site-packages/pyod/models/base.py:412: UserWarning: y should not be presented in unsupervised learning.\n",
      "  warnings.warn(\n",
      "/home/ryan.zurrin001/miniconda3/envs/O/lib/python3.9/site-packages/pyod/models/base.py:412: UserWarning: y should not be presented in unsupervised learning.\n",
      "  warnings.warn(\n",
      "/home/ryan.zurrin001/miniconda3/envs/O/lib/python3.9/site-packages/pyod/models/base.py:412: UserWarning: y should not be presented in unsupervised learning.\n",
      "  warnings.warn(\n",
      "/home/ryan.zurrin001/miniconda3/envs/O/lib/python3.9/site-packages/pyod/models/base.py:412: UserWarning: y should not be presented in unsupervised learning.\n",
      "  warnings.warn(\n",
      "/home/ryan.zurrin001/miniconda3/envs/O/lib/python3.9/site-packages/sklearn/metrics/_ranking.py:1695: UndefinedMetricWarning: 'k' (2) greater than or equal to 'n_classes' (2) will result in a perfect score and is therefore meaningless.\n",
      "  warnings.warn(\n",
      "/home/ryan.zurrin001/miniconda3/envs/O/lib/python3.9/site-packages/pyod/models/base.py:412: UserWarning: y should not be presented in unsupervised learning.\n",
      "  warnings.warn(\n",
      "/home/ryan.zurrin001/miniconda3/envs/O/lib/python3.9/site-packages/sklearn/model_selection/_validation.py:696: UserWarning: Scoring failed. The score on this train-test partition for these parameters will be set to nan. Details: \n",
      "Traceback (most recent call last):\n",
      "  File \"/home/ryan.zurrin001/miniconda3/envs/O/lib/python3.9/site-packages/sklearn/model_selection/_validation.py\", line 687, in _score\n",
      "    scores = scorer(estimator, X_test, y_test)\n",
      "  File \"/home/ryan.zurrin001/miniconda3/envs/O/lib/python3.9/site-packages/sklearn/metrics/_scorer.py\", line 87, in __call__\n",
      "    score = scorer._score(cached_call, estimator,\n",
      "  File \"/home/ryan.zurrin001/miniconda3/envs/O/lib/python3.9/site-packages/sklearn/metrics/_scorer.py\", line 362, in _score\n",
      "    return self._sign * self._score_func(y, y_pred, **self._kwargs)\n",
      "  File \"/home/ryan.zurrin001/miniconda3/envs/O/lib/python3.9/site-packages/sklearn/metrics/_ranking.py\", line 1667, in top_k_accuracy_score\n",
      "    raise ValueError(\n",
      "ValueError: Number of classes in 'y_true' (1) not equal to the number of classes in 'y_score' (2).\n",
      "\n",
      "  warnings.warn(\n",
      "/home/ryan.zurrin001/miniconda3/envs/O/lib/python3.9/site-packages/sklearn/metrics/_ranking.py:1695: UndefinedMetricWarning: 'k' (2) greater than or equal to 'n_classes' (2) will result in a perfect score and is therefore meaningless.\n",
      "  warnings.warn(\n",
      "/home/ryan.zurrin001/miniconda3/envs/O/lib/python3.9/site-packages/sklearn/metrics/_ranking.py:1695: UndefinedMetricWarning: 'k' (2) greater than or equal to 'n_classes' (2) will result in a perfect score and is therefore meaningless.\n",
      "  warnings.warn(\n"
     ]
    },
    {
     "name": "stdout",
     "output_type": "stream",
     "text": [
      "\r",
      " 46%|██████████████████████████████████████████████████████████████████████▍                                                                                  | 23/50 [00:02<00:03,  7.41trial/s, best loss=?]"
     ]
    },
    {
     "name": "stderr",
     "output_type": "stream",
     "text": [
      "/home/ryan.zurrin001/miniconda3/envs/O/lib/python3.9/site-packages/sklearn/metrics/_ranking.py:1695: UndefinedMetricWarning: 'k' (2) greater than or equal to 'n_classes' (2) will result in a perfect score and is therefore meaningless.\n",
      "  warnings.warn(\n",
      "/home/ryan.zurrin001/miniconda3/envs/O/lib/python3.9/site-packages/pyod/models/base.py:412: UserWarning: y should not be presented in unsupervised learning.\n",
      "  warnings.warn(\n",
      "/home/ryan.zurrin001/miniconda3/envs/O/lib/python3.9/site-packages/pyod/models/base.py:412: UserWarning: y should not be presented in unsupervised learning.\n",
      "  warnings.warn(\n",
      "/home/ryan.zurrin001/miniconda3/envs/O/lib/python3.9/site-packages/pyod/models/base.py:412: UserWarning: y should not be presented in unsupervised learning.\n",
      "  warnings.warn(\n",
      "/home/ryan.zurrin001/miniconda3/envs/O/lib/python3.9/site-packages/pyod/models/base.py:412: UserWarning: y should not be presented in unsupervised learning.\n",
      "  warnings.warn(\n",
      "/home/ryan.zurrin001/miniconda3/envs/O/lib/python3.9/site-packages/sklearn/metrics/_ranking.py:1695: UndefinedMetricWarning: 'k' (2) greater than or equal to 'n_classes' (2) will result in a perfect score and is therefore meaningless.\n",
      "  warnings.warn(\n",
      "/home/ryan.zurrin001/miniconda3/envs/O/lib/python3.9/site-packages/pyod/models/base.py:412: UserWarning: y should not be presented in unsupervised learning.\n",
      "  warnings.warn(\n",
      "/home/ryan.zurrin001/miniconda3/envs/O/lib/python3.9/site-packages/sklearn/model_selection/_validation.py:696: UserWarning: Scoring failed. The score on this train-test partition for these parameters will be set to nan. Details: \n",
      "Traceback (most recent call last):\n",
      "  File \"/home/ryan.zurrin001/miniconda3/envs/O/lib/python3.9/site-packages/sklearn/model_selection/_validation.py\", line 687, in _score\n",
      "    scores = scorer(estimator, X_test, y_test)\n",
      "  File \"/home/ryan.zurrin001/miniconda3/envs/O/lib/python3.9/site-packages/sklearn/metrics/_scorer.py\", line 87, in __call__\n",
      "    score = scorer._score(cached_call, estimator,\n",
      "  File \"/home/ryan.zurrin001/miniconda3/envs/O/lib/python3.9/site-packages/sklearn/metrics/_scorer.py\", line 362, in _score\n",
      "    return self._sign * self._score_func(y, y_pred, **self._kwargs)\n",
      "  File \"/home/ryan.zurrin001/miniconda3/envs/O/lib/python3.9/site-packages/sklearn/metrics/_ranking.py\", line 1667, in top_k_accuracy_score\n",
      "    raise ValueError(\n",
      "ValueError: Number of classes in 'y_true' (1) not equal to the number of classes in 'y_score' (2).\n",
      "\n",
      "  warnings.warn(\n",
      "/home/ryan.zurrin001/miniconda3/envs/O/lib/python3.9/site-packages/sklearn/metrics/_ranking.py:1695: UndefinedMetricWarning: 'k' (2) greater than or equal to 'n_classes' (2) will result in a perfect score and is therefore meaningless.\n",
      "  warnings.warn(\n",
      "/home/ryan.zurrin001/miniconda3/envs/O/lib/python3.9/site-packages/sklearn/metrics/_ranking.py:1695: UndefinedMetricWarning: 'k' (2) greater than or equal to 'n_classes' (2) will result in a perfect score and is therefore meaningless.\n",
      "  warnings.warn(\n",
      "/home/ryan.zurrin001/miniconda3/envs/O/lib/python3.9/site-packages/sklearn/metrics/_ranking.py:1695: UndefinedMetricWarning: 'k' (2) greater than or equal to 'n_classes' (2) will result in a perfect score and is therefore meaningless.\n",
      "  warnings.warn(\n"
     ]
    },
    {
     "name": "stdout",
     "output_type": "stream",
     "text": [
      "\r",
      " 48%|█████████████████████████████████████████████████████████████████████████▍                                                                               | 24/50 [00:02<00:03,  6.54trial/s, best loss=?]"
     ]
    },
    {
     "name": "stderr",
     "output_type": "stream",
     "text": [
      "/home/ryan.zurrin001/miniconda3/envs/O/lib/python3.9/site-packages/pyod/models/base.py:412: UserWarning: y should not be presented in unsupervised learning.\n",
      "  warnings.warn(\n",
      "/home/ryan.zurrin001/miniconda3/envs/O/lib/python3.9/site-packages/pyod/models/base.py:412: UserWarning: y should not be presented in unsupervised learning.\n",
      "  warnings.warn(\n",
      "/home/ryan.zurrin001/miniconda3/envs/O/lib/python3.9/site-packages/pyod/models/base.py:412: UserWarning: y should not be presented in unsupervised learning.\n",
      "  warnings.warn(\n",
      "/home/ryan.zurrin001/miniconda3/envs/O/lib/python3.9/site-packages/pyod/models/base.py:412: UserWarning: y should not be presented in unsupervised learning.\n",
      "  warnings.warn(\n",
      "/home/ryan.zurrin001/miniconda3/envs/O/lib/python3.9/site-packages/sklearn/metrics/_ranking.py:1695: UndefinedMetricWarning: 'k' (2) greater than or equal to 'n_classes' (2) will result in a perfect score and is therefore meaningless.\n",
      "  warnings.warn(\n",
      "/home/ryan.zurrin001/miniconda3/envs/O/lib/python3.9/site-packages/pyod/models/base.py:412: UserWarning: y should not be presented in unsupervised learning.\n",
      "  warnings.warn(\n",
      "/home/ryan.zurrin001/miniconda3/envs/O/lib/python3.9/site-packages/sklearn/metrics/_ranking.py:1695: UndefinedMetricWarning: 'k' (2) greater than or equal to 'n_classes' (2) will result in a perfect score and is therefore meaningless.\n",
      "  warnings.warn(\n",
      "/home/ryan.zurrin001/miniconda3/envs/O/lib/python3.9/site-packages/sklearn/model_selection/_validation.py:696: UserWarning: Scoring failed. The score on this train-test partition for these parameters will be set to nan. Details: \n",
      "Traceback (most recent call last):\n",
      "  File \"/home/ryan.zurrin001/miniconda3/envs/O/lib/python3.9/site-packages/sklearn/model_selection/_validation.py\", line 687, in _score\n",
      "    scores = scorer(estimator, X_test, y_test)\n",
      "  File \"/home/ryan.zurrin001/miniconda3/envs/O/lib/python3.9/site-packages/sklearn/metrics/_scorer.py\", line 87, in __call__\n",
      "    score = scorer._score(cached_call, estimator,\n",
      "  File \"/home/ryan.zurrin001/miniconda3/envs/O/lib/python3.9/site-packages/sklearn/metrics/_scorer.py\", line 362, in _score\n",
      "    return self._sign * self._score_func(y, y_pred, **self._kwargs)\n",
      "  File \"/home/ryan.zurrin001/miniconda3/envs/O/lib/python3.9/site-packages/sklearn/metrics/_ranking.py\", line 1667, in top_k_accuracy_score\n",
      "    raise ValueError(\n",
      "ValueError: Number of classes in 'y_true' (1) not equal to the number of classes in 'y_score' (2).\n",
      "\n",
      "  warnings.warn(\n",
      "/home/ryan.zurrin001/miniconda3/envs/O/lib/python3.9/site-packages/sklearn/metrics/_ranking.py:1695: UndefinedMetricWarning: 'k' (2) greater than or equal to 'n_classes' (2) will result in a perfect score and is therefore meaningless.\n",
      "  warnings.warn(\n",
      "/home/ryan.zurrin001/miniconda3/envs/O/lib/python3.9/site-packages/sklearn/metrics/_ranking.py:1695: UndefinedMetricWarning: 'k' (2) greater than or equal to 'n_classes' (2) will result in a perfect score and is therefore meaningless.\n",
      "  warnings.warn(\n",
      "/home/ryan.zurrin001/miniconda3/envs/O/lib/python3.9/site-packages/pyod/models/base.py:412: UserWarning: y should not be presented in unsupervised learning.\n",
      "  warnings.warn(\n"
     ]
    },
    {
     "name": "stdout",
     "output_type": "stream",
     "text": [
      "\r",
      " 52%|███████████████████████████████████████████████████████████████████████████████▌                                                                         | 26/50 [00:02<00:02,  8.24trial/s, best loss=?]"
     ]
    },
    {
     "name": "stderr",
     "output_type": "stream",
     "text": [
      "/home/ryan.zurrin001/miniconda3/envs/O/lib/python3.9/site-packages/pyod/models/base.py:412: UserWarning: y should not be presented in unsupervised learning.\n",
      "  warnings.warn(\n",
      "/home/ryan.zurrin001/miniconda3/envs/O/lib/python3.9/site-packages/pyod/models/base.py:412: UserWarning: y should not be presented in unsupervised learning.\n",
      "  warnings.warn(\n",
      "/home/ryan.zurrin001/miniconda3/envs/O/lib/python3.9/site-packages/pyod/models/base.py:412: UserWarning: y should not be presented in unsupervised learning.\n",
      "  warnings.warn(\n",
      "/home/ryan.zurrin001/miniconda3/envs/O/lib/python3.9/site-packages/sklearn/metrics/_ranking.py:1695: UndefinedMetricWarning: 'k' (2) greater than or equal to 'n_classes' (2) will result in a perfect score and is therefore meaningless.\n",
      "  warnings.warn(\n",
      "/home/ryan.zurrin001/miniconda3/envs/O/lib/python3.9/site-packages/pyod/models/base.py:412: UserWarning: y should not be presented in unsupervised learning.\n",
      "  warnings.warn(\n",
      "/home/ryan.zurrin001/miniconda3/envs/O/lib/python3.9/site-packages/sklearn/model_selection/_validation.py:696: UserWarning: Scoring failed. The score on this train-test partition for these parameters will be set to nan. Details: \n",
      "Traceback (most recent call last):\n",
      "  File \"/home/ryan.zurrin001/miniconda3/envs/O/lib/python3.9/site-packages/sklearn/model_selection/_validation.py\", line 687, in _score\n",
      "    scores = scorer(estimator, X_test, y_test)\n",
      "  File \"/home/ryan.zurrin001/miniconda3/envs/O/lib/python3.9/site-packages/sklearn/metrics/_scorer.py\", line 87, in __call__\n",
      "    score = scorer._score(cached_call, estimator,\n",
      "  File \"/home/ryan.zurrin001/miniconda3/envs/O/lib/python3.9/site-packages/sklearn/metrics/_scorer.py\", line 362, in _score\n",
      "    return self._sign * self._score_func(y, y_pred, **self._kwargs)\n",
      "  File \"/home/ryan.zurrin001/miniconda3/envs/O/lib/python3.9/site-packages/sklearn/metrics/_ranking.py\", line 1667, in top_k_accuracy_score\n",
      "    raise ValueError(\n",
      "ValueError: Number of classes in 'y_true' (1) not equal to the number of classes in 'y_score' (2).\n",
      "\n",
      "  warnings.warn(\n",
      "/home/ryan.zurrin001/miniconda3/envs/O/lib/python3.9/site-packages/sklearn/metrics/_ranking.py:1695: UndefinedMetricWarning: 'k' (2) greater than or equal to 'n_classes' (2) will result in a perfect score and is therefore meaningless.\n",
      "  warnings.warn(\n",
      "/home/ryan.zurrin001/miniconda3/envs/O/lib/python3.9/site-packages/sklearn/metrics/_ranking.py:1695: UndefinedMetricWarning: 'k' (2) greater than or equal to 'n_classes' (2) will result in a perfect score and is therefore meaningless.\n",
      "  warnings.warn(\n",
      "/home/ryan.zurrin001/miniconda3/envs/O/lib/python3.9/site-packages/sklearn/metrics/_ranking.py:1695: UndefinedMetricWarning: 'k' (2) greater than or equal to 'n_classes' (2) will result in a perfect score and is therefore meaningless.\n",
      "  warnings.warn(\n",
      "/home/ryan.zurrin001/miniconda3/envs/O/lib/python3.9/site-packages/pyod/models/base.py:412: UserWarning: y should not be presented in unsupervised learning.\n",
      "  warnings.warn(\n",
      "/home/ryan.zurrin001/miniconda3/envs/O/lib/python3.9/site-packages/sklearn/metrics/_ranking.py:1695: UndefinedMetricWarning: 'k' (2) greater than or equal to 'n_classes' (2) will result in a perfect score and is therefore meaningless.\n",
      "  warnings.warn(\n",
      "/home/ryan.zurrin001/miniconda3/envs/O/lib/python3.9/site-packages/pyod/models/base.py:412: UserWarning: y should not be presented in unsupervised learning.\n",
      "  warnings.warn(\n",
      "/home/ryan.zurrin001/miniconda3/envs/O/lib/python3.9/site-packages/sklearn/metrics/_ranking.py:1695: UndefinedMetricWarning: 'k' (2) greater than or equal to 'n_classes' (2) will result in a perfect score and is therefore meaningless.\n",
      "  warnings.warn(\n",
      "/home/ryan.zurrin001/miniconda3/envs/O/lib/python3.9/site-packages/pyod/models/base.py:412: UserWarning: y should not be presented in unsupervised learning.\n",
      "  warnings.warn(\n",
      "/home/ryan.zurrin001/miniconda3/envs/O/lib/python3.9/site-packages/sklearn/model_selection/_validation.py:696: UserWarning: Scoring failed. The score on this train-test partition for these parameters will be set to nan. Details: \n",
      "Traceback (most recent call last):\n",
      "  File \"/home/ryan.zurrin001/miniconda3/envs/O/lib/python3.9/site-packages/sklearn/model_selection/_validation.py\", line 687, in _score\n",
      "    scores = scorer(estimator, X_test, y_test)\n",
      "  File \"/home/ryan.zurrin001/miniconda3/envs/O/lib/python3.9/site-packages/sklearn/metrics/_scorer.py\", line 87, in __call__\n",
      "    score = scorer._score(cached_call, estimator,\n",
      "  File \"/home/ryan.zurrin001/miniconda3/envs/O/lib/python3.9/site-packages/sklearn/metrics/_scorer.py\", line 362, in _score\n",
      "    return self._sign * self._score_func(y, y_pred, **self._kwargs)\n",
      "  File \"/home/ryan.zurrin001/miniconda3/envs/O/lib/python3.9/site-packages/sklearn/metrics/_ranking.py\", line 1667, in top_k_accuracy_score\n",
      "    raise ValueError(\n",
      "ValueError: Number of classes in 'y_true' (1) not equal to the number of classes in 'y_score' (2).\n",
      "\n",
      "  warnings.warn(\n",
      "/home/ryan.zurrin001/miniconda3/envs/O/lib/python3.9/site-packages/pyod/models/base.py:412: UserWarning: y should not be presented in unsupervised learning.\n",
      "  warnings.warn(\n",
      "/home/ryan.zurrin001/miniconda3/envs/O/lib/python3.9/site-packages/sklearn/metrics/_ranking.py:1695: UndefinedMetricWarning: 'k' (2) greater than or equal to 'n_classes' (2) will result in a perfect score and is therefore meaningless.\n",
      "  warnings.warn(\n",
      "/home/ryan.zurrin001/miniconda3/envs/O/lib/python3.9/site-packages/pyod/models/base.py:412: UserWarning: y should not be presented in unsupervised learning.\n",
      "  warnings.warn(\n",
      "/home/ryan.zurrin001/miniconda3/envs/O/lib/python3.9/site-packages/sklearn/metrics/_ranking.py:1695: UndefinedMetricWarning: 'k' (2) greater than or equal to 'n_classes' (2) will result in a perfect score and is therefore meaningless.\n",
      "  warnings.warn(\n",
      "/home/ryan.zurrin001/miniconda3/envs/O/lib/python3.9/site-packages/pyod/models/base.py:412: UserWarning: y should not be presented in unsupervised learning.\n",
      "  warnings.warn(\n",
      "/home/ryan.zurrin001/miniconda3/envs/O/lib/python3.9/site-packages/pyod/models/base.py:412: UserWarning: y should not be presented in unsupervised learning.\n",
      "  warnings.warn(\n",
      "/home/ryan.zurrin001/miniconda3/envs/O/lib/python3.9/site-packages/pyod/models/base.py:412: UserWarning: y should not be presented in unsupervised learning.\n",
      "  warnings.warn(\n",
      "/home/ryan.zurrin001/miniconda3/envs/O/lib/python3.9/site-packages/pyod/models/base.py:412: UserWarning: y should not be presented in unsupervised learning.\n",
      "  warnings.warn(\n",
      "/home/ryan.zurrin001/miniconda3/envs/O/lib/python3.9/site-packages/sklearn/metrics/_ranking.py:1695: UndefinedMetricWarning: 'k' (2) greater than or equal to 'n_classes' (2) will result in a perfect score and is therefore meaningless.\n",
      "  warnings.warn(\n",
      "/home/ryan.zurrin001/miniconda3/envs/O/lib/python3.9/site-packages/pyod/models/base.py:412: UserWarning: y should not be presented in unsupervised learning.\n",
      "  warnings.warn(\n",
      "/home/ryan.zurrin001/miniconda3/envs/O/lib/python3.9/site-packages/sklearn/metrics/_ranking.py:1695: UndefinedMetricWarning: 'k' (2) greater than or equal to 'n_classes' (2) will result in a perfect score and is therefore meaningless.\n",
      "  warnings.warn(\n",
      "/home/ryan.zurrin001/miniconda3/envs/O/lib/python3.9/site-packages/sklearn/model_selection/_validation.py:696: UserWarning: Scoring failed. The score on this train-test partition for these parameters will be set to nan. Details: \n",
      "Traceback (most recent call last):\n",
      "  File \"/home/ryan.zurrin001/miniconda3/envs/O/lib/python3.9/site-packages/sklearn/model_selection/_validation.py\", line 687, in _score\n",
      "    scores = scorer(estimator, X_test, y_test)\n",
      "  File \"/home/ryan.zurrin001/miniconda3/envs/O/lib/python3.9/site-packages/sklearn/metrics/_scorer.py\", line 87, in __call__\n",
      "    score = scorer._score(cached_call, estimator,\n",
      "  File \"/home/ryan.zurrin001/miniconda3/envs/O/lib/python3.9/site-packages/sklearn/metrics/_scorer.py\", line 362, in _score\n",
      "    return self._sign * self._score_func(y, y_pred, **self._kwargs)\n",
      "  File \"/home/ryan.zurrin001/miniconda3/envs/O/lib/python3.9/site-packages/sklearn/metrics/_ranking.py\", line 1667, in top_k_accuracy_score\n",
      "    raise ValueError(\n",
      "ValueError: Number of classes in 'y_true' (1) not equal to the number of classes in 'y_score' (2).\n",
      "\n",
      "  warnings.warn(\n",
      "/home/ryan.zurrin001/miniconda3/envs/O/lib/python3.9/site-packages/sklearn/metrics/_ranking.py:1695: UndefinedMetricWarning: 'k' (2) greater than or equal to 'n_classes' (2) will result in a perfect score and is therefore meaningless.\n",
      "  warnings.warn(\n",
      "/home/ryan.zurrin001/miniconda3/envs/O/lib/python3.9/site-packages/sklearn/metrics/_ranking.py:1695: UndefinedMetricWarning: 'k' (2) greater than or equal to 'n_classes' (2) will result in a perfect score and is therefore meaningless.\n",
      "  warnings.warn(\n"
     ]
    },
    {
     "name": "stdout",
     "output_type": "stream",
     "text": [
      "\r",
      " 56%|█████████████████████████████████████████████████████████████████████████████████████▋                                                                   | 28/50 [00:03<00:02,  8.09trial/s, best loss=?]"
     ]
    },
    {
     "name": "stderr",
     "output_type": "stream",
     "text": [
      "/home/ryan.zurrin001/miniconda3/envs/O/lib/python3.9/site-packages/pyod/models/base.py:412: UserWarning: y should not be presented in unsupervised learning.\n",
      "  warnings.warn(\n",
      "/home/ryan.zurrin001/miniconda3/envs/O/lib/python3.9/site-packages/pyod/models/base.py:412: UserWarning: y should not be presented in unsupervised learning.\n",
      "  warnings.warn(\n",
      "/home/ryan.zurrin001/miniconda3/envs/O/lib/python3.9/site-packages/pyod/models/base.py:412: UserWarning: y should not be presented in unsupervised learning.\n",
      "  warnings.warn(\n",
      "/home/ryan.zurrin001/miniconda3/envs/O/lib/python3.9/site-packages/pyod/models/base.py:412: UserWarning: y should not be presented in unsupervised learning.\n",
      "  warnings.warn(\n",
      "/home/ryan.zurrin001/miniconda3/envs/O/lib/python3.9/site-packages/sklearn/metrics/_ranking.py:1695: UndefinedMetricWarning: 'k' (2) greater than or equal to 'n_classes' (2) will result in a perfect score and is therefore meaningless.\n",
      "  warnings.warn(\n",
      "/home/ryan.zurrin001/miniconda3/envs/O/lib/python3.9/site-packages/pyod/models/base.py:412: UserWarning: y should not be presented in unsupervised learning.\n",
      "  warnings.warn(\n",
      "/home/ryan.zurrin001/miniconda3/envs/O/lib/python3.9/site-packages/sklearn/model_selection/_validation.py:696: UserWarning: Scoring failed. The score on this train-test partition for these parameters will be set to nan. Details: \n",
      "Traceback (most recent call last):\n",
      "  File \"/home/ryan.zurrin001/miniconda3/envs/O/lib/python3.9/site-packages/sklearn/model_selection/_validation.py\", line 687, in _score\n",
      "    scores = scorer(estimator, X_test, y_test)\n",
      "  File \"/home/ryan.zurrin001/miniconda3/envs/O/lib/python3.9/site-packages/sklearn/metrics/_scorer.py\", line 87, in __call__\n",
      "    score = scorer._score(cached_call, estimator,\n",
      "  File \"/home/ryan.zurrin001/miniconda3/envs/O/lib/python3.9/site-packages/sklearn/metrics/_scorer.py\", line 362, in _score\n",
      "    return self._sign * self._score_func(y, y_pred, **self._kwargs)\n",
      "  File \"/home/ryan.zurrin001/miniconda3/envs/O/lib/python3.9/site-packages/sklearn/metrics/_ranking.py\", line 1667, in top_k_accuracy_score\n",
      "    raise ValueError(\n",
      "ValueError: Number of classes in 'y_true' (1) not equal to the number of classes in 'y_score' (2).\n",
      "\n",
      "  warnings.warn(\n",
      "/home/ryan.zurrin001/miniconda3/envs/O/lib/python3.9/site-packages/sklearn/metrics/_ranking.py:1695: UndefinedMetricWarning: 'k' (2) greater than or equal to 'n_classes' (2) will result in a perfect score and is therefore meaningless.\n",
      "  warnings.warn(\n",
      "/home/ryan.zurrin001/miniconda3/envs/O/lib/python3.9/site-packages/sklearn/metrics/_ranking.py:1695: UndefinedMetricWarning: 'k' (2) greater than or equal to 'n_classes' (2) will result in a perfect score and is therefore meaningless.\n",
      "  warnings.warn(\n",
      "/home/ryan.zurrin001/miniconda3/envs/O/lib/python3.9/site-packages/sklearn/metrics/_ranking.py:1695: UndefinedMetricWarning: 'k' (2) greater than or equal to 'n_classes' (2) will result in a perfect score and is therefore meaningless.\n",
      "  warnings.warn(\n",
      "/home/ryan.zurrin001/miniconda3/envs/O/lib/python3.9/site-packages/pyod/models/base.py:412: UserWarning: y should not be presented in unsupervised learning.\n",
      "  warnings.warn(\n",
      "/home/ryan.zurrin001/miniconda3/envs/O/lib/python3.9/site-packages/sklearn/metrics/_ranking.py:1695: UndefinedMetricWarning: 'k' (2) greater than or equal to 'n_classes' (2) will result in a perfect score and is therefore meaningless.\n",
      "  warnings.warn(\n",
      "/home/ryan.zurrin001/miniconda3/envs/O/lib/python3.9/site-packages/pyod/models/base.py:412: UserWarning: y should not be presented in unsupervised learning.\n",
      "  warnings.warn(\n",
      "/home/ryan.zurrin001/miniconda3/envs/O/lib/python3.9/site-packages/sklearn/metrics/_ranking.py:1695: UndefinedMetricWarning: 'k' (2) greater than or equal to 'n_classes' (2) will result in a perfect score and is therefore meaningless.\n",
      "  warnings.warn(\n",
      "/home/ryan.zurrin001/miniconda3/envs/O/lib/python3.9/site-packages/pyod/models/base.py:412: UserWarning: y should not be presented in unsupervised learning.\n",
      "  warnings.warn(\n",
      "/home/ryan.zurrin001/miniconda3/envs/O/lib/python3.9/site-packages/sklearn/model_selection/_validation.py:696: UserWarning: Scoring failed. The score on this train-test partition for these parameters will be set to nan. Details: \n",
      "Traceback (most recent call last):\n",
      "  File \"/home/ryan.zurrin001/miniconda3/envs/O/lib/python3.9/site-packages/sklearn/model_selection/_validation.py\", line 687, in _score\n",
      "    scores = scorer(estimator, X_test, y_test)\n",
      "  File \"/home/ryan.zurrin001/miniconda3/envs/O/lib/python3.9/site-packages/sklearn/metrics/_scorer.py\", line 87, in __call__\n",
      "    score = scorer._score(cached_call, estimator,\n",
      "  File \"/home/ryan.zurrin001/miniconda3/envs/O/lib/python3.9/site-packages/sklearn/metrics/_scorer.py\", line 362, in _score\n",
      "    return self._sign * self._score_func(y, y_pred, **self._kwargs)\n",
      "  File \"/home/ryan.zurrin001/miniconda3/envs/O/lib/python3.9/site-packages/sklearn/metrics/_ranking.py\", line 1667, in top_k_accuracy_score\n",
      "    raise ValueError(\n",
      "ValueError: Number of classes in 'y_true' (1) not equal to the number of classes in 'y_score' (2).\n",
      "\n",
      "  warnings.warn(\n",
      "/home/ryan.zurrin001/miniconda3/envs/O/lib/python3.9/site-packages/pyod/models/base.py:412: UserWarning: y should not be presented in unsupervised learning.\n",
      "  warnings.warn(\n",
      "/home/ryan.zurrin001/miniconda3/envs/O/lib/python3.9/site-packages/sklearn/metrics/_ranking.py:1695: UndefinedMetricWarning: 'k' (2) greater than or equal to 'n_classes' (2) will result in a perfect score and is therefore meaningless.\n",
      "  warnings.warn(\n",
      "/home/ryan.zurrin001/miniconda3/envs/O/lib/python3.9/site-packages/pyod/models/base.py:412: UserWarning: y should not be presented in unsupervised learning.\n",
      "  warnings.warn(\n",
      "/home/ryan.zurrin001/miniconda3/envs/O/lib/python3.9/site-packages/sklearn/metrics/_ranking.py:1695: UndefinedMetricWarning: 'k' (2) greater than or equal to 'n_classes' (2) will result in a perfect score and is therefore meaningless.\n",
      "  warnings.warn(\n"
     ]
    },
    {
     "name": "stdout",
     "output_type": "stream",
     "text": [
      " 64%|█████████████████████████████████████████████████████████████████████████████████████████████████▉                                                       | 32/50 [00:03<00:01, 10.86trial/s, best loss=?]"
     ]
    },
    {
     "name": "stderr",
     "output_type": "stream",
     "text": [
      "/home/ryan.zurrin001/miniconda3/envs/O/lib/python3.9/site-packages/pyod/models/base.py:412: UserWarning: y should not be presented in unsupervised learning.\n",
      "  warnings.warn(\n",
      "/home/ryan.zurrin001/miniconda3/envs/O/lib/python3.9/site-packages/pyod/models/base.py:412: UserWarning: y should not be presented in unsupervised learning.\n",
      "  warnings.warn(\n",
      "/home/ryan.zurrin001/miniconda3/envs/O/lib/python3.9/site-packages/pyod/models/base.py:412: UserWarning: y should not be presented in unsupervised learning.\n",
      "  warnings.warn(\n",
      "/home/ryan.zurrin001/miniconda3/envs/O/lib/python3.9/site-packages/pyod/models/base.py:412: UserWarning: y should not be presented in unsupervised learning.\n",
      "  warnings.warn(\n",
      "/home/ryan.zurrin001/miniconda3/envs/O/lib/python3.9/site-packages/sklearn/metrics/_ranking.py:1695: UndefinedMetricWarning: 'k' (2) greater than or equal to 'n_classes' (2) will result in a perfect score and is therefore meaningless.\n",
      "  warnings.warn(\n",
      "/home/ryan.zurrin001/miniconda3/envs/O/lib/python3.9/site-packages/pyod/models/base.py:412: UserWarning: y should not be presented in unsupervised learning.\n",
      "  warnings.warn(\n",
      "/home/ryan.zurrin001/miniconda3/envs/O/lib/python3.9/site-packages/sklearn/model_selection/_validation.py:696: UserWarning: Scoring failed. The score on this train-test partition for these parameters will be set to nan. Details: \n",
      "Traceback (most recent call last):\n",
      "  File \"/home/ryan.zurrin001/miniconda3/envs/O/lib/python3.9/site-packages/sklearn/model_selection/_validation.py\", line 687, in _score\n",
      "    scores = scorer(estimator, X_test, y_test)\n",
      "  File \"/home/ryan.zurrin001/miniconda3/envs/O/lib/python3.9/site-packages/sklearn/metrics/_scorer.py\", line 87, in __call__\n",
      "    score = scorer._score(cached_call, estimator,\n",
      "  File \"/home/ryan.zurrin001/miniconda3/envs/O/lib/python3.9/site-packages/sklearn/metrics/_scorer.py\", line 362, in _score\n",
      "    return self._sign * self._score_func(y, y_pred, **self._kwargs)\n",
      "  File \"/home/ryan.zurrin001/miniconda3/envs/O/lib/python3.9/site-packages/sklearn/metrics/_ranking.py\", line 1667, in top_k_accuracy_score\n",
      "    raise ValueError(\n",
      "ValueError: Number of classes in 'y_true' (1) not equal to the number of classes in 'y_score' (2).\n",
      "\n",
      "  warnings.warn(\n",
      "/home/ryan.zurrin001/miniconda3/envs/O/lib/python3.9/site-packages/sklearn/metrics/_ranking.py:1695: UndefinedMetricWarning: 'k' (2) greater than or equal to 'n_classes' (2) will result in a perfect score and is therefore meaningless.\n",
      "  warnings.warn(\n",
      "/home/ryan.zurrin001/miniconda3/envs/O/lib/python3.9/site-packages/sklearn/metrics/_ranking.py:1695: UndefinedMetricWarning: 'k' (2) greater than or equal to 'n_classes' (2) will result in a perfect score and is therefore meaningless.\n",
      "  warnings.warn(\n",
      "/home/ryan.zurrin001/miniconda3/envs/O/lib/python3.9/site-packages/sklearn/metrics/_ranking.py:1695: UndefinedMetricWarning: 'k' (2) greater than or equal to 'n_classes' (2) will result in a perfect score and is therefore meaningless.\n",
      "  warnings.warn(\n",
      "/home/ryan.zurrin001/miniconda3/envs/O/lib/python3.9/site-packages/pyod/models/base.py:412: UserWarning: y should not be presented in unsupervised learning.\n",
      "  warnings.warn(\n",
      "/home/ryan.zurrin001/miniconda3/envs/O/lib/python3.9/site-packages/pyod/models/base.py:412: UserWarning: y should not be presented in unsupervised learning.\n",
      "  warnings.warn(\n",
      "/home/ryan.zurrin001/miniconda3/envs/O/lib/python3.9/site-packages/pyod/models/base.py:412: UserWarning: y should not be presented in unsupervised learning.\n",
      "  warnings.warn(\n",
      "/home/ryan.zurrin001/miniconda3/envs/O/lib/python3.9/site-packages/pyod/models/base.py:412: UserWarning: y should not be presented in unsupervised learning.\n",
      "  warnings.warn(\n",
      "/home/ryan.zurrin001/miniconda3/envs/O/lib/python3.9/site-packages/sklearn/metrics/_ranking.py:1695: UndefinedMetricWarning: 'k' (2) greater than or equal to 'n_classes' (2) will result in a perfect score and is therefore meaningless.\n",
      "  warnings.warn(\n",
      "/home/ryan.zurrin001/miniconda3/envs/O/lib/python3.9/site-packages/pyod/models/base.py:412: UserWarning: y should not be presented in unsupervised learning.\n",
      "  warnings.warn(\n",
      "/home/ryan.zurrin001/miniconda3/envs/O/lib/python3.9/site-packages/sklearn/model_selection/_validation.py:696: UserWarning: Scoring failed. The score on this train-test partition for these parameters will be set to nan. Details: \n",
      "Traceback (most recent call last):\n",
      "  File \"/home/ryan.zurrin001/miniconda3/envs/O/lib/python3.9/site-packages/sklearn/model_selection/_validation.py\", line 687, in _score\n",
      "    scores = scorer(estimator, X_test, y_test)\n",
      "  File \"/home/ryan.zurrin001/miniconda3/envs/O/lib/python3.9/site-packages/sklearn/metrics/_scorer.py\", line 87, in __call__\n",
      "    score = scorer._score(cached_call, estimator,\n",
      "  File \"/home/ryan.zurrin001/miniconda3/envs/O/lib/python3.9/site-packages/sklearn/metrics/_scorer.py\", line 362, in _score\n",
      "    return self._sign * self._score_func(y, y_pred, **self._kwargs)\n",
      "  File \"/home/ryan.zurrin001/miniconda3/envs/O/lib/python3.9/site-packages/sklearn/metrics/_ranking.py\", line 1667, in top_k_accuracy_score\n",
      "    raise ValueError(\n",
      "ValueError: Number of classes in 'y_true' (1) not equal to the number of classes in 'y_score' (2).\n",
      "\n",
      "  warnings.warn(\n",
      "/home/ryan.zurrin001/miniconda3/envs/O/lib/python3.9/site-packages/sklearn/metrics/_ranking.py:1695: UndefinedMetricWarning: 'k' (2) greater than or equal to 'n_classes' (2) will result in a perfect score and is therefore meaningless.\n",
      "  warnings.warn(\n",
      "/home/ryan.zurrin001/miniconda3/envs/O/lib/python3.9/site-packages/sklearn/metrics/_ranking.py:1695: UndefinedMetricWarning: 'k' (2) greater than or equal to 'n_classes' (2) will result in a perfect score and is therefore meaningless.\n",
      "  warnings.warn(\n",
      "/home/ryan.zurrin001/miniconda3/envs/O/lib/python3.9/site-packages/sklearn/metrics/_ranking.py:1695: UndefinedMetricWarning: 'k' (2) greater than or equal to 'n_classes' (2) will result in a perfect score and is therefore meaningless.\n",
      "  warnings.warn(\n",
      "/home/ryan.zurrin001/miniconda3/envs/O/lib/python3.9/site-packages/pyod/models/base.py:412: UserWarning: y should not be presented in unsupervised learning.\n",
      "  warnings.warn(\n",
      "/home/ryan.zurrin001/miniconda3/envs/O/lib/python3.9/site-packages/pyod/models/base.py:412: UserWarning: y should not be presented in unsupervised learning.\n",
      "  warnings.warn(\n",
      "/home/ryan.zurrin001/miniconda3/envs/O/lib/python3.9/site-packages/pyod/models/base.py:412: UserWarning: y should not be presented in unsupervised learning.\n",
      "  warnings.warn(\n",
      "/home/ryan.zurrin001/miniconda3/envs/O/lib/python3.9/site-packages/pyod/models/base.py:412: UserWarning: y should not be presented in unsupervised learning.\n",
      "  warnings.warn(\n",
      "/home/ryan.zurrin001/miniconda3/envs/O/lib/python3.9/site-packages/sklearn/metrics/_ranking.py:1695: UndefinedMetricWarning: 'k' (2) greater than or equal to 'n_classes' (2) will result in a perfect score and is therefore meaningless.\n",
      "  warnings.warn(\n",
      "/home/ryan.zurrin001/miniconda3/envs/O/lib/python3.9/site-packages/pyod/models/base.py:412: UserWarning: y should not be presented in unsupervised learning.\n",
      "  warnings.warn(\n",
      "/home/ryan.zurrin001/miniconda3/envs/O/lib/python3.9/site-packages/sklearn/model_selection/_validation.py:696: UserWarning: Scoring failed. The score on this train-test partition for these parameters will be set to nan. Details: \n",
      "Traceback (most recent call last):\n",
      "  File \"/home/ryan.zurrin001/miniconda3/envs/O/lib/python3.9/site-packages/sklearn/model_selection/_validation.py\", line 687, in _score\n",
      "    scores = scorer(estimator, X_test, y_test)\n",
      "  File \"/home/ryan.zurrin001/miniconda3/envs/O/lib/python3.9/site-packages/sklearn/metrics/_scorer.py\", line 87, in __call__\n",
      "    score = scorer._score(cached_call, estimator,\n",
      "  File \"/home/ryan.zurrin001/miniconda3/envs/O/lib/python3.9/site-packages/sklearn/metrics/_scorer.py\", line 362, in _score\n",
      "    return self._sign * self._score_func(y, y_pred, **self._kwargs)\n",
      "  File \"/home/ryan.zurrin001/miniconda3/envs/O/lib/python3.9/site-packages/sklearn/metrics/_ranking.py\", line 1667, in top_k_accuracy_score\n",
      "    raise ValueError(\n",
      "ValueError: Number of classes in 'y_true' (1) not equal to the number of classes in 'y_score' (2).\n",
      "\n",
      "  warnings.warn(\n",
      "/home/ryan.zurrin001/miniconda3/envs/O/lib/python3.9/site-packages/sklearn/metrics/_ranking.py:1695: UndefinedMetricWarning: 'k' (2) greater than or equal to 'n_classes' (2) will result in a perfect score and is therefore meaningless.\n",
      "  warnings.warn(\n",
      "/home/ryan.zurrin001/miniconda3/envs/O/lib/python3.9/site-packages/sklearn/metrics/_ranking.py:1695: UndefinedMetricWarning: 'k' (2) greater than or equal to 'n_classes' (2) will result in a perfect score and is therefore meaningless.\n",
      "  warnings.warn(\n",
      "/home/ryan.zurrin001/miniconda3/envs/O/lib/python3.9/site-packages/sklearn/metrics/_ranking.py:1695: UndefinedMetricWarning: 'k' (2) greater than or equal to 'n_classes' (2) will result in a perfect score and is therefore meaningless.\n",
      "  warnings.warn(\n"
     ]
    },
    {
     "name": "stdout",
     "output_type": "stream",
     "text": [
      "\r",
      " 68%|████████████████████████████████████████████████████████████████████████████████████████████████████████                                                 | 34/50 [00:03<00:01, 10.55trial/s, best loss=?]"
     ]
    },
    {
     "name": "stderr",
     "output_type": "stream",
     "text": [
      "/home/ryan.zurrin001/miniconda3/envs/O/lib/python3.9/site-packages/pyod/models/base.py:412: UserWarning: y should not be presented in unsupervised learning.\n",
      "  warnings.warn(\n",
      "/home/ryan.zurrin001/miniconda3/envs/O/lib/python3.9/site-packages/pyod/models/base.py:412: UserWarning: y should not be presented in unsupervised learning.\n",
      "  warnings.warn(\n",
      "/home/ryan.zurrin001/miniconda3/envs/O/lib/python3.9/site-packages/pyod/models/base.py:412: UserWarning: y should not be presented in unsupervised learning.\n",
      "  warnings.warn(\n",
      "/home/ryan.zurrin001/miniconda3/envs/O/lib/python3.9/site-packages/pyod/models/base.py:412: UserWarning: y should not be presented in unsupervised learning.\n",
      "  warnings.warn(\n",
      "/home/ryan.zurrin001/miniconda3/envs/O/lib/python3.9/site-packages/sklearn/metrics/_ranking.py:1695: UndefinedMetricWarning: 'k' (2) greater than or equal to 'n_classes' (2) will result in a perfect score and is therefore meaningless.\n",
      "  warnings.warn(\n",
      "/home/ryan.zurrin001/miniconda3/envs/O/lib/python3.9/site-packages/pyod/models/base.py:412: UserWarning: y should not be presented in unsupervised learning.\n",
      "  warnings.warn(\n",
      "/home/ryan.zurrin001/miniconda3/envs/O/lib/python3.9/site-packages/sklearn/model_selection/_validation.py:696: UserWarning: Scoring failed. The score on this train-test partition for these parameters will be set to nan. Details: \n",
      "Traceback (most recent call last):\n",
      "  File \"/home/ryan.zurrin001/miniconda3/envs/O/lib/python3.9/site-packages/sklearn/model_selection/_validation.py\", line 687, in _score\n",
      "    scores = scorer(estimator, X_test, y_test)\n",
      "  File \"/home/ryan.zurrin001/miniconda3/envs/O/lib/python3.9/site-packages/sklearn/metrics/_scorer.py\", line 87, in __call__\n",
      "    score = scorer._score(cached_call, estimator,\n",
      "  File \"/home/ryan.zurrin001/miniconda3/envs/O/lib/python3.9/site-packages/sklearn/metrics/_scorer.py\", line 362, in _score\n",
      "    return self._sign * self._score_func(y, y_pred, **self._kwargs)\n",
      "  File \"/home/ryan.zurrin001/miniconda3/envs/O/lib/python3.9/site-packages/sklearn/metrics/_ranking.py\", line 1667, in top_k_accuracy_score\n",
      "    raise ValueError(\n",
      "ValueError: Number of classes in 'y_true' (1) not equal to the number of classes in 'y_score' (2).\n",
      "\n",
      "  warnings.warn(\n",
      "/home/ryan.zurrin001/miniconda3/envs/O/lib/python3.9/site-packages/sklearn/metrics/_ranking.py:1695: UndefinedMetricWarning: 'k' (2) greater than or equal to 'n_classes' (2) will result in a perfect score and is therefore meaningless.\n",
      "  warnings.warn(\n",
      "/home/ryan.zurrin001/miniconda3/envs/O/lib/python3.9/site-packages/sklearn/metrics/_ranking.py:1695: UndefinedMetricWarning: 'k' (2) greater than or equal to 'n_classes' (2) will result in a perfect score and is therefore meaningless.\n",
      "  warnings.warn(\n",
      "/home/ryan.zurrin001/miniconda3/envs/O/lib/python3.9/site-packages/sklearn/metrics/_ranking.py:1695: UndefinedMetricWarning: 'k' (2) greater than or equal to 'n_classes' (2) will result in a perfect score and is therefore meaningless.\n",
      "  warnings.warn(\n",
      "/home/ryan.zurrin001/miniconda3/envs/O/lib/python3.9/site-packages/pyod/models/base.py:412: UserWarning: y should not be presented in unsupervised learning.\n",
      "  warnings.warn(\n",
      "/home/ryan.zurrin001/miniconda3/envs/O/lib/python3.9/site-packages/sklearn/metrics/_ranking.py:1695: UndefinedMetricWarning: 'k' (2) greater than or equal to 'n_classes' (2) will result in a perfect score and is therefore meaningless.\n",
      "  warnings.warn(\n",
      "/home/ryan.zurrin001/miniconda3/envs/O/lib/python3.9/site-packages/pyod/models/base.py:412: UserWarning: y should not be presented in unsupervised learning.\n",
      "  warnings.warn(\n",
      "/home/ryan.zurrin001/miniconda3/envs/O/lib/python3.9/site-packages/sklearn/metrics/_ranking.py:1695: UndefinedMetricWarning: 'k' (2) greater than or equal to 'n_classes' (2) will result in a perfect score and is therefore meaningless.\n",
      "  warnings.warn(\n",
      "/home/ryan.zurrin001/miniconda3/envs/O/lib/python3.9/site-packages/pyod/models/base.py:412: UserWarning: y should not be presented in unsupervised learning.\n",
      "  warnings.warn(\n",
      "/home/ryan.zurrin001/miniconda3/envs/O/lib/python3.9/site-packages/pyod/models/base.py:412: UserWarning: y should not be presented in unsupervised learning.\n",
      "  warnings.warn(\n",
      "/home/ryan.zurrin001/miniconda3/envs/O/lib/python3.9/site-packages/sklearn/model_selection/_validation.py:696: UserWarning: Scoring failed. The score on this train-test partition for these parameters will be set to nan. Details: \n",
      "Traceback (most recent call last):\n",
      "  File \"/home/ryan.zurrin001/miniconda3/envs/O/lib/python3.9/site-packages/sklearn/model_selection/_validation.py\", line 687, in _score\n",
      "    scores = scorer(estimator, X_test, y_test)\n",
      "  File \"/home/ryan.zurrin001/miniconda3/envs/O/lib/python3.9/site-packages/sklearn/metrics/_scorer.py\", line 87, in __call__\n",
      "    score = scorer._score(cached_call, estimator,\n",
      "  File \"/home/ryan.zurrin001/miniconda3/envs/O/lib/python3.9/site-packages/sklearn/metrics/_scorer.py\", line 362, in _score\n",
      "    return self._sign * self._score_func(y, y_pred, **self._kwargs)\n",
      "  File \"/home/ryan.zurrin001/miniconda3/envs/O/lib/python3.9/site-packages/sklearn/metrics/_ranking.py\", line 1667, in top_k_accuracy_score\n",
      "    raise ValueError(\n",
      "ValueError: Number of classes in 'y_true' (1) not equal to the number of classes in 'y_score' (2).\n",
      "\n",
      "  warnings.warn(\n",
      "/home/ryan.zurrin001/miniconda3/envs/O/lib/python3.9/site-packages/sklearn/metrics/_ranking.py:1695: UndefinedMetricWarning: 'k' (2) greater than or equal to 'n_classes' (2) will result in a perfect score and is therefore meaningless.\n",
      "  warnings.warn(\n",
      "/home/ryan.zurrin001/miniconda3/envs/O/lib/python3.9/site-packages/pyod/models/base.py:412: UserWarning: y should not be presented in unsupervised learning.\n",
      "  warnings.warn(\n",
      "/home/ryan.zurrin001/miniconda3/envs/O/lib/python3.9/site-packages/sklearn/metrics/_ranking.py:1695: UndefinedMetricWarning: 'k' (2) greater than or equal to 'n_classes' (2) will result in a perfect score and is therefore meaningless.\n",
      "  warnings.warn(\n",
      "/home/ryan.zurrin001/miniconda3/envs/O/lib/python3.9/site-packages/pyod/models/base.py:412: UserWarning: y should not be presented in unsupervised learning.\n",
      "  warnings.warn(\n",
      "/home/ryan.zurrin001/miniconda3/envs/O/lib/python3.9/site-packages/pyod/models/base.py:412: UserWarning: y should not be presented in unsupervised learning.\n",
      "  warnings.warn(\n",
      "/home/ryan.zurrin001/miniconda3/envs/O/lib/python3.9/site-packages/pyod/models/base.py:412: UserWarning: y should not be presented in unsupervised learning.\n",
      "  warnings.warn(\n",
      "/home/ryan.zurrin001/miniconda3/envs/O/lib/python3.9/site-packages/pyod/models/base.py:412: UserWarning: y should not be presented in unsupervised learning.\n",
      "  warnings.warn(\n",
      "/home/ryan.zurrin001/miniconda3/envs/O/lib/python3.9/site-packages/sklearn/metrics/_ranking.py:1695: UndefinedMetricWarning: 'k' (2) greater than or equal to 'n_classes' (2) will result in a perfect score and is therefore meaningless.\n",
      "  warnings.warn(\n",
      "/home/ryan.zurrin001/miniconda3/envs/O/lib/python3.9/site-packages/sklearn/metrics/_ranking.py:1695: UndefinedMetricWarning: 'k' (2) greater than or equal to 'n_classes' (2) will result in a perfect score and is therefore meaningless.\n",
      "  warnings.warn(\n",
      "/home/ryan.zurrin001/miniconda3/envs/O/lib/python3.9/site-packages/sklearn/model_selection/_validation.py:696: UserWarning: Scoring failed. The score on this train-test partition for these parameters will be set to nan. Details: \n",
      "Traceback (most recent call last):\n",
      "  File \"/home/ryan.zurrin001/miniconda3/envs/O/lib/python3.9/site-packages/sklearn/model_selection/_validation.py\", line 687, in _score\n",
      "    scores = scorer(estimator, X_test, y_test)\n",
      "  File \"/home/ryan.zurrin001/miniconda3/envs/O/lib/python3.9/site-packages/sklearn/metrics/_scorer.py\", line 87, in __call__\n",
      "    score = scorer._score(cached_call, estimator,\n",
      "  File \"/home/ryan.zurrin001/miniconda3/envs/O/lib/python3.9/site-packages/sklearn/metrics/_scorer.py\", line 362, in _score\n",
      "    return self._sign * self._score_func(y, y_pred, **self._kwargs)\n",
      "  File \"/home/ryan.zurrin001/miniconda3/envs/O/lib/python3.9/site-packages/sklearn/metrics/_ranking.py\", line 1667, in top_k_accuracy_score\n",
      "    raise ValueError(\n",
      "ValueError: Number of classes in 'y_true' (1) not equal to the number of classes in 'y_score' (2).\n",
      "\n",
      "  warnings.warn(\n",
      "/home/ryan.zurrin001/miniconda3/envs/O/lib/python3.9/site-packages/sklearn/metrics/_ranking.py:1695: UndefinedMetricWarning: 'k' (2) greater than or equal to 'n_classes' (2) will result in a perfect score and is therefore meaningless.\n",
      "  warnings.warn(\n",
      "/home/ryan.zurrin001/miniconda3/envs/O/lib/python3.9/site-packages/pyod/models/base.py:412: UserWarning: y should not be presented in unsupervised learning.\n",
      "  warnings.warn(\n",
      "/home/ryan.zurrin001/miniconda3/envs/O/lib/python3.9/site-packages/sklearn/metrics/_ranking.py:1695: UndefinedMetricWarning: 'k' (2) greater than or equal to 'n_classes' (2) will result in a perfect score and is therefore meaningless.\n",
      "  warnings.warn(\n",
      "/home/ryan.zurrin001/miniconda3/envs/O/lib/python3.9/site-packages/pyod/models/base.py:412: UserWarning: y should not be presented in unsupervised learning.\n",
      "  warnings.warn(\n",
      "/home/ryan.zurrin001/miniconda3/envs/O/lib/python3.9/site-packages/pyod/models/base.py:412: UserWarning: y should not be presented in unsupervised learning.\n",
      "  warnings.warn(\n",
      "/home/ryan.zurrin001/miniconda3/envs/O/lib/python3.9/site-packages/pyod/models/base.py:412: UserWarning: y should not be presented in unsupervised learning.\n",
      "  warnings.warn(\n",
      "/home/ryan.zurrin001/miniconda3/envs/O/lib/python3.9/site-packages/pyod/models/base.py:412: UserWarning: y should not be presented in unsupervised learning.\n",
      "  warnings.warn(\n"
     ]
    },
    {
     "name": "stdout",
     "output_type": "stream",
     "text": [
      " 76%|████████████████████████████████████████████████████████████████████████████████████████████████████████████████████▎                                    | 38/50 [00:03<00:01,  9.82trial/s, best loss=?]"
     ]
    },
    {
     "name": "stderr",
     "output_type": "stream",
     "text": [
      "/home/ryan.zurrin001/miniconda3/envs/O/lib/python3.9/site-packages/sklearn/metrics/_ranking.py:1695: UndefinedMetricWarning: 'k' (2) greater than or equal to 'n_classes' (2) will result in a perfect score and is therefore meaningless.\n",
      "  warnings.warn(\n",
      "/home/ryan.zurrin001/miniconda3/envs/O/lib/python3.9/site-packages/pyod/models/base.py:412: UserWarning: y should not be presented in unsupervised learning.\n",
      "  warnings.warn(\n",
      "/home/ryan.zurrin001/miniconda3/envs/O/lib/python3.9/site-packages/sklearn/model_selection/_validation.py:696: UserWarning: Scoring failed. The score on this train-test partition for these parameters will be set to nan. Details: \n",
      "Traceback (most recent call last):\n",
      "  File \"/home/ryan.zurrin001/miniconda3/envs/O/lib/python3.9/site-packages/sklearn/model_selection/_validation.py\", line 687, in _score\n",
      "    scores = scorer(estimator, X_test, y_test)\n",
      "  File \"/home/ryan.zurrin001/miniconda3/envs/O/lib/python3.9/site-packages/sklearn/metrics/_scorer.py\", line 87, in __call__\n",
      "    score = scorer._score(cached_call, estimator,\n",
      "  File \"/home/ryan.zurrin001/miniconda3/envs/O/lib/python3.9/site-packages/sklearn/metrics/_scorer.py\", line 362, in _score\n",
      "    return self._sign * self._score_func(y, y_pred, **self._kwargs)\n",
      "  File \"/home/ryan.zurrin001/miniconda3/envs/O/lib/python3.9/site-packages/sklearn/metrics/_ranking.py\", line 1667, in top_k_accuracy_score\n",
      "    raise ValueError(\n",
      "ValueError: Number of classes in 'y_true' (1) not equal to the number of classes in 'y_score' (2).\n",
      "\n",
      "  warnings.warn(\n",
      "/home/ryan.zurrin001/miniconda3/envs/O/lib/python3.9/site-packages/sklearn/metrics/_ranking.py:1695: UndefinedMetricWarning: 'k' (2) greater than or equal to 'n_classes' (2) will result in a perfect score and is therefore meaningless.\n",
      "  warnings.warn(\n",
      "/home/ryan.zurrin001/miniconda3/envs/O/lib/python3.9/site-packages/sklearn/metrics/_ranking.py:1695: UndefinedMetricWarning: 'k' (2) greater than or equal to 'n_classes' (2) will result in a perfect score and is therefore meaningless.\n",
      "  warnings.warn(\n",
      "/home/ryan.zurrin001/miniconda3/envs/O/lib/python3.9/site-packages/sklearn/metrics/_ranking.py:1695: UndefinedMetricWarning: 'k' (2) greater than or equal to 'n_classes' (2) will result in a perfect score and is therefore meaningless.\n",
      "  warnings.warn(\n",
      "/home/ryan.zurrin001/miniconda3/envs/O/lib/python3.9/site-packages/pyod/models/base.py:412: UserWarning: y should not be presented in unsupervised learning.\n",
      "  warnings.warn(\n",
      "/home/ryan.zurrin001/miniconda3/envs/O/lib/python3.9/site-packages/pyod/models/base.py:412: UserWarning: y should not be presented in unsupervised learning.\n",
      "  warnings.warn(\n",
      "/home/ryan.zurrin001/miniconda3/envs/O/lib/python3.9/site-packages/pyod/models/base.py:412: UserWarning: y should not be presented in unsupervised learning.\n",
      "  warnings.warn(\n",
      "/home/ryan.zurrin001/miniconda3/envs/O/lib/python3.9/site-packages/pyod/models/base.py:412: UserWarning: y should not be presented in unsupervised learning.\n",
      "  warnings.warn(\n",
      "/home/ryan.zurrin001/miniconda3/envs/O/lib/python3.9/site-packages/sklearn/metrics/_ranking.py:1695: UndefinedMetricWarning: 'k' (2) greater than or equal to 'n_classes' (2) will result in a perfect score and is therefore meaningless.\n",
      "  warnings.warn(\n",
      "/home/ryan.zurrin001/miniconda3/envs/O/lib/python3.9/site-packages/pyod/models/base.py:412: UserWarning: y should not be presented in unsupervised learning.\n",
      "  warnings.warn(\n",
      "/home/ryan.zurrin001/miniconda3/envs/O/lib/python3.9/site-packages/sklearn/metrics/_ranking.py:1695: UndefinedMetricWarning: 'k' (2) greater than or equal to 'n_classes' (2) will result in a perfect score and is therefore meaningless.\n",
      "  warnings.warn(\n",
      "/home/ryan.zurrin001/miniconda3/envs/O/lib/python3.9/site-packages/sklearn/metrics/_ranking.py:1695: UndefinedMetricWarning: 'k' (2) greater than or equal to 'n_classes' (2) will result in a perfect score and is therefore meaningless.\n",
      "  warnings.warn(\n",
      "/home/ryan.zurrin001/miniconda3/envs/O/lib/python3.9/site-packages/sklearn/model_selection/_validation.py:696: UserWarning: Scoring failed. The score on this train-test partition for these parameters will be set to nan. Details: \n",
      "Traceback (most recent call last):\n",
      "  File \"/home/ryan.zurrin001/miniconda3/envs/O/lib/python3.9/site-packages/sklearn/model_selection/_validation.py\", line 687, in _score\n",
      "    scores = scorer(estimator, X_test, y_test)\n",
      "  File \"/home/ryan.zurrin001/miniconda3/envs/O/lib/python3.9/site-packages/sklearn/metrics/_scorer.py\", line 87, in __call__\n",
      "    score = scorer._score(cached_call, estimator,\n",
      "  File \"/home/ryan.zurrin001/miniconda3/envs/O/lib/python3.9/site-packages/sklearn/metrics/_scorer.py\", line 362, in _score\n",
      "    return self._sign * self._score_func(y, y_pred, **self._kwargs)\n",
      "  File \"/home/ryan.zurrin001/miniconda3/envs/O/lib/python3.9/site-packages/sklearn/metrics/_ranking.py\", line 1667, in top_k_accuracy_score\n",
      "    raise ValueError(\n",
      "ValueError: Number of classes in 'y_true' (1) not equal to the number of classes in 'y_score' (2).\n",
      "\n",
      "  warnings.warn(\n",
      "/home/ryan.zurrin001/miniconda3/envs/O/lib/python3.9/site-packages/sklearn/metrics/_ranking.py:1695: UndefinedMetricWarning: 'k' (2) greater than or equal to 'n_classes' (2) will result in a perfect score and is therefore meaningless.\n",
      "  warnings.warn(\n",
      "/home/ryan.zurrin001/miniconda3/envs/O/lib/python3.9/site-packages/pyod/models/base.py:412: UserWarning: y should not be presented in unsupervised learning.\n",
      "  warnings.warn(\n",
      "/home/ryan.zurrin001/miniconda3/envs/O/lib/python3.9/site-packages/pyod/models/base.py:412: UserWarning: y should not be presented in unsupervised learning.\n",
      "  warnings.warn(\n",
      "/home/ryan.zurrin001/miniconda3/envs/O/lib/python3.9/site-packages/pyod/models/base.py:412: UserWarning: y should not be presented in unsupervised learning.\n",
      "  warnings.warn(\n",
      "/home/ryan.zurrin001/miniconda3/envs/O/lib/python3.9/site-packages/pyod/models/base.py:412: UserWarning: y should not be presented in unsupervised learning.\n",
      "  warnings.warn(\n",
      "/home/ryan.zurrin001/miniconda3/envs/O/lib/python3.9/site-packages/sklearn/metrics/_ranking.py:1695: UndefinedMetricWarning: 'k' (2) greater than or equal to 'n_classes' (2) will result in a perfect score and is therefore meaningless.\n",
      "  warnings.warn(\n",
      "/home/ryan.zurrin001/miniconda3/envs/O/lib/python3.9/site-packages/pyod/models/base.py:412: UserWarning: y should not be presented in unsupervised learning.\n",
      "  warnings.warn(\n",
      "/home/ryan.zurrin001/miniconda3/envs/O/lib/python3.9/site-packages/sklearn/metrics/_ranking.py:1695: UndefinedMetricWarning: 'k' (2) greater than or equal to 'n_classes' (2) will result in a perfect score and is therefore meaningless.\n",
      "  warnings.warn(\n",
      "/home/ryan.zurrin001/miniconda3/envs/O/lib/python3.9/site-packages/sklearn/model_selection/_validation.py:696: UserWarning: Scoring failed. The score on this train-test partition for these parameters will be set to nan. Details: \n",
      "Traceback (most recent call last):\n",
      "  File \"/home/ryan.zurrin001/miniconda3/envs/O/lib/python3.9/site-packages/sklearn/model_selection/_validation.py\", line 687, in _score\n",
      "    scores = scorer(estimator, X_test, y_test)\n",
      "  File \"/home/ryan.zurrin001/miniconda3/envs/O/lib/python3.9/site-packages/sklearn/metrics/_scorer.py\", line 87, in __call__\n",
      "    score = scorer._score(cached_call, estimator,\n",
      "  File \"/home/ryan.zurrin001/miniconda3/envs/O/lib/python3.9/site-packages/sklearn/metrics/_scorer.py\", line 362, in _score\n",
      "    return self._sign * self._score_func(y, y_pred, **self._kwargs)\n",
      "  File \"/home/ryan.zurrin001/miniconda3/envs/O/lib/python3.9/site-packages/sklearn/metrics/_ranking.py\", line 1667, in top_k_accuracy_score\n",
      "    raise ValueError(\n",
      "ValueError: Number of classes in 'y_true' (1) not equal to the number of classes in 'y_score' (2).\n",
      "\n",
      "  warnings.warn(\n",
      "/home/ryan.zurrin001/miniconda3/envs/O/lib/python3.9/site-packages/sklearn/metrics/_ranking.py:1695: UndefinedMetricWarning: 'k' (2) greater than or equal to 'n_classes' (2) will result in a perfect score and is therefore meaningless.\n",
      "  warnings.warn(\n",
      "/home/ryan.zurrin001/miniconda3/envs/O/lib/python3.9/site-packages/sklearn/metrics/_ranking.py:1695: UndefinedMetricWarning: 'k' (2) greater than or equal to 'n_classes' (2) will result in a perfect score and is therefore meaningless.\n",
      "  warnings.warn(\n"
     ]
    },
    {
     "name": "stdout",
     "output_type": "stream",
     "text": [
      "\r",
      " 80%|██████████████████████████████████████████████████████████████████████████████████████████████████████████████████████████▍                              | 40/50 [00:04<00:00, 10.77trial/s, best loss=?]"
     ]
    },
    {
     "name": "stderr",
     "output_type": "stream",
     "text": [
      "/home/ryan.zurrin001/miniconda3/envs/O/lib/python3.9/site-packages/pyod/models/base.py:412: UserWarning: y should not be presented in unsupervised learning.\n",
      "  warnings.warn(\n",
      "/home/ryan.zurrin001/miniconda3/envs/O/lib/python3.9/site-packages/pyod/models/base.py:412: UserWarning: y should not be presented in unsupervised learning.\n",
      "  warnings.warn(\n",
      "/home/ryan.zurrin001/miniconda3/envs/O/lib/python3.9/site-packages/pyod/models/base.py:412: UserWarning: y should not be presented in unsupervised learning.\n",
      "  warnings.warn(\n",
      "/home/ryan.zurrin001/miniconda3/envs/O/lib/python3.9/site-packages/pyod/models/base.py:412: UserWarning: y should not be presented in unsupervised learning.\n",
      "  warnings.warn(\n",
      "/home/ryan.zurrin001/miniconda3/envs/O/lib/python3.9/site-packages/sklearn/metrics/_ranking.py:1695: UndefinedMetricWarning: 'k' (2) greater than or equal to 'n_classes' (2) will result in a perfect score and is therefore meaningless.\n",
      "  warnings.warn(\n",
      "/home/ryan.zurrin001/miniconda3/envs/O/lib/python3.9/site-packages/pyod/models/base.py:412: UserWarning: y should not be presented in unsupervised learning.\n",
      "  warnings.warn(\n",
      "/home/ryan.zurrin001/miniconda3/envs/O/lib/python3.9/site-packages/sklearn/metrics/_ranking.py:1695: UndefinedMetricWarning: 'k' (2) greater than or equal to 'n_classes' (2) will result in a perfect score and is therefore meaningless.\n",
      "  warnings.warn(\n",
      "/home/ryan.zurrin001/miniconda3/envs/O/lib/python3.9/site-packages/sklearn/model_selection/_validation.py:696: UserWarning: Scoring failed. The score on this train-test partition for these parameters will be set to nan. Details: \n",
      "Traceback (most recent call last):\n",
      "  File \"/home/ryan.zurrin001/miniconda3/envs/O/lib/python3.9/site-packages/sklearn/model_selection/_validation.py\", line 687, in _score\n",
      "    scores = scorer(estimator, X_test, y_test)\n",
      "  File \"/home/ryan.zurrin001/miniconda3/envs/O/lib/python3.9/site-packages/sklearn/metrics/_scorer.py\", line 87, in __call__\n",
      "    score = scorer._score(cached_call, estimator,\n",
      "  File \"/home/ryan.zurrin001/miniconda3/envs/O/lib/python3.9/site-packages/sklearn/metrics/_scorer.py\", line 362, in _score\n",
      "    return self._sign * self._score_func(y, y_pred, **self._kwargs)\n",
      "  File \"/home/ryan.zurrin001/miniconda3/envs/O/lib/python3.9/site-packages/sklearn/metrics/_ranking.py\", line 1667, in top_k_accuracy_score\n",
      "    raise ValueError(\n",
      "ValueError: Number of classes in 'y_true' (1) not equal to the number of classes in 'y_score' (2).\n",
      "\n",
      "  warnings.warn(\n",
      "/home/ryan.zurrin001/miniconda3/envs/O/lib/python3.9/site-packages/sklearn/metrics/_ranking.py:1695: UndefinedMetricWarning: 'k' (2) greater than or equal to 'n_classes' (2) will result in a perfect score and is therefore meaningless.\n",
      "  warnings.warn(\n",
      "/home/ryan.zurrin001/miniconda3/envs/O/lib/python3.9/site-packages/sklearn/metrics/_ranking.py:1695: UndefinedMetricWarning: 'k' (2) greater than or equal to 'n_classes' (2) will result in a perfect score and is therefore meaningless.\n",
      "  warnings.warn(\n",
      "/home/ryan.zurrin001/miniconda3/envs/O/lib/python3.9/site-packages/pyod/models/base.py:412: UserWarning: y should not be presented in unsupervised learning.\n",
      "  warnings.warn(\n",
      "/home/ryan.zurrin001/miniconda3/envs/O/lib/python3.9/site-packages/pyod/models/base.py:412: UserWarning: y should not be presented in unsupervised learning.\n",
      "  warnings.warn(\n",
      "/home/ryan.zurrin001/miniconda3/envs/O/lib/python3.9/site-packages/pyod/models/base.py:412: UserWarning: y should not be presented in unsupervised learning.\n",
      "  warnings.warn(\n",
      "/home/ryan.zurrin001/miniconda3/envs/O/lib/python3.9/site-packages/pyod/models/base.py:412: UserWarning: y should not be presented in unsupervised learning.\n",
      "  warnings.warn(\n",
      "/home/ryan.zurrin001/miniconda3/envs/O/lib/python3.9/site-packages/sklearn/metrics/_ranking.py:1695: UndefinedMetricWarning: 'k' (2) greater than or equal to 'n_classes' (2) will result in a perfect score and is therefore meaningless.\n",
      "  warnings.warn(\n",
      "/home/ryan.zurrin001/miniconda3/envs/O/lib/python3.9/site-packages/pyod/models/base.py:412: UserWarning: y should not be presented in unsupervised learning.\n",
      "  warnings.warn(\n",
      "/home/ryan.zurrin001/miniconda3/envs/O/lib/python3.9/site-packages/sklearn/metrics/_ranking.py:1695: UndefinedMetricWarning: 'k' (2) greater than or equal to 'n_classes' (2) will result in a perfect score and is therefore meaningless.\n",
      "  warnings.warn(\n",
      "/home/ryan.zurrin001/miniconda3/envs/O/lib/python3.9/site-packages/sklearn/model_selection/_validation.py:696: UserWarning: Scoring failed. The score on this train-test partition for these parameters will be set to nan. Details: \n",
      "Traceback (most recent call last):\n",
      "  File \"/home/ryan.zurrin001/miniconda3/envs/O/lib/python3.9/site-packages/sklearn/model_selection/_validation.py\", line 687, in _score\n",
      "    scores = scorer(estimator, X_test, y_test)\n",
      "  File \"/home/ryan.zurrin001/miniconda3/envs/O/lib/python3.9/site-packages/sklearn/metrics/_scorer.py\", line 87, in __call__\n",
      "    score = scorer._score(cached_call, estimator,\n",
      "  File \"/home/ryan.zurrin001/miniconda3/envs/O/lib/python3.9/site-packages/sklearn/metrics/_scorer.py\", line 362, in _score\n",
      "    return self._sign * self._score_func(y, y_pred, **self._kwargs)\n",
      "  File \"/home/ryan.zurrin001/miniconda3/envs/O/lib/python3.9/site-packages/sklearn/metrics/_ranking.py\", line 1667, in top_k_accuracy_score\n",
      "    raise ValueError(\n",
      "ValueError: Number of classes in 'y_true' (1) not equal to the number of classes in 'y_score' (2).\n",
      "\n",
      "  warnings.warn(\n",
      "/home/ryan.zurrin001/miniconda3/envs/O/lib/python3.9/site-packages/sklearn/metrics/_ranking.py:1695: UndefinedMetricWarning: 'k' (2) greater than or equal to 'n_classes' (2) will result in a perfect score and is therefore meaningless.\n",
      "  warnings.warn(\n",
      "/home/ryan.zurrin001/miniconda3/envs/O/lib/python3.9/site-packages/sklearn/metrics/_ranking.py:1695: UndefinedMetricWarning: 'k' (2) greater than or equal to 'n_classes' (2) will result in a perfect score and is therefore meaningless.\n",
      "  warnings.warn(\n",
      "/home/ryan.zurrin001/miniconda3/envs/O/lib/python3.9/site-packages/pyod/models/base.py:412: UserWarning: y should not be presented in unsupervised learning.\n",
      "  warnings.warn(\n",
      "/home/ryan.zurrin001/miniconda3/envs/O/lib/python3.9/site-packages/pyod/models/base.py:412: UserWarning: y should not be presented in unsupervised learning.\n",
      "  warnings.warn(\n",
      "/home/ryan.zurrin001/miniconda3/envs/O/lib/python3.9/site-packages/pyod/models/base.py:412: UserWarning: y should not be presented in unsupervised learning.\n",
      "  warnings.warn(\n",
      "/home/ryan.zurrin001/miniconda3/envs/O/lib/python3.9/site-packages/pyod/models/base.py:412: UserWarning: y should not be presented in unsupervised learning.\n",
      "  warnings.warn(\n",
      "/home/ryan.zurrin001/miniconda3/envs/O/lib/python3.9/site-packages/sklearn/metrics/_ranking.py:1695: UndefinedMetricWarning: 'k' (2) greater than or equal to 'n_classes' (2) will result in a perfect score and is therefore meaningless.\n",
      "  warnings.warn(\n",
      "/home/ryan.zurrin001/miniconda3/envs/O/lib/python3.9/site-packages/pyod/models/base.py:412: UserWarning: y should not be presented in unsupervised learning.\n",
      "  warnings.warn(\n",
      "/home/ryan.zurrin001/miniconda3/envs/O/lib/python3.9/site-packages/sklearn/model_selection/_validation.py:696: UserWarning: Scoring failed. The score on this train-test partition for these parameters will be set to nan. Details: \n",
      "Traceback (most recent call last):\n",
      "  File \"/home/ryan.zurrin001/miniconda3/envs/O/lib/python3.9/site-packages/sklearn/model_selection/_validation.py\", line 687, in _score\n",
      "    scores = scorer(estimator, X_test, y_test)\n",
      "  File \"/home/ryan.zurrin001/miniconda3/envs/O/lib/python3.9/site-packages/sklearn/metrics/_scorer.py\", line 87, in __call__\n",
      "    score = scorer._score(cached_call, estimator,\n",
      "  File \"/home/ryan.zurrin001/miniconda3/envs/O/lib/python3.9/site-packages/sklearn/metrics/_scorer.py\", line 362, in _score\n",
      "    return self._sign * self._score_func(y, y_pred, **self._kwargs)\n",
      "  File \"/home/ryan.zurrin001/miniconda3/envs/O/lib/python3.9/site-packages/sklearn/metrics/_ranking.py\", line 1667, in top_k_accuracy_score\n",
      "    raise ValueError(\n",
      "ValueError: Number of classes in 'y_true' (1) not equal to the number of classes in 'y_score' (2).\n",
      "\n",
      "  warnings.warn(\n",
      "/home/ryan.zurrin001/miniconda3/envs/O/lib/python3.9/site-packages/sklearn/metrics/_ranking.py:1695: UndefinedMetricWarning: 'k' (2) greater than or equal to 'n_classes' (2) will result in a perfect score and is therefore meaningless.\n",
      "  warnings.warn(\n",
      "/home/ryan.zurrin001/miniconda3/envs/O/lib/python3.9/site-packages/sklearn/metrics/_ranking.py:1695: UndefinedMetricWarning: 'k' (2) greater than or equal to 'n_classes' (2) will result in a perfect score and is therefore meaningless.\n",
      "  warnings.warn(\n",
      "/home/ryan.zurrin001/miniconda3/envs/O/lib/python3.9/site-packages/sklearn/metrics/_ranking.py:1695: UndefinedMetricWarning: 'k' (2) greater than or equal to 'n_classes' (2) will result in a perfect score and is therefore meaningless.\n",
      "  warnings.warn(\n"
     ]
    },
    {
     "name": "stdout",
     "output_type": "stream",
     "text": [
      "\r",
      " 84%|████████████████████████████████████████████████████████████████████████████████████████████████████████████████████████████████▌                        | 42/50 [00:04<00:00, 11.41trial/s, best loss=?]"
     ]
    },
    {
     "name": "stderr",
     "output_type": "stream",
     "text": [
      "/home/ryan.zurrin001/miniconda3/envs/O/lib/python3.9/site-packages/pyod/models/base.py:412: UserWarning: y should not be presented in unsupervised learning.\n",
      "  warnings.warn(\n",
      "/home/ryan.zurrin001/miniconda3/envs/O/lib/python3.9/site-packages/pyod/models/base.py:412: UserWarning: y should not be presented in unsupervised learning.\n",
      "  warnings.warn(\n",
      "/home/ryan.zurrin001/miniconda3/envs/O/lib/python3.9/site-packages/pyod/models/base.py:412: UserWarning: y should not be presented in unsupervised learning.\n",
      "  warnings.warn(\n",
      "/home/ryan.zurrin001/miniconda3/envs/O/lib/python3.9/site-packages/pyod/models/base.py:412: UserWarning: y should not be presented in unsupervised learning.\n",
      "  warnings.warn(\n",
      "/home/ryan.zurrin001/miniconda3/envs/O/lib/python3.9/site-packages/sklearn/metrics/_ranking.py:1695: UndefinedMetricWarning: 'k' (2) greater than or equal to 'n_classes' (2) will result in a perfect score and is therefore meaningless.\n",
      "  warnings.warn(\n",
      "/home/ryan.zurrin001/miniconda3/envs/O/lib/python3.9/site-packages/pyod/models/base.py:412: UserWarning: y should not be presented in unsupervised learning.\n",
      "  warnings.warn(\n",
      "/home/ryan.zurrin001/miniconda3/envs/O/lib/python3.9/site-packages/sklearn/model_selection/_validation.py:696: UserWarning: Scoring failed. The score on this train-test partition for these parameters will be set to nan. Details: \n",
      "Traceback (most recent call last):\n",
      "  File \"/home/ryan.zurrin001/miniconda3/envs/O/lib/python3.9/site-packages/sklearn/model_selection/_validation.py\", line 687, in _score\n",
      "    scores = scorer(estimator, X_test, y_test)\n",
      "  File \"/home/ryan.zurrin001/miniconda3/envs/O/lib/python3.9/site-packages/sklearn/metrics/_scorer.py\", line 87, in __call__\n",
      "    score = scorer._score(cached_call, estimator,\n",
      "  File \"/home/ryan.zurrin001/miniconda3/envs/O/lib/python3.9/site-packages/sklearn/metrics/_scorer.py\", line 362, in _score\n",
      "    return self._sign * self._score_func(y, y_pred, **self._kwargs)\n",
      "  File \"/home/ryan.zurrin001/miniconda3/envs/O/lib/python3.9/site-packages/sklearn/metrics/_ranking.py\", line 1667, in top_k_accuracy_score\n",
      "    raise ValueError(\n",
      "ValueError: Number of classes in 'y_true' (1) not equal to the number of classes in 'y_score' (2).\n",
      "\n",
      "  warnings.warn(\n",
      "/home/ryan.zurrin001/miniconda3/envs/O/lib/python3.9/site-packages/sklearn/metrics/_ranking.py:1695: UndefinedMetricWarning: 'k' (2) greater than or equal to 'n_classes' (2) will result in a perfect score and is therefore meaningless.\n",
      "  warnings.warn(\n",
      "/home/ryan.zurrin001/miniconda3/envs/O/lib/python3.9/site-packages/sklearn/metrics/_ranking.py:1695: UndefinedMetricWarning: 'k' (2) greater than or equal to 'n_classes' (2) will result in a perfect score and is therefore meaningless.\n",
      "  warnings.warn(\n",
      "/home/ryan.zurrin001/miniconda3/envs/O/lib/python3.9/site-packages/sklearn/metrics/_ranking.py:1695: UndefinedMetricWarning: 'k' (2) greater than or equal to 'n_classes' (2) will result in a perfect score and is therefore meaningless.\n",
      "  warnings.warn(\n",
      "/home/ryan.zurrin001/miniconda3/envs/O/lib/python3.9/site-packages/pyod/models/base.py:412: UserWarning: y should not be presented in unsupervised learning.\n",
      "  warnings.warn(\n",
      "/home/ryan.zurrin001/miniconda3/envs/O/lib/python3.9/site-packages/pyod/models/base.py:412: UserWarning: y should not be presented in unsupervised learning.\n",
      "  warnings.warn(\n",
      "/home/ryan.zurrin001/miniconda3/envs/O/lib/python3.9/site-packages/pyod/models/base.py:412: UserWarning: y should not be presented in unsupervised learning.\n",
      "  warnings.warn(\n",
      "/home/ryan.zurrin001/miniconda3/envs/O/lib/python3.9/site-packages/pyod/models/base.py:412: UserWarning: y should not be presented in unsupervised learning.\n",
      "  warnings.warn(\n",
      "/home/ryan.zurrin001/miniconda3/envs/O/lib/python3.9/site-packages/sklearn/metrics/_ranking.py:1695: UndefinedMetricWarning: 'k' (2) greater than or equal to 'n_classes' (2) will result in a perfect score and is therefore meaningless.\n",
      "  warnings.warn(\n",
      "/home/ryan.zurrin001/miniconda3/envs/O/lib/python3.9/site-packages/pyod/models/base.py:412: UserWarning: y should not be presented in unsupervised learning.\n",
      "  warnings.warn(\n",
      "/home/ryan.zurrin001/miniconda3/envs/O/lib/python3.9/site-packages/sklearn/metrics/_ranking.py:1695: UndefinedMetricWarning: 'k' (2) greater than or equal to 'n_classes' (2) will result in a perfect score and is therefore meaningless.\n",
      "  warnings.warn(\n",
      "/home/ryan.zurrin001/miniconda3/envs/O/lib/python3.9/site-packages/sklearn/metrics/_ranking.py:1695: UndefinedMetricWarning: 'k' (2) greater than or equal to 'n_classes' (2) will result in a perfect score and is therefore meaningless.\n",
      "  warnings.warn(\n",
      "/home/ryan.zurrin001/miniconda3/envs/O/lib/python3.9/site-packages/sklearn/model_selection/_validation.py:696: UserWarning: Scoring failed. The score on this train-test partition for these parameters will be set to nan. Details: \n",
      "Traceback (most recent call last):\n",
      "  File \"/home/ryan.zurrin001/miniconda3/envs/O/lib/python3.9/site-packages/sklearn/model_selection/_validation.py\", line 687, in _score\n",
      "    scores = scorer(estimator, X_test, y_test)\n",
      "  File \"/home/ryan.zurrin001/miniconda3/envs/O/lib/python3.9/site-packages/sklearn/metrics/_scorer.py\", line 87, in __call__\n",
      "    score = scorer._score(cached_call, estimator,\n",
      "  File \"/home/ryan.zurrin001/miniconda3/envs/O/lib/python3.9/site-packages/sklearn/metrics/_scorer.py\", line 362, in _score\n",
      "    return self._sign * self._score_func(y, y_pred, **self._kwargs)\n",
      "  File \"/home/ryan.zurrin001/miniconda3/envs/O/lib/python3.9/site-packages/sklearn/metrics/_ranking.py\", line 1667, in top_k_accuracy_score\n",
      "    raise ValueError(\n",
      "ValueError: Number of classes in 'y_true' (1) not equal to the number of classes in 'y_score' (2).\n",
      "\n",
      "  warnings.warn(\n",
      "/home/ryan.zurrin001/miniconda3/envs/O/lib/python3.9/site-packages/sklearn/metrics/_ranking.py:1695: UndefinedMetricWarning: 'k' (2) greater than or equal to 'n_classes' (2) will result in a perfect score and is therefore meaningless.\n",
      "  warnings.warn(\n",
      "/home/ryan.zurrin001/miniconda3/envs/O/lib/python3.9/site-packages/pyod/models/base.py:412: UserWarning: y should not be presented in unsupervised learning.\n",
      "  warnings.warn(\n",
      "/home/ryan.zurrin001/miniconda3/envs/O/lib/python3.9/site-packages/pyod/models/base.py:412: UserWarning: y should not be presented in unsupervised learning.\n",
      "  warnings.warn(\n",
      "/home/ryan.zurrin001/miniconda3/envs/O/lib/python3.9/site-packages/pyod/models/base.py:412: UserWarning: y should not be presented in unsupervised learning.\n",
      "  warnings.warn(\n",
      "/home/ryan.zurrin001/miniconda3/envs/O/lib/python3.9/site-packages/pyod/models/base.py:412: UserWarning: y should not be presented in unsupervised learning.\n",
      "  warnings.warn(\n",
      "/home/ryan.zurrin001/miniconda3/envs/O/lib/python3.9/site-packages/sklearn/metrics/_ranking.py:1695: UndefinedMetricWarning: 'k' (2) greater than or equal to 'n_classes' (2) will result in a perfect score and is therefore meaningless.\n",
      "  warnings.warn(\n",
      "/home/ryan.zurrin001/miniconda3/envs/O/lib/python3.9/site-packages/pyod/models/base.py:412: UserWarning: y should not be presented in unsupervised learning.\n",
      "  warnings.warn(\n",
      "/home/ryan.zurrin001/miniconda3/envs/O/lib/python3.9/site-packages/sklearn/model_selection/_validation.py:696: UserWarning: Scoring failed. The score on this train-test partition for these parameters will be set to nan. Details: \n",
      "Traceback (most recent call last):\n",
      "  File \"/home/ryan.zurrin001/miniconda3/envs/O/lib/python3.9/site-packages/sklearn/model_selection/_validation.py\", line 687, in _score\n",
      "    scores = scorer(estimator, X_test, y_test)\n",
      "  File \"/home/ryan.zurrin001/miniconda3/envs/O/lib/python3.9/site-packages/sklearn/metrics/_scorer.py\", line 87, in __call__\n",
      "    score = scorer._score(cached_call, estimator,\n",
      "  File \"/home/ryan.zurrin001/miniconda3/envs/O/lib/python3.9/site-packages/sklearn/metrics/_scorer.py\", line 362, in _score\n",
      "    return self._sign * self._score_func(y, y_pred, **self._kwargs)\n",
      "  File \"/home/ryan.zurrin001/miniconda3/envs/O/lib/python3.9/site-packages/sklearn/metrics/_ranking.py\", line 1667, in top_k_accuracy_score\n",
      "    raise ValueError(\n",
      "ValueError: Number of classes in 'y_true' (1) not equal to the number of classes in 'y_score' (2).\n",
      "\n",
      "  warnings.warn(\n",
      "/home/ryan.zurrin001/miniconda3/envs/O/lib/python3.9/site-packages/sklearn/metrics/_ranking.py:1695: UndefinedMetricWarning: 'k' (2) greater than or equal to 'n_classes' (2) will result in a perfect score and is therefore meaningless.\n",
      "  warnings.warn(\n",
      "/home/ryan.zurrin001/miniconda3/envs/O/lib/python3.9/site-packages/sklearn/metrics/_ranking.py:1695: UndefinedMetricWarning: 'k' (2) greater than or equal to 'n_classes' (2) will result in a perfect score and is therefore meaningless.\n",
      "  warnings.warn(\n"
     ]
    },
    {
     "name": "stdout",
     "output_type": "stream",
     "text": [
      " 92%|████████████████████████████████████████████████████████████████████████████████████████████████████████████████████████████████████████████▊            | 46/50 [00:04<00:00, 11.54trial/s, best loss=?]"
     ]
    },
    {
     "name": "stderr",
     "output_type": "stream",
     "text": [
      "/home/ryan.zurrin001/miniconda3/envs/O/lib/python3.9/site-packages/sklearn/metrics/_ranking.py:1695: UndefinedMetricWarning: 'k' (2) greater than or equal to 'n_classes' (2) will result in a perfect score and is therefore meaningless.\n",
      "  warnings.warn(\n",
      "/home/ryan.zurrin001/miniconda3/envs/O/lib/python3.9/site-packages/pyod/models/base.py:412: UserWarning: y should not be presented in unsupervised learning.\n",
      "  warnings.warn(\n",
      "/home/ryan.zurrin001/miniconda3/envs/O/lib/python3.9/site-packages/pyod/models/base.py:412: UserWarning: y should not be presented in unsupervised learning.\n",
      "  warnings.warn(\n",
      "/home/ryan.zurrin001/miniconda3/envs/O/lib/python3.9/site-packages/pyod/models/base.py:412: UserWarning: y should not be presented in unsupervised learning.\n",
      "  warnings.warn(\n",
      "/home/ryan.zurrin001/miniconda3/envs/O/lib/python3.9/site-packages/pyod/models/base.py:412: UserWarning: y should not be presented in unsupervised learning.\n",
      "  warnings.warn(\n",
      "/home/ryan.zurrin001/miniconda3/envs/O/lib/python3.9/site-packages/sklearn/metrics/_ranking.py:1695: UndefinedMetricWarning: 'k' (2) greater than or equal to 'n_classes' (2) will result in a perfect score and is therefore meaningless.\n",
      "  warnings.warn(\n",
      "/home/ryan.zurrin001/miniconda3/envs/O/lib/python3.9/site-packages/pyod/models/base.py:412: UserWarning: y should not be presented in unsupervised learning.\n",
      "  warnings.warn(\n",
      "/home/ryan.zurrin001/miniconda3/envs/O/lib/python3.9/site-packages/sklearn/model_selection/_validation.py:696: UserWarning: Scoring failed. The score on this train-test partition for these parameters will be set to nan. Details: \n",
      "Traceback (most recent call last):\n",
      "  File \"/home/ryan.zurrin001/miniconda3/envs/O/lib/python3.9/site-packages/sklearn/model_selection/_validation.py\", line 687, in _score\n",
      "    scores = scorer(estimator, X_test, y_test)\n",
      "  File \"/home/ryan.zurrin001/miniconda3/envs/O/lib/python3.9/site-packages/sklearn/metrics/_scorer.py\", line 87, in __call__\n",
      "    score = scorer._score(cached_call, estimator,\n",
      "  File \"/home/ryan.zurrin001/miniconda3/envs/O/lib/python3.9/site-packages/sklearn/metrics/_scorer.py\", line 362, in _score\n",
      "    return self._sign * self._score_func(y, y_pred, **self._kwargs)\n",
      "  File \"/home/ryan.zurrin001/miniconda3/envs/O/lib/python3.9/site-packages/sklearn/metrics/_ranking.py\", line 1667, in top_k_accuracy_score\n",
      "    raise ValueError(\n",
      "ValueError: Number of classes in 'y_true' (1) not equal to the number of classes in 'y_score' (2).\n",
      "\n",
      "  warnings.warn(\n",
      "/home/ryan.zurrin001/miniconda3/envs/O/lib/python3.9/site-packages/sklearn/metrics/_ranking.py:1695: UndefinedMetricWarning: 'k' (2) greater than or equal to 'n_classes' (2) will result in a perfect score and is therefore meaningless.\n",
      "  warnings.warn(\n",
      "/home/ryan.zurrin001/miniconda3/envs/O/lib/python3.9/site-packages/sklearn/metrics/_ranking.py:1695: UndefinedMetricWarning: 'k' (2) greater than or equal to 'n_classes' (2) will result in a perfect score and is therefore meaningless.\n",
      "  warnings.warn(\n",
      "/home/ryan.zurrin001/miniconda3/envs/O/lib/python3.9/site-packages/sklearn/metrics/_ranking.py:1695: UndefinedMetricWarning: 'k' (2) greater than or equal to 'n_classes' (2) will result in a perfect score and is therefore meaningless.\n",
      "  warnings.warn(\n",
      "/home/ryan.zurrin001/miniconda3/envs/O/lib/python3.9/site-packages/pyod/models/base.py:412: UserWarning: y should not be presented in unsupervised learning.\n",
      "  warnings.warn(\n",
      "/home/ryan.zurrin001/miniconda3/envs/O/lib/python3.9/site-packages/pyod/models/base.py:412: UserWarning: y should not be presented in unsupervised learning.\n",
      "  warnings.warn(\n",
      "/home/ryan.zurrin001/miniconda3/envs/O/lib/python3.9/site-packages/pyod/models/base.py:412: UserWarning: y should not be presented in unsupervised learning.\n",
      "  warnings.warn(\n",
      "/home/ryan.zurrin001/miniconda3/envs/O/lib/python3.9/site-packages/pyod/models/base.py:412: UserWarning: y should not be presented in unsupervised learning.\n",
      "  warnings.warn(\n",
      "/home/ryan.zurrin001/miniconda3/envs/O/lib/python3.9/site-packages/sklearn/metrics/_ranking.py:1695: UndefinedMetricWarning: 'k' (2) greater than or equal to 'n_classes' (2) will result in a perfect score and is therefore meaningless.\n",
      "  warnings.warn(\n",
      "/home/ryan.zurrin001/miniconda3/envs/O/lib/python3.9/site-packages/pyod/models/base.py:412: UserWarning: y should not be presented in unsupervised learning.\n",
      "  warnings.warn(\n",
      "/home/ryan.zurrin001/miniconda3/envs/O/lib/python3.9/site-packages/sklearn/model_selection/_validation.py:696: UserWarning: Scoring failed. The score on this train-test partition for these parameters will be set to nan. Details: \n",
      "Traceback (most recent call last):\n",
      "  File \"/home/ryan.zurrin001/miniconda3/envs/O/lib/python3.9/site-packages/sklearn/model_selection/_validation.py\", line 687, in _score\n",
      "    scores = scorer(estimator, X_test, y_test)\n",
      "  File \"/home/ryan.zurrin001/miniconda3/envs/O/lib/python3.9/site-packages/sklearn/metrics/_scorer.py\", line 87, in __call__\n",
      "    score = scorer._score(cached_call, estimator,\n",
      "  File \"/home/ryan.zurrin001/miniconda3/envs/O/lib/python3.9/site-packages/sklearn/metrics/_scorer.py\", line 362, in _score\n",
      "    return self._sign * self._score_func(y, y_pred, **self._kwargs)\n",
      "  File \"/home/ryan.zurrin001/miniconda3/envs/O/lib/python3.9/site-packages/sklearn/metrics/_ranking.py\", line 1667, in top_k_accuracy_score\n",
      "    raise ValueError(\n",
      "ValueError: Number of classes in 'y_true' (1) not equal to the number of classes in 'y_score' (2).\n",
      "\n",
      "  warnings.warn(\n",
      "/home/ryan.zurrin001/miniconda3/envs/O/lib/python3.9/site-packages/sklearn/metrics/_ranking.py:1695: UndefinedMetricWarning: 'k' (2) greater than or equal to 'n_classes' (2) will result in a perfect score and is therefore meaningless.\n",
      "  warnings.warn(\n",
      "/home/ryan.zurrin001/miniconda3/envs/O/lib/python3.9/site-packages/sklearn/metrics/_ranking.py:1695: UndefinedMetricWarning: 'k' (2) greater than or equal to 'n_classes' (2) will result in a perfect score and is therefore meaningless.\n",
      "  warnings.warn(\n",
      "/home/ryan.zurrin001/miniconda3/envs/O/lib/python3.9/site-packages/sklearn/metrics/_ranking.py:1695: UndefinedMetricWarning: 'k' (2) greater than or equal to 'n_classes' (2) will result in a perfect score and is therefore meaningless.\n",
      "  warnings.warn(\n",
      "/home/ryan.zurrin001/miniconda3/envs/O/lib/python3.9/site-packages/pyod/models/base.py:412: UserWarning: y should not be presented in unsupervised learning.\n",
      "  warnings.warn(\n",
      "/home/ryan.zurrin001/miniconda3/envs/O/lib/python3.9/site-packages/sklearn/metrics/_ranking.py:1695: UndefinedMetricWarning: 'k' (2) greater than or equal to 'n_classes' (2) will result in a perfect score and is therefore meaningless.\n",
      "  warnings.warn(\n",
      "/home/ryan.zurrin001/miniconda3/envs/O/lib/python3.9/site-packages/pyod/models/base.py:412: UserWarning: y should not be presented in unsupervised learning.\n",
      "  warnings.warn(\n",
      "/home/ryan.zurrin001/miniconda3/envs/O/lib/python3.9/site-packages/pyod/models/base.py:412: UserWarning: y should not be presented in unsupervised learning.\n",
      "  warnings.warn(\n",
      "/home/ryan.zurrin001/miniconda3/envs/O/lib/python3.9/site-packages/pyod/models/base.py:412: UserWarning: y should not be presented in unsupervised learning.\n",
      "  warnings.warn(\n",
      "/home/ryan.zurrin001/miniconda3/envs/O/lib/python3.9/site-packages/sklearn/metrics/_ranking.py:1695: UndefinedMetricWarning: 'k' (2) greater than or equal to 'n_classes' (2) will result in a perfect score and is therefore meaningless.\n",
      "  warnings.warn(\n",
      "/home/ryan.zurrin001/miniconda3/envs/O/lib/python3.9/site-packages/sklearn/metrics/_ranking.py:1695: UndefinedMetricWarning: 'k' (2) greater than or equal to 'n_classes' (2) will result in a perfect score and is therefore meaningless.\n",
      "  warnings.warn(\n",
      "/home/ryan.zurrin001/miniconda3/envs/O/lib/python3.9/site-packages/sklearn/model_selection/_validation.py:696: UserWarning: Scoring failed. The score on this train-test partition for these parameters will be set to nan. Details: \n",
      "Traceback (most recent call last):\n",
      "  File \"/home/ryan.zurrin001/miniconda3/envs/O/lib/python3.9/site-packages/sklearn/model_selection/_validation.py\", line 687, in _score\n",
      "    scores = scorer(estimator, X_test, y_test)\n",
      "  File \"/home/ryan.zurrin001/miniconda3/envs/O/lib/python3.9/site-packages/sklearn/metrics/_scorer.py\", line 87, in __call__\n",
      "    score = scorer._score(cached_call, estimator,\n",
      "  File \"/home/ryan.zurrin001/miniconda3/envs/O/lib/python3.9/site-packages/sklearn/metrics/_scorer.py\", line 362, in _score\n",
      "    return self._sign * self._score_func(y, y_pred, **self._kwargs)\n",
      "  File \"/home/ryan.zurrin001/miniconda3/envs/O/lib/python3.9/site-packages/sklearn/metrics/_ranking.py\", line 1667, in top_k_accuracy_score\n",
      "    raise ValueError(\n",
      "ValueError: Number of classes in 'y_true' (1) not equal to the number of classes in 'y_score' (2).\n",
      "\n",
      "  warnings.warn(\n",
      "/home/ryan.zurrin001/miniconda3/envs/O/lib/python3.9/site-packages/pyod/models/base.py:412: UserWarning: y should not be presented in unsupervised learning.\n",
      "  warnings.warn(\n",
      "/home/ryan.zurrin001/miniconda3/envs/O/lib/python3.9/site-packages/sklearn/metrics/_ranking.py:1695: UndefinedMetricWarning: 'k' (2) greater than or equal to 'n_classes' (2) will result in a perfect score and is therefore meaningless.\n",
      "  warnings.warn(\n",
      "/home/ryan.zurrin001/miniconda3/envs/O/lib/python3.9/site-packages/pyod/models/base.py:412: UserWarning: y should not be presented in unsupervised learning.\n",
      "  warnings.warn(\n",
      "/home/ryan.zurrin001/miniconda3/envs/O/lib/python3.9/site-packages/pyod/models/base.py:412: UserWarning: y should not be presented in unsupervised learning.\n",
      "  warnings.warn(\n",
      "/home/ryan.zurrin001/miniconda3/envs/O/lib/python3.9/site-packages/pyod/models/base.py:412: UserWarning: y should not be presented in unsupervised learning.\n",
      "  warnings.warn(\n",
      "/home/ryan.zurrin001/miniconda3/envs/O/lib/python3.9/site-packages/pyod/models/base.py:412: UserWarning: y should not be presented in unsupervised learning.\n",
      "  warnings.warn(\n",
      "/home/ryan.zurrin001/miniconda3/envs/O/lib/python3.9/site-packages/sklearn/metrics/_ranking.py:1695: UndefinedMetricWarning: 'k' (2) greater than or equal to 'n_classes' (2) will result in a perfect score and is therefore meaningless.\n",
      "  warnings.warn(\n",
      "/home/ryan.zurrin001/miniconda3/envs/O/lib/python3.9/site-packages/pyod/models/base.py:412: UserWarning: y should not be presented in unsupervised learning.\n",
      "  warnings.warn(\n"
     ]
    },
    {
     "name": "stdout",
     "output_type": "stream",
     "text": [
      "100%|█████████████████████████████████████████████████████████████████████████████████████████████████████████████████████████████████████████████████████████| 50/50 [00:05<00:00,  9.94trial/s, best loss=?]\n"
     ]
    },
    {
     "name": "stderr",
     "output_type": "stream",
     "text": [
      "/home/ryan.zurrin001/miniconda3/envs/O/lib/python3.9/site-packages/sklearn/model_selection/_validation.py:696: UserWarning: Scoring failed. The score on this train-test partition for these parameters will be set to nan. Details: \n",
      "Traceback (most recent call last):\n",
      "  File \"/home/ryan.zurrin001/miniconda3/envs/O/lib/python3.9/site-packages/sklearn/model_selection/_validation.py\", line 687, in _score\n",
      "    scores = scorer(estimator, X_test, y_test)\n",
      "  File \"/home/ryan.zurrin001/miniconda3/envs/O/lib/python3.9/site-packages/sklearn/metrics/_scorer.py\", line 87, in __call__\n",
      "    score = scorer._score(cached_call, estimator,\n",
      "  File \"/home/ryan.zurrin001/miniconda3/envs/O/lib/python3.9/site-packages/sklearn/metrics/_scorer.py\", line 362, in _score\n",
      "    return self._sign * self._score_func(y, y_pred, **self._kwargs)\n",
      "  File \"/home/ryan.zurrin001/miniconda3/envs/O/lib/python3.9/site-packages/sklearn/metrics/_ranking.py\", line 1667, in top_k_accuracy_score\n",
      "    raise ValueError(\n",
      "ValueError: Number of classes in 'y_true' (1) not equal to the number of classes in 'y_score' (2).\n",
      "\n",
      "  warnings.warn(\n",
      "/home/ryan.zurrin001/miniconda3/envs/O/lib/python3.9/site-packages/sklearn/metrics/_ranking.py:1695: UndefinedMetricWarning: 'k' (2) greater than or equal to 'n_classes' (2) will result in a perfect score and is therefore meaningless.\n",
      "  warnings.warn(\n",
      "/home/ryan.zurrin001/miniconda3/envs/O/lib/python3.9/site-packages/sklearn/metrics/_ranking.py:1695: UndefinedMetricWarning: 'k' (2) greater than or equal to 'n_classes' (2) will result in a perfect score and is therefore meaningless.\n",
      "  warnings.warn(\n",
      "/home/ryan.zurrin001/miniconda3/envs/O/lib/python3.9/site-packages/sklearn/metrics/_ranking.py:1695: UndefinedMetricWarning: 'k' (2) greater than or equal to 'n_classes' (2) will result in a perfect score and is therefore meaningless.\n",
      "  warnings.warn(\n",
      "/home/ryan.zurrin001/miniconda3/envs/O/lib/python3.9/site-packages/pyod/models/base.py:412: UserWarning: y should not be presented in unsupervised learning.\n",
      "  warnings.warn(\n",
      "/home/ryan.zurrin001/miniconda3/envs/O/lib/python3.9/site-packages/sklearn/metrics/_ranking.py:1695: UndefinedMetricWarning: 'k' (2) greater than or equal to 'n_classes' (2) will result in a perfect score and is therefore meaningless.\n",
      "  warnings.warn(\n",
      "/home/ryan.zurrin001/miniconda3/envs/O/lib/python3.9/site-packages/pyod/models/base.py:412: UserWarning: y should not be presented in unsupervised learning.\n",
      "  warnings.warn(\n",
      "/home/ryan.zurrin001/miniconda3/envs/O/lib/python3.9/site-packages/sklearn/metrics/_ranking.py:1695: UndefinedMetricWarning: 'k' (2) greater than or equal to 'n_classes' (2) will result in a perfect score and is therefore meaningless.\n",
      "  warnings.warn(\n",
      "/home/ryan.zurrin001/miniconda3/envs/O/lib/python3.9/site-packages/pyod/models/base.py:412: UserWarning: y should not be presented in unsupervised learning.\n",
      "  warnings.warn(\n",
      "/home/ryan.zurrin001/miniconda3/envs/O/lib/python3.9/site-packages/sklearn/model_selection/_validation.py:696: UserWarning: Scoring failed. The score on this train-test partition for these parameters will be set to nan. Details: \n",
      "Traceback (most recent call last):\n",
      "  File \"/home/ryan.zurrin001/miniconda3/envs/O/lib/python3.9/site-packages/sklearn/model_selection/_validation.py\", line 687, in _score\n",
      "    scores = scorer(estimator, X_test, y_test)\n",
      "  File \"/home/ryan.zurrin001/miniconda3/envs/O/lib/python3.9/site-packages/sklearn/metrics/_scorer.py\", line 87, in __call__\n",
      "    score = scorer._score(cached_call, estimator,\n",
      "  File \"/home/ryan.zurrin001/miniconda3/envs/O/lib/python3.9/site-packages/sklearn/metrics/_scorer.py\", line 362, in _score\n",
      "    return self._sign * self._score_func(y, y_pred, **self._kwargs)\n",
      "  File \"/home/ryan.zurrin001/miniconda3/envs/O/lib/python3.9/site-packages/sklearn/metrics/_ranking.py\", line 1667, in top_k_accuracy_score\n",
      "    raise ValueError(\n",
      "ValueError: Number of classes in 'y_true' (1) not equal to the number of classes in 'y_score' (2).\n",
      "\n",
      "  warnings.warn(\n",
      "/home/ryan.zurrin001/miniconda3/envs/O/lib/python3.9/site-packages/pyod/models/base.py:412: UserWarning: y should not be presented in unsupervised learning.\n",
      "  warnings.warn(\n",
      "/home/ryan.zurrin001/miniconda3/envs/O/lib/python3.9/site-packages/sklearn/metrics/_ranking.py:1695: UndefinedMetricWarning: 'k' (2) greater than or equal to 'n_classes' (2) will result in a perfect score and is therefore meaningless.\n",
      "  warnings.warn(\n",
      "/home/ryan.zurrin001/miniconda3/envs/O/lib/python3.9/site-packages/pyod/models/base.py:412: UserWarning: y should not be presented in unsupervised learning.\n",
      "  warnings.warn(\n",
      "/home/ryan.zurrin001/miniconda3/envs/O/lib/python3.9/site-packages/sklearn/metrics/_ranking.py:1695: UndefinedMetricWarning: 'k' (2) greater than or equal to 'n_classes' (2) will result in a perfect score and is therefore meaningless.\n",
      "  warnings.warn(\n",
      "/home/ryan.zurrin001/miniconda3/envs/O/lib/python3.9/site-packages/pyod/models/base.py:412: UserWarning: y should not be presented in unsupervised learning.\n",
      "  warnings.warn(\n",
      "/home/ryan.zurrin001/miniconda3/envs/O/lib/python3.9/site-packages/pyod/models/base.py:412: UserWarning: y should not be presented in unsupervised learning.\n",
      "  warnings.warn(\n",
      "/home/ryan.zurrin001/miniconda3/envs/O/lib/python3.9/site-packages/pyod/models/base.py:412: UserWarning: y should not be presented in unsupervised learning.\n",
      "  warnings.warn(\n",
      "/home/ryan.zurrin001/miniconda3/envs/O/lib/python3.9/site-packages/pyod/models/base.py:412: UserWarning: y should not be presented in unsupervised learning.\n",
      "  warnings.warn(\n",
      "/home/ryan.zurrin001/miniconda3/envs/O/lib/python3.9/site-packages/sklearn/metrics/_ranking.py:1695: UndefinedMetricWarning: 'k' (2) greater than or equal to 'n_classes' (2) will result in a perfect score and is therefore meaningless.\n",
      "  warnings.warn(\n",
      "/home/ryan.zurrin001/miniconda3/envs/O/lib/python3.9/site-packages/pyod/models/base.py:412: UserWarning: y should not be presented in unsupervised learning.\n",
      "  warnings.warn(\n",
      "/home/ryan.zurrin001/miniconda3/envs/O/lib/python3.9/site-packages/sklearn/metrics/_ranking.py:1695: UndefinedMetricWarning: 'k' (2) greater than or equal to 'n_classes' (2) will result in a perfect score and is therefore meaningless.\n",
      "  warnings.warn(\n",
      "/home/ryan.zurrin001/miniconda3/envs/O/lib/python3.9/site-packages/sklearn/model_selection/_validation.py:696: UserWarning: Scoring failed. The score on this train-test partition for these parameters will be set to nan. Details: \n",
      "Traceback (most recent call last):\n",
      "  File \"/home/ryan.zurrin001/miniconda3/envs/O/lib/python3.9/site-packages/sklearn/model_selection/_validation.py\", line 687, in _score\n",
      "    scores = scorer(estimator, X_test, y_test)\n",
      "  File \"/home/ryan.zurrin001/miniconda3/envs/O/lib/python3.9/site-packages/sklearn/metrics/_scorer.py\", line 87, in __call__\n",
      "    score = scorer._score(cached_call, estimator,\n",
      "  File \"/home/ryan.zurrin001/miniconda3/envs/O/lib/python3.9/site-packages/sklearn/metrics/_scorer.py\", line 362, in _score\n",
      "    return self._sign * self._score_func(y, y_pred, **self._kwargs)\n",
      "  File \"/home/ryan.zurrin001/miniconda3/envs/O/lib/python3.9/site-packages/sklearn/metrics/_ranking.py\", line 1667, in top_k_accuracy_score\n",
      "    raise ValueError(\n",
      "ValueError: Number of classes in 'y_true' (1) not equal to the number of classes in 'y_score' (2).\n",
      "\n",
      "  warnings.warn(\n",
      "/home/ryan.zurrin001/miniconda3/envs/O/lib/python3.9/site-packages/sklearn/metrics/_ranking.py:1695: UndefinedMetricWarning: 'k' (2) greater than or equal to 'n_classes' (2) will result in a perfect score and is therefore meaningless.\n",
      "  warnings.warn(\n",
      "/home/ryan.zurrin001/miniconda3/envs/O/lib/python3.9/site-packages/sklearn/metrics/_ranking.py:1695: UndefinedMetricWarning: 'k' (2) greater than or equal to 'n_classes' (2) will result in a perfect score and is therefore meaningless.\n",
      "  warnings.warn(\n"
     ]
    },
    {
     "ename": "AllTrialsFailed",
     "evalue": "",
     "output_type": "error",
     "traceback": [
      "\u001B[0;31m---------------------------------------------------------------------------\u001B[0m",
      "\u001B[0;31mAllTrialsFailed\u001B[0m                           Traceback (most recent call last)",
      "\u001B[0;32m/tmp/ipykernel_2298206/111809738.py\u001B[0m in \u001B[0;36m<module>\u001B[0;34m\u001B[0m\n\u001B[0;32m----> 1\u001B[0;31m search = fmin(\n\u001B[0m\u001B[1;32m      2\u001B[0m     \u001B[0mfn\u001B[0m\u001B[0;34m=\u001B[0m\u001B[0mobjective\u001B[0m\u001B[0;34m,\u001B[0m\u001B[0;34m\u001B[0m\u001B[0;34m\u001B[0m\u001B[0m\n\u001B[1;32m      3\u001B[0m     \u001B[0mspace\u001B[0m\u001B[0;34m=\u001B[0m\u001B[0mparam_grid\u001B[0m\u001B[0;34m,\u001B[0m\u001B[0;34m\u001B[0m\u001B[0;34m\u001B[0m\u001B[0m\n\u001B[1;32m      4\u001B[0m     \u001B[0mmax_evals\u001B[0m\u001B[0;34m=\u001B[0m\u001B[0;36m50\u001B[0m\u001B[0;34m,\u001B[0m\u001B[0;34m\u001B[0m\u001B[0;34m\u001B[0m\u001B[0m\n\u001B[1;32m      5\u001B[0m     \u001B[0mrstate\u001B[0m\u001B[0;34m=\u001B[0m\u001B[0mnp\u001B[0m\u001B[0;34m.\u001B[0m\u001B[0mrandom\u001B[0m\u001B[0;34m.\u001B[0m\u001B[0mdefault_rng\u001B[0m\u001B[0;34m(\u001B[0m\u001B[0;36m42\u001B[0m\u001B[0;34m)\u001B[0m\u001B[0;34m,\u001B[0m\u001B[0;34m\u001B[0m\u001B[0;34m\u001B[0m\u001B[0m\n",
      "\u001B[0;32m~/miniconda3/envs/O/lib/python3.9/site-packages/hyperopt/fmin.py\u001B[0m in \u001B[0;36mfmin\u001B[0;34m(fn, space, algo, max_evals, timeout, loss_threshold, trials, rstate, allow_trials_fmin, pass_expr_memo_ctrl, catch_eval_exceptions, verbose, return_argmin, points_to_evaluate, max_queue_len, show_progressbar, early_stop_fn, trials_save_file)\u001B[0m\n\u001B[1;32m    591\u001B[0m                 \u001B[0;34m\"There are no evaluation tasks, cannot return argmin of task losses.\"\u001B[0m\u001B[0;34m\u001B[0m\u001B[0;34m\u001B[0m\u001B[0m\n\u001B[1;32m    592\u001B[0m             )\n\u001B[0;32m--> 593\u001B[0;31m         \u001B[0;32mreturn\u001B[0m \u001B[0mtrials\u001B[0m\u001B[0;34m.\u001B[0m\u001B[0margmin\u001B[0m\u001B[0;34m\u001B[0m\u001B[0;34m\u001B[0m\u001B[0m\n\u001B[0m\u001B[1;32m    594\u001B[0m     \u001B[0;32mif\u001B[0m \u001B[0mlen\u001B[0m\u001B[0;34m(\u001B[0m\u001B[0mtrials\u001B[0m\u001B[0;34m)\u001B[0m \u001B[0;34m>\u001B[0m \u001B[0;36m0\u001B[0m\u001B[0;34m:\u001B[0m\u001B[0;34m\u001B[0m\u001B[0;34m\u001B[0m\u001B[0m\n\u001B[1;32m    595\u001B[0m         \u001B[0;31m# Only if there are some successful trail runs, return the best point in\u001B[0m\u001B[0;34m\u001B[0m\u001B[0;34m\u001B[0m\u001B[0m\n",
      "\u001B[0;32m~/miniconda3/envs/O/lib/python3.9/site-packages/hyperopt/base.py\u001B[0m in \u001B[0;36margmin\u001B[0;34m(self)\u001B[0m\n\u001B[1;32m    618\u001B[0m     \u001B[0;34m@\u001B[0m\u001B[0mproperty\u001B[0m\u001B[0;34m\u001B[0m\u001B[0;34m\u001B[0m\u001B[0m\n\u001B[1;32m    619\u001B[0m     \u001B[0;32mdef\u001B[0m \u001B[0margmin\u001B[0m\u001B[0;34m(\u001B[0m\u001B[0mself\u001B[0m\u001B[0;34m)\u001B[0m\u001B[0;34m:\u001B[0m\u001B[0;34m\u001B[0m\u001B[0;34m\u001B[0m\u001B[0m\n\u001B[0;32m--> 620\u001B[0;31m         \u001B[0mbest_trial\u001B[0m \u001B[0;34m=\u001B[0m \u001B[0mself\u001B[0m\u001B[0;34m.\u001B[0m\u001B[0mbest_trial\u001B[0m\u001B[0;34m\u001B[0m\u001B[0;34m\u001B[0m\u001B[0m\n\u001B[0m\u001B[1;32m    621\u001B[0m         \u001B[0mvals\u001B[0m \u001B[0;34m=\u001B[0m \u001B[0mbest_trial\u001B[0m\u001B[0;34m[\u001B[0m\u001B[0;34m\"misc\"\u001B[0m\u001B[0;34m]\u001B[0m\u001B[0;34m[\u001B[0m\u001B[0;34m\"vals\"\u001B[0m\u001B[0;34m]\u001B[0m\u001B[0;34m\u001B[0m\u001B[0;34m\u001B[0m\u001B[0m\n\u001B[1;32m    622\u001B[0m         \u001B[0;31m# unpack the one-element lists to values\u001B[0m\u001B[0;34m\u001B[0m\u001B[0;34m\u001B[0m\u001B[0m\n",
      "\u001B[0;32m~/miniconda3/envs/O/lib/python3.9/site-packages/hyperopt/base.py\u001B[0m in \u001B[0;36mbest_trial\u001B[0;34m(self)\u001B[0m\n\u001B[1;32m    609\u001B[0m         ]\n\u001B[1;32m    610\u001B[0m         \u001B[0;32mif\u001B[0m \u001B[0;32mnot\u001B[0m \u001B[0mcandidates\u001B[0m\u001B[0;34m:\u001B[0m\u001B[0;34m\u001B[0m\u001B[0;34m\u001B[0m\u001B[0m\n\u001B[0;32m--> 611\u001B[0;31m             \u001B[0;32mraise\u001B[0m \u001B[0mAllTrialsFailed\u001B[0m\u001B[0;34m\u001B[0m\u001B[0;34m\u001B[0m\u001B[0m\n\u001B[0m\u001B[1;32m    612\u001B[0m         \u001B[0mlosses\u001B[0m \u001B[0;34m=\u001B[0m \u001B[0;34m[\u001B[0m\u001B[0mfloat\u001B[0m\u001B[0;34m(\u001B[0m\u001B[0mt\u001B[0m\u001B[0;34m[\u001B[0m\u001B[0;34m\"result\"\u001B[0m\u001B[0;34m]\u001B[0m\u001B[0;34m[\u001B[0m\u001B[0;34m\"loss\"\u001B[0m\u001B[0;34m]\u001B[0m\u001B[0;34m)\u001B[0m \u001B[0;32mfor\u001B[0m \u001B[0mt\u001B[0m \u001B[0;32min\u001B[0m \u001B[0mcandidates\u001B[0m\u001B[0;34m]\u001B[0m\u001B[0;34m\u001B[0m\u001B[0;34m\u001B[0m\u001B[0m\n\u001B[1;32m    613\u001B[0m         \u001B[0;32mif\u001B[0m \u001B[0mlen\u001B[0m\u001B[0;34m(\u001B[0m\u001B[0mlosses\u001B[0m\u001B[0;34m)\u001B[0m \u001B[0;34m==\u001B[0m \u001B[0;36m0\u001B[0m\u001B[0;34m:\u001B[0m\u001B[0;34m\u001B[0m\u001B[0;34m\u001B[0m\u001B[0m\n",
      "\u001B[0;31mAllTrialsFailed\u001B[0m: "
     ]
    }
   ],
   "source": [
    "search = fmin(\n",
    "    fn=objective,\n",
    "    space=param_grid,\n",
    "    max_evals=50,\n",
    "    rstate=np.random.default_rng(42),\n",
    "    algo=rand.suggest,\n",
    ")"
   ]
  },
  {
   "cell_type": "code",
   "execution_count": 38,
   "id": "066c471d",
   "metadata": {},
   "outputs": [
    {
     "data": {
      "text/plain": [
       "dict"
      ]
     },
     "execution_count": 38,
     "metadata": {},
     "output_type": "execute_result"
    }
   ],
   "source": [
    "type(search)"
   ]
  },
  {
   "cell_type": "code",
   "execution_count": 39,
   "id": "480bb809",
   "metadata": {},
   "outputs": [
    {
     "data": {
      "text/plain": [
       "{'contamination': 0.07902732962983441,\n",
       " 'leaf_size': 82.0,\n",
       " 'method': 1,\n",
       " 'metric': 3,\n",
       " 'n_jobs': 1.0,\n",
       " 'n_neighbors': 3.0,\n",
       " 'p': 3.0,\n",
       " 'radius': 1.9000000000000001}"
      ]
     },
     "execution_count": 39,
     "metadata": {},
     "output_type": "execute_result"
    }
   ],
   "source": [
    "# these are the best hyperparameters from the Random Search\n",
    "search"
   ]
  },
  {
   "cell_type": "code",
   "execution_count": 40,
   "id": "665bfd92",
   "metadata": {},
   "outputs": [],
   "source": [
    "# Now retesting the KNN with best parameters\n",
    "best_hp_dict = {\n",
    "        'contamination': search['contamination'], # important int, as it takes integers only\n",
    "        'leaf_size': int(search['leaf_size']), # important int, as it takes integers only\n",
    "        'method': 'mean',\n",
    "        'metric': 'minkowski',\n",
    "        'n_jobs': int(search['n_jobs']),\n",
    "        'n_neighbors': int(search['n_neighbors']),\n",
    "        'p': search['p'],\n",
    "        'radius': search['radius'],\n",
    "}"
   ]
  },
  {
   "cell_type": "code",
   "execution_count": 41,
   "id": "a30c2e33",
   "metadata": {},
   "outputs": [],
   "source": [
    "# using the PyOD library KNN algorithm\n",
    "clf_final = KNN(**best_hp_dict)\n",
    "clf_final.fit(X_train)\n",
    "\n",
    "y_train_scores = clf_final.decision_scores_\n",
    "y_test_scores = clf_final.decision_function(X_test)"
   ]
  },
  {
   "cell_type": "code",
   "execution_count": 42,
   "id": "c35bcd49",
   "metadata": {},
   "outputs": [],
   "source": [
    "def evaluate(groundtruth, pred):\n",
    "    \"\"\" Evaluates the results of the outlier detection algorithm\n",
    "\n",
    "    Parameters\n",
    "    ----------\n",
    "    groundtruth : list\n",
    "      The groundtruth labels\n",
    "    pred : list\n",
    "      The predicted labels\n",
    "\n",
    "    Returns\n",
    "    -------\n",
    "    evaluation : dict\n",
    "      The evaluation metrics\n",
    "    \"\"\"\n",
    "\n",
    "    cm = sklearn.metrics.confusion_matrix(groundtruth, pred)\n",
    "\n",
    "    scores = {\n",
    "        'groundtruth_indices': np.where(np.array(groundtruth) > 0),\n",
    "        'pred_indices': np.where(np.array(pred) > 0),\n",
    "        'roc_auc': sklearn.metrics.roc_curve(groundtruth, pred),\n",
    "        'f1_score': sklearn.metrics.f1_score(groundtruth, pred),\n",
    "        'acc_score': sklearn.metrics.accuracy_score(groundtruth, pred),\n",
    "        'jaccard_score': sklearn.metrics.jaccard_score(groundtruth, pred),\n",
    "        'precision_score': sklearn.metrics.precision_score(groundtruth,\n",
    "                                                           pred),\n",
    "        'recall_score': sklearn.metrics.recall_score(groundtruth, pred),\n",
    "        'tn': cm[0, 0],\n",
    "        'fp': cm[0, 1],\n",
    "        'fn': cm[1, 0],\n",
    "        'tp': cm[1, 1],\n",
    "    }\n",
    "    \n",
    "    return scores"
   ]
  },
  {
   "cell_type": "markdown",
   "id": "10e90b37",
   "metadata": {},
   "source": [
    "## Evaluating the search\n",
    "\n",
    "We can use Trials if we want to look into the search, and the performance values encountered during the process."
   ]
  },
  {
   "cell_type": "code",
   "execution_count": 43,
   "id": "acdf734e",
   "metadata": {},
   "outputs": [],
   "source": [
    "scores = evaluate(datasetA_y[:80], clf_final.labels_)"
   ]
  },
  {
   "cell_type": "code",
   "execution_count": 44,
   "id": "3c930058",
   "metadata": {},
   "outputs": [
    {
     "data": {
      "text/plain": [
       "{'groundtruth_indices': (array([27, 38, 47, 48, 61, 63]),),\n",
       " 'pred_indices': (array([ 8, 27, 40, 43, 58, 61, 71]),),\n",
       " 'roc_auc': (array([0.        , 0.06756757, 1.        ]),\n",
       "  array([0.        , 0.33333333, 1.        ]),\n",
       "  array([2, 1, 0])),\n",
       " 'f1_score': 0.30769230769230765,\n",
       " 'acc_score': 0.8875,\n",
       " 'jaccard_score': 0.18181818181818182,\n",
       " 'precision_score': 0.2857142857142857,\n",
       " 'recall_score': 0.3333333333333333,\n",
       " 'tn': 69,\n",
       " 'fp': 5,\n",
       " 'fn': 4,\n",
       " 'tp': 2}"
      ]
     },
     "execution_count": 44,
     "metadata": {},
     "output_type": "execute_result"
    }
   ],
   "source": [
    "scores"
   ]
  },
  {
   "cell_type": "code",
   "execution_count": 23,
   "id": "454d2a3f",
   "metadata": {},
   "outputs": [],
   "source": [
    "trials = Trials()"
   ]
  },
  {
   "cell_type": "code",
   "execution_count": 24,
   "id": "4cc1e1e4",
   "metadata": {},
   "outputs": [
    {
     "name": "stdout",
     "output_type": "stream",
     "text": [
      "\r",
      "  0%|                                                                                                                                                                  | 0/50 [00:00<?, ?trial/s, best loss=?]"
     ]
    },
    {
     "name": "stderr",
     "output_type": "stream",
     "text": [
      "/home/ryan.zurrin001/miniconda3/envs/O/lib/python3.9/site-packages/pyod/models/base.py:412: UserWarning: y should not be presented in unsupervised learning.\n",
      "  warnings.warn(\n",
      "/home/ryan.zurrin001/miniconda3/envs/O/lib/python3.9/site-packages/pyod/models/base.py:412: UserWarning: y should not be presented in unsupervised learning.\n",
      "  warnings.warn(\n",
      "/home/ryan.zurrin001/miniconda3/envs/O/lib/python3.9/site-packages/pyod/models/base.py:412: UserWarning: y should not be presented in unsupervised learning.\n",
      "  warnings.warn(\n",
      "/home/ryan.zurrin001/miniconda3/envs/O/lib/python3.9/site-packages/pyod/models/base.py:412: UserWarning: y should not be presented in unsupervised learning.\n",
      "  warnings.warn(\n",
      "/home/ryan.zurrin001/miniconda3/envs/O/lib/python3.9/site-packages/pyod/models/base.py:412: UserWarning: y should not be presented in unsupervised learning.\n",
      "  warnings.warn(\n"
     ]
    },
    {
     "name": "stdout",
     "output_type": "stream",
     "text": [
      "\r",
      "  2%|██▋                                                                                                                                   | 1/50 [00:13<11:05, 13.58s/trial, best loss: -0.19556706839876942]"
     ]
    },
    {
     "name": "stderr",
     "output_type": "stream",
     "text": [
      "/home/ryan.zurrin001/miniconda3/envs/O/lib/python3.9/site-packages/pyod/models/base.py:412: UserWarning: y should not be presented in unsupervised learning.\n",
      "  warnings.warn(\n",
      "/home/ryan.zurrin001/miniconda3/envs/O/lib/python3.9/site-packages/pyod/models/base.py:412: UserWarning: y should not be presented in unsupervised learning.\n",
      "  warnings.warn(\n",
      "/home/ryan.zurrin001/miniconda3/envs/O/lib/python3.9/site-packages/pyod/models/base.py:412: UserWarning: y should not be presented in unsupervised learning.\n",
      "  warnings.warn(\n",
      "/home/ryan.zurrin001/miniconda3/envs/O/lib/python3.9/site-packages/pyod/models/base.py:412: UserWarning: y should not be presented in unsupervised learning.\n",
      "  warnings.warn(\n",
      "/home/ryan.zurrin001/miniconda3/envs/O/lib/python3.9/site-packages/pyod/models/base.py:412: UserWarning: y should not be presented in unsupervised learning.\n",
      "  warnings.warn(\n"
     ]
    },
    {
     "name": "stdout",
     "output_type": "stream",
     "text": [
      "\r",
      "  4%|█████▎                                                                                                                                | 2/50 [00:15<05:30,  6.88s/trial, best loss: -0.25459085972190476]"
     ]
    },
    {
     "name": "stderr",
     "output_type": "stream",
     "text": [
      "/home/ryan.zurrin001/miniconda3/envs/O/lib/python3.9/site-packages/pyod/models/base.py:412: UserWarning: y should not be presented in unsupervised learning.\n",
      "  warnings.warn(\n",
      "/home/ryan.zurrin001/miniconda3/envs/O/lib/python3.9/site-packages/pyod/models/base.py:412: UserWarning: y should not be presented in unsupervised learning.\n",
      "  warnings.warn(\n",
      "/home/ryan.zurrin001/miniconda3/envs/O/lib/python3.9/site-packages/pyod/models/base.py:412: UserWarning: y should not be presented in unsupervised learning.\n",
      "  warnings.warn(\n",
      "/home/ryan.zurrin001/miniconda3/envs/O/lib/python3.9/site-packages/pyod/models/base.py:412: UserWarning: y should not be presented in unsupervised learning.\n",
      "  warnings.warn(\n",
      "/home/ryan.zurrin001/miniconda3/envs/O/lib/python3.9/site-packages/pyod/models/base.py:412: UserWarning: y should not be presented in unsupervised learning.\n",
      "  warnings.warn(\n"
     ]
    },
    {
     "name": "stdout",
     "output_type": "stream",
     "text": [
      "\r",
      "  6%|████████                                                                                                                              | 3/50 [00:17<03:34,  4.56s/trial, best loss: -0.25459085972190476]"
     ]
    },
    {
     "name": "stderr",
     "output_type": "stream",
     "text": [
      "/home/ryan.zurrin001/miniconda3/envs/O/lib/python3.9/site-packages/pyod/models/base.py:412: UserWarning: y should not be presented in unsupervised learning.\n",
      "  warnings.warn(\n",
      "/home/ryan.zurrin001/miniconda3/envs/O/lib/python3.9/site-packages/pyod/models/base.py:412: UserWarning: y should not be presented in unsupervised learning.\n",
      "  warnings.warn(\n",
      "/home/ryan.zurrin001/miniconda3/envs/O/lib/python3.9/site-packages/pyod/models/base.py:412: UserWarning: y should not be presented in unsupervised learning.\n",
      "  warnings.warn(\n",
      "/home/ryan.zurrin001/miniconda3/envs/O/lib/python3.9/site-packages/pyod/models/base.py:412: UserWarning: y should not be presented in unsupervised learning.\n",
      "  warnings.warn(\n",
      "/home/ryan.zurrin001/miniconda3/envs/O/lib/python3.9/site-packages/pyod/models/base.py:412: UserWarning: y should not be presented in unsupervised learning.\n",
      "  warnings.warn(\n"
     ]
    },
    {
     "name": "stdout",
     "output_type": "stream",
     "text": [
      "\r",
      "  8%|██████████▋                                                                                                                           | 4/50 [00:18<02:22,  3.09s/trial, best loss: -0.25459085972190476]"
     ]
    },
    {
     "name": "stderr",
     "output_type": "stream",
     "text": [
      "/home/ryan.zurrin001/miniconda3/envs/O/lib/python3.9/site-packages/pyod/models/base.py:412: UserWarning: y should not be presented in unsupervised learning.\n",
      "  warnings.warn(\n",
      "/home/ryan.zurrin001/miniconda3/envs/O/lib/python3.9/site-packages/pyod/models/base.py:412: UserWarning: y should not be presented in unsupervised learning.\n",
      "  warnings.warn(\n",
      "/home/ryan.zurrin001/miniconda3/envs/O/lib/python3.9/site-packages/pyod/models/base.py:412: UserWarning: y should not be presented in unsupervised learning.\n",
      "  warnings.warn(\n",
      "/home/ryan.zurrin001/miniconda3/envs/O/lib/python3.9/site-packages/pyod/models/base.py:412: UserWarning: y should not be presented in unsupervised learning.\n",
      "  warnings.warn(\n",
      "/home/ryan.zurrin001/miniconda3/envs/O/lib/python3.9/site-packages/pyod/models/base.py:412: UserWarning: y should not be presented in unsupervised learning.\n",
      "  warnings.warn(\n"
     ]
    },
    {
     "name": "stdout",
     "output_type": "stream",
     "text": [
      "\r",
      " 10%|█████████████▍                                                                                                                        | 5/50 [00:19<01:42,  2.27s/trial, best loss: -0.25459085972190476]"
     ]
    },
    {
     "name": "stderr",
     "output_type": "stream",
     "text": [
      "/home/ryan.zurrin001/miniconda3/envs/O/lib/python3.9/site-packages/pyod/models/base.py:412: UserWarning: y should not be presented in unsupervised learning.\n",
      "  warnings.warn(\n",
      "/home/ryan.zurrin001/miniconda3/envs/O/lib/python3.9/site-packages/pyod/models/base.py:412: UserWarning: y should not be presented in unsupervised learning.\n",
      "  warnings.warn(\n",
      "/home/ryan.zurrin001/miniconda3/envs/O/lib/python3.9/site-packages/pyod/models/base.py:412: UserWarning: y should not be presented in unsupervised learning.\n",
      "  warnings.warn(\n",
      "/home/ryan.zurrin001/miniconda3/envs/O/lib/python3.9/site-packages/pyod/models/base.py:412: UserWarning: y should not be presented in unsupervised learning.\n",
      "  warnings.warn(\n",
      "/home/ryan.zurrin001/miniconda3/envs/O/lib/python3.9/site-packages/pyod/models/base.py:412: UserWarning: y should not be presented in unsupervised learning.\n",
      "  warnings.warn(\n"
     ]
    },
    {
     "name": "stdout",
     "output_type": "stream",
     "text": [
      "\r",
      " 12%|████████████████                                                                                                                      | 6/50 [00:20<01:21,  1.85s/trial, best loss: -0.25459085972190476]"
     ]
    },
    {
     "name": "stderr",
     "output_type": "stream",
     "text": [
      "/home/ryan.zurrin001/miniconda3/envs/O/lib/python3.9/site-packages/pyod/models/base.py:412: UserWarning: y should not be presented in unsupervised learning.\n",
      "  warnings.warn(\n",
      "/home/ryan.zurrin001/miniconda3/envs/O/lib/python3.9/site-packages/pyod/models/base.py:412: UserWarning: y should not be presented in unsupervised learning.\n",
      "  warnings.warn(\n",
      "/home/ryan.zurrin001/miniconda3/envs/O/lib/python3.9/site-packages/pyod/models/base.py:412: UserWarning: y should not be presented in unsupervised learning.\n",
      "  warnings.warn(\n",
      "/home/ryan.zurrin001/miniconda3/envs/O/lib/python3.9/site-packages/pyod/models/base.py:412: UserWarning: y should not be presented in unsupervised learning.\n",
      "  warnings.warn(\n",
      "/home/ryan.zurrin001/miniconda3/envs/O/lib/python3.9/site-packages/pyod/models/base.py:412: UserWarning: y should not be presented in unsupervised learning.\n",
      "  warnings.warn(\n"
     ]
    },
    {
     "name": "stdout",
     "output_type": "stream",
     "text": [
      "\r",
      " 14%|██████████████████▉                                                                                                                    | 7/50 [00:21<01:16,  1.78s/trial, best loss: -0.3016656799646501]"
     ]
    },
    {
     "name": "stderr",
     "output_type": "stream",
     "text": [
      "/home/ryan.zurrin001/miniconda3/envs/O/lib/python3.9/site-packages/pyod/models/base.py:412: UserWarning: y should not be presented in unsupervised learning.\n",
      "  warnings.warn(\n",
      "/home/ryan.zurrin001/miniconda3/envs/O/lib/python3.9/site-packages/pyod/models/base.py:412: UserWarning: y should not be presented in unsupervised learning.\n",
      "  warnings.warn(\n",
      "/home/ryan.zurrin001/miniconda3/envs/O/lib/python3.9/site-packages/pyod/models/base.py:412: UserWarning: y should not be presented in unsupervised learning.\n",
      "  warnings.warn(\n",
      "/home/ryan.zurrin001/miniconda3/envs/O/lib/python3.9/site-packages/pyod/models/base.py:412: UserWarning: y should not be presented in unsupervised learning.\n",
      "  warnings.warn(\n",
      "/home/ryan.zurrin001/miniconda3/envs/O/lib/python3.9/site-packages/pyod/models/base.py:412: UserWarning: y should not be presented in unsupervised learning.\n",
      "  warnings.warn(\n"
     ]
    },
    {
     "name": "stdout",
     "output_type": "stream",
     "text": [
      "\r",
      " 16%|█████████████████████▌                                                                                                                 | 8/50 [00:25<01:37,  2.32s/trial, best loss: -0.3016656799646501]"
     ]
    },
    {
     "name": "stderr",
     "output_type": "stream",
     "text": [
      "/home/ryan.zurrin001/miniconda3/envs/O/lib/python3.9/site-packages/pyod/models/base.py:412: UserWarning: y should not be presented in unsupervised learning.\n",
      "  warnings.warn(\n",
      "/home/ryan.zurrin001/miniconda3/envs/O/lib/python3.9/site-packages/pyod/models/base.py:412: UserWarning: y should not be presented in unsupervised learning.\n",
      "  warnings.warn(\n",
      "/home/ryan.zurrin001/miniconda3/envs/O/lib/python3.9/site-packages/pyod/models/base.py:412: UserWarning: y should not be presented in unsupervised learning.\n",
      "  warnings.warn(\n",
      "/home/ryan.zurrin001/miniconda3/envs/O/lib/python3.9/site-packages/pyod/models/base.py:412: UserWarning: y should not be presented in unsupervised learning.\n",
      "  warnings.warn(\n",
      "/home/ryan.zurrin001/miniconda3/envs/O/lib/python3.9/site-packages/pyod/models/base.py:412: UserWarning: y should not be presented in unsupervised learning.\n",
      "  warnings.warn(\n"
     ]
    },
    {
     "name": "stdout",
     "output_type": "stream",
     "text": [
      "\r",
      " 18%|████████████████████████▍                                                                                                               | 9/50 [00:28<01:40,  2.46s/trial, best loss: -0.316136863456058]"
     ]
    },
    {
     "name": "stderr",
     "output_type": "stream",
     "text": [
      "/home/ryan.zurrin001/miniconda3/envs/O/lib/python3.9/site-packages/pyod/models/base.py:412: UserWarning: y should not be presented in unsupervised learning.\n",
      "  warnings.warn(\n",
      "/home/ryan.zurrin001/miniconda3/envs/O/lib/python3.9/site-packages/pyod/models/base.py:412: UserWarning: y should not be presented in unsupervised learning.\n",
      "  warnings.warn(\n",
      "/home/ryan.zurrin001/miniconda3/envs/O/lib/python3.9/site-packages/pyod/models/base.py:412: UserWarning: y should not be presented in unsupervised learning.\n",
      "  warnings.warn(\n",
      "/home/ryan.zurrin001/miniconda3/envs/O/lib/python3.9/site-packages/pyod/models/base.py:412: UserWarning: y should not be presented in unsupervised learning.\n",
      "  warnings.warn(\n",
      "/home/ryan.zurrin001/miniconda3/envs/O/lib/python3.9/site-packages/pyod/models/base.py:412: UserWarning: y should not be presented in unsupervised learning.\n",
      "  warnings.warn(\n"
     ]
    },
    {
     "name": "stdout",
     "output_type": "stream",
     "text": [
      "\r",
      " 20%|███████████████████████████                                                                                                            | 10/50 [00:29<01:28,  2.22s/trial, best loss: -0.316136863456058]"
     ]
    },
    {
     "name": "stderr",
     "output_type": "stream",
     "text": [
      "/home/ryan.zurrin001/miniconda3/envs/O/lib/python3.9/site-packages/pyod/models/base.py:412: UserWarning: y should not be presented in unsupervised learning.\n",
      "  warnings.warn(\n",
      "/home/ryan.zurrin001/miniconda3/envs/O/lib/python3.9/site-packages/pyod/models/base.py:412: UserWarning: y should not be presented in unsupervised learning.\n",
      "  warnings.warn(\n",
      "/home/ryan.zurrin001/miniconda3/envs/O/lib/python3.9/site-packages/pyod/models/base.py:412: UserWarning: y should not be presented in unsupervised learning.\n",
      "  warnings.warn(\n",
      "/home/ryan.zurrin001/miniconda3/envs/O/lib/python3.9/site-packages/pyod/models/base.py:412: UserWarning: y should not be presented in unsupervised learning.\n",
      "  warnings.warn(\n",
      "/home/ryan.zurrin001/miniconda3/envs/O/lib/python3.9/site-packages/pyod/models/base.py:412: UserWarning: y should not be presented in unsupervised learning.\n",
      "  warnings.warn(\n"
     ]
    },
    {
     "name": "stdout",
     "output_type": "stream",
     "text": [
      "\r",
      " 22%|█████████████████████████████▋                                                                                                         | 11/50 [00:31<01:23,  2.13s/trial, best loss: -0.316136863456058]"
     ]
    },
    {
     "name": "stderr",
     "output_type": "stream",
     "text": [
      "/home/ryan.zurrin001/miniconda3/envs/O/lib/python3.9/site-packages/pyod/models/base.py:412: UserWarning: y should not be presented in unsupervised learning.\n",
      "  warnings.warn(\n",
      "/home/ryan.zurrin001/miniconda3/envs/O/lib/python3.9/site-packages/pyod/models/base.py:412: UserWarning: y should not be presented in unsupervised learning.\n",
      "  warnings.warn(\n",
      "/home/ryan.zurrin001/miniconda3/envs/O/lib/python3.9/site-packages/pyod/models/base.py:412: UserWarning: y should not be presented in unsupervised learning.\n",
      "  warnings.warn(\n",
      "/home/ryan.zurrin001/miniconda3/envs/O/lib/python3.9/site-packages/pyod/models/base.py:412: UserWarning: y should not be presented in unsupervised learning.\n",
      "  warnings.warn(\n",
      "/home/ryan.zurrin001/miniconda3/envs/O/lib/python3.9/site-packages/pyod/models/base.py:412: UserWarning: y should not be presented in unsupervised learning.\n",
      "  warnings.warn(\n"
     ]
    },
    {
     "name": "stdout",
     "output_type": "stream",
     "text": [
      "\r",
      " 24%|████████████████████████████████▍                                                                                                      | 12/50 [00:32<01:07,  1.77s/trial, best loss: -0.316136863456058]"
     ]
    },
    {
     "name": "stderr",
     "output_type": "stream",
     "text": [
      "/home/ryan.zurrin001/miniconda3/envs/O/lib/python3.9/site-packages/pyod/models/base.py:412: UserWarning: y should not be presented in unsupervised learning.\n",
      "  warnings.warn(\n",
      "/home/ryan.zurrin001/miniconda3/envs/O/lib/python3.9/site-packages/pyod/models/base.py:412: UserWarning: y should not be presented in unsupervised learning.\n",
      "  warnings.warn(\n",
      "/home/ryan.zurrin001/miniconda3/envs/O/lib/python3.9/site-packages/pyod/models/base.py:412: UserWarning: y should not be presented in unsupervised learning.\n",
      "  warnings.warn(\n",
      "/home/ryan.zurrin001/miniconda3/envs/O/lib/python3.9/site-packages/pyod/models/base.py:412: UserWarning: y should not be presented in unsupervised learning.\n",
      "  warnings.warn(\n",
      "/home/ryan.zurrin001/miniconda3/envs/O/lib/python3.9/site-packages/pyod/models/base.py:412: UserWarning: y should not be presented in unsupervised learning.\n",
      "  warnings.warn(\n"
     ]
    },
    {
     "name": "stdout",
     "output_type": "stream",
     "text": [
      "\r",
      " 26%|███████████████████████████████████                                                                                                    | 13/50 [00:33<00:54,  1.48s/trial, best loss: -0.316136863456058]"
     ]
    },
    {
     "name": "stderr",
     "output_type": "stream",
     "text": [
      "/home/ryan.zurrin001/miniconda3/envs/O/lib/python3.9/site-packages/pyod/models/base.py:412: UserWarning: y should not be presented in unsupervised learning.\n",
      "  warnings.warn(\n",
      "/home/ryan.zurrin001/miniconda3/envs/O/lib/python3.9/site-packages/pyod/models/base.py:412: UserWarning: y should not be presented in unsupervised learning.\n",
      "  warnings.warn(\n",
      "/home/ryan.zurrin001/miniconda3/envs/O/lib/python3.9/site-packages/pyod/models/base.py:412: UserWarning: y should not be presented in unsupervised learning.\n",
      "  warnings.warn(\n",
      "/home/ryan.zurrin001/miniconda3/envs/O/lib/python3.9/site-packages/pyod/models/base.py:412: UserWarning: y should not be presented in unsupervised learning.\n",
      "  warnings.warn(\n",
      "/home/ryan.zurrin001/miniconda3/envs/O/lib/python3.9/site-packages/pyod/models/base.py:412: UserWarning: y should not be presented in unsupervised learning.\n",
      "  warnings.warn(\n"
     ]
    },
    {
     "name": "stdout",
     "output_type": "stream",
     "text": [
      "\r",
      " 28%|█████████████████████████████████████▊                                                                                                 | 14/50 [00:34<00:47,  1.31s/trial, best loss: -0.316136863456058]"
     ]
    },
    {
     "name": "stderr",
     "output_type": "stream",
     "text": [
      "/home/ryan.zurrin001/miniconda3/envs/O/lib/python3.9/site-packages/pyod/models/base.py:412: UserWarning: y should not be presented in unsupervised learning.\n",
      "  warnings.warn(\n",
      "/home/ryan.zurrin001/miniconda3/envs/O/lib/python3.9/site-packages/pyod/models/base.py:412: UserWarning: y should not be presented in unsupervised learning.\n",
      "  warnings.warn(\n",
      "/home/ryan.zurrin001/miniconda3/envs/O/lib/python3.9/site-packages/pyod/models/base.py:412: UserWarning: y should not be presented in unsupervised learning.\n",
      "  warnings.warn(\n",
      "/home/ryan.zurrin001/miniconda3/envs/O/lib/python3.9/site-packages/pyod/models/base.py:412: UserWarning: y should not be presented in unsupervised learning.\n",
      "  warnings.warn(\n",
      "/home/ryan.zurrin001/miniconda3/envs/O/lib/python3.9/site-packages/pyod/models/base.py:412: UserWarning: y should not be presented in unsupervised learning.\n",
      "  warnings.warn(\n"
     ]
    },
    {
     "name": "stdout",
     "output_type": "stream",
     "text": [
      "\r",
      " 30%|████████████████████████████████████████▏                                                                                             | 15/50 [00:35<00:46,  1.33s/trial, best loss: -0.3230646152107367]"
     ]
    },
    {
     "name": "stderr",
     "output_type": "stream",
     "text": [
      "/home/ryan.zurrin001/miniconda3/envs/O/lib/python3.9/site-packages/pyod/models/base.py:412: UserWarning: y should not be presented in unsupervised learning.\n",
      "  warnings.warn(\n",
      "/home/ryan.zurrin001/miniconda3/envs/O/lib/python3.9/site-packages/pyod/models/base.py:412: UserWarning: y should not be presented in unsupervised learning.\n",
      "  warnings.warn(\n",
      "/home/ryan.zurrin001/miniconda3/envs/O/lib/python3.9/site-packages/pyod/models/base.py:412: UserWarning: y should not be presented in unsupervised learning.\n",
      "  warnings.warn(\n",
      "/home/ryan.zurrin001/miniconda3/envs/O/lib/python3.9/site-packages/pyod/models/base.py:412: UserWarning: y should not be presented in unsupervised learning.\n",
      "  warnings.warn(\n",
      "/home/ryan.zurrin001/miniconda3/envs/O/lib/python3.9/site-packages/pyod/models/base.py:412: UserWarning: y should not be presented in unsupervised learning.\n",
      "  warnings.warn(\n"
     ]
    },
    {
     "name": "stdout",
     "output_type": "stream",
     "text": [
      "\r",
      " 32%|██████████████████████████████████████████▉                                                                                           | 16/50 [01:04<05:28,  9.67s/trial, best loss: -0.3230646152107367]"
     ]
    },
    {
     "name": "stderr",
     "output_type": "stream",
     "text": [
      "/home/ryan.zurrin001/miniconda3/envs/O/lib/python3.9/site-packages/pyod/models/base.py:412: UserWarning: y should not be presented in unsupervised learning.\n",
      "  warnings.warn(\n",
      "/home/ryan.zurrin001/miniconda3/envs/O/lib/python3.9/site-packages/pyod/models/base.py:412: UserWarning: y should not be presented in unsupervised learning.\n",
      "  warnings.warn(\n",
      "/home/ryan.zurrin001/miniconda3/envs/O/lib/python3.9/site-packages/pyod/models/base.py:412: UserWarning: y should not be presented in unsupervised learning.\n",
      "  warnings.warn(\n",
      "/home/ryan.zurrin001/miniconda3/envs/O/lib/python3.9/site-packages/pyod/models/base.py:412: UserWarning: y should not be presented in unsupervised learning.\n",
      "  warnings.warn(\n",
      "/home/ryan.zurrin001/miniconda3/envs/O/lib/python3.9/site-packages/pyod/models/base.py:412: UserWarning: y should not be presented in unsupervised learning.\n",
      "  warnings.warn(\n"
     ]
    },
    {
     "name": "stdout",
     "output_type": "stream",
     "text": [
      "\r",
      " 34%|█████████████████████████████████████████████▌                                                                                        | 17/50 [01:30<08:01, 14.61s/trial, best loss: -0.3230646152107367]"
     ]
    },
    {
     "name": "stderr",
     "output_type": "stream",
     "text": [
      "/home/ryan.zurrin001/miniconda3/envs/O/lib/python3.9/site-packages/pyod/models/base.py:412: UserWarning: y should not be presented in unsupervised learning.\n",
      "  warnings.warn(\n",
      "/home/ryan.zurrin001/miniconda3/envs/O/lib/python3.9/site-packages/pyod/models/base.py:412: UserWarning: y should not be presented in unsupervised learning.\n",
      "  warnings.warn(\n",
      "/home/ryan.zurrin001/miniconda3/envs/O/lib/python3.9/site-packages/pyod/models/base.py:412: UserWarning: y should not be presented in unsupervised learning.\n",
      "  warnings.warn(\n",
      "/home/ryan.zurrin001/miniconda3/envs/O/lib/python3.9/site-packages/pyod/models/base.py:412: UserWarning: y should not be presented in unsupervised learning.\n",
      "  warnings.warn(\n",
      "/home/ryan.zurrin001/miniconda3/envs/O/lib/python3.9/site-packages/pyod/models/base.py:412: UserWarning: y should not be presented in unsupervised learning.\n",
      "  warnings.warn(\n"
     ]
    },
    {
     "name": "stdout",
     "output_type": "stream",
     "text": [
      "\r",
      " 36%|████████████████████████████████████████████████▏                                                                                     | 18/50 [01:31<05:33, 10.42s/trial, best loss: -0.3230646152107367]"
     ]
    },
    {
     "name": "stderr",
     "output_type": "stream",
     "text": [
      "/home/ryan.zurrin001/miniconda3/envs/O/lib/python3.9/site-packages/pyod/models/base.py:412: UserWarning: y should not be presented in unsupervised learning.\n",
      "  warnings.warn(\n",
      "/home/ryan.zurrin001/miniconda3/envs/O/lib/python3.9/site-packages/pyod/models/base.py:412: UserWarning: y should not be presented in unsupervised learning.\n",
      "  warnings.warn(\n",
      "/home/ryan.zurrin001/miniconda3/envs/O/lib/python3.9/site-packages/pyod/models/base.py:412: UserWarning: y should not be presented in unsupervised learning.\n",
      "  warnings.warn(\n",
      "/home/ryan.zurrin001/miniconda3/envs/O/lib/python3.9/site-packages/pyod/models/base.py:412: UserWarning: y should not be presented in unsupervised learning.\n",
      "  warnings.warn(\n",
      "/home/ryan.zurrin001/miniconda3/envs/O/lib/python3.9/site-packages/pyod/models/base.py:412: UserWarning: y should not be presented in unsupervised learning.\n",
      "  warnings.warn(\n"
     ]
    },
    {
     "name": "stdout",
     "output_type": "stream",
     "text": [
      "\r",
      " 38%|██████████████████████████████████████████████████▉                                                                                   | 19/50 [01:33<04:00,  7.76s/trial, best loss: -0.3230646152107367]"
     ]
    },
    {
     "name": "stderr",
     "output_type": "stream",
     "text": [
      "/home/ryan.zurrin001/miniconda3/envs/O/lib/python3.9/site-packages/pyod/models/base.py:412: UserWarning: y should not be presented in unsupervised learning.\n",
      "  warnings.warn(\n",
      "/home/ryan.zurrin001/miniconda3/envs/O/lib/python3.9/site-packages/pyod/models/base.py:412: UserWarning: y should not be presented in unsupervised learning.\n",
      "  warnings.warn(\n",
      "/home/ryan.zurrin001/miniconda3/envs/O/lib/python3.9/site-packages/pyod/models/base.py:412: UserWarning: y should not be presented in unsupervised learning.\n",
      "  warnings.warn(\n",
      "/home/ryan.zurrin001/miniconda3/envs/O/lib/python3.9/site-packages/pyod/models/base.py:412: UserWarning: y should not be presented in unsupervised learning.\n",
      "  warnings.warn(\n",
      "/home/ryan.zurrin001/miniconda3/envs/O/lib/python3.9/site-packages/pyod/models/base.py:412: UserWarning: y should not be presented in unsupervised learning.\n",
      "  warnings.warn(\n"
     ]
    },
    {
     "name": "stdout",
     "output_type": "stream",
     "text": [
      "\r",
      " 40%|█████████████████████████████████████████████████████▌                                                                                | 20/50 [01:59<06:37, 13.25s/trial, best loss: -0.3230646152107367]"
     ]
    },
    {
     "name": "stderr",
     "output_type": "stream",
     "text": [
      "/home/ryan.zurrin001/miniconda3/envs/O/lib/python3.9/site-packages/pyod/models/base.py:412: UserWarning: y should not be presented in unsupervised learning.\n",
      "  warnings.warn(\n",
      "/home/ryan.zurrin001/miniconda3/envs/O/lib/python3.9/site-packages/pyod/models/base.py:412: UserWarning: y should not be presented in unsupervised learning.\n",
      "  warnings.warn(\n",
      "/home/ryan.zurrin001/miniconda3/envs/O/lib/python3.9/site-packages/pyod/models/base.py:412: UserWarning: y should not be presented in unsupervised learning.\n",
      "  warnings.warn(\n",
      "/home/ryan.zurrin001/miniconda3/envs/O/lib/python3.9/site-packages/pyod/models/base.py:412: UserWarning: y should not be presented in unsupervised learning.\n",
      "  warnings.warn(\n",
      "/home/ryan.zurrin001/miniconda3/envs/O/lib/python3.9/site-packages/pyod/models/base.py:412: UserWarning: y should not be presented in unsupervised learning.\n",
      "  warnings.warn(\n"
     ]
    },
    {
     "name": "stdout",
     "output_type": "stream",
     "text": [
      "\r",
      " 42%|████████████████████████████████████████████████████████▎                                                                             | 21/50 [02:00<04:41,  9.69s/trial, best loss: -0.3230646152107367]"
     ]
    },
    {
     "name": "stderr",
     "output_type": "stream",
     "text": [
      "/home/ryan.zurrin001/miniconda3/envs/O/lib/python3.9/site-packages/pyod/models/base.py:412: UserWarning: y should not be presented in unsupervised learning.\n",
      "  warnings.warn(\n",
      "/home/ryan.zurrin001/miniconda3/envs/O/lib/python3.9/site-packages/pyod/models/base.py:412: UserWarning: y should not be presented in unsupervised learning.\n",
      "  warnings.warn(\n",
      "/home/ryan.zurrin001/miniconda3/envs/O/lib/python3.9/site-packages/pyod/models/base.py:412: UserWarning: y should not be presented in unsupervised learning.\n",
      "  warnings.warn(\n",
      "/home/ryan.zurrin001/miniconda3/envs/O/lib/python3.9/site-packages/pyod/models/base.py:412: UserWarning: y should not be presented in unsupervised learning.\n",
      "  warnings.warn(\n",
      "/home/ryan.zurrin001/miniconda3/envs/O/lib/python3.9/site-packages/pyod/models/base.py:412: UserWarning: y should not be presented in unsupervised learning.\n",
      "  warnings.warn(\n"
     ]
    },
    {
     "name": "stdout",
     "output_type": "stream",
     "text": [
      "\r",
      " 44%|██████████████████████████████████████████████████████████▉                                                                           | 22/50 [02:02<03:27,  7.39s/trial, best loss: -0.3230646152107367]"
     ]
    },
    {
     "name": "stderr",
     "output_type": "stream",
     "text": [
      "/home/ryan.zurrin001/miniconda3/envs/O/lib/python3.9/site-packages/pyod/models/base.py:412: UserWarning: y should not be presented in unsupervised learning.\n",
      "  warnings.warn(\n",
      "/home/ryan.zurrin001/miniconda3/envs/O/lib/python3.9/site-packages/pyod/models/base.py:412: UserWarning: y should not be presented in unsupervised learning.\n",
      "  warnings.warn(\n",
      "/home/ryan.zurrin001/miniconda3/envs/O/lib/python3.9/site-packages/pyod/models/base.py:412: UserWarning: y should not be presented in unsupervised learning.\n",
      "  warnings.warn(\n",
      "/home/ryan.zurrin001/miniconda3/envs/O/lib/python3.9/site-packages/pyod/models/base.py:412: UserWarning: y should not be presented in unsupervised learning.\n",
      "  warnings.warn(\n",
      "/home/ryan.zurrin001/miniconda3/envs/O/lib/python3.9/site-packages/pyod/models/base.py:412: UserWarning: y should not be presented in unsupervised learning.\n",
      "  warnings.warn(\n"
     ]
    },
    {
     "name": "stdout",
     "output_type": "stream",
     "text": [
      "\r",
      " 46%|█████████████████████████████████████████████████████████████▋                                                                        | 23/50 [02:18<04:25,  9.84s/trial, best loss: -0.3230646152107367]"
     ]
    },
    {
     "name": "stderr",
     "output_type": "stream",
     "text": [
      "/home/ryan.zurrin001/miniconda3/envs/O/lib/python3.9/site-packages/pyod/models/base.py:412: UserWarning: y should not be presented in unsupervised learning.\n",
      "  warnings.warn(\n",
      "/home/ryan.zurrin001/miniconda3/envs/O/lib/python3.9/site-packages/pyod/models/base.py:412: UserWarning: y should not be presented in unsupervised learning.\n",
      "  warnings.warn(\n",
      "/home/ryan.zurrin001/miniconda3/envs/O/lib/python3.9/site-packages/pyod/models/base.py:412: UserWarning: y should not be presented in unsupervised learning.\n",
      "  warnings.warn(\n",
      "/home/ryan.zurrin001/miniconda3/envs/O/lib/python3.9/site-packages/pyod/models/base.py:412: UserWarning: y should not be presented in unsupervised learning.\n",
      "  warnings.warn(\n",
      "/home/ryan.zurrin001/miniconda3/envs/O/lib/python3.9/site-packages/pyod/models/base.py:412: UserWarning: y should not be presented in unsupervised learning.\n",
      "  warnings.warn(\n"
     ]
    },
    {
     "name": "stdout",
     "output_type": "stream",
     "text": [
      "\r",
      " 48%|████████████████████████████████████████████████████████████████▎                                                                     | 24/50 [02:37<05:31, 12.74s/trial, best loss: -0.3230646152107367]"
     ]
    },
    {
     "name": "stderr",
     "output_type": "stream",
     "text": [
      "/home/ryan.zurrin001/miniconda3/envs/O/lib/python3.9/site-packages/pyod/models/base.py:412: UserWarning: y should not be presented in unsupervised learning.\n",
      "  warnings.warn(\n",
      "/home/ryan.zurrin001/miniconda3/envs/O/lib/python3.9/site-packages/pyod/models/base.py:412: UserWarning: y should not be presented in unsupervised learning.\n",
      "  warnings.warn(\n",
      "/home/ryan.zurrin001/miniconda3/envs/O/lib/python3.9/site-packages/pyod/models/base.py:412: UserWarning: y should not be presented in unsupervised learning.\n",
      "  warnings.warn(\n",
      "/home/ryan.zurrin001/miniconda3/envs/O/lib/python3.9/site-packages/pyod/models/base.py:412: UserWarning: y should not be presented in unsupervised learning.\n",
      "  warnings.warn(\n",
      "/home/ryan.zurrin001/miniconda3/envs/O/lib/python3.9/site-packages/pyod/models/base.py:412: UserWarning: y should not be presented in unsupervised learning.\n",
      "  warnings.warn(\n"
     ]
    },
    {
     "name": "stdout",
     "output_type": "stream",
     "text": [
      "\r",
      " 50%|███████████████████████████████████████████████████████████████████                                                                   | 25/50 [02:39<03:52,  9.32s/trial, best loss: -0.3230646152107367]"
     ]
    },
    {
     "name": "stderr",
     "output_type": "stream",
     "text": [
      "/home/ryan.zurrin001/miniconda3/envs/O/lib/python3.9/site-packages/pyod/models/base.py:412: UserWarning: y should not be presented in unsupervised learning.\n",
      "  warnings.warn(\n",
      "/home/ryan.zurrin001/miniconda3/envs/O/lib/python3.9/site-packages/pyod/models/base.py:412: UserWarning: y should not be presented in unsupervised learning.\n",
      "  warnings.warn(\n",
      "/home/ryan.zurrin001/miniconda3/envs/O/lib/python3.9/site-packages/pyod/models/base.py:412: UserWarning: y should not be presented in unsupervised learning.\n",
      "  warnings.warn(\n",
      "/home/ryan.zurrin001/miniconda3/envs/O/lib/python3.9/site-packages/pyod/models/base.py:412: UserWarning: y should not be presented in unsupervised learning.\n",
      "  warnings.warn(\n",
      "/home/ryan.zurrin001/miniconda3/envs/O/lib/python3.9/site-packages/pyod/models/base.py:412: UserWarning: y should not be presented in unsupervised learning.\n",
      "  warnings.warn(\n"
     ]
    },
    {
     "name": "stdout",
     "output_type": "stream",
     "text": [
      "\r",
      " 52%|█████████████████████████████████████████████████████████████████████▋                                                                | 26/50 [02:40<02:45,  6.88s/trial, best loss: -0.3230646152107367]"
     ]
    },
    {
     "name": "stderr",
     "output_type": "stream",
     "text": [
      "/home/ryan.zurrin001/miniconda3/envs/O/lib/python3.9/site-packages/pyod/models/base.py:412: UserWarning: y should not be presented in unsupervised learning.\n",
      "  warnings.warn(\n",
      "/home/ryan.zurrin001/miniconda3/envs/O/lib/python3.9/site-packages/pyod/models/base.py:412: UserWarning: y should not be presented in unsupervised learning.\n",
      "  warnings.warn(\n",
      "/home/ryan.zurrin001/miniconda3/envs/O/lib/python3.9/site-packages/pyod/models/base.py:412: UserWarning: y should not be presented in unsupervised learning.\n",
      "  warnings.warn(\n",
      "/home/ryan.zurrin001/miniconda3/envs/O/lib/python3.9/site-packages/pyod/models/base.py:412: UserWarning: y should not be presented in unsupervised learning.\n",
      "  warnings.warn(\n",
      "/home/ryan.zurrin001/miniconda3/envs/O/lib/python3.9/site-packages/pyod/models/base.py:412: UserWarning: y should not be presented in unsupervised learning.\n",
      "  warnings.warn(\n"
     ]
    },
    {
     "name": "stdout",
     "output_type": "stream",
     "text": [
      "\r",
      " 54%|████████████████████████████████████████████████████████████████████████▎                                                             | 27/50 [02:42<02:04,  5.43s/trial, best loss: -0.3230646152107367]"
     ]
    },
    {
     "name": "stderr",
     "output_type": "stream",
     "text": [
      "/home/ryan.zurrin001/miniconda3/envs/O/lib/python3.9/site-packages/pyod/models/base.py:412: UserWarning: y should not be presented in unsupervised learning.\n",
      "  warnings.warn(\n",
      "/home/ryan.zurrin001/miniconda3/envs/O/lib/python3.9/site-packages/pyod/models/base.py:412: UserWarning: y should not be presented in unsupervised learning.\n",
      "  warnings.warn(\n",
      "/home/ryan.zurrin001/miniconda3/envs/O/lib/python3.9/site-packages/pyod/models/base.py:412: UserWarning: y should not be presented in unsupervised learning.\n",
      "  warnings.warn(\n",
      "/home/ryan.zurrin001/miniconda3/envs/O/lib/python3.9/site-packages/pyod/models/base.py:412: UserWarning: y should not be presented in unsupervised learning.\n",
      "  warnings.warn(\n",
      "/home/ryan.zurrin001/miniconda3/envs/O/lib/python3.9/site-packages/pyod/models/base.py:412: UserWarning: y should not be presented in unsupervised learning.\n",
      "  warnings.warn(\n"
     ]
    },
    {
     "name": "stdout",
     "output_type": "stream",
     "text": [
      "\r",
      " 56%|███████████████████████████████████████████████████████████████████████████                                                           | 28/50 [03:06<04:05, 11.18s/trial, best loss: -0.3230646152107367]"
     ]
    },
    {
     "name": "stderr",
     "output_type": "stream",
     "text": [
      "/home/ryan.zurrin001/miniconda3/envs/O/lib/python3.9/site-packages/pyod/models/base.py:412: UserWarning: y should not be presented in unsupervised learning.\n",
      "  warnings.warn(\n",
      "/home/ryan.zurrin001/miniconda3/envs/O/lib/python3.9/site-packages/pyod/models/base.py:412: UserWarning: y should not be presented in unsupervised learning.\n",
      "  warnings.warn(\n",
      "/home/ryan.zurrin001/miniconda3/envs/O/lib/python3.9/site-packages/pyod/models/base.py:412: UserWarning: y should not be presented in unsupervised learning.\n",
      "  warnings.warn(\n",
      "/home/ryan.zurrin001/miniconda3/envs/O/lib/python3.9/site-packages/pyod/models/base.py:412: UserWarning: y should not be presented in unsupervised learning.\n",
      "  warnings.warn(\n",
      "/home/ryan.zurrin001/miniconda3/envs/O/lib/python3.9/site-packages/pyod/models/base.py:412: UserWarning: y should not be presented in unsupervised learning.\n",
      "  warnings.warn(\n"
     ]
    },
    {
     "name": "stdout",
     "output_type": "stream",
     "text": [
      "\r",
      " 58%|█████████████████████████████████████████████████████████████████████████████▋                                                        | 29/50 [03:07<02:50,  8.10s/trial, best loss: -0.3230646152107367]"
     ]
    },
    {
     "name": "stderr",
     "output_type": "stream",
     "text": [
      "/home/ryan.zurrin001/miniconda3/envs/O/lib/python3.9/site-packages/pyod/models/base.py:412: UserWarning: y should not be presented in unsupervised learning.\n",
      "  warnings.warn(\n",
      "/home/ryan.zurrin001/miniconda3/envs/O/lib/python3.9/site-packages/pyod/models/base.py:412: UserWarning: y should not be presented in unsupervised learning.\n",
      "  warnings.warn(\n",
      "/home/ryan.zurrin001/miniconda3/envs/O/lib/python3.9/site-packages/pyod/models/base.py:412: UserWarning: y should not be presented in unsupervised learning.\n",
      "  warnings.warn(\n",
      "/home/ryan.zurrin001/miniconda3/envs/O/lib/python3.9/site-packages/pyod/models/base.py:412: UserWarning: y should not be presented in unsupervised learning.\n",
      "  warnings.warn(\n",
      "/home/ryan.zurrin001/miniconda3/envs/O/lib/python3.9/site-packages/pyod/models/base.py:412: UserWarning: y should not be presented in unsupervised learning.\n",
      "  warnings.warn(\n"
     ]
    },
    {
     "name": "stdout",
     "output_type": "stream",
     "text": [
      "\r",
      " 60%|████████████████████████████████████████████████████████████████████████████████▍                                                     | 30/50 [03:09<02:02,  6.15s/trial, best loss: -0.3230646152107367]"
     ]
    },
    {
     "name": "stderr",
     "output_type": "stream",
     "text": [
      "/home/ryan.zurrin001/miniconda3/envs/O/lib/python3.9/site-packages/pyod/models/base.py:412: UserWarning: y should not be presented in unsupervised learning.\n",
      "  warnings.warn(\n",
      "/home/ryan.zurrin001/miniconda3/envs/O/lib/python3.9/site-packages/pyod/models/base.py:412: UserWarning: y should not be presented in unsupervised learning.\n",
      "  warnings.warn(\n",
      "/home/ryan.zurrin001/miniconda3/envs/O/lib/python3.9/site-packages/pyod/models/base.py:412: UserWarning: y should not be presented in unsupervised learning.\n",
      "  warnings.warn(\n",
      "/home/ryan.zurrin001/miniconda3/envs/O/lib/python3.9/site-packages/pyod/models/base.py:412: UserWarning: y should not be presented in unsupervised learning.\n",
      "  warnings.warn(\n",
      "/home/ryan.zurrin001/miniconda3/envs/O/lib/python3.9/site-packages/pyod/models/base.py:412: UserWarning: y should not be presented in unsupervised learning.\n",
      "  warnings.warn(\n"
     ]
    },
    {
     "name": "stdout",
     "output_type": "stream",
     "text": [
      "\r",
      " 62%|███████████████████████████████████████████████████████████████████████████████████                                                   | 31/50 [03:10<01:26,  4.55s/trial, best loss: -0.3230646152107367]"
     ]
    },
    {
     "name": "stderr",
     "output_type": "stream",
     "text": [
      "/home/ryan.zurrin001/miniconda3/envs/O/lib/python3.9/site-packages/pyod/models/base.py:412: UserWarning: y should not be presented in unsupervised learning.\n",
      "  warnings.warn(\n",
      "/home/ryan.zurrin001/miniconda3/envs/O/lib/python3.9/site-packages/pyod/models/base.py:412: UserWarning: y should not be presented in unsupervised learning.\n",
      "  warnings.warn(\n",
      "/home/ryan.zurrin001/miniconda3/envs/O/lib/python3.9/site-packages/pyod/models/base.py:412: UserWarning: y should not be presented in unsupervised learning.\n",
      "  warnings.warn(\n",
      "/home/ryan.zurrin001/miniconda3/envs/O/lib/python3.9/site-packages/pyod/models/base.py:412: UserWarning: y should not be presented in unsupervised learning.\n",
      "  warnings.warn(\n",
      "/home/ryan.zurrin001/miniconda3/envs/O/lib/python3.9/site-packages/pyod/models/base.py:412: UserWarning: y should not be presented in unsupervised learning.\n",
      "  warnings.warn(\n"
     ]
    },
    {
     "name": "stdout",
     "output_type": "stream",
     "text": [
      "\r",
      " 64%|█████████████████████████████████████████████████████████████████████████████████████▊                                                | 32/50 [03:11<01:02,  3.45s/trial, best loss: -0.3230646152107367]"
     ]
    },
    {
     "name": "stderr",
     "output_type": "stream",
     "text": [
      "/home/ryan.zurrin001/miniconda3/envs/O/lib/python3.9/site-packages/pyod/models/base.py:412: UserWarning: y should not be presented in unsupervised learning.\n",
      "  warnings.warn(\n",
      "/home/ryan.zurrin001/miniconda3/envs/O/lib/python3.9/site-packages/pyod/models/base.py:412: UserWarning: y should not be presented in unsupervised learning.\n",
      "  warnings.warn(\n",
      "/home/ryan.zurrin001/miniconda3/envs/O/lib/python3.9/site-packages/pyod/models/base.py:412: UserWarning: y should not be presented in unsupervised learning.\n",
      "  warnings.warn(\n",
      "/home/ryan.zurrin001/miniconda3/envs/O/lib/python3.9/site-packages/pyod/models/base.py:412: UserWarning: y should not be presented in unsupervised learning.\n",
      "  warnings.warn(\n",
      "/home/ryan.zurrin001/miniconda3/envs/O/lib/python3.9/site-packages/pyod/models/base.py:412: UserWarning: y should not be presented in unsupervised learning.\n",
      "  warnings.warn(\n"
     ]
    },
    {
     "name": "stdout",
     "output_type": "stream",
     "text": [
      "\r",
      " 66%|████████████████████████████████████████████████████████████████████████████████████████▍                                             | 33/50 [03:12<00:50,  2.99s/trial, best loss: -0.3230646152107367]"
     ]
    },
    {
     "name": "stderr",
     "output_type": "stream",
     "text": [
      "/home/ryan.zurrin001/miniconda3/envs/O/lib/python3.9/site-packages/pyod/models/base.py:412: UserWarning: y should not be presented in unsupervised learning.\n",
      "  warnings.warn(\n",
      "/home/ryan.zurrin001/miniconda3/envs/O/lib/python3.9/site-packages/pyod/models/base.py:412: UserWarning: y should not be presented in unsupervised learning.\n",
      "  warnings.warn(\n",
      "/home/ryan.zurrin001/miniconda3/envs/O/lib/python3.9/site-packages/pyod/models/base.py:412: UserWarning: y should not be presented in unsupervised learning.\n",
      "  warnings.warn(\n",
      "/home/ryan.zurrin001/miniconda3/envs/O/lib/python3.9/site-packages/pyod/models/base.py:412: UserWarning: y should not be presented in unsupervised learning.\n",
      "  warnings.warn(\n",
      "/home/ryan.zurrin001/miniconda3/envs/O/lib/python3.9/site-packages/pyod/models/base.py:412: UserWarning: y should not be presented in unsupervised learning.\n",
      "  warnings.warn(\n"
     ]
    },
    {
     "name": "stdout",
     "output_type": "stream",
     "text": [
      "\r",
      " 68%|███████████████████████████████████████████████████████████████████████████████████████████                                           | 34/50 [03:26<01:37,  6.12s/trial, best loss: -0.3230646152107367]"
     ]
    },
    {
     "name": "stderr",
     "output_type": "stream",
     "text": [
      "/home/ryan.zurrin001/miniconda3/envs/O/lib/python3.9/site-packages/pyod/models/base.py:412: UserWarning: y should not be presented in unsupervised learning.\n",
      "  warnings.warn(\n",
      "/home/ryan.zurrin001/miniconda3/envs/O/lib/python3.9/site-packages/pyod/models/base.py:412: UserWarning: y should not be presented in unsupervised learning.\n",
      "  warnings.warn(\n",
      "/home/ryan.zurrin001/miniconda3/envs/O/lib/python3.9/site-packages/pyod/models/base.py:412: UserWarning: y should not be presented in unsupervised learning.\n",
      "  warnings.warn(\n",
      "/home/ryan.zurrin001/miniconda3/envs/O/lib/python3.9/site-packages/pyod/models/base.py:412: UserWarning: y should not be presented in unsupervised learning.\n",
      "  warnings.warn(\n",
      "/home/ryan.zurrin001/miniconda3/envs/O/lib/python3.9/site-packages/pyod/models/base.py:412: UserWarning: y should not be presented in unsupervised learning.\n",
      "  warnings.warn(\n"
     ]
    },
    {
     "name": "stdout",
     "output_type": "stream",
     "text": [
      "\r",
      " 70%|█████████████████████████████████████████████████████████████████████████████████████████████▊                                        | 35/50 [03:40<02:06,  8.42s/trial, best loss: -0.3230646152107367]"
     ]
    },
    {
     "name": "stderr",
     "output_type": "stream",
     "text": [
      "/home/ryan.zurrin001/miniconda3/envs/O/lib/python3.9/site-packages/pyod/models/base.py:412: UserWarning: y should not be presented in unsupervised learning.\n",
      "  warnings.warn(\n",
      "/home/ryan.zurrin001/miniconda3/envs/O/lib/python3.9/site-packages/pyod/models/base.py:412: UserWarning: y should not be presented in unsupervised learning.\n",
      "  warnings.warn(\n",
      "/home/ryan.zurrin001/miniconda3/envs/O/lib/python3.9/site-packages/pyod/models/base.py:412: UserWarning: y should not be presented in unsupervised learning.\n",
      "  warnings.warn(\n",
      "/home/ryan.zurrin001/miniconda3/envs/O/lib/python3.9/site-packages/pyod/models/base.py:412: UserWarning: y should not be presented in unsupervised learning.\n",
      "  warnings.warn(\n",
      "/home/ryan.zurrin001/miniconda3/envs/O/lib/python3.9/site-packages/pyod/models/base.py:412: UserWarning: y should not be presented in unsupervised learning.\n",
      "  warnings.warn(\n"
     ]
    },
    {
     "name": "stdout",
     "output_type": "stream",
     "text": [
      "\r",
      " 72%|████████████████████████████████████████████████████████████████████████████████████████████████▍                                     | 36/50 [04:06<03:11, 13.69s/trial, best loss: -0.3230646152107367]"
     ]
    },
    {
     "name": "stderr",
     "output_type": "stream",
     "text": [
      "/home/ryan.zurrin001/miniconda3/envs/O/lib/python3.9/site-packages/pyod/models/base.py:412: UserWarning: y should not be presented in unsupervised learning.\n",
      "  warnings.warn(\n",
      "/home/ryan.zurrin001/miniconda3/envs/O/lib/python3.9/site-packages/pyod/models/base.py:412: UserWarning: y should not be presented in unsupervised learning.\n",
      "  warnings.warn(\n",
      "/home/ryan.zurrin001/miniconda3/envs/O/lib/python3.9/site-packages/pyod/models/base.py:412: UserWarning: y should not be presented in unsupervised learning.\n",
      "  warnings.warn(\n",
      "/home/ryan.zurrin001/miniconda3/envs/O/lib/python3.9/site-packages/pyod/models/base.py:412: UserWarning: y should not be presented in unsupervised learning.\n",
      "  warnings.warn(\n",
      "/home/ryan.zurrin001/miniconda3/envs/O/lib/python3.9/site-packages/pyod/models/base.py:412: UserWarning: y should not be presented in unsupervised learning.\n",
      "  warnings.warn(\n"
     ]
    },
    {
     "name": "stdout",
     "output_type": "stream",
     "text": [
      "\r",
      " 74%|███████████████████████████████████████████████████████████████████████████████████████████████████▏                                  | 37/50 [04:07<02:09,  9.95s/trial, best loss: -0.3230646152107367]"
     ]
    },
    {
     "name": "stderr",
     "output_type": "stream",
     "text": [
      "/home/ryan.zurrin001/miniconda3/envs/O/lib/python3.9/site-packages/pyod/models/base.py:412: UserWarning: y should not be presented in unsupervised learning.\n",
      "  warnings.warn(\n",
      "/home/ryan.zurrin001/miniconda3/envs/O/lib/python3.9/site-packages/pyod/models/base.py:412: UserWarning: y should not be presented in unsupervised learning.\n",
      "  warnings.warn(\n",
      "/home/ryan.zurrin001/miniconda3/envs/O/lib/python3.9/site-packages/pyod/models/base.py:412: UserWarning: y should not be presented in unsupervised learning.\n",
      "  warnings.warn(\n",
      "/home/ryan.zurrin001/miniconda3/envs/O/lib/python3.9/site-packages/pyod/models/base.py:412: UserWarning: y should not be presented in unsupervised learning.\n",
      "  warnings.warn(\n",
      "/home/ryan.zurrin001/miniconda3/envs/O/lib/python3.9/site-packages/pyod/models/base.py:412: UserWarning: y should not be presented in unsupervised learning.\n",
      "  warnings.warn(\n"
     ]
    },
    {
     "name": "stdout",
     "output_type": "stream",
     "text": [
      "\r",
      " 76%|█████████████████████████████████████████████████████████████████████████████████████████████████████▊                                | 38/50 [04:08<01:27,  7.28s/trial, best loss: -0.3230646152107367]"
     ]
    },
    {
     "name": "stderr",
     "output_type": "stream",
     "text": [
      "/home/ryan.zurrin001/miniconda3/envs/O/lib/python3.9/site-packages/pyod/models/base.py:412: UserWarning: y should not be presented in unsupervised learning.\n",
      "  warnings.warn(\n",
      "/home/ryan.zurrin001/miniconda3/envs/O/lib/python3.9/site-packages/pyod/models/base.py:412: UserWarning: y should not be presented in unsupervised learning.\n",
      "  warnings.warn(\n",
      "/home/ryan.zurrin001/miniconda3/envs/O/lib/python3.9/site-packages/pyod/models/base.py:412: UserWarning: y should not be presented in unsupervised learning.\n",
      "  warnings.warn(\n",
      "/home/ryan.zurrin001/miniconda3/envs/O/lib/python3.9/site-packages/pyod/models/base.py:412: UserWarning: y should not be presented in unsupervised learning.\n",
      "  warnings.warn(\n"
     ]
    },
    {
     "name": "stdout",
     "output_type": "stream",
     "text": [
      "\r",
      " 78%|████████████████████████████████████████████████████████████████████████████████████████████████████████▌                             | 39/50 [04:09<00:57,  5.26s/trial, best loss: -0.3230646152107367]"
     ]
    },
    {
     "name": "stderr",
     "output_type": "stream",
     "text": [
      "/home/ryan.zurrin001/miniconda3/envs/O/lib/python3.9/site-packages/pyod/models/base.py:412: UserWarning: y should not be presented in unsupervised learning.\n",
      "  warnings.warn(\n",
      "/home/ryan.zurrin001/miniconda3/envs/O/lib/python3.9/site-packages/pyod/models/base.py:412: UserWarning: y should not be presented in unsupervised learning.\n",
      "  warnings.warn(\n",
      "/home/ryan.zurrin001/miniconda3/envs/O/lib/python3.9/site-packages/pyod/models/base.py:412: UserWarning: y should not be presented in unsupervised learning.\n",
      "  warnings.warn(\n",
      "/home/ryan.zurrin001/miniconda3/envs/O/lib/python3.9/site-packages/pyod/models/base.py:412: UserWarning: y should not be presented in unsupervised learning.\n",
      "  warnings.warn(\n",
      "/home/ryan.zurrin001/miniconda3/envs/O/lib/python3.9/site-packages/pyod/models/base.py:412: UserWarning: y should not be presented in unsupervised learning.\n",
      "  warnings.warn(\n",
      "/home/ryan.zurrin001/miniconda3/envs/O/lib/python3.9/site-packages/pyod/models/base.py:412: UserWarning: y should not be presented in unsupervised learning.\n",
      "  warnings.warn(\n"
     ]
    },
    {
     "name": "stdout",
     "output_type": "stream",
     "text": [
      "\r",
      " 80%|███████████████████████████████████████████████████████████████████████████████████████████████████████████▏                          | 40/50 [04:09<00:38,  3.82s/trial, best loss: -0.3230646152107367]"
     ]
    },
    {
     "name": "stderr",
     "output_type": "stream",
     "text": [
      "/home/ryan.zurrin001/miniconda3/envs/O/lib/python3.9/site-packages/pyod/models/base.py:412: UserWarning: y should not be presented in unsupervised learning.\n",
      "  warnings.warn(\n",
      "/home/ryan.zurrin001/miniconda3/envs/O/lib/python3.9/site-packages/pyod/models/base.py:412: UserWarning: y should not be presented in unsupervised learning.\n",
      "  warnings.warn(\n",
      "/home/ryan.zurrin001/miniconda3/envs/O/lib/python3.9/site-packages/pyod/models/base.py:412: UserWarning: y should not be presented in unsupervised learning.\n",
      "  warnings.warn(\n",
      "/home/ryan.zurrin001/miniconda3/envs/O/lib/python3.9/site-packages/pyod/models/base.py:412: UserWarning: y should not be presented in unsupervised learning.\n",
      "  warnings.warn(\n"
     ]
    },
    {
     "name": "stdout",
     "output_type": "stream",
     "text": [
      "\r",
      " 82%|█████████████████████████████████████████████████████████████████████████████████████████████████████████████▉                        | 41/50 [04:09<00:25,  2.83s/trial, best loss: -0.3230646152107367]"
     ]
    },
    {
     "name": "stderr",
     "output_type": "stream",
     "text": [
      "/home/ryan.zurrin001/miniconda3/envs/O/lib/python3.9/site-packages/pyod/models/base.py:412: UserWarning: y should not be presented in unsupervised learning.\n",
      "  warnings.warn(\n",
      "/home/ryan.zurrin001/miniconda3/envs/O/lib/python3.9/site-packages/pyod/models/base.py:412: UserWarning: y should not be presented in unsupervised learning.\n",
      "  warnings.warn(\n",
      "/home/ryan.zurrin001/miniconda3/envs/O/lib/python3.9/site-packages/pyod/models/base.py:412: UserWarning: y should not be presented in unsupervised learning.\n",
      "  warnings.warn(\n",
      "/home/ryan.zurrin001/miniconda3/envs/O/lib/python3.9/site-packages/pyod/models/base.py:412: UserWarning: y should not be presented in unsupervised learning.\n",
      "  warnings.warn(\n",
      "/home/ryan.zurrin001/miniconda3/envs/O/lib/python3.9/site-packages/pyod/models/base.py:412: UserWarning: y should not be presented in unsupervised learning.\n",
      "  warnings.warn(\n"
     ]
    },
    {
     "name": "stdout",
     "output_type": "stream",
     "text": [
      "\r",
      " 84%|████████████████████████████████████████████████████████████████████████████████████████████████████████████████▌                     | 42/50 [04:10<00:17,  2.13s/trial, best loss: -0.3230646152107367]"
     ]
    },
    {
     "name": "stderr",
     "output_type": "stream",
     "text": [
      "/home/ryan.zurrin001/miniconda3/envs/O/lib/python3.9/site-packages/pyod/models/base.py:412: UserWarning: y should not be presented in unsupervised learning.\n",
      "  warnings.warn(\n",
      "/home/ryan.zurrin001/miniconda3/envs/O/lib/python3.9/site-packages/pyod/models/base.py:412: UserWarning: y should not be presented in unsupervised learning.\n",
      "  warnings.warn(\n",
      "/home/ryan.zurrin001/miniconda3/envs/O/lib/python3.9/site-packages/pyod/models/base.py:412: UserWarning: y should not be presented in unsupervised learning.\n",
      "  warnings.warn(\n",
      "/home/ryan.zurrin001/miniconda3/envs/O/lib/python3.9/site-packages/pyod/models/base.py:412: UserWarning: y should not be presented in unsupervised learning.\n",
      "  warnings.warn(\n",
      "/home/ryan.zurrin001/miniconda3/envs/O/lib/python3.9/site-packages/pyod/models/base.py:412: UserWarning: y should not be presented in unsupervised learning.\n",
      "  warnings.warn(\n",
      "/home/ryan.zurrin001/miniconda3/envs/O/lib/python3.9/site-packages/pyod/models/base.py:412: UserWarning: y should not be presented in unsupervised learning.\n",
      "  warnings.warn(\n"
     ]
    },
    {
     "name": "stdout",
     "output_type": "stream",
     "text": [
      "\r",
      " 86%|███████████████████████████████████████████████████████████████████████████████████████████████████████████████████▏                  | 43/50 [04:11<00:12,  1.80s/trial, best loss: -0.3230646152107367]"
     ]
    },
    {
     "name": "stderr",
     "output_type": "stream",
     "text": [
      "/home/ryan.zurrin001/miniconda3/envs/O/lib/python3.9/site-packages/pyod/models/base.py:412: UserWarning: y should not be presented in unsupervised learning.\n",
      "  warnings.warn(\n",
      "/home/ryan.zurrin001/miniconda3/envs/O/lib/python3.9/site-packages/pyod/models/base.py:412: UserWarning: y should not be presented in unsupervised learning.\n",
      "  warnings.warn(\n",
      "/home/ryan.zurrin001/miniconda3/envs/O/lib/python3.9/site-packages/pyod/models/base.py:412: UserWarning: y should not be presented in unsupervised learning.\n",
      "  warnings.warn(\n",
      "/home/ryan.zurrin001/miniconda3/envs/O/lib/python3.9/site-packages/pyod/models/base.py:412: UserWarning: y should not be presented in unsupervised learning.\n",
      "  warnings.warn(\n",
      "/home/ryan.zurrin001/miniconda3/envs/O/lib/python3.9/site-packages/pyod/models/base.py:412: UserWarning: y should not be presented in unsupervised learning.\n",
      "  warnings.warn(\n"
     ]
    },
    {
     "name": "stdout",
     "output_type": "stream",
     "text": [
      "\r",
      " 88%|█████████████████████████████████████████████████████████████████████████████████████████████████████████████████████▉                | 44/50 [04:12<00:09,  1.53s/trial, best loss: -0.3230646152107367]"
     ]
    },
    {
     "name": "stderr",
     "output_type": "stream",
     "text": [
      "/home/ryan.zurrin001/miniconda3/envs/O/lib/python3.9/site-packages/pyod/models/base.py:412: UserWarning: y should not be presented in unsupervised learning.\n",
      "  warnings.warn(\n",
      "/home/ryan.zurrin001/miniconda3/envs/O/lib/python3.9/site-packages/pyod/models/base.py:412: UserWarning: y should not be presented in unsupervised learning.\n",
      "  warnings.warn(\n",
      "/home/ryan.zurrin001/miniconda3/envs/O/lib/python3.9/site-packages/pyod/models/base.py:412: UserWarning: y should not be presented in unsupervised learning.\n",
      "  warnings.warn(\n",
      "/home/ryan.zurrin001/miniconda3/envs/O/lib/python3.9/site-packages/pyod/models/base.py:412: UserWarning: y should not be presented in unsupervised learning.\n",
      "  warnings.warn(\n",
      "/home/ryan.zurrin001/miniconda3/envs/O/lib/python3.9/site-packages/pyod/models/base.py:412: UserWarning: y should not be presented in unsupervised learning.\n",
      "  warnings.warn(\n"
     ]
    },
    {
     "name": "stdout",
     "output_type": "stream",
     "text": [
      "\r",
      " 90%|████████████████████████████████████████████████████████████████████████████████████████████████████████████████████████▌             | 45/50 [04:13<00:06,  1.36s/trial, best loss: -0.3230646152107367]"
     ]
    },
    {
     "name": "stderr",
     "output_type": "stream",
     "text": [
      "/home/ryan.zurrin001/miniconda3/envs/O/lib/python3.9/site-packages/pyod/models/base.py:412: UserWarning: y should not be presented in unsupervised learning.\n",
      "  warnings.warn(\n",
      "/home/ryan.zurrin001/miniconda3/envs/O/lib/python3.9/site-packages/pyod/models/base.py:412: UserWarning: y should not be presented in unsupervised learning.\n",
      "  warnings.warn(\n",
      "/home/ryan.zurrin001/miniconda3/envs/O/lib/python3.9/site-packages/pyod/models/base.py:412: UserWarning: y should not be presented in unsupervised learning.\n",
      "  warnings.warn(\n",
      "/home/ryan.zurrin001/miniconda3/envs/O/lib/python3.9/site-packages/pyod/models/base.py:412: UserWarning: y should not be presented in unsupervised learning.\n",
      "  warnings.warn(\n",
      "/home/ryan.zurrin001/miniconda3/envs/O/lib/python3.9/site-packages/pyod/models/base.py:412: UserWarning: y should not be presented in unsupervised learning.\n",
      "  warnings.warn(\n"
     ]
    },
    {
     "name": "stdout",
     "output_type": "stream",
     "text": [
      "\r",
      " 92%|███████████████████████████████████████████████████████████████████████████████████████████████████████████████████████████▎          | 46/50 [04:14<00:05,  1.26s/trial, best loss: -0.3230646152107367]"
     ]
    },
    {
     "name": "stderr",
     "output_type": "stream",
     "text": [
      "/home/ryan.zurrin001/miniconda3/envs/O/lib/python3.9/site-packages/pyod/models/base.py:412: UserWarning: y should not be presented in unsupervised learning.\n",
      "  warnings.warn(\n",
      "/home/ryan.zurrin001/miniconda3/envs/O/lib/python3.9/site-packages/pyod/models/base.py:412: UserWarning: y should not be presented in unsupervised learning.\n",
      "  warnings.warn(\n",
      "/home/ryan.zurrin001/miniconda3/envs/O/lib/python3.9/site-packages/pyod/models/base.py:412: UserWarning: y should not be presented in unsupervised learning.\n",
      "  warnings.warn(\n",
      "/home/ryan.zurrin001/miniconda3/envs/O/lib/python3.9/site-packages/pyod/models/base.py:412: UserWarning: y should not be presented in unsupervised learning.\n",
      "  warnings.warn(\n",
      "/home/ryan.zurrin001/miniconda3/envs/O/lib/python3.9/site-packages/pyod/models/base.py:412: UserWarning: y should not be presented in unsupervised learning.\n",
      "  warnings.warn(\n"
     ]
    },
    {
     "name": "stdout",
     "output_type": "stream",
     "text": [
      "\r",
      " 94%|█████████████████████████████████████████████████████████████████████████████████████████████████████████████████████████████▉        | 47/50 [04:20<00:08,  2.86s/trial, best loss: -0.3230646152107367]"
     ]
    },
    {
     "name": "stderr",
     "output_type": "stream",
     "text": [
      "/home/ryan.zurrin001/miniconda3/envs/O/lib/python3.9/site-packages/pyod/models/base.py:412: UserWarning: y should not be presented in unsupervised learning.\n",
      "  warnings.warn(\n",
      "/home/ryan.zurrin001/miniconda3/envs/O/lib/python3.9/site-packages/pyod/models/base.py:412: UserWarning: y should not be presented in unsupervised learning.\n",
      "  warnings.warn(\n",
      "/home/ryan.zurrin001/miniconda3/envs/O/lib/python3.9/site-packages/pyod/models/base.py:412: UserWarning: y should not be presented in unsupervised learning.\n",
      "  warnings.warn(\n",
      "/home/ryan.zurrin001/miniconda3/envs/O/lib/python3.9/site-packages/pyod/models/base.py:412: UserWarning: y should not be presented in unsupervised learning.\n",
      "  warnings.warn(\n",
      "/home/ryan.zurrin001/miniconda3/envs/O/lib/python3.9/site-packages/pyod/models/base.py:412: UserWarning: y should not be presented in unsupervised learning.\n",
      "  warnings.warn(\n"
     ]
    },
    {
     "name": "stdout",
     "output_type": "stream",
     "text": [
      "\r",
      " 96%|████████████████████████████████████████████████████████████████████████████████████████████████████████████████████████████████▋     | 48/50 [04:33<00:11,  5.82s/trial, best loss: -0.3230646152107367]"
     ]
    },
    {
     "name": "stderr",
     "output_type": "stream",
     "text": [
      "/home/ryan.zurrin001/miniconda3/envs/O/lib/python3.9/site-packages/pyod/models/base.py:412: UserWarning: y should not be presented in unsupervised learning.\n",
      "  warnings.warn(\n",
      "/home/ryan.zurrin001/miniconda3/envs/O/lib/python3.9/site-packages/pyod/models/base.py:412: UserWarning: y should not be presented in unsupervised learning.\n",
      "  warnings.warn(\n",
      "/home/ryan.zurrin001/miniconda3/envs/O/lib/python3.9/site-packages/pyod/models/base.py:412: UserWarning: y should not be presented in unsupervised learning.\n",
      "  warnings.warn(\n",
      "/home/ryan.zurrin001/miniconda3/envs/O/lib/python3.9/site-packages/pyod/models/base.py:412: UserWarning: y should not be presented in unsupervised learning.\n",
      "  warnings.warn(\n",
      "/home/ryan.zurrin001/miniconda3/envs/O/lib/python3.9/site-packages/pyod/models/base.py:412: UserWarning: y should not be presented in unsupervised learning.\n",
      "  warnings.warn(\n"
     ]
    },
    {
     "name": "stdout",
     "output_type": "stream",
     "text": [
      "\r",
      " 98%|███████████████████████████████████████████████████████████████████████████████████████████████████████████████████████████████████▎  | 49/50 [04:34<00:04,  4.38s/trial, best loss: -0.3230646152107367]"
     ]
    },
    {
     "name": "stderr",
     "output_type": "stream",
     "text": [
      "/home/ryan.zurrin001/miniconda3/envs/O/lib/python3.9/site-packages/pyod/models/base.py:412: UserWarning: y should not be presented in unsupervised learning.\n",
      "  warnings.warn(\n",
      "/home/ryan.zurrin001/miniconda3/envs/O/lib/python3.9/site-packages/pyod/models/base.py:412: UserWarning: y should not be presented in unsupervised learning.\n",
      "  warnings.warn(\n",
      "/home/ryan.zurrin001/miniconda3/envs/O/lib/python3.9/site-packages/pyod/models/base.py:412: UserWarning: y should not be presented in unsupervised learning.\n",
      "  warnings.warn(\n",
      "/home/ryan.zurrin001/miniconda3/envs/O/lib/python3.9/site-packages/pyod/models/base.py:412: UserWarning: y should not be presented in unsupervised learning.\n",
      "  warnings.warn(\n",
      "/home/ryan.zurrin001/miniconda3/envs/O/lib/python3.9/site-packages/pyod/models/base.py:412: UserWarning: y should not be presented in unsupervised learning.\n",
      "  warnings.warn(\n"
     ]
    },
    {
     "name": "stdout",
     "output_type": "stream",
     "text": [
      "100%|██████████████████████████████████████████████████████████████████████████████████████████████████████████████████████████████████████| 50/50 [04:35<00:00,  5.51s/trial, best loss: -0.3230646152107367]\n"
     ]
    }
   ],
   "source": [
    "second_search = fmin(\n",
    "    fn=objective,\n",
    "    space=param_grid,\n",
    "    max_evals=50,\n",
    "    rstate=np.random.default_rng(42),\n",
    "    algo=rand.suggest,  # randomized search\n",
    "    trials = trials\n",
    ")"
   ]
  },
  {
   "cell_type": "code",
   "execution_count": 25,
   "id": "6b4c834e",
   "metadata": {},
   "outputs": [
    {
     "data": {
      "text/plain": [
       "{'contamination': 0.08773264855626918,\n",
       " 'leaf_size': 26.0,\n",
       " 'method': 0,\n",
       " 'metric': 3,\n",
       " 'n_jobs': 4.0,\n",
       " 'n_neighbors': 2.0,\n",
       " 'p': 9.0,\n",
       " 'radius': 1.2000000000000002}"
      ]
     },
     "execution_count": 25,
     "metadata": {},
     "output_type": "execute_result"
    }
   ],
   "source": [
    "# best hyperparameters\n",
    "\n",
    "second_search"
   ]
  },
  {
   "cell_type": "code",
   "execution_count": 26,
   "id": "9e5ce6b8",
   "metadata": {},
   "outputs": [
    {
     "data": {
      "text/plain": [
       "{'contamination': 0.08773264855626918,\n",
       " 'leaf_size': 26.0,\n",
       " 'method': 0,\n",
       " 'metric': 3,\n",
       " 'n_jobs': 4.0,\n",
       " 'n_neighbors': 2.0,\n",
       " 'p': 9.0,\n",
       " 'radius': 1.2000000000000002}"
      ]
     },
     "execution_count": 26,
     "metadata": {},
     "output_type": "execute_result"
    }
   ],
   "source": [
    "# the best hyperparameters can also be found in\n",
    "# trials\n",
    "\n",
    "trials.argmin"
   ]
  },
  {
   "cell_type": "code",
   "execution_count": 27,
   "id": "1b34f959",
   "metadata": {},
   "outputs": [
    {
     "data": {
      "text/html": [
       "<div>\n",
       "<style scoped>\n",
       "    .dataframe tbody tr th:only-of-type {\n",
       "        vertical-align: middle;\n",
       "    }\n",
       "\n",
       "    .dataframe tbody tr th {\n",
       "        vertical-align: top;\n",
       "    }\n",
       "\n",
       "    .dataframe thead th {\n",
       "        text-align: right;\n",
       "    }\n",
       "</style>\n",
       "<table border=\"1\" class=\"dataframe\">\n",
       "  <thead>\n",
       "    <tr style=\"text-align: right;\">\n",
       "      <th></th>\n",
       "      <th>contamination</th>\n",
       "      <th>leaf_size</th>\n",
       "      <th>method</th>\n",
       "      <th>metric</th>\n",
       "      <th>n_jobs</th>\n",
       "      <th>n_neighbors</th>\n",
       "      <th>p</th>\n",
       "      <th>radius</th>\n",
       "    </tr>\n",
       "  </thead>\n",
       "  <tbody>\n",
       "    <tr>\n",
       "      <th>0</th>\n",
       "      <td>0.091467</td>\n",
       "      <td>12.0</td>\n",
       "      <td>2</td>\n",
       "      <td>2</td>\n",
       "      <td>3.0</td>\n",
       "      <td>44.0</td>\n",
       "      <td>7.0</td>\n",
       "      <td>4.1</td>\n",
       "    </tr>\n",
       "    <tr>\n",
       "      <th>1</th>\n",
       "      <td>0.096546</td>\n",
       "      <td>9.0</td>\n",
       "      <td>1</td>\n",
       "      <td>5</td>\n",
       "      <td>1.0</td>\n",
       "      <td>43.0</td>\n",
       "      <td>6.0</td>\n",
       "      <td>1.5</td>\n",
       "    </tr>\n",
       "    <tr>\n",
       "      <th>2</th>\n",
       "      <td>0.096734</td>\n",
       "      <td>83.0</td>\n",
       "      <td>1</td>\n",
       "      <td>3</td>\n",
       "      <td>1.0</td>\n",
       "      <td>31.0</td>\n",
       "      <td>2.0</td>\n",
       "      <td>0.7</td>\n",
       "    </tr>\n",
       "    <tr>\n",
       "      <th>3</th>\n",
       "      <td>0.076178</td>\n",
       "      <td>51.0</td>\n",
       "      <td>0</td>\n",
       "      <td>4</td>\n",
       "      <td>3.0</td>\n",
       "      <td>30.0</td>\n",
       "      <td>3.0</td>\n",
       "      <td>2.0</td>\n",
       "    </tr>\n",
       "    <tr>\n",
       "      <th>4</th>\n",
       "      <td>0.085071</td>\n",
       "      <td>41.0</td>\n",
       "      <td>1</td>\n",
       "      <td>0</td>\n",
       "      <td>2.0</td>\n",
       "      <td>15.0</td>\n",
       "      <td>2.0</td>\n",
       "      <td>2.5</td>\n",
       "    </tr>\n",
       "  </tbody>\n",
       "</table>\n",
       "</div>"
      ],
      "text/plain": [
       "   contamination  leaf_size  method  metric  n_jobs  n_neighbors    p  radius\n",
       "0       0.091467       12.0       2       2     3.0         44.0  7.0     4.1\n",
       "1       0.096546        9.0       1       5     1.0         43.0  6.0     1.5\n",
       "2       0.096734       83.0       1       3     1.0         31.0  2.0     0.7\n",
       "3       0.076178       51.0       0       4     3.0         30.0  3.0     2.0\n",
       "4       0.085071       41.0       1       0     2.0         15.0  2.0     2.5"
      ]
     },
     "execution_count": 27,
     "metadata": {},
     "output_type": "execute_result"
    }
   ],
   "source": [
    "# the search hyperparameter combinations\n",
    "\n",
    "pd.DataFrame(trials.vals).head()"
   ]
  },
  {
   "cell_type": "code",
   "execution_count": 28,
   "id": "a5db53d2",
   "metadata": {},
   "outputs": [
    {
     "data": {
      "text/html": [
       "<div>\n",
       "<style scoped>\n",
       "    .dataframe tbody tr th:only-of-type {\n",
       "        vertical-align: middle;\n",
       "    }\n",
       "\n",
       "    .dataframe tbody tr th {\n",
       "        vertical-align: top;\n",
       "    }\n",
       "\n",
       "    .dataframe thead th {\n",
       "        text-align: right;\n",
       "    }\n",
       "</style>\n",
       "<table border=\"1\" class=\"dataframe\">\n",
       "  <thead>\n",
       "    <tr style=\"text-align: right;\">\n",
       "      <th></th>\n",
       "      <th>loss</th>\n",
       "      <th>status</th>\n",
       "    </tr>\n",
       "  </thead>\n",
       "  <tbody>\n",
       "    <tr>\n",
       "      <th>0</th>\n",
       "      <td>-0.195567</td>\n",
       "      <td>ok</td>\n",
       "    </tr>\n",
       "    <tr>\n",
       "      <th>1</th>\n",
       "      <td>-0.254591</td>\n",
       "      <td>ok</td>\n",
       "    </tr>\n",
       "    <tr>\n",
       "      <th>2</th>\n",
       "      <td>-0.253445</td>\n",
       "      <td>ok</td>\n",
       "    </tr>\n",
       "    <tr>\n",
       "      <th>3</th>\n",
       "      <td>-0.220199</td>\n",
       "      <td>ok</td>\n",
       "    </tr>\n",
       "    <tr>\n",
       "      <th>4</th>\n",
       "      <td>-0.223380</td>\n",
       "      <td>ok</td>\n",
       "    </tr>\n",
       "  </tbody>\n",
       "</table>\n",
       "</div>"
      ],
      "text/plain": [
       "       loss status\n",
       "0 -0.195567     ok\n",
       "1 -0.254591     ok\n",
       "2 -0.253445     ok\n",
       "3 -0.220199     ok\n",
       "4 -0.223380     ok"
      ]
     },
     "execution_count": 28,
     "metadata": {},
     "output_type": "execute_result"
    }
   ],
   "source": [
    "# the results\n",
    "\n",
    "pd.DataFrame(trials.results).head()"
   ]
  },
  {
   "cell_type": "code",
   "execution_count": 29,
   "id": "12eae67c",
   "metadata": {},
   "outputs": [
    {
     "data": {
      "text/html": [
       "<div>\n",
       "<style scoped>\n",
       "    .dataframe tbody tr th:only-of-type {\n",
       "        vertical-align: middle;\n",
       "    }\n",
       "\n",
       "    .dataframe tbody tr th {\n",
       "        vertical-align: top;\n",
       "    }\n",
       "\n",
       "    .dataframe thead th {\n",
       "        text-align: right;\n",
       "    }\n",
       "</style>\n",
       "<table border=\"1\" class=\"dataframe\">\n",
       "  <thead>\n",
       "    <tr style=\"text-align: right;\">\n",
       "      <th></th>\n",
       "      <th>contamination</th>\n",
       "      <th>leaf_size</th>\n",
       "      <th>method</th>\n",
       "      <th>metric</th>\n",
       "      <th>n_jobs</th>\n",
       "      <th>n_neighbors</th>\n",
       "      <th>p</th>\n",
       "      <th>radius</th>\n",
       "      <th>loss</th>\n",
       "      <th>status</th>\n",
       "    </tr>\n",
       "  </thead>\n",
       "  <tbody>\n",
       "    <tr>\n",
       "      <th>0</th>\n",
       "      <td>0.072104</td>\n",
       "      <td>7.0</td>\n",
       "      <td>2</td>\n",
       "      <td>4</td>\n",
       "      <td>4.0</td>\n",
       "      <td>38.0</td>\n",
       "      <td>10.0</td>\n",
       "      <td>3.8</td>\n",
       "      <td>-0.191081</td>\n",
       "      <td>ok</td>\n",
       "    </tr>\n",
       "    <tr>\n",
       "      <th>1</th>\n",
       "      <td>0.082695</td>\n",
       "      <td>94.0</td>\n",
       "      <td>2</td>\n",
       "      <td>2</td>\n",
       "      <td>4.0</td>\n",
       "      <td>36.0</td>\n",
       "      <td>2.0</td>\n",
       "      <td>2.5</td>\n",
       "      <td>-0.195165</td>\n",
       "      <td>ok</td>\n",
       "    </tr>\n",
       "    <tr>\n",
       "      <th>2</th>\n",
       "      <td>0.079371</td>\n",
       "      <td>14.0</td>\n",
       "      <td>2</td>\n",
       "      <td>0</td>\n",
       "      <td>2.0</td>\n",
       "      <td>43.0</td>\n",
       "      <td>8.0</td>\n",
       "      <td>0.6</td>\n",
       "      <td>-0.195233</td>\n",
       "      <td>ok</td>\n",
       "    </tr>\n",
       "    <tr>\n",
       "      <th>3</th>\n",
       "      <td>0.091467</td>\n",
       "      <td>12.0</td>\n",
       "      <td>2</td>\n",
       "      <td>2</td>\n",
       "      <td>3.0</td>\n",
       "      <td>44.0</td>\n",
       "      <td>7.0</td>\n",
       "      <td>4.1</td>\n",
       "      <td>-0.195567</td>\n",
       "      <td>ok</td>\n",
       "    </tr>\n",
       "    <tr>\n",
       "      <th>4</th>\n",
       "      <td>0.077036</td>\n",
       "      <td>16.0</td>\n",
       "      <td>0</td>\n",
       "      <td>4</td>\n",
       "      <td>4.0</td>\n",
       "      <td>18.0</td>\n",
       "      <td>2.0</td>\n",
       "      <td>1.6</td>\n",
       "      <td>-0.197942</td>\n",
       "      <td>ok</td>\n",
       "    </tr>\n",
       "  </tbody>\n",
       "</table>\n",
       "</div>"
      ],
      "text/plain": [
       "   contamination  leaf_size  method  metric  n_jobs  n_neighbors     p  \\\n",
       "0       0.072104        7.0       2       4     4.0         38.0  10.0   \n",
       "1       0.082695       94.0       2       2     4.0         36.0   2.0   \n",
       "2       0.079371       14.0       2       0     2.0         43.0   8.0   \n",
       "3       0.091467       12.0       2       2     3.0         44.0   7.0   \n",
       "4       0.077036       16.0       0       4     4.0         18.0   2.0   \n",
       "\n",
       "   radius      loss status  \n",
       "0     3.8 -0.191081     ok  \n",
       "1     2.5 -0.195165     ok  \n",
       "2     0.6 -0.195233     ok  \n",
       "3     4.1 -0.195567     ok  \n",
       "4     1.6 -0.197942     ok  "
      ]
     },
     "execution_count": 29,
     "metadata": {},
     "output_type": "execute_result"
    }
   ],
   "source": [
    "results = pd.concat([\n",
    "    pd.DataFrame(trials.vals),\n",
    "    pd.DataFrame(trials.results)],\n",
    "    axis=1,\n",
    ").sort_values(by='loss', ascending=False).reset_index(drop=True)\n",
    "\n",
    "results.head()"
   ]
  },
  {
   "cell_type": "code",
   "execution_count": 30,
   "id": "0d33ba13",
   "metadata": {},
   "outputs": [
    {
     "data": {
      "text/plain": [
       "Text(0.5, 0, 'Hyperparam combination')"
      ]
     },
     "execution_count": 30,
     "metadata": {},
     "output_type": "execute_result"
    },
    {
     "data": {
      "image/png": "[encoded data removed]",
      "text/plain": [
       "<Figure size 432x288 with 1 Axes>"
      ]
     },
     "metadata": {
      "needs_background": "light"
     },
     "output_type": "display_data"
    }
   ],
   "source": [
    "results['loss'].plot()\n",
    "plt.ylabel('Accuracy')\n",
    "plt.xlabel('Hyperparam combination')"
   ]
  },
  {
   "cell_type": "code",
   "execution_count": 31,
   "id": "2bb39978",
   "metadata": {},
   "outputs": [
    {
     "data": {
      "text/plain": [
       "-0.3230646152107367"
      ]
     },
     "execution_count": 31,
     "metadata": {},
     "output_type": "execute_result"
    }
   ],
   "source": [
    "pd.DataFrame(trials.results)['loss'].min()"
   ]
  },
  {
   "cell_type": "code",
   "execution_count": null,
   "id": "6b31da6b",
   "metadata": {},
   "outputs": [],
   "source": []
  }
 ],
 "metadata": {
  "kernelspec": {
   "display_name": "Python 3 (ipykernel)",
   "language": "python",
   "name": "python3"
  },
  "language_info": {
   "codemirror_mode": {
    "name": "ipython",
    "version": 3
   },
   "file_extension": ".py",
   "mimetype": "text/x-python",
   "name": "python",
   "nbconvert_exporter": "python",
   "pygments_lexer": "ipython3",
   "version": "3.9.7"
  }
 },
 "nbformat": 4,
 "nbformat_minor": 5
}
