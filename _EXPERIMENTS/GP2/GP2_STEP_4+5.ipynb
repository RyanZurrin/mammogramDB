{
 "cells": [
  {
   "cell_type": "code",
   "execution_count": 1,
   "id": "b15e439a",
   "metadata": {},
   "outputs": [
    {
     "name": "stdout",
     "output_type": "stream",
     "text": [
      "Populating the interactive namespace from numpy and matplotlib\n"
     ]
    }
   ],
   "source": [
    "%pylab inline\n",
    "%load_ext autoreload\n",
    "%autoreload 2"
   ]
  },
  {
   "cell_type": "code",
   "execution_count": 2,
   "id": "2eaaa0f4",
   "metadata": {},
   "outputs": [],
   "source": [
    "import data\n",
    "import gp2"
   ]
  },
  {
   "cell_type": "code",
   "execution_count": 3,
   "id": "abad428e",
   "metadata": {},
   "outputs": [],
   "source": [
    "import os"
   ]
  },
  {
   "cell_type": "code",
   "execution_count": null,
   "id": "478e93c7",
   "metadata": {},
   "outputs": [],
   "source": []
  },
  {
   "cell_type": "code",
   "execution_count": 4,
   "id": "2c913bb3",
   "metadata": {},
   "outputs": [],
   "source": [
    "workingdir = '/tmp/tmpsbsac6t_GP2'"
   ]
  },
  {
   "cell_type": "code",
   "execution_count": null,
   "id": "e498ca1c",
   "metadata": {},
   "outputs": [],
   "source": []
  },
  {
   "cell_type": "code",
   "execution_count": 5,
   "id": "993fdb9f",
   "metadata": {},
   "outputs": [],
   "source": [
    "M = data.Manager.load(os.path.join(workingdir, 'M_step3.pickle'))"
   ]
  },
  {
   "cell_type": "code",
   "execution_count": 6,
   "id": "da368640",
   "metadata": {},
   "outputs": [],
   "source": [
    "C_train = M.get('C_train')\n",
    "C_val = M.get('C_val')"
   ]
  },
  {
   "cell_type": "code",
   "execution_count": null,
   "id": "e9f2447d",
   "metadata": {},
   "outputs": [],
   "source": []
  },
  {
   "cell_type": "code",
   "execution_count": 7,
   "id": "6684f787",
   "metadata": {},
   "outputs": [],
   "source": [
    "C_train_, C_train_ids = C_train.to_array()\n",
    "X_train_images_ = C_train_[:,:,:,0]\n",
    "X_train_masks_ = C_train_[:,:,:,1]\n",
    "y_train_ = C_train_[:,0,0,2]\n",
    "\n",
    "C_val_, C_val_ids = C_val.to_array()\n",
    "X_val_images_ = C_val_[:,:,:,0]\n",
    "X_val_masks_ = C_val_[:,:,:,1]\n",
    "y_val_ = C_val_[:,0,0,2]"
   ]
  },
  {
   "cell_type": "code",
   "execution_count": 8,
   "id": "78d46db0",
   "metadata": {},
   "outputs": [
    {
     "data": {
      "text/plain": [
       "(300, 512, 512)"
      ]
     },
     "execution_count": 8,
     "metadata": {},
     "output_type": "execute_result"
    }
   ],
   "source": [
    "X_train_images_.shape"
   ]
  },
  {
   "cell_type": "code",
   "execution_count": 9,
   "id": "75df3014",
   "metadata": {},
   "outputs": [
    {
     "data": {
      "text/plain": [
       "(300, 512, 512)"
      ]
     },
     "execution_count": 9,
     "metadata": {},
     "output_type": "execute_result"
    }
   ],
   "source": [
    "X_train_masks_.shape"
   ]
  },
  {
   "cell_type": "code",
   "execution_count": 10,
   "id": "f05d1093",
   "metadata": {},
   "outputs": [
    {
     "data": {
      "text/plain": [
       "(300,)"
      ]
     },
     "execution_count": 10,
     "metadata": {},
     "output_type": "execute_result"
    }
   ],
   "source": [
    "y_train_.shape"
   ]
  },
  {
   "cell_type": "code",
   "execution_count": 14,
   "id": "3ebbad88",
   "metadata": {},
   "outputs": [
    {
     "data": {
      "text/plain": [
       "(100, 512, 512)"
      ]
     },
     "execution_count": 14,
     "metadata": {},
     "output_type": "execute_result"
    }
   ],
   "source": [
    "X_val_images_.shape"
   ]
  },
  {
   "cell_type": "code",
   "execution_count": 15,
   "id": "5b163739",
   "metadata": {},
   "outputs": [
    {
     "data": {
      "text/plain": [
       "(100, 512, 512)"
      ]
     },
     "execution_count": 15,
     "metadata": {},
     "output_type": "execute_result"
    }
   ],
   "source": [
    "X_val_masks_.shape"
   ]
  },
  {
   "cell_type": "code",
   "execution_count": 16,
   "id": "905fa7cb",
   "metadata": {},
   "outputs": [
    {
     "data": {
      "text/plain": [
       "(100,)"
      ]
     },
     "execution_count": 16,
     "metadata": {},
     "output_type": "execute_result"
    }
   ],
   "source": [
    "y_val_.shape"
   ]
  },
  {
   "cell_type": "code",
   "execution_count": 17,
   "id": "ec0377a2",
   "metadata": {},
   "outputs": [],
   "source": [
    "cnnd = gp2.CNNDiscriminator(verbose=False,  workingdir=workingdir)"
   ]
  },
  {
   "cell_type": "code",
   "execution_count": 18,
   "id": "c623db42",
   "metadata": {},
   "outputs": [
    {
     "name": "stdout",
     "output_type": "stream",
     "text": [
      "INFO:tensorflow:Assets written to: /tmp/tmpsbsac6t_GP2/cnnd_0.model/assets\n",
      "INFO:tensorflow:Assets written to: /tmp/tmpsbsac6t_GP2/cnnd_0.model/assets\n",
      "INFO:tensorflow:Assets written to: /tmp/tmpsbsac6t_GP2/cnnd_0.model/assets\n",
      "INFO:tensorflow:Assets written to: /tmp/tmpsbsac6t_GP2/cnnd_0.model/assets\n",
      "INFO:tensorflow:Assets written to: /tmp/tmpsbsac6t_GP2/cnnd_0.model/assets\n",
      "Epoch 00024: early stopping\n",
      "Model saved to /tmp/tmpsbsac6t_GP2/cnnd_0.model\n",
      "History saved to /tmp/tmpsbsac6t_GP2/cnnd_history_0.pickle\n"
     ]
    }
   ],
   "source": [
    "cnnd.train(X_train_images_, X_train_masks_, y_train_, X_val_images_, X_val_masks_, y_val_)"
   ]
  },
  {
   "cell_type": "code",
   "execution_count": 19,
   "id": "252f6d93",
   "metadata": {},
   "outputs": [],
   "source": [
    "C_test = M.get('C_test')\n",
    "C_test_, C_test_ids = C_test.to_array()\n",
    "X_test_images_ = C_test_[:,:,:,0]\n",
    "X_test_masks_ = C_test_[:,:,:,1]\n",
    "y_test_ = C_test_[:,0,0,2]"
   ]
  },
  {
   "cell_type": "code",
   "execution_count": 20,
   "id": "a8140ddb",
   "metadata": {},
   "outputs": [
    {
     "name": "stdout",
     "output_type": "stream",
     "text": [
      "4/4 [==============================] - 0s 17ms/step - loss: 1.4305e-08 - accuracy: 1.0000\n"
     ]
    }
   ],
   "source": [
    "predictions, scores = cnnd.predict(X_test_images_, X_test_masks_, y_test_)"
   ]
  },
  {
   "cell_type": "code",
   "execution_count": 23,
   "id": "3cd64e54",
   "metadata": {},
   "outputs": [],
   "source": [
    "C_test_pred = data.Collection.from_list(predictions, C_test_ids)"
   ]
  },
  {
   "cell_type": "code",
   "execution_count": 24,
   "id": "54ab48e1",
   "metadata": {},
   "outputs": [],
   "source": [
    "M.register(C_test_pred, 'C_test_pred')"
   ]
  },
  {
   "cell_type": "code",
   "execution_count": null,
   "id": "34b582e6",
   "metadata": {},
   "outputs": [],
   "source": []
  },
  {
   "cell_type": "code",
   "execution_count": 25,
   "id": "a8c8f7b6",
   "metadata": {},
   "outputs": [
    {
     "data": {
      "text/plain": [
       "'33d6460d-81f6-46ff-a9e4-f36d6ce54700'"
      ]
     },
     "execution_count": 25,
     "metadata": {},
     "output_type": "execute_result"
    }
   ],
   "source": [
    "# some test if the ids are still in the right place\n",
    "list(C_test_pred.data.keys())[13]"
   ]
  },
  {
   "cell_type": "code",
   "execution_count": 26,
   "id": "720d0c81",
   "metadata": {},
   "outputs": [
    {
     "data": {
      "text/plain": [
       "{'B': <data.collection.Collection at 0x7f6df0eb55b0>,\n",
       " 'C': <data.collection.Collection at 0x7f6df0eb5550>,\n",
       " 'C_test': <data.collection.Collection at 0x7f6df06efa60>,\n",
       " 'C_test_pred': <data.collection.Collection at 0x7f6375fcb940>}"
      ]
     },
     "execution_count": 26,
     "metadata": {},
     "output_type": "execute_result"
    }
   ],
   "source": [
    "M.find(list(C_test_pred.data.keys())[13], show_names=True)"
   ]
  },
  {
   "cell_type": "code",
   "execution_count": 27,
   "id": "3d9840ec",
   "metadata": {},
   "outputs": [
    {
     "data": {
      "text/plain": [
       "{'A_test': <data.collection.Collection at 0x7f6df0eb5700>,\n",
       " 'A_test_pred': <data.collection.Collection at 0x7f6df0eb56a0>,\n",
       " 'C': <data.collection.Collection at 0x7f6df0eb5550>,\n",
       " 'C_test': <data.collection.Collection at 0x7f6df06efa60>,\n",
       " 'C_test_pred': <data.collection.Collection at 0x7f6375fcb940>}"
      ]
     },
     "execution_count": 27,
     "metadata": {},
     "output_type": "execute_result"
    }
   ],
   "source": [
    "M.find(list(C_test_pred.data.keys())[14], show_names=True)"
   ]
  },
  {
   "cell_type": "code",
   "execution_count": 28,
   "id": "da440e38",
   "metadata": {},
   "outputs": [
    {
     "data": {
      "text/plain": [
       "{'9b40feb6-d801-455d-9844-ce7699e8f4fd': 'A_train',\n",
       " 'b2a16a66-060e-408a-8e17-506238300389': 'A_val',\n",
       " '176fcc4c-f45b-487e-a7ac-62010272d206': 'A_test',\n",
       " 'b13780c8-e9b9-47bb-84ad-d91ce9155211': 'A_test_pred',\n",
       " '2834b7d4-9f72-4584-aedd-f866777290e3': 'B',\n",
       " 'ba96acbc-9f10-445a-811c-75e845663aed': 'C',\n",
       " '27357f64-73f1-4a93-b42d-e517dfb46559': 'C_train',\n",
       " '0b3bd5dc-c6d2-4cf0-b54f-678610c35e3a': 'C_val',\n",
       " '8fb0b6b9-026e-46e2-adab-89a24a713ffc': 'C_test',\n",
       " 'b498e450-ab67-4a0c-97e9-a6ebfa15faf1': 'C_test_pred'}"
      ]
     },
     "execution_count": 28,
     "metadata": {},
     "output_type": "execute_result"
    }
   ],
   "source": [
    "M.names"
   ]
  },
  {
   "cell_type": "code",
   "execution_count": 30,
   "id": "f5705a46",
   "metadata": {},
   "outputs": [],
   "source": [
    "M.save(os.path.join(workingdir, 'M_step5.pickle'))"
   ]
  },
  {
   "cell_type": "code",
   "execution_count": null,
   "id": "7d9f4d6a",
   "metadata": {},
   "outputs": [],
   "source": []
  }
 ],
 "metadata": {
  "kernelspec": {
   "display_name": "Python 3 (ipykernel)",
   "language": "python",
   "name": "python3"
  },
  "language_info": {
   "codemirror_mode": {
    "name": "ipython",
    "version": 3
   },
   "file_extension": ".py",
   "mimetype": "text/x-python",
   "name": "python",
   "nbconvert_exporter": "python",
   "pygments_lexer": "ipython3",
   "version": "3.9.7"
  }
 },
 "nbformat": 4,
 "nbformat_minor": 5
}
