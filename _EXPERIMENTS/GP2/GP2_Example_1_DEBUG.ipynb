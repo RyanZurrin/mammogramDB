{
 "cells": [
  {
   "cell_type": "code",
   "execution_count": 1,
   "id": "06c4accc",
   "metadata": {},
   "outputs": [
    {
     "name": "stdout",
     "output_type": "stream",
     "text": [
      "Populating the interactive namespace from numpy and matplotlib\n"
     ]
    }
   ],
   "source": [
    "%pylab inline\n",
    "%load_ext autoreload\n",
    "%autoreload 2"
   ]
  },
  {
   "cell_type": "code",
   "execution_count": 2,
   "id": "3b313506",
   "metadata": {},
   "outputs": [],
   "source": [
    "import time"
   ]
  },
  {
   "cell_type": "code",
   "execution_count": 3,
   "id": "b9e78ed8",
   "metadata": {},
   "outputs": [],
   "source": [
    "from runner import Runner"
   ]
  },
  {
   "cell_type": "code",
   "execution_count": 4,
   "id": "bdc75325",
   "metadata": {},
   "outputs": [
    {
     "name": "stdout",
     "output_type": "stream",
     "text": [
      "*** GP2 ***\n",
      "Working directory: /tmp/tmpd6yta__tGP2\n"
     ]
    }
   ],
   "source": [
    "R = Runner(store_after_each_step=False)"
   ]
  },
  {
   "cell_type": "code",
   "execution_count": 5,
   "id": "87b0c65d",
   "metadata": {},
   "outputs": [],
   "source": [
    "# load our larger toy dataset (10k images and masks)\n",
    "images = np.load('/raid/mpsych/GP2TOYEXAMPLE_LARGE/images.npy')\n",
    "masks = np.load('/raid/mpsych/GP2TOYEXAMPLE_LARGE/masks.npy')"
   ]
  },
  {
   "cell_type": "code",
   "execution_count": 6,
   "id": "2a5d1030",
   "metadata": {},
   "outputs": [],
   "source": [
    "#\n",
    "# In this experiment, we are using 1000 images for GP2\n",
    "# with a repository of 9000 images to fillup all relabeled\n",
    "# datapoints.\n",
    "#\n",
    "R.setup_data(images, masks)"
   ]
  },
  {
   "cell_type": "code",
   "execution_count": 7,
   "id": "99127251",
   "metadata": {},
   "outputs": [],
   "source": [
    "RUNS = 5"
   ]
  },
  {
   "cell_type": "code",
   "execution_count": 8,
   "id": "d8ff85c4",
   "metadata": {
    "scrolled": false
   },
   "outputs": [
    {
     "name": "stdout",
     "output_type": "stream",
     "text": [
      "***\n",
      "INFO:tensorflow:Assets written to: /tmp/tmpd6yta__tGP2/unet_0.model/assets\n",
      "INFO:tensorflow:Assets written to: /tmp/tmpd6yta__tGP2/unet_0.model/assets\n",
      "INFO:tensorflow:Assets written to: /tmp/tmpd6yta__tGP2/unet_0.model/assets\n",
      "INFO:tensorflow:Assets written to: /tmp/tmpd6yta__tGP2/unet_0.model/assets\n",
      "INFO:tensorflow:Assets written to: /tmp/tmpd6yta__tGP2/unet_0.model/assets\n",
      "INFO:tensorflow:Assets written to: /tmp/tmpd6yta__tGP2/unet_0.model/assets\n",
      "INFO:tensorflow:Assets written to: /tmp/tmpd6yta__tGP2/unet_0.model/assets\n",
      "INFO:tensorflow:Assets written to: /tmp/tmpd6yta__tGP2/unet_0.model/assets\n",
      "INFO:tensorflow:Assets written to: /tmp/tmpd6yta__tGP2/unet_0.model/assets\n",
      "INFO:tensorflow:Assets written to: /tmp/tmpd6yta__tGP2/unet_0.model/assets\n",
      "INFO:tensorflow:Assets written to: /tmp/tmpd6yta__tGP2/unet_0.model/assets\n",
      "Epoch 00023: early stopping\n",
      "Model saved to /tmp/tmpd6yta__tGP2/unet_0.model\n",
      "History saved to /tmp/tmpd6yta__tGP2/history_0.pickle\n",
      "8/8 [==============================] - 1s 102ms/step - loss: 1.1325 - dice_coeff: 0.2985\n",
      "INFO:tensorflow:Assets written to: /tmp/tmpd6yta__tGP2/cnnd_0.model/assets\n",
      "INFO:tensorflow:Assets written to: /tmp/tmpd6yta__tGP2/cnnd_0.model/assets\n",
      "Epoch 00061: early stopping\n",
      "Model saved to /tmp/tmpd6yta__tGP2/cnnd_0.model\n",
      "History saved to /tmp/tmpd6yta__tGP2/cnnd_history_0.pickle\n",
      "4/4 [==============================] - 0s 16ms/step - loss: 15.5539 - accuracy: 0.7400\n",
      "Found 19 machine labels.\n",
      "(6, 512, 512, 3)\n",
      "A_test d23c9fc7-0f78-4956-a961-f243e858625f\n",
      "A_test b7c29fd7-036d-494d-af0f-79f49a603938\n",
      "A_test aa49863f-cee2-4d7c-b4c6-b0b7d1de3733\n",
      "A_test d062f258-7fd1-484a-a308-18cac8503774\n",
      "A_test 55b15d37-7394-4ad3-95ce-657ea9c0919d\n",
      "A_test 869f681b-2728-402b-b179-252b70b45429\n",
      "update_A_train\n",
      "removing d23c9fc7-0f78-4956-a961-f243e858625f from A_test and adding to A_train\n",
      "removing b7c29fd7-036d-494d-af0f-79f49a603938 from A_test and adding to A_train\n",
      "removing aa49863f-cee2-4d7c-b4c6-b0b7d1de3733 from A_test and adding to A_train\n",
      "removing d062f258-7fd1-484a-a308-18cac8503774 from A_test and adding to A_train\n",
      "removing 55b15d37-7394-4ad3-95ce-657ea9c0919d from A_test and adding to A_train\n",
      "removing 869f681b-2728-402b-b179-252b70b45429 from A_test and adding to A_train\n",
      "Removed: 6 Filled: 6\n",
      "TOOK 479.1016278266907 seconds\n"
     ]
    }
   ],
   "source": [
    "# for run in range(RUNS):\n",
    "print('***')\n",
    "# print('RUN:', run)\n",
    "t0 = time.time()\n",
    "R.run_classifier()\n",
    "R.run_discriminator()\n",
    "R.find_machine_labels()\n",
    "R.relabel()\n",
    "print('TOOK', time.time()-t0, 'seconds')\n",
    "    "
   ]
  },
  {
   "cell_type": "code",
   "execution_count": 9,
   "id": "5f9bc184",
   "metadata": {},
   "outputs": [],
   "source": [
    "import os\n",
    "R.M.save(os.path.join(R.workingdir,'Run1.pickle'))"
   ]
  },
  {
   "cell_type": "code",
   "execution_count": null,
   "id": "e633575c",
   "metadata": {},
   "outputs": [],
   "source": []
  },
  {
   "cell_type": "code",
   "execution_count": null,
   "id": "22aeafc2",
   "metadata": {},
   "outputs": [],
   "source": []
  },
  {
   "cell_type": "code",
   "execution_count": null,
   "id": "a4c55a5e",
   "metadata": {},
   "outputs": [],
   "source": []
  },
  {
   "cell_type": "code",
   "execution_count": null,
   "id": "8433521d",
   "metadata": {},
   "outputs": [],
   "source": []
  },
  {
   "cell_type": "code",
   "execution_count": null,
   "id": "59163fc0",
   "metadata": {},
   "outputs": [],
   "source": []
  },
  {
   "cell_type": "code",
   "execution_count": null,
   "id": "4751b5a7",
   "metadata": {},
   "outputs": [],
   "source": []
  },
  {
   "cell_type": "code",
   "execution_count": 10,
   "id": "56202a4f",
   "metadata": {},
   "outputs": [
    {
     "name": "stdout",
     "output_type": "stream",
     "text": [
      "INFO:tensorflow:Assets written to: /tmp/tmpd6yta__tGP2/unet_1.model/assets\n",
      "INFO:tensorflow:Assets written to: /tmp/tmpd6yta__tGP2/unet_1.model/assets\n",
      "INFO:tensorflow:Assets written to: /tmp/tmpd6yta__tGP2/unet_1.model/assets\n",
      "INFO:tensorflow:Assets written to: /tmp/tmpd6yta__tGP2/unet_1.model/assets\n",
      "INFO:tensorflow:Assets written to: /tmp/tmpd6yta__tGP2/unet_1.model/assets\n",
      "INFO:tensorflow:Assets written to: /tmp/tmpd6yta__tGP2/unet_1.model/assets\n",
      "INFO:tensorflow:Assets written to: /tmp/tmpd6yta__tGP2/unet_1.model/assets\n",
      "INFO:tensorflow:Assets written to: /tmp/tmpd6yta__tGP2/unet_1.model/assets\n",
      "INFO:tensorflow:Assets written to: /tmp/tmpd6yta__tGP2/unet_1.model/assets\n",
      "INFO:tensorflow:Assets written to: /tmp/tmpd6yta__tGP2/unet_1.model/assets\n",
      "INFO:tensorflow:Assets written to: /tmp/tmpd6yta__tGP2/unet_1.model/assets\n",
      "INFO:tensorflow:Assets written to: /tmp/tmpd6yta__tGP2/unet_1.model/assets\n",
      "INFO:tensorflow:Assets written to: /tmp/tmpd6yta__tGP2/unet_1.model/assets\n",
      "INFO:tensorflow:Assets written to: /tmp/tmpd6yta__tGP2/unet_1.model/assets\n",
      "INFO:tensorflow:Assets written to: /tmp/tmpd6yta__tGP2/unet_1.model/assets\n",
      "INFO:tensorflow:Assets written to: /tmp/tmpd6yta__tGP2/unet_1.model/assets\n",
      "INFO:tensorflow:Assets written to: /tmp/tmpd6yta__tGP2/unet_1.model/assets\n",
      "INFO:tensorflow:Assets written to: /tmp/tmpd6yta__tGP2/unet_1.model/assets\n",
      "INFO:tensorflow:Assets written to: /tmp/tmpd6yta__tGP2/unet_1.model/assets\n",
      "INFO:tensorflow:Assets written to: /tmp/tmpd6yta__tGP2/unet_1.model/assets\n",
      "INFO:tensorflow:Assets written to: /tmp/tmpd6yta__tGP2/unet_1.model/assets\n",
      "INFO:tensorflow:Assets written to: /tmp/tmpd6yta__tGP2/unet_1.model/assets\n",
      "INFO:tensorflow:Assets written to: /tmp/tmpd6yta__tGP2/unet_1.model/assets\n",
      "INFO:tensorflow:Assets written to: /tmp/tmpd6yta__tGP2/unet_1.model/assets\n",
      "INFO:tensorflow:Assets written to: /tmp/tmpd6yta__tGP2/unet_1.model/assets\n",
      "INFO:tensorflow:Assets written to: /tmp/tmpd6yta__tGP2/unet_1.model/assets\n",
      "Epoch 00028: early stopping\n",
      "Model saved to /tmp/tmpd6yta__tGP2/unet_1.model\n",
      "History saved to /tmp/tmpd6yta__tGP2/history_1.pickle\n",
      "8/8 [==============================] - 1s 99ms/step - loss: 0.7420 - dice_coeff: 0.4787\n"
     ]
    }
   ],
   "source": [
    "R.run_classifier()"
   ]
  },
  {
   "cell_type": "code",
   "execution_count": 12,
   "id": "17a70609",
   "metadata": {},
   "outputs": [
    {
     "name": "stdout",
     "output_type": "stream",
     "text": [
      "4/4 [==============================] - 0s 22ms/step - loss: 15.5539 - accuracy: 0.7400\n"
     ]
    }
   ],
   "source": [
    "\n",
    "R.run_discriminator()"
   ]
  },
  {
   "cell_type": "code",
   "execution_count": 13,
   "id": "932bbbd0",
   "metadata": {},
   "outputs": [],
   "source": [
    "R.M.save(os.path.join(R.workingdir,'Run2a.pickle'))"
   ]
  },
  {
   "cell_type": "code",
   "execution_count": 14,
   "id": "27eeffc3",
   "metadata": {},
   "outputs": [
    {
     "name": "stdout",
     "output_type": "stream",
     "text": [
      "Found 19 machine labels.\n"
     ]
    }
   ],
   "source": [
    "R.find_machine_labels()"
   ]
  },
  {
   "cell_type": "code",
   "execution_count": 16,
   "id": "e240c6f0",
   "metadata": {},
   "outputs": [
    {
     "name": "stdout",
     "output_type": "stream",
     "text": [
      "(6, 512, 512, 3)\n",
      "Lost Datapoint!! d23c9fc7-0f78-4956-a961-f243e858625f\n",
      "Lost Datapoint!! b7c29fd7-036d-494d-af0f-79f49a603938\n",
      "Lost Datapoint!! aa49863f-cee2-4d7c-b4c6-b0b7d1de3733\n",
      "Lost Datapoint!! d062f258-7fd1-484a-a308-18cac8503774\n",
      "Lost Datapoint!! 55b15d37-7394-4ad3-95ce-657ea9c0919d\n",
      "Lost Datapoint!! 869f681b-2728-402b-b179-252b70b45429\n",
      "update_A_train\n",
      "Lost Datapoint!! d23c9fc7-0f78-4956-a961-f243e858625f\n",
      "Lost Datapoint!! b7c29fd7-036d-494d-af0f-79f49a603938\n",
      "Lost Datapoint!! aa49863f-cee2-4d7c-b4c6-b0b7d1de3733\n",
      "Lost Datapoint!! d062f258-7fd1-484a-a308-18cac8503774\n",
      "Lost Datapoint!! 55b15d37-7394-4ad3-95ce-657ea9c0919d\n",
      "Lost Datapoint!! 869f681b-2728-402b-b179-252b70b45429\n",
      "Removed: 0 Filled: 0\n"
     ]
    }
   ],
   "source": [
    "R.relabel()"
   ]
  },
  {
   "cell_type": "code",
   "execution_count": null,
   "id": "8b200817",
   "metadata": {},
   "outputs": [],
   "source": [
    "# why are they lost?"
   ]
  },
  {
   "cell_type": "code",
   "execution_count": 22,
   "id": "d35aa960",
   "metadata": {},
   "outputs": [],
   "source": [
    "M2 = R.M.load(os.path.join(R.workingdir,'Run1.pickle'))"
   ]
  },
  {
   "cell_type": "code",
   "execution_count": 23,
   "id": "7bd42e2c",
   "metadata": {},
   "outputs": [
    {
     "data": {
      "text/plain": [
       "{'A': <data.collection.Collection at 0x7f5546f60f10>,\n",
       " 'A_train': <data.collection.Collection at 0x7f5547762760>,\n",
       " 'A_test_pred': <data.collection.Collection at 0x7f558c053100>,\n",
       " 'C': <data.collection.Collection at 0x7f554654f970>,\n",
       " 'C_test': <data.collection.Collection at 0x7f5586b64520>,\n",
       " 'C_test_pred': <data.collection.Collection at 0x7f55867286a0>,\n",
       " 'D': <data.collection.Collection at 0x7f5547902e20>,\n",
       " 'D_relabeled': <data.collection.Collection at 0x7f5546680c10>}"
      ]
     },
     "execution_count": 23,
     "metadata": {},
     "output_type": "execute_result"
    }
   ],
   "source": [
    "M2.find('d23c9fc7-0f78-4956-a961-f243e858625f', show_names=True)"
   ]
  },
  {
   "cell_type": "code",
   "execution_count": 24,
   "id": "29373691",
   "metadata": {},
   "outputs": [],
   "source": [
    "M = M2"
   ]
  },
  {
   "cell_type": "code",
   "execution_count": 25,
   "id": "e6d9811e",
   "metadata": {},
   "outputs": [],
   "source": [
    "A_test = M.get('A_test')\n",
    "A_test_pred = M.get('A_test_pred')\n",
    "B = M.get('B')"
   ]
  },
  {
   "cell_type": "code",
   "execution_count": 27,
   "id": "accd5ff5",
   "metadata": {},
   "outputs": [],
   "source": [
    "A_test_images_only_, A_test_images_only_ids = A_test.to_array()\n",
    "A_test_images_only_ = A_test_images_only_[:,:,:,0].astype(np.uint8)\n",
    "\n",
    "A_test_pred_, A_test_pred_ids = A_test_pred.to_array()\n",
    "A_test_pred_ = A_test_pred_.astype(np.uint8)"
   ]
  },
  {
   "cell_type": "code",
   "execution_count": 30,
   "id": "5d6f2989",
   "metadata": {},
   "outputs": [],
   "source": [
    "import data\n",
    "A_test_with_pred_ = np.stack((A_test_images_only_, A_test_pred_[:,:,:,0]), axis=-1)\n",
    "\n",
    "#\n",
    "# CREATE C DATASET\n",
    "#\n",
    "B_, B_ids = B.to_array()\n",
    "C_size = (2*B_.shape[0], B_.shape[1], B_.shape[2])\n",
    "C_images_ = np.zeros((C_size+(B_.shape[3],)), dtype=B_.dtype)\n",
    "C_images_[0:A_test_with_pred_.shape[0]] = A_test_with_pred_\n",
    "C_images_[A_test_with_pred_.shape[0]:] = B_\n",
    "\n",
    "C_labels_ = np.empty((C_size+(1,)), dtype=np.bool)\n",
    "C_labels_[0:B_.shape[0],0,0,0] = 1\n",
    "C_labels_[B_.shape[0]:,0,0,0] = 0\n",
    "\n",
    "C_ = np.concatenate((C_images_, C_labels_), axis=-1)\n",
    "#\n",
    "#\n",
    "#\n",
    "\n",
    "# combine the uniq ids from A_test_pred and B\n",
    "C_ids = A_test_pred_ids + B_ids\n",
    "\n",
    "C = data.Collection.from_list(C_, C_ids)"
   ]
  },
  {
   "cell_type": "code",
   "execution_count": 31,
   "id": "deedc205",
   "metadata": {},
   "outputs": [
    {
     "data": {
      "text/plain": [
       "{'A': <data.collection.Collection at 0x7f5546f60f10>,\n",
       " 'A_train': <data.collection.Collection at 0x7f5547762760>,\n",
       " 'A_test_pred': <data.collection.Collection at 0x7f558c053100>,\n",
       " 'C': <data.collection.Collection at 0x7f554654f970>,\n",
       " 'C_test': <data.collection.Collection at 0x7f5586b64520>,\n",
       " 'C_test_pred': <data.collection.Collection at 0x7f55867286a0>,\n",
       " 'D': <data.collection.Collection at 0x7f5547902e20>,\n",
       " 'D_relabeled': <data.collection.Collection at 0x7f5546680c10>}"
      ]
     },
     "execution_count": 31,
     "metadata": {},
     "output_type": "execute_result"
    }
   ],
   "source": [
    "M2.find('d23c9fc7-0f78-4956-a961-f243e858625f', show_names=True)"
   ]
  },
  {
   "cell_type": "code",
   "execution_count": null,
   "id": "7709b963",
   "metadata": {},
   "outputs": [],
   "source": []
  },
  {
   "cell_type": "code",
   "execution_count": null,
   "id": "83597e1a",
   "metadata": {},
   "outputs": [],
   "source": []
  },
  {
   "cell_type": "code",
   "execution_count": null,
   "id": "b7fbc94d",
   "metadata": {},
   "outputs": [],
   "source": []
  },
  {
   "cell_type": "code",
   "execution_count": null,
   "id": "65080a33",
   "metadata": {},
   "outputs": [],
   "source": []
  },
  {
   "cell_type": "code",
   "execution_count": null,
   "id": "d3fc14eb",
   "metadata": {},
   "outputs": [],
   "source": []
  },
  {
   "cell_type": "code",
   "execution_count": null,
   "id": "191e2133",
   "metadata": {},
   "outputs": [],
   "source": []
  },
  {
   "cell_type": "code",
   "execution_count": 10,
   "id": "df67173c",
   "metadata": {},
   "outputs": [
    {
     "name": "stdout",
     "output_type": "stream",
     "text": [
      "removing f8be2635-7691-4074-ac9a-a4f7abe12407 from C_test and adding to A_train\n",
      "removing 4a385c42-5b7e-42db-a9d8-9076a3efae84 from C_test and adding to A_train\n",
      "removing 19ccfe05-ca48-46a2-9ea9-17d0b2d56805 from C_test and adding to A_train\n",
      "removing 28ac6a4e-563c-418e-a735-a6982b06ea6c from C_test and adding to A_train\n",
      "removing a0dc93aa-e5ad-4b0b-9bb2-712ae27bfb3c from C_test and adding to A_train\n",
      "removing 7cd5001c-454d-44a8-acf0-e728c2c64bbe from C_test and adding to A_train\n",
      "removing fb05fa64-aff9-4ae5-a59b-41306246fbeb from C_test and adding to A_train\n",
      "removing 55213f66-bbaa-462d-9ccc-1042461ec2e5 from C_test and adding to A_train\n",
      "removing b28f035e-dc0f-468a-8014-7d4f71cfdf3a from C_test and adding to A_train\n",
      "removing 10dab764-5f9f-4204-a77f-5fefd3a68f71 from C_test and adding to A_train\n",
      "removing 44d29da7-630b-41bd-b91f-9c42e02094e2 from C_test and adding to A_train\n",
      "removing 31ef8692-edd9-426a-b3d9-eb6031f01360 from A_test and adding to A_train\n",
      "removing 3ee44761-3908-4da9-b97f-e28bf05ede23 from A_test and adding to A_train\n",
      "removing 3c511f3e-b8cb-4a69-953c-1f3e923576ce from C_test and adding to A_train\n",
      "Removed: 14 Filled: 14\n"
     ]
    }
   ],
   "source": [
    "R.update_A_train()"
   ]
  },
  {
   "cell_type": "code",
   "execution_count": null,
   "id": "55c75003",
   "metadata": {},
   "outputs": [],
   "source": []
  },
  {
   "cell_type": "code",
   "execution_count": 11,
   "id": "8d01dfa0",
   "metadata": {},
   "outputs": [],
   "source": []
  },
  {
   "cell_type": "code",
   "execution_count": null,
   "id": "5c40bbca",
   "metadata": {},
   "outputs": [],
   "source": []
  },
  {
   "cell_type": "code",
   "execution_count": null,
   "id": "eeb6d4d0",
   "metadata": {},
   "outputs": [],
   "source": []
  },
  {
   "cell_type": "code",
   "execution_count": null,
   "id": "cf60d863",
   "metadata": {},
   "outputs": [],
   "source": []
  },
  {
   "cell_type": "code",
   "execution_count": 26,
   "id": "91c16f4a",
   "metadata": {},
   "outputs": [
    {
     "data": {
      "text/plain": [
       "{'A': <data.collection.Collection at 0x7f076e1703a0>,\n",
       " 'A_train': <data.collection.Collection at 0x7f0731577970>,\n",
       " 'A_test_pred': <data.collection.Collection at 0x7f04300a6340>,\n",
       " 'C': <data.collection.Collection at 0x7f079c101ac0>,\n",
       " 'C_test': <data.collection.Collection at 0x7efa456b04f0>,\n",
       " 'C_test_pred': <data.collection.Collection at 0x7efa459cea60>,\n",
       " 'D': <data.collection.Collection at 0x7f04394f48b0>,\n",
       " 'D_relabeled': <data.collection.Collection at 0x7efa46501bb0>}"
      ]
     },
     "execution_count": 26,
     "metadata": {},
     "output_type": "execute_result"
    }
   ],
   "source": [
    "R.M.find('cae59caa-f396-4c36-9532-2da2b2e6e071', show_names=True)"
   ]
  },
  {
   "cell_type": "code",
   "execution_count": null,
   "id": "b557fb47",
   "metadata": {},
   "outputs": [],
   "source": []
  },
  {
   "cell_type": "code",
   "execution_count": null,
   "id": "34dd057a",
   "metadata": {},
   "outputs": [],
   "source": []
  },
  {
   "cell_type": "code",
   "execution_count": null,
   "id": "c63a9bfc",
   "metadata": {},
   "outputs": [],
   "source": []
  },
  {
   "cell_type": "code",
   "execution_count": 17,
   "id": "6f7633b5",
   "metadata": {},
   "outputs": [
    {
     "data": {
      "text/plain": [
       "{'A': <data.collection.Collection at 0x7f9aec87c2e0>,\n",
       " 'A_train': <data.collection.Collection at 0x7f9aec87c100>,\n",
       " 'A_test_pred': <data.collection.Collection at 0x7f8ddf6d7910>,\n",
       " 'C': <data.collection.Collection at 0x7f8e00eafee0>,\n",
       " 'C_test': <data.collection.Collection at 0x7f8e0636bbb0>,\n",
       " 'C_test_pred': <data.collection.Collection at 0x7f8e014433d0>,\n",
       " 'D': <data.collection.Collection at 0x7f8dd9208610>,\n",
       " 'D_relabeled': <data.collection.Collection at 0x7f8e01a02c70>}"
      ]
     },
     "execution_count": 17,
     "metadata": {},
     "output_type": "execute_result"
    }
   ],
   "source": [
    "R.M.find('f2944af7-2986-4dcd-8b8a-4d9daa724138', show_names=True)"
   ]
  },
  {
   "cell_type": "code",
   "execution_count": 18,
   "id": "888773b0",
   "metadata": {},
   "outputs": [
    {
     "data": {
      "text/plain": [
       "{'B': <data.collection.Collection at 0x7f9aec87c1f0>,\n",
       " 'C': <data.collection.Collection at 0x7f8e00eafee0>,\n",
       " 'C_test': <data.collection.Collection at 0x7f8ddf3a1a30>,\n",
       " 'C_test_pred': <data.collection.Collection at 0x7f8e014433d0>,\n",
       " 'D': <data.collection.Collection at 0x7f8dd9208610>,\n",
       " 'C_train': <data.collection.Collection at 0x7f8e01318f40>}"
      ]
     },
     "execution_count": 18,
     "metadata": {},
     "output_type": "execute_result"
    }
   ],
   "source": [
    "R.M.find('3f860452-a6e2-48be-b920-f5c4e957b1c2', show_names=True)"
   ]
  },
  {
   "cell_type": "code",
   "execution_count": null,
   "id": "e5835f92",
   "metadata": {},
   "outputs": [],
   "source": []
  },
  {
   "cell_type": "code",
   "execution_count": 20,
   "id": "b472b651",
   "metadata": {},
   "outputs": [],
   "source": [
    "M2 = R.M.load(os.path.join(R.workingdir,'Run1.pickle'))"
   ]
  },
  {
   "cell_type": "code",
   "execution_count": 21,
   "id": "f84a0923",
   "metadata": {},
   "outputs": [
    {
     "data": {
      "text/plain": [
       "{'A': <data.collection.Collection at 0x7f8ddfa57670>,\n",
       " 'A_train': <data.collection.Collection at 0x7f8dd84f0970>,\n",
       " 'A_test_pred': <data.collection.Collection at 0x7f8dd9b4a370>,\n",
       " 'C': <data.collection.Collection at 0x7f8dd96d13a0>,\n",
       " 'C_test': <data.collection.Collection at 0x7f8dd8a55730>,\n",
       " 'C_test_pred': <data.collection.Collection at 0x7f8e0105f7f0>,\n",
       " 'D': <data.collection.Collection at 0x7f8ddf9050a0>,\n",
       " 'D_relabeled': <data.collection.Collection at 0x7f8e0182f490>}"
      ]
     },
     "execution_count": 21,
     "metadata": {},
     "output_type": "execute_result"
    }
   ],
   "source": [
    "M2.find('f2944af7-2986-4dcd-8b8a-4d9daa724138', show_names=True)"
   ]
  },
  {
   "cell_type": "code",
   "execution_count": 22,
   "id": "ac474ccd",
   "metadata": {},
   "outputs": [
    {
     "data": {
      "text/plain": [
       "{'B': <data.collection.Collection at 0x7f8ddfa57970>,\n",
       " 'C': <data.collection.Collection at 0x7f8dd96d13a0>,\n",
       " 'C_test': <data.collection.Collection at 0x7f8dd8a55730>,\n",
       " 'C_test_pred': <data.collection.Collection at 0x7f8e0105f7f0>,\n",
       " 'D': <data.collection.Collection at 0x7f8ddf9050a0>}"
      ]
     },
     "execution_count": 22,
     "metadata": {},
     "output_type": "execute_result"
    }
   ],
   "source": [
    "M2.find('3f860452-a6e2-48be-b920-f5c4e957b1c2', show_names=True)"
   ]
  },
  {
   "cell_type": "code",
   "execution_count": null,
   "id": "7da4c3fe",
   "metadata": {},
   "outputs": [],
   "source": []
  },
  {
   "cell_type": "code",
   "execution_count": 9,
   "id": "2464c883",
   "metadata": {},
   "outputs": [
    {
     "name": "stdout",
     "output_type": "stream",
     "text": [
      "(33, 512, 512, 3)\n",
      "76\n",
      "B 930005f6-2818-46a4-ad95-bed37f1da956\n",
      "56\n",
      "B 49fa169a-bf6f-4be5-8398-e10e9a95a4d5\n",
      "85\n",
      "B e630c59b-d178-440f-9198-d766ac473531\n"
     ]
    },
    {
     "ename": "KeyError",
     "evalue": "'e630c59b-d178-440f-9198-d766ac473531'",
     "output_type": "error",
     "traceback": [
      "\u001B[0;31m---------------------------------------------------------------------------\u001B[0m",
      "\u001B[0;31mKeyError\u001B[0m                                  Traceback (most recent call last)",
      "\u001B[0;32m/tmp/ipykernel_533789/1869902822.py\u001B[0m in \u001B[0;36m<module>\u001B[0;34m\u001B[0m\n\u001B[0;32m----> 1\u001B[0;31m \u001B[0mR\u001B[0m\u001B[0;34m.\u001B[0m\u001B[0mrelabel\u001B[0m\u001B[0;34m(\u001B[0m\u001B[0;34m)\u001B[0m\u001B[0;34m\u001B[0m\u001B[0;34m\u001B[0m\u001B[0m\n\u001B[0m",
      "\u001B[0;32m~/Projects/omama/_EXPERIMENTS/GP2/runner.py\u001B[0m in \u001B[0;36mrelabel\u001B[0;34m(self, percent_to_replace)\u001B[0m\n\u001B[1;32m    388\u001B[0m         \u001B[0;31m### SIMULATION CASE -> just grab ground truth###\u001B[0m\u001B[0;34m\u001B[0m\u001B[0;34m\u001B[0m\u001B[0m\n\u001B[1;32m    389\u001B[0m         \u001B[0;31m### OTHERWISE THIS IS THE ENTRYPOINT FOR MANUAL RE-LABELING ###\u001B[0m\u001B[0;34m\u001B[0m\u001B[0;34m\u001B[0m\u001B[0m\n\u001B[0;32m--> 390\u001B[0;31m         \u001B[0mrelabeled\u001B[0m \u001B[0;34m=\u001B[0m \u001B[0mM\u001B[0m\u001B[0;34m.\u001B[0m\u001B[0mget\u001B[0m\u001B[0;34m(\u001B[0m\u001B[0morigin\u001B[0m\u001B[0;34m)\u001B[0m\u001B[0;34m.\u001B[0m\u001B[0mdata\u001B[0m\u001B[0;34m[\u001B[0m\u001B[0mk\u001B[0m\u001B[0;34m]\u001B[0m\u001B[0;34m[\u001B[0m\u001B[0;34m:\u001B[0m\u001B[0;34m,\u001B[0m\u001B[0;34m:\u001B[0m\u001B[0;34m,\u001B[0m\u001B[0;36m1\u001B[0m\u001B[0;34m]\u001B[0m\u001B[0;34m\u001B[0m\u001B[0;34m\u001B[0m\u001B[0m\n\u001B[0m\u001B[1;32m    391\u001B[0m \u001B[0;34m\u001B[0m\u001B[0m\n\u001B[1;32m    392\u001B[0m         \u001B[0mD_relabeled_\u001B[0m\u001B[0;34m[\u001B[0m\u001B[0mi\u001B[0m\u001B[0;34m,\u001B[0m\u001B[0;34m:\u001B[0m\u001B[0;34m,\u001B[0m\u001B[0;34m:\u001B[0m\u001B[0;34m,\u001B[0m\u001B[0;36m0\u001B[0m\u001B[0;34m]\u001B[0m \u001B[0;34m=\u001B[0m \u001B[0mimage\u001B[0m\u001B[0;34m\u001B[0m\u001B[0;34m\u001B[0m\u001B[0m\n",
      "\u001B[0;31mKeyError\u001B[0m: 'e630c59b-d178-440f-9198-d766ac473531'"
     ]
    }
   ],
   "source": [
    "R.relabel()"
   ]
  },
  {
   "cell_type": "code",
   "execution_count": null,
   "id": "f5eaa715",
   "metadata": {},
   "outputs": [],
   "source": [
    "R.M.find('41c40aad-12cd-4c6f-a82c-27909e43771a', show_names=True)"
   ]
  },
  {
   "cell_type": "code",
   "execution_count": null,
   "id": "293d21e9",
   "metadata": {},
   "outputs": [],
   "source": [
    "R.M.find('6822eab7-7365-45c3-8159-ee1ed0ce4547', show_names=True)"
   ]
  },
  {
   "cell_type": "code",
   "execution_count": null,
   "id": "87fdb65a",
   "metadata": {},
   "outputs": [],
   "source": [
    "R.workingdir"
   ]
  },
  {
   "cell_type": "code",
   "execution_count": null,
   "id": "e568bb83",
   "metadata": {},
   "outputs": [],
   "source": [
    "import os\n",
    "M2 = R.M.load(os.path.join(R.workingdir, 'M_step6.pickle'))"
   ]
  },
  {
   "cell_type": "code",
   "execution_count": null,
   "id": "6fb69630",
   "metadata": {},
   "outputs": [],
   "source": [
    "M2.find('6822eab7-7365-45c3-8159-ee1ed0ce4547', show_names=True)"
   ]
  },
  {
   "cell_type": "code",
   "execution_count": null,
   "id": "a5361f85",
   "metadata": {},
   "outputs": [],
   "source": [
    "M2 = R.M.load(os.path.join(R.workingdir, 'M_step7.pickle'))\n",
    "M2.find('6822eab7-7365-45c3-8159-ee1ed0ce4547', show_names=True)"
   ]
  },
  {
   "cell_type": "code",
   "execution_count": null,
   "id": "cdf9ca94",
   "metadata": {},
   "outputs": [],
   "source": [
    "### do we need to unregister some collections before starting a new run???"
   ]
  }
 ],
 "metadata": {
  "kernelspec": {
   "display_name": "Python 3 (ipykernel)",
   "language": "python",
   "name": "python3"
  },
  "language_info": {
   "codemirror_mode": {
    "name": "ipython",
    "version": 3
   },
   "file_extension": ".py",
   "mimetype": "text/x-python",
   "name": "python",
   "nbconvert_exporter": "python",
   "pygments_lexer": "ipython3",
   "version": "3.9.7"
  }
 },
 "nbformat": 4,
 "nbformat_minor": 5
}
