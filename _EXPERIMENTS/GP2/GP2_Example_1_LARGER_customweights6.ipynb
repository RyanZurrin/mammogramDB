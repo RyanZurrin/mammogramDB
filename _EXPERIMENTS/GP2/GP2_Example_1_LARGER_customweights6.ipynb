{
 "cells": [
  {
   "cell_type": "code",
   "execution_count": 1,
   "id": "06c4accc",
   "metadata": {},
   "outputs": [
    {
     "name": "stdout",
     "output_type": "stream",
     "text": [
      "Populating the interactive namespace from numpy and matplotlib\n"
     ]
    }
   ],
   "source": [
    "%pylab inline\n",
    "%load_ext autoreload\n",
    "%autoreload 2"
   ]
  },
  {
   "cell_type": "code",
   "execution_count": 2,
   "id": "3b313506",
   "metadata": {},
   "outputs": [],
   "source": [
    "import time"
   ]
  },
  {
   "cell_type": "code",
   "execution_count": 3,
   "id": "b9e78ed8",
   "metadata": {},
   "outputs": [],
   "source": [
    "from runner import Runner"
   ]
  },
  {
   "cell_type": "code",
   "execution_count": 4,
   "id": "bdc75325",
   "metadata": {},
   "outputs": [
    {
     "name": "stdout",
     "output_type": "stream",
     "text": [
      "*** GP2 ***\n",
      "Working directory: /tmp/tmp2ubdan8gGP2\n"
     ]
    }
   ],
   "source": [
    "R = Runner(verbose=False)"
   ]
  },
  {
   "cell_type": "code",
   "execution_count": 5,
   "id": "87b0c65d",
   "metadata": {},
   "outputs": [],
   "source": [
    "# load our larger toy dataset (10k images and masks)\n",
    "images = np.load('/raid/mpsych/GP2TOYEXAMPLE_LARGE/images.npy')\n",
    "masks = np.load('/raid/mpsych/GP2TOYEXAMPLE_LARGE/masks.npy')"
   ]
  },
  {
   "cell_type": "code",
   "execution_count": 6,
   "id": "1dd71668",
   "metadata": {},
   "outputs": [],
   "source": [
    "weights = {\n",
    "    'A': 0.5,\n",
    "    'A_train': 0.1,\n",
    "    'A_val': 0.3,\n",
    "    'A_test': 0.6,\n",
    "    'B': 0.3,\n",
    "    'B_train': 0.7,\n",
    "    'B_val': 0.1,\n",
    "    'B_test': 0.2,\n",
    "    'Z': 0.2\n",
    "}\n",
    "PERCENT_TO_REPLACE = 30"
   ]
  },
  {
   "cell_type": "code",
   "execution_count": 7,
   "id": "2a5d1030",
   "metadata": {},
   "outputs": [
    {
     "name": "stdout",
     "output_type": "stream",
     "text": [
      "Weights OK!\n"
     ]
    }
   ],
   "source": [
    "#\n",
    "#\n",
    "R.setup_data(images, masks, dataset_size=10000, weights=weights)"
   ]
  },
  {
   "cell_type": "code",
   "execution_count": 8,
   "id": "99127251",
   "metadata": {},
   "outputs": [],
   "source": [
    "RUNS = 5"
   ]
  },
  {
   "cell_type": "code",
   "execution_count": 9,
   "id": "d8ff85c4",
   "metadata": {
    "scrolled": false
   },
   "outputs": [
    {
     "name": "stdout",
     "output_type": "stream",
     "text": [
      "***\n",
      "RUN: 0\n",
      "Model saved to /tmp/tmp2ubdan8gGP2/unet_0.model\n",
      "History saved to /tmp/tmp2ubdan8gGP2/history_0.pickle\n",
      "Testing the classifier...\n",
      "94/94 [==============================] - 10s 104ms/step - loss: 0.9157 - dice_coeff: 0.4058\n",
      "Model saved to /tmp/tmp2ubdan8gGP2/cnnd_0.model\n",
      "History saved to /tmp/tmp2ubdan8gGP2/cnnd_history_0.pickle\n",
      "Testing the discriminator...\n",
      "19/19 [==============================] - 0s 23ms/step - loss: 0.1876 - accuracy: 0.9867\n",
      "Found 300 machine labels.\n",
      "Replacing 100 from 300 !\n",
      "Removed: 84 Filled: 84\n",
      "TOOK 2297.6727643013 seconds\n",
      "***\n",
      "RUN: 1\n",
      "Model saved to /tmp/tmp2ubdan8gGP2/unet_1.model\n",
      "History saved to /tmp/tmp2ubdan8gGP2/history_1.pickle\n",
      "Testing the classifier...\n",
      "94/94 [==============================] - 9s 98ms/step - loss: 0.6621 - dice_coeff: 0.5254\n",
      "Testing the discriminator...\n",
      "19/19 [==============================] - 1s 26ms/step - loss: 8.5971 - accuracy: 0.7650\n",
      "Found 153 machine labels.\n",
      "Replacing 51 from 153 !\n",
      "Removed: 49 Filled: 49\n",
      "TOOK 2107.371081352234 seconds\n",
      "***\n",
      "RUN: 2\n",
      "Model saved to /tmp/tmp2ubdan8gGP2/unet_2.model\n",
      "History saved to /tmp/tmp2ubdan8gGP2/history_2.pickle\n",
      "Testing the classifier...\n",
      "94/94 [==============================] - 9s 98ms/step - loss: 0.4329 - dice_coeff: 0.6712\n",
      "Testing the discriminator...\n",
      "19/19 [==============================] - 0s 22ms/step - loss: 10.2939 - accuracy: 0.7417\n",
      "Found 139 machine labels.\n",
      "Replacing 46 from 139 !\n",
      "Removed: 38 Filled: 38\n",
      "TOOK 2346.9850895404816 seconds\n",
      "***\n",
      "RUN: 3\n",
      "Model saved to /tmp/tmp2ubdan8gGP2/unet_3.model\n",
      "History saved to /tmp/tmp2ubdan8gGP2/history_3.pickle\n",
      "Testing the classifier...\n",
      "94/94 [==============================] - 9s 99ms/step - loss: 0.2377 - dice_coeff: 0.8181\n",
      "Testing the discriminator...\n",
      "19/19 [==============================] - 0s 22ms/step - loss: 12.0153 - accuracy: 0.7033\n",
      "Found 148 machine labels.\n",
      "Replacing 49 from 148 !\n",
      "Removed: 46 Filled: 46\n",
      "TOOK 1921.9511377811432 seconds\n",
      "***\n",
      "RUN: 4\n",
      "Model saved to /tmp/tmp2ubdan8gGP2/unet_4.model\n",
      "History saved to /tmp/tmp2ubdan8gGP2/history_4.pickle\n",
      "Testing the classifier...\n",
      "94/94 [==============================] - 9s 99ms/step - loss: 0.1211 - dice_coeff: 0.9172\n",
      "Testing the discriminator...\n",
      "19/19 [==============================] - 0s 22ms/step - loss: 10.5860 - accuracy: 0.7483\n",
      "Found 158 machine labels.\n",
      "Replacing 52 from 158 !\n",
      "Removed: 46 Filled: 46\n",
      "TOOK 2047.8054459095001 seconds\n"
     ]
    }
   ],
   "source": [
    "for run in range(RUNS):\n",
    "    print('***')\n",
    "    print('RUN:', run)\n",
    "    t0 = time.time()\n",
    "    R.run_classifier()\n",
    "    R.run_discriminator()\n",
    "    l = R.find_machine_labels()\n",
    "    if l == 0:\n",
    "        print('No more machine labels.')\n",
    "        print('TOOK', time.time()-t0, 'seconds')\n",
    "        break\n",
    "    R.relabel(percent_to_replace=PERCENT_TO_REPLACE)\n",
    "    print('TOOK', time.time()-t0, 'seconds')\n",
    "    "
   ]
  },
  {
   "cell_type": "code",
   "execution_count": null,
   "id": "dab6fd49",
   "metadata": {},
   "outputs": [],
   "source": []
  },
  {
   "cell_type": "code",
   "execution_count": null,
   "id": "93739320",
   "metadata": {},
   "outputs": [],
   "source": []
  },
  {
   "cell_type": "code",
   "execution_count": null,
   "id": "a76a4615",
   "metadata": {},
   "outputs": [],
   "source": []
  },
  {
   "cell_type": "code",
   "execution_count": 10,
   "id": "00075332",
   "metadata": {},
   "outputs": [
    {
     "data": {
      "text/plain": [
       "[[0.9156632423400879, 0.4058244526386261],\n",
       " [0.6621054410934448, 0.525407612323761],\n",
       " [0.432913213968277, 0.6711912155151367],\n",
       " [0.23769482970237732, 0.818067729473114],\n",
       " [0.12111461162567139, 0.9171703457832336]]"
      ]
     },
     "execution_count": 10,
     "metadata": {},
     "output_type": "execute_result"
    }
   ],
   "source": [
    "R.classifier_scores"
   ]
  },
  {
   "cell_type": "code",
   "execution_count": 11,
   "id": "35105656",
   "metadata": {},
   "outputs": [
    {
     "data": {
      "text/plain": [
       "[[0.18762366473674774, 0.9866666793823242],\n",
       " [8.597139358520508, 0.7649999856948853],\n",
       " [10.293930053710938, 0.7416666746139526],\n",
       " [12.015337944030762, 0.70333331823349],\n",
       " [10.586000442504883, 0.7483333349227905]]"
      ]
     },
     "execution_count": 11,
     "metadata": {},
     "output_type": "execute_result"
    }
   ],
   "source": [
    "R.discriminator_scores"
   ]
  },
  {
   "cell_type": "code",
   "execution_count": 12,
   "id": "0a721a90",
   "metadata": {},
   "outputs": [
    {
     "data": {
      "image/png": "[encoded data removed]",
      "text/plain": [
       "<Figure size 240x240 with 1 Axes>"
      ]
     },
     "metadata": {
      "needs_background": "light"
     },
     "output_type": "display_data"
    }
   ],
   "source": [
    "R.plot()"
   ]
  },
  {
   "cell_type": "code",
   "execution_count": null,
   "id": "551de181",
   "metadata": {},
   "outputs": [],
   "source": []
  }
 ],
 "metadata": {
  "kernelspec": {
   "display_name": "Python 3 (ipykernel)",
   "language": "python",
   "name": "python3"
  },
  "language_info": {
   "codemirror_mode": {
    "name": "ipython",
    "version": 3
   },
   "file_extension": ".py",
   "mimetype": "text/x-python",
   "name": "python",
   "nbconvert_exporter": "python",
   "pygments_lexer": "ipython3",
   "version": "3.9.7"
  }
 },
 "nbformat": 4,
 "nbformat_minor": 5
}
