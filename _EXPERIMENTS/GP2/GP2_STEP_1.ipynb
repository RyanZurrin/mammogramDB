{
 "cells": [
  {
   "cell_type": "code",
   "execution_count": 1,
   "id": "b15e439a",
   "metadata": {},
   "outputs": [
    {
     "name": "stdout",
     "output_type": "stream",
     "text": [
      "Populating the interactive namespace from numpy and matplotlib\n"
     ]
    }
   ],
   "source": [
    "%pylab inline\n",
    "%load_ext autoreload\n",
    "%autoreload 2"
   ]
  },
  {
   "cell_type": "code",
   "execution_count": 2,
   "id": "2eaaa0f4",
   "metadata": {},
   "outputs": [],
   "source": [
    "import data\n",
    "import gp2"
   ]
  },
  {
   "cell_type": "code",
   "execution_count": 3,
   "id": "2f8d6915",
   "metadata": {},
   "outputs": [],
   "source": [
    "import os"
   ]
  },
  {
   "cell_type": "code",
   "execution_count": 4,
   "id": "d49908d7",
   "metadata": {},
   "outputs": [],
   "source": [
    "import tempfile\n",
    "workingdir = tempfile.mkdtemp(suffix='GP2')"
   ]
  },
  {
   "cell_type": "code",
   "execution_count": 5,
   "id": "e795f18d",
   "metadata": {},
   "outputs": [
    {
     "name": "stdout",
     "output_type": "stream",
     "text": [
      "/tmp/tmpxpfmjujnGP2\n"
     ]
    }
   ],
   "source": [
    "print(workingdir)"
   ]
  },
  {
   "cell_type": "code",
   "execution_count": 6,
   "id": "e07fd4c2",
   "metadata": {},
   "outputs": [],
   "source": [
    "# load our toy dataset (images and labels)\n",
    "images = np.load('/raid/mpsych/GP2TOYEXAMPLE/images.npy')\n",
    "labels = np.load('/raid/mpsych/GP2TOYEXAMPLE/labels.npy')"
   ]
  },
  {
   "cell_type": "code",
   "execution_count": 7,
   "id": "2a11dccd",
   "metadata": {},
   "outputs": [],
   "source": [
    "M = data.Manager()"
   ]
  },
  {
   "cell_type": "code",
   "execution_count": 8,
   "id": "126d8af3",
   "metadata": {},
   "outputs": [],
   "source": [
    "A_, B_, Z_ = gp2.Util.create_A_B_Z_split(images, labels)"
   ]
  },
  {
   "cell_type": "code",
   "execution_count": 9,
   "id": "b1990f78",
   "metadata": {},
   "outputs": [],
   "source": [
    "A = data.Collection.from_list(A_)\n",
    "B = data.Collection.from_list(B_)\n",
    "Z = data.Collection.from_list(Z_)\n",
    "\n",
    "M.register(A, 'A') # we might not need to save this one here\n",
    "M.register(B, 'B')\n",
    "M.register(Z, 'Z')"
   ]
  },
  {
   "cell_type": "code",
   "execution_count": 12,
   "id": "29b82dc5",
   "metadata": {},
   "outputs": [],
   "source": [
    "A = M.get('A')\n",
    "A_, A_ids = A.to_array()"
   ]
  },
  {
   "cell_type": "code",
   "execution_count": 13,
   "id": "4ca29531",
   "metadata": {},
   "outputs": [],
   "source": [
    "train_count=200\n",
    "val_count=300\n",
    "test_count=250\n",
    "\n",
    "A_train_, A_val_, A_test_ = gp2.Util.create_train_val_test_split(A_, \n",
    "                                                                 train_count=train_count, \n",
    "                                                                 val_count=val_count, \n",
    "                                                                 test_count=test_count,\n",
    "                                                                 shuffle=False)\n",
    "A_train_ids = A_ids[0:train_count]\n",
    "A_val_ids = A_ids[train_count:train_count+val_count]\n",
    "A_test_ids = A_ids[train_count+val_count:train_count+val_count+test_count]\n",
    "\n",
    "\n",
    "A_train = data.Collection.from_list(A_train_, A_train_ids)  # COLLECTION LAND\n",
    "A_val = data.Collection.from_list(A_val_, A_val_ids)\n",
    "A_test = data.Collection.from_list(A_test_, A_test_ids)\n",
    "\n",
    "M.register(A_train, 'A_train')\n",
    "M.register(A_val, 'A_val')\n",
    "M.register(A_test, 'A_test')"
   ]
  },
  {
   "cell_type": "code",
   "execution_count": 11,
   "id": "305f96cf",
   "metadata": {},
   "outputs": [],
   "source": [
    "u = gp2.UNet(verbose=False, workingdir=workingdir)"
   ]
  },
  {
   "cell_type": "code",
   "execution_count": 12,
   "id": "7bb665f9",
   "metadata": {
    "scrolled": false
   },
   "outputs": [],
   "source": [
    "X_train_, X_train_ids = A_train.to_array()\n",
    "X_train_ = X_train_[:,:,:,0].astype(np.float32)\n",
    "\n",
    "y_train_, y_train_ids = A_train.to_array()\n",
    "y_train_ = y_train_[:,:,:,1].astype(np.float32)\n",
    "\n",
    "X_val_, X_val_ids = A_val.to_array()\n",
    "X_val_ = X_val_[:,:,:,0].astype(np.float32)\n",
    "\n",
    "y_val_, y_val_ids = A_val.to_array()\n",
    "y_val_ = y_val_[:,:,:,1].astype(np.float32)"
   ]
  },
  {
   "cell_type": "code",
   "execution_count": 13,
   "id": "f94a46c2",
   "metadata": {},
   "outputs": [
    {
     "name": "stdout",
     "output_type": "stream",
     "text": [
      "INFO:tensorflow:Assets written to: /tmp/tmpsbsac6t_GP2/unet_0.model/assets\n",
      "INFO:tensorflow:Assets written to: /tmp/tmpsbsac6t_GP2/unet_0.model/assets\n",
      "INFO:tensorflow:Assets written to: /tmp/tmpsbsac6t_GP2/unet_0.model/assets\n",
      "INFO:tensorflow:Assets written to: /tmp/tmpsbsac6t_GP2/unet_0.model/assets\n",
      "INFO:tensorflow:Assets written to: /tmp/tmpsbsac6t_GP2/unet_0.model/assets\n",
      "INFO:tensorflow:Assets written to: /tmp/tmpsbsac6t_GP2/unet_0.model/assets\n",
      "INFO:tensorflow:Assets written to: /tmp/tmpsbsac6t_GP2/unet_0.model/assets\n",
      "INFO:tensorflow:Assets written to: /tmp/tmpsbsac6t_GP2/unet_0.model/assets\n",
      "INFO:tensorflow:Assets written to: /tmp/tmpsbsac6t_GP2/unet_0.model/assets\n",
      "INFO:tensorflow:Assets written to: /tmp/tmpsbsac6t_GP2/unet_0.model/assets\n",
      "INFO:tensorflow:Assets written to: /tmp/tmpsbsac6t_GP2/unet_0.model/assets\n",
      "INFO:tensorflow:Assets written to: /tmp/tmpsbsac6t_GP2/unet_0.model/assets\n",
      "INFO:tensorflow:Assets written to: /tmp/tmpsbsac6t_GP2/unet_0.model/assets\n",
      "Epoch 00030: early stopping\n",
      "Model saved to /tmp/tmpsbsac6t_GP2/unet_0.model\n",
      "History saved to /tmp/tmpsbsac6t_GP2/history_0.pickle\n"
     ]
    }
   ],
   "source": [
    "history = u.train(X_train_, y_train_, X_val_, y_val_)"
   ]
  },
  {
   "cell_type": "code",
   "execution_count": 14,
   "id": "f9485580",
   "metadata": {},
   "outputs": [
    {
     "name": "stdout",
     "output_type": "stream",
     "text": [
      "8/8 [==============================] - 1s 104ms/step - loss: 1.0870 - dice_coeff: 0.3330\n"
     ]
    }
   ],
   "source": [
    "X_test_, X_test_ids = A_test.to_array()\n",
    "X_test__ = X_test_[:,:,:,0].astype(np.float32)\n",
    "y_test_ = X_test_[:,:,:,1].astype(np.float32)\n",
    "\n",
    "predictions, scores = u.predict(X_test__, y_test_)"
   ]
  },
  {
   "cell_type": "code",
   "execution_count": 15,
   "id": "ed4bce25",
   "metadata": {},
   "outputs": [
    {
     "data": {
      "text/plain": [
       "[1.0870425701141357, 0.3330201804637909]"
      ]
     },
     "execution_count": 15,
     "metadata": {},
     "output_type": "execute_result"
    }
   ],
   "source": [
    "scores"
   ]
  },
  {
   "cell_type": "code",
   "execution_count": 16,
   "id": "25fb6de2",
   "metadata": {},
   "outputs": [
    {
     "data": {
      "text/plain": [
       "(250, 512, 512, 1)"
      ]
     },
     "execution_count": 16,
     "metadata": {},
     "output_type": "execute_result"
    }
   ],
   "source": [
    "predictions.shape"
   ]
  },
  {
   "cell_type": "code",
   "execution_count": 17,
   "id": "6c8592c0",
   "metadata": {},
   "outputs": [
    {
     "data": {
      "text/plain": [
       "<matplotlib.image.AxesImage at 0x7f8fc87a56a0>"
      ]
     },
     "execution_count": 17,
     "metadata": {},
     "output_type": "execute_result"
    },
    {
     "data": {
      "image/png": "[encoded data removed]",
      "text/plain": [
       "<Figure size 432x288 with 1 Axes>"
      ]
     },
     "metadata": {
      "needs_background": "light"
     },
     "output_type": "display_data"
    }
   ],
   "source": [
    "imshow(predictions[20])"
   ]
  },
  {
   "cell_type": "code",
   "execution_count": 19,
   "id": "1095114e",
   "metadata": {},
   "outputs": [],
   "source": [
    "A_test_pred = data.Collection.from_list(predictions, X_test_ids) "
   ]
  },
  {
   "cell_type": "code",
   "execution_count": 20,
   "id": "b351b93a",
   "metadata": {},
   "outputs": [],
   "source": [
    "M.register(A_test_pred, 'A_test_pred')"
   ]
  },
  {
   "cell_type": "code",
   "execution_count": null,
   "id": "5705bf19",
   "metadata": {},
   "outputs": [],
   "source": []
  },
  {
   "cell_type": "code",
   "execution_count": 21,
   "id": "80e2e04b",
   "metadata": {},
   "outputs": [
    {
     "data": {
      "text/plain": [
       "'f268ce7d-c886-4f75-ae14-4b11df466c86'"
      ]
     },
     "execution_count": 21,
     "metadata": {},
     "output_type": "execute_result"
    }
   ],
   "source": [
    "# test: check if we can find A_test_pred data in A_test\n",
    "list(A_test_pred.data.keys())[13]"
   ]
  },
  {
   "cell_type": "code",
   "execution_count": 22,
   "id": "815bb464",
   "metadata": {},
   "outputs": [
    {
     "data": {
      "text/plain": [
       "{'A_test': <data.collection.Collection at 0x7f9a11c1b5b0>,\n",
       " 'A_test_pred': <data.collection.Collection at 0x7f8fc825d130>}"
      ]
     },
     "execution_count": 22,
     "metadata": {},
     "output_type": "execute_result"
    }
   ],
   "source": [
    "M.find(list(A_test_pred.data.keys())[13], show_names=True)"
   ]
  },
  {
   "cell_type": "code",
   "execution_count": null,
   "id": "619ab7e0",
   "metadata": {},
   "outputs": [],
   "source": []
  },
  {
   "cell_type": "code",
   "execution_count": null,
   "id": "0d522855",
   "metadata": {},
   "outputs": [],
   "source": []
  },
  {
   "cell_type": "code",
   "execution_count": 23,
   "id": "fe4f1881",
   "metadata": {},
   "outputs": [],
   "source": [
    "B = data.Collection.from_list(B_)"
   ]
  },
  {
   "cell_type": "code",
   "execution_count": 24,
   "id": "1c96a14b",
   "metadata": {},
   "outputs": [],
   "source": [
    "M.register(B, 'B')"
   ]
  },
  {
   "cell_type": "code",
   "execution_count": 25,
   "id": "e84f4a2a",
   "metadata": {},
   "outputs": [
    {
     "data": {
      "text/plain": [
       "{'9b40feb6-d801-455d-9844-ce7699e8f4fd': 'A_train',\n",
       " 'b2a16a66-060e-408a-8e17-506238300389': 'A_val',\n",
       " '176fcc4c-f45b-487e-a7ac-62010272d206': 'A_test',\n",
       " 'b13780c8-e9b9-47bb-84ad-d91ce9155211': 'A_test_pred',\n",
       " '2834b7d4-9f72-4584-aedd-f866777290e3': 'B'}"
      ]
     },
     "execution_count": 25,
     "metadata": {},
     "output_type": "execute_result"
    }
   ],
   "source": [
    "M.names"
   ]
  },
  {
   "cell_type": "code",
   "execution_count": 26,
   "id": "086aeb43",
   "metadata": {},
   "outputs": [],
   "source": [
    "M.save(os.path.join(workingdir, 'M_step1.pickle'))"
   ]
  },
  {
   "cell_type": "code",
   "execution_count": null,
   "id": "923aa2ae",
   "metadata": {},
   "outputs": [],
   "source": []
  }
 ],
 "metadata": {
  "kernelspec": {
   "display_name": "Python 3 (ipykernel)",
   "language": "python",
   "name": "python3"
  },
  "language_info": {
   "codemirror_mode": {
    "name": "ipython",
    "version": 3
   },
   "file_extension": ".py",
   "mimetype": "text/x-python",
   "name": "python",
   "nbconvert_exporter": "python",
   "pygments_lexer": "ipython3",
   "version": "3.9.7"
  }
 },
 "nbformat": 4,
 "nbformat_minor": 5
}
