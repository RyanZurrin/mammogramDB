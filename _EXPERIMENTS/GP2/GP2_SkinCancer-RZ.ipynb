{
 "cells": [
  {
   "cell_type": "code",
   "execution_count": 1,
   "id": "06c4accc",
   "metadata": {},
   "outputs": [
    {
     "name": "stdout",
     "output_type": "stream",
     "text": [
      "Populating the interactive namespace from numpy and matplotlib\n"
     ]
    }
   ],
   "source": [
    "%pylab inline\n",
    "%load_ext autoreload\n",
    "%autoreload 2"
   ]
  },
  {
   "cell_type": "code",
   "execution_count": 2,
   "id": "3b313506",
   "metadata": {},
   "outputs": [],
   "source": [
    "import time"
   ]
  },
  {
   "cell_type": "code",
   "execution_count": 3,
   "id": "b9e78ed8",
   "metadata": {},
   "outputs": [],
   "source": [
    "from runner import Runner"
   ]
  },
  {
   "cell_type": "code",
   "execution_count": 4,
   "id": "bdc75325",
   "metadata": {},
   "outputs": [
    {
     "name": "stdout",
     "output_type": "stream",
     "text": [
      "*** GP2 ***\n",
      "Working directory: /tmp/tmpwgz1ciesGP2\n",
      "Verbose mode active!\n"
     ]
    }
   ],
   "source": [
    "R = Runner(verbose=True)"
   ]
  },
  {
   "cell_type": "code",
   "execution_count": 5,
   "id": "87b0c65d",
   "metadata": {},
   "outputs": [],
   "source": [
    "# load our dataset  (images and masks)\n",
    "images = np.load('/hpcstor6/scratch01/r/ryan.zurrin001/SkinCancerMNIST/SkinCancer_images.npy')\n",
    "masks = np.load('/hpcstor6/scratch01/r/ryan.zurrin001/SkinCancerMNIST/SkinCancer_masks.npy')"
   ]
  },
  {
   "cell_type": "code",
   "execution_count": 6,
   "id": "ad1e3dc9",
   "metadata": {},
   "outputs": [],
   "source": [
    "images = images[:10000]"
   ]
  },
  {
   "cell_type": "code",
   "execution_count": 7,
   "id": "d6b4ec31",
   "metadata": {},
   "outputs": [],
   "source": [
    "masks = masks[:10000]"
   ]
  },
  {
   "cell_type": "code",
   "execution_count": 8,
   "id": "1dd71668",
   "metadata": {},
   "outputs": [],
   "source": [
    "weights = {\n",
    "    'A': 0.5,\n",
    "    'A_train': 0.1,\n",
    "    'A_val': 0.3,\n",
    "    'A_test': 0.6,\n",
    "    'B': 0.3,\n",
    "    'B_train': 0.7,\n",
    "    'B_val': 0.1,\n",
    "    'B_test': 0.2,\n",
    "    'Z': 0.2\n",
    "}\n",
    "PERCENT_TO_REPLACE = 30"
   ]
  },
  {
   "cell_type": "code",
   "execution_count": 9,
   "id": "2a5d1030",
   "metadata": {},
   "outputs": [
    {
     "name": "stdout",
     "output_type": "stream",
     "text": [
      "Weights OK!\n"
     ]
    }
   ],
   "source": [
    "#\n",
    "#\n",
    "R.setup_data(images, masks, dataset_size=10000, weights=weights)"
   ]
  },
  {
   "cell_type": "code",
   "execution_count": 10,
   "id": "99127251",
   "metadata": {},
   "outputs": [],
   "source": [
    "RUNS = 5"
   ]
  },
  {
   "cell_type": "code",
   "execution_count": 11,
   "id": "d8ff85c4",
   "metadata": {
    "scrolled": true
   },
   "outputs": [
    {
     "name": "stdout",
     "output_type": "stream",
     "text": [
      "***\n",
      "RUN: 0\n",
      "Epoch 1/100\n",
      "8/8 [==============================] - 36s 3s/step - loss: 1.4957 - dice_coeff: 0.3260 - val_loss: 1.4499 - val_dice_coeff: 0.2484\n",
      "Epoch 2/100\n",
      "8/8 [==============================] - 11s 1s/step - loss: 1.2375 - dice_coeff: 0.3828 - val_loss: 1.4501 - val_dice_coeff: 0.2484\n",
      "Epoch 3/100\n",
      "8/8 [==============================] - 11s 1s/step - loss: 1.1594 - dice_coeff: 0.3999 - val_loss: 1.4496 - val_dice_coeff: 0.2478\n",
      "Epoch 4/100\n",
      "8/8 [==============================] - 11s 1s/step - loss: 1.1183 - dice_coeff: 0.4134 - val_loss: 1.4462 - val_dice_coeff: 0.2472\n",
      "Epoch 5/100\n",
      "8/8 [==============================] - 11s 1s/step - loss: 1.0373 - dice_coeff: 0.4392 - val_loss: 1.4412 - val_dice_coeff: 0.2471\n",
      "Epoch 6/100\n",
      "8/8 [==============================] - 11s 1s/step - loss: 0.9994 - dice_coeff: 0.4521 - val_loss: 1.4365 - val_dice_coeff: 0.2459\n",
      "Epoch 7/100\n",
      "8/8 [==============================] - 11s 1s/step - loss: 0.9814 - dice_coeff: 0.4605 - val_loss: 1.4309 - val_dice_coeff: 0.2452\n",
      "Epoch 8/100\n",
      "8/8 [==============================] - 12s 2s/step - loss: 0.9550 - dice_coeff: 0.4679 - val_loss: 1.4261 - val_dice_coeff: 0.2447\n",
      "Epoch 9/100\n",
      "8/8 [==============================] - 11s 1s/step - loss: 0.9165 - dice_coeff: 0.4812 - val_loss: 1.4215 - val_dice_coeff: 0.2439\n",
      "Epoch 10/100\n",
      "8/8 [==============================] - 11s 1s/step - loss: 0.9160 - dice_coeff: 0.4854 - val_loss: 1.4162 - val_dice_coeff: 0.2432\n",
      "Epoch 11/100\n",
      "8/8 [==============================] - 12s 2s/step - loss: 0.9019 - dice_coeff: 0.4909 - val_loss: 1.4102 - val_dice_coeff: 0.2430\n",
      "Epoch 12/100\n",
      "8/8 [==============================] - 12s 2s/step - loss: 0.8694 - dice_coeff: 0.5037 - val_loss: 1.4031 - val_dice_coeff: 0.2418\n",
      "Epoch 13/100\n",
      "8/8 [==============================] - 12s 2s/step - loss: 0.8761 - dice_coeff: 0.5003 - val_loss: 1.3977 - val_dice_coeff: 0.2412\n",
      "Epoch 14/100\n",
      "8/8 [==============================] - 12s 2s/step - loss: 0.8580 - dice_coeff: 0.5087 - val_loss: 1.3917 - val_dice_coeff: 0.2408\n",
      "Epoch 15/100\n",
      "8/8 [==============================] - 12s 2s/step - loss: 0.8713 - dice_coeff: 0.5030 - val_loss: 1.3874 - val_dice_coeff: 0.2402\n",
      "Epoch 16/100\n",
      "8/8 [==============================] - 12s 2s/step - loss: 0.8467 - dice_coeff: 0.5142 - val_loss: 1.3787 - val_dice_coeff: 0.2403\n",
      "Epoch 17/100\n",
      "8/8 [==============================] - 12s 2s/step - loss: 0.8521 - dice_coeff: 0.5116 - val_loss: 1.3773 - val_dice_coeff: 0.2356\n",
      "Epoch 18/100\n",
      "8/8 [==============================] - 12s 2s/step - loss: 0.8340 - dice_coeff: 0.5177 - val_loss: 1.3687 - val_dice_coeff: 0.2343\n",
      "Epoch 19/100\n",
      "8/8 [==============================] - 12s 2s/step - loss: 0.8321 - dice_coeff: 0.5212 - val_loss: 1.3679 - val_dice_coeff: 0.2319\n",
      "Epoch 20/100\n",
      "8/8 [==============================] - 12s 2s/step - loss: 0.8088 - dice_coeff: 0.5307 - val_loss: 1.3639 - val_dice_coeff: 0.2291\n",
      "Epoch 21/100\n",
      "8/8 [==============================] - 12s 2s/step - loss: 0.8085 - dice_coeff: 0.5315 - val_loss: 1.3592 - val_dice_coeff: 0.2284\n",
      "Epoch 22/100\n",
      "8/8 [==============================] - 12s 2s/step - loss: 0.8028 - dice_coeff: 0.5339 - val_loss: 1.3588 - val_dice_coeff: 0.2199\n",
      "Epoch 23/100\n",
      "8/8 [==============================] - 12s 2s/step - loss: 0.8015 - dice_coeff: 0.5363 - val_loss: 1.3469 - val_dice_coeff: 0.2254\n",
      "Epoch 24/100\n",
      "8/8 [==============================] - 12s 2s/step - loss: 0.7708 - dice_coeff: 0.5517 - val_loss: 1.3541 - val_dice_coeff: 0.2172\n",
      "Epoch 25/100\n",
      "8/8 [==============================] - 12s 2s/step - loss: 0.7722 - dice_coeff: 0.5523 - val_loss: 1.3480 - val_dice_coeff: 0.2184\n",
      "Epoch 26/100\n",
      "8/8 [==============================] - 11s 2s/step - loss: 0.7995 - dice_coeff: 0.5364 - val_loss: 1.3425 - val_dice_coeff: 0.2140\n",
      "Model saved to /tmp/tmpwgz1ciesGP2/unet_0.model\n",
      "History saved to /tmp/tmpwgz1ciesGP2/history_0.pickle\n",
      "Testing the classifier...\n",
      "94/94 [==============================] - 10s 106ms/step - loss: 1.3378 - dice_coeff: 0.2289\n",
      "Model saved to /tmp/tmpwgz1ciesGP2/cnnd_0.model\n",
      "History saved to /tmp/tmpwgz1ciesGP2/cnnd_history_0.pickle\n",
      "Testing the discriminator...\n",
      "19/19 [==============================] - 1s 44ms/step - loss: 1.1168e-06 - accuracy: 1.0000\n",
      "Found 301 machine labels.\n",
      "Machine labels [  0   3   7   8  10  12  14  15  16  17  19  21  22  26  28  30  34  35\n",
      "  36  39  41  44  45  46  47  49  51  56  58  64  67  68  69  70  72  73\n",
      "  76  78  80  84  85  86  88  91  93  97  98 102 104 105 107 108 109 112\n",
      " 114 115 117 122 124 125 126 128 129 131 137 141 143 144 148 151 157 158\n",
      " 160 161 162 164 166 168 169 173 174 175 177 178 182 184 191 192 193 194\n",
      " 196 198 199 200 201 202 203 204 206 214 215 216 217 220 221 222 223 224\n",
      " 228 229 231 232 233 237 239 242 243 245 246 249 252 254 259 261 264 266\n",
      " 268 269 271 274 276 279 280 282 283 286 287 289 290 291 293 294 296 297\n",
      " 299 300 301 302 303 304 305 306 308 310 311 312 313 314 315 316 319 320\n",
      " 321 322 323 324 326 328 330 331 334 336 338 343 344 345 347 348 349 354\n",
      " 355 357 362 364 366 367 369 371 373 377 378 380 381 383 384 385 386 388\n",
      " 390 391 393 395 398 399 403 404 405 406 407 408 409 411 412 415 417 419\n",
      " 422 423 427 428 432 433 434 436 437 438 439 440 442 445 450 451 452 457\n",
      " 458 459 460 464 465 466 473 475 477 478 479 483 484 487 488 490 495 496\n",
      " 499 500 507 512 513 515 518 523 524 526 527 529 534 535 537 538 541 543\n",
      " 544 545 547 548 549 550 552 553 556 557 558 559 561 562 563 565 566 570\n",
      " 572 575 576 577 578 580 582 583 587 588 592 594 597]\n",
      "D_ids ['6097cc2a-a530-4e96-a2f0-17b2e83f5c17', '7e616c5b-5245-4cb3-b247-a3dbc0b94f7a', '6814b085-5d3b-4d1f-91ef-ccc0655e9aed', 'f5003029-3cbf-493c-b392-7a69eb140609', '32c59047-33c3-41fd-8721-bbb82c418158', '3a100d63-3883-4a18-9d3e-613ec65c4638', 'e6b06c57-2e21-418f-ac4f-9885c76f5282', '0d055831-5193-4fc8-8017-b4166a06d05d', 'f8b20179-a73f-4330-8780-55334b6c2b75', '13dfa9f8-0b5e-49ad-a705-2aba690456c5', 'b707cc81-cd0d-41cd-8175-0a3073062d75', 'fb75883a-3c9d-426b-baf7-9291289468b3', 'e454d1ef-8e9a-4592-a516-8a983c74f026', '4d20785b-6eb9-485a-a4cf-704d484faf36', '327dec4d-40c3-4348-84b1-e1c33804c75d', 'e4ac9d13-2581-4b02-bbf7-30e5b5a80df2', '9595192c-bf78-4562-beac-74729fadb726', '2230664b-8d56-4ebe-9053-ae2b62b0be9c', 'c76e10fc-ccf6-48a1-8b83-eda65dc36e9e', '99505c46-30ef-4ecd-a3fc-49f1f959aee9', '9e591d48-4894-465d-89db-fb02fcea3aa1', '3d40c3d4-2275-4736-9c5a-3ee7a110c7b0', 'b462d90d-0106-4a10-92fb-ad876f7d55b1', '8f367824-fd17-4041-a403-abba061da461', '64dfb666-26a5-4915-bf07-5cc29a37641e', '0b311fc8-8682-4d50-b919-bf40e1dabc99', '2dbca458-0d13-400e-a863-07694675a869', 'f0747309-a7a3-4aa8-a8a1-813095035fe6', 'b4c7636a-c2a8-4b9f-b6ea-b36c2cb56a72', '848770d0-0018-48ba-9557-b3bd6542b948', '788d0c15-0be7-453d-9ca2-e850be166f23', 'f62c085b-d9e2-4ee0-b8dd-dedd5e546b66', 'bc2b43f9-bd9b-4d1f-b5bc-9717665935ab', '89f08bea-1ba6-4577-a4bb-6d1af6df350a', '92d1872a-9a79-429c-b26d-336814d5f820', 'cea6ac34-f2f4-4d9a-b872-b3761d53f2e0', 'b527a410-b03f-41a4-b4ad-5e3f60f89163', '72690221-ec48-4a2f-bf8c-ffd06dc36041', 'c70702aa-4de0-4301-8e11-55a74c3879c3', 'ca084ac5-d4db-4e58-974b-ec6e21992adc', 'c9234eb9-899d-4a68-b756-6d0ee7e15536', '3fe873ac-a457-4ca5-9fb1-ef7f31febf51', 'd730e97a-249e-491a-91e4-6318b6af326f', '6a82e241-8f99-47ce-8ef5-e62c4af466d6', '723bd41c-4a86-4b65-8ac2-dff7ac349314', 'bcbe951e-aafd-4d8a-99e6-48998ff224ff', '999c50fc-9b3a-4da4-b5e5-1994013ca998', 'a5826208-a5e0-47dd-9d33-693246d82993', '075381df-c822-4564-8f0f-14c4a4aeb83d', '41eadd08-10a7-441e-aeb0-549586f20edd', '73eb5ae4-d870-4308-8c94-64de91be25e5', '6389eb51-4759-417c-97bc-9589e8dafcaa', '2a31be01-f7ee-49b7-a51e-6e2c7fdaa78e', '572acf94-0594-4be2-bc10-1197787d9535', '8b1559c1-8b74-47c1-ac7c-0d889781836e', 'f372ccd6-fad3-474e-825e-28a485f412e4', '325eb45b-0ff8-4b68-aadc-09d79b4821e2', '46bd6363-53b8-4454-bff3-a92e553186a7', '238d78b9-b33d-4416-8c65-46a643c3bade', '7e253ac3-7862-4437-a257-0be2e9415757', '8eab2e6d-b698-4e7a-83ce-2f25b17a1f52', 'f38880c9-7675-4a09-af54-66b24d6331e2', '91760b25-997a-4944-940b-650a13649ab5', '1c497f3f-105d-49b7-a0f4-ea14068bc4e8', '44bcbaa5-f0ba-4b2c-97d0-e895e572f03c', '0a06e8c0-49d9-4dc1-978d-a58c6dd6eb03', '512f0c6d-d87b-4420-8d84-bd0420f6a28e', 'f33c3b6f-5dbf-4e18-aafa-72a63cbfcbeb', '5699441a-0131-4459-9270-e98a23c01b2c', '64b77679-e651-4d7b-8ef4-4e1a274349b8', '8e21bdf8-b890-4ba6-9e3b-3002822c8504', '21a80e2c-41ca-497a-82e5-159113e76e1a', 'cd6c42e6-71b6-4724-a2af-ddf8ac7e116e', '65fbf275-e656-4386-9862-d0a760bcb671', '303717d5-681e-4e87-942f-9c60724467b0', '1a60f481-ddf4-40a5-b685-223c9765c281', '5712827e-6da4-4ce9-839b-3678ac1171c9', '18292091-4d45-4e5f-9a81-be225599c79c', '94092d1e-aecf-4c31-8690-5bc23009688a', 'e242d9e8-fcc0-4f48-a5be-8e1905717b56', '0ee54490-83bc-4f51-a8b8-64d9841f7883', 'f858b3b8-08b5-4bc5-97b6-901e82b21cac', '60fb5601-033e-4797-bb0a-a2a6c5078c31', '25a21e47-252e-48d2-a785-9ed43fbdc8ce', '2f604a0f-29bf-49e0-b8d7-ff2394bc43ba', 'b0c872ac-7dca-4519-8e5e-902706222c2d', 'd3d889aa-13f2-4f7a-8838-e85b0cbd9660', 'e4847db9-72c1-4a0a-9a8a-a02e5c52a73a', '41f31d88-8874-4808-a6ff-1df43abe6e33', 'adfa3ce6-8bc5-4f22-83e8-8111357d0400', 'da24c793-566d-4698-b865-3493f812fe8a', '64e1b822-3ca0-40ff-9d5e-e882e8d73050', '89f04c3a-3868-42e3-8e11-b1f287c5dc88', '2303140b-04ce-4adf-b86a-4e5685c9b706', '8edfee44-07cc-4f65-928a-02204a3858ff', 'a3b1419f-7f4d-4df3-87b2-cf2932ae2ca8', '1181475e-1d59-4a83-8ed0-c52bdd9d0735', '6cacebe8-5389-483c-8f2c-5af7179d21e7', '502654ec-ef8f-4e3c-9481-f881d5d7427f', '96235161-18f1-47a6-95aa-c4226cf91882', 'dcb1401c-697e-4ecf-b7e3-b3338fbb429e', '875138a1-2b7b-4dfa-81b6-ab13321a6b59', '0fe0015d-19bb-4b57-b78f-abc26d8143b0', 'a9cea6f7-731f-41cd-82f1-bc538f3512f0', '45932e22-bd0d-4879-b1ba-fd1aa1700225', '36755dd3-f4b6-4fc3-96b6-7492d55dec01', 'c34965b2-8df2-4054-9cd5-06da6164cb33', 'cc4d2ab5-76b9-4b10-aeaa-51bc103ebcd3', 'e695cd0c-3c18-4b42-aeba-3cf8a5a4a071', 'a8295682-a97d-47a2-90be-ffa5492a0f8f', 'a00d26b3-8093-483d-a326-f666af490644', '728c2e58-9985-46ac-a8a5-bb6d5e2c6574', 'bee93e2e-7d86-4edc-aeec-5ec298670fb9', 'f27c6817-ec55-4566-8c02-6aa0552bdad3', 'f19b9cfa-a9c2-4ed0-89b4-2e3cb03250f4', '574737fc-64a5-4360-a2e3-37b58a1ed1ce', '9b888253-0580-4e79-acad-faf5a1c3e23b', '3e24fdd2-8818-4467-beff-9f094b18b765', '80ecb5c1-2dca-4e3d-9e00-52a390e1f9ef', 'bd6a94a0-56fe-400a-a4b5-171b91115cc3', '258c0244-8763-40f4-ac50-73b2ec20cbc8', 'b41be8cf-052c-4ece-b589-bc61ac50092c', '1f72f48f-cb71-41ab-9369-c3252ff82dcb', '620831b8-3744-4ee6-9eda-a94104fab5b5', '962fb369-8bef-4dc0-806b-002e4b84d9b9', '504302a3-5700-4e8d-8f9f-be5335c4660d', '2d0f862c-8d96-4386-9f58-a3e6158ea529', '40aadb1c-2223-4948-ac3a-394fd3e6503b', '5a423a46-410d-44aa-a37b-f6324bb2567a', '98c767be-3cfc-41c3-add0-e30ef49d6646', '3054a543-68c3-4755-9280-1853a9232513', '690fe58c-8bb9-49cb-bc18-f418211f15df', 'bc35c9cc-c8b8-4852-b715-3274ce1eb97b', 'f55202ae-5c4c-4899-a68e-fe9be4acbf0e', '1c8e4e6c-fea5-44b0-b9b7-eb5910e63c02', 'd0c0c283-7a9f-4c6b-9a00-a08bbfeb7fd0', '75f38db9-88fc-4140-85ba-b35ff53f3ae5', '346651a4-df40-45e3-99dc-9b559cd84cf3', 'ee47eed3-d6be-470e-9ed1-0f9c3e75774a', 'f41119fa-a2e5-4536-bb1e-037569cb886d', '82ae5bae-173e-4b65-92b0-a323b4d79c1b', 'b4c0ca91-440b-495a-a11a-2e3fd6bb48ed', 'b9ce6ef1-90aa-4144-8d02-37d72cac2cc3', '5570f5ea-0bf3-4fcd-96b0-c74c437f41a0', 'dd4bfe8a-220d-4c0d-a858-af206d21f629', '921a8c6d-b419-4f45-97e7-5e0a0f0ceaaf', '413a8a6f-9467-4772-a8ab-5f3954eaf36a', '4de9c523-30ef-4351-ac97-5fe98d0dc02a', '99836aee-3ef0-45aa-be37-4275de88c44c', '6c5fdde4-c7c3-4114-a65d-f8bd3fd95d2d', '57fa9408-1323-4dc0-87a9-ae6746c19f4f', 'e9ea6984-ddad-4271-954a-cb6579cf5235', 'e3db10a9-e46c-4876-8e25-335b6faf4474', '40dc7147-cce2-49c6-a4c8-0e3f3bf654e3', 'f5b02683-896f-4912-a954-0ea90b686ca6', 'fc342ec7-55a0-4b66-975a-b60596eae0ba', 'b40fa5bb-db10-43aa-b603-0bf663dc34ba', 'c5bf3327-3fb0-4280-b5cb-7c76f784e241', '247dcf51-f6bb-44d3-b583-f17b84cda371', '1e25dc11-f140-4063-a8cb-f8cdea0dcd44', '5d289dd7-d258-466c-a26a-0f155cf2846a', '6f194be6-cb92-4abc-b817-174baa782fb1', 'f790ac06-c263-48a6-a658-dbdbb75808d1', '06022de2-a774-4f2f-a2a3-55e1c8a6660d', 'd1366687-0288-4993-a85d-3c1c0c0a5c2f', 'd7def370-d665-4f94-95f7-c5133bc2de37', 'a2df8c6a-e9a5-41a7-ae5c-0814fd9139c5', '637e7f09-0436-45dd-86b5-1bd0626eca08', '6781f4a1-cfef-4b0c-a6d1-a68fcbc7e3cc', '2fb4ad5a-0f3d-43c8-91db-ab9e89302da6', 'e80b74e7-ba24-400f-b265-0dcc6b4a075e', 'd774401a-f9f1-49d2-9e54-f950c1e2c4fe', '53a83d50-0107-45b9-9a00-ea023b924257', 'ed48cc36-e284-4e22-9bbe-ed671b2f2220', '40f5e451-8875-4dee-9c62-4b9d5f3434a9', '7895bd02-3afd-4eb5-a477-ec9058eefa14', 'aa73abdd-2e6a-432b-936d-f17a2c76a8b8', '6cdab33e-e48b-4acf-a9e6-3ff00bd73176', '6ea9e696-53e1-4b70-a4cf-c8c6bed984c4', '50dca3b8-3914-4656-b43c-936cfc962dc1', 'c36d75b8-1b49-454b-9f75-02b605064356', 'd01450d5-ed88-465e-bc9d-8c4f4afd6d26', '3361f869-0007-4b25-ac98-621e1fb0f004', 'c837d965-fc39-4c56-8485-b9ac418d3c2f', '6cd1b78e-2fc2-4352-8934-fb93227f072a', '6bbcb710-66e0-4255-99ef-5c54f7c4ebe1', 'e96d087a-625e-4638-8b2e-830ca66a4378', '1d9df819-5667-44a7-b3db-78f2d03b0087', 'cf353f28-f61e-41e1-b420-7783fd5feecf', 'aeaddd6e-8c66-4554-971b-b1baf921eabc', 'c47b5f07-518b-40c6-a284-d27e8a228ad3', '2aad2474-a1b7-40a6-919d-7031d6a4f430', 'ffe3e5f8-91db-4736-8f44-5897fb280ba0', '0a752531-3d9c-4d0a-94d1-636ce66afab7', 'e806a409-1a19-4c4f-8183-aff8caec14f7', '5bc6dc00-5f7f-4992-b45e-2c3f31939ea4', 'cc6dc1a0-7873-4d66-8bbb-131f5474f295', '623752a0-28c4-4cb1-abd9-ba552c6a648b', '8539dcad-26a9-434b-870a-08bafd75f6ae', '42a64c9d-b0a7-4295-ae2d-660cdbe178ef', 'd6116c78-d8f0-4b41-9ee3-eb3142f31f34', '5aeabab8-4e93-4d3e-bb36-1211863f06d4', '0224c317-6324-4e42-9835-fcdb94d1bf1f', 'eb09f8f9-c3e6-4419-968f-a6fcdde6ccc5', '7facdede-e505-4caa-88ec-34a022a641f4', '965902f1-a323-4307-bfda-b731d7d35833', '9580d588-801b-4eda-9b41-49b1ef770360', '9b83de03-9f81-4954-b987-68ac1cb534ba', 'f3105f28-bacb-49c6-9570-8a359fd7364b', '2f72398d-1d07-4bb2-81b3-4aeea644c62c', '3b623cef-8981-4bed-842a-bb75faeb01d0', 'fc7d051c-584d-4673-a8bb-cc48d2433285', '9d980ab4-9210-4284-9c67-09d7b470a31e', 'b6ebd2b1-c757-499e-a0da-636c7a9e3423', '09966595-19e3-4d45-8820-6937bf7b4b11', 'cbf13851-60a6-4fcf-aa80-63e233b7c23d', '3da7c311-d907-4297-85bf-5917bff91f33', 'a64e4979-ea02-4e05-be5b-4ebf8dee1055', '3c14d3cb-ade1-4192-adb0-08f3629460b2', 'bb18ed98-6347-44d1-8bbf-365290c549d0', 'e9439839-9c36-46df-a985-713700b99504', '16d0741d-6296-464c-8b30-cfe59f2d9c0a', '5dfe3596-60fe-4b73-85da-4a8d5ac617cf', '62810157-78d7-4335-adfd-d9147cbcb19c', 'c074676e-e2e6-4a9c-a286-6ae7305adc16', '5798ca93-86ae-4749-9e05-309be04aed72', '212a7d6e-1a07-4fe5-9b7a-c4c08835bd8f', '12ece908-bb32-4188-94bf-b844edc3830b', 'e4ac61d0-f26a-4712-832b-82dd248b382f', '2db5ba25-f892-4493-91cf-4ae18575f8c9', '6aedf5ee-94b7-4ded-93a4-62af33bec7a6', '7e5ba833-57ad-4261-8e54-b29b09a7f724', '755c0cf7-7882-460a-bc2b-689e7264e2a8', '13ea58b2-9f83-442d-b574-753a9ee13797', 'e152a703-98a1-4ef7-bfcf-328b38db4630', 'bc6ec7af-513a-452c-b472-a00e5a21b274', '20405d56-4530-470d-ab08-39db610eae44', 'df5d278d-4043-403f-8f55-30bce8539910', '79687ab5-fda6-4fdd-86dc-761c9df6ef3f', 'a0d98023-f89e-427e-b1a6-0bfc364df432', '1c4d14f8-8364-4075-bb3b-ad37b6219d22', '2b51315e-eb09-47c4-b348-578f41f485d3', 'fcb40f93-0ff3-4273-a9e8-eee0f1c9a124', '4a9d90be-b1fa-4ac2-9aef-6c7f1dc75539', '6a586126-71f5-47ba-85f1-03ec8c984b3e', '128a6748-bdc3-4b24-8c40-5f932ed591bd', '6d1a22c8-e441-4119-898f-0477c2ce9b6c', '3a962552-ec34-475c-9c75-0dd5535ccf84', '292d1f59-803f-4188-957e-684b4d5416b0', 'f464a43c-1ec7-4c6d-ad33-068ddeefa687', '75fae25b-eeb2-41fc-bcb2-eaf7e83671af', '7fe7b402-85d9-4dc8-af1f-f6ac86a95358', '2c5b7884-6a8c-4afc-9889-a58ee4c7db53', '37155c11-c476-4393-bc2d-0ce0ab1c338b', 'b78e5e65-8311-4e7f-b9b7-4a4f2e79b1fb', 'd40bd6b5-9df5-4b50-88ae-ce8befbbb60a', '19da4054-2751-4c73-9408-008a90638230', '31c8ca83-cd87-40ea-a3e5-6604c10efcde', '1eadfc72-6236-4bde-a8f4-0c32f33489b1', '46b202ac-662c-4260-b131-68966290f5e1', 'dc8aacf1-0dd7-4fd5-aa80-e43485fedef0', '2f6ae786-dc6b-476b-9df8-bd6ec1ea2ee9', '991f86d8-d989-408f-8e69-987559672c74', '784581b3-93f3-453d-82d1-e3d836f92648', 'c48cf5fc-5e4b-47f2-bbf3-c17158e52dc8', '08c9fbdf-59a7-4e00-968d-8b812b3b13d5', '88243953-43de-45f3-a713-04c5a7835d7f', '54aa8fd8-7103-46f3-aaee-64c3917df27b', 'f84b94d9-eb76-43c0-a550-9126a8995770', 'eca1d2c1-6d1f-48b4-9f96-0f8c9bdcf22e', '961a5dff-48b2-40de-a3b6-d15642da2bdf', '5d434fa4-e424-42e4-8838-1648c32a6c7e', '20207b66-c916-44a5-8816-33eb6eb0e720', '3fe63293-a3d4-4f9a-9f39-856551202ab7', '90c87e44-8d2d-4bc3-a8f5-527c3a3b41ef', 'beb80ec0-c4af-49cb-a014-33f217f0749b', '8ccf101c-3c6e-4523-9402-f99eb8371807', 'd674a7a8-ee7d-4b7e-acd5-899d92950ce6', 'a66ae296-02ea-4b9d-b69e-c27e82c08aa8', '07847ee8-99f0-415f-986a-b7783aacb438', 'a761fea0-69f8-4e32-b907-243522a95402', 'e9e52b1a-2060-4d19-a132-a750e7faaa7e', 'ee750105-c3a7-4979-8566-34a36a8b1bda', '61027b26-cbbf-4460-a875-a8a5f7fb6a1b', 'f167da5c-9f5c-4c19-b2fa-1d3ef4c5d309', '37c5e857-a5c1-4d7b-bfba-0172776ae090', '335e6fce-5e41-4f7f-a65b-df820f12b20c', '92d6b7ff-a594-46e4-bd1a-cbcc66454545', '0dadc48f-5222-412f-a83b-c7eb4d833b16', '7257b081-ab1b-4545-ae8e-45fbc0377eed', '9003625a-248d-46ee-bea8-0809409658fd', '05231764-bc30-49c5-91fa-40d1d7a0d2e6', '04ff2355-64e5-4a72-b00d-3d3acc9cfb4d', 'c3dea296-2a7c-4322-9095-d8ec774a922a', 'a800c75b-b480-4ff3-9b2c-e34db4d044f4', '628fe180-d225-4089-b04b-a1975c0b422f', '19e4cf15-2aa2-41c9-a6bc-1c87f1a76451', 'bbe86276-ec1f-45cb-8db4-ab4a4372d36f', 'e13f3ca9-a48d-43c2-a35e-c6e358d7d0e9', '3301333a-7253-4bf8-9a1b-90cc624aaabe', 'daa37f63-c2d8-4b03-a2bc-1e3a130188e1']\n"
     ]
    },
    {
     "name": "stdout",
     "output_type": "stream",
     "text": [
      "Replacing 100 from 301 !\n",
      "D_relabeled_ 100\n",
      "selected_ids ['f372ccd6-fad3-474e-825e-28a485f412e4', 'e80b74e7-ba24-400f-b265-0dcc6b4a075e', '46b202ac-662c-4260-b131-68966290f5e1', 'bd6a94a0-56fe-400a-a4b5-171b91115cc3', '413a8a6f-9467-4772-a8ab-5f3954eaf36a', '04ff2355-64e5-4a72-b00d-3d3acc9cfb4d', '90c87e44-8d2d-4bc3-a8f5-527c3a3b41ef', 'f41119fa-a2e5-4536-bb1e-037569cb886d', '88243953-43de-45f3-a713-04c5a7835d7f', 'f84b94d9-eb76-43c0-a550-9126a8995770', '94092d1e-aecf-4c31-8690-5bc23009688a', '05231764-bc30-49c5-91fa-40d1d7a0d2e6', 'f8b20179-a73f-4330-8780-55334b6c2b75', '247dcf51-f6bb-44d3-b583-f17b84cda371', 'e4ac9d13-2581-4b02-bbf7-30e5b5a80df2', 'a0d98023-f89e-427e-b1a6-0bfc364df432', '784581b3-93f3-453d-82d1-e3d836f92648', '53a83d50-0107-45b9-9a00-ea023b924257', 'eca1d2c1-6d1f-48b4-9f96-0f8c9bdcf22e', '7257b081-ab1b-4545-ae8e-45fbc0377eed', 'f167da5c-9f5c-4c19-b2fa-1d3ef4c5d309', '16d0741d-6296-464c-8b30-cfe59f2d9c0a', 'a3b1419f-7f4d-4df3-87b2-cf2932ae2ca8', '848770d0-0018-48ba-9557-b3bd6542b948', '64dfb666-26a5-4915-bf07-5cc29a37641e', '64b77679-e651-4d7b-8ef4-4e1a274349b8', 'c5bf3327-3fb0-4280-b5cb-7c76f784e241', '12ece908-bb32-4188-94bf-b844edc3830b', '755c0cf7-7882-460a-bc2b-689e7264e2a8', '99505c46-30ef-4ecd-a3fc-49f1f959aee9', '2d0f862c-8d96-4386-9f58-a3e6158ea529', '5d289dd7-d258-466c-a26a-0f155cf2846a', '2230664b-8d56-4ebe-9053-ae2b62b0be9c', '18292091-4d45-4e5f-9a81-be225599c79c', '9595192c-bf78-4562-beac-74729fadb726', 'b9ce6ef1-90aa-4144-8d02-37d72cac2cc3', '572acf94-0594-4be2-bc10-1197787d9535', '60fb5601-033e-4797-bb0a-a2a6c5078c31', 'cc4d2ab5-76b9-4b10-aeaa-51bc103ebcd3', '25a21e47-252e-48d2-a785-9ed43fbdc8ce', 'c70702aa-4de0-4301-8e11-55a74c3879c3', 'a8295682-a97d-47a2-90be-ffa5492a0f8f', 'd0c0c283-7a9f-4c6b-9a00-a08bbfeb7fd0', '991f86d8-d989-408f-8e69-987559672c74', '8e21bdf8-b890-4ba6-9e3b-3002822c8504', 'ca084ac5-d4db-4e58-974b-ec6e21992adc', 'bcbe951e-aafd-4d8a-99e6-48998ff224ff', 'fc7d051c-584d-4673-a8bb-cc48d2433285', '6f194be6-cb92-4abc-b817-174baa782fb1', 'ee750105-c3a7-4979-8566-34a36a8b1bda', '6a82e241-8f99-47ce-8ef5-e62c4af466d6', '5d434fa4-e424-42e4-8838-1648c32a6c7e', '965902f1-a323-4307-bfda-b731d7d35833', '3301333a-7253-4bf8-9a1b-90cc624aaabe', '3da7c311-d907-4297-85bf-5917bff91f33', '07847ee8-99f0-415f-986a-b7783aacb438', '5712827e-6da4-4ce9-839b-3678ac1171c9', '238d78b9-b33d-4416-8c65-46a643c3bade', '1a60f481-ddf4-40a5-b685-223c9765c281', 'ee47eed3-d6be-470e-9ed1-0f9c3e75774a', '961a5dff-48b2-40de-a3b6-d15642da2bdf', '20405d56-4530-470d-ab08-39db610eae44', 'e454d1ef-8e9a-4592-a516-8a983c74f026', 'c9234eb9-899d-4a68-b756-6d0ee7e15536', 'd01450d5-ed88-465e-bc9d-8c4f4afd6d26', '31c8ca83-cd87-40ea-a3e5-6604c10efcde', 'b4c7636a-c2a8-4b9f-b6ea-b36c2cb56a72', '999c50fc-9b3a-4da4-b5e5-1994013ca998', 'e806a409-1a19-4c4f-8183-aff8caec14f7', '5798ca93-86ae-4749-9e05-309be04aed72', '0ee54490-83bc-4f51-a8b8-64d9841f7883', 'f5003029-3cbf-493c-b392-7a69eb140609', 'd40bd6b5-9df5-4b50-88ae-ce8befbbb60a', '40aadb1c-2223-4948-ac3a-394fd3e6503b', 'cf353f28-f61e-41e1-b420-7783fd5feecf', '292d1f59-803f-4188-957e-684b4d5416b0', '5699441a-0131-4459-9270-e98a23c01b2c', '1f72f48f-cb71-41ab-9369-c3252ff82dcb', 'e242d9e8-fcc0-4f48-a5be-8e1905717b56', 'e4ac61d0-f26a-4712-832b-82dd248b382f', '46bd6363-53b8-4454-bff3-a92e553186a7', 'dcb1401c-697e-4ecf-b7e3-b3338fbb429e', 'e9439839-9c36-46df-a985-713700b99504', 'e96d087a-625e-4638-8b2e-830ca66a4378', '9b83de03-9f81-4954-b987-68ac1cb534ba', '3a962552-ec34-475c-9c75-0dd5535ccf84', '6a586126-71f5-47ba-85f1-03ec8c984b3e', '0fe0015d-19bb-4b57-b78f-abc26d8143b0', '19e4cf15-2aa2-41c9-a6bc-1c87f1a76451', 'a9cea6f7-731f-41cd-82f1-bc538f3512f0', '20207b66-c916-44a5-8816-33eb6eb0e720', '5a423a46-410d-44aa-a37b-f6324bb2567a', '6814b085-5d3b-4d1f-91ef-ccc0655e9aed', '54aa8fd8-7103-46f3-aaee-64c3917df27b', '62810157-78d7-4335-adfd-d9147cbcb19c', '19da4054-2751-4c73-9408-008a90638230', '73eb5ae4-d870-4308-8c94-64de91be25e5', 'bc6ec7af-513a-452c-b472-a00e5a21b274', 'b462d90d-0106-4a10-92fb-ad876f7d55b1', '962fb369-8bef-4dc0-806b-002e4b84d9b9']\n",
      "dict_keys(['f372ccd6-fad3-474e-825e-28a485f412e4', 'e80b74e7-ba24-400f-b265-0dcc6b4a075e', '46b202ac-662c-4260-b131-68966290f5e1', 'bd6a94a0-56fe-400a-a4b5-171b91115cc3', '413a8a6f-9467-4772-a8ab-5f3954eaf36a', '04ff2355-64e5-4a72-b00d-3d3acc9cfb4d', '90c87e44-8d2d-4bc3-a8f5-527c3a3b41ef', 'f41119fa-a2e5-4536-bb1e-037569cb886d', '88243953-43de-45f3-a713-04c5a7835d7f', 'f84b94d9-eb76-43c0-a550-9126a8995770', '94092d1e-aecf-4c31-8690-5bc23009688a', '05231764-bc30-49c5-91fa-40d1d7a0d2e6', 'f8b20179-a73f-4330-8780-55334b6c2b75', '247dcf51-f6bb-44d3-b583-f17b84cda371', 'e4ac9d13-2581-4b02-bbf7-30e5b5a80df2', 'a0d98023-f89e-427e-b1a6-0bfc364df432', '784581b3-93f3-453d-82d1-e3d836f92648', '53a83d50-0107-45b9-9a00-ea023b924257', 'eca1d2c1-6d1f-48b4-9f96-0f8c9bdcf22e', '7257b081-ab1b-4545-ae8e-45fbc0377eed', 'f167da5c-9f5c-4c19-b2fa-1d3ef4c5d309', '16d0741d-6296-464c-8b30-cfe59f2d9c0a', 'a3b1419f-7f4d-4df3-87b2-cf2932ae2ca8', '848770d0-0018-48ba-9557-b3bd6542b948', '64dfb666-26a5-4915-bf07-5cc29a37641e', '64b77679-e651-4d7b-8ef4-4e1a274349b8', 'c5bf3327-3fb0-4280-b5cb-7c76f784e241', '12ece908-bb32-4188-94bf-b844edc3830b', '755c0cf7-7882-460a-bc2b-689e7264e2a8', '99505c46-30ef-4ecd-a3fc-49f1f959aee9', '2d0f862c-8d96-4386-9f58-a3e6158ea529', '5d289dd7-d258-466c-a26a-0f155cf2846a', '2230664b-8d56-4ebe-9053-ae2b62b0be9c', '18292091-4d45-4e5f-9a81-be225599c79c', '9595192c-bf78-4562-beac-74729fadb726', 'b9ce6ef1-90aa-4144-8d02-37d72cac2cc3', '572acf94-0594-4be2-bc10-1197787d9535', '60fb5601-033e-4797-bb0a-a2a6c5078c31', 'cc4d2ab5-76b9-4b10-aeaa-51bc103ebcd3', '25a21e47-252e-48d2-a785-9ed43fbdc8ce', 'c70702aa-4de0-4301-8e11-55a74c3879c3', 'a8295682-a97d-47a2-90be-ffa5492a0f8f', 'd0c0c283-7a9f-4c6b-9a00-a08bbfeb7fd0', '991f86d8-d989-408f-8e69-987559672c74', '8e21bdf8-b890-4ba6-9e3b-3002822c8504', 'ca084ac5-d4db-4e58-974b-ec6e21992adc', 'bcbe951e-aafd-4d8a-99e6-48998ff224ff', 'fc7d051c-584d-4673-a8bb-cc48d2433285', '6f194be6-cb92-4abc-b817-174baa782fb1', 'ee750105-c3a7-4979-8566-34a36a8b1bda', '6a82e241-8f99-47ce-8ef5-e62c4af466d6', '5d434fa4-e424-42e4-8838-1648c32a6c7e', '965902f1-a323-4307-bfda-b731d7d35833', '3301333a-7253-4bf8-9a1b-90cc624aaabe', '3da7c311-d907-4297-85bf-5917bff91f33', '07847ee8-99f0-415f-986a-b7783aacb438', '5712827e-6da4-4ce9-839b-3678ac1171c9', '238d78b9-b33d-4416-8c65-46a643c3bade', '1a60f481-ddf4-40a5-b685-223c9765c281', 'ee47eed3-d6be-470e-9ed1-0f9c3e75774a', '961a5dff-48b2-40de-a3b6-d15642da2bdf', '20405d56-4530-470d-ab08-39db610eae44', 'e454d1ef-8e9a-4592-a516-8a983c74f026', 'c9234eb9-899d-4a68-b756-6d0ee7e15536', 'd01450d5-ed88-465e-bc9d-8c4f4afd6d26', '31c8ca83-cd87-40ea-a3e5-6604c10efcde', 'b4c7636a-c2a8-4b9f-b6ea-b36c2cb56a72', '999c50fc-9b3a-4da4-b5e5-1994013ca998', 'e806a409-1a19-4c4f-8183-aff8caec14f7', '5798ca93-86ae-4749-9e05-309be04aed72', '0ee54490-83bc-4f51-a8b8-64d9841f7883', 'f5003029-3cbf-493c-b392-7a69eb140609', 'd40bd6b5-9df5-4b50-88ae-ce8befbbb60a', '40aadb1c-2223-4948-ac3a-394fd3e6503b', 'cf353f28-f61e-41e1-b420-7783fd5feecf', '292d1f59-803f-4188-957e-684b4d5416b0', '5699441a-0131-4459-9270-e98a23c01b2c', '1f72f48f-cb71-41ab-9369-c3252ff82dcb', 'e242d9e8-fcc0-4f48-a5be-8e1905717b56', 'e4ac61d0-f26a-4712-832b-82dd248b382f', '46bd6363-53b8-4454-bff3-a92e553186a7', 'dcb1401c-697e-4ecf-b7e3-b3338fbb429e', 'e9439839-9c36-46df-a985-713700b99504', 'e96d087a-625e-4638-8b2e-830ca66a4378', '9b83de03-9f81-4954-b987-68ac1cb534ba', '3a962552-ec34-475c-9c75-0dd5535ccf84', '6a586126-71f5-47ba-85f1-03ec8c984b3e', '0fe0015d-19bb-4b57-b78f-abc26d8143b0', '19e4cf15-2aa2-41c9-a6bc-1c87f1a76451', 'a9cea6f7-731f-41cd-82f1-bc538f3512f0', '20207b66-c916-44a5-8816-33eb6eb0e720', '5a423a46-410d-44aa-a37b-f6324bb2567a', '6814b085-5d3b-4d1f-91ef-ccc0655e9aed', '54aa8fd8-7103-46f3-aaee-64c3917df27b', '62810157-78d7-4335-adfd-d9147cbcb19c', '19da4054-2751-4c73-9408-008a90638230', '73eb5ae4-d870-4308-8c94-64de91be25e5', 'bc6ec7af-513a-452c-b472-a00e5a21b274', 'b462d90d-0106-4a10-92fb-ad876f7d55b1', '962fb369-8bef-4dc0-806b-002e4b84d9b9'])\n",
      "point ids 100\n",
      "Removed: 100 Filled: 100\n",
      "TOOK 1564.693844795227 seconds\n",
      "***\n",
      "RUN: 1\n",
      "Epoch 1/100\n"
     ]
    },
    {
     "name": "stdout",
     "output_type": "stream",
     "text": [
      "10/10 [==============================] - 17s 2s/step - loss: 0.7993 - dice_coeff: 0.5431 - val_loss: 1.3161 - val_dice_coeff: 0.2079\n",
      "Epoch 2/100\n",
      "10/10 [==============================] - 13s 1s/step - loss: 0.7853 - dice_coeff: 0.5482 - val_loss: 1.3200 - val_dice_coeff: 0.2050\n",
      "Epoch 3/100\n",
      "10/10 [==============================] - 13s 1s/step - loss: 0.7768 - dice_coeff: 0.5524 - val_loss: 1.3258 - val_dice_coeff: 0.2066\n",
      "Epoch 4/100\n",
      "10/10 [==============================] - 13s 1s/step - loss: 0.7488 - dice_coeff: 0.5677 - val_loss: 1.3175 - val_dice_coeff: 0.1990\n",
      "Epoch 5/100\n",
      "10/10 [==============================] - 13s 1s/step - loss: 0.7636 - dice_coeff: 0.5595 - val_loss: 1.2823 - val_dice_coeff: 0.2451\n",
      "Epoch 6/100\n",
      "10/10 [==============================] - 14s 1s/step - loss: 0.7631 - dice_coeff: 0.5522 - val_loss: 1.3141 - val_dice_coeff: 0.1980\n",
      "Model saved to /tmp/tmpwgz1ciesGP2/unet_1.model\n",
      "History saved to /tmp/tmpwgz1ciesGP2/history_1.pickle\n",
      "Testing the classifier...\n",
      "94/94 [==============================] - 10s 107ms/step - loss: 1.3180 - dice_coeff: 0.2091\n",
      "Testing the discriminator...\n",
      "19/19 [==============================] - 1s 42ms/step - loss: 4.8454e-05 - accuracy: 1.0000\n",
      "Found 270 machine labels.\n",
      "Machine labels [  0   3   4   5   6   8  16  18  20  22  23  28  29  30  31  32  34  41\n",
      "  43  45  46  47  48  50  51  53  57  60  62  63  64  65  66  67  69  70\n",
      "  71  77  78  79  81  82  83  84  88  91  95  97  98  99 102 104 109 110\n",
      " 112 113 116 117 118 119 123 125 126 129 130 131 136 137 141 144 145 149\n",
      " 155 157 160 162 163 165 166 169 170 172 175 176 178 181 185 187 200 203\n",
      " 204 206 207 210 212 213 216 223 224 226 232 233 235 237 238 239 245 249\n",
      " 250 252 253 254 255 256 257 258 260 261 262 265 266 268 269 270 276 277\n",
      " 284 289 290 292 294 295 296 298 301 302 303 311 312 314 317 318 320 321\n",
      " 324 327 328 330 331 332 335 337 341 342 343 345 346 348 349 350 351 353\n",
      " 359 364 365 366 367 368 371 373 375 376 378 379 381 387 389 391 394 395\n",
      " 396 397 403 405 411 413 414 416 417 418 419 420 421 424 426 431 433 435\n",
      " 436 437 439 440 442 448 455 457 459 460 461 462 464 465 469 470 471 472\n",
      " 476 486 489 490 492 493 495 496 497 498 502 505 507 508 509 510 513 519\n",
      " 520 522 524 525 528 529 530 534 535 536 537 539 541 550 552 553 554 557\n",
      " 558 561 563 565 567 570 572 573 574 577 581 582 584 588 590 591 597 599]\n",
      "D_ids ['b0534f89-d3ed-4a57-96b0-5692ccfa0584', 'ceb3dfdf-4b54-486f-90c4-0b21beb8c538', '4e658b11-7e53-44c7-b7b1-7661586c8d1a', 'b2f8dc8e-b5b1-40fc-ad77-7b017322b7b4', '202be2cb-6c15-4baa-8cbf-2f0c53ad817c', '1c09b06f-a995-4d5e-a0ab-0ae8157469ca', '63807897-8085-4f47-9d4a-3ec589dee0d5', '9dd90158-32f6-4625-90b5-beb0d367a9dc', '5fb67d66-7fda-41ec-8b0c-72e2fc22dfc3', 'f40278eb-62dc-4eea-8e10-48855ca08e1e', '2a538e3f-2bb0-4d58-8473-19e330fbba46', 'e2b636f4-80d6-43e9-9d44-13189e0366c8', '3c0bbdd6-2b15-47ab-8e08-72dc44632922', '79ede0ea-f5b3-4234-8f3a-f9ea61fa7f51', '7de45260-d7f6-4073-a69a-27ff89024455', '6c698f7e-709e-4411-803f-9f15a861809b', '9519bd50-d241-418a-8cfc-dba343682074', 'ed48cc36-e284-4e22-9bbe-ed671b2f2220', '36e6e2f5-f2b2-431a-aeae-20951092aab4', 'cea6ac34-f2f4-4d9a-b872-b3761d53f2e0', 'd95668f8-7ffe-43cf-b2dd-c05bf0195ef1', '2ef64ebb-45d2-4f21-84cf-6ee594be21d6', '0a304b46-dcc4-47c4-9fdf-862687fb52f6', '2df1ffec-9673-4386-8645-be8ecc8bac05', 'c837d965-fc39-4c56-8485-b9ac418d3c2f', '82531358-6b2e-46c7-9af8-433514804cd5', '88027b16-0235-4e83-bdf9-e9b7217f9e9d', '0aaede6b-7701-42c8-a023-8f333b67e915', '4befa112-2872-4780-b5f7-5f0447ea6fb8', '1a552098-43d2-4d11-b4e9-fb993def1be3', '4c61750f-a8bd-45b9-b1d9-de3c04589f4b', '4aab95b8-806d-423e-b077-a8adf279f94a', '54277132-1397-4377-9f00-7339f6edd347', '67aa0b0b-cd06-4954-868b-6462816d3fa6', '53acc09f-26eb-4f5c-9238-b2379e0fc0f3', '7793c7cc-8ec3-40b2-baf5-5a80eaf65a9e', 'b6e6db5a-c909-4b0c-83dc-f540d7ddc5e3', 'aeb195dd-943a-4935-96b3-c847747f4a32', '9a37c0d0-6f5a-40d5-a1a1-fe8c8da5c6b3', 'cb53ef57-7a89-4356-affd-b8fbe7e4e8fb', 'f8fc4032-ab7b-42fe-aeaf-d77c571244f8', '325eb45b-0ff8-4b68-aadc-09d79b4821e2', 'e96f0122-f490-4838-b47b-665be3844008', 'b1839fac-4211-43ef-b7f7-1add3408f174', '875138a1-2b7b-4dfa-81b6-ab13321a6b59', '1b959987-d3be-4585-b216-500d8dec8536', 'e57bff3d-257a-43a9-9bb3-de4d53ff8a19', 'c05d51b2-ce01-44eb-8b17-9fd0345b4f4a', 'bad1a6a1-a8cf-468c-9ccc-1341dbbd0b0a', 'f7328fde-8f90-491c-9f4d-2a06863661dc', '8c869f76-60a9-468e-b2b6-b777f4bea3cf', '22256570-c53e-4d17-ac31-f29e9597034b', '7cc4105f-89fe-4dc9-ab82-222a948353b9', '0a75b82b-a099-4e98-a7bb-f84595f87c1d', '3b1ad87e-6989-4595-99b2-e516cfc8a65e', '92d6b7ff-a594-46e4-bd1a-cbcc66454545', 'cdfec160-1593-46bf-bc87-2be30fd8a05b', 'b634f278-4650-40a1-b70d-ab9f28c56799', 'b9585e33-6a60-4bee-a9a7-dc2f320c7974', 'b31ebf36-8c35-489b-99a1-6f707ea86d21', '8d131f13-b87d-40d3-b69c-6ed3ed89b993', 'ae12c514-909e-4639-8c5a-bd98b457a755', '25c5f4c3-ae28-44fa-9f08-3236db877877', '810dca4d-0933-4538-aebd-35a7038e6d42', '63c2ae44-8303-4dbb-aca7-ae89036c3ac4', '56f665de-d461-44ac-93da-6ae6a863427f', 'ef7a9ae8-f05a-4e9d-85b6-a6922bb455f7', 'd1816978-d3e1-4f58-bae0-3b476c33c209', '8c078993-857d-466d-ad33-0ee2c106752e', 'f4e6f97b-731a-4ba7-9175-f6b5bad2469b', '09c306aa-85b3-42a0-9d8a-22623f128e20', '2acf8ceb-f0e2-463f-909a-b233e4a9ae50', 'd99945c5-b696-48f7-b7d2-e33c8d39b415', '82fd2f0e-26a3-4a01-aaf8-eb2bb570fd6e', '6b3668ad-e0b1-4097-8b25-319e611e152f', '0df8d9b2-8b11-4ea2-a2bf-b7ee0b27f299', '72a809f3-ee05-4591-9c55-232c66986424', '783123fe-bc8c-4b74-97b8-3342268a9298', 'ca0d45cf-5993-4bae-8f5a-f728cfc0b302', '0fb52d9e-22a3-424b-b98d-355e2c23efa4', '6912c171-8ee7-44cb-b92e-fa5825f3b16c', 'fdcd4a62-ae75-4f35-95b1-ac304f8cbf93', '9196f21a-6b34-4962-a085-46229f1b1399', 'bd86d42d-d7d9-4be6-b7ba-0379c1ba0f4a', '8874d6c4-f0a5-4ebc-8b1e-5d888adc63bc', 'c69ef1b7-645b-42ad-9b70-4156fb8ccebe', 'a6a04899-9a4a-46de-9805-d5875ee5e284', '511d889b-0834-45de-a096-41926af254b6', '8ac40a91-7c40-4bc9-9568-7b699c563bdf', '2af8c0a1-0af5-4fc3-a0e1-bc725aebf0d4', '80ecb5c1-2dca-4e3d-9e00-52a390e1f9ef', '1881d870-c749-4462-8122-4553329e1077', '141681b3-9168-4aa5-a547-9c22ca14b0ea', '3a678a86-fa4e-44af-9e20-aaadff162993', '9f6c4411-8314-4e7b-8f30-24d4c6361da0', '6d620ccf-d42c-4849-a280-793fd06c6154', '62e94726-13bd-4a2d-88e8-f7ec1962d5f8', '942e2ab1-6738-4153-9eee-e143375722a2', '800fcd0f-dd37-4c8a-8723-ad9979e75e77', '250591f3-8667-4395-8dfb-d004dcb76611', '79a73bbf-d575-4491-b13b-66e7ba70a610', '88f36a18-fbe7-442b-9620-0659955190af', '58820d69-8032-4cd0-a9f4-5af613069da4', 'ac70a7d3-228b-4faa-aeb8-c1fc13c5f87b', '5d7d9254-71d5-4671-81bf-b8cd0a9bdfb0', '258c0244-8763-40f4-ac50-73b2ec20cbc8', '44296542-3979-4cbd-b56c-9ed593fc0309', 'ec04d10f-e488-4157-852c-588152e0fc30', '386a46c9-6b99-4809-b58d-2c409ea07d23', '9cefb224-83df-4d15-bbfb-ace1db9f0700', '2e1bc7e2-b29d-4f6d-a26b-24a68f906d7e', '778ffd35-eca1-488e-9d35-8bd4c51abfe9', '03e47e2d-7b62-48e3-ab80-29138602cfd3', '1f5588c8-395e-484a-903b-db74a8d2104f', '2a133ff2-f7c2-43f5-9720-bdcab2328ec6', '92aa00dc-d3d5-4bce-ad53-8cf604f82fab', 'f38880c9-7675-4a09-af54-66b24d6331e2', '32b4d5f7-baaa-47fa-b318-99cc2cf90123', '2638d85d-acd9-43c9-bd64-4238ee14b9b6', '2962f60e-cf36-4c60-81fa-d579eeceb170', 'c4b24be4-bf2e-4aef-975f-bfc090346cbd', '8c576dcd-de3e-4cc7-b71b-1ce4bcb97b11', '3e357051-0d6f-4cbd-838c-4f5ab6b59b55', 'd9a17f9d-9737-432a-9d50-9d41fdd3020e', '5de49258-e538-4e24-b8a9-3cc720516ace', '429baee1-e2da-4c0f-bc3c-c0d3a3f9b4e4', '6c5fdde4-c7c3-4114-a65d-f8bd3fd95d2d', 'cbf13851-60a6-4fcf-aa80-63e233b7c23d', 'ca5d864b-5dfe-448d-a0de-9f8671a35ab4', 'c8f10c1a-5b76-4bca-a025-8dddf750c774', '2dbca458-0d13-400e-a863-07694675a869', '4abb0e11-07e5-4dba-b9fd-1849abc82e89', 'b4c0ca91-440b-495a-a11a-2e3fd6bb48ed', '71e93eaa-9d01-4fa1-adce-4c2d37f1cb44', 'b3743d9b-8c2a-49e4-b6b7-3407ec60fc0c', '004491e5-2016-48b5-9ac7-f07788b88269', 'd310da27-56ac-4874-9bcc-3177caca3dbf', '3d4730da-4ddb-46ff-8f73-7facdb8c4a62', '3dd72b4b-937d-4ecc-8bee-b63518b0d82e', '30bb7e31-4da1-4fd9-85d2-ceef6675ff91', '487d00a6-1012-48a0-ba61-4cbdf4666559', '37101a72-4152-4e33-aa67-f8735490ccae', '1f33d600-2874-4d7a-8c0b-75f7d574c189', '907f6261-ea3a-4833-b56e-d4b1ec9d59eb', 'beae3206-65bf-43d5-b63f-fb157a312ccb', '99b18382-20b1-488d-af54-ceeb050bee80', 'deed58c9-b2c7-481c-bd6d-e29802cefdaf', '779de5f0-e6c9-4b16-b514-d8894291e18a', 'e1e4d174-f1dd-4339-a50b-3a67454ba312', '3da2e3ab-038f-4dbd-a81e-55f1657bd534', '99fa384a-8f75-4e91-ba66-f72fb3179869', '5e3586f2-df6e-4320-888a-011ea0d385c8', '13c58b30-39f0-42e0-86e3-01bc841daa01', '6c5d87c7-3424-41b2-91db-0e368f2ba90b', '9b2a42c5-e029-4926-b90d-59b036e2545a', '8bcdc4c3-9054-440a-adb5-bb43f14e2936', '494fc902-d9d9-4fdd-afbd-14c1d330477a', 'b93d7d7f-aeae-4732-84b4-56bb9d046357', '281a6213-a441-4065-8cb3-c239886ee89a', 'c74317f9-8c3d-4573-9ec9-b503f5dfe1e4', '015788be-9a1f-413f-8dc4-a0b50f783d1d', '2d08e095-24a7-421a-8535-ca7548df4e32', '16dde583-2615-46cd-8e58-7139391af80a', '2c8edcda-5f7b-4ed7-bf8e-9d977b84041b', '7ceff9d9-e605-4af0-956e-805a51971b76', 'd7176f41-6b28-4d5e-8685-87c50e2113e9', 'c4d6cde0-6b88-47dd-b366-72a29ab53a91', 'cd1c685a-f10c-47c4-9b5f-cf7626eb2f83', 'ca2f3394-6fb6-4d07-b477-cca22b9053af', '99912b75-2580-4e6f-add0-6e5e9e434569', '4a374d7a-b668-47f6-8cd8-12f29b41a25d', 'f95552d3-34f4-4926-8851-5228016c2a6b', '2b690ba1-e4a9-407f-b7c1-e3d7486c7b8a', 'f10d660f-b42c-407e-bad9-16d1aeb8ddb8', 'a739514e-df93-4d83-adda-061fbeb291fc', '51cbf844-fa77-4ef8-af99-6944a0b5bd61', '5d0b5bac-038d-4fcf-bd20-b18ef21ced29', 'bf814caf-aaa9-4e01-8468-742908098175', '04416c02-b5af-4f05-b53b-1e0a42819385', '7e88988e-d113-4a93-8db3-71e0898d9446', '55ddb920-7cb6-4c8a-aa2a-005c2f223b2c', '335e6fce-5e41-4f7f-a65b-df820f12b20c', 'bb18ed98-6347-44d1-8bbf-365290c549d0', 'ac1ca02c-cf71-4875-809e-2f06dcac0758', 'ec1571e2-9c71-4655-a9ab-fd887af2dc1d', 'd39927ee-0e1a-4ba4-b2a8-6458bf981ec9', '65f1952d-d157-4204-8058-d4f2add9be2b', '8fef6583-eee8-484b-92d2-a9d016496ef8', '65a09b73-a6f9-40a2-b35b-f72c6fd51bc4', 'dc114b60-4e66-4aeb-8f95-8c43b9e9572b', '724dfb9d-3c1e-4d8d-9ea0-ad8954d01af7', '00a92f5d-614d-4750-8ab6-f77ce71d1abb', '047e5bb8-0e72-4362-8b70-21a1dbf51795', 'b6216fd9-5176-4ed0-a032-2d4d7b06137c', 'a800c75b-b480-4ff3-9b2c-e34db4d044f4', 'e50c8f8e-d81c-4508-b1e7-f3f774607639', '98bbc3c7-4b06-4603-b001-54202dc9afd2', '9b54e52e-b5ca-4fe8-9a34-5c620ae2326e', '4e35dd7a-5dfe-4f37-8bf1-6dd9208c7832', '807b8b90-d84d-46d7-bef1-1fef0566862a', '91760b25-997a-4944-940b-650a13649ab5', '11ada6e6-7c29-45ef-8840-ea816589ee95', '374383a7-3e7b-4538-967d-e5cc766dccd1', 'af3c7247-080f-4011-97ed-90d089b1e005', '32c59047-33c3-41fd-8721-bbb82c418158', '4a90bccc-a73a-48c2-8e26-c691ee0c3654', 'b294b4f6-8da0-41ed-9461-be6544703b51', '196ce985-380e-47ba-98f8-d1c99532285f', 'dac91949-c9bd-488c-af79-25048ebeaeba', '90c64aca-7287-4ccb-84bf-60518e1e7397', '5902738c-c44a-4ef0-9acf-63f121f3515a', 'e5f8e41b-506b-483b-8b8b-e20a7ff6ba26', '61f04cd1-6b6c-4e0c-8aa2-e41d3b60a049', 'df0f083c-eabb-498f-a207-138e52d8d2a2', '27d6fe5f-fda6-421d-a259-0797bf66a9ec', '24ce09b6-7443-4bc1-a61a-54e9c224ff2a', '0d4a4de2-8454-4b40-a5f9-953d0dbc37f7', 'a0612802-c912-464d-9ccf-ae5af927cd04', '152a8b00-98d5-49da-9566-a855eb5f1143', 'a5b8456b-552b-444e-a134-baccc3a86c79', '105642b8-1a4b-4cce-9aae-766d6a5cfbea', '8c3aca50-b7d2-419b-90e1-4bff2e16234b', '93a8583c-2dac-427f-81f2-7376fd6f23ab', '334e3f57-a924-408c-b018-86a7a898c87f', 'a3514bd7-79a8-4746-8d6a-6f16024c8c95', 'a34b6ed6-c26c-46ac-9343-e30888307fef', 'd59e9379-51ae-437d-b844-817ef5d1b0d2', 'be7feff9-fb3b-46c4-9bfc-32384c2b0d43', '295a908d-2da9-4d53-b9ca-1d8835404627', 'efb7051a-57ae-443d-8263-137c2e434ca3', '02fb733c-0867-4144-b588-ad6a12d01feb', 'd31b33df-0aa7-45e6-b372-862fb89ef1d3', '36eb0163-5fb9-4c0e-bb97-9dadb41eaf51', 'd730e97a-249e-491a-91e4-6318b6af326f', 'e15503b1-22f2-440c-9447-c416c0005c82', '2d840d35-abee-457c-9b75-991201395e2a', '8268315b-ab7e-4f93-b7bd-e1cffcd61037', '35e63552-ca41-4787-9658-d5d335600eed', 'c243a815-288c-49d4-882f-8398fa04ffa1', 'eeb72b8a-9dbc-4c10-afff-e9e265dd2b0a', '48eb898e-9c8a-444b-bf34-a2fca18b0597', '9dbd0918-271f-4902-84a3-017858057c75', 'afabfb97-b257-4ff2-8ce0-b6b2ed94c0ec', '99921dc8-137f-4f8f-afbd-733f7fd43d4f', '9dc961dc-23b2-449f-af30-edf8a1318a4b', 'c315d877-c291-4882-93b8-f7fb79d98d3c', '7331417e-25a2-49e3-86f4-e7f705d956c3', '12e0d35c-09ca-4871-a67c-76a15f41156b', '00d4ea16-50a5-444a-a2e7-fcf88e8f5133', 'ac4d7f97-1883-44fd-bdf2-d4c85d5ab583', '28c37383-1aca-49be-bbb7-4c5d26ee173c', 'f445e482-7858-45f7-8db4-8bfd0c24de98', '4ba9660b-21f9-4ea0-a97d-d415e764993f', '278d5ff4-905a-465b-9da2-a53ab377ed02', 'eeb266cb-6f8a-4309-aa13-800058c0da44', '6b5e900b-96ad-42ae-9d3b-5495a7ff3ff8', '455512a3-41b1-4daa-895a-10ccd182d1b7', '9766aa1a-4484-4a55-ad41-7b8f61f8c976', 'd67ba546-c481-449b-b4ec-c19a56e3e3c5', '60e5b36c-6055-48fa-93c3-94ff73580835', '0395ef5e-793e-4558-8a74-023f08acdaa5', '2632bc20-4fa7-45ef-9df7-96a7c4cd783e', '02e9e2ec-8ec3-4ad2-a679-bfc1ae727597', 'e4a469e9-8a2e-4b48-9908-459f0893a87d', '0ce3581a-355b-47a0-8e8a-25da3f76dfb6', 'b0bf6836-1c36-4290-ae62-9d53fb0b6912', 'ef756320-9375-41fb-a2e2-72546c44a3ec', '526c07a6-6211-41b9-9909-12f987941352', 'b299c402-32ff-48d7-ac71-9d260da59ae1', 'b84af354-7c07-4a5d-9af3-8e254b684487']\n"
     ]
    },
    {
     "name": "stdout",
     "output_type": "stream",
     "text": [
      "Replacing 90 from 270 !\n",
      "D_relabeled_ 90\n",
      "selected_ids ['00a92f5d-614d-4750-8ab6-f77ce71d1abb', '48eb898e-9c8a-444b-bf34-a2fca18b0597', 'ac1ca02c-cf71-4875-809e-2f06dcac0758', '9f6c4411-8314-4e7b-8f30-24d4c6361da0', '55ddb920-7cb6-4c8a-aa2a-005c2f223b2c', '2632bc20-4fa7-45ef-9df7-96a7c4cd783e', '0d4a4de2-8454-4b40-a5f9-953d0dbc37f7', 'a5b8456b-552b-444e-a134-baccc3a86c79', 'deed58c9-b2c7-481c-bd6d-e29802cefdaf', 'ac70a7d3-228b-4faa-aeb8-c1fc13c5f87b', 'd310da27-56ac-4874-9bcc-3177caca3dbf', '4abb0e11-07e5-4dba-b9fd-1849abc82e89', '03e47e2d-7b62-48e3-ab80-29138602cfd3', '60e5b36c-6055-48fa-93c3-94ff73580835', '4c61750f-a8bd-45b9-b1d9-de3c04589f4b', '58820d69-8032-4cd0-a9f4-5af613069da4', '4ba9660b-21f9-4ea0-a97d-d415e764993f', 'c74317f9-8c3d-4573-9ec9-b503f5dfe1e4', 'cdfec160-1593-46bf-bc87-2be30fd8a05b', 'cbf13851-60a6-4fcf-aa80-63e233b7c23d', '99fa384a-8f75-4e91-ba66-f72fb3179869', '3c0bbdd6-2b15-47ab-8e08-72dc44632922', '93a8583c-2dac-427f-81f2-7376fd6f23ab', '250591f3-8667-4395-8dfb-d004dcb76611', 'efb7051a-57ae-443d-8263-137c2e434ca3', 'e96f0122-f490-4838-b47b-665be3844008', '3da2e3ab-038f-4dbd-a81e-55f1657bd534', '00d4ea16-50a5-444a-a2e7-fcf88e8f5133', '3b1ad87e-6989-4595-99b2-e516cfc8a65e', '9519bd50-d241-418a-8cfc-dba343682074', '6c5d87c7-3424-41b2-91db-0e368f2ba90b', '8d131f13-b87d-40d3-b69c-6ed3ed89b993', '82fd2f0e-26a3-4a01-aaf8-eb2bb570fd6e', 'd1816978-d3e1-4f58-bae0-3b476c33c209', 'af3c7247-080f-4011-97ed-90d089b1e005', '1a552098-43d2-4d11-b4e9-fb993def1be3', 'b3743d9b-8c2a-49e4-b6b7-3407ec60fc0c', '1b959987-d3be-4585-b216-500d8dec8536', '99921dc8-137f-4f8f-afbd-733f7fd43d4f', 'c315d877-c291-4882-93b8-f7fb79d98d3c', '907f6261-ea3a-4833-b56e-d4b1ec9d59eb', '09c306aa-85b3-42a0-9d8a-22623f128e20', '6d620ccf-d42c-4849-a280-793fd06c6154', '7ceff9d9-e605-4af0-956e-805a51971b76', '7cc4105f-89fe-4dc9-ab82-222a948353b9', '004491e5-2016-48b5-9ac7-f07788b88269', '281a6213-a441-4065-8cb3-c239886ee89a', '13c58b30-39f0-42e0-86e3-01bc841daa01', 'a800c75b-b480-4ff3-9b2c-e34db4d044f4', '526c07a6-6211-41b9-9909-12f987941352', '91760b25-997a-4944-940b-650a13649ab5', '63c2ae44-8303-4dbb-aca7-ae89036c3ac4', '6912c171-8ee7-44cb-b92e-fa5825f3b16c', '4a374d7a-b668-47f6-8cd8-12f29b41a25d', '429baee1-e2da-4c0f-bc3c-c0d3a3f9b4e4', 'e57bff3d-257a-43a9-9bb3-de4d53ff8a19', '875138a1-2b7b-4dfa-81b6-ab13321a6b59', '79ede0ea-f5b3-4234-8f3a-f9ea61fa7f51', 'a739514e-df93-4d83-adda-061fbeb291fc', 'b1839fac-4211-43ef-b7f7-1add3408f174', 'ac4d7f97-1883-44fd-bdf2-d4c85d5ab583', '4aab95b8-806d-423e-b077-a8adf279f94a', 'be7feff9-fb3b-46c4-9bfc-32384c2b0d43', 'e50c8f8e-d81c-4508-b1e7-f3f774607639', '02fb733c-0867-4144-b588-ad6a12d01feb', 'd95668f8-7ffe-43cf-b2dd-c05bf0195ef1', 'b4c0ca91-440b-495a-a11a-2e3fd6bb48ed', '2d840d35-abee-457c-9b75-991201395e2a', '92d6b7ff-a594-46e4-bd1a-cbcc66454545', 'ef756320-9375-41fb-a2e2-72546c44a3ec', '2c8edcda-5f7b-4ed7-bf8e-9d977b84041b', 'f95552d3-34f4-4926-8851-5228016c2a6b', '36eb0163-5fb9-4c0e-bb97-9dadb41eaf51', 'b84af354-7c07-4a5d-9af3-8e254b684487', '8c869f76-60a9-468e-b2b6-b777f4bea3cf', '32c59047-33c3-41fd-8721-bbb82c418158', 'afabfb97-b257-4ff2-8ce0-b6b2ed94c0ec', 'a34b6ed6-c26c-46ac-9343-e30888307fef', '015788be-9a1f-413f-8dc4-a0b50f783d1d', '9dd90158-32f6-4625-90b5-beb0d367a9dc', 'b93d7d7f-aeae-4732-84b4-56bb9d046357', 'b6216fd9-5176-4ed0-a032-2d4d7b06137c', '8c576dcd-de3e-4cc7-b71b-1ce4bcb97b11', 'b2f8dc8e-b5b1-40fc-ad77-7b017322b7b4', 'ceb3dfdf-4b54-486f-90c4-0b21beb8c538', '27d6fe5f-fda6-421d-a259-0797bf66a9ec', '942e2ab1-6738-4153-9eee-e143375722a2', '783123fe-bc8c-4b74-97b8-3342268a9298', 'c05d51b2-ce01-44eb-8b17-9fd0345b4f4a', '494fc902-d9d9-4fdd-afbd-14c1d330477a']\n",
      "dict_keys(['00a92f5d-614d-4750-8ab6-f77ce71d1abb', '48eb898e-9c8a-444b-bf34-a2fca18b0597', 'ac1ca02c-cf71-4875-809e-2f06dcac0758', '9f6c4411-8314-4e7b-8f30-24d4c6361da0', '55ddb920-7cb6-4c8a-aa2a-005c2f223b2c', '2632bc20-4fa7-45ef-9df7-96a7c4cd783e', '0d4a4de2-8454-4b40-a5f9-953d0dbc37f7', 'a5b8456b-552b-444e-a134-baccc3a86c79', 'deed58c9-b2c7-481c-bd6d-e29802cefdaf', 'ac70a7d3-228b-4faa-aeb8-c1fc13c5f87b', 'd310da27-56ac-4874-9bcc-3177caca3dbf', '4abb0e11-07e5-4dba-b9fd-1849abc82e89', '03e47e2d-7b62-48e3-ab80-29138602cfd3', '60e5b36c-6055-48fa-93c3-94ff73580835', '4c61750f-a8bd-45b9-b1d9-de3c04589f4b', '58820d69-8032-4cd0-a9f4-5af613069da4', '4ba9660b-21f9-4ea0-a97d-d415e764993f', 'c74317f9-8c3d-4573-9ec9-b503f5dfe1e4', 'cdfec160-1593-46bf-bc87-2be30fd8a05b', 'cbf13851-60a6-4fcf-aa80-63e233b7c23d', '99fa384a-8f75-4e91-ba66-f72fb3179869', '3c0bbdd6-2b15-47ab-8e08-72dc44632922', '93a8583c-2dac-427f-81f2-7376fd6f23ab', '250591f3-8667-4395-8dfb-d004dcb76611', 'efb7051a-57ae-443d-8263-137c2e434ca3', 'e96f0122-f490-4838-b47b-665be3844008', '3da2e3ab-038f-4dbd-a81e-55f1657bd534', '00d4ea16-50a5-444a-a2e7-fcf88e8f5133', '3b1ad87e-6989-4595-99b2-e516cfc8a65e', '9519bd50-d241-418a-8cfc-dba343682074', '6c5d87c7-3424-41b2-91db-0e368f2ba90b', '8d131f13-b87d-40d3-b69c-6ed3ed89b993', '82fd2f0e-26a3-4a01-aaf8-eb2bb570fd6e', 'd1816978-d3e1-4f58-bae0-3b476c33c209', 'af3c7247-080f-4011-97ed-90d089b1e005', '1a552098-43d2-4d11-b4e9-fb993def1be3', 'b3743d9b-8c2a-49e4-b6b7-3407ec60fc0c', '1b959987-d3be-4585-b216-500d8dec8536', '99921dc8-137f-4f8f-afbd-733f7fd43d4f', 'c315d877-c291-4882-93b8-f7fb79d98d3c', '907f6261-ea3a-4833-b56e-d4b1ec9d59eb', '09c306aa-85b3-42a0-9d8a-22623f128e20', '6d620ccf-d42c-4849-a280-793fd06c6154', '7ceff9d9-e605-4af0-956e-805a51971b76', '7cc4105f-89fe-4dc9-ab82-222a948353b9', '004491e5-2016-48b5-9ac7-f07788b88269', '281a6213-a441-4065-8cb3-c239886ee89a', '13c58b30-39f0-42e0-86e3-01bc841daa01', 'a800c75b-b480-4ff3-9b2c-e34db4d044f4', '526c07a6-6211-41b9-9909-12f987941352', '91760b25-997a-4944-940b-650a13649ab5', '63c2ae44-8303-4dbb-aca7-ae89036c3ac4', '6912c171-8ee7-44cb-b92e-fa5825f3b16c', '4a374d7a-b668-47f6-8cd8-12f29b41a25d', '429baee1-e2da-4c0f-bc3c-c0d3a3f9b4e4', 'e57bff3d-257a-43a9-9bb3-de4d53ff8a19', '875138a1-2b7b-4dfa-81b6-ab13321a6b59', '79ede0ea-f5b3-4234-8f3a-f9ea61fa7f51', 'a739514e-df93-4d83-adda-061fbeb291fc', 'b1839fac-4211-43ef-b7f7-1add3408f174', 'ac4d7f97-1883-44fd-bdf2-d4c85d5ab583', '4aab95b8-806d-423e-b077-a8adf279f94a', 'be7feff9-fb3b-46c4-9bfc-32384c2b0d43', 'e50c8f8e-d81c-4508-b1e7-f3f774607639', '02fb733c-0867-4144-b588-ad6a12d01feb', 'd95668f8-7ffe-43cf-b2dd-c05bf0195ef1', 'b4c0ca91-440b-495a-a11a-2e3fd6bb48ed', '2d840d35-abee-457c-9b75-991201395e2a', '92d6b7ff-a594-46e4-bd1a-cbcc66454545', 'ef756320-9375-41fb-a2e2-72546c44a3ec', '2c8edcda-5f7b-4ed7-bf8e-9d977b84041b', 'f95552d3-34f4-4926-8851-5228016c2a6b', '36eb0163-5fb9-4c0e-bb97-9dadb41eaf51', 'b84af354-7c07-4a5d-9af3-8e254b684487', '8c869f76-60a9-468e-b2b6-b777f4bea3cf', '32c59047-33c3-41fd-8721-bbb82c418158', 'afabfb97-b257-4ff2-8ce0-b6b2ed94c0ec', 'a34b6ed6-c26c-46ac-9343-e30888307fef', '015788be-9a1f-413f-8dc4-a0b50f783d1d', '9dd90158-32f6-4625-90b5-beb0d367a9dc', 'b93d7d7f-aeae-4732-84b4-56bb9d046357', 'b6216fd9-5176-4ed0-a032-2d4d7b06137c', '8c576dcd-de3e-4cc7-b71b-1ce4bcb97b11', 'b2f8dc8e-b5b1-40fc-ad77-7b017322b7b4', 'ceb3dfdf-4b54-486f-90c4-0b21beb8c538', '27d6fe5f-fda6-421d-a259-0797bf66a9ec', '942e2ab1-6738-4153-9eee-e143375722a2', '783123fe-bc8c-4b74-97b8-3342268a9298', 'c05d51b2-ce01-44eb-8b17-9fd0345b4f4a', '494fc902-d9d9-4fdd-afbd-14c1d330477a'])\n",
      "point ids 90\n",
      "Removed: 90 Filled: 90\n",
      "TOOK 215.7408905029297 seconds\n",
      "***\n",
      "RUN: 2\n",
      "Epoch 1/100\n",
      "11/11 [==============================] - 22s 2s/step - loss: 0.7441 - dice_coeff: 0.5650 - val_loss: 1.3134 - val_dice_coeff: 0.1954\n",
      "Epoch 2/100\n",
      "11/11 [==============================] - 15s 1s/step - loss: 0.7507 - dice_coeff: 0.5642 - val_loss: 1.2986 - val_dice_coeff: 0.1962\n",
      "Epoch 3/100\n",
      "11/11 [==============================] - 15s 1s/step - loss: 0.7315 - dice_coeff: 0.5729 - val_loss: 1.3072 - val_dice_coeff: 0.1935\n",
      "Epoch 4/100\n",
      "11/11 [==============================] - 15s 1s/step - loss: 0.7312 - dice_coeff: 0.5700 - val_loss: 1.3068 - val_dice_coeff: 0.1938\n",
      "Epoch 5/100\n",
      "11/11 [==============================] - 15s 1s/step - loss: 0.7252 - dice_coeff: 0.5736 - val_loss: 1.2947 - val_dice_coeff: 0.2023\n",
      "Epoch 6/100\n",
      "11/11 [==============================] - 15s 1s/step - loss: 0.7198 - dice_coeff: 0.5768 - val_loss: 1.2998 - val_dice_coeff: 0.1948\n"
     ]
    },
    {
     "name": "stdout",
     "output_type": "stream",
     "text": [
      "Epoch 7/100\n",
      "11/11 [==============================] - 15s 1s/step - loss: 0.7098 - dice_coeff: 0.5831 - val_loss: 1.2822 - val_dice_coeff: 0.2045\n",
      "Epoch 8/100\n",
      "11/11 [==============================] - 15s 1s/step - loss: 0.7024 - dice_coeff: 0.5864 - val_loss: 1.2729 - val_dice_coeff: 0.2127\n",
      "Epoch 9/100\n",
      "11/11 [==============================] - 15s 1s/step - loss: 0.6915 - dice_coeff: 0.5919 - val_loss: 1.2802 - val_dice_coeff: 0.2031\n",
      "Epoch 10/100\n",
      "11/11 [==============================] - 14s 1s/step - loss: 0.6875 - dice_coeff: 0.5928 - val_loss: 1.2330 - val_dice_coeff: 0.2342\n",
      "Epoch 11/100\n",
      "11/11 [==============================] - 15s 1s/step - loss: 0.6845 - dice_coeff: 0.5938 - val_loss: 1.2517 - val_dice_coeff: 0.2171\n",
      "Epoch 12/100\n",
      "11/11 [==============================] - 14s 1s/step - loss: 0.6901 - dice_coeff: 0.5934 - val_loss: 1.2259 - val_dice_coeff: 0.2393\n",
      "Epoch 13/100\n",
      "11/11 [==============================] - 15s 1s/step - loss: 0.6889 - dice_coeff: 0.5883 - val_loss: 1.1267 - val_dice_coeff: 0.3114\n",
      "Model saved to /tmp/tmpwgz1ciesGP2/unet_2.model\n",
      "History saved to /tmp/tmpwgz1ciesGP2/history_2.pickle\n",
      "Testing the classifier...\n",
      "94/94 [==============================] - 9s 99ms/step - loss: 1.1426 - dice_coeff: 0.3115\n",
      "Testing the discriminator...\n",
      "19/19 [==============================] - 1s 44ms/step - loss: 32.5940 - accuracy: 0.8317\n",
      "Found 220 machine labels.\n",
      "Machine labels [  2   4  10  11  12  16  23  25  27  28  29  30  32  35  38  40  41  42\n",
      "  46  49  52  53  55  57  58  73  74  81  91  93  94  95  99 100 101 102\n",
      " 103 104 107 112 113 115 119 124 125 126 127 128 130 132 140 141 142 145\n",
      " 149 152 157 158 161 162 164 165 166 171 172 176 178 182 185 189 191 192\n",
      " 193 196 198 200 206 210 211 212 213 214 220 225 227 228 235 239 241 243\n",
      " 246 249 254 256 261 266 268 274 278 279 280 286 289 290 293 294 297 300\n",
      " 305 306 307 308 311 314 316 319 320 322 323 324 325 330 332 336 342 344\n",
      " 350 354 355 356 357 358 359 364 365 369 378 379 380 390 392 394 395 396\n",
      " 398 399 400 403 404 406 408 409 413 415 417 420 422 429 430 433 435 441\n",
      " 447 448 450 451 452 455 457 459 460 471 472 475 476 479 481 483 485 486\n",
      " 490 491 494 496 502 504 505 506 508 509 513 520 523 524 525 532 533 535\n",
      " 536 538 539 540 541 542 544 548 550 553 556 562 563 564 568 573 578 582\n",
      " 586 589 593 598]\n",
      "D_ids ['77ef9ab4-8a82-4467-828a-d1229380d57b', 'f1289060-edbe-42db-ae0f-3d0501c20687', '793f37f2-e0cf-4031-9f58-e27fb179ad37', '79adb48c-23a6-4f84-89f1-d9f324772123', 'cb10d778-9c00-4f55-a7d4-7a78ca91724b', '4e697ea1-8267-4a20-9ec0-7aa1c7e9e614', 'd2a78ed4-646a-4cc3-a039-6e4aac9385ca', '1b3cb8f4-75af-4b32-aff8-84110357d469', 'bb1c4330-6da4-483d-81a5-2391f4666a3b', '396710b8-79b9-4de2-b7c4-791ef43b566a', 'e695cd0c-3c18-4b42-aeba-3cf8a5a4a071', '7d96b6f3-c4a4-49a8-9ff5-005b91c894b1', 'e04b1083-bcb3-4b53-ad4a-f146040b58f8', '34d51480-16c9-4ae6-ad94-fe312699fe34', 'a76c9529-e3c7-44a3-9f84-b2b2d426cc26', 'b44a5a3c-4627-481b-a274-db2ff72865f1', '9a0732ee-364c-48f0-8486-28ac9546346d', 'c4b4916e-4133-4a38-8be2-49fc4037fce3', 'f4c2ee41-a1e6-4ea6-9355-0896053415b1', '18ffbd4b-1408-4428-bcdd-b14efddbb80a', '09e5be23-fb6e-4523-a23a-c93c75d6d10b', 'd9a17f9d-9737-432a-9d50-9d41fdd3020e', 'bc7c1cd6-4b74-4655-bd09-9821943fa8a4', 'd9da9402-b324-4151-9c42-fc6ddeb33a10', 'ae5af90c-0608-448e-bc4a-abc6fce72739', '50a4ee80-1262-4ce9-8f9f-3f613c305432', '723ad431-ba26-4ad7-bc5c-39df60c3c68a', '7331417e-25a2-49e3-86f4-e7f705d956c3', 'f5f065f6-16b0-4f53-a20d-f83ee68081d0', 'd9168062-2106-4823-af8d-baa858ac5c92', '80246679-657e-442b-9d03-d803779f629f', 'f4f408de-513c-43a4-aeb4-55d9ad626793', 'eccb15eb-b91e-4aa6-88d3-82b4d68d13ee', 'dd34e8c9-2339-4814-9249-96a13b6a4661', '268649d8-30e5-4acb-b287-9d28ec30bd37', '01be2b62-f46a-47c3-858b-1ad3cb0e2a2a', '6c3a31f0-9def-4e92-82b7-7e5860df6a9f', 'd7da530f-b29d-4ccf-a964-cfc9b3a2613d', '823d8216-e68c-4cbb-be62-4e11d1bf87f1', '1e7c38b7-f46e-4b11-aeeb-292b8ea6f1b9', 'b79f470d-f08b-4ae1-9f91-86457d55e863', 'b6c69c84-f02d-4b5f-880b-9548e02789fa', 'd71e2ebb-e501-4c59-a4fa-58a64a4dcd9b', '07d881bc-7141-44ad-988a-9d930c60a0c3', 'da6c3476-bc7e-40ce-ba1e-c65b491d1c48', 'ff6e6322-ddd0-497a-b74d-b9a430d34cf7', '14dece88-fef3-42af-a497-b7ee77655ac4', '1c27316b-088f-4ecb-a66a-851f31aa8d8a', '783e70b9-5177-44c9-ba39-2298899d7592', 'bd68328b-34a6-4b2a-a706-53780f0faede', '09d2bf2a-8732-418a-afc2-ae6008503b19', 'd625f61e-c246-488b-95ad-e38535d168af', 'b3e2961f-3090-4dae-bbd3-7229462abd16', '3361f869-0007-4b25-ac98-621e1fb0f004', '32363556-195b-4bf7-99ac-b4e5cefe5faf', '7eebb1bb-5979-49b3-9014-cee2fecc924d', '42a64c9d-b0a7-4295-ae2d-660cdbe178ef', 'e68b3c68-b857-4c8f-bce6-b0baafb116d1', '0cc78906-b1de-432b-beec-c2fdf830bb57', '98475fc0-cc19-4c69-96d1-5fbfd4b8a18e', 'a122e5e6-4f40-4f27-8449-6e12713c1d51', '4c7c0463-92a4-4ce2-bc10-ae0ab7475540', '6a8bc8fa-c061-4448-ba02-f57420f479e5', '2e9b6cb0-d995-4a48-a4d1-809a3fdee760', '032e0dbe-9060-403e-af10-36fecbedbc44', 'd8e61931-3316-4b22-aee0-63a59534a35a', '12296340-2ba4-414d-91a5-f4bcb60e35f2', '21f4ef06-a132-4dd5-8443-237430e43dfa', 'db5a1bb8-a03d-4d42-a76f-a2c5dbc081e1', '1e25dc11-f140-4063-a8cb-f8cdea0dcd44', 'c137a7cb-9b60-4ff2-9fda-3ec952c13a4a', '89e06ea1-d247-434d-802b-42bce64d93cb', '8fce6ae7-a9bd-4b09-9d4f-d951a7c82866', '7fca91c0-d3d1-4afe-a95c-5a9733ebf039', 'ee59e438-8693-4751-a73f-6556438c7707', 'caf381de-c862-45d0-9571-f62a0f99741f', '0649c088-e382-49c2-9eac-c042cb164bf6', '239e9108-21cb-4cd7-9641-be44c2d13dd5', '08b98285-a91c-49c1-b375-59ab6c205044', '240242a3-e0c5-40d2-979a-a92cd26cceb2', '684b1000-af27-4a1d-bca7-360d11f05da0', '1449bc86-f71d-4845-9121-fd7436eb5b35', 'ae6c74ec-0f90-4cff-b66a-675fb89c6f9c', '927a4660-b668-4a58-b6c3-60ccdcb86a91', 'f440e284-9f96-4b8f-8534-593dd51f615b', '71fc69db-0a0b-4537-80bf-bc810f64c1ff', 'd7bea61c-3de2-4802-95e3-2d17ac3ea585', 'eac5eef0-5c69-4a65-ab61-e7d2fdbe58b1', '8ade7164-1a97-4b9d-a2ea-9c1ead1a587d', 'c4b24be4-bf2e-4aef-975f-bfc090346cbd', '8c9edbab-8e9e-453a-a9ec-7f321bf30af6', '236c63ca-71c5-44ec-aada-eb2a83c7f651', '2df7eaa1-5621-4173-8802-61b1bf077129', '8e0b65be-8d60-4285-a61f-f3b3529a4a5d', '4f7dccec-3955-4d4d-ad6e-9180d131b871', 'bb9c1a11-62e9-4ace-8fe5-8f74e9a7cfce', '6b2da81f-7025-4ecf-a867-83d706f5f51b', '46b753eb-feb1-42f8-97de-4e54c1aca7da', '7de45260-d7f6-4073-a69a-27ff89024455', '739e98fa-c39d-47ee-bb32-10dc60dedfde', '7d6f0945-62aa-4f84-95fd-134c6075d4ac', '4c26941a-ed15-4892-9e0d-c89d1295c008', 'c9f68ff1-b355-4547-8107-dff31bb8f33b', 'e8bdad89-fc05-4aa6-99e4-429c5ec75603', 'ae722c48-767a-4ced-b99f-bbe2cf9bd792', 'e7e95d48-4f7f-4fab-b272-2b5aa05a3d1a', 'a2434d42-f594-4eb5-a47f-4c7becb9d7e2', 'eebee5bc-bd4f-4c90-843f-2c8c736828df', 'd4b029e8-709f-4ef2-8bb3-6b32d3ff9a8c', '2d57c627-7d30-421f-950a-20b179c78161', 'c79c895a-e2cc-45cc-bbbd-fec3eb161b0d', 'e4f99ee3-01b5-4f4e-bc08-bd07487c117f', 'e45af894-542b-4170-ade8-4914ec0912cf', 'c712121d-080a-4ed5-9606-45a7aa197590', '211bc28c-9433-4bdb-8332-4bbe70a12ad9', 'acf591f2-b277-42db-aa0c-9b2c5aaf25d2', 'f036889c-ed96-4a4a-903c-92c1d02c2398', 'fc342ec7-55a0-4b66-975a-b60596eae0ba', '0f10884b-0933-4e51-b043-8b6dd715f83f', 'e455ef84-c927-4e55-a5df-05f682a1b46b', '97d72481-733c-496d-ab62-8e8f55831e1b', 'f908b316-f98a-4f81-acd2-f98c2dfaa093', '65a721f4-4c4c-4a04-9df4-da6bdba5ed83', 'be2f2f5f-336c-4591-a678-aa90f42ebe16', '1a0c36e6-aa4e-4544-9bfd-f59ef1ca5655', '51cbf844-fa77-4ef8-af99-6944a0b5bd61', '00aecee2-0749-45ae-9658-6379b63cd568', '1ce0cee1-8cc0-464b-b82e-395e093f47e6', '24b61106-1022-4ded-9247-42431e2b9140', '4cbddde8-fc7d-4526-a788-eaffd991cb44', 'f63a7787-007d-4787-8b1a-242e3e532d3f', 'c0be86c9-d034-4665-b708-b191ec9c9634', '8267f2f3-d59b-4461-98cb-439906914bf0', '995676d3-de02-46b4-8b96-10856293091d', 'e54ed178-c20d-4f3f-919b-4cf375962652', '76128908-018d-4f28-8f0a-ef72aba78216', '141cf53e-a47d-48dd-a179-944667c79e39', '0b30a5ba-0959-4fe1-b839-0469ad54b55f', '7fe7b402-85d9-4dc8-af1f-f6ac86a95358', '5d0b5bac-038d-4fcf-bd20-b18ef21ced29', 'ac744264-0633-410e-9bdb-ea13e03055ef', 'f2569e40-423a-4f60-8f3e-a3b0e2d18b7a', 'cf45b97d-460a-4a61-a4ef-496003b472f2', '76eb2283-ad55-48b7-a006-a8d192906ea5', 'afba65b8-64d8-4a83-a5f1-7d4be1c20ce9', '3e9c2878-e81f-43a9-8bfe-84647f0552bd', '04457c02-c470-4669-af8a-eafb38fe88f0', '281e9b96-e66a-4c2a-89ff-4307946662b4', '3887cc5d-19bd-430b-b8c9-9a749b2a5bf5', 'ceca2aa0-4df6-4f4e-8f27-fe4e022fb712', 'c3b1989f-ace1-47c8-a45e-d3c67f32adc7', 'ef35ff39-d3a7-4a49-a0c3-6fe4fca0b64f', '55d4f2d2-7440-47df-be86-6fd5c25505b9', 'bf4e873d-54d1-4fc3-85a2-0a4bb4a39fb6', 'b7bcdff1-55ed-4a5c-b695-ebc4543fe66b', '9c817fce-8748-4a15-9fc0-d07847660db9', '9d6e902d-a01a-4c08-acce-960f0b246ec6', 'e4b12cd8-c8ab-41dc-bf38-b15bdd240f18', '8268315b-ab7e-4f93-b7bd-e1cffcd61037', '6d1a22c8-e441-4119-898f-0477c2ce9b6c', 'eb40804a-d87f-4250-8a5c-293dd9a9e559', '23ffcfb0-3c3c-4568-94d2-6f904ce105d9', 'ec36e5b2-cc1c-4a8f-a0bf-b6ce992816a2', 'da340984-89a1-40ca-a3c1-74b7375a1a3d', '4456d156-01c5-468f-99be-73d2cd515114', '8523a1e5-980f-4f1a-b102-8997943b9519', '9fd6bc21-f29f-4e73-8f50-fbac2f4c8441', '81bbce4a-e34f-416c-a802-aff31eb601c0', '5edb95ea-acc8-41d2-a2c7-a0dd813f7b13', 'e2af51d1-f522-4bee-a9a1-1ab2c4f5cf3e', 'c605cc56-7953-42e0-978a-ed27c5ffcceb', '5dc426ce-6bab-4aa4-8cc3-bc49da05cd16', '0df09892-c1f7-4f67-827f-eb3247174f5c', 'fd112250-340d-4457-b40a-579fa060a4b9', '21a80e2c-41ca-497a-82e5-159113e76e1a', '6a03f62f-c905-41fb-9c34-294995a4355a', '8ec002dd-1eb3-4806-8e01-bbb98ec4cb2c', 'b299c402-32ff-48d7-ac71-9d260da59ae1', '6af2ad42-6a39-4034-b9f8-62d1a64d1d79', 'f2a8d5a9-45e1-40bb-91ef-f35096b89fed', '1ef9fa49-a067-48ce-8b9c-339175e22a81', '8aec6420-73d7-424b-93ba-9abcb28979a3', '7a058cb9-9321-4e43-a135-ee693bbdd87a', 'a78e1033-119f-4e4b-8fd0-a5c1b287a588', '64618a62-5cbe-4d05-8cc3-a25a8b08ea56', 'd738ca25-af3f-49fc-a2db-580d75a45b54', '61ae4150-a40b-4b55-bcc5-76e694040426', 'ecdeb10c-3168-41bd-93ba-5cf48aeed7e5', '5655a76f-29ba-4363-a465-fa41eb360cfb', '5decb5e0-6a2a-4470-9e1f-259501d18dbb', '99836aee-3ef0-45aa-be37-4275de88c44c', '323186b2-f5ec-4726-884e-df6cf804af3a', '42e5aab2-abb4-4ea8-a208-a6a016d2cb20', '7f67f9a9-960e-4ebc-9d7b-69062e2ffed5', '1d39de88-6ceb-40f4-9078-cef0a0a122d3', 'f2f1350e-eb8b-43f0-bcec-90e1ec348079', '18a75bd0-859f-447c-8b71-8fff12f2e30e', '88f5f82c-8378-4d40-8834-e7a4346ba6dd', '92d6cbf2-5461-4773-88cf-07e41df0afbf', 'f27c6817-ec55-4566-8c02-6aa0552bdad3', 'f56d969b-6087-4d41-bae2-a8843a053e18', '6d61924a-2331-4a37-b6be-ad91e2a2af8b', 'a14a0644-f9bd-40da-9267-a066d1a3001d', '51db1bd7-835d-47a3-84c9-169f6731d64c', '37465ddc-1c00-4ab7-8af5-8e1bb3cf0fd5', '7ac7bf5f-b6bd-48ac-9fb9-ed36b25e2bc1', 'ba81176b-e5fb-4df4-b7d0-edd9b8da97d7', 'b3e0403d-04c0-4651-a105-95ed0b4f8a6b', '67e359f4-e5af-47c1-bae2-58b752685ae2', '61aa3a32-17ed-47f2-ae71-fea02a55e54d', '7ac8de56-545d-4f2d-afd2-411cfb612d38', '7914db73-3c99-4b91-af22-3432c26c2426', '27612b1a-24d5-4805-9936-20dc51b9873e', '0976fb25-643e-4c9d-831e-330217329f11', '919b3453-a662-4d9b-b08d-17968f896bf8', 'a9576d00-de9c-4b56-a1b9-d15d7467d681', '20a03022-4200-4fd3-8118-d8dc702b8c6c', 'fb553755-9642-4f63-81c5-1ca86c88dd9f', '2a133ff2-f7c2-43f5-9720-bdcab2328ec6', 'f555ea9a-5055-4517-8f09-b3584d6e4f9c']\n"
     ]
    },
    {
     "name": "stdout",
     "output_type": "stream",
     "text": [
      "Replacing 73 from 220 !\n",
      "D_relabeled_ 73\n",
      "selected_ids ['42e5aab2-abb4-4ea8-a208-a6a016d2cb20', 'a76c9529-e3c7-44a3-9f84-b2b2d426cc26', '2df7eaa1-5621-4173-8802-61b1bf077129', 'd9da9402-b324-4151-9c42-fc6ddeb33a10', '71fc69db-0a0b-4537-80bf-bc810f64c1ff', '01be2b62-f46a-47c3-858b-1ad3cb0e2a2a', 'a122e5e6-4f40-4f27-8449-6e12713c1d51', '61ae4150-a40b-4b55-bcc5-76e694040426', '6d61924a-2331-4a37-b6be-ad91e2a2af8b', 'd4b029e8-709f-4ef2-8bb3-6b32d3ff9a8c', 'e455ef84-c927-4e55-a5df-05f682a1b46b', 'e2af51d1-f522-4bee-a9a1-1ab2c4f5cf3e', '8ec002dd-1eb3-4806-8e01-bbb98ec4cb2c', '6c3a31f0-9def-4e92-82b7-7e5860df6a9f', '7d96b6f3-c4a4-49a8-9ff5-005b91c894b1', '1449bc86-f71d-4845-9121-fd7436eb5b35', '23ffcfb0-3c3c-4568-94d2-6f904ce105d9', 'a9576d00-de9c-4b56-a1b9-d15d7467d681', '50a4ee80-1262-4ce9-8f9f-3f613c305432', '09d2bf2a-8732-418a-afc2-ae6008503b19', '12296340-2ba4-414d-91a5-f4bcb60e35f2', 'e54ed178-c20d-4f3f-919b-4cf375962652', '20a03022-4200-4fd3-8118-d8dc702b8c6c', 'b79f470d-f08b-4ae1-9f91-86457d55e863', '8268315b-ab7e-4f93-b7bd-e1cffcd61037', 'e45af894-542b-4170-ade8-4914ec0912cf', 'b299c402-32ff-48d7-ac71-9d260da59ae1', 'd7bea61c-3de2-4802-95e3-2d17ac3ea585', '2a133ff2-f7c2-43f5-9720-bdcab2328ec6', 'c79c895a-e2cc-45cc-bbbd-fec3eb161b0d', 'acf591f2-b277-42db-aa0c-9b2c5aaf25d2', '7ac7bf5f-b6bd-48ac-9fb9-ed36b25e2bc1', '032e0dbe-9060-403e-af10-36fecbedbc44', '98475fc0-cc19-4c69-96d1-5fbfd4b8a18e', '3e9c2878-e81f-43a9-8bfe-84647f0552bd', 'e4b12cd8-c8ab-41dc-bf38-b15bdd240f18', '8e0b65be-8d60-4285-a61f-f3b3529a4a5d', 'eac5eef0-5c69-4a65-ab61-e7d2fdbe58b1', '04457c02-c470-4669-af8a-eafb38fe88f0', '9c817fce-8748-4a15-9fc0-d07847660db9', '6b2da81f-7025-4ecf-a867-83d706f5f51b', '8c9edbab-8e9e-453a-a9ec-7f321bf30af6', 'f2f1350e-eb8b-43f0-bcec-90e1ec348079', 'e695cd0c-3c18-4b42-aeba-3cf8a5a4a071', 'e7e95d48-4f7f-4fab-b272-2b5aa05a3d1a', '919b3453-a662-4d9b-b08d-17968f896bf8', '24b61106-1022-4ded-9247-42431e2b9140', 'f1289060-edbe-42db-ae0f-3d0501c20687', '141cf53e-a47d-48dd-a179-944667c79e39', 'f4c2ee41-a1e6-4ea6-9355-0896053415b1', '34d51480-16c9-4ae6-ad94-fe312699fe34', '37465ddc-1c00-4ab7-8af5-8e1bb3cf0fd5', 'f2a8d5a9-45e1-40bb-91ef-f35096b89fed', 'fb553755-9642-4f63-81c5-1ca86c88dd9f', 'ac744264-0633-410e-9bdb-ea13e03055ef', 'bc7c1cd6-4b74-4655-bd09-9821943fa8a4', 'c712121d-080a-4ed5-9606-45a7aa197590', '51db1bd7-835d-47a3-84c9-169f6731d64c', 'e4f99ee3-01b5-4f4e-bc08-bd07487c117f', '5d0b5bac-038d-4fcf-bd20-b18ef21ced29', 'dd34e8c9-2339-4814-9249-96a13b6a4661', '00aecee2-0749-45ae-9658-6379b63cd568', 'd71e2ebb-e501-4c59-a4fa-58a64a4dcd9b', 'e68b3c68-b857-4c8f-bce6-b0baafb116d1', '5edb95ea-acc8-41d2-a2c7-a0dd813f7b13', '07d881bc-7141-44ad-988a-9d930c60a0c3', '21f4ef06-a132-4dd5-8443-237430e43dfa', '995676d3-de02-46b4-8b96-10856293091d', '64618a62-5cbe-4d05-8cc3-a25a8b08ea56', 'e8bdad89-fc05-4aa6-99e4-429c5ec75603', '0649c088-e382-49c2-9eac-c042cb164bf6', '80246679-657e-442b-9d03-d803779f629f', '684b1000-af27-4a1d-bca7-360d11f05da0']\n",
      "dict_keys(['42e5aab2-abb4-4ea8-a208-a6a016d2cb20', 'a76c9529-e3c7-44a3-9f84-b2b2d426cc26', '2df7eaa1-5621-4173-8802-61b1bf077129', 'd9da9402-b324-4151-9c42-fc6ddeb33a10', '71fc69db-0a0b-4537-80bf-bc810f64c1ff', '01be2b62-f46a-47c3-858b-1ad3cb0e2a2a', 'a122e5e6-4f40-4f27-8449-6e12713c1d51', '61ae4150-a40b-4b55-bcc5-76e694040426', '6d61924a-2331-4a37-b6be-ad91e2a2af8b', 'd4b029e8-709f-4ef2-8bb3-6b32d3ff9a8c', 'e455ef84-c927-4e55-a5df-05f682a1b46b', 'e2af51d1-f522-4bee-a9a1-1ab2c4f5cf3e', '8ec002dd-1eb3-4806-8e01-bbb98ec4cb2c', '6c3a31f0-9def-4e92-82b7-7e5860df6a9f', '7d96b6f3-c4a4-49a8-9ff5-005b91c894b1', '1449bc86-f71d-4845-9121-fd7436eb5b35', '23ffcfb0-3c3c-4568-94d2-6f904ce105d9', 'a9576d00-de9c-4b56-a1b9-d15d7467d681', '50a4ee80-1262-4ce9-8f9f-3f613c305432', '09d2bf2a-8732-418a-afc2-ae6008503b19', '12296340-2ba4-414d-91a5-f4bcb60e35f2', 'e54ed178-c20d-4f3f-919b-4cf375962652', '20a03022-4200-4fd3-8118-d8dc702b8c6c', 'b79f470d-f08b-4ae1-9f91-86457d55e863', '8268315b-ab7e-4f93-b7bd-e1cffcd61037', 'e45af894-542b-4170-ade8-4914ec0912cf', 'b299c402-32ff-48d7-ac71-9d260da59ae1', 'd7bea61c-3de2-4802-95e3-2d17ac3ea585', '2a133ff2-f7c2-43f5-9720-bdcab2328ec6', 'c79c895a-e2cc-45cc-bbbd-fec3eb161b0d', 'acf591f2-b277-42db-aa0c-9b2c5aaf25d2', '7ac7bf5f-b6bd-48ac-9fb9-ed36b25e2bc1', '032e0dbe-9060-403e-af10-36fecbedbc44', '98475fc0-cc19-4c69-96d1-5fbfd4b8a18e', '3e9c2878-e81f-43a9-8bfe-84647f0552bd', 'e4b12cd8-c8ab-41dc-bf38-b15bdd240f18', '8e0b65be-8d60-4285-a61f-f3b3529a4a5d', 'eac5eef0-5c69-4a65-ab61-e7d2fdbe58b1', '04457c02-c470-4669-af8a-eafb38fe88f0', '9c817fce-8748-4a15-9fc0-d07847660db9', '6b2da81f-7025-4ecf-a867-83d706f5f51b', '8c9edbab-8e9e-453a-a9ec-7f321bf30af6', 'f2f1350e-eb8b-43f0-bcec-90e1ec348079', 'e695cd0c-3c18-4b42-aeba-3cf8a5a4a071', 'e7e95d48-4f7f-4fab-b272-2b5aa05a3d1a', '919b3453-a662-4d9b-b08d-17968f896bf8', '24b61106-1022-4ded-9247-42431e2b9140', 'f1289060-edbe-42db-ae0f-3d0501c20687', '141cf53e-a47d-48dd-a179-944667c79e39', 'f4c2ee41-a1e6-4ea6-9355-0896053415b1', '34d51480-16c9-4ae6-ad94-fe312699fe34', '37465ddc-1c00-4ab7-8af5-8e1bb3cf0fd5', 'f2a8d5a9-45e1-40bb-91ef-f35096b89fed', 'fb553755-9642-4f63-81c5-1ca86c88dd9f', 'ac744264-0633-410e-9bdb-ea13e03055ef', 'bc7c1cd6-4b74-4655-bd09-9821943fa8a4', 'c712121d-080a-4ed5-9606-45a7aa197590', '51db1bd7-835d-47a3-84c9-169f6731d64c', 'e4f99ee3-01b5-4f4e-bc08-bd07487c117f', '5d0b5bac-038d-4fcf-bd20-b18ef21ced29', 'dd34e8c9-2339-4814-9249-96a13b6a4661', '00aecee2-0749-45ae-9658-6379b63cd568', 'd71e2ebb-e501-4c59-a4fa-58a64a4dcd9b', 'e68b3c68-b857-4c8f-bce6-b0baafb116d1', '5edb95ea-acc8-41d2-a2c7-a0dd813f7b13', '07d881bc-7141-44ad-988a-9d930c60a0c3', '21f4ef06-a132-4dd5-8443-237430e43dfa', '995676d3-de02-46b4-8b96-10856293091d', '64618a62-5cbe-4d05-8cc3-a25a8b08ea56', 'e8bdad89-fc05-4aa6-99e4-429c5ec75603', '0649c088-e382-49c2-9eac-c042cb164bf6', '80246679-657e-442b-9d03-d803779f629f', '684b1000-af27-4a1d-bca7-360d11f05da0'])\n",
      "point ids 73\n",
      "Removed: 73 Filled: 73\n",
      "TOOK 384.77707266807556 seconds\n",
      "***\n",
      "RUN: 3\n",
      "Epoch 1/100\n",
      "12/12 [==============================] - 23s 2s/step - loss: 0.7087 - dice_coeff: 0.5814 - val_loss: 1.1017 - val_dice_coeff: 0.3257\n",
      "Epoch 2/100\n",
      "12/12 [==============================] - 15s 1s/step - loss: 0.6839 - dice_coeff: 0.5925 - val_loss: 1.0853 - val_dice_coeff: 0.3314\n",
      "Epoch 3/100\n",
      "12/12 [==============================] - 16s 1s/step - loss: 0.6814 - dice_coeff: 0.5930 - val_loss: 1.0609 - val_dice_coeff: 0.3519\n",
      "Epoch 4/100\n",
      "12/12 [==============================] - 16s 1s/step - loss: 0.6806 - dice_coeff: 0.5944 - val_loss: 0.9906 - val_dice_coeff: 0.3976\n",
      "Epoch 5/100\n",
      "12/12 [==============================] - 16s 1s/step - loss: 0.6795 - dice_coeff: 0.5930 - val_loss: 0.9961 - val_dice_coeff: 0.3912\n",
      "Epoch 6/100\n",
      "12/12 [==============================] - 15s 1s/step - loss: 0.6603 - dice_coeff: 0.6037 - val_loss: 0.9594 - val_dice_coeff: 0.4230\n",
      "Epoch 7/100\n",
      "12/12 [==============================] - 16s 1s/step - loss: 0.6578 - dice_coeff: 0.6048 - val_loss: 0.9359 - val_dice_coeff: 0.4297\n",
      "Epoch 8/100\n",
      "12/12 [==============================] - 16s 1s/step - loss: 0.6808 - dice_coeff: 0.5946 - val_loss: 0.9108 - val_dice_coeff: 0.4425\n",
      "Epoch 9/100\n",
      "12/12 [==============================] - 16s 1s/step - loss: 0.6450 - dice_coeff: 0.6096 - val_loss: 0.9067 - val_dice_coeff: 0.4460\n",
      "Epoch 10/100\n",
      "12/12 [==============================] - 16s 1s/step - loss: 0.6391 - dice_coeff: 0.6141 - val_loss: 0.8654 - val_dice_coeff: 0.4804\n",
      "Epoch 11/100\n",
      "12/12 [==============================] - 16s 1s/step - loss: 0.6447 - dice_coeff: 0.6121 - val_loss: 0.8432 - val_dice_coeff: 0.4996\n",
      "Epoch 12/100\n",
      "12/12 [==============================] - 16s 1s/step - loss: 0.6391 - dice_coeff: 0.6137 - val_loss: 0.8243 - val_dice_coeff: 0.4992\n",
      "Epoch 13/100\n",
      "12/12 [==============================] - 16s 1s/step - loss: 0.6295 - dice_coeff: 0.6180 - val_loss: 0.8400 - val_dice_coeff: 0.4900\n",
      "Epoch 14/100\n",
      "12/12 [==============================] - 15s 1s/step - loss: 0.6274 - dice_coeff: 0.6185 - val_loss: 0.8670 - val_dice_coeff: 0.4683\n",
      "Epoch 15/100\n",
      "12/12 [==============================] - 16s 1s/step - loss: 0.6220 - dice_coeff: 0.6222 - val_loss: 0.8295 - val_dice_coeff: 0.5035\n",
      "Epoch 16/100\n"
     ]
    },
    {
     "name": "stdout",
     "output_type": "stream",
     "text": [
      "12/12 [==============================] - 15s 1s/step - loss: 0.6350 - dice_coeff: 0.6156 - val_loss: 0.7714 - val_dice_coeff: 0.5381\n",
      "Epoch 17/100\n",
      "12/12 [==============================] - 16s 1s/step - loss: 0.6068 - dice_coeff: 0.6297 - val_loss: 0.7667 - val_dice_coeff: 0.5384\n",
      "Epoch 18/100\n",
      "12/12 [==============================] - 16s 1s/step - loss: 0.6104 - dice_coeff: 0.6274 - val_loss: 0.7781 - val_dice_coeff: 0.5420\n",
      "Epoch 19/100\n",
      "12/12 [==============================] - 15s 1s/step - loss: 0.6020 - dice_coeff: 0.6313 - val_loss: 0.8507 - val_dice_coeff: 0.5349\n",
      "Epoch 20/100\n",
      "12/12 [==============================] - 15s 1s/step - loss: 0.6161 - dice_coeff: 0.6271 - val_loss: 0.8311 - val_dice_coeff: 0.5452\n",
      "Epoch 21/100\n",
      "12/12 [==============================] - 16s 1s/step - loss: 0.5956 - dice_coeff: 0.6338 - val_loss: 0.7640 - val_dice_coeff: 0.5604\n",
      "Epoch 22/100\n",
      "12/12 [==============================] - 16s 1s/step - loss: 0.5916 - dice_coeff: 0.6367 - val_loss: 0.7542 - val_dice_coeff: 0.5584\n",
      "Epoch 23/100\n",
      "12/12 [==============================] - 16s 1s/step - loss: 0.5819 - dice_coeff: 0.6419 - val_loss: 0.8334 - val_dice_coeff: 0.5303\n",
      "Epoch 24/100\n",
      "12/12 [==============================] - 16s 1s/step - loss: 0.6045 - dice_coeff: 0.6299 - val_loss: 1.0710 - val_dice_coeff: 0.5252\n",
      "Epoch 25/100\n",
      "12/12 [==============================] - 15s 1s/step - loss: 0.5756 - dice_coeff: 0.6455 - val_loss: 0.7440 - val_dice_coeff: 0.5696\n",
      "Epoch 26/100\n",
      "12/12 [==============================] - 16s 1s/step - loss: 0.5675 - dice_coeff: 0.6487 - val_loss: 0.7792 - val_dice_coeff: 0.5700\n",
      "Epoch 27/100\n",
      "12/12 [==============================] - 15s 1s/step - loss: 0.5684 - dice_coeff: 0.6484 - val_loss: 0.7332 - val_dice_coeff: 0.5606\n",
      "Epoch 28/100\n",
      "12/12 [==============================] - 16s 1s/step - loss: 0.5727 - dice_coeff: 0.6462 - val_loss: 0.7181 - val_dice_coeff: 0.5751\n",
      "Model saved to /tmp/tmpwgz1ciesGP2/unet_3.model\n",
      "History saved to /tmp/tmpwgz1ciesGP2/history_3.pickle\n",
      "Testing the classifier...\n",
      "94/94 [==============================] - 10s 104ms/step - loss: 0.7072 - dice_coeff: 0.5808\n",
      "Testing the discriminator...\n",
      "19/19 [==============================] - 1s 38ms/step - loss: 105.2882 - accuracy: 0.6583\n",
      "Found 120 machine labels.\n",
      "Machine labels [  2   4   5   9  11  13  14  17  19  22  30  32  36  38  41  42  51  53\n",
      "  65  73  80  81  95 101 109 111 131 138 141 149 150 155 158 160 161 164\n",
      " 166 169 171 183 192 198 203 211 212 221 234 236 238 255 260 261 262 270\n",
      " 275 277 278 280 281 286 290 292 298 302 311 318 322 324 327 335 342 360\n",
      " 363 375 388 400 402 403 405 410 413 416 419 429 430 437 446 447 451 452\n",
      " 453 454 456 457 459 471 476 483 488 493 495 498 510 514 515 520 522 523\n",
      " 525 548 551 556 563 567 572 578 592 593 594 598]\n",
      "D_ids ['ec1571e2-9c71-4655-a9ab-fd887af2dc1d', 'f0ef1488-b29b-4118-aeba-51b034f6b4a6', '7e616c5b-5245-4cb3-b247-a3dbc0b94f7a', 'bbb4e06d-2971-40f8-868e-452b3ffc23f8', '13dfa9f8-0b5e-49ad-a705-2aba690456c5', '41efcf09-263d-4d0a-ae6d-2cb1f72fc2d6', '2728ee92-103d-483d-a2f6-9709d6b382ec', '73b32f1d-9c1b-429d-977f-398533800fd3', '1543254d-c308-4af0-9a82-20305f04886d', 'b3e0403d-04c0-4651-a105-95ed0b4f8a6b', 'aa2c2eba-7547-4d27-9b3f-e08157452158', 'f9e1c241-8770-4938-84e4-d8440c0d090a', 'bc6ecfe5-02b9-4482-94bc-a7ff7207efd8', 'a6d71480-12b5-4da9-b30c-4bac057ba7fa', '4b98a043-f2a9-4f42-b479-360ad758d451', 'ca408850-9332-4321-a47a-c8773e11e397', '1b746ef3-7b44-402b-9431-1cc3dde00619', 'e15503b1-22f2-440c-9447-c416c0005c82', '3cff717f-1441-4896-9267-183d8533cad4', '9feb859e-e3b7-40f9-bc06-ba9b03cca2c9', 'a5a689c1-aafd-47b3-8f6c-76ff12ff0d94', '15f2272d-8380-43d6-99ca-9e989dcda3b1', 'b2df8f60-bce9-458d-b4ad-cc725ee6edad', 'b294b4f6-8da0-41ed-9461-be6544703b51', '0071605f-b52e-4688-a762-69bb31c5dbd7', 'e3f86ce7-62a4-48e1-83b6-b5602b92dd13', 'ce46b695-6e0d-4c54-9328-130ad130d84b', 'af549efc-436d-447a-88d0-c5d6503808de', '1e25dc11-f140-4063-a8cb-f8cdea0dcd44', 'ee84783b-c93a-4a4a-88e7-ac0817264ba1', 'f44f334c-b0df-400e-ba22-e12ecf90fe15', 'b07c3ecc-1523-4bcf-a1a2-c020c227a16c', 'f60c1a9f-6977-4447-a791-bc8222cf1422', 'aa5ba24b-a13c-42c6-93c6-0ee096bcd6dd', '5d7d9254-71d5-4671-81bf-b8cd0a9bdfb0', '76490d5a-2c83-477e-9acc-3d224a9c4ae5', '8eab2e6d-b698-4e7a-83ce-2f25b17a1f52', 'e37f6814-a6a2-4d80-ab39-8d70328391d1', '46656947-0dad-4176-ae65-11290d6e9a8c', 'f4e6f97b-731a-4ba7-9175-f6b5bad2469b', '823d8216-e68c-4cbb-be62-4e11d1bf87f1', 'fb162eb4-61e4-4cd5-b4ed-7b094eecd568', '54dca60c-875d-4dd0-a7ea-8f271b36ac61', '90c64aca-7287-4ccb-84bf-60518e1e7397', '83699ce8-1e5b-441a-9b84-f9000316263a', 'd704fa4b-b8be-46d0-9a57-314b6b485587', '45932e22-bd0d-4879-b1ba-fd1aa1700225', '36d7deb4-cf4b-4228-a8b9-6f61a87e0fcb', 'ff6e6322-ddd0-497a-b74d-b9a430d34cf7', '527512b0-3462-4be2-9120-8164afa7e3a5', '0d055831-5193-4fc8-8017-b4166a06d05d', '9ed524a4-ae2a-45a7-853e-d830c73acd2f', '2ded8427-2712-4753-adaf-4e6a6d35c28b', 'bfeccbdd-b600-4263-81a0-144a02a399c7', '396710b8-79b9-4de2-b7c4-791ef43b566a', 'c4d6cde0-6b88-47dd-b366-72a29ab53a91', '18c730b3-b2b8-4af1-9393-1647795d5630', '42a64c9d-b0a7-4295-ae2d-660cdbe178ef', '7ee4938a-66f4-4a0e-9b69-945e53ed31cb', 'b3920359-0fcd-42ff-abbd-bb93cc8fcf3a', 'ebbca4b7-4c53-4243-87bb-7743e8f41f83', 'd8b3d179-c709-4a34-9fd2-d13ae2636779', '3518568a-c4df-4146-b497-e3f8736e953c', 'cd3a16bb-dd25-4130-b1ee-9f9e2c673b1b', '0580d43f-8ccd-4fc6-b297-12919e2e799a', 'ec20fd28-a6ea-4c5a-8518-2550a234e20d', '5aeabab8-4e93-4d3e-bb36-1211863f06d4', 'ab995272-4b73-4343-a3dd-3b9044b964be', 'c435fba8-488e-4a33-8d84-9e1c9debe435', '4e707c8b-a4e9-4224-ab7a-bedc6be66550', '741e74cd-465c-4856-b49c-03076ff22e67', '58990589-b31b-438f-900e-da9e5d436005', '1eadfc72-6236-4bde-a8f4-0c32f33489b1', 'ee83cd8c-5f0d-4abf-a202-15d41a01e0dc', 'bad1a6a1-a8cf-468c-9ccc-1341dbbd0b0a', '26146384-3764-4aba-b989-35ea9e130185', 'e5e8abdd-c9ee-4a7e-90d1-ec288ab6e4f3', '3c443239-48a9-4b11-8265-0316cd3e2f03', '571ce53a-450d-4a6f-af29-9f04f9e97a5d', 'd71b0cce-d6d7-456c-8fa5-c9d8d6010707', '259c7e7a-2c02-4c11-9d2e-acfa9712e02b', '93c948b0-6b43-4c66-b987-d86375b82f85', '72cfdcc0-4384-4b9c-a2d3-a0c2529b749d', '0049b2dd-bf54-4389-ae96-cab9b3110014', 'c368f6ba-bd7d-4d85-8050-2a0ca35e7df2', '643c31fc-f9b4-4aaf-81c5-da2cb781f84c', '19718192-a2e5-4dd1-bc8c-36937e6cca93', 'ccb4bfa5-785e-40cf-b775-5a91abb25f7b', '9a0732ee-364c-48f0-8486-28ac9546346d', '2b0e5de1-c5f0-431d-b6c3-f0faabef6813', 'c31b3441-276c-4165-983a-0acd139fb9a0', 'a9e61bd8-4f6d-4f4a-a4b1-b113afaa4816', 'eadaf966-ba5f-41e2-97e5-fba080fd5f0b', 'a3b9e4d0-ad0b-4897-9f49-33f68cd2581e', '6b7c40f2-c36b-461c-880d-c6575099f139', '3a678a86-fa4e-44af-9e20-aaadff162993', '72f8fbef-008f-4af7-b6d0-a03f903165c1', '932dead1-a74d-4bf6-a508-bd86ab8bd0c6', 'cfa37b7f-9141-4ae6-848a-3bdc91898730', 'f03cfc8a-8ff1-4183-8e8a-19e1a1693eb5', '5f9776f4-db81-49f1-9065-97c90c7e2c02', '76ea0c00-3698-49d8-8a3d-74011f4198aa', 'e8344adc-27cd-444c-b6a4-2bc0591b7d91', '79a2bb98-a592-46f4-a177-c173ab9b57a9', '537bc28d-a1be-40b5-ab30-225862428688', 'e2b90e8d-859f-4c88-b58d-b9d8297a914a', '11db0032-bcce-40f0-82bd-3899b854bcb3', 'b38904cb-4208-41af-9f94-fd27ced910a7', '32c485c9-a5bb-4fc4-b57a-00fbbbafb165', '2af916da-1afb-4e82-a16e-2ab976388ef3', '08b568a5-39f5-43d1-ad60-6fd693dda766', 'f2b60f1c-f9c2-4bee-8bed-5c1c6c87f9f2', 'fa69f98f-1a9b-4145-b240-a809135ec34b', '4dae00d9-3ff8-4eea-bf14-c025bd383616', '2da56124-ad1e-41cd-af07-d027df55bffa', 'd67ba546-c481-449b-b4ec-c19a56e3e3c5', '04bc4ef5-1122-4b42-a0f1-00c7d316ec50', '37335824-33b9-4b26-9c0d-7358f02a6efb', 'cc0e5c76-2acd-48e5-afc1-e1b28c74c1d6', '234b20ed-c229-4916-a2c6-3f3443f97394']\n",
      "Replacing 40 from 120 !\n",
      "D_relabeled_ 40\n",
      "selected_ids ['73b32f1d-9c1b-429d-977f-398533800fd3', '11db0032-bcce-40f0-82bd-3899b854bcb3', 'aa5ba24b-a13c-42c6-93c6-0ee096bcd6dd', 'ff6e6322-ddd0-497a-b74d-b9a430d34cf7', '18c730b3-b2b8-4af1-9393-1647795d5630', '741e74cd-465c-4856-b49c-03076ff22e67', '04bc4ef5-1122-4b42-a0f1-00c7d316ec50', '396710b8-79b9-4de2-b7c4-791ef43b566a', '54dca60c-875d-4dd0-a7ea-8f271b36ac61', 'b38904cb-4208-41af-9f94-fd27ced910a7', '79a2bb98-a592-46f4-a177-c173ab9b57a9', 'f9e1c241-8770-4938-84e4-d8440c0d090a', 'fa69f98f-1a9b-4145-b240-a809135ec34b', '1eadfc72-6236-4bde-a8f4-0c32f33489b1', 'b3920359-0fcd-42ff-abbd-bb93cc8fcf3a', '19718192-a2e5-4dd1-bc8c-36937e6cca93', '3cff717f-1441-4896-9267-183d8533cad4', '76490d5a-2c83-477e-9acc-3d224a9c4ae5', '13dfa9f8-0b5e-49ad-a705-2aba690456c5', 'ee84783b-c93a-4a4a-88e7-ac0817264ba1', 'd8b3d179-c709-4a34-9fd2-d13ae2636779', 'b3e0403d-04c0-4651-a105-95ed0b4f8a6b', '527512b0-3462-4be2-9120-8164afa7e3a5', 'c368f6ba-bd7d-4d85-8050-2a0ca35e7df2', 'c31b3441-276c-4165-983a-0acd139fb9a0', '259c7e7a-2c02-4c11-9d2e-acfa9712e02b', 'f44f334c-b0df-400e-ba22-e12ecf90fe15', 'e37f6814-a6a2-4d80-ab39-8d70328391d1', 'd67ba546-c481-449b-b4ec-c19a56e3e3c5', 'ec1571e2-9c71-4655-a9ab-fd887af2dc1d', '41efcf09-263d-4d0a-ae6d-2cb1f72fc2d6', 'b2df8f60-bce9-458d-b4ad-cc725ee6edad', 'bc6ecfe5-02b9-4482-94bc-a7ff7207efd8', '2b0e5de1-c5f0-431d-b6c3-f0faabef6813', '823d8216-e68c-4cbb-be62-4e11d1bf87f1', '2da56124-ad1e-41cd-af07-d027df55bffa', 'bad1a6a1-a8cf-468c-9ccc-1341dbbd0b0a', '0580d43f-8ccd-4fc6-b297-12919e2e799a', '3a678a86-fa4e-44af-9e20-aaadff162993', 'cc0e5c76-2acd-48e5-afc1-e1b28c74c1d6']\n",
      "dict_keys(['73b32f1d-9c1b-429d-977f-398533800fd3', '11db0032-bcce-40f0-82bd-3899b854bcb3', 'aa5ba24b-a13c-42c6-93c6-0ee096bcd6dd', 'ff6e6322-ddd0-497a-b74d-b9a430d34cf7', '18c730b3-b2b8-4af1-9393-1647795d5630', '741e74cd-465c-4856-b49c-03076ff22e67', '04bc4ef5-1122-4b42-a0f1-00c7d316ec50', '396710b8-79b9-4de2-b7c4-791ef43b566a', '54dca60c-875d-4dd0-a7ea-8f271b36ac61', 'b38904cb-4208-41af-9f94-fd27ced910a7', '79a2bb98-a592-46f4-a177-c173ab9b57a9', 'f9e1c241-8770-4938-84e4-d8440c0d090a', 'fa69f98f-1a9b-4145-b240-a809135ec34b', '1eadfc72-6236-4bde-a8f4-0c32f33489b1', 'b3920359-0fcd-42ff-abbd-bb93cc8fcf3a', '19718192-a2e5-4dd1-bc8c-36937e6cca93', '3cff717f-1441-4896-9267-183d8533cad4', '76490d5a-2c83-477e-9acc-3d224a9c4ae5', '13dfa9f8-0b5e-49ad-a705-2aba690456c5', 'ee84783b-c93a-4a4a-88e7-ac0817264ba1', 'd8b3d179-c709-4a34-9fd2-d13ae2636779', 'b3e0403d-04c0-4651-a105-95ed0b4f8a6b', '527512b0-3462-4be2-9120-8164afa7e3a5', 'c368f6ba-bd7d-4d85-8050-2a0ca35e7df2', 'c31b3441-276c-4165-983a-0acd139fb9a0', '259c7e7a-2c02-4c11-9d2e-acfa9712e02b', 'f44f334c-b0df-400e-ba22-e12ecf90fe15', 'e37f6814-a6a2-4d80-ab39-8d70328391d1', 'd67ba546-c481-449b-b4ec-c19a56e3e3c5', 'ec1571e2-9c71-4655-a9ab-fd887af2dc1d', '41efcf09-263d-4d0a-ae6d-2cb1f72fc2d6', 'b2df8f60-bce9-458d-b4ad-cc725ee6edad', 'bc6ecfe5-02b9-4482-94bc-a7ff7207efd8', '2b0e5de1-c5f0-431d-b6c3-f0faabef6813', '823d8216-e68c-4cbb-be62-4e11d1bf87f1', '2da56124-ad1e-41cd-af07-d027df55bffa', 'bad1a6a1-a8cf-468c-9ccc-1341dbbd0b0a', '0580d43f-8ccd-4fc6-b297-12919e2e799a', '3a678a86-fa4e-44af-9e20-aaadff162993', 'cc0e5c76-2acd-48e5-afc1-e1b28c74c1d6'])\n",
      "point ids 40\n",
      "Removed: 40 Filled: 40\n",
      "TOOK 745.9216258525848 seconds\n",
      "***\n",
      "RUN: 4\n"
     ]
    },
    {
     "name": "stdout",
     "output_type": "stream",
     "text": [
      "Epoch 1/100\n",
      "13/13 [==============================] - 22s 2s/step - loss: 0.5901 - dice_coeff: 0.6246 - val_loss: 0.9553 - val_dice_coeff: 0.5162\n",
      "Epoch 2/100\n",
      "13/13 [==============================] - 17s 1s/step - loss: 0.5838 - dice_coeff: 0.6337 - val_loss: 0.7393 - val_dice_coeff: 0.5587\n",
      "Epoch 3/100\n",
      "13/13 [==============================] - 16s 1s/step - loss: 0.5718 - dice_coeff: 0.6393 - val_loss: 0.7096 - val_dice_coeff: 0.5749\n",
      "Epoch 4/100\n",
      "13/13 [==============================] - 17s 1s/step - loss: 0.5902 - dice_coeff: 0.6348 - val_loss: 0.7202 - val_dice_coeff: 0.5748\n",
      "Epoch 5/100\n",
      "13/13 [==============================] - 16s 1s/step - loss: 0.5709 - dice_coeff: 0.6336 - val_loss: 0.7889 - val_dice_coeff: 0.5553\n",
      "Epoch 6/100\n",
      "13/13 [==============================] - 16s 1s/step - loss: 0.5676 - dice_coeff: 0.6429 - val_loss: 0.7255 - val_dice_coeff: 0.5781\n",
      "Epoch 7/100\n",
      "13/13 [==============================] - 16s 1s/step - loss: 0.5590 - dice_coeff: 0.6482 - val_loss: 0.7106 - val_dice_coeff: 0.5719\n",
      "Epoch 8/100\n",
      "13/13 [==============================] - 16s 1s/step - loss: 0.5700 - dice_coeff: 0.6412 - val_loss: 0.7315 - val_dice_coeff: 0.5782\n",
      "Epoch 9/100\n",
      "13/13 [==============================] - 16s 1s/step - loss: 0.5472 - dice_coeff: 0.6531 - val_loss: 0.7200 - val_dice_coeff: 0.5885\n",
      "Epoch 10/100\n",
      "13/13 [==============================] - 16s 1s/step - loss: 0.5511 - dice_coeff: 0.6515 - val_loss: 0.8040 - val_dice_coeff: 0.5454\n",
      "Epoch 11/100\n",
      "13/13 [==============================] - 16s 1s/step - loss: 0.5599 - dice_coeff: 0.6515 - val_loss: 0.6925 - val_dice_coeff: 0.5809\n",
      "Model saved to /tmp/tmpwgz1ciesGP2/unet_4.model\n",
      "History saved to /tmp/tmpwgz1ciesGP2/history_4.pickle\n",
      "Testing the classifier...\n",
      "94/94 [==============================] - 10s 101ms/step - loss: 0.7004 - dice_coeff: 0.5818\n",
      "Testing the discriminator...\n",
      "19/19 [==============================] - 1s 38ms/step - loss: 87.0150 - accuracy: 0.6767\n",
      "Found 124 machine labels.\n",
      "Machine labels [  0   5   8  22  24  25  29  31  32  41  60  62  65  66  81  82  84  98\n",
      " 100 104 110 125 131 135 137 139 146 157 161 163 170 171 173 177 183 186\n",
      " 190 191 194 200 205 212 213 224 227 232 249 255 257 268 270 278 281 287\n",
      " 291 292 296 300 301 306 309 312 317 319 329 332 337 340 351 352 356 358\n",
      " 360 361 373 374 375 383 384 388 398 399 407 414 420 422 424 426 429 439\n",
      " 444 445 448 460 467 468 490 491 498 499 500 503 507 508 512 518 521 522\n",
      " 530 535 553 562 564 568 569 572 573 576 577 578 586 594 595 599]\n",
      "D_ids ['ae6c74ec-0f90-4cff-b66a-675fb89c6f9c', 'c243a815-288c-49d4-882f-8398fa04ffa1', '3e9e3be8-668c-4bec-9993-b53949928ff0', 'd2deae52-1892-491c-983c-ffd0d69ac962', '18ffbd4b-1408-4428-bcdd-b14efddbb80a', '24f0c469-c35d-4a50-830c-5772145cead4', '7552abd5-39f1-47d6-a957-052d03b1b9ab', '5aeabab8-4e93-4d3e-bb36-1211863f06d4', '14d788c9-d84f-4c03-a2d9-5d5ff701050b', 'd6dc90c6-49b2-46d2-8658-0c7b81625d81', '981d473d-89b7-4a96-969f-9b6be688a853', '2ece948c-af93-45e3-9595-211513d5f2e6', 'edbb19a0-85ee-4e95-91fa-bfe69446bdaa', '45932e22-bd0d-4879-b1ba-fd1aa1700225', 'c393254e-8153-47d5-b670-cdf125627157', '6ac56eab-e2e2-449e-8477-00396630d9b5', '4218ccef-6a76-4907-af9a-186081732cc2', '88f5f82c-8378-4d40-8834-e7a4346ba6dd', '6e409ff7-4742-4bb9-be66-01f8a8c1a491', '21a65c6d-df31-450c-976b-d0adae503ebd', '49aeeaa8-dd59-484d-9401-6b83405fabb3', '32d64d1e-6da1-454e-8bc3-64ae5d7243c2', '0cef3437-f6b4-4af4-906d-1edacd38f336', 'e1368588-0688-45e8-98bd-698ccf79137e', 'b577f5c5-d9c9-4ff3-979d-afaa7986e2c3', 'aeb195dd-943a-4935-96b3-c847747f4a32', 'bc2b43f9-bd9b-4d1f-b5bc-9717665935ab', '4fdcc6ea-48a7-4eb7-8f9a-944447eee7a6', '17275c2f-2c67-45c0-ba4a-08c45b80e888', 'f3105f28-bacb-49c6-9570-8a359fd7364b', 'a66ae296-02ea-4b9d-b69e-c27e82c08aa8', 'c1a7ef4b-7649-4da7-b2b6-e767cc9dfd9c', 'b527a410-b03f-41a4-b4ad-5e3f60f89163', '24d782d2-6c9b-4830-85ed-777f8604f336', 'ecdeb10c-3168-41bd-93ba-5cf48aeed7e5', 'bfeccbdd-b600-4263-81a0-144a02a399c7', '96235161-18f1-47a6-95aa-c4226cf91882', 'c32bdb50-986a-4a49-94c4-49182232db79', '402a95ff-5d29-45f9-8578-e8edafe73339', '3dd72b4b-937d-4ecc-8bee-b63518b0d82e', '2b1fb7d0-e23d-4def-98cc-e09155e389bb', '96973f98-8059-4323-b4c6-41b4dfc95468', 'ab342a48-5338-41cf-a009-35ef614c26e4', '7e9328fe-c0c7-475f-8b92-9e02140d32ce', '12a8aea7-7771-4d55-b923-e4bcc362938a', '19e3fce9-4b7d-4d08-8b71-ba8d6a4c86f2', 'd7526641-d2ac-482c-819e-247ec49a171e', '95adea97-77aa-4bc5-a46d-2ea6c30c1b4c', 'b7bcdff1-55ed-4a5c-b695-ebc4543fe66b', 'c55ff25d-02c3-416f-8c02-8f861dd3e04c', '7b59dce0-a5f5-4f71-87f9-ef78e2387250', '82ae5bae-173e-4b65-92b0-a323b4d79c1b', '1980ef5a-d405-4261-a2e1-18d50c9dac74', '2b99f524-b5ee-40cf-a2c7-8c2da385f012', '2aad2474-a1b7-40a6-919d-7031d6a4f430', '0f573dab-85b6-490d-8d5b-5c45b0b1984f', '858c9998-fca3-48d0-ba96-0acb39cd2e5a', 'da960e5f-76b7-4f87-a775-686d6dfab34f', '50e6705a-49fe-4214-9cfa-f64aed3c12e2', '460153e3-147d-4ee7-9fe8-d796c8fac5f9', '0a75b82b-a099-4e98-a7bb-f84595f87c1d', '9d8e12d8-e0a8-4e37-9145-1e777068bf80', '4e85365a-b927-46f3-8df5-8598eb822573', '460ef137-cbde-4f98-8553-dd75cc670534', '32c485c9-a5bb-4fc4-b57a-00fbbbafb165', '128a6748-bdc3-4b24-8c40-5f932ed591bd', '777bcf66-cc73-4c3d-9fd2-54440175ce42', '9008336b-9d2b-45d3-9ef9-4e11f24ee7a5', 'eee0884c-1250-457a-9f37-049608d0b231', 'b707cc81-cd0d-41cd-8175-0a3073062d75', '932dead1-a74d-4bf6-a508-bd86ab8bd0c6', '9b566336-ee01-4e35-8e44-96bd43fcc722', '8db17cba-e2de-4c2e-b67c-52aad3f508db', '4f1d5d7d-0054-4911-b0a4-6fb6b4e8094e', '184cea6c-af20-439e-9dea-2f972bd8384c', '19d70caf-86a5-4a6a-a443-9bcb372c92d6', '14baaa72-773c-4bcd-86da-f683a8d9bb56', '410ad4df-3615-4e43-aacb-85cceaf6ad12', '6acb30e6-a1dc-4a6c-86ad-aa2a62848257', '5a0287fd-906d-4bd4-94fe-51fd545f12c0', 'c9bac5d1-d601-4b4f-8275-2323d003d729', '19204508-a0fe-43fd-8362-de3606398fab', '1f68119a-f950-498d-9559-b5da023ce9c2', 'a62e894e-2670-479a-b084-8d3930d9a200', 'be0124e6-3f9e-49c5-bcb9-7bb44439b5b9', 'e6cf0059-c0dd-42cc-bc45-9c06a15dddf8', '897b8178-e1b4-44ea-8628-5d6cb88c4de4', '62923c04-6785-4ed9-abee-6f433a37cd4a', '42b70366-3f76-48dd-9728-1d7c1796d426', '2a9babec-dd6b-4431-963a-c0c367efccae', '32363556-195b-4bf7-99ac-b4e5cefe5faf', '16f37493-6e0a-47bc-959c-2f0daa5d2176', '379de82c-b195-4d36-9fae-f2ccde053358', '5d7d9254-71d5-4671-81bf-b8cd0a9bdfb0', '8dac3d4a-b31d-4e49-a4ec-d07dc6ea07a4', '7793c7cc-8ec3-40b2-baf5-5a80eaf65a9e', '4e30731a-05bb-467c-aa38-d7dd927b593b', '10c96bb5-9f68-4d81-978f-8e1f2cea8758', '6a8bc8fa-c061-4448-ba02-f57420f479e5', '67dc96d7-f09d-4511-9c81-c677fe5515e5', 'c4d6cde0-6b88-47dd-b366-72a29ab53a91', 'bd0d2d95-1846-4574-bd53-cee462c11d42', 'b9659885-59ce-4b0a-8d4d-af1a52b1593f', '0b89dc8b-d496-4cf0-9c89-2388104186b5', '00520e64-5d52-4e7f-8a9f-30b24db60dff', '1c28f95b-6aa2-4fb6-b3c7-5ccb298a17b3', 'ee83cd8c-5f0d-4abf-a202-15d41a01e0dc', 'e3db10a9-e46c-4876-8e25-335b6faf4474', 'ea12bac8-b5a3-43c8-ad37-bce29025fc77', '825f4bce-7471-4427-84d5-fa8562a5dd5c', '7eebb1bb-5979-49b3-9014-cee2fecc924d', '46cdac54-7352-4c95-9f20-69703075c7e9', '7ea9b494-a2aa-400b-bc17-d8a0798344ad', 'cdb15ed2-3946-4ce4-a8a2-e5a2d5f437f7', '24ce09b6-7443-4bc1-a61a-54e9c224ff2a', '5d261499-984a-418d-a2e8-e2e60bc64430', '663f4ab1-7a2c-4cf0-8858-99e6efa381a0', '76cd7189-8f60-4615-bbc0-1ebce94de0bc', '077da744-281a-40e5-bf0b-ee95a252e884', '1c09b06f-a995-4d5e-a0ab-0ae8157469ca', '1604b267-dd04-49d0-995f-fdce7b447e24', '8daf9c38-5c3b-4c7b-9d81-4299a02fa213', '2ac47033-dbf6-44db-a4de-4520c29bb6b8', '9502eade-f5e9-4469-8ad1-c2be72855c72']\n",
      "Replacing 41 from 124 !\n",
      "D_relabeled_ 41\n",
      "selected_ids ['eee0884c-1250-457a-9f37-049608d0b231', '46cdac54-7352-4c95-9f20-69703075c7e9', '128a6748-bdc3-4b24-8c40-5f932ed591bd', '2ac47033-dbf6-44db-a4de-4520c29bb6b8', '3dd72b4b-937d-4ecc-8bee-b63518b0d82e', '14d788c9-d84f-4c03-a2d9-5d5ff701050b', '077da744-281a-40e5-bf0b-ee95a252e884', '7552abd5-39f1-47d6-a957-052d03b1b9ab', '4e30731a-05bb-467c-aa38-d7dd927b593b', '10c96bb5-9f68-4d81-978f-8e1f2cea8758', '4218ccef-6a76-4907-af9a-186081732cc2', '17275c2f-2c67-45c0-ba4a-08c45b80e888', 'ecdeb10c-3168-41bd-93ba-5cf48aeed7e5', '5aeabab8-4e93-4d3e-bb36-1211863f06d4', 'ab342a48-5338-41cf-a009-35ef614c26e4', '9502eade-f5e9-4469-8ad1-c2be72855c72', '2ece948c-af93-45e3-9595-211513d5f2e6', '777bcf66-cc73-4c3d-9fd2-54440175ce42', 'e3db10a9-e46c-4876-8e25-335b6faf4474', '82ae5bae-173e-4b65-92b0-a323b4d79c1b', 'e6cf0059-c0dd-42cc-bc45-9c06a15dddf8', '9d8e12d8-e0a8-4e37-9145-1e777068bf80', 'b9659885-59ce-4b0a-8d4d-af1a52b1593f', 'f3105f28-bacb-49c6-9570-8a359fd7364b', '8dac3d4a-b31d-4e49-a4ec-d07dc6ea07a4', 'aeb195dd-943a-4935-96b3-c847747f4a32', '897b8178-e1b4-44ea-8628-5d6cb88c4de4', 'c55ff25d-02c3-416f-8c02-8f861dd3e04c', 'b7bcdff1-55ed-4a5c-b695-ebc4543fe66b', 'b577f5c5-d9c9-4ff3-979d-afaa7986e2c3', '825f4bce-7471-4427-84d5-fa8562a5dd5c', 'ee83cd8c-5f0d-4abf-a202-15d41a01e0dc', '2aad2474-a1b7-40a6-919d-7031d6a4f430', 'bc2b43f9-bd9b-4d1f-b5bc-9717665935ab', 'b707cc81-cd0d-41cd-8175-0a3073062d75', 'c32bdb50-986a-4a49-94c4-49182232db79', '0b89dc8b-d496-4cf0-9c89-2388104186b5', 'be0124e6-3f9e-49c5-bcb9-7bb44439b5b9', '50e6705a-49fe-4214-9cfa-f64aed3c12e2', 'a62e894e-2670-479a-b084-8d3930d9a200', '16f37493-6e0a-47bc-959c-2f0daa5d2176']\n",
      "dict_keys(['eee0884c-1250-457a-9f37-049608d0b231', '46cdac54-7352-4c95-9f20-69703075c7e9', '128a6748-bdc3-4b24-8c40-5f932ed591bd', '2ac47033-dbf6-44db-a4de-4520c29bb6b8', '3dd72b4b-937d-4ecc-8bee-b63518b0d82e', '14d788c9-d84f-4c03-a2d9-5d5ff701050b', '077da744-281a-40e5-bf0b-ee95a252e884', '7552abd5-39f1-47d6-a957-052d03b1b9ab', '4e30731a-05bb-467c-aa38-d7dd927b593b', '10c96bb5-9f68-4d81-978f-8e1f2cea8758', '4218ccef-6a76-4907-af9a-186081732cc2', '17275c2f-2c67-45c0-ba4a-08c45b80e888', 'ecdeb10c-3168-41bd-93ba-5cf48aeed7e5', '5aeabab8-4e93-4d3e-bb36-1211863f06d4', 'ab342a48-5338-41cf-a009-35ef614c26e4', '9502eade-f5e9-4469-8ad1-c2be72855c72', '2ece948c-af93-45e3-9595-211513d5f2e6', '777bcf66-cc73-4c3d-9fd2-54440175ce42', 'e3db10a9-e46c-4876-8e25-335b6faf4474', '82ae5bae-173e-4b65-92b0-a323b4d79c1b', 'e6cf0059-c0dd-42cc-bc45-9c06a15dddf8', '9d8e12d8-e0a8-4e37-9145-1e777068bf80', 'b9659885-59ce-4b0a-8d4d-af1a52b1593f', 'f3105f28-bacb-49c6-9570-8a359fd7364b', '8dac3d4a-b31d-4e49-a4ec-d07dc6ea07a4', 'aeb195dd-943a-4935-96b3-c847747f4a32', '897b8178-e1b4-44ea-8628-5d6cb88c4de4', 'c55ff25d-02c3-416f-8c02-8f861dd3e04c', 'b7bcdff1-55ed-4a5c-b695-ebc4543fe66b', 'b577f5c5-d9c9-4ff3-979d-afaa7986e2c3', '825f4bce-7471-4427-84d5-fa8562a5dd5c', 'ee83cd8c-5f0d-4abf-a202-15d41a01e0dc', '2aad2474-a1b7-40a6-919d-7031d6a4f430', 'bc2b43f9-bd9b-4d1f-b5bc-9717665935ab', 'b707cc81-cd0d-41cd-8175-0a3073062d75', 'c32bdb50-986a-4a49-94c4-49182232db79', '0b89dc8b-d496-4cf0-9c89-2388104186b5', 'be0124e6-3f9e-49c5-bcb9-7bb44439b5b9', '50e6705a-49fe-4214-9cfa-f64aed3c12e2', 'a62e894e-2670-479a-b084-8d3930d9a200', '16f37493-6e0a-47bc-959c-2f0daa5d2176'])\n",
      "point ids 41\n",
      "Removed: 41 Filled: 41\n",
      "TOOK 326.7102704048157 seconds\n"
     ]
    }
   ],
   "source": [
    "for run in range(RUNS):\n",
    "    print('***')\n",
    "    print('RUN:', run)\n",
    "    t0 = time.time()\n",
    "    R.run_classifier()\n",
    "    R.run_discriminator()\n",
    "    l = R.find_machine_labels()\n",
    "    if l == 0:\n",
    "        print('No more machine labels.')\n",
    "        print('TOOK', time.time()-t0, 'seconds')\n",
    "        break\n",
    "    R.relabel(percent_to_replace=PERCENT_TO_REPLACE)\n",
    "    print('TOOK', time.time()-t0, 'seconds')\n",
    "    "
   ]
  },
  {
   "cell_type": "code",
   "execution_count": null,
   "id": "a76a4615",
   "metadata": {},
   "outputs": [],
   "source": []
  },
  {
   "cell_type": "code",
   "execution_count": 12,
   "id": "00075332",
   "metadata": {},
   "outputs": [
    {
     "data": {
      "text/plain": [
       "[[1.3378294706344604, 0.2288655787706375],\n",
       " [1.3180347681045532, 0.20906543731689453],\n",
       " [1.142594575881958, 0.3115226924419403],\n",
       " [0.7072317600250244, 0.5808258056640625],\n",
       " [0.700391948223114, 0.5818061232566833]]"
      ]
     },
     "execution_count": 12,
     "metadata": {},
     "output_type": "execute_result"
    }
   ],
   "source": [
    "R.classifier_scores"
   ]
  },
  {
   "cell_type": "code",
   "execution_count": 13,
   "id": "35105656",
   "metadata": {},
   "outputs": [
    {
     "data": {
      "text/plain": [
       "[[1.1168154969709576e-06, 1.0],\n",
       " [4.845439252676442e-05, 1.0],\n",
       " [32.593990325927734, 0.8316666483879089],\n",
       " [105.2882308959961, 0.6583333611488342],\n",
       " [87.0150146484375, 0.6766666769981384]]"
      ]
     },
     "execution_count": 13,
     "metadata": {},
     "output_type": "execute_result"
    }
   ],
   "source": [
    "R.discriminator_scores"
   ]
  },
  {
   "cell_type": "code",
   "execution_count": 14,
   "id": "0a721a90",
   "metadata": {},
   "outputs": [
    {
     "data": {
      "image/png": "[encoded data removed]",
      "text/plain": [
       "<Figure size 240x240 with 1 Axes>"
      ]
     },
     "metadata": {
      "needs_background": "light"
     },
     "output_type": "display_data"
    }
   ],
   "source": [
    "R.plot()"
   ]
  },
  {
   "cell_type": "code",
   "execution_count": null,
   "id": "551de181",
   "metadata": {},
   "outputs": [],
   "source": []
  },
  {
   "cell_type": "code",
   "execution_count": null,
   "id": "93739320",
   "metadata": {},
   "outputs": [],
   "source": []
  },
  {
   "cell_type": "code",
   "execution_count": null,
   "id": "dab6fd49",
   "metadata": {},
   "outputs": [],
   "source": []
  }
 ],
 "metadata": {
  "kernelspec": {
   "display_name": "Python 3 (ipykernel)",
   "language": "python",
   "name": "python3"
  },
  "language_info": {
   "codemirror_mode": {
    "name": "ipython",
    "version": 3
   },
   "file_extension": ".py",
   "mimetype": "text/x-python",
   "name": "python",
   "nbconvert_exporter": "python",
   "pygments_lexer": "ipython3",
   "version": "3.9.7"
  }
 },
 "nbformat": 4,
 "nbformat_minor": 5
}
