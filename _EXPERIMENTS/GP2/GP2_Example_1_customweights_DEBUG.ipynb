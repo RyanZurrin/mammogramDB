{
 "cells": [
  {
   "cell_type": "code",
   "execution_count": 14,
   "id": "06c4accc",
   "metadata": {},
   "outputs": [
    {
     "name": "stdout",
     "output_type": "stream",
     "text": [
      "Populating the interactive namespace from numpy and matplotlib\n",
      "The autoreload extension is already loaded. To reload it, use:\n",
      "  %reload_ext autoreload\n"
     ]
    }
   ],
   "source": [
    "%pylab inline\n",
    "%load_ext autoreload\n",
    "%autoreload 2"
   ]
  },
  {
   "cell_type": "code",
   "execution_count": 15,
   "id": "3b313506",
   "metadata": {},
   "outputs": [],
   "source": [
    "import time"
   ]
  },
  {
   "cell_type": "code",
   "execution_count": 16,
   "id": "b9e78ed8",
   "metadata": {},
   "outputs": [],
   "source": [
    "from runner import Runner"
   ]
  },
  {
   "cell_type": "code",
   "execution_count": 17,
   "id": "bdc75325",
   "metadata": {},
   "outputs": [
    {
     "name": "stdout",
     "output_type": "stream",
     "text": [
      "*** GP2 ***\n",
      "Working directory: /tmp/tmp8gpyyr0xGP2\n"
     ]
    }
   ],
   "source": [
    "R = Runner(verbose=False)"
   ]
  },
  {
   "cell_type": "code",
   "execution_count": 18,
   "id": "87b0c65d",
   "metadata": {},
   "outputs": [],
   "source": [
    "# load our larger toy dataset (10k images and masks)\n",
    "images = np.load('/raid/mpsych/GP2TOYEXAMPLE/images.npy')\n",
    "masks = np.load('/raid/mpsych/GP2TOYEXAMPLE/labels.npy')"
   ]
  },
  {
   "cell_type": "code",
   "execution_count": 19,
   "id": "de6e88eb",
   "metadata": {},
   "outputs": [
    {
     "data": {
      "text/plain": [
       "(1000, 512, 512, 1)"
      ]
     },
     "execution_count": 19,
     "metadata": {},
     "output_type": "execute_result"
    }
   ],
   "source": [
    "masks.shape"
   ]
  },
  {
   "cell_type": "code",
   "execution_count": 20,
   "id": "1dd71668",
   "metadata": {},
   "outputs": [],
   "source": [
    "weights = {\n",
    "    'A': 0.5,\n",
    "    'A_train': 0.1,\n",
    "    'A_val': 0.3,\n",
    "    'A_test': 0.6,\n",
    "    'B': 0.3,\n",
    "    'B_train': 0.7,\n",
    "    'B_val': 0.1,\n",
    "    'B_test': 0.2,\n",
    "    'Z': 0.2\n",
    "}\n",
    "PERCENT_TO_REPLACE = 30"
   ]
  },
  {
   "cell_type": "code",
   "execution_count": 21,
   "id": "2a5d1030",
   "metadata": {},
   "outputs": [
    {
     "name": "stdout",
     "output_type": "stream",
     "text": [
      "Weights OK!\n"
     ]
    }
   ],
   "source": [
    "#\n",
    "#\n",
    "R.setup_data(images, masks, dataset_size=1000, weights=weights)"
   ]
  },
  {
   "cell_type": "code",
   "execution_count": 22,
   "id": "99127251",
   "metadata": {},
   "outputs": [],
   "source": [
    "RUNS = 10"
   ]
  },
  {
   "cell_type": "code",
   "execution_count": 23,
   "id": "d8ff85c4",
   "metadata": {
    "scrolled": false
   },
   "outputs": [
    {
     "name": "stdout",
     "output_type": "stream",
     "text": [
      "***\n",
      "RUN: 0\n",
      "Model saved to /tmp/tmp8gpyyr0xGP2/unet_0.model\n",
      "History saved to /tmp/tmp8gpyyr0xGP2/history_0.pickle\n",
      "Testing the classifier...\n",
      "10/10 [==============================] - 1s 86ms/step - loss: 1.4207 - dice_coeff: 0.2146\n",
      "Model saved to /tmp/tmp8gpyyr0xGP2/cnnd_0.model\n",
      "History saved to /tmp/tmp8gpyyr0xGP2/cnnd_history_0.pickle\n",
      "Testing the discriminator...\n",
      "2/2 [==============================] - 0s 22ms/step - loss: 0.0449 - accuracy: 0.9833\n",
      "Found 26 machine labels.\n",
      "Machine labels [ 0  1  2  5  6  9 10 11 19 21 24 30 31 36 37 41 42 43 44 45 46 48 52 53\n",
      " 54 59]\n",
      "D_ids ['cc2ca11a-8b2a-4c0b-9c68-4f87c97dec83', '4504e742-c98d-4e5b-b498-af0cd4a35a87', '9ac04e0d-0d46-4ffb-9981-b0aa8741194b', 'd3226ac1-28d8-4565-b903-79925624fc53', '397857de-0bc8-4cd3-86d5-1a2c7ca25448', '28af7c21-9a93-44a5-95ff-e61079648ec7', 'f44f0362-76a2-4d9f-ab5e-561413194ce6', 'c38f10ef-8b81-46f3-8d5d-117703cfd2a3', 'f895351d-0a05-43c1-b2f4-a9fbb3636b01', 'da362876-4dc6-4e7f-a8c7-744448004f63', '500178f1-2b99-4790-a948-0b22d85af471', '1828db15-0776-4e61-8cee-ebda60d76075', '4b607a48-236a-4670-8152-9fbf151774b4', '60ea626a-0b6b-4f3e-a08f-ef5a5fcbf483', '322076b4-0b1d-4a03-afe3-89e24fcf9d7b', '6e856efa-5e8f-4171-8b08-6c5e3aae5b4c', '3ca4fc23-adce-44fa-b426-7b8d903b18bc', '3cc83fbc-b191-4212-a16d-68bfabb01701', '35e2dc9e-fe6c-4117-b4d7-d8710c0510f6', '228ffefc-bfe9-4070-8be8-c48afb53a0ea', '912ac733-b8fe-47a6-a98e-0c36b92c1dcc', '5337e342-cb5a-4473-8422-42f71cb5cb82', '62ba46fa-54e7-4a51-bb14-08b3f57803f4', 'e5cb1085-b0a1-453e-921c-6fdb16be5e75', '15338470-d04d-4c95-9b63-31b37e2da3bf', '8cf2c3c0-e5f5-4dad-8742-97c6496dd683']\n",
      "Replacing 8 from 26 !\n",
      "D_relabeled_ 8\n",
      "selected_ids ['da362876-4dc6-4e7f-a8c7-744448004f63', '28af7c21-9a93-44a5-95ff-e61079648ec7', '4504e742-c98d-4e5b-b498-af0cd4a35a87', 'e5cb1085-b0a1-453e-921c-6fdb16be5e75', 'd3226ac1-28d8-4565-b903-79925624fc53', '3ca4fc23-adce-44fa-b426-7b8d903b18bc', 'c38f10ef-8b81-46f3-8d5d-117703cfd2a3', '8cf2c3c0-e5f5-4dad-8742-97c6496dd683']\n",
      "dict_keys(['da362876-4dc6-4e7f-a8c7-744448004f63', '28af7c21-9a93-44a5-95ff-e61079648ec7', '4504e742-c98d-4e5b-b498-af0cd4a35a87', 'e5cb1085-b0a1-453e-921c-6fdb16be5e75', 'd3226ac1-28d8-4565-b903-79925624fc53', '3ca4fc23-adce-44fa-b426-7b8d903b18bc', 'c38f10ef-8b81-46f3-8d5d-117703cfd2a3', '8cf2c3c0-e5f5-4dad-8742-97c6496dd683'])\n",
      "point ids 8\n",
      "Removed: 8 Filled: 8\n",
      "TOOK 1496.647747039795 seconds\n",
      "***\n",
      "RUN: 1\n",
      "Model saved to /tmp/tmp8gpyyr0xGP2/unet_1.model\n",
      "History saved to /tmp/tmp8gpyyr0xGP2/history_1.pickle\n",
      "Testing the classifier...\n",
      "10/10 [==============================] - 1s 95ms/step - loss: 1.3449 - dice_coeff: 0.2418\n",
      "Testing the discriminator...\n",
      "2/2 [==============================] - 0s 21ms/step - loss: 0.1127 - accuracy: 0.9500\n",
      "Found 30 machine labels.\n",
      "Machine labels [ 0  1  2  3  4  6 10 16 17 18 19 20 21 24 27 31 34 35 36 38 40 42 43 45\n",
      " 48 49 51 52 55 58]\n",
      "D_ids ['1ba95b65-aade-46bf-b0af-8da7c407e27f', '6ad9eb1d-dc3f-41e8-90e5-df061ac1d532', '0970b22b-f05a-47ec-a9b3-08dce4c99409', '4de7e751-049a-458f-b4bb-4928cc3c59d6', 'f317db78-b5e2-441e-96e0-85f5f88d9f0e', 'bf1a0c7b-9171-4d42-8be0-7b71b12b6641', 'e35b4f32-ed0f-4ac5-805a-7dbb0b04481f', '392e958d-0755-4fa4-bf7a-f80ab1fe5e75', '5ca84ad8-1c8e-48a6-a822-75749825eb4c', '964bd295-b64f-4c57-912c-790c8dc6eed5', '00c8afd6-92e9-48b8-814f-980ce047ee4e', '01ed6f44-6cd8-4bff-a752-51cd4bc7039a', '8840068b-da4e-479a-b2ee-e25a63103a73', '8ea0ada7-8d47-44fb-9561-ccfaf5bbffa9', '562e6a84-b010-47bf-9379-76d152cc016d', '45dbcc63-c076-4d33-968a-18c906a17a3a', 'b4855497-ea0b-45aa-a537-1fa4fc11d659', '3ec1b81b-f4e3-466d-b0a4-af44d077ff6c', 'a329f5e8-646f-470e-946e-ac4cd973f002', '0494032e-9bf4-4fdf-8fe5-287f9d3775af', '45937c2c-e6cd-449a-aca8-eaa3169559cb', '2f033a7c-da09-4657-88d9-8bf12d6cd1c1', '23397389-0d85-4872-8b2d-47c51502666c', '353821bd-12b0-4463-8120-a76c2b54df9b', '7ee0643f-b9cc-459f-a4e5-a32b25a05078', '3ca099d4-55b9-4dc4-a7bf-e5474da8734e', '37cd944f-4d4f-44dc-bb0d-3199f0aac4d9', '2a4bcfb2-5ddf-4537-bacc-b36cd6e52e4f', '701d1105-13fb-437b-a285-90ea4877f987', '0b7f65f8-5837-4ace-9959-10cb4aff5a36']\n",
      "Replacing 10 from 30 !\n",
      "D_relabeled_ 10\n",
      "selected_ids ['6ad9eb1d-dc3f-41e8-90e5-df061ac1d532', 'bf1a0c7b-9171-4d42-8be0-7b71b12b6641', '0b7f65f8-5837-4ace-9959-10cb4aff5a36', 'b4855497-ea0b-45aa-a537-1fa4fc11d659', 'a329f5e8-646f-470e-946e-ac4cd973f002', '562e6a84-b010-47bf-9379-76d152cc016d', '964bd295-b64f-4c57-912c-790c8dc6eed5', '00c8afd6-92e9-48b8-814f-980ce047ee4e', '701d1105-13fb-437b-a285-90ea4877f987', '45dbcc63-c076-4d33-968a-18c906a17a3a']\n",
      "dict_keys(['6ad9eb1d-dc3f-41e8-90e5-df061ac1d532', 'bf1a0c7b-9171-4d42-8be0-7b71b12b6641', '0b7f65f8-5837-4ace-9959-10cb4aff5a36', 'b4855497-ea0b-45aa-a537-1fa4fc11d659', 'a329f5e8-646f-470e-946e-ac4cd973f002', '562e6a84-b010-47bf-9379-76d152cc016d', '964bd295-b64f-4c57-912c-790c8dc6eed5', '00c8afd6-92e9-48b8-814f-980ce047ee4e', '701d1105-13fb-437b-a285-90ea4877f987', '45dbcc63-c076-4d33-968a-18c906a17a3a'])\n",
      "point ids 10\n",
      "Removed: 10 Filled: 10\n",
      "TOOK 266.9149000644684 seconds\n",
      "***\n",
      "RUN: 2\n",
      "Model saved to /tmp/tmp8gpyyr0xGP2/unet_2.model\n",
      "History saved to /tmp/tmp8gpyyr0xGP2/history_2.pickle\n",
      "Testing the classifier...\n",
      "10/10 [==============================] - 1s 91ms/step - loss: 1.3372 - dice_coeff: 0.2556\n",
      "Testing the discriminator...\n",
      "2/2 [==============================] - 0s 18ms/step - loss: 0.1013 - accuracy: 0.9333\n",
      "Found 26 machine labels.\n",
      "Machine labels [ 1  2  4  5  7  9 11 13 14 18 19 22 24 25 28 29 32 33 39 42 48 50 53 54\n",
      " 56 57]\n",
      "D_ids ['b03ffca2-b1af-40c0-89eb-6df153e42dae', '7166e234-4d42-4bf8-a757-f0bc308ca789', 'fc70257f-a98a-4d79-8fa6-5879cfe8998e', 'd7e3cbd2-a59d-4714-9130-2dc8ae7afca2', '9a067499-3ff3-4106-968c-345b900b9679', '59639644-e53d-4d60-8890-7f8c73cb5635', '632bde33-cb54-43c0-8e90-bc8f6398e383', '332d4fe6-7742-402f-adb9-fafa0ff140f8', '66850b56-69dc-4f44-a43f-454ff8b28866', '59401d7c-7124-4688-ba3b-792b7d911fa2', '6768ead2-3a35-4be6-9b72-b9e4791bccb9', 'c32d1955-4087-4b07-a772-576dbf1f71b1', '7ee0643f-b9cc-459f-a4e5-a32b25a05078', '8d31d82b-60b3-4ffe-90b0-2772eea98654', '6768f797-cc50-4566-b690-993386596ad5', 'aaf760dc-9f12-477e-9973-478e4029315f', '676b2354-b0b7-4b43-8c12-39ca45463444', '529653f4-009f-4c02-84b7-b101e8c3f8bc', '747fee38-fcf8-4682-9001-3d5f0e781c35', '0da8675a-8ee0-449c-b5ea-9b1b6bdd998c', '1628b489-b8da-423a-93bf-0750b320439d', 'a6c185d0-1bc0-498f-9e88-f1e291642663', '06d2c363-f957-4af9-a918-32f7740b298b', '9c138980-c2aa-48cb-a6ca-e00c8e0ef6d5', '11f06126-d59e-491b-8723-d69afa4a8157', '41793a4c-4687-4c27-a55c-0ac1acf99148']\n",
      "Replacing 8 from 26 !\n",
      "D_relabeled_ 8\n",
      "selected_ids ['a6c185d0-1bc0-498f-9e88-f1e291642663', '11f06126-d59e-491b-8723-d69afa4a8157', '632bde33-cb54-43c0-8e90-bc8f6398e383', '6768f797-cc50-4566-b690-993386596ad5', 'c32d1955-4087-4b07-a772-576dbf1f71b1', '7ee0643f-b9cc-459f-a4e5-a32b25a05078', 'd7e3cbd2-a59d-4714-9130-2dc8ae7afca2', '529653f4-009f-4c02-84b7-b101e8c3f8bc']\n",
      "dict_keys(['a6c185d0-1bc0-498f-9e88-f1e291642663', '11f06126-d59e-491b-8723-d69afa4a8157', '632bde33-cb54-43c0-8e90-bc8f6398e383', '6768f797-cc50-4566-b690-993386596ad5', 'c32d1955-4087-4b07-a772-576dbf1f71b1', '7ee0643f-b9cc-459f-a4e5-a32b25a05078', 'd7e3cbd2-a59d-4714-9130-2dc8ae7afca2', '529653f4-009f-4c02-84b7-b101e8c3f8bc'])\n",
      "point ids 8\n",
      "Removed: 8 Filled: 8\n",
      "TOOK 45.80921745300293 seconds\n",
      "***\n",
      "RUN: 3\n",
      "Model saved to /tmp/tmp8gpyyr0xGP2/unet_3.model\n",
      "History saved to /tmp/tmp8gpyyr0xGP2/history_3.pickle\n",
      "Testing the classifier...\n",
      "10/10 [==============================] - 1s 90ms/step - loss: 1.2533 - dice_coeff: 0.2866\n",
      "Testing the discriminator...\n",
      "2/2 [==============================] - 0s 20ms/step - loss: 0.2322 - accuracy: 0.9333\n",
      "Found 29 machine labels.\n",
      "Machine labels [ 6  7  9 12 13 14 15 17 19 21 24 31 34 35 36 37 38 40 41 42 43 44 45 49\n",
      " 51 53 54 57 58]\n",
      "D_ids ['8d31d82b-60b3-4ffe-90b0-2772eea98654', '6c92a529-ee44-4e37-b178-0d4f7f32f97d', '8840068b-da4e-479a-b2ee-e25a63103a73', '5277f57d-f625-4073-9fdc-a59e3a6f826a', '4e07722f-7af3-4e42-aea7-e106307af45e', '97e3bc0b-8f06-4783-8826-c641894cc0c7', '15338470-d04d-4c95-9b63-31b37e2da3bf', '4a623722-6be6-403b-83e5-0f93f3677e9a', '8b255fba-5668-4d88-ac0f-d087aaef05aa', 'efb7aa87-157c-427a-a532-0a05dfb1ad2f', 'd6f97e7e-6ca3-468a-8e1a-90764d7d87b1', 'd55f7b83-66e9-4220-93f4-4bb31027958c', '0096f020-6011-493c-8b0d-61093f67e52a', '2d35d6db-7f03-45ae-82b1-c8b1fab416a7', '0669d4cf-2b8b-46b9-939e-46c709a5abdb', '0127e512-7e5d-45d3-acda-04ff5aee186e', '8a5a7391-9e9b-41dc-99f9-38a87ef5d39f', '1628b489-b8da-423a-93bf-0750b320439d', '3c7b4ad3-a1d8-459a-8e3d-264f79d612e9', '10ef0cb8-bb0d-4b1d-93dd-0994d51c6fd7', '9ba96d40-835d-41a3-978f-5033e5254e13', '7a5cc51a-d6e0-4db9-863c-231366eadd23', 'abf186ff-d1f4-43e1-93e5-6e4ba759d73c', '3cc83fbc-b191-4212-a16d-68bfabb01701', '8709e253-d13d-4ee2-8a11-726d04fab4e3', 'c4794653-f712-44dc-9e82-2f2991542691', '58935265-aa0f-4b89-a706-34f119e070e0', '67da3811-d2a5-4086-8989-b920f88bdc18', 'a885b10d-e728-4e7c-b2ed-d631953431bb']\n",
      "Replacing 9 from 29 !\n",
      "D_relabeled_ 9\n",
      "selected_ids ['10ef0cb8-bb0d-4b1d-93dd-0994d51c6fd7', 'efb7aa87-157c-427a-a532-0a05dfb1ad2f', '6c92a529-ee44-4e37-b178-0d4f7f32f97d', '15338470-d04d-4c95-9b63-31b37e2da3bf', '8a5a7391-9e9b-41dc-99f9-38a87ef5d39f', '7a5cc51a-d6e0-4db9-863c-231366eadd23', '4a623722-6be6-403b-83e5-0f93f3677e9a', '8709e253-d13d-4ee2-8a11-726d04fab4e3', '3cc83fbc-b191-4212-a16d-68bfabb01701']\n",
      "dict_keys(['10ef0cb8-bb0d-4b1d-93dd-0994d51c6fd7', 'efb7aa87-157c-427a-a532-0a05dfb1ad2f', '6c92a529-ee44-4e37-b178-0d4f7f32f97d', '15338470-d04d-4c95-9b63-31b37e2da3bf', '8a5a7391-9e9b-41dc-99f9-38a87ef5d39f', '7a5cc51a-d6e0-4db9-863c-231366eadd23', '4a623722-6be6-403b-83e5-0f93f3677e9a', '8709e253-d13d-4ee2-8a11-726d04fab4e3', '3cc83fbc-b191-4212-a16d-68bfabb01701'])\n",
      "point ids 9\n",
      "Removed: 9 Filled: 9\n",
      "TOOK 146.7451090812683 seconds\n",
      "***\n",
      "RUN: 4\n"
     ]
    },
    {
     "name": "stdout",
     "output_type": "stream",
     "text": [
      "Model saved to /tmp/tmp8gpyyr0xGP2/unet_4.model\n",
      "History saved to /tmp/tmp8gpyyr0xGP2/history_4.pickle\n",
      "Testing the classifier...\n",
      "10/10 [==============================] - 1s 92ms/step - loss: 1.1510 - dice_coeff: 0.3153\n",
      "Testing the discriminator...\n",
      "2/2 [==============================] - 0s 19ms/step - loss: 0.8080 - accuracy: 0.8167\n",
      "Found 21 machine labels.\n",
      "Machine labels [ 2  8 11 13 15 16 18 20 21 24 25 28 31 33 34 36 40 41 48 55 58]\n",
      "D_ids ['4356f009-5932-4d00-9d22-7fdf629221c4', 'cd7d83db-dc0e-478d-8e03-873d6ef85bcf', '0b08c3aa-676e-4cc6-819c-7bd7bb50be25', 'e9cc89fe-a504-4f89-904f-b84ec51da759', 'c9d0719c-fcae-4029-a398-34e44af7af28', 'ec66b760-5f13-4481-acc2-86d56dcaab6c', 'adc2aa0a-c197-44fd-84ab-c425af80ee1f', '4f8b25fe-1618-4ed8-9795-d012ebbb1228', 'e8e70292-afe9-4260-bc8d-aeb90825e57f', '1f5b94df-7a8c-4ec0-912f-0823d457e9a4', 'be44e7c2-20f5-493b-a3cf-5a3661b7e614', '41793a4c-4687-4c27-a55c-0ac1acf99148', '2d35d6db-7f03-45ae-82b1-c8b1fab416a7', '59639644-e53d-4d60-8890-7f8c73cb5635', '27f1d8e0-46d2-4a03-8cc9-b8bdb417f201', 'f750b99e-a49c-4a6e-9532-0f4fc3c53f9b', '67da3811-d2a5-4086-8989-b920f88bdc18', '9b00f070-9598-4990-a3f6-7a268556e06a', '00951dca-47dd-4f8e-90ab-859b1cf73c2f', '0ac2c4cf-ea63-4d45-ac24-3423237e4811', '4432ee45-9916-462a-a724-f4dd3b5500f3']\n",
      "Replacing 7 from 21 !\n",
      "D_relabeled_ 7\n",
      "selected_ids ['0ac2c4cf-ea63-4d45-ac24-3423237e4811', 'adc2aa0a-c197-44fd-84ab-c425af80ee1f', '9b00f070-9598-4990-a3f6-7a268556e06a', 'cd7d83db-dc0e-478d-8e03-873d6ef85bcf', 'f750b99e-a49c-4a6e-9532-0f4fc3c53f9b', '27f1d8e0-46d2-4a03-8cc9-b8bdb417f201', 'be44e7c2-20f5-493b-a3cf-5a3661b7e614']\n",
      "dict_keys(['0ac2c4cf-ea63-4d45-ac24-3423237e4811', 'adc2aa0a-c197-44fd-84ab-c425af80ee1f', '9b00f070-9598-4990-a3f6-7a268556e06a', 'cd7d83db-dc0e-478d-8e03-873d6ef85bcf', 'f750b99e-a49c-4a6e-9532-0f4fc3c53f9b', '27f1d8e0-46d2-4a03-8cc9-b8bdb417f201', 'be44e7c2-20f5-493b-a3cf-5a3661b7e614'])\n",
      "point ids 7\n",
      "Removed: 7 Filled: 7\n",
      "TOOK 146.7002248764038 seconds\n",
      "***\n",
      "RUN: 5\n",
      "Model saved to /tmp/tmp8gpyyr0xGP2/unet_5.model\n",
      "History saved to /tmp/tmp8gpyyr0xGP2/history_5.pickle\n",
      "Testing the classifier...\n",
      "10/10 [==============================] - 1s 93ms/step - loss: 1.0907 - dice_coeff: 0.3336\n",
      "Testing the discriminator...\n",
      "2/2 [==============================] - 0s 21ms/step - loss: 2.4940 - accuracy: 0.6667\n",
      "Found 8 machine labels.\n",
      "Machine labels [ 8 14 30 31 34 40 43 59]\n",
      "D_ids ['d6f97e7e-6ca3-468a-8e1a-90764d7d87b1', 'f6e090b0-dd3b-4721-abc9-f78e3dc25aa9', '35bb86a5-79b4-47bc-8c3d-10d3be95c0f4', '2bb80094-2e59-4565-934d-cd9f2ec54cc8', 'b9dde0f9-ddc9-44a1-99c9-c9158ed133e7', '58c6c199-60ce-48e9-ab52-6e05d622a0f2', '742eb3ca-76a7-4bd5-baf1-8ebfe6f3aa9c', 'e9cc89fe-a504-4f89-904f-b84ec51da759']\n",
      "Replacing 2 from 8 !\n",
      "D_relabeled_ 2\n",
      "selected_ids ['2bb80094-2e59-4565-934d-cd9f2ec54cc8', 'f6e090b0-dd3b-4721-abc9-f78e3dc25aa9']\n",
      "dict_keys(['2bb80094-2e59-4565-934d-cd9f2ec54cc8', 'f6e090b0-dd3b-4721-abc9-f78e3dc25aa9'])\n",
      "point ids 2\n",
      "Removed: 2 Filled: 2\n",
      "TOOK 86.93337607383728 seconds\n",
      "***\n",
      "RUN: 6\n",
      "Model saved to /tmp/tmp8gpyyr0xGP2/unet_6.model\n",
      "History saved to /tmp/tmp8gpyyr0xGP2/history_6.pickle\n",
      "Testing the classifier...\n",
      "10/10 [==============================] - 1s 90ms/step - loss: 1.0389 - dice_coeff: 0.3532\n",
      "Testing the discriminator...\n",
      "2/2 [==============================] - 0s 39ms/step - loss: 4.8585 - accuracy: 0.5333\n",
      "Found 5 machine labels.\n",
      "Machine labels [ 0 13 21 30 53]\n",
      "D_ids ['3c518856-11d7-4f90-b61e-a2ae4ed02948', 'c4dd5612-c652-4132-9f98-e45ae0442cfe', '58c6c199-60ce-48e9-ab52-6e05d622a0f2', '3558d0a6-56c1-4fce-b65b-1ea21dd64f53', 'f895351d-0a05-43c1-b2f4-a9fbb3636b01']\n",
      "Replacing 1 from 5 !\n",
      "D_relabeled_ 1\n",
      "selected_ids ['f895351d-0a05-43c1-b2f4-a9fbb3636b01']\n",
      "dict_keys(['f895351d-0a05-43c1-b2f4-a9fbb3636b01'])\n",
      "point ids 1\n",
      "Removed: 1 Filled: 1\n",
      "TOOK 146.65418648719788 seconds\n",
      "***\n",
      "RUN: 7\n",
      "Model saved to /tmp/tmp8gpyyr0xGP2/unet_7.model\n",
      "History saved to /tmp/tmp8gpyyr0xGP2/history_7.pickle\n",
      "Testing the classifier...\n",
      "10/10 [==============================] - 1s 90ms/step - loss: 0.9924 - dice_coeff: 0.3737\n",
      "Testing the discriminator...\n",
      "2/2 [==============================] - 0s 36ms/step - loss: 4.6193 - accuracy: 0.5500\n",
      "Found 2 machine labels.\n",
      "Machine labels [22 25]\n",
      "D_ids ['3558d0a6-56c1-4fce-b65b-1ea21dd64f53', 'f0211720-03e2-4fac-8891-f7ee179ce5ab']\n",
      "Replacing 0 from 2 !\n",
      "D_relabeled_ 0\n",
      "selected_ids []\n",
      "dict_keys([])\n",
      "point ids 0\n",
      "Removed: 0 Filled: 0\n",
      "TOOK 146.7230098247528 seconds\n",
      "***\n",
      "RUN: 8\n",
      "Model saved to /tmp/tmp8gpyyr0xGP2/unet_8.model\n",
      "History saved to /tmp/tmp8gpyyr0xGP2/history_8.pickle\n",
      "Testing the classifier...\n",
      "10/10 [==============================] - 1s 97ms/step - loss: 0.9880 - dice_coeff: 0.3725\n",
      "Testing the discriminator...\n",
      "2/2 [==============================] - 0s 21ms/step - loss: 6.5605 - accuracy: 0.4833\n",
      "Found 0 machine labels.\n",
      "Machine labels []\n",
      "No more machine labels.\n",
      "TOOK 46.18082785606384 seconds\n"
     ]
    }
   ],
   "source": [
    "for run in range(RUNS):\n",
    "    print('***')\n",
    "    print('RUN:', run)\n",
    "    t0 = time.time()\n",
    "    R.run_classifier()\n",
    "    R.run_discriminator()\n",
    "    l = R.find_machine_labels()\n",
    "    if l == 0:\n",
    "        print('No more machine labels.')\n",
    "        print('TOOK', time.time()-t0, 'seconds')\n",
    "        break\n",
    "    R.relabel(percent_to_replace=PERCENT_TO_REPLACE)\n",
    "    print('TOOK', time.time()-t0, 'seconds')\n",
    "    "
   ]
  },
  {
   "cell_type": "code",
   "execution_count": null,
   "id": "dab6fd49",
   "metadata": {},
   "outputs": [],
   "source": []
  },
  {
   "cell_type": "code",
   "execution_count": null,
   "id": "93739320",
   "metadata": {},
   "outputs": [],
   "source": []
  },
  {
   "cell_type": "code",
   "execution_count": null,
   "id": "a76a4615",
   "metadata": {},
   "outputs": [],
   "source": []
  },
  {
   "cell_type": "code",
   "execution_count": 24,
   "id": "00075332",
   "metadata": {},
   "outputs": [
    {
     "data": {
      "text/plain": [
       "[[1.4207088947296143, 0.2145918607711792],\n",
       " [1.3448594808578491, 0.24182865023612976],\n",
       " [1.3371570110321045, 0.25557321310043335],\n",
       " [1.253345012664795, 0.28664833307266235],\n",
       " [1.1509567499160767, 0.3153291642665863],\n",
       " [1.090656042098999, 0.3335990905761719],\n",
       " [1.0389187335968018, 0.35323596000671387],\n",
       " [0.9923996925354004, 0.3737395405769348],\n",
       " [0.9879721999168396, 0.3725345730781555]]"
      ]
     },
     "execution_count": 24,
     "metadata": {},
     "output_type": "execute_result"
    }
   ],
   "source": [
    "R.classifier_scores"
   ]
  },
  {
   "cell_type": "code",
   "execution_count": 25,
   "id": "35105656",
   "metadata": {},
   "outputs": [
    {
     "data": {
      "text/plain": [
       "[[0.0449461005628109, 0.9833333492279053],\n",
       " [0.11270052939653397, 0.949999988079071],\n",
       " [0.10134274512529373, 0.9333333373069763],\n",
       " [0.2321927398443222, 0.9333333373069763],\n",
       " [0.8080320954322815, 0.8166666626930237],\n",
       " [2.4939768314361572, 0.6666666865348816],\n",
       " [4.858522415161133, 0.5333333611488342],\n",
       " [4.619325637817383, 0.550000011920929],\n",
       " [6.560461521148682, 0.4833333194255829]]"
      ]
     },
     "execution_count": 25,
     "metadata": {},
     "output_type": "execute_result"
    }
   ],
   "source": [
    "R.discriminator_scores"
   ]
  },
  {
   "cell_type": "code",
   "execution_count": 26,
   "id": "e1d07d1c",
   "metadata": {},
   "outputs": [
    {
     "data": {
      "image/png": "[encoded data removed]",
      "text/plain": [
       "<Figure size 240x240 with 1 Axes>"
      ]
     },
     "metadata": {
      "needs_background": "light"
     },
     "output_type": "display_data"
    }
   ],
   "source": [
    "R.plot() # plot after fixing bug"
   ]
  },
  {
   "cell_type": "code",
   "execution_count": null,
   "id": "f435f897",
   "metadata": {},
   "outputs": [],
   "source": []
  },
  {
   "cell_type": "code",
   "execution_count": 13,
   "id": "0a721a90",
   "metadata": {},
   "outputs": [
    {
     "data": {
      "image/png": "[encoded data removed]",
      "text/plain": [
       "<Figure size 240x240 with 1 Axes>"
      ]
     },
     "metadata": {
      "needs_background": "light"
     },
     "output_type": "display_data"
    }
   ],
   "source": [
    "R.plot() # plot before bug fixed"
   ]
  },
  {
   "cell_type": "code",
   "execution_count": null,
   "id": "551de181",
   "metadata": {},
   "outputs": [],
   "source": []
  }
 ],
 "metadata": {
  "kernelspec": {
   "display_name": "Python 3 (ipykernel)",
   "language": "python",
   "name": "python3"
  },
  "language_info": {
   "codemirror_mode": {
    "name": "ipython",
    "version": 3
   },
   "file_extension": ".py",
   "mimetype": "text/x-python",
   "name": "python",
   "nbconvert_exporter": "python",
   "pygments_lexer": "ipython3",
   "version": "3.9.7"
  }
 },
 "nbformat": 4,
 "nbformat_minor": 5
}
