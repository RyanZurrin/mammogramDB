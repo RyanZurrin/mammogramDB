{
 "cells": [
  {
   "cell_type": "code",
   "execution_count": 1,
   "id": "06c4accc",
   "metadata": {},
   "outputs": [
    {
     "name": "stdout",
     "output_type": "stream",
     "text": [
      "Populating the interactive namespace from numpy and matplotlib\n"
     ]
    }
   ],
   "source": [
    "%pylab inline\n",
    "%load_ext autoreload\n",
    "%autoreload 2"
   ]
  },
  {
   "cell_type": "code",
   "execution_count": 2,
   "id": "3b313506",
   "metadata": {},
   "outputs": [],
   "source": [
    "import time"
   ]
  },
  {
   "cell_type": "code",
   "execution_count": 3,
   "id": "b9e78ed8",
   "metadata": {},
   "outputs": [],
   "source": [
    "from runner import Runner"
   ]
  },
  {
   "cell_type": "code",
   "execution_count": 4,
   "id": "bdc75325",
   "metadata": {},
   "outputs": [
    {
     "name": "stdout",
     "output_type": "stream",
     "text": [
      "*** GP2 ***\n",
      "Working directory: /tmp/tmpcnhvo8t7GP2\n"
     ]
    }
   ],
   "source": [
    "R = Runner(verbose=False)"
   ]
  },
  {
   "cell_type": "code",
   "execution_count": 5,
   "id": "87b0c65d",
   "metadata": {},
   "outputs": [],
   "source": [
    "# load our larger toy dataset (10k images and masks)\n",
    "images = np.load('/raid/mpsych/GP2TOYEXAMPLE_LARGE/images.npy')\n",
    "masks = np.load('/raid/mpsych/GP2TOYEXAMPLE_LARGE/masks.npy')"
   ]
  },
  {
   "cell_type": "code",
   "execution_count": 6,
   "id": "1dd71668",
   "metadata": {},
   "outputs": [],
   "source": [
    "weights = {\n",
    "    'A': 0.5,\n",
    "    'A_train': 0.01,\n",
    "    'A_val': 0.39,\n",
    "    'A_test': 0.6,\n",
    "    'B': 0.3,\n",
    "    'B_train': 0.7,\n",
    "    'B_val': 0.1,\n",
    "    'B_test': 0.2,\n",
    "    'Z': 0.2\n",
    "}\n",
    "PERCENT_TO_REPLACE = 20"
   ]
  },
  {
   "cell_type": "code",
   "execution_count": 7,
   "id": "2a5d1030",
   "metadata": {},
   "outputs": [
    {
     "name": "stdout",
     "output_type": "stream",
     "text": [
      "Weights OK!\n"
     ]
    }
   ],
   "source": [
    "#\n",
    "#\n",
    "R.setup_data(images, masks, dataset_size=10000, weights=weights)"
   ]
  },
  {
   "cell_type": "code",
   "execution_count": 8,
   "id": "99127251",
   "metadata": {},
   "outputs": [],
   "source": [
    "RUNS = 5"
   ]
  },
  {
   "cell_type": "code",
   "execution_count": 9,
   "id": "d8ff85c4",
   "metadata": {
    "scrolled": false
   },
   "outputs": [
    {
     "name": "stdout",
     "output_type": "stream",
     "text": [
      "***\n",
      "RUN: 0\n",
      "Model saved to /tmp/tmpcnhvo8t7GP2/unet_0.model\n",
      "History saved to /tmp/tmpcnhvo8t7GP2/history_0.pickle\n",
      "Testing the classifier...\n",
      "94/94 [==============================] - 10s 105ms/step - loss: 1.5469 - dice_coeff: 0.2334\n",
      "Model saved to /tmp/tmpcnhvo8t7GP2/cnnd_0.model\n",
      "History saved to /tmp/tmpcnhvo8t7GP2/cnnd_history_0.pickle\n",
      "Testing the discriminator...\n",
      "19/19 [==============================] - 0s 22ms/step - loss: 0.0000e+00 - accuracy: 1.0000\n",
      "Found 301 machine labels.\n",
      "Replacing 60 from 301 !\n",
      "Removed: 54 Filled: 54\n",
      "TOOK 884.9574465751648 seconds\n",
      "***\n",
      "RUN: 1\n",
      "Model saved to /tmp/tmpcnhvo8t7GP2/unet_1.model\n",
      "History saved to /tmp/tmpcnhvo8t7GP2/history_1.pickle\n",
      "Testing the classifier...\n",
      "94/94 [==============================] - 10s 103ms/step - loss: 1.5207 - dice_coeff: 0.2470\n",
      "Testing the discriminator...\n",
      "19/19 [==============================] - 0s 22ms/step - loss: 0.2224 - accuracy: 0.9967\n",
      "Found 293 machine labels.\n",
      "Replacing 58 from 293 !\n",
      "Removed: 50 Filled: 50\n",
      "TOOK 245.5391755104065 seconds\n",
      "***\n",
      "RUN: 2\n",
      "Model saved to /tmp/tmpcnhvo8t7GP2/unet_2.model\n",
      "History saved to /tmp/tmpcnhvo8t7GP2/history_2.pickle\n",
      "Testing the classifier...\n",
      "94/94 [==============================] - 10s 103ms/step - loss: 1.4480 - dice_coeff: 0.2625\n",
      "Testing the discriminator...\n",
      "19/19 [==============================] - 0s 22ms/step - loss: 6.0196 - accuracy: 0.9333\n",
      "Found 263 machine labels.\n",
      "Replacing 52 from 263 !\n",
      "Removed: 45 Filled: 45\n",
      "TOOK 185.99109268188477 seconds\n",
      "***\n",
      "RUN: 3\n",
      "Model saved to /tmp/tmpcnhvo8t7GP2/unet_3.model\n",
      "History saved to /tmp/tmpcnhvo8t7GP2/history_3.pickle\n",
      "Testing the classifier...\n",
      "94/94 [==============================] - 10s 103ms/step - loss: 1.3625 - dice_coeff: 0.2861\n",
      "Testing the discriminator...\n",
      "19/19 [==============================] - 0s 22ms/step - loss: 19.6355 - accuracy: 0.8500\n",
      "Found 222 machine labels.\n",
      "Replacing 44 from 222 !\n",
      "Removed: 38 Filled: 38\n",
      "TOOK 186.84264969825745 seconds\n",
      "***\n",
      "RUN: 4\n",
      "Model saved to /tmp/tmpcnhvo8t7GP2/unet_4.model\n",
      "History saved to /tmp/tmpcnhvo8t7GP2/history_4.pickle\n",
      "Testing the classifier...\n",
      "94/94 [==============================] - 10s 107ms/step - loss: 1.1331 - dice_coeff: 0.3325\n",
      "Testing the discriminator...\n",
      "19/19 [==============================] - 0s 24ms/step - loss: 178.1567 - accuracy: 0.5500\n",
      "Found 25 machine labels.\n",
      "Replacing 5 from 25 !\n",
      "Removed: 5 Filled: 5\n",
      "TOOK 305.40700912475586 seconds\n"
     ]
    }
   ],
   "source": [
    "for run in range(RUNS):\n",
    "    print('***')\n",
    "    print('RUN:', run)\n",
    "    t0 = time.time()\n",
    "    R.run_classifier()\n",
    "    R.run_discriminator()\n",
    "    l = R.find_machine_labels()\n",
    "    if l == 0:\n",
    "        print('No more machine labels.')\n",
    "        print('TOOK', time.time()-t0, 'seconds')\n",
    "        break\n",
    "    R.relabel(percent_to_replace=PERCENT_TO_REPLACE)\n",
    "    print('TOOK', time.time()-t0, 'seconds')\n",
    "    "
   ]
  },
  {
   "cell_type": "code",
   "execution_count": null,
   "id": "dab6fd49",
   "metadata": {},
   "outputs": [],
   "source": []
  },
  {
   "cell_type": "code",
   "execution_count": null,
   "id": "93739320",
   "metadata": {},
   "outputs": [],
   "source": []
  },
  {
   "cell_type": "code",
   "execution_count": null,
   "id": "a76a4615",
   "metadata": {},
   "outputs": [],
   "source": []
  },
  {
   "cell_type": "code",
   "execution_count": 10,
   "id": "00075332",
   "metadata": {},
   "outputs": [
    {
     "data": {
      "text/plain": [
       "[[1.5469194650650024, 0.2334064096212387],\n",
       " [1.5206674337387085, 0.24697807431221008],\n",
       " [1.44798743724823, 0.2624608874320984],\n",
       " [1.3625202178955078, 0.28607141971588135],\n",
       " [1.1330915689468384, 0.332538902759552]]"
      ]
     },
     "execution_count": 10,
     "metadata": {},
     "output_type": "execute_result"
    }
   ],
   "source": [
    "R.classifier_scores"
   ]
  },
  {
   "cell_type": "code",
   "execution_count": 11,
   "id": "35105656",
   "metadata": {},
   "outputs": [
    {
     "data": {
      "text/plain": [
       "[[0.0, 1.0],\n",
       " [0.22239743173122406, 0.996666669845581],\n",
       " [6.019563674926758, 0.9333333373069763],\n",
       " [19.635507583618164, 0.8500000238418579],\n",
       " [178.15670776367188, 0.550000011920929]]"
      ]
     },
     "execution_count": 11,
     "metadata": {},
     "output_type": "execute_result"
    }
   ],
   "source": [
    "R.discriminator_scores"
   ]
  },
  {
   "cell_type": "code",
   "execution_count": 12,
   "id": "0a721a90",
   "metadata": {},
   "outputs": [
    {
     "data": {
      "image/png": "[encoded data removed]",
      "text/plain": [
       "<Figure size 240x240 with 1 Axes>"
      ]
     },
     "metadata": {
      "needs_background": "light"
     },
     "output_type": "display_data"
    }
   ],
   "source": [
    "R.plot()"
   ]
  },
  {
   "cell_type": "code",
   "execution_count": null,
   "id": "551de181",
   "metadata": {},
   "outputs": [],
   "source": []
  }
 ],
 "metadata": {
  "kernelspec": {
   "display_name": "Python 3 (ipykernel)",
   "language": "python",
   "name": "python3"
  },
  "language_info": {
   "codemirror_mode": {
    "name": "ipython",
    "version": 3
   },
   "file_extension": ".py",
   "mimetype": "text/x-python",
   "name": "python",
   "nbconvert_exporter": "python",
   "pygments_lexer": "ipython3",
   "version": "3.9.7"
  }
 },
 "nbformat": 4,
 "nbformat_minor": 5
}
