{
 "cells": [
  {
   "cell_type": "code",
   "execution_count": 1,
   "id": "b15e439a",
   "metadata": {},
   "outputs": [
    {
     "name": "stdout",
     "output_type": "stream",
     "text": [
      "Populating the interactive namespace from numpy and matplotlib\n"
     ]
    }
   ],
   "source": [
    "%pylab inline\n",
    "%load_ext autoreload\n",
    "%autoreload 2"
   ]
  },
  {
   "cell_type": "code",
   "execution_count": 2,
   "id": "2eaaa0f4",
   "metadata": {},
   "outputs": [],
   "source": [
    "import data\n",
    "import gp2"
   ]
  },
  {
   "cell_type": "code",
   "execution_count": 3,
   "id": "abad428e",
   "metadata": {},
   "outputs": [],
   "source": [
    "import os"
   ]
  },
  {
   "cell_type": "code",
   "execution_count": null,
   "id": "478e93c7",
   "metadata": {},
   "outputs": [],
   "source": []
  },
  {
   "cell_type": "code",
   "execution_count": 4,
   "id": "2c913bb3",
   "metadata": {},
   "outputs": [],
   "source": [
    "workingdir = '/tmp/tmpsbsac6t_GP2'"
   ]
  },
  {
   "cell_type": "code",
   "execution_count": null,
   "id": "e498ca1c",
   "metadata": {},
   "outputs": [],
   "source": []
  },
  {
   "cell_type": "code",
   "execution_count": 5,
   "id": "993fdb9f",
   "metadata": {},
   "outputs": [],
   "source": [
    "M = data.Manager.load(os.path.join(workingdir, 'M_step7.pickle'))"
   ]
  },
  {
   "cell_type": "code",
   "execution_count": 6,
   "id": "4941ac92",
   "metadata": {},
   "outputs": [],
   "source": [
    "D_relabeled = M.get('D_relabeled')"
   ]
  },
  {
   "cell_type": "code",
   "execution_count": 7,
   "id": "07c8eed1",
   "metadata": {},
   "outputs": [],
   "source": [
    "A_train = M.get('A_train')\n",
    "A_test = M.get('A_test')"
   ]
  },
  {
   "cell_type": "code",
   "execution_count": 8,
   "id": "781413d6",
   "metadata": {},
   "outputs": [],
   "source": [
    "point_ids = list(D_relabeled.data.keys())"
   ]
  },
  {
   "cell_type": "code",
   "execution_count": 9,
   "id": "9832b281",
   "metadata": {},
   "outputs": [
    {
     "ename": "KeyError",
     "evalue": "'6c259fd6-6909-4be9-a051-540c67475b56'",
     "output_type": "error",
     "traceback": [
      "\u001B[0;31m---------------------------------------------------------------------------\u001B[0m",
      "\u001B[0;31mKeyError\u001B[0m                                  Traceback (most recent call last)",
      "\u001B[0;32m/tmp/ipykernel_619185/1360913273.py\u001B[0m in \u001B[0;36m<module>\u001B[0;34m\u001B[0m\n\u001B[1;32m      1\u001B[0m \u001B[0;31m# test: grab first one and it needs to be in A_test but not in A_train\u001B[0m\u001B[0;34m\u001B[0m\u001B[0;34m\u001B[0m\u001B[0m\n\u001B[0;32m----> 2\u001B[0;31m \u001B[0mA_train\u001B[0m\u001B[0;34m.\u001B[0m\u001B[0mdata\u001B[0m\u001B[0;34m[\u001B[0m\u001B[0mpoint_ids\u001B[0m\u001B[0;34m[\u001B[0m\u001B[0;36m0\u001B[0m\u001B[0;34m]\u001B[0m\u001B[0;34m]\u001B[0m\u001B[0;34m\u001B[0m\u001B[0;34m\u001B[0m\u001B[0m\n\u001B[0m",
      "\u001B[0;31mKeyError\u001B[0m: '6c259fd6-6909-4be9-a051-540c67475b56'"
     ]
    }
   ],
   "source": [
    "# test: grab first one and it needs to be in A_test but not in A_train\n",
    "A_train.data[point_ids[0]]"
   ]
  },
  {
   "cell_type": "code",
   "execution_count": 10,
   "id": "2797c4ab",
   "metadata": {},
   "outputs": [
    {
     "data": {
      "text/plain": [
       "array([[[ 14,   0],\n",
       "        [ 33,   0],\n",
       "        [  6,   0],\n",
       "        ...,\n",
       "        [  5,   0],\n",
       "        [  0,   0],\n",
       "        [ 49,   0]],\n",
       "\n",
       "       [[ 15,   0],\n",
       "        [  0,   0],\n",
       "        [ 93,   0],\n",
       "        ...,\n",
       "        [  0,   0],\n",
       "        [ 64,   0],\n",
       "        [ 20,   0]],\n",
       "\n",
       "       [[ 17,   0],\n",
       "        [ 25,   0],\n",
       "        [  0,   0],\n",
       "        ...,\n",
       "        [ 22,   0],\n",
       "        [121,   0],\n",
       "        [  0,   0]],\n",
       "\n",
       "       ...,\n",
       "\n",
       "       [[  0,   0],\n",
       "        [  0,   0],\n",
       "        [  0,   0],\n",
       "        ...,\n",
       "        [ 47,   0],\n",
       "        [ 16,   0],\n",
       "        [ 51,   0]],\n",
       "\n",
       "       [[ 75,   0],\n",
       "        [  2,   0],\n",
       "        [ 51,   0],\n",
       "        ...,\n",
       "        [ 45,   0],\n",
       "        [  0,   0],\n",
       "        [  0,   0]],\n",
       "\n",
       "       [[ 34,   0],\n",
       "        [ 99,   0],\n",
       "        [ 51,   0],\n",
       "        ...,\n",
       "        [ 71,   0],\n",
       "        [  0,   0],\n",
       "        [105,   0]]], dtype=uint8)"
      ]
     },
     "execution_count": 10,
     "metadata": {},
     "output_type": "execute_result"
    }
   ],
   "source": [
    "A_test.data[point_ids[0]]"
   ]
  },
  {
   "cell_type": "code",
   "execution_count": null,
   "id": "2aeb81ee",
   "metadata": {},
   "outputs": [],
   "source": []
  },
  {
   "cell_type": "code",
   "execution_count": null,
   "id": "71e8d7a7",
   "metadata": {},
   "outputs": [],
   "source": []
  },
  {
   "cell_type": "code",
   "execution_count": 11,
   "id": "7808fa82",
   "metadata": {},
   "outputs": [],
   "source": [
    "# Move points from A_train to A_test\n",
    "for k in point_ids:\n",
    "    \n",
    "    p = data.Point(A_test.data[k])\n",
    "    p.id = k\n",
    "\n",
    "    M.remove_and_add(A_test, A_train, p)"
   ]
  },
  {
   "cell_type": "code",
   "execution_count": null,
   "id": "f8a4f2be",
   "metadata": {},
   "outputs": [],
   "source": []
  },
  {
   "cell_type": "code",
   "execution_count": null,
   "id": "1a641fa9",
   "metadata": {},
   "outputs": [],
   "source": [
    "# TEST 2: now the first point should be in A_train and not in A_test!"
   ]
  },
  {
   "cell_type": "code",
   "execution_count": 12,
   "id": "13466e49",
   "metadata": {},
   "outputs": [
    {
     "data": {
      "text/plain": [
       "array([[[ 14,   0],\n",
       "        [ 33,   0],\n",
       "        [  6,   0],\n",
       "        ...,\n",
       "        [  5,   0],\n",
       "        [  0,   0],\n",
       "        [ 49,   0]],\n",
       "\n",
       "       [[ 15,   0],\n",
       "        [  0,   0],\n",
       "        [ 93,   0],\n",
       "        ...,\n",
       "        [  0,   0],\n",
       "        [ 64,   0],\n",
       "        [ 20,   0]],\n",
       "\n",
       "       [[ 17,   0],\n",
       "        [ 25,   0],\n",
       "        [  0,   0],\n",
       "        ...,\n",
       "        [ 22,   0],\n",
       "        [121,   0],\n",
       "        [  0,   0]],\n",
       "\n",
       "       ...,\n",
       "\n",
       "       [[  0,   0],\n",
       "        [  0,   0],\n",
       "        [  0,   0],\n",
       "        ...,\n",
       "        [ 47,   0],\n",
       "        [ 16,   0],\n",
       "        [ 51,   0]],\n",
       "\n",
       "       [[ 75,   0],\n",
       "        [  2,   0],\n",
       "        [ 51,   0],\n",
       "        ...,\n",
       "        [ 45,   0],\n",
       "        [  0,   0],\n",
       "        [  0,   0]],\n",
       "\n",
       "       [[ 34,   0],\n",
       "        [ 99,   0],\n",
       "        [ 51,   0],\n",
       "        ...,\n",
       "        [ 71,   0],\n",
       "        [  0,   0],\n",
       "        [105,   0]]], dtype=uint8)"
      ]
     },
     "execution_count": 12,
     "metadata": {},
     "output_type": "execute_result"
    }
   ],
   "source": [
    "A_train.data[point_ids[0]]"
   ]
  },
  {
   "cell_type": "code",
   "execution_count": 13,
   "id": "9e1dcfe8",
   "metadata": {},
   "outputs": [
    {
     "ename": "KeyError",
     "evalue": "'6c259fd6-6909-4be9-a051-540c67475b56'",
     "output_type": "error",
     "traceback": [
      "\u001B[0;31m---------------------------------------------------------------------------\u001B[0m",
      "\u001B[0;31mKeyError\u001B[0m                                  Traceback (most recent call last)",
      "\u001B[0;32m/tmp/ipykernel_619185/613569683.py\u001B[0m in \u001B[0;36m<module>\u001B[0;34m\u001B[0m\n\u001B[0;32m----> 1\u001B[0;31m \u001B[0mA_test\u001B[0m\u001B[0;34m.\u001B[0m\u001B[0mdata\u001B[0m\u001B[0;34m[\u001B[0m\u001B[0mpoint_ids\u001B[0m\u001B[0;34m[\u001B[0m\u001B[0;36m0\u001B[0m\u001B[0;34m]\u001B[0m\u001B[0;34m]\u001B[0m\u001B[0;34m\u001B[0m\u001B[0;34m\u001B[0m\u001B[0m\n\u001B[0m",
      "\u001B[0;31mKeyError\u001B[0m: '6c259fd6-6909-4be9-a051-540c67475b56'"
     ]
    }
   ],
   "source": [
    "A_test.data[point_ids[0]]"
   ]
  },
  {
   "cell_type": "code",
   "execution_count": null,
   "id": "faa7fdf6",
   "metadata": {},
   "outputs": [],
   "source": []
  },
  {
   "cell_type": "code",
   "execution_count": 14,
   "id": "3a58a7ee",
   "metadata": {},
   "outputs": [],
   "source": [
    "M.save(os.path.join(workingdir, 'M_step8.pickle'))"
   ]
  },
  {
   "cell_type": "code",
   "execution_count": null,
   "id": "8f3231f3",
   "metadata": {},
   "outputs": [],
   "source": []
  }
 ],
 "metadata": {
  "kernelspec": {
   "display_name": "Python 3 (ipykernel)",
   "language": "python",
   "name": "python3"
  },
  "language_info": {
   "codemirror_mode": {
    "name": "ipython",
    "version": 3
   },
   "file_extension": ".py",
   "mimetype": "text/x-python",
   "name": "python",
   "nbconvert_exporter": "python",
   "pygments_lexer": "ipython3",
   "version": "3.9.7"
  }
 },
 "nbformat": 4,
 "nbformat_minor": 5
}
