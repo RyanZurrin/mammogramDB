{
 "cells": [
  {
   "cell_type": "code",
   "execution_count": 1,
   "id": "d3c8f4ff",
   "metadata": {},
   "outputs": [
    {
     "name": "stdout",
     "output_type": "stream",
     "text": [
      "Populating the interactive namespace from numpy and matplotlib\n"
     ]
    }
   ],
   "source": [
    "%pylab inline\n",
    "%load_ext autoreload\n",
    "%autoreload 2"
   ]
  },
  {
   "cell_type": "code",
   "execution_count": 2,
   "id": "b88ec846",
   "metadata": {},
   "outputs": [],
   "source": [
    "import time"
   ]
  },
  {
   "cell_type": "code",
   "execution_count": 3,
   "id": "c794e64f",
   "metadata": {},
   "outputs": [],
   "source": [
    "from runner import Runner"
   ]
  },
  {
   "cell_type": "code",
   "execution_count": 4,
   "id": "be12e92f",
   "metadata": {},
   "outputs": [
    {
     "name": "stdout",
     "output_type": "stream",
     "text": [
      "*** GP2 ***\n",
      "Working directory: /tmp/tmpz9sreoaqGP2\n"
     ]
    }
   ],
   "source": [
    "R1 = Runner(verbose=False)"
   ]
  },
  {
   "cell_type": "code",
   "execution_count": 5,
   "id": "e9a2c60f",
   "metadata": {},
   "outputs": [],
   "source": [
    "# load our lucchi augmented dataset with flipped and rotated images (2640 images and masks)\n",
    "images = np.load('/raid/mpsych/augmented_images_flip_rotate.npy')\n",
    "masks = np.load('/raid/mpsych/augmented_masks_flip_rotate.npy')"
   ]
  },
  {
   "cell_type": "code",
   "execution_count": 6,
   "id": "e6298fff",
   "metadata": {},
   "outputs": [
    {
     "name": "stdout",
     "output_type": "stream",
     "text": [
      "*** GP2 ***\n",
      "Working directory: /tmp/tmpz9sreoaqGP2\n",
      "Weights OK!\n"
     ]
    }
   ],
   "source": [
    "#trying flipped images with slightly different weights\n",
    "weights = {\n",
    "    'A': 0.5,\n",
    "    'A_train': 0.1,\n",
    "    'A_val': 0.2,\n",
    "    'A_test': 0.7,\n",
    "    'B': 0.35,\n",
    "    'B_train': 0.6,\n",
    "    'B_val': 0.1,\n",
    "    'B_test': 0.3,\n",
    "    'Z': 0.15\n",
    "}\n",
    "PERCENT_TO_REPLACE = 10\n",
    "R1 = Runner(verbose=False)\n",
    "R1.setup_data(images, masks, dataset_size=2640, weights=weights)\n",
    "RUNS = 10"
   ]
  },
  {
   "cell_type": "code",
   "execution_count": 7,
   "id": "36e7db74",
   "metadata": {},
   "outputs": [
    {
     "name": "stdout",
     "output_type": "stream",
     "text": [
      "***\n",
      "RUN: 0\n",
      "Model saved to /tmp/tmpz9sreoaqGP2/unet_0.model\n",
      "History saved to /tmp/tmpz9sreoaqGP2/history_0.pickle\n",
      "Testing the classifier...\n",
      "29/29 [==============================] - 3s 102ms/step - loss: 1.2416 - dice_coeff: 0.1020\n",
      "Model saved to /tmp/tmpz9sreoaqGP2/cnnd_0.model\n",
      "History saved to /tmp/tmpz9sreoaqGP2/cnnd_history_0.pickle\n",
      "Testing the discriminator...\n",
      "9/9 [==============================] - 0s 23ms/step - loss: 4.3475 - accuracy: 0.9639\n",
      "Found 123 machine labels.\n",
      "Replacing 12 from 123 !\n",
      "D_relabeled_ 12\n",
      "point ids 12\n",
      "Removed: 12 Filled: 12\n",
      "TOOK 712.0566537380219 seconds\n",
      "***\n",
      "RUN: 1\n",
      "Model saved to /tmp/tmpz9sreoaqGP2/unet_1.model\n",
      "History saved to /tmp/tmpz9sreoaqGP2/history_1.pickle\n",
      "Testing the classifier...\n",
      "29/29 [==============================] - 3s 97ms/step - loss: 1.2101 - dice_coeff: 0.0991\n",
      "Testing the discriminator...\n",
      "9/9 [==============================] - 0s 21ms/step - loss: 11.7174 - accuracy: 0.9531\n",
      "Found 123 machine labels.\n",
      "Replacing 12 from 123 !\n",
      "D_relabeled_ 12\n",
      "point ids 12\n",
      "Removed: 12 Filled: 12\n",
      "TOOK 216.77275800704956 seconds\n",
      "***\n",
      "RUN: 2\n",
      "Model saved to /tmp/tmpz9sreoaqGP2/unet_2.model\n",
      "History saved to /tmp/tmpz9sreoaqGP2/history_2.pickle\n",
      "Testing the classifier...\n",
      "29/29 [==============================] - 3s 97ms/step - loss: 1.1701 - dice_coeff: 0.1090\n",
      "Testing the discriminator...\n",
      "9/9 [==============================] - 0s 26ms/step - loss: 215.8485 - accuracy: 0.6859\n",
      "Found 46 machine labels.\n",
      "Replacing 4 from 46 !\n",
      "D_relabeled_ 4\n",
      "point ids 4\n",
      "Removed: 4 Filled: 4\n",
      "TOOK 276.9009413719177 seconds\n",
      "***\n",
      "RUN: 3\n",
      "Model saved to /tmp/tmpz9sreoaqGP2/unet_3.model\n",
      "History saved to /tmp/tmpz9sreoaqGP2/history_3.pickle\n",
      "Testing the classifier...\n",
      "29/29 [==============================] - 3s 97ms/step - loss: 1.1646 - dice_coeff: 0.1116\n",
      "Testing the discriminator...\n",
      "9/9 [==============================] - 0s 21ms/step - loss: 331.7567 - accuracy: 0.6209\n",
      "Found 36 machine labels.\n",
      "Replacing 3 from 36 !\n",
      "D_relabeled_ 3\n",
      "point ids 3\n",
      "Removed: 3 Filled: 3\n",
      "TOOK 97.03611922264099 seconds\n",
      "***\n",
      "RUN: 4\n",
      "Model saved to /tmp/tmpz9sreoaqGP2/unet_4.model\n",
      "History saved to /tmp/tmpz9sreoaqGP2/history_4.pickle\n",
      "Testing the classifier...\n",
      "29/29 [==============================] - 3s 97ms/step - loss: 1.0747 - dice_coeff: 0.1758\n",
      "Testing the discriminator...\n",
      "9/9 [==============================] - 0s 21ms/step - loss: 1125.4695 - accuracy: 0.5162\n",
      "Found 5 machine labels.\n",
      "Replacing 0 from 5 !\n",
      "D_relabeled_ 0\n",
      "point ids 0\n",
      "Removed: 0 Filled: 0\n",
      "TOOK 276.9012532234192 seconds\n",
      "***\n",
      "RUN: 5\n",
      "Model saved to /tmp/tmpz9sreoaqGP2/unet_5.model\n",
      "History saved to /tmp/tmpz9sreoaqGP2/history_5.pickle\n",
      "Testing the classifier...\n",
      "29/29 [==============================] - 3s 98ms/step - loss: 0.9399 - dice_coeff: 0.2806\n",
      "Testing the discriminator...\n",
      "9/9 [==============================] - 0s 21ms/step - loss: 2256.0081 - accuracy: 0.4729\n",
      "Found 0 machine labels.\n",
      "No more machine labels.\n",
      "TOOK 156.8569085597992 seconds\n"
     ]
    }
   ],
   "source": [
    "for run in range(RUNS):\n",
    "    print('***')\n",
    "    print('RUN:', run)\n",
    "    t0 = time.time()\n",
    "    R1.run_classifier()\n",
    "    R1.run_discriminator()\n",
    "    l = R1.find_machine_labels()\n",
    "    if l == 0:\n",
    "        print('No more machine labels.')\n",
    "        print('TOOK', time.time()-t0, 'seconds')\n",
    "        break\n",
    "    R1.relabel(percent_to_replace=PERCENT_TO_REPLACE)\n",
    "    print('TOOK', time.time()-t0, 'seconds')\n",
    "    "
   ]
  },
  {
   "cell_type": "code",
   "execution_count": 8,
   "id": "33b62cb4",
   "metadata": {},
   "outputs": [
    {
     "data": {
      "text/plain": [
       "[[1.2415717840194702, 0.1019691601395607],\n",
       " [1.2100785970687866, 0.09908796101808548],\n",
       " [1.1700589656829834, 0.1090250238776207],\n",
       " [1.1646314859390259, 0.11160407215356827],\n",
       " [1.074663758277893, 0.17583052814006805],\n",
       " [0.939910352230072, 0.2805939018726349]]"
      ]
     },
     "execution_count": 8,
     "metadata": {},
     "output_type": "execute_result"
    }
   ],
   "source": [
    "R1.classifier_scores"
   ]
  },
  {
   "cell_type": "code",
   "execution_count": 9,
   "id": "29f14414",
   "metadata": {},
   "outputs": [
    {
     "data": {
      "text/plain": [
       "[[4.347457408905029, 0.9638988971710205],\n",
       " [11.717442512512207, 0.9530686140060425],\n",
       " [215.8484649658203, 0.6859205961227417],\n",
       " [331.7566833496094, 0.6209385991096497],\n",
       " [1125.469482421875, 0.5162454843521118],\n",
       " [2256.008056640625, 0.4729241728782654]]"
      ]
     },
     "execution_count": 9,
     "metadata": {},
     "output_type": "execute_result"
    }
   ],
   "source": [
    "R1.discriminator_scores"
   ]
  },
  {
   "cell_type": "code",
   "execution_count": 10,
   "id": "ea545bf4",
   "metadata": {},
   "outputs": [
    {
     "data": {
      "image/png": "[encoded data removed]",
      "text/plain": [
       "<Figure size 240x240 with 1 Axes>"
      ]
     },
     "metadata": {
      "needs_background": "light"
     },
     "output_type": "display_data"
    }
   ],
   "source": [
    "R1.plot()"
   ]
  },
  {
   "cell_type": "code",
   "execution_count": null,
   "id": "9d8f34b9",
   "metadata": {},
   "outputs": [],
   "source": []
  }
 ],
 "metadata": {
  "kernelspec": {
   "display_name": "Python 3 (ipykernel)",
   "language": "python",
   "name": "python3"
  },
  "language_info": {
   "codemirror_mode": {
    "name": "ipython",
    "version": 3
   },
   "file_extension": ".py",
   "mimetype": "text/x-python",
   "name": "python",
   "nbconvert_exporter": "python",
   "pygments_lexer": "ipython3",
   "version": "3.9.7"
  }
 },
 "nbformat": 4,
 "nbformat_minor": 5
}
