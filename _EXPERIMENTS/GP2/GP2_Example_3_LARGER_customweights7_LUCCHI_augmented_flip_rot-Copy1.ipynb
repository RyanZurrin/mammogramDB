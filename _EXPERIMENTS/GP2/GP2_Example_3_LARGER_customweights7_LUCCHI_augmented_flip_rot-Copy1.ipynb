{
 "cells": [
  {
   "cell_type": "code",
   "execution_count": 1,
   "id": "d3c8f4ff",
   "metadata": {},
   "outputs": [
    {
     "name": "stdout",
     "output_type": "stream",
     "text": [
      "Populating the interactive namespace from numpy and matplotlib\n"
     ]
    }
   ],
   "source": [
    "%pylab inline\n",
    "%load_ext autoreload\n",
    "%autoreload 2"
   ]
  },
  {
   "cell_type": "code",
   "execution_count": 2,
   "id": "b88ec846",
   "metadata": {},
   "outputs": [],
   "source": [
    "import time"
   ]
  },
  {
   "cell_type": "code",
   "execution_count": 3,
   "id": "c794e64f",
   "metadata": {},
   "outputs": [],
   "source": [
    "from runner import Runner"
   ]
  },
  {
   "cell_type": "code",
   "execution_count": 4,
   "id": "be12e92f",
   "metadata": {},
   "outputs": [
    {
     "name": "stdout",
     "output_type": "stream",
     "text": [
      "*** GP2 ***\n",
      "Working directory: /tmp/tmp928wsju_GP2\n"
     ]
    }
   ],
   "source": [
    "R = Runner(verbose=False)"
   ]
  },
  {
   "cell_type": "code",
   "execution_count": 5,
   "id": "e9a2c60f",
   "metadata": {},
   "outputs": [],
   "source": [
    "# load our lucchi augmented dataset with flipped and rotated images (2640 images and masks)\n",
    "images = np.load('/raid/mpsych/augmented_images_flip_rotate.npy')\n",
    "masks = np.load('/raid/mpsych/augmented_masks_flip_rotate.npy')"
   ]
  },
  {
   "cell_type": "code",
   "execution_count": 6,
   "id": "e6298fff",
   "metadata": {},
   "outputs": [
    {
     "name": "stdout",
     "output_type": "stream",
     "text": [
      "*** GP2 ***\n",
      "Working directory: /tmp/tmp928wsju_GP2\n",
      "Weights OK!\n"
     ]
    }
   ],
   "source": [
    "weights = {\n",
    "    'A': 0.5,\n",
    "    'A_train': 0.1,\n",
    "    'A_val': 0.3,\n",
    "    'A_test': 0.6,\n",
    "    'B': 0.3,\n",
    "    'B_train': 0.7,\n",
    "    'B_val': 0.1,\n",
    "    'B_test': 0.2,\n",
    "    'Z': 0.2\n",
    "}\n",
    "PERCENT_TO_REPLACE = 20\n",
    "R = Runner(verbose=False)\n",
    "R.setup_data(images, masks, dataset_size=2640, weights=weights)\n",
    "RUNS = 10"
   ]
  },
  {
   "cell_type": "code",
   "execution_count": 7,
   "id": "36e7db74",
   "metadata": {},
   "outputs": [
    {
     "name": "stdout",
     "output_type": "stream",
     "text": [
      "***\n",
      "RUN: 0\n",
      "Model saved to /tmp/tmp928wsju_GP2/unet_0.model\n",
      "History saved to /tmp/tmp928wsju_GP2/history_0.pickle\n",
      "Testing the classifier...\n",
      "25/25 [==============================] - 3s 102ms/step - loss: 1.3284 - dice_coeff: 0.1100\n",
      "Model saved to /tmp/tmp928wsju_GP2/cnnd_0.model\n",
      "History saved to /tmp/tmp928wsju_GP2/cnnd_history_0.pickle\n",
      "Testing the discriminator...\n",
      "5/5 [==============================] - 0s 24ms/step - loss: 0.0000e+00 - accuracy: 1.0000\n",
      "Found 81 machine labels.\n",
      "Replacing 16 from 81 !\n",
      "D_relabeled_ 16\n",
      "point ids 16\n",
      "Removed: 16 Filled: 16\n",
      "TOOK 951.3162896633148 seconds\n",
      "***\n",
      "RUN: 1\n",
      "Model saved to /tmp/tmp928wsju_GP2/unet_1.model\n",
      "History saved to /tmp/tmp928wsju_GP2/history_1.pickle\n",
      "Testing the classifier...\n",
      "25/25 [==============================] - 3s 101ms/step - loss: 1.2646 - dice_coeff: 0.1238\n",
      "Testing the discriminator...\n",
      "5/5 [==============================] - 0s 22ms/step - loss: 24.4974 - accuracy: 0.9747\n",
      "Found 71 machine labels.\n",
      "Replacing 14 from 71 !\n",
      "D_relabeled_ 14\n",
      "point ids 14\n",
      "Removed: 14 Filled: 14\n",
      "TOOK 275.9304404258728 seconds\n",
      "***\n",
      "RUN: 2\n",
      "Model saved to /tmp/tmp928wsju_GP2/unet_2.model\n",
      "History saved to /tmp/tmp928wsju_GP2/history_2.pickle\n",
      "Testing the classifier...\n",
      "25/25 [==============================] - 3s 102ms/step - loss: 1.2095 - dice_coeff: 0.1332\n",
      "Testing the discriminator...\n",
      "5/5 [==============================] - 0s 24ms/step - loss: 790.1835 - accuracy: 0.6646\n",
      "Found 26 machine labels.\n",
      "Replacing 5 from 26 !\n",
      "D_relabeled_ 5\n",
      "point ids 5\n",
      "Removed: 5 Filled: 5\n",
      "TOOK 336.05037474632263 seconds\n",
      "***\n",
      "RUN: 3\n",
      "Model saved to /tmp/tmp928wsju_GP2/unet_3.model\n",
      "History saved to /tmp/tmp928wsju_GP2/history_3.pickle\n",
      "Testing the classifier...\n",
      "25/25 [==============================] - 3s 102ms/step - loss: 0.9223 - dice_coeff: 0.3273\n",
      "Testing the discriminator...\n",
      "5/5 [==============================] - 0s 22ms/step - loss: 8258.7900 - accuracy: 0.4684\n",
      "Found 0 machine labels.\n",
      "No more machine labels.\n",
      "TOOK 575.970591545105 seconds\n"
     ]
    }
   ],
   "source": [
    "for run in range(RUNS):\n",
    "    print('***')\n",
    "    print('RUN:', run)\n",
    "    t0 = time.time()\n",
    "    R.run_classifier()\n",
    "    R.run_discriminator()\n",
    "    l = R.find_machine_labels()\n",
    "    if l == 0:\n",
    "        print('No more machine labels.')\n",
    "        print('TOOK', time.time()-t0, 'seconds')\n",
    "        break\n",
    "    R.relabel(percent_to_replace=PERCENT_TO_REPLACE)\n",
    "    print('TOOK', time.time()-t0, 'seconds')\n",
    "    "
   ]
  },
  {
   "cell_type": "code",
   "execution_count": 8,
   "id": "33b62cb4",
   "metadata": {},
   "outputs": [
    {
     "data": {
      "text/plain": [
       "[[1.3283661603927612, 0.11003784835338593],\n",
       " [1.2646315097808838, 0.12379609793424606],\n",
       " [1.209451675415039, 0.1331869661808014],\n",
       " [0.9222943186759949, 0.3272845149040222]]"
      ]
     },
     "execution_count": 8,
     "metadata": {},
     "output_type": "execute_result"
    }
   ],
   "source": [
    "R.classifier_scores"
   ]
  },
  {
   "cell_type": "code",
   "execution_count": 9,
   "id": "29f14414",
   "metadata": {},
   "outputs": [
    {
     "data": {
      "text/plain": [
       "[[0.0, 1.0],\n",
       " [24.497390747070312, 0.9746835231781006],\n",
       " [790.1834716796875, 0.6645569801330566],\n",
       " [8258.7900390625, 0.4683544337749481]]"
      ]
     },
     "execution_count": 9,
     "metadata": {},
     "output_type": "execute_result"
    }
   ],
   "source": [
    "R.discriminator_scores"
   ]
  },
  {
   "cell_type": "code",
   "execution_count": 10,
   "id": "ea545bf4",
   "metadata": {},
   "outputs": [
    {
     "data": {
      "image/png": "[encoded data removed]",
      "text/plain": [
       "<Figure size 240x240 with 1 Axes>"
      ]
     },
     "metadata": {
      "needs_background": "light"
     },
     "output_type": "display_data"
    }
   ],
   "source": [
    "R.plot()"
   ]
  },
  {
   "cell_type": "code",
   "execution_count": null,
   "id": "8fef4ed7",
   "metadata": {},
   "outputs": [],
   "source": []
  }
 ],
 "metadata": {
  "kernelspec": {
   "display_name": "Python 3 (ipykernel)",
   "language": "python",
   "name": "python3"
  },
  "language_info": {
   "codemirror_mode": {
    "name": "ipython",
    "version": 3
   },
   "file_extension": ".py",
   "mimetype": "text/x-python",
   "name": "python",
   "nbconvert_exporter": "python",
   "pygments_lexer": "ipython3",
   "version": "3.9.7"
  }
 },
 "nbformat": 4,
 "nbformat_minor": 5
}
