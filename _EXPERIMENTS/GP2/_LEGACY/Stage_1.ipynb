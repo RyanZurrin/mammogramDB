{
 "cells": [
  {
   "cell_type": "code",
   "execution_count": 1,
   "id": "37d6b398",
   "metadata": {},
   "outputs": [
    {
     "name": "stdout",
     "output_type": "stream",
     "text": [
      "Populating the interactive namespace from numpy and matplotlib\n"
     ]
    }
   ],
   "source": [
    "%pylab inline"
   ]
  },
  {
   "cell_type": "code",
   "execution_count": null,
   "id": "d7d8d9bc",
   "metadata": {},
   "outputs": [],
   "source": [
    "import gp2"
   ]
  },
  {
   "cell_type": "code",
   "execution_count": null,
   "id": "852a7f13",
   "metadata": {},
   "outputs": [],
   "source": [
    "dataA = gp2.Data.get('A')"
   ]
  },
  {
   "cell_type": "code",
   "execution_count": null,
   "id": "ae949cfe",
   "metadata": {},
   "outputs": [],
   "source": [
    "train_classifier( dataA )"
   ]
  },
  {
   "cell_type": "code",
   "execution_count": null,
   "id": "34f37fa3",
   "metadata": {},
   "outputs": [],
   "source": []
  }
 ],
 "metadata": {
  "kernelspec": {
   "display_name": "Python 3 (ipykernel)",
   "language": "python",
   "name": "python3"
  },
  "language_info": {
   "codemirror_mode": {
    "name": "ipython",
    "version": 3
   },
   "file_extension": ".py",
   "mimetype": "text/x-python",
   "name": "python",
   "nbconvert_exporter": "python",
   "pygments_lexer": "ipython3",
   "version": "3.9.7"
  }
 },
 "nbformat": 4,
 "nbformat_minor": 5
}
