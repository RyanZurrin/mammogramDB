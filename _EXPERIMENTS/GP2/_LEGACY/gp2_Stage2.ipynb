{
 "cells": [
  {
   "cell_type": "code",
   "execution_count": 1,
   "id": "088f540a",
   "metadata": {},
   "outputs": [
    {
     "name": "stdout",
     "output_type": "stream",
     "text": [
      "Populating the interactive namespace from numpy and matplotlib\n"
     ]
    }
   ],
   "source": [
    "%pylab inline"
   ]
  },
  {
   "cell_type": "code",
   "execution_count": 2,
   "id": "6f321b86",
   "metadata": {},
   "outputs": [
    {
     "name": "stderr",
     "output_type": "stream",
     "text": [
      "2022-06-17 10:26:57.580965: I tensorflow/stream_executor/platform/default/dso_loader.cc:53] Successfully opened dynamic library libcudart.so.11.0\n",
      "Using TensorFlow backend.\n"
     ]
    }
   ],
   "source": [
    "import gp2"
   ]
  },
  {
   "cell_type": "code",
   "execution_count": 3,
   "id": "61a886b3",
   "metadata": {},
   "outputs": [],
   "source": [
    "dataB = gp2.Data.get('B') # expert labels\n",
    "dataC = gp2.Data.get('C') # machine labels"
   ]
  },
  {
   "cell_type": "code",
   "execution_count": 4,
   "id": "56bcebae",
   "metadata": {},
   "outputs": [
    {
     "name": "stderr",
     "output_type": "stream",
     "text": [
      "2022-06-17 10:27:11.514674: I tensorflow/stream_executor/platform/default/dso_loader.cc:53] Successfully opened dynamic library libcuda.so.1\n",
      "2022-06-17 10:27:11.820885: I tensorflow/core/common_runtime/gpu/gpu_device.cc:1733] Found device 0 with properties: \n",
      "pciBusID: 0000:87:00.0 name: A100-SXM4-40GB computeCapability: 8.0\n",
      "coreClock: 1.41GHz coreCount: 108 deviceMemorySize: 39.59GiB deviceMemoryBandwidth: 1.41TiB/s\n",
      "2022-06-17 10:27:11.820947: I tensorflow/stream_executor/platform/default/dso_loader.cc:53] Successfully opened dynamic library libcudart.so.11.0\n",
      "2022-06-17 10:27:11.824153: I tensorflow/stream_executor/platform/default/dso_loader.cc:53] Successfully opened dynamic library libcublas.so.11\n",
      "2022-06-17 10:27:11.824185: I tensorflow/stream_executor/platform/default/dso_loader.cc:53] Successfully opened dynamic library libcublasLt.so.11\n",
      "2022-06-17 10:27:11.825099: I tensorflow/stream_executor/platform/default/dso_loader.cc:53] Successfully opened dynamic library libcufft.so.10\n",
      "2022-06-17 10:27:11.825507: I tensorflow/stream_executor/platform/default/dso_loader.cc:53] Successfully opened dynamic library libcurand.so.10\n",
      "2022-06-17 10:27:11.826100: I tensorflow/stream_executor/platform/default/dso_loader.cc:53] Successfully opened dynamic library libcusolver.so.11\n",
      "2022-06-17 10:27:11.826908: I tensorflow/stream_executor/platform/default/dso_loader.cc:53] Successfully opened dynamic library libcusparse.so.11\n",
      "2022-06-17 10:27:11.827238: I tensorflow/stream_executor/platform/default/dso_loader.cc:53] Successfully opened dynamic library libcudnn.so.8\n",
      "2022-06-17 10:27:11.835378: I tensorflow/core/common_runtime/gpu/gpu_device.cc:1871] Adding visible gpu devices: 0\n",
      "2022-06-17 10:27:11.836112: I tensorflow/core/platform/cpu_feature_guard.cc:142] This TensorFlow binary is optimized with oneAPI Deep Neural Network Library (oneDNN) to use the following CPU instructions in performance-critical operations:  AVX2 FMA\n",
      "To enable them in other operations, rebuild TensorFlow with the appropriate compiler flags.\n",
      "2022-06-17 10:27:11.840639: I tensorflow/core/common_runtime/gpu/gpu_device.cc:1733] Found device 0 with properties: \n",
      "pciBusID: 0000:87:00.0 name: A100-SXM4-40GB computeCapability: 8.0\n",
      "coreClock: 1.41GHz coreCount: 108 deviceMemorySize: 39.59GiB deviceMemoryBandwidth: 1.41TiB/s\n",
      "2022-06-17 10:27:11.849371: I tensorflow/core/common_runtime/gpu/gpu_device.cc:1871] Adding visible gpu devices: 0\n",
      "2022-06-17 10:27:11.849398: I tensorflow/stream_executor/platform/default/dso_loader.cc:53] Successfully opened dynamic library libcudart.so.11.0\n",
      "2022-06-17 10:27:12.619761: I tensorflow/core/common_runtime/gpu/gpu_device.cc:1258] Device interconnect StreamExecutor with strength 1 edge matrix:\n",
      "2022-06-17 10:27:12.619814: I tensorflow/core/common_runtime/gpu/gpu_device.cc:1264]      0 \n",
      "2022-06-17 10:27:12.619821: I tensorflow/core/common_runtime/gpu/gpu_device.cc:1277] 0:   N \n",
      "2022-06-17 10:27:12.632686: I tensorflow/core/common_runtime/gpu/gpu_device.cc:1418] Created TensorFlow device (/job:localhost/replica:0/task:0/device:GPU:0 with 38425 MB memory) -> physical GPU (device: 0, name: A100-SXM4-40GB, pci bus id: 0000:87:00.0, compute capability: 8.0)\n",
      "2022-06-17 10:27:37.876288: I tensorflow/compiler/mlir/mlir_graph_optimization_pass.cc:176] None of the MLIR Optimization Passes are enabled (registered 2)\n",
      "2022-06-17 10:27:37.895866: I tensorflow/core/platform/profile_utils/cpu_utils.cc:114] CPU Frequency: 2245735000 Hz\n"
     ]
    },
    {
     "name": "stdout",
     "output_type": "stream",
     "text": [
      "Epoch 1/100\n"
     ]
    },
    {
     "name": "stderr",
     "output_type": "stream",
     "text": [
      "2022-06-17 10:27:38.621990: I tensorflow/stream_executor/platform/default/dso_loader.cc:53] Successfully opened dynamic library libcudnn.so.8\n",
      "2022-06-17 10:27:39.231923: I tensorflow/stream_executor/cuda/cuda_dnn.cc:359] Loaded cuDNN version 8201\n",
      "2022-06-17 10:27:39.877962: W tensorflow/stream_executor/gpu/asm_compiler.cc:191] Falling back to the CUDA driver for PTX compilation; ptxas does not support CC 8.0\n",
      "2022-06-17 10:27:39.877985: W tensorflow/stream_executor/gpu/asm_compiler.cc:194] Used ptxas at ptxas\n",
      "2022-06-17 10:27:39.878041: W tensorflow/stream_executor/gpu/redzone_allocator.cc:314] Unimplemented: ptxas ptxas too old. Falling back to the driver to compile.\n",
      "Relying on driver to perform ptx compilation. \n",
      "Modify $PATH to customize ptxas location.\n",
      "This message will be only logged once.\n",
      "2022-06-17 10:27:39.951588: I tensorflow/stream_executor/platform/default/dso_loader.cc:53] Successfully opened dynamic library libcublas.so.11\n",
      "2022-06-17 10:27:40.733201: I tensorflow/stream_executor/platform/default/dso_loader.cc:53] Successfully opened dynamic library libcublasLt.so.11\n",
      "2022-06-17 10:27:41.098042: I tensorflow/stream_executor/cuda/cuda_blas.cc:1838] TensorFloat-32 will be used for the matrix multiplication. This will only be logged once.\n"
     ]
    },
    {
     "name": "stdout",
     "output_type": "stream",
     "text": [
      "122/122 [==============================] - 18s 112ms/step - loss: 1.2149 - accuracy: 0.7364\n",
      "Epoch 2/100\n",
      "122/122 [==============================] - 13s 104ms/step - loss: 0.5609 - accuracy: 0.7528\n",
      "Epoch 3/100\n",
      "122/122 [==============================] - 13s 104ms/step - loss: 0.5574 - accuracy: 0.7528\n",
      "Epoch 4/100\n",
      "122/122 [==============================] - 13s 104ms/step - loss: 0.5617 - accuracy: 0.7528\n",
      "Epoch 5/100\n",
      "122/122 [==============================] - 14s 112ms/step - loss: 0.5561 - accuracy: 0.7533\n",
      "Epoch 6/100\n",
      "122/122 [==============================] - 10s 81ms/step - loss: 0.3717 - accuracy: 0.8431\n",
      "Epoch 7/100\n",
      "122/122 [==============================] - 13s 107ms/step - loss: 0.0989 - accuracy: 0.9651\n",
      "Epoch 8/100\n",
      "122/122 [==============================] - 13s 104ms/step - loss: 0.0747 - accuracy: 0.9741\n",
      "Epoch 9/100\n",
      "122/122 [==============================] - 13s 104ms/step - loss: 0.0541 - accuracy: 0.9790\n",
      "Epoch 10/100\n",
      "122/122 [==============================] - 13s 105ms/step - loss: 0.0577 - accuracy: 0.9795\n",
      "Epoch 11/100\n",
      "122/122 [==============================] - 13s 108ms/step - loss: 0.0481 - accuracy: 0.9831\n",
      "Epoch 12/100\n",
      "122/122 [==============================] - 10s 82ms/step - loss: 0.0201 - accuracy: 0.99230s - loss: 0.0204 - accura\n",
      "Epoch 13/100\n",
      "122/122 [==============================] - 13s 108ms/step - loss: 0.0310 - accuracy: 0.9897\n",
      "Epoch 14/100\n",
      "122/122 [==============================] - 13s 106ms/step - loss: 0.0193 - accuracy: 0.9915\n",
      "Epoch 15/100\n",
      "122/122 [==============================] - 13s 105ms/step - loss: 0.0218 - accuracy: 0.9913\n",
      "Epoch 16/100\n",
      "122/122 [==============================] - 13s 104ms/step - loss: 0.0183 - accuracy: 0.9946\n",
      "Epoch 17/100\n",
      "122/122 [==============================] - 14s 112ms/step - loss: 0.0151 - accuracy: 0.9946\n",
      "Epoch 18/100\n",
      "122/122 [==============================] - 11s 93ms/step - loss: 0.0124 - accuracy: 0.9964\n",
      "Epoch 19/100\n",
      "122/122 [==============================] - 13s 105ms/step - loss: 0.0107 - accuracy: 0.9956\n",
      "Epoch 20/100\n",
      "122/122 [==============================] - 13s 107ms/step - loss: 0.0134 - accuracy: 0.9949\n",
      "Epoch 21/100\n",
      "122/122 [==============================] - 14s 111ms/step - loss: 0.0122 - accuracy: 0.9959\n",
      "Epoch 22/100\n",
      "122/122 [==============================] - 12s 103ms/step - loss: 0.0274 - accuracy: 0.9918\n",
      "Epoch 00022: early stopping\n"
     ]
    }
   ],
   "source": [
    "gp2.train_discriminator(dataB, dataC)"
   ]
  },
  {
   "cell_type": "code",
   "execution_count": null,
   "id": "109ae521",
   "metadata": {},
   "outputs": [],
   "source": []
  }
 ],
 "metadata": {
  "kernelspec": {
   "display_name": "Python 3 (ipykernel)",
   "language": "python",
   "name": "python3"
  },
  "language_info": {
   "codemirror_mode": {
    "name": "ipython",
    "version": 3
   },
   "file_extension": ".py",
   "mimetype": "text/x-python",
   "name": "python",
   "nbconvert_exporter": "python",
   "pygments_lexer": "ipython3",
   "version": "3.9.7"
  }
 },
 "nbformat": 4,
 "nbformat_minor": 5
}
