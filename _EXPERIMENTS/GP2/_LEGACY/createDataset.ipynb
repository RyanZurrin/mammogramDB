{
 "cells": [
  {
   "cell_type": "code",
   "execution_count": 1,
   "id": "0fb2f02d",
   "metadata": {},
   "outputs": [
    {
     "name": "stdout",
     "output_type": "stream",
     "text": [
      "Populating the interactive namespace from numpy and matplotlib\n"
     ]
    }
   ],
   "source": [
    "%pylab inline"
   ]
  },
  {
   "cell_type": "code",
   "execution_count": 2,
   "id": "9af42ed3",
   "metadata": {},
   "outputs": [],
   "source": [
    "import numpy as np\n",
    "import datasetCircles as circles"
   ]
  },
  {
   "cell_type": "code",
   "execution_count": 3,
   "id": "2f883741",
   "metadata": {},
   "outputs": [],
   "source": [
    "no_of_samples = 100000\n",
    "imageHeight = 512\n",
    "imageWidth = 512"
   ]
  },
  {
   "cell_type": "code",
   "execution_count": null,
   "id": "cf8bb56c",
   "metadata": {},
   "outputs": [],
   "source": [
    "images, noiseImg, labels = circles.build_data(no_of_samples, imageWidth, imageHeight)"
   ]
  },
  {
   "cell_type": "code",
   "execution_count": null,
   "id": "da952767",
   "metadata": {},
   "outputs": [],
   "source": [
    "labels.shape, images.shape, noiseImg.shape"
   ]
  },
  {
   "cell_type": "code",
   "execution_count": null,
   "id": "6b7e53a2",
   "metadata": {},
   "outputs": [],
   "source": [
    "imshow(images[59])"
   ]
  },
  {
   "cell_type": "code",
   "execution_count": null,
   "id": "0eb87880",
   "metadata": {},
   "outputs": [],
   "source": [
    "imshow(noiseImg[59])"
   ]
  },
  {
   "cell_type": "code",
   "execution_count": null,
   "id": "d21f3d8b",
   "metadata": {},
   "outputs": [],
   "source": [
    "imshow(labels[59])"
   ]
  },
  {
   "cell_type": "code",
   "execution_count": null,
   "id": "3734ac11",
   "metadata": {},
   "outputs": [],
   "source": [
    "labels.max()"
   ]
  },
  {
   "cell_type": "code",
   "execution_count": null,
   "id": "e6e7d1fc",
   "metadata": {},
   "outputs": [],
   "source": [
    "imshow(labels[59].astype(np.bool))"
   ]
  },
  {
   "cell_type": "code",
   "execution_count": null,
   "id": "c2dd0170",
   "metadata": {},
   "outputs": [],
   "source": [
    "np.save(\"/raid/mpsych/GP2TOYEXAMPLE_EXTRALARGE/labels.npy\", labels.astype(np.bool))"
   ]
  },
  {
   "cell_type": "code",
   "execution_count": null,
   "id": "670db35c",
   "metadata": {},
   "outputs": [],
   "source": [
    "np.save(\"/raid/mpsych/GP2TOYEXAMPLE_EXTRALARGE/images.npy\", noiseImg.astype(np.uint8))"
   ]
  },
  {
   "cell_type": "code",
   "execution_count": null,
   "id": "0e9b95d6",
   "metadata": {},
   "outputs": [],
   "source": [
    "print('all saved')"
   ]
  },
  {
   "cell_type": "code",
   "execution_count": null,
   "id": "ab3ced0b",
   "metadata": {},
   "outputs": [],
   "source": [
    "noiseImg.dtype"
   ]
  },
  {
   "cell_type": "code",
   "execution_count": null,
   "id": "c293f165",
   "metadata": {},
   "outputs": [],
   "source": [
    "noiseImg.max()"
   ]
  },
  {
   "cell_type": "code",
   "execution_count": null,
   "id": "0ac6ae14",
   "metadata": {},
   "outputs": [],
   "source": [
    "labels.dtype"
   ]
  },
  {
   "cell_type": "code",
   "execution_count": null,
   "id": "bceee455",
   "metadata": {},
   "outputs": [],
   "source": [
    "labels.max()"
   ]
  },
  {
   "cell_type": "code",
   "execution_count": null,
   "id": "00cc7b73",
   "metadata": {},
   "outputs": [],
   "source": []
  },
  {
   "cell_type": "code",
   "execution_count": null,
   "id": "50e7d8f7",
   "metadata": {},
   "outputs": [],
   "source": [
    "# images = np.load(\"NewImages.npy\")\n",
    "# labels = np.load(\"NewLabels.npy\")\n",
    "# noisedImg = = np.load(\"NewnoisedImages.npy\")"
   ]
  }
 ],
 "metadata": {
  "kernelspec": {
   "display_name": "Python 3 (ipykernel)",
   "language": "python",
   "name": "python3"
  },
  "language_info": {
   "codemirror_mode": {
    "name": "ipython",
    "version": 3
   },
   "file_extension": ".py",
   "mimetype": "text/x-python",
   "name": "python",
   "nbconvert_exporter": "python",
   "pygments_lexer": "ipython3",
   "version": "3.9.7"
  }
 },
 "nbformat": 4,
 "nbformat_minor": 5
}
