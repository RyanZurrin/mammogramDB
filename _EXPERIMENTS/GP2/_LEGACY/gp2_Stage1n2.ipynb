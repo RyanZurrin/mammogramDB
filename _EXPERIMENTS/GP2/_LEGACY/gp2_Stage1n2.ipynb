{
 "cells": [
  {
   "cell_type": "code",
   "execution_count": 2,
   "id": "a3715ebf",
   "metadata": {},
   "outputs": [
    {
     "name": "stdout",
     "output_type": "stream",
     "text": [
      "Populating the interactive namespace from numpy and matplotlib\n"
     ]
    }
   ],
   "source": [
    "%pylab inline\n",
    "import numpy as np"
   ]
  },
  {
   "cell_type": "code",
   "execution_count": 3,
   "id": "544ba98a",
   "metadata": {},
   "outputs": [
    {
     "name": "stderr",
     "output_type": "stream",
     "text": [
      "2022-09-02 08:22:02.975588: I tensorflow/stream_executor/platform/default/dso_loader.cc:53] Successfully opened dynamic library libcudart.so.11.0\n"
     ]
    }
   ],
   "source": [
    "import gp2"
   ]
  },
  {
   "cell_type": "code",
   "execution_count": 4,
   "id": "91c38c47",
   "metadata": {},
   "outputs": [],
   "source": [
    "dataA = gp2.Data.get('A') "
   ]
  },
  {
   "cell_type": "code",
   "execution_count": 5,
   "id": "39c4d7b6",
   "metadata": {},
   "outputs": [
    {
     "name": "stderr",
     "output_type": "stream",
     "text": [
      "2022-09-02 08:23:49.508170: I tensorflow/stream_executor/platform/default/dso_loader.cc:53] Successfully opened dynamic library libcuda.so.1\n",
      "2022-09-02 08:23:49.923495: I tensorflow/core/common_runtime/gpu/gpu_device.cc:1733] Found device 0 with properties: \n",
      "pciBusID: 0000:07:00.0 name: A100-SXM4-40GB computeCapability: 8.0\n",
      "coreClock: 1.41GHz coreCount: 108 deviceMemorySize: 39.59GiB deviceMemoryBandwidth: 1.41TiB/s\n",
      "2022-09-02 08:23:49.923531: I tensorflow/stream_executor/platform/default/dso_loader.cc:53] Successfully opened dynamic library libcudart.so.11.0\n",
      "2022-09-02 08:23:49.933253: I tensorflow/stream_executor/platform/default/dso_loader.cc:53] Successfully opened dynamic library libcublas.so.11\n",
      "2022-09-02 08:23:49.933286: I tensorflow/stream_executor/platform/default/dso_loader.cc:53] Successfully opened dynamic library libcublasLt.so.11\n",
      "2022-09-02 08:23:49.936289: I tensorflow/stream_executor/platform/default/dso_loader.cc:53] Successfully opened dynamic library libcufft.so.10\n",
      "2022-09-02 08:23:49.936618: I tensorflow/stream_executor/platform/default/dso_loader.cc:53] Successfully opened dynamic library libcurand.so.10\n",
      "2022-09-02 08:23:49.937143: I tensorflow/stream_executor/platform/default/dso_loader.cc:53] Successfully opened dynamic library libcusolver.so.11\n",
      "2022-09-02 08:23:49.937874: I tensorflow/stream_executor/platform/default/dso_loader.cc:53] Successfully opened dynamic library libcusparse.so.11\n",
      "2022-09-02 08:23:49.940762: I tensorflow/stream_executor/platform/default/dso_loader.cc:53] Successfully opened dynamic library libcudnn.so.8\n",
      "2022-09-02 08:23:49.946090: I tensorflow/core/common_runtime/gpu/gpu_device.cc:1871] Adding visible gpu devices: 0\n",
      "2022-09-02 08:23:49.948896: I tensorflow/core/platform/cpu_feature_guard.cc:142] This TensorFlow binary is optimized with oneAPI Deep Neural Network Library (oneDNN) to use the following CPU instructions in performance-critical operations:  AVX2 FMA\n",
      "To enable them in other operations, rebuild TensorFlow with the appropriate compiler flags.\n",
      "2022-09-02 08:23:49.952306: I tensorflow/core/common_runtime/gpu/gpu_device.cc:1733] Found device 0 with properties: \n",
      "pciBusID: 0000:07:00.0 name: A100-SXM4-40GB computeCapability: 8.0\n",
      "coreClock: 1.41GHz coreCount: 108 deviceMemorySize: 39.59GiB deviceMemoryBandwidth: 1.41TiB/s\n",
      "2022-09-02 08:23:49.963824: I tensorflow/core/common_runtime/gpu/gpu_device.cc:1871] Adding visible gpu devices: 0\n",
      "2022-09-02 08:23:49.963865: I tensorflow/stream_executor/platform/default/dso_loader.cc:53] Successfully opened dynamic library libcudart.so.11.0\n",
      "2022-09-02 08:23:50.943906: I tensorflow/core/common_runtime/gpu/gpu_device.cc:1258] Device interconnect StreamExecutor with strength 1 edge matrix:\n",
      "2022-09-02 08:23:50.943949: I tensorflow/core/common_runtime/gpu/gpu_device.cc:1264]      0 \n",
      "2022-09-02 08:23:50.943955: I tensorflow/core/common_runtime/gpu/gpu_device.cc:1277] 0:   N \n",
      "2022-09-02 08:23:50.960510: I tensorflow/core/common_runtime/gpu/gpu_device.cc:1418] Created TensorFlow device (/job:localhost/replica:0/task:0/device:GPU:0 with 38425 MB memory) -> physical GPU (device: 0, name: A100-SXM4-40GB, pci bus id: 0000:07:00.0, compute capability: 8.0)\n",
      "2022-09-02 08:23:52.751103: I tensorflow/compiler/mlir/mlir_graph_optimization_pass.cc:176] None of the MLIR Optimization Passes are enabled (registered 2)\n",
      "2022-09-02 08:23:52.768634: I tensorflow/core/platform/profile_utils/cpu_utils.cc:114] CPU Frequency: 2245845000 Hz\n"
     ]
    },
    {
     "name": "stdout",
     "output_type": "stream",
     "text": [
      "Epoch 1/100\n"
     ]
    },
    {
     "name": "stderr",
     "output_type": "stream",
     "text": [
      "2022-09-02 08:24:01.368301: I tensorflow/stream_executor/platform/default/dso_loader.cc:53] Successfully opened dynamic library libcudnn.so.8\n",
      "2022-09-02 08:24:02.731750: I tensorflow/stream_executor/cuda/cuda_dnn.cc:359] Loaded cuDNN version 8201\n",
      "2022-09-02 08:24:04.109454: W tensorflow/stream_executor/gpu/asm_compiler.cc:191] Falling back to the CUDA driver for PTX compilation; ptxas does not support CC 8.0\n",
      "2022-09-02 08:24:04.109477: W tensorflow/stream_executor/gpu/asm_compiler.cc:194] Used ptxas at ptxas\n",
      "2022-09-02 08:24:04.109554: W tensorflow/stream_executor/gpu/redzone_allocator.cc:314] Unimplemented: ptxas ptxas too old. Falling back to the driver to compile.\n",
      "Relying on driver to perform ptx compilation. \n",
      "Modify $PATH to customize ptxas location.\n",
      "This message will be only logged once.\n",
      "2022-09-02 08:24:04.289844: I tensorflow/stream_executor/platform/default/dso_loader.cc:53] Successfully opened dynamic library libcublas.so.11\n",
      "2022-09-02 08:24:05.677388: I tensorflow/stream_executor/platform/default/dso_loader.cc:53] Successfully opened dynamic library libcublasLt.so.11\n",
      "2022-09-02 08:24:11.385121: W tensorflow/core/common_runtime/bfc_allocator.cc:271] Allocator (GPU_0_bfc) ran out of memory trying to allocate 3.02GiB with freed_by_count=0. The caller indicates that this is not a failure, but may mean that there could be performance gains if more memory were available.\n"
     ]
    },
    {
     "name": "stdout",
     "output_type": "stream",
     "text": [
      "4/4 [==============================] - 53s 9s/step - loss: 1.4754 - dice_coeff: 0.1653 - val_loss: 1.4179 - val_dice_coeff: 0.1424\n",
      "Epoch 2/100\n",
      "4/4 [==============================] - 15s 5s/step - loss: 1.3040 - dice_coeff: 0.2349 - val_loss: 1.4504 - val_dice_coeff: 0.1497\n",
      "Epoch 3/100\n",
      "4/4 [==============================] - 15s 5s/step - loss: 1.2081 - dice_coeff: 0.2814 - val_loss: 1.4784 - val_dice_coeff: 0.1557\n",
      "Epoch 4/100\n",
      "4/4 [==============================] - 15s 5s/step - loss: 1.1290 - dice_coeff: 0.3131 - val_loss: 1.5008 - val_dice_coeff: 0.1615\n",
      "Epoch 5/100\n",
      "4/4 [==============================] - 15s 5s/step - loss: 1.0631 - dice_coeff: 0.3482 - val_loss: 1.5141 - val_dice_coeff: 0.1690\n",
      "Epoch 6/100\n",
      "4/4 [==============================] - 15s 5s/step - loss: 1.0252 - dice_coeff: 0.3694 - val_loss: 1.5301 - val_dice_coeff: 0.1776\n",
      "Epoch 7/100\n",
      "4/4 [==============================] - 15s 5s/step - loss: 0.9664 - dice_coeff: 0.3915 - val_loss: 1.5412 - val_dice_coeff: 0.1865\n",
      "Epoch 8/100\n",
      "4/4 [==============================] - 15s 5s/step - loss: 0.9288 - dice_coeff: 0.4046 - val_loss: 1.5532 - val_dice_coeff: 0.1955\n",
      "Epoch 9/100\n",
      "4/4 [==============================] - 15s 5s/step - loss: 0.8920 - dice_coeff: 0.4200 - val_loss: 1.5698 - val_dice_coeff: 0.2031\n",
      "Epoch 10/100\n",
      "4/4 [==============================] - 16s 5s/step - loss: 0.8610 - dice_coeff: 0.4299 - val_loss: 1.5873 - val_dice_coeff: 0.2111\n",
      "Epoch 11/100\n",
      "4/4 [==============================] - 15s 5s/step - loss: 0.8402 - dice_coeff: 0.4377 - val_loss: 1.5684 - val_dice_coeff: 0.2187\n",
      "Epoch 12/100\n",
      "4/4 [==============================] - 15s 5s/step - loss: 0.8311 - dice_coeff: 0.4351 - val_loss: 1.5710 - val_dice_coeff: 0.2240\n",
      "Epoch 13/100\n",
      "4/4 [==============================] - 15s 5s/step - loss: 0.7918 - dice_coeff: 0.4628 - val_loss: 1.5795 - val_dice_coeff: 0.2293\n",
      "Epoch 14/100\n",
      "4/4 [==============================] - 15s 5s/step - loss: 0.7998 - dice_coeff: 0.4709 - val_loss: 1.5766 - val_dice_coeff: 0.2330\n",
      "Epoch 15/100\n",
      "4/4 [==============================] - 15s 5s/step - loss: 0.7541 - dice_coeff: 0.4932 - val_loss: 1.5771 - val_dice_coeff: 0.2360\n",
      "Epoch 16/100\n",
      "4/4 [==============================] - 15s 5s/step - loss: 0.7492 - dice_coeff: 0.4825 - val_loss: 1.5812 - val_dice_coeff: 0.2392\n",
      "Epoch 17/100\n",
      "4/4 [==============================] - 15s 5s/step - loss: 0.7263 - dice_coeff: 0.4773 - val_loss: 1.5913 - val_dice_coeff: 0.2423\n",
      "Epoch 18/100\n",
      "4/4 [==============================] - 15s 5s/step - loss: 0.7331 - dice_coeff: 0.4819 - val_loss: 1.5198 - val_dice_coeff: 0.2478\n",
      "Epoch 19/100\n",
      "4/4 [==============================] - 15s 5s/step - loss: 0.7122 - dice_coeff: 0.5009 - val_loss: 1.5869 - val_dice_coeff: 0.2484\n",
      "Epoch 20/100\n",
      "4/4 [==============================] - 15s 5s/step - loss: 0.7208 - dice_coeff: 0.5007 - val_loss: 1.5984 - val_dice_coeff: 0.2514\n",
      "Epoch 21/100\n",
      "4/4 [==============================] - 15s 5s/step - loss: 0.6926 - dice_coeff: 0.5139 - val_loss: 1.5945 - val_dice_coeff: 0.2536\n",
      "Epoch 22/100\n",
      "4/4 [==============================] - 15s 5s/step - loss: 0.6888 - dice_coeff: 0.5138 - val_loss: 1.5693 - val_dice_coeff: 0.2568\n",
      "Epoch 23/100\n",
      "4/4 [==============================] - 15s 5s/step - loss: 0.6766 - dice_coeff: 0.5293 - val_loss: 1.5038 - val_dice_coeff: 0.2640\n",
      "Epoch 24/100\n",
      "4/4 [==============================] - 15s 5s/step - loss: 0.6847 - dice_coeff: 0.5206 - val_loss: 1.5361 - val_dice_coeff: 0.2660\n",
      "Epoch 25/100\n",
      "4/4 [==============================] - 15s 5s/step - loss: 0.6625 - dice_coeff: 0.5355 - val_loss: 1.3465 - val_dice_coeff: 0.2884\n",
      "Epoch 26/100\n",
      "4/4 [==============================] - 15s 5s/step - loss: 0.6850 - dice_coeff: 0.5165 - val_loss: 1.4071 - val_dice_coeff: 0.2820\n",
      "Epoch 27/100\n",
      "4/4 [==============================] - 15s 5s/step - loss: 0.6504 - dice_coeff: 0.5401 - val_loss: 1.3348 - val_dice_coeff: 0.2939\n",
      "Epoch 28/100\n",
      "4/4 [==============================] - 15s 5s/step - loss: 0.6480 - dice_coeff: 0.5404 - val_loss: 1.3982 - val_dice_coeff: 0.2830\n",
      "Epoch 29/100\n",
      "4/4 [==============================] - 15s 5s/step - loss: 0.6578 - dice_coeff: 0.5231 - val_loss: 1.4067 - val_dice_coeff: 0.2906\n",
      "Epoch 30/100\n",
      "4/4 [==============================] - 15s 5s/step - loss: 0.6359 - dice_coeff: 0.5397 - val_loss: 1.3738 - val_dice_coeff: 0.2960\n",
      "Epoch 31/100\n",
      "4/4 [==============================] - 15s 5s/step - loss: 0.6302 - dice_coeff: 0.5479 - val_loss: 1.1908 - val_dice_coeff: 0.3247\n",
      "Epoch 32/100\n",
      "4/4 [==============================] - 15s 5s/step - loss: 0.6229 - dice_coeff: 0.5611 - val_loss: 1.0499 - val_dice_coeff: 0.3616\n",
      "Epoch 33/100\n",
      "4/4 [==============================] - 15s 5s/step - loss: 0.6270 - dice_coeff: 0.5463 - val_loss: 1.1210 - val_dice_coeff: 0.3506\n",
      "Epoch 34/100\n",
      "4/4 [==============================] - 15s 5s/step - loss: 0.6229 - dice_coeff: 0.5613 - val_loss: 1.2434 - val_dice_coeff: 0.3253\n",
      "Epoch 35/100\n",
      "4/4 [==============================] - 15s 5s/step - loss: 0.6158 - dice_coeff: 0.5434 - val_loss: 1.2733 - val_dice_coeff: 0.3178\n",
      "Epoch 36/100\n",
      "4/4 [==============================] - 15s 5s/step - loss: 0.6143 - dice_coeff: 0.5563 - val_loss: 1.2485 - val_dice_coeff: 0.3262\n",
      "Epoch 37/100\n",
      "4/4 [==============================] - 15s 5s/step - loss: 0.6115 - dice_coeff: 0.5582 - val_loss: 1.1504 - val_dice_coeff: 0.3467\n",
      "Epoch 38/100\n",
      "4/4 [==============================] - 15s 5s/step - loss: 0.6028 - dice_coeff: 0.5732 - val_loss: 1.0661 - val_dice_coeff: 0.3649\n",
      "Epoch 39/100\n",
      "4/4 [==============================] - 15s 5s/step - loss: 0.6102 - dice_coeff: 0.5529 - val_loss: 1.1716 - val_dice_coeff: 0.3486\n",
      "Epoch 40/100\n",
      "4/4 [==============================] - 15s 5s/step - loss: 0.5970 - dice_coeff: 0.5709 - val_loss: 1.0779 - val_dice_coeff: 0.3732\n",
      "Epoch 41/100\n",
      "4/4 [==============================] - 15s 5s/step - loss: 0.5855 - dice_coeff: 0.5737 - val_loss: 1.0160 - val_dice_coeff: 0.3896\n",
      "Epoch 42/100\n",
      "4/4 [==============================] - 15s 5s/step - loss: 0.5856 - dice_coeff: 0.5719 - val_loss: 1.0522 - val_dice_coeff: 0.3803\n",
      "Epoch 43/100\n",
      "4/4 [==============================] - 15s 5s/step - loss: 0.5787 - dice_coeff: 0.5803 - val_loss: 0.9408 - val_dice_coeff: 0.4078\n",
      "Epoch 44/100\n",
      "4/4 [==============================] - 15s 5s/step - loss: 0.5942 - dice_coeff: 0.5788 - val_loss: 1.0001 - val_dice_coeff: 0.3945\n",
      "Epoch 45/100\n",
      "4/4 [==============================] - 15s 5s/step - loss: 0.5772 - dice_coeff: 0.5688 - val_loss: 0.8803 - val_dice_coeff: 0.4406\n",
      "Epoch 46/100\n",
      "4/4 [==============================] - 16s 5s/step - loss: 0.5811 - dice_coeff: 0.5721 - val_loss: 0.7366 - val_dice_coeff: 0.4886\n",
      "Epoch 47/100\n",
      "4/4 [==============================] - 15s 5s/step - loss: 0.5686 - dice_coeff: 0.5849 - val_loss: 0.8986 - val_dice_coeff: 0.4449\n",
      "Epoch 48/100\n",
      "4/4 [==============================] - 15s 5s/step - loss: 0.5875 - dice_coeff: 0.5685 - val_loss: 1.0443 - val_dice_coeff: 0.4200\n",
      "Epoch 49/100\n",
      "4/4 [==============================] - 16s 5s/step - loss: 0.5755 - dice_coeff: 0.5715 - val_loss: 0.6890 - val_dice_coeff: 0.5119\n",
      "Epoch 50/100\n",
      "4/4 [==============================] - 15s 5s/step - loss: 0.5941 - dice_coeff: 0.5672 - val_loss: 0.7211 - val_dice_coeff: 0.5059\n",
      "Epoch 00050: early stopping\n",
      "247/247 [==============================] - 26s 105ms/step - loss: 0.7214 - dice_coeff: 0.5059\n"
     ]
    }
   ],
   "source": [
    "gp2.train_classifier(dataA, modelCompile = True)"
   ]
  },
  {
   "cell_type": "code",
   "execution_count": null,
   "id": "c39f9bbf",
   "metadata": {},
   "outputs": [],
   "source": []
  },
  {
   "cell_type": "code",
   "execution_count": null,
   "id": "1de5c879",
   "metadata": {},
   "outputs": [],
   "source": [
    "# dataB = gp2.Data.get('B')  # expert labels"
   ]
  },
  {
   "cell_type": "code",
   "execution_count": 6,
   "id": "e714d176",
   "metadata": {},
   "outputs": [],
   "source": [
    "dataC = gp2.Data.get('C')  # machine + human(dataB)"
   ]
  },
  {
   "cell_type": "code",
   "execution_count": 7,
   "id": "579cd6d9",
   "metadata": {
    "scrolled": true
   },
   "outputs": [
    {
     "name": "stdout",
     "output_type": "stream",
     "text": [
      "Epoch 1/100\n",
      "  1/149 [..............................] - ETA: 2:03 - loss: 0.7015 - accuracy: 0.5312"
     ]
    },
    {
     "name": "stderr",
     "output_type": "stream",
     "text": [
      "2022-09-02 08:39:14.263228: I tensorflow/stream_executor/cuda/cuda_blas.cc:1838] TensorFloat-32 will be used for the matrix multiplication. This will only be logged once.\n"
     ]
    },
    {
     "name": "stdout",
     "output_type": "stream",
     "text": [
      "149/149 [==============================] - 27s 174ms/step - loss: 0.6921 - accuracy: 0.8021 - val_loss: 0.0029 - val_accuracy: 1.0000\n",
      "Epoch 2/100\n",
      "149/149 [==============================] - 24s 164ms/step - loss: 0.0057 - accuracy: 0.9994 - val_loss: 0.0012 - val_accuracy: 1.0000\n",
      "Epoch 3/100\n",
      "149/149 [==============================] - 26s 175ms/step - loss: 0.0040 - accuracy: 0.9993 - val_loss: 0.0017 - val_accuracy: 1.0000\n",
      "Epoch 4/100\n",
      "149/149 [==============================] - 25s 168ms/step - loss: 0.0031 - accuracy: 0.9994 - val_loss: 0.0018 - val_accuracy: 1.0000\n",
      "Epoch 5/100\n",
      "149/149 [==============================] - 26s 172ms/step - loss: 0.0023 - accuracy: 0.9995 - val_loss: 0.0017 - val_accuracy: 1.0000\n",
      "Epoch 6/100\n",
      "149/149 [==============================] - 26s 174ms/step - loss: 0.0034 - accuracy: 0.9995 - val_loss: 0.0032 - val_accuracy: 1.0000\n",
      "Epoch 7/100\n",
      "149/149 [==============================] - 27s 180ms/step - loss: 0.0014 - accuracy: 0.9997 - val_loss: 7.2901e-04 - val_accuracy: 1.0000\n",
      "Epoch 8/100\n",
      "149/149 [==============================] - 26s 178ms/step - loss: 8.2818e-04 - accuracy: 0.9999 - val_loss: 2.2495e-04 - val_accuracy: 1.0000\n",
      "Epoch 9/100\n",
      "149/149 [==============================] - 26s 173ms/step - loss: 0.0035 - accuracy: 0.9994 - val_loss: 0.0058 - val_accuracy: 1.0000\n",
      "Epoch 10/100\n",
      "149/149 [==============================] - 26s 176ms/step - loss: 0.0015 - accuracy: 0.9998 - val_loss: 2.9266e-05 - val_accuracy: 1.0000\n",
      "Epoch 11/100\n",
      "149/149 [==============================] - 27s 179ms/step - loss: 0.0016 - accuracy: 0.9995 - val_loss: 3.2644e-04 - val_accuracy: 1.0000\n",
      "Epoch 00011: early stopping\n",
      "149/149 [==============================] - 6s 43ms/step - loss: 0.0047 - accuracy: 0.9996\n"
     ]
    }
   ],
   "source": [
    "gp2.train_discriminator( dataC, modelCompile = True)"
   ]
  },
  {
   "cell_type": "code",
   "execution_count": 8,
   "id": "4b433704",
   "metadata": {},
   "outputs": [
    {
     "name": "stdout",
     "output_type": "stream",
     "text": [
      "Old Train Shape: (200, 512, 512, 1)(200, 512, 512, 1)\n",
      "Old Test Shape: (7900, 512, 512, 1)(7900, 512, 512, 1)\n",
      "Total index: 2357\n",
      "New Train Shape: (494, 512, 512, 1)(494, 512, 512, 1)\n",
      "New Test Shape: (7606, 512, 512, 1)(7606, 512, 512, 1)\n"
     ]
    }
   ],
   "source": [
    "dataD = gp2.find_machine_labels()"
   ]
  },
  {
   "cell_type": "code",
   "execution_count": null,
   "id": "786e86fc",
   "metadata": {},
   "outputs": [
    {
     "name": "stdout",
     "output_type": "stream",
     "text": [
      "Using trained classifier model\n",
      "Epoch 1/100\n",
      "8/8 [==============================] - 30s 4s/step - loss: 0.5635 - dice_coeff: 0.5872 - val_loss: 0.6692 - val_dice_coeff: 0.5246\n",
      "Epoch 2/100\n",
      "8/8 [==============================] - 19s 3s/step - loss: 0.5573 - dice_coeff: 0.5915 - val_loss: 0.6441 - val_dice_coeff: 0.5363\n",
      "Epoch 3/100\n",
      "8/8 [==============================] - 19s 3s/step - loss: 0.5555 - dice_coeff: 0.5927 - val_loss: 0.6481 - val_dice_coeff: 0.5323\n",
      "Epoch 4/100\n",
      "8/8 [==============================] - 20s 3s/step - loss: 0.5508 - dice_coeff: 0.5951 - val_loss: 0.6492 - val_dice_coeff: 0.5343\n",
      "Epoch 5/100\n",
      "8/8 [==============================] - 20s 3s/step - loss: 0.5516 - dice_coeff: 0.5955 - val_loss: 0.6346 - val_dice_coeff: 0.5407\n",
      "Epoch 6/100\n",
      "8/8 [==============================] - 20s 3s/step - loss: 0.5519 - dice_coeff: 0.5959 - val_loss: 0.6288 - val_dice_coeff: 0.5459\n",
      "Epoch 7/100\n",
      "8/8 [==============================] - 20s 3s/step - loss: 0.5389 - dice_coeff: 0.6023 - val_loss: 0.6294 - val_dice_coeff: 0.5433\n",
      "Epoch 8/100\n",
      "8/8 [==============================] - 20s 3s/step - loss: 0.5359 - dice_coeff: 0.6046 - val_loss: 0.6199 - val_dice_coeff: 0.5489\n",
      "Epoch 9/100\n",
      "8/8 [==============================] - 20s 3s/step - loss: 0.5318 - dice_coeff: 0.6074 - val_loss: 0.6197 - val_dice_coeff: 0.5519\n",
      "Epoch 10/100\n",
      "8/8 [==============================] - 20s 3s/step - loss: 0.5309 - dice_coeff: 0.6080 - val_loss: 0.5977 - val_dice_coeff: 0.5632\n",
      "Epoch 11/100\n",
      "8/8 [==============================] - 20s 3s/step - loss: 0.5248 - dice_coeff: 0.6118 - val_loss: 0.6024 - val_dice_coeff: 0.5582\n",
      "Epoch 12/100\n",
      "8/8 [==============================] - 20s 3s/step - loss: 0.5209 - dice_coeff: 0.6140 - val_loss: 0.6005 - val_dice_coeff: 0.5599\n",
      "Epoch 13/100\n",
      "8/8 [==============================] - 20s 3s/step - loss: 0.5187 - dice_coeff: 0.6156 - val_loss: 0.5886 - val_dice_coeff: 0.5677\n",
      "Epoch 14/100\n",
      "8/8 [==============================] - 20s 3s/step - loss: 0.5174 - dice_coeff: 0.6167 - val_loss: 0.5963 - val_dice_coeff: 0.5674\n",
      "Epoch 15/100\n",
      "8/8 [==============================] - 20s 3s/step - loss: 0.5169 - dice_coeff: 0.6168 - val_loss: 0.5790 - val_dice_coeff: 0.5730\n",
      "Epoch 16/100\n",
      "8/8 [==============================] - 20s 3s/step - loss: 0.5094 - dice_coeff: 0.6210 - val_loss: 0.5865 - val_dice_coeff: 0.5679\n",
      "Epoch 17/100\n",
      "8/8 [==============================] - 20s 3s/step - loss: 0.5060 - dice_coeff: 0.6228 - val_loss: 0.5729 - val_dice_coeff: 0.5767\n",
      "Epoch 18/100\n",
      "8/8 [==============================] - 20s 3s/step - loss: 0.5009 - dice_coeff: 0.6271 - val_loss: 0.5650 - val_dice_coeff: 0.5813\n",
      "Epoch 19/100\n",
      "8/8 [==============================] - 20s 3s/step - loss: 0.4968 - dice_coeff: 0.6291 - val_loss: 0.5573 - val_dice_coeff: 0.5859\n",
      "Epoch 20/100\n",
      "8/8 [==============================] - 20s 3s/step - loss: 0.4968 - dice_coeff: 0.6300 - val_loss: 0.5614 - val_dice_coeff: 0.5835\n",
      "Epoch 21/100\n",
      "8/8 [==============================] - 20s 3s/step - loss: 0.4932 - dice_coeff: 0.6319 - val_loss: 0.5569 - val_dice_coeff: 0.5865\n",
      "Epoch 22/100\n",
      "8/8 [==============================] - 20s 3s/step - loss: 0.4895 - dice_coeff: 0.6346 - val_loss: 0.5553 - val_dice_coeff: 0.5873\n",
      "Epoch 23/100\n",
      "8/8 [==============================] - 20s 3s/step - loss: 0.4880 - dice_coeff: 0.6356 - val_loss: 0.5380 - val_dice_coeff: 0.5991\n",
      "Epoch 24/100\n",
      "8/8 [==============================] - 20s 3s/step - loss: 0.4832 - dice_coeff: 0.6383 - val_loss: 0.5462 - val_dice_coeff: 0.5930\n",
      "Epoch 25/100\n",
      "8/8 [==============================] - 20s 3s/step - loss: 0.4806 - dice_coeff: 0.6398 - val_loss: 0.5348 - val_dice_coeff: 0.6008\n",
      "Epoch 26/100\n",
      "8/8 [==============================] - 20s 3s/step - loss: 0.4799 - dice_coeff: 0.6404 - val_loss: 0.5340 - val_dice_coeff: 0.6012\n",
      "Epoch 27/100\n",
      "8/8 [==============================] - 20s 3s/step - loss: 0.4753 - dice_coeff: 0.6434 - val_loss: 0.5372 - val_dice_coeff: 0.5987\n",
      "Epoch 28/100\n",
      "8/8 [==============================] - 20s 3s/step - loss: 0.4724 - dice_coeff: 0.6451 - val_loss: 0.5319 - val_dice_coeff: 0.6021\n",
      "Epoch 29/100\n",
      "8/8 [==============================] - 20s 3s/step - loss: 0.4701 - dice_coeff: 0.6470 - val_loss: 0.5332 - val_dice_coeff: 0.6015\n",
      "Epoch 30/100\n",
      "8/8 [==============================] - 20s 3s/step - loss: 0.4668 - dice_coeff: 0.6489 - val_loss: 0.5234 - val_dice_coeff: 0.6080\n",
      "Epoch 31/100\n",
      "8/8 [==============================] - 20s 3s/step - loss: 0.4652 - dice_coeff: 0.6507 - val_loss: 0.5112 - val_dice_coeff: 0.6168\n",
      "Epoch 32/100\n",
      "8/8 [==============================] - 22s 3s/step - loss: 0.4613 - dice_coeff: 0.6525 - val_loss: 0.5147 - val_dice_coeff: 0.6138\n",
      "Epoch 33/100\n",
      "8/8 [==============================] - 21s 3s/step - loss: 0.4582 - dice_coeff: 0.6549 - val_loss: 0.5137 - val_dice_coeff: 0.6142\n",
      "Epoch 34/100\n",
      "8/8 [==============================] - 20s 3s/step - loss: 0.4558 - dice_coeff: 0.6556 - val_loss: 0.5116 - val_dice_coeff: 0.6159\n",
      "Epoch 35/100\n",
      "8/8 [==============================] - 19s 3s/step - loss: 0.4524 - dice_coeff: 0.6587 - val_loss: 0.5075 - val_dice_coeff: 0.6185\n",
      "Epoch 36/100\n",
      "8/8 [==============================] - 20s 3s/step - loss: 0.4539 - dice_coeff: 0.6574 - val_loss: 0.4979 - val_dice_coeff: 0.6257\n",
      "Epoch 37/100\n",
      "8/8 [==============================] - 19s 3s/step - loss: 0.4467 - dice_coeff: 0.6620 - val_loss: 0.4995 - val_dice_coeff: 0.6239\n",
      "Epoch 38/100\n",
      "8/8 [==============================] - 20s 3s/step - loss: 0.4472 - dice_coeff: 0.6614 - val_loss: 0.4920 - val_dice_coeff: 0.6296\n",
      "Epoch 39/100\n",
      "8/8 [==============================] - 19s 3s/step - loss: 0.4417 - dice_coeff: 0.6648 - val_loss: 0.4938 - val_dice_coeff: 0.6279\n",
      "Epoch 40/100\n",
      "8/8 [==============================] - 20s 3s/step - loss: 0.4406 - dice_coeff: 0.6663 - val_loss: 0.4892 - val_dice_coeff: 0.6310\n",
      "Epoch 41/100\n",
      "8/8 [==============================] - 20s 3s/step - loss: 0.4366 - dice_coeff: 0.6690 - val_loss: 0.4831 - val_dice_coeff: 0.6352\n",
      "Epoch 42/100\n",
      "8/8 [==============================] - 20s 3s/step - loss: 0.4345 - dice_coeff: 0.6708 - val_loss: 0.4875 - val_dice_coeff: 0.6322\n",
      "Epoch 43/100\n",
      "8/8 [==============================] - 20s 3s/step - loss: 0.4340 - dice_coeff: 0.6707 - val_loss: 0.4860 - val_dice_coeff: 0.6342\n",
      "Epoch 44/100\n",
      "8/8 [==============================] - 20s 3s/step - loss: 0.4315 - dice_coeff: 0.6722 - val_loss: 0.4811 - val_dice_coeff: 0.6366\n",
      "Epoch 45/100\n",
      "8/8 [==============================] - 20s 3s/step - loss: 0.4256 - dice_coeff: 0.6762 - val_loss: 0.4862 - val_dice_coeff: 0.6330\n",
      "Epoch 46/100\n",
      "8/8 [==============================] - 20s 3s/step - loss: 0.4246 - dice_coeff: 0.6764 - val_loss: 0.4762 - val_dice_coeff: 0.6399\n",
      "Epoch 47/100\n",
      "8/8 [==============================] - 20s 3s/step - loss: 0.4225 - dice_coeff: 0.6789 - val_loss: 0.4693 - val_dice_coeff: 0.6449\n",
      "Epoch 48/100\n",
      "8/8 [==============================] - 20s 3s/step - loss: 0.4192 - dice_coeff: 0.6806 - val_loss: 0.4663 - val_dice_coeff: 0.6468\n",
      "Epoch 49/100\n",
      "8/8 [==============================] - 20s 3s/step - loss: 0.4171 - dice_coeff: 0.6823 - val_loss: 0.4686 - val_dice_coeff: 0.6450\n",
      "Epoch 50/100\n",
      "8/8 [==============================] - 20s 3s/step - loss: 0.4149 - dice_coeff: 0.6843 - val_loss: 0.4669 - val_dice_coeff: 0.6467\n",
      "Epoch 51/100\n",
      "8/8 [==============================] - 20s 3s/step - loss: 0.4124 - dice_coeff: 0.6852 - val_loss: 0.4567 - val_dice_coeff: 0.6534\n",
      "Epoch 52/100\n",
      "8/8 [==============================] - 20s 3s/step - loss: 0.4134 - dice_coeff: 0.6855 - val_loss: 0.4589 - val_dice_coeff: 0.6518\n",
      "Epoch 53/100\n",
      "8/8 [==============================] - 20s 3s/step - loss: 0.4071 - dice_coeff: 0.6892 - val_loss: 0.4522 - val_dice_coeff: 0.6564\n",
      "Epoch 54/100\n",
      "8/8 [==============================] - 20s 3s/step - loss: 0.4033 - dice_coeff: 0.6918 - val_loss: 0.4485 - val_dice_coeff: 0.6597\n",
      "Epoch 55/100\n",
      "8/8 [==============================] - 20s 3s/step - loss: 0.4016 - dice_coeff: 0.6933 - val_loss: 0.4488 - val_dice_coeff: 0.6591\n",
      "Epoch 56/100\n",
      "8/8 [==============================] - 20s 3s/step - loss: 0.4005 - dice_coeff: 0.6937 - val_loss: 0.4527 - val_dice_coeff: 0.6559\n",
      "Epoch 57/100\n",
      "8/8 [==============================] - 20s 3s/step - loss: 0.3975 - dice_coeff: 0.6959 - val_loss: 0.4444 - val_dice_coeff: 0.6626\n",
      "Epoch 58/100\n",
      "8/8 [==============================] - 20s 3s/step - loss: 0.3981 - dice_coeff: 0.6955 - val_loss: 0.4441 - val_dice_coeff: 0.6622\n",
      "Epoch 59/100\n",
      "8/8 [==============================] - 20s 3s/step - loss: 0.3912 - dice_coeff: 0.7001 - val_loss: 0.4424 - val_dice_coeff: 0.6634\n",
      "Epoch 60/100\n",
      "8/8 [==============================] - 20s 3s/step - loss: 0.3888 - dice_coeff: 0.7017 - val_loss: 0.4425 - val_dice_coeff: 0.6634\n",
      "Epoch 61/100\n",
      "8/8 [==============================] - 20s 3s/step - loss: 0.3886 - dice_coeff: 0.7018 - val_loss: 0.4445 - val_dice_coeff: 0.6618\n",
      "Epoch 62/100\n",
      "8/8 [==============================] - 20s 3s/step - loss: 0.3848 - dice_coeff: 0.7045 - val_loss: 0.4396 - val_dice_coeff: 0.6653\n",
      "Epoch 63/100\n",
      "8/8 [==============================] - 20s 3s/step - loss: 0.3833 - dice_coeff: 0.7050 - val_loss: 0.4439 - val_dice_coeff: 0.6626\n",
      "Epoch 64/100\n",
      "8/8 [==============================] - 20s 3s/step - loss: 0.3804 - dice_coeff: 0.7076 - val_loss: 0.4265 - val_dice_coeff: 0.6746\n",
      "Epoch 65/100\n",
      "8/8 [==============================] - 20s 3s/step - loss: 0.3780 - dice_coeff: 0.7090 - val_loss: 0.4288 - val_dice_coeff: 0.6730\n",
      "Epoch 66/100\n",
      "8/8 [==============================] - 20s 3s/step - loss: 0.3753 - dice_coeff: 0.7109 - val_loss: 0.4185 - val_dice_coeff: 0.6807\n",
      "Epoch 67/100\n",
      "8/8 [==============================] - 20s 3s/step - loss: 0.3736 - dice_coeff: 0.7120 - val_loss: 0.4235 - val_dice_coeff: 0.6769\n",
      "Epoch 68/100\n",
      "8/8 [==============================] - 20s 3s/step - loss: 0.3700 - dice_coeff: 0.7146 - val_loss: 0.4237 - val_dice_coeff: 0.6767\n",
      "Epoch 69/100\n",
      "8/8 [==============================] - 20s 3s/step - loss: 0.3688 - dice_coeff: 0.7152 - val_loss: 0.4208 - val_dice_coeff: 0.6787\n",
      "Epoch 70/100\n",
      "8/8 [==============================] - 20s 3s/step - loss: 0.3663 - dice_coeff: 0.7176 - val_loss: 0.4101 - val_dice_coeff: 0.6863\n",
      "Epoch 71/100\n",
      "8/8 [==============================] - 20s 3s/step - loss: 0.3641 - dice_coeff: 0.7190 - val_loss: 0.4200 - val_dice_coeff: 0.6794\n",
      "Epoch 72/100\n",
      "8/8 [==============================] - 20s 3s/step - loss: 0.3613 - dice_coeff: 0.7209 - val_loss: 0.4102 - val_dice_coeff: 0.6879\n",
      "Epoch 73/100\n",
      "8/8 [==============================] - 20s 3s/step - loss: 0.3602 - dice_coeff: 0.7216 - val_loss: 0.4144 - val_dice_coeff: 0.6833\n",
      "Epoch 74/100\n",
      "8/8 [==============================] - 20s 3s/step - loss: 0.3579 - dice_coeff: 0.7233 - val_loss: 0.4029 - val_dice_coeff: 0.6918\n",
      "Epoch 75/100\n",
      "8/8 [==============================] - 20s 3s/step - loss: 0.3540 - dice_coeff: 0.7262 - val_loss: 0.4043 - val_dice_coeff: 0.6906\n",
      "Epoch 76/100\n",
      "8/8 [==============================] - 20s 3s/step - loss: 0.3532 - dice_coeff: 0.7264 - val_loss: 0.4113 - val_dice_coeff: 0.6857\n",
      "Epoch 77/100\n",
      "8/8 [==============================] - 20s 3s/step - loss: 0.3511 - dice_coeff: 0.7279 - val_loss: 0.4009 - val_dice_coeff: 0.6929\n",
      "Epoch 78/100\n",
      "8/8 [==============================] - 20s 3s/step - loss: 0.3483 - dice_coeff: 0.7303 - val_loss: 0.3930 - val_dice_coeff: 0.6990\n",
      "Epoch 79/100\n",
      "8/8 [==============================] - 20s 3s/step - loss: 0.3456 - dice_coeff: 0.7319 - val_loss: 0.3929 - val_dice_coeff: 0.6987\n",
      "Epoch 80/100\n",
      "8/8 [==============================] - 20s 3s/step - loss: 0.3426 - dice_coeff: 0.7337 - val_loss: 0.3883 - val_dice_coeff: 0.7026\n",
      "Epoch 81/100\n",
      "8/8 [==============================] - 20s 3s/step - loss: 0.3422 - dice_coeff: 0.7342 - val_loss: 0.3904 - val_dice_coeff: 0.7003\n",
      "Epoch 82/100\n",
      "8/8 [==============================] - 20s 3s/step - loss: 0.3391 - dice_coeff: 0.7364 - val_loss: 0.3914 - val_dice_coeff: 0.6999\n",
      "Epoch 83/100\n",
      "8/8 [==============================] - 20s 3s/step - loss: 0.3377 - dice_coeff: 0.7379 - val_loss: 0.3857 - val_dice_coeff: 0.7039\n",
      "Epoch 84/100\n",
      "8/8 [==============================] - 20s 3s/step - loss: 0.3341 - dice_coeff: 0.7396 - val_loss: 0.3829 - val_dice_coeff: 0.7060\n",
      "Epoch 85/100\n",
      "8/8 [==============================] - 20s 3s/step - loss: 0.3343 - dice_coeff: 0.7403 - val_loss: 0.3779 - val_dice_coeff: 0.7097\n",
      "Epoch 86/100\n",
      "8/8 [==============================] - 20s 3s/step - loss: 0.3298 - dice_coeff: 0.7424 - val_loss: 0.3789 - val_dice_coeff: 0.7089\n",
      "Epoch 87/100\n",
      "8/8 [==============================] - 20s 3s/step - loss: 0.3282 - dice_coeff: 0.7445 - val_loss: 0.3725 - val_dice_coeff: 0.7138\n",
      "Epoch 88/100\n",
      "8/8 [==============================] - 20s 3s/step - loss: 0.3256 - dice_coeff: 0.7465 - val_loss: 0.3745 - val_dice_coeff: 0.7124\n",
      "Epoch 89/100\n",
      "8/8 [==============================] - 20s 3s/step - loss: 0.3243 - dice_coeff: 0.7474 - val_loss: 0.3722 - val_dice_coeff: 0.7143\n",
      "Epoch 90/100\n",
      "8/8 [==============================] - 20s 3s/step - loss: 0.3217 - dice_coeff: 0.7490 - val_loss: 0.3725 - val_dice_coeff: 0.7137\n",
      "Epoch 91/100\n",
      "8/8 [==============================] - 20s 3s/step - loss: 0.3196 - dice_coeff: 0.7503 - val_loss: 0.3725 - val_dice_coeff: 0.7139\n",
      "Epoch 92/100\n",
      "8/8 [==============================] - 20s 3s/step - loss: 0.3191 - dice_coeff: 0.7512 - val_loss: 0.3612 - val_dice_coeff: 0.7221\n",
      "Epoch 93/100\n",
      "8/8 [==============================] - 20s 3s/step - loss: 0.3148 - dice_coeff: 0.7533 - val_loss: 0.3635 - val_dice_coeff: 0.7204\n",
      "Epoch 94/100\n",
      "8/8 [==============================] - 20s 3s/step - loss: 0.3134 - dice_coeff: 0.7552 - val_loss: 0.3593 - val_dice_coeff: 0.7236\n",
      "Epoch 95/100\n",
      "8/8 [==============================] - 20s 3s/step - loss: 0.3107 - dice_coeff: 0.7571 - val_loss: 0.3588 - val_dice_coeff: 0.7239\n",
      "Epoch 96/100\n",
      "8/8 [==============================] - 20s 3s/step - loss: 0.3094 - dice_coeff: 0.7582 - val_loss: 0.3553 - val_dice_coeff: 0.7264\n",
      "Epoch 97/100\n",
      "8/8 [==============================] - 20s 3s/step - loss: 0.3070 - dice_coeff: 0.7593 - val_loss: 0.3518 - val_dice_coeff: 0.7289\n",
      "Epoch 98/100\n",
      "1/8 [==>...........................] - ETA: 5s - loss: 0.3162 - dice_coeff: 0.7513"
     ]
    }
   ],
   "source": [
    "# print(\"---------- training classifier -----------\")\n",
    "gp2.train_classifier(dataD)"
   ]
  },
  {
   "cell_type": "code",
   "execution_count": null,
   "id": "ff4f6a44",
   "metadata": {},
   "outputs": [],
   "source": [
    "new_dataC = gp2.Data.get('C')"
   ]
  },
  {
   "cell_type": "code",
   "execution_count": null,
   "id": "7b47228a",
   "metadata": {},
   "outputs": [],
   "source": [
    "# len(gp2.Data.testB_index)"
   ]
  },
  {
   "cell_type": "code",
   "execution_count": null,
   "id": "c177065d",
   "metadata": {},
   "outputs": [],
   "source": [
    "for i in range(1,4):\n",
    "    print(\"Cycle: \", str(i))\n",
    "    \n",
    "    # load dataD (new added data)\n",
    "    dataD = gp2.find_machine_labels() # dataD = (new_trainA, valA, new_testA)\n",
    "    # gp2.re-label() # feed data = (images, labels)\n",
    "    #train n test classifier\n",
    "    print(\"---------- training classifier -----------\")\n",
    "    gp2.train_classifier(dataD)\n",
    "    \n",
    "    \n",
    "    # load dataC\n",
    "#     dataB = gp2.Data.get('B')\n",
    "    dataC = gp2.Data.get('C')\n",
    "    \n",
    "    #train n test discriminator\n",
    "    print(\"---------- training discriminator -----------\")\n",
    "    gp2.train_discriminator(dataC)\n",
    "    \n",
    "    print(\"-----------------------------------------\")"
   ]
  },
  {
   "cell_type": "code",
   "execution_count": null,
   "id": "c6b30ff4",
   "metadata": {},
   "outputs": [],
   "source": []
  },
  {
   "cell_type": "code",
   "execution_count": null,
   "id": "6f036a26",
   "metadata": {},
   "outputs": [],
   "source": [
    "gp2.Data.historyA"
   ]
  },
  {
   "cell_type": "code",
   "execution_count": null,
   "id": "42df87cc",
   "metadata": {},
   "outputs": [],
   "source": [
    "import matplotlib.pyplot as plt"
   ]
  },
  {
   "cell_type": "code",
   "execution_count": null,
   "id": "ef4e96c1",
   "metadata": {},
   "outputs": [],
   "source": [
    "plt.figure(figsize=(8, 8))\n",
    "plt.title(\"Learning curve\")\n",
    "plt.plot(gp2.Data.historyA[\"loss\"], label=\"loss\")\n",
    "plt.plot(gp2.Data.historyA[\"accuracy\"], label=\"accuracy\")\n",
    "plt.xlabel(\"Cycle\")\n",
    "plt.legend();"
   ]
  },
  {
   "cell_type": "code",
   "execution_count": null,
   "id": "df8ebcf2",
   "metadata": {},
   "outputs": [],
   "source": []
  },
  {
   "cell_type": "code",
   "execution_count": null,
   "id": "90ac644b",
   "metadata": {},
   "outputs": [],
   "source": []
  },
  {
   "cell_type": "code",
   "execution_count": null,
   "id": "3834ae5a",
   "metadata": {},
   "outputs": [],
   "source": []
  },
  {
   "cell_type": "code",
   "execution_count": null,
   "id": "ef5cd283",
   "metadata": {},
   "outputs": [],
   "source": []
  },
  {
   "cell_type": "code",
   "execution_count": null,
   "id": "428c7e7b",
   "metadata": {},
   "outputs": [],
   "source": [
    "testA = np.load(\"/home/neha.goyal001/deepHealth/gp2/dataset/data/new_testA.npy\")\n",
    "valA = np.load(\"/home/neha.goyal001/deepHealth/gp2/dataset/data/valA.npy\")\n",
    "trainA = np.load(\"/home/neha.goyal001/deepHealth/gp2/dataset/data/new_trainA.npy\")"
   ]
  },
  {
   "cell_type": "code",
   "execution_count": null,
   "id": "6263e7aa",
   "metadata": {},
   "outputs": [],
   "source": [
    "dataA = (trainA, valA, testA)"
   ]
  },
  {
   "cell_type": "code",
   "execution_count": null,
   "id": "b3bf75a3",
   "metadata": {},
   "outputs": [],
   "source": [
    "gp2.train_classifier(dataA)"
   ]
  },
  {
   "cell_type": "code",
   "execution_count": null,
   "id": "51ead823",
   "metadata": {},
   "outputs": [],
   "source": [
    "testPredictions = np.load(\"/home/neha.goyal001/deepHealth/gp2/dataset/data/predictionsA.npy\") "
   ]
  },
  {
   "cell_type": "code",
   "execution_count": null,
   "id": "c765fb8d",
   "metadata": {},
   "outputs": [],
   "source": [
    "dataC = (testA[0], testPredictions)"
   ]
  },
  {
   "cell_type": "code",
   "execution_count": null,
   "id": "f3c31181",
   "metadata": {},
   "outputs": [],
   "source": [
    "gp2.train_discriminator(dataB, dataC)"
   ]
  },
  {
   "cell_type": "code",
   "execution_count": null,
   "id": "d916b482",
   "metadata": {},
   "outputs": [],
   "source": [
    "gp2.find_machine_labels()"
   ]
  },
  {
   "cell_type": "code",
   "execution_count": null,
   "id": "13ee2cc3",
   "metadata": {},
   "outputs": [],
   "source": []
  },
  {
   "cell_type": "code",
   "execution_count": null,
   "id": "41643f04",
   "metadata": {},
   "outputs": [],
   "source": [
    "imshow(testPredictions[7])"
   ]
  },
  {
   "cell_type": "code",
   "execution_count": null,
   "id": "76268a08",
   "metadata": {},
   "outputs": [],
   "source": [
    "imshow(testA[1][7])"
   ]
  },
  {
   "cell_type": "code",
   "execution_count": null,
   "id": "69b9b19c",
   "metadata": {},
   "outputs": [],
   "source": []
  },
  {
   "cell_type": "code",
   "execution_count": null,
   "id": "e7f9b40e",
   "metadata": {},
   "outputs": [],
   "source": []
  },
  {
   "cell_type": "code",
   "execution_count": null,
   "id": "663bcb10",
   "metadata": {},
   "outputs": [],
   "source": []
  },
  {
   "cell_type": "code",
   "execution_count": null,
   "id": "45b366cd",
   "metadata": {},
   "outputs": [],
   "source": []
  },
  {
   "cell_type": "code",
   "execution_count": null,
   "id": "5e19f186",
   "metadata": {},
   "outputs": [],
   "source": []
  }
 ],
 "metadata": {
  "kernelspec": {
   "display_name": "Python 3 (ipykernel)",
   "language": "python",
   "name": "python3"
  },
  "language_info": {
   "codemirror_mode": {
    "name": "ipython",
    "version": 3
   },
   "file_extension": ".py",
   "mimetype": "text/x-python",
   "name": "python",
   "nbconvert_exporter": "python",
   "pygments_lexer": "ipython3",
   "version": "3.9.7"
  }
 },
 "nbformat": 4,
 "nbformat_minor": 5
}
