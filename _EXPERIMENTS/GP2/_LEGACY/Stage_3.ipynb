{
 "cells": [
  {
   "cell_type": "code",
   "execution_count": 1,
   "id": "37d6b398",
   "metadata": {},
   "outputs": [
    {
     "name": "stdout",
     "output_type": "stream",
     "text": [
      "Populating the interactive namespace from numpy and matplotlib\n"
     ]
    }
   ],
   "source": [
    "%pylab inline"
   ]
  },
  {
   "cell_type": "code",
   "execution_count": null,
   "id": "d7d8d9bc",
   "metadata": {},
   "outputs": [],
   "source": [
    "import gp2"
   ]
  },
  {
   "cell_type": "code",
   "execution_count": 1,
   "id": "852a7f13",
   "metadata": {},
   "outputs": [
    {
     "ename": "NameError",
     "evalue": "name 'gp2' is not defined",
     "output_type": "error",
     "traceback": [
      "\u001B[0;31m---------------------------------------------------------------------------\u001B[0m",
      "\u001B[0;31mNameError\u001B[0m                                 Traceback (most recent call last)",
      "\u001B[0;32m/tmp/ipykernel_1635508/1514046694.py\u001B[0m in \u001B[0;36m<module>\u001B[0;34m\u001B[0m\n\u001B[0;32m----> 1\u001B[0;31m \u001B[0mdataB\u001B[0m \u001B[0;34m=\u001B[0m \u001B[0mgp2\u001B[0m\u001B[0;34m.\u001B[0m\u001B[0mData\u001B[0m\u001B[0;34m.\u001B[0m\u001B[0mget\u001B[0m\u001B[0;34m(\u001B[0m\u001B[0;34m'B'\u001B[0m\u001B[0;34m)\u001B[0m \u001B[0;31m# expert labels\u001B[0m\u001B[0;34m\u001B[0m\u001B[0;34m\u001B[0m\u001B[0m\n\u001B[0m",
      "\u001B[0;31mNameError\u001B[0m: name 'gp2' is not defined"
     ]
    }
   ],
   "source": [
    "dataC_test = gp2.Data.get('C_test') # testing set"
   ]
  },
  {
   "cell_type": "code",
   "execution_count": null,
   "id": "79427e83",
   "metadata": {},
   "outputs": [],
   "source": [
    "test_discriminator( dataC_test )"
   ]
  },
  {
   "cell_type": "code",
   "execution_count": null,
   "id": "90c0a1fb",
   "metadata": {},
   "outputs": [],
   "source": [
    "dataD = find_machine_labels()"
   ]
  },
  {
   "cell_type": "code",
   "execution_count": null,
   "id": "34f37fa3",
   "metadata": {},
   "outputs": [],
   "source": [
    "train_classifier( dataD ) # TODO"
   ]
  },
  {
   "cell_type": "code",
   "execution_count": null,
   "id": "ae949cfe",
   "metadata": {},
   "outputs": [],
   "source": [
    "train_discriminator( dataB, dataC ) # TODO"
   ]
  }
 ],
 "metadata": {
  "kernelspec": {
   "display_name": "Python 3 (ipykernel)",
   "language": "python",
   "name": "python3"
  },
  "language_info": {
   "codemirror_mode": {
    "name": "ipython",
    "version": 3
   },
   "file_extension": ".py",
   "mimetype": "text/x-python",
   "name": "python",
   "nbconvert_exporter": "python",
   "pygments_lexer": "ipython3",
   "version": "3.9.7"
  }
 },
 "nbformat": 4,
 "nbformat_minor": 5
}
