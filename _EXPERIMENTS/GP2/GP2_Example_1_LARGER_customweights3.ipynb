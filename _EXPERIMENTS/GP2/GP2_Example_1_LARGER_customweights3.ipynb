{
 "cells": [
  {
   "cell_type": "code",
   "execution_count": 1,
   "id": "06c4accc",
   "metadata": {},
   "outputs": [
    {
     "name": "stdout",
     "output_type": "stream",
     "text": [
      "Populating the interactive namespace from numpy and matplotlib\n"
     ]
    }
   ],
   "source": [
    "%pylab inline\n",
    "%load_ext autoreload\n",
    "%autoreload 2"
   ]
  },
  {
   "cell_type": "code",
   "execution_count": 2,
   "id": "3b313506",
   "metadata": {},
   "outputs": [],
   "source": [
    "import time"
   ]
  },
  {
   "cell_type": "code",
   "execution_count": 3,
   "id": "b9e78ed8",
   "metadata": {},
   "outputs": [],
   "source": [
    "from runner import Runner"
   ]
  },
  {
   "cell_type": "code",
   "execution_count": 4,
   "id": "bdc75325",
   "metadata": {},
   "outputs": [
    {
     "name": "stdout",
     "output_type": "stream",
     "text": [
      "*** GP2 ***\n",
      "Working directory: /tmp/tmpolokkldtGP2\n"
     ]
    }
   ],
   "source": [
    "R = Runner(verbose=False)"
   ]
  },
  {
   "cell_type": "code",
   "execution_count": 5,
   "id": "87b0c65d",
   "metadata": {},
   "outputs": [],
   "source": [
    "# load our larger toy dataset (10k images and masks)\n",
    "images = np.load('/raid/mpsych/GP2TOYEXAMPLE_LARGE/images.npy')\n",
    "masks = np.load('/raid/mpsych/GP2TOYEXAMPLE_LARGE/masks.npy')"
   ]
  },
  {
   "cell_type": "code",
   "execution_count": 6,
   "id": "1dd71668",
   "metadata": {},
   "outputs": [],
   "source": [
    "weights = {\n",
    "    'A': 0.5,\n",
    "    'A_train': 0.01,\n",
    "    'A_val': 0.39,\n",
    "    'A_test': 0.6,\n",
    "    'B': 0.3,\n",
    "    'B_train': 0.7,\n",
    "    'B_val': 0.1,\n",
    "    'B_test': 0.2,\n",
    "    'Z': 0.2\n",
    "}\n",
    "PERCENT_TO_REPLACE = 100"
   ]
  },
  {
   "cell_type": "code",
   "execution_count": 7,
   "id": "2a5d1030",
   "metadata": {},
   "outputs": [
    {
     "name": "stdout",
     "output_type": "stream",
     "text": [
      "Weights OK!\n"
     ]
    }
   ],
   "source": [
    "#\n",
    "#\n",
    "R.setup_data(images, masks, dataset_size=10000, weights=weights)"
   ]
  },
  {
   "cell_type": "code",
   "execution_count": 8,
   "id": "99127251",
   "metadata": {},
   "outputs": [],
   "source": [
    "RUNS = 5"
   ]
  },
  {
   "cell_type": "code",
   "execution_count": 9,
   "id": "d8ff85c4",
   "metadata": {
    "scrolled": false
   },
   "outputs": [
    {
     "name": "stdout",
     "output_type": "stream",
     "text": [
      "***\n",
      "RUN: 0\n",
      "Model saved to /tmp/tmpolokkldtGP2/unet_0.model\n",
      "History saved to /tmp/tmpolokkldtGP2/history_0.pickle\n",
      "Testing the classifier...\n",
      "94/94 [==============================] - 9s 100ms/step - loss: 1.4636 - dice_coeff: 0.2277\n",
      "B (3000, 512, 512, 2)\n",
      "A_test_with_pred_ (3000, 512, 512, 2)\n",
      "Model saved to /tmp/tmpolokkldtGP2/cnnd_0.model\n",
      "History saved to /tmp/tmpolokkldtGP2/cnnd_history_0.pickle\n",
      "Testing the discriminator...\n",
      "19/19 [==============================] - 0s 22ms/step - loss: 1.9513e-04 - accuracy: 1.0000\n",
      "Found 276 machine labels.\n",
      "Replacing 276 from 276 !\n",
      "Removed: 181 Filled: 181\n",
      "TOOK 1126.1694688796997 seconds\n",
      "***\n",
      "RUN: 1\n",
      "Model saved to /tmp/tmpolokkldtGP2/unet_1.model\n",
      "History saved to /tmp/tmpolokkldtGP2/history_1.pickle\n",
      "Testing the classifier...\n",
      "94/94 [==============================] - 9s 93ms/step - loss: 1.2271 - dice_coeff: 0.2969\n",
      "B (3000, 512, 512, 2)\n",
      "A_test_with_pred_ (3000, 512, 512, 2)\n",
      "Testing the discriminator...\n",
      "19/19 [==============================] - 0s 22ms/step - loss: 1.3768 - accuracy: 0.9117\n",
      "Found 225 machine labels.\n",
      "Replacing 225 from 225 !\n",
      "Removed: 145 Filled: 145\n",
      "TOOK 364.6976509094238 seconds\n",
      "***\n",
      "RUN: 2\n",
      "Model saved to /tmp/tmpolokkldtGP2/unet_2.model\n",
      "History saved to /tmp/tmpolokkldtGP2/history_2.pickle\n",
      "Testing the classifier...\n",
      "94/94 [==============================] - 10s 101ms/step - loss: 0.3013 - dice_coeff: 0.7687\n",
      "B (3000, 512, 512, 2)\n",
      "A_test_with_pred_ (3000, 512, 512, 2)\n",
      "Testing the discriminator...\n",
      "19/19 [==============================] - 0s 23ms/step - loss: 22.1678 - accuracy: 0.5167\n",
      "Found 0 machine labels.\n"
     ]
    },
    {
     "ename": "IndexError",
     "evalue": "index 0 is out of bounds for axis 0 with size 0",
     "output_type": "error",
     "traceback": [
      "\u001B[0;31m---------------------------------------------------------------------------\u001B[0m",
      "\u001B[0;31mIndexError\u001B[0m                                Traceback (most recent call last)",
      "\u001B[0;32m/tmp/ipykernel_3065809/909131351.py\u001B[0m in \u001B[0;36m<module>\u001B[0;34m\u001B[0m\n\u001B[1;32m      5\u001B[0m     \u001B[0mR\u001B[0m\u001B[0;34m.\u001B[0m\u001B[0mrun_classifier\u001B[0m\u001B[0;34m(\u001B[0m\u001B[0;34m)\u001B[0m\u001B[0;34m\u001B[0m\u001B[0;34m\u001B[0m\u001B[0m\n\u001B[1;32m      6\u001B[0m     \u001B[0mR\u001B[0m\u001B[0;34m.\u001B[0m\u001B[0mrun_discriminator\u001B[0m\u001B[0;34m(\u001B[0m\u001B[0;34m)\u001B[0m\u001B[0;34m\u001B[0m\u001B[0;34m\u001B[0m\u001B[0m\n\u001B[0;32m----> 7\u001B[0;31m     \u001B[0mR\u001B[0m\u001B[0;34m.\u001B[0m\u001B[0mfind_machine_labels\u001B[0m\u001B[0;34m(\u001B[0m\u001B[0;34m)\u001B[0m\u001B[0;34m\u001B[0m\u001B[0;34m\u001B[0m\u001B[0m\n\u001B[0m\u001B[1;32m      8\u001B[0m     \u001B[0mR\u001B[0m\u001B[0;34m.\u001B[0m\u001B[0mrelabel\u001B[0m\u001B[0;34m(\u001B[0m\u001B[0mpercent_to_replace\u001B[0m\u001B[0;34m=\u001B[0m\u001B[0mPERCENT_TO_REPLACE\u001B[0m\u001B[0;34m)\u001B[0m\u001B[0;34m\u001B[0m\u001B[0;34m\u001B[0m\u001B[0m\n\u001B[1;32m      9\u001B[0m     \u001B[0mprint\u001B[0m\u001B[0;34m(\u001B[0m\u001B[0;34m'TOOK'\u001B[0m\u001B[0;34m,\u001B[0m \u001B[0mtime\u001B[0m\u001B[0;34m.\u001B[0m\u001B[0mtime\u001B[0m\u001B[0;34m(\u001B[0m\u001B[0;34m)\u001B[0m\u001B[0;34m-\u001B[0m\u001B[0mt0\u001B[0m\u001B[0;34m,\u001B[0m \u001B[0;34m'seconds'\u001B[0m\u001B[0;34m)\u001B[0m\u001B[0;34m\u001B[0m\u001B[0;34m\u001B[0m\u001B[0m\n",
      "\u001B[0;32m~/Projects/omama/_EXPERIMENTS/GP2/runner.py\u001B[0m in \u001B[0;36mfind_machine_labels\u001B[0;34m(self)\u001B[0m\n\u001B[1;32m    360\u001B[0m         \u001B[0mD_ids\u001B[0m\u001B[0;34m.\u001B[0m\u001B[0mappend\u001B[0m\u001B[0;34m(\u001B[0m\u001B[0mC_test_ids\u001B[0m\u001B[0;34m[\u001B[0m\u001B[0mp\u001B[0m\u001B[0;34m]\u001B[0m\u001B[0;34m)\u001B[0m\u001B[0;34m\u001B[0m\u001B[0;34m\u001B[0m\u001B[0m\n\u001B[1;32m    361\u001B[0m \u001B[0;34m\u001B[0m\u001B[0m\n\u001B[0;32m--> 362\u001B[0;31m     \u001B[0;32massert\u001B[0m\u001B[0;34m(\u001B[0m\u001B[0mnp\u001B[0m\u001B[0;34m.\u001B[0m\u001B[0mall\u001B[0m\u001B[0;34m(\u001B[0m\u001B[0mD_\u001B[0m\u001B[0;34m[\u001B[0m\u001B[0;36m0\u001B[0m\u001B[0;34m]\u001B[0m \u001B[0;34m==\u001B[0m \u001B[0mC_test_\u001B[0m\u001B[0;34m[\u001B[0m\u001B[0mall_machine_labels_indices\u001B[0m\u001B[0;34m[\u001B[0m\u001B[0;36m0\u001B[0m\u001B[0;34m]\u001B[0m\u001B[0;34m]\u001B[0m\u001B[0;34m)\u001B[0m\u001B[0;34m)\u001B[0m \u001B[0;31m# quick check\u001B[0m\u001B[0;34m\u001B[0m\u001B[0;34m\u001B[0m\u001B[0m\n\u001B[0m\u001B[1;32m    363\u001B[0m \u001B[0;34m\u001B[0m\u001B[0m\n\u001B[1;32m    364\u001B[0m     \u001B[0;32massert\u001B[0m\u001B[0;34m(\u001B[0m\u001B[0mD_ids\u001B[0m\u001B[0;34m[\u001B[0m\u001B[0;36m1\u001B[0m\u001B[0;34m]\u001B[0m \u001B[0;34m==\u001B[0m \u001B[0mC_test_ids\u001B[0m\u001B[0;34m[\u001B[0m\u001B[0mall_machine_labels_indices\u001B[0m\u001B[0;34m[\u001B[0m\u001B[0;36m1\u001B[0m\u001B[0;34m]\u001B[0m\u001B[0;34m]\u001B[0m\u001B[0;34m)\u001B[0m\u001B[0;34m\u001B[0m\u001B[0;34m\u001B[0m\u001B[0m\n",
      "\u001B[0;31mIndexError\u001B[0m: index 0 is out of bounds for axis 0 with size 0"
     ]
    }
   ],
   "source": [
    "for run in range(RUNS):\n",
    "    print('***')\n",
    "    print('RUN:', run)\n",
    "    t0 = time.time()\n",
    "    R.run_classifier()\n",
    "    R.run_discriminator()\n",
    "    l = R.find_machine_labels()\n",
    "    if l == 0:\n",
    "        print('No more machine labels.')\n",
    "        print('TOOK', time.time()-t0, 'seconds')\n",
    "        break\n",
    "    R.relabel(percent_to_replace=PERCENT_TO_REPLACE)\n",
    "    print('TOOK', time.time()-t0, 'seconds')\n",
    "    "
   ]
  },
  {
   "cell_type": "code",
   "execution_count": null,
   "id": "dab6fd49",
   "metadata": {},
   "outputs": [],
   "source": []
  },
  {
   "cell_type": "code",
   "execution_count": null,
   "id": "93739320",
   "metadata": {},
   "outputs": [],
   "source": []
  },
  {
   "cell_type": "code",
   "execution_count": null,
   "id": "a76a4615",
   "metadata": {},
   "outputs": [],
   "source": []
  },
  {
   "cell_type": "code",
   "execution_count": 10,
   "id": "00075332",
   "metadata": {},
   "outputs": [
    {
     "data": {
      "text/plain": [
       "[[1.4635831117630005, 0.22765666246414185],\n",
       " [1.2270680665969849, 0.2969350516796112],\n",
       " [0.30134445428848267, 0.7687167525291443]]"
      ]
     },
     "execution_count": 10,
     "metadata": {},
     "output_type": "execute_result"
    }
   ],
   "source": [
    "R.classifier_scores"
   ]
  },
  {
   "cell_type": "code",
   "execution_count": 11,
   "id": "35105656",
   "metadata": {},
   "outputs": [
    {
     "data": {
      "text/plain": [
       "[[0.00019512658764142543, 1.0],\n",
       " [1.3768210411071777, 0.9116666913032532],\n",
       " [22.16776466369629, 0.5166666507720947]]"
      ]
     },
     "execution_count": 11,
     "metadata": {},
     "output_type": "execute_result"
    }
   ],
   "source": [
    "R.discriminator_scores"
   ]
  },
  {
   "cell_type": "code",
   "execution_count": 12,
   "id": "0a721a90",
   "metadata": {},
   "outputs": [
    {
     "data": {
      "image/png": "[encoded data removed]",
      "text/plain": [
       "<Figure size 240x240 with 1 Axes>"
      ]
     },
     "metadata": {
      "needs_background": "light"
     },
     "output_type": "display_data"
    }
   ],
   "source": [
    "R.plot()"
   ]
  },
  {
   "cell_type": "code",
   "execution_count": null,
   "id": "551de181",
   "metadata": {},
   "outputs": [],
   "source": []
  }
 ],
 "metadata": {
  "kernelspec": {
   "display_name": "Python 3 (ipykernel)",
   "language": "python",
   "name": "python3"
  },
  "language_info": {
   "codemirror_mode": {
    "name": "ipython",
    "version": 3
   },
   "file_extension": ".py",
   "mimetype": "text/x-python",
   "name": "python",
   "nbconvert_exporter": "python",
   "pygments_lexer": "ipython3",
   "version": "3.9.7"
  }
 },
 "nbformat": 4,
 "nbformat_minor": 5
}
