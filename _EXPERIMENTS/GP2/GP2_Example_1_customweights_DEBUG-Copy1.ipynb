{
 "cells": [
  {
   "cell_type": "code",
   "execution_count": 1,
   "id": "06c4accc",
   "metadata": {},
   "outputs": [
    {
     "name": "stdout",
     "output_type": "stream",
     "text": [
      "Populating the interactive namespace from numpy and matplotlib\n"
     ]
    }
   ],
   "source": [
    "%pylab inline\n",
    "%load_ext autoreload\n",
    "%autoreload 2"
   ]
  },
  {
   "cell_type": "code",
   "execution_count": 2,
   "id": "3b313506",
   "metadata": {},
   "outputs": [],
   "source": [
    "import time"
   ]
  },
  {
   "cell_type": "code",
   "execution_count": 3,
   "id": "b9e78ed8",
   "metadata": {},
   "outputs": [],
   "source": [
    "from runner import Runner"
   ]
  },
  {
   "cell_type": "code",
   "execution_count": 4,
   "id": "bdc75325",
   "metadata": {},
   "outputs": [
    {
     "name": "stdout",
     "output_type": "stream",
     "text": [
      "*** GP2 ***\n",
      "Working directory: /tmp/tmpiwe1g5pdGP2\n"
     ]
    }
   ],
   "source": [
    "R = Runner(verbose=False)"
   ]
  },
  {
   "cell_type": "code",
   "execution_count": 5,
   "id": "87b0c65d",
   "metadata": {},
   "outputs": [],
   "source": [
    "# load our larger toy dataset (10k images and masks)\n",
    "\n",
    "images = np.load('/raid/mpsych/GP2TOYEXAMPLE_LARGE/images.npy')\n",
    "masks = np.load('/raid/mpsych/GP2TOYEXAMPLE_LARGE/masks.npy')\n",
    "\n",
    "\n",
    "# images = np.load('/raid/mpsych/GP2TOYEXAMPLE/images.npy')\n",
    "# masks = np.load('/raid/mpsych/GP2TOYEXAMPLE/labels.npy')"
   ]
  },
  {
   "cell_type": "code",
   "execution_count": 6,
   "id": "de6e88eb",
   "metadata": {},
   "outputs": [
    {
     "data": {
      "text/plain": [
       "(10000, 512, 512, 1)"
      ]
     },
     "execution_count": 6,
     "metadata": {},
     "output_type": "execute_result"
    }
   ],
   "source": [
    "masks.shape"
   ]
  },
  {
   "cell_type": "code",
   "execution_count": 7,
   "id": "1dd71668",
   "metadata": {},
   "outputs": [],
   "source": [
    "weights = {\n",
    "    'A': 0.5,\n",
    "    'A_train': 0.1,\n",
    "    'A_val': 0.3,\n",
    "    'A_test': 0.6,\n",
    "    'B': 0.3,\n",
    "    'B_train': 0.7,\n",
    "    'B_val': 0.1,\n",
    "    'B_test': 0.2,\n",
    "    'Z': 0.2\n",
    "}\n",
    "PERCENT_TO_REPLACE = 30"
   ]
  },
  {
   "cell_type": "code",
   "execution_count": 8,
   "id": "2a5d1030",
   "metadata": {},
   "outputs": [
    {
     "name": "stdout",
     "output_type": "stream",
     "text": [
      "Weights OK!\n"
     ]
    }
   ],
   "source": [
    "#\n",
    "#\n",
    "R.setup_data(images, masks, dataset_size=1000, weights=weights)"
   ]
  },
  {
   "cell_type": "code",
   "execution_count": 9,
   "id": "99127251",
   "metadata": {},
   "outputs": [],
   "source": [
    "RUNS = 10"
   ]
  },
  {
   "cell_type": "code",
   "execution_count": 10,
   "id": "d8ff85c4",
   "metadata": {
    "scrolled": false
   },
   "outputs": [
    {
     "name": "stdout",
     "output_type": "stream",
     "text": [
      "***\n",
      "RUN: 0\n",
      "Model saved to /tmp/tmpiwe1g5pdGP2/unet_0.model\n",
      "History saved to /tmp/tmpiwe1g5pdGP2/history_0.pickle\n",
      "Testing the classifier...\n",
      "10/10 [==============================] - 1s 95ms/step - loss: 1.4194 - dice_coeff: 0.2764\n",
      "Model saved to /tmp/tmpiwe1g5pdGP2/cnnd_0.model\n",
      "History saved to /tmp/tmpiwe1g5pdGP2/cnnd_history_0.pickle\n",
      "Testing the discriminator...\n",
      "2/2 [==============================] - 0s 22ms/step - loss: 0.0152 - accuracy: 1.0000\n",
      "Found 25 machine labels.\n",
      "Machine labels [ 1  3  4  5  6 13 16 19 24 25 26 31 32 36 45 48 49 50 51 52 53 56 57 58\n",
      " 59]\n",
      "D_ids ['626587c2-a1b4-4744-b8d1-4ba846026256', '7ed81d7a-af58-4a9c-ad37-a0132ee74cdd', '9ebf628f-ec7a-47a0-98a0-2f96dbd2517e', '969d8b5c-db56-4676-93ee-521d2220f7b9', '18d53a0c-6898-45f2-9c9c-7e5987699392', '319993eb-963e-4ce8-a71c-432d810515f8', '14237758-7cac-4186-a898-ae28b1c4a215', '5c099578-4c42-4715-82e4-b9259697c2e6', '1b1dc467-60f2-4e49-8db5-2d98ccbb59ae', 'bceaed96-1d63-48d9-93eb-5b83a652bba3', '8e013aa6-24ca-4085-8256-4b7c11c4ae6c', '812f2f5f-a2ef-4c70-aa28-727be001c231', '0c31fe83-bae4-45f7-a6ef-0f92c80b2693', 'e027393c-1b28-44ae-9c9c-15b8c0d9d8ca', '0dd05995-d51b-47eb-86b2-771f44500511', '50749473-f83a-4fd7-83f6-b520ee02fba4', 'df6ffa39-bfd0-4cca-843b-b670b9f6d7e5', '853e009d-b954-42fe-8b27-b6d7bb31a038', 'e4ef891c-ae14-4335-9613-878b98879897', '0a15d758-88ff-42b9-8317-66986ae472e6', 'acd84ee0-a3b9-4056-993e-3dbb9094542a', 'b89cb024-6954-46d0-a77c-2ab6dc7876ac', '8397764d-10a8-482b-900a-baaeb59582c4', '6ddef7b2-5e03-4700-9281-44546bce305c', '40df1041-9aa0-4e9a-bfec-72c3de22dde6']\n",
      "Replacing 8 from 25 !\n",
      "D_relabeled_ 8\n",
      "selected_ids ['319993eb-963e-4ce8-a71c-432d810515f8', '40df1041-9aa0-4e9a-bfec-72c3de22dde6', '1b1dc467-60f2-4e49-8db5-2d98ccbb59ae', '0c31fe83-bae4-45f7-a6ef-0f92c80b2693', '0dd05995-d51b-47eb-86b2-771f44500511', '969d8b5c-db56-4676-93ee-521d2220f7b9', '18d53a0c-6898-45f2-9c9c-7e5987699392', 'bceaed96-1d63-48d9-93eb-5b83a652bba3']\n",
      "dict_keys(['319993eb-963e-4ce8-a71c-432d810515f8', '40df1041-9aa0-4e9a-bfec-72c3de22dde6', '1b1dc467-60f2-4e49-8db5-2d98ccbb59ae', '0c31fe83-bae4-45f7-a6ef-0f92c80b2693', '0dd05995-d51b-47eb-86b2-771f44500511', '969d8b5c-db56-4676-93ee-521d2220f7b9', '18d53a0c-6898-45f2-9c9c-7e5987699392', 'bceaed96-1d63-48d9-93eb-5b83a652bba3'])\n",
      "point ids 8\n",
      "Removed: 8 Filled: 8\n",
      "TOOK 1143.0863628387451 seconds\n",
      "***\n",
      "RUN: 1\n",
      "Model saved to /tmp/tmpiwe1g5pdGP2/unet_1.model\n",
      "History saved to /tmp/tmpiwe1g5pdGP2/history_1.pickle\n",
      "Testing the classifier...\n",
      "10/10 [==============================] - 1s 102ms/step - loss: 1.2980 - dice_coeff: 0.2929\n",
      "Testing the discriminator...\n",
      "2/2 [==============================] - 0s 21ms/step - loss: 0.0060 - accuracy: 1.0000\n",
      "Found 30 machine labels.\n",
      "Machine labels [ 1  2  3  4  6  8 11 15 17 20 21 22 23 24 25 36 37 40 41 42 44 45 46 51\n",
      " 53 54 55 56 57 58]\n",
      "D_ids ['5473859a-b42d-4668-9c5a-89cb6c4d9b7a', '586002a5-7a4d-402c-b617-e6a28c2b8f01', 'f254a7db-3f1e-421d-a1f7-18be5cd9a60b', 'e3764a17-ee2e-41cd-b933-bdca08d27a55', '9f75c9db-e814-4a7d-b3fd-3c3d9b004615', 'c9280c3f-5bf0-4a1c-a8a1-c35e5fce3428', 'cf6fc8aa-eeb8-425a-a69d-16e494862254', '74c5bf12-4046-4e75-8d16-fcdb95397cc1', '81cd64d1-359b-447f-b203-43feadd3e0d4', '99114189-a3fa-4a8e-a403-7a1772554b67', '06c0ebd9-99fe-499f-889a-de8e52b4c5b2', '8fb160eb-8807-4475-b8d3-1779a710903e', 'e027393c-1b28-44ae-9c9c-15b8c0d9d8ca', 'ff68ed42-21b5-46a7-8820-21b0073f82f8', '0994b1a4-863e-49fe-89f7-b82b2a8c8a4a', 'f59d2e0b-3fb6-47a0-8585-459339caaa4b', 'afc461c1-6845-41fe-94a8-ebcb4fc55f07', 'd0e31793-fb9f-4e06-887b-d4e4b22ab55a', '1ea0075f-91b4-4437-81fd-72183f8877c4', 'efde8629-ed05-46c3-ac23-98778b5bdf71', '3f8f4947-2ea5-4e2b-a74f-4031a7b8d590', 'ae1795a1-296c-4b93-9dc4-d9e8b46df45f', 'ff746b67-89e9-47b5-b1e4-edf3c9409367', '8ddf8613-ca14-45a6-8279-41d27b2ee8cb', '27b35628-043d-440c-9374-20eb384e9cf6', 'd24eaf4c-9408-47b4-bebf-d46d98d35d49', '8e58b46a-8983-4fbf-a31f-67b76e89fc54', '9f819621-796d-4445-b2a6-6146fd54a98b', '9327162e-6c3d-437e-9d5c-482efe1af9af', '79e2c835-7533-4dad-8f99-88868836da96']\n",
      "Replacing 10 from 30 !\n",
      "D_relabeled_ 10\n",
      "selected_ids ['0994b1a4-863e-49fe-89f7-b82b2a8c8a4a', 'cf6fc8aa-eeb8-425a-a69d-16e494862254', 'f59d2e0b-3fb6-47a0-8585-459339caaa4b', '06c0ebd9-99fe-499f-889a-de8e52b4c5b2', '27b35628-043d-440c-9374-20eb384e9cf6', 'ff68ed42-21b5-46a7-8820-21b0073f82f8', '79e2c835-7533-4dad-8f99-88868836da96', '8e58b46a-8983-4fbf-a31f-67b76e89fc54', '586002a5-7a4d-402c-b617-e6a28c2b8f01', '5473859a-b42d-4668-9c5a-89cb6c4d9b7a']\n",
      "dict_keys(['0994b1a4-863e-49fe-89f7-b82b2a8c8a4a', 'cf6fc8aa-eeb8-425a-a69d-16e494862254', 'f59d2e0b-3fb6-47a0-8585-459339caaa4b', '06c0ebd9-99fe-499f-889a-de8e52b4c5b2', '27b35628-043d-440c-9374-20eb384e9cf6', 'ff68ed42-21b5-46a7-8820-21b0073f82f8', '79e2c835-7533-4dad-8f99-88868836da96', '8e58b46a-8983-4fbf-a31f-67b76e89fc54', '586002a5-7a4d-402c-b617-e6a28c2b8f01', '5473859a-b42d-4668-9c5a-89cb6c4d9b7a'])\n",
      "point ids 10\n",
      "Removed: 10 Filled: 10\n",
      "TOOK 329.5119962692261 seconds\n",
      "***\n",
      "RUN: 2\n",
      "Model saved to /tmp/tmpiwe1g5pdGP2/unet_2.model\n",
      "History saved to /tmp/tmpiwe1g5pdGP2/history_2.pickle\n",
      "Testing the classifier...\n",
      "10/10 [==============================] - 1s 93ms/step - loss: 1.2883 - dice_coeff: 0.3010\n",
      "Testing the discriminator...\n",
      "2/2 [==============================] - 0s 18ms/step - loss: 0.2832 - accuracy: 0.9333\n",
      "Found 32 machine labels.\n",
      "Machine labels [ 2  5  6  7  8  9 12 14 15 16 17 18 20 21 25 26 29 30 31 32 34 36 40 41\n",
      " 42 43 45 46 52 54 55 57]\n",
      "D_ids ['812f2f5f-a2ef-4c70-aa28-727be001c231', '9b8d4b7d-2437-46a0-b4c5-fb8c30cec5fe', '5a52f955-cd45-4a21-98cc-753b85149525', '7c727a0e-1fb3-4782-9f95-ab2c58164484', '64a774e1-3ddc-4873-896c-fefe8aec0d97', '62b2f762-07ab-4c31-a796-e38523841e83', 'bac9324f-bb7c-4b15-9e53-865b67acafd4', '1cc28537-8b05-46c8-8a75-1a869d9a3bbb', 'fa6e16ba-e19b-473c-8bcf-6837272e3856', '17b0ced3-e327-478e-bd7f-57d1413dec29', '2c03edb5-cb1a-4061-b21b-3c72f86b0b55', '7ed81d7a-af58-4a9c-ad37-a0132ee74cdd', '4393655c-0e57-423c-83e1-80ff34b81da2', '81e65f03-488d-4e93-8607-77bded8ebf54', '2a49039e-0426-4617-a120-df60a0c0b2cf', '0bb3a606-4795-4cb2-83b8-8e3dfe77eeb1', '3bc45e92-ace1-464e-9a88-e385b247fd38', '15afd1bc-a226-4e79-afb6-81850ee9cdcc', '7061cda8-7383-4f67-9cba-649df017210e', 'd9a49d41-87b0-40d7-9b18-d1cd295775b2', 'b89cb024-6954-46d0-a77c-2ab6dc7876ac', 'e4ef891c-ae14-4335-9613-878b98879897', '5c099578-4c42-4715-82e4-b9259697c2e6', '8afb831d-ac6f-4f3e-b7fa-ac432685232c', '1aedb019-9a73-4f2c-9504-cbbc38e31ce4', '27cd0ba0-783f-4fdf-8573-1becce1247a0', 'ead7955e-ea92-43a1-a4ea-efcbb2bc78d5', '747899b0-8c0d-460c-8c11-eca370466f2f', '0ae5b881-cb8a-4c58-b691-7a74c3600ef2', 'bf4adb6a-c1fd-4f99-b173-0e8c7b0feba8', '15c1da82-89f1-4dbe-9e22-709348635134', 'd2d5a712-1b63-4ccf-899e-cb3e564579f4']\n",
      "Replacing 10 from 32 !\n",
      "D_relabeled_ 10\n",
      "selected_ids ['5c099578-4c42-4715-82e4-b9259697c2e6', '15c1da82-89f1-4dbe-9e22-709348635134', 'bac9324f-bb7c-4b15-9e53-865b67acafd4', '0bb3a606-4795-4cb2-83b8-8e3dfe77eeb1', 'b89cb024-6954-46d0-a77c-2ab6dc7876ac', '9b8d4b7d-2437-46a0-b4c5-fb8c30cec5fe', '81e65f03-488d-4e93-8607-77bded8ebf54', '2a49039e-0426-4617-a120-df60a0c0b2cf', 'ead7955e-ea92-43a1-a4ea-efcbb2bc78d5', 'fa6e16ba-e19b-473c-8bcf-6837272e3856']\n",
      "dict_keys(['5c099578-4c42-4715-82e4-b9259697c2e6', '15c1da82-89f1-4dbe-9e22-709348635134', 'bac9324f-bb7c-4b15-9e53-865b67acafd4', '0bb3a606-4795-4cb2-83b8-8e3dfe77eeb1', 'b89cb024-6954-46d0-a77c-2ab6dc7876ac', '9b8d4b7d-2437-46a0-b4c5-fb8c30cec5fe', '81e65f03-488d-4e93-8607-77bded8ebf54', '2a49039e-0426-4617-a120-df60a0c0b2cf', 'ead7955e-ea92-43a1-a4ea-efcbb2bc78d5', 'fa6e16ba-e19b-473c-8bcf-6837272e3856'])\n",
      "point ids 10\n",
      "Removed: 10 Filled: 10\n",
      "TOOK 86.92327690124512 seconds\n",
      "***\n",
      "RUN: 3\n",
      "Model saved to /tmp/tmpiwe1g5pdGP2/unet_3.model\n",
      "History saved to /tmp/tmpiwe1g5pdGP2/history_3.pickle\n",
      "Testing the classifier...\n",
      "10/10 [==============================] - 1s 91ms/step - loss: 1.3155 - dice_coeff: 0.3250\n",
      "Testing the discriminator...\n",
      "2/2 [==============================] - 0s 23ms/step - loss: 1.9418 - accuracy: 0.8000\n",
      "Found 17 machine labels.\n",
      "Machine labels [ 0  2 10 11 12 16 21 22 29 35 37 43 45 46 48 57 59]\n",
      "D_ids ['eb34d824-6a36-47be-8e40-cd91d5efdd61', '3bc45e92-ace1-464e-9a88-e385b247fd38', 'd70cf25a-c493-4b2c-8ae6-8a8abaaf2d8d', '69edae6b-55d7-4e26-9676-78c41fbc208e', 'bf5ff02b-55c8-43f8-a296-b14e01ec0233', 'e8b79012-94ab-4f72-9a31-9b16b02b1bf7', 'd003b9a6-f583-4f72-a775-1d22f5c447af', '858378c4-418f-4fbd-8cad-63b4a10a60e1', 'a7b7a098-34bd-41ab-98c9-a78f6757de21', '88bd5832-2f2e-4bd1-a32d-39dfcac624bb', 'b92b53bf-78d1-4bb3-ba6d-0b1bb0c6cbb5', '47a18f32-bfe2-465d-9743-16a3e6a87c5d', 'd24eaf4c-9408-47b4-bebf-d46d98d35d49', '4e6a7d96-fb3d-41f2-82ec-fe15f2ce5610', 'd2da74b3-76d4-495c-aede-f810052195a9', '9f819621-796d-4445-b2a6-6146fd54a98b', '30061b08-424b-4251-868c-7058ad98abae']\n",
      "Replacing 5 from 17 !\n",
      "D_relabeled_ 5\n",
      "selected_ids ['d24eaf4c-9408-47b4-bebf-d46d98d35d49', '47a18f32-bfe2-465d-9743-16a3e6a87c5d', 'a7b7a098-34bd-41ab-98c9-a78f6757de21', 'bf5ff02b-55c8-43f8-a296-b14e01ec0233', '4e6a7d96-fb3d-41f2-82ec-fe15f2ce5610']\n",
      "dict_keys(['d24eaf4c-9408-47b4-bebf-d46d98d35d49', '47a18f32-bfe2-465d-9743-16a3e6a87c5d', 'a7b7a098-34bd-41ab-98c9-a78f6757de21', 'bf5ff02b-55c8-43f8-a296-b14e01ec0233', '4e6a7d96-fb3d-41f2-82ec-fe15f2ce5610'])\n",
      "point ids 5\n",
      "Removed: 5 Filled: 5\n",
      "TOOK 266.7150206565857 seconds\n",
      "***\n",
      "RUN: 4\n"
     ]
    },
    {
     "name": "stdout",
     "output_type": "stream",
     "text": [
      "Model saved to /tmp/tmpiwe1g5pdGP2/unet_4.model\n",
      "History saved to /tmp/tmpiwe1g5pdGP2/history_4.pickle\n",
      "Testing the classifier...\n",
      "10/10 [==============================] - 1s 94ms/step - loss: 1.0912 - dice_coeff: 0.3559\n",
      "Testing the discriminator...\n",
      "2/2 [==============================] - 0s 21ms/step - loss: 5.5211 - accuracy: 0.6667\n",
      "Found 9 machine labels.\n",
      "Machine labels [ 4 23 25 31 32 50 51 55 58]\n",
      "D_ids ['69edae6b-55d7-4e26-9676-78c41fbc208e', 'b6efdfcf-5fb5-47a5-b67d-e935d0bb8ab0', '3e3d9c61-f491-46c0-95d6-1e59aced8f73', '9ebf628f-ec7a-47a0-98a0-2f96dbd2517e', '48dfd50b-f2db-49ab-9914-df4b331157a1', 'c00357ed-58f2-4242-adf3-08a2da6e166f', '812f2f5f-a2ef-4c70-aa28-727be001c231', '64a774e1-3ddc-4873-896c-fefe8aec0d97', '9acbb4b1-99f3-44ea-9669-b9a68a8a79c4']\n",
      "Replacing 3 from 9 !\n",
      "D_relabeled_ 3\n",
      "selected_ids ['9acbb4b1-99f3-44ea-9669-b9a68a8a79c4', '9ebf628f-ec7a-47a0-98a0-2f96dbd2517e', '3e3d9c61-f491-46c0-95d6-1e59aced8f73']\n",
      "dict_keys(['9acbb4b1-99f3-44ea-9669-b9a68a8a79c4', '9ebf628f-ec7a-47a0-98a0-2f96dbd2517e', '3e3d9c61-f491-46c0-95d6-1e59aced8f73'])\n",
      "point ids 3\n",
      "Removed: 3 Filled: 3\n",
      "TOOK 146.69145584106445 seconds\n",
      "***\n",
      "RUN: 5\n",
      "Model saved to /tmp/tmpiwe1g5pdGP2/unet_5.model\n",
      "History saved to /tmp/tmpiwe1g5pdGP2/history_5.pickle\n",
      "Testing the classifier...\n",
      "10/10 [==============================] - 1s 95ms/step - loss: 1.0054 - dice_coeff: 0.3774\n",
      "Testing the discriminator...\n",
      "2/2 [==============================] - 0s 21ms/step - loss: 6.0228 - accuracy: 0.6167\n",
      "Found 12 machine labels.\n",
      "Machine labels [ 2 21 23 31 32 37 38 40 41 45 48 54]\n",
      "D_ids ['479d3979-bbbb-457c-9e5b-e95d23464542', 'aca74207-0187-408b-9d4c-3aa7c3018dbf', 'd0e31793-fb9f-4e06-887b-d4e4b22ab55a', '70404cb3-9bf0-4241-bdc9-80bef332ba03', '2ec117eb-6919-40b4-b245-6ff7cc2a426d', '14237758-7cac-4186-a898-ae28b1c4a215', 'bad60ed5-b766-43fb-857b-5f573c33acc1', '280bfd2e-f11e-4ad4-b387-6189760b8652', 'b53297c9-8c07-4030-b7e1-bb00c8afeec0', '3dec933e-d6df-4a0d-8457-2d9bf553106b', 'd4a6b891-b7f6-4fca-abfd-cd31ca261843', 'b6efdfcf-5fb5-47a5-b67d-e935d0bb8ab0']\n",
      "Replacing 4 from 12 !\n",
      "D_relabeled_ 4\n",
      "selected_ids ['2ec117eb-6919-40b4-b245-6ff7cc2a426d', 'b53297c9-8c07-4030-b7e1-bb00c8afeec0', 'aca74207-0187-408b-9d4c-3aa7c3018dbf', '280bfd2e-f11e-4ad4-b387-6189760b8652']\n",
      "dict_keys(['2ec117eb-6919-40b4-b245-6ff7cc2a426d', 'b53297c9-8c07-4030-b7e1-bb00c8afeec0', 'aca74207-0187-408b-9d4c-3aa7c3018dbf', '280bfd2e-f11e-4ad4-b387-6189760b8652'])\n",
      "point ids 4\n",
      "Removed: 4 Filled: 4\n",
      "TOOK 146.9395613670349 seconds\n",
      "***\n",
      "RUN: 6\n",
      "Model saved to /tmp/tmpiwe1g5pdGP2/unet_6.model\n",
      "History saved to /tmp/tmpiwe1g5pdGP2/history_6.pickle\n",
      "Testing the classifier...\n",
      "10/10 [==============================] - 1s 92ms/step - loss: 0.9734 - dice_coeff: 0.3870\n",
      "Testing the discriminator...\n",
      "2/2 [==============================] - 0s 21ms/step - loss: 7.9978 - accuracy: 0.5833\n",
      "Found 2 machine labels.\n",
      "Machine labels [24 43]\n",
      "D_ids ['53ee0047-7256-449a-80e5-d3e65a5a3387', 'acd84ee0-a3b9-4056-993e-3dbb9094542a']\n",
      "Replacing 0 from 2 !\n",
      "D_relabeled_ 0\n",
      "selected_ids []\n",
      "dict_keys([])\n",
      "point ids 0\n",
      "Removed: 0 Filled: 0\n",
      "TOOK 146.80774641036987 seconds\n",
      "***\n",
      "RUN: 7\n",
      "Model saved to /tmp/tmpiwe1g5pdGP2/unet_7.model\n",
      "History saved to /tmp/tmpiwe1g5pdGP2/history_7.pickle\n",
      "Testing the classifier...\n",
      "10/10 [==============================] - 1s 91ms/step - loss: 0.8990 - dice_coeff: 0.4118\n",
      "Testing the discriminator...\n",
      "2/2 [==============================] - 0s 21ms/step - loss: 10.0942 - accuracy: 0.5000\n",
      "Found 2 machine labels.\n",
      "Machine labels [27 40]\n",
      "D_ids ['153d3311-c08a-496c-84be-34af5edbc8d9', '88bd5832-2f2e-4bd1-a32d-39dfcac624bb']\n",
      "Replacing 0 from 2 !\n",
      "D_relabeled_ 0\n",
      "selected_ids []\n",
      "dict_keys([])\n",
      "point ids 0\n",
      "Removed: 0 Filled: 0\n",
      "TOOK 146.76585268974304 seconds\n",
      "***\n",
      "RUN: 8\n",
      "Model saved to /tmp/tmpiwe1g5pdGP2/unet_8.model\n",
      "History saved to /tmp/tmpiwe1g5pdGP2/history_8.pickle\n",
      "Testing the classifier...\n",
      "10/10 [==============================] - 1s 91ms/step - loss: 0.8873 - dice_coeff: 0.4189\n",
      "Testing the discriminator...\n",
      "2/2 [==============================] - 0s 19ms/step - loss: 6.2970 - accuracy: 0.6167\n",
      "Found 3 machine labels.\n",
      "Machine labels [ 0 15 51]\n",
      "D_ids ['153d3311-c08a-496c-84be-34af5edbc8d9', '659fcbc2-4371-490e-8c68-c44557da1670', '858378c4-418f-4fbd-8cad-63b4a10a60e1']\n",
      "Replacing 1 from 3 !\n",
      "D_relabeled_ 1\n",
      "selected_ids ['153d3311-c08a-496c-84be-34af5edbc8d9']\n",
      "dict_keys(['153d3311-c08a-496c-84be-34af5edbc8d9'])\n",
      "point ids 1\n",
      "Removed: 1 Filled: 1\n",
      "TOOK 146.78331327438354 seconds\n",
      "***\n",
      "RUN: 9\n",
      "Model saved to /tmp/tmpiwe1g5pdGP2/unet_9.model\n",
      "History saved to /tmp/tmpiwe1g5pdGP2/history_9.pickle\n",
      "Testing the classifier...\n",
      "10/10 [==============================] - 1s 94ms/step - loss: 0.8937 - dice_coeff: 0.4167\n",
      "Testing the discriminator...\n",
      "2/2 [==============================] - 0s 45ms/step - loss: 6.8275 - accuracy: 0.6500\n",
      "Found 5 machine labels.\n",
      "Machine labels [ 6  8 14 22 28]\n",
      "D_ids ['86809e2b-4996-4847-a71a-050b6d72f386', 'a1309dfa-0713-4706-ad1c-0a16a2f38f8e', 'd2d5a712-1b63-4ccf-899e-cb3e564579f4', '9849d01c-d20a-48ac-9b43-2f3dcc5a1fda', '23c5abdd-9ff1-4dad-a8b2-08f3d398ddc8']\n",
      "Replacing 1 from 5 !\n",
      "D_relabeled_ 1\n",
      "selected_ids ['23c5abdd-9ff1-4dad-a8b2-08f3d398ddc8']\n",
      "dict_keys(['23c5abdd-9ff1-4dad-a8b2-08f3d398ddc8'])\n",
      "point ids 1\n",
      "Removed: 1 Filled: 1\n",
      "TOOK 25.397465705871582 seconds\n"
     ]
    }
   ],
   "source": [
    "for run in range(RUNS):\n",
    "    print('***')\n",
    "    print('RUN:', run)\n",
    "    t0 = time.time()\n",
    "    R.run_classifier()\n",
    "    R.run_discriminator()\n",
    "    l = R.find_machine_labels()\n",
    "    if l == 0:\n",
    "        print('No more machine labels.')\n",
    "        print('TOOK', time.time()-t0, 'seconds')\n",
    "        break\n",
    "    R.relabel(percent_to_replace=PERCENT_TO_REPLACE)\n",
    "    print('TOOK', time.time()-t0, 'seconds')\n",
    "    "
   ]
  },
  {
   "cell_type": "code",
   "execution_count": null,
   "id": "dab6fd49",
   "metadata": {},
   "outputs": [],
   "source": []
  },
  {
   "cell_type": "code",
   "execution_count": null,
   "id": "93739320",
   "metadata": {},
   "outputs": [],
   "source": []
  },
  {
   "cell_type": "code",
   "execution_count": null,
   "id": "a76a4615",
   "metadata": {},
   "outputs": [],
   "source": []
  },
  {
   "cell_type": "code",
   "execution_count": 14,
   "id": "00075332",
   "metadata": {},
   "outputs": [
    {
     "data": {
      "text/plain": [
       "[[1.4194260835647583, 0.2763760983943939],\n",
       " [1.2979971170425415, 0.2929002046585083],\n",
       " [1.2883390188217163, 0.30097705125808716],\n",
       " [1.3155134916305542, 0.32503896951675415],\n",
       " [1.0912405252456665, 0.3559153378009796],\n",
       " [1.005431056022644, 0.37743958830833435],\n",
       " [0.9734432697296143, 0.38698285818099976],\n",
       " [0.8990063667297363, 0.411807119846344],\n",
       " [0.8873487114906311, 0.41886386275291443],\n",
       " [0.893716037273407, 0.4167410433292389]]"
      ]
     },
     "execution_count": 14,
     "metadata": {},
     "output_type": "execute_result"
    }
   ],
   "source": [
    "R.classifier_scores"
   ]
  },
  {
   "cell_type": "code",
   "execution_count": 15,
   "id": "35105656",
   "metadata": {},
   "outputs": [
    {
     "data": {
      "text/plain": [
       "[[0.015220760367810726, 1.0],\n",
       " [0.005975322797894478, 1.0],\n",
       " [0.2831890285015106, 0.9333333373069763],\n",
       " [1.9418339729309082, 0.800000011920929],\n",
       " [5.521136283874512, 0.6666666865348816],\n",
       " [6.022826671600342, 0.6166666746139526],\n",
       " [7.997800350189209, 0.5833333134651184],\n",
       " [10.094229698181152, 0.5],\n",
       " [6.296982765197754, 0.6166666746139526],\n",
       " [6.827529430389404, 0.6499999761581421]]"
      ]
     },
     "execution_count": 15,
     "metadata": {},
     "output_type": "execute_result"
    }
   ],
   "source": [
    "R.discriminator_scores"
   ]
  },
  {
   "cell_type": "code",
   "execution_count": 16,
   "id": "afa3277f",
   "metadata": {},
   "outputs": [
    {
     "data": {
      "image/png": "[encoded data removed]",
      "text/plain": [
       "<Figure size 240x240 with 1 Axes>"
      ]
     },
     "metadata": {
      "needs_background": "light"
     },
     "output_type": "display_data"
    }
   ],
   "source": [
    "R.plot()"
   ]
  },
  {
   "cell_type": "code",
   "execution_count": null,
   "id": "1dd103c7",
   "metadata": {},
   "outputs": [],
   "source": []
  },
  {
   "cell_type": "code",
   "execution_count": 26,
   "id": "e1d07d1c",
   "metadata": {},
   "outputs": [
    {
     "data": {
      "image/png": "[encoded data removed]",
      "text/plain": [
       "<Figure size 240x240 with 1 Axes>"
      ]
     },
     "metadata": {
      "needs_background": "light"
     },
     "output_type": "display_data"
    }
   ],
   "source": [
    "R.plot() # plot after fixing bug"
   ]
  },
  {
   "cell_type": "code",
   "execution_count": null,
   "id": "f435f897",
   "metadata": {},
   "outputs": [],
   "source": []
  },
  {
   "cell_type": "code",
   "execution_count": 13,
   "id": "0a721a90",
   "metadata": {},
   "outputs": [
    {
     "data": {
      "image/png": "[encoded data removed]",
      "text/plain": [
       "<Figure size 240x240 with 1 Axes>"
      ]
     },
     "metadata": {
      "needs_background": "light"
     },
     "output_type": "display_data"
    }
   ],
   "source": [
    "R.plot() # plot before bug fixed"
   ]
  },
  {
   "cell_type": "code",
   "execution_count": null,
   "id": "551de181",
   "metadata": {},
   "outputs": [],
   "source": []
  }
 ],
 "metadata": {
  "kernelspec": {
   "display_name": "Python 3 (ipykernel)",
   "language": "python",
   "name": "python3"
  },
  "language_info": {
   "codemirror_mode": {
    "name": "ipython",
    "version": 3
   },
   "file_extension": ".py",
   "mimetype": "text/x-python",
   "name": "python",
   "nbconvert_exporter": "python",
   "pygments_lexer": "ipython3",
   "version": "3.9.7"
  }
 },
 "nbformat": 4,
 "nbformat_minor": 5
}
