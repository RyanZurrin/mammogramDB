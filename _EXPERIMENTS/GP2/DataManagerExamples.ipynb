{
 "cells": [
  {
   "cell_type": "code",
   "execution_count": 1,
   "id": "00565704",
   "metadata": {},
   "outputs": [],
   "source": [
    "%load_ext autoreload\n",
    "%autoreload 2"
   ]
  },
  {
   "cell_type": "code",
   "execution_count": 2,
   "id": "64b673b6",
   "metadata": {},
   "outputs": [],
   "source": [
    "import data"
   ]
  },
  {
   "cell_type": "code",
   "execution_count": 3,
   "id": "78b01595",
   "metadata": {},
   "outputs": [],
   "source": [
    "M = data.Manager()"
   ]
  },
  {
   "cell_type": "code",
   "execution_count": null,
   "id": "becc9835",
   "metadata": {},
   "outputs": [],
   "source": []
  },
  {
   "cell_type": "code",
   "execution_count": 4,
   "id": "b8767f87",
   "metadata": {},
   "outputs": [],
   "source": [
    "p1 = data.Point(\"POINT1\")"
   ]
  },
  {
   "cell_type": "code",
   "execution_count": 5,
   "id": "1094f3fc",
   "metadata": {},
   "outputs": [],
   "source": [
    "p2 = data.Point(\"POINT2\")"
   ]
  },
  {
   "cell_type": "code",
   "execution_count": 6,
   "id": "8dab5125",
   "metadata": {},
   "outputs": [],
   "source": [
    "p3 = data.Point(\"POINT3\")"
   ]
  },
  {
   "cell_type": "code",
   "execution_count": 7,
   "id": "5c75c0ba",
   "metadata": {},
   "outputs": [],
   "source": [
    "c1 = data.Collection()"
   ]
  },
  {
   "cell_type": "code",
   "execution_count": 8,
   "id": "0a5ba3e8",
   "metadata": {},
   "outputs": [],
   "source": [
    "c2 = data.Collection()"
   ]
  },
  {
   "cell_type": "code",
   "execution_count": 9,
   "id": "5b1a9257",
   "metadata": {},
   "outputs": [],
   "source": [
    "M.register(c1)"
   ]
  },
  {
   "cell_type": "code",
   "execution_count": 10,
   "id": "65e0c4b6",
   "metadata": {},
   "outputs": [],
   "source": [
    "M.register(c2, 'A cool name')"
   ]
  },
  {
   "cell_type": "code",
   "execution_count": 11,
   "id": "ba11cf33",
   "metadata": {},
   "outputs": [
    {
     "data": {
      "text/plain": [
       "{'b595fd3b-1223-44b2-a84b-0ff7c0da4a98': 'A cool name'}"
      ]
     },
     "execution_count": 11,
     "metadata": {},
     "output_type": "execute_result"
    }
   ],
   "source": [
    "M.names"
   ]
  },
  {
   "cell_type": "code",
   "execution_count": null,
   "id": "2ad371ae",
   "metadata": {},
   "outputs": [],
   "source": []
  },
  {
   "cell_type": "code",
   "execution_count": 12,
   "id": "dd9a9a69",
   "metadata": {},
   "outputs": [],
   "source": [
    "c1.add(p1)"
   ]
  },
  {
   "cell_type": "code",
   "execution_count": 13,
   "id": "9c946933",
   "metadata": {},
   "outputs": [],
   "source": [
    "c1.add(p3)"
   ]
  },
  {
   "cell_type": "code",
   "execution_count": 14,
   "id": "30c9b785",
   "metadata": {},
   "outputs": [],
   "source": [
    "c2.add(p2)"
   ]
  },
  {
   "cell_type": "code",
   "execution_count": 15,
   "id": "11c4310b",
   "metadata": {},
   "outputs": [
    {
     "name": "stdout",
     "output_type": "stream",
     "text": [
      "{'dc5a33b6-d95e-4222-9c30-2b19948f6bc9': 'POINT1', 'b84fc20f-3fc6-459d-9b02-440e018a47a2': 'POINT3'}\n"
     ]
    }
   ],
   "source": [
    "print(c1)"
   ]
  },
  {
   "cell_type": "code",
   "execution_count": 16,
   "id": "f2dd3b9e",
   "metadata": {},
   "outputs": [
    {
     "name": "stdout",
     "output_type": "stream",
     "text": [
      "{'4bbc98e6-6958-45ae-b72c-a8bf438ab70e': 'POINT2'}\n"
     ]
    }
   ],
   "source": [
    "print(c2)"
   ]
  },
  {
   "cell_type": "code",
   "execution_count": 17,
   "id": "b70238d5",
   "metadata": {},
   "outputs": [
    {
     "data": {
      "text/plain": [
       "(<data.collection.Collection at 0x7fe82033cf10>,\n",
       " <data.collection.Collection at 0x7fe8203462b0>)"
      ]
     },
     "execution_count": 17,
     "metadata": {},
     "output_type": "execute_result"
    }
   ],
   "source": [
    "M.remove_and_add(c2, c1, p2)"
   ]
  },
  {
   "cell_type": "code",
   "execution_count": 18,
   "id": "f5382145",
   "metadata": {},
   "outputs": [
    {
     "name": "stdout",
     "output_type": "stream",
     "text": [
      "{'dc5a33b6-d95e-4222-9c30-2b19948f6bc9': 'POINT1', 'b84fc20f-3fc6-459d-9b02-440e018a47a2': 'POINT3', '4bbc98e6-6958-45ae-b72c-a8bf438ab70e': 'POINT2'}\n"
     ]
    }
   ],
   "source": [
    "print(c1)"
   ]
  },
  {
   "cell_type": "code",
   "execution_count": 19,
   "id": "d5b61ee7",
   "metadata": {},
   "outputs": [
    {
     "name": "stdout",
     "output_type": "stream",
     "text": [
      "{}\n"
     ]
    }
   ],
   "source": [
    "print(c2)"
   ]
  },
  {
   "cell_type": "code",
   "execution_count": 20,
   "id": "d98ce176",
   "metadata": {},
   "outputs": [],
   "source": [
    "c2.add(p1)"
   ]
  },
  {
   "cell_type": "code",
   "execution_count": 21,
   "id": "087bbd78",
   "metadata": {},
   "outputs": [],
   "source": [
    "c2.add(p1)"
   ]
  },
  {
   "cell_type": "code",
   "execution_count": 22,
   "id": "6d6c0e58",
   "metadata": {},
   "outputs": [
    {
     "name": "stdout",
     "output_type": "stream",
     "text": [
      "{'dc5a33b6-d95e-4222-9c30-2b19948f6bc9': 'POINT1'}\n"
     ]
    }
   ],
   "source": [
    "print(c2)"
   ]
  },
  {
   "cell_type": "code",
   "execution_count": 23,
   "id": "32c0b997",
   "metadata": {},
   "outputs": [
    {
     "name": "stdout",
     "output_type": "stream",
     "text": [
      "{'dc5a33b6-d95e-4222-9c30-2b19948f6bc9': 'POINT1', 'b84fc20f-3fc6-459d-9b02-440e018a47a2': 'POINT3', '4bbc98e6-6958-45ae-b72c-a8bf438ab70e': 'POINT2'}\n"
     ]
    }
   ],
   "source": [
    "print(c1)"
   ]
  },
  {
   "cell_type": "code",
   "execution_count": 24,
   "id": "0720ca7c",
   "metadata": {},
   "outputs": [
    {
     "data": {
      "text/plain": [
       "{'b595fd3b-1223-44b2-a84b-0ff7c0da4a98': 'A cool name'}"
      ]
     },
     "execution_count": 24,
     "metadata": {},
     "output_type": "execute_result"
    }
   ],
   "source": [
    "M.names"
   ]
  },
  {
   "cell_type": "code",
   "execution_count": 25,
   "id": "2e291ac1",
   "metadata": {},
   "outputs": [
    {
     "data": {
      "text/plain": [
       "{'unknown0': <data.collection.Collection at 0x7fe8203462b0>,\n",
       " 'A cool name': <data.collection.Collection at 0x7fe82033cf10>}"
      ]
     },
     "execution_count": 25,
     "metadata": {},
     "output_type": "execute_result"
    }
   ],
   "source": [
    "M.find(p1.id, show_names=True)"
   ]
  },
  {
   "cell_type": "code",
   "execution_count": 26,
   "id": "9fd59393",
   "metadata": {},
   "outputs": [
    {
     "data": {
      "text/plain": [
       "{'unknown0': <data.collection.Collection at 0x7fe8203462b0>,\n",
       " 'A cool name': <data.collection.Collection at 0x7fe82033cf10>}"
      ]
     },
     "execution_count": 26,
     "metadata": {},
     "output_type": "execute_result"
    }
   ],
   "source": [
    "M.find(p1, show_names=True)"
   ]
  },
  {
   "cell_type": "code",
   "execution_count": 27,
   "id": "019c6739",
   "metadata": {},
   "outputs": [
    {
     "data": {
      "text/plain": [
       "[<data.collection.Collection at 0x7fe8203462b0>,\n",
       " <data.collection.Collection at 0x7fe82033cf10>]"
      ]
     },
     "execution_count": 27,
     "metadata": {},
     "output_type": "execute_result"
    }
   ],
   "source": [
    "M.find(p1, show_names=False)"
   ]
  },
  {
   "cell_type": "code",
   "execution_count": null,
   "id": "c4767b5c",
   "metadata": {},
   "outputs": [],
   "source": []
  },
  {
   "cell_type": "code",
   "execution_count": 28,
   "id": "325d9b48",
   "metadata": {},
   "outputs": [],
   "source": [
    "where_is_p1 = M.find(p1)"
   ]
  },
  {
   "cell_type": "code",
   "execution_count": 29,
   "id": "68412f8e",
   "metadata": {},
   "outputs": [],
   "source": [
    "where_is_p1[0].remove(p1)"
   ]
  },
  {
   "cell_type": "code",
   "execution_count": 30,
   "id": "f414d1d3",
   "metadata": {},
   "outputs": [
    {
     "data": {
      "text/plain": [
       "[<data.collection.Collection at 0x7fe82033cf10>]"
      ]
     },
     "execution_count": 30,
     "metadata": {},
     "output_type": "execute_result"
    }
   ],
   "source": [
    "M.find(p1)"
   ]
  },
  {
   "cell_type": "code",
   "execution_count": 31,
   "id": "062ea88b",
   "metadata": {},
   "outputs": [
    {
     "data": {
      "text/plain": [
       "'b595fd3b-1223-44b2-a84b-0ff7c0da4a98'"
      ]
     },
     "execution_count": 31,
     "metadata": {},
     "output_type": "execute_result"
    }
   ],
   "source": [
    "M.find(p1)[0].id"
   ]
  },
  {
   "cell_type": "code",
   "execution_count": 32,
   "id": "c6a6b1d2",
   "metadata": {},
   "outputs": [
    {
     "data": {
      "text/plain": [
       "{'dc5a33b6-d95e-4222-9c30-2b19948f6bc9': 'POINT1'}"
      ]
     },
     "execution_count": 32,
     "metadata": {},
     "output_type": "execute_result"
    }
   ],
   "source": [
    "M.find(p1)[0].data"
   ]
  },
  {
   "cell_type": "code",
   "execution_count": 33,
   "id": "a8314dc9",
   "metadata": {},
   "outputs": [],
   "source": [
    "p10 = data.Point(\"P10\")"
   ]
  },
  {
   "cell_type": "code",
   "execution_count": 34,
   "id": "4c833496",
   "metadata": {},
   "outputs": [
    {
     "data": {
      "text/plain": [
       "[]"
      ]
     },
     "execution_count": 34,
     "metadata": {},
     "output_type": "execute_result"
    }
   ],
   "source": [
    "M.find(p10)"
   ]
  },
  {
   "cell_type": "code",
   "execution_count": null,
   "id": "89bad43d",
   "metadata": {},
   "outputs": [],
   "source": []
  }
 ],
 "metadata": {
  "kernelspec": {
   "display_name": "Python 3 (ipykernel)",
   "language": "python",
   "name": "python3"
  },
  "language_info": {
   "codemirror_mode": {
    "name": "ipython",
    "version": 3
   },
   "file_extension": ".py",
   "mimetype": "text/x-python",
   "name": "python",
   "nbconvert_exporter": "python",
   "pygments_lexer": "ipython3",
   "version": "3.9.7"
  }
 },
 "nbformat": 4,
 "nbformat_minor": 5
}
