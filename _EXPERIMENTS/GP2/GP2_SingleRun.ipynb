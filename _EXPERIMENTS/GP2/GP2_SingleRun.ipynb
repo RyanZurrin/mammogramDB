{
 "cells": [
  {
   "cell_type": "code",
   "execution_count": 1,
   "id": "06c4accc",
   "metadata": {},
   "outputs": [
    {
     "name": "stdout",
     "output_type": "stream",
     "text": [
      "Populating the interactive namespace from numpy and matplotlib\n"
     ]
    }
   ],
   "source": [
    "%pylab inline\n",
    "%load_ext autoreload\n",
    "%autoreload 2"
   ]
  },
  {
   "cell_type": "code",
   "execution_count": 2,
   "id": "b9e78ed8",
   "metadata": {},
   "outputs": [],
   "source": [
    "from runner import Runner"
   ]
  },
  {
   "cell_type": "code",
   "execution_count": 3,
   "id": "bdc75325",
   "metadata": {},
   "outputs": [
    {
     "name": "stdout",
     "output_type": "stream",
     "text": [
      "*** GP2 ***\n",
      "Working directory: /tmp/tmp_auyvje4GP2\n"
     ]
    }
   ],
   "source": [
    "R = Runner()"
   ]
  },
  {
   "cell_type": "code",
   "execution_count": 4,
   "id": "87b0c65d",
   "metadata": {},
   "outputs": [],
   "source": [
    "# load our larger toy dataset (10k images and masks)\n",
    "images = np.load('/raid/mpsych/GP2TOYEXAMPLE_LARGE/images.npy')\n",
    "masks = np.load('/raid/mpsych/GP2TOYEXAMPLE_LARGE/masks.npy')"
   ]
  },
  {
   "cell_type": "code",
   "execution_count": 5,
   "id": "2a5d1030",
   "metadata": {},
   "outputs": [],
   "source": [
    "R.setup_data(images, masks)"
   ]
  },
  {
   "cell_type": "code",
   "execution_count": 6,
   "id": "ea548b56",
   "metadata": {},
   "outputs": [],
   "source": [
    "# run 1"
   ]
  },
  {
   "cell_type": "code",
   "execution_count": 7,
   "id": "1b355664",
   "metadata": {},
   "outputs": [
    {
     "name": "stdout",
     "output_type": "stream",
     "text": [
      "INFO:tensorflow:Assets written to: /tmp/tmp_auyvje4GP2/unet_0.model/assets\n",
      "INFO:tensorflow:Assets written to: /tmp/tmp_auyvje4GP2/unet_0.model/assets\n",
      "INFO:tensorflow:Assets written to: /tmp/tmp_auyvje4GP2/unet_0.model/assets\n",
      "INFO:tensorflow:Assets written to: /tmp/tmp_auyvje4GP2/unet_0.model/assets\n",
      "INFO:tensorflow:Assets written to: /tmp/tmp_auyvje4GP2/unet_0.model/assets\n",
      "INFO:tensorflow:Assets written to: /tmp/tmp_auyvje4GP2/unet_0.model/assets\n",
      "INFO:tensorflow:Assets written to: /tmp/tmp_auyvje4GP2/unet_0.model/assets\n",
      "INFO:tensorflow:Assets written to: /tmp/tmp_auyvje4GP2/unet_0.model/assets\n",
      "INFO:tensorflow:Assets written to: /tmp/tmp_auyvje4GP2/unet_0.model/assets\n",
      "INFO:tensorflow:Assets written to: /tmp/tmp_auyvje4GP2/unet_0.model/assets\n",
      "INFO:tensorflow:Assets written to: /tmp/tmp_auyvje4GP2/unet_0.model/assets\n",
      "INFO:tensorflow:Assets written to: /tmp/tmp_auyvje4GP2/unet_0.model/assets\n",
      "INFO:tensorflow:Assets written to: /tmp/tmp_auyvje4GP2/unet_0.model/assets\n",
      "INFO:tensorflow:Assets written to: /tmp/tmp_auyvje4GP2/unet_0.model/assets\n",
      "INFO:tensorflow:Assets written to: /tmp/tmp_auyvje4GP2/unet_0.model/assets\n",
      "INFO:tensorflow:Assets written to: /tmp/tmp_auyvje4GP2/unet_0.model/assets\n",
      "INFO:tensorflow:Assets written to: /tmp/tmp_auyvje4GP2/unet_0.model/assets\n",
      "INFO:tensorflow:Assets written to: /tmp/tmp_auyvje4GP2/unet_0.model/assets\n",
      "INFO:tensorflow:Assets written to: /tmp/tmp_auyvje4GP2/unet_0.model/assets\n",
      "INFO:tensorflow:Assets written to: /tmp/tmp_auyvje4GP2/unet_0.model/assets\n",
      "INFO:tensorflow:Assets written to: /tmp/tmp_auyvje4GP2/unet_0.model/assets\n",
      "INFO:tensorflow:Assets written to: /tmp/tmp_auyvje4GP2/unet_0.model/assets\n",
      "INFO:tensorflow:Assets written to: /tmp/tmp_auyvje4GP2/unet_0.model/assets\n",
      "INFO:tensorflow:Assets written to: /tmp/tmp_auyvje4GP2/unet_0.model/assets\n",
      "INFO:tensorflow:Assets written to: /tmp/tmp_auyvje4GP2/unet_0.model/assets\n",
      "INFO:tensorflow:Assets written to: /tmp/tmp_auyvje4GP2/unet_0.model/assets\n",
      "INFO:tensorflow:Assets written to: /tmp/tmp_auyvje4GP2/unet_0.model/assets\n",
      "INFO:tensorflow:Assets written to: /tmp/tmp_auyvje4GP2/unet_0.model/assets\n",
      "INFO:tensorflow:Assets written to: /tmp/tmp_auyvje4GP2/unet_0.model/assets\n",
      "INFO:tensorflow:Assets written to: /tmp/tmp_auyvje4GP2/unet_0.model/assets\n",
      "INFO:tensorflow:Assets written to: /tmp/tmp_auyvje4GP2/unet_0.model/assets\n",
      "INFO:tensorflow:Assets written to: /tmp/tmp_auyvje4GP2/unet_0.model/assets\n",
      "INFO:tensorflow:Assets written to: /tmp/tmp_auyvje4GP2/unet_0.model/assets\n",
      "INFO:tensorflow:Assets written to: /tmp/tmp_auyvje4GP2/unet_0.model/assets\n",
      "Epoch 00035: early stopping\n",
      "Model saved to /tmp/tmp_auyvje4GP2/unet_0.model\n",
      "History saved to /tmp/tmp_auyvje4GP2/history_0.pickle\n",
      "8/8 [==============================] - 1s 101ms/step - loss: 1.1186 - dice_coeff: 0.3212\n"
     ]
    }
   ],
   "source": [
    "R.run_classifier()"
   ]
  },
  {
   "cell_type": "code",
   "execution_count": 8,
   "id": "efa8dec4",
   "metadata": {},
   "outputs": [
    {
     "name": "stdout",
     "output_type": "stream",
     "text": [
      "INFO:tensorflow:Assets written to: /tmp/tmp_auyvje4GP2/cnnd_0.model/assets\n",
      "INFO:tensorflow:Assets written to: /tmp/tmp_auyvje4GP2/cnnd_0.model/assets\n",
      "INFO:tensorflow:Assets written to: /tmp/tmp_auyvje4GP2/cnnd_0.model/assets\n",
      "INFO:tensorflow:Assets written to: /tmp/tmp_auyvje4GP2/cnnd_0.model/assets\n",
      "INFO:tensorflow:Assets written to: /tmp/tmp_auyvje4GP2/cnnd_0.model/assets\n",
      "INFO:tensorflow:Assets written to: /tmp/tmp_auyvje4GP2/cnnd_0.model/assets\n",
      "INFO:tensorflow:Assets written to: /tmp/tmp_auyvje4GP2/cnnd_0.model/assets\n",
      "INFO:tensorflow:Assets written to: /tmp/tmp_auyvje4GP2/cnnd_0.model/assets\n",
      "Epoch 00088: early stopping\n",
      "Model saved to /tmp/tmp_auyvje4GP2/cnnd_0.model\n",
      "History saved to /tmp/tmp_auyvje4GP2/cnnd_history_0.pickle\n",
      "4/4 [==============================] - 0s 18ms/step - loss: 1.3483 - accuracy: 0.8500\n"
     ]
    }
   ],
   "source": [
    "R.run_discriminator()"
   ]
  },
  {
   "cell_type": "code",
   "execution_count": 57,
   "id": "b1122df5",
   "metadata": {},
   "outputs": [],
   "source": [
    "R.M = R.M.load('/tmp/tmp_auyvje4GP2/M_step5.pickle')"
   ]
  },
  {
   "cell_type": "code",
   "execution_count": 58,
   "id": "77fb01cf",
   "metadata": {},
   "outputs": [
    {
     "name": "stdout",
     "output_type": "stream",
     "text": [
      "Found 43 machine labels.\n"
     ]
    }
   ],
   "source": [
    "R.find_machine_labels()"
   ]
  },
  {
   "cell_type": "code",
   "execution_count": null,
   "id": "0d69ee02",
   "metadata": {},
   "outputs": [],
   "source": []
  },
  {
   "cell_type": "code",
   "execution_count": 59,
   "id": "75541e67",
   "metadata": {},
   "outputs": [
    {
     "name": "stdout",
     "output_type": "stream",
     "text": [
      "43\n",
      "(14, 512, 512, 3)\n",
      "13\n",
      "B e1b85597-fc8e-4182-8849-2cca82a88b6a\n",
      "4\n",
      "B f976d05d-b6a6-4b1d-b5e6-42b1321f8fcd\n",
      "34\n",
      "A_test 1600beae-1cac-40cd-8670-fdf4deb7533f\n",
      "13\n",
      "B e1b85597-fc8e-4182-8849-2cca82a88b6a\n",
      "23\n",
      "A_test f2267898-1525-467d-be20-098f85c0a2a1\n",
      "38\n",
      "A_test bbea4609-3adb-4d4b-a8df-434eb8c2834b\n",
      "37\n",
      "A_test 2ee4dd9c-f0c8-4ac0-91d5-dc46518947f6\n",
      "37\n",
      "A_test 2ee4dd9c-f0c8-4ac0-91d5-dc46518947f6\n",
      "29\n",
      "A_test e2a6d597-7015-4a47-b8e9-70647507cb28\n",
      "29\n",
      "A_test e2a6d597-7015-4a47-b8e9-70647507cb28\n",
      "1\n",
      "A_test fa68357e-679a-4363-801b-458e22ef66c1\n",
      "38\n",
      "A_test bbea4609-3adb-4d4b-a8df-434eb8c2834b\n",
      "41\n",
      "A_test d4e7f4a7-8bf6-498e-87e1-2433d205b5da\n",
      "3\n",
      "A_test 1afdaa4e-7564-4330-9c07-7de5c5e5c3e1\n",
      "Removed: 10 Filled: 10\n"
     ]
    }
   ],
   "source": [
    "R.relabel()"
   ]
  },
  {
   "cell_type": "code",
   "execution_count": null,
   "id": "01b7232e",
   "metadata": {},
   "outputs": [],
   "source": [
    "# run 2"
   ]
  },
  {
   "cell_type": "code",
   "execution_count": 64,
   "id": "2bc5049b",
   "metadata": {},
   "outputs": [
    {
     "name": "stdout",
     "output_type": "stream",
     "text": [
      "INFO:tensorflow:Assets written to: /tmp/tmp_auyvje4GP2/unet_1.model/assets\n",
      "INFO:tensorflow:Assets written to: /tmp/tmp_auyvje4GP2/unet_1.model/assets\n",
      "INFO:tensorflow:Assets written to: /tmp/tmp_auyvje4GP2/unet_1.model/assets\n",
      "INFO:tensorflow:Assets written to: /tmp/tmp_auyvje4GP2/unet_1.model/assets\n",
      "INFO:tensorflow:Assets written to: /tmp/tmp_auyvje4GP2/unet_1.model/assets\n",
      "INFO:tensorflow:Assets written to: /tmp/tmp_auyvje4GP2/unet_1.model/assets\n",
      "INFO:tensorflow:Assets written to: /tmp/tmp_auyvje4GP2/unet_1.model/assets\n",
      "INFO:tensorflow:Assets written to: /tmp/tmp_auyvje4GP2/unet_1.model/assets\n",
      "INFO:tensorflow:Assets written to: /tmp/tmp_auyvje4GP2/unet_1.model/assets\n",
      "INFO:tensorflow:Assets written to: /tmp/tmp_auyvje4GP2/unet_1.model/assets\n",
      "INFO:tensorflow:Assets written to: /tmp/tmp_auyvje4GP2/unet_1.model/assets\n",
      "INFO:tensorflow:Assets written to: /tmp/tmp_auyvje4GP2/unet_1.model/assets\n",
      "INFO:tensorflow:Assets written to: /tmp/tmp_auyvje4GP2/unet_1.model/assets\n",
      "INFO:tensorflow:Assets written to: /tmp/tmp_auyvje4GP2/unet_1.model/assets\n",
      "INFO:tensorflow:Assets written to: /tmp/tmp_auyvje4GP2/unet_1.model/assets\n",
      "INFO:tensorflow:Assets written to: /tmp/tmp_auyvje4GP2/unet_1.model/assets\n",
      "INFO:tensorflow:Assets written to: /tmp/tmp_auyvje4GP2/unet_1.model/assets\n",
      "INFO:tensorflow:Assets written to: /tmp/tmp_auyvje4GP2/unet_1.model/assets\n",
      "INFO:tensorflow:Assets written to: /tmp/tmp_auyvje4GP2/unet_1.model/assets\n",
      "INFO:tensorflow:Assets written to: /tmp/tmp_auyvje4GP2/unet_1.model/assets\n",
      "INFO:tensorflow:Assets written to: /tmp/tmp_auyvje4GP2/unet_1.model/assets\n",
      "INFO:tensorflow:Assets written to: /tmp/tmp_auyvje4GP2/unet_1.model/assets\n",
      "INFO:tensorflow:Assets written to: /tmp/tmp_auyvje4GP2/unet_1.model/assets\n",
      "Epoch 00032: early stopping\n",
      "Model saved to /tmp/tmp_auyvje4GP2/unet_1.model\n",
      "History saved to /tmp/tmp_auyvje4GP2/history_1.pickle\n",
      "8/8 [==============================] - 1s 99ms/step - loss: 0.7118 - dice_coeff: 0.4927\n"
     ]
    }
   ],
   "source": [
    "R.run_classifier()"
   ]
  },
  {
   "cell_type": "code",
   "execution_count": 65,
   "id": "522dc522",
   "metadata": {},
   "outputs": [
    {
     "name": "stdout",
     "output_type": "stream",
     "text": [
      "4/4 [==============================] - 0s 19ms/step - loss: 1.3483 - accuracy: 0.8500\n"
     ]
    }
   ],
   "source": [
    "R.run_discriminator()"
   ]
  },
  {
   "cell_type": "code",
   "execution_count": null,
   "id": "f5eaa715",
   "metadata": {},
   "outputs": [],
   "source": []
  }
 ],
 "metadata": {
  "kernelspec": {
   "display_name": "Python 3 (ipykernel)",
   "language": "python",
   "name": "python3"
  },
  "language_info": {
   "codemirror_mode": {
    "name": "ipython",
    "version": 3
   },
   "file_extension": ".py",
   "mimetype": "text/x-python",
   "name": "python",
   "nbconvert_exporter": "python",
   "pygments_lexer": "ipython3",
   "version": "3.9.7"
  }
 },
 "nbformat": 4,
 "nbformat_minor": 5
}
