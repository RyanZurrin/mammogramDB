{
 "cells": [
  {
   "cell_type": "code",
   "execution_count": 1,
   "id": "06c4accc",
   "metadata": {},
   "outputs": [
    {
     "name": "stdout",
     "output_type": "stream",
     "text": [
      "Populating the interactive namespace from numpy and matplotlib\n"
     ]
    }
   ],
   "source": [
    "%pylab inline\n",
    "%load_ext autoreload\n",
    "%autoreload 2"
   ]
  },
  {
   "cell_type": "code",
   "execution_count": 2,
   "id": "3b313506",
   "metadata": {},
   "outputs": [],
   "source": [
    "import time"
   ]
  },
  {
   "cell_type": "code",
   "execution_count": 3,
   "id": "b9e78ed8",
   "metadata": {},
   "outputs": [],
   "source": [
    "from runner import Runner"
   ]
  },
  {
   "cell_type": "code",
   "execution_count": 6,
   "id": "551de181",
   "metadata": {},
   "outputs": [],
   "source": [
    "# load our lucchi augmented dataset with flipped and inverted images (2640 images and masks)\n",
    "images_plus = np.load('/raid/mpsych/gp2_lucchi_augmented_images_plus.npy')\n",
    "masks_plus = np.load('/raid/mpsych/gp2_lucchi_augmented_masks_plus.npy')"
   ]
  },
  {
   "cell_type": "code",
   "execution_count": 9,
   "id": "a0328840",
   "metadata": {},
   "outputs": [
    {
     "name": "stdout",
     "output_type": "stream",
     "text": [
      "Weights OK!\n"
     ]
    }
   ],
   "source": [
    "R1 = Runner(verbose=False)\n",
    "R1.setup_data(images_plus, masks_plus, dataset_size=2640, weights=weights)"
   ]
  },
  {
   "cell_type": "code",
   "execution_count": 10,
   "id": "bfaa85f7",
   "metadata": {},
   "outputs": [],
   "source": [
    "RUNS = 10"
   ]
  },
  {
   "cell_type": "code",
   "execution_count": 11,
   "id": "a0b319a8",
   "metadata": {},
   "outputs": [
    {
     "name": "stdout",
     "output_type": "stream",
     "text": [
      "***\n",
      "RUN: 0\n",
      "Model saved to /tmp/tmpf7q9v2c2GP2/unet_0.model\n",
      "History saved to /tmp/tmpf7q9v2c2GP2/history_0.pickle\n",
      "Testing the classifier...\n",
      "25/25 [==============================] - 3s 102ms/step - loss: -26.8356 - dice_coeff: 0.3644\n",
      "Model saved to /tmp/tmpf7q9v2c2GP2/cnnd_0.model\n",
      "History saved to /tmp/tmpf7q9v2c2GP2/cnnd_history_0.pickle\n",
      "Testing the discriminator...\n",
      "5/5 [==============================] - 0s 63ms/step - loss: 0.0000e+00 - accuracy: 1.0000\n",
      "Found 83 machine labels.\n",
      "Replacing 27 from 83 !\n",
      "D_relabeled_ 27\n",
      "Removed: 27 Filled: 27\n",
      "TOOK 885.0732610225677 seconds\n",
      "***\n",
      "RUN: 1\n",
      "Model saved to /tmp/tmpf7q9v2c2GP2/unet_1.model\n",
      "History saved to /tmp/tmpf7q9v2c2GP2/history_1.pickle\n",
      "Testing the classifier...\n",
      "25/25 [==============================] - 2s 96ms/step - loss: -23.9056 - dice_coeff: 0.3033\n",
      "Testing the discriminator...\n",
      "5/5 [==============================] - 0s 64ms/step - loss: 0.0000e+00 - accuracy: 1.0000\n",
      "Found 71 machine labels.\n",
      "Replacing 23 from 71 !\n",
      "D_relabeled_ 23\n",
      "Removed: 23 Filled: 23\n",
      "TOOK 164.3771915435791 seconds\n",
      "***\n",
      "RUN: 2\n",
      "Model saved to /tmp/tmpf7q9v2c2GP2/unet_2.model\n",
      "History saved to /tmp/tmpf7q9v2c2GP2/history_2.pickle\n",
      "Testing the classifier...\n",
      "25/25 [==============================] - 2s 97ms/step - loss: -22.0394 - dice_coeff: 0.3113\n",
      "Testing the discriminator...\n",
      "5/5 [==============================] - 0s 63ms/step - loss: 6.2561 - accuracy: 0.9494\n",
      "Found 67 machine labels.\n",
      "Replacing 22 from 67 !\n",
      "Removed: 22 Filled: 22\n",
      "TOOK 345.1442482471466 seconds\n",
      "***\n",
      "RUN: 3\n",
      "Model saved to /tmp/tmpf7q9v2c2GP2/unet_3.model\n",
      "History saved to /tmp/tmpf7q9v2c2GP2/history_3.pickle\n",
      "Testing the classifier...\n",
      "25/25 [==============================] - 2s 96ms/step - loss: 171.9794 - dice_coeff: 0.1513\n",
      "Testing the discriminator...\n",
      "5/5 [==============================] - 0s 68ms/step - loss: 285.1886 - accuracy: 0.5443\n",
      "Found 6 machine labels.\n",
      "Replacing 2 from 6 !\n",
      "Removed: 2 Filled: 2\n",
      "TOOK 103.92205834388733 seconds\n",
      "***\n",
      "RUN: 4\n",
      "Model saved to /tmp/tmpf7q9v2c2GP2/unet_4.model\n",
      "History saved to /tmp/tmpf7q9v2c2GP2/history_4.pickle\n",
      "Testing the classifier...\n",
      "25/25 [==============================] - 2s 96ms/step - loss: -171.2397 - dice_coeff: 0.4262\n",
      "Testing the discriminator...\n",
      "5/5 [==============================] - 0s 63ms/step - loss: 0.0000e+00 - accuracy: 1.0000\n",
      "Found 81 machine labels.\n",
      "Replacing 27 from 81 !\n",
      "Removed: 27 Filled: 27\n",
      "TOOK 600.0286567211151 seconds\n",
      "***\n",
      "RUN: 5\n",
      "Model saved to /tmp/tmpf7q9v2c2GP2/unet_5.model\n",
      "History saved to /tmp/tmpf7q9v2c2GP2/history_5.pickle\n",
      "Testing the classifier...\n",
      "25/25 [==============================] - 2s 96ms/step - loss: -195.7787 - dice_coeff: 0.4324\n",
      "Testing the discriminator...\n",
      "5/5 [==============================] - 0s 63ms/step - loss: 0.0000e+00 - accuracy: 1.0000\n",
      "Found 84 machine labels.\n",
      "Replacing 28 from 84 !\n",
      "Removed: 28 Filled: 28\n",
      "TOOK 675.3085901737213 seconds\n",
      "***\n",
      "RUN: 6\n",
      "Model saved to /tmp/tmpf7q9v2c2GP2/unet_6.model\n",
      "History saved to /tmp/tmpf7q9v2c2GP2/history_6.pickle\n",
      "Testing the classifier...\n",
      "25/25 [==============================] - 2s 96ms/step - loss: -196.8237 - dice_coeff: 0.4318\n",
      "Testing the discriminator...\n",
      "5/5 [==============================] - 0s 63ms/step - loss: 5.0096 - accuracy: 0.9557\n",
      "Found 75 machine labels.\n",
      "Replacing 25 from 75 !\n",
      "Removed: 25 Filled: 25\n",
      "TOOK 224.29903316497803 seconds\n",
      "***\n",
      "RUN: 7\n",
      "Model saved to /tmp/tmpf7q9v2c2GP2/unet_7.model\n",
      "History saved to /tmp/tmpf7q9v2c2GP2/history_7.pickle\n",
      "Testing the classifier...\n",
      "25/25 [==============================] - 2s 96ms/step - loss: -210.4166 - dice_coeff: 0.4277\n",
      "Testing the discriminator...\n",
      "5/5 [==============================] - 0s 65ms/step - loss: 0.0012 - accuracy: 1.0000\n",
      "Found 79 machine labels.\n",
      "Replacing 26 from 79 !\n",
      "Removed: 26 Filled: 26\n",
      "TOOK 644.5438849925995 seconds\n",
      "***\n",
      "RUN: 8\n",
      "Model saved to /tmp/tmpf7q9v2c2GP2/unet_8.model\n",
      "History saved to /tmp/tmpf7q9v2c2GP2/history_8.pickle\n",
      "Testing the classifier...\n",
      "25/25 [==============================] - 2s 96ms/step - loss: -216.3716 - dice_coeff: 0.4256\n",
      "Testing the discriminator...\n",
      "5/5 [==============================] - 0s 63ms/step - loss: 0.0000e+00 - accuracy: 1.0000\n",
      "Found 79 machine labels.\n",
      "Replacing 26 from 79 !\n",
      "Removed: 26 Filled: 26\n",
      "TOOK 284.5923225879669 seconds\n",
      "***\n",
      "RUN: 9\n",
      "Model saved to /tmp/tmpf7q9v2c2GP2/unet_9.model\n",
      "History saved to /tmp/tmpf7q9v2c2GP2/history_9.pickle\n",
      "Testing the classifier...\n",
      "25/25 [==============================] - 2s 96ms/step - loss: -227.0978 - dice_coeff: 0.3588\n",
      "Testing the discriminator...\n",
      "5/5 [==============================] - 0s 70ms/step - loss: 0.0000e+00 - accuracy: 1.0000\n",
      "Found 81 machine labels.\n",
      "Replacing 27 from 81 !\n",
      "Removed: 27 Filled: 27\n",
      "TOOK 344.88158345222473 seconds\n"
     ]
    }
   ],
   "source": [
    "for run in range(RUNS):\n",
    "    print('***')\n",
    "    print('RUN:', run)\n",
    "    t0 = time.time()\n",
    "    R1.run_classifier()\n",
    "    R1.run_discriminator()\n",
    "    l = R1.find_machine_labels()\n",
    "    if l == 0:\n",
    "        print('No more machine labels.')\n",
    "        print('TOOK', time.time()-t0, 'seconds')\n",
    "        break\n",
    "    R1.relabel(percent_to_replace=PERCENT_TO_REPLACE)\n",
    "    print('TOOK', time.time()-t0, 'seconds')\n",
    "    "
   ]
  },
  {
   "cell_type": "code",
   "execution_count": 12,
   "id": "62f686a2",
   "metadata": {},
   "outputs": [
    {
     "data": {
      "text/plain": [
       "[[-26.83564567565918, 0.36439651250839233],\n",
       " [-23.905635833740234, 0.30329427123069763],\n",
       " [-22.039430618286133, 0.3112960755825043],\n",
       " [171.9794464111328, 0.15129172801971436],\n",
       " [-171.2397003173828, 0.4262163043022156],\n",
       " [-195.77874755859375, 0.43237757682800293],\n",
       " [-196.82366943359375, 0.4317781925201416],\n",
       " [-210.41664123535156, 0.4277406632900238],\n",
       " [-216.37158203125, 0.42556649446487427],\n",
       " [-227.09780883789062, 0.358835905790329]]"
      ]
     },
     "execution_count": 12,
     "metadata": {},
     "output_type": "execute_result"
    }
   ],
   "source": [
    "R1.classifier_scores"
   ]
  },
  {
   "cell_type": "code",
   "execution_count": 13,
   "id": "47b8f76f",
   "metadata": {},
   "outputs": [
    {
     "data": {
      "text/plain": [
       "[[0.0, 1.0],\n",
       " [0.0, 1.0],\n",
       " [6.256052494049072, 0.949367105960846],\n",
       " [285.1885986328125, 0.5443037748336792],\n",
       " [0.0, 1.0],\n",
       " [0.0, 1.0],\n",
       " [5.009603500366211, 0.9556962251663208],\n",
       " [0.0011847002897411585, 1.0],\n",
       " [0.0, 1.0],\n",
       " [0.0, 1.0]]"
      ]
     },
     "execution_count": 13,
     "metadata": {},
     "output_type": "execute_result"
    }
   ],
   "source": [
    "R1.discriminator_scores"
   ]
  },
  {
   "cell_type": "code",
   "execution_count": 14,
   "id": "9587a783",
   "metadata": {},
   "outputs": [
    {
     "data": {
      "image/png": "[encoded data removed]",
      "text/plain": [
       "<Figure size 240x240 with 1 Axes>"
      ]
     },
     "metadata": {
      "needs_background": "light"
     },
     "output_type": "display_data"
    }
   ],
   "source": [
    "R1.plot()"
   ]
  },
  {
   "cell_type": "code",
   "execution_count": null,
   "id": "17066b16",
   "metadata": {},
   "outputs": [],
   "source": []
  }
 ],
 "metadata": {
  "kernelspec": {
   "display_name": "Python 3 (ipykernel)",
   "language": "python",
   "name": "python3"
  },
  "language_info": {
   "codemirror_mode": {
    "name": "ipython",
    "version": 3
   },
   "file_extension": ".py",
   "mimetype": "text/x-python",
   "name": "python",
   "nbconvert_exporter": "python",
   "pygments_lexer": "ipython3",
   "version": "3.9.7"
  }
 },
 "nbformat": 4,
 "nbformat_minor": 5
}
