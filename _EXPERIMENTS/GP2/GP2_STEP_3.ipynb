{
 "cells": [
  {
   "cell_type": "code",
   "execution_count": 1,
   "id": "b15e439a",
   "metadata": {},
   "outputs": [
    {
     "name": "stdout",
     "output_type": "stream",
     "text": [
      "Populating the interactive namespace from numpy and matplotlib\n"
     ]
    }
   ],
   "source": [
    "%pylab inline\n",
    "%load_ext autoreload\n",
    "%autoreload 2"
   ]
  },
  {
   "cell_type": "code",
   "execution_count": 2,
   "id": "2eaaa0f4",
   "metadata": {},
   "outputs": [],
   "source": [
    "import data\n",
    "import gp2"
   ]
  },
  {
   "cell_type": "code",
   "execution_count": 3,
   "id": "abad428e",
   "metadata": {},
   "outputs": [],
   "source": [
    "import os"
   ]
  },
  {
   "cell_type": "code",
   "execution_count": null,
   "id": "478e93c7",
   "metadata": {},
   "outputs": [],
   "source": []
  },
  {
   "cell_type": "code",
   "execution_count": 4,
   "id": "2c913bb3",
   "metadata": {},
   "outputs": [],
   "source": [
    "workingdir = '/tmp/tmpsbsac6t_GP2'"
   ]
  },
  {
   "cell_type": "code",
   "execution_count": null,
   "id": "e498ca1c",
   "metadata": {},
   "outputs": [],
   "source": []
  },
  {
   "cell_type": "code",
   "execution_count": 5,
   "id": "993fdb9f",
   "metadata": {},
   "outputs": [],
   "source": [
    "M = data.Manager.load(os.path.join(workingdir, 'M_step2.pickle'))"
   ]
  },
  {
   "cell_type": "code",
   "execution_count": 6,
   "id": "da368640",
   "metadata": {},
   "outputs": [],
   "source": [
    "C = M.get('C')"
   ]
  },
  {
   "cell_type": "code",
   "execution_count": null,
   "id": "e9f2447d",
   "metadata": {},
   "outputs": [],
   "source": []
  },
  {
   "cell_type": "code",
   "execution_count": 7,
   "id": "b74e856c",
   "metadata": {},
   "outputs": [],
   "source": [
    "train_count = 300\n",
    "val_count = 100\n",
    "test_count = 100\n",
    "\n",
    "C.shuffle() # we need to shuffle in connection land to keep track of the ids\n",
    "\n",
    "C_, C_ids = C.to_array()\n",
    "C_train_, C_val_, C_test_ = gp2.Util.create_train_val_test_split(C_, \n",
    "                                                                 train_count=train_count, \n",
    "                                                                 val_count=val_count, \n",
    "                                                                 test_count=test_count,\n",
    "                                                                 shuffle=False)\n",
    "\n",
    "C_train_ids = C_ids[0:train_count]\n",
    "C_val_ids = C_ids[train_count:train_count+val_count]\n",
    "C_test_ids = C_ids[train_count+val_count:train_count+val_count+test_count]"
   ]
  },
  {
   "cell_type": "code",
   "execution_count": 8,
   "id": "00876d32",
   "metadata": {},
   "outputs": [
    {
     "data": {
      "text/plain": [
       "(300, 512, 512, 3)"
      ]
     },
     "execution_count": 8,
     "metadata": {},
     "output_type": "execute_result"
    }
   ],
   "source": [
    "C_train_.shape # 0: image, 1: mask, 2: label"
   ]
  },
  {
   "cell_type": "code",
   "execution_count": 9,
   "id": "1bbdc438",
   "metadata": {},
   "outputs": [
    {
     "data": {
      "text/plain": [
       "{'9b40feb6-d801-455d-9844-ce7699e8f4fd': 'A_train',\n",
       " 'b2a16a66-060e-408a-8e17-506238300389': 'A_val',\n",
       " '176fcc4c-f45b-487e-a7ac-62010272d206': 'A_test',\n",
       " 'b13780c8-e9b9-47bb-84ad-d91ce9155211': 'A_test_pred',\n",
       " '2834b7d4-9f72-4584-aedd-f866777290e3': 'B',\n",
       " 'ba96acbc-9f10-445a-811c-75e845663aed': 'C'}"
      ]
     },
     "execution_count": 9,
     "metadata": {},
     "output_type": "execute_result"
    }
   ],
   "source": [
    "M.names"
   ]
  },
  {
   "cell_type": "code",
   "execution_count": 10,
   "id": "23aca14d",
   "metadata": {},
   "outputs": [],
   "source": [
    "C_train = data.Collection.from_list(C_train_, C_train_ids)\n",
    "C_val = data.Collection.from_list(C_val_, C_val_ids)\n",
    "C_test = data.Collection.from_list(C_test_, C_test_ids)"
   ]
  },
  {
   "cell_type": "code",
   "execution_count": 11,
   "id": "5b7139d7",
   "metadata": {},
   "outputs": [],
   "source": [
    "M.register(C_train, 'C_train')\n",
    "M.register(C_val, 'C_val')\n",
    "M.register(C_test, 'C_test')"
   ]
  },
  {
   "cell_type": "code",
   "execution_count": null,
   "id": "a9f503e5",
   "metadata": {},
   "outputs": [],
   "source": []
  },
  {
   "cell_type": "code",
   "execution_count": 12,
   "id": "866434ad",
   "metadata": {},
   "outputs": [
    {
     "data": {
      "text/plain": [
       "'33d6460d-81f6-46ff-a9e4-f36d6ce54700'"
      ]
     },
     "execution_count": 12,
     "metadata": {},
     "output_type": "execute_result"
    }
   ],
   "source": [
    "# some test if the ids are still in the right place\n",
    "list(C_test.data.keys())[13]"
   ]
  },
  {
   "cell_type": "code",
   "execution_count": 14,
   "id": "1cb11630",
   "metadata": {},
   "outputs": [
    {
     "data": {
      "text/plain": [
       "{'B': <data.collection.Collection at 0x7f6b928b75b0>,\n",
       " 'C': <data.collection.Collection at 0x7f6b928b7550>,\n",
       " 'C_test': <data.collection.Collection at 0x7f6b928a4100>}"
      ]
     },
     "execution_count": 14,
     "metadata": {},
     "output_type": "execute_result"
    }
   ],
   "source": [
    "M.find(list(C_test.data.keys())[13], show_names=True)"
   ]
  },
  {
   "cell_type": "code",
   "execution_count": 15,
   "id": "db575743",
   "metadata": {},
   "outputs": [
    {
     "data": {
      "text/plain": [
       "'59ca6d1e-306e-4c1e-9ebe-25aa2db3a846'"
      ]
     },
     "execution_count": 15,
     "metadata": {},
     "output_type": "execute_result"
    }
   ],
   "source": [
    "list(C_test.data.keys())[14]"
   ]
  },
  {
   "cell_type": "code",
   "execution_count": 16,
   "id": "93397b95",
   "metadata": {},
   "outputs": [
    {
     "data": {
      "text/plain": [
       "{'A_test': <data.collection.Collection at 0x7f6b928b7700>,\n",
       " 'A_test_pred': <data.collection.Collection at 0x7f6b928b76a0>,\n",
       " 'C': <data.collection.Collection at 0x7f6b928b7550>,\n",
       " 'C_test': <data.collection.Collection at 0x7f6b928a4100>}"
      ]
     },
     "execution_count": 16,
     "metadata": {},
     "output_type": "execute_result"
    }
   ],
   "source": [
    "M.find(list(C_test.data.keys())[14], show_names=True)"
   ]
  },
  {
   "cell_type": "code",
   "execution_count": null,
   "id": "7258a6ef",
   "metadata": {},
   "outputs": [],
   "source": []
  },
  {
   "cell_type": "code",
   "execution_count": 17,
   "id": "b01c8c25",
   "metadata": {},
   "outputs": [
    {
     "data": {
      "text/plain": [
       "{'9b40feb6-d801-455d-9844-ce7699e8f4fd': 'A_train',\n",
       " 'b2a16a66-060e-408a-8e17-506238300389': 'A_val',\n",
       " '176fcc4c-f45b-487e-a7ac-62010272d206': 'A_test',\n",
       " 'b13780c8-e9b9-47bb-84ad-d91ce9155211': 'A_test_pred',\n",
       " '2834b7d4-9f72-4584-aedd-f866777290e3': 'B',\n",
       " 'ba96acbc-9f10-445a-811c-75e845663aed': 'C',\n",
       " '27357f64-73f1-4a93-b42d-e517dfb46559': 'C_train',\n",
       " '0b3bd5dc-c6d2-4cf0-b54f-678610c35e3a': 'C_val',\n",
       " '8fb0b6b9-026e-46e2-adab-89a24a713ffc': 'C_test'}"
      ]
     },
     "execution_count": 17,
     "metadata": {},
     "output_type": "execute_result"
    }
   ],
   "source": [
    "M.names"
   ]
  },
  {
   "cell_type": "code",
   "execution_count": 18,
   "id": "f39be2e5",
   "metadata": {},
   "outputs": [],
   "source": [
    "M.save(os.path.join(workingdir, 'M_step3.pickle'))"
   ]
  },
  {
   "cell_type": "code",
   "execution_count": null,
   "id": "ec0377a2",
   "metadata": {},
   "outputs": [],
   "source": []
  }
 ],
 "metadata": {
  "kernelspec": {
   "display_name": "Python 3 (ipykernel)",
   "language": "python",
   "name": "python3"
  },
  "language_info": {
   "codemirror_mode": {
    "name": "ipython",
    "version": 3
   },
   "file_extension": ".py",
   "mimetype": "text/x-python",
   "name": "python",
   "nbconvert_exporter": "python",
   "pygments_lexer": "ipython3",
   "version": "3.9.7"
  }
 },
 "nbformat": 4,
 "nbformat_minor": 5
}
