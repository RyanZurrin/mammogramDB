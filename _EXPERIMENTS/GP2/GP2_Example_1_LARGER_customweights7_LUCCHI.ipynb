{
 "cells": [
  {
   "cell_type": "code",
   "execution_count": 1,
   "id": "06c4accc",
   "metadata": {},
   "outputs": [
    {
     "name": "stdout",
     "output_type": "stream",
     "text": [
      "Populating the interactive namespace from numpy and matplotlib\n"
     ]
    }
   ],
   "source": [
    "%pylab inline\n",
    "%load_ext autoreload\n",
    "%autoreload 2"
   ]
  },
  {
   "cell_type": "code",
   "execution_count": 2,
   "id": "3b313506",
   "metadata": {},
   "outputs": [],
   "source": [
    "import time"
   ]
  },
  {
   "cell_type": "code",
   "execution_count": 3,
   "id": "b9e78ed8",
   "metadata": {},
   "outputs": [],
   "source": [
    "from runner import Runner"
   ]
  },
  {
   "cell_type": "code",
   "execution_count": 4,
   "id": "bdc75325",
   "metadata": {},
   "outputs": [
    {
     "name": "stdout",
     "output_type": "stream",
     "text": [
      "*** GP2 ***\n",
      "Working directory: /tmp/tmpuq6u7d7yGP2\n"
     ]
    }
   ],
   "source": [
    "R = Runner(verbose=False)"
   ]
  },
  {
   "cell_type": "code",
   "execution_count": 5,
   "id": "87b0c65d",
   "metadata": {},
   "outputs": [],
   "source": [
    "# load our lucchi augmented dataset with flipped images(1980 images and masks)\n",
    "images = np.load('/raid/mpsych/gp2_lucchi_augmented_images.npy')\n",
    "masks = np.load('/raid/mpsych/gp2_lucchi_augmented_masks.npy')"
   ]
  },
  {
   "cell_type": "code",
   "execution_count": 6,
   "id": "1dd71668",
   "metadata": {},
   "outputs": [],
   "source": [
    "weights = {\n",
    "    'A': 0.5,\n",
    "    'A_train': 0.1,\n",
    "    'A_val': 0.3,\n",
    "    'A_test': 0.6,\n",
    "    'B': 0.3,\n",
    "    'B_train': 0.7,\n",
    "    'B_val': 0.1,\n",
    "    'B_test': 0.2,\n",
    "    'Z': 0.2\n",
    "} \n",
    "PERCENT_TO_REPLACE = 20"
   ]
  },
  {
   "cell_type": "code",
   "execution_count": 7,
   "id": "2a5d1030",
   "metadata": {},
   "outputs": [
    {
     "name": "stdout",
     "output_type": "stream",
     "text": [
      "Weights OK!\n"
     ]
    }
   ],
   "source": [
    "R.setup_data(images, masks, dataset_size=1980, weights=weights)"
   ]
  },
  {
   "cell_type": "code",
   "execution_count": 8,
   "id": "99127251",
   "metadata": {},
   "outputs": [],
   "source": [
    "RUNS = 10"
   ]
  },
  {
   "cell_type": "code",
   "execution_count": 9,
   "id": "d8ff85c4",
   "metadata": {
    "scrolled": false
   },
   "outputs": [
    {
     "name": "stdout",
     "output_type": "stream",
     "text": [
      "***\n",
      "RUN: 0\n",
      "Model saved to /tmp/tmpuq6u7d7yGP2/unet_0.model\n",
      "History saved to /tmp/tmpuq6u7d7yGP2/history_0.pickle\n",
      "Testing the classifier...\n",
      "19/19 [==============================] - 2s 101ms/step - loss: 1.2963 - dice_coeff: 0.1403\n",
      "Model saved to /tmp/tmpuq6u7d7yGP2/cnnd_0.model\n",
      "History saved to /tmp/tmpuq6u7d7yGP2/cnnd_history_0.pickle\n",
      "Testing the discriminator...\n",
      "4/4 [==============================] - 0s 22ms/step - loss: 0.0000e+00 - accuracy: 1.0000\n",
      "Found 50 machine labels.\n",
      "Replacing 10 from 50 !\n",
      "D_relabeled_ 10\n",
      "point ids 10\n",
      "Removed: 10 Filled: 10\n",
      "TOOK 528.4257924556732 seconds\n",
      "***\n",
      "RUN: 1\n",
      "Model saved to /tmp/tmpuq6u7d7yGP2/unet_1.model\n",
      "History saved to /tmp/tmpuq6u7d7yGP2/history_1.pickle\n",
      "Testing the classifier...\n",
      "19/19 [==============================] - 2s 100ms/step - loss: 1.2475 - dice_coeff: 0.1438\n",
      "Testing the discriminator...\n",
      "4/4 [==============================] - 0s 22ms/step - loss: 0.0000e+00 - accuracy: 1.0000\n",
      "Found 59 machine labels.\n",
      "Replacing 11 from 59 !\n",
      "D_relabeled_ 11\n",
      "point ids 11\n",
      "Removed: 11 Filled: 11\n",
      "TOOK 211.17842030525208 seconds\n",
      "***\n",
      "RUN: 2\n",
      "Model saved to /tmp/tmpuq6u7d7yGP2/unet_2.model\n",
      "History saved to /tmp/tmpuq6u7d7yGP2/history_2.pickle\n",
      "Testing the classifier...\n",
      "19/19 [==============================] - 2s 101ms/step - loss: 1.2027 - dice_coeff: 0.1398\n",
      "Testing the discriminator...\n",
      "4/4 [==============================] - 0s 22ms/step - loss: 0.3125 - accuracy: 0.9831\n",
      "Found 63 machine labels.\n",
      "Replacing 12 from 63 !\n",
      "D_relabeled_ 12\n",
      "point ids 12\n",
      "Removed: 12 Filled: 12\n",
      "TOOK 210.8834102153778 seconds\n",
      "***\n",
      "RUN: 3\n",
      "Model saved to /tmp/tmpuq6u7d7yGP2/unet_3.model\n",
      "History saved to /tmp/tmpuq6u7d7yGP2/history_3.pickle\n",
      "Testing the classifier...\n",
      "19/19 [==============================] - 2s 99ms/step - loss: 1.1848 - dice_coeff: 0.1307\n",
      "Testing the discriminator...\n",
      "4/4 [==============================] - 0s 22ms/step - loss: 5.6112e-04 - accuracy: 1.0000\n",
      "Found 62 machine labels.\n",
      "Replacing 12 from 62 !\n",
      "D_relabeled_ 12\n",
      "point ids 12\n",
      "Removed: 12 Filled: 12\n",
      "TOOK 150.87098670005798 seconds\n",
      "***\n",
      "RUN: 4\n",
      "Model saved to /tmp/tmpuq6u7d7yGP2/unet_4.model\n",
      "History saved to /tmp/tmpuq6u7d7yGP2/history_4.pickle\n",
      "Testing the classifier...\n",
      "19/19 [==============================] - 2s 99ms/step - loss: 1.1768 - dice_coeff: 0.1307\n",
      "Testing the discriminator...\n",
      "4/4 [==============================] - 0s 22ms/step - loss: 0.9969 - accuracy: 0.9661\n",
      "Found 61 machine labels.\n",
      "Replacing 12 from 61 !\n",
      "D_relabeled_ 12\n",
      "point ids 12\n",
      "Removed: 12 Filled: 12\n",
      "TOOK 151.11481165885925 seconds\n",
      "***\n",
      "RUN: 5\n",
      "Model saved to /tmp/tmpuq6u7d7yGP2/unet_5.model\n",
      "History saved to /tmp/tmpuq6u7d7yGP2/history_5.pickle\n",
      "Testing the classifier...\n",
      "19/19 [==============================] - 2s 99ms/step - loss: 1.1977 - dice_coeff: 0.1339\n",
      "Testing the discriminator...\n",
      "4/4 [==============================] - 0s 22ms/step - loss: 28.0890 - accuracy: 0.8559\n",
      "Found 50 machine labels.\n",
      "Replacing 10 from 50 !\n",
      "D_relabeled_ 10\n",
      "point ids 10\n",
      "Removed: 10 Filled: 10\n",
      "TOOK 150.95040440559387 seconds\n",
      "***\n",
      "RUN: 6\n",
      "Model saved to /tmp/tmpuq6u7d7yGP2/unet_6.model\n",
      "History saved to /tmp/tmpuq6u7d7yGP2/history_6.pickle\n",
      "Testing the classifier...\n",
      "19/19 [==============================] - 2s 99ms/step - loss: 1.1863 - dice_coeff: 0.1549\n",
      "Testing the discriminator...\n",
      "4/4 [==============================] - 0s 22ms/step - loss: 100.2956 - accuracy: 0.8305\n",
      "Found 39 machine labels.\n",
      "Replacing 7 from 39 !\n",
      "D_relabeled_ 7\n",
      "point ids 7\n",
      "Removed: 7 Filled: 7\n",
      "TOOK 210.83367490768433 seconds\n",
      "***\n",
      "RUN: 7\n",
      "Model saved to /tmp/tmpuq6u7d7yGP2/unet_7.model\n",
      "History saved to /tmp/tmpuq6u7d7yGP2/history_7.pickle\n",
      "Testing the classifier...\n",
      "19/19 [==============================] - 2s 100ms/step - loss: 1.0350 - dice_coeff: 0.2671\n",
      "Testing the discriminator...\n",
      "4/4 [==============================] - 0s 31ms/step - loss: 390.7935 - accuracy: 0.7288\n",
      "Found 22 machine labels.\n",
      "Replacing 4 from 22 !\n",
      "D_relabeled_ 4\n",
      "point ids 4\n",
      "Removed: 4 Filled: 4\n",
      "TOOK 150.9602575302124 seconds\n",
      "***\n",
      "RUN: 8\n",
      "Model saved to /tmp/tmpuq6u7d7yGP2/unet_8.model\n",
      "History saved to /tmp/tmpuq6u7d7yGP2/history_8.pickle\n",
      "Testing the classifier...\n",
      "19/19 [==============================] - 2s 100ms/step - loss: 0.9336 - dice_coeff: 0.3308\n",
      "Testing the discriminator...\n",
      "4/4 [==============================] - 0s 23ms/step - loss: 651.6740 - accuracy: 0.7119\n",
      "Found 28 machine labels.\n",
      "Replacing 5 from 28 !\n",
      "D_relabeled_ 5\n",
      "point ids 5\n",
      "Removed: 5 Filled: 5\n",
      "TOOK 151.15358233451843 seconds\n",
      "***\n",
      "RUN: 9\n",
      "Model saved to /tmp/tmpuq6u7d7yGP2/unet_9.model\n",
      "History saved to /tmp/tmpuq6u7d7yGP2/history_9.pickle\n",
      "Testing the classifier...\n",
      "19/19 [==============================] - 2s 100ms/step - loss: 0.8949 - dice_coeff: 0.3602\n",
      "Testing the discriminator...\n",
      "4/4 [==============================] - 0s 28ms/step - loss: 461.5732 - accuracy: 0.7203\n",
      "Found 35 machine labels.\n",
      "Replacing 7 from 35 !\n",
      "D_relabeled_ 7\n",
      "point ids 7\n",
      "Removed: 7 Filled: 7\n",
      "TOOK 210.99151158332825 seconds\n"
     ]
    }
   ],
   "source": [
    "for run in range(RUNS):\n",
    "    print('***')\n",
    "    print('RUN:', run) \n",
    "    t0 = time.time()\n",
    "    R.run_classifier()\n",
    "    R.run_discriminator()\n",
    "    l = R.find_machine_labels()\n",
    "    if l == 0:\n",
    "        print('No more machine labels.')\n",
    "        print('TOOK', time.time()-t0, 'seconds')\n",
    "        break\n",
    "    R.relabel(percent_to_replace=PERCENT_TO_REPLACE)\n",
    "    print('TOOK', time.time()-t0, 'seconds')\n",
    "    "
   ]
  },
  {
   "cell_type": "code",
   "execution_count": 10,
   "id": "00075332",
   "metadata": {},
   "outputs": [
    {
     "data": {
      "text/plain": [
       "[[1.2962908744812012, 0.14033353328704834],\n",
       " [1.2474619150161743, 0.14377707242965698],\n",
       " [1.2026615142822266, 0.13984175026416779],\n",
       " [1.184785008430481, 0.13071537017822266],\n",
       " [1.176754355430603, 0.13066309690475464],\n",
       " [1.1976972818374634, 0.13392983376979828],\n",
       " [1.1863266229629517, 0.15492132306098938],\n",
       " [1.0349715948104858, 0.26711156964302063],\n",
       " [0.9336327910423279, 0.3308262526988983],\n",
       " [0.8949022889137268, 0.3602405786514282]]"
      ]
     },
     "execution_count": 10,
     "metadata": {},
     "output_type": "execute_result"
    }
   ],
   "source": [
    "R.classifier_scores"
   ]
  },
  {
   "cell_type": "code",
   "execution_count": 11,
   "id": "35105656",
   "metadata": {},
   "outputs": [
    {
     "data": {
      "text/plain": [
       "[[0.0, 1.0],\n",
       " [0.0, 1.0],\n",
       " [0.3124590814113617, 0.9830508232116699],\n",
       " [0.0005611183005385101, 1.0],\n",
       " [0.9969465732574463, 0.9661017060279846],\n",
       " [28.088991165161133, 0.8559321761131287],\n",
       " [100.29560089111328, 0.8305084705352783],\n",
       " [390.79351806640625, 0.7288135886192322],\n",
       " [651.6740112304688, 0.7118644118309021],\n",
       " [461.57318115234375, 0.7203390002250671]]"
      ]
     },
     "execution_count": 11,
     "metadata": {},
     "output_type": "execute_result"
    }
   ],
   "source": [
    "R.discriminator_scores"
   ]
  },
  {
   "cell_type": "code",
   "execution_count": 12,
   "id": "0a721a90",
   "metadata": {},
   "outputs": [
    {
     "data": {
      "image/png": "[encoded data removed]",
      "text/plain": [
       "<Figure size 240x240 with 1 Axes>"
      ]
     },
     "metadata": {
      "needs_background": "light"
     },
     "output_type": "display_data"
    }
   ],
   "source": [
    "R.plot()"
   ]
  }
 ],
 "metadata": {
  "kernelspec": {
   "display_name": "Python 3 (ipykernel)",
   "language": "python",
   "name": "python3"
  },
  "language_info": {
   "codemirror_mode": {
    "name": "ipython",
    "version": 3
   },
   "file_extension": ".py",
   "mimetype": "text/x-python",
   "name": "python",
   "nbconvert_exporter": "python",
   "pygments_lexer": "ipython3",
   "version": "3.9.7"
  }
 },
 "nbformat": 4,
 "nbformat_minor": 5
}
