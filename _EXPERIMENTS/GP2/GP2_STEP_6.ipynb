{
 "cells": [
  {
   "cell_type": "code",
   "execution_count": 1,
   "id": "b15e439a",
   "metadata": {},
   "outputs": [
    {
     "name": "stdout",
     "output_type": "stream",
     "text": [
      "Populating the interactive namespace from numpy and matplotlib\n"
     ]
    }
   ],
   "source": [
    "%pylab inline\n",
    "%load_ext autoreload\n",
    "%autoreload 2"
   ]
  },
  {
   "cell_type": "code",
   "execution_count": 2,
   "id": "2eaaa0f4",
   "metadata": {},
   "outputs": [],
   "source": [
    "import data\n",
    "import gp2"
   ]
  },
  {
   "cell_type": "code",
   "execution_count": 3,
   "id": "abad428e",
   "metadata": {},
   "outputs": [],
   "source": [
    "import os"
   ]
  },
  {
   "cell_type": "code",
   "execution_count": null,
   "id": "478e93c7",
   "metadata": {},
   "outputs": [],
   "source": []
  },
  {
   "cell_type": "code",
   "execution_count": 4,
   "id": "2c913bb3",
   "metadata": {},
   "outputs": [],
   "source": [
    "workingdir = '/tmp/tmpsbsac6t_GP2'"
   ]
  },
  {
   "cell_type": "code",
   "execution_count": null,
   "id": "e498ca1c",
   "metadata": {},
   "outputs": [],
   "source": []
  },
  {
   "cell_type": "code",
   "execution_count": 6,
   "id": "993fdb9f",
   "metadata": {},
   "outputs": [],
   "source": [
    "M = data.Manager.load(os.path.join(workingdir, 'M_step5.pickle'))"
   ]
  },
  {
   "cell_type": "code",
   "execution_count": 7,
   "id": "da368640",
   "metadata": {},
   "outputs": [],
   "source": [
    "C_test = M.get('C_test')\n",
    "C_test_pred = M.get('C_test_pred')"
   ]
  },
  {
   "cell_type": "code",
   "execution_count": 8,
   "id": "e9f2447d",
   "metadata": {},
   "outputs": [],
   "source": [
    "C_test_, C_test_ids = C_test.to_array() \n",
    "C_test_pred_, C_test_pred_ids = C_test_pred.to_array()"
   ]
  },
  {
   "cell_type": "code",
   "execution_count": 9,
   "id": "35e1381d",
   "metadata": {},
   "outputs": [],
   "source": [
    "all_machine_labels_indices = np.where(C_test_pred_ == 1)[0]"
   ]
  },
  {
   "cell_type": "code",
   "execution_count": 10,
   "id": "247bd745",
   "metadata": {},
   "outputs": [
    {
     "data": {
      "text/plain": [
       "array([ 0,  3,  9, 14, 16, 17, 18, 24, 25, 26, 27, 28, 31, 32, 33, 36, 37,\n",
       "       38, 40, 42, 43, 45, 46, 47, 48, 49, 50, 51, 52, 56, 61, 63, 65, 66,\n",
       "       70, 71, 74, 75, 79, 80, 81, 82, 85, 87, 88, 94, 96, 97])"
      ]
     },
     "execution_count": 10,
     "metadata": {},
     "output_type": "execute_result"
    }
   ],
   "source": [
    "all_machine_labels_indices"
   ]
  },
  {
   "cell_type": "code",
   "execution_count": 11,
   "id": "ab063f86",
   "metadata": {},
   "outputs": [
    {
     "data": {
      "text/plain": [
       "48"
      ]
     },
     "execution_count": 11,
     "metadata": {},
     "output_type": "execute_result"
    }
   ],
   "source": [
    "len(all_machine_labels_indices)"
   ]
  },
  {
   "cell_type": "code",
   "execution_count": 16,
   "id": "9a451d2f",
   "metadata": {},
   "outputs": [],
   "source": [
    "assert(C_test_ids == C_test_pred_ids) # must be the same"
   ]
  },
  {
   "cell_type": "code",
   "execution_count": 19,
   "id": "075e5ec8",
   "metadata": {},
   "outputs": [],
   "source": [
    "D_ = np.empty(((len(all_machine_labels_indices),) + C_test_.shape[1:]), dtype=C_test_.dtype)\n",
    "D_ids = []"
   ]
  },
  {
   "cell_type": "code",
   "execution_count": 20,
   "id": "017aca26",
   "metadata": {},
   "outputs": [],
   "source": [
    "for i,p in enumerate(all_machine_labels_indices):\n",
    "    D_[i] = C_test_[p]\n",
    "    D_ids.append(C_test_ids[p])"
   ]
  },
  {
   "cell_type": "code",
   "execution_count": 24,
   "id": "7c043ce4",
   "metadata": {},
   "outputs": [],
   "source": [
    "assert(np.all(D_[0] == C_test_[all_machine_labels_indices[0]])) # quick check"
   ]
  },
  {
   "cell_type": "code",
   "execution_count": 27,
   "id": "795a684f",
   "metadata": {},
   "outputs": [],
   "source": [
    "assert(D_ids[1] == C_test_ids[all_machine_labels_indices[1]])"
   ]
  },
  {
   "cell_type": "code",
   "execution_count": null,
   "id": "f9ebf4cc",
   "metadata": {},
   "outputs": [],
   "source": []
  },
  {
   "cell_type": "code",
   "execution_count": null,
   "id": "50c68106",
   "metadata": {},
   "outputs": [],
   "source": []
  },
  {
   "cell_type": "code",
   "execution_count": 28,
   "id": "685c0634",
   "metadata": {},
   "outputs": [],
   "source": [
    "D = data.Collection.from_list(D_, D_ids)"
   ]
  },
  {
   "cell_type": "code",
   "execution_count": 29,
   "id": "26054fcc",
   "metadata": {},
   "outputs": [],
   "source": [
    "M.register(D, 'D')"
   ]
  },
  {
   "cell_type": "code",
   "execution_count": 30,
   "id": "f17de927",
   "metadata": {},
   "outputs": [
    {
     "data": {
      "text/plain": [
       "'0da25b29-2f24-41e7-a3c3-15f3e8c4f867'"
      ]
     },
     "execution_count": 30,
     "metadata": {},
     "output_type": "execute_result"
    }
   ],
   "source": [
    "list(D.data.keys())[0]"
   ]
  },
  {
   "cell_type": "code",
   "execution_count": 31,
   "id": "93ce3284",
   "metadata": {},
   "outputs": [
    {
     "data": {
      "text/plain": [
       "'0da25b29-2f24-41e7-a3c3-15f3e8c4f867'"
      ]
     },
     "execution_count": 31,
     "metadata": {},
     "output_type": "execute_result"
    }
   ],
   "source": [
    "list(C_test.data.keys())[0]"
   ]
  },
  {
   "cell_type": "code",
   "execution_count": null,
   "id": "6088a531",
   "metadata": {},
   "outputs": [],
   "source": []
  },
  {
   "cell_type": "code",
   "execution_count": null,
   "id": "de8e13a2",
   "metadata": {},
   "outputs": [],
   "source": []
  },
  {
   "cell_type": "code",
   "execution_count": 32,
   "id": "c75cc09a",
   "metadata": {},
   "outputs": [
    {
     "data": {
      "text/plain": [
       "{'9b40feb6-d801-455d-9844-ce7699e8f4fd': 'A_train',\n",
       " 'b2a16a66-060e-408a-8e17-506238300389': 'A_val',\n",
       " '176fcc4c-f45b-487e-a7ac-62010272d206': 'A_test',\n",
       " 'b13780c8-e9b9-47bb-84ad-d91ce9155211': 'A_test_pred',\n",
       " '2834b7d4-9f72-4584-aedd-f866777290e3': 'B',\n",
       " 'ba96acbc-9f10-445a-811c-75e845663aed': 'C',\n",
       " '27357f64-73f1-4a93-b42d-e517dfb46559': 'C_train',\n",
       " '0b3bd5dc-c6d2-4cf0-b54f-678610c35e3a': 'C_val',\n",
       " '8fb0b6b9-026e-46e2-adab-89a24a713ffc': 'C_test',\n",
       " 'b498e450-ab67-4a0c-97e9-a6ebfa15faf1': 'C_test_pred',\n",
       " 'cd437715-6073-4b5f-9739-63f26db592df': 'D'}"
      ]
     },
     "execution_count": 32,
     "metadata": {},
     "output_type": "execute_result"
    }
   ],
   "source": [
    "M.names"
   ]
  },
  {
   "cell_type": "code",
   "execution_count": 33,
   "id": "a5436c00",
   "metadata": {},
   "outputs": [],
   "source": [
    "machine_label_example = list(D.data.keys())[0]"
   ]
  },
  {
   "cell_type": "code",
   "execution_count": 34,
   "id": "2e7b5141",
   "metadata": {},
   "outputs": [
    {
     "data": {
      "text/plain": [
       "'0da25b29-2f24-41e7-a3c3-15f3e8c4f867'"
      ]
     },
     "execution_count": 34,
     "metadata": {},
     "output_type": "execute_result"
    }
   ],
   "source": [
    "machine_label_example"
   ]
  },
  {
   "cell_type": "code",
   "execution_count": 36,
   "id": "e2412dc2",
   "metadata": {},
   "outputs": [
    {
     "data": {
      "text/plain": [
       "{'A_test': <data.collection.Collection at 0x7f0509ceedc0>,\n",
       " 'A_test_pred': <data.collection.Collection at 0x7f0509ceed60>,\n",
       " 'C': <data.collection.Collection at 0x7f0509ceeb20>,\n",
       " 'C_test': <data.collection.Collection at 0x7f05072cfe80>,\n",
       " 'C_test_pred': <data.collection.Collection at 0x7f0507293220>,\n",
       " 'D': <data.collection.Collection at 0x7f0505e7a1f0>}"
      ]
     },
     "execution_count": 36,
     "metadata": {},
     "output_type": "execute_result"
    }
   ],
   "source": [
    "M.find(machine_label_example, show_names=True)"
   ]
  },
  {
   "cell_type": "code",
   "execution_count": 37,
   "id": "55c0b522",
   "metadata": {},
   "outputs": [
    {
     "data": {
      "text/plain": [
       "[<data.collection.Collection at 0x7f0509ceedc0>,\n",
       " <data.collection.Collection at 0x7f0509ceed60>,\n",
       " <data.collection.Collection at 0x7f0509ceeb20>,\n",
       " <data.collection.Collection at 0x7f05072cfe80>,\n",
       " <data.collection.Collection at 0x7f0507293220>,\n",
       " <data.collection.Collection at 0x7f0505e7a1f0>]"
      ]
     },
     "execution_count": 37,
     "metadata": {},
     "output_type": "execute_result"
    }
   ],
   "source": [
    "M.find('0da25b29-2f24-41e7-a3c3-15f3e8c4f867')"
   ]
  },
  {
   "cell_type": "code",
   "execution_count": null,
   "id": "ea9aa61e",
   "metadata": {},
   "outputs": [],
   "source": []
  },
  {
   "cell_type": "code",
   "execution_count": 38,
   "id": "3a58a7ee",
   "metadata": {},
   "outputs": [],
   "source": [
    "M.save(os.path.join(workingdir, 'M_step6.pickle'))"
   ]
  },
  {
   "cell_type": "code",
   "execution_count": null,
   "id": "8f3231f3",
   "metadata": {},
   "outputs": [],
   "source": []
  }
 ],
 "metadata": {
  "kernelspec": {
   "display_name": "Python 3 (ipykernel)",
   "language": "python",
   "name": "python3"
  },
  "language_info": {
   "codemirror_mode": {
    "name": "ipython",
    "version": 3
   },
   "file_extension": ".py",
   "mimetype": "text/x-python",
   "name": "python",
   "nbconvert_exporter": "python",
   "pygments_lexer": "ipython3",
   "version": "3.9.7"
  }
 },
 "nbformat": 4,
 "nbformat_minor": 5
}
