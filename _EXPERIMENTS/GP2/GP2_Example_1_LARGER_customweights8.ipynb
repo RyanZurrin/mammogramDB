{
 "cells": [
  {
   "cell_type": "code",
   "execution_count": 1,
   "id": "06c4accc",
   "metadata": {},
   "outputs": [
    {
     "name": "stdout",
     "output_type": "stream",
     "text": [
      "Populating the interactive namespace from numpy and matplotlib\n"
     ]
    }
   ],
   "source": [
    "%pylab inline\n",
    "%load_ext autoreload\n",
    "%autoreload 2"
   ]
  },
  {
   "cell_type": "code",
   "execution_count": 2,
   "id": "3b313506",
   "metadata": {},
   "outputs": [],
   "source": [
    "import time"
   ]
  },
  {
   "cell_type": "code",
   "execution_count": 3,
   "id": "b9e78ed8",
   "metadata": {},
   "outputs": [],
   "source": [
    "from runner import Runner"
   ]
  },
  {
   "cell_type": "code",
   "execution_count": 4,
   "id": "bdc75325",
   "metadata": {},
   "outputs": [
    {
     "name": "stdout",
     "output_type": "stream",
     "text": [
      "*** GP2 ***\n",
      "Working directory: /tmp/tmpwrbo3k_7GP2\n"
     ]
    }
   ],
   "source": [
    "R = Runner(verbose=False)"
   ]
  },
  {
   "cell_type": "code",
   "execution_count": 5,
   "id": "87b0c65d",
   "metadata": {},
   "outputs": [],
   "source": [
    "# load our larger toy dataset (10k images and masks)\n",
    "images = np.load('/raid/mpsych/GP2TOYEXAMPLE_LARGE/images.npy')\n",
    "masks = np.load('/raid/mpsych/GP2TOYEXAMPLE_LARGE/masks.npy')"
   ]
  },
  {
   "cell_type": "code",
   "execution_count": 6,
   "id": "1dd71668",
   "metadata": {},
   "outputs": [],
   "source": [
    "# same as customweights 8\n",
    "weights = {\n",
    "    'A': 0.5,\n",
    "    'A_train': 0.1,\n",
    "    'A_val': 0.3,\n",
    "    'A_test': 0.6,\n",
    "    'B': 0.3,\n",
    "    'B_train': 0.7,\n",
    "    'B_val': 0.1,\n",
    "    'B_test': 0.2,\n",
    "    'Z': 0.2\n",
    "}\n",
    "PERCENT_TO_REPLACE = 30"
   ]
  },
  {
   "cell_type": "code",
   "execution_count": 7,
   "id": "2a5d1030",
   "metadata": {},
   "outputs": [
    {
     "name": "stdout",
     "output_type": "stream",
     "text": [
      "Weights OK!\n"
     ]
    }
   ],
   "source": [
    "#\n",
    "#\n",
    "R.setup_data(images, masks, dataset_size=10000, weights=weights)"
   ]
  },
  {
   "cell_type": "code",
   "execution_count": 8,
   "id": "99127251",
   "metadata": {},
   "outputs": [],
   "source": [
    "RUNS = 10"
   ]
  },
  {
   "cell_type": "code",
   "execution_count": 9,
   "id": "d8ff85c4",
   "metadata": {
    "scrolled": false
   },
   "outputs": [
    {
     "name": "stdout",
     "output_type": "stream",
     "text": [
      "***\n",
      "RUN: 0\n",
      "Model saved to /tmp/tmpwrbo3k_7GP2/unet_0.model\n",
      "History saved to /tmp/tmpwrbo3k_7GP2/history_0.pickle\n",
      "Testing the classifier...\n",
      "94/94 [==============================] - 10s 104ms/step - loss: 0.7310 - dice_coeff: 0.4890\n",
      "Model saved to /tmp/tmpwrbo3k_7GP2/cnnd_0.model\n",
      "History saved to /tmp/tmpwrbo3k_7GP2/cnnd_history_0.pickle\n",
      "Testing the discriminator...\n",
      "19/19 [==============================] - 0s 22ms/step - loss: 0.0436 - accuracy: 0.9967\n",
      "Found 305 machine labels.\n",
      "Replacing 101 from 305 !\n",
      "Removed: 88 Filled: 88\n",
      "TOOK 2269.7976348400116 seconds\n",
      "***\n",
      "RUN: 1\n",
      "Model saved to /tmp/tmpwrbo3k_7GP2/unet_1.model\n",
      "History saved to /tmp/tmpwrbo3k_7GP2/history_1.pickle\n",
      "Testing the classifier...\n",
      "94/94 [==============================] - 10s 103ms/step - loss: 0.5171 - dice_coeff: 0.6142\n",
      "Testing the discriminator...\n",
      "19/19 [==============================] - 0s 22ms/step - loss: 0.0877 - accuracy: 0.9867\n",
      "Found 289 machine labels.\n",
      "Replacing 96 from 289 !\n",
      "Removed: 83 Filled: 83\n",
      "TOOK 1783.9756317138672 seconds\n",
      "***\n",
      "RUN: 2\n",
      "Model saved to /tmp/tmpwrbo3k_7GP2/unet_2.model\n",
      "History saved to /tmp/tmpwrbo3k_7GP2/history_2.pickle\n",
      "Testing the classifier...\n",
      "94/94 [==============================] - 10s 103ms/step - loss: 0.3102 - dice_coeff: 0.7614\n",
      "Testing the discriminator...\n",
      "19/19 [==============================] - 0s 22ms/step - loss: 0.6804 - accuracy: 0.8983\n",
      "Found 216 machine labels.\n",
      "Replacing 72 from 216 !\n",
      "Removed: 64 Filled: 64\n",
      "TOOK 2110.405281305313 seconds\n",
      "***\n",
      "RUN: 3\n",
      "Model saved to /tmp/tmpwrbo3k_7GP2/unet_3.model\n",
      "History saved to /tmp/tmpwrbo3k_7GP2/history_3.pickle\n",
      "Testing the classifier...\n",
      "94/94 [==============================] - 10s 103ms/step - loss: 0.1662 - dice_coeff: 0.8777\n",
      "Testing the discriminator...\n",
      "19/19 [==============================] - 0s 22ms/step - loss: 1.4095 - accuracy: 0.8750\n",
      "Found 215 machine labels.\n",
      "Replacing 71 from 215 !\n",
      "Removed: 61 Filled: 61\n",
      "TOOK 2110.828548669815 seconds\n",
      "***\n",
      "RUN: 4\n",
      "Model saved to /tmp/tmpwrbo3k_7GP2/unet_4.model\n",
      "History saved to /tmp/tmpwrbo3k_7GP2/history_4.pickle\n",
      "Testing the classifier...\n",
      "94/94 [==============================] - 10s 103ms/step - loss: 0.0977 - dice_coeff: 0.9385\n",
      "Testing the discriminator...\n",
      "19/19 [==============================] - 0s 22ms/step - loss: 1.8270 - accuracy: 0.8550\n",
      "Found 216 machine labels.\n",
      "Replacing 72 from 216 !\n",
      "Removed: 58 Filled: 58\n",
      "TOOK 2049.66286277771 seconds\n",
      "***\n",
      "RUN: 5\n",
      "Model saved to /tmp/tmpwrbo3k_7GP2/unet_5.model\n",
      "History saved to /tmp/tmpwrbo3k_7GP2/history_5.pickle\n",
      "Testing the classifier...\n",
      "94/94 [==============================] - 10s 104ms/step - loss: 0.0795 - dice_coeff: 0.9601\n",
      "Testing the discriminator...\n",
      "19/19 [==============================] - 0s 22ms/step - loss: 2.3455 - accuracy: 0.8317\n",
      "Found 187 machine labels.\n",
      "Replacing 62 from 187 !\n",
      "Removed: 54 Filled: 54\n",
      "TOOK 1810.451996088028 seconds\n",
      "***\n",
      "RUN: 6\n",
      "Model saved to /tmp/tmpwrbo3k_7GP2/unet_6.model\n",
      "History saved to /tmp/tmpwrbo3k_7GP2/history_6.pickle\n",
      "Testing the classifier...\n",
      "94/94 [==============================] - 10s 104ms/step - loss: 0.0789 - dice_coeff: 0.9623\n",
      "Testing the discriminator...\n",
      "19/19 [==============================] - 0s 22ms/step - loss: 2.1975 - accuracy: 0.8417\n",
      "Found 204 machine labels.\n",
      "Replacing 68 from 204 !\n",
      "Removed: 61 Filled: 61\n",
      "TOOK 487.4751977920532 seconds\n",
      "***\n",
      "RUN: 7\n",
      "Model saved to /tmp/tmpwrbo3k_7GP2/unet_7.model\n",
      "History saved to /tmp/tmpwrbo3k_7GP2/history_7.pickle\n",
      "Testing the classifier...\n",
      "94/94 [==============================] - 10s 104ms/step - loss: 0.0733 - dice_coeff: 0.9649\n",
      "Testing the discriminator...\n",
      "19/19 [==============================] - 0s 22ms/step - loss: 1.9874 - accuracy: 0.8333\n",
      "Found 184 machine labels.\n",
      "Replacing 61 from 184 !\n",
      "Removed: 53 Filled: 53\n",
      "TOOK 247.77191138267517 seconds\n",
      "***\n",
      "RUN: 8\n",
      "Model saved to /tmp/tmpwrbo3k_7GP2/unet_8.model\n",
      "History saved to /tmp/tmpwrbo3k_7GP2/history_8.pickle\n",
      "Testing the classifier...\n",
      "94/94 [==============================] - 10s 104ms/step - loss: 0.0765 - dice_coeff: 0.9646\n",
      "Testing the discriminator...\n",
      "19/19 [==============================] - 0s 24ms/step - loss: 2.7887 - accuracy: 0.7883\n",
      "Found 177 machine labels.\n",
      "Replacing 59 from 177 !\n",
      "Removed: 50 Filled: 50\n",
      "TOOK 487.38265776634216 seconds\n",
      "***\n",
      "RUN: 9\n",
      "Model saved to /tmp/tmpwrbo3k_7GP2/unet_9.model\n",
      "History saved to /tmp/tmpwrbo3k_7GP2/history_9.pickle\n",
      "Testing the classifier...\n",
      "94/94 [==============================] - 10s 104ms/step - loss: 0.0761 - dice_coeff: 0.9653\n",
      "Testing the discriminator...\n",
      "19/19 [==============================] - 0s 22ms/step - loss: 2.5026 - accuracy: 0.8083\n",
      "Found 194 machine labels.\n",
      "Replacing 64 from 194 !\n",
      "Removed: 50 Filled: 50\n",
      "TOOK 247.697105884552 seconds\n"
     ]
    }
   ],
   "source": [
    "for run in range(RUNS):\n",
    "    print('***')\n",
    "    print('RUN:', run)\n",
    "    t0 = time.time()\n",
    "    R.run_classifier()\n",
    "    R.run_discriminator()\n",
    "    l = R.find_machine_labels()\n",
    "    if l == 0:\n",
    "        print('No more machine labels.')\n",
    "        print('TOOK', time.time()-t0, 'seconds')\n",
    "        break\n",
    "    R.relabel(percent_to_replace=PERCENT_TO_REPLACE)\n",
    "    print('TOOK', time.time()-t0, 'seconds')\n",
    "    "
   ]
  },
  {
   "cell_type": "code",
   "execution_count": null,
   "id": "dab6fd49",
   "metadata": {},
   "outputs": [],
   "source": []
  },
  {
   "cell_type": "code",
   "execution_count": null,
   "id": "93739320",
   "metadata": {},
   "outputs": [],
   "source": []
  },
  {
   "cell_type": "code",
   "execution_count": null,
   "id": "a76a4615",
   "metadata": {},
   "outputs": [],
   "source": []
  },
  {
   "cell_type": "code",
   "execution_count": 10,
   "id": "00075332",
   "metadata": {},
   "outputs": [
    {
     "data": {
      "text/plain": [
       "[[0.7310047149658203, 0.48899316787719727],\n",
       " [0.517146110534668, 0.6141547560691833],\n",
       " [0.31024983525276184, 0.7613860368728638],\n",
       " [0.16622239351272583, 0.8776618242263794],\n",
       " [0.09770449995994568, 0.9385371208190918],\n",
       " [0.07951083034276962, 0.9600946307182312],\n",
       " [0.07893149554729462, 0.9622582197189331],\n",
       " [0.07331585884094238, 0.9648647904396057],\n",
       " [0.07649099826812744, 0.9646122455596924],\n",
       " [0.07612162083387375, 0.9653297662734985]]"
      ]
     },
     "execution_count": 10,
     "metadata": {},
     "output_type": "execute_result"
    }
   ],
   "source": [
    "R.classifier_scores"
   ]
  },
  {
   "cell_type": "code",
   "execution_count": 11,
   "id": "35105656",
   "metadata": {},
   "outputs": [
    {
     "data": {
      "text/plain": [
       "[[0.04363982379436493, 0.996666669845581],\n",
       " [0.0877300575375557, 0.9866666793823242],\n",
       " [0.6804488897323608, 0.8983333110809326],\n",
       " [1.4094970226287842, 0.875],\n",
       " [1.8269604444503784, 0.8550000190734863],\n",
       " [2.3454513549804688, 0.8316666483879089],\n",
       " [2.1975278854370117, 0.8416666388511658],\n",
       " [1.987399697303772, 0.8333333134651184],\n",
       " [2.7886767387390137, 0.7883333563804626],\n",
       " [2.5026330947875977, 0.8083333373069763]]"
      ]
     },
     "execution_count": 11,
     "metadata": {},
     "output_type": "execute_result"
    }
   ],
   "source": [
    "R.discriminator_scores"
   ]
  },
  {
   "cell_type": "code",
   "execution_count": 12,
   "id": "0a721a90",
   "metadata": {},
   "outputs": [
    {
     "data": {
      "image/png": "[encoded data removed]",
      "text/plain": [
       "<Figure size 240x240 with 1 Axes>"
      ]
     },
     "metadata": {
      "needs_background": "light"
     },
     "output_type": "display_data"
    }
   ],
   "source": [
    "R.plot()"
   ]
  },
  {
   "cell_type": "code",
   "execution_count": null,
   "id": "551de181",
   "metadata": {},
   "outputs": [],
   "source": []
  }
 ],
 "metadata": {
  "kernelspec": {
   "display_name": "Python 3 (ipykernel)",
   "language": "python",
   "name": "python3"
  },
  "language_info": {
   "codemirror_mode": {
    "name": "ipython",
    "version": 3
   },
   "file_extension": ".py",
   "mimetype": "text/x-python",
   "name": "python",
   "nbconvert_exporter": "python",
   "pygments_lexer": "ipython3",
   "version": "3.9.7"
  }
 },
 "nbformat": 4,
 "nbformat_minor": 5
}
