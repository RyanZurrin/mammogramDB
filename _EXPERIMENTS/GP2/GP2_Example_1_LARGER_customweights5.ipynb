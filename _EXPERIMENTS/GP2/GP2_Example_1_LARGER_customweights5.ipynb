{
 "cells": [
  {
   "cell_type": "code",
   "execution_count": 1,
   "id": "06c4accc",
   "metadata": {},
   "outputs": [
    {
     "name": "stdout",
     "output_type": "stream",
     "text": [
      "Populating the interactive namespace from numpy and matplotlib\n"
     ]
    }
   ],
   "source": [
    "%pylab inline\n",
    "%load_ext autoreload\n",
    "%autoreload 2"
   ]
  },
  {
   "cell_type": "code",
   "execution_count": 2,
   "id": "3b313506",
   "metadata": {},
   "outputs": [],
   "source": [
    "import time"
   ]
  },
  {
   "cell_type": "code",
   "execution_count": 3,
   "id": "b9e78ed8",
   "metadata": {},
   "outputs": [],
   "source": [
    "from runner import Runner"
   ]
  },
  {
   "cell_type": "code",
   "execution_count": 4,
   "id": "bdc75325",
   "metadata": {},
   "outputs": [
    {
     "name": "stdout",
     "output_type": "stream",
     "text": [
      "*** GP2 ***\n",
      "Working directory: /tmp/tmpi3o8w8p4GP2\n"
     ]
    }
   ],
   "source": [
    "R = Runner(verbose=False)"
   ]
  },
  {
   "cell_type": "code",
   "execution_count": 5,
   "id": "87b0c65d",
   "metadata": {},
   "outputs": [],
   "source": [
    "# load our larger toy dataset (10k images and masks)\n",
    "images = np.load('/raid/mpsych/GP2TOYEXAMPLE_LARGE/images.npy')\n",
    "masks = np.load('/raid/mpsych/GP2TOYEXAMPLE_LARGE/masks.npy')"
   ]
  },
  {
   "cell_type": "code",
   "execution_count": 6,
   "id": "1dd71668",
   "metadata": {},
   "outputs": [],
   "source": [
    "weights = {\n",
    "    'A': 0.5,\n",
    "    'A_train': 0.01,\n",
    "    'A_val': 0.39,\n",
    "    'A_test': 0.6,\n",
    "    'B': 0.3,\n",
    "    'B_train': 0.7,\n",
    "    'B_val': 0.1,\n",
    "    'B_test': 0.2,\n",
    "    'Z': 0.2\n",
    "}\n",
    "PERCENT_TO_REPLACE = 50"
   ]
  },
  {
   "cell_type": "code",
   "execution_count": 7,
   "id": "2a5d1030",
   "metadata": {},
   "outputs": [
    {
     "name": "stdout",
     "output_type": "stream",
     "text": [
      "Weights OK!\n"
     ]
    }
   ],
   "source": [
    "#\n",
    "#\n",
    "R.setup_data(images, masks, dataset_size=10000, weights=weights)"
   ]
  },
  {
   "cell_type": "code",
   "execution_count": 8,
   "id": "99127251",
   "metadata": {},
   "outputs": [],
   "source": [
    "RUNS = 5"
   ]
  },
  {
   "cell_type": "code",
   "execution_count": 9,
   "id": "d8ff85c4",
   "metadata": {
    "scrolled": false
   },
   "outputs": [
    {
     "name": "stdout",
     "output_type": "stream",
     "text": [
      "***\n",
      "RUN: 0\n",
      "Model saved to /tmp/tmpi3o8w8p4GP2/unet_0.model\n",
      "History saved to /tmp/tmpi3o8w8p4GP2/history_0.pickle\n",
      "Testing the classifier...\n",
      "94/94 [==============================] - 9s 98ms/step - loss: 1.4677 - dice_coeff: 0.2227\n",
      "Model saved to /tmp/tmpi3o8w8p4GP2/cnnd_0.model\n",
      "History saved to /tmp/tmpi3o8w8p4GP2/cnnd_history_0.pickle\n",
      "Testing the discriminator...\n",
      "19/19 [==============================] - 0s 24ms/step - loss: 0.0000e+00 - accuracy: 1.0000\n",
      "Found 301 machine labels.\n",
      "Replacing 150 from 301 !\n",
      "Removed: 116 Filled: 116\n",
      "TOOK 766.2930052280426 seconds\n",
      "***\n",
      "RUN: 1\n",
      "Model saved to /tmp/tmpi3o8w8p4GP2/unet_1.model\n",
      "History saved to /tmp/tmpi3o8w8p4GP2/history_1.pickle\n",
      "Testing the classifier...\n",
      "94/94 [==============================] - 10s 107ms/step - loss: 1.0028 - dice_coeff: 0.3607\n",
      "Testing the discriminator...\n",
      "19/19 [==============================] - 0s 22ms/step - loss: 46.0998 - accuracy: 0.7533\n",
      "Found 150 machine labels.\n",
      "Replacing 75 from 150 !\n",
      "Removed: 63 Filled: 63\n",
      "TOOK 665.2898645401001 seconds\n",
      "***\n",
      "RUN: 2\n",
      "Model saved to /tmp/tmpi3o8w8p4GP2/unet_2.model\n",
      "History saved to /tmp/tmpi3o8w8p4GP2/history_2.pickle\n",
      "Testing the classifier...\n",
      "94/94 [==============================] - 10s 103ms/step - loss: 0.7212 - dice_coeff: 0.4895\n",
      "Testing the discriminator...\n",
      "19/19 [==============================] - 0s 24ms/step - loss: 122.1392 - accuracy: 0.5650\n",
      "Found 39 machine labels.\n",
      "Replacing 19 from 39 !\n",
      "Removed: 16 Filled: 16\n",
      "TOOK 544.883793592453 seconds\n",
      "***\n",
      "RUN: 3\n",
      "Model saved to /tmp/tmpi3o8w8p4GP2/unet_3.model\n",
      "History saved to /tmp/tmpi3o8w8p4GP2/history_3.pickle\n",
      "Testing the classifier...\n",
      "94/94 [==============================] - 10s 103ms/step - loss: 0.7094 - dice_coeff: 0.4978\n",
      "Testing the discriminator...\n",
      "19/19 [==============================] - 0s 22ms/step - loss: 127.2424 - accuracy: 0.5633\n",
      "Found 21 machine labels.\n",
      "Replacing 10 from 21 !\n",
      "Removed: 6 Filled: 6\n",
      "TOOK 184.36050939559937 seconds\n",
      "***\n",
      "RUN: 4\n",
      "Model saved to /tmp/tmpi3o8w8p4GP2/unet_4.model\n",
      "History saved to /tmp/tmpi3o8w8p4GP2/history_4.pickle\n",
      "Testing the classifier...\n",
      "94/94 [==============================] - 10s 105ms/step - loss: 0.6556 - dice_coeff: 0.5276\n",
      "Testing the discriminator...\n",
      "19/19 [==============================] - 0s 25ms/step - loss: 161.5722 - accuracy: 0.5267\n",
      "Found 0 machine labels.\n",
      "No more machine labels.\n",
      "TOOK 545.0780265331268 seconds\n"
     ]
    }
   ],
   "source": [
    "for run in range(RUNS):\n",
    "    print('***')\n",
    "    print('RUN:', run)\n",
    "    t0 = time.time()\n",
    "    R.run_classifier()\n",
    "    R.run_discriminator()\n",
    "    l = R.find_machine_labels()\n",
    "    if l == 0:\n",
    "        print('No more machine labels.')\n",
    "        print('TOOK', time.time()-t0, 'seconds')\n",
    "        break\n",
    "    R.relabel(percent_to_replace=PERCENT_TO_REPLACE)\n",
    "    print('TOOK', time.time()-t0, 'seconds')\n",
    "    "
   ]
  },
  {
   "cell_type": "code",
   "execution_count": null,
   "id": "dab6fd49",
   "metadata": {},
   "outputs": [],
   "source": []
  },
  {
   "cell_type": "code",
   "execution_count": null,
   "id": "93739320",
   "metadata": {},
   "outputs": [],
   "source": []
  },
  {
   "cell_type": "code",
   "execution_count": null,
   "id": "a76a4615",
   "metadata": {},
   "outputs": [],
   "source": []
  },
  {
   "cell_type": "code",
   "execution_count": 10,
   "id": "00075332",
   "metadata": {},
   "outputs": [
    {
     "data": {
      "text/plain": [
       "[[1.4676897525787354, 0.22269688546657562],\n",
       " [1.0028144121170044, 0.3606952428817749],\n",
       " [0.7211958765983582, 0.4894600808620453],\n",
       " [0.7094272375106812, 0.497834712266922],\n",
       " [0.655565083026886, 0.5275560617446899]]"
      ]
     },
     "execution_count": 10,
     "metadata": {},
     "output_type": "execute_result"
    }
   ],
   "source": [
    "R.classifier_scores"
   ]
  },
  {
   "cell_type": "code",
   "execution_count": 11,
   "id": "35105656",
   "metadata": {},
   "outputs": [
    {
     "data": {
      "text/plain": [
       "[[0.0, 1.0],\n",
       " [46.099830627441406, 0.753333330154419],\n",
       " [122.13922882080078, 0.5649999976158142],\n",
       " [127.24237060546875, 0.5633333325386047],\n",
       " [161.5722198486328, 0.5266666412353516]]"
      ]
     },
     "execution_count": 11,
     "metadata": {},
     "output_type": "execute_result"
    }
   ],
   "source": [
    "R.discriminator_scores"
   ]
  },
  {
   "cell_type": "code",
   "execution_count": 12,
   "id": "0a721a90",
   "metadata": {},
   "outputs": [
    {
     "data": {
      "image/png": "[encoded data removed]",
      "text/plain": [
       "<Figure size 240x240 with 1 Axes>"
      ]
     },
     "metadata": {
      "needs_background": "light"
     },
     "output_type": "display_data"
    }
   ],
   "source": [
    "R.plot()"
   ]
  },
  {
   "cell_type": "code",
   "execution_count": null,
   "id": "551de181",
   "metadata": {},
   "outputs": [],
   "source": []
  }
 ],
 "metadata": {
  "kernelspec": {
   "display_name": "Python 3 (ipykernel)",
   "language": "python",
   "name": "python3"
  },
  "language_info": {
   "codemirror_mode": {
    "name": "ipython",
    "version": 3
   },
   "file_extension": ".py",
   "mimetype": "text/x-python",
   "name": "python",
   "nbconvert_exporter": "python",
   "pygments_lexer": "ipython3",
   "version": "3.9.7"
  }
 },
 "nbformat": 4,
 "nbformat_minor": 5
}
