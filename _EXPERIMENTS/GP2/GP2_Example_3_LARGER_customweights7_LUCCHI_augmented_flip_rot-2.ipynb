{
 "cells": [
  {
   "cell_type": "code",
   "execution_count": 1,
   "id": "d3c8f4ff",
   "metadata": {},
   "outputs": [
    {
     "name": "stdout",
     "output_type": "stream",
     "text": [
      "Populating the interactive namespace from numpy and matplotlib\n"
     ]
    }
   ],
   "source": [
    "%pylab inline\n",
    "%load_ext autoreload\n",
    "%autoreload 2"
   ]
  },
  {
   "cell_type": "code",
   "execution_count": 2,
   "id": "b88ec846",
   "metadata": {},
   "outputs": [],
   "source": [
    "import time"
   ]
  },
  {
   "cell_type": "code",
   "execution_count": 3,
   "id": "c794e64f",
   "metadata": {},
   "outputs": [],
   "source": [
    "from runner import Runner"
   ]
  },
  {
   "cell_type": "code",
   "execution_count": 4,
   "id": "be12e92f",
   "metadata": {},
   "outputs": [
    {
     "name": "stdout",
     "output_type": "stream",
     "text": [
      "*** GP2 ***\n",
      "Working directory: /tmp/tmpibwfmu4uGP2\n"
     ]
    }
   ],
   "source": [
    "R = Runner(verbose=False)"
   ]
  },
  {
   "cell_type": "code",
   "execution_count": 5,
   "id": "e9a2c60f",
   "metadata": {},
   "outputs": [],
   "source": [
    "# load our lucchi augmented dataset with flipped and rotated images (2640 images and masks)\n",
    "images = np.load('/raid/mpsych/augmented_images_flip_rotate.npy')\n",
    "masks = np.load('/raid/mpsych/augmented_masks_flip_rotate.npy')"
   ]
  },
  {
   "cell_type": "code",
   "execution_count": 6,
   "id": "e6298fff",
   "metadata": {},
   "outputs": [
    {
     "name": "stdout",
     "output_type": "stream",
     "text": [
      "*** GP2 ***\n",
      "Working directory: /tmp/tmpibwfmu4uGP2\n",
      "Weights OK!\n"
     ]
    }
   ],
   "source": [
    "weights = {\n",
    "    'A': 0.5,\n",
    "    'A_train': 0.1,\n",
    "    'A_val': 0.3,\n",
    "    'A_test': 0.6,\n",
    "    'B': 0.3,\n",
    "    'B_train': 0.7,\n",
    "    'B_val': 0.1,\n",
    "    'B_test': 0.2,\n",
    "    'Z': 0.2\n",
    "}\n",
    "PERCENT_TO_REPLACE = 20\n",
    "R1 = Runner(verbose=False)\n",
    "R1.setup_data(images, masks, dataset_size=2640, weights=weights)\n",
    "RUNS = 10"
   ]
  },
  {
   "cell_type": "code",
   "execution_count": 7,
   "id": "36e7db74",
   "metadata": {},
   "outputs": [
    {
     "name": "stdout",
     "output_type": "stream",
     "text": [
      "***\n",
      "RUN: 0\n",
      "Model saved to /tmp/tmpibwfmu4uGP2/unet_0.model\n",
      "History saved to /tmp/tmpibwfmu4uGP2/history_0.pickle\n",
      "Testing the classifier...\n",
      "25/25 [==============================] - 2s 97ms/step - loss: 2.3119 - dice_coeff: 0.0983\n",
      "Model saved to /tmp/tmpibwfmu4uGP2/cnnd_0.model\n",
      "History saved to /tmp/tmpibwfmu4uGP2/cnnd_history_0.pickle\n",
      "Testing the discriminator...\n",
      "5/5 [==============================] - 0s 34ms/step - loss: 0.0000e+00 - accuracy: 1.0000\n",
      "Found 81 machine labels.\n",
      "Replacing 16 from 81 !\n",
      "D_relabeled_ 16\n",
      "point ids 16\n",
      "Removed: 16 Filled: 16\n",
      "TOOK 631.7706696987152 seconds\n",
      "***\n",
      "RUN: 1\n",
      "Model saved to /tmp/tmpibwfmu4uGP2/unet_1.model\n",
      "History saved to /tmp/tmpibwfmu4uGP2/history_1.pickle\n",
      "Testing the classifier...\n",
      "25/25 [==============================] - 2s 96ms/step - loss: 1.6355 - dice_coeff: 0.1111\n",
      "Testing the discriminator...\n",
      "5/5 [==============================] - 0s 23ms/step - loss: 0.0000e+00 - accuracy: 1.0000\n",
      "Found 77 machine labels.\n",
      "Replacing 15 from 77 !\n",
      "D_relabeled_ 15\n",
      "point ids 15\n",
      "Removed: 15 Filled: 15\n",
      "TOOK 333.150488615036 seconds\n",
      "***\n",
      "RUN: 2\n",
      "Model saved to /tmp/tmpibwfmu4uGP2/unet_2.model\n",
      "History saved to /tmp/tmpibwfmu4uGP2/history_2.pickle\n",
      "Testing the classifier...\n",
      "25/25 [==============================] - 2s 97ms/step - loss: 1.5500 - dice_coeff: 0.1158\n",
      "Testing the discriminator...\n",
      "5/5 [==============================] - 0s 24ms/step - loss: 0.0000e+00 - accuracy: 1.0000\n",
      "Found 89 machine labels.\n",
      "Replacing 17 from 89 !\n",
      "D_relabeled_ 17\n",
      "point ids 17\n",
      "Removed: 17 Filled: 17\n",
      "TOOK 213.4398536682129 seconds\n",
      "***\n",
      "RUN: 3\n",
      "Model saved to /tmp/tmpibwfmu4uGP2/unet_3.model\n",
      "History saved to /tmp/tmpibwfmu4uGP2/history_3.pickle\n",
      "Testing the classifier...\n",
      "25/25 [==============================] - 2s 96ms/step - loss: 1.5122 - dice_coeff: 0.1178\n",
      "Testing the discriminator...\n",
      "5/5 [==============================] - 0s 23ms/step - loss: 4.8587 - accuracy: 0.9747\n",
      "Found 73 machine labels.\n",
      "Replacing 14 from 73 !\n",
      "D_relabeled_ 14\n",
      "point ids 14\n",
      "Removed: 14 Filled: 14\n",
      "TOOK 153.02737641334534 seconds\n",
      "***\n",
      "RUN: 4\n",
      "Model saved to /tmp/tmpibwfmu4uGP2/unet_4.model\n",
      "History saved to /tmp/tmpibwfmu4uGP2/history_4.pickle\n",
      "Testing the classifier...\n",
      "25/25 [==============================] - 2s 96ms/step - loss: 1.4702 - dice_coeff: 0.1202\n",
      "Testing the discriminator...\n",
      "5/5 [==============================] - 0s 28ms/step - loss: 539.4617 - accuracy: 0.4684\n",
      "Found 0 machine labels.\n",
      "No more machine labels.\n",
      "TOOK 152.95207619667053 seconds\n"
     ]
    }
   ],
   "source": [
    "for run in range(RUNS):\n",
    "    print('***')\n",
    "    print('RUN:', run)\n",
    "    t0 = time.time()\n",
    "    R1.run_classifier()\n",
    "    R1.run_discriminator()\n",
    "    l = R1.find_machine_labels()\n",
    "    if l == 0:\n",
    "        print('No more machine labels.')\n",
    "        print('TOOK', time.time()-t0, 'seconds')\n",
    "        break\n",
    "    R1.relabel(percent_to_replace=PERCENT_TO_REPLACE)\n",
    "    print('TOOK', time.time()-t0, 'seconds')\n",
    "    "
   ]
  },
  {
   "cell_type": "code",
   "execution_count": 8,
   "id": "33b62cb4",
   "metadata": {},
   "outputs": [
    {
     "data": {
      "text/plain": [
       "[[2.311944007873535, 0.09826469421386719],\n",
       " [1.6354984045028687, 0.11108389496803284],\n",
       " [1.5500478744506836, 0.11577145755290985],\n",
       " [1.5122466087341309, 0.11775319278240204],\n",
       " [1.4701883792877197, 0.12016085535287857]]"
      ]
     },
     "execution_count": 8,
     "metadata": {},
     "output_type": "execute_result"
    }
   ],
   "source": [
    "R1.classifier_scores"
   ]
  },
  {
   "cell_type": "code",
   "execution_count": 9,
   "id": "29f14414",
   "metadata": {},
   "outputs": [
    {
     "data": {
      "text/plain": [
       "[[0.0, 1.0],\n",
       " [0.0, 1.0],\n",
       " [0.0, 1.0],\n",
       " [4.858669757843018, 0.9746835231781006],\n",
       " [539.4617309570312, 0.4683544337749481]]"
      ]
     },
     "execution_count": 9,
     "metadata": {},
     "output_type": "execute_result"
    }
   ],
   "source": [
    "R1.discriminator_scores"
   ]
  },
  {
   "cell_type": "code",
   "execution_count": 10,
   "id": "ea545bf4",
   "metadata": {},
   "outputs": [
    {
     "data": {
      "image/png": "[encoded data removed]",
      "text/plain": [
       "<Figure size 240x240 with 1 Axes>"
      ]
     },
     "metadata": {
      "needs_background": "light"
     },
     "output_type": "display_data"
    }
   ],
   "source": [
    "R1.plot()"
   ]
  },
  {
   "cell_type": "code",
   "execution_count": null,
   "id": "8fef4ed7",
   "metadata": {},
   "outputs": [],
   "source": []
  }
 ],
 "metadata": {
  "kernelspec": {
   "display_name": "Python 3 (ipykernel)",
   "language": "python",
   "name": "python3"
  },
  "language_info": {
   "codemirror_mode": {
    "name": "ipython",
    "version": 3
   },
   "file_extension": ".py",
   "mimetype": "text/x-python",
   "name": "python",
   "nbconvert_exporter": "python",
   "pygments_lexer": "ipython3",
   "version": "3.9.7"
  }
 },
 "nbformat": 4,
 "nbformat_minor": 5
}
