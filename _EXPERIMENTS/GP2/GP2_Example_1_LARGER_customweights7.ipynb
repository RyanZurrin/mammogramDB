{
 "cells": [
  {
   "cell_type": "code",
   "execution_count": 1,
   "id": "06c4accc",
   "metadata": {},
   "outputs": [
    {
     "name": "stdout",
     "output_type": "stream",
     "text": [
      "Populating the interactive namespace from numpy and matplotlib\n"
     ]
    }
   ],
   "source": [
    "%pylab inline\n",
    "%load_ext autoreload\n",
    "%autoreload 2"
   ]
  },
  {
   "cell_type": "code",
   "execution_count": 2,
   "id": "3b313506",
   "metadata": {},
   "outputs": [],
   "source": [
    "import time"
   ]
  },
  {
   "cell_type": "code",
   "execution_count": 3,
   "id": "b9e78ed8",
   "metadata": {},
   "outputs": [],
   "source": [
    "from runner import Runner"
   ]
  },
  {
   "cell_type": "code",
   "execution_count": 4,
   "id": "bdc75325",
   "metadata": {},
   "outputs": [
    {
     "name": "stdout",
     "output_type": "stream",
     "text": [
      "*** GP2 ***\n",
      "Working directory: /tmp/tmpetctegujGP2\n"
     ]
    }
   ],
   "source": [
    "R = Runner(verbose=False)"
   ]
  },
  {
   "cell_type": "code",
   "execution_count": 5,
   "id": "87b0c65d",
   "metadata": {},
   "outputs": [],
   "source": [
    "# load our larger toy dataset (10k images and masks)\n",
    "images = np.load('/raid/mpsych/GP2TOYEXAMPLE_LARGE/images.npy')\n",
    "masks = np.load('/raid/mpsych/GP2TOYEXAMPLE_LARGE/masks.npy')"
   ]
  },
  {
   "cell_type": "code",
   "execution_count": 7,
   "id": "de6e88eb",
   "metadata": {},
   "outputs": [
    {
     "data": {
      "text/plain": [
       "(10000, 512, 512, 1)"
      ]
     },
     "execution_count": 7,
     "metadata": {},
     "output_type": "execute_result"
    }
   ],
   "source": [
    "masks.shape"
   ]
  },
  {
   "cell_type": "code",
   "execution_count": 6,
   "id": "1dd71668",
   "metadata": {},
   "outputs": [],
   "source": [
    "weights = {\n",
    "    'A': 0.5,\n",
    "    'A_train': 0.1,\n",
    "    'A_val': 0.3,\n",
    "    'A_test': 0.6,\n",
    "    'B': 0.3,\n",
    "    'B_train': 0.7,\n",
    "    'B_val': 0.1,\n",
    "    'B_test': 0.2,\n",
    "    'Z': 0.2\n",
    "}\n",
    "PERCENT_TO_REPLACE = 30"
   ]
  },
  {
   "cell_type": "code",
   "execution_count": 7,
   "id": "2a5d1030",
   "metadata": {},
   "outputs": [
    {
     "name": "stdout",
     "output_type": "stream",
     "text": [
      "Weights OK!\n"
     ]
    }
   ],
   "source": [
    "#\n",
    "#\n",
    "R.setup_data(images, masks, dataset_size=10000, weights=weights)"
   ]
  },
  {
   "cell_type": "code",
   "execution_count": 8,
   "id": "99127251",
   "metadata": {},
   "outputs": [],
   "source": [
    "RUNS = 10"
   ]
  },
  {
   "cell_type": "code",
   "execution_count": 9,
   "id": "d8ff85c4",
   "metadata": {
    "scrolled": false
   },
   "outputs": [
    {
     "name": "stdout",
     "output_type": "stream",
     "text": [
      "***\n",
      "RUN: 0\n",
      "Model saved to /tmp/tmpy2ngz0y4GP2/unet_0.model\n",
      "History saved to /tmp/tmpy2ngz0y4GP2/history_0.pickle\n",
      "Testing the classifier...\n",
      "94/94 [==============================] - 10s 104ms/step - loss: 0.5642 - dice_coeff: 0.5827\n",
      "Model saved to /tmp/tmpy2ngz0y4GP2/cnnd_0.model\n",
      "History saved to /tmp/tmpy2ngz0y4GP2/cnnd_history_0.pickle\n",
      "Testing the discriminator...\n",
      "19/19 [==============================] - 0s 22ms/step - loss: 0.1486 - accuracy: 0.9933\n",
      "Found 305 machine labels.\n",
      "Replacing 101 from 305 !\n",
      "Removed: 81 Filled: 81\n",
      "TOOK 2328.4135313034058 seconds\n",
      "***\n",
      "RUN: 1\n",
      "Model saved to /tmp/tmpy2ngz0y4GP2/unet_1.model\n",
      "History saved to /tmp/tmpy2ngz0y4GP2/history_1.pickle\n",
      "Testing the classifier...\n",
      "94/94 [==============================] - 9s 98ms/step - loss: 0.2867 - dice_coeff: 0.7786\n",
      "Testing the discriminator...\n",
      "19/19 [==============================] - 0s 22ms/step - loss: 2.7800 - accuracy: 0.8633\n",
      "Found 226 machine labels.\n",
      "Replacing 75 from 226 !\n",
      "Removed: 66 Filled: 66\n",
      "TOOK 2104.652542591095 seconds\n",
      "***\n",
      "RUN: 2\n",
      "Model saved to /tmp/tmpy2ngz0y4GP2/unet_2.model\n",
      "History saved to /tmp/tmpy2ngz0y4GP2/history_2.pickle\n",
      "Testing the classifier...\n",
      "94/94 [==============================] - 9s 98ms/step - loss: 0.1232 - dice_coeff: 0.9132\n",
      "Testing the discriminator...\n",
      "19/19 [==============================] - 0s 23ms/step - loss: 4.3966 - accuracy: 0.8167\n",
      "Found 180 machine labels.\n",
      "Replacing 60 from 180 !\n",
      "Removed: 50 Filled: 50\n",
      "TOOK 2047.485135793686 seconds\n",
      "***\n",
      "RUN: 3\n",
      "Model saved to /tmp/tmpy2ngz0y4GP2/unet_3.model\n",
      "History saved to /tmp/tmpy2ngz0y4GP2/history_3.pickle\n",
      "Testing the classifier...\n",
      "94/94 [==============================] - 9s 98ms/step - loss: 0.0816 - dice_coeff: 0.9533\n",
      "Testing the discriminator...\n",
      "19/19 [==============================] - 0s 23ms/step - loss: 6.8789 - accuracy: 0.7750\n",
      "Found 147 machine labels.\n",
      "Replacing 49 from 147 !\n",
      "Removed: 42 Filled: 42\n",
      "TOOK 1684.3509838581085 seconds\n",
      "***\n",
      "RUN: 4\n",
      "Model saved to /tmp/tmpy2ngz0y4GP2/unet_4.model\n",
      "History saved to /tmp/tmpy2ngz0y4GP2/history_4.pickle\n",
      "Testing the classifier...\n",
      "94/94 [==============================] - 9s 98ms/step - loss: 0.0750 - dice_coeff: 0.9594\n",
      "Testing the discriminator...\n",
      "19/19 [==============================] - 0s 22ms/step - loss: 7.2773 - accuracy: 0.7483\n",
      "Found 152 machine labels.\n",
      "Replacing 50 from 152 !\n",
      "Removed: 40 Filled: 40\n",
      "TOOK 425.059965133667 seconds\n",
      "***\n",
      "RUN: 5\n",
      "Model saved to /tmp/tmpy2ngz0y4GP2/unet_5.model\n",
      "History saved to /tmp/tmpy2ngz0y4GP2/history_5.pickle\n",
      "Testing the classifier...\n",
      "94/94 [==============================] - 9s 98ms/step - loss: 0.0762 - dice_coeff: 0.9624\n",
      "Testing the discriminator...\n",
      "19/19 [==============================] - 0s 24ms/step - loss: 6.8161 - accuracy: 0.7683\n",
      "Found 159 machine labels.\n",
      "Replacing 53 from 159 !\n",
      "Removed: 46 Filled: 46\n",
      "TOOK 604.5539834499359 seconds\n",
      "***\n",
      "RUN: 6\n",
      "Model saved to /tmp/tmpy2ngz0y4GP2/unet_6.model\n",
      "History saved to /tmp/tmpy2ngz0y4GP2/history_6.pickle\n",
      "Testing the classifier...\n",
      "94/94 [==============================] - 9s 98ms/step - loss: 0.0751 - dice_coeff: 0.9653\n",
      "Testing the discriminator...\n",
      "19/19 [==============================] - 0s 22ms/step - loss: 8.1511 - accuracy: 0.7183\n",
      "Found 116 machine labels.\n",
      "Replacing 38 from 116 !\n",
      "Removed: 31 Filled: 31\n",
      "TOOK 604.4829869270325 seconds\n",
      "***\n",
      "RUN: 7\n",
      "Model saved to /tmp/tmpy2ngz0y4GP2/unet_7.model\n",
      "History saved to /tmp/tmpy2ngz0y4GP2/history_7.pickle\n",
      "Testing the classifier...\n",
      "94/94 [==============================] - 9s 98ms/step - loss: 0.0780 - dice_coeff: 0.9660\n",
      "Testing the discriminator...\n",
      "19/19 [==============================] - 0s 24ms/step - loss: 7.7264 - accuracy: 0.7550\n",
      "Found 151 machine labels.\n",
      "Replacing 50 from 151 !\n",
      "Removed: 44 Filled: 44\n",
      "TOOK 484.5944323539734 seconds\n",
      "***\n",
      "RUN: 8\n",
      "Model saved to /tmp/tmpy2ngz0y4GP2/unet_8.model\n",
      "History saved to /tmp/tmpy2ngz0y4GP2/history_8.pickle\n",
      "Testing the classifier...\n",
      "94/94 [==============================] - 9s 99ms/step - loss: 0.0778 - dice_coeff: 0.9657\n",
      "Testing the discriminator...\n",
      "19/19 [==============================] - 0s 22ms/step - loss: 4.7267 - accuracy: 0.7950\n",
      "Found 182 machine labels.\n",
      "Replacing 60 from 182 !\n",
      "Removed: 51 Filled: 51\n",
      "TOOK 184.89235472679138 seconds\n",
      "***\n",
      "RUN: 9\n",
      "Model saved to /tmp/tmpy2ngz0y4GP2/unet_9.model\n",
      "History saved to /tmp/tmpy2ngz0y4GP2/history_9.pickle\n",
      "Testing the classifier...\n",
      "94/94 [==============================] - 9s 98ms/step - loss: 0.0837 - dice_coeff: 0.9648\n",
      "Testing the discriminator...\n",
      "19/19 [==============================] - 0s 22ms/step - loss: 10.4557 - accuracy: 0.6867\n",
      "Found 124 machine labels.\n",
      "Replacing 41 from 124 !\n",
      "Removed: 38 Filled: 38\n",
      "TOOK 544.6572859287262 seconds\n"
     ]
    }
   ],
   "source": [
    "for run in range(RUNS):\n",
    "    print('***')\n",
    "    print('RUN:', run)\n",
    "    t0 = time.time()\n",
    "    R.run_classifier()\n",
    "    R.run_discriminator()\n",
    "    l = R.find_machine_labels()\n",
    "    if l == 0:\n",
    "        print('No more machine labels.')\n",
    "        print('TOOK', time.time()-t0, 'seconds')\n",
    "        break\n",
    "    R.relabel(percent_to_replace=PERCENT_TO_REPLACE)\n",
    "    print('TOOK', time.time()-t0, 'seconds')\n",
    "    "
   ]
  },
  {
   "cell_type": "code",
   "execution_count": null,
   "id": "dab6fd49",
   "metadata": {},
   "outputs": [],
   "source": []
  },
  {
   "cell_type": "code",
   "execution_count": null,
   "id": "93739320",
   "metadata": {},
   "outputs": [],
   "source": []
  },
  {
   "cell_type": "code",
   "execution_count": null,
   "id": "a76a4615",
   "metadata": {},
   "outputs": [],
   "source": []
  },
  {
   "cell_type": "code",
   "execution_count": 10,
   "id": "00075332",
   "metadata": {},
   "outputs": [
    {
     "data": {
      "text/plain": [
       "[[0.5642099976539612, 0.5826576948165894],\n",
       " [0.286675363779068, 0.778622567653656],\n",
       " [0.12322214990854263, 0.9131745100021362],\n",
       " [0.08164855092763901, 0.9533213376998901],\n",
       " [0.07500245422124863, 0.9594419598579407],\n",
       " [0.0762050673365593, 0.9623624086380005],\n",
       " [0.07507267594337463, 0.9652668833732605],\n",
       " [0.07804848253726959, 0.9660343527793884],\n",
       " [0.07775305956602097, 0.9656627774238586],\n",
       " [0.08373130112886429, 0.9647961854934692]]"
      ]
     },
     "execution_count": 10,
     "metadata": {},
     "output_type": "execute_result"
    }
   ],
   "source": [
    "R.classifier_scores"
   ]
  },
  {
   "cell_type": "code",
   "execution_count": 11,
   "id": "35105656",
   "metadata": {},
   "outputs": [
    {
     "data": {
      "text/plain": [
       "[[0.14858856797218323, 0.9933333396911621],\n",
       " [2.7799570560455322, 0.8633333444595337],\n",
       " [4.39655065536499, 0.8166666626930237],\n",
       " [6.878868103027344, 0.7749999761581421],\n",
       " [7.277260780334473, 0.7483333349227905],\n",
       " [6.816073417663574, 0.7683333158493042],\n",
       " [8.151098251342773, 0.7183333039283752],\n",
       " [7.726363182067871, 0.7549999952316284],\n",
       " [4.726717472076416, 0.7950000166893005],\n",
       " [10.455708503723145, 0.6866666674613953]]"
      ]
     },
     "execution_count": 11,
     "metadata": {},
     "output_type": "execute_result"
    }
   ],
   "source": [
    "R.discriminator_scores"
   ]
  },
  {
   "cell_type": "code",
   "execution_count": 12,
   "id": "0a721a90",
   "metadata": {},
   "outputs": [
    {
     "data": {
      "image/png": "[encoded data removed]",
      "text/plain": [
       "<Figure size 240x240 with 1 Axes>"
      ]
     },
     "metadata": {
      "needs_background": "light"
     },
     "output_type": "display_data"
    }
   ],
   "source": [
    "R.plot()"
   ]
  },
  {
   "cell_type": "code",
   "execution_count": null,
   "id": "551de181",
   "metadata": {},
   "outputs": [],
   "source": []
  }
 ],
 "metadata": {
  "kernelspec": {
   "display_name": "Python 3 (ipykernel)",
   "language": "python",
   "name": "python3"
  },
  "language_info": {
   "codemirror_mode": {
    "name": "ipython",
    "version": 3
   },
   "file_extension": ".py",
   "mimetype": "text/x-python",
   "name": "python",
   "nbconvert_exporter": "python",
   "pygments_lexer": "ipython3",
   "version": "3.9.7"
  }
 },
 "nbformat": 4,
 "nbformat_minor": 5
}
