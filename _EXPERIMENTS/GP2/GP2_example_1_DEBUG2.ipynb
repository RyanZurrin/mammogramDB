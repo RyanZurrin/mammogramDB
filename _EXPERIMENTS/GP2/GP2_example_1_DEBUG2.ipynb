{
 "cells": [
  {
   "cell_type": "code",
   "execution_count": 16,
   "id": "f794f1ac",
   "metadata": {},
   "outputs": [
    {
     "name": "stdout",
     "output_type": "stream",
     "text": [
      "Populating the interactive namespace from numpy and matplotlib\n"
     ]
    }
   ],
   "source": [
    "%pylab inline\n",
    "%load_ext autoreload\n",
    "%autoreload 2"
   ]
  },
  {
   "cell_type": "code",
   "execution_count": 1,
   "id": "9f671c32",
   "metadata": {},
   "outputs": [],
   "source": [
    "workingdir = '/tmp/tmpd6yta__tGP2'"
   ]
  },
  {
   "cell_type": "code",
   "execution_count": 2,
   "id": "6af28933",
   "metadata": {},
   "outputs": [],
   "source": [
    "import data, os"
   ]
  },
  {
   "cell_type": "code",
   "execution_count": 62,
   "id": "3d1b0ecc",
   "metadata": {},
   "outputs": [],
   "source": [
    "M = data.Manager.load(os.path.join(workingdir,'Run1.pickle'))"
   ]
  },
  {
   "cell_type": "code",
   "execution_count": 63,
   "id": "e0604808",
   "metadata": {},
   "outputs": [
    {
     "data": {
      "text/plain": [
       "{'A': <data.collection.Collection at 0x7f0c6de48a60>,\n",
       " 'A_train': <data.collection.Collection at 0x7f0c55f98040>,\n",
       " 'A_test_pred': <data.collection.Collection at 0x7f0c55f4c280>,\n",
       " 'C': <data.collection.Collection at 0x7f0c55f5d280>,\n",
       " 'C_test': <data.collection.Collection at 0x7f0c55f16ee0>,\n",
       " 'C_test_pred': <data.collection.Collection at 0x7f0c55ea1280>,\n",
       " 'D': <data.collection.Collection at 0x7f0c55ea35e0>,\n",
       " 'D_relabeled': <data.collection.Collection at 0x7f0c55ea39d0>}"
      ]
     },
     "execution_count": 63,
     "metadata": {},
     "output_type": "execute_result"
    }
   ],
   "source": [
    "M.find('d23c9fc7-0f78-4956-a961-f243e858625f', show_names=True)"
   ]
  },
  {
   "cell_type": "code",
   "execution_count": null,
   "id": "c02fd4a7",
   "metadata": {},
   "outputs": [],
   "source": [
    "# DP is now in A_train and not in A_test !!! GOOD!"
   ]
  },
  {
   "cell_type": "code",
   "execution_count": 64,
   "id": "efda59f6",
   "metadata": {},
   "outputs": [],
   "source": [
    "A_train = M.get('A_train')\n",
    "A_val = M.get('A_val')\n",
    "A_test = M.get('A_test')"
   ]
  },
  {
   "cell_type": "code",
   "execution_count": 65,
   "id": "7015a6e4",
   "metadata": {},
   "outputs": [],
   "source": [
    "X_test_, X_test_ids = A_test.to_array()\n",
    "X_test__ = X_test_[:,:,:,0].astype(np.float32)\n",
    "y_test_ = X_test_[:,:,:,1].astype(np.float32)"
   ]
  },
  {
   "cell_type": "code",
   "execution_count": 66,
   "id": "9bdf9b3f",
   "metadata": {},
   "outputs": [
    {
     "data": {
      "text/plain": [
       "False"
      ]
     },
     "execution_count": 66,
     "metadata": {},
     "output_type": "execute_result"
    }
   ],
   "source": [
    "'d23c9fc7-0f78-4956-a961-f243e858625f' in X_test_ids"
   ]
  },
  {
   "cell_type": "code",
   "execution_count": 67,
   "id": "af97c37c",
   "metadata": {},
   "outputs": [],
   "source": [
    "predictions = [0]*len(X_test_ids)"
   ]
  },
  {
   "cell_type": "code",
   "execution_count": 68,
   "id": "ffff0e53",
   "metadata": {},
   "outputs": [],
   "source": [
    "A_test_pred = data.Collection.from_list(predictions, X_test_ids) "
   ]
  },
  {
   "cell_type": "code",
   "execution_count": 71,
   "id": "1d65ad25",
   "metadata": {},
   "outputs": [
    {
     "data": {
      "text/plain": [
       "{'e0299402-d47a-40b0-a3f6-c7ad203c3451': 'A',\n",
       " '7dd4ff44-8823-4dd1-ad17-ddab50f7d9c9': 'B',\n",
       " '3f06726a-4bda-4a74-b229-1d42165c068e': 'Z',\n",
       " '674c1dc0-81f9-40e6-a966-554b356f766f': 'A_train',\n",
       " '5fd62f6a-6056-424f-9cba-9bcd323d5ceb': 'A_val',\n",
       " '493d9f2c-5eb8-4214-9f9c-c194c234686a': 'A_test',\n",
       " '4e1f89b0-471b-4462-b67e-5a2416f60e25': 'C',\n",
       " '594badb4-8d27-43a6-b076-332095db24d0': 'C_train',\n",
       " '69f60d9f-52a2-466a-bca8-20d7f757570c': 'C_val',\n",
       " '92d5eb3c-4217-41b2-a59c-f0267848a823': 'C_test',\n",
       " '25428817-5704-4df2-87ea-bff0d09d5684': 'C_test_pred',\n",
       " '83106585-8ba8-4e87-bbd5-3c9aaf9e722e': 'D',\n",
       " '9501cc12-c495-469e-875e-800151b35759': 'D_relabeled',\n",
       " '5f939216-85e1-4dbb-a2f9-614f928fd44c': 'A_test_pred'}"
      ]
     },
     "execution_count": 71,
     "metadata": {},
     "output_type": "execute_result"
    }
   ],
   "source": [
    "M.names"
   ]
  },
  {
   "cell_type": "code",
   "execution_count": 70,
   "id": "3ad3b774",
   "metadata": {},
   "outputs": [
    {
     "name": "stdout",
     "output_type": "stream",
     "text": [
      "Unregistered stale collection: A_test_pred\n"
     ]
    }
   ],
   "source": [
    "M.register(A_test_pred, 'A_test_pred')"
   ]
  },
  {
   "cell_type": "code",
   "execution_count": 72,
   "id": "653bcc55",
   "metadata": {},
   "outputs": [
    {
     "ename": "KeyError",
     "evalue": "'d23c9fc7-0f78-4956-a961-f243e858625f'",
     "output_type": "error",
     "traceback": [
      "\u001B[0;31m---------------------------------------------------------------------------\u001B[0m",
      "\u001B[0;31mKeyError\u001B[0m                                  Traceback (most recent call last)",
      "\u001B[0;32m/tmp/ipykernel_1444670/3227621325.py\u001B[0m in \u001B[0;36m<module>\u001B[0;34m\u001B[0m\n\u001B[0;32m----> 1\u001B[0;31m \u001B[0mA_test_pred\u001B[0m\u001B[0;34m.\u001B[0m\u001B[0mdata\u001B[0m\u001B[0;34m[\u001B[0m\u001B[0;34m'd23c9fc7-0f78-4956-a961-f243e858625f'\u001B[0m\u001B[0;34m]\u001B[0m\u001B[0;34m\u001B[0m\u001B[0;34m\u001B[0m\u001B[0m\n\u001B[0m",
      "\u001B[0;31mKeyError\u001B[0m: 'd23c9fc7-0f78-4956-a961-f243e858625f'"
     ]
    }
   ],
   "source": [
    "A_test_pred.data['d23c9fc7-0f78-4956-a961-f243e858625f']"
   ]
  },
  {
   "cell_type": "code",
   "execution_count": 73,
   "id": "6bf3fc11",
   "metadata": {},
   "outputs": [
    {
     "ename": "KeyError",
     "evalue": "'d23c9fc7-0f78-4956-a961-f243e858625f'",
     "output_type": "error",
     "traceback": [
      "\u001B[0;31m---------------------------------------------------------------------------\u001B[0m",
      "\u001B[0;31mKeyError\u001B[0m                                  Traceback (most recent call last)",
      "\u001B[0;32m/tmp/ipykernel_1444670/1553602784.py\u001B[0m in \u001B[0;36m<module>\u001B[0;34m\u001B[0m\n\u001B[0;32m----> 1\u001B[0;31m \u001B[0mM\u001B[0m\u001B[0;34m.\u001B[0m\u001B[0mget\u001B[0m\u001B[0;34m(\u001B[0m\u001B[0;34m'A_test_pred'\u001B[0m\u001B[0;34m)\u001B[0m\u001B[0;34m.\u001B[0m\u001B[0mdata\u001B[0m\u001B[0;34m[\u001B[0m\u001B[0;34m'd23c9fc7-0f78-4956-a961-f243e858625f'\u001B[0m\u001B[0;34m]\u001B[0m\u001B[0;34m.\u001B[0m\u001B[0mshape\u001B[0m\u001B[0;34m\u001B[0m\u001B[0;34m\u001B[0m\u001B[0m\n\u001B[0m",
      "\u001B[0;31mKeyError\u001B[0m: 'd23c9fc7-0f78-4956-a961-f243e858625f'"
     ]
    }
   ],
   "source": [
    "M.get('A_test_pred').data['d23c9fc7-0f78-4956-a961-f243e858625f'].shape"
   ]
  },
  {
   "cell_type": "code",
   "execution_count": 74,
   "id": "c84cacf5",
   "metadata": {},
   "outputs": [
    {
     "data": {
      "text/plain": [
       "{'e0299402-d47a-40b0-a3f6-c7ad203c3451': <data.collection.Collection at 0x7f0c6de48a60>,\n",
       " '7dd4ff44-8823-4dd1-ad17-ddab50f7d9c9': <data.collection.Collection at 0x7f0c6de48d60>,\n",
       " '3f06726a-4bda-4a74-b229-1d42165c068e': <data.collection.Collection at 0x7f0c6de48b50>,\n",
       " '674c1dc0-81f9-40e6-a966-554b356f766f': <data.collection.Collection at 0x7f0c55f98040>,\n",
       " '5fd62f6a-6056-424f-9cba-9bcd323d5ceb': <data.collection.Collection at 0x7f0c55f247c0>,\n",
       " '493d9f2c-5eb8-4214-9f9c-c194c234686a': <data.collection.Collection at 0x7f0c55f3b160>,\n",
       " '4e1f89b0-471b-4462-b67e-5a2416f60e25': <data.collection.Collection at 0x7f0c55f5d280>,\n",
       " '594badb4-8d27-43a6-b076-332095db24d0': <data.collection.Collection at 0x7f0c55eff220>,\n",
       " '69f60d9f-52a2-466a-bca8-20d7f757570c': <data.collection.Collection at 0x7f0c55f10b80>,\n",
       " '92d5eb3c-4217-41b2-a59c-f0267848a823': <data.collection.Collection at 0x7f0c55f16ee0>,\n",
       " '25428817-5704-4df2-87ea-bff0d09d5684': <data.collection.Collection at 0x7f0c55ea1280>,\n",
       " '83106585-8ba8-4e87-bbd5-3c9aaf9e722e': <data.collection.Collection at 0x7f0c55ea35e0>,\n",
       " '9501cc12-c495-469e-875e-800151b35759': <data.collection.Collection at 0x7f0c55ea39d0>,\n",
       " '5f939216-85e1-4dbb-a2f9-614f928fd44c': <data.collection.Collection at 0x7f0c6d967af0>}"
      ]
     },
     "execution_count": 74,
     "metadata": {},
     "output_type": "execute_result"
    }
   ],
   "source": [
    "M.collections"
   ]
  },
  {
   "cell_type": "code",
   "execution_count": 75,
   "id": "eb966d94",
   "metadata": {},
   "outputs": [
    {
     "data": {
      "text/plain": [
       "{'e0299402-d47a-40b0-a3f6-c7ad203c3451': 'A',\n",
       " '7dd4ff44-8823-4dd1-ad17-ddab50f7d9c9': 'B',\n",
       " '3f06726a-4bda-4a74-b229-1d42165c068e': 'Z',\n",
       " '674c1dc0-81f9-40e6-a966-554b356f766f': 'A_train',\n",
       " '5fd62f6a-6056-424f-9cba-9bcd323d5ceb': 'A_val',\n",
       " '493d9f2c-5eb8-4214-9f9c-c194c234686a': 'A_test',\n",
       " '4e1f89b0-471b-4462-b67e-5a2416f60e25': 'C',\n",
       " '594badb4-8d27-43a6-b076-332095db24d0': 'C_train',\n",
       " '69f60d9f-52a2-466a-bca8-20d7f757570c': 'C_val',\n",
       " '92d5eb3c-4217-41b2-a59c-f0267848a823': 'C_test',\n",
       " '25428817-5704-4df2-87ea-bff0d09d5684': 'C_test_pred',\n",
       " '83106585-8ba8-4e87-bbd5-3c9aaf9e722e': 'D',\n",
       " '9501cc12-c495-469e-875e-800151b35759': 'D_relabeled',\n",
       " '5f939216-85e1-4dbb-a2f9-614f928fd44c': 'A_test_pred'}"
      ]
     },
     "execution_count": 75,
     "metadata": {},
     "output_type": "execute_result"
    }
   ],
   "source": [
    "M.names"
   ]
  },
  {
   "cell_type": "code",
   "execution_count": null,
   "id": "77f23826",
   "metadata": {},
   "outputs": [],
   "source": []
  },
  {
   "cell_type": "code",
   "execution_count": null,
   "id": "3356bd9b",
   "metadata": {},
   "outputs": [],
   "source": []
  },
  {
   "cell_type": "code",
   "execution_count": null,
   "id": "f65cf4d9",
   "metadata": {},
   "outputs": [],
   "source": []
  },
  {
   "cell_type": "code",
   "execution_count": null,
   "id": "627afc53",
   "metadata": {},
   "outputs": [],
   "source": []
  },
  {
   "cell_type": "code",
   "execution_count": 23,
   "id": "a054595f",
   "metadata": {},
   "outputs": [
    {
     "data": {
      "text/plain": [
       "{'A': <data.collection.Collection at 0x7f0c6fdb55b0>,\n",
       " 'A_train': <data.collection.Collection at 0x7f0c7434b760>,\n",
       " 'A_test_pred': <data.collection.Collection at 0x7f0c743d69a0>,\n",
       " 'C': <data.collection.Collection at 0x7f0c6fd602b0>,\n",
       " 'C_test': <data.collection.Collection at 0x7f0c7416e640>,\n",
       " 'C_test_pred': <data.collection.Collection at 0x7f0c6fcbb2b0>,\n",
       " 'D': <data.collection.Collection at 0x7f0c6fcf2d00>,\n",
       " 'D_relabeled': <data.collection.Collection at 0x7f0c6fcee130>,\n",
       " 'C_train': <data.collection.Collection at 0x7f0c6fc89250>}"
      ]
     },
     "execution_count": 23,
     "metadata": {},
     "output_type": "execute_result"
    }
   ],
   "source": [
    "M.find('d23c9fc7-0f78-4956-a961-f243e858625f', show_names=True)"
   ]
  },
  {
   "cell_type": "code",
   "execution_count": null,
   "id": "53134bfa",
   "metadata": {},
   "outputs": [],
   "source": []
  },
  {
   "cell_type": "code",
   "execution_count": 12,
   "id": "f23b471a",
   "metadata": {},
   "outputs": [],
   "source": [
    "M = data.Manager.load(os.path.join(workingdir,'Run2a.pickle'))"
   ]
  },
  {
   "cell_type": "code",
   "execution_count": 13,
   "id": "b26df56e",
   "metadata": {},
   "outputs": [
    {
     "data": {
      "text/plain": [
       "{'A': <data.collection.Collection at 0x7f0c6fdb55b0>,\n",
       " 'A_train': <data.collection.Collection at 0x7f0c7434b760>,\n",
       " 'A_test_pred': <data.collection.Collection at 0x7f0c743d69a0>,\n",
       " 'C': <data.collection.Collection at 0x7f0c6fd602b0>,\n",
       " 'C_test': <data.collection.Collection at 0x7f0c7416e640>,\n",
       " 'C_test_pred': <data.collection.Collection at 0x7f0c6fcbb2b0>,\n",
       " 'D': <data.collection.Collection at 0x7f0c6fcf2d00>,\n",
       " 'D_relabeled': <data.collection.Collection at 0x7f0c6fcee130>,\n",
       " 'C_train': <data.collection.Collection at 0x7f0c6fc89250>}"
      ]
     },
     "execution_count": 13,
     "metadata": {},
     "output_type": "execute_result"
    }
   ],
   "source": [
    "M.find('d23c9fc7-0f78-4956-a961-f243e858625f', show_names=True)"
   ]
  },
  {
   "cell_type": "code",
   "execution_count": null,
   "id": "2a07c6ce",
   "metadata": {},
   "outputs": [],
   "source": []
  },
  {
   "cell_type": "code",
   "execution_count": null,
   "id": "0c364f68",
   "metadata": {},
   "outputs": [],
   "source": []
  },
  {
   "cell_type": "code",
   "execution_count": null,
   "id": "e50b638c",
   "metadata": {},
   "outputs": [],
   "source": []
  },
  {
   "cell_type": "code",
   "execution_count": 7,
   "id": "6adacada",
   "metadata": {},
   "outputs": [],
   "source": [
    "M = data.Manager.load(os.path.join(workingdir,'Run1.pickle'))"
   ]
  },
  {
   "cell_type": "code",
   "execution_count": 4,
   "id": "bf3196e4",
   "metadata": {},
   "outputs": [
    {
     "data": {
      "text/plain": [
       "{'A': <data.collection.Collection at 0x7f0c9c2f89d0>,\n",
       " 'A_train': <data.collection.Collection at 0x7f0c74068ac0>,\n",
       " 'A_test_pred': <data.collection.Collection at 0x7f0c74034d00>,\n",
       " 'C': <data.collection.Collection at 0x7f0c7404fd00>,\n",
       " 'C_test': <data.collection.Collection at 0x7f0c6ff999a0>,\n",
       " 'C_test_pred': <data.collection.Collection at 0x7f0c6ffa2d00>,\n",
       " 'D': <data.collection.Collection at 0x7f0c6ffab0a0>,\n",
       " 'D_relabeled': <data.collection.Collection at 0x7f0c6ffab490>}"
      ]
     },
     "execution_count": 4,
     "metadata": {},
     "output_type": "execute_result"
    }
   ],
   "source": [
    "M.find('d23c9fc7-0f78-4956-a961-f243e858625f', show_names=True)"
   ]
  },
  {
   "cell_type": "code",
   "execution_count": 12,
   "id": "304ec18e",
   "metadata": {},
   "outputs": [],
   "source": [
    "M = data.Manager.load(os.path.join(workingdir,'M_step6.pickle'))"
   ]
  },
  {
   "cell_type": "code",
   "execution_count": 13,
   "id": "72f2f90a",
   "metadata": {},
   "outputs": [
    {
     "data": {
      "text/plain": [
       "{'A': <data.collection.Collection at 0x7f53269482b0>,\n",
       " 'A_train': <data.collection.Collection at 0x7f5325a8c2e0>,\n",
       " 'A_test_pred': <data.collection.Collection at 0x7f5325ac0a30>,\n",
       " 'C': <data.collection.Collection at 0x7f5325a51a30>,\n",
       " 'C_test': <data.collection.Collection at 0x7f5325a106d0>,\n",
       " 'C_test_pred': <data.collection.Collection at 0x7f5325a2da30>,\n",
       " 'D': <data.collection.Collection at 0x7f5325a31d90>,\n",
       " 'D_relabeled': <data.collection.Collection at 0x7f5325a1c760>}"
      ]
     },
     "execution_count": 13,
     "metadata": {},
     "output_type": "execute_result"
    }
   ],
   "source": [
    "M.find('cae59caa-f396-4c36-9532-2da2b2e6e071', show_names=True)"
   ]
  },
  {
   "cell_type": "code",
   "execution_count": null,
   "id": "16cfd059",
   "metadata": {},
   "outputs": [],
   "source": []
  },
  {
   "cell_type": "code",
   "execution_count": null,
   "id": "48a5fd04",
   "metadata": {},
   "outputs": [],
   "source": []
  },
  {
   "cell_type": "code",
   "execution_count": null,
   "id": "d9f06cec",
   "metadata": {},
   "outputs": [],
   "source": []
  },
  {
   "cell_type": "code",
   "execution_count": 9,
   "id": "68d90fb8",
   "metadata": {},
   "outputs": [
    {
     "data": {
      "text/plain": [
       "['unet_0.model',\n",
       " 'M_step7.pickle',\n",
       " 'unet_1.model',\n",
       " 'history_0.pickle',\n",
       " 'Run1.pickle',\n",
       " 'history_1.pickle',\n",
       " 'M_step8.pickle',\n",
       " 'M_step6.pickle',\n",
       " 'cnnd_history_0.pickle',\n",
       " 'cnnd_0.model']"
      ]
     },
     "execution_count": 9,
     "metadata": {},
     "output_type": "execute_result"
    }
   ],
   "source": [
    "os.listdir(workingdir)"
   ]
  },
  {
   "cell_type": "code",
   "execution_count": null,
   "id": "6f3dc07e",
   "metadata": {},
   "outputs": [],
   "source": [
    "M = data.Manager.load(os.path.join(workingdir,'Run1.pickle'))"
   ]
  }
 ],
 "metadata": {
  "kernelspec": {
   "display_name": "Python 3 (ipykernel)",
   "language": "python",
   "name": "python3"
  },
  "language_info": {
   "codemirror_mode": {
    "name": "ipython",
    "version": 3
   },
   "file_extension": ".py",
   "mimetype": "text/x-python",
   "name": "python",
   "nbconvert_exporter": "python",
   "pygments_lexer": "ipython3",
   "version": "3.9.7"
  }
 },
 "nbformat": 4,
 "nbformat_minor": 5
}
