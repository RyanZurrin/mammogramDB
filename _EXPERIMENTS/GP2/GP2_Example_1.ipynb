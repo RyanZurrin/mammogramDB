{
 "cells": [
  {
   "cell_type": "code",
   "execution_count": 1,
   "id": "06c4accc",
   "metadata": {},
   "outputs": [
    {
     "name": "stdout",
     "output_type": "stream",
     "text": [
      "Populating the interactive namespace from numpy and matplotlib\n"
     ]
    }
   ],
   "source": [
    "%pylab inline\n",
    "%load_ext autoreload\n",
    "%autoreload 2"
   ]
  },
  {
   "cell_type": "code",
   "execution_count": 2,
   "id": "3b313506",
   "metadata": {},
   "outputs": [],
   "source": [
    "import time"
   ]
  },
  {
   "cell_type": "code",
   "execution_count": 3,
   "id": "b9e78ed8",
   "metadata": {},
   "outputs": [],
   "source": [
    "from runner import Runner"
   ]
  },
  {
   "cell_type": "code",
   "execution_count": 4,
   "id": "bdc75325",
   "metadata": {},
   "outputs": [
    {
     "name": "stdout",
     "output_type": "stream",
     "text": [
      "*** GP2 ***\n",
      "Working directory: /tmp/tmp_6ummfenGP2\n"
     ]
    }
   ],
   "source": [
    "R = Runner()"
   ]
  },
  {
   "cell_type": "code",
   "execution_count": 5,
   "id": "87b0c65d",
   "metadata": {},
   "outputs": [],
   "source": [
    "# load our larger toy dataset (10k images and masks)\n",
    "images = np.load('/raid/mpsych/OMAMA/GP2/GP2TOYEXAMPLE_LARGE/images.npy')\n",
    "masks = np.load('/raid/mpsych/OMAMA/GP2//GP2TOYEXAMPLE_LARGE/masks.npy')"
   ]
  },
  {
   "cell_type": "code",
   "execution_count": 6,
   "id": "2a5d1030",
   "metadata": {},
   "outputs": [],
   "source": [
    "#\n",
    "# In this experiment, we are using 1000 images for GP2\n",
    "# with a repository of 9000 images to fillup all relabeled\n",
    "# datapoints.\n",
    "#\n",
    "R.setup_data(images, masks)"
   ]
  },
  {
   "cell_type": "code",
   "execution_count": 7,
   "id": "99127251",
   "metadata": {},
   "outputs": [],
   "source": [
    "RUNS = 5"
   ]
  },
  {
   "cell_type": "code",
   "execution_count": 8,
   "id": "d8ff85c4",
   "metadata": {
    "scrolled": false
   },
   "outputs": [
    {
     "name": "stdout",
     "output_type": "stream",
     "text": [
      "***\n",
      "RUN: 0\n",
      "Model saved to /tmp/tmp6z4_tq8nGP2/unet_0.model\n",
      "History saved to /tmp/tmp6z4_tq8nGP2/history_0.pickle\n",
      "Testing the classifier...\n",
      "8/8 [==============================] - 1s 99ms/step - loss: 1.2019 - dice_coeff: 0.3153\n",
      "Model saved to /tmp/tmp6z4_tq8nGP2/cnnd_0.model\n",
      "History saved to /tmp/tmp6z4_tq8nGP2/cnnd_history_0.pickle\n",
      "Testing the discriminator...\n",
      "4/4 [==============================] - 0s 16ms/step - loss: 4.1037 - accuracy: 0.4700\n",
      "Found 91 machine labels.\n",
      "Removed: 26 Filled: 26\n",
      "TOOK 479.65069365501404 seconds\n",
      "***\n",
      "RUN: 1\n",
      "Model saved to /tmp/tmp6z4_tq8nGP2/unet_1.model\n",
      "History saved to /tmp/tmp6z4_tq8nGP2/history_1.pickle\n",
      "Testing the classifier...\n",
      "8/8 [==============================] - 1s 98ms/step - loss: 1.1086 - dice_coeff: 0.3401\n",
      "Testing the discriminator...\n",
      "4/4 [==============================] - 0s 16ms/step - loss: 2.6937 - accuracy: 0.5500\n",
      "Found 93 machine labels.\n",
      "Removed: 26 Filled: 26\n",
      "TOOK 146.6294457912445 seconds\n",
      "***\n",
      "RUN: 2\n",
      "Model saved to /tmp/tmp6z4_tq8nGP2/unet_2.model\n",
      "History saved to /tmp/tmp6z4_tq8nGP2/history_2.pickle\n",
      "Testing the classifier...\n",
      "8/8 [==============================] - 1s 98ms/step - loss: 0.9370 - dice_coeff: 0.3936\n",
      "Testing the discriminator...\n",
      "4/4 [==============================] - 0s 16ms/step - loss: 3.2090 - accuracy: 0.4900\n",
      "Found 94 machine labels.\n",
      "Removed: 25 Filled: 25\n",
      "TOOK 326.60518646240234 seconds\n",
      "***\n",
      "RUN: 3\n",
      "Model saved to /tmp/tmp6z4_tq8nGP2/unet_3.model\n",
      "History saved to /tmp/tmp6z4_tq8nGP2/history_3.pickle\n",
      "Testing the classifier...\n",
      "8/8 [==============================] - 1s 101ms/step - loss: 0.7788 - dice_coeff: 0.4637\n",
      "Testing the discriminator...\n",
      "4/4 [==============================] - 0s 15ms/step - loss: 3.3980 - accuracy: 0.5800\n",
      "Found 93 machine labels.\n",
      "Removed: 27 Filled: 27\n",
      "TOOK 1306.1905045509338 seconds\n",
      "***\n",
      "RUN: 4\n",
      "Model saved to /tmp/tmp6z4_tq8nGP2/unet_4.model\n",
      "History saved to /tmp/tmp6z4_tq8nGP2/history_4.pickle\n",
      "Testing the classifier...\n",
      "8/8 [==============================] - 1s 100ms/step - loss: 0.6371 - dice_coeff: 0.5430\n",
      "Testing the discriminator...\n",
      "4/4 [==============================] - 0s 16ms/step - loss: 3.3840 - accuracy: 0.4300\n",
      "Found 91 machine labels.\n",
      "Removed: 24 Filled: 24\n",
      "TOOK 1047.0356078147888 seconds\n"
     ]
    }
   ],
   "source": [
    "for run in range(RUNS):\n",
    "    print('***')\n",
    "    print('RUN:', run)\n",
    "    t0 = time.time()\n",
    "    R.run_classifier()\n",
    "    R.run_discriminator()\n",
    "    R.find_machine_labels()\n",
    "    R.relabel()\n",
    "    print('TOOK', time.time()-t0, 'seconds')\n",
    "    "
   ]
  },
  {
   "cell_type": "code",
   "execution_count": 12,
   "id": "00075332",
   "metadata": {},
   "outputs": [
    {
     "data": {
      "text/plain": [
       "[[1.201931357383728, 0.3153156042098999],\n",
       " [1.1085528135299683, 0.3400987386703491],\n",
       " [0.9369912147521973, 0.39359256625175476],\n",
       " [0.7787714600563049, 0.46370455622673035],\n",
       " [0.637107253074646, 0.5429560542106628]]"
      ]
     },
     "execution_count": 12,
     "metadata": {},
     "output_type": "execute_result"
    }
   ],
   "source": [
    "R.classifier_scores"
   ]
  },
  {
   "cell_type": "code",
   "execution_count": 13,
   "id": "35105656",
   "metadata": {},
   "outputs": [
    {
     "data": {
      "text/plain": [
       "[[4.10370397567749, 0.4699999988079071],\n",
       " [2.6937386989593506, 0.550000011920929],\n",
       " [3.2090253829956055, 0.49000000953674316],\n",
       " [3.397977828979492, 0.5799999833106995],\n",
       " [3.3840396404266357, 0.4300000071525574]]"
      ]
     },
     "execution_count": 13,
     "metadata": {},
     "output_type": "execute_result"
    }
   ],
   "source": [
    "R.discriminator_scores"
   ]
  },
  {
   "cell_type": "code",
   "execution_count": 14,
   "id": "0a721a90",
   "metadata": {},
   "outputs": [
    {
     "data": {
      "image/png": "[encoded data removed]",
      "text/plain": [
       "<Figure size 240x240 with 1 Axes>"
      ]
     },
     "metadata": {
      "needs_background": "light"
     },
     "output_type": "display_data"
    }
   ],
   "source": [
    "R.plot()"
   ]
  },
  {
   "cell_type": "code",
   "execution_count": null,
   "id": "551de181",
   "metadata": {},
   "outputs": [],
   "source": []
  }
 ],
 "metadata": {
  "kernelspec": {
   "display_name": "Python 3 (ipykernel)",
   "language": "python",
   "name": "python3"
  },
  "language_info": {
   "codemirror_mode": {
    "name": "ipython",
    "version": 3
   },
   "file_extension": ".py",
   "mimetype": "text/x-python",
   "name": "python",
   "nbconvert_exporter": "python",
   "pygments_lexer": "ipython3",
   "version": "3.9.7"
  }
 },
 "nbformat": 4,
 "nbformat_minor": 5
}
