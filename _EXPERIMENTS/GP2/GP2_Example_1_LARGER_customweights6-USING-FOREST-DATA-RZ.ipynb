{
 "cells": [
  {
   "cell_type": "code",
   "execution_count": 1,
   "id": "06c4accc",
   "metadata": {},
   "outputs": [
    {
     "name": "stdout",
     "output_type": "stream",
     "text": [
      "Populating the interactive namespace from numpy and matplotlib\n"
     ]
    }
   ],
   "source": [
    "%pylab inline\n",
    "%load_ext autoreload\n",
    "%autoreload 2"
   ]
  },
  {
   "cell_type": "code",
   "execution_count": 2,
   "id": "3b313506",
   "metadata": {},
   "outputs": [],
   "source": [
    "import time"
   ]
  },
  {
   "cell_type": "code",
   "execution_count": 3,
   "id": "b9e78ed8",
   "metadata": {},
   "outputs": [],
   "source": [
    "from runner import Runner"
   ]
  },
  {
   "cell_type": "code",
   "execution_count": 4,
   "id": "bdc75325",
   "metadata": {},
   "outputs": [
    {
     "name": "stdout",
     "output_type": "stream",
     "text": [
      "*** GP2 ***\n",
      "Working directory: /tmp/tmptqp03lb5GP2\n",
      "Verbose mode active!\n"
     ]
    }
   ],
   "source": [
    "R = Runner(verbose=True)"
   ]
  },
  {
   "cell_type": "code",
   "execution_count": 5,
   "id": "87b0c65d",
   "metadata": {},
   "outputs": [],
   "source": [
    "# load our larger toy dataset (10k images and masks)\n",
    "# images = np.load('/raid/mpsych/GP2TOYEXAMPLE_LARGE/images.npy')\n",
    "# masks = np.load('/raid/mpsych/GP2TOYEXAMPLE_LARGE/masks.npy')\n",
    "images = np.load('/hpcstor6/scratch01/y/y.shah001/Forest_Segmented/Forest_Segmented/Forest_final_img_unm.npy')\n",
    "masks = np.load('/hpcstor6/scratch01/y/y.shah001/Forest_Segmented/Forest_Segmented/Forest_final_mask_unm.npy')"
   ]
  },
  {
   "cell_type": "code",
   "execution_count": 6,
   "id": "1dd71668",
   "metadata": {},
   "outputs": [],
   "source": [
    "weights = {\n",
    "    'A': 0.5,\n",
    "    'A_train': 0.1,\n",
    "    'A_val': 0.3,\n",
    "    'A_test': 0.6,\n",
    "    'B': 0.3,\n",
    "    'B_train': 0.7,\n",
    "    'B_val': 0.1,\n",
    "    'B_test': 0.2,\n",
    "    'Z': 0.2\n",
    "}\n",
    "PERCENT_TO_REPLACE = 30"
   ]
  },
  {
   "cell_type": "code",
   "execution_count": 7,
   "id": "5691ea69",
   "metadata": {},
   "outputs": [
    {
     "data": {
      "text/plain": [
       "5108"
      ]
     },
     "execution_count": 7,
     "metadata": {},
     "output_type": "execute_result"
    }
   ],
   "source": [
    "len(images)"
   ]
  },
  {
   "cell_type": "code",
   "execution_count": 8,
   "id": "90923336",
   "metadata": {},
   "outputs": [
    {
     "data": {
      "text/plain": [
       "5108"
      ]
     },
     "execution_count": 8,
     "metadata": {},
     "output_type": "execute_result"
    }
   ],
   "source": [
    "len(masks)"
   ]
  },
  {
   "cell_type": "code",
   "execution_count": 9,
   "id": "2a5d1030",
   "metadata": {},
   "outputs": [
    {
     "name": "stdout",
     "output_type": "stream",
     "text": [
      "Weights OK!\n"
     ]
    }
   ],
   "source": [
    "#\n",
    "#\n",
    "R.setup_data(images, masks, dataset_size=5108, weights=weights)"
   ]
  },
  {
   "cell_type": "code",
   "execution_count": 10,
   "id": "99127251",
   "metadata": {},
   "outputs": [],
   "source": [
    "RUNS = 5"
   ]
  },
  {
   "cell_type": "code",
   "execution_count": 11,
   "id": "d8ff85c4",
   "metadata": {
    "scrolled": false
   },
   "outputs": [
    {
     "name": "stdout",
     "output_type": "stream",
     "text": [
      "***\n",
      "RUN: 0\n",
      "Epoch 1/100\n",
      "4/4 [==============================] - 31s 5s/step - loss: 1.2105 - dice_coeff: 0.5260 - val_loss: 1.3201 - val_dice_coeff: 0.4700\n",
      "Epoch 2/100\n",
      "4/4 [==============================] - 6s 2s/step - loss: 1.0797 - dice_coeff: 0.5761 - val_loss: 1.3011 - val_dice_coeff: 0.4774\n",
      "Epoch 3/100\n",
      "4/4 [==============================] - 6s 2s/step - loss: 1.0319 - dice_coeff: 0.5978 - val_loss: 1.2662 - val_dice_coeff: 0.4913\n",
      "Epoch 4/100\n",
      "4/4 [==============================] - 6s 2s/step - loss: 0.9743 - dice_coeff: 0.6164 - val_loss: 1.2296 - val_dice_coeff: 0.5069\n",
      "Epoch 5/100\n",
      "4/4 [==============================] - 6s 2s/step - loss: 0.9480 - dice_coeff: 0.6271 - val_loss: 1.2010 - val_dice_coeff: 0.5200\n",
      "Epoch 6/100\n",
      "4/4 [==============================] - 6s 2s/step - loss: 0.9142 - dice_coeff: 0.6411 - val_loss: 1.1835 - val_dice_coeff: 0.5283\n",
      "Epoch 7/100\n",
      "4/4 [==============================] - 6s 2s/step - loss: 0.9134 - dice_coeff: 0.6469 - val_loss: 1.1658 - val_dice_coeff: 0.5367\n",
      "Epoch 8/100\n",
      "4/4 [==============================] - 6s 2s/step - loss: 0.8752 - dice_coeff: 0.6612 - val_loss: 1.1549 - val_dice_coeff: 0.5422\n",
      "Epoch 9/100\n",
      "4/4 [==============================] - 6s 2s/step - loss: 0.8605 - dice_coeff: 0.6692 - val_loss: 1.1514 - val_dice_coeff: 0.5442\n",
      "Epoch 10/100\n",
      "4/4 [==============================] - 6s 2s/step - loss: 0.8416 - dice_coeff: 0.6752 - val_loss: 1.1466 - val_dice_coeff: 0.5470\n",
      "Epoch 11/100\n",
      "4/4 [==============================] - 6s 2s/step - loss: 0.7989 - dice_coeff: 0.6891 - val_loss: 1.1445 - val_dice_coeff: 0.5486\n",
      "Epoch 12/100\n",
      "4/4 [==============================] - 6s 2s/step - loss: 0.8284 - dice_coeff: 0.6850 - val_loss: 1.1422 - val_dice_coeff: 0.5496\n",
      "Epoch 13/100\n",
      "4/4 [==============================] - 6s 2s/step - loss: 0.7768 - dice_coeff: 0.6994 - val_loss: 1.1373 - val_dice_coeff: 0.5522\n",
      "Epoch 14/100\n",
      "4/4 [==============================] - 6s 2s/step - loss: 0.7953 - dice_coeff: 0.6954 - val_loss: 1.1391 - val_dice_coeff: 0.5520\n",
      "Epoch 15/100\n",
      "4/4 [==============================] - 6s 2s/step - loss: 0.7832 - dice_coeff: 0.7019 - val_loss: 1.1371 - val_dice_coeff: 0.5526\n",
      "Model saved to /tmp/tmptqp03lb5GP2/unet_0.model\n",
      "History saved to /tmp/tmptqp03lb5GP2/history_0.pickle\n",
      "Testing the classifier...\n",
      "48/48 [==============================] - 5s 106ms/step - loss: 1.1423 - dice_coeff: 0.5496\n",
      "Model saved to /tmp/tmptqp03lb5GP2/cnnd_0.model\n",
      "History saved to /tmp/tmptqp03lb5GP2/cnnd_history_0.pickle\n",
      "Testing the discriminator...\n",
      "10/10 [==============================] - 0s 37ms/step - loss: 0.0000e+00 - accuracy: 1.0000\n",
      "Found 137 machine labels.\n",
      "Machine labels [  1   2   3   5   6   7   8   9  11  12  13  14  16  17  19  21  24  27\n",
      "  30  33  38  42  43  46  47  52  53  54  55  57  61  63  67  71  75  78\n",
      "  79  83  84  85  86  92  93  94  98  99 101 103 106 107 109 110 118 120\n",
      " 121 124 127 130 133 135 139 141 144 145 146 148 151 152 153 154 155 157\n",
      " 158 162 164 166 172 174 176 178 182 186 187 189 191 193 196 198 200 201\n",
      " 204 205 209 210 211 214 217 219 220 224 226 231 233 235 241 243 246 250\n",
      " 253 256 257 258 260 261 262 263 264 266 268 269 272 274 277 278 279 281\n",
      " 286 287 288 291 293 296 298 299 300 301 303]\n",
      "D_ids ['0cd3aa02-cec1-40fb-a53c-270867c27d77', 'b3c8210c-453b-4206-a08d-9f5134503ebf', '257d44e4-255e-42d3-965c-6ffe2bf20513', '01631f93-2aa5-46e7-86de-8611a9d4dde5', '580622a5-b1ce-4fb7-aa7b-e73fbc802065', '2d93c010-7ab2-413d-88de-e692ae39a89f', 'bc2407a8-2dbe-422e-b076-a3c2877614f7', '08edf131-80f9-4be9-b4f8-b849b33d4f9e', 'caf08638-5958-40e4-b3f6-d2f94b24740c', '811c6534-5e18-47ac-a52f-86f7029b6920', 'bb406c87-a2e8-464a-83fd-0ae603cbfe02', '3418cdbf-4222-4b1a-98bb-ea4ea9df59f4', 'd881d0c0-5630-4f4e-aa5a-6ebcce154ab9', '46fcf928-3b8a-4ecc-ab66-2b6287c71f65', '8ee1e63f-177c-40e3-9932-692b6fd0fd5d', '799e88c1-5314-4e6f-b4bb-9089da723519', '690a763d-3ae8-44f5-84b9-2db9fb48a8eb', '12a30bf1-6e50-4ee4-bbd6-6a1fd2f99492', '8a9ad32f-ecbe-4f38-a1c0-54f7b68ee626', 'cc0cea92-3adb-4c5d-9bfd-a266126d26d9', 'c38f06b6-2678-4f8c-9cf5-822aff3f01a3', '21cecf28-0b0b-415b-92ab-6a867fd398c0', 'f7eced8e-f21f-4b1a-ad25-dd27f6bb2de8', '490abe4a-9c41-478e-bd27-a45b339463b7', 'f99c2014-8595-403d-a94f-3e1241b064b0', '26b82f75-65f2-4c02-a06d-0450c3ab71e5', '2d8ff996-f0f7-41f4-86e6-504052af7284', '2b47a70c-876f-4772-95a4-474bd8f75e8c', 'ecdc685b-aae3-4734-a65c-436980e908d9', '4d2897a7-55ae-420d-a1e8-16756c4b680f', '63fc2757-bd3f-4596-9378-e33fe346ae86', 'd24020a3-30b0-4724-93c9-7e5a3052f778', '0f602af2-e436-4c01-9812-69e5c160df54', '68972c4a-5903-4872-a762-77bac9e30875', '1ee631f3-533f-454c-90f2-7e2910afdc50', 'f499c16f-2f90-443c-ab01-5f0f976f1a46', '9c2c29a0-52ea-4edd-acef-880f06f20b53', '0414f8b9-b7c6-427e-a78c-dd566c094202', '196bf72e-d85a-46e0-8385-99c1e05f19a7', '3714ef52-a1e8-4375-8aa4-d0a567e4c784', 'a8849d42-3009-4a8a-9d2b-1fab73874409', '16bc6353-7a34-484d-b92b-9f40d7962209', 'c3935d1d-a8fb-4d2b-b6ea-740fa218e11a', '13e07a25-120f-494b-bfae-78f41a039ff3', 'd4170e75-e87a-4233-a7f5-5f67d8ec7bec', 'fce32d8b-ceb8-4f0b-bc5a-2f6abe3beada', '8f8923c7-4059-4ce2-9290-feabaed9e1e8', '870390be-2d2e-4684-a66c-0c59e43d953c', 'd952427a-9132-4fdb-b79a-dd4823d5a668', 'cd837070-dd30-4c54-bf3d-e28114cee779', '707c708e-0899-4f57-8122-18b92f6f4788', '54beb8cf-f84d-4dfa-8ff4-659bfb37f10b', 'ffc6f45a-81fe-4a47-8cb7-65492809486b', '597edd60-aee9-44cc-b984-8d9511206b69', 'db82c567-c3a8-4d3a-9656-a72c599f28a4', 'bbf16c04-5c50-42c0-b517-84034165983f', '93864a78-c739-46c5-a881-aa4dbdfa3785', '85fe8d06-180b-46e9-a12f-1ec05f62f68e', 'bac61112-fde9-4830-8209-bf020c596725', 'b889f4cc-3ac8-4989-8e72-66678d45b429', '2f321d42-68ac-4383-8d73-702707a51f3b', '21c871fa-7de2-4046-b73c-d1ebc12d5df5', 'c747a057-35e0-4fe0-a476-eaee90be0cc7', 'd8a3be00-f15f-4c65-b436-e02376af7964', 'eec78c41-a1fc-4472-a9a6-a6a05712355d', '62d63a81-6943-45f0-bf90-d0f549d1f3fc', '62793ac4-0f50-40c9-871f-19e6822a4f5e', 'a6cb2b7e-8a0c-4e73-87fc-32b776bea89b', '343bc1c9-e47f-47d0-b214-1697bc8b47e1', '9505a5a1-c3c1-4a47-a6cd-eb8143e13440', '7e29db63-73b5-4d45-9433-9e58279b1508', '748a80c8-cfe6-44e9-8be1-0768e4e8dcf1', '2e487562-d942-460c-a81b-0d1de1da4a4f', '5c6f0fdf-aa9a-413e-bd62-061116e24392', '4d6c6c70-72c9-43d6-abf4-deb066ee6a0d', 'cf40be9c-00b7-49e5-a2b6-4f9451255cc6', 'cd284f8d-2650-4ca1-b5f0-e340dfe29a06', 'f37a71bf-b65b-4933-bed4-2f99a9b12162', '9dc5d14c-5bd6-44a0-b923-5611eeac72a5', 'b58afd50-6f1e-4026-8a67-227ecd104402', '017a3e28-c563-4b72-8ff5-052cfa96a26b', 'c01c6b21-4fef-4d52-9c73-14b36af979d1', '0c441ccc-88bd-437a-bb13-1813b655263d', '1c58ae12-2dab-45d2-8adf-879de30b0f51', '1c7996a8-2d55-402a-8e92-146c54bdf193', '13f0b0b6-876f-4649-ab65-8ca65dd1242c', 'a401a6e0-a918-4436-bacc-4e8f475f9cc9', '2eb995cc-4b42-4df1-8212-2dc9f1e36b54', '24d7fdb7-4a65-4b9e-81f5-1a4d0ab0e296', '48e02cba-3f4f-4383-a1cb-4426c24f6e94', 'bbef6e41-3d2a-4605-8163-b3cd79b071a0', 'cda79b67-7979-4dfd-9f58-dbf54aa4749a', '55097b72-81c3-4aa3-85b4-f1aaa362a9bb', '71c80f9d-24c0-4e8f-923e-86a35975adaa', 'e250bcb8-bc86-4a81-ad6b-3d9fbb9a8104', 'b5a63adf-248a-43e6-9a86-c70e25feeaf0', 'fc388d7f-a958-4e24-bdc5-814c801e4e8b', '56a04985-61da-445f-8beb-c6d0ea76dca5', '4506e62f-e5f1-4ba3-ad83-f92b4f4f6259', 'a6680359-d5b1-4f9f-8740-70f8e093e0d5', '4b6161ea-f34c-4bea-a5b6-826b141f22ec', '2cd5f788-9a06-4404-9316-c7ca6fafae78', 'cb9b0e56-771f-4325-b3d1-88a11ba33c40', '69bb20b4-474c-4f86-bebe-3e441e465dc4', 'bd7c1aa7-a03b-4b36-b71a-68e3a1417c3f', 'd8cce1a4-f622-494e-a3b3-f5cc85dac0e8', 'c701670c-4cd6-4dce-a9e9-ed2cd86a4e87', 'b6a64e26-76a2-48d7-ba36-2b77e2576139', 'dd47070a-8e24-444f-84c1-e6a9cb999ba0', '8a1fcb40-604b-45d2-998b-ee5ecd316fec', 'a67f04f7-b406-4197-ac91-212a59edf4e4', 'bbcd89b5-ff1b-405c-8903-2998c21ef800', '9c2957ba-e4c1-463e-9d79-14276eb070cf', 'b3f548e1-4399-4b6f-90fb-3e4254b7daaa', 'b33b3e05-b589-4353-8c9d-3e63b7e0517d', '01dfac4d-e76e-4ec7-ad6c-d0730a8a69bb', '13e03551-893e-4c10-8fd9-4ee814151ee4', 'ec89bae5-e967-4c63-ab1e-24ab226528c2', 'e458dd0f-5c16-4b9a-882c-b2e69b77efe7', '5a665395-2b9e-4add-9303-a5380f165820', '52fc1d60-6bfd-433d-98a1-c03cdc49094c', '6f2acb74-e157-42ec-bfa5-c80ec3c0640d', '6d8b187e-b5c6-4a49-abb4-eac03a8b7f82', 'bf76a1ed-630c-4719-94b3-1f1d76e908c5', 'bf742fdc-b585-4a87-9776-151feb1a3dfb', 'e901a088-6de0-4ec3-9ed6-544bb628154b', 'd40c4f35-ac08-4ef1-a23b-e9c0ecd08307', '3d4e9286-f622-44ff-8e19-06d9fb21db8e', 'f9c325b6-1690-4028-948c-1f4f865a345f', 'a738d2a8-a56a-4f26-b843-21afa88c489e', '029ab851-264a-49b3-b1dd-4f29d0bec80e', '04bd28d1-0792-44f4-a279-2dece147a9af', '28fca1c8-4033-4203-938b-325e2dcaf90f', '1ea7c13f-cdae-4cb9-a91d-b23ff6bad76d', '2fa71f2b-d59e-4d69-9395-0c142fbc12c6', 'ac700741-a6e1-45d9-afe6-5f2524c4d198', 'd583f680-a936-4615-addd-afbebb01b148']\n",
      "Replacing 45 from 137 !\n"
     ]
    },
    {
     "name": "stdout",
     "output_type": "stream",
     "text": [
      "D_relabeled_ 45\n",
      "selected_ids ['3418cdbf-4222-4b1a-98bb-ea4ea9df59f4', 'd4170e75-e87a-4233-a7f5-5f67d8ec7bec', 'd24020a3-30b0-4724-93c9-7e5a3052f778', 'e250bcb8-bc86-4a81-ad6b-3d9fbb9a8104', '7e29db63-73b5-4d45-9433-9e58279b1508', 'ecdc685b-aae3-4734-a65c-436980e908d9', '68972c4a-5903-4872-a762-77bac9e30875', '3d4e9286-f622-44ff-8e19-06d9fb21db8e', '580622a5-b1ce-4fb7-aa7b-e73fbc802065', '93864a78-c739-46c5-a881-aa4dbdfa3785', 'c747a057-35e0-4fe0-a476-eaee90be0cc7', '21cecf28-0b0b-415b-92ab-6a867fd398c0', '1c58ae12-2dab-45d2-8adf-879de30b0f51', '6f2acb74-e157-42ec-bfa5-c80ec3c0640d', '2f321d42-68ac-4383-8d73-702707a51f3b', 'bb406c87-a2e8-464a-83fd-0ae603cbfe02', '0f602af2-e436-4c01-9812-69e5c160df54', 'ac700741-a6e1-45d9-afe6-5f2524c4d198', 'a67f04f7-b406-4197-ac91-212a59edf4e4', '9c2c29a0-52ea-4edd-acef-880f06f20b53', 'b58afd50-6f1e-4026-8a67-227ecd104402', '71c80f9d-24c0-4e8f-923e-86a35975adaa', '13e07a25-120f-494b-bfae-78f41a039ff3', '48e02cba-3f4f-4383-a1cb-4426c24f6e94', 'c38f06b6-2678-4f8c-9cf5-822aff3f01a3', '0414f8b9-b7c6-427e-a78c-dd566c094202', '9505a5a1-c3c1-4a47-a6cd-eb8143e13440', '748a80c8-cfe6-44e9-8be1-0768e4e8dcf1', 'b6a64e26-76a2-48d7-ba36-2b77e2576139', '12a30bf1-6e50-4ee4-bbd6-6a1fd2f99492', '2fa71f2b-d59e-4d69-9395-0c142fbc12c6', 'a6680359-d5b1-4f9f-8740-70f8e093e0d5', 'e458dd0f-5c16-4b9a-882c-b2e69b77efe7', 'db82c567-c3a8-4d3a-9656-a72c599f28a4', '597edd60-aee9-44cc-b984-8d9511206b69', '1ea7c13f-cdae-4cb9-a91d-b23ff6bad76d', 'd952427a-9132-4fdb-b79a-dd4823d5a668', '46fcf928-3b8a-4ecc-ab66-2b6287c71f65', 'f499c16f-2f90-443c-ab01-5f0f976f1a46', 'cd284f8d-2650-4ca1-b5f0-e340dfe29a06', 'b3f548e1-4399-4b6f-90fb-3e4254b7daaa', '55097b72-81c3-4aa3-85b4-f1aaa362a9bb', 'cda79b67-7979-4dfd-9f58-dbf54aa4749a', 'ffc6f45a-81fe-4a47-8cb7-65492809486b', 'bbcd89b5-ff1b-405c-8903-2998c21ef800']\n",
      "dict_keys(['3418cdbf-4222-4b1a-98bb-ea4ea9df59f4', 'd4170e75-e87a-4233-a7f5-5f67d8ec7bec', 'd24020a3-30b0-4724-93c9-7e5a3052f778', 'e250bcb8-bc86-4a81-ad6b-3d9fbb9a8104', '7e29db63-73b5-4d45-9433-9e58279b1508', 'ecdc685b-aae3-4734-a65c-436980e908d9', '68972c4a-5903-4872-a762-77bac9e30875', '3d4e9286-f622-44ff-8e19-06d9fb21db8e', '580622a5-b1ce-4fb7-aa7b-e73fbc802065', '93864a78-c739-46c5-a881-aa4dbdfa3785', 'c747a057-35e0-4fe0-a476-eaee90be0cc7', '21cecf28-0b0b-415b-92ab-6a867fd398c0', '1c58ae12-2dab-45d2-8adf-879de30b0f51', '6f2acb74-e157-42ec-bfa5-c80ec3c0640d', '2f321d42-68ac-4383-8d73-702707a51f3b', 'bb406c87-a2e8-464a-83fd-0ae603cbfe02', '0f602af2-e436-4c01-9812-69e5c160df54', 'ac700741-a6e1-45d9-afe6-5f2524c4d198', 'a67f04f7-b406-4197-ac91-212a59edf4e4', '9c2c29a0-52ea-4edd-acef-880f06f20b53', 'b58afd50-6f1e-4026-8a67-227ecd104402', '71c80f9d-24c0-4e8f-923e-86a35975adaa', '13e07a25-120f-494b-bfae-78f41a039ff3', '48e02cba-3f4f-4383-a1cb-4426c24f6e94', 'c38f06b6-2678-4f8c-9cf5-822aff3f01a3', '0414f8b9-b7c6-427e-a78c-dd566c094202', '9505a5a1-c3c1-4a47-a6cd-eb8143e13440', '748a80c8-cfe6-44e9-8be1-0768e4e8dcf1', 'b6a64e26-76a2-48d7-ba36-2b77e2576139', '12a30bf1-6e50-4ee4-bbd6-6a1fd2f99492', '2fa71f2b-d59e-4d69-9395-0c142fbc12c6', 'a6680359-d5b1-4f9f-8740-70f8e093e0d5', 'e458dd0f-5c16-4b9a-882c-b2e69b77efe7', 'db82c567-c3a8-4d3a-9656-a72c599f28a4', '597edd60-aee9-44cc-b984-8d9511206b69', '1ea7c13f-cdae-4cb9-a91d-b23ff6bad76d', 'd952427a-9132-4fdb-b79a-dd4823d5a668', '46fcf928-3b8a-4ecc-ab66-2b6287c71f65', 'f499c16f-2f90-443c-ab01-5f0f976f1a46', 'cd284f8d-2650-4ca1-b5f0-e340dfe29a06', 'b3f548e1-4399-4b6f-90fb-3e4254b7daaa', '55097b72-81c3-4aa3-85b4-f1aaa362a9bb', 'cda79b67-7979-4dfd-9f58-dbf54aa4749a', 'ffc6f45a-81fe-4a47-8cb7-65492809486b', 'bbcd89b5-ff1b-405c-8903-2998c21ef800'])\n",
      "point ids 45\n",
      "Removed: 45 Filled: 45\n",
      "TOOK 450.8144247531891 seconds\n",
      "***\n",
      "RUN: 1\n",
      "Epoch 1/100\n",
      "5/5 [==============================] - 13s 3s/step - loss: 0.7648 - dice_coeff: 0.7048 - val_loss: 1.1397 - val_dice_coeff: 0.5525\n",
      "Epoch 2/100\n",
      "5/5 [==============================] - 6s 1s/step - loss: 0.7688 - dice_coeff: 0.7066 - val_loss: 1.1380 - val_dice_coeff: 0.5534\n",
      "Epoch 3/100\n",
      "5/5 [==============================] - 7s 1s/step - loss: 0.7400 - dice_coeff: 0.7138 - val_loss: 1.1405 - val_dice_coeff: 0.5528\n",
      "Epoch 4/100\n",
      "5/5 [==============================] - 6s 1s/step - loss: 0.7098 - dice_coeff: 0.7249 - val_loss: 1.1371 - val_dice_coeff: 0.5549\n",
      "Epoch 5/100\n",
      "5/5 [==============================] - 7s 1s/step - loss: 0.7013 - dice_coeff: 0.7270 - val_loss: 1.1390 - val_dice_coeff: 0.5542\n",
      "Epoch 6/100\n",
      "5/5 [==============================] - 6s 1s/step - loss: 0.6918 - dice_coeff: 0.7315 - val_loss: 1.1508 - val_dice_coeff: 0.5488\n",
      "Epoch 7/100\n",
      "5/5 [==============================] - 7s 1s/step - loss: 0.6447 - dice_coeff: 0.7459 - val_loss: 1.1368 - val_dice_coeff: 0.5555\n",
      "Epoch 8/100\n",
      "5/5 [==============================] - 6s 1s/step - loss: 0.6398 - dice_coeff: 0.7467 - val_loss: 1.1408 - val_dice_coeff: 0.5536\n",
      "Epoch 9/100\n",
      "5/5 [==============================] - 7s 1s/step - loss: 0.6754 - dice_coeff: 0.7387 - val_loss: 1.1563 - val_dice_coeff: 0.5473\n",
      "Epoch 10/100\n",
      "5/5 [==============================] - 6s 1s/step - loss: 0.6137 - dice_coeff: 0.7587 - val_loss: 1.2294 - val_dice_coeff: 0.5191\n",
      "Epoch 11/100\n",
      "5/5 [==============================] - 6s 1s/step - loss: 0.6147 - dice_coeff: 0.7591 - val_loss: 1.2405 - val_dice_coeff: 0.5096\n",
      "Epoch 12/100\n",
      "5/5 [==============================] - 6s 1s/step - loss: 0.5839 - dice_coeff: 0.7666 - val_loss: 1.1484 - val_dice_coeff: 0.5510\n",
      "Epoch 13/100\n",
      "5/5 [==============================] - 6s 1s/step - loss: 0.5413 - dice_coeff: 0.7787 - val_loss: 1.2020 - val_dice_coeff: 0.5287\n",
      "Epoch 14/100\n",
      "5/5 [==============================] - 6s 1s/step - loss: 0.5828 - dice_coeff: 0.7696 - val_loss: 1.3035 - val_dice_coeff: 0.4871\n",
      "Epoch 15/100\n",
      "5/5 [==============================] - 6s 1s/step - loss: 0.5429 - dice_coeff: 0.7819 - val_loss: 1.3795 - val_dice_coeff: 0.4572\n",
      "Model saved to /tmp/tmptqp03lb5GP2/unet_1.model\n",
      "History saved to /tmp/tmptqp03lb5GP2/history_1.pickle\n",
      "Testing the classifier...\n",
      "48/48 [==============================] - 5s 101ms/step - loss: 1.4039 - dice_coeff: 0.4464\n",
      "Testing the discriminator...\n",
      "10/10 [==============================] - 0s 34ms/step - loss: 0.0000e+00 - accuracy: 1.0000\n",
      "Found 148 machine labels.\n",
      "Machine labels [  3   9  10  11  12  13  14  15  17  20  22  29  31  32  33  35  38  41\n",
      "  42  43  44  45  46  47  49  51  52  53  54  58  59  60  61  62  64  65\n",
      "  66  68  69  72  73  74  76  77  78  80  81  84  85  89  90  92  94  96\n",
      "  99 100 101 102 103 105 106 107 109 112 116 118 119 120 121 122 125 126\n",
      " 127 130 134 141 142 145 146 147 148 149 151 153 155 156 160 161 165 168\n",
      " 171 173 175 184 188 189 191 192 198 199 200 201 203 204 206 207 209 212\n",
      " 214 215 217 222 224 225 226 229 230 236 237 238 240 241 242 243 246 250\n",
      " 251 252 255 258 264 265 266 269 271 277 278 279 283 285 287 291 294 295\n",
      " 296 300 301 305]\n",
      "D_ids ['c01c6b21-4fef-4d52-9c73-14b36af979d1', '9956fcff-d745-4a38-bc38-a454207a4bcf', '4d3f3917-6db7-432b-9c2d-fcde5dbe0201', '42f596e0-0136-46aa-bdda-edaa99bda543', 'b4cffb8a-b516-4048-b1b1-ff0ec7717f46', '45dfcfe0-d271-45ec-a6c5-c939f248ddd5', '12f659c7-c9d8-4b62-8534-6241841b4544', '2a20f5f2-c614-4040-8713-82da25a8b7cd', '79529958-f4ac-410f-9291-7fe4ca400dbf', '63201229-bae2-4c8d-9a90-354061e0f35a', 'beb382d1-1be5-4e84-aa92-da6fb45974d9', '4dcd4b6b-1409-454b-baf0-3592b03f67b0', '6cc3b027-a458-48f4-ad35-720708182cb5', 'f9418604-1c8b-4a29-97fc-693c74f5e7de', 'f2817466-398a-408b-a7ce-383bfe58a1bf', 'e504c984-1fde-4fa5-926a-1f5d8d8b5aac', '3239145f-d993-474a-aff6-4779ab121c07', '411b6fe7-3408-4137-8729-69bd76dcbbcd', 'da96164f-e0c2-4a62-b894-01af9259e96d', 'b15f66ee-b18d-42e0-898d-57dd01ced7fd', '1e05e0ed-6bfa-44ba-8a19-50626098f0d5', '991bfe72-2643-4616-9e2d-4694bdaf039f', '04bd28d1-0792-44f4-a279-2dece147a9af', '35918986-8a95-43b6-a598-15b3a7698eeb', 'b0c1abab-eebc-4ca6-b5ac-ef844fafad5f', 'ff1562f5-ca2a-4204-b8be-c3a2607e5cc3', 'f143723b-a0ff-4545-8ace-cda7ed6cc79f', 'b53cc454-f1b7-4b85-925e-f05ff9fc66d8', 'f49a8ddb-6f40-4aec-a411-e9434e8fbb71', '0865f631-7599-49bf-a6a9-f9698a321858', '68e897e0-8404-4e5f-b6d3-7375795bc714', '9e59ba99-72aa-414d-8b62-c0ad0e467b6b', '8e2bae36-4629-4fb1-8910-e2864b1c1290', 'a2a167fe-93aa-4d4f-9890-8d3f6ac08f57', 'b8d5c4d6-7846-4644-953a-af15ff32e9f7', '66ffca61-a239-483d-b1d4-a8f155fa1a49', '4a4de348-17c1-4e90-bcbf-5420d4cdfdaf', '1ba3c769-2dba-412b-bbc9-c45e744667b8', '22c86a47-6de7-46aa-9c16-ab65ac88a144', '29292898-e644-4bf4-a3b5-6f2b8733d48b', 'ae65f0a5-258a-4fca-8fed-f39bcc26809d', 'e9456252-93f0-4783-8549-68ca51304ce8', 'f96bc082-440a-400c-9b40-bc5274bf2c53', 'b52a42d3-6d9d-40dd-b967-6c562858c5e2', 'eae28e1e-820e-41f6-850f-42a0c91aa1d7', '201b0be9-abc2-4809-b3dc-f6588dea6080', '8cf57545-eae9-462e-86ee-3e0ac5d27639', 'e9f5483d-b578-4e28-ad4b-dd0a99e9da9d', 'c5ff2706-a6c6-4a40-b04d-8e22c49891d9', 'fbe8986c-9054-48d0-810c-d508309e193f', '723ef7d5-cfb7-47e1-a35d-48bade1e013e', 'dbef061a-d608-4294-ad6c-b3902288331f', '7610166a-077b-4c58-a6b2-d80c74f31c38', '68af1e86-0891-4800-a5fe-15531028462f', 'e6165d8e-1a79-4171-8347-7541200b5f38', '0a1534be-8152-4844-9241-0c0f516b0673', 'd751e46b-d981-4822-b1db-0da393f5eb5f', 'f035ebd6-9834-4c30-a109-abcf43489f79', '82f8a095-69d5-462a-b36a-ee3f47fd54bd', '4b5d943e-e2d1-4e4f-af98-d0b22ecc7299', '1aa487b2-9f1d-4ee1-ac18-5f26bd7ee8a3', '10a0ce5f-35ff-458d-a8ea-b8327c452f84', 'c8614189-8b80-4dc9-b899-37aad2e35e0e', 'dfa2179f-f481-48eb-a264-5bd835861af2', '340961e4-e3d2-4da0-b2f3-02e0aab46c21', '63fc2757-bd3f-4596-9378-e33fe346ae86', '1d666fee-4525-47a2-b8bc-97aaaec1ed3c', '27aece33-eaf5-4245-8b2e-6f9ff20cc73e', 'a915a202-c389-4cb6-b149-d41158b82571', '61f23163-4641-4094-ac70-da9089d60fe5', '0a497233-1428-4a16-bbc5-adcdd0f99ba2', '4cdfdb1e-05b7-4392-a94f-e1c0df888939', '24cb1c86-6ce9-47e3-8340-0c91225c1fed', '42c80d1c-0f6b-4361-87be-0f590a1e6d0c', '186c0b46-4c31-459b-9a60-1b8bd12ea632', '8986a795-211b-4e0f-b5d4-6deb2cba160b', '92b28f2d-a7bf-4a06-9483-47160ef912a4', '3e79c3b6-cf8e-4847-b776-a6dcd171eec3', '78b39f4e-6ca2-43cf-9b26-bcf6e63620b6', '777fff31-fb15-4a25-bcef-1d4d202c7480', '42b124c0-f702-4f72-a43e-7f7de2249fdf', '570959fa-7e3a-4a4d-b38c-6782f77cf3d3', '427fad4c-e708-4c8d-8834-07f3f6876a91', 'c3935d1d-a8fb-4d2b-b6ea-740fa218e11a', 'bbfd9a55-dd3f-4456-96c7-50a66602d0bb', '01dfac4d-e76e-4ec7-ad6c-d0730a8a69bb', '8bf99cd5-4731-4adf-9370-6eb53786aa8c', '13f0b0b6-876f-4649-ab65-8ca65dd1242c', '9361f42c-0b12-4780-9995-4863f8c9f8ff', '96134078-6d39-4c30-9b78-12693fd26057', '7a3f7b5a-ae2a-44af-ae1c-0ad8d57685b9', 'de93d5d2-def8-440d-ab28-fc7f15a74499', '62793ac4-0f50-40c9-871f-19e6822a4f5e', 'f1414421-80c6-4a1a-b037-8aa373a62cee', '491b2812-70d5-4592-a323-5b596d68fac6', 'c0227518-fff4-43ef-a01d-40d92984423d', 'dc66c542-3b1e-4fe1-821b-ff97e667bd5d', 'bbef6e41-3d2a-4605-8163-b3cd79b071a0', '5273dd09-ed6a-4945-ae68-38a00b44a1ea', 'b3304389-0f04-4cca-8897-d61e2f87a910', '3b2b2f95-2f4a-4cba-88e3-93fe25a475d2', '39a1905e-d044-4293-a0b2-2021e29d085f', '8a892d6b-0b12-4c12-a37d-923be7bdfde7', '9e523904-ee1c-43bf-8378-5ff04e049ed9', '6e53e2e7-0a44-4fe2-980e-e6eb451bde20', 'b1ffce47-6276-41b3-b3e2-6e17911842ec', '1fc9f201-8acc-4165-9534-3fc88f7c67d0', '16e10313-120a-4239-9f85-d9fe222dae54', '604d82c6-b0a3-4a7c-adbe-4d06f555648e', 'd40c4f35-ac08-4ef1-a23b-e9c0ecd08307', 'de175242-6a47-4820-b80c-02fd578d97d7', '47b7dccf-f105-4702-a4f5-ab79fc99fdde', 'fe0b9ddf-fe75-4131-aa09-03d3d816e0ae', 'b8581ad0-4db4-4f63-a304-b49900f0b9a5', '543bb3a1-d6ad-40ce-bb81-30eb0568a305', '22837e59-7e01-4d74-9def-84b3b0acbf16', '2a9b39fc-a1db-4329-a5fc-22c401da4ce3', '13f6ed8e-6b58-4c93-b3dd-43e1f9d30d34', 'cdc411b7-c36b-4139-a47e-1fcb471cba00', '6477d4d8-b21d-4dd3-b301-ac39ae264908', '409f3a08-0832-4def-bfd3-a4fc9e5bbfec', 'e136857b-7892-4d1f-93d7-bcee15db121b', 'f0af68dd-2baf-4c93-8b81-3cc4eeacf43f', '12a28784-602d-45c7-abc5-2ef240101679', '321bd5a7-6ef9-4134-849c-e4fefabfff5a', '57b686b5-e150-44ad-ba97-0d7edd7b075c', '36f9de55-6838-4b59-9d56-9c4c2ed67f27', '9e2bd729-00fc-4a0c-9785-8144d838df0f', 'c4605d20-10c4-4934-ab5e-a6444e99a762', '7f0d0a58-3e1e-44e4-89c1-00e1c92a975b', '7f41d0d2-a537-4e26-bce4-a7a1aff175a2', '85651f78-6418-4444-a368-d4ac11c7a212', '37886451-5ce8-45a1-8997-c740dbde85c9', '03f283d5-a202-407e-a8b4-e3e761c01cd3', 'db76e658-ca69-4012-81be-73dc1b3828c0', '7febf11f-9a2b-40fc-b049-73b8153e78ec', 'ddd09f9b-d99c-496a-8524-836abf984675', 'afe822b2-807c-489a-9bf0-ed876e9f43ef', '8bbd0b4a-e540-42c1-a324-90e5d4eacb2d', 'aa7fdb36-0d59-4318-ad56-eaf3038d28e7', '588e5c25-b4e6-492f-92a3-81f320f24033', '8b23ee70-ad1d-41eb-866a-c10c931f0148', '4d5b66b5-3a6e-40a6-9680-0966ef0d773a', 'c0a618fd-9b7b-4ea6-bb3c-0cf94fe15019', '6173b1b0-00a0-4307-84b0-9fcc06ec5674', 'd8f00801-2051-439a-bce0-339678d875cd', '8a4f9e89-ac4f-4d24-a485-3c29e80491e7', '931e3727-53ed-4f18-982c-b3fc1234ac94']\n"
     ]
    },
    {
     "name": "stdout",
     "output_type": "stream",
     "text": [
      "Replacing 49 from 148 !\n",
      "D_relabeled_ 49\n",
      "selected_ids ['570959fa-7e3a-4a4d-b38c-6782f77cf3d3', 'b15f66ee-b18d-42e0-898d-57dd01ced7fd', 'c4605d20-10c4-4934-ab5e-a6444e99a762', '588e5c25-b4e6-492f-92a3-81f320f24033', '7610166a-077b-4c58-a6b2-d80c74f31c38', '6e53e2e7-0a44-4fe2-980e-e6eb451bde20', 'd8f00801-2051-439a-bce0-339678d875cd', '3239145f-d993-474a-aff6-4779ab121c07', '3b2b2f95-2f4a-4cba-88e3-93fe25a475d2', 'afe822b2-807c-489a-9bf0-ed876e9f43ef', 'a2a167fe-93aa-4d4f-9890-8d3f6ac08f57', '68af1e86-0891-4800-a5fe-15531028462f', '931e3727-53ed-4f18-982c-b3fc1234ac94', 'a915a202-c389-4cb6-b149-d41158b82571', 'ae65f0a5-258a-4fca-8fed-f39bcc26809d', '8a892d6b-0b12-4c12-a37d-923be7bdfde7', '8a4f9e89-ac4f-4d24-a485-3c29e80491e7', 'e9f5483d-b578-4e28-ad4b-dd0a99e9da9d', '5273dd09-ed6a-4945-ae68-38a00b44a1ea', '427fad4c-e708-4c8d-8834-07f3f6876a91', 'b52a42d3-6d9d-40dd-b967-6c562858c5e2', '4b5d943e-e2d1-4e4f-af98-d0b22ecc7299', '04bd28d1-0792-44f4-a279-2dece147a9af', 'c01c6b21-4fef-4d52-9c73-14b36af979d1', 'beb382d1-1be5-4e84-aa92-da6fb45974d9', '8bf99cd5-4731-4adf-9370-6eb53786aa8c', 'b0c1abab-eebc-4ca6-b5ac-ef844fafad5f', '85651f78-6418-4444-a368-d4ac11c7a212', 'd751e46b-d981-4822-b1db-0da393f5eb5f', '991bfe72-2643-4616-9e2d-4694bdaf039f', '9e2bd729-00fc-4a0c-9785-8144d838df0f', 'c0227518-fff4-43ef-a01d-40d92984423d', '340961e4-e3d2-4da0-b2f3-02e0aab46c21', '36f9de55-6838-4b59-9d56-9c4c2ed67f27', '6173b1b0-00a0-4307-84b0-9fcc06ec5674', '1d666fee-4525-47a2-b8bc-97aaaec1ed3c', 'f035ebd6-9834-4c30-a109-abcf43489f79', '0865f631-7599-49bf-a6a9-f9698a321858', '7f41d0d2-a537-4e26-bce4-a7a1aff175a2', '1aa487b2-9f1d-4ee1-ac18-5f26bd7ee8a3', 'de93d5d2-def8-440d-ab28-fc7f15a74499', 'bbfd9a55-dd3f-4456-96c7-50a66602d0bb', '42c80d1c-0f6b-4361-87be-0f590a1e6d0c', '42f596e0-0136-46aa-bdda-edaa99bda543', '4d3f3917-6db7-432b-9c2d-fcde5dbe0201', '543bb3a1-d6ad-40ce-bb81-30eb0568a305', '10a0ce5f-35ff-458d-a8ea-b8327c452f84', '1fc9f201-8acc-4165-9534-3fc88f7c67d0', '39a1905e-d044-4293-a0b2-2021e29d085f']\n",
      "dict_keys(['570959fa-7e3a-4a4d-b38c-6782f77cf3d3', 'b15f66ee-b18d-42e0-898d-57dd01ced7fd', 'c4605d20-10c4-4934-ab5e-a6444e99a762', '588e5c25-b4e6-492f-92a3-81f320f24033', '7610166a-077b-4c58-a6b2-d80c74f31c38', '6e53e2e7-0a44-4fe2-980e-e6eb451bde20', 'd8f00801-2051-439a-bce0-339678d875cd', '3239145f-d993-474a-aff6-4779ab121c07', '3b2b2f95-2f4a-4cba-88e3-93fe25a475d2', 'afe822b2-807c-489a-9bf0-ed876e9f43ef', 'a2a167fe-93aa-4d4f-9890-8d3f6ac08f57', '68af1e86-0891-4800-a5fe-15531028462f', '931e3727-53ed-4f18-982c-b3fc1234ac94', 'a915a202-c389-4cb6-b149-d41158b82571', 'ae65f0a5-258a-4fca-8fed-f39bcc26809d', '8a892d6b-0b12-4c12-a37d-923be7bdfde7', '8a4f9e89-ac4f-4d24-a485-3c29e80491e7', 'e9f5483d-b578-4e28-ad4b-dd0a99e9da9d', '5273dd09-ed6a-4945-ae68-38a00b44a1ea', '427fad4c-e708-4c8d-8834-07f3f6876a91', 'b52a42d3-6d9d-40dd-b967-6c562858c5e2', '4b5d943e-e2d1-4e4f-af98-d0b22ecc7299', '04bd28d1-0792-44f4-a279-2dece147a9af', 'c01c6b21-4fef-4d52-9c73-14b36af979d1', 'beb382d1-1be5-4e84-aa92-da6fb45974d9', '8bf99cd5-4731-4adf-9370-6eb53786aa8c', 'b0c1abab-eebc-4ca6-b5ac-ef844fafad5f', '85651f78-6418-4444-a368-d4ac11c7a212', 'd751e46b-d981-4822-b1db-0da393f5eb5f', '991bfe72-2643-4616-9e2d-4694bdaf039f', '9e2bd729-00fc-4a0c-9785-8144d838df0f', 'c0227518-fff4-43ef-a01d-40d92984423d', '340961e4-e3d2-4da0-b2f3-02e0aab46c21', '36f9de55-6838-4b59-9d56-9c4c2ed67f27', '6173b1b0-00a0-4307-84b0-9fcc06ec5674', '1d666fee-4525-47a2-b8bc-97aaaec1ed3c', 'f035ebd6-9834-4c30-a109-abcf43489f79', '0865f631-7599-49bf-a6a9-f9698a321858', '7f41d0d2-a537-4e26-bce4-a7a1aff175a2', '1aa487b2-9f1d-4ee1-ac18-5f26bd7ee8a3', 'de93d5d2-def8-440d-ab28-fc7f15a74499', 'bbfd9a55-dd3f-4456-96c7-50a66602d0bb', '42c80d1c-0f6b-4361-87be-0f590a1e6d0c', '42f596e0-0136-46aa-bdda-edaa99bda543', '4d3f3917-6db7-432b-9c2d-fcde5dbe0201', '543bb3a1-d6ad-40ce-bb81-30eb0568a305', '10a0ce5f-35ff-458d-a8ea-b8327c452f84', '1fc9f201-8acc-4165-9534-3fc88f7c67d0', '39a1905e-d044-4293-a0b2-2021e29d085f'])\n",
      "point ids 49\n",
      "Removed: 49 Filled: 49\n",
      "TOOK 233.14568996429443 seconds\n",
      "***\n",
      "RUN: 2\n",
      "Epoch 1/100\n",
      "6/6 [==============================] - 12s 2s/step - loss: 0.5752 - dice_coeff: 0.7777 - val_loss: 1.3998 - val_dice_coeff: 0.4467\n",
      "Epoch 2/100\n",
      "6/6 [==============================] - 7s 1s/step - loss: 0.5626 - dice_coeff: 0.7796 - val_loss: 1.4401 - val_dice_coeff: 0.4333\n",
      "Epoch 3/100\n",
      "6/6 [==============================] - 7s 1s/step - loss: 0.5365 - dice_coeff: 0.7857 - val_loss: 1.4502 - val_dice_coeff: 0.4307\n",
      "Epoch 4/100\n",
      "6/6 [==============================] - 7s 1s/step - loss: 0.5811 - dice_coeff: 0.7768 - val_loss: 1.2972 - val_dice_coeff: 0.4947\n",
      "Epoch 5/100\n",
      "6/6 [==============================] - 7s 1s/step - loss: 0.5229 - dice_coeff: 0.7921 - val_loss: 1.8111 - val_dice_coeff: 0.3171\n",
      "Epoch 6/100\n",
      "6/6 [==============================] - 7s 1s/step - loss: 0.5605 - dice_coeff: 0.7812 - val_loss: 1.9716 - val_dice_coeff: 0.2794\n",
      "Epoch 7/100\n",
      "6/6 [==============================] - 7s 1s/step - loss: 0.5223 - dice_coeff: 0.7932 - val_loss: 1.4017 - val_dice_coeff: 0.4576\n",
      "Epoch 8/100\n",
      "6/6 [==============================] - 7s 1s/step - loss: 0.4622 - dice_coeff: 0.8105 - val_loss: 1.6452 - val_dice_coeff: 0.3869\n",
      "Epoch 9/100\n",
      "6/6 [==============================] - 7s 1s/step - loss: 0.4474 - dice_coeff: 0.8161 - val_loss: 1.2535 - val_dice_coeff: 0.5132\n",
      "Epoch 10/100\n",
      "6/6 [==============================] - 7s 1s/step - loss: 0.5288 - dice_coeff: 0.7904 - val_loss: 1.6546 - val_dice_coeff: 0.3785\n",
      "Epoch 11/100\n",
      "6/6 [==============================] - 7s 1s/step - loss: 0.5002 - dice_coeff: 0.8027 - val_loss: 1.1772 - val_dice_coeff: 0.5400\n",
      "Model saved to /tmp/tmptqp03lb5GP2/unet_2.model\n",
      "History saved to /tmp/tmptqp03lb5GP2/history_2.pickle\n",
      "Testing the classifier...\n",
      "48/48 [==============================] - 5s 105ms/step - loss: 1.1490 - dice_coeff: 0.5484\n",
      "Testing the discriminator...\n",
      "10/10 [==============================] - 0s 46ms/step - loss: 0.0000e+00 - accuracy: 1.0000\n",
      "Found 164 machine labels.\n",
      "Machine labels [  1   2   4   6  10  11  12  13  15  17  18  19  20  21  22  23  28  29\n",
      "  31  33  37  38  39  40  42  45  50  51  53  54  55  56  57  58  59  64\n",
      "  66  68  69  70  75  76  81  82  83  84  85  86  87  88  89  91  93  94\n",
      "  95  98 100 101 103 105 106 107 111 112 115 116 117 119 120 121 126 128\n",
      " 130 131 137 138 139 140 142 144 145 147 149 155 157 158 159 160 161 162\n",
      " 164 166 167 169 170 172 173 177 180 182 183 187 188 189 190 191 195 197\n",
      " 200 201 202 203 204 207 208 215 216 217 219 222 223 224 225 226 227 228\n",
      " 229 230 233 234 235 236 237 240 242 249 250 251 252 255 257 260 263 264\n",
      " 266 267 270 273 274 282 286 287 291 293 295 296 297 298 299 301 302 303\n",
      " 304 305]\n",
      "D_ids ['22edc2e7-f797-4b3c-86ff-3b9a8870b3ff', 'e83f46eb-1c36-4ddb-b62d-3f9e824d5475', '4e244701-4e94-4143-8d47-94b024a6b5a1', '4faccdb5-df92-4f5a-8ec0-93725b33d1d2', '83f56eff-ff82-4e1c-902f-78ce0c217db8', '50b1a731-88cd-466c-928f-6f3631a95987', 'eba95ced-a98e-459e-86b6-d2ce6dd6ac18', '62793ac4-0f50-40c9-871f-19e6822a4f5e', 'f069c655-bd08-49d5-a7e4-4ff9e5d16ce1', 'ccad7670-168d-4078-aeb6-d96a53138e8a', 'b665ed71-21e8-43ae-937f-306d270c185c', 'a24e497c-b40a-42ea-acc4-ec35124d93b7', 'b1609b33-2127-4de2-8e27-500187be8e26', 'd3aebac3-57af-4525-8554-62908ffc5dd0', 'ff97fd7e-930e-45f6-85ef-ccaf4059d3c4', '6cbe7188-ba9f-4206-a082-433c954128e7', 'e27ee7da-46af-46de-9ec2-d41a556d274c', '6ceae15d-f2b2-40cb-9461-ed83cd6daa2a', '3084f531-713e-4897-b39c-edcc1bd7a0ab', '35918986-8a95-43b6-a598-15b3a7698eeb', 'd6749119-7bdd-4561-a93c-2f602a9c5a9e', '8ee1e63f-177c-40e3-9932-692b6fd0fd5d', '7e9a8537-71d9-4c8f-90f1-7d4dc2935f8b', '445a9f57-65bf-4534-814d-fa51aa8393d5', 'a7132bc8-1084-4479-8c9e-e10464bc6e84', '795b2f79-11e1-4077-8da3-c08713b8db97', '9170fcda-14d9-40b5-99b0-0e7f7aaf34a5', 'f55a92c2-c304-450f-a9e1-254b677165a1', 'b294b0dd-8457-4b59-8dd9-d75d7cdba575', '53cfe4dd-5495-431e-8425-b40525190b81', 'dd6358a7-7f74-480f-a6b8-2015fe879efb', 'e7b1502d-ad9a-4625-a299-7f6d3f0a220f', '715ccf88-f01f-4fcd-b11c-bfdba26785f7', '491b2812-70d5-4592-a323-5b596d68fac6', '4333c450-0cab-41e0-bc13-138c4acacfb0', 'f751db0f-9ca5-47d8-af87-ee92a236ff3a', '604d82c6-b0a3-4a7c-adbe-4d06f555648e', '48290628-4316-4b09-93c1-8810a5c29d93', '4dcd8202-69f7-42d7-8884-72d42a34f0c7', '5b9e34bd-cdbd-4cfe-870b-83157040774d', 'c17440b9-ff58-48e4-b5fe-755a6fcc9ba4', '1987cb8a-1c38-489d-be95-af109e83d8ef', 'f31d716a-7723-435d-b08e-ed6f9aeb458b', '2e9d1164-1fb1-44f1-8304-5ec3be7be8f4', '553ad650-76ad-4e9e-a294-e93f7497e42f', '6495ba23-3733-4e06-a23a-934269a2a5c8', 'cbf5dc82-c33d-4ca0-a009-2d9b96ea4bc1', '87106b23-6f1b-471f-ac6d-0ab54728b29b', '14effad4-200b-472b-b6a9-878b2ad3df8f', '02fff5ef-cbde-4de3-89ba-ba3f4da4466a', '3b43d0aa-cb14-43ad-92e8-390ee33f2f9d', '8d9113da-4660-4ce3-a6e2-6f79c437ba60', '26b82f75-65f2-4c02-a06d-0450c3ab71e5', 'f7dce3ca-29ab-492e-ae14-ac1492074fc5', '8d05c6b5-d2fe-4065-89fb-c1ebabe4815e', '02567415-d960-4913-b20c-835f3d576c0e', '1545e794-c91c-47c0-a255-a67c466e3d18', '2b47a70c-876f-4772-95a4-474bd8f75e8c', '80e93af4-cf41-4c0e-8169-f052ba39d48f', '046c2233-376c-4805-98b7-77bf1a3f471f', '805ab8b0-61d2-4c8f-ae10-596679981dc7', '397b32c0-ba8f-4205-90b8-8e3ef0268797', '66f2463d-fec8-46f3-b719-7d416beb0a79', '023586f0-e769-4031-9a38-94d70286a193', '4d902fb6-9c6d-433f-9a47-088961da6c11', '0546a649-2114-429f-9dd4-054211b7b8af', 'a60fdbe1-3af9-439b-a009-fb1c4ae39cee', 'dda3f1a6-2551-4c03-aaac-49130e334937', 'c657f361-b7da-4e29-b683-98d4e4f587d9', 'ce0f24f2-22b4-48e8-9224-4dd33127f409', '490240df-45ae-4e1c-b86a-c8191e661457', '736ccb67-5800-43cb-b263-d39d8b11a919', '099458d5-6f9e-4545-a113-12f6bcf0e642', '107db9bb-dacb-4f7d-aaf9-154429661635', '19ce3c01-6071-4119-af61-2d0ba4bf790b', 'f37a71bf-b65b-4933-bed4-2f99a9b12162', '78d45933-5a1d-4fcf-af99-e3d8edf617cc', '7f24a95b-07b8-465a-8cd6-a722f33fbbc1', '3b074996-1dc1-4a95-8101-c67c2a39103d', '8363549e-ba42-4773-acb5-0f4e91befffe', '1bc5b985-5430-4128-83be-a4b788ba74e1', '251f35fb-82d8-43a1-9970-f2c9b53ee7c3', 'af29cbc6-8a06-4c95-aa46-9a367f51b0b9', 'af0fae78-e60e-4f71-988a-97ce23f43a44', '2ca351cc-851d-450c-8350-a9e0f5c614ab', '400bffbf-67f3-45b0-8b0c-8d9aeb977648', 'f33c95e8-c951-4e4b-a48c-50a6f08cd20c', 'c78271e8-2836-4e95-ba3b-e23b8476567f', '13819683-962e-4ab1-9a81-d388734b77ec', 'fb800665-ede7-4f2f-888f-35c4c54e4a45', '4db1dd09-0e60-4580-9bfe-9669c7486a41', 'db76e658-ca69-4012-81be-73dc1b3828c0', 'e36b1614-8329-4e43-8ed2-f13d4f477cd7', 'bebc1148-f1df-4838-9fb2-b3fe7c364ca7', '44a25e62-ca51-4b79-8bb4-25a7e7591542', 'a704c257-84e3-4809-9bab-a38b90c73da9', '58b7c518-426d-4e87-9e3f-f6af24ad69b8', 'f26090c8-9c6b-4c18-8ebb-66161f95efcb', 'e7aef067-0f2b-452e-8575-3c76daee2388', '53e48a6b-5cfe-4f08-80dc-4a8b459701b6', 'd9d15e20-e509-4de4-bfd6-6decdf3de5c1', 'fbe8986c-9054-48d0-810c-d508309e193f', '3ce70949-8b77-4c96-a125-1075cbd527f6', 'c2c250d1-f49a-4e7c-84cf-f5aec8c96f71', 'cc3447fd-f518-4536-9818-ec0784cd7b36', '80a5250b-be0a-4d7a-a40c-d31589cdc838', 'af11c9db-8a24-4dad-b200-e3a9713608a9', '13d1be7e-96d5-488d-a98f-7357e3f68d4f', '3edab1d4-acd2-402f-b5b8-2f31ffc2d54e', 'dd1033a6-072d-4e56-93ad-1f837faf0fd8', '230237e2-65e2-40d1-ba2b-09881db69e01', '9ee4b4f3-f074-44fa-ba5c-2789e3de48a0', '3bcae195-a0bf-4189-8ab2-0d6ecca1204b', 'cdc4db3d-c6a3-4a6e-b8bb-72b63a0c18c0', '55d03d2f-773b-4c4d-8398-51aa0908f691', '01631f93-2aa5-46e7-86de-8611a9d4dde5', '2b9b68f2-6da6-40e6-aae1-7c53ba2c18c8', 'ea9a8e3f-be65-4d7c-a392-507a1f5806f6', '520881e8-7435-44c5-8610-6f7a151b826e', '1aca8082-6a9d-4735-9ec5-766138df6eb4', '9460d628-b7ca-4efc-9161-b7e8770471ef', '42b124c0-f702-4f72-a43e-7f7de2249fdf', '03a36cf2-2a90-49a5-8e4c-03069237117c', '3e32b063-6f3b-450e-8f7d-c43437f913c1', '13f6ed8e-6b58-4c93-b3dd-43e1f9d30d34', '65fb33b2-589c-4717-81ba-8d305306f7c8', 'e225ffc8-4c9f-4189-9a01-7b3c21c4189f', '3d4dd01b-0bee-4bf7-8a48-8b721a0f3cf3', 'eae19b8a-5dac-4e01-a94b-924ed5b54b47', 'af19b7e1-fcc8-452c-8af9-724d69db6e8d', '1f1e0e20-9cc3-4903-8c4f-b1d4f41dbb13', '35ffbee3-2ff3-4001-b86a-2193ed1831a4', 'ff38ba8b-6988-4deb-a34c-d1c34ac41ad4', '304f629d-7d1b-4dd6-b9d8-aeea63f74a34', '586a68ea-b255-421e-8bea-b022d48ecf2a', 'a2bd0000-b5f6-44ca-9819-c138dfd9ff71', 'bcb3f489-81a6-4ef9-8edf-a2903763d272', '1fb5430e-d0c4-4714-bb94-0a146350555b', '4e26d683-a9e6-4c13-9a39-5bd27301f843', '79b5eb5c-4e58-4562-8f78-6737893171c8', '4aad0949-e3ae-4983-884c-4db34570d988', '112b6b1e-a925-4cc7-9ac3-f9034b93276f', 'fd29aefb-b3a6-481f-8ec7-620b98c27bd0', '8438c3a6-55c1-4fac-8f73-eacdbe877a10', '5b295d6e-2dc7-413a-a561-42fe2776449b', 'be158ea7-cc66-48b0-9fbb-05e88bbac3c1', '7360ba0e-16ab-490c-92b8-86d7a4237b04', 'dabb22e2-d12d-4ee0-99e2-c555ebc404d1', 'e77e8277-6294-44c0-9ca8-673f9a525a54', '105743ce-b5cb-4154-8331-ea8ea1400391', '485e0e9a-5816-4c2a-9589-4603794f7bd1', '373e9a53-c6d9-4483-a145-a86406a94dce', 'ad0f5f7b-7705-4c67-b104-1ac97fe896a7', 'f1865fd2-6637-4223-ba07-05039ca39fe9', 'b5b52e86-6fc1-4bb3-9ad3-b0ee98f953cf', '318f2ecb-56e2-4bf9-a48c-c1962e2dafac', 'af90a4f5-866c-4d99-b67e-a1290d5c2973', '9dca914e-2506-40c1-aade-9bd298f4e8dd', '712b2559-5278-4497-88fc-0c0b0210d3a9', '2f952b0d-47d0-4091-b3ae-2de41d5bf7f2', 'f9c325b6-1690-4028-948c-1f4f865a345f', '777fff31-fb15-4a25-bcef-1d4d202c7480', '7c50f2b9-7509-4c27-849a-6ce6b3f07969', '7333587f-1fd1-49cb-a7aa-24230fda5942']\n"
     ]
    },
    {
     "name": "stdout",
     "output_type": "stream",
     "text": [
      "Replacing 54 from 164 !\n",
      "D_relabeled_ 54\n",
      "selected_ids ['4faccdb5-df92-4f5a-8ec0-93725b33d1d2', 'ad0f5f7b-7705-4c67-b104-1ac97fe896a7', '01631f93-2aa5-46e7-86de-8611a9d4dde5', 'f9c325b6-1690-4028-948c-1f4f865a345f', 'c17440b9-ff58-48e4-b5fe-755a6fcc9ba4', 'b294b0dd-8457-4b59-8dd9-d75d7cdba575', 'eba95ced-a98e-459e-86b6-d2ce6dd6ac18', '1987cb8a-1c38-489d-be95-af109e83d8ef', '13f6ed8e-6b58-4c93-b3dd-43e1f9d30d34', '02fff5ef-cbde-4de3-89ba-ba3f4da4466a', 'dabb22e2-d12d-4ee0-99e2-c555ebc404d1', 'ce0f24f2-22b4-48e8-9224-4dd33127f409', 'f33c95e8-c951-4e4b-a48c-50a6f08cd20c', '3d4dd01b-0bee-4bf7-8a48-8b721a0f3cf3', 'f1865fd2-6637-4223-ba07-05039ca39fe9', '1bc5b985-5430-4128-83be-a4b788ba74e1', 'b665ed71-21e8-43ae-937f-306d270c185c', '8ee1e63f-177c-40e3-9932-692b6fd0fd5d', 'ff38ba8b-6988-4deb-a34c-d1c34ac41ad4', '7333587f-1fd1-49cb-a7aa-24230fda5942', '604d82c6-b0a3-4a7c-adbe-4d06f555648e', '3edab1d4-acd2-402f-b5b8-2f31ffc2d54e', '7360ba0e-16ab-490c-92b8-86d7a4237b04', 'd9d15e20-e509-4de4-bfd6-6decdf3de5c1', '53e48a6b-5cfe-4f08-80dc-4a8b459701b6', 'af19b7e1-fcc8-452c-8af9-724d69db6e8d', '8363549e-ba42-4773-acb5-0f4e91befffe', '2e9d1164-1fb1-44f1-8304-5ec3be7be8f4', '3b43d0aa-cb14-43ad-92e8-390ee33f2f9d', '87106b23-6f1b-471f-ac6d-0ab54728b29b', 'f751db0f-9ca5-47d8-af87-ee92a236ff3a', '1f1e0e20-9cc3-4903-8c4f-b1d4f41dbb13', '3e32b063-6f3b-450e-8f7d-c43437f913c1', '2b47a70c-876f-4772-95a4-474bd8f75e8c', 'af0fae78-e60e-4f71-988a-97ce23f43a44', 'a24e497c-b40a-42ea-acc4-ec35124d93b7', 'fb800665-ede7-4f2f-888f-35c4c54e4a45', 'b5b52e86-6fc1-4bb3-9ad3-b0ee98f953cf', 'bcb3f489-81a6-4ef9-8edf-a2903763d272', '490240df-45ae-4e1c-b86a-c8191e661457', '14effad4-200b-472b-b6a9-878b2ad3df8f', '78d45933-5a1d-4fcf-af99-e3d8edf617cc', '712b2559-5278-4497-88fc-0c0b0210d3a9', '7e9a8537-71d9-4c8f-90f1-7d4dc2935f8b', 'af11c9db-8a24-4dad-b200-e3a9713608a9', '80e93af4-cf41-4c0e-8169-f052ba39d48f', '112b6b1e-a925-4cc7-9ac3-f9034b93276f', '65fb33b2-589c-4717-81ba-8d305306f7c8', '55d03d2f-773b-4c4d-8398-51aa0908f691', '4e244701-4e94-4143-8d47-94b024a6b5a1', 'c78271e8-2836-4e95-ba3b-e23b8476567f', '4e26d683-a9e6-4c13-9a39-5bd27301f843', 'fd29aefb-b3a6-481f-8ec7-620b98c27bd0', '58b7c518-426d-4e87-9e3f-f6af24ad69b8']\n",
      "dict_keys(['4faccdb5-df92-4f5a-8ec0-93725b33d1d2', 'ad0f5f7b-7705-4c67-b104-1ac97fe896a7', '01631f93-2aa5-46e7-86de-8611a9d4dde5', 'f9c325b6-1690-4028-948c-1f4f865a345f', 'c17440b9-ff58-48e4-b5fe-755a6fcc9ba4', 'b294b0dd-8457-4b59-8dd9-d75d7cdba575', 'eba95ced-a98e-459e-86b6-d2ce6dd6ac18', '1987cb8a-1c38-489d-be95-af109e83d8ef', '13f6ed8e-6b58-4c93-b3dd-43e1f9d30d34', '02fff5ef-cbde-4de3-89ba-ba3f4da4466a', 'dabb22e2-d12d-4ee0-99e2-c555ebc404d1', 'ce0f24f2-22b4-48e8-9224-4dd33127f409', 'f33c95e8-c951-4e4b-a48c-50a6f08cd20c', '3d4dd01b-0bee-4bf7-8a48-8b721a0f3cf3', 'f1865fd2-6637-4223-ba07-05039ca39fe9', '1bc5b985-5430-4128-83be-a4b788ba74e1', 'b665ed71-21e8-43ae-937f-306d270c185c', '8ee1e63f-177c-40e3-9932-692b6fd0fd5d', 'ff38ba8b-6988-4deb-a34c-d1c34ac41ad4', '7333587f-1fd1-49cb-a7aa-24230fda5942', '604d82c6-b0a3-4a7c-adbe-4d06f555648e', '3edab1d4-acd2-402f-b5b8-2f31ffc2d54e', '7360ba0e-16ab-490c-92b8-86d7a4237b04', 'd9d15e20-e509-4de4-bfd6-6decdf3de5c1', '53e48a6b-5cfe-4f08-80dc-4a8b459701b6', 'af19b7e1-fcc8-452c-8af9-724d69db6e8d', '8363549e-ba42-4773-acb5-0f4e91befffe', '2e9d1164-1fb1-44f1-8304-5ec3be7be8f4', '3b43d0aa-cb14-43ad-92e8-390ee33f2f9d', '87106b23-6f1b-471f-ac6d-0ab54728b29b', 'f751db0f-9ca5-47d8-af87-ee92a236ff3a', '1f1e0e20-9cc3-4903-8c4f-b1d4f41dbb13', '3e32b063-6f3b-450e-8f7d-c43437f913c1', '2b47a70c-876f-4772-95a4-474bd8f75e8c', 'af0fae78-e60e-4f71-988a-97ce23f43a44', 'a24e497c-b40a-42ea-acc4-ec35124d93b7', 'fb800665-ede7-4f2f-888f-35c4c54e4a45', 'b5b52e86-6fc1-4bb3-9ad3-b0ee98f953cf', 'bcb3f489-81a6-4ef9-8edf-a2903763d272', '490240df-45ae-4e1c-b86a-c8191e661457', '14effad4-200b-472b-b6a9-878b2ad3df8f', '78d45933-5a1d-4fcf-af99-e3d8edf617cc', '712b2559-5278-4497-88fc-0c0b0210d3a9', '7e9a8537-71d9-4c8f-90f1-7d4dc2935f8b', 'af11c9db-8a24-4dad-b200-e3a9713608a9', '80e93af4-cf41-4c0e-8169-f052ba39d48f', '112b6b1e-a925-4cc7-9ac3-f9034b93276f', '65fb33b2-589c-4717-81ba-8d305306f7c8', '55d03d2f-773b-4c4d-8398-51aa0908f691', '4e244701-4e94-4143-8d47-94b024a6b5a1', 'c78271e8-2836-4e95-ba3b-e23b8476567f', '4e26d683-a9e6-4c13-9a39-5bd27301f843', 'fd29aefb-b3a6-481f-8ec7-620b98c27bd0', '58b7c518-426d-4e87-9e3f-f6af24ad69b8'])\n",
      "point ids 54\n",
      "Removed: 54 Filled: 54\n",
      "TOOK 173.45829343795776 seconds\n",
      "***\n",
      "RUN: 3\n",
      "Epoch 1/100\n",
      "7/7 [==============================] - 12s 2s/step - loss: 0.5435 - dice_coeff: 0.7912 - val_loss: 1.3524 - val_dice_coeff: 0.4837\n",
      "Epoch 2/100\n",
      "7/7 [==============================] - 8s 1s/step - loss: 0.5064 - dice_coeff: 0.7995 - val_loss: 1.4782 - val_dice_coeff: 0.4341\n",
      "Epoch 3/100\n",
      "7/7 [==============================] - 8s 1s/step - loss: 0.4709 - dice_coeff: 0.8048 - val_loss: 1.7305 - val_dice_coeff: 0.3584\n",
      "Epoch 4/100\n",
      "7/7 [==============================] - 8s 1s/step - loss: 0.4814 - dice_coeff: 0.8057 - val_loss: 1.3004 - val_dice_coeff: 0.5067\n",
      "Epoch 5/100\n",
      "7/7 [==============================] - 8s 1s/step - loss: 0.5017 - dice_coeff: 0.8037 - val_loss: 2.1703 - val_dice_coeff: 0.2912\n",
      "Model saved to /tmp/tmptqp03lb5GP2/unet_3.model\n",
      "History saved to /tmp/tmptqp03lb5GP2/history_3.pickle\n",
      "Testing the classifier...\n",
      "48/48 [==============================] - 5s 99ms/step - loss: 2.2440 - dice_coeff: 0.2591\n",
      "Testing the discriminator...\n",
      "10/10 [==============================] - 0s 40ms/step - loss: 12.6104 - accuracy: 0.9379\n",
      "Found 139 machine labels.\n",
      "Machine labels [  1   2   3   4   5   6   9  11  15  18  23  24  25  27  31  32  33  35\n",
      "  40  42  45  49  51  52  58  59  60  61  62  63  65  66  67  68  71  74\n",
      "  75  77  79  81  83  86  87  89  92  95  97  98  99 100 101 105 107 109\n",
      " 110 113 114 117 118 123 125 127 128 130 131 133 136 138 139 141 148 149\n",
      " 150 154 155 157 165 166 167 174 177 178 179 181 183 184 187 188 190 191\n",
      " 194 198 200 204 205 207 208 209 212 214 216 220 221 222 224 228 233 234\n",
      " 238 244 249 251 256 261 262 263 264 265 267 268 269 271 276 277 278 279\n",
      " 283 286 287 288 290 291 292 294 295 296 300 303 304]\n",
      "D_ids ['ec89bae5-e967-4c63-ab1e-24ab226528c2', 'c7c47f70-3d99-48fc-8ef0-fedc469d0a8b', '5445c4e1-b223-43e5-94b6-f9770458ea5c', '2f356e12-a96b-4e8b-9adc-c804856a01d1', '69586d07-fe7c-4ede-943d-4ea7824757d8', '0981e1f4-82db-4ec8-be6e-d66a5e7d638a', '05c8e4c4-33c8-4979-ad6b-732cac1f515b', 'd6749119-7bdd-4561-a93c-2f602a9c5a9e', '5691735d-cc29-48b3-8029-29f78cec27d8', 'e70d6cf9-6d4d-4fa3-8885-20ea3ae04438', '1f76da17-dea6-42c9-a88d-8d6af2d9d74b', '94f0d9f8-d8f3-46a9-8aee-a79fbe77e9b4', 'b8bd7aef-2c4f-4485-aea9-0a990a297e67', '8d05c6b5-d2fe-4065-89fb-c1ebabe4815e', '4be04df2-c9e4-4802-96b9-a2d76b3c1ad9', '52fc1d60-6bfd-433d-98a1-c03cdc49094c', '99d4bc50-280c-4a1b-b4cd-e21cc6f6070b', '1a957657-b233-4ffb-9aaa-fdc22c701db7', 'b8581ad0-4db4-4f63-a304-b49900f0b9a5', '5a3be0fc-5386-444e-91ae-5d249c56c75f', '54a4ac2a-755a-415e-9acf-43c8f900cc9a', '034648e0-a895-4111-9277-67020c4dd254', '6f2b1b79-ab0b-40e0-a0e2-bf4cf8040cef', 'e20248f5-92cf-4fb7-9ea9-72d207987873', '77fd5894-4b18-4d77-966d-5347fa3c02f0', 'd2eb89b8-adb6-48c9-8d11-083ff636cb8d', '525501ba-0d3d-4014-affb-a8283c79b860', '57f4b248-0b17-4bb5-bc4a-3baa266bda8e', '3d81b4e7-e53a-48f2-916f-0d09494683b3', 'a9f1acf7-d190-47b4-a1dd-d999db7e203b', 'ec6312de-58ca-46de-902b-b9e74c55419a', '4333c450-0cab-41e0-bc13-138c4acacfb0', '60bd7a54-cc67-48b5-a440-c1ac3c30f443', '5a7058d9-3c5f-4cf2-a5a0-af216dc22041', '11b86429-7f84-435a-be2c-5d60ac058008', '263a3992-5a4d-4ac5-98a7-5a6153aab13b', '630bbf5a-55a1-4bb1-9e75-1b2145404e06', '505a17c2-33e8-452e-aeb8-b31fb419afbc', '1240bb6f-ca19-4cef-bdea-ed5c57f7152b', '485e0e9a-5816-4c2a-9589-4603794f7bd1', '625e4403-5b50-4277-995e-a277da2ef469', 'b1641364-be4e-4803-a50f-c7c2ca0a1735', '4055a6c5-5308-4aff-ac79-b47a3c94660a', 'a8b101cb-b6d4-4cd3-b032-982b2f1617bf', '013740aa-54d9-49e5-ad59-1512ec3334b8', 'c657f361-b7da-4e29-b683-98d4e4f587d9', '4fae881c-a0cf-4d28-9cd1-95a905d1a9e6', '467d9721-a4d4-463f-8007-45a4a34fe2e5', '2f952b0d-47d0-4091-b3ae-2de41d5bf7f2', '75b8311c-0ef4-4a5e-8971-27ea0176217a', 'b3d45b06-4ae5-4a56-b244-d9d7011faaa9', '60602b6c-c345-4a56-b69a-f126335d97ad', '3f9f9df5-ee30-4794-9754-526a1b6e095c', 'd2071c81-41ba-46f6-9ddb-315d1462298e', 'e225ffc8-4c9f-4189-9a01-7b3c21c4189f', '687045ca-0604-423c-a1ab-4db8f69b2a09', '8f64cb41-e33d-4810-b802-2c046e851b33', '60fdb8a0-17e7-43b5-a1b6-30cefec1ba19', '318f2ecb-56e2-4bf9-a48c-c1962e2dafac', '3a88a852-5369-4327-96c3-f91539c7e7c7', '786650af-28d2-41e5-b8cf-ee1926b0814c', '6edca591-5306-4995-936d-401aaaf1a446', 'fce32d8b-ceb8-4f0b-bc5a-2f6abe3beada', '3fea3957-ceee-4336-a6bc-a5d634342621', '5077a9e1-9a33-4e75-9a7e-4907a8195fa7', '7b70e36d-d36a-4fb8-bc72-f03e527d960f', '6cbe7188-ba9f-4206-a082-433c954128e7', 'e27ee7da-46af-46de-9ec2-d41a556d274c', '52f938d7-4b30-41a9-92cf-c2716afd8a14', 'a11fc904-ecea-4596-80ad-516b098e873c', '61de9904-23ba-421d-8573-4cf1ae01debd', '97f68a51-ffd5-47a4-8689-1840e439a47f', '409f3a08-0832-4def-bfd3-a4fc9e5bbfec', 'a109fbf7-c405-47a5-9ea7-30f1e07f4bcc', 'a8284c47-61fa-4f0e-b513-f6a8a07151c4', '5311bad9-f467-476b-932f-aa1a3b885d56', '63ba298d-6ce9-4464-bb71-d0b39a84abc8', '7ed1228b-6558-47d6-9694-04683e908a9f', 'bf76a1ed-630c-4719-94b3-1f1d76e908c5', 'f4238a15-3e51-4abe-b4f3-291a9e8fc703', 'aef94cd3-7bc8-4c86-89f2-043e28ec0e78', '78f8745e-dbc5-44a8-8ccf-e1323a4060f6', '89b43f65-6053-4635-bfec-c1f096bb4156', '85de32af-bb81-45a4-b148-e4c298a362e2', 'a1a6aaa0-c874-47c8-93f1-cbcd27f7a433', '66f2463d-fec8-46f3-b719-7d416beb0a79', 'ea8ffd06-2b29-41c2-8ad5-6b6446de2ea5', 'b1609b33-2127-4de2-8e27-500187be8e26', '71f4aed7-9497-4f5b-a6ec-64f9ab7bd24d', '53f4b32d-67b4-47e5-a016-7b4ba0cdf5d3', '63201229-bae2-4c8d-9a90-354061e0f35a', '8feff686-4e86-41c3-9161-45c380de01ad', '15a94136-af02-418f-ae22-d5b4f70327f3', '1ee33a08-94e2-45e2-a767-80839945e7f3', 'effec2f9-1e0f-4ef9-8ac9-f269a3c6d799', '94a54dcd-fce7-48cf-8482-fee21bf873b6', '4e867ac4-a99f-4860-981f-79db17b19144', '8986a795-211b-4e0f-b5d4-6deb2cba160b', 'b11449a1-4236-45ec-aaf3-d408baeac240', '81fe9002-341a-48ce-91b7-428624e4b798', 'a704c257-84e3-4809-9bab-a38b90c73da9', '4bdf252e-672d-4d39-86f9-8e132a76b29e', '777aff93-76cf-43fa-9167-e465014d13df', '52cb04e8-9080-4a14-84ab-e704b3f5b181', '251b254d-1173-4733-b2b6-ec4f7676a224', 'b41412c6-3193-4ef1-b953-5fcb42be4087', 'b3cf7b2d-ebb3-408a-8487-4a3e11e7cd62', 'bdd83dac-d66e-4b99-a84f-07c3e16e0ee4', '6b0de704-5bfd-4c1c-a677-c9a28735252d', '24cacb94-e47e-45da-8971-2a2fdd1dd6d2', '3f02bd00-627d-4d84-aa1f-0d1a4ce6f4b4', 'd40c4f35-ac08-4ef1-a23b-e9c0ecd08307', '4a4de348-17c1-4e90-bcbf-5420d4cdfdaf', '6ceae15d-f2b2-40cb-9461-ed83cd6daa2a', '1ddcaf7c-9cf7-481c-a2a0-5cd06401ac52', 'e733b4c1-cd62-4375-9781-3a511b93a7dc', '1bbfe990-6651-4c64-b8b2-bd3ce63f2904', '0641ba22-f024-4ac0-b640-3394529465e3', '1c835876-6244-406b-bb15-c343858e41a7', '2c515a7a-b019-4ff5-81b9-fdcc1c3894c7', '99139a04-0ba4-48cb-a699-b405c8443db1', '27aece33-eaf5-4245-8b2e-6f9ff20cc73e', '7d5f35b9-9cd9-4766-b3a4-9dbc84f459de', '8b4e86b0-7bfb-4b97-8a52-3680a2e90397', '8ba8cebf-eb08-4930-a26f-232af9018538', '008d364c-d3db-4eba-9b8b-9d2a0ad73928', '665abb55-2589-4e9e-969b-10a117ccc742', 'a53e7f1e-251b-4933-9d43-8ee95e72a411', '22edc2e7-f797-4b3c-86ff-3b9a8870b3ff', '259db9b8-29b6-4290-bd93-cc8c44f30b09', 'b88cbfb1-2b8b-4e97-8530-0aa0f41aa5b5', 'dce0861d-64c8-4488-849e-a396a2a65784', '618f64ef-ec5f-4661-9757-cf50ff3803a7', '2cbb5fc6-7197-42a1-bb9d-dd1694934d7a', '7224f89a-577c-4d86-ac0c-cedbd9d02dfd', '6de2f42f-2279-4889-8bb6-a402b3268f5a', 'f7ecce63-d691-411b-a6a0-9cf606f35867', '0d562318-2bb4-4433-9379-43c6ad6233a3', 'f5dbda7e-b0db-4f91-9e09-c63d0dd84300']\n",
      "Replacing 46 from 139 !\n"
     ]
    },
    {
     "name": "stdout",
     "output_type": "stream",
     "text": [
      "D_relabeled_ 46\n",
      "selected_ids ['786650af-28d2-41e5-b8cf-ee1926b0814c', '630bbf5a-55a1-4bb1-9e75-1b2145404e06', '97f68a51-ffd5-47a4-8689-1840e439a47f', '777aff93-76cf-43fa-9167-e465014d13df', '1240bb6f-ca19-4cef-bdea-ed5c57f7152b', '8f64cb41-e33d-4810-b802-2c046e851b33', '52cb04e8-9080-4a14-84ab-e704b3f5b181', 'e27ee7da-46af-46de-9ec2-d41a556d274c', '525501ba-0d3d-4014-affb-a8283c79b860', '467d9721-a4d4-463f-8007-45a4a34fe2e5', 'a109fbf7-c405-47a5-9ea7-30f1e07f4bcc', 'b3d45b06-4ae5-4a56-b244-d9d7011faaa9', '4bdf252e-672d-4d39-86f9-8e132a76b29e', 'd6749119-7bdd-4561-a93c-2f602a9c5a9e', '6b0de704-5bfd-4c1c-a677-c9a28735252d', 'b8bd7aef-2c4f-4485-aea9-0a990a297e67', 'ea8ffd06-2b29-41c2-8ad5-6b6446de2ea5', 'c657f361-b7da-4e29-b683-98d4e4f587d9', '1bbfe990-6651-4c64-b8b2-bd3ce63f2904', '63201229-bae2-4c8d-9a90-354061e0f35a', '6f2b1b79-ab0b-40e0-a0e2-bf4cf8040cef', '3d81b4e7-e53a-48f2-916f-0d09494683b3', '1ddcaf7c-9cf7-481c-a2a0-5cd06401ac52', 'b1641364-be4e-4803-a50f-c7c2ca0a1735', '66f2463d-fec8-46f3-b719-7d416beb0a79', '1ee33a08-94e2-45e2-a767-80839945e7f3', '2f952b0d-47d0-4091-b3ae-2de41d5bf7f2', '61de9904-23ba-421d-8573-4cf1ae01debd', '485e0e9a-5816-4c2a-9589-4603794f7bd1', '4333c450-0cab-41e0-bc13-138c4acacfb0', 'a11fc904-ecea-4596-80ad-516b098e873c', '60602b6c-c345-4a56-b69a-f126335d97ad', '6de2f42f-2279-4889-8bb6-a402b3268f5a', '0981e1f4-82db-4ec8-be6e-d66a5e7d638a', '4e867ac4-a99f-4860-981f-79db17b19144', '0641ba22-f024-4ac0-b640-3394529465e3', '5a3be0fc-5386-444e-91ae-5d249c56c75f', '505a17c2-33e8-452e-aeb8-b31fb419afbc', '6ceae15d-f2b2-40cb-9461-ed83cd6daa2a', '99139a04-0ba4-48cb-a699-b405c8443db1', 'e20248f5-92cf-4fb7-9ea9-72d207987873', 'f4238a15-3e51-4abe-b4f3-291a9e8fc703', 'd2eb89b8-adb6-48c9-8d11-083ff636cb8d', '2cbb5fc6-7197-42a1-bb9d-dd1694934d7a', '618f64ef-ec5f-4661-9757-cf50ff3803a7', '1c835876-6244-406b-bb15-c343858e41a7']\n",
      "dict_keys(['786650af-28d2-41e5-b8cf-ee1926b0814c', '630bbf5a-55a1-4bb1-9e75-1b2145404e06', '97f68a51-ffd5-47a4-8689-1840e439a47f', '777aff93-76cf-43fa-9167-e465014d13df', '1240bb6f-ca19-4cef-bdea-ed5c57f7152b', '8f64cb41-e33d-4810-b802-2c046e851b33', '52cb04e8-9080-4a14-84ab-e704b3f5b181', 'e27ee7da-46af-46de-9ec2-d41a556d274c', '525501ba-0d3d-4014-affb-a8283c79b860', '467d9721-a4d4-463f-8007-45a4a34fe2e5', 'a109fbf7-c405-47a5-9ea7-30f1e07f4bcc', 'b3d45b06-4ae5-4a56-b244-d9d7011faaa9', '4bdf252e-672d-4d39-86f9-8e132a76b29e', 'd6749119-7bdd-4561-a93c-2f602a9c5a9e', '6b0de704-5bfd-4c1c-a677-c9a28735252d', 'b8bd7aef-2c4f-4485-aea9-0a990a297e67', 'ea8ffd06-2b29-41c2-8ad5-6b6446de2ea5', 'c657f361-b7da-4e29-b683-98d4e4f587d9', '1bbfe990-6651-4c64-b8b2-bd3ce63f2904', '63201229-bae2-4c8d-9a90-354061e0f35a', '6f2b1b79-ab0b-40e0-a0e2-bf4cf8040cef', '3d81b4e7-e53a-48f2-916f-0d09494683b3', '1ddcaf7c-9cf7-481c-a2a0-5cd06401ac52', 'b1641364-be4e-4803-a50f-c7c2ca0a1735', '66f2463d-fec8-46f3-b719-7d416beb0a79', '1ee33a08-94e2-45e2-a767-80839945e7f3', '2f952b0d-47d0-4091-b3ae-2de41d5bf7f2', '61de9904-23ba-421d-8573-4cf1ae01debd', '485e0e9a-5816-4c2a-9589-4603794f7bd1', '4333c450-0cab-41e0-bc13-138c4acacfb0', 'a11fc904-ecea-4596-80ad-516b098e873c', '60602b6c-c345-4a56-b69a-f126335d97ad', '6de2f42f-2279-4889-8bb6-a402b3268f5a', '0981e1f4-82db-4ec8-be6e-d66a5e7d638a', '4e867ac4-a99f-4860-981f-79db17b19144', '0641ba22-f024-4ac0-b640-3394529465e3', '5a3be0fc-5386-444e-91ae-5d249c56c75f', '505a17c2-33e8-452e-aeb8-b31fb419afbc', '6ceae15d-f2b2-40cb-9461-ed83cd6daa2a', '99139a04-0ba4-48cb-a699-b405c8443db1', 'e20248f5-92cf-4fb7-9ea9-72d207987873', 'f4238a15-3e51-4abe-b4f3-291a9e8fc703', 'd2eb89b8-adb6-48c9-8d11-083ff636cb8d', '2cbb5fc6-7197-42a1-bb9d-dd1694934d7a', '618f64ef-ec5f-4661-9757-cf50ff3803a7', '1c835876-6244-406b-bb15-c343858e41a7'])\n",
      "point ids 46\n",
      "Removed: 46 Filled: 46\n",
      "TOOK 112.78376746177673 seconds\n",
      "***\n",
      "RUN: 4\n",
      "Epoch 1/100\n",
      "8/8 [==============================] - 11s 1s/step - loss: 0.5005 - dice_coeff: 0.7909 - val_loss: 1.2006 - val_dice_coeff: 0.5560\n",
      "Epoch 2/100\n",
      "8/8 [==============================] - 9s 1s/step - loss: 0.5006 - dice_coeff: 0.7053 - val_loss: 1.6239 - val_dice_coeff: 0.4120\n",
      "Epoch 3/100\n",
      "8/8 [==============================] - 9s 1s/step - loss: 0.4764 - dice_coeff: 0.7952 - val_loss: 1.2162 - val_dice_coeff: 0.5514\n",
      "Epoch 4/100\n",
      "8/8 [==============================] - 9s 1s/step - loss: 0.4628 - dice_coeff: 0.7672 - val_loss: 2.0362 - val_dice_coeff: 0.3684\n",
      "Epoch 5/100\n",
      "8/8 [==============================] - 9s 1s/step - loss: 0.5501 - dice_coeff: 0.7852 - val_loss: 1.5626 - val_dice_coeff: 0.4605\n",
      "Epoch 6/100\n",
      "8/8 [==============================] - 9s 1s/step - loss: 0.5066 - dice_coeff: 0.7923 - val_loss: 2.8981 - val_dice_coeff: 0.1733\n",
      "Model saved to /tmp/tmptqp03lb5GP2/unet_4.model\n",
      "History saved to /tmp/tmptqp03lb5GP2/history_4.pickle\n",
      "Testing the classifier...\n",
      "48/48 [==============================] - 5s 100ms/step - loss: 2.8825 - dice_coeff: 0.1649\n",
      "Testing the discriminator...\n",
      "10/10 [==============================] - 0s 34ms/step - loss: 52.2053 - accuracy: 0.7190\n",
      "Found 72 machine labels.\n",
      "Machine labels [  1   5   6  13  15  16  17  22  33  36  40  51  52  54  62  68  69  71\n",
      "  87  94  97 101 121 122 126 128 131 134 142 145 153 159 163 165 166 167\n",
      " 168 169 173 175 182 183 192 196 198 201 202 212 214 216 223 224 226 233\n",
      " 240 245 248 259 260 261 277 279 280 286 287 289 292 295 296 300 302 304]\n",
      "D_ids ['1ecb5295-cc06-4019-b2e7-862976030265', '4cdfdb1e-05b7-4392-a94f-e1c0df888939', '17ab3788-3466-456c-967f-a36a7e8c4905', 'ec0e9ca0-9caa-4fab-80b4-b300c27293d5', 'da314281-216d-462f-9b58-9aee56287890', 'e1c339a2-56f9-4fb9-bf6d-a0e05b1a1a77', '94895dbb-a53e-42a0-8d1b-a377d7da0378', '3dbf46ba-1366-47b5-88d3-7bb9f397e616', '2b18c094-35f8-4898-9a53-584039796a36', '96fde8d7-2b6f-44ea-b8fb-152b887b0fcd', 'e705c553-4a55-4ed7-a5bf-41226dc03f9e', '22837e59-7e01-4d74-9def-84b3b0acbf16', '687045ca-0604-423c-a1ab-4db8f69b2a09', '916dd072-921b-4bbb-a433-8ab85dc38be8', '9f3d5752-bf08-4800-86a2-985422d8be20', 'f8d8ddee-892b-4069-ad06-72933ec863aa', '6f3dcc62-5418-490a-bd41-d670a6334cf9', '17f2f409-eb7d-48a0-85b5-c9df1eec20f5', 'd8fc5247-1fdf-4296-96ac-20265c4891dc', 'c7f56794-2ba9-4dfa-93cd-31e40f57806d', '61620b9d-fd0e-4c9f-980f-4f8989c7ad9d', 'f1414421-80c6-4a1a-b037-8aa373a62cee', '665abb55-2589-4e9e-969b-10a117ccc742', '25c2ff8c-c60f-487d-9432-84be61039dc7', '330388b9-29bd-449b-88f9-3f3460bd7f45', '03f283d5-a202-407e-a8b4-e3e761c01cd3', '1672ef89-45e2-453f-9ce4-597362904681', 'bbef6e41-3d2a-4605-8163-b3cd79b071a0', 'e26897bd-1edd-4b37-bc39-8fac5942e975', '53f4b32d-67b4-47e5-a016-7b4ba0cdf5d3', 'e13dc555-5525-41e2-8a67-20fc437fbc63', '7f223757-791d-43b5-8de8-27bedc0a2850', '350ba6c1-1601-4ee7-818c-452cc4042acc', '2b9b68f2-6da6-40e6-aae1-7c53ba2c18c8', 'e642590b-02e5-4f99-8365-3a2bdd8d639e', 'f2817466-398a-408b-a7ce-383bfe58a1bf', '0e9982b8-9de2-4795-b694-56d19cdcabe8', 'd6e86d1c-4d47-45c0-84a9-40825b474f23', 'cf371f43-be56-4089-ad16-a073e3d09a78', 'd6555f76-463d-46d0-b551-7a41d766c354', '564d5672-643c-4470-8521-04adc5695649', '013a34b0-a90c-4e96-bccf-a044c797ffec', '4506e62f-e5f1-4ba3-ad83-f92b4f4f6259', '5a7058d9-3c5f-4cf2-a5a0-af216dc22041', 'a46b0b32-4b8d-4219-b2be-db884935acae', '38276262-be2c-43aa-9862-9530708d44d0', '45dfcfe0-d271-45ec-a6c5-c939f248ddd5', '20c89c63-9d15-4850-9c5a-df60476d05de', '373e8451-1dcd-49c5-9a46-460130a3d4cd', 'a704c257-84e3-4809-9bab-a38b90c73da9', '4be04df2-c9e4-4802-96b9-a2d76b3c1ad9', 'f0668ffb-dda0-422d-91be-fa8b04e560f7', 'e7565488-a881-49e1-b43e-9c51dec0d6e3', '9d015c67-3816-46fc-b765-af4ed0101142', 'd5413730-d0a2-4993-8af5-4d0d771a6ec9', '22f59010-81ff-4686-bff3-d62a6fb10be2', '79c504f1-d2a5-42b0-8d11-b49b68fcc189', '8f871892-7370-4fa5-b60d-fa84de1d8d71', 'b10e220b-0f47-4414-b244-d8b07ffad77c', 'dfb86b9a-1ede-4e6b-8112-d978d56c2367', 'bc2407a8-2dbe-422e-b076-a3c2877614f7', '31164c95-d394-4448-8493-616c6b042e59', '3f02bd00-627d-4d84-aa1f-0d1a4ce6f4b4', '3f9f9df5-ee30-4794-9754-526a1b6e095c', '9e59ba99-72aa-414d-8b62-c0ad0e467b6b', '6cd49c44-d209-461c-afac-eda709f138bc', '8a3498ce-aef8-40b7-b1c2-7b6e62f20619', '4d902fb6-9c6d-433f-9a47-088961da6c11', '1acf49cd-4def-47aa-b864-7b9760520fde', '5b10fe6a-0a5e-4b9d-8770-976bf9f59ab9', '1aca8082-6a9d-4735-9ec5-766138df6eb4', '18acefd9-dafb-415a-acd8-44954bbebf38']\n",
      "Replacing 24 from 72 !\n",
      "D_relabeled_ 24\n",
      "selected_ids ['1ecb5295-cc06-4019-b2e7-862976030265', '96fde8d7-2b6f-44ea-b8fb-152b887b0fcd', '03f283d5-a202-407e-a8b4-e3e761c01cd3', '79c504f1-d2a5-42b0-8d11-b49b68fcc189', '330388b9-29bd-449b-88f9-3f3460bd7f45', 'e705c553-4a55-4ed7-a5bf-41226dc03f9e', '8f871892-7370-4fa5-b60d-fa84de1d8d71', '45dfcfe0-d271-45ec-a6c5-c939f248ddd5', 'b10e220b-0f47-4414-b244-d8b07ffad77c', '4506e62f-e5f1-4ba3-ad83-f92b4f4f6259', '7f223757-791d-43b5-8de8-27bedc0a2850', '2b9b68f2-6da6-40e6-aae1-7c53ba2c18c8', '916dd072-921b-4bbb-a433-8ab85dc38be8', '9d015c67-3816-46fc-b765-af4ed0101142', '4cdfdb1e-05b7-4392-a94f-e1c0df888939', '17f2f409-eb7d-48a0-85b5-c9df1eec20f5', 'ec0e9ca0-9caa-4fab-80b4-b300c27293d5', '31164c95-d394-4448-8493-616c6b042e59', 'bc2407a8-2dbe-422e-b076-a3c2877614f7', 'da314281-216d-462f-9b58-9aee56287890', '4be04df2-c9e4-4802-96b9-a2d76b3c1ad9', '013a34b0-a90c-4e96-bccf-a044c797ffec', 'e7565488-a881-49e1-b43e-9c51dec0d6e3', '6cd49c44-d209-461c-afac-eda709f138bc']\n",
      "dict_keys(['1ecb5295-cc06-4019-b2e7-862976030265', '96fde8d7-2b6f-44ea-b8fb-152b887b0fcd', '03f283d5-a202-407e-a8b4-e3e761c01cd3', '79c504f1-d2a5-42b0-8d11-b49b68fcc189', '330388b9-29bd-449b-88f9-3f3460bd7f45', 'e705c553-4a55-4ed7-a5bf-41226dc03f9e', '8f871892-7370-4fa5-b60d-fa84de1d8d71', '45dfcfe0-d271-45ec-a6c5-c939f248ddd5', 'b10e220b-0f47-4414-b244-d8b07ffad77c', '4506e62f-e5f1-4ba3-ad83-f92b4f4f6259', '7f223757-791d-43b5-8de8-27bedc0a2850', '2b9b68f2-6da6-40e6-aae1-7c53ba2c18c8', '916dd072-921b-4bbb-a433-8ab85dc38be8', '9d015c67-3816-46fc-b765-af4ed0101142', '4cdfdb1e-05b7-4392-a94f-e1c0df888939', '17f2f409-eb7d-48a0-85b5-c9df1eec20f5', 'ec0e9ca0-9caa-4fab-80b4-b300c27293d5', '31164c95-d394-4448-8493-616c6b042e59', 'bc2407a8-2dbe-422e-b076-a3c2877614f7', 'da314281-216d-462f-9b58-9aee56287890', '4be04df2-c9e4-4802-96b9-a2d76b3c1ad9', '013a34b0-a90c-4e96-bccf-a044c797ffec', 'e7565488-a881-49e1-b43e-9c51dec0d6e3', '6cd49c44-d209-461c-afac-eda709f138bc'])\n",
      "point ids 24\n",
      "Removed: 24 Filled: 24\n",
      "TOOK 114.22611546516418 seconds\n"
     ]
    }
   ],
   "source": [
    "for run in range(RUNS):\n",
    "    print('***')\n",
    "    print('RUN:', run)\n",
    "    t0 = time.time()\n",
    "    R.run_classifier()\n",
    "    R.run_discriminator()\n",
    "    l = R.find_machine_labels()\n",
    "    if l == 0:\n",
    "        print('No more machine labels.')\n",
    "        print('TOOK', time.time()-t0, 'seconds')\n",
    "        break\n",
    "    R.relabel(percent_to_replace=PERCENT_TO_REPLACE)\n",
    "    print('TOOK', time.time()-t0, 'seconds')\n",
    "    "
   ]
  },
  {
   "cell_type": "code",
   "execution_count": 12,
   "id": "dab6fd49",
   "metadata": {},
   "outputs": [
    {
     "data": {
      "text/plain": [
       "[[1.142256736755371, 0.549638032913208],\n",
       " [1.4038879871368408, 0.4464454650878906],\n",
       " [1.1490415334701538, 0.5483900904655457],\n",
       " [2.243988275527954, 0.2591499388217926],\n",
       " [2.8824589252471924, 0.16493384540081024]]"
      ]
     },
     "execution_count": 12,
     "metadata": {},
     "output_type": "execute_result"
    }
   ],
   "source": [
    "R.classifier_scores"
   ]
  },
  {
   "cell_type": "code",
   "execution_count": 13,
   "id": "93739320",
   "metadata": {},
   "outputs": [
    {
     "data": {
      "text/plain": [
       "[[0.0, 1.0],\n",
       " [0.0, 1.0],\n",
       " [0.0, 1.0],\n",
       " [12.610363006591797, 0.9379084706306458],\n",
       " [52.20532989501953, 0.7189542651176453]]"
      ]
     },
     "execution_count": 13,
     "metadata": {},
     "output_type": "execute_result"
    }
   ],
   "source": [
    "R.discriminator_scores"
   ]
  },
  {
   "cell_type": "code",
   "execution_count": 14,
   "id": "a76a4615",
   "metadata": {},
   "outputs": [
    {
     "data": {
      "image/png": "[encoded data removed]",
      "text/plain": [
       "<Figure size 240x240 with 1 Axes>"
      ]
     },
     "metadata": {
      "needs_background": "light"
     },
     "output_type": "display_data"
    }
   ],
   "source": [
    "R.plot()"
   ]
  },
  {
   "cell_type": "code",
   "execution_count": null,
   "id": "d01cc7a2",
   "metadata": {},
   "outputs": [],
   "source": []
  },
  {
   "cell_type": "code",
   "execution_count": null,
   "id": "26b30f46",
   "metadata": {},
   "outputs": [],
   "source": []
  },
  {
   "cell_type": "code",
   "execution_count": null,
   "id": "1ee5878c",
   "metadata": {},
   "outputs": [],
   "source": []
  },
  {
   "cell_type": "code",
   "execution_count": null,
   "id": "fa3e1ca7",
   "metadata": {},
   "outputs": [],
   "source": []
  },
  {
   "cell_type": "code",
   "execution_count": 10,
   "id": "00075332",
   "metadata": {},
   "outputs": [
    {
     "data": {
      "text/plain": [
       "[[0.9156632423400879, 0.4058244526386261],\n",
       " [0.6621054410934448, 0.525407612323761],\n",
       " [0.432913213968277, 0.6711912155151367],\n",
       " [0.23769482970237732, 0.818067729473114],\n",
       " [0.12111461162567139, 0.9171703457832336]]"
      ]
     },
     "execution_count": 10,
     "metadata": {},
     "output_type": "execute_result"
    }
   ],
   "source": [
    "R.classifier_scores"
   ]
  },
  {
   "cell_type": "code",
   "execution_count": 11,
   "id": "35105656",
   "metadata": {},
   "outputs": [
    {
     "data": {
      "text/plain": [
       "[[0.18762366473674774, 0.9866666793823242],\n",
       " [8.597139358520508, 0.7649999856948853],\n",
       " [10.293930053710938, 0.7416666746139526],\n",
       " [12.015337944030762, 0.70333331823349],\n",
       " [10.586000442504883, 0.7483333349227905]]"
      ]
     },
     "execution_count": 11,
     "metadata": {},
     "output_type": "execute_result"
    }
   ],
   "source": [
    "R.discriminator_scores"
   ]
  },
  {
   "cell_type": "code",
   "execution_count": 12,
   "id": "0a721a90",
   "metadata": {},
   "outputs": [
    {
     "data": {
      "image/png": "[encoded data removed]",
      "text/plain": [
       "<Figure size 240x240 with 1 Axes>"
      ]
     },
     "metadata": {
      "needs_background": "light"
     },
     "output_type": "display_data"
    }
   ],
   "source": [
    "R.plot()"
   ]
  },
  {
   "cell_type": "code",
   "execution_count": null,
   "id": "551de181",
   "metadata": {},
   "outputs": [],
   "source": []
  }
 ],
 "metadata": {
  "kernelspec": {
   "display_name": "Python 3 (ipykernel)",
   "language": "python",
   "name": "python3"
  },
  "language_info": {
   "codemirror_mode": {
    "name": "ipython",
    "version": 3
   },
   "file_extension": ".py",
   "mimetype": "text/x-python",
   "name": "python",
   "nbconvert_exporter": "python",
   "pygments_lexer": "ipython3",
   "version": "3.9.7"
  }
 },
 "nbformat": 4,
 "nbformat_minor": 5
}
