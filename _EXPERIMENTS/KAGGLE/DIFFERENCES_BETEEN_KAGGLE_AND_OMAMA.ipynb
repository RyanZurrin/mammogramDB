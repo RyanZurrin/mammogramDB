{
 "cells": [
  {
   "cell_type": "code",
   "execution_count": 1,
   "id": "dad6d7d8",
   "metadata": {},
   "outputs": [
    {
     "name": "stdout",
     "output_type": "stream",
     "text": [
      "Populating the interactive namespace from numpy and matplotlib\n"
     ]
    },
    {
     "data": {
      "text/html": [
       "<style>.container { width:100% !important; }</style>"
      ],
      "text/plain": [
       "<IPython.core.display.HTML object>"
      ]
     },
     "metadata": {},
     "output_type": "display_data"
    }
   ],
   "source": [
    "%pylab inline\n",
    "%load_ext autoreload\n",
    "%autoreload 2\n",
    "from IPython.display import display, HTML\n",
    "display(HTML(\"<style>.container { width:100% !important; }</style>\"))"
   ]
  },
  {
   "cell_type": "code",
   "execution_count": 3,
   "id": "9c8a8900",
   "metadata": {},
   "outputs": [],
   "source": [
    "import sys\n",
    "sys.path.insert(0,'../..')\n",
    "import omama as O\n",
    "import pickle\n",
    "from collections import Counter"
   ]
  },
  {
   "cell_type": "code",
   "execution_count": 4,
   "id": "2feffc90",
   "metadata": {},
   "outputs": [
    {
     "name": "stdout",
     "output_type": "stream",
     "text": [
      "DataLoader type is:  <class 'omama.kaggle_loader.KaggleLoader'>\n"
     ]
    }
   ],
   "source": [
    "kl = O.KaggleLoader()\n",
    "kData = O.Data(kl, load_cache=True)"
   ]
  },
  {
   "cell_type": "code",
   "execution_count": null,
   "id": "0d3bb79b",
   "metadata": {},
   "outputs": [],
   "source": []
  },
  {
   "cell_type": "code",
   "execution_count": 6,
   "id": "ad813450",
   "metadata": {},
   "outputs": [
    {
     "name": "stdout",
     "output_type": "stream",
     "text": [
      "Data(namespace(train_images=namespace(total=54706, 3D=0, 2D=54706),\n",
      "          total_all_dicoms=54706,\n",
      "          total_2d_all=54706,\n",
      "          total_3d_all=0,\n",
      "          total_2d_cancer=1158,\n",
      "          total_2d_preindex=0,\n",
      "          total_2d_noncancer=53548,\n",
      "          total_3d_cancer=0,\n",
      "          total_3d_preindex=0,\n",
      "          total_3d_noncancer=0,\n",
      "          total_cancer=1158,\n",
      "          total_preindex=0,\n",
      "          total_noncancer=53548,\n",
      "          total_no_label=0))\n"
     ]
    }
   ],
   "source": [
    "print(kData)"
   ]
  },
  {
   "cell_type": "code",
   "execution_count": null,
   "id": "39470d19",
   "metadata": {},
   "outputs": [],
   "source": [
    "shapes = []\n",
    "for kaggle in kData:\n",
    "    shapes.append(kaggle.pixel_array.shape)"
   ]
  },
  {
   "cell_type": "code",
   "execution_count": null,
   "id": "e5b21938",
   "metadata": {},
   "outputs": [],
   "source": [
    "Counter(shapes)"
   ]
  },
  {
   "cell_type": "code",
   "execution_count": null,
   "id": "de7d4a25",
   "metadata": {},
   "outputs": [],
   "source": []
  }
 ],
 "metadata": {
  "kernelspec": {
   "display_name": "Python 3 (ipykernel)",
   "language": "python",
   "name": "python3"
  },
  "language_info": {
   "codemirror_mode": {
    "name": "ipython",
    "version": 3
   },
   "file_extension": ".py",
   "mimetype": "text/x-python",
   "name": "python",
   "nbconvert_exporter": "python",
   "pygments_lexer": "ipython3",
   "version": "3.9.7"
  }
 },
 "nbformat": 4,
 "nbformat_minor": 5
}
