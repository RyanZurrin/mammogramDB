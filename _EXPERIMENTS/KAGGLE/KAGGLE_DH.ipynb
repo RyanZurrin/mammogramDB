{
 "cells": [
  {
   "cell_type": "code",
   "execution_count": 35,
   "id": "667cc250",
   "metadata": {},
   "outputs": [
    {
     "name": "stdout",
     "output_type": "stream",
     "text": [
      "Populating the interactive namespace from numpy and matplotlib\n",
      "The autoreload extension is already loaded. To reload it, use:\n",
      "  %reload_ext autoreload\n"
     ]
    }
   ],
   "source": [
    "%pylab inline\n",
    "%load_ext autoreload\n",
    "%autoreload 2"
   ]
  },
  {
   "cell_type": "code",
   "execution_count": 37,
   "id": "64bf05c6",
   "metadata": {},
   "outputs": [],
   "source": [
    "import sys\n",
    "sys.path.insert(0,'../..')\n",
    "import pydicom\n",
    "import omama as O\n",
    "import kaggle as K"
   ]
  },
  {
   "cell_type": "code",
   "execution_count": 38,
   "id": "9fd60f1d",
   "metadata": {},
   "outputs": [],
   "source": [
    "o_path = '/raid/data01/deephealth/dh_dcm_ast/2.25.100023834138724144715875938732458164944/DXm.2.25.114605502330206081390757163180312106015'\n",
    "o = pydicom.dcmread(o_path)"
   ]
  },
  {
   "cell_type": "code",
   "execution_count": 39,
   "id": "92d77e0e",
   "metadata": {},
   "outputs": [],
   "source": [
    "# YOU NEED TO HAVE THE DICOM IN ONE MORE DIRECTORY DEEP TO WORK WITH DEEPSIGHT\n",
    "# k_path = '/raid/mpsych/kaggle.dcm'\n",
    "# k = pydicom.dcmread(k_path)"
   ]
  },
  {
   "cell_type": "code",
   "execution_count": 40,
   "id": "14073131",
   "metadata": {},
   "outputs": [],
   "source": [
    "k_path = '/raid/mpsych/KAGGLE_DS_IMAGES/1591370361.dcm'"
   ]
  },
  {
   "cell_type": "code",
   "execution_count": null,
   "id": "9edc9f7a",
   "metadata": {},
   "outputs": [],
   "source": []
  },
  {
   "cell_type": "code",
   "execution_count": 41,
   "id": "55378d3a",
   "metadata": {},
   "outputs": [
    {
     "data": {
      "text/plain": [
       "(0002, 0010) Transfer Syntax UID                 UI: JPEG Lossless, Non-Hierarchical, First-Order Prediction (Process 14 [Selection Value 1])"
      ]
     },
     "execution_count": 41,
     "metadata": {},
     "output_type": "execute_result"
    }
   ],
   "source": [
    "o.file_meta[0x0002, 0x0010]"
   ]
  },
  {
   "cell_type": "code",
   "execution_count": 42,
   "id": "110dd92d",
   "metadata": {},
   "outputs": [
    {
     "data": {
      "text/plain": [
       "(0002, 0010) Transfer Syntax UID                 UI: JPEG 2000 Image Compression (Lossless Only)"
      ]
     },
     "execution_count": 42,
     "metadata": {},
     "output_type": "execute_result"
    }
   ],
   "source": [
    "k.file_meta[0x0002, 0x0010]"
   ]
  },
  {
   "cell_type": "code",
   "execution_count": 43,
   "id": "cf658b0d",
   "metadata": {},
   "outputs": [
    {
     "data": {
      "text/plain": [
       "(0002, 0012) Implementation Class UID            UI: a"
      ]
     },
     "execution_count": 43,
     "metadata": {},
     "output_type": "execute_result"
    }
   ],
   "source": [
    "pydicom.DataElement(pydicom.tag.Tag((0x0002, 0x0012)), VR='UI', value='a')"
   ]
  },
  {
   "cell_type": "code",
   "execution_count": 44,
   "id": "b9ed5d8b",
   "metadata": {},
   "outputs": [
    {
     "name": "stdout",
     "output_type": "stream",
     "text": [
      "Running DeepSight on 1 cases, please be patient...\n",
      "Time to update cache:  10.911019802093506\n",
      "...took 64.10329985618591\n"
     ]
    }
   ],
   "source": [
    "pred = O.DeepSight.run(o_path, timing=True, output_dir='/tmp/', force_run=True)"
   ]
  },
  {
   "cell_type": "code",
   "execution_count": 45,
   "id": "e6a7aa8c",
   "metadata": {},
   "outputs": [
    {
     "data": {
      "text/plain": [
       "'/raid/data01/deephealth/dh_dcm_ast/2.25.100023834138724144715875938732458164944/DXm.2.25.114605502330206081390757163180312106015'"
      ]
     },
     "execution_count": 45,
     "metadata": {},
     "output_type": "execute_result"
    }
   ],
   "source": [
    "o_path"
   ]
  },
  {
   "cell_type": "code",
   "execution_count": 46,
   "id": "1b5753e0",
   "metadata": {},
   "outputs": [
    {
     "data": {
      "text/plain": [
       "{'2.25.114605502330206081390757163180312106015': {'coords': [1361.0,\n",
       "   1244.0,\n",
       "   1605.0,\n",
       "   1486.0],\n",
       "  'score': 0.08980564773082733,\n",
       "  'slice': 0,\n",
       "  'errors': None}}"
      ]
     },
     "execution_count": 46,
     "metadata": {},
     "output_type": "execute_result"
    }
   ],
   "source": [
    "pred"
   ]
  },
  {
   "cell_type": "code",
   "execution_count": 47,
   "id": "039e6815",
   "metadata": {},
   "outputs": [
    {
     "name": "stdout",
     "output_type": "stream",
     "text": [
      "DataLoader type is:  <class 'omama.loaders.omama_loader.OmamaLoader'>\n",
      "get2D                    ...took     5.560753 seconds\n"
     ]
    }
   ],
   "source": [
    "imgs = O.DataHelper.get2D(N=1, cancer=True, randomize=True, timing=True)"
   ]
  },
  {
   "cell_type": "code",
   "execution_count": 48,
   "id": "7cad468e",
   "metadata": {},
   "outputs": [
    {
     "name": "stdout",
     "output_type": "stream",
     "text": [
      "Running DeepSight on 1 cases, please be patient...\n",
      "Time to update cache:  10.877062320709229\n",
      "...took 65.09264421463013\n"
     ]
    }
   ],
   "source": [
    "pred = O.DeepSight.run(imgs, timing=True, force_run=True)"
   ]
  },
  {
   "cell_type": "code",
   "execution_count": 49,
   "id": "e4fbdb98",
   "metadata": {},
   "outputs": [
    {
     "data": {
      "text/plain": [
       "{'2.25.102935101361261497721003922576115710823': {'coords': [1404.0,\n",
       "   1492.0,\n",
       "   1964.0,\n",
       "   2157.0],\n",
       "  'score': 0.9187216758728027,\n",
       "  'slice': 0,\n",
       "  'errors': None}}"
      ]
     },
     "execution_count": 49,
     "metadata": {},
     "output_type": "execute_result"
    }
   ],
   "source": [
    "pred"
   ]
  },
  {
   "cell_type": "code",
   "execution_count": 50,
   "id": "6840c6dd",
   "metadata": {},
   "outputs": [
    {
     "name": "stdout",
     "output_type": "stream",
     "text": [
      "Time to parse SOP UIDs:  4.0531158447265625e-06\n",
      "Time to check cache:  0.0016477108001708984\n",
      "cases is a string\n",
      "cases is a path to a dicom\n",
      "study_uid_dict: {'KAGGLE_DS_IMAGES': ['1.2.840.10009.1.2.3.10008.1.1591370361']}\n",
      "Running KaggleSight on 1 cases, please be patient...\n",
      "/home/ryan.zurrin001/Projects/omama/kaggle/deepsight2.sh -i /raid -o /raid/mpsych/deepsight_out/kaggle_processed/f2615cbc421b49d89dfaef86242a8e8a/20230223_182628 -cl /raid/mpsych/deepsight_out/kaggle_processed/f2615cbc421b49d89dfaef86242a8e8a/caselist.txt --additional_params --checks_to_ignore PAC-10 FAC-140 FAC-200 SAC-30 GE-160 SAC-40 SAC-60 SAC-50 SAC-130 HOL-10 HOL-160 FAC-160 FAC-24 FAC-170 FAC-30 FAC-23 PAC-30 FAC-21 FAC-27 FAC-80 FAC-90 FAC-20 IAC-20 HOL-30 HOL-50 HOL-60 HOL-110 HOL-140 HOL-190 HOL-200 HOL-80 HOL-30 HOL-50 HOL-60 HOL-110 HOL-140 HOL-190 HOL-200 HOL-80 > /raid/mpsych/deepsight_out/kaggle_processed/f2615cbc421b49d89dfaef86242a8e8a/deepsight_out.txt 2>&1\n",
      "{'input_dir': '/raid/mpsych/KAGGLE_DS_IMAGES', 'input_files': ['/raid/mpsych/KAGGLE_DS_IMAGES/1591370361.dcm'], 'output_dir': '/root/output/KAGGLE_DS_IMAGES', '_metadata': None, 'study_metadata': None, '_checker_validation_passed': False, '_failed_acceptance_criteria_list': [], 'results_raw': None, 'results': None, 'results_file_name': 'results_full.json', 'reports_expected': [], 'reports_generated': {}, 'output_send_results': {}, 'preprocessed': False, 'predicted': False, 'outputs_sent': False, '_error_code': 1, '_error_messages': ['Traceback (most recent call last):\\n  File \"/root/centaur/centaur_deploy/deploys/base_deployer.py\", line 318, in run_study\\n    accepted = self.engine.preprocess(input_dir=self.config[Config.MODULE_IO, \\'input_dir\\'])\\n  File \"/root/centaur/centaur_engine/engine.py\", line 87, in preprocess\\n    passed = self.preprocessor.preprocess(self.file_list)\\n  File \"/root/centaur/centaur_engine/preprocessor.py\", line 214, in preprocess\\n    np_data = set_pixel_array((dr, len(self.metadata), save_to_ram))\\n  File \"/root/centaur/centaur_engine/helpers/helper_preprocessor.py\", line 124, in set_pixel_array\\n    orientation_change = get_orientation_change(dr.metadata[\\'ImageLaterality\\'], dr.metadata[\\'PatientOrientation\\'])\\n  File \"/root/centaur/centaur_engine/helpers/helper_preprocessor.py\", line 21, in get_orientation_change\\n    patient_orientation_y = patient_orientation[1]\\nIndexError: list index out of range\\n', 'Error when extracting the study metadata for study \\'/raid/mpsych/KAGGLE_DS_IMAGES\\' in an \\'except\\' block.\\nTraceback (most recent call last):\\n  File \"/root/centaur/centaur_deploy/deploys/base_deployer.py\", line 318, in run_study\\n    accepted = self.engine.preprocess(input_dir=self.config[Config.MODULE_IO, \\'input_dir\\'])\\n  File \"/root/centaur/centaur_engine/engine.py\", line 87, in preprocess\\n    passed = self.preprocessor.preprocess(self.file_list)\\n  File \"/root/centaur/centaur_engine/preprocessor.py\", line 214, in preprocess\\n    np_data = set_pixel_array((dr, len(self.metadata), save_to_ram))\\n  File \"/root/centaur/centaur_engine/helpers/helper_preprocessor.py\", line 124, in set_pixel_array\\n    orientation_change = get_orientation_change(dr.metadata[\\'ImageLaterality\\'], dr.metadata[\\'PatientOrientation\\'])\\n  File \"/root/centaur/centaur_engine/helpers/helper_preprocessor.py\", line 21, in get_orientation_change\\n    patient_orientation_y = patient_orientation[1]\\nIndexError: list index out of range\\n\\nDuring handling of the above exception, another exception occurred:\\n\\nTraceback (most recent call last):\\n  File \"/root/centaur/centaur_deploy/deploys/base_deployer.py\", line 349, in run_study\\n    file_list=study_deploy_results.input_files)\\n  File \"/root/deephealth_utils/data/utils.py\", line 591, in get_study_metadata\\n    raise ValueError(f\"Field {field} could not be read\")\\nValueError: Field PatientName could not be read\\n'], 'studies_db_id': None, 'uid': None}\n",
      "Metadata is None\n",
      "Time to update cache:  0.0003597736358642578\n",
      "...took 6.6963396072387695\n",
      "\n",
      " **************************************************************************************************************************\n",
      "************************************************ WARNING: ERRORS DISCOVERED ************************************************\n",
      "****************************************************************************************************************************\n",
      "No predictions made, printing output file located at /raid/mpsych/deepsight_out/kaggle_processed/f2615cbc421b49d89dfaef86242a8e8a/deepsight_out.txt for error information.\n",
      " =======================================================================\n",
      "||     DeepSight Mammography Research Software                          ||\n",
      "||     DeepSight is for research purposes only and not for clinical use ||\n",
      "||     DeepHealth, Inc.                                                 ||\n",
      "||     Version 58a38fc60eeb                                             ||\n",
      "||     Copyright © 2021 by DeepHealth, Inc.                             ||\n",
      "||     Bringing the Best Doctor in the World to Every Patient           ||\n",
      " =======================================================================\n",
      "\n",
      "/root/deephealth_utils/data/utils.py:26: UserWarning: No module named 'decode_hologic_sco'\n",
      "  warnings.warn(\"{}\".format(e))\n",
      "Using TensorFlow backend.\n",
      "/opt/conda/lib/python3.7/site-packages/tensorflow/python/framework/dtypes.py:516: FutureWarning: Passing (type, 1) or '1type' as a synonym of type is deprecated; in a future version of numpy, it will be understood as (type, (1,)) / '(1,)type'.\n",
      "  _np_qint8 = np.dtype([(\"qint8\", np.int8, 1)])\n",
      "/opt/conda/lib/python3.7/site-packages/tensorflow/python/framework/dtypes.py:517: FutureWarning: Passing (type, 1) or '1type' as a synonym of type is deprecated; in a future version of numpy, it will be understood as (type, (1,)) / '(1,)type'.\n",
      "  _np_quint8 = np.dtype([(\"quint8\", np.uint8, 1)])\n",
      "/opt/conda/lib/python3.7/site-packages/tensorflow/python/framework/dtypes.py:518: FutureWarning: Passing (type, 1) or '1type' as a synonym of type is deprecated; in a future version of numpy, it will be understood as (type, (1,)) / '(1,)type'.\n",
      "  _np_qint16 = np.dtype([(\"qint16\", np.int16, 1)])\n",
      "/opt/conda/lib/python3.7/site-packages/tensorflow/python/framework/dtypes.py:519: FutureWarning: Passing (type, 1) or '1type' as a synonym of type is deprecated; in a future version of numpy, it will be understood as (type, (1,)) / '(1,)type'.\n",
      "  _np_quint16 = np.dtype([(\"quint16\", np.uint16, 1)])\n",
      "/opt/conda/lib/python3.7/site-packages/tensorflow/python/framework/dtypes.py:520: FutureWarning: Passing (type, 1) or '1type' as a synonym of type is deprecated; in a future version of numpy, it will be understood as (type, (1,)) / '(1,)type'.\n",
      "  _np_qint32 = np.dtype([(\"qint32\", np.int32, 1)])\n",
      "/opt/conda/lib/python3.7/site-packages/tensorflow/python/framework/dtypes.py:525: FutureWarning: Passing (type, 1) or '1type' as a synonym of type is deprecated; in a future version of numpy, it will be understood as (type, (1,)) / '(1,)type'.\n",
      "  np_resource = np.dtype([(\"resource\", np.ubyte, 1)])\n",
      "/opt/conda/lib/python3.7/site-packages/tensorboard/compat/tensorflow_stub/dtypes.py:541: FutureWarning: Passing (type, 1) or '1type' as a synonym of type is deprecated; in a future version of numpy, it will be understood as (type, (1,)) / '(1,)type'.\n",
      "  _np_qint8 = np.dtype([(\"qint8\", np.int8, 1)])\n",
      "/opt/conda/lib/python3.7/site-packages/tensorboard/compat/tensorflow_stub/dtypes.py:542: FutureWarning: Passing (type, 1) or '1type' as a synonym of type is deprecated; in a future version of numpy, it will be understood as (type, (1,)) / '(1,)type'.\n",
      "  _np_quint8 = np.dtype([(\"quint8\", np.uint8, 1)])\n",
      "/opt/conda/lib/python3.7/site-packages/tensorboard/compat/tensorflow_stub/dtypes.py:543: FutureWarning: Passing (type, 1) or '1type' as a synonym of type is deprecated; in a future version of numpy, it will be understood as (type, (1,)) / '(1,)type'.\n",
      "  _np_qint16 = np.dtype([(\"qint16\", np.int16, 1)])\n",
      "/opt/conda/lib/python3.7/site-packages/tensorboard/compat/tensorflow_stub/dtypes.py:544: FutureWarning: Passing (type, 1) or '1type' as a synonym of type is deprecated; in a future version of numpy, it will be understood as (type, (1,)) / '(1,)type'.\n",
      "  _np_quint16 = np.dtype([(\"quint16\", np.uint16, 1)])\n",
      "/opt/conda/lib/python3.7/site-packages/tensorboard/compat/tensorflow_stub/dtypes.py:545: FutureWarning: Passing (type, 1) or '1type' as a synonym of type is deprecated; in a future version of numpy, it will be understood as (type, (1,)) / '(1,)type'.\n",
      "  _np_qint32 = np.dtype([(\"qint32\", np.int32, 1)])\n",
      "/opt/conda/lib/python3.7/site-packages/tensorboard/compat/tensorflow_stub/dtypes.py:550: FutureWarning: Passing (type, 1) or '1type' as a synonym of type is deprecated; in a future version of numpy, it will be understood as (type, (1,)) / '(1,)type'.\n",
      "  np_resource = np.dtype([(\"resource\", np.ubyte, 1)])\n",
      "-1 @@ Running on study: /raid/mpsych/KAGGLE_DS_IMAGES @@ None\n",
      "-1 @@ Cleaning engine... @@ None\n",
      "-1 @@ Engine is preprocessing files... @@ None\n",
      "0 @@ Processing study. @@ /raid/mpsych/KAGGLE_DS_IMAGES\n",
      "4 @@ Image_Preprocess_CheckStudySize:0.0010957717895507812s;MEM:370450432 @@ KAGGLE_DS_IMAGES\n",
      "2 @@ /raid/mpsych/KAGGLE_DS_IMAGES/1591370361.dcm @@ /raid/mpsych/KAGGLE_DS_IMAGES\n",
      "4 @@ Image_Preprocess_CheckFileSize:0.0003693103790283203s;MEM:370450432 @@ KAGGLE_DS_IMAGES;1591370361.dcm\n",
      "4 @@ Image_DicomHeaderRead:0.0022346973419189453s;MEM:370524160 @@ 1591370361.dcm\n",
      "4 @@ Image_Preprocess_Checker:0.012066841125488281s;MEM:370540544 @@ KAGGLE_DS_IMAGES;1591370361.dcm\n",
      "-1 @@ Start processing data 1677194793.89695 @@ /raid/mpsych/KAGGLE_DS_IMAGES\n",
      "5 @@ Error when extracting the study metadata for study '/raid/mpsych/KAGGLE_DS_IMAGES' in an 'except' block.;   Traceback (most recent call last):;     File \"/root/centaur/centaur_deploy/deploys/base_deployer.py\", line 318, in run_study;       accepted = self.engine.preprocess(input_dir=self.config[Config.MODULE_IO, 'input_dir']);     File \"/root/centaur/centaur_engine/engine.py\", line 87, in preprocess;       passed = self.preprocessor.preprocess(self.file_list);     File \"/root/centaur/centaur_engine/preprocessor.py\", line 214, in preprocess;       np_data = set_pixel_array((dr, len(self.metadata), save_to_ram));     File \"/root/centaur/centaur_engine/helpers/helper_preprocessor.py\", line 124, in set_pixel_array;       orientation_change = get_orientation_change(dr.metadata['ImageLaterality'], dr.metadata['PatientOrientation']);     File \"/root/centaur/centaur_engine/helpers/helper_preprocessor.py\", line 21, in get_orientation_change;       patient_orientation_y = patient_orientation[1];   IndexError: list index out of range;   ;   During handling of the above exception, another exception occurred:;   ;   Traceback (most recent call last):;     File \"/root/centaur/centaur_deploy/deploys/base_deployer.py\", line 349, in run_study;       file_list=study_deploy_results.input_files);     File \"/root/deephealth_utils/data/utils.py\", line 591, in get_study_metadata;       raise ValueError(f\"Field {field} could not be read\");   ValueError: Field PatientName could not be read;    @@ None\n",
      "4 @@ Study_Total:1.0085651874542236s;MEM:370892800 @@ KAGGLE_DS_IMAGES\n",
      "-1 @@ Study results file saved (/root/output/KAGGLE_DS_IMAGES/results_full.json) @@ KAGGLE_DS_IMAGES\n",
      "-1 @@ \u001B[31m\u001B[1m @@ None\n",
      "5 @@ Traceback (most recent call last):;     File \"/root/centaur/centaur_deploy/deploys/base_deployer.py\", line 318, in run_study;       accepted = self.engine.preprocess(input_dir=self.config[Config.MODULE_IO, 'input_dir']);     File \"/root/centaur/centaur_engine/engine.py\", line 87, in preprocess;       passed = self.preprocessor.preprocess(self.file_list);     File \"/root/centaur/centaur_engine/preprocessor.py\", line 214, in preprocess;       np_data = set_pixel_array((dr, len(self.metadata), save_to_ram));     File \"/root/centaur/centaur_engine/helpers/helper_preprocessor.py\", line 124, in set_pixel_array;       orientation_change = get_orientation_change(dr.metadata['ImageLaterality'], dr.metadata['PatientOrientation']);     File \"/root/centaur/centaur_engine/helpers/helper_preprocessor.py\", line 21, in get_orientation_change;       patient_orientation_y = patient_orientation[1];   IndexError: list index out of range;   ;   Error when extracting the study metadata for study '/raid/mpsych/KAGGLE_DS_IMAGES' in an 'except' block.;   Traceback (most recent call last):;     File \"/root/centaur/centaur_deploy/deploys/base_deployer.py\", line 318, in run_study;       accepted = self.engine.preprocess(input_dir=self.config[Config.MODULE_IO, 'input_dir']);     File \"/root/centaur/centaur_engine/engine.py\", line 87, in preprocess;       passed = self.preprocessor.preprocess(self.file_list);     File \"/root/centaur/centaur_engine/preprocessor.py\", line 214, in preprocess;       np_data = set_pixel_array((dr, len(self.metadata), save_to_ram));     File \"/root/centaur/centaur_engine/helpers/helper_preprocessor.py\", line 124, in set_pixel_array;       orientation_change = get_orientation_change(dr.metadata['ImageLaterality'], dr.metadata['PatientOrientation']);     File \"/root/centaur/centaur_engine/helpers/helper_preprocessor.py\", line 21, in get_orientation_change;       patient_orientation_y = patient_orientation[1];   IndexError: list index out of range;   ;   During handling of the above exception, another exception occurred:;   ;   Traceback (most recent call last):;     File \"/root/centaur/centaur_deploy/deploys/base_deployer.py\", line 349, in run_study;       file_list=study_deploy_results.input_files);     File \"/root/deephealth_utils/data/utils.py\", line 591, in get_study_metadata;       raise ValueError(f\"Field {field} could not be read\");   ValueError: Field PatientName could not be read;    @@ None\n",
      "-1 @@ Study finished with errors. Study_Total:1.0088961124420166s;MEM:370892800 @@ KAGGLE_DS_IMAGES\n",
      "-1 @@ \u001B[0m @@ None\n",
      "4 @@ DEPLOY_TOTAL_RUN:0:00:01.046817s;MEM:370941952 @@ None\n",
      "\n"
     ]
    }
   ],
   "source": [
    "kpred = K.KaggleSight.run(k_path, timing=True)"
   ]
  },
  {
   "cell_type": "code",
   "execution_count": 51,
   "id": "47081c15",
   "metadata": {},
   "outputs": [
    {
     "data": {
      "text/plain": [
       "{}"
      ]
     },
     "execution_count": 51,
     "metadata": {},
     "output_type": "execute_result"
    }
   ],
   "source": [
    "kpred"
   ]
  },
  {
   "cell_type": "code",
   "execution_count": null,
   "id": "42faf59b",
   "metadata": {},
   "outputs": [],
   "source": []
  }
 ],
 "metadata": {
  "kernelspec": {
   "display_name": "Python 3 (ipykernel)",
   "language": "python",
   "name": "python3"
  },
  "language_info": {
   "codemirror_mode": {
    "name": "ipython",
    "version": 3
   },
   "file_extension": ".py",
   "mimetype": "text/x-python",
   "name": "python",
   "nbconvert_exporter": "python",
   "pygments_lexer": "ipython3",
   "version": "3.9.7"
  }
 },
 "nbformat": 4,
 "nbformat_minor": 5
}
