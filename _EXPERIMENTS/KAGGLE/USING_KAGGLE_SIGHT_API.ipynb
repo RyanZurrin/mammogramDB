{
 "cells": [
  {
   "cell_type": "code",
   "execution_count": 1,
   "id": "355e723e",
   "metadata": {},
   "outputs": [
    {
     "name": "stdout",
     "output_type": "stream",
     "text": [
      "Populating the interactive namespace from numpy and matplotlib\n"
     ]
    }
   ],
   "source": [
    "%pylab inline\n",
    "%load_ext autoreload\n",
    "%autoreload 2"
   ]
  },
  {
   "cell_type": "code",
   "execution_count": 2,
   "id": "846b0773",
   "metadata": {},
   "outputs": [],
   "source": [
    "import sys\n",
    "import time\n",
    "sys.path.insert(0,'../..')\n",
    "import kaggle as k\n",
    "import pydicom as dicom"
   ]
  },
  {
   "cell_type": "code",
   "execution_count": 3,
   "id": "59f45e11",
   "metadata": {},
   "outputs": [],
   "source": [
    "path = '/raid/mpsych/kaggle_mammograms/original/test_images/10008/1591370361.dcm'"
   ]
  },
  {
   "cell_type": "code",
   "execution_count": 4,
   "id": "a7235928",
   "metadata": {},
   "outputs": [],
   "source": [
    "img = dicom.dcmread(path)"
   ]
  },
  {
   "cell_type": "code",
   "execution_count": 5,
   "id": "7db08258",
   "metadata": {},
   "outputs": [
    {
     "data": {
      "text/plain": [
       "Dataset.file_meta -------------------------------\n",
       "(0002, 0001) File Meta Information Version       OB: b'\\x00\\x01'\n",
       "(0002, 0002) Media Storage SOP Class UID         UI: Digital X-Ray Image Storage - For Presentation\n",
       "(0002, 0003) Media Storage SOP Instance UID      UI: 1.2.840.10009.1.2.3.10008.1.1591370361\n",
       "(0002, 0010) Transfer Syntax UID                 UI: JPEG 2000 Image Compression (Lossless Only)\n",
       "(0002, 0012) Implementation Class UID            UI: 1.2.840.113654.2.3.1995.2.12.0\n",
       "(0002, 0013) Implementation Version Name         SH: 'PYDICOM 2.3.0'\n",
       "-------------------------------------------------\n",
       "(0008, 0018) SOP Instance UID                    UI: 1.2.840.10009.1.2.3.10008.1.1591370361\n",
       "(0008, 0023) Content Date                        DA: '20221118'\n",
       "(0008, 0033) Content Time                        TM: '183902.513856'\n",
       "(0010, 0020) Patient ID                          LO: '10008'\n",
       "(0020, 000d) Study Instance UID                  UI: 1.2.840.10009.1.2.3.10008\n",
       "(0020, 000e) Series Instance UID                 UI: 1.2.840.10009.1.2.3.10008.1\n",
       "(0020, 0013) Instance Number                     IS: \"1591370361\"\n",
       "(0020, 0062) Image Laterality                    CS: 'L'\n",
       "(0028, 0002) Samples per Pixel                   US: 1\n",
       "(0028, 0004) Photometric Interpretation          CS: 'MONOCHROME2'\n",
       "(0028, 0010) Rows                                US: 2776\n",
       "(0028, 0011) Columns                             US: 2082\n",
       "(0028, 0100) Bits Allocated                      US: 16\n",
       "(0028, 0101) Bits Stored                         US: 12\n",
       "(0028, 0102) High Bit                            US: 11\n",
       "(0028, 0103) Pixel Representation                US: 0\n",
       "(0028, 0120) Pixel Padding Value                 US: 0\n",
       "(0028, 1040) Pixel Intensity Relationship        CS: 'LOG'\n",
       "(0028, 1041) Pixel Intensity Relationship Sign   SS: 1\n",
       "(0028, 1050) Window Center                       DS: \"2048.0\"\n",
       "(0028, 1051) Window Width                        DS: \"4096.0\"\n",
       "(0028, 1052) Rescale Intercept                   DS: \"0.0\"\n",
       "(0028, 1053) Rescale Slope                       DS: \"1.0\"\n",
       "(0028, 1054) Rescale Type                        LO: 'US'\n",
       "(0028, 1350) Partial View                        CS: 'NO'\n",
       "(0028, 2110) Lossy Image Compression             CS: '00'\n",
       "(7fe0, 0010) Pixel Data                          OW: Array of 2873866 elements"
      ]
     },
     "execution_count": 5,
     "metadata": {},
     "output_type": "execute_result"
    }
   ],
   "source": [
    "img"
   ]
  },
  {
   "cell_type": "code",
   "execution_count": 6,
   "id": "13c126a5",
   "metadata": {},
   "outputs": [
    {
     "name": "stdout",
     "output_type": "stream",
     "text": [
      "Time to parse SOP UIDs:  4.76837158203125e-06\n",
      "Time to check cache:  0.0007698535919189453\n",
      "cases is a string\n",
      "cases is a path to a dicom\n",
      "study_uid_dict: {'10008': ['1.2.840.10009.1.2.3.10008.1.1591370361']}\n",
      "Running KaggleSight on 1 cases, please be patient...\n",
      "/home/ryan.zurrin001/Projects/omama/kaggle/deepsight2.sh -i /raid/mpsych/kaggle_mammograms/original -o /raid/mpsych/deepsight_out/kaggle_processed/9493db3fab3543c084d1e1b677b57cc7/20230223_174847 -cl /raid/mpsych/deepsight_out/kaggle_processed/9493db3fab3543c084d1e1b677b57cc7/caselist.txt --additional_params --checks_to_ignore PAC-10 FAC-140 FAC-200 SAC-30 GE-160 SAC-40 SAC-60 SAC-50 SAC-130 HOL-10 HOL-160 FAC-160 FAC-24 FAC-170 FAC-30 FAC-23 PAC-30 FAC-21 FAC-27 FAC-80 FAC-90 FAC-20 IAC-20 HOL-30 HOL-50 HOL-60 HOL-110 HOL-140 HOL-190 HOL-200 HOL-80 HOL-30 HOL-50 HOL-60 HOL-110 HOL-140 HOL-190 HOL-200 HOL-80 > /raid/mpsych/deepsight_out/kaggle_processed/9493db3fab3543c084d1e1b677b57cc7/deepsight_out.txt 2>&1\n",
      "{'input_dir': '/raid/mpsych/kaggle_mammograms/original/test_images/10008', 'input_files': ['/raid/mpsych/kaggle_mammograms/original/test_images/10008/1591370361.dcm'], 'output_dir': '/root/output/10008', '_metadata': None, 'study_metadata': None, '_checker_validation_passed': False, '_failed_acceptance_criteria_list': [], 'results_raw': None, 'results': None, 'results_file_name': 'results_full.json', 'reports_expected': [], 'reports_generated': {}, 'output_send_results': {}, 'preprocessed': False, 'predicted': False, 'outputs_sent': False, '_error_code': 1, '_error_messages': ['Traceback (most recent call last):\\n  File \"/root/centaur/centaur_deploy/deploys/base_deployer.py\", line 318, in run_study\\n    accepted = self.engine.preprocess(input_dir=self.config[Config.MODULE_IO, \\'input_dir\\'])\\n  File \"/root/centaur/centaur_engine/engine.py\", line 87, in preprocess\\n    passed = self.preprocessor.preprocess(self.file_list)\\n  File \"/root/centaur/centaur_engine/preprocessor.py\", line 214, in preprocess\\n    np_data = set_pixel_array((dr, len(self.metadata), save_to_ram))\\n  File \"/root/centaur/centaur_engine/helpers/helper_preprocessor.py\", line 124, in set_pixel_array\\n    orientation_change = get_orientation_change(dr.metadata[\\'ImageLaterality\\'], dr.metadata[\\'PatientOrientation\\'])\\n  File \"/root/centaur/centaur_engine/helpers/helper_preprocessor.py\", line 21, in get_orientation_change\\n    patient_orientation_y = patient_orientation[1]\\nIndexError: list index out of range\\n', 'Error when extracting the study metadata for study \\'/raid/mpsych/kaggle_mammograms/original/test_images/10008\\' in an \\'except\\' block.\\nTraceback (most recent call last):\\n  File \"/root/centaur/centaur_deploy/deploys/base_deployer.py\", line 318, in run_study\\n    accepted = self.engine.preprocess(input_dir=self.config[Config.MODULE_IO, \\'input_dir\\'])\\n  File \"/root/centaur/centaur_engine/engine.py\", line 87, in preprocess\\n    passed = self.preprocessor.preprocess(self.file_list)\\n  File \"/root/centaur/centaur_engine/preprocessor.py\", line 214, in preprocess\\n    np_data = set_pixel_array((dr, len(self.metadata), save_to_ram))\\n  File \"/root/centaur/centaur_engine/helpers/helper_preprocessor.py\", line 124, in set_pixel_array\\n    orientation_change = get_orientation_change(dr.metadata[\\'ImageLaterality\\'], dr.metadata[\\'PatientOrientation\\'])\\n  File \"/root/centaur/centaur_engine/helpers/helper_preprocessor.py\", line 21, in get_orientation_change\\n    patient_orientation_y = patient_orientation[1]\\nIndexError: list index out of range\\n\\nDuring handling of the above exception, another exception occurred:\\n\\nTraceback (most recent call last):\\n  File \"/root/centaur/centaur_deploy/deploys/base_deployer.py\", line 349, in run_study\\n    file_list=study_deploy_results.input_files)\\n  File \"/root/deephealth_utils/data/utils.py\", line 591, in get_study_metadata\\n    raise ValueError(f\"Field {field} could not be read\")\\nValueError: Field PatientName could not be read\\n'], 'studies_db_id': None, 'uid': None}\n",
      "Metadata is None\n",
      "Time to update cache:  0.00036454200744628906\n",
      "...took 6.95532751083374\n",
      "\n",
      " **************************************************************************************************************************\n",
      "************************************************ WARNING: ERRORS DISCOVERED ************************************************\n",
      "****************************************************************************************************************************\n",
      "No predictions made, printing output file located at /raid/mpsych/deepsight_out/kaggle_processed/9493db3fab3543c084d1e1b677b57cc7/deepsight_out.txt for error information.\n",
      " =======================================================================\n",
      "||     DeepSight Mammography Research Software                          ||\n",
      "||     DeepSight is for research purposes only and not for clinical use ||\n",
      "||     DeepHealth, Inc.                                                 ||\n",
      "||     Version 58a38fc60eeb                                             ||\n",
      "||     Copyright © 2021 by DeepHealth, Inc.                             ||\n",
      "||     Bringing the Best Doctor in the World to Every Patient           ||\n",
      " =======================================================================\n",
      "\n",
      "/root/deephealth_utils/data/utils.py:26: UserWarning: No module named 'decode_hologic_sco'\n",
      "  warnings.warn(\"{}\".format(e))\n",
      "Using TensorFlow backend.\n",
      "/opt/conda/lib/python3.7/site-packages/tensorflow/python/framework/dtypes.py:516: FutureWarning: Passing (type, 1) or '1type' as a synonym of type is deprecated; in a future version of numpy, it will be understood as (type, (1,)) / '(1,)type'.\n",
      "  _np_qint8 = np.dtype([(\"qint8\", np.int8, 1)])\n",
      "/opt/conda/lib/python3.7/site-packages/tensorflow/python/framework/dtypes.py:517: FutureWarning: Passing (type, 1) or '1type' as a synonym of type is deprecated; in a future version of numpy, it will be understood as (type, (1,)) / '(1,)type'.\n",
      "  _np_quint8 = np.dtype([(\"quint8\", np.uint8, 1)])\n",
      "/opt/conda/lib/python3.7/site-packages/tensorflow/python/framework/dtypes.py:518: FutureWarning: Passing (type, 1) or '1type' as a synonym of type is deprecated; in a future version of numpy, it will be understood as (type, (1,)) / '(1,)type'.\n",
      "  _np_qint16 = np.dtype([(\"qint16\", np.int16, 1)])\n",
      "/opt/conda/lib/python3.7/site-packages/tensorflow/python/framework/dtypes.py:519: FutureWarning: Passing (type, 1) or '1type' as a synonym of type is deprecated; in a future version of numpy, it will be understood as (type, (1,)) / '(1,)type'.\n",
      "  _np_quint16 = np.dtype([(\"quint16\", np.uint16, 1)])\n",
      "/opt/conda/lib/python3.7/site-packages/tensorflow/python/framework/dtypes.py:520: FutureWarning: Passing (type, 1) or '1type' as a synonym of type is deprecated; in a future version of numpy, it will be understood as (type, (1,)) / '(1,)type'.\n",
      "  _np_qint32 = np.dtype([(\"qint32\", np.int32, 1)])\n",
      "/opt/conda/lib/python3.7/site-packages/tensorflow/python/framework/dtypes.py:525: FutureWarning: Passing (type, 1) or '1type' as a synonym of type is deprecated; in a future version of numpy, it will be understood as (type, (1,)) / '(1,)type'.\n",
      "  np_resource = np.dtype([(\"resource\", np.ubyte, 1)])\n",
      "/opt/conda/lib/python3.7/site-packages/tensorboard/compat/tensorflow_stub/dtypes.py:541: FutureWarning: Passing (type, 1) or '1type' as a synonym of type is deprecated; in a future version of numpy, it will be understood as (type, (1,)) / '(1,)type'.\n",
      "  _np_qint8 = np.dtype([(\"qint8\", np.int8, 1)])\n",
      "/opt/conda/lib/python3.7/site-packages/tensorboard/compat/tensorflow_stub/dtypes.py:542: FutureWarning: Passing (type, 1) or '1type' as a synonym of type is deprecated; in a future version of numpy, it will be understood as (type, (1,)) / '(1,)type'.\n",
      "  _np_quint8 = np.dtype([(\"quint8\", np.uint8, 1)])\n",
      "/opt/conda/lib/python3.7/site-packages/tensorboard/compat/tensorflow_stub/dtypes.py:543: FutureWarning: Passing (type, 1) or '1type' as a synonym of type is deprecated; in a future version of numpy, it will be understood as (type, (1,)) / '(1,)type'.\n",
      "  _np_qint16 = np.dtype([(\"qint16\", np.int16, 1)])\n",
      "/opt/conda/lib/python3.7/site-packages/tensorboard/compat/tensorflow_stub/dtypes.py:544: FutureWarning: Passing (type, 1) or '1type' as a synonym of type is deprecated; in a future version of numpy, it will be understood as (type, (1,)) / '(1,)type'.\n",
      "  _np_quint16 = np.dtype([(\"quint16\", np.uint16, 1)])\n",
      "/opt/conda/lib/python3.7/site-packages/tensorboard/compat/tensorflow_stub/dtypes.py:545: FutureWarning: Passing (type, 1) or '1type' as a synonym of type is deprecated; in a future version of numpy, it will be understood as (type, (1,)) / '(1,)type'.\n",
      "  _np_qint32 = np.dtype([(\"qint32\", np.int32, 1)])\n",
      "/opt/conda/lib/python3.7/site-packages/tensorboard/compat/tensorflow_stub/dtypes.py:550: FutureWarning: Passing (type, 1) or '1type' as a synonym of type is deprecated; in a future version of numpy, it will be understood as (type, (1,)) / '(1,)type'.\n",
      "  np_resource = np.dtype([(\"resource\", np.ubyte, 1)])\n",
      "-1 @@ Running on study: /raid/mpsych/kaggle_mammograms/original/test_images/10008 @@ None\n",
      "-1 @@ Cleaning engine... @@ None\n",
      "-1 @@ Engine is preprocessing files... @@ None\n",
      "0 @@ Processing study. @@ /raid/mpsych/kaggle_mammograms/original/test_images/10008\n",
      "4 @@ Image_Preprocess_CheckStudySize:0.0010178089141845703s;MEM:368771072 @@ 10008\n",
      "2 @@ /raid/mpsych/kaggle_mammograms/original/test_images/10008/1591370361.dcm @@ /raid/mpsych/kaggle_mammograms/original/test_images/10008\n",
      "4 @@ Image_Preprocess_CheckFileSize:0.0003783702850341797s;MEM:368771072 @@ 10008;1591370361.dcm\n",
      "4 @@ Image_DicomHeaderRead:0.0009908676147460938s;MEM:368844800 @@ 1591370361.dcm\n",
      "4 @@ Image_Preprocess_Checker:0.009794950485229492s;MEM:369004544 @@ 10008;1591370361.dcm\n",
      "-1 @@ Start processing data 1677192533.9165194 @@ /raid/mpsych/kaggle_mammograms/original/test_images/10008\n",
      "5 @@ Error when extracting the study metadata for study '/raid/mpsych/kaggle_mammograms/original/test_images/10008' in an 'except' block.;   Traceback (most recent call last):;     File \"/root/centaur/centaur_deploy/deploys/base_deployer.py\", line 318, in run_study;       accepted = self.engine.preprocess(input_dir=self.config[Config.MODULE_IO, 'input_dir']);     File \"/root/centaur/centaur_engine/engine.py\", line 87, in preprocess;       passed = self.preprocessor.preprocess(self.file_list);     File \"/root/centaur/centaur_engine/preprocessor.py\", line 214, in preprocess;       np_data = set_pixel_array((dr, len(self.metadata), save_to_ram));     File \"/root/centaur/centaur_engine/helpers/helper_preprocessor.py\", line 124, in set_pixel_array;       orientation_change = get_orientation_change(dr.metadata['ImageLaterality'], dr.metadata['PatientOrientation']);     File \"/root/centaur/centaur_engine/helpers/helper_preprocessor.py\", line 21, in get_orientation_change;       patient_orientation_y = patient_orientation[1];   IndexError: list index out of range;   ;   During handling of the above exception, another exception occurred:;   ;   Traceback (most recent call last):;     File \"/root/centaur/centaur_deploy/deploys/base_deployer.py\", line 349, in run_study;       file_list=study_deploy_results.input_files);     File \"/root/deephealth_utils/data/utils.py\", line 591, in get_study_metadata;       raise ValueError(f\"Field {field} could not be read\");   ValueError: Field PatientName could not be read;    @@ None\n",
      "4 @@ Study_Total:0.14886856079101562s;MEM:369143808 @@ 10008\n",
      "-1 @@ Study results file saved (/root/output/10008/results_full.json) @@ 10008\n",
      "-1 @@ \u001B[31m\u001B[1m @@ None\n",
      "5 @@ Traceback (most recent call last):;     File \"/root/centaur/centaur_deploy/deploys/base_deployer.py\", line 318, in run_study;       accepted = self.engine.preprocess(input_dir=self.config[Config.MODULE_IO, 'input_dir']);     File \"/root/centaur/centaur_engine/engine.py\", line 87, in preprocess;       passed = self.preprocessor.preprocess(self.file_list);     File \"/root/centaur/centaur_engine/preprocessor.py\", line 214, in preprocess;       np_data = set_pixel_array((dr, len(self.metadata), save_to_ram));     File \"/root/centaur/centaur_engine/helpers/helper_preprocessor.py\", line 124, in set_pixel_array;       orientation_change = get_orientation_change(dr.metadata['ImageLaterality'], dr.metadata['PatientOrientation']);     File \"/root/centaur/centaur_engine/helpers/helper_preprocessor.py\", line 21, in get_orientation_change;       patient_orientation_y = patient_orientation[1];   IndexError: list index out of range;   ;   Error when extracting the study metadata for study '/raid/mpsych/kaggle_mammograms/original/test_images/10008' in an 'except' block.;   Traceback (most recent call last):;     File \"/root/centaur/centaur_deploy/deploys/base_deployer.py\", line 318, in run_study;       accepted = self.engine.preprocess(input_dir=self.config[Config.MODULE_IO, 'input_dir']);     File \"/root/centaur/centaur_engine/engine.py\", line 87, in preprocess;       passed = self.preprocessor.preprocess(self.file_list);     File \"/root/centaur/centaur_engine/preprocessor.py\", line 214, in preprocess;       np_data = set_pixel_array((dr, len(self.metadata), save_to_ram));     File \"/root/centaur/centaur_engine/helpers/helper_preprocessor.py\", line 124, in set_pixel_array;       orientation_change = get_orientation_change(dr.metadata['ImageLaterality'], dr.metadata['PatientOrientation']);     File \"/root/centaur/centaur_engine/helpers/helper_preprocessor.py\", line 21, in get_orientation_change;       patient_orientation_y = patient_orientation[1];   IndexError: list index out of range;   ;   During handling of the above exception, another exception occurred:;   ;   Traceback (most recent call last):;     File \"/root/centaur/centaur_deploy/deploys/base_deployer.py\", line 349, in run_study;       file_list=study_deploy_results.input_files);     File \"/root/deephealth_utils/data/utils.py\", line 591, in get_study_metadata;       raise ValueError(f\"Field {field} could not be read\");   ValueError: Field PatientName could not be read;    @@ None\n",
      "-1 @@ Study finished with errors. Study_Total:0.14930224418640137s;MEM:369143808 @@ 10008\n",
      "-1 @@ \u001B[0m @@ None\n",
      "4 @@ DEPLOY_TOTAL_RUN:0:00:00.159266s;MEM:369205248 @@ None\n",
      "\n"
     ]
    }
   ],
   "source": [
    "pred = k.KaggleSight.run(path, timing=True)"
   ]
  },
  {
   "cell_type": "code",
   "execution_count": null,
   "id": "0f24608d",
   "metadata": {},
   "outputs": [],
   "source": []
  }
 ],
 "metadata": {
  "kernelspec": {
   "display_name": "Python 3 (ipykernel)",
   "language": "python",
   "name": "python3"
  },
  "language_info": {
   "codemirror_mode": {
    "name": "ipython",
    "version": 3
   },
   "file_extension": ".py",
   "mimetype": "text/x-python",
   "name": "python",
   "nbconvert_exporter": "python",
   "pygments_lexer": "ipython3",
   "version": "3.9.7"
  }
 },
 "nbformat": 4,
 "nbformat_minor": 5
}
