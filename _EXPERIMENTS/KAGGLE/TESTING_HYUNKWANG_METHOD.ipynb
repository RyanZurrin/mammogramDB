{
 "cells": [
  {
   "cell_type": "code",
   "execution_count": 1,
   "id": "f2148934",
   "metadata": {},
   "outputs": [
    {
     "name": "stdout",
     "output_type": "stream",
     "text": [
      "Populating the interactive namespace from numpy and matplotlib\n"
     ]
    }
   ],
   "source": [
    "%pylab inline\n",
    "%load_ext autoreload\n",
    "%autoreload 2"
   ]
  },
  {
   "cell_type": "code",
   "execution_count": 2,
   "id": "5ce2e888",
   "metadata": {},
   "outputs": [],
   "source": [
    "import sys\n",
    "sys.path.insert(0,'../..')\n",
    "import kaggle_explorer as K\n",
    "import pydicom\n",
    "import pydicom\n",
    "from pydicom.sequence import Sequence\n",
    "from pydicom.dataset import Dataset"
   ]
  },
  {
   "cell_type": "code",
   "execution_count": 3,
   "id": "c7a5113e",
   "metadata": {},
   "outputs": [],
   "source": [
    "filepath = \"1459541791.dcm\"\n",
    "ds = pydicom.read_file(filepath)"
   ]
  },
  {
   "cell_type": "code",
   "execution_count": 4,
   "id": "91ef3984",
   "metadata": {},
   "outputs": [],
   "source": [
    "dsv = Dataset()"
   ]
  },
  {
   "cell_type": "code",
   "execution_count": 5,
   "id": "3233bd2c",
   "metadata": {},
   "outputs": [],
   "source": [
    "# # For MLO\n",
    "# dsv.CodeValue = 'R-10226'\n",
    "# dsv.CodeMeaning = 'medio-lateral oblique'\n",
    "# For CC\n",
    "dsv.CodeValue = 'R-10242'\n",
    "dsv.CodeMeaning = 'cranio-caudal'\n",
    "\n",
    "ds.ViewCodeSequence = Sequence([dsv])\n"
   ]
  },
  {
   "cell_type": "code",
   "execution_count": 6,
   "id": "01b92690",
   "metadata": {},
   "outputs": [
    {
     "name": "stdout",
     "output_type": "stream",
     "text": [
      "Dataset.file_meta -------------------------------\n",
      "(0002, 0000) File Meta Information Group Length  UL: 186\n",
      "(0002, 0001) File Meta Information Version       OB: b'\\x00\\x01'\n",
      "(0002, 0002) Media Storage SOP Class UID         UI: Digital Mammography X-Ray Image Storage - For Presentation\n",
      "(0002, 0003) Media Storage SOP Instance UID      UI: 1.2.840.10009.1.2.3.10006.1.1459541791\n",
      "(0002, 0010) Transfer Syntax UID                 UI: JPEG 2000 Image Compression (Lossless Only)\n",
      "(0002, 0012) Implementation Class UID            UI: 1.2.840.113654.2.3.1995.2.12.0\n",
      "(0002, 0013) Implementation Version Name         SH: 'PYDICOM 2.3.0'\n",
      "-------------------------------------------------\n",
      "(0008, 0016) SOP Class UID                       UI: Digital Mammography X-Ray Image Storage - For Presentation\n",
      "(0008, 0018) SOP Instance UID                    UI: 1.2.840.10009.1.2.3.10006.1.1459541791\n",
      "(0008, 0020) Study Date                          DA: ''\n",
      "(0008, 0021) Series Date                         DA: ''\n",
      "(0008, 0023) Content Date                        DA: ''\n",
      "(0008, 0030) Study Time                          TM: ''\n",
      "(0008, 0033) Content Time                        TM: '183901.792591'\n",
      "(0008, 0050) Accession Number                    SH: 'JKKVDLHMGQJX'\n",
      "(0008, 0070) Manufacturer                        LO: 'Hologic'\n",
      "(0008, 0080) Institution Name                    LO: ''\n",
      "(0008, 1090) Manufacturer's Model Name           LO: 'Selenia Dimensions'\n",
      "(0010, 0010) Patient's Name                      PN: ''\n",
      "(0010, 0020) Patient ID                          LO: '10006'\n",
      "(0010, 0030) Patient's Birth Date                DA: ''\n",
      "(0010, 0040) Patient's Sex                       CS: ''\n",
      "(0010, 1010) Patient's Age                       AS: '732.0m'\n",
      "(0018, 1401) Acquisition Device Processing Code  LO: ''\n",
      "(0018, 5101) View Position                       CS: 'MLO'\n",
      "(0020, 000d) Study Instance UID                  UI: 1.2.840.10009.1.2.3.10006\n",
      "(0020, 000e) Series Instance UID                 UI: 1.2.840.10009.1.2.3.10006.1\n",
      "(0020, 0013) Instance Number                     IS: \"1459541791\"\n",
      "(0020, 0062) Image Laterality                    CS: 'L'\n",
      "(0028, 0002) Samples per Pixel                   US: 1\n",
      "(0028, 0004) Photometric Interpretation          CS: 'MONOCHROME1'\n",
      "(0028, 0010) Rows                                US: 5355\n",
      "(0028, 0011) Columns                             US: 4915\n",
      "(0028, 0100) Bits Allocated                      US: 16\n",
      "(0028, 0101) Bits Stored                         US: 16\n",
      "(0028, 0102) High Bit                            US: 15\n",
      "(0028, 0103) Pixel Representation                US: 0\n",
      "(0028, 0120) Pixel Padding Value                 US: 3044\n",
      "(0028, 1040) Pixel Intensity Relationship        CS: 'LOG'\n",
      "(0028, 1041) Pixel Intensity Relationship Sign   SS: 1\n",
      "(0028, 1050) Window Center                       DS: [1802.310000, 1802.310000, 2020.704000, 1583.916000]\n",
      "(0028, 1051) Window Width                        DS: [1091.970000, 1091.970000, 1091.970000, 1091.970000]\n",
      "(0028, 1052) Rescale Intercept                   DS: \"0.0\"\n",
      "(0028, 1053) Rescale Slope                       DS: \"1.0\"\n",
      "(0028, 1054) Rescale Type                        LO: 'US'\n",
      "(0028, 1056) VOI LUT Function                    CS: 'SIGMOID'\n",
      "(0028, 1300) Breast Implant Present              CS: 'NO'\n",
      "(0028, 1350) Partial View                        CS: ''\n",
      "(0028, 1351) Partial View Description            ST: ''\n",
      "(0028, 2110) Lossy Image Compression             CS: '00'\n",
      "(0032, 000c) Study Priority ID                   CS: ''\n",
      "(0032, 1001) Scheduled Study Start Time          TM: ''\n",
      "(0038, 0016) Route of Admissions                 LO: ''\n",
      "(0040, 1003) Requested Procedure Priority        SH: ''\n",
      "(0054, 0220)  View Code Sequence   1 item(s) ---- \n",
      "   (0008, 0100) Code Value                          SH: 'R-10242'\n",
      "   (0008, 0104) Code Meaning                        LO: 'cranio-caudal'\n",
      "   ---------\n",
      "(7fe0, 0010) Pixel Data                          OW: Array of 4362044 elements\n"
     ]
    }
   ],
   "source": [
    "print(ds)"
   ]
  },
  {
   "cell_type": "code",
   "execution_count": null,
   "id": "7d722065",
   "metadata": {},
   "outputs": [],
   "source": []
  },
  {
   "cell_type": "code",
   "execution_count": 7,
   "id": "330d9db5",
   "metadata": {},
   "outputs": [],
   "source": [
    "omama = pydicom.dcmread(\"DXm.2.25.119403010146292111130118207990186551199.dcm\")"
   ]
  },
  {
   "cell_type": "code",
   "execution_count": 8,
   "id": "2acf2f4f",
   "metadata": {},
   "outputs": [],
   "source": [
    "kaggle = pydicom.dcmread(\"1459541791.dcm\")"
   ]
  },
  {
   "cell_type": "code",
   "execution_count": 9,
   "id": "c6797252",
   "metadata": {
    "scrolled": false
   },
   "outputs": [
    {
     "data": {
      "text/plain": [
       "Dataset.file_meta -------------------------------\n",
       "(0002, 0000) File Meta Information Group Length  UL: 192\n",
       "(0002, 0001) File Meta Information Version       OB: b'\\x00\\x01'\n",
       "(0002, 0002) Media Storage SOP Class UID         UI: Digital Mammography X-Ray Image Storage - For Presentation\n",
       "(0002, 0003) Media Storage SOP Instance UID      UI: 2.25.119403010146292111130118207990186551199\n",
       "(0002, 0010) Transfer Syntax UID                 UI: JPEG Lossless, Non-Hierarchical, First-Order Prediction (Process 14 [Selection Value 1])\n",
       "(0002, 0012) Implementation Class UID            UI: 1.2.276.0.7230010.3.0.3.6.4\n",
       "(0002, 0013) Implementation Version Name         SH: 'OFFIS_DCMTK_364'\n",
       "-------------------------------------------------\n",
       "(0008, 0005) Specific Character Set              CS: 'ISO_IR 100'\n",
       "(0008, 0008) Image Type                          CS: ['ORIGINAL', 'PRIMARY', '']\n",
       "(0008, 0016) SOP Class UID                       UI: Digital Mammography X-Ray Image Storage - For Presentation\n",
       "(0008, 0018) SOP Instance UID                    UI: 2.25.119403010146292111130118207990186551199\n",
       "(0008, 0020) Study Date                          DA: ''\n",
       "(0008, 0021) Series Date                         DA: ''\n",
       "(0008, 0023) Content Date                        DA: ''\n",
       "(0008, 0030) Study Time                          TM: ''\n",
       "(0008, 0033) Content Time                        TM: ''\n",
       "(0008, 0050) Accession Number                    SH: 'DHMO4N9W6KD1'\n",
       "(0008, 0060) Modality                            CS: 'MG'\n",
       "(0008, 0064) Conversion Type                     CS: 'WSD'\n",
       "(0008, 0068) Presentation Intent Type            CS: 'FOR PRESENTATION'\n",
       "(0008, 0070) Manufacturer                        LO: 'GE MEDICAL SYSTEMS'\n",
       "(0008, 0080) Institution Name                    LO: ''\n",
       "(0008, 1030) Study Description                   LO: 'MAMMO SCREENING BILATERAL DIGITAL W CAD'\n",
       "(0008, 103e) Series Description                  LO: 'MAMMO SCREEN BILAT DIGITAL W/CAD'\n",
       "(0008, 1090) Manufacturer's Model Name           LO: 'Senographe Essential VERSION ADS_53.10.1.1'\n",
       "(0008, 2218)  Anatomic Region Sequence   1 item(s) ---- \n",
       "   (0008, 0100) Code Value                          SH: 'T-04000'\n",
       "   (0008, 0102) Coding Scheme Designator            SH: 'SNM3'\n",
       "   (0008, 0104) Code Meaning                        LO: 'BREAST'\n",
       "   ---------\n",
       "(0010, 0010) Patient's Name                      PN: ''\n",
       "(0010, 0020) Patient ID                          LO: 'DHJ5JE9QXAV0'\n",
       "(0010, 0030) Patient's Birth Date                DA: ''\n",
       "(0010, 0040) Patient's Sex                       CS: ''\n",
       "(0010, 1010) Patient's Age                       AS: '541M'\n",
       "(0018, 0015) Body Part Examined                  CS: 'BREAST'\n",
       "(0018, 0060) KVP                                 DS: \"29.0\"\n",
       "(0018, 1110) Distance Source to Detector         DS: \"660.0\"\n",
       "(0018, 1111) Distance Source to Patient          DS: \"660.0\"\n",
       "(0018, 1114) Estimated Radiographic Magnificatio DS: \"1.0\"\n",
       "(0018, 1147) Field of View Shape                 CS: 'RECTANGLE'\n",
       "(0018, 1149) Field of View Dimension(s)          IS: [306, 239]\n",
       "(0018, 1150) Exposure Time                       IS: \"1197\"\n",
       "(0018, 1151) X-Ray Tube Current                  IS: \"62\"\n",
       "(0018, 1152) Exposure                            IS: \"74\"\n",
       "(0018, 1153) Exposure in uAs                     IS: \"74300\"\n",
       "(0018, 1160) Filter Type                         SH: 'STRIP'\n",
       "(0018, 1164) Imager Pixel Spacing                DS: [0.09409090909091, 0.09409090909091]\n",
       "(0018, 1166) Grid                                CS: ['RECIPROCATING', 'FOCUSED']\n",
       "(0018, 1190) Focal Spot(s)                       DS: \"0.3\"\n",
       "(0018, 1191) Anode Target Material               CS: 'RHODIUM'\n",
       "(0018, 11a0) Body Part Thickness                 DS: \"70.0\"\n",
       "(0018, 11a2) Compression Force                   DS: \"60.0\"\n",
       "(0018, 1401) Acquisition Device Processing Code  LO: 'GEMS_FFDM_PV'\n",
       "(0018, 1405) Relative X-Ray Exposure             IS: \"7892\"\n",
       "(0018, 1508) Positioner Type                     CS: 'MAMMOGRAPHIC'\n",
       "(0018, 1510) Positioner Primary Angle            DS: \"0.0\"\n",
       "(0018, 1531) Detector Secondary Angle            DS: \"0.0\"\n",
       "(0018, 1700) Collimator Shape                    CS: 'RECTANGULAR'\n",
       "(0018, 1702) Collimator Left Vertical Edge       IS: \"0\"\n",
       "(0018, 1704) Collimator Right Vertical Edge      IS: \"2395\"\n",
       "(0018, 1706) Collimator Upper Horizontal Edge    IS: \"0\"\n",
       "(0018, 1708) Collimator Lower Horizontal Edge    IS: \"3063\"\n",
       "(0018, 5101) View Position                       CS: 'CC'\n",
       "(0018, 6000) Sensitivity                         DS: \"0.00947886426002\"\n",
       "(0018, 7000) Detector Conditions Nominal Flag    CS: 'YES'\n",
       "(0018, 7001) Detector Temperature                DS: \"30.734712600708\"\n",
       "(0018, 7004) Detector Type                       CS: 'SCINTILLATOR'\n",
       "(0018, 7005) Detector Configuration              CS: 'AREA'\n",
       "(0018, 7006) Detector Description                LT: 'DETECTOR VERSION 2.0 MTFCOMP 2.1'\n",
       "(0018, 701a) Detector Binning                    DS: [1, 1]\n",
       "(0018, 7020) Detector Element Physical Size      DS: [0.1, 0.1]\n",
       "(0018, 7022) Detector Element Spacing            DS: [0.1, 0.1]\n",
       "(0018, 7024) Detector Active Shape               CS: 'RECTANGLE'\n",
       "(0018, 7026) Detector Active Dimension(s)        DS: [240, 307.2]\n",
       "(0018, 7030) Field of View Origin                DS: [5, 1]\n",
       "(0018, 7032) Field of View Rotation              DS: \"0.0\"\n",
       "(0018, 7034) Field of View Horizontal Flip       CS: 'NO'\n",
       "(0018, 7050) Filter Material                     CS: 'RHODIUM'\n",
       "(0018, 7060) Exposure Control Mode               CS: 'AUTOMATIC'\n",
       "(0018, 7062) Exposure Control Mode Description   LT: 'AOP standard RECTANGLE 1436 mm 490 mm 180 mm 240 mm EXP DOSE 56923 nGy PRE-EXP DOSE 5685 nGy PRE-EXP THICK 56 mm PRE-EXP COMPO 50 % PRE-EXP KV 32 PRE-EXP TRACK Rh PRE-EXP FILTER Rh PADDLE 1 FLATFIELD no'\n",
       "(0018, 7064) Exposure Status                     CS: 'NORMAL'\n",
       "(0020, 000d) Study Instance UID                  UI: 2.25.100000201839274263174475898571171534853\n",
       "(0020, 000e) Series Instance UID                 UI: 2.25.318246036584838846276908907292834591076\n",
       "(0020, 0011) Series Number                       IS: \"12365\"\n",
       "(0020, 0013) Instance Number                     IS: \"2\"\n",
       "(0020, 0020) Patient Orientation                 CS: ['A', 'R']\n",
       "(0020, 0062) Image Laterality                    CS: 'L'\n",
       "(0028, 0002) Samples per Pixel                   US: 1\n",
       "(0028, 0004) Photometric Interpretation          CS: 'MONOCHROME2'\n",
       "(0028, 0010) Rows                                US: 3062\n",
       "(0028, 0011) Columns                             US: 2394\n",
       "(0028, 0100) Bits Allocated                      US: 16\n",
       "(0028, 0101) Bits Stored                         US: 12\n",
       "(0028, 0102) High Bit                            US: 11\n",
       "(0028, 0103) Pixel Representation                US: 0\n",
       "(0028, 0120) Pixel Padding Value                 US: 0\n",
       "(0028, 0121) Pixel Padding Range Limit           US: 30\n",
       "(0028, 0300) Quality Control Image               CS: 'NO'\n",
       "(0028, 0301) Burned In Annotation                CS: 'NO'\n",
       "(0028, 1040) Pixel Intensity Relationship        CS: 'LOG'\n",
       "(0028, 1041) Pixel Intensity Relationship Sign   SS: -1\n",
       "(0028, 1050) Window Center                       DS: [2953, 2977, 2911]\n",
       "(0028, 1051) Window Width                        DS: [900, 750, 1050]\n",
       "(0028, 1052) Rescale Intercept                   DS: \"0.0\"\n",
       "(0028, 1053) Rescale Slope                       DS: \"1.0\"\n",
       "(0028, 1054) Rescale Type                        LO: 'US'\n",
       "(0028, 1055) Window Center & Width Explanation   LO: ['NORMAL', 'HARDER', 'SOFTER']\n",
       "(0028, 1056) VOI LUT Function                    CS: 'SIGMOID'\n",
       "(0028, 1300) Breast Implant Present              CS: 'NO'\n",
       "(0028, 2110) Lossy Image Compression             CS: '00'\n",
       "(0028, 3010)  VOI LUT Sequence   3 item(s) ---- \n",
       "   (0028, 3002) LUT Descriptor                      US: [3171, 925, 12]\n",
       "   (0028, 3003) LUT Explanation                     LO: 'NORMAL'\n",
       "   (0028, 3006) LUT Data                            US: Array of 3171 elements\n",
       "   ---------\n",
       "   (0028, 3002) LUT Descriptor                      US: [2793, 1287, 12]\n",
       "   (0028, 3003) LUT Explanation                     LO: 'HARDER'\n",
       "   (0028, 3006) LUT Data                            US: Array of 2793 elements\n",
       "   ---------\n",
       "   (0028, 3002) LUT Descriptor                      US: [3546, 545, 12]\n",
       "   (0028, 3003) LUT Explanation                     LO: 'SOFTER'\n",
       "   (0028, 3006) LUT Data                            US: Array of 3546 elements\n",
       "   ---------\n",
       "(0040, 0302) Entrance Dose                       US: 0\n",
       "(0040, 0306) Distance Source to Entrance         DS: \"590.0\"\n",
       "(0040, 0316) Organ Dose                          DS: \"0.01397\"\n",
       "(0040, 0318) Organ Exposed                       CS: 'BREAST'\n",
       "(0040, 8302) Entrance Dose in mGy                DS: \"7.892\"\n",
       "(0054, 0220)  View Code Sequence   1 item(s) ---- \n",
       "   (0008, 0100) Code Value                          SH: 'R-10242'\n",
       "   (0008, 0102) Coding Scheme Designator            SH: 'SNM3'\n",
       "   (0008, 0104) Code Meaning                        LO: 'cranio-caudal'\n",
       "   (0054, 0222)  View Modifier Code Sequence   0 item(s) ---- \n",
       "   ---------\n",
       "(2050, 0020) Presentation LUT Shape              CS: 'IDENTITY'\n",
       "(7fe0, 0010) Pixel Data                          OB: Array of 2650202 elements"
      ]
     },
     "execution_count": 9,
     "metadata": {},
     "output_type": "execute_result"
    }
   ],
   "source": [
    "omama"
   ]
  },
  {
   "cell_type": "code",
   "execution_count": 10,
   "id": "d6f7a8e3",
   "metadata": {},
   "outputs": [
    {
     "data": {
      "text/plain": [
       "<matplotlib.image.AxesImage at 0x7f543c969340>"
      ]
     },
     "execution_count": 10,
     "metadata": {},
     "output_type": "execute_result"
    },
    {
     "data": {
      "image/png": "[encoded data removed]",
      "text/plain": [
       "<Figure size 432x288 with 1 Axes>"
      ]
     },
     "metadata": {
      "needs_background": "light"
     },
     "output_type": "display_data"
    }
   ],
   "source": [
    "plt.imshow(omama.pixel_array)"
   ]
  },
  {
   "cell_type": "code",
   "execution_count": 11,
   "id": "e30dc251",
   "metadata": {},
   "outputs": [
    {
     "data": {
      "text/plain": [
       "Dataset.file_meta -------------------------------\n",
       "(0002, 0000) File Meta Information Group Length  UL: 186\n",
       "(0002, 0001) File Meta Information Version       OB: b'\\x00\\x01'\n",
       "(0002, 0002) Media Storage SOP Class UID         UI: Digital Mammography X-Ray Image Storage - For Presentation\n",
       "(0002, 0003) Media Storage SOP Instance UID      UI: 1.2.840.10009.1.2.3.10006.1.1459541791\n",
       "(0002, 0010) Transfer Syntax UID                 UI: JPEG 2000 Image Compression (Lossless Only)\n",
       "(0002, 0012) Implementation Class UID            UI: 1.2.840.113654.2.3.1995.2.12.0\n",
       "(0002, 0013) Implementation Version Name         SH: 'PYDICOM 2.3.0'\n",
       "-------------------------------------------------\n",
       "(0008, 0016) SOP Class UID                       UI: Digital Mammography X-Ray Image Storage - For Presentation\n",
       "(0008, 0018) SOP Instance UID                    UI: 1.2.840.10009.1.2.3.10006.1.1459541791\n",
       "(0008, 0020) Study Date                          DA: ''\n",
       "(0008, 0021) Series Date                         DA: ''\n",
       "(0008, 0023) Content Date                        DA: ''\n",
       "(0008, 0030) Study Time                          TM: ''\n",
       "(0008, 0033) Content Time                        TM: '183901.792591'\n",
       "(0008, 0050) Accession Number                    SH: 'JKKVDLHMGQJX'\n",
       "(0008, 0070) Manufacturer                        LO: 'Hologic'\n",
       "(0008, 0080) Institution Name                    LO: ''\n",
       "(0008, 1090) Manufacturer's Model Name           LO: 'Selenia Dimensions'\n",
       "(0010, 0010) Patient's Name                      PN: ''\n",
       "(0010, 0020) Patient ID                          LO: '10006'\n",
       "(0010, 0030) Patient's Birth Date                DA: ''\n",
       "(0010, 0040) Patient's Sex                       CS: ''\n",
       "(0010, 1010) Patient's Age                       AS: '732.0m'\n",
       "(0018, 1401) Acquisition Device Processing Code  LO: ''\n",
       "(0018, 5101) View Position                       CS: 'MLO'\n",
       "(0020, 000d) Study Instance UID                  UI: 1.2.840.10009.1.2.3.10006\n",
       "(0020, 000e) Series Instance UID                 UI: 1.2.840.10009.1.2.3.10006.1\n",
       "(0020, 0013) Instance Number                     IS: \"1459541791\"\n",
       "(0020, 0062) Image Laterality                    CS: 'L'\n",
       "(0028, 0002) Samples per Pixel                   US: 1\n",
       "(0028, 0004) Photometric Interpretation          CS: 'MONOCHROME1'\n",
       "(0028, 0010) Rows                                US: 5355\n",
       "(0028, 0011) Columns                             US: 4915\n",
       "(0028, 0100) Bits Allocated                      US: 16\n",
       "(0028, 0101) Bits Stored                         US: 16\n",
       "(0028, 0102) High Bit                            US: 15\n",
       "(0028, 0103) Pixel Representation                US: 0\n",
       "(0028, 0120) Pixel Padding Value                 US: 3044\n",
       "(0028, 1040) Pixel Intensity Relationship        CS: 'LOG'\n",
       "(0028, 1041) Pixel Intensity Relationship Sign   SS: 1\n",
       "(0028, 1050) Window Center                       DS: [1802.310000, 1802.310000, 2020.704000, 1583.916000]\n",
       "(0028, 1051) Window Width                        DS: [1091.970000, 1091.970000, 1091.970000, 1091.970000]\n",
       "(0028, 1052) Rescale Intercept                   DS: \"0.0\"\n",
       "(0028, 1053) Rescale Slope                       DS: \"1.0\"\n",
       "(0028, 1054) Rescale Type                        LO: 'US'\n",
       "(0028, 1056) VOI LUT Function                    CS: 'SIGMOID'\n",
       "(0028, 1300) Breast Implant Present              CS: 'NO'\n",
       "(0028, 1350) Partial View                        CS: ''\n",
       "(0028, 1351) Partial View Description            ST: ''\n",
       "(0028, 2110) Lossy Image Compression             CS: '00'\n",
       "(0032, 000c) Study Priority ID                   CS: ''\n",
       "(0032, 1001) Scheduled Study Start Time          TM: ''\n",
       "(0038, 0016) Route of Admissions                 LO: ''\n",
       "(0040, 1003) Requested Procedure Priority        SH: ''\n",
       "(0054, 0220)  View Code Sequence   0 item(s) ---- \n",
       "(7fe0, 0010) Pixel Data                          OW: Array of 4362044 elements"
      ]
     },
     "execution_count": 11,
     "metadata": {},
     "output_type": "execute_result"
    }
   ],
   "source": [
    "kaggle"
   ]
  },
  {
   "cell_type": "code",
   "execution_count": 12,
   "id": "9212aba3",
   "metadata": {},
   "outputs": [
    {
     "data": {
      "text/plain": [
       "<matplotlib.image.AxesImage at 0x7f5438e9aac0>"
      ]
     },
     "execution_count": 12,
     "metadata": {},
     "output_type": "execute_result"
    },
    {
     "data": {
      "image/png": "[encoded data removed]",
      "text/plain": [
       "<Figure size 432x288 with 1 Axes>"
      ]
     },
     "metadata": {
      "needs_background": "light"
     },
     "output_type": "display_data"
    }
   ],
   "source": [
    "plt.imshow(kaggle.pixel_array)"
   ]
  },
  {
   "cell_type": "code",
   "execution_count": 13,
   "id": "be75674f",
   "metadata": {},
   "outputs": [
    {
     "data": {
      "text/plain": [
       "dtype('uint16')"
      ]
     },
     "execution_count": 13,
     "metadata": {},
     "output_type": "execute_result"
    }
   ],
   "source": [
    "omama.pixel_array.dtype"
   ]
  },
  {
   "cell_type": "code",
   "execution_count": 14,
   "id": "a401fead",
   "metadata": {},
   "outputs": [
    {
     "data": {
      "text/plain": [
       "dtype('uint16')"
      ]
     },
     "execution_count": 14,
     "metadata": {},
     "output_type": "execute_result"
    }
   ],
   "source": [
    "kaggle.pixel_array.dtype"
   ]
  },
  {
   "cell_type": "code",
   "execution_count": null,
   "id": "6a0b68bf",
   "metadata": {},
   "outputs": [],
   "source": []
  },
  {
   "cell_type": "code",
   "execution_count": 15,
   "id": "0a1c0fb5",
   "metadata": {},
   "outputs": [
    {
     "name": "stdout",
     "output_type": "stream",
     "text": [
      "New dicom saved to DXm.1459541791.dcm\n"
     ]
    }
   ],
   "source": [
    "kagoma = K.DicomCopyMachine(omama,kaggle,\"DXm.1459541791.dcm\")"
   ]
  },
  {
   "cell_type": "code",
   "execution_count": null,
   "id": "a5b1326c",
   "metadata": {},
   "outputs": [],
   "source": []
  },
  {
   "cell_type": "code",
   "execution_count": 16,
   "id": "f6e4cd8e",
   "metadata": {},
   "outputs": [
    {
     "name": "stderr",
     "output_type": "stream",
     "text": [
      "Not a JPEG file: starts with 0x00 0x00\n"
     ]
    },
    {
     "data": {
      "image/png": "[encoded data removed]",
      "text/plain": [
       "<Figure size 432x288 with 1 Axes>"
      ]
     },
     "metadata": {
      "needs_background": "light"
     },
     "output_type": "display_data"
    }
   ],
   "source": [
    "kagoma.view_dicom()"
   ]
  },
  {
   "cell_type": "code",
   "execution_count": 17,
   "id": "24c32701",
   "metadata": {},
   "outputs": [],
   "source": [
    "test = pydicom.dcmread(\"DXm.1459541791.dcm\")"
   ]
  },
  {
   "cell_type": "code",
   "execution_count": null,
   "id": "215f3e40",
   "metadata": {},
   "outputs": [],
   "source": []
  },
  {
   "cell_type": "code",
   "execution_count": 18,
   "id": "d40df3cc",
   "metadata": {},
   "outputs": [
    {
     "name": "stderr",
     "output_type": "stream",
     "text": [
      "Not a JPEG file: starts with 0x00 0x00\n"
     ]
    },
    {
     "data": {
      "text/plain": [
       "dtype('uint16')"
      ]
     },
     "execution_count": 18,
     "metadata": {},
     "output_type": "execute_result"
    }
   ],
   "source": [
    "test.pixel_array.dtype"
   ]
  },
  {
   "cell_type": "code",
   "execution_count": null,
   "id": "fcf11343",
   "metadata": {},
   "outputs": [],
   "source": []
  },
  {
   "cell_type": "code",
   "execution_count": 15,
   "id": "77d9d5b0",
   "metadata": {},
   "outputs": [
    {
     "data": {
      "text/plain": [
       "Dataset.file_meta -------------------------------\n",
       "(0002, 0000) File Meta Information Group Length  UL: 192\n",
       "(0002, 0001) File Meta Information Version       OB: b'\\x00\\x01'\n",
       "(0002, 0002) Media Storage SOP Class UID         UI: Digital Mammography X-Ray Image Storage - For Presentation\n",
       "(0002, 0003) Media Storage SOP Instance UID      UI: 2.25.119403010146292111130118207990186551199\n",
       "(0002, 0010) Transfer Syntax UID                 UI: JPEG Lossless, Non-Hierarchical, First-Order Prediction (Process 14 [Selection Value 1])\n",
       "(0002, 0012) Implementation Class UID            UI: 1.2.276.0.7230010.3.0.3.6.4\n",
       "(0002, 0013) Implementation Version Name         SH: 'OFFIS_DCMTK_364'\n",
       "-------------------------------------------------\n",
       "(0008, 0005) Specific Character Set              CS: 'ISO_IR 100'\n",
       "(0008, 0008) Image Type                          CS: ['ORIGINAL', 'PRIMARY', '']\n",
       "(0008, 0016) SOP Class UID                       UI: Digital Mammography X-Ray Image Storage - For Presentation\n",
       "(0008, 0018) SOP Instance UID                    UI: 2.25.119403010146292111130118207990186551199\n",
       "(0008, 0020) Study Date                          DA: ''\n",
       "(0008, 0021) Series Date                         DA: ''\n",
       "(0008, 0023) Content Date                        DA: ''\n",
       "(0008, 0030) Study Time                          TM: ''\n",
       "(0008, 0033) Content Time                        TM: ''\n",
       "(0008, 0050) Accession Number                    SH: 'DHMO4N9W6KD1'\n",
       "(0008, 0060) Modality                            CS: 'MG'\n",
       "(0008, 0064) Conversion Type                     CS: 'WSD'\n",
       "(0008, 0068) Presentation Intent Type            CS: 'FOR PRESENTATION'\n",
       "(0008, 0070) Manufacturer                        LO: 'GE MEDICAL SYSTEMS'\n",
       "(0008, 0080) Institution Name                    LO: ''\n",
       "(0008, 1030) Study Description                   LO: 'MAMMO SCREENING BILATERAL DIGITAL W CAD'\n",
       "(0008, 103e) Series Description                  LO: 'MAMMO SCREEN BILAT DIGITAL W/CAD'\n",
       "(0008, 1090) Manufacturer's Model Name           LO: 'Senographe Essential VERSION ADS_53.10.1.1'\n",
       "(0008, 2218)  Anatomic Region Sequence   1 item(s) ---- \n",
       "   (0008, 0100) Code Value                          SH: 'T-04000'\n",
       "   (0008, 0102) Coding Scheme Designator            SH: 'SNM3'\n",
       "   (0008, 0104) Code Meaning                        LO: 'BREAST'\n",
       "   ---------\n",
       "(0010, 0010) Patient's Name                      PN: ''\n",
       "(0010, 0020) Patient ID                          LO: 'DHJ5JE9QXAV0'\n",
       "(0010, 0030) Patient's Birth Date                DA: ''\n",
       "(0010, 0040) Patient's Sex                       CS: ''\n",
       "(0010, 1010) Patient's Age                       AS: '541M'\n",
       "(0018, 0015) Body Part Examined                  CS: 'BREAST'\n",
       "(0018, 0060) KVP                                 DS: \"29.0\"\n",
       "(0018, 1110) Distance Source to Detector         DS: \"660.0\"\n",
       "(0018, 1111) Distance Source to Patient          DS: \"660.0\"\n",
       "(0018, 1114) Estimated Radiographic Magnificatio DS: \"1.0\"\n",
       "(0018, 1147) Field of View Shape                 CS: 'RECTANGLE'\n",
       "(0018, 1149) Field of View Dimension(s)          IS: [306, 239]\n",
       "(0018, 1150) Exposure Time                       IS: \"1197\"\n",
       "(0018, 1151) X-Ray Tube Current                  IS: \"62\"\n",
       "(0018, 1152) Exposure                            IS: \"74\"\n",
       "(0018, 1153) Exposure in uAs                     IS: \"74300\"\n",
       "(0018, 1160) Filter Type                         SH: 'STRIP'\n",
       "(0018, 1164) Imager Pixel Spacing                DS: [0.09409090909091, 0.09409090909091]\n",
       "(0018, 1166) Grid                                CS: ['RECIPROCATING', 'FOCUSED']\n",
       "(0018, 1190) Focal Spot(s)                       DS: \"0.3\"\n",
       "(0018, 1191) Anode Target Material               CS: 'RHODIUM'\n",
       "(0018, 11a0) Body Part Thickness                 DS: \"70.0\"\n",
       "(0018, 11a2) Compression Force                   DS: \"60.0\"\n",
       "(0018, 1401) Acquisition Device Processing Code  LO: 'GEMS_FFDM_PV'\n",
       "(0018, 1405) Relative X-Ray Exposure             IS: \"7892\"\n",
       "(0018, 1508) Positioner Type                     CS: 'MAMMOGRAPHIC'\n",
       "(0018, 1510) Positioner Primary Angle            DS: \"0.0\"\n",
       "(0018, 1531) Detector Secondary Angle            DS: \"0.0\"\n",
       "(0018, 1700) Collimator Shape                    CS: 'RECTANGULAR'\n",
       "(0018, 1702) Collimator Left Vertical Edge       IS: \"0\"\n",
       "(0018, 1704) Collimator Right Vertical Edge      IS: \"2395\"\n",
       "(0018, 1706) Collimator Upper Horizontal Edge    IS: \"0\"\n",
       "(0018, 1708) Collimator Lower Horizontal Edge    IS: \"3063\"\n",
       "(0018, 5101) View Position                       CS: 'CC'\n",
       "(0018, 6000) Sensitivity                         DS: \"0.00947886426002\"\n",
       "(0018, 7000) Detector Conditions Nominal Flag    CS: 'YES'\n",
       "(0018, 7001) Detector Temperature                DS: \"30.734712600708\"\n",
       "(0018, 7004) Detector Type                       CS: 'SCINTILLATOR'\n",
       "(0018, 7005) Detector Configuration              CS: 'AREA'\n",
       "(0018, 7006) Detector Description                LT: 'DETECTOR VERSION 2.0 MTFCOMP 2.1'\n",
       "(0018, 701a) Detector Binning                    DS: [1, 1]\n",
       "(0018, 7020) Detector Element Physical Size      DS: [0.1, 0.1]\n",
       "(0018, 7022) Detector Element Spacing            DS: [0.1, 0.1]\n",
       "(0018, 7024) Detector Active Shape               CS: 'RECTANGLE'\n",
       "(0018, 7026) Detector Active Dimension(s)        DS: [240, 307.2]\n",
       "(0018, 7030) Field of View Origin                DS: [5, 1]\n",
       "(0018, 7032) Field of View Rotation              DS: \"0.0\"\n",
       "(0018, 7034) Field of View Horizontal Flip       CS: 'NO'\n",
       "(0018, 7050) Filter Material                     CS: 'RHODIUM'\n",
       "(0018, 7060) Exposure Control Mode               CS: 'AUTOMATIC'\n",
       "(0018, 7062) Exposure Control Mode Description   LT: 'AOP standard RECTANGLE 1436 mm 490 mm 180 mm 240 mm EXP DOSE 56923 nGy PRE-EXP DOSE 5685 nGy PRE-EXP THICK 56 mm PRE-EXP COMPO 50 % PRE-EXP KV 32 PRE-EXP TRACK Rh PRE-EXP FILTER Rh PADDLE 1 FLATFIELD no'\n",
       "(0018, 7064) Exposure Status                     CS: 'NORMAL'\n",
       "(0020, 000d) Study Instance UID                  UI: 2.25.100000201839274263174475898571171534853\n",
       "(0020, 000e) Series Instance UID                 UI: 2.25.318246036584838846276908907292834591076\n",
       "(0020, 0011) Series Number                       IS: \"12365\"\n",
       "(0020, 0013) Instance Number                     IS: \"2\"\n",
       "(0020, 0020) Patient Orientation                 CS: ['A', 'R']\n",
       "(0020, 0062) Image Laterality                    CS: 'L'\n",
       "(0028, 0002) Samples per Pixel                   US: 1\n",
       "(0028, 0004) Photometric Interpretation          CS: 'MONOCHROME2'\n",
       "(0028, 0010) Rows                                US: 3062\n",
       "(0028, 0011) Columns                             US: 2394\n",
       "(0028, 0100) Bits Allocated                      US: 16\n",
       "(0028, 0101) Bits Stored                         US: 12\n",
       "(0028, 0102) High Bit                            US: 11\n",
       "(0028, 0103) Pixel Representation                US: 0\n",
       "(0028, 0120) Pixel Padding Value                 US: 0\n",
       "(0028, 0121) Pixel Padding Range Limit           US: 30\n",
       "(0028, 0300) Quality Control Image               CS: 'NO'\n",
       "(0028, 0301) Burned In Annotation                CS: 'NO'\n",
       "(0028, 1040) Pixel Intensity Relationship        CS: 'LOG'\n",
       "(0028, 1041) Pixel Intensity Relationship Sign   SS: -1\n",
       "(0028, 1050) Window Center                       DS: [2953, 2977, 2911]\n",
       "(0028, 1051) Window Width                        DS: [900, 750, 1050]\n",
       "(0028, 1052) Rescale Intercept                   DS: \"0.0\"\n",
       "(0028, 1053) Rescale Slope                       DS: \"1.0\"\n",
       "(0028, 1054) Rescale Type                        LO: 'US'\n",
       "(0028, 1055) Window Center & Width Explanation   LO: ['NORMAL', 'HARDER', 'SOFTER']\n",
       "(0028, 1056) VOI LUT Function                    CS: 'SIGMOID'\n",
       "(0028, 1300) Breast Implant Present              CS: 'NO'\n",
       "(0028, 2110) Lossy Image Compression             CS: '00'\n",
       "(0028, 3010)  VOI LUT Sequence   3 item(s) ---- \n",
       "   (0028, 3002) LUT Descriptor                      US: [3171, 925, 12]\n",
       "   (0028, 3003) LUT Explanation                     LO: 'NORMAL'\n",
       "   (0028, 3006) LUT Data                            US: Array of 3171 elements\n",
       "   ---------\n",
       "   (0028, 3002) LUT Descriptor                      US: [2793, 1287, 12]\n",
       "   (0028, 3003) LUT Explanation                     LO: 'HARDER'\n",
       "   (0028, 3006) LUT Data                            US: Array of 2793 elements\n",
       "   ---------\n",
       "   (0028, 3002) LUT Descriptor                      US: [3546, 545, 12]\n",
       "   (0028, 3003) LUT Explanation                     LO: 'SOFTER'\n",
       "   (0028, 3006) LUT Data                            US: Array of 3546 elements\n",
       "   ---------\n",
       "(0040, 0302) Entrance Dose                       US: 0\n",
       "(0040, 0306) Distance Source to Entrance         DS: \"590.0\"\n",
       "(0040, 0316) Organ Dose                          DS: \"0.01397\"\n",
       "(0040, 0318) Organ Exposed                       CS: 'BREAST'\n",
       "(0040, 8302) Entrance Dose in mGy                DS: \"7.892\"\n",
       "(0054, 0220)  View Code Sequence   1 item(s) ---- \n",
       "   (0008, 0100) Code Value                          SH: 'R-10242'\n",
       "   (0008, 0102) Coding Scheme Designator            SH: 'SNM3'\n",
       "   (0008, 0104) Code Meaning                        LO: 'cranio-caudal'\n",
       "   (0054, 0222)  View Modifier Code Sequence   0 item(s) ---- \n",
       "   ---------\n",
       "(2050, 0020) Presentation LUT Shape              CS: 'IDENTITY'\n",
       "(7fe0, 0010) Pixel Data                          OB: Array of 4362044 elements"
      ]
     },
     "execution_count": 15,
     "metadata": {},
     "output_type": "execute_result"
    }
   ],
   "source": [
    "test"
   ]
  },
  {
   "cell_type": "code",
   "execution_count": 19,
   "id": "60928593",
   "metadata": {},
   "outputs": [
    {
     "data": {
      "text/plain": [
       "<matplotlib.image.AxesImage at 0x7f543d084700>"
      ]
     },
     "execution_count": 19,
     "metadata": {},
     "output_type": "execute_result"
    },
    {
     "data": {
      "image/png": "[encoded data removed]",
      "text/plain": [
       "<Figure size 432x288 with 1 Axes>"
      ]
     },
     "metadata": {
      "needs_background": "light"
     },
     "output_type": "display_data"
    }
   ],
   "source": [
    "plt.imshow(test.pixel_array)"
   ]
  },
  {
   "cell_type": "code",
   "execution_count": null,
   "id": "f0d4b1e8",
   "metadata": {},
   "outputs": [],
   "source": []
  }
 ],
 "metadata": {
  "kernelspec": {
   "display_name": "Python 3 (ipykernel)",
   "language": "python",
   "name": "python3"
  },
  "language_info": {
   "codemirror_mode": {
    "name": "ipython",
    "version": 3
   },
   "file_extension": ".py",
   "mimetype": "text/x-python",
   "name": "python",
   "nbconvert_exporter": "python",
   "pygments_lexer": "ipython3",
   "version": "3.9.7"
  }
 },
 "nbformat": 4,
 "nbformat_minor": 5
}
