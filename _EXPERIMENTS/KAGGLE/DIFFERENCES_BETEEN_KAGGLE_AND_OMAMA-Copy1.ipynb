{
 "cells": [
  {
   "cell_type": "code",
   "execution_count": 14,
   "id": "dad6d7d8",
   "metadata": {},
   "outputs": [
    {
     "name": "stdout",
     "output_type": "stream",
     "text": [
      "Populating the interactive namespace from numpy and matplotlib\n",
      "The autoreload extension is already loaded. To reload it, use:\n",
      "  %reload_ext autoreload\n"
     ]
    },
    {
     "data": {
      "text/html": [
       "<style>.container { width:100% !important; }</style>"
      ],
      "text/plain": [
       "<IPython.core.display.HTML object>"
      ]
     },
     "metadata": {},
     "output_type": "display_data"
    }
   ],
   "source": [
    "%pylab inline\n",
    "%load_ext autoreload\n",
    "%autoreload 2\n",
    "from IPython.display import display, HTML\n",
    "display(HTML(\"<style>.container { width:100% !important; }</style>\"))"
   ]
  },
  {
   "cell_type": "code",
   "execution_count": 15,
   "id": "9c8a8900",
   "metadata": {},
   "outputs": [],
   "source": [
    "import sys\n",
    "sys.path.insert(0,'../..')\n",
    "import omama as O\n",
    "import pickle"
   ]
  },
  {
   "cell_type": "code",
   "execution_count": 16,
   "id": "2feffc90",
   "metadata": {},
   "outputs": [
    {
     "name": "stdout",
     "output_type": "stream",
     "text": [
      "DataLoader type is:  <class 'omama.kaggle_loader.KaggleLoader'>\n"
     ]
    }
   ],
   "source": [
    "kl = O.KaggleLoader(config_num=2)\n",
    "kData = O.Data(kl, load_cache=True)"
   ]
  },
  {
   "cell_type": "code",
   "execution_count": 18,
   "id": "f1c7d1d3",
   "metadata": {},
   "outputs": [
    {
     "name": "stdout",
     "output_type": "stream",
     "text": [
      "Data(namespace(train_images=namespace(total=4, 3D=0, 2D=4),\n",
      "          total_all_dicoms=4,\n",
      "          total_2d_all=4,\n",
      "          total_3d_all=0,\n",
      "          total_2d_cancer=0,\n",
      "          total_2d_preindex=0,\n",
      "          total_2d_noncancer=4,\n",
      "          total_3d_cancer=0,\n",
      "          total_3d_preindex=0,\n",
      "          total_3d_noncancer=0,\n",
      "          total_cancer=0,\n",
      "          total_preindex=0,\n",
      "          total_noncancer=4,\n",
      "          total_no_label=0))\n"
     ]
    }
   ],
   "source": [
    "print(kData)"
   ]
  },
  {
   "cell_type": "code",
   "execution_count": 27,
   "id": "c52d19eb",
   "metadata": {},
   "outputs": [],
   "source": [
    "import pandas as pd\n",
    "csv_path = '/raid/mpsych/kaggle_mammograms/train.csv'\n",
    "csv_data = pd.read_csv(csv_path)\n",
    "machine_codes = csv_data['machine_id'].tolist()"
   ]
  },
  {
   "cell_type": "code",
   "execution_count": 28,
   "id": "89f60576",
   "metadata": {},
   "outputs": [
    {
     "data": {
      "text/plain": [
       "Counter({29: 8267,\n",
       "         21: 8221,\n",
       "         216: 1908,\n",
       "         93: 1915,\n",
       "         49: 23529,\n",
       "         48: 8699,\n",
       "         170: 923,\n",
       "         210: 1070,\n",
       "         190: 145,\n",
       "         197: 29})"
      ]
     },
     "execution_count": 28,
     "metadata": {},
     "output_type": "execute_result"
    }
   ],
   "source": [
    "from collections import Counter\n",
    "Counter(machine_codes)"
   ]
  },
  {
   "cell_type": "code",
   "execution_count": 19,
   "id": "f3c11191",
   "metadata": {},
   "outputs": [
    {
     "data": {
      "text/plain": [
       "Dataset.file_meta -------------------------------\n",
       "(0002, 0001) File Meta Information Version       OB: b'\\x00\\x01'\n",
       "(0002, 0002) Media Storage SOP Class UID         UI: Digital X-Ray Image Storage - For Presentation\n",
       "(0002, 0003) Media Storage SOP Instance UID      UI: 1.2.840.10009.1.2.3.10006.1.1459541791\n",
       "(0002, 0010) Transfer Syntax UID                 UI: JPEG 2000 Image Compression (Lossless Only)\n",
       "(0002, 0012) Implementation Class UID            UI: 1.2.840.113654.2.3.1995.2.12.0\n",
       "(0002, 0013) Implementation Version Name         SH: 'PYDICOM 2.3.0'\n",
       "-------------------------------------------------\n",
       "(0008, 0016) SOP Class UID                       UI: Digital Mammography X-Ray Image Storage - For Presentation\n",
       "(0008, 0018) SOP Instance UID                    UI: 1.2.840.10009.1.2.3.10006.1.1459541791\n",
       "(0008, 0020) Study Date                          DA: ''\n",
       "(0008, 0021) Series Date                         DA: ''\n",
       "(0008, 0023) Content Date                        DA: ''\n",
       "(0008, 0030) Study Time                          TM: ''\n",
       "(0008, 0033) Content Time                        TM: '183901.792591'\n",
       "(0008, 0050) Accession Number                    SH: 'YWGWHIPPIEWS'\n",
       "(0008, 0070) Manufacturer                        LO: 'Hologic'\n",
       "(0008, 0080) Institution Name                    LO: ''\n",
       "(0008, 1090) Manufacturer's Model Name           LO: 'Selenia Dimensions'\n",
       "(0010, 0010) Patient's Name                      PN: ''\n",
       "(0010, 0020) Patient ID                          LO: '10006'\n",
       "(0010, 0030) Patient's Birth Date                DA: ''\n",
       "(0010, 0040) Patient's Sex                       CS: ''\n",
       "(0010, 1010) Patient's Age                       AS: '732.0m'\n",
       "(0018, 1401) Acquisition Device Processing Code  LO: ''\n",
       "(0018, 5101) View Position                       CS: 'MLO'\n",
       "(0020, 000d) Study Instance UID                  UI: 1.2.840.10009.1.2.3.10006\n",
       "(0020, 000e) Series Instance UID                 UI: 1.2.840.10009.1.2.3.10006.1\n",
       "(0020, 0013) Instance Number                     IS: \"1459541791\"\n",
       "(0020, 0020) Patient Orientation                 CS: ['A', 'R']\n",
       "(0020, 0062) Image Laterality                    CS: 'L'\n",
       "(0028, 0002) Samples per Pixel                   US: 1\n",
       "(0028, 0004) Photometric Interpretation          CS: 'MONOCHROME1'\n",
       "(0028, 0010) Rows                                US: 5355\n",
       "(0028, 0011) Columns                             US: 4915\n",
       "(0028, 0100) Bits Allocated                      US: 16\n",
       "(0028, 0101) Bits Stored                         US: 16\n",
       "(0028, 0102) High Bit                            US: 15\n",
       "(0028, 0103) Pixel Representation                US: 0\n",
       "(0028, 0120) Pixel Padding Value                 US: 3044\n",
       "(0028, 1040) Pixel Intensity Relationship        CS: 'LOG'\n",
       "(0028, 1041) Pixel Intensity Relationship Sign   SS: 1\n",
       "(0028, 1050) Window Center                       DS: [1802.310000, 1802.310000, 2020.704000, 1583.916000]\n",
       "(0028, 1051) Window Width                        DS: [1091.970000, 1091.970000, 1091.970000, 1091.970000]\n",
       "(0028, 1052) Rescale Intercept                   DS: \"0.0\"\n",
       "(0028, 1053) Rescale Slope                       DS: \"1.0\"\n",
       "(0028, 1054) Rescale Type                        LO: 'US'\n",
       "(0028, 1056) VOI LUT Function                    CS: 'SIGMOID'\n",
       "(0028, 1300) Breast Implant Present              CS: 'NO'\n",
       "(0028, 1350) Partial View                        CS: ''\n",
       "(0028, 1351) Partial View Description            ST: ''\n",
       "(0028, 2110) Lossy Image Compression             CS: '00'\n",
       "(0032, 000c) Study Priority ID                   CS: ''\n",
       "(0032, 1001) Scheduled Study Start Time          TM: ''\n",
       "(0038, 0016) Route of Admissions                 LO: ''\n",
       "(0040, 1003) Requested Procedure Priority        SH: ''\n",
       "(0054, 0220)  View Code Sequence   0 item(s) ---- \n",
       "(7fe0, 0010) Pixel Data                          OW: Array of 4362044 elements"
      ]
     },
     "execution_count": 19,
     "metadata": {},
     "output_type": "execute_result"
    }
   ],
   "source": [
    "kData[0]"
   ]
  },
  {
   "cell_type": "code",
   "execution_count": 11,
   "id": "62dbe98d",
   "metadata": {},
   "outputs": [
    {
     "name": "stdout",
     "output_type": "stream",
     "text": [
      "DataLoader type is:  <class 'omama.omama_loader.OmamaLoader'>\n"
     ]
    }
   ],
   "source": [
    "ol = O.OmamaLoader(config_num=2)\n",
    "kData = O.Data(ol, load_cache=True)"
   ]
  },
  {
   "cell_type": "code",
   "execution_count": 12,
   "id": "7c4dfbe7",
   "metadata": {},
   "outputs": [
    {
     "name": "stdout",
     "output_type": "stream",
     "text": [
      "Data(namespace(dh_dh2=namespace(total=17, 3D=0, 2D=17),\n",
      "          dh_dh0new=namespace(total=288, 3D=0, 2D=288),\n",
      "          dh_dcm_ast=namespace(total=176187, 3D=0, 2D=176187),\n",
      "          total_all_dicoms=176492,\n",
      "          total_2d_all=176492,\n",
      "          total_3d_all=0,\n",
      "          total_2d_cancer=7465,\n",
      "          total_2d_preindex=1657,\n",
      "          total_2d_noncancer=167370,\n",
      "          total_3d_cancer=0,\n",
      "          total_3d_preindex=0,\n",
      "          total_3d_noncancer=0,\n",
      "          total_cancer=7465,\n",
      "          total_preindex=1657,\n",
      "          total_noncancer=167370,\n",
      "          total_no_label=0))\n"
     ]
    }
   ],
   "source": [
    "print(kData)"
   ]
  },
  {
   "cell_type": "code",
   "execution_count": 13,
   "id": "d33e51ce",
   "metadata": {},
   "outputs": [
    {
     "data": {
      "text/plain": [
       "Dataset.file_meta -------------------------------\n",
       "(0002, 0000) File Meta Information Group Length  UL: 192\n",
       "(0002, 0001) File Meta Information Version       OB: b'\\x00\\x01'\n",
       "(0002, 0002) Media Storage SOP Class UID         UI: Digital Mammography X-Ray Image Storage - For Presentation\n",
       "(0002, 0003) Media Storage SOP Instance UID      UI: 2.25.188793374147464098947600478231554732538\n",
       "(0002, 0010) Transfer Syntax UID                 UI: JPEG Lossless, Non-Hierarchical, First-Order Prediction (Process 14 [Selection Value 1])\n",
       "(0002, 0012) Implementation Class UID            UI: 1.2.276.0.7230010.3.0.3.6.4\n",
       "(0002, 0013) Implementation Version Name         SH: 'OFFIS_DCMTK_364'\n",
       "-------------------------------------------------\n",
       "(0008, 0005) Specific Character Set              CS: 'ISO_IR 100'\n",
       "(0008, 0008) Image Type                          CS: ['DERIVED', 'SECONDARY']\n",
       "(0008, 0016) SOP Class UID                       UI: Digital Mammography X-Ray Image Storage - For Presentation\n",
       "(0008, 0018) SOP Instance UID                    UI: 2.25.188793374147464098947600478231554732538\n",
       "(0008, 0020) Study Date                          DA: ''\n",
       "(0008, 0021) Series Date                         DA: ''\n",
       "(0008, 0023) Content Date                        DA: ''\n",
       "(0008, 0030) Study Time                          TM: ''\n",
       "(0008, 0033) Content Time                        TM: ''\n",
       "(0008, 0050) Accession Number                    SH: 'DH3MJBSVKSE6'\n",
       "(0008, 0060) Modality                            CS: 'MG'\n",
       "(0008, 0061) Modalities in Study                 CS: 'MG'\n",
       "(0008, 0068) Presentation Intent Type            CS: 'FOR PRESENTATION'\n",
       "(0008, 0070) Manufacturer                        LO: 'HOLOGIC, Inc.'\n",
       "(0008, 0080) Institution Name                    LO: ''\n",
       "(0008, 1030) Study Description                   LO: 'MAMMO BILATERAL'\n",
       "(0008, 103e) Series Description                  LO: 'R CC'\n",
       "(0008, 1090) Manufacturer's Model Name           LO: 'Lorad Selenia'\n",
       "(0008, 2218)  Anatomic Region Sequence   1 item(s) ---- \n",
       "   (0008, 0100) Code Value                          SH: 'T-04000'\n",
       "   (0008, 0102) Coding Scheme Designator            SH: 'SNM3'\n",
       "   (0008, 0104) Code Meaning                        LO: 'Breast'\n",
       "   ---------\n",
       "(0010, 0010) Patient's Name                      PN: ''\n",
       "(0010, 0020) Patient ID                          LO: 'DHM412T3S85V'\n",
       "(0010, 0030) Patient's Birth Date                DA: ''\n",
       "(0010, 0040) Patient's Sex                       CS: ''\n",
       "(0010, 1010) Patient's Age                       AS: '426M'\n",
       "(0018, 0015) Body Part Examined                  CS: 'BREAST'\n",
       "(0018, 0060) KVP                                 DS: \"28.0\"\n",
       "(0018, 1110) Distance Source to Detector         DS: \"660.0\"\n",
       "(0018, 1111) Distance Source to Patient          DS: \"640.0\"\n",
       "(0018, 1114) Estimated Radiographic Magnificatio DS: \"1.0\"\n",
       "(0018, 1147) Field of View Shape                 CS: 'RECTANGLE'\n",
       "(0018, 1150) Exposure Time                       IS: \"1892\"\n",
       "(0018, 1151) X-Ray Tube Current                  IS: \"100\"\n",
       "(0018, 1152) Exposure                            IS: \"189\"\n",
       "(0018, 1153) Exposure in uAs                     IS: \"189200\"\n",
       "(0018, 1164) Imager Pixel Spacing                DS: [.070, .070]\n",
       "(0018, 1166) Grid                                CS: 'HTC_IN'\n",
       "(0018, 1190) Focal Spot(s)                       DS: \"0.3\"\n",
       "(0018, 1191) Anode Target Material               CS: 'TUNGSTEN'\n",
       "(0018, 11a0) Body Part Thickness                 DS: \"52.0\"\n",
       "(0018, 11a2) Compression Force                   DS: \"89.0002\"\n",
       "(0018, 1201) Time of Last Calibration            TM: '075330'\n",
       "(0018, 1401) Acquisition Device Processing Code  LO: ''\n",
       "(0018, 1405) Relative X-Ray Exposure             IS: \"611\"\n",
       "(0018, 1508) Positioner Type                     CS: 'MAMMOGRAPHIC'\n",
       "(0018, 1510) Positioner Primary Angle            DS: \"0.0\"\n",
       "(0018, 1511) Positioner Secondary Angle          DS: None\n",
       "(0018, 5101) View Position                       CS: 'CC'\n",
       "(0018, 6000) Sensitivity                         DS: None\n",
       "(0018, 7000) Detector Conditions Nominal Flag    CS: 'YES'\n",
       "(0018, 7001) Detector Temperature                DS: \"29.22\"\n",
       "(0018, 7004) Detector Type                       CS: 'DIRECT'\n",
       "(0018, 7005) Detector Configuration              CS: 'AREA'\n",
       "(0018, 7006) Detector Description                LT: 'Vendor: DRC; Product: BRICK/ARRAY; Version: v1.0'\n",
       "(0018, 700e) Time of Last Detector Calibration   TM: '075330'\n",
       "(0018, 7024) Detector Active Shape               CS: 'RECTANGLE'\n",
       "(0018, 7026) Detector Active Dimension(s)        DS: [250, 286]\n",
       "(0018, 7030) Field of View Origin                DS: [0, 256]\n",
       "(0018, 7032) Field of View Rotation              DS: \"0.0\"\n",
       "(0018, 7034) Field of View Horizontal Flip       CS: 'NO'\n",
       "(0018, 7048) Grid Period                         DS: None\n",
       "(0018, 7050) Filter Material                     LT: 'RHODIUM'\n",
       "(0018, 7052) Filter Thickness Minimum            DS: \"0.057\"\n",
       "(0018, 7054) Filter Thickness Maximum            DS: \"0.057\"\n",
       "(0018, 7060) Exposure Control Mode               CS: 'AUTO_FILTER'\n",
       "(0018, 7062) Exposure Control Mode Description   LT: 'LORAD AUTO AEC'\n",
       "(0018, 7064) Exposure Status                     CS: 'NORMAL'\n",
       "(0019, 0010) Private Creator                     LO: 'LORAD Selenia'\n",
       "(0019, 1006) [Paddle ID]                         UN: b'020 '\n",
       "(0019, 1007) [Paddle Position]                   UN: b'0 '\n",
       "(0019, 1008) [Collimation Size]                  UN: b'000 '\n",
       "(0019, 1026) [Unknown]                           UN: b'24cm x 29cm fast'\n",
       "(0019, 1027) [Unknown]                           UN: b'C '\n",
       "(0019, 1028) [Unknown]                           UN: b'24cm x 29cm '\n",
       "(0019, 1030) [Unknown]                           UN: b'd\\x00'\n",
       "(0019, 1031) [Unknown]                           UN: b'`\\x00'\n",
       "(0019, 1032) [Unknown]                           UN: b'\\x12\\x07'\n",
       "(0019, 1033) [Unknown]                           UN: b'\\x9b\\x01'\n",
       "(0019, 1034) [Unknown]                           UN: b'\\x81\\x01'\n",
       "(0019, 1035) [Unknown]                           UN: b'\\xff\\xff'\n",
       "(0019, 1040) [Unknown]                           UN: b'1936'\n",
       "(0019, 1041) [Unknown]                           UN: b'611 '\n",
       "(0019, 1050) [Unknown]                           UN: b'0.20'\n",
       "(0019, 1051) [Unknown]                           UN: b'3.60'\n",
       "(0019, 1052) [Unknown]                           UN: b'10'\n",
       "(0019, 1053) [Unknown]                           UN: b'5000'\n",
       "(0019, 1070) [Unknown]                           UN: None\n",
       "(0019, 1071) [Unknown]                           UN: None\n",
       "(0019, 1080) Private tag data                    UN: b'0288'\n",
       "(0019, 1081) Private tag data                    UN: b'0720'\n",
       "(0019, 1082) Private tag data                    UN: b'JH  '\n",
       "(0019, 1083) Private tag data                    UN: b'R CC            '\n",
       "(0019, 1084) Private tag data                    UN: b'0000'\n",
       "(0019, 1085) Private tag data                    UN: b'0000'\n",
       "(0019, 1086) Private tag data                    UN: b'    '\n",
       "(0019, 1087) Private tag data                    UN: b'                '\n",
       "(0019, 1088) Private tag data                    UN: b'0000'\n",
       "(0019, 1089) Private tag data                    UN: b'0000'\n",
       "(0019, 1090) Private tag data                    UN: b'    '\n",
       "(0019, 1091) Private tag data                    UN: b'                '\n",
       "(0019, 1097) Private tag data                    UN: b'YES '\n",
       "(0019, 1098) Private tag data                    UN: b'NO  '\n",
       "(0020, 000d) Study Instance UID                  UI: 2.25.100200768146581636295894714905100489977\n",
       "(0020, 000e) Series Instance UID                 UI: 2.25.152728466995294111814413879838297482097\n",
       "(0020, 0011) Series Number                       IS: \"1\"\n",
       "(0020, 0012) Acquisition Number                  IS: None\n",
       "(0020, 0013) Instance Number                     IS: \"101\"\n",
       "(0020, 0020) Patient Orientation                 CS: ['P', 'L']\n",
       "(0020, 0060) Laterality                          CS: ''\n",
       "(0020, 0062) Image Laterality                    CS: 'R'\n",
       "(0020, 1002) Images in Acquisition               IS: \"1\"\n",
       "(0020, 1070) Other Study Numbers                 IS: None\n",
       "(0028, 0002) Samples per Pixel                   US: 1\n",
       "(0028, 0004) Photometric Interpretation          CS: 'MONOCHROME2'\n",
       "(0028, 0010) Rows                                US: 4096\n",
       "(0028, 0011) Columns                             US: 3328\n",
       "(0028, 0030) Pixel Spacing                       DS: [0.0700, 0.0700]\n",
       "(0028, 0034) Pixel Aspect Ratio                  IS: [180, 180]\n",
       "(0028, 0100) Bits Allocated                      US: 16\n",
       "(0028, 0101) Bits Stored                         US: 12\n",
       "(0028, 0102) High Bit                            US: 11\n",
       "(0028, 0103) Pixel Representation                US: 0\n",
       "(0028, 0120) Pixel Padding Value                 US: 0\n",
       "(0028, 0301) Burned In Annotation                CS: 'NO'\n",
       "(0028, 1040) Pixel Intensity Relationship        CS: 'LOG'\n",
       "(0028, 1041) Pixel Intensity Relationship Sign   SS: -1\n",
       "(0028, 1050) Window Center                       DS: \"2047.0\"\n",
       "(0028, 1051) Window Width                        DS: \"4096.0\"\n",
       "(0028, 1052) Rescale Intercept                   DS: \"0.0\"\n",
       "(0028, 1053) Rescale Slope                       DS: \"1.0\"\n",
       "(0028, 1054) Rescale Type                        LO: 'US'\n",
       "(0028, 1300) Breast Implant Present              CS: 'NO'\n",
       "(0028, 1350) Partial View                        CS: ''\n",
       "(0028, 1351) Partial View Description            ST: ''\n",
       "(0028, 2110) Lossy Image Compression             CS: '00'\n",
       "(0032, 000c) Study Priority ID                   CS: ''\n",
       "(0032, 1001) Scheduled Study Start Time          TM: ''\n",
       "(0038, 0016) Route of Admissions                 LO: ''\n",
       "(0040, 0302) Entrance Dose                       US: 0\n",
       "(0040, 0314) Half Value Layer                    DS: \"0.535\"\n",
       "(0040, 0316) Organ Dose                          DS: \"0.0196\"\n",
       "(0040, 0318) Organ Exposed                       CS: 'BREAST'\n",
       "(0040, 1003) Requested Procedure Priority        SH: ''\n",
       "(0040, 8302) Entrance Dose in mGy                DS: \"7.2\"\n",
       "(0050, 0004) Calibration Image                   CS: 'NO'\n",
       "(0054, 0220)  View Code Sequence   1 item(s) ---- \n",
       "   (0008, 0100) Code Value                          SH: 'R-10242'\n",
       "   (0008, 0102) Coding Scheme Designator            SH: 'SNM3'\n",
       "   (0008, 0104) Code Meaning                        LO: 'cranio-caudal'\n",
       "   (0054, 0222)  View Modifier Code Sequence   0 item(s) ---- \n",
       "   ---------\n",
       "(2050, 0020) Presentation LUT Shape              CS: 'IDENTITY'\n",
       "(7fe0, 0010) Pixel Data                          OB: Array of 5927868 elements"
      ]
     },
     "execution_count": 13,
     "metadata": {},
     "output_type": "execute_result"
    }
   ],
   "source": [
    "kData[111]"
   ]
  },
  {
   "cell_type": "code",
   "execution_count": 36,
   "id": "19a65f27",
   "metadata": {},
   "outputs": [
    {
     "data": {
      "text/plain": [
       "<Sequence, length 1>"
      ]
     },
     "execution_count": 36,
     "metadata": {},
     "output_type": "execute_result"
    }
   ],
   "source": [
    "kData[111].ViewCodeSequence"
   ]
  },
  {
   "cell_type": "code",
   "execution_count": null,
   "id": "7b0d3d59",
   "metadata": {},
   "outputs": [],
   "source": []
  }
 ],
 "metadata": {
  "kernelspec": {
   "display_name": "Python 3 (ipykernel)",
   "language": "python",
   "name": "python3"
  },
  "language_info": {
   "codemirror_mode": {
    "name": "ipython",
    "version": 3
   },
   "file_extension": ".py",
   "mimetype": "text/x-python",
   "name": "python",
   "nbconvert_exporter": "python",
   "pygments_lexer": "ipython3",
   "version": "3.9.7"
  }
 },
 "nbformat": 4,
 "nbformat_minor": 5
}
