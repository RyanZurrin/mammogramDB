{
 "cells": [
  {
   "cell_type": "code",
   "execution_count": 1,
   "id": "06c4accc",
   "metadata": {},
   "outputs": [
    {
     "name": "stdout",
     "output_type": "stream",
     "text": [
      "Populating the interactive namespace from numpy and matplotlib\n"
     ]
    }
   ],
   "source": [
    "%pylab inline\n",
    "%load_ext autoreload\n",
    "%autoreload 2"
   ]
  },
  {
   "cell_type": "code",
   "execution_count": 2,
   "id": "b9e78ed8",
   "metadata": {},
   "outputs": [],
   "source": [
    "import time\n",
    "import sys\n",
    "sys.path.insert(0,'../..')\n",
    "import gp2\n",
    "from gp2 import Runner\n",
    "from keras import losses, metrics\n",
    "from tensorflow.keras import optimizers"
   ]
  },
  {
   "cell_type": "code",
   "execution_count": null,
   "id": "bdc75325",
   "metadata": {},
   "outputs": [
    {
     "name": "stdout",
     "output_type": "stream",
     "text": [
      "*** GP2 KATTUnet2D ***\n",
      "Working directory: /tmp/tmp_un3vzuwGP2\n",
      "Using default discriminator (CNN)\n"
     ]
    }
   ],
   "source": [
    "R = Runner(classifier='kattunet2d',\n",
    "           filter_num=[16, 32, 64, 128, 256],\n",
    "           stack_num_down=2,\n",
    "           stack_num_up=2,\n",
    "           activation='ReLU',\n",
    "           atten_activation='ReLU',\n",
    "           attention='add',\n",
    "           output_activation='Sigmoid',\n",
    "           batch_norm=False,\n",
    "           pool=False,\n",
    "           unpool=False,\n",
    "           weights='imagenet',\n",
    "           optimizer= None, #None = default is optimizers.Adam(learning_rate=1e-3)\n",
    "           loss=None, #None = default is losses.binary_crossentropy\n",
    "           metric=None # None = default is Util.dice_coef\n",
    "          )"
   ]
  },
  {
   "cell_type": "code",
   "execution_count": 7,
   "id": "87b0c65d",
   "metadata": {},
   "outputs": [],
   "source": [
    "# load our larger toy dataset (10k images and masks)\n",
    "images = np.load('/hpcstor6/scratch01/r/ryan.zurrin001/GP2TOYEXAMPLE_LARGE/images.npy')\n",
    "masks = np.load('/hpcstor6/scratch01/r/ryan.zurrin001/GP2TOYEXAMPLE_LARGE/masks.npy')"
   ]
  },
  {
   "cell_type": "code",
   "execution_count": 8,
   "id": "7330ad24",
   "metadata": {},
   "outputs": [],
   "source": [
    "images = images[:5000]\n",
    "masks = masks[:5000]"
   ]
  },
  {
   "cell_type": "code",
   "execution_count": 9,
   "id": "d5b4179a",
   "metadata": {},
   "outputs": [
    {
     "data": {
      "text/plain": [
       "(5000, 512, 512, 1)"
      ]
     },
     "execution_count": 9,
     "metadata": {},
     "output_type": "execute_result"
    }
   ],
   "source": [
    "images.shape"
   ]
  },
  {
   "cell_type": "code",
   "execution_count": 10,
   "id": "57033c4e",
   "metadata": {},
   "outputs": [
    {
     "data": {
      "text/plain": [
       "(5000, 512, 512, 1)"
      ]
     },
     "execution_count": 10,
     "metadata": {},
     "output_type": "execute_result"
    }
   ],
   "source": [
    "masks.shape"
   ]
  },
  {
   "cell_type": "code",
   "execution_count": 11,
   "id": "1dd71668",
   "metadata": {},
   "outputs": [],
   "source": [
    "weights = {\n",
    "    'A': 0.5,\n",
    "    'A_train': 0.1,\n",
    "    'A_val': 0.3,\n",
    "    'A_test': 0.6,\n",
    "    'B': 0.3,\n",
    "    'B_train': 0.7,\n",
    "    'B_val': 0.1,\n",
    "    'B_test': 0.2,\n",
    "    'Z': 0.2\n",
    "}"
   ]
  },
  {
   "cell_type": "code",
   "execution_count": 12,
   "id": "d8ff85c4",
   "metadata": {
    "scrolled": true
   },
   "outputs": [
    {
     "name": "stdout",
     "output_type": "stream",
     "text": [
      "Weights OK!\n",
      "******\n",
      "Loop 0\n"
     ]
    },
    {
     "name": "stderr",
     "output_type": "stream",
     "text": [
      "2023-04-23 12:33:40.029637: I tensorflow/compiler/mlir/mlir_graph_optimization_pass.cc:176] None of the MLIR Optimization Passes are enabled (registered 2)\n",
      "2023-04-23 12:33:40.030322: I tensorflow/core/platform/profile_utils/cpu_utils.cc:114] CPU Frequency: 2245755000 Hz\n"
     ]
    },
    {
     "name": "stdout",
     "output_type": "stream",
     "text": [
      "Epoch 1/100\n"
     ]
    },
    {
     "name": "stderr",
     "output_type": "stream",
     "text": [
      "2023-04-23 12:33:44.249178: I tensorflow/stream_executor/platform/default/dso_loader.cc:53] Successfully opened dynamic library libcudnn.so.8\n",
      "2023-04-23 12:33:44.873944: I tensorflow/stream_executor/cuda/cuda_dnn.cc:359] Loaded cuDNN version 8201\n",
      "2023-04-23 12:33:45.546742: W tensorflow/stream_executor/gpu/asm_compiler.cc:191] Falling back to the CUDA driver for PTX compilation; ptxas does not support CC 8.0\n",
      "2023-04-23 12:33:45.546769: W tensorflow/stream_executor/gpu/asm_compiler.cc:194] Used ptxas at ptxas\n",
      "2023-04-23 12:33:45.546831: W tensorflow/stream_executor/gpu/redzone_allocator.cc:314] Unimplemented: ptxas ptxas too old. Falling back to the driver to compile.\n",
      "Relying on driver to perform ptx compilation. \n",
      "Modify $PATH to customize ptxas location.\n",
      "This message will be only logged once.\n",
      "2023-04-23 12:33:45.564362: I tensorflow/stream_executor/platform/default/dso_loader.cc:53] Successfully opened dynamic library libcublas.so.11\n",
      "2023-04-23 12:33:46.332233: I tensorflow/stream_executor/platform/default/dso_loader.cc:53] Successfully opened dynamic library libcublasLt.so.11\n"
     ]
    },
    {
     "name": "stdout",
     "output_type": "stream",
     "text": [
      "4/4 [==============================] - 37s 6s/step - loss: 1.0095 - binary_accuracy: 0.5509 - val_loss: 0.9955 - val_binary_accuracy: 0.5548\n"
     ]
    },
    {
     "name": "stderr",
     "output_type": "stream",
     "text": [
      "2023-04-23 12:34:18.940301: W tensorflow/python/util/util.cc:348] Sets are not currently considered sequences, but this may change in the future, so consider avoiding using them.\n",
      "/home/ryan.zurrin001/miniconda3/envs/O/lib/python3.9/site-packages/tensorflow/python/keras/utils/generic_utils.py:494: CustomMaskWarning: Custom mask layers require a config and must override get_config. When loading, the custom mask layer must be passed to the custom_objects argument.\n",
      "  warnings.warn('Custom mask layers require a config and must override '\n"
     ]
    },
    {
     "name": "stdout",
     "output_type": "stream",
     "text": [
      "Epoch 2/100\n",
      "4/4 [==============================] - 3s 905ms/step - loss: 1.0095 - binary_accuracy: 0.5509 - val_loss: 0.9955 - val_binary_accuracy: 0.5548\n",
      "Epoch 3/100\n",
      "4/4 [==============================] - 3s 939ms/step - loss: 1.0095 - binary_accuracy: 0.5509 - val_loss: 0.9955 - val_binary_accuracy: 0.5548\n",
      "Epoch 4/100\n",
      "4/4 [==============================] - 3s 925ms/step - loss: 1.0098 - binary_accuracy: 0.5509 - val_loss: 0.9955 - val_binary_accuracy: 0.5548\n",
      "Model saved to: /tmp/tmpxzz29t8qGP2/attunet_0attunet_model\n",
      "History saved to: /tmp/tmpxzz29t8qGP2/attunet_history_0.pkl\n",
      "Testing the classifier...\n",
      "Model saved to /tmp/tmpxzz29t8qGP2/cnnd_0.model\n",
      "History saved to /tmp/tmpxzz29t8qGP2/cnnd_history_0.pickle\n",
      "Testing the discriminator...\n",
      "10/10 [==============================] - 0s 21ms/step - loss: 0.0000e+00 - accuracy: 1.0000\n",
      "Found 152 machine labels.\n",
      "Machine labels [  0   1   2   3   4   6  10  12  13  18  21  22  24  26  28  32  34  35\n",
      "  38  39  40  41  44  45  48  50  51  53  54  57  60  62  66  67  68  70\n",
      "  71  72  75  78  80  82  83  88  89  90  92  94  96  99 100 103 104 105\n",
      " 107 110 116 117 118 120 121 122 125 129 130 131 133 135 138 140 143 148\n",
      " 149 151 152 153 156 157 158 159 161 162 163 164 165 167 170 171 172 174\n",
      " 175 178 180 181 183 184 189 190 191 194 195 196 202 203 208 209 210 214\n",
      " 215 217 218 219 221 224 228 229 230 231 232 236 237 238 239 246 247 250\n",
      " 251 252 256 257 258 259 261 265 267 268 269 272 275 277 279 280 281 283\n",
      " 284 285 289 293 294 295 296 297]\n",
      "D_ids ['24ee7fe8-283f-4f42-a26b-f1f83aa3f3ee', '69529f06-ac2f-4bbe-a958-52d790f76d0d', '25e4b276-79c2-4d44-aab5-7cd2cd6c42f8', 'a42e5848-d9fb-49ff-b542-3306bc7d344c', '1e7ff811-ad9b-424f-bbc2-66adbcc7ddac', '07209c66-1680-4e8c-99d8-bcbc30444cd2', 'f04d2bdd-fedb-416a-9256-2252406fda72', '50cc64ad-72ed-41b3-85da-8f7c656aa41f', '254212f7-d850-458b-b3c2-600f1171fb6d', '5452b474-5b73-40af-a275-bec557765452', 'be05608c-88bc-45e7-978b-284715f3da0f', 'fc337c34-2302-4b5c-86a9-9f1bd2438c22', '0d89545a-53b2-47f2-8240-08b8264b95e7', 'f3bc841e-83e7-4203-aa9d-c74a8cbdaaf2', '457ab372-dc69-43b8-853c-4edc4ff0b7fc', 'd5736aec-43c6-4171-9922-608a10acd9a6', 'a7f982b6-53b8-4bf4-9e01-8aea3b4b2a1b', '8d4ffc5b-f16d-4e8a-82a2-1810ed424f8b', 'e38f7f2d-0efa-4377-be52-335554f1a8d7', '7c026929-478e-4633-b166-7263f3310e62', '95cb453b-a9ba-49b0-8a91-6bb1997b4467', '48c951ff-51c3-4ea6-ab57-261505167c6b', 'eb7d3214-403b-4506-ad24-360a8d839ab3', 'a2acd555-97a4-4f8f-a9dd-ce991bd5b46d', '843f2c9d-19a2-48d1-ad01-f100faea6e10', '8cbb2ecf-8d3e-4192-820d-bc0e88a503b2', '3b70765e-c8da-48e9-acb1-9e8c3844e3f2', 'fbd190b8-3fcf-46c1-8446-a3b0fb67b557', 'f3e4bbd7-de19-4e20-b572-310b785ddcb8', '4f54e2c6-8b8c-4a8c-972b-654113a15e60', 'e32cb845-eec0-4900-a321-b019171ad3a1', 'f86be3c0-1482-4ceb-a4aa-f45593b65458', '7bfb260b-a8ad-4dc9-8506-83b97811b4f8', 'f37201a1-0a5e-44ab-9421-01c07cf2d508', '6fdd7eea-03a8-4835-8788-0d96ae3ad6ce', 'e4937793-ff04-40ce-a7f2-cac4717db452', '162ef586-f06d-4f71-9f7c-c5091567ac90', '599a5988-0fae-48d5-b555-b8d8b241daf5', '8d874b47-7f61-42f8-b681-655549444b81', 'ff5038fc-a994-4e6d-87d8-8609aaf15d44', '4443060e-6f3a-4191-ad87-1ad978f2a9b9', 'e3388f5d-78e4-4d6b-8073-0d9e75db399c', '5aaa2786-f8a8-4679-9dfd-a0b8b87a817c', '547cd51c-f2bc-49d2-9aca-fd5e37c37e33', '40f01619-3f2d-48bf-9549-f63db0c95f14', '5d90ac7d-6ac8-4444-a22c-3ac155db40e6', 'a9728f75-193e-40c3-bf75-e5f29cb7f015', '442153ff-9fb1-4206-98d2-76af437baa03', '5b1227be-4a5a-4273-8ad3-68b5d860ee23', '5e547624-04d2-4738-a354-76d6ab302793', '5a21f275-defa-48fc-9286-d1a3cd95d7c8', '6c248b30-3206-4e7f-bff9-ed2977d76835', 'eed85918-99dd-479d-8cc9-e3eac420f31b', 'fa639a35-c3b7-4cfe-ac26-c71994ecd226', 'c050ecbd-4d0e-441c-9101-500b2a785617', 'efd0ef51-2742-4ce2-903a-909cfd980d30', '3aa57da6-fd2a-4cfc-978b-9c59631c5071', '2cebc230-ac8d-497b-b561-597c30adb016', 'e31f7f3d-7676-4af0-8c89-bc9208907836', '13bbc978-cb5b-4e41-9f99-0c2a10f3d17f', '5c19e7ab-38a5-458a-a9f7-c62070b770fd', '724f8711-9bd2-4991-8a03-c543b6d4616b', 'bb7b5d75-c044-4491-baa2-7d9894b8ecd8', '35475bd1-be58-4df4-840a-2ee3d5221f07', 'cc7a3f02-4a79-4258-89a7-cd386914e9c8', '75f2d400-216c-4b01-8c3b-f87fd0d88e77', '5303d392-12b1-40ee-a9b6-b2fec0d509d7', 'c5793935-5fb1-4606-a56c-6059d867fe73', '2c52033a-a0cf-4516-8c39-975a4b63376f', '391b3c81-82e6-442c-bfc8-029be9e0fdf5', 'ad34b550-df12-4762-bedd-62c2789fe25e', 'e115db5c-c420-4286-b5cf-a6e9d83add4a', 'df655347-4a9b-4c73-907b-081f4a5d0b02', '5a2374f0-0e3c-426b-9d7b-1d948f4949a2', 'a48e1688-e7e8-4d37-83d6-b1514f54b851', '0a67297c-3230-4d5d-94c5-407e2556ce9c', '1be9ab22-57a9-4cfe-83f7-4bf95765d27a', 'b47d15d2-2864-4653-af5e-f57a705d82cb', 'f10ed0b5-c82f-49b3-895e-c59b22a5c969', '5a9739f7-754e-4899-9cdf-725a0d30c7ce', '276c151f-1e71-43e8-9010-6a1f312d422e', '905897c0-6538-4821-a16a-00c8fea414c5', '79f186ff-27fc-4344-b728-a56b2fa1bb55', 'e7255d0b-9a6e-4476-ab88-acd9cc94de90', 'df5243e9-e12a-45fc-9e8c-45a1e58e565a', 'a0a722dc-09f6-4545-9371-3e7b372f08ee', '650bdd49-ba8c-45df-90d8-87a058dfe949', '33af44be-3845-40d7-b687-b46dc8c369ed', '278e35e5-3934-463f-a06b-dd6f8d4e92dc', '4cf292e8-4fc6-4b5a-aa0e-7393a6a4210f', '217a2465-900a-46bc-936b-88ac5864522c', '2f95ad06-1e51-4b07-8173-20217addb11a', '31a19528-0405-43c5-9a3e-713065f91426', 'a9c1c8ae-5c1b-4bfd-bd54-c7acbe7d19a7', 'baffee08-6d54-46ba-b72a-fd9976da73ba', '6cf729d4-cff3-4ee4-8087-c8e982b26f77', 'f95306d4-94ae-4036-bc7d-5bf28b61f7e1', '2935a086-0ebd-4d1b-a757-ad411124025e', '9697cd9e-b586-43db-ba20-a43d28eaa160', '764ab2a1-fb55-4029-94e4-3e3c3e02c219', '4f66c110-485c-4576-bc7f-b1da65846b7f', 'c757e9d1-1a5d-4c4d-bb5b-9fe349727eec', 'a9599ae2-5631-4ee5-9371-97a470c4326c', 'b5ecc38d-b2fc-4836-be2d-5551beccb240', 'f9b06d64-766f-48c6-8dd7-0df99aa60419', '122661ef-bfb7-45d8-b5bb-9e7b5e453b34', 'f5db53b7-e936-4bd4-952c-ee909f72ad90', 'b290fc8f-e970-4394-8338-a524df927efd', 'ae379c83-5219-4105-887c-608f90b7a9f1', '01bcee2a-52a7-4b7a-892c-bb449157272a', '9cbeef83-fcff-4115-8fc0-61ab64e2fef2', 'ed23a811-44f7-4fe7-9f7c-65540a974326', 'df0f39a6-c1ab-42b5-b101-a4e9c6dc13fd', '4032d45c-1e70-4f2c-bb6c-2c92d7a56069', 'ae8d2aea-dc55-476e-83c3-0a0d7d0e0294', 'dfabbf23-a3ce-439a-9644-90af01e76748', '87ba9b44-0596-4700-81d9-ed2c37f2ad28', '69532e19-e395-4745-bddd-bfbef5e68e02', '9d3dcd9e-446a-45c3-a5ca-e7498c702d14', '869d6d7c-1ba7-4827-b7f3-857f5f165787', '054fa0a5-9297-4312-b364-04aa6cc94d7f', '127606e6-4a68-443d-9d75-ddc60dfcc98f', 'bb0451cf-02fd-4c25-905d-c0f035ad5a48', 'aeaa652d-14e2-491b-acc7-738ebfc996da', '9b0fbb6f-91e4-4fc3-8d48-6624dff9ff70', '5c926377-4be8-4378-a9f7-eabacfdd3a28', '3717a550-5cda-48f8-a791-cf81a4e0d3bb', 'c5145785-7c77-4e46-9221-f229b16fb3a5', '6b056580-41ea-4891-8ff9-1337e301f706', '9cecee50-cab6-48d0-8acc-a2f86f084583', '4ca5b7d9-f401-4e5c-af17-e763068bf4b5', 'ad5c8ebd-ec91-45a6-976b-768416b87c0f', '8efa2b20-1851-4ef8-90f6-7479ce8870e3', '3800cff9-b04e-458d-bde8-93531af2044f', 'bee17e79-2191-463b-9f1f-5307982a1554', '74d64895-e6d2-4247-80d1-23ce90795594', '8dafe0ea-562e-4543-9117-51de0caa2020', 'fe17433c-4f1d-4a1f-8ea3-22987c822695', 'bc82bef3-2411-4a0f-bd23-bacf94bff2ab', '51a6c166-c137-4c2b-bf00-a2fd2b1f87e6', '077af727-e89b-4154-a300-219ee6ba7711', 'cd60badf-c60a-42b5-bdac-af0d8fef931a', '40c640c3-8929-4f08-972b-db4bfb7732b4', '4268fa2d-a16a-41e8-ad81-cae6c383720a', '898e7f17-7d3a-4730-8333-7932cf87b1ba', '82528141-6b28-427d-95b2-14e7a5b4058d', 'dea37932-5034-4a7e-a145-cffcf55e6138', 'a275cd06-0cb8-4369-88f9-2309aaa54ccf', '94a7349f-9aff-40ff-b2e4-7a4b18359c6d', 'b451703e-1a4e-495b-a908-d75e6b2df535', '9e6ec0d2-e919-4dfa-8762-020a654b6fd2', 'd5fe25f5-780d-4a31-b724-3da0b12407b9']\n",
      "Replacing 50 from 152 !\n",
      "D_relabeled_ 50\n",
      "selected_ids ['8d4ffc5b-f16d-4e8a-82a2-1810ed424f8b', 'baffee08-6d54-46ba-b72a-fd9976da73ba', 'a42e5848-d9fb-49ff-b542-3306bc7d344c', '6b056580-41ea-4891-8ff9-1337e301f706', 'dea37932-5034-4a7e-a145-cffcf55e6138', 'b290fc8f-e970-4394-8338-a524df927efd', '5e547624-04d2-4738-a354-76d6ab302793', '94a7349f-9aff-40ff-b2e4-7a4b18359c6d', '724f8711-9bd2-4991-8a03-c543b6d4616b', 'a7f982b6-53b8-4bf4-9e01-8aea3b4b2a1b', 'df0f39a6-c1ab-42b5-b101-a4e9c6dc13fd', 'f3bc841e-83e7-4203-aa9d-c74a8cbdaaf2', '5c19e7ab-38a5-458a-a9f7-c62070b770fd', '35475bd1-be58-4df4-840a-2ee3d5221f07', 'fa639a35-c3b7-4cfe-ac26-c71994ecd226', '6cf729d4-cff3-4ee4-8087-c8e982b26f77', 'f3e4bbd7-de19-4e20-b572-310b785ddcb8', '905897c0-6538-4821-a16a-00c8fea414c5', '0a67297c-3230-4d5d-94c5-407e2556ce9c', '79f186ff-27fc-4344-b728-a56b2fa1bb55', '33af44be-3845-40d7-b687-b46dc8c369ed', 'a2acd555-97a4-4f8f-a9dd-ce991bd5b46d', 'ed23a811-44f7-4fe7-9f7c-65540a974326', '2935a086-0ebd-4d1b-a757-ad411124025e', '442153ff-9fb1-4206-98d2-76af437baa03', '278e35e5-3934-463f-a06b-dd6f8d4e92dc', 'e4937793-ff04-40ce-a7f2-cac4717db452', 'f10ed0b5-c82f-49b3-895e-c59b22a5c969', '4f66c110-485c-4576-bc7f-b1da65846b7f', '054fa0a5-9297-4312-b364-04aa6cc94d7f', '122661ef-bfb7-45d8-b5bb-9e7b5e453b34', '69532e19-e395-4745-bddd-bfbef5e68e02', '162ef586-f06d-4f71-9f7c-c5091567ac90', 'd5736aec-43c6-4171-9922-608a10acd9a6', '457ab372-dc69-43b8-853c-4edc4ff0b7fc', '25e4b276-79c2-4d44-aab5-7cd2cd6c42f8', 'efd0ef51-2742-4ce2-903a-909cfd980d30', '4443060e-6f3a-4191-ad87-1ad978f2a9b9', '82528141-6b28-427d-95b2-14e7a5b4058d', '127606e6-4a68-443d-9d75-ddc60dfcc98f', '1e7ff811-ad9b-424f-bbc2-66adbcc7ddac', '2f95ad06-1e51-4b07-8173-20217addb11a', 'c050ecbd-4d0e-441c-9101-500b2a785617', '599a5988-0fae-48d5-b555-b8d8b241daf5', 'eb7d3214-403b-4506-ad24-360a8d839ab3', '24ee7fe8-283f-4f42-a26b-f1f83aa3f3ee', 'dfabbf23-a3ce-439a-9644-90af01e76748', '5452b474-5b73-40af-a275-bec557765452', '650bdd49-ba8c-45df-90d8-87a058dfe949', '3aa57da6-fd2a-4cfc-978b-9c59631c5071']\n",
      "dict_keys(['8d4ffc5b-f16d-4e8a-82a2-1810ed424f8b', 'baffee08-6d54-46ba-b72a-fd9976da73ba', 'a42e5848-d9fb-49ff-b542-3306bc7d344c', '6b056580-41ea-4891-8ff9-1337e301f706', 'dea37932-5034-4a7e-a145-cffcf55e6138', 'b290fc8f-e970-4394-8338-a524df927efd', '5e547624-04d2-4738-a354-76d6ab302793', '94a7349f-9aff-40ff-b2e4-7a4b18359c6d', '724f8711-9bd2-4991-8a03-c543b6d4616b', 'a7f982b6-53b8-4bf4-9e01-8aea3b4b2a1b', 'df0f39a6-c1ab-42b5-b101-a4e9c6dc13fd', 'f3bc841e-83e7-4203-aa9d-c74a8cbdaaf2', '5c19e7ab-38a5-458a-a9f7-c62070b770fd', '35475bd1-be58-4df4-840a-2ee3d5221f07', 'fa639a35-c3b7-4cfe-ac26-c71994ecd226', '6cf729d4-cff3-4ee4-8087-c8e982b26f77', 'f3e4bbd7-de19-4e20-b572-310b785ddcb8', '905897c0-6538-4821-a16a-00c8fea414c5', '0a67297c-3230-4d5d-94c5-407e2556ce9c', '79f186ff-27fc-4344-b728-a56b2fa1bb55', '33af44be-3845-40d7-b687-b46dc8c369ed', 'a2acd555-97a4-4f8f-a9dd-ce991bd5b46d', 'ed23a811-44f7-4fe7-9f7c-65540a974326', '2935a086-0ebd-4d1b-a757-ad411124025e', '442153ff-9fb1-4206-98d2-76af437baa03', '278e35e5-3934-463f-a06b-dd6f8d4e92dc', 'e4937793-ff04-40ce-a7f2-cac4717db452', 'f10ed0b5-c82f-49b3-895e-c59b22a5c969', '4f66c110-485c-4576-bc7f-b1da65846b7f', '054fa0a5-9297-4312-b364-04aa6cc94d7f', '122661ef-bfb7-45d8-b5bb-9e7b5e453b34', '69532e19-e395-4745-bddd-bfbef5e68e02', '162ef586-f06d-4f71-9f7c-c5091567ac90', 'd5736aec-43c6-4171-9922-608a10acd9a6', '457ab372-dc69-43b8-853c-4edc4ff0b7fc', '25e4b276-79c2-4d44-aab5-7cd2cd6c42f8', 'efd0ef51-2742-4ce2-903a-909cfd980d30', '4443060e-6f3a-4191-ad87-1ad978f2a9b9', '82528141-6b28-427d-95b2-14e7a5b4058d', '127606e6-4a68-443d-9d75-ddc60dfcc98f', '1e7ff811-ad9b-424f-bbc2-66adbcc7ddac', '2f95ad06-1e51-4b07-8173-20217addb11a', 'c050ecbd-4d0e-441c-9101-500b2a785617', '599a5988-0fae-48d5-b555-b8d8b241daf5', 'eb7d3214-403b-4506-ad24-360a8d839ab3', '24ee7fe8-283f-4f42-a26b-f1f83aa3f3ee', 'dfabbf23-a3ce-439a-9644-90af01e76748', '5452b474-5b73-40af-a275-bec557765452', '650bdd49-ba8c-45df-90d8-87a058dfe949', '3aa57da6-fd2a-4cfc-978b-9c59631c5071'])\n",
      "point ids 50\n",
      "Removed: 50 Filled: 50\n",
      "TOOK 202.71851253509521 seconds\n",
      "==== DONE LOOP 0 ====\n",
      "******\n",
      "Loop 1\n"
     ]
    },
    {
     "name": "stdout",
     "output_type": "stream",
     "text": [
      "Epoch 1/100\n",
      "5/5 [==============================] - 13s 3s/step - loss: 1.0023 - binary_accuracy: 0.5519 - val_loss: 0.9955 - val_binary_accuracy: 0.5548\n"
     ]
    },
    {
     "name": "stderr",
     "output_type": "stream",
     "text": [
      "/home/ryan.zurrin001/miniconda3/envs/O/lib/python3.9/site-packages/tensorflow/python/keras/utils/generic_utils.py:494: CustomMaskWarning: Custom mask layers require a config and must override get_config. When loading, the custom mask layer must be passed to the custom_objects argument.\n",
      "  warnings.warn('Custom mask layers require a config and must override '\n"
     ]
    },
    {
     "name": "stdout",
     "output_type": "stream",
     "text": [
      "Epoch 2/100\n",
      "5/5 [==============================] - 4s 837ms/step - loss: 1.0025 - binary_accuracy: 0.5519 - val_loss: 0.9955 - val_binary_accuracy: 0.5548\n",
      "Epoch 3/100\n",
      "5/5 [==============================] - 3s 776ms/step - loss: 1.0024 - binary_accuracy: 0.5519 - val_loss: 0.9955 - val_binary_accuracy: 0.5548\n",
      "Model saved to: /tmp/tmpxzz29t8qGP2/attunet_1attunet_model\n",
      "History saved to: /tmp/tmpxzz29t8qGP2/attunet_history_1.pkl\n",
      "Testing the classifier...\n",
      "Testing the discriminator...\n",
      "10/10 [==============================] - 0s 18ms/step - loss: 1.7283e-04 - accuracy: 1.0000\n",
      "Found 151 machine labels.\n",
      "Machine labels [  2   3   4   7  10  11  12  13  14  15  17  18  19  20  28  29  31  34\n",
      "  35  36  37  38  40  41  43  46  47  48  49  50  56  58  59  60  62  64\n",
      "  65  67  68  69  70  71  73  74  77  78  79  81  82  84  85  88  90  93\n",
      "  97  98 102 103 104 107 108 111 112 114 116 117 118 120 125 127 132 133\n",
      " 138 140 141 142 144 146 148 149 150 151 152 155 157 161 162 163 165 166\n",
      " 169 170 172 175 176 178 179 185 187 197 199 200 202 203 204 207 208 209\n",
      " 210 215 216 219 224 225 226 232 233 234 235 239 240 242 244 247 249 250\n",
      " 251 252 254 259 260 261 262 266 267 269 274 276 277 279 281 285 286 287\n",
      " 289 292 293 294 295 296 298]\n",
      "D_ids ['5e8eaeb1-c6a4-474a-8983-4d130ae76b4f', 'b4517ad1-ef52-449a-aedd-dec4d51e2658', '75f35777-a9a4-4d1d-83ae-ade82dcc9f3a', 'f1e83f58-98be-4be2-99c4-b8f6cd65a7a8', '7080eea0-c603-4072-a7fa-4718ff5047ed', 'ee3bc631-2f3c-43f1-8504-436a3bdb2194', '0727e5cc-21ab-4656-bb18-99c285bbde85', '3800cff9-b04e-458d-bde8-93531af2044f', 'f04d2bdd-fedb-416a-9256-2252406fda72', '1d433915-9460-4fa0-87a1-007af0ccaef1', 'a9f15d65-5323-42a9-bd10-aba9f17d25b8', '4ff9e779-8d0c-479b-9f91-d54937ea2ed6', '343acc2a-30f6-4df0-a832-8d7fc0f7fdab', 'f0283070-d053-44af-b707-4afe1a09d999', '19e213a1-d1c6-4f74-90a7-fd80824b4ef1', 'ca017d73-fd08-4700-a757-6771a946162d', 'fe5837db-6579-41f2-aa76-b64e7e9bda93', 'c6645717-9aa8-43bb-b698-14c1b4ac72e2', 'd45b8df6-7e20-4196-b7a7-212aac0594f1', 'e115db5c-c420-4286-b5cf-a6e9d83add4a', 'e335fd3f-cfc0-4748-93cc-da0f04fd0979', '57354093-b31b-4bf7-bdd2-1c36d6fbac7c', 'a91d6f72-a824-40f8-811c-288d4a112617', 'b47d15d2-2864-4653-af5e-f57a705d82cb', '6d1a789b-f483-4558-b02c-0a957c659e2c', '1992750f-2ddf-4c3c-9942-49e191aa7223', 'bb92e398-5a38-4dd4-b9de-a71390b97c1c', '284d689a-33fc-4d27-a070-776ad59da7fd', '6637bdd5-4736-4386-a3da-374306a2fb85', '87ca976b-dcff-41a5-a942-094d68f20e53', '561602f2-81b7-4699-80be-2580eab0133e', 'a1201288-f906-4433-99d5-e952341797cf', 'de627450-3370-433f-91ab-a68ff64ae7bf', 'c0e76ef3-7eaf-4d1c-be29-6c8ca790690b', '4ffce273-16aa-4367-a4e9-0079e0a4a612', 'ee3188f5-58d3-48ce-89b3-f42462f1c22f', '0c977f9e-06c5-4ca7-a147-02f0735e5f50', '7551f642-565f-40e8-a620-d71125eca26b', 'e10e9134-dbfe-49e2-b6ff-2461dbd02dea', '8d9817e6-430f-4ff9-9959-5260969b8eff', 'f8f84cc2-50f8-4ec7-8b49-2b9ca8ae0ad3', '6f71eabd-5f78-4fec-8ff6-ab55046c9948', 'c901198f-4349-4148-af38-f4b5957dc0e0', 'cd12f553-cb8d-490c-8466-f4fecbcf0e99', '843ceedb-8f30-450c-8b76-81a9eaecc784', '95ccbc94-7c7d-4714-8513-26e96751c430', 'd31ab012-20e7-4661-aa94-390b0f9b9e77', '845eb877-e970-42c1-9493-a4a0efdf90fd', '8d02457d-df8d-4964-a6bb-38164a01e352', '0f3a5e0e-ea3c-4245-ad90-dec1f46eef2b', '72ac71b7-33b3-4e9b-8978-eaf819228f08', 'bd6b6af9-c40d-448b-a046-eec80a68e140', '9b95856e-c25b-45af-95bd-0216d0ba51b8', 'ff5038fc-a994-4e6d-87d8-8609aaf15d44', '4e5e0e94-2e90-4cfb-872c-a17d2669d9d5', '09a7b1b1-15b6-47af-95a4-9ea910dc3f5a', '7b8dc59c-b31e-4107-832d-6093a585bf40', 'bb7b5d75-c044-4491-baa2-7d9894b8ecd8', '44b27272-51b8-470d-96da-356702e6327f', '55ac90fd-942c-44a1-91b8-d6d739107bf0', '262c18a4-c228-465c-9ccd-cae81da802bf', 'bb0451cf-02fd-4c25-905d-c0f035ad5a48', '9cecee50-cab6-48d0-8acc-a2f86f084583', '87384c28-cdaf-43a0-8b31-65b2a1131246', '9a57d371-fcb5-40b6-b219-ad4872dc6607', '30354b47-cc00-4731-89b6-808afc0e1c5c', '139ba192-8909-4a28-bca7-b245ae008280', '08adca7f-5bc5-4252-8916-500aba965b47', 'b7cf89c7-5d7f-449f-a14d-2f5a9337796e', 'c1bae014-154b-46e7-a94a-58852c13825d', '4cd7d923-a411-48f5-9397-361deb2c387f', 'c304714c-a626-4ab1-bf01-86424c63c13d', '043b3b44-e0d9-4bce-a19a-646055941297', '624c53ff-22ed-49e1-b14b-6dfd6a3aeb55', '1b4b8c12-7c09-4074-8522-648b2c8ba7bd', '56602c9a-c2d7-4b31-af1d-a61d0061d6d4', 'aeaa652d-14e2-491b-acc7-738ebfc996da', '75f2c41d-8c90-46f7-80c5-15fea184cc96', '5a21f275-defa-48fc-9286-d1a3cd95d7c8', '70e77fcf-5889-4a9a-a7e1-e4171f68c708', 'b96f6c69-7910-4617-932e-fc01fd2f79fa', 'eb03b0d9-f4bb-4ad7-8e89-a30785354478', '7144c171-a767-4f60-a45d-59ef0a943bad', '07d43ea5-df7f-4fce-b955-0cd5c76319fe', 'ce25a8f5-5c90-4e09-92c5-5f20cf2f8e44', '13101a04-d69b-43f0-9736-b7b2d3de5896', 'fb03ae13-fbbc-400c-9524-faa141f7a47a', '2d366847-9aad-4361-904f-de0585e08a9b', '58cbbcdd-b2b8-4e1d-937a-1807e64c7637', '45d683cc-70a0-4488-96e7-500e9085c06e', '20bd03b7-b4a4-4316-a932-fb4869fd9df2', 'f2915eb1-cfe2-4156-9b5d-7c421acaa858', 'ee0c59c6-fcb0-459f-86fd-9bf523133474', '7b7bfd88-a877-46f2-ac16-db80e83e4620', '1e56cb81-553c-4652-9200-27114f10eb61', 'd0e222d2-772b-4f70-add3-91c44c8c576e', 'ddbf097f-829c-4b83-8a03-f1c635b1e1a1', '4c83e7a9-e314-4d43-b133-509e61a69663', '31f965d5-1ce0-414d-8429-3248d4e6db47', 'e0d08363-a850-4a4e-84bf-e402c7afe5e4', '682c1252-f554-41a3-9031-b01424285d90', 'e94496ca-de3f-475f-bfdc-b1aa27fcb16f', 'f54cf1b9-3ad4-44c9-83d6-4c0d69189183', '96849ede-2b6d-4a1f-974a-20d537ea3ac5', 'd7ba24af-d734-4513-bf52-6b4d945ebc26', '911f9437-e2b7-41f5-81d7-321407bba000', '8e5deb82-459c-49f6-889f-800cc23b4564', '3f027906-74b2-4c92-9ab4-2e282e5f2ff7', '11894534-f689-44cb-b0c9-bd5f8da25733', '91ea1f0c-5638-4068-b502-54b76f3aad52', 'dc007600-6ff8-45dc-8f21-604a7ec92fad', 'd7cc569d-86d9-4db5-8f40-eb93757460fd', '59922b19-08cb-4279-9f4d-3fee8cc1153c', 'b4dbf612-6507-48c4-ad97-6d9bace031d5', '70164b08-efdd-4735-b4cd-e2ab690d81c9', '00b13eb4-7a20-49e5-8746-4005f80fa407', '9d3dcd9e-446a-45c3-a5ca-e7498c702d14', 'e9de5619-4020-46e0-b5ae-7beaa22f38a5', 'aeaf4a39-9b39-4016-b180-309fd349bb5e', 'e32cb845-eec0-4900-a321-b019171ad3a1', '05d75812-e686-40da-8c66-4536c6e03f05', '577edfac-3448-40c8-a6f6-2420ad943e7b', '6071d091-1386-4ad8-82fd-c604292d118e', '81696e3a-1d15-4333-8f09-224f24994efd', '60028a0d-249a-46a0-bb2c-77ad4f0f977b', '099b4929-0564-406c-b6d0-c2b1df95a3aa', 'c02c0014-dd03-4724-a3e3-5c97224bb834', '0655c3b6-c841-48b6-929b-c479340b7def', '177233ef-c668-4a30-b6f9-e02173e9307c', '24f713d7-f00f-4a75-a351-c1e626e3299c', 'd8e83f37-d671-42bb-a427-5f5a058d36d1', '9da052f2-6c1c-4c6f-93fc-a1a40e7c54b0', '022af861-27cc-4ed5-b898-5c9d56d9be02', '73c11a41-52e4-41ae-870d-a4fa684cc9b0', 'c559d74a-e56b-437d-bbe4-1b503d31406d', 'ec641236-4e10-4292-afc9-e0e68f70e465', '6340af5f-9252-4bb2-a7d7-08d3cad78267', '16b9dc91-b21a-4cfd-b667-7262d56cba83', '8b7115f2-b293-4804-8d25-4677f6c9c121', '00cb17fc-3c05-42de-aa85-3bc85ebd4ddc', '7a602139-7e29-457b-834b-683c9736341e', 'dbd0003c-dde2-4efe-983a-4c2fc760cc29', '9697cd9e-b586-43db-ba20-a43d28eaa160', '01052be7-eb48-4174-9654-8663cacd7868', '4b4d94d7-aac3-4d27-af85-f25ddfae378c', 'cddb6e8d-2ec1-45d0-8a00-12947c5ed142', 'c34d5383-5d12-4168-939a-7d174b87e588', '9d2420da-27d5-4501-8a1e-42faa682dc84', '1f86d8df-1dea-4d2f-afce-54e68e5ac0a3', 'd4609661-09a5-4b87-bdc3-b61ef183abb2', '181c2965-c211-4397-87d1-d10e4a2ec3fd']\n",
      "Replacing 50 from 151 !\n",
      "D_relabeled_ 50\n",
      "selected_ids ['8e5deb82-459c-49f6-889f-800cc23b4564', '70e77fcf-5889-4a9a-a7e1-e4171f68c708', '75f2c41d-8c90-46f7-80c5-15fea184cc96', '30354b47-cc00-4731-89b6-808afc0e1c5c', '7a602139-7e29-457b-834b-683c9736341e', 'c6645717-9aa8-43bb-b698-14c1b4ac72e2', 'd4609661-09a5-4b87-bdc3-b61ef183abb2', '9cecee50-cab6-48d0-8acc-a2f86f084583', 'dc007600-6ff8-45dc-8f21-604a7ec92fad', 'd8e83f37-d671-42bb-a427-5f5a058d36d1', '682c1252-f554-41a3-9031-b01424285d90', '0655c3b6-c841-48b6-929b-c479340b7def', '44b27272-51b8-470d-96da-356702e6327f', '845eb877-e970-42c1-9493-a4a0efdf90fd', 'd7cc569d-86d9-4db5-8f40-eb93757460fd', 'f54cf1b9-3ad4-44c9-83d6-4c0d69189183', 'b47d15d2-2864-4653-af5e-f57a705d82cb', '7b7bfd88-a877-46f2-ac16-db80e83e4620', 'ee3bc631-2f3c-43f1-8504-436a3bdb2194', '81696e3a-1d15-4333-8f09-224f24994efd', 'fb03ae13-fbbc-400c-9524-faa141f7a47a', 'eb03b0d9-f4bb-4ad7-8e89-a30785354478', 'e10e9134-dbfe-49e2-b6ff-2461dbd02dea', '13101a04-d69b-43f0-9736-b7b2d3de5896', '6637bdd5-4736-4386-a3da-374306a2fb85', '284d689a-33fc-4d27-a070-776ad59da7fd', 'ce25a8f5-5c90-4e09-92c5-5f20cf2f8e44', 'ca017d73-fd08-4700-a757-6771a946162d', '843ceedb-8f30-450c-8b76-81a9eaecc784', 'bb0451cf-02fd-4c25-905d-c0f035ad5a48', 'b7cf89c7-5d7f-449f-a14d-2f5a9337796e', '05d75812-e686-40da-8c66-4536c6e03f05', '75f35777-a9a4-4d1d-83ae-ade82dcc9f3a', '08adca7f-5bc5-4252-8916-500aba965b47', '56602c9a-c2d7-4b31-af1d-a61d0061d6d4', 'a91d6f72-a824-40f8-811c-288d4a112617', '73c11a41-52e4-41ae-870d-a4fa684cc9b0', '6340af5f-9252-4bb2-a7d7-08d3cad78267', '16b9dc91-b21a-4cfd-b667-7262d56cba83', '3f027906-74b2-4c92-9ab4-2e282e5f2ff7', '24f713d7-f00f-4a75-a351-c1e626e3299c', '2d366847-9aad-4361-904f-de0585e08a9b', '4cd7d923-a411-48f5-9397-361deb2c387f', '1d433915-9460-4fa0-87a1-007af0ccaef1', 'c34d5383-5d12-4168-939a-7d174b87e588', 'ee0c59c6-fcb0-459f-86fd-9bf523133474', '00cb17fc-3c05-42de-aa85-3bc85ebd4ddc', 'e94496ca-de3f-475f-bfdc-b1aa27fcb16f', '9b95856e-c25b-45af-95bd-0216d0ba51b8', '043b3b44-e0d9-4bce-a19a-646055941297']\n",
      "dict_keys(['8e5deb82-459c-49f6-889f-800cc23b4564', '70e77fcf-5889-4a9a-a7e1-e4171f68c708', '75f2c41d-8c90-46f7-80c5-15fea184cc96', '30354b47-cc00-4731-89b6-808afc0e1c5c', '7a602139-7e29-457b-834b-683c9736341e', 'c6645717-9aa8-43bb-b698-14c1b4ac72e2', 'd4609661-09a5-4b87-bdc3-b61ef183abb2', '9cecee50-cab6-48d0-8acc-a2f86f084583', 'dc007600-6ff8-45dc-8f21-604a7ec92fad', 'd8e83f37-d671-42bb-a427-5f5a058d36d1', '682c1252-f554-41a3-9031-b01424285d90', '0655c3b6-c841-48b6-929b-c479340b7def', '44b27272-51b8-470d-96da-356702e6327f', '845eb877-e970-42c1-9493-a4a0efdf90fd', 'd7cc569d-86d9-4db5-8f40-eb93757460fd', 'f54cf1b9-3ad4-44c9-83d6-4c0d69189183', 'b47d15d2-2864-4653-af5e-f57a705d82cb', '7b7bfd88-a877-46f2-ac16-db80e83e4620', 'ee3bc631-2f3c-43f1-8504-436a3bdb2194', '81696e3a-1d15-4333-8f09-224f24994efd', 'fb03ae13-fbbc-400c-9524-faa141f7a47a', 'eb03b0d9-f4bb-4ad7-8e89-a30785354478', 'e10e9134-dbfe-49e2-b6ff-2461dbd02dea', '13101a04-d69b-43f0-9736-b7b2d3de5896', '6637bdd5-4736-4386-a3da-374306a2fb85', '284d689a-33fc-4d27-a070-776ad59da7fd', 'ce25a8f5-5c90-4e09-92c5-5f20cf2f8e44', 'ca017d73-fd08-4700-a757-6771a946162d', '843ceedb-8f30-450c-8b76-81a9eaecc784', 'bb0451cf-02fd-4c25-905d-c0f035ad5a48', 'b7cf89c7-5d7f-449f-a14d-2f5a9337796e', '05d75812-e686-40da-8c66-4536c6e03f05', '75f35777-a9a4-4d1d-83ae-ade82dcc9f3a', '08adca7f-5bc5-4252-8916-500aba965b47', '56602c9a-c2d7-4b31-af1d-a61d0061d6d4', 'a91d6f72-a824-40f8-811c-288d4a112617', '73c11a41-52e4-41ae-870d-a4fa684cc9b0', '6340af5f-9252-4bb2-a7d7-08d3cad78267', '16b9dc91-b21a-4cfd-b667-7262d56cba83', '3f027906-74b2-4c92-9ab4-2e282e5f2ff7', '24f713d7-f00f-4a75-a351-c1e626e3299c', '2d366847-9aad-4361-904f-de0585e08a9b', '4cd7d923-a411-48f5-9397-361deb2c387f', '1d433915-9460-4fa0-87a1-007af0ccaef1', 'c34d5383-5d12-4168-939a-7d174b87e588', 'ee0c59c6-fcb0-459f-86fd-9bf523133474', '00cb17fc-3c05-42de-aa85-3bc85ebd4ddc', 'e94496ca-de3f-475f-bfdc-b1aa27fcb16f', '9b95856e-c25b-45af-95bd-0216d0ba51b8', '043b3b44-e0d9-4bce-a19a-646055941297'])\n",
      "point ids 50\n"
     ]
    },
    {
     "name": "stdout",
     "output_type": "stream",
     "text": [
      "Removed: 50 Filled: 50\n",
      "TOOK 73.40109491348267 seconds\n",
      "==== DONE LOOP 1 ====\n",
      "******\n",
      "Loop 2\n",
      "Epoch 1/100\n",
      "6/6 [==============================] - 11s 2s/step - loss: 1.0041 - binary_accuracy: 0.5526 - val_loss: 0.9955 - val_binary_accuracy: 0.5548\n"
     ]
    },
    {
     "name": "stderr",
     "output_type": "stream",
     "text": [
      "/home/ryan.zurrin001/miniconda3/envs/O/lib/python3.9/site-packages/tensorflow/python/keras/utils/generic_utils.py:494: CustomMaskWarning: Custom mask layers require a config and must override get_config. When loading, the custom mask layer must be passed to the custom_objects argument.\n",
      "  warnings.warn('Custom mask layers require a config and must override '\n"
     ]
    },
    {
     "name": "stdout",
     "output_type": "stream",
     "text": [
      "Epoch 2/100\n",
      "6/6 [==============================] - 4s 656ms/step - loss: 1.0038 - binary_accuracy: 0.5526 - val_loss: 0.9955 - val_binary_accuracy: 0.5548\n",
      "Epoch 3/100\n",
      "6/6 [==============================] - 4s 648ms/step - loss: 1.0038 - binary_accuracy: 0.5526 - val_loss: 0.9955 - val_binary_accuracy: 0.5548\n",
      "Epoch 4/100\n",
      "6/6 [==============================] - 4s 702ms/step - loss: 1.0041 - binary_accuracy: 0.5526 - val_loss: 0.9955 - val_binary_accuracy: 0.5548\n",
      "Epoch 5/100\n",
      "6/6 [==============================] - 4s 678ms/step - loss: 1.0041 - binary_accuracy: 0.5526 - val_loss: 0.9955 - val_binary_accuracy: 0.5548\n",
      "Model saved to: /tmp/tmpxzz29t8qGP2/attunet_2attunet_model\n",
      "History saved to: /tmp/tmpxzz29t8qGP2/attunet_history_2.pkl\n",
      "Testing the classifier...\n",
      "Testing the discriminator...\n",
      "10/10 [==============================] - 0s 20ms/step - loss: 5.0863e-08 - accuracy: 1.0000\n",
      "Found 132 machine labels.\n",
      "Machine labels [  1   2   4   6   8  10  11  17  18  20  21  23  26  27  28  29  30  31\n",
      "  34  35  36  39  40  41  42  43  45  49  51  52  53  56  57  58  60  64\n",
      "  67  69  72  73  74  75  78  82  83  84  86  87  89  93  94  96 103 105\n",
      " 106 114 115 119 120 122 125 129 130 134 137 138 142 145 146 147 148 149\n",
      " 152 153 155 157 158 160 161 167 168 171 173 176 177 178 179 182 186 191\n",
      " 194 197 204 205 207 210 211 221 222 223 224 225 227 231 232 233 237 240\n",
      " 245 247 249 250 252 253 254 257 259 269 275 276 279 281 283 284 286 287\n",
      " 291 292 293 294 296 299]\n",
      "D_ids ['a3722d7c-ce9f-4ac3-ad97-bd608a7dd794', 'dee5f216-6d6d-4aaa-9a10-3d457d4d23b3', '70b34104-ae32-477f-8905-0d9d7a675590', 'a944086c-35a7-4a38-9f2a-83ff2156a5cf', '9d1b2748-c592-46be-baa4-ad6fcb259e44', '2eef15b5-3b71-4203-88a9-23799b71b530', 'e040a6f4-5ae8-4e66-a8c2-8e79b68962a3', '70b2c6f3-a1da-4c19-a714-7b02b690e6e9', '342caedb-4d63-4fc8-b5d1-d7fd58501891', 'a9c1c8ae-5c1b-4bfd-bd54-c7acbe7d19a7', 'baec81b9-ba2e-41bf-b659-0403f3bb09a2', 'f8e079a7-4652-4157-9a5a-59af0ef01cfb', '96849ede-2b6d-4a1f-974a-20d537ea3ac5', '5f0c42c3-689e-43ad-b02b-8bfae116268b', '3df2ad1d-aba2-478e-a6a5-6f209c39ef5a', 'c8667676-93a9-4266-b499-50db83e257b2', '4032d45c-1e70-4f2c-bb6c-2c92d7a56069', 'b2d789c1-21db-4c1f-b418-b98b1a5551c1', '12d88e18-26a3-4e3c-b15d-5489e9490301', '2d48babd-0bb0-4a70-a5ff-1cd739ebe771', '819454af-37b6-4a81-8f6d-b7328dcc367f', 'a8e2d807-5be3-431d-a7b5-58a99c4b678b', 'd12dd26a-9a2a-4ed9-b3fd-25838415830f', '314e75dd-fa1b-4232-8f4a-47c6f02089ed', 'b5e2a94c-6635-489e-a160-d5332f5cbee8', 'fe17433c-4f1d-4a1f-8ea3-22987c822695', '14b318aa-859b-42b5-ab34-80b6b91a8238', '92ec76ee-fd50-47a9-9e2f-0573a1886c45', 'fa251077-505d-4793-8599-56bf05ea5769', '3f7b3e86-1adb-4ab6-9dba-71c8aa09e033', 'cfa76c99-8e52-4ca5-8126-3ddb0f2340c0', '701e2e97-a052-440a-824f-f442fa5d5e6f', 'e8bd26ff-b8e3-4c79-804c-b3b597efcff5', 'efe13d2c-1755-46ee-b317-512d1eb797a9', '27d41c1a-aadc-4e76-8efd-f740c2785b2b', '163b27ab-855b-42af-92d1-e793d748d309', 'c63a8d33-56c1-49f8-bbf2-25badb17a848', '58e8383b-5809-4bd9-b860-eb3e0a7e2a15', '90849b0f-f12a-4115-9376-ea47176dc6dc', '31abe4ea-52da-4a6b-afb7-afdb041aa589', 'eedb1e9c-43bf-4e9f-acd6-30b620703f02', '6a2470ee-53c0-4005-b74c-74f9d980b60c', '98ad44f9-cf0e-46d7-bc50-19d8be5c1384', 'd7ab28de-a0d2-427a-9fbc-57067db0206d', '8d1bfc30-b5ba-4e8a-98da-3be4c083bd7c', 'ad34b550-df12-4762-bedd-62c2789fe25e', 'fdf0ce74-e666-4445-9f48-e2bf098e8919', 'aaddb6db-90fe-4d17-8b39-e9605a856dc3', 'a8997592-e133-4243-9afb-ad8486b2ca90', '77e04476-52f6-4238-937b-84fda477fce2', 'd08d862f-8bf9-4ec0-95e4-24a9e69a53c7', 'd202d9d7-ad92-497a-967d-c85f93fc7da9', '1648f142-9f7b-4069-9897-92d4e01bf6a2', '0501f755-8d86-4b43-822f-cd990063de45', '732d530d-0262-4c20-adb7-db592b1e5047', 'ead79e7d-8270-461b-a46d-d33ca29fff53', '8db34507-f734-4252-be8b-0c8b79ccca5e', 'e44918b4-8048-43c0-83e5-bdd6c195c04f', 'd351f630-f0d9-4729-8cd2-8ab8e24275ae', '4063a5cb-fa9f-4ee4-8d25-3d77845aceca', 'f5a8d700-b875-4ccf-9528-47408aee1c24', 'b5ecc38d-b2fc-4836-be2d-5551beccb240', '7b2eb653-d463-4a3f-ab02-3f6dc1ea69c5', '13bbc978-cb5b-4e41-9f99-0c2a10f3d17f', 'da3843f4-bf6f-41df-a4e9-823d30e63758', 'bee17e79-2191-463b-9f1f-5307982a1554', '74fafec5-f1f2-400c-8af4-8b5eccbd4e3a', 'ddbf097f-829c-4b83-8a03-f1c635b1e1a1', '55ac90fd-942c-44a1-91b8-d6d739107bf0', '0fde13b6-9f76-4888-9b9c-643ade0d28b5', '505fed3c-6ab2-4547-aab5-56ff22e5178a', 'd6ae4aa1-114d-4d58-9946-7f616297d26c', '89838791-5ec2-42f3-bc31-6cf6ece5f56c', 'b2821b09-3d59-4476-a864-aac07620f5b7', 'a0b9976b-1f17-4c3e-a76c-bd7cad8a4da6', 'beba7802-b6c4-4670-9afa-3d6b6161602d', 'b692e7f7-76ab-4e63-a3f5-7d17d48d3f75', '0d89545a-53b2-47f2-8240-08b8264b95e7', 'ae8d2aea-dc55-476e-83c3-0a0d7d0e0294', 'c359910e-78ca-4701-ae61-75b4a42fcf76', 'aec0065a-bc25-463f-b683-8dfd71af35b7', '0803c22c-2db6-43af-ba2f-1edd2f2e0c9f', '8cbb2ecf-8d3e-4192-820d-bc0e88a503b2', '5da9297e-d59a-4402-9e03-f0cda94831f7', 'cd20c77a-ecbe-4fa4-823b-ba73c2d6a9f1', '712217d2-81f5-4305-a357-ce9fc93ff2fe', '48c951ff-51c3-4ea6-ab57-261505167c6b', '8efa2b20-1851-4ef8-90f6-7479ce8870e3', 'c8a83265-dfba-4a25-bdf0-e784cb56ad43', 'c726016c-e3a8-480f-bccb-e4513e500dde', 'ac4ee852-b0fe-4864-be59-95b1aec71605', 'b6fa8380-4542-4d2f-921b-b8f9ecf55169', 'd25db898-8dc0-47f3-a248-1de181ce1303', '8f50197e-7940-40a6-b7d4-5a8e2d35532a', '110465a2-7e7f-497e-bc9d-157c357b1f37', '6302b35c-e6ad-4f25-986e-d13a8050c507', '117a7be4-f556-4554-a1de-2fa236a80250', '26d6eebd-c94b-46f1-adec-d9fa8783920a', 'e2c7c892-0573-417d-8405-e91d9d30a1dc', '4ea91e86-ee1e-4a06-92b0-f49718f5501c', 'fb9781b9-ed45-4d90-b591-027d28312093', '0c961c6e-4172-48ea-b015-151f7f506fff', '254212f7-d850-458b-b3c2-600f1171fb6d', '87ca976b-dcff-41a5-a942-094d68f20e53', 'e86b5102-b2ba-4a02-9372-1d28eaf269bf', '16b7055b-60d1-4649-9b7d-b7d695a7ed58', '9d3dcd9e-446a-45c3-a5ca-e7498c702d14', '848882d7-e142-4fa8-afe5-69f28de91c0a', '3ea4963e-a627-4052-8428-a358f9e01743', '3b70765e-c8da-48e9-acb1-9e8c3844e3f2', '31f6aa29-8f24-449d-9883-84bd17469b1e', '28d0450e-0334-4b80-adcd-053be10f1cc3', '1b23aee4-ffbc-435c-85f8-2d2a8709d63a', 'c3b16aaf-ab49-48d4-8cbe-60431f3dba93', 'a489d7ca-8e89-450d-9420-f7de0ddb7b84', '9ff2bd2f-7786-4910-b6ac-6a11689a8b20', '1feccda0-9448-4a54-a04a-3872abcda327', '081a897a-4747-4577-b123-cde6f87472a0', '8b3ad9fc-1baa-4ce3-a665-4a10e6c1c285', 'a71a17d4-388c-4ad6-8d8f-cae8e90a31d6', '34778b24-8b6e-4ec5-9352-3e817201cac4', '80c487f3-f714-42de-b2cf-96f8d31834ab', '3293216c-3db2-4481-b30c-349f16c7fff0', 'b722e7d0-9c32-41bc-97e1-0dc2103257ab', 'b7a1e567-9871-4c46-b184-f82ef31d3d6d', '0c977f9e-06c5-4ca7-a147-02f0735e5f50', '7faf3db0-bcab-4ddd-b1af-bf47b2b53d4b', '2088e125-1758-4bbf-b84d-9e3ef1a1f0a9', '7df2cdc8-2321-4124-ae87-3d7cd300c721', 'c757e9d1-1a5d-4c4d-bb5b-9fe349727eec', '1edbb9c0-e5c1-413b-a000-755596e0b203', '845b4f5d-dba3-4194-9d38-4c13d88c0739']\n",
      "Replacing 44 from 132 !\n",
      "D_relabeled_ 44\n",
      "selected_ids ['b7a1e567-9871-4c46-b184-f82ef31d3d6d', '8db34507-f734-4252-be8b-0c8b79ccca5e', '7faf3db0-bcab-4ddd-b1af-bf47b2b53d4b', '819454af-37b6-4a81-8f6d-b7328dcc367f', '3b70765e-c8da-48e9-acb1-9e8c3844e3f2', 'e040a6f4-5ae8-4e66-a8c2-8e79b68962a3', '14b318aa-859b-42b5-ab34-80b6b91a8238', 'd12dd26a-9a2a-4ed9-b3fd-25838415830f', '96849ede-2b6d-4a1f-974a-20d537ea3ac5', 'ad34b550-df12-4762-bedd-62c2789fe25e', '0501f755-8d86-4b43-822f-cd990063de45', '9d1b2748-c592-46be-baa4-ad6fcb259e44', '9d3dcd9e-446a-45c3-a5ca-e7498c702d14', 'ac4ee852-b0fe-4864-be59-95b1aec71605', 'd7ab28de-a0d2-427a-9fbc-57067db0206d', '0c961c6e-4172-48ea-b015-151f7f506fff', '314e75dd-fa1b-4232-8f4a-47c6f02089ed', '31f6aa29-8f24-449d-9883-84bd17469b1e', '89838791-5ec2-42f3-bc31-6cf6ece5f56c', 'e8bd26ff-b8e3-4c79-804c-b3b597efcff5', '701e2e97-a052-440a-824f-f442fa5d5e6f', '70b2c6f3-a1da-4c19-a714-7b02b690e6e9', '1edbb9c0-e5c1-413b-a000-755596e0b203', '3df2ad1d-aba2-478e-a6a5-6f209c39ef5a', '55ac90fd-942c-44a1-91b8-d6d739107bf0', 'b692e7f7-76ab-4e63-a3f5-7d17d48d3f75', 'dee5f216-6d6d-4aaa-9a10-3d457d4d23b3', 'c63a8d33-56c1-49f8-bbf2-25badb17a848', '2d48babd-0bb0-4a70-a5ff-1cd739ebe771', 'fdf0ce74-e666-4445-9f48-e2bf098e8919', '92ec76ee-fd50-47a9-9e2f-0573a1886c45', '12d88e18-26a3-4e3c-b15d-5489e9490301', '8d1bfc30-b5ba-4e8a-98da-3be4c083bd7c', '4063a5cb-fa9f-4ee4-8d25-3d77845aceca', 'eedb1e9c-43bf-4e9f-acd6-30b620703f02', 'b5ecc38d-b2fc-4836-be2d-5551beccb240', 'b5e2a94c-6635-489e-a160-d5332f5cbee8', '7df2cdc8-2321-4124-ae87-3d7cd300c721', 'e2c7c892-0573-417d-8405-e91d9d30a1dc', 'aaddb6db-90fe-4d17-8b39-e9605a856dc3', '3ea4963e-a627-4052-8428-a358f9e01743', 'c3b16aaf-ab49-48d4-8cbe-60431f3dba93', '31abe4ea-52da-4a6b-afb7-afdb041aa589', 'cd20c77a-ecbe-4fa4-823b-ba73c2d6a9f1']\n",
      "dict_keys(['b7a1e567-9871-4c46-b184-f82ef31d3d6d', '8db34507-f734-4252-be8b-0c8b79ccca5e', '7faf3db0-bcab-4ddd-b1af-bf47b2b53d4b', '819454af-37b6-4a81-8f6d-b7328dcc367f', '3b70765e-c8da-48e9-acb1-9e8c3844e3f2', 'e040a6f4-5ae8-4e66-a8c2-8e79b68962a3', '14b318aa-859b-42b5-ab34-80b6b91a8238', 'd12dd26a-9a2a-4ed9-b3fd-25838415830f', '96849ede-2b6d-4a1f-974a-20d537ea3ac5', 'ad34b550-df12-4762-bedd-62c2789fe25e', '0501f755-8d86-4b43-822f-cd990063de45', '9d1b2748-c592-46be-baa4-ad6fcb259e44', '9d3dcd9e-446a-45c3-a5ca-e7498c702d14', 'ac4ee852-b0fe-4864-be59-95b1aec71605', 'd7ab28de-a0d2-427a-9fbc-57067db0206d', '0c961c6e-4172-48ea-b015-151f7f506fff', '314e75dd-fa1b-4232-8f4a-47c6f02089ed', '31f6aa29-8f24-449d-9883-84bd17469b1e', '89838791-5ec2-42f3-bc31-6cf6ece5f56c', 'e8bd26ff-b8e3-4c79-804c-b3b597efcff5', '701e2e97-a052-440a-824f-f442fa5d5e6f', '70b2c6f3-a1da-4c19-a714-7b02b690e6e9', '1edbb9c0-e5c1-413b-a000-755596e0b203', '3df2ad1d-aba2-478e-a6a5-6f209c39ef5a', '55ac90fd-942c-44a1-91b8-d6d739107bf0', 'b692e7f7-76ab-4e63-a3f5-7d17d48d3f75', 'dee5f216-6d6d-4aaa-9a10-3d457d4d23b3', 'c63a8d33-56c1-49f8-bbf2-25badb17a848', '2d48babd-0bb0-4a70-a5ff-1cd739ebe771', 'fdf0ce74-e666-4445-9f48-e2bf098e8919', '92ec76ee-fd50-47a9-9e2f-0573a1886c45', '12d88e18-26a3-4e3c-b15d-5489e9490301', '8d1bfc30-b5ba-4e8a-98da-3be4c083bd7c', '4063a5cb-fa9f-4ee4-8d25-3d77845aceca', 'eedb1e9c-43bf-4e9f-acd6-30b620703f02', 'b5ecc38d-b2fc-4836-be2d-5551beccb240', 'b5e2a94c-6635-489e-a160-d5332f5cbee8', '7df2cdc8-2321-4124-ae87-3d7cd300c721', 'e2c7c892-0573-417d-8405-e91d9d30a1dc', 'aaddb6db-90fe-4d17-8b39-e9605a856dc3', '3ea4963e-a627-4052-8428-a358f9e01743', 'c3b16aaf-ab49-48d4-8cbe-60431f3dba93', '31abe4ea-52da-4a6b-afb7-afdb041aa589', 'cd20c77a-ecbe-4fa4-823b-ba73c2d6a9f1'])\n",
      "point ids 44\n"
     ]
    },
    {
     "name": "stdout",
     "output_type": "stream",
     "text": [
      "Removed: 44 Filled: 44\n",
      "TOOK 73.3840959072113 seconds\n",
      "==== DONE LOOP 2 ====\n",
      "******\n",
      "Loop 3\n",
      "Epoch 1/100\n",
      "7/7 [==============================] - 7s 1s/step - loss: 0.9984 - binary_accuracy: 0.5538 - val_loss: 0.9955 - val_binary_accuracy: 0.5548\n"
     ]
    },
    {
     "name": "stderr",
     "output_type": "stream",
     "text": [
      "/home/ryan.zurrin001/miniconda3/envs/O/lib/python3.9/site-packages/tensorflow/python/keras/utils/generic_utils.py:494: CustomMaskWarning: Custom mask layers require a config and must override get_config. When loading, the custom mask layer must be passed to the custom_objects argument.\n",
      "  warnings.warn('Custom mask layers require a config and must override '\n"
     ]
    },
    {
     "name": "stdout",
     "output_type": "stream",
     "text": [
      "Epoch 2/100\n",
      "7/7 [==============================] - 4s 601ms/step - loss: 0.9986 - binary_accuracy: 0.5538 - val_loss: 0.9955 - val_binary_accuracy: 0.5548\n",
      "Epoch 3/100\n",
      "7/7 [==============================] - 4s 600ms/step - loss: 0.9985 - binary_accuracy: 0.5538 - val_loss: 0.9955 - val_binary_accuracy: 0.5548\n",
      "Model saved to: /tmp/tmpxzz29t8qGP2/attunet_3attunet_model\n",
      "History saved to: /tmp/tmpxzz29t8qGP2/attunet_history_3.pkl\n",
      "Testing the classifier...\n",
      "Testing the discriminator...\n",
      "10/10 [==============================] - 0s 20ms/step - loss: 1.7284e-04 - accuracy: 1.0000\n",
      "Found 157 machine labels.\n",
      "Machine labels [  1   3   4   5   6  10  12  13  14  16  17  18  26  27  28  29  32  33\n",
      "  34  35  36  41  45  46  47  48  50  51  53  54  55  57  58  60  63  64\n",
      "  65  67  69  70  75  79  80  81  82  84  85  88  89  91  92  96  97 103\n",
      " 105 106 108 112 113 115 117 122 123 124 125 129 130 132 133 134 137 138\n",
      " 140 143 144 146 147 149 150 152 155 156 157 160 162 163 165 166 167 168\n",
      " 171 172 173 175 176 178 179 182 185 189 193 197 198 199 201 207 208 209\n",
      " 211 212 213 214 216 217 218 219 222 223 225 226 227 229 230 234 235 237\n",
      " 238 240 246 250 252 253 257 258 259 261 262 263 265 266 267 268 274 275\n",
      " 276 279 280 281 283 284 285 286 287 289 290 291 295]\n",
      "D_ids ['4a611165-e446-4706-a101-5f1f816b9c51', '2605a4e9-ad72-4b34-8b96-8eaca1138a25', '53e01561-5847-4851-aba3-1a5782aea6c6', '989000f7-d4ae-42ad-be9b-6970156b9e38', 'ff14aecd-21cc-4f34-8b2a-89a6eab46206', '81c65936-e352-4222-8f43-d1557b1a105e', '85759a68-b502-40f1-8be1-965f956cb665', '0df24aaf-7332-43d1-9628-28bd101e306d', 'fd8b3c6f-99a2-49ca-817b-768882db416c', 'c4ddb6f5-4319-4784-a805-ba5e35c04e40', '6850ec45-8c49-469e-aaea-e1a6d809d0c0', '5322c5c2-ebde-4bf4-a551-0cc0518f86c2', '3e62eb56-c5ed-44c0-9947-11dbdadee18c', '95ccbc94-7c7d-4714-8513-26e96751c430', 'ec615a54-aadc-4f20-a9b3-601f36d214ba', 'c441af87-9d68-48ff-91bf-1d4242e76a0b', '5d90ac7d-6ac8-4444-a22c-3ac155db40e6', 'ed907953-0f4b-4f84-acd7-b4c6c1cbe1d3', '5f4ca1f6-ca76-4bf0-8c87-dd9197b2f837', '87ebd0c6-d5f0-4e1c-b845-02f8790e84b7', 'c1bae014-154b-46e7-a94a-58852c13825d', 'a109250f-1952-41d7-b18d-2f9223422d5c', 'f6cab93e-526a-49d0-8507-700943ae4d31', 'df5243e9-e12a-45fc-9e8c-45a1e58e565a', '804f032c-f7a7-4be6-bfc4-e09cbd45e184', '6631e2ed-1463-488f-9252-0b19ae1c1e06', '2f4242bb-1f16-48f3-b375-dc2f8f87dc77', '7cef70f9-725a-4053-853b-b98dac88879c', 'c35d351c-50d2-4066-8390-189bdb8fb733', '6b8d7f7d-e322-4207-80b0-219fe6d1a95e', 'dff70677-3817-49a4-aa62-75fd5f60690e', '8e154a7b-2117-4c36-a85c-a0e78fc0e22a', '71c796a7-87e1-4c14-ab61-6c720539d7f4', '10a428cd-dd76-48b6-9379-13ec871f63e3', 'de33a2bb-becc-4f10-8067-be90e8bc4041', '2309fa56-ee4b-4370-a01b-3fde4c222d1a', '081a897a-4747-4577-b123-cde6f87472a0', 'f6b5e150-d41a-4a77-b0e3-6e10fbc49bc1', '10f62018-f22c-4c6f-b64e-70ee01bbca8a', '667a3f83-5134-4f48-9934-4cc3b602ba30', 'a294bfe9-4ff7-4c89-8909-e324e1ca2860', 'bd8451e4-c561-4ed8-afa6-9657a314a739', '3bf2ea00-e2bd-4812-9d7c-76ff6a9a4086', 'c2e5357e-9a6e-4b2b-9c4e-2450dd5e94d1', '2853682c-ce2c-4b1f-aaaf-20b410656536', '0a65d449-e35c-4833-bec4-2d95590f809f', '5282faa9-755b-4c98-ac43-7ac105f001ba', 'a6e6fc26-bc82-4447-8cd3-6ee270d48ca4', '7ea74d8e-4f6d-4ab8-9c0e-5edc96d71583', 'daf6f2cb-5506-45d6-b281-94a7970b7d19', 'c63dd02b-f059-4897-b252-494c86e5181e', '6e94b30d-326c-4030-867c-401fdad1e3b9', '18c94fc2-8ec0-4088-87dc-d19f0be706e2', '2c8a4295-c71b-4342-b168-1d51106d43c6', '4ca5b7d9-f401-4e5c-af17-e763068bf4b5', 'b7400fa4-3fa6-4e8c-8323-7ee447c5e3d4', '4b9bc9b4-4b91-44bd-aed6-623c25c2e1ad', 'ed68f47d-56db-42df-9ce9-d7851eaccc68', '3d41ebeb-0e34-4edb-a411-2466f30555a8', 'cf8a83e2-4157-40c1-bf6c-2a2e8a58cc31', '90f26c84-8020-4ce4-aa2f-be71a154cb65', '58145578-701e-43e1-8559-b8fe42016213', '18eda124-041e-4b27-846b-3fc5c0bac55b', '7b25c309-946b-4607-b2c9-ed25a2a91751', 'a59359ba-0727-4512-a191-d2bb252dd321', 'cf980d17-7c2e-48d4-964a-ecba96b3298f', '42708c20-1146-4cdb-b5dd-9017125ab8d2', 'c359910e-78ca-4701-ae61-75b4a42fcf76', '7b516623-4d6a-4a94-a171-b5809e8af14e', '97a20d9f-ee4d-423f-a087-d4b843bb9633', '21b244f1-c813-40c0-8b45-cc557f3e19ce', 'eda794ec-9ac6-4e34-a575-69fba2f8b750', '35a1511e-f937-4931-82b1-bdc1dcc574ff', '4a5d867e-6d46-4952-889b-10ee23c7d6a8', '72c5f786-e0e5-4157-ac21-370bf6d551e9', '0e9470dc-3013-4b32-8029-4376116e6544', '8b7115f2-b293-4804-8d25-4677f6c9c121', '4a19eb35-12a1-42b8-86be-382a2c611bcb', '3ae8410e-2a31-4bfc-81e1-437b3c98fa28', '611b152c-b2fc-4dff-b1d8-44943fa6784a', '4f7c96be-dc92-40a5-8d10-f49e323eb1ec', 'd671d04b-de4f-4fdc-a1cf-2dc4a9442df2', '8feced29-2103-4413-b3a2-4768d0dc816f', 'a71a17d4-388c-4ad6-8d8f-cae8e90a31d6', '90fd9ddb-cf22-47b0-ae3f-ed3a6875a883', '3e662e38-4bde-4a03-b247-f52f0222cc00', 'd619cfbb-5f95-45fc-92ae-dcbf32bf05d7', 'bb11ceb5-6b5e-4d83-af48-0b0748c35314', 'dcdc20d4-48ce-44da-ab4c-181ffa61f94e', 'bee17e79-2191-463b-9f1f-5307982a1554', '3a414e51-7a92-4f20-93c5-1f07053ea7b8', '7630ce5d-0778-42a3-af24-6b1836d7f32c', '177233ef-c668-4a30-b6f9-e02173e9307c', 'bd8e94db-4e17-4766-bac0-a3bc6654afa1', 'de153cc2-91e4-4739-a3ba-4cb92f0ec04f', '1b4b8c12-7c09-4074-8522-648b2c8ba7bd', '7bfb260b-a8ad-4dc9-8506-83b97811b4f8', '6cb97fd0-9f19-48ed-9c97-e1dbba9862cf', 'b057e010-5f84-49fd-bf2a-1466cb6c9a4e', '75b65815-76b2-46c8-a0e5-2f061fe2dcc1', 'd8ba31a7-2a20-4355-8e2e-ca2a91143245', 'b7611912-bbd3-4f38-bfa3-9000ccec110e', '74754aa2-7759-45fc-8eef-541b0e5c33da', 'a15dc289-bbdf-45da-ae7c-8a291866b2e4', '44a5d7d6-3842-44f2-86e9-0cce2a94e0e7', '87fb2064-920c-4c82-beda-cd08fbb0035c', '6ecc2e9c-b06b-43c7-a85a-c0028e5992c6', '48c951ff-51c3-4ea6-ab57-261505167c6b', '304968da-e2b1-415a-bae7-ce0467801269', '19fd1481-77fa-4dfa-992f-3961ec395956', '85294e26-cd07-4a08-8938-5e9470d81830', '338d8901-b2d3-4367-915b-c96432c6fccd', 'aadaa3e5-d8fc-4ab4-a526-e2134c6930b1', '87d6844f-f0de-4d20-b622-8920a75c2dce', 'f59a3f53-af1b-4aab-9698-c9f5709721b1', '25b766e3-695b-4000-bb33-3d1f95b3ba63', 'ea02ce21-7b83-413e-bf6e-8c467c084365', 'aacadf36-c5e7-4341-a229-75ddcb542ff0', '024ade0d-ab8d-401f-9fba-b938ba0b5797', 'c0e76ef3-7eaf-4d1c-be29-6c8ca790690b', 'cd60badf-c60a-42b5-bdac-af0d8fef931a', '8ffd4596-19e5-4583-bec2-9b68f9e0db86', 'efe13d2c-1755-46ee-b317-512d1eb797a9', '577edfac-3448-40c8-a6f6-2420ad943e7b', 'f461f1fb-ec2c-4436-b816-72ed7ca7279b', '276399ea-3aaa-461c-a68c-f16be5517841', 'b7963ad2-0832-460c-9408-32c11c77af06', '21227cae-15c1-49fc-ae3d-d1d865609086', '4a406d89-191d-499b-84f1-07898e324dea', '53f2aa55-f1dd-4862-803f-560fa36035b7', 'eed85918-99dd-479d-8cc9-e3eac420f31b', '4f4236ee-a9f0-44b6-a5f5-d08e7898ae0e', '799cd7f5-8df6-423a-8015-0745e56a6774', '63d868ae-a008-430d-8b3a-c0bff99c03a2', '89606fb9-07fd-4e2d-932a-e1ceaa4bd6ba', '4b2df7dc-cc7f-471e-b5ed-6363a84fd6fa', 'f0a2cd83-7c1e-4c4a-b355-20e3cf672f02', 'c8ca0d82-29e0-41aa-8479-57cbfa7d1301', 'b64713c9-9056-46cc-9f42-bf37b4490761', '96d609cb-b145-44c0-a6f9-ab50eb712db4', '7e2939a0-defb-442f-a200-0d28274ddabc', 'f46b9b3d-dc96-4b2a-a9a9-b6394b83f296', '7303cea1-0516-42d9-be52-ffe31d346828', 'd571fad8-a7ef-4562-95f9-b0ee04f09e43', '2502dad5-eb5a-4a94-bfe7-b9cf6215e140', '022d43b3-64fa-4f9f-9e39-3a090214c7d7', '2fcec8ee-4b2c-4e56-ba87-b8acb186c280', 'dd8ee02e-75b4-4096-8804-bd3075a9f702', 'b3f52db0-16f9-4515-9eba-add796915269', 'e9998722-67fa-4d55-8a8a-cb0c20ad59ad', '60028a0d-249a-46a0-bb2c-77ad4f0f977b', 'c85e0e31-c7ad-4809-b0f6-155e02ba7be3', 'eefc20f1-5921-4551-a612-d1f9a569a4e5', '37069ab8-71b0-4832-b472-b780cb5d0356', 'dae22859-35e0-4e8a-9bad-01b3968f5790', 'd17e5aa2-c4a6-471d-991c-cb847fe05522', 'e38f7f2d-0efa-4377-be52-335554f1a8d7']\n",
      "Replacing 52 from 157 !\n",
      "D_relabeled_ 52\n",
      "selected_ids ['f461f1fb-ec2c-4436-b816-72ed7ca7279b', '804f032c-f7a7-4be6-bfc4-e09cbd45e184', '87fb2064-920c-4c82-beda-cd08fbb0035c', '3d41ebeb-0e34-4edb-a411-2466f30555a8', '42708c20-1146-4cdb-b5dd-9017125ab8d2', '6b8d7f7d-e322-4207-80b0-219fe6d1a95e', '71c796a7-87e1-4c14-ab61-6c720539d7f4', '4f7c96be-dc92-40a5-8d10-f49e323eb1ec', 'f0a2cd83-7c1e-4c4a-b355-20e3cf672f02', '8b7115f2-b293-4804-8d25-4677f6c9c121', '3a414e51-7a92-4f20-93c5-1f07053ea7b8', '5282faa9-755b-4c98-ac43-7ac105f001ba', '2c8a4295-c71b-4342-b168-1d51106d43c6', '85294e26-cd07-4a08-8938-5e9470d81830', '6ecc2e9c-b06b-43c7-a85a-c0028e5992c6', 'd619cfbb-5f95-45fc-92ae-dcbf32bf05d7', '1b4b8c12-7c09-4074-8522-648b2c8ba7bd', '4a611165-e446-4706-a101-5f1f816b9c51', 'ff14aecd-21cc-4f34-8b2a-89a6eab46206', 'eefc20f1-5921-4551-a612-d1f9a569a4e5', '72c5f786-e0e5-4157-ac21-370bf6d551e9', '4a406d89-191d-499b-84f1-07898e324dea', '8e154a7b-2117-4c36-a85c-a0e78fc0e22a', '63d868ae-a008-430d-8b3a-c0bff99c03a2', 'cd60badf-c60a-42b5-bdac-af0d8fef931a', '4b2df7dc-cc7f-471e-b5ed-6363a84fd6fa', 'e38f7f2d-0efa-4377-be52-335554f1a8d7', '7b516623-4d6a-4a94-a171-b5809e8af14e', '87ebd0c6-d5f0-4e1c-b845-02f8790e84b7', '10f62018-f22c-4c6f-b64e-70ee01bbca8a', '2502dad5-eb5a-4a94-bfe7-b9cf6215e140', 'f59a3f53-af1b-4aab-9698-c9f5709721b1', '81c65936-e352-4222-8f43-d1557b1a105e', 'eed85918-99dd-479d-8cc9-e3eac420f31b', '3e62eb56-c5ed-44c0-9947-11dbdadee18c', 'd571fad8-a7ef-4562-95f9-b0ee04f09e43', 'c35d351c-50d2-4066-8390-189bdb8fb733', 'fd8b3c6f-99a2-49ca-817b-768882db416c', '4a19eb35-12a1-42b8-86be-382a2c611bcb', 'c63dd02b-f059-4897-b252-494c86e5181e', '6cb97fd0-9f19-48ed-9c97-e1dbba9862cf', '95ccbc94-7c7d-4714-8513-26e96751c430', '60028a0d-249a-46a0-bb2c-77ad4f0f977b', '7b25c309-946b-4607-b2c9-ed25a2a91751', '58145578-701e-43e1-8559-b8fe42016213', '2309fa56-ee4b-4370-a01b-3fde4c222d1a', 'bb11ceb5-6b5e-4d83-af48-0b0748c35314', '89606fb9-07fd-4e2d-932a-e1ceaa4bd6ba', 'b7611912-bbd3-4f38-bfa3-9000ccec110e', 'c0e76ef3-7eaf-4d1c-be29-6c8ca790690b', '0a65d449-e35c-4833-bec4-2d95590f809f', '3bf2ea00-e2bd-4812-9d7c-76ff6a9a4086']\n",
      "dict_keys(['f461f1fb-ec2c-4436-b816-72ed7ca7279b', '804f032c-f7a7-4be6-bfc4-e09cbd45e184', '87fb2064-920c-4c82-beda-cd08fbb0035c', '3d41ebeb-0e34-4edb-a411-2466f30555a8', '42708c20-1146-4cdb-b5dd-9017125ab8d2', '6b8d7f7d-e322-4207-80b0-219fe6d1a95e', '71c796a7-87e1-4c14-ab61-6c720539d7f4', '4f7c96be-dc92-40a5-8d10-f49e323eb1ec', 'f0a2cd83-7c1e-4c4a-b355-20e3cf672f02', '8b7115f2-b293-4804-8d25-4677f6c9c121', '3a414e51-7a92-4f20-93c5-1f07053ea7b8', '5282faa9-755b-4c98-ac43-7ac105f001ba', '2c8a4295-c71b-4342-b168-1d51106d43c6', '85294e26-cd07-4a08-8938-5e9470d81830', '6ecc2e9c-b06b-43c7-a85a-c0028e5992c6', 'd619cfbb-5f95-45fc-92ae-dcbf32bf05d7', '1b4b8c12-7c09-4074-8522-648b2c8ba7bd', '4a611165-e446-4706-a101-5f1f816b9c51', 'ff14aecd-21cc-4f34-8b2a-89a6eab46206', 'eefc20f1-5921-4551-a612-d1f9a569a4e5', '72c5f786-e0e5-4157-ac21-370bf6d551e9', '4a406d89-191d-499b-84f1-07898e324dea', '8e154a7b-2117-4c36-a85c-a0e78fc0e22a', '63d868ae-a008-430d-8b3a-c0bff99c03a2', 'cd60badf-c60a-42b5-bdac-af0d8fef931a', '4b2df7dc-cc7f-471e-b5ed-6363a84fd6fa', 'e38f7f2d-0efa-4377-be52-335554f1a8d7', '7b516623-4d6a-4a94-a171-b5809e8af14e', '87ebd0c6-d5f0-4e1c-b845-02f8790e84b7', '10f62018-f22c-4c6f-b64e-70ee01bbca8a', '2502dad5-eb5a-4a94-bfe7-b9cf6215e140', 'f59a3f53-af1b-4aab-9698-c9f5709721b1', '81c65936-e352-4222-8f43-d1557b1a105e', 'eed85918-99dd-479d-8cc9-e3eac420f31b', '3e62eb56-c5ed-44c0-9947-11dbdadee18c', 'd571fad8-a7ef-4562-95f9-b0ee04f09e43', 'c35d351c-50d2-4066-8390-189bdb8fb733', 'fd8b3c6f-99a2-49ca-817b-768882db416c', '4a19eb35-12a1-42b8-86be-382a2c611bcb', 'c63dd02b-f059-4897-b252-494c86e5181e', '6cb97fd0-9f19-48ed-9c97-e1dbba9862cf', '95ccbc94-7c7d-4714-8513-26e96751c430', '60028a0d-249a-46a0-bb2c-77ad4f0f977b', '7b25c309-946b-4607-b2c9-ed25a2a91751', '58145578-701e-43e1-8559-b8fe42016213', '2309fa56-ee4b-4370-a01b-3fde4c222d1a', 'bb11ceb5-6b5e-4d83-af48-0b0748c35314', '89606fb9-07fd-4e2d-932a-e1ceaa4bd6ba', 'b7611912-bbd3-4f38-bfa3-9000ccec110e', 'c0e76ef3-7eaf-4d1c-be29-6c8ca790690b', '0a65d449-e35c-4833-bec4-2d95590f809f', '3bf2ea00-e2bd-4812-9d7c-76ff6a9a4086'])\n",
      "point ids 52\n",
      "Removed: 52 Filled: 52\n",
      "TOOK 73.48248958587646 seconds\n",
      "==== DONE LOOP 3 ====\n",
      "******\n",
      "Loop 4\n"
     ]
    },
    {
     "name": "stdout",
     "output_type": "stream",
     "text": [
      "Epoch 1/100\n",
      "7/7 [==============================] - 17s 3s/step - loss: 0.9927 - binary_accuracy: 0.5545 - val_loss: 0.9955 - val_binary_accuracy: 0.5548\n"
     ]
    },
    {
     "name": "stderr",
     "output_type": "stream",
     "text": [
      "/home/ryan.zurrin001/miniconda3/envs/O/lib/python3.9/site-packages/tensorflow/python/keras/utils/generic_utils.py:494: CustomMaskWarning: Custom mask layers require a config and must override get_config. When loading, the custom mask layer must be passed to the custom_objects argument.\n",
      "  warnings.warn('Custom mask layers require a config and must override '\n"
     ]
    },
    {
     "name": "stdout",
     "output_type": "stream",
     "text": [
      "Epoch 2/100\n",
      "7/7 [==============================] - 4s 674ms/step - loss: 0.9928 - binary_accuracy: 0.5545 - val_loss: 0.9955 - val_binary_accuracy: 0.5548\n",
      "Epoch 3/100\n",
      "7/7 [==============================] - 4s 646ms/step - loss: 0.9928 - binary_accuracy: 0.5545 - val_loss: 0.9955 - val_binary_accuracy: 0.5548\n",
      "Model saved to: /tmp/tmpxzz29t8qGP2/attunet_4attunet_model\n",
      "History saved to: /tmp/tmpxzz29t8qGP2/attunet_history_4.pkl\n",
      "Testing the classifier...\n",
      "Testing the discriminator...\n",
      "10/10 [==============================] - 0s 18ms/step - loss: 1.7283e-04 - accuracy: 1.0000\n",
      "Found 157 machine labels.\n",
      "Machine labels [  0   2   3   9  11  12  13  15  16  17  22  25  28  29  31  34  37  38\n",
      "  39  40  44  46  47  49  51  54  56  57  58  59  61  62  64  67  68  70\n",
      "  71  79  80  81  84  85  86  94  96  98  99 100 101 105 106 108 109 112\n",
      " 115 117 121 122 125 126 128 129 132 134 136 139 140 141 144 145 148 151\n",
      " 152 153 157 159 160 161 163 166 168 170 171 172 173 175 176 178 180 181\n",
      " 183 185 186 187 189 191 192 193 195 196 197 198 201 203 205 207 208 212\n",
      " 213 214 218 223 224 225 227 229 230 231 233 234 235 236 237 240 243 244\n",
      " 245 246 247 249 250 251 254 256 259 260 262 263 268 269 270 271 272 275\n",
      " 278 280 282 284 286 287 289 291 292 293 296 297 298]\n",
      "D_ids ['764ab2a1-fb55-4029-94e4-3e3c3e02c219', '94faf5a4-af71-403f-b6c6-92bd46666a09', '4abf9cda-1e2b-4246-8b0a-3a6e116af452', 'daceb06a-b278-4e0c-800f-1543b7366f0e', 'ab9e2368-fdf2-4bd6-868e-ff71abc13e1c', '820bd315-0fa7-4893-938c-69587dacf068', 'f8d54fab-04b6-46b9-af6f-a64514fc8c84', 'fc1ac23d-9c4c-4eeb-9f59-8c0452520145', 'c0c56a22-ba6f-4533-afe9-2e7371ce6036', 'dcce6981-29a7-4b58-914c-4690eddf9188', 'a59359ba-0727-4512-a191-d2bb252dd321', '13e6ff15-781b-4dc2-b5c3-5fdcaa3bb105', '031a3c94-eb61-4891-8eb1-bac7250c1138', 'd1b83044-4883-4afd-9d98-a0b89e46d72d', 'd6ae4aa1-114d-4d58-9946-7f616297d26c', '4971b762-d895-4578-b085-fb7f8fb7b530', '95156600-9f20-497f-9f76-01a994e79a01', 'dd4dc06e-376e-4a79-8313-7c261fb07be4', '3ae8410e-2a31-4bfc-81e1-437b3c98fa28', '022d43b3-64fa-4f9f-9e39-3a090214c7d7', 'a97901a0-77b7-4395-9493-86f440e4a95e', 'd7b40ad0-6d0a-4f20-b81c-bbe3b38a3df3', '19fd1481-77fa-4dfa-992f-3961ec395956', '8c2d5e7c-1cf3-4aa1-8780-2c8f4d7780cd', 'd64d587f-1d25-492a-85b5-2652396a61d6', 'f9b06d64-766f-48c6-8dd7-0df99aa60419', '98c44ab7-f9ca-4efa-b6fe-77f9929f1fd6', '6e33ff8d-b798-4beb-ac5a-ce1ff8565ec4', '416856c8-7dd5-44e1-8abb-86189a39254a', '6fdd7eea-03a8-4835-8788-0d96ae3ad6ce', 'e22b8677-9241-4a7d-b59c-192483d28275', '1b3e85f1-6d5e-45ff-a292-ec06267a1e6f', '0859a8c0-4b36-4ada-8ef9-2f0cb949441c', 'dde85544-e1e7-4438-9b52-ebc3e8a6395e', '144ab761-a8be-4c9f-8cae-4fdca8421cfd', '90f26c84-8020-4ce4-aa2f-be71a154cb65', '840a76d4-70c3-489f-b2c1-89b65bb42959', 'd92cdcbf-4f59-4668-a574-3c5fea4b6fc8', '062386d2-1f33-4d16-8294-9cccf04d2bfb', '9eb4e96e-e896-4d49-9afb-5593cb0cb3fa', 'd98cac6c-2a43-4b9e-80fa-69b7ae03389a', '5ca1f9d1-625c-4c93-8288-e5d2556d2fd4', 'eefe4fed-0af8-4462-a55c-52d7556b274e', '7c4b2cfb-33a6-450d-b95d-2dbbe6d9ec93', '00d4689c-46d1-406b-9d20-326cadbb825f', '5ff18111-f3de-4f39-a31e-5f9a1301d339', '4f4236ee-a9f0-44b6-a5f5-d08e7898ae0e', '9697cd9e-b586-43db-ba20-a43d28eaa160', 'e55491c4-0367-4758-80dc-a463c7a6d53b', 'f3ad6c8c-fadf-4056-a66b-e7596d6e5fe2', 'bee17e79-2191-463b-9f1f-5307982a1554', '205796f2-db2e-4362-8d2d-82e62a721fb6', '4b6147a9-9528-4218-8962-2e2f28cd4771', 'efe13d2c-1755-46ee-b317-512d1eb797a9', '2f829021-1186-4824-a1f0-a0c881421988', '481dd1f3-1e5d-40cc-89e2-848f81601a2b', '1f753255-85a6-48ac-8232-916e14ff0c26', 'a294bfe9-4ff7-4c89-8909-e324e1ca2860', '63a5464d-44fd-4eb1-b049-6fd7b2885096', '5f962dc0-1d44-4a38-8dda-cec8257793f1', '5f0c42c3-689e-43ad-b02b-8bfae116268b', 'e335fd3f-cfc0-4748-93cc-da0f04fd0979', 'b0fbd3fb-8e9d-46e0-bd2c-805941e7e738', '0b809e29-aa63-4b16-8d75-9f503b70a13b', '21f94c0e-169c-4287-a103-ae080a1eecfc', '63a0022a-cc90-4024-b465-0ce01a61101e', '07d43ea5-df7f-4fce-b955-0cd5c76319fe', 'dc261fc4-2170-40ad-b575-f259175d2d6f', '6e27f6fe-8446-4cc3-bb34-f1459b5ad878', '3ba1700a-e3bc-4653-a9c5-64def4307d8f', '81448ecf-02d2-435b-91fb-7cfbd4b1b5d8', '9ab6065e-be89-44b9-a124-58a917d65e89', '47e71ec5-c1eb-4727-b382-b9016e8d1ad4', 'c6d15535-f56e-459b-ba2f-5b7336f1fc84', '9c4b5f59-11e2-4161-adcf-367acdac8a78', 'bc822e76-5b7b-46cd-b13e-2b937e71d556', 'c2e5357e-9a6e-4b2b-9c4e-2450dd5e94d1', '3c0cdaae-faf7-474b-87d7-b27d4bfe9546', 'e51c7346-71ae-4b58-a518-094e04f6eb81', 'f8e079a7-4652-4157-9a5a-59af0ef01cfb', 'd507ace8-2bfd-49f1-81c2-16784b3a32bd', '3611b0f7-260b-45cd-94d7-a4d2b1014243', '8bbaf199-fdd4-459b-b36a-7acd0136451e', 'e96316a4-7cd9-420b-a895-81d9ed3679c5', 'b041b151-519f-49f0-a547-77abfa987e05', 'f642df0c-2e57-4496-9535-d5112b692514', '1be9ab22-57a9-4cfe-83f7-4bf95765d27a', '55b8640e-d429-4a81-a1c5-e47eb2a31705', '18d9b9ac-a06f-4dab-9783-0b40e364decd', '83a0a669-c184-4bfe-8631-620575db519c', 'ed907953-0f4b-4f84-acd7-b4c6c1cbe1d3', 'f787f904-ef20-41af-9120-69bd95ee778a', '1bef9f68-9f0f-4e14-92af-a2c2cec7397b', '9027f92a-6dd4-4449-8fd9-8d06a3d3edea', '528cea4e-8d52-44af-afea-26ec899c743e', '31f965d5-1ce0-414d-8429-3248d4e6db47', 'ecd6b2d9-cd3b-4ad5-b4d0-e1ccb9746cab', 'de0c828b-afa2-44b3-ba1b-31db0d3bdebf', 'dee175d0-e7a9-44eb-8ea2-07a9ef2791ee', 'dbd0003c-dde2-4efe-983a-4c2fc760cc29', '5a2374f0-0e3c-426b-9d7b-1d948f4949a2', 'b25835d0-a0b0-4ebf-95a7-57687a7c14f5', '13bbc978-cb5b-4e41-9f99-0c2a10f3d17f', 'b057e010-5f84-49fd-bf2a-1466cb6c9a4e', '4e742e50-9cf0-4d81-acb6-80d3777b8e42', '0e3c36cf-c3b2-4f4e-967a-f944895ae10b', 'dff70677-3817-49a4-aa62-75fd5f60690e', 'f86be3c0-1482-4ceb-a4aa-f45593b65458', '1ca5967d-31db-4755-945f-3ea050f216b3', 'd5415bcc-2c8d-44a4-9d5d-5e935697e050', '110465a2-7e7f-497e-bc9d-157c357b1f37', 'dea8a703-b601-48f9-9025-6678d2f2063e', '77e4f92f-9199-4c2f-8fcb-59588cb2080d', '6516cf0c-513c-49c8-93ed-47bdff6a5c76', '9a57d371-fcb5-40b6-b219-ad4872dc6607', '2516be8d-62b7-4e9b-83b3-80bfdcda6df3', '2bbab8d2-4418-4399-ab64-b45509eba174', '7630ce5d-0778-42a3-af24-6b1836d7f32c', '478d5b0e-16c2-4324-9c68-9ea43d732214', '43bba357-1722-4b5b-9558-ae166da144fc', 'b722e7d0-9c32-41bc-97e1-0dc2103257ab', '1dfeb372-d830-40ba-908b-debbf4162da2', 'e33f2b55-2440-4562-98de-300710771f9f', '981d6aaa-5e52-4dcf-b469-f53c58d6db9e', 'cf980d17-7c2e-48d4-964a-ecba96b3298f', 'fb46ae59-8027-422b-ae5f-91278c104e22', '9d2420da-27d5-4501-8a1e-42faa682dc84', '955242e2-413e-4f32-9b03-d1967a7cce22', 'c8ca0d82-29e0-41aa-8479-57cbfa7d1301', '6a36e0a7-a1c7-479a-badb-0fcf118fbcca', '32b5a496-cb84-49e6-b731-dfa817a38bda', '34a8f86a-3e28-4ad5-892d-433eadccfd8c', 'a97fea6e-6792-4dd3-8869-25f6d679ab4f', '5b3ebe92-0d7d-43f4-a98f-32285b33242e', 'f18d16f9-98ac-44b8-9792-ed70d8e859ee', 'a0ffb06d-1625-4800-873c-c2dc10410011', '8a6ce9b9-045b-4663-b7e9-e75b6e7d1583', '5f4ca1f6-ca76-4bf0-8c87-dd9197b2f837', '656bb324-7ba9-46b1-8e6e-26f22e8a2082', 'f8f84cc2-50f8-4ec7-8b49-2b9ca8ae0ad3', '40f01619-3f2d-48bf-9549-f63db0c95f14', '3bf5f2c7-954a-4524-88f9-bfb7ac32dde5', 'feb2e301-3442-4361-86ed-e4646ed1afe3', '421c9b45-6bc0-46d0-9f78-b96142604b80', '6daa7347-da76-4992-b454-8ba2fb2acdfb', '5a1f89ad-09a6-4c97-ac31-abf4491b582f', 'f047f57d-20f4-4cdc-ae16-dab26e21aba6', 'c306a6a7-9652-460d-b754-10250efa9e82', 'f1e83f58-98be-4be2-99c4-b8f6cd65a7a8', 'c5eb5008-e4f2-4720-910d-b0b7c658939e', '611b152c-b2fc-4dff-b1d8-44943fa6784a', '17d65eb3-17b2-45ed-bd4b-33eedd05bddb', '93c36284-ebeb-45ce-9ca6-5eeab26c5f64', '1f1d6585-d7bc-47ab-973d-7611a2436c5f', '9339813a-6d77-489f-b9ad-ebe5c8678a03', '5ee79a7b-6366-4b25-907b-196f6bb19a2d', '7c017d73-1c64-42b5-a1bd-351d525c10f1']\n",
      "Replacing 52 from 157 !\n",
      "D_relabeled_ 52\n",
      "selected_ids ['18d9b9ac-a06f-4dab-9783-0b40e364decd', '5f962dc0-1d44-4a38-8dda-cec8257793f1', 'f8f84cc2-50f8-4ec7-8b49-2b9ca8ae0ad3', '83a0a669-c184-4bfe-8631-620575db519c', 'f787f904-ef20-41af-9120-69bd95ee778a', '13e6ff15-781b-4dc2-b5c3-5fdcaa3bb105', '77e4f92f-9199-4c2f-8fcb-59588cb2080d', '8bbaf199-fdd4-459b-b36a-7acd0136451e', 'de0c828b-afa2-44b3-ba1b-31db0d3bdebf', '3c0cdaae-faf7-474b-87d7-b27d4bfe9546', '31f965d5-1ce0-414d-8429-3248d4e6db47', 'f047f57d-20f4-4cdc-ae16-dab26e21aba6', 'c8ca0d82-29e0-41aa-8479-57cbfa7d1301', 'dc261fc4-2170-40ad-b575-f259175d2d6f', '9d2420da-27d5-4501-8a1e-42faa682dc84', 'f86be3c0-1482-4ceb-a4aa-f45593b65458', '5a1f89ad-09a6-4c97-ac31-abf4491b582f', '1dfeb372-d830-40ba-908b-debbf4162da2', 'e33f2b55-2440-4562-98de-300710771f9f', '4b6147a9-9528-4218-8962-2e2f28cd4771', '528cea4e-8d52-44af-afea-26ec899c743e', 'c0c56a22-ba6f-4533-afe9-2e7371ce6036', '5ca1f9d1-625c-4c93-8288-e5d2556d2fd4', '9ab6065e-be89-44b9-a124-58a917d65e89', '94faf5a4-af71-403f-b6c6-92bd46666a09', '421c9b45-6bc0-46d0-9f78-b96142604b80', '5ff18111-f3de-4f39-a31e-5f9a1301d339', '820bd315-0fa7-4893-938c-69587dacf068', '0e3c36cf-c3b2-4f4e-967a-f944895ae10b', 'dd4dc06e-376e-4a79-8313-7c261fb07be4', 'f8e079a7-4652-4157-9a5a-59af0ef01cfb', '9027f92a-6dd4-4449-8fd9-8d06a3d3edea', '34a8f86a-3e28-4ad5-892d-433eadccfd8c', '031a3c94-eb61-4891-8eb1-bac7250c1138', 'daceb06a-b278-4e0c-800f-1543b7366f0e', '9339813a-6d77-489f-b9ad-ebe5c8678a03', '9eb4e96e-e896-4d49-9afb-5593cb0cb3fa', 'efe13d2c-1755-46ee-b317-512d1eb797a9', 'd507ace8-2bfd-49f1-81c2-16784b3a32bd', '6e33ff8d-b798-4beb-ac5a-ce1ff8565ec4', '17d65eb3-17b2-45ed-bd4b-33eedd05bddb', 'd92cdcbf-4f59-4668-a574-3c5fea4b6fc8', '955242e2-413e-4f32-9b03-d1967a7cce22', '981d6aaa-5e52-4dcf-b469-f53c58d6db9e', '6a36e0a7-a1c7-479a-badb-0fcf118fbcca', '1be9ab22-57a9-4cfe-83f7-4bf95765d27a', '47e71ec5-c1eb-4727-b382-b9016e8d1ad4', '840a76d4-70c3-489f-b2c1-89b65bb42959', 'f1e83f58-98be-4be2-99c4-b8f6cd65a7a8', '6e27f6fe-8446-4cc3-bb34-f1459b5ad878', '022d43b3-64fa-4f9f-9e39-3a090214c7d7', '1f1d6585-d7bc-47ab-973d-7611a2436c5f']\n",
      "dict_keys(['18d9b9ac-a06f-4dab-9783-0b40e364decd', '5f962dc0-1d44-4a38-8dda-cec8257793f1', 'f8f84cc2-50f8-4ec7-8b49-2b9ca8ae0ad3', '83a0a669-c184-4bfe-8631-620575db519c', 'f787f904-ef20-41af-9120-69bd95ee778a', '13e6ff15-781b-4dc2-b5c3-5fdcaa3bb105', '77e4f92f-9199-4c2f-8fcb-59588cb2080d', '8bbaf199-fdd4-459b-b36a-7acd0136451e', 'de0c828b-afa2-44b3-ba1b-31db0d3bdebf', '3c0cdaae-faf7-474b-87d7-b27d4bfe9546', '31f965d5-1ce0-414d-8429-3248d4e6db47', 'f047f57d-20f4-4cdc-ae16-dab26e21aba6', 'c8ca0d82-29e0-41aa-8479-57cbfa7d1301', 'dc261fc4-2170-40ad-b575-f259175d2d6f', '9d2420da-27d5-4501-8a1e-42faa682dc84', 'f86be3c0-1482-4ceb-a4aa-f45593b65458', '5a1f89ad-09a6-4c97-ac31-abf4491b582f', '1dfeb372-d830-40ba-908b-debbf4162da2', 'e33f2b55-2440-4562-98de-300710771f9f', '4b6147a9-9528-4218-8962-2e2f28cd4771', '528cea4e-8d52-44af-afea-26ec899c743e', 'c0c56a22-ba6f-4533-afe9-2e7371ce6036', '5ca1f9d1-625c-4c93-8288-e5d2556d2fd4', '9ab6065e-be89-44b9-a124-58a917d65e89', '94faf5a4-af71-403f-b6c6-92bd46666a09', '421c9b45-6bc0-46d0-9f78-b96142604b80', '5ff18111-f3de-4f39-a31e-5f9a1301d339', '820bd315-0fa7-4893-938c-69587dacf068', '0e3c36cf-c3b2-4f4e-967a-f944895ae10b', 'dd4dc06e-376e-4a79-8313-7c261fb07be4', 'f8e079a7-4652-4157-9a5a-59af0ef01cfb', '9027f92a-6dd4-4449-8fd9-8d06a3d3edea', '34a8f86a-3e28-4ad5-892d-433eadccfd8c', '031a3c94-eb61-4891-8eb1-bac7250c1138', 'daceb06a-b278-4e0c-800f-1543b7366f0e', '9339813a-6d77-489f-b9ad-ebe5c8678a03', '9eb4e96e-e896-4d49-9afb-5593cb0cb3fa', 'efe13d2c-1755-46ee-b317-512d1eb797a9', 'd507ace8-2bfd-49f1-81c2-16784b3a32bd', '6e33ff8d-b798-4beb-ac5a-ce1ff8565ec4', '17d65eb3-17b2-45ed-bd4b-33eedd05bddb', 'd92cdcbf-4f59-4668-a574-3c5fea4b6fc8', '955242e2-413e-4f32-9b03-d1967a7cce22', '981d6aaa-5e52-4dcf-b469-f53c58d6db9e', '6a36e0a7-a1c7-479a-badb-0fcf118fbcca', '1be9ab22-57a9-4cfe-83f7-4bf95765d27a', '47e71ec5-c1eb-4727-b382-b9016e8d1ad4', '840a76d4-70c3-489f-b2c1-89b65bb42959', 'f1e83f58-98be-4be2-99c4-b8f6cd65a7a8', '6e27f6fe-8446-4cc3-bb34-f1459b5ad878', '022d43b3-64fa-4f9f-9e39-3a090214c7d7', '1f1d6585-d7bc-47ab-973d-7611a2436c5f'])\n",
      "point ids 52\n"
     ]
    },
    {
     "name": "stdout",
     "output_type": "stream",
     "text": [
      "Removed: 52 Filled: 52\n",
      "TOOK 73.34687447547913 seconds\n",
      "==== DONE LOOP 4 ====\n"
     ]
    }
   ],
   "source": [
    "R.run(images=images, masks=masks, weights=weights, runs=5)"
   ]
  },
  {
   "cell_type": "code",
   "execution_count": null,
   "id": "dab6fd49",
   "metadata": {},
   "outputs": [],
   "source": []
  },
  {
   "cell_type": "code",
   "execution_count": 13,
   "id": "00075332",
   "metadata": {},
   "outputs": [
    {
     "data": {
      "text/plain": [
       "[[0.9895429611206055, 0.5548756718635559],\n",
       " [0.9904348850250244, 0.5552273392677307],\n",
       " [0.9897630214691162, 0.5553836822509766],\n",
       " [0.9917473793029785, 0.5549193024635315],\n",
       " [0.9928476810455322, 0.554702877998352]]"
      ]
     },
     "execution_count": 13,
     "metadata": {},
     "output_type": "execute_result"
    }
   ],
   "source": [
    "R.classifier_scores"
   ]
  },
  {
   "cell_type": "code",
   "execution_count": 14,
   "id": "35105656",
   "metadata": {},
   "outputs": [
    {
     "data": {
      "text/plain": [
       "[[0.0, 1.0],\n",
       " [0.00017283121997024864, 1.0],\n",
       " [5.086263143994074e-08, 1.0],\n",
       " [0.00017284393834415823, 1.0],\n",
       " [0.00017283121997024864, 1.0]]"
      ]
     },
     "execution_count": 14,
     "metadata": {},
     "output_type": "execute_result"
    }
   ],
   "source": [
    "R.discriminator_scores"
   ]
  },
  {
   "cell_type": "code",
   "execution_count": null,
   "id": "e256ed4d",
   "metadata": {},
   "outputs": [],
   "source": []
  },
  {
   "cell_type": "code",
   "execution_count": 15,
   "id": "c83bb28d",
   "metadata": {},
   "outputs": [
    {
     "data": {
      "image/png": "[encoded data removed]",
      "text/plain": [
       "<Figure size 240x240 with 1 Axes>"
      ]
     },
     "metadata": {
      "needs_background": "light"
     },
     "output_type": "display_data"
    }
   ],
   "source": [
    "R.plot()"
   ]
  },
  {
   "cell_type": "code",
   "execution_count": null,
   "id": "7f3b4a58",
   "metadata": {},
   "outputs": [],
   "source": []
  }
 ],
 "metadata": {
  "kernelspec": {
   "display_name": "Python 3 (ipykernel)",
   "language": "python",
   "name": "python3"
  },
  "language_info": {
   "codemirror_mode": {
    "name": "ipython",
    "version": 3
   },
   "file_extension": ".py",
   "mimetype": "text/x-python",
   "name": "python",
   "nbconvert_exporter": "python",
   "pygments_lexer": "ipython3",
   "version": "3.9.7"
  }
 },
 "nbformat": 4,
 "nbformat_minor": 5
}
