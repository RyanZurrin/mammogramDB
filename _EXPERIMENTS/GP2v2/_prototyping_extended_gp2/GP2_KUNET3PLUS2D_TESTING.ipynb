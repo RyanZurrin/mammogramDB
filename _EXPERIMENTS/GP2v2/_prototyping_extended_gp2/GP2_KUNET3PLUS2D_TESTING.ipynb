{
 "cells": [
  {
   "cell_type": "code",
   "execution_count": 1,
   "id": "06c4accc",
   "metadata": {},
   "outputs": [
    {
     "name": "stdout",
     "output_type": "stream",
     "text": [
      "Populating the interactive namespace from numpy and matplotlib\n"
     ]
    }
   ],
   "source": [
    "%pylab inline\n",
    "%load_ext autoreload\n",
    "%autoreload 2"
   ]
  },
  {
   "cell_type": "code",
   "execution_count": 2,
   "id": "b9e78ed8",
   "metadata": {},
   "outputs": [],
   "source": [
    "import time\n",
    "import sys\n",
    "sys.path.insert(0,'../..')\n",
    "import gp2\n",
    "from gp2 import Runner\n",
    "from keras import losses, metrics\n",
    "from tensorflow.keras import optimizers"
   ]
  },
  {
   "cell_type": "code",
   "execution_count": 3,
   "id": "bdc75325",
   "metadata": {},
   "outputs": [
    {
     "name": "stdout",
     "output_type": "stream",
     "text": [
      "KUNet3Plus2D: <tensorflow.python.keras.optimizer_v2.adam.Adam object at 0x7f305d7f8100>, <function binary_crossentropy at 0x7f305db1bc10>, [<tensorflow.python.eager.def_function.Function object at 0x7f3065c9af10>]\n",
      "*** GP2  KUNet3Plus2D ***\n",
      "Working directory: /tmp/tmpovpghwjxGP2\n",
      "Using  discriminator (CNN+)\n"
     ]
    }
   ],
   "source": [
    "R = Runner(classifier='kunet3plus2d',\n",
    "           discriminator='cnnplus',\n",
    "           filter_num_down=[16, 32, 64, 128, 256], \n",
    "           filter_num_skip=[16, 16, 16, 16], \n",
    "           filter_num_aggregate=32, \n",
    "           stack_num_down=2, \n",
    "           stack_num_up=1, \n",
    "           activation='ReLU', \n",
    "           output_activation='Sigmoid', \n",
    "           batch_norm=False, \n",
    "           pool=False, \n",
    "           unpool=False, \n",
    "           deep_supervision=False, \n",
    "           optimizer=None, \n",
    "           loss=None,\n",
    "           metric=None\n",
    "          )"
   ]
  },
  {
   "cell_type": "code",
   "execution_count": 4,
   "id": "87b0c65d",
   "metadata": {},
   "outputs": [],
   "source": [
    "# load our larger toy dataset (10k images and masks)\n",
    "images = np.load('/hpcstor6/scratch01/r/ryan.zurrin001/GP2TOYEXAMPLE_LARGE/images.npy')\n",
    "masks = np.load('/hpcstor6/scratch01/r/ryan.zurrin001/GP2TOYEXAMPLE_LARGE/masks.npy')"
   ]
  },
  {
   "cell_type": "code",
   "execution_count": 5,
   "id": "7330ad24",
   "metadata": {},
   "outputs": [],
   "source": [
    "images = images[:5000]\n",
    "masks = masks[:5000]"
   ]
  },
  {
   "cell_type": "code",
   "execution_count": 6,
   "id": "d5b4179a",
   "metadata": {},
   "outputs": [
    {
     "data": {
      "text/plain": [
       "(5000, 512, 512, 1)"
      ]
     },
     "execution_count": 6,
     "metadata": {},
     "output_type": "execute_result"
    }
   ],
   "source": [
    "images.shape"
   ]
  },
  {
   "cell_type": "code",
   "execution_count": 7,
   "id": "57033c4e",
   "metadata": {},
   "outputs": [
    {
     "data": {
      "text/plain": [
       "(5000, 512, 512, 1)"
      ]
     },
     "execution_count": 7,
     "metadata": {},
     "output_type": "execute_result"
    }
   ],
   "source": [
    "masks.shape"
   ]
  },
  {
   "cell_type": "code",
   "execution_count": 8,
   "id": "1dd71668",
   "metadata": {},
   "outputs": [],
   "source": [
    "weights = {\n",
    "    'A': 0.5,\n",
    "    'A_train': 0.1,\n",
    "    'A_val': 0.3,\n",
    "    'A_test': 0.6,\n",
    "    'B': 0.3,\n",
    "    'B_train': 0.7,\n",
    "    'B_val': 0.1,\n",
    "    'B_test': 0.2,\n",
    "    'Z': 0.2\n",
    "}"
   ]
  },
  {
   "cell_type": "code",
   "execution_count": null,
   "id": "d8ff85c4",
   "metadata": {
    "scrolled": false
   },
   "outputs": [
    {
     "name": "stdout",
     "output_type": "stream",
     "text": [
      "Weights OK!\n",
      "******\n",
      "Loop 0\n",
      "Epoch 1/100\n",
      "4/4 [==============================] - 43s 7s/step - loss: 0.5241 - dice_coef: 0.1119 - val_loss: 0.6812 - val_dice_coef: 0.1612\n",
      "Epoch 2/100\n",
      "4/4 [==============================] - 4s 1s/step - loss: 0.4575 - dice_coef: 0.1397 - val_loss: 0.6850 - val_dice_coef: 0.1621\n",
      "Epoch 3/100\n",
      "4/4 [==============================] - 4s 1s/step - loss: 0.4221 - dice_coef: 0.1611 - val_loss: 0.6879 - val_dice_coef: 0.1631\n",
      "Epoch 4/100\n",
      "4/4 [==============================] - 4s 1s/step - loss: 0.3969 - dice_coef: 0.1780 - val_loss: 0.6900 - val_dice_coef: 0.1641\n",
      "Epoch 5/100\n",
      "4/4 [==============================] - 4s 1s/step - loss: 0.3724 - dice_coef: 0.1967 - val_loss: 0.6928 - val_dice_coef: 0.1656\n",
      "Epoch 6/100\n",
      "4/4 [==============================] - 4s 1s/step - loss: 0.3460 - dice_coef: 0.2223 - val_loss: 0.6958 - val_dice_coef: 0.1681\n",
      "Epoch 7/100\n",
      "4/4 [==============================] - 4s 1s/step - loss: 0.3187 - dice_coef: 0.2547 - val_loss: 0.6971 - val_dice_coef: 0.1718\n",
      "Epoch 8/100\n",
      "4/4 [==============================] - 4s 1s/step - loss: 0.2934 - dice_coef: 0.2905 - val_loss: 0.6961 - val_dice_coef: 0.1758\n",
      "Epoch 9/100\n",
      "4/4 [==============================] - 4s 1s/step - loss: 0.2818 - dice_coef: 0.3082 - val_loss: 0.6930 - val_dice_coef: 0.1761\n",
      "Epoch 10/100\n",
      "4/4 [==============================] - 4s 1s/step - loss: 0.2818 - dice_coef: 0.3078 - val_loss: 0.6900 - val_dice_coef: 0.1763\n",
      "Epoch 11/100\n",
      "4/4 [==============================] - 4s 1s/step - loss: 0.2819 - dice_coef: 0.3075 - val_loss: 0.6869 - val_dice_coef: 0.1765\n",
      "Model saved to: /tmp/tmpovpghwjxGP2/unet3plus_0unet3plus_model\n",
      "History saved to: /tmp/tmpovpghwjxGP2/unet3plus_history_0.pkl\n",
      "Testing the classifier...\n",
      "Model saved to /tmp/tmpovpghwjxGP2/cnnd_0.model\n",
      "History saved to /tmp/tmpovpghwjxGP2/cnnd_history_0.pickle\n",
      "Testing the discriminator...\n",
      "10/10 [==============================] - 0s 26ms/step - loss: 0.0000e+00 - accuracy: 1.0000\n",
      "Replacing 50 from 152 !\n",
      "D_relabeled_ 50\n",
      "point ids 50\n",
      "Removed: 50 Filled: 50\n",
      "TOOK 324.03347635269165 seconds\n",
      "==== DONE LOOP 0 ====\n",
      "******\n",
      "Loop 1\n",
      "Epoch 1/100\n",
      "5/5 [==============================] - 15s 4s/step - loss: 0.2804 - dice_coef: 0.3070 - val_loss: 0.6831 - val_dice_coef: 0.1769\n",
      "Epoch 2/100\n",
      "5/5 [==============================] - 4s 893ms/step - loss: 0.2803 - dice_coef: 0.3082 - val_loss: 0.6792 - val_dice_coef: 0.1773\n",
      "Epoch 3/100\n",
      "5/5 [==============================] - 4s 882ms/step - loss: 0.2803 - dice_coef: 0.3076 - val_loss: 0.6752 - val_dice_coef: 0.1776\n",
      "Epoch 4/100\n",
      "5/5 [==============================] - 4s 874ms/step - loss: 0.2805 - dice_coef: 0.3081 - val_loss: 0.6712 - val_dice_coef: 0.1781\n",
      "Model saved to: /tmp/tmpovpghwjxGP2/unet3plus_1unet3plus_model\n",
      "History saved to: /tmp/tmpovpghwjxGP2/unet3plus_history_1.pkl\n",
      "Testing the classifier...\n",
      "Model saved to /tmp/tmpovpghwjxGP2/cnnd_1.model\n",
      "History saved to /tmp/tmpovpghwjxGP2/cnnd_history_1.pickle\n",
      "Testing the discriminator...\n"
     ]
    }
   ],
   "source": [
    "R.run(images=images, masks=masks, weights=weights, runs=3)"
   ]
  },
  {
   "cell_type": "code",
   "execution_count": null,
   "id": "dab6fd49",
   "metadata": {},
   "outputs": [],
   "source": []
  },
  {
   "cell_type": "code",
   "execution_count": null,
   "id": "00075332",
   "metadata": {},
   "outputs": [],
   "source": [
    "R.classifier_scores"
   ]
  },
  {
   "cell_type": "code",
   "execution_count": null,
   "id": "35105656",
   "metadata": {},
   "outputs": [],
   "source": [
    "R.discriminator_scores"
   ]
  },
  {
   "cell_type": "code",
   "execution_count": null,
   "id": "e256ed4d",
   "metadata": {},
   "outputs": [],
   "source": [
    "R.plot()"
   ]
  },
  {
   "cell_type": "code",
   "execution_count": null,
   "id": "7dca2275",
   "metadata": {},
   "outputs": [],
   "source": []
  },
  {
   "cell_type": "code",
   "execution_count": 18,
   "id": "b1ec788d",
   "metadata": {},
   "outputs": [
    {
     "data": {
      "image/png": "[encoded data removed]",
      "text/plain": [
       "<Figure size 240x240 with 1 Axes>"
      ]
     },
     "metadata": {
      "needs_background": "light"
     },
     "output_type": "display_data"
    }
   ],
   "source": [
    "R.plot()"
   ]
  },
  {
   "cell_type": "code",
   "execution_count": null,
   "id": "0553618c",
   "metadata": {},
   "outputs": [],
   "source": []
  },
  {
   "cell_type": "code",
   "execution_count": null,
   "id": "40efc1ca",
   "metadata": {},
   "outputs": [],
   "source": []
  },
  {
   "cell_type": "code",
   "execution_count": null,
   "id": "52194054",
   "metadata": {},
   "outputs": [],
   "source": []
  },
  {
   "cell_type": "code",
   "execution_count": null,
   "id": "af59bc12",
   "metadata": {},
   "outputs": [],
   "source": []
  },
  {
   "cell_type": "code",
   "execution_count": 17,
   "id": "0a721a90",
   "metadata": {},
   "outputs": [
    {
     "data": {
      "image/png": "[encoded data removed]",
      "text/plain": [
       "<Figure size 240x240 with 1 Axes>"
      ]
     },
     "metadata": {
      "needs_background": "light"
     },
     "output_type": "display_data"
    }
   ],
   "source": [
    "R.plot()"
   ]
  },
  {
   "cell_type": "code",
   "execution_count": null,
   "id": "551de181",
   "metadata": {},
   "outputs": [],
   "source": []
  }
 ],
 "metadata": {
  "kernelspec": {
   "display_name": "Python 3 (ipykernel)",
   "language": "python",
   "name": "python3"
  },
  "language_info": {
   "codemirror_mode": {
    "name": "ipython",
    "version": 3
   },
   "file_extension": ".py",
   "mimetype": "text/x-python",
   "name": "python",
   "nbconvert_exporter": "python",
   "pygments_lexer": "ipython3",
   "version": "3.9.7"
  }
 },
 "nbformat": 4,
 "nbformat_minor": 5
}
