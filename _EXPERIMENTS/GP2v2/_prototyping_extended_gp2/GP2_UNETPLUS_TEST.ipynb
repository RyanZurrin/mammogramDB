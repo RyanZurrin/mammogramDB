{
 "cells": [
  {
   "cell_type": "code",
   "execution_count": 1,
   "id": "06c4accc",
   "metadata": {},
   "outputs": [
    {
     "name": "stdout",
     "output_type": "stream",
     "text": [
      "Populating the interactive namespace from numpy and matplotlib\n"
     ]
    }
   ],
   "source": [
    "%pylab inline\n",
    "%load_ext autoreload\n",
    "%autoreload 2"
   ]
  },
  {
   "cell_type": "code",
   "execution_count": 3,
   "id": "b9e78ed8",
   "metadata": {},
   "outputs": [],
   "source": [
    "import time\n",
    "import sys\n",
    "sys.path.insert(0,'../../..')\n",
    "from omama import gp2\n",
    "from omama.gp2 import Runner\n",
    "from keras import losses, metrics\n",
    "from tensorflow.keras import optimizers"
   ]
  },
  {
   "cell_type": "code",
   "execution_count": 4,
   "id": "439225a4",
   "metadata": {},
   "outputs": [
    {
     "name": "stdout",
     "output_type": "stream",
     "text": [
      "Help on class UNetPLUS in module gp2.gp2.classifiers.unet_plus:\n",
      "\n",
      "class UNetPLUS(gp2.gp2.classifiers.base_keras_segmentation_classifier.BaseKerasSegmentationClassifier)\n",
      " |  UNetPLUS(input_shape=(512, 512, 1), num_classes=1, base_filters=4, dropout=0.1, batchnorm=True, activation='relu', kernel_size=3, padding='same', strides=1, depth=4, num_layers=4, optimizer=None, loss=None, metrics=None, name='unetplus', verbose=True, workingdir='/tmp')\n",
      " |  \n",
      " |  Method resolution order:\n",
      " |      UNetPLUS\n",
      " |      gp2.gp2.classifiers.base_keras_segmentation_classifier.BaseKerasSegmentationClassifier\n",
      " |      gp2.gp2.classifiers.classifier.Classifier\n",
      " |      abc.ABC\n",
      " |      builtins.object\n",
      " |  \n",
      " |  Methods defined here:\n",
      " |  \n",
      " |  __init__(self, input_shape=(512, 512, 1), num_classes=1, base_filters=4, dropout=0.1, batchnorm=True, activation='relu', kernel_size=3, padding='same', strides=1, depth=4, num_layers=4, optimizer=None, loss=None, metrics=None, name='unetplus', verbose=True, workingdir='/tmp')\n",
      " |      Initialize the KerasUNet class.\n",
      " |      \n",
      " |      Parameters\n",
      " |      ----------\n",
      " |      input_shape : tuple\n",
      " |          The shape of the input image.\n",
      " |      num_classes : int\n",
      " |          The number of classes to predict.\n",
      " |      base_filters : int\n",
      " |          The number of filters to use in the convolutional layers.\n",
      " |      dropout : float\n",
      " |          The dropout rate.\n",
      " |      batchnorm : bool\n",
      " |          Whether to use batch normalization.\n",
      " |      activation : str\n",
      " |          The activation function to use.\n",
      " |      kernel_size : int\n",
      " |          The kernel size to use in the convolutional layers.\n",
      " |      padding : str\n",
      " |          The padding to use in the convolutional layers.\n",
      " |      strides : int\n",
      " |          The strides to use in the convolutional layers.\n",
      " |      depth : int\n",
      " |          The depth of the network.\n",
      " |      num_layers : int\n",
      " |          The number of layers to use in the network.\n",
      " |      optimizer : keras.Optimizers\n",
      " |          The optimizer to use.\n",
      " |      loss : keras.Losses\n",
      " |          The loss function to use.\n",
      " |      _metrics : list\n",
      " |          The metrics to use.\n",
      " |      name : str\n",
      " |          The name of the model.\n",
      " |      verbose : bool\n",
      " |          Whether to print the model summary.\n",
      " |      workingdir : str\n",
      " |          The working directory to use for saving the model.\n",
      " |  \n",
      " |  build(self)\n",
      " |      Build the model.\n",
      " |      \n",
      " |      Returns\n",
      " |      -------\n",
      " |      model : keras.Model\n",
      " |          The model.\n",
      " |  \n",
      " |  ----------------------------------------------------------------------\n",
      " |  Data and other attributes defined here:\n",
      " |  \n",
      " |  __abstractmethods__ = frozenset()\n",
      " |  \n",
      " |  ----------------------------------------------------------------------\n",
      " |  Methods inherited from gp2.gp2.classifiers.base_keras_segmentation_classifier.BaseKerasSegmentationClassifier:\n",
      " |  \n",
      " |  __str__(self)\n",
      " |      Return str(self).\n",
      " |  \n",
      " |  predict(self, X_test, y_pred, threshold=0.5)\n",
      " |      Predict the masks for the given images.\n",
      " |      Parameters\n",
      " |      ----------\n",
      " |      X_text : numpy.ndarray\n",
      " |          The images to predict the masks for.\n",
      " |      y_pred : numpy.ndarray\n",
      " |          The predicted masks.\n",
      " |      threshold : float\n",
      " |          The threshold to use for the predictions.\n",
      " |  \n",
      " |  train(self, X_train, y_train, X_val, y_val, patience_counter=2, batch_size=64, epochs=100, call_backs=None)\n",
      " |      Train the model.\n",
      " |      Parameters\n",
      " |      ----------\n",
      " |      X_train : numpy.ndarray\n",
      " |          The training images.\n",
      " |      y_train : numpy.ndarray\n",
      " |          The training masks.\n",
      " |      X_val : numpy.ndarray\n",
      " |          The validation images.\n",
      " |      y_val : numpy.ndarray\n",
      " |          The validation masks.\n",
      " |      patience_counter : int\n",
      " |          The number of epochs to wait before early stopping.\n",
      " |      batch_size : int\n",
      " |          The batch size to use.\n",
      " |      epochs : int\n",
      " |          The number of epochs to train for.\n",
      " |      call_backs : list\n",
      " |          The list of callbacks to use.\n",
      " |  \n",
      " |  ----------------------------------------------------------------------\n",
      " |  Data descriptors inherited from gp2.gp2.classifiers.classifier.Classifier:\n",
      " |  \n",
      " |  __dict__\n",
      " |      dictionary for instance variables (if defined)\n",
      " |  \n",
      " |  __weakref__\n",
      " |      list of weak references to the object (if defined)\n",
      "\n"
     ]
    }
   ],
   "source": [
    "help(gp2.UNetPLUS)"
   ]
  },
  {
   "cell_type": "code",
   "execution_count": 5,
   "id": "bdc75325",
   "metadata": {},
   "outputs": [
    {
     "name": "stdout",
     "output_type": "stream",
     "text": [
      "*** GP2  KUNet2D ***\n",
      "Working directory: /tmp/tmpap0gwlt3GP2\n"
     ]
    },
    {
     "ename": "AttributeError",
     "evalue": "'UNetPLUS' object has no attribute 'model'",
     "output_type": "error",
     "traceback": [
      "\u001b[0;31m---------------------------------------------------------------------------\u001b[0m",
      "\u001b[0;31mAttributeError\u001b[0m                            Traceback (most recent call last)",
      "\u001b[0;32m/tmp/ipykernel_4172441/3369524129.py\u001b[0m in \u001b[0;36m<module>\u001b[0;34m\u001b[0m\n\u001b[0;32m----> 1\u001b[0;31m R = Runner(verbose=True, \n\u001b[0m\u001b[1;32m      2\u001b[0m            \u001b[0mclassifier\u001b[0m\u001b[0;34m=\u001b[0m\u001b[0;34m'unetplus'\u001b[0m\u001b[0;34m,\u001b[0m\u001b[0;34m\u001b[0m\u001b[0;34m\u001b[0m\u001b[0m\n\u001b[1;32m      3\u001b[0m            \u001b[0mbase_filters\u001b[0m\u001b[0;34m=\u001b[0m\u001b[0;36m8\u001b[0m\u001b[0;34m,\u001b[0m\u001b[0;34m\u001b[0m\u001b[0;34m\u001b[0m\u001b[0m\n\u001b[1;32m      4\u001b[0m            \u001b[0mdropout\u001b[0m\u001b[0;34m=\u001b[0m\u001b[0;36m0.1\u001b[0m\u001b[0;34m,\u001b[0m\u001b[0;34m\u001b[0m\u001b[0;34m\u001b[0m\u001b[0m\n\u001b[1;32m      5\u001b[0m            \u001b[0mbatchnorm\u001b[0m\u001b[0;34m=\u001b[0m\u001b[0;32mTrue\u001b[0m\u001b[0;34m,\u001b[0m\u001b[0;34m\u001b[0m\u001b[0;34m\u001b[0m\u001b[0m\n",
      "\u001b[0;32m~/miniconda3/envs/GP2/lib/python3.9/site-packages/gp2/runner.py\u001b[0m in \u001b[0;36m__init__\u001b[0;34m(self, verbose, workingdir, store_after_each_step, classifier, discriminator, weights, **kwargs)\u001b[0m\n\u001b[1;32m    127\u001b[0m                                     **kwargs)\n\u001b[1;32m    128\u001b[0m         \u001b[0;32melif\u001b[0m \u001b[0misinstance\u001b[0m\u001b[0;34m(\u001b[0m\u001b[0mclassifier\u001b[0m\u001b[0;34m,\u001b[0m \u001b[0mUNetPLUS\u001b[0m\u001b[0;34m)\u001b[0m \u001b[0;32mor\u001b[0m \u001b[0mclassifier\u001b[0m \u001b[0;34m==\u001b[0m \u001b[0;34m'unetplus'\u001b[0m\u001b[0;34m:\u001b[0m\u001b[0;34m\u001b[0m\u001b[0;34m\u001b[0m\u001b[0m\n\u001b[0;32m--> 129\u001b[0;31m             self.classifier = UNetPLUS(verbose=self.verbose,\n\u001b[0m\u001b[1;32m    130\u001b[0m                                        workingdir=self.workingdir, **kwargs)\n\u001b[1;32m    131\u001b[0m         \u001b[0;32melif\u001b[0m \u001b[0misinstance\u001b[0m\u001b[0;34m(\u001b[0m\u001b[0mclassifier\u001b[0m\u001b[0;34m,\u001b[0m \u001b[0mKATTUnet2D\u001b[0m\u001b[0;34m)\u001b[0m \u001b[0;32mor\u001b[0m \u001b[0mclassifier\u001b[0m \u001b[0;34m==\u001b[0m \u001b[0;34m'kattunet2d'\u001b[0m\u001b[0;34m:\u001b[0m\u001b[0;34m\u001b[0m\u001b[0;34m\u001b[0m\u001b[0m\n",
      "\u001b[0;32m~/miniconda3/envs/GP2/lib/python3.9/site-packages/gp2/gp2/classifiers/unet_plus.py\u001b[0m in \u001b[0;36m__init__\u001b[0;34m(self, input_shape, num_classes, base_filters, dropout, batchnorm, activation, kernel_size, padding, strides, depth, num_layers, optimizer, loss, metrics, name, verbose, workingdir)\u001b[0m\n\u001b[1;32m     86\u001b[0m         \u001b[0mprint\u001b[0m\u001b[0;34m(\u001b[0m\u001b[0;34m'Working directory:'\u001b[0m\u001b[0;34m,\u001b[0m \u001b[0mself\u001b[0m\u001b[0;34m.\u001b[0m\u001b[0mworkingdir\u001b[0m\u001b[0;34m)\u001b[0m\u001b[0;34m\u001b[0m\u001b[0;34m\u001b[0m\u001b[0m\n\u001b[1;32m     87\u001b[0m \u001b[0;34m\u001b[0m\u001b[0m\n\u001b[0;32m---> 88\u001b[0;31m         \u001b[0mself\u001b[0m\u001b[0;34m.\u001b[0m\u001b[0mmodel\u001b[0m \u001b[0;34m=\u001b[0m \u001b[0mself\u001b[0m\u001b[0;34m.\u001b[0m\u001b[0mbuild\u001b[0m\u001b[0;34m(\u001b[0m\u001b[0;34m)\u001b[0m\u001b[0;34m\u001b[0m\u001b[0;34m\u001b[0m\u001b[0m\n\u001b[0m\u001b[1;32m     89\u001b[0m \u001b[0;34m\u001b[0m\u001b[0m\n\u001b[1;32m     90\u001b[0m         \u001b[0;32mif\u001b[0m \u001b[0mverbose\u001b[0m\u001b[0;34m:\u001b[0m\u001b[0;34m\u001b[0m\u001b[0;34m\u001b[0m\u001b[0m\n",
      "\u001b[0;32m~/miniconda3/envs/GP2/lib/python3.9/site-packages/gp2/gp2/classifiers/unet_plus.py\u001b[0m in \u001b[0;36mbuild\u001b[0;34m(self)\u001b[0m\n\u001b[1;32m    101\u001b[0m             \u001b[0mThe\u001b[0m \u001b[0mmodel\u001b[0m\u001b[0;34m.\u001b[0m\u001b[0;34m\u001b[0m\u001b[0;34m\u001b[0m\u001b[0m\n\u001b[1;32m    102\u001b[0m         \"\"\"\n\u001b[0;32m--> 103\u001b[0;31m         \u001b[0msuper\u001b[0m\u001b[0;34m(\u001b[0m\u001b[0;34m)\u001b[0m\u001b[0;34m.\u001b[0m\u001b[0mbuild\u001b[0m\u001b[0;34m(\u001b[0m\u001b[0;34m)\u001b[0m\u001b[0;34m\u001b[0m\u001b[0;34m\u001b[0m\u001b[0m\n\u001b[0m\u001b[1;32m    104\u001b[0m \u001b[0;34m\u001b[0m\u001b[0m\n\u001b[1;32m    105\u001b[0m         \u001b[0minputs\u001b[0m \u001b[0;34m=\u001b[0m \u001b[0mlayers\u001b[0m\u001b[0;34m.\u001b[0m\u001b[0mInput\u001b[0m\u001b[0;34m(\u001b[0m\u001b[0mshape\u001b[0m\u001b[0;34m=\u001b[0m\u001b[0mself\u001b[0m\u001b[0;34m.\u001b[0m\u001b[0minput_shape\u001b[0m\u001b[0;34m)\u001b[0m\u001b[0;34m\u001b[0m\u001b[0;34m\u001b[0m\u001b[0m\n",
      "\u001b[0;32m~/miniconda3/envs/GP2/lib/python3.9/site-packages/gp2/gp2/classifiers/base_keras_segmentation_classifier.py\u001b[0m in \u001b[0;36mbuild\u001b[0;34m(self)\u001b[0m\n\u001b[1;32m     11\u001b[0m     \u001b[0;32mdef\u001b[0m \u001b[0mbuild\u001b[0m\u001b[0;34m(\u001b[0m\u001b[0mself\u001b[0m\u001b[0;34m)\u001b[0m\u001b[0;34m:\u001b[0m\u001b[0;34m\u001b[0m\u001b[0;34m\u001b[0m\u001b[0m\n\u001b[1;32m     12\u001b[0m         \u001b[0;34m\"\"\" Build the model. \"\"\"\u001b[0m\u001b[0;34m\u001b[0m\u001b[0;34m\u001b[0m\u001b[0m\n\u001b[0;32m---> 13\u001b[0;31m         self.model.compile(optimizer=self.optimizer,\n\u001b[0m\u001b[1;32m     14\u001b[0m                            \u001b[0mloss\u001b[0m\u001b[0;34m=\u001b[0m\u001b[0mself\u001b[0m\u001b[0;34m.\u001b[0m\u001b[0mloss\u001b[0m\u001b[0;34m,\u001b[0m\u001b[0;34m\u001b[0m\u001b[0;34m\u001b[0m\u001b[0m\n\u001b[1;32m     15\u001b[0m                            metrics=self.metric)\n",
      "\u001b[0;31mAttributeError\u001b[0m: 'UNetPLUS' object has no attribute 'model'"
     ]
    }
   ],
   "source": [
    "R = Runner(verbose=True, \n",
    "           classifier='unetplus', \n",
    "           base_filters=8,\n",
    "           dropout=0.1,\n",
    "           batchnorm=True,\n",
    "           activation='ReLU',\n",
    "           kernel_size=3,\n",
    "           padding='same',\n",
    "           depth=4,\n",
    "           num_layers=4,\n",
    "           optimizer=None,\n",
    "           loss=None,\n",
    "           metrics=None         \n",
    "          )"
   ]
  },
  {
   "cell_type": "code",
   "execution_count": 5,
   "id": "87b0c65d",
   "metadata": {},
   "outputs": [],
   "source": [
    "# load our larger toy dataset (10k images and masks)\n",
    "images = np.load('/hpcstor6/scratch01/r/ryan.zurrin001/GP2TOYEXAMPLE_LARGE/images.npy')\n",
    "masks = np.load('/hpcstor6/scratch01/r/ryan.zurrin001/GP2TOYEXAMPLE_LARGE/masks.npy')"
   ]
  },
  {
   "cell_type": "code",
   "execution_count": 6,
   "id": "eb8e4320",
   "metadata": {},
   "outputs": [],
   "source": [
    "images = images[:5000]\n",
    "masks = masks[:5000]"
   ]
  },
  {
   "cell_type": "code",
   "execution_count": 7,
   "id": "d5b4179a",
   "metadata": {},
   "outputs": [
    {
     "data": {
      "text/plain": [
       "(5000, 512, 512, 1)"
      ]
     },
     "execution_count": 7,
     "metadata": {},
     "output_type": "execute_result"
    }
   ],
   "source": [
    "images.shape"
   ]
  },
  {
   "cell_type": "code",
   "execution_count": 8,
   "id": "57033c4e",
   "metadata": {},
   "outputs": [
    {
     "data": {
      "text/plain": [
       "(5000, 512, 512, 1)"
      ]
     },
     "execution_count": 8,
     "metadata": {},
     "output_type": "execute_result"
    }
   ],
   "source": [
    "masks.shape"
   ]
  },
  {
   "cell_type": "code",
   "execution_count": 9,
   "id": "1dd71668",
   "metadata": {},
   "outputs": [],
   "source": [
    "weights = {\n",
    "    'A': 0.5,\n",
    "    'A_train': 0.1,\n",
    "    'A_val': 0.3,\n",
    "    'A_test': 0.6,\n",
    "    'B': 0.3,\n",
    "    'B_train': 0.7,\n",
    "    'B_val': 0.1,\n",
    "    'B_test': 0.2,\n",
    "    'Z': 0.2\n",
    "}"
   ]
  },
  {
   "cell_type": "code",
   "execution_count": 10,
   "id": "d8ff85c4",
   "metadata": {
    "scrolled": true
   },
   "outputs": [
    {
     "name": "stdout",
     "output_type": "stream",
     "text": [
      "Weights OK!\n",
      "******\n",
      "Loop 0\n"
     ]
    },
    {
     "name": "stderr",
     "output_type": "stream",
     "text": [
      "2023-04-23 12:52:45.572434: I tensorflow/compiler/mlir/mlir_graph_optimization_pass.cc:176] None of the MLIR Optimization Passes are enabled (registered 2)\n",
      "2023-04-23 12:52:45.590991: I tensorflow/core/platform/profile_utils/cpu_utils.cc:114] CPU Frequency: 2245755000 Hz\n"
     ]
    },
    {
     "name": "stdout",
     "output_type": "stream",
     "text": [
      "Epoch 1/100\n"
     ]
    },
    {
     "name": "stderr",
     "output_type": "stream",
     "text": [
      "2023-04-23 12:52:50.602151: I tensorflow/stream_executor/platform/default/dso_loader.cc:53] Successfully opened dynamic library libcudnn.so.8\n",
      "2023-04-23 12:52:51.347980: I tensorflow/stream_executor/cuda/cuda_dnn.cc:359] Loaded cuDNN version 8201\n",
      "2023-04-23 12:52:52.094306: W tensorflow/stream_executor/gpu/asm_compiler.cc:191] Falling back to the CUDA driver for PTX compilation; ptxas does not support CC 8.0\n",
      "2023-04-23 12:52:52.094333: W tensorflow/stream_executor/gpu/asm_compiler.cc:194] Used ptxas at ptxas\n",
      "2023-04-23 12:52:52.094389: W tensorflow/stream_executor/gpu/redzone_allocator.cc:314] Unimplemented: ptxas ptxas too old. Falling back to the driver to compile.\n",
      "Relying on driver to perform ptx compilation. \n",
      "Modify $PATH to customize ptxas location.\n",
      "This message will be only logged once.\n",
      "2023-04-23 12:52:52.109889: I tensorflow/stream_executor/platform/default/dso_loader.cc:53] Successfully opened dynamic library libcublas.so.11\n",
      "2023-04-23 12:52:52.899842: I tensorflow/stream_executor/platform/default/dso_loader.cc:53] Successfully opened dynamic library libcublasLt.so.11\n"
     ]
    },
    {
     "name": "stdout",
     "output_type": "stream",
     "text": [
      "4/4 [==============================] - 21s 3s/step - loss: 0.5917 - dice_coef: 0.1551 - val_loss: 0.5838 - val_dice_coef: 0.1586\n"
     ]
    },
    {
     "name": "stderr",
     "output_type": "stream",
     "text": [
      "2023-04-23 12:53:11.629095: W tensorflow/python/util/util.cc:348] Sets are not currently considered sequences, but this may change in the future, so consider avoiding using them.\n",
      "WARNING:absl:Found untraced functions such as re_lu_layer_call_and_return_conditional_losses, re_lu_layer_call_fn, re_lu_1_layer_call_and_return_conditional_losses, re_lu_1_layer_call_fn, re_lu_2_layer_call_and_return_conditional_losses while saving (showing 5 of 180). These functions will not be directly callable after loading.\n"
     ]
    },
    {
     "name": "stdout",
     "output_type": "stream",
     "text": [
      "Epoch 2/100\n",
      "4/4 [==============================] - 4s 1s/step - loss: 0.5905 - dice_coef: 0.1559 - val_loss: 0.5848 - val_dice_coef: 0.1587\n",
      "Epoch 3/100\n",
      "4/4 [==============================] - 4s 1s/step - loss: 0.5893 - dice_coef: 0.1565 - val_loss: 0.5854 - val_dice_coef: 0.1588\n",
      "Epoch 4/100\n",
      "4/4 [==============================] - 4s 1s/step - loss: 0.5885 - dice_coef: 0.1572 - val_loss: 0.5862 - val_dice_coef: 0.1589\n",
      "Epoch 5/100\n",
      "4/4 [==============================] - 4s 1s/step - loss: 0.5874 - dice_coef: 0.1577 - val_loss: 0.5872 - val_dice_coef: 0.1590\n",
      "Epoch 6/100\n",
      "4/4 [==============================] - 4s 1s/step - loss: 0.5865 - dice_coef: 0.1585 - val_loss: 0.5880 - val_dice_coef: 0.1590\n",
      "Epoch 7/100\n",
      "4/4 [==============================] - 4s 1s/step - loss: 0.5858 - dice_coef: 0.1590 - val_loss: 0.5889 - val_dice_coef: 0.1591\n",
      "Epoch 8/100\n",
      "4/4 [==============================] - 4s 1s/step - loss: 0.5850 - dice_coef: 0.1597 - val_loss: 0.5898 - val_dice_coef: 0.1592\n",
      "Epoch 9/100\n",
      "4/4 [==============================] - 4s 1s/step - loss: 0.5840 - dice_coef: 0.1603 - val_loss: 0.5908 - val_dice_coef: 0.1592\n",
      "Epoch 10/100\n",
      "4/4 [==============================] - 4s 1s/step - loss: 0.5830 - dice_coef: 0.1613 - val_loss: 0.5918 - val_dice_coef: 0.1593\n",
      "Epoch 11/100\n",
      "4/4 [==============================] - 4s 1s/step - loss: 0.5819 - dice_coef: 0.1618 - val_loss: 0.5928 - val_dice_coef: 0.1594\n",
      "Epoch 12/100\n",
      "4/4 [==============================] - 4s 1s/step - loss: 0.5807 - dice_coef: 0.1626 - val_loss: 0.5937 - val_dice_coef: 0.1595\n",
      "Epoch 13/100\n",
      "4/4 [==============================] - 4s 1s/step - loss: 0.5797 - dice_coef: 0.1636 - val_loss: 0.5948 - val_dice_coef: 0.1597\n",
      "Epoch 14/100\n",
      "4/4 [==============================] - 4s 1s/step - loss: 0.5785 - dice_coef: 0.1645 - val_loss: 0.5957 - val_dice_coef: 0.1598\n",
      "Epoch 15/100\n",
      "4/4 [==============================] - 4s 1s/step - loss: 0.5774 - dice_coef: 0.1656 - val_loss: 0.5968 - val_dice_coef: 0.1600\n",
      "Epoch 16/100\n",
      "4/4 [==============================] - 4s 1s/step - loss: 0.5761 - dice_coef: 0.1664 - val_loss: 0.5979 - val_dice_coef: 0.1602\n",
      "Epoch 17/100\n",
      "4/4 [==============================] - 4s 1s/step - loss: 0.5748 - dice_coef: 0.1673 - val_loss: 0.5990 - val_dice_coef: 0.1604\n",
      "Epoch 18/100\n",
      "4/4 [==============================] - 5s 1s/step - loss: 0.5736 - dice_coef: 0.1683 - val_loss: 0.6002 - val_dice_coef: 0.1606\n",
      "Epoch 19/100\n",
      "4/4 [==============================] - 4s 1s/step - loss: 0.5723 - dice_coef: 0.1693 - val_loss: 0.6011 - val_dice_coef: 0.1609\n",
      "Epoch 20/100\n",
      "4/4 [==============================] - 4s 1s/step - loss: 0.5709 - dice_coef: 0.1703 - val_loss: 0.6021 - val_dice_coef: 0.1612\n",
      "Epoch 21/100\n",
      "4/4 [==============================] - 4s 1s/step - loss: 0.5696 - dice_coef: 0.1713 - val_loss: 0.6033 - val_dice_coef: 0.1615\n",
      "Epoch 22/100\n",
      "4/4 [==============================] - 4s 1s/step - loss: 0.5681 - dice_coef: 0.1722 - val_loss: 0.6050 - val_dice_coef: 0.1617\n",
      "Epoch 23/100\n",
      "4/4 [==============================] - 4s 1s/step - loss: 0.5668 - dice_coef: 0.1733 - val_loss: 0.6069 - val_dice_coef: 0.1620\n",
      "Epoch 24/100\n",
      "4/4 [==============================] - 4s 1s/step - loss: 0.5652 - dice_coef: 0.1744 - val_loss: 0.6087 - val_dice_coef: 0.1622\n",
      "Epoch 25/100\n",
      "4/4 [==============================] - 4s 1s/step - loss: 0.5636 - dice_coef: 0.1753 - val_loss: 0.6105 - val_dice_coef: 0.1625\n",
      "Epoch 26/100\n",
      "4/4 [==============================] - 5s 1s/step - loss: 0.5621 - dice_coef: 0.1765 - val_loss: 0.6117 - val_dice_coef: 0.1628\n",
      "Epoch 27/100\n",
      "4/4 [==============================] - 4s 1s/step - loss: 0.5604 - dice_coef: 0.1776 - val_loss: 0.6124 - val_dice_coef: 0.1632\n",
      "Epoch 28/100\n",
      "4/4 [==============================] - 4s 1s/step - loss: 0.5586 - dice_coef: 0.1785 - val_loss: 0.6122 - val_dice_coef: 0.1638\n",
      "Epoch 29/100\n",
      "4/4 [==============================] - 4s 1s/step - loss: 0.5568 - dice_coef: 0.1795 - val_loss: 0.6142 - val_dice_coef: 0.1646\n",
      "Epoch 30/100\n",
      "4/4 [==============================] - 4s 1s/step - loss: 0.5551 - dice_coef: 0.1804 - val_loss: 0.6233 - val_dice_coef: 0.1646\n",
      "Epoch 31/100\n",
      "4/4 [==============================] - 4s 1s/step - loss: 0.5529 - dice_coef: 0.1815 - val_loss: 0.6329 - val_dice_coef: 0.1644\n",
      "Epoch 32/100\n",
      "4/4 [==============================] - 4s 1s/step - loss: 0.5511 - dice_coef: 0.1824 - val_loss: 0.6390 - val_dice_coef: 0.1643\n",
      "Epoch 33/100\n",
      "4/4 [==============================] - 4s 1s/step - loss: 0.5492 - dice_coef: 0.1830 - val_loss: 0.6431 - val_dice_coef: 0.1643\n",
      "Epoch 34/100\n",
      "4/4 [==============================] - 4s 1s/step - loss: 0.5474 - dice_coef: 0.1837 - val_loss: 0.6453 - val_dice_coef: 0.1646\n",
      "Epoch 35/100\n",
      "4/4 [==============================] - 4s 1s/step - loss: 0.5457 - dice_coef: 0.1843 - val_loss: 0.6477 - val_dice_coef: 0.1647\n",
      "Epoch 36/100\n",
      "4/4 [==============================] - 4s 1s/step - loss: 0.5441 - dice_coef: 0.1847 - val_loss: 0.6494 - val_dice_coef: 0.1648\n",
      "Epoch 37/100\n",
      "4/4 [==============================] - 4s 1s/step - loss: 0.5425 - dice_coef: 0.1852 - val_loss: 0.6520 - val_dice_coef: 0.1650\n",
      "Epoch 38/100\n",
      "4/4 [==============================] - 4s 1s/step - loss: 0.5410 - dice_coef: 0.1857 - val_loss: 0.6528 - val_dice_coef: 0.1650\n",
      "Epoch 39/100\n",
      "4/4 [==============================] - 4s 1s/step - loss: 0.5397 - dice_coef: 0.1861 - val_loss: 0.6564 - val_dice_coef: 0.1651\n",
      "Epoch 40/100\n",
      "4/4 [==============================] - 4s 1s/step - loss: 0.5383 - dice_coef: 0.1864 - val_loss: 0.6609 - val_dice_coef: 0.1648\n",
      "Epoch 41/100\n",
      "4/4 [==============================] - 4s 1s/step - loss: 0.5371 - dice_coef: 0.1869 - val_loss: 0.6599 - val_dice_coef: 0.1653\n",
      "Epoch 42/100\n",
      "4/4 [==============================] - 4s 1s/step - loss: 0.5358 - dice_coef: 0.1870 - val_loss: 0.6603 - val_dice_coef: 0.1656\n",
      "Epoch 43/100\n",
      "4/4 [==============================] - 4s 1s/step - loss: 0.5347 - dice_coef: 0.1874 - val_loss: 0.6630 - val_dice_coef: 0.1653\n",
      "Epoch 44/100\n",
      "4/4 [==============================] - 4s 1s/step - loss: 0.5336 - dice_coef: 0.1878 - val_loss: 0.6648 - val_dice_coef: 0.1653\n",
      "Epoch 45/100\n",
      "4/4 [==============================] - 5s 1s/step - loss: 0.5326 - dice_coef: 0.1878 - val_loss: 0.6631 - val_dice_coef: 0.1656\n",
      "Epoch 46/100\n",
      "4/4 [==============================] - 4s 1s/step - loss: 0.5314 - dice_coef: 0.1882 - val_loss: 0.6664 - val_dice_coef: 0.1653\n",
      "Epoch 47/100\n",
      "4/4 [==============================] - 4s 1s/step - loss: 0.5303 - dice_coef: 0.1886 - val_loss: 0.6691 - val_dice_coef: 0.1649\n",
      "Epoch 48/100\n",
      "4/4 [==============================] - 4s 1s/step - loss: 0.5292 - dice_coef: 0.1888 - val_loss: 0.6699 - val_dice_coef: 0.1648\n",
      "Epoch 49/100\n",
      "4/4 [==============================] - 4s 1s/step - loss: 0.5282 - dice_coef: 0.1892 - val_loss: 0.6781 - val_dice_coef: 0.1637\n",
      "Epoch 50/100\n",
      "4/4 [==============================] - 4s 1s/step - loss: 0.5271 - dice_coef: 0.1893 - val_loss: 0.6809 - val_dice_coef: 0.1632\n",
      "Epoch 51/100\n",
      "4/4 [==============================] - 4s 1s/step - loss: 0.5263 - dice_coef: 0.1896 - val_loss: 0.6818 - val_dice_coef: 0.1633\n",
      "Epoch 52/100\n",
      "4/4 [==============================] - 4s 1s/step - loss: 0.5254 - dice_coef: 0.1896 - val_loss: 0.6810 - val_dice_coef: 0.1634\n",
      "Epoch 53/100\n",
      "4/4 [==============================] - 4s 1s/step - loss: 0.5242 - dice_coef: 0.1901 - val_loss: 0.6786 - val_dice_coef: 0.1638\n",
      "Epoch 54/100\n",
      "4/4 [==============================] - 4s 1s/step - loss: 0.5233 - dice_coef: 0.1903 - val_loss: 0.6804 - val_dice_coef: 0.1635\n",
      "Epoch 55/100\n",
      "4/4 [==============================] - 4s 1s/step - loss: 0.5225 - dice_coef: 0.1904 - val_loss: 0.6821 - val_dice_coef: 0.1632\n",
      "Epoch 56/100\n",
      "4/4 [==============================] - 4s 1s/step - loss: 0.5214 - dice_coef: 0.1906 - val_loss: 0.6821 - val_dice_coef: 0.1632\n",
      "Epoch 57/100\n",
      "4/4 [==============================] - 4s 1s/step - loss: 0.5204 - dice_coef: 0.1909 - val_loss: 0.6821 - val_dice_coef: 0.1632\n",
      "Epoch 58/100\n",
      "4/4 [==============================] - 4s 1s/step - loss: 0.5195 - dice_coef: 0.1912 - val_loss: 0.6821 - val_dice_coef: 0.1632\n",
      "Epoch 59/100\n",
      "4/4 [==============================] - 4s 1s/step - loss: 0.5187 - dice_coef: 0.1914 - val_loss: 0.6821 - val_dice_coef: 0.1632\n",
      "Epoch 60/100\n",
      "4/4 [==============================] - 4s 1s/step - loss: 0.5178 - dice_coef: 0.1916 - val_loss: 0.6820 - val_dice_coef: 0.1632\n",
      "Epoch 61/100\n",
      "4/4 [==============================] - 4s 1s/step - loss: 0.5169 - dice_coef: 0.1920 - val_loss: 0.6820 - val_dice_coef: 0.1632\n",
      "Epoch 62/100\n",
      "4/4 [==============================] - 4s 1s/step - loss: 0.5160 - dice_coef: 0.1920 - val_loss: 0.6817 - val_dice_coef: 0.1633\n",
      "Epoch 63/100\n",
      "4/4 [==============================] - 4s 1s/step - loss: 0.5151 - dice_coef: 0.1921 - val_loss: 0.6812 - val_dice_coef: 0.1634\n",
      "Epoch 64/100\n",
      "4/4 [==============================] - 5s 1s/step - loss: 0.5143 - dice_coef: 0.1922 - val_loss: 0.6811 - val_dice_coef: 0.1634\n",
      "Epoch 65/100\n",
      "4/4 [==============================] - 4s 1s/step - loss: 0.5134 - dice_coef: 0.1924 - val_loss: 0.6805 - val_dice_coef: 0.1635\n",
      "Epoch 66/100\n",
      "4/4 [==============================] - 4s 1s/step - loss: 0.5126 - dice_coef: 0.1927 - val_loss: 0.6785 - val_dice_coef: 0.1638\n",
      "Epoch 67/100\n",
      "4/4 [==============================] - 4s 1s/step - loss: 0.5119 - dice_coef: 0.1929 - val_loss: 0.6798 - val_dice_coef: 0.1636\n",
      "Epoch 68/100\n",
      "4/4 [==============================] - 4s 1s/step - loss: 0.5110 - dice_coef: 0.1932 - val_loss: 0.6807 - val_dice_coef: 0.1634\n",
      "Epoch 69/100\n",
      "4/4 [==============================] - 4s 1s/step - loss: 0.5101 - dice_coef: 0.1934 - val_loss: 0.6786 - val_dice_coef: 0.1638\n",
      "Epoch 70/100\n",
      "4/4 [==============================] - 4s 1s/step - loss: 0.5094 - dice_coef: 0.1934 - val_loss: 0.6790 - val_dice_coef: 0.1635\n",
      "Epoch 71/100\n",
      "4/4 [==============================] - 4s 1s/step - loss: 0.5088 - dice_coef: 0.1935 - val_loss: 0.6787 - val_dice_coef: 0.1636\n",
      "Epoch 72/100\n",
      "4/4 [==============================] - 4s 1s/step - loss: 0.5079 - dice_coef: 0.1938 - val_loss: 0.6705 - val_dice_coef: 0.1649\n",
      "Epoch 73/100\n",
      "4/4 [==============================] - 4s 1s/step - loss: 0.5071 - dice_coef: 0.1937 - val_loss: 0.6662 - val_dice_coef: 0.1655\n",
      "Epoch 74/100\n",
      "4/4 [==============================] - 5s 1s/step - loss: 0.5062 - dice_coef: 0.1941 - val_loss: 0.6647 - val_dice_coef: 0.1657\n",
      "Epoch 75/100\n",
      "4/4 [==============================] - 4s 1s/step - loss: 0.5056 - dice_coef: 0.1944 - val_loss: 0.6650 - val_dice_coef: 0.1656\n",
      "Epoch 76/100\n",
      "4/4 [==============================] - 4s 1s/step - loss: 0.5049 - dice_coef: 0.1943 - val_loss: 0.6635 - val_dice_coef: 0.1659\n",
      "Epoch 77/100\n",
      "4/4 [==============================] - 4s 1s/step - loss: 0.5039 - dice_coef: 0.1948 - val_loss: 0.6623 - val_dice_coef: 0.1661\n",
      "Epoch 78/100\n",
      "4/4 [==============================] - 4s 1s/step - loss: 0.5033 - dice_coef: 0.1948 - val_loss: 0.6609 - val_dice_coef: 0.1663\n",
      "Epoch 79/100\n",
      "4/4 [==============================] - 4s 1s/step - loss: 0.5023 - dice_coef: 0.1951 - val_loss: 0.6596 - val_dice_coef: 0.1665\n",
      "Epoch 80/100\n",
      "4/4 [==============================] - 4s 1s/step - loss: 0.5018 - dice_coef: 0.1952 - val_loss: 0.6519 - val_dice_coef: 0.1678\n",
      "Epoch 81/100\n",
      "4/4 [==============================] - 4s 1s/step - loss: 0.5010 - dice_coef: 0.1952 - val_loss: 0.6438 - val_dice_coef: 0.1692\n",
      "Epoch 82/100\n",
      "4/4 [==============================] - 4s 1s/step - loss: 0.5003 - dice_coef: 0.1952 - val_loss: 0.6451 - val_dice_coef: 0.1689\n",
      "Epoch 83/100\n",
      "4/4 [==============================] - 4s 1s/step - loss: 0.4996 - dice_coef: 0.1956 - val_loss: 0.6441 - val_dice_coef: 0.1691\n",
      "Epoch 84/100\n",
      "4/4 [==============================] - 4s 1s/step - loss: 0.4989 - dice_coef: 0.1957 - val_loss: 0.6452 - val_dice_coef: 0.1689\n",
      "Epoch 85/100\n",
      "4/4 [==============================] - 4s 1s/step - loss: 0.4981 - dice_coef: 0.1960 - val_loss: 0.6301 - val_dice_coef: 0.1712\n",
      "Epoch 86/100\n",
      "4/4 [==============================] - 4s 1s/step - loss: 0.4973 - dice_coef: 0.1959 - val_loss: 0.6335 - val_dice_coef: 0.1706\n",
      "Epoch 87/100\n",
      "4/4 [==============================] - 4s 1s/step - loss: 0.4966 - dice_coef: 0.1960 - val_loss: 0.6381 - val_dice_coef: 0.1699\n",
      "Epoch 88/100\n",
      "4/4 [==============================] - 4s 1s/step - loss: 0.4959 - dice_coef: 0.1962 - val_loss: 0.6357 - val_dice_coef: 0.1702\n",
      "Epoch 89/100\n",
      "4/4 [==============================] - 4s 1s/step - loss: 0.4952 - dice_coef: 0.1966 - val_loss: 0.6318 - val_dice_coef: 0.1709\n",
      "Epoch 90/100\n",
      "4/4 [==============================] - 4s 1s/step - loss: 0.4945 - dice_coef: 0.1965 - val_loss: 0.6429 - val_dice_coef: 0.1690\n",
      "Epoch 91/100\n",
      "4/4 [==============================] - 4s 1s/step - loss: 0.4938 - dice_coef: 0.1967 - val_loss: 0.6410 - val_dice_coef: 0.1693\n",
      "Epoch 92/100\n",
      "4/4 [==============================] - 4s 1s/step - loss: 0.4931 - dice_coef: 0.1969 - val_loss: 0.6321 - val_dice_coef: 0.1709\n",
      "Epoch 93/100\n",
      "4/4 [==============================] - 4s 1s/step - loss: 0.4925 - dice_coef: 0.1970 - val_loss: 0.6294 - val_dice_coef: 0.1713\n",
      "Epoch 94/100\n",
      "4/4 [==============================] - 4s 1s/step - loss: 0.4916 - dice_coef: 0.1974 - val_loss: 0.6474 - val_dice_coef: 0.1682\n",
      "Epoch 95/100\n",
      "4/4 [==============================] - 4s 1s/step - loss: 0.4910 - dice_coef: 0.1975 - val_loss: 0.6429 - val_dice_coef: 0.1687\n",
      "Epoch 96/100\n",
      "4/4 [==============================] - 4s 1s/step - loss: 0.4902 - dice_coef: 0.1974 - val_loss: 0.6363 - val_dice_coef: 0.1698\n",
      "Epoch 97/100\n",
      "4/4 [==============================] - 4s 1s/step - loss: 0.4894 - dice_coef: 0.1978 - val_loss: 0.6386 - val_dice_coef: 0.1694\n",
      "Epoch 98/100\n",
      "4/4 [==============================] - 4s 1s/step - loss: 0.4888 - dice_coef: 0.1976 - val_loss: 0.6519 - val_dice_coef: 0.1672\n",
      "Epoch 99/100\n",
      "4/4 [==============================] - 4s 1s/step - loss: 0.4884 - dice_coef: 0.1977 - val_loss: 0.6551 - val_dice_coef: 0.1667\n",
      "Epoch 100/100\n",
      "4/4 [==============================] - 4s 1s/step - loss: 0.4876 - dice_coef: 0.1981 - val_loss: 0.6421 - val_dice_coef: 0.1688\n",
      "Model saved to: /tmp/tmpu9j0u1irGP2/unetplus_0unetplus_model\n",
      "History saved to: /tmp/tmpu9j0u1irGP2/unetplut_history_0.pkl\n",
      "Testing the classifier...\n",
      "Model saved to /tmp/tmpu9j0u1irGP2/cnnd_0.model\n",
      "History saved to /tmp/tmpu9j0u1irGP2/cnnd_history_0.pickle\n",
      "Testing the discriminator...\n",
      "10/10 [==============================] - 0s 20ms/step - loss: 0.0000e+00 - accuracy: 1.0000\n",
      "Found 149 machine labels.\n",
      "Machine labels [  3   4   6   7   9  11  13  14  18  20  21  22  25  26  28  29  32  33\n",
      "  35  38  42  43  46  48  49  52  53  54  55  56  57  58  59  60  67  68\n",
      "  71  72  74  75  76  77  78  79  80  85  86  89  90  93  95  96  97  98\n",
      " 101 102 103 104 106 107 109 110 114 115 121 122 123 124 126 128 129 130\n",
      " 131 133 134 136 137 141 146 152 153 154 157 158 159 161 162 167 175 177\n",
      " 179 181 184 192 193 195 197 198 199 202 208 210 211 215 216 220 223 224\n",
      " 226 227 229 230 231 236 238 241 242 243 244 245 246 247 248 249 250 252\n",
      " 261 262 263 265 267 269 270 272 273 275 278 280 282 283 284 285 286 287\n",
      " 288 289 290 295 296]\n",
      "D_ids ['3f531ae5-ebce-41f9-80ba-ef6869fb85f0', 'fda14102-f309-4999-bdcf-eb48d13e070e', 'f70972e6-3de8-470a-8601-83f0e7c1b520', 'fa371fbb-1190-4cc4-949a-4fdd66b4a820', '643c6f37-8056-43bd-9926-ff2ce7f854a7', 'c2ddf4e3-8fed-4b06-bfe5-2d8aab5f08b6', '8223ca8c-0379-4d4e-bded-db3c2bb7f8cb', 'a399ab18-9eec-49db-9e70-c8557740ccd0', 'ac41db53-9bf6-4233-a28e-f1287421f8f8', '663153ac-e75b-43b5-83c0-55f4f4960078', '558a84df-fa96-45fb-be82-bf78e1eb20c5', 'd759341c-1515-4049-a923-673960f22762', '3c829d42-6c4b-400e-8338-0acc072b5a13', '1375da31-2f59-430b-b112-44c70376a683', '4b183bae-14b7-4722-b334-ae0503448ddd', '4d713d3e-db6b-4651-993f-7052c9e468b0', '3a639e84-f08b-4b46-9129-232530170f9f', '118f9f80-b2fa-43b7-97cd-f6eaab314f3e', '0f6d94c7-f651-4e20-b006-2b41a739e294', '17c00051-4c76-48b9-9a31-a5e3bb26bbaa', '0a3cee3e-0d94-4953-8095-cbdc91cb1254', 'd454bf33-e999-42c1-86f2-ce18e38aec6a', '5c914ec9-15ac-4970-8c30-808be94f4c9b', '7df9d7cf-2eb2-4ecc-b973-d4b089894ffa', '19b84a85-ce0d-4a5f-812c-abdcdffcdcb5', '61535144-59bb-48a1-87af-95872bfb3cf0', '0a07557d-813d-45f5-a396-3294268792ca', 'b231a209-b2b9-4f33-90c8-daa580ab7a98', '340687b4-048a-4368-9f50-ccccb00d19db', 'b1f87ed2-bc4a-44b5-964b-a65aa7740b8c', '1d7dc453-f57e-4a92-81ce-bc98e3a762d7', '8902b9b2-8531-47ba-9a02-8d0e47a56712', '2c7c71f8-fdc1-401a-99af-dd58d5c1601a', 'a93efbd5-8294-4743-861c-84c49f9100d5', '5880d58b-5488-4d27-8abe-1c04add9fbbb', 'a3769447-0aa8-4d5d-8b9f-b64f04da7510', '98ce933d-1d69-40a3-9f71-378f50296868', 'd10e02fc-9aa9-4c12-91d3-4d03914dad28', '209393cb-38eb-4b7e-9565-02f344f57503', '5fcf8c48-7331-43c8-a940-220af8a0132d', '50e9d4b1-7f31-4a60-b4df-1cd6ae34e610', '72520000-250c-415d-a814-5e7a5edc3372', 'ec947fb5-a454-4494-93d1-6645f9248969', 'e116d43a-895e-45a4-bdf8-2eeda4d0c92c', 'abd45f6d-ed43-4df5-a624-61f9dce86052', 'b969d031-8c7b-4ecc-b477-e9841050c4dc', '82a897d7-bbac-4f75-8257-3e91bd7e9a7f', '69db831b-cf30-4a04-923f-19bab3f7e1d1', '05c7da0d-d5aa-4b9c-b87a-3002c8a5ab7a', 'cf190ba4-f8a6-493b-b3b8-87053c58e07b', '5050daa6-93a1-47ff-94b8-f89acb4e9d4b', '9dcb4f69-f1a0-427b-9444-d7d1822060ec', '1dce2e97-b0dd-4ed7-96dd-38a38d3e0e32', '5c3fde71-baee-477e-a175-20120aa0f3af', 'f8dbafa8-5182-4ff8-89e6-d12dc831e160', 'a4bc5dc1-8492-4c41-bbe4-88370c904581', 'fe1d60b4-ee21-4a14-bd6d-88740b09641e', '7be8ce46-5a7b-4277-89ae-4cfd97b8724e', '13a55508-40a4-4ecc-9f82-4ba75ad18a3e', '6c68bb15-169a-411e-a93b-e5068e9108c7', '0aa2efb3-9cec-4b36-9ac5-6442561a9c89', 'b9d9fcd8-62ba-4f2b-98f1-087001b49af2', '0a087a0b-08c9-4a16-9ee4-1b69d6ae34af', 'afdbd498-e9af-499d-b377-a7be15fc44ab', 'ac39bc62-ee67-442b-ba16-72eb0b54853a', '0ab4f0f8-fce4-4a6a-8168-60011fce2561', '544241d4-7166-40fa-a73c-82a4594e23da', '22f7c6a6-8597-4de2-a5cb-1ba49c67fb21', '3522a603-7d0d-47c3-a245-7e7fdbd3e6cd', '4f2d4580-5810-4abe-87df-ed8990242386', '549afc81-3647-4796-bf60-d60e4742ba1f', '038ae56f-5e38-404a-9fc8-3f9dea8d8a28', '82e1c621-a0e1-4a5e-b15c-4fb5f1818352', '21175247-5510-4d24-88ad-024f36dd78f7', '61ca32ef-e995-4acf-ad7a-dcdb33964988', '3cc27acc-d795-4805-b715-52689ce15cf2', 'fd5dbb62-174c-442e-8417-3b0271b5e1e1', 'd18d6f7e-6ac8-4a96-89c9-e8723a909e95', '7f72065b-b24b-4a30-a218-009cf1928e3c', '2da5c114-5613-446f-9f36-000a94e95ffe', '5f5c0d79-6f40-4d15-837a-0c23fa8b4408', '23509956-4cba-4199-a86c-46fb05485f0d', 'bb986066-19fd-4511-a0e5-88ee2255207c', 'dc4aefca-bf34-4f43-9c98-5ca7c135a09b', '72ce1bbd-616a-44d0-9a57-5e208603be14', '87ab168b-0ebb-4678-9911-6c9bdba5bcb7', '76615a2c-7939-422e-9ca0-da9bdd0d9b74', '668ac2de-a7ff-440d-a266-9d8a198d957b', '612fdfd0-073a-4064-a65a-8d9cbd48d659', 'aaffec2b-e2dd-4229-bc89-068b0341a451', '06770f1b-db6c-415f-b366-9055a6668445', '07eaf5ed-f0d1-411b-9ad2-88be574509cf', 'e13ecb0e-968f-43dd-853f-6ad38c2fbac2', 'd0bcae8e-efb7-43a6-bf4a-09d19c3a4848', '7c224050-4b5b-4695-b130-c2fcdbec4cb4', '2f81a54a-e785-49f2-a1c3-9e8b4dd8ef29', 'b63f4dae-eff4-4260-90bf-335a1c169a65', 'ac638bec-faf5-477c-8bd8-8746c4c3750e', '7ae64995-696f-4c5f-83b0-bc3769dda4a0', '07e02cf8-7277-46e0-959c-06e3b309bf65', '3702ab0f-3361-4345-a8e9-dbb5121d42ed', 'a85d425b-a7ca-477b-99d8-62c6ecf76956', '474e6974-c696-4deb-9b08-f862c5040cb4', '1e0e629a-3872-478c-aae5-a91d750ef93f', '749778a1-1b6e-47de-9845-4a7f798a237b', '9d059e15-f247-455a-a314-7324996fe532', '52e66ca4-8f77-46a9-ac1e-aa48e5e2c169', '25f4e74a-f02e-4c9f-8fba-fe363387f2bd', '1fab1734-9846-4d30-956e-1f4dd75cf77a', 'e2b2b5a2-4673-4b2d-b8c6-b8a953c871c2', 'aa9994c8-48e9-47ff-b4ba-9f78095569dc', 'be2ef1a3-cd08-4662-861d-9591b1153859', 'e0522ee7-a475-450f-87f0-1f9cbdf7d363', '2a3e4d4b-5e8d-40cc-9ea6-3da316c9ed95', 'b5100143-d238-4ccd-85a8-a8b2a0ccaed5', 'dc53287f-f54d-4058-b776-7f31a006e4f1', '93fd3dc0-c48f-400b-9e38-281141b85621', 'f7a260c3-95b6-44c7-8fa2-26c7dd6f81ee', '9fc21162-addb-4422-a25a-bb152124c789', '5fe8c50d-f227-4bb8-9ab6-e45a71174090', '12f475d1-5cea-49fd-870b-6f180d2afac2', '8ce24be0-c014-4928-9a36-de3a5ee65a76', 'a6aea569-dbd8-41b5-8e72-eb14dd6763c2', '810f2a28-d140-46e8-8541-515f45b0a63d', '8d321263-1449-44d0-8535-74ad6aa863c4', 'd4cb8692-0dd6-440c-b45c-38dd6f008590', 'a614c099-24e4-4045-a683-d34e2ec86a2d', 'c3a4ad40-0750-4528-bc87-329b4203d261', '1315603a-3e25-4488-bc3f-61325811a0de', '3c93cc3c-fc35-4d91-88df-6343d9d7868c', 'f6f11c63-05e1-438f-80c0-205deeb7410b', 'b0a290e2-3be2-450b-bfc5-181df07fef83', '252ca179-f61f-4a31-9ddd-23a28a7efabd', 'd79cca1f-e609-4954-a479-71e227f57ef5', 'f305b1d9-854b-4570-bd43-00bbd319239c', '5ce92cf8-2cf6-4e95-a594-f855d4ed9ffb', 'a4b40af6-2052-4fdb-b10f-4e38cfb8d304', 'a79feeb1-7a1d-484e-8758-733ae3228243', '614f0f92-8788-49a4-be86-989d6125d263', 'aec34004-8302-4696-9792-1e209ddc66cc', '64ca6903-7aab-4595-823a-c14aa2aac349', 'c29e7f5d-c62e-4ad7-92af-a84b7dc6a607', '360e98b6-ba1c-4906-b49b-c83d150b2c09', 'e077a763-e0a0-45d0-aefb-abb1064d136a', 'e1ed2d42-1a8b-4369-85b4-78d3229ff695', '3e7e2b56-0026-4bd1-83b0-1bb49344374e', '81cd4a52-d4be-4ad9-a730-ca1bee7e9a90', '8a9fa5ab-c59e-4d3c-977d-0813d3aa7c6d', 'd8bc81d4-1a7d-464f-b0d4-f5d812fa1017']\n"
     ]
    },
    {
     "name": "stdout",
     "output_type": "stream",
     "text": [
      "Replacing 49 from 149 !\n",
      "D_relabeled_ 49\n",
      "selected_ids ['17c00051-4c76-48b9-9a31-a5e3bb26bbaa', '21175247-5510-4d24-88ad-024f36dd78f7', 'e1ed2d42-1a8b-4369-85b4-78d3229ff695', 'fe1d60b4-ee21-4a14-bd6d-88740b09641e', '13a55508-40a4-4ecc-9f82-4ba75ad18a3e', 'f305b1d9-854b-4570-bd43-00bbd319239c', '82e1c621-a0e1-4a5e-b15c-4fb5f1818352', '038ae56f-5e38-404a-9fc8-3f9dea8d8a28', '76615a2c-7939-422e-9ca0-da9bdd0d9b74', '7df9d7cf-2eb2-4ecc-b973-d4b089894ffa', '7ae64995-696f-4c5f-83b0-bc3769dda4a0', '93fd3dc0-c48f-400b-9e38-281141b85621', 'b231a209-b2b9-4f33-90c8-daa580ab7a98', '9dcb4f69-f1a0-427b-9444-d7d1822060ec', 'abd45f6d-ed43-4df5-a624-61f9dce86052', 'ac638bec-faf5-477c-8bd8-8746c4c3750e', 'e0522ee7-a475-450f-87f0-1f9cbdf7d363', '118f9f80-b2fa-43b7-97cd-f6eaab314f3e', '5fe8c50d-f227-4bb8-9ab6-e45a71174090', '4d713d3e-db6b-4651-993f-7052c9e468b0', '06770f1b-db6c-415f-b366-9055a6668445', '3cc27acc-d795-4805-b715-52689ce15cf2', '05c7da0d-d5aa-4b9c-b87a-3002c8a5ab7a', 'a85d425b-a7ca-477b-99d8-62c6ecf76956', '1315603a-3e25-4488-bc3f-61325811a0de', '1d7dc453-f57e-4a92-81ce-bc98e3a762d7', 'd10e02fc-9aa9-4c12-91d3-4d03914dad28', 'aa9994c8-48e9-47ff-b4ba-9f78095569dc', 'e077a763-e0a0-45d0-aefb-abb1064d136a', '360e98b6-ba1c-4906-b49b-c83d150b2c09', 'a93efbd5-8294-4743-861c-84c49f9100d5', '3702ab0f-3361-4345-a8e9-dbb5121d42ed', '749778a1-1b6e-47de-9845-4a7f798a237b', '3f531ae5-ebce-41f9-80ba-ef6869fb85f0', '612fdfd0-073a-4064-a65a-8d9cbd48d659', 'f8dbafa8-5182-4ff8-89e6-d12dc831e160', '209393cb-38eb-4b7e-9565-02f344f57503', '72ce1bbd-616a-44d0-9a57-5e208603be14', '0a07557d-813d-45f5-a396-3294268792ca', '61ca32ef-e995-4acf-ad7a-dcdb33964988', '8223ca8c-0379-4d4e-bded-db3c2bb7f8cb', '1dce2e97-b0dd-4ed7-96dd-38a38d3e0e32', '12f475d1-5cea-49fd-870b-6f180d2afac2', '549afc81-3647-4796-bf60-d60e4742ba1f', '474e6974-c696-4deb-9b08-f862c5040cb4', '8d321263-1449-44d0-8535-74ad6aa863c4', 'afdbd498-e9af-499d-b377-a7be15fc44ab', 'dc53287f-f54d-4058-b776-7f31a006e4f1', 'aec34004-8302-4696-9792-1e209ddc66cc']\n",
      "dict_keys(['17c00051-4c76-48b9-9a31-a5e3bb26bbaa', '21175247-5510-4d24-88ad-024f36dd78f7', 'e1ed2d42-1a8b-4369-85b4-78d3229ff695', 'fe1d60b4-ee21-4a14-bd6d-88740b09641e', '13a55508-40a4-4ecc-9f82-4ba75ad18a3e', 'f305b1d9-854b-4570-bd43-00bbd319239c', '82e1c621-a0e1-4a5e-b15c-4fb5f1818352', '038ae56f-5e38-404a-9fc8-3f9dea8d8a28', '76615a2c-7939-422e-9ca0-da9bdd0d9b74', '7df9d7cf-2eb2-4ecc-b973-d4b089894ffa', '7ae64995-696f-4c5f-83b0-bc3769dda4a0', '93fd3dc0-c48f-400b-9e38-281141b85621', 'b231a209-b2b9-4f33-90c8-daa580ab7a98', '9dcb4f69-f1a0-427b-9444-d7d1822060ec', 'abd45f6d-ed43-4df5-a624-61f9dce86052', 'ac638bec-faf5-477c-8bd8-8746c4c3750e', 'e0522ee7-a475-450f-87f0-1f9cbdf7d363', '118f9f80-b2fa-43b7-97cd-f6eaab314f3e', '5fe8c50d-f227-4bb8-9ab6-e45a71174090', '4d713d3e-db6b-4651-993f-7052c9e468b0', '06770f1b-db6c-415f-b366-9055a6668445', '3cc27acc-d795-4805-b715-52689ce15cf2', '05c7da0d-d5aa-4b9c-b87a-3002c8a5ab7a', 'a85d425b-a7ca-477b-99d8-62c6ecf76956', '1315603a-3e25-4488-bc3f-61325811a0de', '1d7dc453-f57e-4a92-81ce-bc98e3a762d7', 'd10e02fc-9aa9-4c12-91d3-4d03914dad28', 'aa9994c8-48e9-47ff-b4ba-9f78095569dc', 'e077a763-e0a0-45d0-aefb-abb1064d136a', '360e98b6-ba1c-4906-b49b-c83d150b2c09', 'a93efbd5-8294-4743-861c-84c49f9100d5', '3702ab0f-3361-4345-a8e9-dbb5121d42ed', '749778a1-1b6e-47de-9845-4a7f798a237b', '3f531ae5-ebce-41f9-80ba-ef6869fb85f0', '612fdfd0-073a-4064-a65a-8d9cbd48d659', 'f8dbafa8-5182-4ff8-89e6-d12dc831e160', '209393cb-38eb-4b7e-9565-02f344f57503', '72ce1bbd-616a-44d0-9a57-5e208603be14', '0a07557d-813d-45f5-a396-3294268792ca', '61ca32ef-e995-4acf-ad7a-dcdb33964988', '8223ca8c-0379-4d4e-bded-db3c2bb7f8cb', '1dce2e97-b0dd-4ed7-96dd-38a38d3e0e32', '12f475d1-5cea-49fd-870b-6f180d2afac2', '549afc81-3647-4796-bf60-d60e4742ba1f', '474e6974-c696-4deb-9b08-f862c5040cb4', '8d321263-1449-44d0-8535-74ad6aa863c4', 'afdbd498-e9af-499d-b377-a7be15fc44ab', 'dc53287f-f54d-4058-b776-7f31a006e4f1', 'aec34004-8302-4696-9792-1e209ddc66cc'])\n",
      "point ids 49\n",
      "Removed: 49 Filled: 49\n",
      "TOOK 540.9602439403534 seconds\n",
      "==== DONE LOOP 0 ====\n",
      "******\n",
      "Loop 1\n",
      "Epoch 1/100\n",
      "5/5 [==============================] - 8s 2s/step - loss: 0.4868 - dice_coef: 0.1973 - val_loss: 0.6319 - val_dice_coef: 0.1707\n"
     ]
    },
    {
     "name": "stderr",
     "output_type": "stream",
     "text": [
      "WARNING:absl:Found untraced functions such as re_lu_layer_call_and_return_conditional_losses, re_lu_layer_call_fn, re_lu_1_layer_call_and_return_conditional_losses, re_lu_1_layer_call_fn, re_lu_2_layer_call_and_return_conditional_losses while saving (showing 5 of 180). These functions will not be directly callable after loading.\n"
     ]
    },
    {
     "name": "stdout",
     "output_type": "stream",
     "text": [
      "Epoch 2/100\n",
      "5/5 [==============================] - 5s 1s/step - loss: 0.4859 - dice_coef: 0.1977 - val_loss: 0.6391 - val_dice_coef: 0.1694\n",
      "Epoch 3/100\n",
      "5/5 [==============================] - 5s 1s/step - loss: 0.4852 - dice_coef: 0.1979 - val_loss: 0.6359 - val_dice_coef: 0.1699\n",
      "Epoch 4/100\n",
      "5/5 [==============================] - 5s 1s/step - loss: 0.4845 - dice_coef: 0.1977 - val_loss: 0.6383 - val_dice_coef: 0.1695\n",
      "Epoch 5/100\n",
      "5/5 [==============================] - 5s 1s/step - loss: 0.4836 - dice_coef: 0.1980 - val_loss: 0.6415 - val_dice_coef: 0.1687\n",
      "Epoch 6/100\n",
      "5/5 [==============================] - 5s 1s/step - loss: 0.4828 - dice_coef: 0.1979 - val_loss: 0.6450 - val_dice_coef: 0.1681\n",
      "Epoch 7/100\n",
      "5/5 [==============================] - 5s 1s/step - loss: 0.4819 - dice_coef: 0.1988 - val_loss: 0.6395 - val_dice_coef: 0.1690\n",
      "Epoch 8/100\n",
      "5/5 [==============================] - 5s 1s/step - loss: 0.4812 - dice_coef: 0.1983 - val_loss: 0.6210 - val_dice_coef: 0.1723\n"
     ]
    },
    {
     "name": "stderr",
     "output_type": "stream",
     "text": [
      "WARNING:absl:Found untraced functions such as re_lu_layer_call_and_return_conditional_losses, re_lu_layer_call_fn, re_lu_1_layer_call_and_return_conditional_losses, re_lu_1_layer_call_fn, re_lu_2_layer_call_and_return_conditional_losses while saving (showing 5 of 180). These functions will not be directly callable after loading.\n"
     ]
    },
    {
     "name": "stdout",
     "output_type": "stream",
     "text": [
      "Epoch 9/100\n",
      "5/5 [==============================] - 5s 1s/step - loss: 0.4805 - dice_coef: 0.1984 - val_loss: 0.6312 - val_dice_coef: 0.1705\n",
      "Epoch 10/100\n",
      "5/5 [==============================] - 5s 1s/step - loss: 0.4796 - dice_coef: 0.1990 - val_loss: 0.6307 - val_dice_coef: 0.1706\n",
      "Epoch 11/100\n",
      "5/5 [==============================] - 5s 1s/step - loss: 0.4787 - dice_coef: 0.1990 - val_loss: 0.6252 - val_dice_coef: 0.1715\n",
      "Epoch 12/100\n",
      "5/5 [==============================] - 5s 1s/step - loss: 0.4782 - dice_coef: 0.1988 - val_loss: 0.6178 - val_dice_coef: 0.1728\n"
     ]
    },
    {
     "name": "stderr",
     "output_type": "stream",
     "text": [
      "WARNING:absl:Found untraced functions such as re_lu_layer_call_and_return_conditional_losses, re_lu_layer_call_fn, re_lu_1_layer_call_and_return_conditional_losses, re_lu_1_layer_call_fn, re_lu_2_layer_call_and_return_conditional_losses while saving (showing 5 of 180). These functions will not be directly callable after loading.\n"
     ]
    },
    {
     "name": "stdout",
     "output_type": "stream",
     "text": [
      "Epoch 13/100\n",
      "5/5 [==============================] - 5s 1s/step - loss: 0.4772 - dice_coef: 0.1990 - val_loss: 0.6268 - val_dice_coef: 0.1710\n",
      "Epoch 14/100\n",
      "5/5 [==============================] - 5s 1s/step - loss: 0.4765 - dice_coef: 0.1993 - val_loss: 0.6223 - val_dice_coef: 0.1718\n",
      "Epoch 15/100\n",
      "5/5 [==============================] - 5s 1s/step - loss: 0.4758 - dice_coef: 0.1998 - val_loss: 0.6322 - val_dice_coef: 0.1701\n",
      "Epoch 16/100\n",
      "5/5 [==============================] - 5s 1s/step - loss: 0.4750 - dice_coef: 0.2001 - val_loss: 0.6227 - val_dice_coef: 0.1717\n",
      "Epoch 17/100\n",
      "5/5 [==============================] - 5s 1s/step - loss: 0.4746 - dice_coef: 0.2000 - val_loss: 0.6207 - val_dice_coef: 0.1720\n",
      "Epoch 18/100\n",
      "5/5 [==============================] - 5s 1s/step - loss: 0.4737 - dice_coef: 0.2001 - val_loss: 0.6255 - val_dice_coef: 0.1712\n",
      "Epoch 19/100\n",
      "5/5 [==============================] - 5s 1s/step - loss: 0.4731 - dice_coef: 0.2007 - val_loss: 0.5950 - val_dice_coef: 0.1767\n"
     ]
    },
    {
     "name": "stderr",
     "output_type": "stream",
     "text": [
      "WARNING:absl:Found untraced functions such as re_lu_layer_call_and_return_conditional_losses, re_lu_layer_call_fn, re_lu_1_layer_call_and_return_conditional_losses, re_lu_1_layer_call_fn, re_lu_2_layer_call_and_return_conditional_losses while saving (showing 5 of 180). These functions will not be directly callable after loading.\n"
     ]
    },
    {
     "name": "stdout",
     "output_type": "stream",
     "text": [
      "Epoch 20/100\n",
      "5/5 [==============================] - 5s 1s/step - loss: 0.4722 - dice_coef: 0.2007 - val_loss: 0.5722 - val_dice_coef: 0.1811\n"
     ]
    },
    {
     "name": "stderr",
     "output_type": "stream",
     "text": [
      "WARNING:absl:Found untraced functions such as re_lu_layer_call_and_return_conditional_losses, re_lu_layer_call_fn, re_lu_1_layer_call_and_return_conditional_losses, re_lu_1_layer_call_fn, re_lu_2_layer_call_and_return_conditional_losses while saving (showing 5 of 180). These functions will not be directly callable after loading.\n"
     ]
    },
    {
     "name": "stdout",
     "output_type": "stream",
     "text": [
      "Epoch 21/100\n",
      "5/5 [==============================] - 5s 1s/step - loss: 0.4716 - dice_coef: 0.2008 - val_loss: 0.5847 - val_dice_coef: 0.1784\n",
      "Epoch 22/100\n",
      "5/5 [==============================] - 5s 1s/step - loss: 0.4709 - dice_coef: 0.2003 - val_loss: 0.6057 - val_dice_coef: 0.1745\n",
      "Epoch 23/100\n",
      "5/5 [==============================] - 5s 1s/step - loss: 0.4702 - dice_coef: 0.2007 - val_loss: 0.6128 - val_dice_coef: 0.1732\n",
      "Epoch 24/100\n",
      "5/5 [==============================] - 5s 1s/step - loss: 0.4694 - dice_coef: 0.2007 - val_loss: 0.6265 - val_dice_coef: 0.1707\n",
      "Epoch 25/100\n",
      "5/5 [==============================] - 5s 1s/step - loss: 0.4689 - dice_coef: 0.2017 - val_loss: 0.6346 - val_dice_coef: 0.1693\n",
      "Epoch 26/100\n",
      "5/5 [==============================] - 5s 1s/step - loss: 0.4679 - dice_coef: 0.2012 - val_loss: 0.6312 - val_dice_coef: 0.1699\n",
      "Epoch 27/100\n",
      "5/5 [==============================] - 5s 1s/step - loss: 0.4673 - dice_coef: 0.2014 - val_loss: 0.6209 - val_dice_coef: 0.1717\n",
      "Epoch 28/100\n",
      "5/5 [==============================] - 5s 1s/step - loss: 0.4669 - dice_coef: 0.2013 - val_loss: 0.6466 - val_dice_coef: 0.1672\n",
      "Epoch 29/100\n",
      "5/5 [==============================] - 5s 1s/step - loss: 0.4663 - dice_coef: 0.2020 - val_loss: 0.6501 - val_dice_coef: 0.1664\n",
      "Epoch 30/100\n",
      "5/5 [==============================] - 5s 1s/step - loss: 0.4654 - dice_coef: 0.2023 - val_loss: 0.6037 - val_dice_coef: 0.1746\n",
      "Epoch 31/100\n",
      "5/5 [==============================] - 5s 1s/step - loss: 0.4648 - dice_coef: 0.2011 - val_loss: 0.6159 - val_dice_coef: 0.1724\n",
      "Epoch 32/100\n",
      "5/5 [==============================] - 5s 1s/step - loss: 0.4641 - dice_coef: 0.2024 - val_loss: 0.6178 - val_dice_coef: 0.1720\n",
      "Epoch 33/100\n",
      "5/5 [==============================] - 5s 1s/step - loss: 0.4634 - dice_coef: 0.2019 - val_loss: 0.6239 - val_dice_coef: 0.1709\n",
      "Epoch 34/100\n",
      "5/5 [==============================] - 5s 1s/step - loss: 0.4628 - dice_coef: 0.2028 - val_loss: 0.6162 - val_dice_coef: 0.1723\n",
      "Epoch 35/100\n",
      "5/5 [==============================] - 5s 1s/step - loss: 0.4621 - dice_coef: 0.2032 - val_loss: 0.6163 - val_dice_coef: 0.1722\n",
      "Epoch 36/100\n",
      "5/5 [==============================] - 5s 1s/step - loss: 0.4614 - dice_coef: 0.2025 - val_loss: 0.6526 - val_dice_coef: 0.1659\n",
      "Epoch 37/100\n",
      "5/5 [==============================] - 5s 1s/step - loss: 0.4609 - dice_coef: 0.2027 - val_loss: 0.6560 - val_dice_coef: 0.1652\n",
      "Epoch 38/100\n",
      "5/5 [==============================] - 5s 1s/step - loss: 0.4603 - dice_coef: 0.2032 - val_loss: 0.6599 - val_dice_coef: 0.1645\n",
      "Epoch 39/100\n",
      "5/5 [==============================] - 5s 1s/step - loss: 0.4595 - dice_coef: 0.2033 - val_loss: 0.6507 - val_dice_coef: 0.1661\n",
      "Epoch 40/100\n",
      "5/5 [==============================] - 5s 1s/step - loss: 0.4591 - dice_coef: 0.2033 - val_loss: 0.6397 - val_dice_coef: 0.1680\n",
      "Epoch 41/100\n",
      "5/5 [==============================] - 5s 1s/step - loss: 0.4584 - dice_coef: 0.2033 - val_loss: 0.6393 - val_dice_coef: 0.1680\n",
      "Epoch 42/100\n",
      "5/5 [==============================] - 5s 1s/step - loss: 0.4578 - dice_coef: 0.2035 - val_loss: 0.6189 - val_dice_coef: 0.1716\n",
      "Epoch 43/100\n",
      "5/5 [==============================] - 5s 1s/step - loss: 0.4571 - dice_coef: 0.2045 - val_loss: 0.6211 - val_dice_coef: 0.1711\n",
      "Epoch 44/100\n",
      "5/5 [==============================] - 5s 1s/step - loss: 0.4565 - dice_coef: 0.2039 - val_loss: 0.6208 - val_dice_coef: 0.1712\n",
      "Epoch 45/100\n",
      "5/5 [==============================] - 5s 1s/step - loss: 0.4562 - dice_coef: 0.2042 - val_loss: 0.6246 - val_dice_coef: 0.1703\n",
      "Epoch 46/100\n",
      "5/5 [==============================] - 5s 1s/step - loss: 0.4555 - dice_coef: 0.2043 - val_loss: 0.6380 - val_dice_coef: 0.1680\n",
      "Epoch 47/100\n",
      "5/5 [==============================] - 5s 1s/step - loss: 0.4549 - dice_coef: 0.2041 - val_loss: 0.6459 - val_dice_coef: 0.1666\n",
      "Epoch 48/100\n",
      "5/5 [==============================] - 5s 1s/step - loss: 0.4545 - dice_coef: 0.2045 - val_loss: 0.6363 - val_dice_coef: 0.1683\n",
      "Epoch 49/100\n",
      "5/5 [==============================] - 5s 1s/step - loss: 0.4539 - dice_coef: 0.2044 - val_loss: 0.6510 - val_dice_coef: 0.1658\n",
      "Epoch 50/100\n",
      "5/5 [==============================] - 5s 1s/step - loss: 0.4532 - dice_coef: 0.2045 - val_loss: 0.6533 - val_dice_coef: 0.1654\n",
      "Epoch 51/100\n",
      "5/5 [==============================] - 5s 1s/step - loss: 0.4526 - dice_coef: 0.2048 - val_loss: 0.6433 - val_dice_coef: 0.1671\n",
      "Epoch 52/100\n",
      "5/5 [==============================] - 5s 1s/step - loss: 0.4521 - dice_coef: 0.2049 - val_loss: 0.6369 - val_dice_coef: 0.1681\n",
      "Epoch 53/100\n",
      "5/5 [==============================] - 5s 1s/step - loss: 0.4515 - dice_coef: 0.2056 - val_loss: 0.6286 - val_dice_coef: 0.1695\n",
      "Epoch 54/100\n",
      "5/5 [==============================] - 5s 1s/step - loss: 0.4510 - dice_coef: 0.2050 - val_loss: 0.6240 - val_dice_coef: 0.1702\n",
      "Epoch 55/100\n",
      "5/5 [==============================] - 5s 1s/step - loss: 0.4504 - dice_coef: 0.2059 - val_loss: 0.6280 - val_dice_coef: 0.1695\n",
      "Epoch 56/100\n",
      "5/5 [==============================] - 5s 1s/step - loss: 0.4499 - dice_coef: 0.2055 - val_loss: 0.6295 - val_dice_coef: 0.1692\n",
      "Epoch 57/100\n",
      "5/5 [==============================] - 5s 1s/step - loss: 0.4493 - dice_coef: 0.2053 - val_loss: 0.6233 - val_dice_coef: 0.1703\n",
      "Epoch 58/100\n",
      "5/5 [==============================] - 5s 1s/step - loss: 0.4487 - dice_coef: 0.2055 - val_loss: 0.6158 - val_dice_coef: 0.1716\n",
      "Epoch 59/100\n",
      "5/5 [==============================] - 5s 1s/step - loss: 0.4479 - dice_coef: 0.2062 - val_loss: 0.6219 - val_dice_coef: 0.1705\n",
      "Epoch 60/100\n",
      "5/5 [==============================] - 5s 1s/step - loss: 0.4476 - dice_coef: 0.2066 - val_loss: 0.6225 - val_dice_coef: 0.1703\n",
      "Epoch 61/100\n",
      "5/5 [==============================] - 5s 1s/step - loss: 0.4470 - dice_coef: 0.2065 - val_loss: 0.6289 - val_dice_coef: 0.1692\n",
      "Epoch 62/100\n",
      "5/5 [==============================] - 5s 1s/step - loss: 0.4468 - dice_coef: 0.2058 - val_loss: 0.6329 - val_dice_coef: 0.1683\n",
      "Epoch 63/100\n",
      "5/5 [==============================] - 5s 1s/step - loss: 0.4460 - dice_coef: 0.2062 - val_loss: 0.6456 - val_dice_coef: 0.1661\n",
      "Epoch 64/100\n",
      "5/5 [==============================] - 5s 1s/step - loss: 0.4455 - dice_coef: 0.2061 - val_loss: 0.6438 - val_dice_coef: 0.1664\n",
      "Epoch 65/100\n",
      "5/5 [==============================] - 5s 1s/step - loss: 0.4449 - dice_coef: 0.2067 - val_loss: 0.6467 - val_dice_coef: 0.1659\n",
      "Epoch 66/100\n",
      "5/5 [==============================] - 5s 1s/step - loss: 0.4444 - dice_coef: 0.2059 - val_loss: 0.6465 - val_dice_coef: 0.1660\n",
      "Epoch 67/100\n",
      "5/5 [==============================] - 5s 1s/step - loss: 0.4440 - dice_coef: 0.2062 - val_loss: 0.6454 - val_dice_coef: 0.1661\n",
      "Epoch 68/100\n",
      "5/5 [==============================] - 5s 1s/step - loss: 0.4435 - dice_coef: 0.2071 - val_loss: 0.6463 - val_dice_coef: 0.1659\n",
      "Epoch 69/100\n",
      "5/5 [==============================] - 5s 1s/step - loss: 0.4429 - dice_coef: 0.2067 - val_loss: 0.6539 - val_dice_coef: 0.1646\n",
      "Epoch 70/100\n",
      "5/5 [==============================] - 5s 1s/step - loss: 0.4424 - dice_coef: 0.2072 - val_loss: 0.6540 - val_dice_coef: 0.1645\n",
      "Epoch 71/100\n",
      "5/5 [==============================] - 5s 1s/step - loss: 0.4420 - dice_coef: 0.2067 - val_loss: 0.6546 - val_dice_coef: 0.1644\n",
      "Epoch 72/100\n",
      "5/5 [==============================] - 5s 1s/step - loss: 0.4415 - dice_coef: 0.2069 - val_loss: 0.6569 - val_dice_coef: 0.1640\n",
      "Epoch 73/100\n",
      "5/5 [==============================] - 5s 1s/step - loss: 0.4410 - dice_coef: 0.2077 - val_loss: 0.6584 - val_dice_coef: 0.1638\n",
      "Epoch 74/100\n",
      "5/5 [==============================] - 5s 1s/step - loss: 0.4405 - dice_coef: 0.2079 - val_loss: 0.6574 - val_dice_coef: 0.1639\n",
      "Epoch 75/100\n",
      "5/5 [==============================] - 5s 1s/step - loss: 0.4401 - dice_coef: 0.2075 - val_loss: 0.6573 - val_dice_coef: 0.1639\n",
      "Epoch 76/100\n",
      "5/5 [==============================] - 5s 1s/step - loss: 0.4396 - dice_coef: 0.2070 - val_loss: 0.6536 - val_dice_coef: 0.1643\n",
      "Epoch 77/100\n",
      "5/5 [==============================] - 5s 1s/step - loss: 0.4392 - dice_coef: 0.2067 - val_loss: 0.6498 - val_dice_coef: 0.1649\n",
      "Epoch 78/100\n",
      "5/5 [==============================] - 5s 1s/step - loss: 0.4385 - dice_coef: 0.2082 - val_loss: 0.6558 - val_dice_coef: 0.1639\n",
      "Epoch 79/100\n",
      "5/5 [==============================] - 5s 1s/step - loss: 0.4383 - dice_coef: 0.2071 - val_loss: 0.6552 - val_dice_coef: 0.1640\n",
      "Epoch 80/100\n",
      "5/5 [==============================] - 5s 1s/step - loss: 0.4376 - dice_coef: 0.2077 - val_loss: 0.6546 - val_dice_coef: 0.1641\n",
      "Epoch 81/100\n",
      "5/5 [==============================] - 5s 1s/step - loss: 0.4372 - dice_coef: 0.2084 - val_loss: 0.6506 - val_dice_coef: 0.1648\n",
      "Epoch 82/100\n",
      "5/5 [==============================] - 5s 1s/step - loss: 0.4367 - dice_coef: 0.2083 - val_loss: 0.6542 - val_dice_coef: 0.1642\n",
      "Epoch 83/100\n",
      "5/5 [==============================] - 5s 1s/step - loss: 0.4362 - dice_coef: 0.2086 - val_loss: 0.6570 - val_dice_coef: 0.1637\n",
      "Epoch 84/100\n",
      "5/5 [==============================] - 5s 1s/step - loss: 0.4358 - dice_coef: 0.2087 - val_loss: 0.6541 - val_dice_coef: 0.1639\n",
      "Epoch 85/100\n",
      "5/5 [==============================] - 5s 1s/step - loss: 0.4356 - dice_coef: 0.2087 - val_loss: 0.6538 - val_dice_coef: 0.1639\n",
      "Epoch 86/100\n",
      "5/5 [==============================] - 5s 1s/step - loss: 0.4351 - dice_coef: 0.2083 - val_loss: 0.6550 - val_dice_coef: 0.1637\n",
      "Epoch 87/100\n",
      "5/5 [==============================] - 5s 1s/step - loss: 0.4347 - dice_coef: 0.2087 - val_loss: 0.6518 - val_dice_coef: 0.1642\n",
      "Epoch 88/100\n",
      "5/5 [==============================] - 5s 1s/step - loss: 0.4340 - dice_coef: 0.2087 - val_loss: 0.6523 - val_dice_coef: 0.1642\n",
      "Epoch 89/100\n",
      "5/5 [==============================] - 5s 1s/step - loss: 0.4336 - dice_coef: 0.2083 - val_loss: 0.6516 - val_dice_coef: 0.1643\n",
      "Epoch 90/100\n",
      "5/5 [==============================] - 5s 1s/step - loss: 0.4331 - dice_coef: 0.2095 - val_loss: 0.6446 - val_dice_coef: 0.1655\n",
      "Epoch 91/100\n",
      "5/5 [==============================] - 5s 1s/step - loss: 0.4327 - dice_coef: 0.2086 - val_loss: 0.6498 - val_dice_coef: 0.1646\n",
      "Epoch 92/100\n",
      "5/5 [==============================] - 5s 1s/step - loss: 0.4324 - dice_coef: 0.2089 - val_loss: 0.6508 - val_dice_coef: 0.1644\n",
      "Epoch 93/100\n",
      "5/5 [==============================] - 5s 1s/step - loss: 0.4318 - dice_coef: 0.2092 - val_loss: 0.6483 - val_dice_coef: 0.1646\n",
      "Epoch 94/100\n",
      "5/5 [==============================] - 5s 1s/step - loss: 0.4315 - dice_coef: 0.2098 - val_loss: 0.6495 - val_dice_coef: 0.1643\n",
      "Epoch 95/100\n",
      "5/5 [==============================] - 5s 1s/step - loss: 0.4312 - dice_coef: 0.2092 - val_loss: 0.6464 - val_dice_coef: 0.1649\n",
      "Epoch 96/100\n",
      "5/5 [==============================] - 5s 1s/step - loss: 0.4306 - dice_coef: 0.2097 - val_loss: 0.6487 - val_dice_coef: 0.1645\n",
      "Epoch 97/100\n",
      "5/5 [==============================] - 5s 1s/step - loss: 0.4302 - dice_coef: 0.2094 - val_loss: 0.6470 - val_dice_coef: 0.1648\n",
      "Epoch 98/100\n",
      "5/5 [==============================] - 5s 1s/step - loss: 0.4298 - dice_coef: 0.2097 - val_loss: 0.6435 - val_dice_coef: 0.1654\n",
      "Epoch 99/100\n",
      "5/5 [==============================] - 5s 1s/step - loss: 0.4294 - dice_coef: 0.2096 - val_loss: 0.6523 - val_dice_coef: 0.1639\n",
      "Epoch 100/100\n",
      "5/5 [==============================] - 5s 1s/step - loss: 0.4291 - dice_coef: 0.2097 - val_loss: 0.6556 - val_dice_coef: 0.1633\n",
      "Model saved to: /tmp/tmpu9j0u1irGP2/unetplus_1unetplus_model\n",
      "History saved to: /tmp/tmpu9j0u1irGP2/unetplut_history_1.pkl\n",
      "Testing the classifier...\n",
      "Testing the discriminator...\n",
      "10/10 [==============================] - 0s 19ms/step - loss: 0.0000e+00 - accuracy: 1.0000\n",
      "Found 155 machine labels.\n",
      "Machine labels [  0   1   2   4   6  10  12  13  14  15  16  17  18  19  20  21  25  28\n",
      "  30  33  36  37  40  44  46  48  53  54  57  58  61  62  64  66  70  72\n",
      "  73  75  77  80  83  87  88  89  91  92  98 103 104 105 106 108 109 110\n",
      " 111 112 113 115 116 117 119 123 124 128 136 137 138 141 143 144 145 147\n",
      " 149 153 156 158 163 164 165 167 169 170 173 174 178 179 183 184 185 187\n",
      " 189 190 192 193 197 198 200 202 204 205 208 211 212 214 216 217 218 220\n",
      " 223 225 228 229 230 231 233 234 235 237 238 239 241 247 248 249 250 251\n",
      " 252 253 255 256 257 258 259 261 263 264 265 269 270 273 276 277 278 279\n",
      " 280 284 286 288 290 291 292 293 295 296 298]\n",
      "D_ids ['87b0580b-17af-48ee-b8b3-a7d0f19a374d', '326c6899-8c64-441d-9c8f-5dca7adabc64', '7c190fe4-c27b-4fd5-a667-fa757b263fbc', 'ee4e378c-7c5d-4851-8c47-33e32899f0a4', '3f263250-c3a9-4c79-8b3c-c82ff9e65718', '2d0aaf07-2ba7-40ed-83ae-ce1842154009', '9dfdaf78-0f35-4393-98a3-9df0ade361a1', 'cf399783-9220-4ca7-ad33-a231967a7229', '5a92acaa-46ae-4955-9e9a-72a86d6ca7c2', '740f64f7-d7f3-4870-afe2-f82c0579f2e3', '091a942e-e6d4-4ec0-9dff-97ae0af8b416', '1c522312-4050-48f6-9b1d-62af44d82d4f', '7bc8ee17-a10c-402e-bc5f-3d5e6eb66405', '1705747b-ea33-4f1b-8a22-b426c5bc7996', '77fee693-1bc8-4233-9c24-08fb40f8bb99', 'aaf55e2a-49c4-48e9-8eb5-30efcf0d6885', 'a6aea569-dbd8-41b5-8e72-eb14dd6763c2', '2d40b86c-e865-49a6-b2a8-91e79cbcca07', '5d79714d-9862-43b8-9c98-9a98c10fe3b7', '12859b42-4397-45c9-967e-0e75a329f528', '6273123b-daec-436c-91eb-cc5bb7f39211', 'c43e976e-7934-4173-b136-7a4db1a6221f', '6123a9d8-d9ab-4d36-8c83-929ce8c683e3', '684af3ee-daef-442f-abf1-dd49f99e367b', '085dcdf3-7e16-4c71-9458-0bdf11f61aa6', '3c4cf385-e069-4f30-bcf8-dd04ec0ab1cf', '323d936b-72c0-4426-bc4c-375742b30fbd', 'd9660060-57c8-4a81-ad1c-b17dd2d5d238', '58b32df6-f367-4881-a02d-94f31f717435', '6c68bb15-169a-411e-a93b-e5068e9108c7', '970eb697-421c-4b9e-aad5-3ffb64d7ed36', 'f4533557-e88d-419d-9ec4-8a9bbb1f7eed', 'e7493bcf-2a66-4c48-bc1c-88cf393b56cc', '77cd0d6f-1d1b-4daa-9f6f-ff36d4308b74', 'd718c479-6e33-4a20-9750-ee2b325b1484', '4c54d4f1-0caa-4f90-bba3-7ef9be862c2a', 'f3bb9463-a715-48ac-a638-84ec4ca4ddb6', 'f197b307-d112-4741-958b-d4927549d648', 'e3591974-00a0-4a32-8dc9-b7c6c1087fe5', 'a4bc5dc1-8492-4c41-bbe4-88370c904581', '48808249-b789-4bd7-80e7-3f97f48062bb', '0b046eb7-211f-4a27-be78-9a08628c02ef', 'bc850a1a-9495-4fd3-aad1-8665b1a72fad', 'caa9df18-8ed2-4a3d-88e8-b4d6224a4028', '18e065a3-70bf-4d05-846e-6002dfa5279f', '81d56c4e-dbfa-4a71-9e94-6f8ad422ee86', 'a40ae90a-ab61-46e4-8b4b-7e81afcaf679', 'e4738242-ffc1-4486-970c-abdbf2689302', '325ecf18-d356-4558-8208-d4a8a88b9bae', 'c4a7dd8b-a3b8-4446-bdb7-ea59540ba72f', '1306599b-28de-42c8-94ca-b74c6033a3c5', '00498bf5-9a58-4c0a-8ecb-98bcd9cf23d0', 'b3c839f6-bfa6-4c24-b2e8-17e1dcf1bc25', '3dcb7e04-44bb-4ef9-951d-55db7fc66155', 'f112f051-b185-4706-9227-bc602d574b4a', 'f5a8c4a0-5b74-44f2-a508-e128adf6261c', 'a95998f8-223f-4182-a608-3bef9535eca6', '715a9baa-46f4-4bcc-81d1-47ab074f48f3', 'f2447df0-0402-4fb7-a985-b869266f9fbc', 'e13ecb0e-968f-43dd-853f-6ad38c2fbac2', 'ac39bc62-ee67-442b-ba16-72eb0b54853a', '992fbdcf-63e6-4de8-b3a3-c83bd9effea4', '8387313a-0202-4180-837d-c9f09407cf98', '7be8ce46-5a7b-4277-89ae-4cfd97b8724e', '9c77d444-00fa-4b35-8aad-138758c043ee', '4d68740a-95c8-4a9f-abe7-0221006abb1f', '8d376e6a-f961-49ea-b2f8-35269947f334', 'ba52e3c7-9d59-442b-82b7-8b93998648eb', 'ed69a3f3-d0c1-48a4-ad59-192ec558e383', '6b3017d5-5e46-4de0-8f70-05fcdcb248f2', '55841a5e-5889-4a7f-b28a-a38ae59f7eea', '33b1f700-6975-42a2-a9c0-8feada159ccd', '1b9f9a4f-82a2-4f02-a523-eb9d5ae14d73', '423b7250-5ebb-4243-a6dc-45913c86e8ed', '6aa8ef90-d010-40e6-9659-110699e0b185', '00b95b14-b717-499f-a7a0-06b9b2456a16', '13972086-a207-40ad-b214-4f1dc93b3b35', '322cc3fe-1a23-4c08-aa1b-7d0a4b0c83aa', '555ca5d6-7a17-4d34-a2e2-ef2a2776ea24', '62e1e74b-aeca-4df8-9468-d53109e68759', '86f429b0-be2f-47ab-a380-d8d1f78b6d25', 'cf190ba4-f8a6-493b-b3b8-87053c58e07b', 'a114bea4-b4b9-4d57-8019-a8bdf8c60314', '4902977f-ec3f-4e42-bfb0-4d9d6be5c683', 'bd2588e9-e25c-400e-ad9a-0815f907a5b7', '62b5a1b7-a67a-4a5a-b0ea-178beb772867', '3c5d1641-9e0e-4abd-89d7-1c58060aed0a', 'd7d4d31c-1e80-49cf-b6c5-b17cc7b1fb36', '3fe2d719-92e0-4573-a1c8-99002eb319fc', 'f02b7006-babc-48a0-942b-a1bd95daf4d5', 'ce5a6357-79c8-451b-a854-41747c856a0b', '0a09f12b-b8d4-4f12-830e-3e5b348efd5d', 'df633c0c-26d8-4842-8213-8435c7a9548b', '6a377819-f195-4576-9151-ecd5b14eec35', 'd44fb36d-81c1-4b89-ba9a-31c82be0ddd0', 'e1780468-21bb-4118-8e20-beaaeebb87d4', 'b99ee636-569a-4d61-8305-7c9e54949685', '88b12cc8-a8e7-4444-85de-e5433475991e', 'c206f7c4-bd19-40fc-8fca-00a536e86306', 'f5ae0c8f-158e-4bad-9520-fa7a5eb23d6a', '9aa49650-ba3c-42f1-a186-d9cb2bbc8e5a', '80a23eb5-e985-44d8-9769-7115c74fef5f', 'b3035269-a5d0-4a59-9c7e-d31f7fdba0e4', '8db63a4f-8afe-42fd-afd2-4c5eef68f2d9', '5edacf6d-6d0b-47ac-83e3-fe5ff585fd31', 'e2ea24d8-887c-4e1f-b8b2-8b6251a81bdb', '11b1ffb0-a06d-4569-866e-7b447b73e299', 'c3c9a207-8666-4707-b896-3316d8a0bf7f', '861d84b9-0149-483d-b586-94b6d8ee7310', 'bf660238-b999-4b04-ab68-d3b797cc55e4', '3c05468a-a63a-4f5d-9d67-eb3c9950b545', '0eafae88-e8e4-4c30-a78d-be4479fa1b30', 'c9308db6-9651-4e93-8a4f-f3888fd2df86', '5f8dc563-0009-4796-a86d-e52e6a81a276', '2385a1ea-91dd-4353-ba81-dcc09f73032b', '231b6fd7-9fb0-451c-96c3-6b43e5053d62', '8902b9b2-8531-47ba-9a02-8d0e47a56712', 'ac5cdbb2-42a8-44e4-9996-cbbe78c19d17', '1be61048-1502-4b21-8df1-adfbc3b050fc', 'e937d6ba-aaae-4d27-8d88-07875764c127', '523dfa9a-9c18-49d8-bae8-0fa9bc45b410', '2ba43e24-21ff-4334-89ce-cfc7ceaf39e0', '6075a954-c544-4f20-891f-9309faa902b0', 'd2f2d694-2b17-4b46-a4dd-7ad1320bf61c', 'f79727c2-de41-4fb6-a01d-41bee9c06389', '17d867ec-502f-4046-a1f1-432621b736d6', '03bdd616-6856-41d9-a882-fd459bc09222', 'e7591d22-e0f4-48f9-8f31-95dda23039c8', '47a272aa-3712-4b07-bbd0-fac86ed1fcdd', '2fec0e08-da72-48dd-9912-d00e47ee58e1', 'd2b8a5e3-cb5a-4008-9ba5-4ef9a1cbe06f', 'c357d8f1-f36e-4c39-ad01-75c07ec68559', '1fab1734-9846-4d30-956e-1f4dd75cf77a', '95c35c8c-91dc-4082-b7f2-940ec30eae6f', '95fba778-122c-4e5c-9f57-4b3771ee07b6', '75f00554-5637-4df2-a05f-bfa9e9bfb972', '9eb5b1aa-93c8-4b89-9b36-604c21c44f8c', '8d3b7da2-9be6-463b-b1f0-2185bff96db9', 'd30a3880-a8ee-426e-9eaa-7b9649e3f869', '8d5032f1-7d8b-465c-8743-65fca9603164', '7d73d44f-fc49-4608-827c-dca98a14aacc', '86081b9b-f36f-4633-b0f7-9bbb74874d91', '11460d48-b5c8-4451-a1de-2194a6f05c02', '98783043-ca28-4995-9bb9-b5c8621a0cee', '36f97812-3577-47bb-9eb6-f05df246318f', '2d63afe6-65b8-48a1-abec-4680457c7a03', 'b43c5910-266a-4a32-ad97-00c24c090de5', '6785cb43-581d-4277-991c-af0b573f2552', 'd1f4e919-69b1-4af0-b30d-9cedd3f554a9', '72dc789e-9967-4b41-bae5-1d94c5b3a22c', 'feec7b6b-2060-4cb0-beac-cbe5c061afd8', 'c75e5ac7-065a-4dba-855e-a28a876ed12b', 'f6bbd91f-189d-475b-87f8-2bbce35b1bf5', '5ce92cf8-2cf6-4e95-a594-f855d4ed9ffb', '0af3c34a-a2fa-45f2-9c21-ee8d0dc49a68']\n"
     ]
    },
    {
     "name": "stdout",
     "output_type": "stream",
     "text": [
      "Replacing 51 from 155 !\n",
      "D_relabeled_ 51\n",
      "selected_ids ['7bc8ee17-a10c-402e-bc5f-3d5e6eb66405', '8902b9b2-8531-47ba-9a02-8d0e47a56712', '423b7250-5ebb-4243-a6dc-45913c86e8ed', 'd2b8a5e3-cb5a-4008-9ba5-4ef9a1cbe06f', '8d3b7da2-9be6-463b-b1f0-2185bff96db9', '5f8dc563-0009-4796-a86d-e52e6a81a276', '86081b9b-f36f-4633-b0f7-9bbb74874d91', 'f02b7006-babc-48a0-942b-a1bd95daf4d5', '2d0aaf07-2ba7-40ed-83ae-ce1842154009', '6b3017d5-5e46-4de0-8f70-05fcdcb248f2', '7be8ce46-5a7b-4277-89ae-4cfd97b8724e', '4d68740a-95c8-4a9f-abe7-0221006abb1f', 'a95998f8-223f-4182-a608-3bef9535eca6', '684af3ee-daef-442f-abf1-dd49f99e367b', '1be61048-1502-4b21-8df1-adfbc3b050fc', 'b3c839f6-bfa6-4c24-b2e8-17e1dcf1bc25', '4c54d4f1-0caa-4f90-bba3-7ef9be862c2a', 'bc850a1a-9495-4fd3-aad1-8665b1a72fad', 'b3035269-a5d0-4a59-9c7e-d31f7fdba0e4', 'f4533557-e88d-419d-9ec4-8a9bbb1f7eed', '9eb5b1aa-93c8-4b89-9b36-604c21c44f8c', 'a114bea4-b4b9-4d57-8019-a8bdf8c60314', '1c522312-4050-48f6-9b1d-62af44d82d4f', 'f2447df0-0402-4fb7-a985-b869266f9fbc', '3fe2d719-92e0-4573-a1c8-99002eb319fc', '3c05468a-a63a-4f5d-9d67-eb3c9950b545', 'caa9df18-8ed2-4a3d-88e8-b4d6224a4028', '75f00554-5637-4df2-a05f-bfa9e9bfb972', 'ed69a3f3-d0c1-48a4-ad59-192ec558e383', 'd30a3880-a8ee-426e-9eaa-7b9649e3f869', 'a6aea569-dbd8-41b5-8e72-eb14dd6763c2', '0a09f12b-b8d4-4f12-830e-3e5b348efd5d', '0b046eb7-211f-4a27-be78-9a08628c02ef', '1fab1734-9846-4d30-956e-1f4dd75cf77a', '8d5032f1-7d8b-465c-8743-65fca9603164', '77cd0d6f-1d1b-4daa-9f6f-ff36d4308b74', 'd2f2d694-2b17-4b46-a4dd-7ad1320bf61c', 'c357d8f1-f36e-4c39-ad01-75c07ec68559', 'f112f051-b185-4706-9227-bc602d574b4a', '00b95b14-b717-499f-a7a0-06b9b2456a16', '62e1e74b-aeca-4df8-9468-d53109e68759', '715a9baa-46f4-4bcc-81d1-47ab074f48f3', 'f197b307-d112-4741-958b-d4927549d648', '6273123b-daec-436c-91eb-cc5bb7f39211', 'e13ecb0e-968f-43dd-853f-6ad38c2fbac2', 'e937d6ba-aaae-4d27-8d88-07875764c127', '3c4cf385-e069-4f30-bcf8-dd04ec0ab1cf', '1306599b-28de-42c8-94ca-b74c6033a3c5', 'ac5cdbb2-42a8-44e4-9996-cbbe78c19d17', 'ac39bc62-ee67-442b-ba16-72eb0b54853a', 'df633c0c-26d8-4842-8213-8435c7a9548b']\n",
      "dict_keys(['7bc8ee17-a10c-402e-bc5f-3d5e6eb66405', '8902b9b2-8531-47ba-9a02-8d0e47a56712', '423b7250-5ebb-4243-a6dc-45913c86e8ed', 'd2b8a5e3-cb5a-4008-9ba5-4ef9a1cbe06f', '8d3b7da2-9be6-463b-b1f0-2185bff96db9', '5f8dc563-0009-4796-a86d-e52e6a81a276', '86081b9b-f36f-4633-b0f7-9bbb74874d91', 'f02b7006-babc-48a0-942b-a1bd95daf4d5', '2d0aaf07-2ba7-40ed-83ae-ce1842154009', '6b3017d5-5e46-4de0-8f70-05fcdcb248f2', '7be8ce46-5a7b-4277-89ae-4cfd97b8724e', '4d68740a-95c8-4a9f-abe7-0221006abb1f', 'a95998f8-223f-4182-a608-3bef9535eca6', '684af3ee-daef-442f-abf1-dd49f99e367b', '1be61048-1502-4b21-8df1-adfbc3b050fc', 'b3c839f6-bfa6-4c24-b2e8-17e1dcf1bc25', '4c54d4f1-0caa-4f90-bba3-7ef9be862c2a', 'bc850a1a-9495-4fd3-aad1-8665b1a72fad', 'b3035269-a5d0-4a59-9c7e-d31f7fdba0e4', 'f4533557-e88d-419d-9ec4-8a9bbb1f7eed', '9eb5b1aa-93c8-4b89-9b36-604c21c44f8c', 'a114bea4-b4b9-4d57-8019-a8bdf8c60314', '1c522312-4050-48f6-9b1d-62af44d82d4f', 'f2447df0-0402-4fb7-a985-b869266f9fbc', '3fe2d719-92e0-4573-a1c8-99002eb319fc', '3c05468a-a63a-4f5d-9d67-eb3c9950b545', 'caa9df18-8ed2-4a3d-88e8-b4d6224a4028', '75f00554-5637-4df2-a05f-bfa9e9bfb972', 'ed69a3f3-d0c1-48a4-ad59-192ec558e383', 'd30a3880-a8ee-426e-9eaa-7b9649e3f869', 'a6aea569-dbd8-41b5-8e72-eb14dd6763c2', '0a09f12b-b8d4-4f12-830e-3e5b348efd5d', '0b046eb7-211f-4a27-be78-9a08628c02ef', '1fab1734-9846-4d30-956e-1f4dd75cf77a', '8d5032f1-7d8b-465c-8743-65fca9603164', '77cd0d6f-1d1b-4daa-9f6f-ff36d4308b74', 'd2f2d694-2b17-4b46-a4dd-7ad1320bf61c', 'c357d8f1-f36e-4c39-ad01-75c07ec68559', 'f112f051-b185-4706-9227-bc602d574b4a', '00b95b14-b717-499f-a7a0-06b9b2456a16', '62e1e74b-aeca-4df8-9468-d53109e68759', '715a9baa-46f4-4bcc-81d1-47ab074f48f3', 'f197b307-d112-4741-958b-d4927549d648', '6273123b-daec-436c-91eb-cc5bb7f39211', 'e13ecb0e-968f-43dd-853f-6ad38c2fbac2', 'e937d6ba-aaae-4d27-8d88-07875764c127', '3c4cf385-e069-4f30-bcf8-dd04ec0ab1cf', '1306599b-28de-42c8-94ca-b74c6033a3c5', 'ac5cdbb2-42a8-44e4-9996-cbbe78c19d17', 'ac39bc62-ee67-442b-ba16-72eb0b54853a', 'df633c0c-26d8-4842-8213-8435c7a9548b'])\n",
      "point ids 51\n",
      "Removed: 51 Filled: 51\n",
      "TOOK 605.1533069610596 seconds\n",
      "==== DONE LOOP 1 ====\n",
      "******\n",
      "Loop 2\n",
      "Epoch 1/100\n",
      "6/6 [==============================] - 8s 2s/step - loss: 0.4289 - dice_coef: 0.2110 - val_loss: 0.6546 - val_dice_coef: 0.1633\n"
     ]
    },
    {
     "name": "stderr",
     "output_type": "stream",
     "text": [
      "WARNING:absl:Found untraced functions such as re_lu_layer_call_and_return_conditional_losses, re_lu_layer_call_fn, re_lu_1_layer_call_and_return_conditional_losses, re_lu_1_layer_call_fn, re_lu_2_layer_call_and_return_conditional_losses while saving (showing 5 of 180). These functions will not be directly callable after loading.\n"
     ]
    },
    {
     "name": "stdout",
     "output_type": "stream",
     "text": [
      "Epoch 2/100\n",
      "6/6 [==============================] - 6s 996ms/step - loss: 0.4284 - dice_coef: 0.2111 - val_loss: 0.6538 - val_dice_coef: 0.1634\n"
     ]
    },
    {
     "name": "stderr",
     "output_type": "stream",
     "text": [
      "WARNING:absl:Found untraced functions such as re_lu_layer_call_and_return_conditional_losses, re_lu_layer_call_fn, re_lu_1_layer_call_and_return_conditional_losses, re_lu_1_layer_call_fn, re_lu_2_layer_call_and_return_conditional_losses while saving (showing 5 of 180). These functions will not be directly callable after loading.\n"
     ]
    },
    {
     "name": "stdout",
     "output_type": "stream",
     "text": [
      "Epoch 3/100\n",
      "6/6 [==============================] - 6s 1s/step - loss: 0.4281 - dice_coef: 0.2122 - val_loss: 0.6474 - val_dice_coef: 0.1644\n"
     ]
    },
    {
     "name": "stderr",
     "output_type": "stream",
     "text": [
      "WARNING:absl:Found untraced functions such as re_lu_layer_call_and_return_conditional_losses, re_lu_layer_call_fn, re_lu_1_layer_call_and_return_conditional_losses, re_lu_1_layer_call_fn, re_lu_2_layer_call_and_return_conditional_losses while saving (showing 5 of 180). These functions will not be directly callable after loading.\n"
     ]
    },
    {
     "name": "stdout",
     "output_type": "stream",
     "text": [
      "Epoch 4/100\n",
      "6/6 [==============================] - 6s 1s/step - loss: 0.4275 - dice_coef: 0.2110 - val_loss: 0.6523 - val_dice_coef: 0.1635\n",
      "Epoch 5/100\n",
      "6/6 [==============================] - 6s 984ms/step - loss: 0.4271 - dice_coef: 0.2124 - val_loss: 0.6527 - val_dice_coef: 0.1635\n",
      "Epoch 6/100\n",
      "6/6 [==============================] - 6s 996ms/step - loss: 0.4266 - dice_coef: 0.2119 - val_loss: 0.6519 - val_dice_coef: 0.1636\n",
      "Epoch 7/100\n",
      "6/6 [==============================] - 6s 993ms/step - loss: 0.4263 - dice_coef: 0.2111 - val_loss: 0.6540 - val_dice_coef: 0.1633\n",
      "Epoch 8/100\n",
      "6/6 [==============================] - 6s 986ms/step - loss: 0.4258 - dice_coef: 0.2114 - val_loss: 0.6527 - val_dice_coef: 0.1633\n",
      "Epoch 9/100\n",
      "6/6 [==============================] - 6s 992ms/step - loss: 0.4254 - dice_coef: 0.2127 - val_loss: 0.6529 - val_dice_coef: 0.1632\n",
      "Epoch 10/100\n",
      "6/6 [==============================] - 6s 990ms/step - loss: 0.4249 - dice_coef: 0.2117 - val_loss: 0.6533 - val_dice_coef: 0.1631\n",
      "Epoch 11/100\n",
      "6/6 [==============================] - 6s 1s/step - loss: 0.4244 - dice_coef: 0.2104 - val_loss: 0.6449 - val_dice_coef: 0.1646\n"
     ]
    },
    {
     "name": "stderr",
     "output_type": "stream",
     "text": [
      "WARNING:absl:Found untraced functions such as re_lu_layer_call_and_return_conditional_losses, re_lu_layer_call_fn, re_lu_1_layer_call_and_return_conditional_losses, re_lu_1_layer_call_fn, re_lu_2_layer_call_and_return_conditional_losses while saving (showing 5 of 180). These functions will not be directly callable after loading.\n"
     ]
    },
    {
     "name": "stdout",
     "output_type": "stream",
     "text": [
      "Epoch 12/100\n",
      "6/6 [==============================] - 6s 1s/step - loss: 0.4240 - dice_coef: 0.2124 - val_loss: 0.6419 - val_dice_coef: 0.1651\n"
     ]
    },
    {
     "name": "stderr",
     "output_type": "stream",
     "text": [
      "WARNING:absl:Found untraced functions such as re_lu_layer_call_and_return_conditional_losses, re_lu_layer_call_fn, re_lu_1_layer_call_and_return_conditional_losses, re_lu_1_layer_call_fn, re_lu_2_layer_call_and_return_conditional_losses while saving (showing 5 of 180). These functions will not be directly callable after loading.\n"
     ]
    },
    {
     "name": "stdout",
     "output_type": "stream",
     "text": [
      "Epoch 13/100\n",
      "6/6 [==============================] - 6s 1s/step - loss: 0.4235 - dice_coef: 0.2121 - val_loss: 0.6463 - val_dice_coef: 0.1643\n",
      "Epoch 14/100\n",
      "6/6 [==============================] - 6s 997ms/step - loss: 0.4230 - dice_coef: 0.2116 - val_loss: 0.6401 - val_dice_coef: 0.1654\n"
     ]
    },
    {
     "name": "stderr",
     "output_type": "stream",
     "text": [
      "WARNING:absl:Found untraced functions such as re_lu_layer_call_and_return_conditional_losses, re_lu_layer_call_fn, re_lu_1_layer_call_and_return_conditional_losses, re_lu_1_layer_call_fn, re_lu_2_layer_call_and_return_conditional_losses while saving (showing 5 of 180). These functions will not be directly callable after loading.\n"
     ]
    },
    {
     "name": "stdout",
     "output_type": "stream",
     "text": [
      "Epoch 15/100\n",
      "6/6 [==============================] - 6s 1s/step - loss: 0.4226 - dice_coef: 0.2129 - val_loss: 0.6273 - val_dice_coef: 0.1675\n"
     ]
    },
    {
     "name": "stderr",
     "output_type": "stream",
     "text": [
      "WARNING:absl:Found untraced functions such as re_lu_layer_call_and_return_conditional_losses, re_lu_layer_call_fn, re_lu_1_layer_call_and_return_conditional_losses, re_lu_1_layer_call_fn, re_lu_2_layer_call_and_return_conditional_losses while saving (showing 5 of 180). These functions will not be directly callable after loading.\n"
     ]
    },
    {
     "name": "stdout",
     "output_type": "stream",
     "text": [
      "Epoch 16/100\n",
      "6/6 [==============================] - 6s 1s/step - loss: 0.4221 - dice_coef: 0.2122 - val_loss: 0.6489 - val_dice_coef: 0.1636\n",
      "Epoch 17/100\n",
      "6/6 [==============================] - 6s 1s/step - loss: 0.4217 - dice_coef: 0.2126 - val_loss: 0.6519 - val_dice_coef: 0.1631\n",
      "Epoch 18/100\n",
      "6/6 [==============================] - 6s 1s/step - loss: 0.4213 - dice_coef: 0.2121 - val_loss: 0.6463 - val_dice_coef: 0.1640\n",
      "Epoch 19/100\n",
      "6/6 [==============================] - 6s 1s/step - loss: 0.4208 - dice_coef: 0.2140 - val_loss: 0.6415 - val_dice_coef: 0.1649\n",
      "Epoch 20/100\n",
      "6/6 [==============================] - 6s 998ms/step - loss: 0.4203 - dice_coef: 0.2127 - val_loss: 0.6444 - val_dice_coef: 0.1643\n",
      "Epoch 21/100\n",
      "6/6 [==============================] - 6s 997ms/step - loss: 0.4199 - dice_coef: 0.2128 - val_loss: 0.6465 - val_dice_coef: 0.1640\n",
      "Epoch 22/100\n",
      "6/6 [==============================] - 6s 1s/step - loss: 0.4195 - dice_coef: 0.2126 - val_loss: 0.6449 - val_dice_coef: 0.1642\n",
      "Epoch 23/100\n",
      "6/6 [==============================] - 6s 1s/step - loss: 0.4191 - dice_coef: 0.2130 - val_loss: 0.6455 - val_dice_coef: 0.1638\n",
      "Epoch 24/100\n",
      "6/6 [==============================] - 6s 993ms/step - loss: 0.4187 - dice_coef: 0.2137 - val_loss: 0.6433 - val_dice_coef: 0.1642\n",
      "Epoch 25/100\n",
      "6/6 [==============================] - 6s 991ms/step - loss: 0.4181 - dice_coef: 0.2136 - val_loss: 0.6389 - val_dice_coef: 0.1650\n",
      "Epoch 26/100\n",
      "6/6 [==============================] - 6s 984ms/step - loss: 0.4179 - dice_coef: 0.2118 - val_loss: 0.6348 - val_dice_coef: 0.1657\n",
      "Epoch 27/100\n",
      "6/6 [==============================] - 6s 999ms/step - loss: 0.4174 - dice_coef: 0.2133 - val_loss: 0.6191 - val_dice_coef: 0.1685\n"
     ]
    },
    {
     "name": "stderr",
     "output_type": "stream",
     "text": [
      "WARNING:absl:Found untraced functions such as re_lu_layer_call_and_return_conditional_losses, re_lu_layer_call_fn, re_lu_1_layer_call_and_return_conditional_losses, re_lu_1_layer_call_fn, re_lu_2_layer_call_and_return_conditional_losses while saving (showing 5 of 180). These functions will not be directly callable after loading.\n"
     ]
    },
    {
     "name": "stdout",
     "output_type": "stream",
     "text": [
      "Epoch 28/100\n",
      "6/6 [==============================] - 6s 1s/step - loss: 0.4169 - dice_coef: 0.2136 - val_loss: 0.6350 - val_dice_coef: 0.1657\n",
      "Epoch 29/100\n",
      "6/6 [==============================] - 6s 987ms/step - loss: 0.4166 - dice_coef: 0.2140 - val_loss: 0.6212 - val_dice_coef: 0.1681\n",
      "Epoch 30/100\n",
      "6/6 [==============================] - 6s 994ms/step - loss: 0.4161 - dice_coef: 0.2142 - val_loss: 0.6208 - val_dice_coef: 0.1679\n",
      "Epoch 31/100\n",
      "6/6 [==============================] - 6s 993ms/step - loss: 0.4158 - dice_coef: 0.2141 - val_loss: 0.6362 - val_dice_coef: 0.1651\n",
      "Epoch 32/100\n",
      "6/6 [==============================] - 6s 1s/step - loss: 0.4154 - dice_coef: 0.2137 - val_loss: 0.6327 - val_dice_coef: 0.1658\n",
      "Epoch 33/100\n",
      "6/6 [==============================] - 6s 981ms/step - loss: 0.4149 - dice_coef: 0.2133 - val_loss: 0.6342 - val_dice_coef: 0.1655\n",
      "Epoch 34/100\n",
      "6/6 [==============================] - 6s 992ms/step - loss: 0.4145 - dice_coef: 0.2149 - val_loss: 0.6368 - val_dice_coef: 0.1650\n",
      "Epoch 35/100\n",
      "6/6 [==============================] - 6s 980ms/step - loss: 0.4141 - dice_coef: 0.2144 - val_loss: 0.6339 - val_dice_coef: 0.1656\n",
      "Epoch 36/100\n",
      "6/6 [==============================] - 6s 1s/step - loss: 0.4139 - dice_coef: 0.2125 - val_loss: 0.6267 - val_dice_coef: 0.1667\n",
      "Epoch 37/100\n",
      "6/6 [==============================] - 6s 995ms/step - loss: 0.4134 - dice_coef: 0.2128 - val_loss: 0.6325 - val_dice_coef: 0.1657\n",
      "Epoch 38/100\n",
      "6/6 [==============================] - 6s 994ms/step - loss: 0.4130 - dice_coef: 0.2137 - val_loss: 0.6224 - val_dice_coef: 0.1675\n",
      "Epoch 39/100\n",
      "6/6 [==============================] - 6s 1s/step - loss: 0.4126 - dice_coef: 0.2141 - val_loss: 0.6295 - val_dice_coef: 0.1662\n",
      "Epoch 40/100\n",
      "6/6 [==============================] - 6s 1s/step - loss: 0.4122 - dice_coef: 0.2147 - val_loss: 0.6192 - val_dice_coef: 0.1680\n",
      "Epoch 41/100\n",
      "6/6 [==============================] - 6s 997ms/step - loss: 0.4118 - dice_coef: 0.2159 - val_loss: 0.6120 - val_dice_coef: 0.1694\n"
     ]
    },
    {
     "name": "stderr",
     "output_type": "stream",
     "text": [
      "WARNING:absl:Found untraced functions such as re_lu_layer_call_and_return_conditional_losses, re_lu_layer_call_fn, re_lu_1_layer_call_and_return_conditional_losses, re_lu_1_layer_call_fn, re_lu_2_layer_call_and_return_conditional_losses while saving (showing 5 of 180). These functions will not be directly callable after loading.\n"
     ]
    },
    {
     "name": "stdout",
     "output_type": "stream",
     "text": [
      "Epoch 42/100\n",
      "6/6 [==============================] - 6s 1s/step - loss: 0.4115 - dice_coef: 0.2139 - val_loss: 0.6077 - val_dice_coef: 0.1700\n"
     ]
    },
    {
     "name": "stderr",
     "output_type": "stream",
     "text": [
      "WARNING:absl:Found untraced functions such as re_lu_layer_call_and_return_conditional_losses, re_lu_layer_call_fn, re_lu_1_layer_call_and_return_conditional_losses, re_lu_1_layer_call_fn, re_lu_2_layer_call_and_return_conditional_losses while saving (showing 5 of 180). These functions will not be directly callable after loading.\n"
     ]
    },
    {
     "name": "stdout",
     "output_type": "stream",
     "text": [
      "Epoch 43/100\n",
      "6/6 [==============================] - 6s 1s/step - loss: 0.4112 - dice_coef: 0.2145 - val_loss: 0.6217 - val_dice_coef: 0.1673\n",
      "Epoch 44/100\n",
      "6/6 [==============================] - 6s 1s/step - loss: 0.4110 - dice_coef: 0.2140 - val_loss: 0.6131 - val_dice_coef: 0.1688\n",
      "Epoch 45/100\n",
      "6/6 [==============================] - 6s 996ms/step - loss: 0.4105 - dice_coef: 0.2142 - val_loss: 0.6193 - val_dice_coef: 0.1677\n",
      "Epoch 46/100\n",
      "6/6 [==============================] - 6s 994ms/step - loss: 0.4101 - dice_coef: 0.2148 - val_loss: 0.6275 - val_dice_coef: 0.1662\n",
      "Epoch 47/100\n",
      "6/6 [==============================] - 6s 991ms/step - loss: 0.4096 - dice_coef: 0.2149 - val_loss: 0.6015 - val_dice_coef: 0.1710\n"
     ]
    },
    {
     "name": "stderr",
     "output_type": "stream",
     "text": [
      "WARNING:absl:Found untraced functions such as re_lu_layer_call_and_return_conditional_losses, re_lu_layer_call_fn, re_lu_1_layer_call_and_return_conditional_losses, re_lu_1_layer_call_fn, re_lu_2_layer_call_and_return_conditional_losses while saving (showing 5 of 180). These functions will not be directly callable after loading.\n"
     ]
    },
    {
     "name": "stdout",
     "output_type": "stream",
     "text": [
      "Epoch 48/100\n",
      "6/6 [==============================] - 6s 1s/step - loss: 0.4093 - dice_coef: 0.2148 - val_loss: 0.5926 - val_dice_coef: 0.1726\n"
     ]
    },
    {
     "name": "stderr",
     "output_type": "stream",
     "text": [
      "WARNING:absl:Found untraced functions such as re_lu_layer_call_and_return_conditional_losses, re_lu_layer_call_fn, re_lu_1_layer_call_and_return_conditional_losses, re_lu_1_layer_call_fn, re_lu_2_layer_call_and_return_conditional_losses while saving (showing 5 of 180). These functions will not be directly callable after loading.\n"
     ]
    },
    {
     "name": "stdout",
     "output_type": "stream",
     "text": [
      "Epoch 49/100\n",
      "6/6 [==============================] - 6s 1s/step - loss: 0.4089 - dice_coef: 0.2151 - val_loss: 0.6017 - val_dice_coef: 0.1709\n",
      "Epoch 50/100\n",
      "6/6 [==============================] - 6s 1s/step - loss: 0.4085 - dice_coef: 0.2158 - val_loss: 0.5838 - val_dice_coef: 0.1743\n"
     ]
    },
    {
     "name": "stderr",
     "output_type": "stream",
     "text": [
      "WARNING:absl:Found untraced functions such as re_lu_layer_call_and_return_conditional_losses, re_lu_layer_call_fn, re_lu_1_layer_call_and_return_conditional_losses, re_lu_1_layer_call_fn, re_lu_2_layer_call_and_return_conditional_losses while saving (showing 5 of 180). These functions will not be directly callable after loading.\n"
     ]
    },
    {
     "name": "stdout",
     "output_type": "stream",
     "text": [
      "Epoch 51/100\n",
      "6/6 [==============================] - 6s 1s/step - loss: 0.4082 - dice_coef: 0.2145 - val_loss: 0.5571 - val_dice_coef: 0.1796\n"
     ]
    },
    {
     "name": "stderr",
     "output_type": "stream",
     "text": [
      "WARNING:absl:Found untraced functions such as re_lu_layer_call_and_return_conditional_losses, re_lu_layer_call_fn, re_lu_1_layer_call_and_return_conditional_losses, re_lu_1_layer_call_fn, re_lu_2_layer_call_and_return_conditional_losses while saving (showing 5 of 180). These functions will not be directly callable after loading.\n"
     ]
    },
    {
     "name": "stdout",
     "output_type": "stream",
     "text": [
      "Epoch 52/100\n",
      "6/6 [==============================] - 6s 1s/step - loss: 0.4079 - dice_coef: 0.2152 - val_loss: 0.5854 - val_dice_coef: 0.1740\n",
      "Epoch 53/100\n",
      "6/6 [==============================] - 6s 988ms/step - loss: 0.4075 - dice_coef: 0.2161 - val_loss: 0.5942 - val_dice_coef: 0.1722\n",
      "Epoch 54/100\n",
      "6/6 [==============================] - 6s 985ms/step - loss: 0.4071 - dice_coef: 0.2158 - val_loss: 0.5842 - val_dice_coef: 0.1742\n",
      "Epoch 55/100\n",
      "6/6 [==============================] - 6s 980ms/step - loss: 0.4067 - dice_coef: 0.2162 - val_loss: 0.5831 - val_dice_coef: 0.1741\n",
      "Epoch 56/100\n",
      "6/6 [==============================] - 6s 1s/step - loss: 0.4064 - dice_coef: 0.2158 - val_loss: 0.5838 - val_dice_coef: 0.1740\n",
      "Epoch 57/100\n",
      "6/6 [==============================] - 6s 1s/step - loss: 0.4062 - dice_coef: 0.2159 - val_loss: 0.6067 - val_dice_coef: 0.1696\n",
      "Epoch 58/100\n",
      "6/6 [==============================] - 6s 986ms/step - loss: 0.4059 - dice_coef: 0.2157 - val_loss: 0.6244 - val_dice_coef: 0.1664\n",
      "Epoch 59/100\n",
      "6/6 [==============================] - 6s 982ms/step - loss: 0.4054 - dice_coef: 0.2163 - val_loss: 0.6060 - val_dice_coef: 0.1697\n",
      "Epoch 60/100\n",
      "6/6 [==============================] - 6s 993ms/step - loss: 0.4048 - dice_coef: 0.2159 - val_loss: 0.5973 - val_dice_coef: 0.1713\n",
      "Epoch 61/100\n",
      "6/6 [==============================] - 6s 994ms/step - loss: 0.4045 - dice_coef: 0.2166 - val_loss: 0.6075 - val_dice_coef: 0.1694\n",
      "Epoch 62/100\n",
      "6/6 [==============================] - 6s 988ms/step - loss: 0.4043 - dice_coef: 0.2156 - val_loss: 0.5959 - val_dice_coef: 0.1713\n",
      "Epoch 63/100\n",
      "6/6 [==============================] - 6s 988ms/step - loss: 0.4040 - dice_coef: 0.2164 - val_loss: 0.5886 - val_dice_coef: 0.1727\n",
      "Epoch 64/100\n",
      "6/6 [==============================] - 6s 995ms/step - loss: 0.4036 - dice_coef: 0.2170 - val_loss: 0.5868 - val_dice_coef: 0.1730\n",
      "Epoch 65/100\n",
      "6/6 [==============================] - 6s 1s/step - loss: 0.4032 - dice_coef: 0.2161 - val_loss: 0.5826 - val_dice_coef: 0.1739\n",
      "Epoch 66/100\n",
      "6/6 [==============================] - 6s 1s/step - loss: 0.4030 - dice_coef: 0.2162 - val_loss: 0.5888 - val_dice_coef: 0.1726\n",
      "Epoch 67/100\n",
      "6/6 [==============================] - 6s 1s/step - loss: 0.4026 - dice_coef: 0.2168 - val_loss: 0.5976 - val_dice_coef: 0.1710\n",
      "Epoch 68/100\n",
      "6/6 [==============================] - 6s 997ms/step - loss: 0.4022 - dice_coef: 0.2170 - val_loss: 0.6045 - val_dice_coef: 0.1695\n",
      "Epoch 69/100\n",
      "6/6 [==============================] - 6s 981ms/step - loss: 0.4018 - dice_coef: 0.2177 - val_loss: 0.5903 - val_dice_coef: 0.1722\n",
      "Epoch 70/100\n",
      "6/6 [==============================] - 6s 970ms/step - loss: 0.4016 - dice_coef: 0.2164 - val_loss: 0.5844 - val_dice_coef: 0.1732\n",
      "Epoch 71/100\n",
      "6/6 [==============================] - 6s 965ms/step - loss: 0.4014 - dice_coef: 0.2169 - val_loss: 0.5964 - val_dice_coef: 0.1709\n",
      "Epoch 72/100\n",
      "6/6 [==============================] - 6s 990ms/step - loss: 0.4009 - dice_coef: 0.2171 - val_loss: 0.5882 - val_dice_coef: 0.1725\n",
      "Epoch 73/100\n",
      "6/6 [==============================] - 6s 984ms/step - loss: 0.4005 - dice_coef: 0.2178 - val_loss: 0.5700 - val_dice_coef: 0.1761\n",
      "Epoch 74/100\n",
      "6/6 [==============================] - 6s 1s/step - loss: 0.4001 - dice_coef: 0.2170 - val_loss: 0.5520 - val_dice_coef: 0.1798\n"
     ]
    },
    {
     "name": "stderr",
     "output_type": "stream",
     "text": [
      "WARNING:absl:Found untraced functions such as re_lu_layer_call_and_return_conditional_losses, re_lu_layer_call_fn, re_lu_1_layer_call_and_return_conditional_losses, re_lu_1_layer_call_fn, re_lu_2_layer_call_and_return_conditional_losses while saving (showing 5 of 180). These functions will not be directly callable after loading.\n"
     ]
    },
    {
     "name": "stdout",
     "output_type": "stream",
     "text": [
      "Epoch 75/100\n",
      "6/6 [==============================] - 6s 1s/step - loss: 0.3999 - dice_coef: 0.2169 - val_loss: 0.5614 - val_dice_coef: 0.1777\n",
      "Epoch 76/100\n",
      "6/6 [==============================] - 6s 1s/step - loss: 0.3996 - dice_coef: 0.2167 - val_loss: 0.5575 - val_dice_coef: 0.1783\n",
      "Epoch 77/100\n",
      "6/6 [==============================] - 6s 1s/step - loss: 0.3993 - dice_coef: 0.2179 - val_loss: 0.5619 - val_dice_coef: 0.1774\n",
      "Epoch 78/100\n",
      "6/6 [==============================] - 6s 1s/step - loss: 0.3988 - dice_coef: 0.2176 - val_loss: 0.5487 - val_dice_coef: 0.1801\n"
     ]
    },
    {
     "name": "stderr",
     "output_type": "stream",
     "text": [
      "WARNING:absl:Found untraced functions such as re_lu_layer_call_and_return_conditional_losses, re_lu_layer_call_fn, re_lu_1_layer_call_and_return_conditional_losses, re_lu_1_layer_call_fn, re_lu_2_layer_call_and_return_conditional_losses while saving (showing 5 of 180). These functions will not be directly callable after loading.\n"
     ]
    },
    {
     "name": "stdout",
     "output_type": "stream",
     "text": [
      "Epoch 79/100\n",
      "6/6 [==============================] - 6s 1s/step - loss: 0.3986 - dice_coef: 0.2173 - val_loss: 0.5560 - val_dice_coef: 0.1786\n",
      "Epoch 80/100\n",
      "6/6 [==============================] - 6s 1s/step - loss: 0.3983 - dice_coef: 0.2181 - val_loss: 0.5613 - val_dice_coef: 0.1775\n",
      "Epoch 81/100\n",
      "6/6 [==============================] - 6s 1s/step - loss: 0.3979 - dice_coef: 0.2167 - val_loss: 0.5568 - val_dice_coef: 0.1785\n",
      "Epoch 82/100\n",
      "6/6 [==============================] - 6s 998ms/step - loss: 0.3976 - dice_coef: 0.2183 - val_loss: 0.5678 - val_dice_coef: 0.1762\n",
      "Epoch 83/100\n",
      "6/6 [==============================] - 6s 1s/step - loss: 0.3972 - dice_coef: 0.2173 - val_loss: 0.5977 - val_dice_coef: 0.1700\n",
      "Epoch 84/100\n",
      "6/6 [==============================] - 6s 1s/step - loss: 0.3970 - dice_coef: 0.2179 - val_loss: 0.5839 - val_dice_coef: 0.1727\n",
      "Epoch 85/100\n",
      "6/6 [==============================] - 6s 1s/step - loss: 0.3965 - dice_coef: 0.2188 - val_loss: 0.5913 - val_dice_coef: 0.1713\n",
      "Epoch 86/100\n",
      "6/6 [==============================] - 6s 1s/step - loss: 0.3963 - dice_coef: 0.2172 - val_loss: 0.5797 - val_dice_coef: 0.1735\n",
      "Epoch 87/100\n",
      "6/6 [==============================] - 6s 1s/step - loss: 0.3960 - dice_coef: 0.2186 - val_loss: 0.5721 - val_dice_coef: 0.1751\n",
      "Epoch 88/100\n",
      "6/6 [==============================] - 6s 1s/step - loss: 0.3957 - dice_coef: 0.2176 - val_loss: 0.5854 - val_dice_coef: 0.1724\n",
      "Epoch 89/100\n",
      "6/6 [==============================] - 6s 1s/step - loss: 0.3953 - dice_coef: 0.2188 - val_loss: 0.5776 - val_dice_coef: 0.1740\n",
      "Epoch 90/100\n",
      "6/6 [==============================] - 6s 1s/step - loss: 0.3951 - dice_coef: 0.2186 - val_loss: 0.5694 - val_dice_coef: 0.1753\n",
      "Epoch 91/100\n",
      "6/6 [==============================] - 6s 1s/step - loss: 0.3949 - dice_coef: 0.2187 - val_loss: 0.5709 - val_dice_coef: 0.1750\n",
      "Epoch 92/100\n",
      "6/6 [==============================] - 6s 999ms/step - loss: 0.3943 - dice_coef: 0.2190 - val_loss: 0.5737 - val_dice_coef: 0.1745\n",
      "Epoch 93/100\n",
      "6/6 [==============================] - 6s 986ms/step - loss: 0.3941 - dice_coef: 0.2185 - val_loss: 0.5741 - val_dice_coef: 0.1744\n",
      "Epoch 94/100\n",
      "6/6 [==============================] - 6s 1s/step - loss: 0.3937 - dice_coef: 0.2189 - val_loss: 0.5582 - val_dice_coef: 0.1776\n",
      "Epoch 95/100\n",
      "6/6 [==============================] - 6s 1s/step - loss: 0.3934 - dice_coef: 0.2189 - val_loss: 0.5623 - val_dice_coef: 0.1767\n",
      "Epoch 96/100\n",
      "6/6 [==============================] - 6s 1s/step - loss: 0.3932 - dice_coef: 0.2189 - val_loss: 0.5533 - val_dice_coef: 0.1785\n",
      "Epoch 97/100\n",
      "6/6 [==============================] - 6s 1s/step - loss: 0.3930 - dice_coef: 0.2196 - val_loss: 0.5565 - val_dice_coef: 0.1778\n",
      "Epoch 98/100\n",
      "6/6 [==============================] - 6s 1s/step - loss: 0.3925 - dice_coef: 0.2199 - val_loss: 0.5642 - val_dice_coef: 0.1762\n",
      "Epoch 99/100\n",
      "6/6 [==============================] - 6s 991ms/step - loss: 0.3923 - dice_coef: 0.2190 - val_loss: 0.5851 - val_dice_coef: 0.1720\n",
      "Epoch 100/100\n",
      "6/6 [==============================] - 6s 1s/step - loss: 0.3918 - dice_coef: 0.2206 - val_loss: 0.5714 - val_dice_coef: 0.1748\n",
      "Model saved to: /tmp/tmpu9j0u1irGP2/unetplus_2unetplus_model\n",
      "History saved to: /tmp/tmpu9j0u1irGP2/unetplut_history_2.pkl\n",
      "Testing the classifier...\n",
      "Testing the discriminator...\n",
      "10/10 [==============================] - 0s 18ms/step - loss: 0.0000e+00 - accuracy: 1.0000\n",
      "Found 160 machine labels.\n",
      "Machine labels [  2   3   6   7   8  10  11  13  15  16  23  24  25  26  28  30  33  34\n",
      "  35  36  37  39  40  41  43  44  45  46  47  48  50  51  52  55  56  57\n",
      "  59  60  61  62  68  69  71  72  75  77  80  83  86  87  90  92  95  98\n",
      " 102 103 104 105 108 109 110 111 112 113 114 116 117 123 124 125 126 127\n",
      " 130 131 135 137 139 140 141 143 144 145 147 148 150 151 153 156 157 158\n",
      " 161 165 167 169 172 173 175 178 180 183 184 185 186 192 194 195 199 200\n",
      " 201 202 205 207 208 209 210 211 212 213 217 218 219 222 223 226 227 228\n",
      " 229 231 235 236 238 239 241 243 244 248 249 252 253 255 256 259 260 261\n",
      " 262 263 265 266 267 268 274 275 279 280 282 288 289 290 291 295]\n",
      "D_ids ['a614c099-24e4-4045-a683-d34e2ec86a2d', '7bad37d0-9fff-441f-814b-7a71786dccf0', '2314a1ea-914b-4750-9730-e933d69008e1', '02a7c6c3-b5b0-4dc7-a261-fe11c5acfefe', '84aa05d2-77fc-43d2-b36a-9b3129b224fe', 'd1db050e-f588-4cfc-92f4-d10cca6e9a9d', '71b47a8b-f3db-464e-a7f9-e4aad8cbea8f', 'b295033b-27aa-4b3e-85a3-fe82094ef701', '7e76e0e7-1663-443e-82aa-1bae1487f08b', '90f49ec5-702d-4c69-b83a-f857c0216e4e', '90eca982-2d90-4b1a-a0d9-d9614cdd83d3', '4b4b5f95-1377-4308-a9bb-0419f5617597', '82543589-7b27-4eee-9bcb-68f75866f8bf', 'ced06c34-c5b2-4574-865a-e91ea9ddc46b', '9131e349-fee2-4823-814d-80615c052beb', '79043cbf-fad3-4d65-9471-0a91b83ebbf9', '30964a91-2108-4505-83c1-963e5efe7601', 'bbac07d5-bff2-47a9-8e3d-1fd77c0221a7', '4a3e110c-495b-4a0b-aee9-49de3cd6bf24', '6c9acbb1-245c-4218-b5dd-8f63f20dff33', '1d8e6308-8b8f-4528-9180-bfe463254b85', '3c46f5af-5667-4f94-bf42-6fa5aecc4d31', 'd1f4e919-69b1-4af0-b30d-9cedd3f554a9', 'd07fbb91-0a88-457e-a779-e4dbe3870fc7', 'd90f7c2c-c298-4f5b-b6b7-995c18a9523d', '8c0fc84f-4084-46dc-95b6-677a888bf297', '898097df-ac11-422d-bcd7-c77f3506d12a', 'ab16220a-095e-4405-a75b-a96a05fbc4c4', '48808249-b789-4bd7-80e7-3f97f48062bb', 'a8310300-3175-4609-b446-e16926527c0a', 'e0cab890-2ff1-4a53-b1fa-b04a04205e5f', '549cb56b-5690-4ff0-b378-26d74b40b026', '135e14d4-85cb-49af-9f87-3b2552b0a95a', '0f509512-45fa-4b9d-bfe2-204942cd33fe', '95efea11-f421-4cc8-a6a8-f3065c3113f7', 'ec6f325a-114b-4e3e-8b2a-671125599cb8', 'd7ccb3e3-8aa0-4001-877e-e1d3af71121e', 'b9b7c2aa-51e5-46bc-a089-a77e0db37f74', '3f654d2d-c0d2-41e0-bc88-20684e47dfb2', 'f6bbd91f-189d-475b-87f8-2bbce35b1bf5', '812e3592-bafe-460d-87f7-33fbec1bad83', 'abfe9d2d-3a3e-4579-a8cf-6fdad9c75da4', '4b183bae-14b7-4722-b334-ae0503448ddd', '09ae622d-df0b-4c95-acb0-684bbf1a8397', 'c9308db6-9651-4e93-8a4f-f3888fd2df86', 'b1df4ec5-74bb-4737-9553-db634a7c8c6f', '83a47a38-c0b2-44ee-94c1-6621fd7b0604', 'c6e90e14-4fa7-4c4e-aba8-6c379de4a655', '97fc7cb5-8745-4f97-a160-7dda40bd3baf', 'c86079bf-a698-42a8-8c91-45c4479a99f1', 'fe5fc3fa-71e5-435f-9ac2-6b9d1956efa6', '8f443b81-e907-4c45-9e4d-c30242f0b6f5', 'b63f4dae-eff4-4260-90bf-335a1c169a65', 'a621ba2e-bc96-41f8-bae6-d83f22792734', 'c374ff48-bb72-4ac5-b985-1ee9a0545a52', '95b2c15d-5e21-4f0f-93f9-4db660649016', '1dd715ff-3d8d-423c-826e-51efe320dde3', '8dec0f1c-df4f-4ab8-a77e-83e7a4b198f7', 'ca77aeb7-468c-448a-a23e-e4b074d82cba', '0f49d63b-829e-4eb1-a09a-a98b6110f9f2', '163fca8c-813d-44f3-b8a9-159fd8aa496e', 'cf652282-3701-4389-82ab-09ec71459f23', '6aa646a1-c3fb-4c7a-8aa1-5ca037f7728d', '48b5ee10-5188-4606-ade7-2c3e19eec520', '85d290b3-ad48-4f8b-a6d3-9fd4ef4052b9', '50b593cf-9f86-409a-9c52-a145f8c52d65', '8b2e7714-bbf0-4e5f-875a-8785d81e5c42', 'dcefb3c0-8fb8-4e86-9b1e-5aef5ead90d1', '8c7af07c-a3e7-40cf-89df-b5e64cb4877b', '780c8c99-5a31-4a1f-9632-89380fafcf59', 'b3767c16-2efb-43e1-83f2-83a8b30a80b6', 'c4cd80e6-27e4-4690-bb44-d28b4cca076c', '03b8e415-9718-44e3-bd21-7ef7809b6669', 'a3c8293e-0e88-4f3a-a903-24351a6afd07', '6ae38eb7-2425-4a0f-ba32-f6b106b2e325', 'd44fb36d-81c1-4b89-ba9a-31c82be0ddd0', '9bbdb49d-5c70-4053-8f0a-70c4a203951c', '2b49dfdf-8e77-4874-b81e-4121458170aa', '524cad10-fb25-46cc-8fe2-62f38fa683d9', 'fd1bb7f4-4d50-4c5a-8706-459e6738c887', '683a26d4-2804-4671-a4c9-ae25831bde15', '985f441d-68c4-423e-b54d-4efdb3e21210', '19522ab3-5c4f-4020-a5a0-923cd51d2f1e', '5644e77a-ea38-4f9e-95d5-7d20262d4157', '18b60874-2bb2-44b2-9ebd-285eebb1e1d4', '9d14fe64-f41c-44f4-b719-f651dad32ed3', 'd79cca1f-e609-4954-a479-71e227f57ef5', '9769408a-6a76-44b2-afae-f6a4e4c977a1', '2a0240a8-a74d-4fa1-b733-2266fc0d1892', '21278133-e54b-4f9d-9ca1-57ecbae57a8f', '51361601-0162-4830-8edc-25c70e9c4993', '78988f20-a86b-4802-9df4-e9d150c048d6', '8db91e19-aedb-4aca-a085-3b5c3a1e2d1d', '75ed094e-b8f3-4f41-9e7c-bc61f113b474', '6757d13f-6f78-4bcb-9554-c5cd105d3911', '0296f34b-8a2a-474b-84e2-d9fe085faef5', 'cdc496bd-2942-4370-a979-5980ecc55d0f', '8b1285b0-f8f5-4a74-a4f6-aee6c000a04c', 'ff04dc28-b8e9-4357-a3a1-b663fd073027', '81d3cb27-b814-48e4-818e-f9eb8b1ea49b', '5174bd7c-c473-4c58-b749-efe59911d1bd', 'e2fde37b-61df-42b1-b34c-8cd5631d89c6', 'bd1624cb-acc4-4f43-a6c3-72ded487f7cf', 'd55b4829-1e1d-42ba-a8f5-e1b11aa0219e', '54efbbb6-a5ba-4826-b856-7e51cf7ea144', 'a724534b-ec05-4bdf-b8f9-193ed4ea2f5b', '84195b70-4c7d-477b-b18a-1803d0834975', 'af931ea4-237c-4bef-935b-2138f0868e1f', 'bdb84ed0-120c-4860-8753-9abc0516b705', '4768bdfb-1b92-4f19-85ab-e5599a0f3b65', '399651c6-6900-456a-bfb9-fcd95bd1befd', '49ca10aa-3938-4b47-96a0-4805a07e5ed8', '9be12eea-d8cd-49c5-9a78-da6e4bbf8fee', '2c577a0d-81a4-4b49-ac28-324876b0e283', 'e2bcfb49-59b3-4ce5-80a4-d46bdccbac2b', 'aec80b24-8f57-4755-a22f-91c6dab14ae5', '1dcc2e3d-32c7-4d4e-a6f3-48c22c71d42d', 'e2b2b5a2-4673-4b2d-b8c6-b8a953c871c2', '5fcf8c48-7331-43c8-a940-220af8a0132d', '5c914ec9-15ac-4970-8c30-808be94f4c9b', 'aa04640f-409c-4a75-968e-5d4c2b5e2dab', '426da712-a382-493a-b757-f210cafa7132', 'a5831f4e-29c6-4106-bded-86466be34407', '79c01032-5c79-4f63-a2cb-0a98eea23973', 'a3769447-0aa8-4d5d-8b9f-b64f04da7510', 'd2268c9a-fb72-4a43-b5fd-e66eb2d6a2c8', 'cf399783-9220-4ca7-ad33-a231967a7229', '8ac32f84-3037-4c02-924e-fdf87e1a5dc8', '6785cb43-581d-4277-991c-af0b573f2552', 'c6169299-cdcf-40dd-85d0-ed7d97dbc289', 'e7bc6f4d-4585-465c-9557-765f349dc63e', '29171ce7-3725-462d-bed8-f533f7c64cb7', 'dc2a4583-1231-46c2-a540-8f0f1e6a9854', 'df92889e-7515-407f-a3e4-df29594fa04a', '474ca62c-f566-4327-841c-2839344e33fe', '7c224050-4b5b-4695-b130-c2fcdbec4cb4', '7c170688-ff89-475c-a531-d9ea5a544eb1', 'c024610e-0b70-4e1e-947d-3b990ad22f8b', '927032ec-8988-4b22-93ad-5300d759a231', '51fc3b62-92ab-4e5d-958c-15f43bcaabf4', 'e7801e15-dc56-41b5-8ef4-fed87577fe33', '30ca99be-5f9c-4c09-bd71-c7c5b6181795', '5896069a-46f8-4705-a894-5ef16874b111', 'fb969d71-a76f-4782-bd80-4be0ab1f36bb', '540beb6a-d47d-4f03-bc75-a5099429e128', '89d24f17-ba11-4223-8a8a-b4a48fc430bc', '41d693a2-9741-4a3e-a9c3-14e2394e1242', '810f2a28-d140-46e8-8541-515f45b0a63d', '0feed036-2403-4738-81d5-0012146582b0', 'aef8dcf3-e4b9-46f5-9837-d2d8d9a0b2c0', 'bd2588e9-e25c-400e-ad9a-0815f907a5b7', '123d3a29-985e-4f2d-ac6f-a6de58aabdde', '8ea10440-1dd1-49c1-b143-ddf373ebef48', '6ea346a8-1723-4c09-b1bb-4526e68dd3a6', '22c08d7e-848c-4a39-9e1e-bb87db5b5765', 'dd3b1eb7-d405-4a89-b284-71748f02bd7c', 'a525a05d-864d-420c-8954-53a41c821c1c', '4b11c845-44f6-4173-9d8c-a3634c2aaefa', '86bb2c8a-e635-4368-9141-1320d4ad0008', '43fa8cc8-ef90-4b53-8083-d7531e475ff0']\n"
     ]
    },
    {
     "name": "stdout",
     "output_type": "stream",
     "text": [
      "Replacing 53 from 160 !\n",
      "D_relabeled_ 53\n",
      "selected_ids ['1dd715ff-3d8d-423c-826e-51efe320dde3', 'bbac07d5-bff2-47a9-8e3d-1fd77c0221a7', '8c0fc84f-4084-46dc-95b6-677a888bf297', 'bdb84ed0-120c-4860-8753-9abc0516b705', '21278133-e54b-4f9d-9ca1-57ecbae57a8f', '02a7c6c3-b5b0-4dc7-a261-fe11c5acfefe', '4768bdfb-1b92-4f19-85ab-e5599a0f3b65', '810f2a28-d140-46e8-8541-515f45b0a63d', '6757d13f-6f78-4bcb-9554-c5cd105d3911', 'cdc496bd-2942-4370-a979-5980ecc55d0f', '1d8e6308-8b8f-4528-9180-bfe463254b85', '50b593cf-9f86-409a-9c52-a145f8c52d65', '85d290b3-ad48-4f8b-a6d3-9fd4ef4052b9', '84195b70-4c7d-477b-b18a-1803d0834975', 'b9b7c2aa-51e5-46bc-a089-a77e0db37f74', 'd79cca1f-e609-4954-a479-71e227f57ef5', '5fcf8c48-7331-43c8-a940-220af8a0132d', '09ae622d-df0b-4c95-acb0-684bbf1a8397', '985f441d-68c4-423e-b54d-4efdb3e21210', '8c7af07c-a3e7-40cf-89df-b5e64cb4877b', 'b1df4ec5-74bb-4737-9553-db634a7c8c6f', 'aef8dcf3-e4b9-46f5-9837-d2d8d9a0b2c0', '83a47a38-c0b2-44ee-94c1-6621fd7b0604', 'e0cab890-2ff1-4a53-b1fa-b04a04205e5f', 'ced06c34-c5b2-4574-865a-e91ea9ddc46b', 'd55b4829-1e1d-42ba-a8f5-e1b11aa0219e', '6c9acbb1-245c-4218-b5dd-8f63f20dff33', '927032ec-8988-4b22-93ad-5300d759a231', 'd1db050e-f588-4cfc-92f4-d10cca6e9a9d', '5644e77a-ea38-4f9e-95d5-7d20262d4157', '5c914ec9-15ac-4970-8c30-808be94f4c9b', 'a614c099-24e4-4045-a683-d34e2ec86a2d', 'bd2588e9-e25c-400e-ad9a-0815f907a5b7', 'fd1bb7f4-4d50-4c5a-8706-459e6738c887', '9131e349-fee2-4823-814d-80615c052beb', 'a724534b-ec05-4bdf-b8f9-193ed4ea2f5b', '0feed036-2403-4738-81d5-0012146582b0', 'dc2a4583-1231-46c2-a540-8f0f1e6a9854', '549cb56b-5690-4ff0-b378-26d74b40b026', '95b2c15d-5e21-4f0f-93f9-4db660649016', 'b295033b-27aa-4b3e-85a3-fe82094ef701', '6ea346a8-1723-4c09-b1bb-4526e68dd3a6', '0f509512-45fa-4b9d-bfe2-204942cd33fe', '0296f34b-8a2a-474b-84e2-d9fe085faef5', 'e2bcfb49-59b3-4ce5-80a4-d46bdccbac2b', 'c4cd80e6-27e4-4690-bb44-d28b4cca076c', '6ae38eb7-2425-4a0f-ba32-f6b106b2e325', '4a3e110c-495b-4a0b-aee9-49de3cd6bf24', '41d693a2-9741-4a3e-a9c3-14e2394e1242', '48b5ee10-5188-4606-ade7-2c3e19eec520', 'aa04640f-409c-4a75-968e-5d4c2b5e2dab', '4b4b5f95-1377-4308-a9bb-0419f5617597', '49ca10aa-3938-4b47-96a0-4805a07e5ed8']\n",
      "dict_keys(['1dd715ff-3d8d-423c-826e-51efe320dde3', 'bbac07d5-bff2-47a9-8e3d-1fd77c0221a7', '8c0fc84f-4084-46dc-95b6-677a888bf297', 'bdb84ed0-120c-4860-8753-9abc0516b705', '21278133-e54b-4f9d-9ca1-57ecbae57a8f', '02a7c6c3-b5b0-4dc7-a261-fe11c5acfefe', '4768bdfb-1b92-4f19-85ab-e5599a0f3b65', '810f2a28-d140-46e8-8541-515f45b0a63d', '6757d13f-6f78-4bcb-9554-c5cd105d3911', 'cdc496bd-2942-4370-a979-5980ecc55d0f', '1d8e6308-8b8f-4528-9180-bfe463254b85', '50b593cf-9f86-409a-9c52-a145f8c52d65', '85d290b3-ad48-4f8b-a6d3-9fd4ef4052b9', '84195b70-4c7d-477b-b18a-1803d0834975', 'b9b7c2aa-51e5-46bc-a089-a77e0db37f74', 'd79cca1f-e609-4954-a479-71e227f57ef5', '5fcf8c48-7331-43c8-a940-220af8a0132d', '09ae622d-df0b-4c95-acb0-684bbf1a8397', '985f441d-68c4-423e-b54d-4efdb3e21210', '8c7af07c-a3e7-40cf-89df-b5e64cb4877b', 'b1df4ec5-74bb-4737-9553-db634a7c8c6f', 'aef8dcf3-e4b9-46f5-9837-d2d8d9a0b2c0', '83a47a38-c0b2-44ee-94c1-6621fd7b0604', 'e0cab890-2ff1-4a53-b1fa-b04a04205e5f', 'ced06c34-c5b2-4574-865a-e91ea9ddc46b', 'd55b4829-1e1d-42ba-a8f5-e1b11aa0219e', '6c9acbb1-245c-4218-b5dd-8f63f20dff33', '927032ec-8988-4b22-93ad-5300d759a231', 'd1db050e-f588-4cfc-92f4-d10cca6e9a9d', '5644e77a-ea38-4f9e-95d5-7d20262d4157', '5c914ec9-15ac-4970-8c30-808be94f4c9b', 'a614c099-24e4-4045-a683-d34e2ec86a2d', 'bd2588e9-e25c-400e-ad9a-0815f907a5b7', 'fd1bb7f4-4d50-4c5a-8706-459e6738c887', '9131e349-fee2-4823-814d-80615c052beb', 'a724534b-ec05-4bdf-b8f9-193ed4ea2f5b', '0feed036-2403-4738-81d5-0012146582b0', 'dc2a4583-1231-46c2-a540-8f0f1e6a9854', '549cb56b-5690-4ff0-b378-26d74b40b026', '95b2c15d-5e21-4f0f-93f9-4db660649016', 'b295033b-27aa-4b3e-85a3-fe82094ef701', '6ea346a8-1723-4c09-b1bb-4526e68dd3a6', '0f509512-45fa-4b9d-bfe2-204942cd33fe', '0296f34b-8a2a-474b-84e2-d9fe085faef5', 'e2bcfb49-59b3-4ce5-80a4-d46bdccbac2b', 'c4cd80e6-27e4-4690-bb44-d28b4cca076c', '6ae38eb7-2425-4a0f-ba32-f6b106b2e325', '4a3e110c-495b-4a0b-aee9-49de3cd6bf24', '41d693a2-9741-4a3e-a9c3-14e2394e1242', '48b5ee10-5188-4606-ade7-2c3e19eec520', 'aa04640f-409c-4a75-968e-5d4c2b5e2dab', '4b4b5f95-1377-4308-a9bb-0419f5617597', '49ca10aa-3938-4b47-96a0-4805a07e5ed8'])\n",
      "point ids 53\n",
      "Removed: 53 Filled: 53\n",
      "TOOK 833.2193040847778 seconds\n",
      "==== DONE LOOP 2 ====\n",
      "******\n",
      "Loop 3\n",
      "Epoch 1/100\n",
      "7/7 [==============================] - 8s 1s/step - loss: 0.3917 - dice_coef: 0.2216 - val_loss: 0.5880 - val_dice_coef: 0.1713\n"
     ]
    },
    {
     "name": "stderr",
     "output_type": "stream",
     "text": [
      "WARNING:absl:Found untraced functions such as re_lu_layer_call_and_return_conditional_losses, re_lu_layer_call_fn, re_lu_1_layer_call_and_return_conditional_losses, re_lu_1_layer_call_fn, re_lu_2_layer_call_and_return_conditional_losses while saving (showing 5 of 180). These functions will not be directly callable after loading.\n"
     ]
    },
    {
     "name": "stdout",
     "output_type": "stream",
     "text": [
      "Epoch 2/100\n",
      "7/7 [==============================] - 6s 931ms/step - loss: 0.3915 - dice_coef: 0.2195 - val_loss: 0.5934 - val_dice_coef: 0.1703\n",
      "Epoch 3/100\n",
      "7/7 [==============================] - 6s 937ms/step - loss: 0.3914 - dice_coef: 0.2198 - val_loss: 0.6065 - val_dice_coef: 0.1678\n",
      "Epoch 4/100\n",
      "7/7 [==============================] - 6s 945ms/step - loss: 0.3909 - dice_coef: 0.2216 - val_loss: 0.5966 - val_dice_coef: 0.1697\n",
      "Epoch 5/100\n",
      "7/7 [==============================] - 6s 930ms/step - loss: 0.3907 - dice_coef: 0.2206 - val_loss: 0.5672 - val_dice_coef: 0.1754\n"
     ]
    },
    {
     "name": "stderr",
     "output_type": "stream",
     "text": [
      "WARNING:absl:Found untraced functions such as re_lu_layer_call_and_return_conditional_losses, re_lu_layer_call_fn, re_lu_1_layer_call_and_return_conditional_losses, re_lu_1_layer_call_fn, re_lu_2_layer_call_and_return_conditional_losses while saving (showing 5 of 180). These functions will not be directly callable after loading.\n"
     ]
    },
    {
     "name": "stdout",
     "output_type": "stream",
     "text": [
      "Epoch 6/100\n",
      "7/7 [==============================] - 7s 976ms/step - loss: 0.3902 - dice_coef: 0.2186 - val_loss: 0.5462 - val_dice_coef: 0.1798\n"
     ]
    },
    {
     "name": "stderr",
     "output_type": "stream",
     "text": [
      "WARNING:absl:Found untraced functions such as re_lu_layer_call_and_return_conditional_losses, re_lu_layer_call_fn, re_lu_1_layer_call_and_return_conditional_losses, re_lu_1_layer_call_fn, re_lu_2_layer_call_and_return_conditional_losses while saving (showing 5 of 180). These functions will not be directly callable after loading.\n"
     ]
    },
    {
     "name": "stdout",
     "output_type": "stream",
     "text": [
      "Epoch 7/100\n",
      "7/7 [==============================] - 7s 977ms/step - loss: 0.3898 - dice_coef: 0.2203 - val_loss: 0.5625 - val_dice_coef: 0.1761\n",
      "Epoch 8/100\n",
      "7/7 [==============================] - 6s 946ms/step - loss: 0.3896 - dice_coef: 0.2205 - val_loss: 0.5528 - val_dice_coef: 0.1781\n",
      "Epoch 9/100\n",
      "7/7 [==============================] - 6s 929ms/step - loss: 0.3892 - dice_coef: 0.2224 - val_loss: 0.5754 - val_dice_coef: 0.1734\n",
      "Epoch 10/100\n",
      "7/7 [==============================] - 6s 939ms/step - loss: 0.3887 - dice_coef: 0.2210 - val_loss: 0.5728 - val_dice_coef: 0.1740\n",
      "Epoch 11/100\n",
      "7/7 [==============================] - 6s 919ms/step - loss: 0.3884 - dice_coef: 0.2202 - val_loss: 0.5846 - val_dice_coef: 0.1716\n",
      "Epoch 12/100\n",
      "7/7 [==============================] - 6s 924ms/step - loss: 0.3880 - dice_coef: 0.2214 - val_loss: 0.5898 - val_dice_coef: 0.1706\n",
      "Epoch 13/100\n",
      "7/7 [==============================] - 6s 936ms/step - loss: 0.3877 - dice_coef: 0.2217 - val_loss: 0.5927 - val_dice_coef: 0.1698\n",
      "Epoch 14/100\n",
      "7/7 [==============================] - 6s 929ms/step - loss: 0.3875 - dice_coef: 0.2190 - val_loss: 0.5841 - val_dice_coef: 0.1715\n",
      "Epoch 15/100\n",
      "7/7 [==============================] - 6s 926ms/step - loss: 0.3872 - dice_coef: 0.2210 - val_loss: 0.5874 - val_dice_coef: 0.1709\n",
      "Epoch 16/100\n",
      "7/7 [==============================] - 6s 918ms/step - loss: 0.3868 - dice_coef: 0.2206 - val_loss: 0.5585 - val_dice_coef: 0.1767\n",
      "Epoch 17/100\n",
      "7/7 [==============================] - 6s 916ms/step - loss: 0.3864 - dice_coef: 0.2214 - val_loss: 0.5653 - val_dice_coef: 0.1752\n",
      "Epoch 18/100\n",
      "7/7 [==============================] - 6s 913ms/step - loss: 0.3861 - dice_coef: 0.2220 - val_loss: 0.5741 - val_dice_coef: 0.1733\n",
      "Epoch 19/100\n",
      "7/7 [==============================] - 6s 941ms/step - loss: 0.3856 - dice_coef: 0.2208 - val_loss: 0.5594 - val_dice_coef: 0.1761\n",
      "Epoch 20/100\n",
      "7/7 [==============================] - 6s 909ms/step - loss: 0.3855 - dice_coef: 0.2225 - val_loss: 0.5531 - val_dice_coef: 0.1774\n",
      "Epoch 21/100\n",
      "7/7 [==============================] - 6s 913ms/step - loss: 0.3850 - dice_coef: 0.2204 - val_loss: 0.5321 - val_dice_coef: 0.1820\n"
     ]
    },
    {
     "name": "stderr",
     "output_type": "stream",
     "text": [
      "WARNING:absl:Found untraced functions such as re_lu_layer_call_and_return_conditional_losses, re_lu_layer_call_fn, re_lu_1_layer_call_and_return_conditional_losses, re_lu_1_layer_call_fn, re_lu_2_layer_call_and_return_conditional_losses while saving (showing 5 of 180). These functions will not be directly callable after loading.\n"
     ]
    },
    {
     "name": "stdout",
     "output_type": "stream",
     "text": [
      "Epoch 22/100\n",
      "7/7 [==============================] - 7s 961ms/step - loss: 0.3847 - dice_coef: 0.2216 - val_loss: 0.5395 - val_dice_coef: 0.1803\n",
      "Epoch 23/100\n",
      "7/7 [==============================] - 6s 941ms/step - loss: 0.3844 - dice_coef: 0.2213 - val_loss: 0.5439 - val_dice_coef: 0.1794\n",
      "Epoch 24/100\n",
      "7/7 [==============================] - 6s 919ms/step - loss: 0.3840 - dice_coef: 0.2220 - val_loss: 0.5406 - val_dice_coef: 0.1800\n",
      "Epoch 25/100\n",
      "7/7 [==============================] - 6s 935ms/step - loss: 0.3837 - dice_coef: 0.2208 - val_loss: 0.5259 - val_dice_coef: 0.1830\n"
     ]
    },
    {
     "name": "stderr",
     "output_type": "stream",
     "text": [
      "WARNING:absl:Found untraced functions such as re_lu_layer_call_and_return_conditional_losses, re_lu_layer_call_fn, re_lu_1_layer_call_and_return_conditional_losses, re_lu_1_layer_call_fn, re_lu_2_layer_call_and_return_conditional_losses while saving (showing 5 of 180). These functions will not be directly callable after loading.\n"
     ]
    },
    {
     "name": "stdout",
     "output_type": "stream",
     "text": [
      "Epoch 26/100\n",
      "7/7 [==============================] - 6s 944ms/step - loss: 0.3834 - dice_coef: 0.2226 - val_loss: 0.5701 - val_dice_coef: 0.1737\n",
      "Epoch 27/100\n",
      "7/7 [==============================] - 6s 915ms/step - loss: 0.3830 - dice_coef: 0.2215 - val_loss: 0.5580 - val_dice_coef: 0.1761\n",
      "Epoch 28/100\n",
      "7/7 [==============================] - 6s 931ms/step - loss: 0.3828 - dice_coef: 0.2209 - val_loss: 0.5616 - val_dice_coef: 0.1754\n",
      "Epoch 29/100\n",
      "7/7 [==============================] - 6s 942ms/step - loss: 0.3823 - dice_coef: 0.2213 - val_loss: 0.5554 - val_dice_coef: 0.1766\n",
      "Epoch 30/100\n",
      "7/7 [==============================] - 6s 921ms/step - loss: 0.3820 - dice_coef: 0.2224 - val_loss: 0.5529 - val_dice_coef: 0.1771\n",
      "Epoch 31/100\n",
      "7/7 [==============================] - 6s 925ms/step - loss: 0.3817 - dice_coef: 0.2228 - val_loss: 0.5520 - val_dice_coef: 0.1771\n",
      "Epoch 32/100\n",
      "7/7 [==============================] - 6s 927ms/step - loss: 0.3813 - dice_coef: 0.2230 - val_loss: 0.5476 - val_dice_coef: 0.1780\n",
      "Epoch 33/100\n",
      "7/7 [==============================] - 6s 924ms/step - loss: 0.3810 - dice_coef: 0.2228 - val_loss: 0.5323 - val_dice_coef: 0.1814\n",
      "Epoch 34/100\n",
      "7/7 [==============================] - 6s 924ms/step - loss: 0.3807 - dice_coef: 0.2229 - val_loss: 0.5175 - val_dice_coef: 0.1848\n"
     ]
    },
    {
     "name": "stderr",
     "output_type": "stream",
     "text": [
      "WARNING:absl:Found untraced functions such as re_lu_layer_call_and_return_conditional_losses, re_lu_layer_call_fn, re_lu_1_layer_call_and_return_conditional_losses, re_lu_1_layer_call_fn, re_lu_2_layer_call_and_return_conditional_losses while saving (showing 5 of 180). These functions will not be directly callable after loading.\n"
     ]
    },
    {
     "name": "stdout",
     "output_type": "stream",
     "text": [
      "Epoch 35/100\n",
      "7/7 [==============================] - 7s 967ms/step - loss: 0.3804 - dice_coef: 0.2230 - val_loss: 0.5238 - val_dice_coef: 0.1832\n",
      "Epoch 36/100\n",
      "7/7 [==============================] - 6s 918ms/step - loss: 0.3801 - dice_coef: 0.2236 - val_loss: 0.5387 - val_dice_coef: 0.1798\n",
      "Epoch 37/100\n",
      "7/7 [==============================] - 6s 915ms/step - loss: 0.3798 - dice_coef: 0.2230 - val_loss: 0.5161 - val_dice_coef: 0.1849\n"
     ]
    },
    {
     "name": "stderr",
     "output_type": "stream",
     "text": [
      "WARNING:absl:Found untraced functions such as re_lu_layer_call_and_return_conditional_losses, re_lu_layer_call_fn, re_lu_1_layer_call_and_return_conditional_losses, re_lu_1_layer_call_fn, re_lu_2_layer_call_and_return_conditional_losses while saving (showing 5 of 180). These functions will not be directly callable after loading.\n"
     ]
    },
    {
     "name": "stdout",
     "output_type": "stream",
     "text": [
      "Epoch 38/100\n",
      "7/7 [==============================] - 7s 963ms/step - loss: 0.3795 - dice_coef: 0.2234 - val_loss: 0.5031 - val_dice_coef: 0.1879\n"
     ]
    },
    {
     "name": "stderr",
     "output_type": "stream",
     "text": [
      "WARNING:absl:Found untraced functions such as re_lu_layer_call_and_return_conditional_losses, re_lu_layer_call_fn, re_lu_1_layer_call_and_return_conditional_losses, re_lu_1_layer_call_fn, re_lu_2_layer_call_and_return_conditional_losses while saving (showing 5 of 180). These functions will not be directly callable after loading.\n"
     ]
    },
    {
     "name": "stdout",
     "output_type": "stream",
     "text": [
      "Epoch 39/100\n",
      "7/7 [==============================] - 7s 960ms/step - loss: 0.3792 - dice_coef: 0.2218 - val_loss: 0.5084 - val_dice_coef: 0.1867\n",
      "Epoch 40/100\n",
      "7/7 [==============================] - 6s 948ms/step - loss: 0.3789 - dice_coef: 0.2217 - val_loss: 0.5269 - val_dice_coef: 0.1823\n",
      "Epoch 41/100\n",
      "7/7 [==============================] - 6s 913ms/step - loss: 0.3785 - dice_coef: 0.2235 - val_loss: 0.5216 - val_dice_coef: 0.1834\n",
      "Epoch 42/100\n",
      "7/7 [==============================] - 6s 912ms/step - loss: 0.3781 - dice_coef: 0.2226 - val_loss: 0.5187 - val_dice_coef: 0.1841\n",
      "Epoch 43/100\n",
      "7/7 [==============================] - 6s 912ms/step - loss: 0.3778 - dice_coef: 0.2233 - val_loss: 0.5174 - val_dice_coef: 0.1844\n",
      "Epoch 44/100\n",
      "7/7 [==============================] - 6s 917ms/step - loss: 0.3775 - dice_coef: 0.2238 - val_loss: 0.5188 - val_dice_coef: 0.1841\n",
      "Epoch 45/100\n",
      "7/7 [==============================] - 6s 940ms/step - loss: 0.3771 - dice_coef: 0.2234 - val_loss: 0.5188 - val_dice_coef: 0.1841\n",
      "Epoch 46/100\n",
      "7/7 [==============================] - 6s 932ms/step - loss: 0.3769 - dice_coef: 0.2215 - val_loss: 0.5015 - val_dice_coef: 0.1879\n"
     ]
    },
    {
     "name": "stderr",
     "output_type": "stream",
     "text": [
      "WARNING:absl:Found untraced functions such as re_lu_layer_call_and_return_conditional_losses, re_lu_layer_call_fn, re_lu_1_layer_call_and_return_conditional_losses, re_lu_1_layer_call_fn, re_lu_2_layer_call_and_return_conditional_losses while saving (showing 5 of 180). These functions will not be directly callable after loading.\n"
     ]
    },
    {
     "name": "stdout",
     "output_type": "stream",
     "text": [
      "Epoch 47/100\n",
      "7/7 [==============================] - 6s 928ms/step - loss: 0.3766 - dice_coef: 0.2232 - val_loss: 0.5201 - val_dice_coef: 0.1835\n",
      "Epoch 48/100\n",
      "7/7 [==============================] - 6s 938ms/step - loss: 0.3763 - dice_coef: 0.2235 - val_loss: 0.5199 - val_dice_coef: 0.1835\n",
      "Epoch 49/100\n",
      "7/7 [==============================] - 6s 935ms/step - loss: 0.3760 - dice_coef: 0.2255 - val_loss: 0.5070 - val_dice_coef: 0.1865\n",
      "Epoch 50/100\n",
      "7/7 [==============================] - 6s 923ms/step - loss: 0.3756 - dice_coef: 0.2254 - val_loss: 0.5181 - val_dice_coef: 0.1840\n",
      "Epoch 51/100\n",
      "7/7 [==============================] - 6s 912ms/step - loss: 0.3753 - dice_coef: 0.2238 - val_loss: 0.5185 - val_dice_coef: 0.1836\n",
      "Epoch 52/100\n",
      "7/7 [==============================] - 6s 918ms/step - loss: 0.3751 - dice_coef: 0.2240 - val_loss: 0.5160 - val_dice_coef: 0.1842\n",
      "Epoch 53/100\n",
      "7/7 [==============================] - 6s 914ms/step - loss: 0.3748 - dice_coef: 0.2248 - val_loss: 0.5239 - val_dice_coef: 0.1823\n",
      "Epoch 54/100\n",
      "7/7 [==============================] - 6s 909ms/step - loss: 0.3746 - dice_coef: 0.2230 - val_loss: 0.5070 - val_dice_coef: 0.1863\n",
      "Epoch 55/100\n",
      "7/7 [==============================] - 6s 909ms/step - loss: 0.3743 - dice_coef: 0.2242 - val_loss: 0.4917 - val_dice_coef: 0.1899\n"
     ]
    },
    {
     "name": "stderr",
     "output_type": "stream",
     "text": [
      "WARNING:absl:Found untraced functions such as re_lu_layer_call_and_return_conditional_losses, re_lu_layer_call_fn, re_lu_1_layer_call_and_return_conditional_losses, re_lu_1_layer_call_fn, re_lu_2_layer_call_and_return_conditional_losses while saving (showing 5 of 180). These functions will not be directly callable after loading.\n"
     ]
    },
    {
     "name": "stdout",
     "output_type": "stream",
     "text": [
      "Epoch 56/100\n",
      "7/7 [==============================] - 7s 953ms/step - loss: 0.3738 - dice_coef: 0.2232 - val_loss: 0.5082 - val_dice_coef: 0.1860\n",
      "Epoch 57/100\n",
      "7/7 [==============================] - 6s 914ms/step - loss: 0.3734 - dice_coef: 0.2247 - val_loss: 0.4973 - val_dice_coef: 0.1884\n",
      "Epoch 58/100\n",
      "7/7 [==============================] - 6s 918ms/step - loss: 0.3732 - dice_coef: 0.2242 - val_loss: 0.4779 - val_dice_coef: 0.1931\n"
     ]
    },
    {
     "name": "stderr",
     "output_type": "stream",
     "text": [
      "WARNING:absl:Found untraced functions such as re_lu_layer_call_and_return_conditional_losses, re_lu_layer_call_fn, re_lu_1_layer_call_and_return_conditional_losses, re_lu_1_layer_call_fn, re_lu_2_layer_call_and_return_conditional_losses while saving (showing 5 of 180). These functions will not be directly callable after loading.\n"
     ]
    },
    {
     "name": "stdout",
     "output_type": "stream",
     "text": [
      "Epoch 59/100\n",
      "7/7 [==============================] - 7s 951ms/step - loss: 0.3731 - dice_coef: 0.2228 - val_loss: 0.5061 - val_dice_coef: 0.1862\n",
      "Epoch 60/100\n",
      "7/7 [==============================] - 6s 917ms/step - loss: 0.3727 - dice_coef: 0.2250 - val_loss: 0.4815 - val_dice_coef: 0.1922\n",
      "Epoch 61/100\n",
      "7/7 [==============================] - 6s 921ms/step - loss: 0.3724 - dice_coef: 0.2245 - val_loss: 0.4897 - val_dice_coef: 0.1901\n",
      "Epoch 62/100\n",
      "7/7 [==============================] - 6s 932ms/step - loss: 0.3721 - dice_coef: 0.2260 - val_loss: 0.5180 - val_dice_coef: 0.1834\n",
      "Epoch 63/100\n",
      "7/7 [==============================] - 6s 930ms/step - loss: 0.3717 - dice_coef: 0.2244 - val_loss: 0.5224 - val_dice_coef: 0.1823\n",
      "Epoch 64/100\n",
      "7/7 [==============================] - 6s 922ms/step - loss: 0.3713 - dice_coef: 0.2253 - val_loss: 0.4986 - val_dice_coef: 0.1876\n",
      "Epoch 65/100\n",
      "7/7 [==============================] - 6s 924ms/step - loss: 0.3711 - dice_coef: 0.2261 - val_loss: 0.4855 - val_dice_coef: 0.1908\n",
      "Epoch 66/100\n",
      "7/7 [==============================] - 6s 911ms/step - loss: 0.3708 - dice_coef: 0.2258 - val_loss: 0.4819 - val_dice_coef: 0.1917\n",
      "Epoch 67/100\n",
      "7/7 [==============================] - 6s 905ms/step - loss: 0.3705 - dice_coef: 0.2262 - val_loss: 0.4907 - val_dice_coef: 0.1896\n",
      "Epoch 68/100\n",
      "7/7 [==============================] - 6s 921ms/step - loss: 0.3702 - dice_coef: 0.2239 - val_loss: 0.4938 - val_dice_coef: 0.1887\n",
      "Epoch 69/100\n",
      "7/7 [==============================] - 6s 912ms/step - loss: 0.3699 - dice_coef: 0.2253 - val_loss: 0.4985 - val_dice_coef: 0.1876\n",
      "Epoch 70/100\n",
      "7/7 [==============================] - 6s 931ms/step - loss: 0.3697 - dice_coef: 0.2245 - val_loss: 0.5040 - val_dice_coef: 0.1862\n",
      "Epoch 71/100\n",
      "7/7 [==============================] - 6s 949ms/step - loss: 0.3693 - dice_coef: 0.2265 - val_loss: 0.5053 - val_dice_coef: 0.1859\n",
      "Epoch 72/100\n",
      "7/7 [==============================] - 6s 920ms/step - loss: 0.3690 - dice_coef: 0.2272 - val_loss: 0.5034 - val_dice_coef: 0.1863\n",
      "Epoch 73/100\n",
      "7/7 [==============================] - 6s 933ms/step - loss: 0.3687 - dice_coef: 0.2246 - val_loss: 0.5224 - val_dice_coef: 0.1818\n",
      "Epoch 74/100\n",
      "7/7 [==============================] - 6s 930ms/step - loss: 0.3684 - dice_coef: 0.2252 - val_loss: 0.5174 - val_dice_coef: 0.1829\n",
      "Epoch 75/100\n",
      "7/7 [==============================] - 6s 911ms/step - loss: 0.3680 - dice_coef: 0.2258 - val_loss: 0.4955 - val_dice_coef: 0.1881\n",
      "Epoch 76/100\n",
      "7/7 [==============================] - 6s 912ms/step - loss: 0.3679 - dice_coef: 0.2246 - val_loss: 0.5069 - val_dice_coef: 0.1852\n",
      "Epoch 77/100\n",
      "7/7 [==============================] - 6s 918ms/step - loss: 0.3676 - dice_coef: 0.2259 - val_loss: 0.5046 - val_dice_coef: 0.1857\n",
      "Epoch 78/100\n",
      "7/7 [==============================] - 6s 915ms/step - loss: 0.3672 - dice_coef: 0.2258 - val_loss: 0.5061 - val_dice_coef: 0.1855\n",
      "Epoch 79/100\n",
      "7/7 [==============================] - 6s 941ms/step - loss: 0.3669 - dice_coef: 0.2267 - val_loss: 0.5068 - val_dice_coef: 0.1852\n",
      "Epoch 80/100\n",
      "7/7 [==============================] - 6s 932ms/step - loss: 0.3666 - dice_coef: 0.2269 - val_loss: 0.5087 - val_dice_coef: 0.1845\n",
      "Epoch 81/100\n",
      "7/7 [==============================] - 6s 931ms/step - loss: 0.3663 - dice_coef: 0.2240 - val_loss: 0.5002 - val_dice_coef: 0.1866\n",
      "Epoch 82/100\n",
      "7/7 [==============================] - 6s 908ms/step - loss: 0.3661 - dice_coef: 0.2256 - val_loss: 0.4940 - val_dice_coef: 0.1881\n",
      "Epoch 83/100\n",
      "7/7 [==============================] - 6s 912ms/step - loss: 0.3659 - dice_coef: 0.2271 - val_loss: 0.5080 - val_dice_coef: 0.1848\n",
      "Epoch 84/100\n",
      "7/7 [==============================] - 6s 916ms/step - loss: 0.3656 - dice_coef: 0.2274 - val_loss: 0.5073 - val_dice_coef: 0.1849\n",
      "Epoch 85/100\n",
      "7/7 [==============================] - 6s 914ms/step - loss: 0.3653 - dice_coef: 0.2271 - val_loss: 0.4970 - val_dice_coef: 0.1872\n",
      "Epoch 86/100\n",
      "7/7 [==============================] - 6s 911ms/step - loss: 0.3650 - dice_coef: 0.2271 - val_loss: 0.4882 - val_dice_coef: 0.1895\n",
      "Epoch 87/100\n",
      "7/7 [==============================] - 6s 921ms/step - loss: 0.3646 - dice_coef: 0.2272 - val_loss: 0.4944 - val_dice_coef: 0.1877\n",
      "Epoch 88/100\n",
      "7/7 [==============================] - 6s 933ms/step - loss: 0.3643 - dice_coef: 0.2277 - val_loss: 0.4923 - val_dice_coef: 0.1882\n",
      "Epoch 89/100\n",
      "7/7 [==============================] - 6s 925ms/step - loss: 0.3641 - dice_coef: 0.2257 - val_loss: 0.4866 - val_dice_coef: 0.1896\n",
      "Epoch 90/100\n",
      "7/7 [==============================] - 6s 911ms/step - loss: 0.3638 - dice_coef: 0.2262 - val_loss: 0.4801 - val_dice_coef: 0.1913\n",
      "Epoch 91/100\n",
      "7/7 [==============================] - 6s 917ms/step - loss: 0.3634 - dice_coef: 0.2263 - val_loss: 0.4801 - val_dice_coef: 0.1911\n",
      "Epoch 92/100\n",
      "7/7 [==============================] - 6s 914ms/step - loss: 0.3632 - dice_coef: 0.2266 - val_loss: 0.4768 - val_dice_coef: 0.1918\n"
     ]
    },
    {
     "name": "stderr",
     "output_type": "stream",
     "text": [
      "WARNING:absl:Found untraced functions such as re_lu_layer_call_and_return_conditional_losses, re_lu_layer_call_fn, re_lu_1_layer_call_and_return_conditional_losses, re_lu_1_layer_call_fn, re_lu_2_layer_call_and_return_conditional_losses while saving (showing 5 of 180). These functions will not be directly callable after loading.\n"
     ]
    },
    {
     "name": "stdout",
     "output_type": "stream",
     "text": [
      "Epoch 93/100\n",
      "7/7 [==============================] - 7s 959ms/step - loss: 0.3629 - dice_coef: 0.2264 - val_loss: 0.4917 - val_dice_coef: 0.1881\n",
      "Epoch 94/100\n",
      "7/7 [==============================] - 6s 920ms/step - loss: 0.3625 - dice_coef: 0.2265 - val_loss: 0.4978 - val_dice_coef: 0.1867\n",
      "Epoch 95/100\n",
      "7/7 [==============================] - 6s 920ms/step - loss: 0.3622 - dice_coef: 0.2274 - val_loss: 0.4799 - val_dice_coef: 0.1912\n",
      "Epoch 96/100\n",
      "7/7 [==============================] - 6s 943ms/step - loss: 0.3620 - dice_coef: 0.2283 - val_loss: 0.4988 - val_dice_coef: 0.1863\n",
      "Epoch 97/100\n",
      "7/7 [==============================] - 6s 914ms/step - loss: 0.3619 - dice_coef: 0.2252 - val_loss: 0.4907 - val_dice_coef: 0.1884\n",
      "Epoch 98/100\n",
      "7/7 [==============================] - 6s 928ms/step - loss: 0.3617 - dice_coef: 0.2252 - val_loss: 0.4806 - val_dice_coef: 0.1906\n",
      "Epoch 99/100\n",
      "7/7 [==============================] - 6s 933ms/step - loss: 0.3614 - dice_coef: 0.2284 - val_loss: 0.4832 - val_dice_coef: 0.1900\n",
      "Epoch 100/100\n",
      "7/7 [==============================] - 6s 927ms/step - loss: 0.3610 - dice_coef: 0.2280 - val_loss: 0.5062 - val_dice_coef: 0.1843\n",
      "Model saved to: /tmp/tmpu9j0u1irGP2/unetplus_3unetplus_model\n",
      "History saved to: /tmp/tmpu9j0u1irGP2/unetplut_history_3.pkl\n",
      "Testing the classifier...\n",
      "Testing the discriminator...\n",
      "10/10 [==============================] - 0s 18ms/step - loss: 0.0000e+00 - accuracy: 1.0000\n",
      "Found 145 machine labels.\n",
      "Machine labels [  0   2   3   5   8  13  14  15  16  17  19  20  23  26  29  30  40  41\n",
      "  45  48  49  50  52  53  55  58  62  64  66  67  70  72  73  75  78  79\n",
      "  81  83  84  85  86  87  90  96  97  98 100 106 107 111 112 119 120 125\n",
      " 129 130 131 133 135 136 138 139 141 144 147 148 150 152 154 155 158 160\n",
      " 162 165 169 172 173 174 175 178 179 182 184 185 186 188 189 190 194 196\n",
      " 198 201 205 207 209 210 214 215 216 217 218 219 220 221 223 225 227 228\n",
      " 230 232 233 236 237 238 239 240 241 242 243 244 246 247 250 254 255 261\n",
      " 262 266 267 271 274 277 278 280 283 285 286 287 288 290 292 294 296 298\n",
      " 299]\n",
      "D_ids ['0eafae88-e8e4-4c30-a78d-be4479fa1b30', '4c9744e6-4089-42a2-ba2f-3ea5a5f4b8f4', '07e02cf8-7277-46e0-959c-06e3b309bf65', '30964a91-2108-4505-83c1-963e5efe7601', '161448da-eaf5-4462-b61a-1b429b8cfe42', '4d2fb4c3-ecfd-41ca-be1c-03ae54d5a827', '2b1ceaea-abf5-4952-8a32-69a6f4a87afe', '0a6bd4df-c9f4-411c-8067-76b201de33fe', 'ec6f325a-114b-4e3e-8b2a-671125599cb8', '12ffef34-12bd-4c34-8f3e-cf62390c345f', '859604d8-85c5-4441-81e5-3705b8f1634d', '1bcdf1c9-32ce-46f0-9fca-bb7d0ff1b664', '90f49ec5-702d-4c69-b83a-f857c0216e4e', 'bedc9602-4b2e-4c55-ac61-74ecae6900b4', '18a69f09-462d-46aa-90fd-d92fb48044d1', '631012c6-91c2-42ca-8cc9-12f7fe27bb73', '91d5ae31-dfe9-4d32-9922-d67833e88597', '75b3c0ff-225f-490d-8e4e-76b46fea3932', '540beb6a-d47d-4f03-bc75-a5099429e128', 'd3b46a88-89f3-4a7e-82a1-04eccac67514', '2385a1ea-91dd-4353-ba81-dcc09f73032b', '9148e46d-857d-4b9a-a787-175f13e32518', 'f8d5fedb-ee25-451f-9514-ef77ce4103a7', '1790c6d7-f5a9-4197-9cca-e3145e2e99d2', '86cc5855-7386-4b5d-924a-8b575cda4a33', '028246cb-0539-46a3-9bc2-c26994b1c0ce', '8f443b81-e907-4c45-9e4d-c30242f0b6f5', 'e07e0965-c03d-4f7f-aed3-9ddb59c49c22', '855cd85c-bcc9-45ef-933c-80fb3020ef42', '87e0f119-ed00-4181-b938-62dfb971c910', '3f263250-c3a9-4c79-8b3c-c82ff9e65718', 'c43e976e-7934-4173-b136-7a4db1a6221f', '36d7f3c6-4674-40cd-97a5-09334729ad44', 'f2907b5a-f8bd-4bdf-b409-27867dd1dcce', '634eee5e-024c-4226-92d8-310691e58873', 'cf198980-e7e6-4952-937c-b564739f0c0b', '0a087a0b-08c9-4a16-9ee4-1b69d6ae34af', '382bb177-d26f-42aa-9d52-68b0fec5c3f7', '2f81a54a-e785-49f2-a1c3-9e8b4dd8ef29', '4d88003e-8f5a-42fb-beb3-ad3f70cd9c43', 'b969d031-8c7b-4ecc-b477-e9841050c4dc', '8f2befd2-d40c-44b6-816c-830f679e0aa1', '7d3c1386-5641-4a9b-95cc-a6f41c990284', '72520000-250c-415d-a814-5e7a5edc3372', '59ea6393-8e64-43c6-ab3e-56a86d6756f1', '2303dff8-8cb7-4aa9-bcd6-07ddf71c1d37', 'd98d67a4-be40-4411-ad71-61d27028a6b4', 'cc1d629c-7a49-4f91-a3e9-261943d4d9dc', '77fee693-1bc8-4233-9c24-08fb40f8bb99', 'e8c5debb-2d1a-45df-bbbc-8f41c23aaf37', 'c7eacff6-9923-4861-99c3-16ccd8f01dda', '8d331a78-2ef6-4916-8890-043a2ae50e13', 'ef2a5b0c-82fd-4e75-b396-05646fc007cd', 'f4736078-b793-4661-8dba-a559e4352d97', '6404f392-68af-46f8-adf3-a35da8bbd826', '60b2dccf-f6d4-4731-9bc9-e823be086938', '3f04d1a6-fd7a-4aee-8b37-8503735346b8', 'f685aa9a-f085-4bde-8681-aa3e28fdc715', 'b7e3cc65-cc7e-46d3-ad9e-cae3af011f80', '70089e40-67ec-4709-a34c-362ee69c0512', '6e4216d4-6a00-46df-89da-699f1334b013', 'f5a10aa6-a84f-4908-b50e-e9fd8b007098', '78339724-1900-410f-9015-58e72e8291ce', '6a64cd70-667d-4d97-9748-eb4be329533d', '80aac224-03f1-4df8-aec0-86b168a73a96', '34d56a99-8826-4590-b4b1-825c246292c4', 'af71f53e-0bed-4c2e-848b-ebfa0967584b', '738fa150-1a10-4ee2-a922-f4669d226c74', 'a32e14e1-a09e-4ee2-9cdf-3d89c6c2c679', '1d5b6426-d6ff-4fde-acd2-96af4c375942', 'a07093a7-4c4b-44f9-93f9-8de3a3303623', 'a40ae90a-ab61-46e4-8b4b-7e81afcaf679', '9d7dc1b7-395e-4898-b076-76434cec7a17', '37dcfb8e-fc80-4350-ad28-56139bf8948c', 'b2d757eb-e115-44d7-b1f7-f255da56b44e', 'a526299a-5ac8-46b9-8ec0-303bca84c67c', '62510945-ba9d-4ccf-98eb-4ad5923a1821', '9057582c-e59a-4f18-97dd-472671cb35a4', '46901b3b-9ff8-4069-8209-d89bfde4e761', '82543589-7b27-4eee-9bcb-68f75866f8bf', 'c6e90e14-4fa7-4c4e-aba8-6c379de4a655', '6bf9c102-1478-4a7a-a8bb-cbc6e0a523e1', 'a049556d-3411-4157-a551-741e599c4afb', '11beb3ec-8a97-4616-9826-541e318db4be', '80a5e82f-6068-4302-9e0d-3145caaf8ccb', '2b32d125-33d6-4437-8b19-95b2b14cdbe6', 'b686c115-b0a9-46ce-8140-b1b0f64719fd', 'a32cda84-edc1-4a60-9f1b-986ed7cdad9a', 'fda14102-f309-4999-bdcf-eb48d13e070e', '68d03f3e-8902-4a36-87db-af16e93e1fe3', '13f41f44-1890-47a4-aa55-d8ea16c94719', 'db84b4bd-6939-460b-9b1e-cd0688e0d9ab', 'a48d56cc-91a7-4259-a4f5-44bb0687cde3', '8c81ea4a-a471-4fc0-9c2b-f02f1c5b0b09', '20fbbbb4-28ad-481f-9f33-e35caca57c3e', 'd6fe9249-2da8-4aca-be80-2409cd9ce156', '9a5b4551-e534-4f32-b738-04fac2da3473', 'fb7821f5-9232-45d3-8ab5-f85681428576', '9af751a6-ac42-4353-a533-4e70f8ec0f61', '30ca99be-5f9c-4c09-bd71-c7c5b6181795', '13972086-a207-40ad-b214-4f1dc93b3b35', '95387c9b-6da9-430b-972a-53289e963d89', 'f716fe76-e0ee-4831-af8a-33157a3c028a', 'c2485f0f-da3e-4fdf-9c3d-64e5b98a1849', '7d7eb12c-012a-455c-8274-ba4e5433f8ed', 'eec0f68b-ddd5-416e-a01e-9a4bd9b93bbb', '4902977f-ec3f-4e42-bfb0-4d9d6be5c683', 'e42d391f-1492-4420-8884-548c85bb7714', 'c8b09def-3d88-4fbd-a552-148455199259', '66f217b0-14b8-481d-b0e6-b124c4515b4c', '5237fe02-ca76-4583-85bc-35d697f6684c', '11fa9907-82b7-49f2-9c82-1bfe42fd4b6b', 'cdeb9118-7712-4c29-a7bb-49423091199b', 'cfd0acd4-a84d-4e60-9554-732d33323119', 'fa371fbb-1190-4cc4-949a-4fdd66b4a820', 'c42fb8fa-7daf-49b3-9b1f-fd8750419e5d', '71f8b24d-bb0b-4f68-84d2-e1d8e87977e2', '397e7a7f-4a36-4ec7-9501-378e6fbc2471', 'c46a66c0-3daf-4b91-87b7-616282a715c9', '1a8096e4-750e-4e9d-b853-3f0b13818168', 'ed67d965-c2f2-4789-9666-47a0d84d6cc3', '3c4662f8-f6db-40e9-8472-ceb6fd64bd38', '81cd4a52-d4be-4ad9-a730-ca1bee7e9a90', '2a9c0bce-9d6b-45ca-934b-0a64ef4951ea', 'e49a5024-91ce-4eef-ab2c-7fb33bef2047', '1016e276-c6a6-4c86-be60-355f180585c2', '73bb1588-79a6-4362-83fd-320792481808', '23e2df11-83e2-4023-8dfa-e4e3c8e1cd0c', '93c7caab-fdee-4daa-9144-0aa5950df858', '16b87685-add9-47e9-a1e4-d3f072738f57', 'dd8b720e-d37d-4fbd-8e3e-2d0cd38ff723', 'fc46812a-0477-49aa-a07e-4b8600992a8a', '84af05dd-0803-434b-9b10-a851af764239', '5a5da62e-26ff-4c13-a941-b8f35c7e26d8', 'c20aa97d-faba-47c0-98ad-446331390629', '5f924f94-f208-4dec-a9d3-b2d75cbdced6', '2a0240a8-a74d-4fa1-b733-2266fc0d1892', 'c86079bf-a698-42a8-8c91-45c4479a99f1', 'c59d0aed-8cfd-47d0-aa04-c94f54f31d30', '1d3e4e07-dda7-431f-91ee-27d8a640165e', 'fdfdaae6-f653-4742-917c-6a65a3242cba', 'b3ea6ae1-119e-4170-9923-6b3129aa6b8b', '91d34cd6-fd11-44b4-a989-a6fefa3195b3', 'b6f01bf0-6e3a-4bbd-8dc1-375b206f4599', '2c577a0d-81a4-4b49-ac28-324876b0e283']\n",
      "Replacing 48 from 145 !\n",
      "D_relabeled_ 48\n",
      "selected_ids ['ef2a5b0c-82fd-4e75-b396-05646fc007cd', 'c6e90e14-4fa7-4c4e-aba8-6c379de4a655', 'b3ea6ae1-119e-4170-9923-6b3129aa6b8b', '855cd85c-bcc9-45ef-933c-80fb3020ef42', '8c81ea4a-a471-4fc0-9c2b-f02f1c5b0b09', 'e49a5024-91ce-4eef-ab2c-7fb33bef2047', '82543589-7b27-4eee-9bcb-68f75866f8bf', '13972086-a207-40ad-b214-4f1dc93b3b35', '3f04d1a6-fd7a-4aee-8b37-8503735346b8', 'f4736078-b793-4661-8dba-a559e4352d97', 'c2485f0f-da3e-4fdf-9c3d-64e5b98a1849', '16b87685-add9-47e9-a1e4-d3f072738f57', 'a526299a-5ac8-46b9-8ec0-303bca84c67c', '5237fe02-ca76-4583-85bc-35d697f6684c', 'e8c5debb-2d1a-45df-bbbc-8f41c23aaf37', '859604d8-85c5-4441-81e5-3705b8f1634d', '75b3c0ff-225f-490d-8e4e-76b46fea3932', 'f2907b5a-f8bd-4bdf-b409-27867dd1dcce', 'eec0f68b-ddd5-416e-a01e-9a4bd9b93bbb', '93c7caab-fdee-4daa-9144-0aa5950df858', '66f217b0-14b8-481d-b0e6-b124c4515b4c', '8f443b81-e907-4c45-9e4d-c30242f0b6f5', '78339724-1900-410f-9015-58e72e8291ce', 'fb7821f5-9232-45d3-8ab5-f85681428576', 'c46a66c0-3daf-4b91-87b7-616282a715c9', '1bcdf1c9-32ce-46f0-9fca-bb7d0ff1b664', '86cc5855-7386-4b5d-924a-8b575cda4a33', 'a32cda84-edc1-4a60-9f1b-986ed7cdad9a', '382bb177-d26f-42aa-9d52-68b0fec5c3f7', 'bedc9602-4b2e-4c55-ac61-74ecae6900b4', '84af05dd-0803-434b-9b10-a851af764239', '3c4662f8-f6db-40e9-8472-ceb6fd64bd38', '2c577a0d-81a4-4b49-ac28-324876b0e283', '8d331a78-2ef6-4916-8890-043a2ae50e13', '90f49ec5-702d-4c69-b83a-f857c0216e4e', '540beb6a-d47d-4f03-bc75-a5099429e128', 'b7e3cc65-cc7e-46d3-ad9e-cae3af011f80', 'c59d0aed-8cfd-47d0-aa04-c94f54f31d30', 'f8d5fedb-ee25-451f-9514-ef77ce4103a7', '80aac224-03f1-4df8-aec0-86b168a73a96', 'a049556d-3411-4157-a551-741e599c4afb', '62510945-ba9d-4ccf-98eb-4ad5923a1821', 'c42fb8fa-7daf-49b3-9b1f-fd8750419e5d', '36d7f3c6-4674-40cd-97a5-09334729ad44', 'fdfdaae6-f653-4742-917c-6a65a3242cba', '6404f392-68af-46f8-adf3-a35da8bbd826', '68d03f3e-8902-4a36-87db-af16e93e1fe3', 'e42d391f-1492-4420-8884-548c85bb7714']\n",
      "dict_keys(['ef2a5b0c-82fd-4e75-b396-05646fc007cd', 'c6e90e14-4fa7-4c4e-aba8-6c379de4a655', 'b3ea6ae1-119e-4170-9923-6b3129aa6b8b', '855cd85c-bcc9-45ef-933c-80fb3020ef42', '8c81ea4a-a471-4fc0-9c2b-f02f1c5b0b09', 'e49a5024-91ce-4eef-ab2c-7fb33bef2047', '82543589-7b27-4eee-9bcb-68f75866f8bf', '13972086-a207-40ad-b214-4f1dc93b3b35', '3f04d1a6-fd7a-4aee-8b37-8503735346b8', 'f4736078-b793-4661-8dba-a559e4352d97', 'c2485f0f-da3e-4fdf-9c3d-64e5b98a1849', '16b87685-add9-47e9-a1e4-d3f072738f57', 'a526299a-5ac8-46b9-8ec0-303bca84c67c', '5237fe02-ca76-4583-85bc-35d697f6684c', 'e8c5debb-2d1a-45df-bbbc-8f41c23aaf37', '859604d8-85c5-4441-81e5-3705b8f1634d', '75b3c0ff-225f-490d-8e4e-76b46fea3932', 'f2907b5a-f8bd-4bdf-b409-27867dd1dcce', 'eec0f68b-ddd5-416e-a01e-9a4bd9b93bbb', '93c7caab-fdee-4daa-9144-0aa5950df858', '66f217b0-14b8-481d-b0e6-b124c4515b4c', '8f443b81-e907-4c45-9e4d-c30242f0b6f5', '78339724-1900-410f-9015-58e72e8291ce', 'fb7821f5-9232-45d3-8ab5-f85681428576', 'c46a66c0-3daf-4b91-87b7-616282a715c9', '1bcdf1c9-32ce-46f0-9fca-bb7d0ff1b664', '86cc5855-7386-4b5d-924a-8b575cda4a33', 'a32cda84-edc1-4a60-9f1b-986ed7cdad9a', '382bb177-d26f-42aa-9d52-68b0fec5c3f7', 'bedc9602-4b2e-4c55-ac61-74ecae6900b4', '84af05dd-0803-434b-9b10-a851af764239', '3c4662f8-f6db-40e9-8472-ceb6fd64bd38', '2c577a0d-81a4-4b49-ac28-324876b0e283', '8d331a78-2ef6-4916-8890-043a2ae50e13', '90f49ec5-702d-4c69-b83a-f857c0216e4e', '540beb6a-d47d-4f03-bc75-a5099429e128', 'b7e3cc65-cc7e-46d3-ad9e-cae3af011f80', 'c59d0aed-8cfd-47d0-aa04-c94f54f31d30', 'f8d5fedb-ee25-451f-9514-ef77ce4103a7', '80aac224-03f1-4df8-aec0-86b168a73a96', 'a049556d-3411-4157-a551-741e599c4afb', '62510945-ba9d-4ccf-98eb-4ad5923a1821', 'c42fb8fa-7daf-49b3-9b1f-fd8750419e5d', '36d7f3c6-4674-40cd-97a5-09334729ad44', 'fdfdaae6-f653-4742-917c-6a65a3242cba', '6404f392-68af-46f8-adf3-a35da8bbd826', '68d03f3e-8902-4a36-87db-af16e93e1fe3', 'e42d391f-1492-4420-8884-548c85bb7714'])\n",
      "point ids 48\n",
      "Removed: 48 Filled: 48\n",
      "TOOK 829.8231790065765 seconds\n",
      "==== DONE LOOP 3 ====\n",
      "******\n",
      "Loop 4\n"
     ]
    },
    {
     "name": "stdout",
     "output_type": "stream",
     "text": [
      "Epoch 1/100\n",
      "8/8 [==============================] - 9s 1s/step - loss: 0.3609 - dice_coef: 0.2269 - val_loss: 0.5109 - val_dice_coef: 0.1832\n"
     ]
    },
    {
     "name": "stderr",
     "output_type": "stream",
     "text": [
      "WARNING:absl:Found untraced functions such as re_lu_layer_call_and_return_conditional_losses, re_lu_layer_call_fn, re_lu_1_layer_call_and_return_conditional_losses, re_lu_1_layer_call_fn, re_lu_2_layer_call_and_return_conditional_losses while saving (showing 5 of 180). These functions will not be directly callable after loading.\n"
     ]
    },
    {
     "name": "stdout",
     "output_type": "stream",
     "text": [
      "Epoch 2/100\n",
      "8/8 [==============================] - 7s 906ms/step - loss: 0.3607 - dice_coef: 0.2264 - val_loss: 0.5431 - val_dice_coef: 0.1760\n",
      "Epoch 3/100\n",
      "8/8 [==============================] - 7s 884ms/step - loss: 0.3605 - dice_coef: 0.2280 - val_loss: 0.5434 - val_dice_coef: 0.1757\n",
      "Epoch 4/100\n",
      "8/8 [==============================] - 7s 880ms/step - loss: 0.3601 - dice_coef: 0.2255 - val_loss: 0.4804 - val_dice_coef: 0.1906\n"
     ]
    },
    {
     "name": "stderr",
     "output_type": "stream",
     "text": [
      "WARNING:absl:Found untraced functions such as re_lu_layer_call_and_return_conditional_losses, re_lu_layer_call_fn, re_lu_1_layer_call_and_return_conditional_losses, re_lu_1_layer_call_fn, re_lu_2_layer_call_and_return_conditional_losses while saving (showing 5 of 180). These functions will not be directly callable after loading.\n"
     ]
    },
    {
     "name": "stdout",
     "output_type": "stream",
     "text": [
      "Epoch 5/100\n",
      "8/8 [==============================] - 7s 918ms/step - loss: 0.3599 - dice_coef: 0.2268 - val_loss: 0.5216 - val_dice_coef: 0.1807\n",
      "Epoch 6/100\n",
      "8/8 [==============================] - 7s 893ms/step - loss: 0.3594 - dice_coef: 0.2317 - val_loss: 0.5265 - val_dice_coef: 0.1796\n",
      "Epoch 7/100\n",
      "8/8 [==============================] - 7s 891ms/step - loss: 0.3592 - dice_coef: 0.2255 - val_loss: 0.5233 - val_dice_coef: 0.1801\n",
      "Epoch 8/100\n",
      "8/8 [==============================] - 7s 889ms/step - loss: 0.3589 - dice_coef: 0.2247 - val_loss: 0.5244 - val_dice_coef: 0.1798\n",
      "Epoch 9/100\n",
      "8/8 [==============================] - 7s 886ms/step - loss: 0.3585 - dice_coef: 0.2284 - val_loss: 0.5024 - val_dice_coef: 0.1850\n",
      "Epoch 10/100\n",
      "8/8 [==============================] - 7s 896ms/step - loss: 0.3580 - dice_coef: 0.2299 - val_loss: 0.4988 - val_dice_coef: 0.1858\n",
      "Epoch 11/100\n",
      "8/8 [==============================] - 7s 902ms/step - loss: 0.3579 - dice_coef: 0.2187 - val_loss: 0.5083 - val_dice_coef: 0.1832\n",
      "Epoch 12/100\n",
      "8/8 [==============================] - 7s 899ms/step - loss: 0.3578 - dice_coef: 0.2267 - val_loss: 0.5133 - val_dice_coef: 0.1821\n",
      "Epoch 13/100\n",
      "8/8 [==============================] - 7s 896ms/step - loss: 0.3573 - dice_coef: 0.2323 - val_loss: 0.4952 - val_dice_coef: 0.1864\n",
      "Epoch 14/100\n",
      "8/8 [==============================] - 7s 902ms/step - loss: 0.3570 - dice_coef: 0.2286 - val_loss: 0.4726 - val_dice_coef: 0.1920\n"
     ]
    },
    {
     "name": "stderr",
     "output_type": "stream",
     "text": [
      "WARNING:absl:Found untraced functions such as re_lu_layer_call_and_return_conditional_losses, re_lu_layer_call_fn, re_lu_1_layer_call_and_return_conditional_losses, re_lu_1_layer_call_fn, re_lu_2_layer_call_and_return_conditional_losses while saving (showing 5 of 180). These functions will not be directly callable after loading.\n"
     ]
    },
    {
     "name": "stdout",
     "output_type": "stream",
     "text": [
      "Epoch 15/100\n",
      "8/8 [==============================] - 7s 912ms/step - loss: 0.3567 - dice_coef: 0.2213 - val_loss: 0.5182 - val_dice_coef: 0.1809\n",
      "Epoch 16/100\n",
      "8/8 [==============================] - 7s 902ms/step - loss: 0.3569 - dice_coef: 0.2269 - val_loss: 0.5692 - val_dice_coef: 0.1697\n",
      "Epoch 17/100\n",
      "8/8 [==============================] - 7s 889ms/step - loss: 0.3562 - dice_coef: 0.2285 - val_loss: 0.5674 - val_dice_coef: 0.1699\n",
      "Epoch 18/100\n",
      "8/8 [==============================] - 7s 889ms/step - loss: 0.3558 - dice_coef: 0.2317 - val_loss: 0.5442 - val_dice_coef: 0.1749\n",
      "Epoch 19/100\n",
      "8/8 [==============================] - 7s 890ms/step - loss: 0.3556 - dice_coef: 0.2266 - val_loss: 0.5383 - val_dice_coef: 0.1762\n",
      "Epoch 20/100\n",
      "8/8 [==============================] - 7s 889ms/step - loss: 0.3550 - dice_coef: 0.2285 - val_loss: 0.5277 - val_dice_coef: 0.1786\n",
      "Epoch 21/100\n",
      "8/8 [==============================] - 7s 899ms/step - loss: 0.3546 - dice_coef: 0.2267 - val_loss: 0.5309 - val_dice_coef: 0.1778\n",
      "Epoch 22/100\n",
      "8/8 [==============================] - 7s 909ms/step - loss: 0.3544 - dice_coef: 0.2293 - val_loss: 0.5253 - val_dice_coef: 0.1788\n",
      "Epoch 23/100\n",
      "8/8 [==============================] - 7s 908ms/step - loss: 0.3543 - dice_coef: 0.2310 - val_loss: 0.5382 - val_dice_coef: 0.1759\n",
      "Epoch 24/100\n",
      "8/8 [==============================] - 7s 892ms/step - loss: 0.3540 - dice_coef: 0.2290 - val_loss: 0.5388 - val_dice_coef: 0.1757\n",
      "Epoch 25/100\n",
      "8/8 [==============================] - 7s 907ms/step - loss: 0.3535 - dice_coef: 0.2304 - val_loss: 0.5090 - val_dice_coef: 0.1826\n",
      "Epoch 26/100\n",
      "8/8 [==============================] - 7s 897ms/step - loss: 0.3533 - dice_coef: 0.2272 - val_loss: 0.4642 - val_dice_coef: 0.1936\n"
     ]
    },
    {
     "name": "stderr",
     "output_type": "stream",
     "text": [
      "WARNING:absl:Found untraced functions such as re_lu_layer_call_and_return_conditional_losses, re_lu_layer_call_fn, re_lu_1_layer_call_and_return_conditional_losses, re_lu_1_layer_call_fn, re_lu_2_layer_call_and_return_conditional_losses while saving (showing 5 of 180). These functions will not be directly callable after loading.\n"
     ]
    },
    {
     "name": "stdout",
     "output_type": "stream",
     "text": [
      "Epoch 27/100\n",
      "8/8 [==============================] - 7s 930ms/step - loss: 0.3529 - dice_coef: 0.2304 - val_loss: 0.4905 - val_dice_coef: 0.1868\n",
      "Epoch 28/100\n",
      "8/8 [==============================] - 7s 897ms/step - loss: 0.3528 - dice_coef: 0.2272 - val_loss: 0.4841 - val_dice_coef: 0.1884\n",
      "Epoch 29/100\n",
      "8/8 [==============================] - 7s 897ms/step - loss: 0.3524 - dice_coef: 0.2311 - val_loss: 0.4833 - val_dice_coef: 0.1887\n",
      "Epoch 30/100\n",
      "8/8 [==============================] - 7s 885ms/step - loss: 0.3521 - dice_coef: 0.2289 - val_loss: 0.4935 - val_dice_coef: 0.1862\n",
      "Epoch 31/100\n",
      "8/8 [==============================] - 7s 899ms/step - loss: 0.3517 - dice_coef: 0.2279 - val_loss: 0.4737 - val_dice_coef: 0.1911\n",
      "Epoch 32/100\n",
      "8/8 [==============================] - 7s 900ms/step - loss: 0.3514 - dice_coef: 0.2333 - val_loss: 0.4690 - val_dice_coef: 0.1923\n",
      "Epoch 33/100\n",
      "8/8 [==============================] - 7s 896ms/step - loss: 0.3511 - dice_coef: 0.2323 - val_loss: 0.4729 - val_dice_coef: 0.1912\n",
      "Epoch 34/100\n",
      "8/8 [==============================] - 7s 901ms/step - loss: 0.3507 - dice_coef: 0.2268 - val_loss: 0.4740 - val_dice_coef: 0.1909\n",
      "Epoch 35/100\n",
      "8/8 [==============================] - 7s 889ms/step - loss: 0.3503 - dice_coef: 0.2239 - val_loss: 0.4961 - val_dice_coef: 0.1851\n",
      "Epoch 36/100\n",
      "8/8 [==============================] - 7s 892ms/step - loss: 0.3501 - dice_coef: 0.2332 - val_loss: 0.4894 - val_dice_coef: 0.1868\n",
      "Epoch 37/100\n",
      "8/8 [==============================] - 7s 889ms/step - loss: 0.3501 - dice_coef: 0.2257 - val_loss: 0.4897 - val_dice_coef: 0.1867\n",
      "Epoch 38/100\n",
      "8/8 [==============================] - 7s 889ms/step - loss: 0.3498 - dice_coef: 0.2273 - val_loss: 0.4733 - val_dice_coef: 0.1909\n",
      "Epoch 39/100\n",
      "8/8 [==============================] - 7s 944ms/step - loss: 0.3493 - dice_coef: 0.2277 - val_loss: 0.4939 - val_dice_coef: 0.1857\n",
      "Epoch 40/100\n",
      "8/8 [==============================] - 7s 901ms/step - loss: 0.3489 - dice_coef: 0.2288 - val_loss: 0.5015 - val_dice_coef: 0.1837\n",
      "Epoch 41/100\n",
      "8/8 [==============================] - 7s 903ms/step - loss: 0.3488 - dice_coef: 0.2289 - val_loss: 0.5109 - val_dice_coef: 0.1812\n",
      "Epoch 42/100\n",
      "8/8 [==============================] - 7s 892ms/step - loss: 0.3484 - dice_coef: 0.2240 - val_loss: 0.5402 - val_dice_coef: 0.1744\n",
      "Epoch 43/100\n",
      "8/8 [==============================] - 7s 892ms/step - loss: 0.3480 - dice_coef: 0.2311 - val_loss: 0.5243 - val_dice_coef: 0.1780\n",
      "Epoch 44/100\n",
      "8/8 [==============================] - 7s 885ms/step - loss: 0.3478 - dice_coef: 0.2358 - val_loss: 0.5077 - val_dice_coef: 0.1820\n",
      "Epoch 45/100\n",
      "8/8 [==============================] - 7s 905ms/step - loss: 0.3476 - dice_coef: 0.2333 - val_loss: 0.4789 - val_dice_coef: 0.1891\n",
      "Epoch 46/100\n",
      "8/8 [==============================] - 7s 895ms/step - loss: 0.3471 - dice_coef: 0.2333 - val_loss: 0.4611 - val_dice_coef: 0.1936\n"
     ]
    },
    {
     "name": "stderr",
     "output_type": "stream",
     "text": [
      "WARNING:absl:Found untraced functions such as re_lu_layer_call_and_return_conditional_losses, re_lu_layer_call_fn, re_lu_1_layer_call_and_return_conditional_losses, re_lu_1_layer_call_fn, re_lu_2_layer_call_and_return_conditional_losses while saving (showing 5 of 180). These functions will not be directly callable after loading.\n"
     ]
    },
    {
     "name": "stdout",
     "output_type": "stream",
     "text": [
      "Epoch 47/100\n",
      "8/8 [==============================] - 7s 920ms/step - loss: 0.3470 - dice_coef: 0.2296 - val_loss: 0.5009 - val_dice_coef: 0.1833\n",
      "Epoch 48/100\n",
      "8/8 [==============================] - 7s 893ms/step - loss: 0.3467 - dice_coef: 0.2292 - val_loss: 0.5465 - val_dice_coef: 0.1728\n",
      "Epoch 49/100\n",
      "8/8 [==============================] - 7s 911ms/step - loss: 0.3465 - dice_coef: 0.2266 - val_loss: 0.5570 - val_dice_coef: 0.1705\n",
      "Epoch 50/100\n",
      "8/8 [==============================] - 7s 899ms/step - loss: 0.3459 - dice_coef: 0.2300 - val_loss: 0.5343 - val_dice_coef: 0.1755\n",
      "Epoch 51/100\n",
      "8/8 [==============================] - 7s 904ms/step - loss: 0.3457 - dice_coef: 0.2292 - val_loss: 0.5248 - val_dice_coef: 0.1775\n",
      "Epoch 52/100\n",
      "8/8 [==============================] - 7s 904ms/step - loss: 0.3456 - dice_coef: 0.2301 - val_loss: 0.5075 - val_dice_coef: 0.1816\n",
      "Epoch 53/100\n",
      "8/8 [==============================] - 7s 889ms/step - loss: 0.3451 - dice_coef: 0.2308 - val_loss: 0.5194 - val_dice_coef: 0.1787\n",
      "Epoch 54/100\n",
      "8/8 [==============================] - 7s 898ms/step - loss: 0.3448 - dice_coef: 0.2328 - val_loss: 0.4939 - val_dice_coef: 0.1847\n",
      "Epoch 55/100\n",
      "8/8 [==============================] - 7s 900ms/step - loss: 0.3446 - dice_coef: 0.2328 - val_loss: 0.4905 - val_dice_coef: 0.1855\n",
      "Epoch 56/100\n",
      "8/8 [==============================] - 7s 913ms/step - loss: 0.3443 - dice_coef: 0.2318 - val_loss: 0.4792 - val_dice_coef: 0.1883\n",
      "Epoch 57/100\n",
      "8/8 [==============================] - 7s 913ms/step - loss: 0.3439 - dice_coef: 0.2304 - val_loss: 0.4910 - val_dice_coef: 0.1852\n",
      "Epoch 58/100\n",
      "8/8 [==============================] - 7s 904ms/step - loss: 0.3436 - dice_coef: 0.2372 - val_loss: 0.5249 - val_dice_coef: 0.1771\n",
      "Epoch 59/100\n",
      "8/8 [==============================] - 7s 914ms/step - loss: 0.3438 - dice_coef: 0.2329 - val_loss: 0.5018 - val_dice_coef: 0.1824\n",
      "Epoch 60/100\n",
      "8/8 [==============================] - 7s 904ms/step - loss: 0.3433 - dice_coef: 0.2328 - val_loss: 0.4826 - val_dice_coef: 0.1873\n",
      "Epoch 61/100\n",
      "8/8 [==============================] - 7s 891ms/step - loss: 0.3429 - dice_coef: 0.2316 - val_loss: 0.4639 - val_dice_coef: 0.1920\n",
      "Epoch 62/100\n",
      "8/8 [==============================] - 7s 890ms/step - loss: 0.3426 - dice_coef: 0.2321 - val_loss: 0.4674 - val_dice_coef: 0.1911\n",
      "Epoch 63/100\n",
      "8/8 [==============================] - 7s 889ms/step - loss: 0.3422 - dice_coef: 0.2368 - val_loss: 0.4894 - val_dice_coef: 0.1855\n",
      "Epoch 64/100\n",
      "8/8 [==============================] - 7s 906ms/step - loss: 0.3420 - dice_coef: 0.2325 - val_loss: 0.4924 - val_dice_coef: 0.1845\n",
      "Epoch 65/100\n",
      "8/8 [==============================] - 7s 920ms/step - loss: 0.3417 - dice_coef: 0.2284 - val_loss: 0.4856 - val_dice_coef: 0.1862\n",
      "Epoch 66/100\n",
      "8/8 [==============================] - 7s 893ms/step - loss: 0.3415 - dice_coef: 0.2309 - val_loss: 0.4561 - val_dice_coef: 0.1941\n"
     ]
    },
    {
     "name": "stderr",
     "output_type": "stream",
     "text": [
      "WARNING:absl:Found untraced functions such as re_lu_layer_call_and_return_conditional_losses, re_lu_layer_call_fn, re_lu_1_layer_call_and_return_conditional_losses, re_lu_1_layer_call_fn, re_lu_2_layer_call_and_return_conditional_losses while saving (showing 5 of 180). These functions will not be directly callable after loading.\n"
     ]
    },
    {
     "name": "stdout",
     "output_type": "stream",
     "text": [
      "Epoch 67/100\n",
      "8/8 [==============================] - 7s 917ms/step - loss: 0.3411 - dice_coef: 0.2303 - val_loss: 0.4430 - val_dice_coef: 0.1978\n"
     ]
    },
    {
     "name": "stderr",
     "output_type": "stream",
     "text": [
      "WARNING:absl:Found untraced functions such as re_lu_layer_call_and_return_conditional_losses, re_lu_layer_call_fn, re_lu_1_layer_call_and_return_conditional_losses, re_lu_1_layer_call_fn, re_lu_2_layer_call_and_return_conditional_losses while saving (showing 5 of 180). These functions will not be directly callable after loading.\n"
     ]
    },
    {
     "name": "stdout",
     "output_type": "stream",
     "text": [
      "Epoch 68/100\n",
      "8/8 [==============================] - 7s 913ms/step - loss: 0.3409 - dice_coef: 0.2274 - val_loss: 0.4654 - val_dice_coef: 0.1915\n",
      "Epoch 69/100\n",
      "8/8 [==============================] - 7s 908ms/step - loss: 0.3407 - dice_coef: 0.2326 - val_loss: 0.4674 - val_dice_coef: 0.1908\n",
      "Epoch 70/100\n",
      "8/8 [==============================] - 7s 903ms/step - loss: 0.3403 - dice_coef: 0.2344 - val_loss: 0.4586 - val_dice_coef: 0.1932\n",
      "Epoch 71/100\n",
      "8/8 [==============================] - 7s 902ms/step - loss: 0.3399 - dice_coef: 0.2316 - val_loss: 0.4508 - val_dice_coef: 0.1952\n",
      "Epoch 72/100\n",
      "8/8 [==============================] - 7s 897ms/step - loss: 0.3395 - dice_coef: 0.2275 - val_loss: 0.4395 - val_dice_coef: 0.1984\n"
     ]
    },
    {
     "name": "stderr",
     "output_type": "stream",
     "text": [
      "WARNING:absl:Found untraced functions such as re_lu_layer_call_and_return_conditional_losses, re_lu_layer_call_fn, re_lu_1_layer_call_and_return_conditional_losses, re_lu_1_layer_call_fn, re_lu_2_layer_call_and_return_conditional_losses while saving (showing 5 of 180). These functions will not be directly callable after loading.\n"
     ]
    },
    {
     "name": "stdout",
     "output_type": "stream",
     "text": [
      "Epoch 73/100\n",
      "8/8 [==============================] - 7s 920ms/step - loss: 0.3394 - dice_coef: 0.2331 - val_loss: 0.4611 - val_dice_coef: 0.1924\n",
      "Epoch 74/100\n",
      "8/8 [==============================] - 7s 895ms/step - loss: 0.3393 - dice_coef: 0.2270 - val_loss: 0.4865 - val_dice_coef: 0.1856\n",
      "Epoch 75/100\n",
      "8/8 [==============================] - 7s 887ms/step - loss: 0.3388 - dice_coef: 0.2284 - val_loss: 0.4974 - val_dice_coef: 0.1828\n",
      "Epoch 76/100\n",
      "8/8 [==============================] - 7s 888ms/step - loss: 0.3384 - dice_coef: 0.2331 - val_loss: 0.5037 - val_dice_coef: 0.1813\n",
      "Epoch 77/100\n",
      "8/8 [==============================] - 7s 888ms/step - loss: 0.3382 - dice_coef: 0.2339 - val_loss: 0.4865 - val_dice_coef: 0.1854\n",
      "Epoch 78/100\n",
      "8/8 [==============================] - 7s 888ms/step - loss: 0.3378 - dice_coef: 0.2339 - val_loss: 0.4739 - val_dice_coef: 0.1886\n",
      "Epoch 79/100\n",
      "8/8 [==============================] - 7s 892ms/step - loss: 0.3375 - dice_coef: 0.2309 - val_loss: 0.4940 - val_dice_coef: 0.1834\n",
      "Epoch 80/100\n",
      "8/8 [==============================] - 7s 901ms/step - loss: 0.3374 - dice_coef: 0.2338 - val_loss: 0.4959 - val_dice_coef: 0.1830\n",
      "Epoch 81/100\n",
      "8/8 [==============================] - 7s 896ms/step - loss: 0.3370 - dice_coef: 0.2374 - val_loss: 0.4878 - val_dice_coef: 0.1848\n",
      "Epoch 82/100\n",
      "8/8 [==============================] - 7s 899ms/step - loss: 0.3373 - dice_coef: 0.2344 - val_loss: 0.4888 - val_dice_coef: 0.1846\n",
      "Epoch 83/100\n",
      "8/8 [==============================] - 7s 902ms/step - loss: 0.3368 - dice_coef: 0.2346 - val_loss: 0.5005 - val_dice_coef: 0.1815\n",
      "Epoch 84/100\n",
      "8/8 [==============================] - 7s 894ms/step - loss: 0.3364 - dice_coef: 0.2319 - val_loss: 0.5040 - val_dice_coef: 0.1807\n",
      "Epoch 85/100\n",
      "8/8 [==============================] - 7s 886ms/step - loss: 0.3361 - dice_coef: 0.2303 - val_loss: 0.4997 - val_dice_coef: 0.1817\n",
      "Epoch 86/100\n",
      "8/8 [==============================] - 7s 905ms/step - loss: 0.3358 - dice_coef: 0.2250 - val_loss: 0.5137 - val_dice_coef: 0.1783\n",
      "Epoch 87/100\n",
      "8/8 [==============================] - 7s 923ms/step - loss: 0.3354 - dice_coef: 0.2315 - val_loss: 0.4893 - val_dice_coef: 0.1840\n",
      "Epoch 88/100\n",
      "8/8 [==============================] - 7s 910ms/step - loss: 0.3352 - dice_coef: 0.2317 - val_loss: 0.4813 - val_dice_coef: 0.1861\n",
      "Epoch 89/100\n",
      "8/8 [==============================] - 7s 898ms/step - loss: 0.3351 - dice_coef: 0.2327 - val_loss: 0.4838 - val_dice_coef: 0.1855\n",
      "Epoch 90/100\n",
      "8/8 [==============================] - 7s 893ms/step - loss: 0.3347 - dice_coef: 0.2335 - val_loss: 0.4333 - val_dice_coef: 0.1993\n"
     ]
    },
    {
     "name": "stderr",
     "output_type": "stream",
     "text": [
      "WARNING:absl:Found untraced functions such as re_lu_layer_call_and_return_conditional_losses, re_lu_layer_call_fn, re_lu_1_layer_call_and_return_conditional_losses, re_lu_1_layer_call_fn, re_lu_2_layer_call_and_return_conditional_losses while saving (showing 5 of 180). These functions will not be directly callable after loading.\n"
     ]
    },
    {
     "name": "stdout",
     "output_type": "stream",
     "text": [
      "Epoch 91/100\n",
      "8/8 [==============================] - 7s 932ms/step - loss: 0.3343 - dice_coef: 0.2347 - val_loss: 0.4413 - val_dice_coef: 0.1968\n",
      "Epoch 92/100\n",
      "8/8 [==============================] - 7s 889ms/step - loss: 0.3343 - dice_coef: 0.2312 - val_loss: 0.4444 - val_dice_coef: 0.1960\n",
      "Epoch 93/100\n",
      "8/8 [==============================] - 7s 890ms/step - loss: 0.3340 - dice_coef: 0.2380 - val_loss: 0.4576 - val_dice_coef: 0.1923\n",
      "Epoch 94/100\n",
      "8/8 [==============================] - 7s 889ms/step - loss: 0.3333 - dice_coef: 0.2302 - val_loss: 0.4509 - val_dice_coef: 0.1942\n",
      "Epoch 95/100\n",
      "8/8 [==============================] - 7s 890ms/step - loss: 0.3331 - dice_coef: 0.2350 - val_loss: 0.4600 - val_dice_coef: 0.1915\n",
      "Epoch 96/100\n",
      "8/8 [==============================] - 7s 897ms/step - loss: 0.3330 - dice_coef: 0.2296 - val_loss: 0.4679 - val_dice_coef: 0.1893\n",
      "Epoch 97/100\n",
      "8/8 [==============================] - 7s 916ms/step - loss: 0.3327 - dice_coef: 0.2364 - val_loss: 0.4574 - val_dice_coef: 0.1921\n",
      "Epoch 98/100\n",
      "8/8 [==============================] - 7s 893ms/step - loss: 0.3324 - dice_coef: 0.2322 - val_loss: 0.4677 - val_dice_coef: 0.1894\n",
      "Epoch 99/100\n",
      "8/8 [==============================] - 7s 901ms/step - loss: 0.3322 - dice_coef: 0.2314 - val_loss: 0.4876 - val_dice_coef: 0.1839\n",
      "Epoch 100/100\n",
      "8/8 [==============================] - 7s 887ms/step - loss: 0.3319 - dice_coef: 0.2343 - val_loss: 0.5223 - val_dice_coef: 0.1754\n",
      "Model saved to: /tmp/tmpu9j0u1irGP2/unetplus_4unetplus_model\n",
      "History saved to: /tmp/tmpu9j0u1irGP2/unetplut_history_4.pkl\n",
      "Testing the classifier...\n",
      "Testing the discriminator...\n",
      "10/10 [==============================] - 0s 18ms/step - loss: 0.0000e+00 - accuracy: 1.0000\n",
      "Found 161 machine labels.\n",
      "Machine labels [  1   3   6   7   8   9  10  12  13  15  17  18  19  20  21  26  27  29\n",
      "  32  33  39  42  43  44  45  48  51  52  55  56  61  62  63  64  66  68\n",
      "  69  70  73  74  78  79  80  81  83  85  86  88  90  91  93  96  97  98\n",
      "  99 100 101 102 105 108 112 113 118 120 122 124 127 129 131 132 134 137\n",
      " 139 141 144 146 148 149 151 152 154 155 156 157 158 163 166 167 170 171\n",
      " 173 175 176 178 179 181 184 188 189 190 191 196 200 201 203 204 205 206\n",
      " 209 210 213 215 217 218 219 221 223 225 228 229 230 231 232 233 234 235\n",
      " 236 239 240 242 243 244 248 252 254 255 256 257 260 261 262 263 264 267\n",
      " 268 269 272 275 276 277 278 279 281 283 284 285 289 290 292 294 295]\n",
      "D_ids ['8a9fa5ab-c59e-4d3c-977d-0813d3aa7c6d', '3c92ae48-1a24-49b7-8946-13ba8deb1f67', 'f6788f08-ef40-4866-b61d-981d46aa8640', '5a92acaa-46ae-4955-9e9a-72a86d6ca7c2', '509917aa-de37-4d95-841f-5640c7bdc66e', '7d4fbf11-b1ed-4159-9dd9-4aa4e327928d', '19522ab3-5c4f-4020-a5a0-923cd51d2f1e', '20d8f579-bfeb-4338-9c90-04dfdec1a930', '3a31754d-2238-42f0-8e1e-74e8b0ef60f7', '2d63afe6-65b8-48a1-abec-4680457c7a03', 'b11c2756-7ef9-4d68-b3bc-3f399e659399', '0eafae88-e8e4-4c30-a78d-be4479fa1b30', '24a7c78b-6de6-4ef8-a8b8-50d2e991f6db', '77f1a0ad-3a36-4666-b90e-c6cd518cd6d7', '94008af4-ac40-4897-bc63-6460ddfed37c', 'd9c12153-e40c-4b3d-a996-8d4663d4560c', '0d98c784-dfca-4d76-a0b4-fd9993c0070e', 'f12a452a-8941-48ea-82ad-3d6e4d7206d7', '8f2befd2-d40c-44b6-816c-830f679e0aa1', '12e9aff3-3a51-4a41-9b69-f35b145c0157', '2fec0e08-da72-48dd-9912-d00e47ee58e1', '867a2ade-0f65-4f83-aa39-7c1d7dbd5d63', '1fe8d129-ba9e-4166-83bf-901021289cba', 'b1f87ed2-bc4a-44b5-964b-a65aa7740b8c', 'df1777b6-2559-431b-bef6-7490a8704f7d', '0a6bd4df-c9f4-411c-8067-76b201de33fe', '3c59336d-bce6-4375-9657-558b91e8b984', 'c024610e-0b70-4e1e-947d-3b990ad22f8b', '5ce92cf8-2cf6-4e95-a594-f855d4ed9ffb', 'b63f4dae-eff4-4260-90bf-335a1c169a65', '40ed96db-eff1-4482-ab4a-ee58cab40dd1', '834e44fc-8e1a-44cc-b98f-5cba78dff654', 'f793ed33-b1d9-42b4-99c1-86a3f45a64aa', 'c1c0b441-0806-48fd-91f9-f70c4e4e94c8', '60f3bf06-5078-4c8e-82f2-78d4322981d0', '31f3af97-b9d9-4016-8e1a-2b8297c6fac2', '1772176a-1d86-44ff-9d5d-b238d7f04c12', '358318ef-7f68-4790-b5ef-164233eafb58', '2da5c114-5613-446f-9f36-000a94e95ffe', '5fd23080-971c-4561-9cfa-e446f47d68fa', 'aa33fb6e-a02d-4cc9-91d7-66ae663006b9', 'b969d031-8c7b-4ecc-b477-e9841050c4dc', '8d376e6a-f961-49ea-b2f8-35269947f334', 'bd3a4a76-32b5-4186-8fe9-6e3e64db8e86', '671a9caa-a508-4d07-86e2-06088267e8b3', 'bcd15402-bffb-4b3f-9f85-5704c68d39da', '954233c2-315e-4ecb-a6f8-e35e034497ac', '58c93e26-df71-449f-961d-881697ecd530', '0a4192a0-2823-4985-bb68-87c013d7d0df', '89d24f17-ba11-4223-8a8a-b4a48fc430bc', 'b9d9fcd8-62ba-4f2b-98f1-087001b49af2', '77bcb9a1-9b6e-47f2-8101-58762a29ecf3', 'ee4e378c-7c5d-4851-8c47-33e32899f0a4', 'd3ddad0f-c03b-4f2d-abdf-fe2a20883418', '920b235b-b99b-4f05-87e0-c50c6082bb8f', '4768aeaa-a426-479e-a1f0-6a0bccdcac79', 'c8d0f7d1-788c-4ea5-9d98-9eec3e14d998', '33b1f700-6975-42a2-a9c0-8feada159ccd', '2c7c71f8-fdc1-401a-99af-dd58d5c1601a', '96f1208a-74dc-4ae0-a6f2-4711c7b1491a', '0ca441d1-179e-458c-b5ba-6e1b8a545d1a', 'd5221957-0235-420e-8cdc-f9d989e4cd60', '48a44a8f-4ace-4675-b7ff-88ff07b9a17f', '88b12cc8-a8e7-4444-85de-e5433475991e', 'b85c86a0-20d1-4c79-a79c-1a8ddcdb4d8c', 'f3bb9463-a715-48ac-a638-84ec4ca4ddb6', '54db47e5-efd8-4b94-83e7-d377cb349f38', 'af931ea4-237c-4bef-935b-2138f0868e1f', 'c3c9a207-8666-4707-b896-3316d8a0bf7f', 'd93c5a36-4db1-4a99-bbe0-1e4d8f9e0429', '572103ef-903d-47d5-afa5-2e0d1914123a', 'c374ff48-bb72-4ac5-b985-1ee9a0545a52', '9d820ade-e973-41c1-a93c-9c2c70c8b525', 'e109dbc3-15e5-4e36-813e-36b60a103ad3', 'a2c3fca6-b9ea-4142-a7f1-543aac6b137e', '66ce2b29-f1b1-4a6b-9a5e-b19c3fe58fa9', '7d2e50f1-3e64-4240-9b33-a2da440ca2b9', '5a9d5139-fc2d-40e9-bb5c-3bdb96944b68', '67c49139-232c-47e1-bb00-c3acd7fa8715', 'ef099180-0149-44a8-a5ab-bc4987276414', '22f7c6a6-8597-4de2-a5cb-1ba49c67fb21', 'e50623a6-022b-4ba0-ac31-52fa3f3233c9', 'b7721651-9ee7-4758-a612-adfd50b20f87', 'c43e976e-7934-4173-b136-7a4db1a6221f', 'a275cca7-a6b8-427e-8f91-1a9e64b4bae7', 'cf8505ec-a865-457e-9ebc-fe41054a8456', '432b8d62-254b-4616-931f-0e71e2ac4522', '2de03d5f-3627-43d2-8630-09965a733925', '837ced3c-3485-4cc4-b7fe-0ae6a8934248', 'be2ef1a3-cd08-4662-861d-9591b1153859', '7e76e0e7-1663-443e-82aa-1bae1487f08b', 'c8b88517-8d39-4cf9-a9b6-0bf21bc0d4e5', 'de309003-c9df-4243-9b2d-4a1f5cfb50a3', 'abd92d39-852e-4e3f-a46d-a578fb7505b3', '87e1c739-fe09-4e61-becb-3d73e9790a05', '0162b4ee-12f1-4c1d-9b06-d8f40b5844a5', '3966c8bb-6436-492a-a65c-10ea9471ee2f', 'd298658d-7d8a-47cc-8573-2aac49ed9d85', 'cfd0acd4-a84d-4e60-9554-732d33323119', '08d92e66-bbc1-4bfb-98c9-7400d98801cf', '3c46f5af-5667-4f94-bf42-6fa5aecc4d31', '76b6bcfe-6381-420b-b775-42459200837d', 'f996a72d-dec3-4dc2-91fb-ffebfd7fb657', '6662c84e-512f-45db-a3a2-d97af90f059e', '54c8eaa5-68d5-47b0-a386-d38f17669712', 'a37b81ff-f831-4d70-b7f1-9186fc696f59', '4a555da0-5a8f-411a-a7af-7f7ea45aaf12', '64efc9e2-6393-48f6-b4f3-15855487d880', 'f1550ce9-ffad-42fd-9d0e-14964c42a82f', '98783043-ca28-4995-9bb9-b5c8621a0cee', '58339ada-c178-416c-85eb-57123e544f28', 'dadd3096-8561-4913-aa24-33a4afef5b2a', '84eb6563-c841-4e93-a2a2-ddf8223e38c4', 'a544bf9f-97e0-4062-909b-62fa79670c2c', '746a8d97-7e96-47a2-a7c8-b707a709dc7b', '53f06bfe-2305-4d2b-b89d-74b7846d35b7', '254b6809-69bf-4cc9-b9ad-dfd5a1a95810', '3adf1456-8bab-47c5-bc32-6b9fed48d791', '87b0580b-17af-48ee-b8b3-a7d0f19a374d', '9b18a07c-e775-4aa4-9e69-312d7a723c29', '45a69541-e2e5-43a2-b3eb-d5c8dbbef0b8', '27e27eba-af60-4cdd-a0ed-ce9dfff2f93e', '555ca5d6-7a17-4d34-a2e2-ef2a2776ea24', 'cfc582ae-5983-47a4-bf54-5b50245ebe7d', 'bdf6c6b7-4654-4fae-91f8-7c7a748b44da', 'de3a22cf-a187-449a-bd12-db4dbc71ecc9', 'ba0e52de-94ca-4f9e-aea8-17576f9bead0', '3f654d2d-c0d2-41e0-bc88-20684e47dfb2', '028246cb-0539-46a3-9bc2-c26994b1c0ce', '00498bf5-9a58-4c0a-8ecb-98bcd9cf23d0', '8869900e-de34-4c94-9e81-8c38f07e9b0c', '573a70e9-5e0f-47c1-a9e0-029e4d8aa2be', '19b84a85-ce0d-4a5f-812c-abdcdffcdcb5', '6db10a84-6ba1-4169-af06-39c40ce5bbf2', '3882eb10-7a0c-4337-b55a-fa9a48cd6879', '020e0404-14fe-4746-9c2f-952df9283de8', '79c01032-5c79-4f63-a2cb-0a98eea23973', '910a77be-45e4-44f9-b6e7-79867764ff7d', '94b47b77-4ac0-4259-931c-12c40fc61b2a', '73bb1588-79a6-4362-83fd-320792481808', 'c5110345-babe-4a49-b091-e394a5bc5a9d', 'e8bb995c-71ab-4609-866f-ed29d117bb7f', '1ef7d947-130e-4d8b-b9ea-869398aeacb0', 'ffb1880a-bc37-4262-92c3-deee2d82ac16', 'da64007b-1d0d-428b-ac78-2ca864ec4dc6', '9fa02924-0944-4d90-bf54-a048fa5a0fda', '3f9adde6-493f-4b93-977a-5b24bc594200', '67ce57fb-0be6-4e7a-b26d-c9d489db5c09', '07a8c27a-b140-47a0-a7e9-f8ca998690b4', '3e924831-91e7-4838-aab8-ac0796a643b6', '88076f85-a059-4764-aadf-ffd829f49af2', '5b906121-6ce4-4b4a-b695-787ff5f93ece', 'f17c38f0-2184-450d-a74f-3d84a6007878', 'c01b4bac-69c1-49a3-b945-2e1694ca53c5', '89673e2c-f107-43cc-bf70-c4f007799ec6', '320d3fb4-35b3-4252-ae6b-b287c218560c', 'f774b11c-13d9-4b5c-b485-61198c5f5172', '69841034-54a3-4747-b11d-5a8fc72e2be8', '3b48a2d4-ce15-4fb7-8d5c-6744cc64639d', 'db394e55-dd37-44bf-a773-8de6331cd867', 'e66bc34f-39ae-452e-b346-aa9f7abb2187']\n"
     ]
    },
    {
     "name": "stdout",
     "output_type": "stream",
     "text": [
      "Replacing 53 from 161 !\n",
      "D_relabeled_ 53\n",
      "selected_ids ['c1c0b441-0806-48fd-91f9-f70c4e4e94c8', '4768aeaa-a426-479e-a1f0-6a0bccdcac79', '9d820ade-e973-41c1-a93c-9c2c70c8b525', '834e44fc-8e1a-44cc-b98f-5cba78dff654', 'cf8505ec-a865-457e-9ebc-fe41054a8456', '8d376e6a-f961-49ea-b2f8-35269947f334', '746a8d97-7e96-47a2-a7c8-b707a709dc7b', 'f3bb9463-a715-48ac-a638-84ec4ca4ddb6', '96f1208a-74dc-4ae0-a6f2-4711c7b1491a', '3c92ae48-1a24-49b7-8946-13ba8deb1f67', 'e109dbc3-15e5-4e36-813e-36b60a103ad3', '77bcb9a1-9b6e-47f2-8101-58762a29ecf3', '8a9fa5ab-c59e-4d3c-977d-0813d3aa7c6d', '64efc9e2-6393-48f6-b4f3-15855487d880', '3b48a2d4-ce15-4fb7-8d5c-6744cc64639d', '5a9d5139-fc2d-40e9-bb5c-3bdb96944b68', '08d92e66-bbc1-4bfb-98c9-7400d98801cf', '0a6bd4df-c9f4-411c-8067-76b201de33fe', '87e1c739-fe09-4e61-becb-3d73e9790a05', '98783043-ca28-4995-9bb9-b5c8621a0cee', '3c46f5af-5667-4f94-bf42-6fa5aecc4d31', 'aa33fb6e-a02d-4cc9-91d7-66ae663006b9', 'b63f4dae-eff4-4260-90bf-335a1c169a65', '0ca441d1-179e-458c-b5ba-6e1b8a545d1a', '53f06bfe-2305-4d2b-b89d-74b7846d35b7', '22f7c6a6-8597-4de2-a5cb-1ba49c67fb21', '00498bf5-9a58-4c0a-8ecb-98bcd9cf23d0', '3f654d2d-c0d2-41e0-bc88-20684e47dfb2', 'f6788f08-ef40-4866-b61d-981d46aa8640', 'c01b4bac-69c1-49a3-b945-2e1694ca53c5', 'b7721651-9ee7-4758-a612-adfd50b20f87', 'de309003-c9df-4243-9b2d-4a1f5cfb50a3', '572103ef-903d-47d5-afa5-2e0d1914123a', '5a92acaa-46ae-4955-9e9a-72a86d6ca7c2', '33b1f700-6975-42a2-a9c0-8feada159ccd', 'ffb1880a-bc37-4262-92c3-deee2d82ac16', 'de3a22cf-a187-449a-bd12-db4dbc71ecc9', 'be2ef1a3-cd08-4662-861d-9591b1153859', 'f1550ce9-ffad-42fd-9d0e-14964c42a82f', '4a555da0-5a8f-411a-a7af-7f7ea45aaf12', '0eafae88-e8e4-4c30-a78d-be4479fa1b30', 'c8b88517-8d39-4cf9-a9b6-0bf21bc0d4e5', '320d3fb4-35b3-4252-ae6b-b287c218560c', '3966c8bb-6436-492a-a65c-10ea9471ee2f', '60f3bf06-5078-4c8e-82f2-78d4322981d0', 'a2c3fca6-b9ea-4142-a7f1-543aac6b137e', '8f2befd2-d40c-44b6-816c-830f679e0aa1', '9fa02924-0944-4d90-bf54-a048fa5a0fda', '432b8d62-254b-4616-931f-0e71e2ac4522', '5b906121-6ce4-4b4a-b695-787ff5f93ece', 'ee4e378c-7c5d-4851-8c47-33e32899f0a4', 'b1f87ed2-bc4a-44b5-964b-a65aa7740b8c', 'c8d0f7d1-788c-4ea5-9d98-9eec3e14d998']\n",
      "dict_keys(['c1c0b441-0806-48fd-91f9-f70c4e4e94c8', '4768aeaa-a426-479e-a1f0-6a0bccdcac79', '9d820ade-e973-41c1-a93c-9c2c70c8b525', '834e44fc-8e1a-44cc-b98f-5cba78dff654', 'cf8505ec-a865-457e-9ebc-fe41054a8456', '8d376e6a-f961-49ea-b2f8-35269947f334', '746a8d97-7e96-47a2-a7c8-b707a709dc7b', 'f3bb9463-a715-48ac-a638-84ec4ca4ddb6', '96f1208a-74dc-4ae0-a6f2-4711c7b1491a', '3c92ae48-1a24-49b7-8946-13ba8deb1f67', 'e109dbc3-15e5-4e36-813e-36b60a103ad3', '77bcb9a1-9b6e-47f2-8101-58762a29ecf3', '8a9fa5ab-c59e-4d3c-977d-0813d3aa7c6d', '64efc9e2-6393-48f6-b4f3-15855487d880', '3b48a2d4-ce15-4fb7-8d5c-6744cc64639d', '5a9d5139-fc2d-40e9-bb5c-3bdb96944b68', '08d92e66-bbc1-4bfb-98c9-7400d98801cf', '0a6bd4df-c9f4-411c-8067-76b201de33fe', '87e1c739-fe09-4e61-becb-3d73e9790a05', '98783043-ca28-4995-9bb9-b5c8621a0cee', '3c46f5af-5667-4f94-bf42-6fa5aecc4d31', 'aa33fb6e-a02d-4cc9-91d7-66ae663006b9', 'b63f4dae-eff4-4260-90bf-335a1c169a65', '0ca441d1-179e-458c-b5ba-6e1b8a545d1a', '53f06bfe-2305-4d2b-b89d-74b7846d35b7', '22f7c6a6-8597-4de2-a5cb-1ba49c67fb21', '00498bf5-9a58-4c0a-8ecb-98bcd9cf23d0', '3f654d2d-c0d2-41e0-bc88-20684e47dfb2', 'f6788f08-ef40-4866-b61d-981d46aa8640', 'c01b4bac-69c1-49a3-b945-2e1694ca53c5', 'b7721651-9ee7-4758-a612-adfd50b20f87', 'de309003-c9df-4243-9b2d-4a1f5cfb50a3', '572103ef-903d-47d5-afa5-2e0d1914123a', '5a92acaa-46ae-4955-9e9a-72a86d6ca7c2', '33b1f700-6975-42a2-a9c0-8feada159ccd', 'ffb1880a-bc37-4262-92c3-deee2d82ac16', 'de3a22cf-a187-449a-bd12-db4dbc71ecc9', 'be2ef1a3-cd08-4662-861d-9591b1153859', 'f1550ce9-ffad-42fd-9d0e-14964c42a82f', '4a555da0-5a8f-411a-a7af-7f7ea45aaf12', '0eafae88-e8e4-4c30-a78d-be4479fa1b30', 'c8b88517-8d39-4cf9-a9b6-0bf21bc0d4e5', '320d3fb4-35b3-4252-ae6b-b287c218560c', '3966c8bb-6436-492a-a65c-10ea9471ee2f', '60f3bf06-5078-4c8e-82f2-78d4322981d0', 'a2c3fca6-b9ea-4142-a7f1-543aac6b137e', '8f2befd2-d40c-44b6-816c-830f679e0aa1', '9fa02924-0944-4d90-bf54-a048fa5a0fda', '432b8d62-254b-4616-931f-0e71e2ac4522', '5b906121-6ce4-4b4a-b695-787ff5f93ece', 'ee4e378c-7c5d-4851-8c47-33e32899f0a4', 'b1f87ed2-bc4a-44b5-964b-a65aa7740b8c', 'c8d0f7d1-788c-4ea5-9d98-9eec3e14d998'])\n",
      "point ids 53\n",
      "Removed: 53 Filled: 53\n",
      "TOOK 860.2017078399658 seconds\n",
      "==== DONE LOOP 4 ====\n"
     ]
    }
   ],
   "source": [
    "R.run(images=images, masks=masks, weights=weights, runs=5)    "
   ]
  },
  {
   "cell_type": "code",
   "execution_count": null,
   "id": "a76a4615",
   "metadata": {},
   "outputs": [],
   "source": []
  },
  {
   "cell_type": "code",
   "execution_count": 11,
   "id": "00075332",
   "metadata": {},
   "outputs": [
    {
     "name": "stderr",
     "output_type": "stream",
     "text": [
      "[autoreload of gp2.runner failed: Traceback (most recent call last):\n",
      "  File \"/home/ryan.zurrin001/miniconda3/envs/O/lib/python3.9/site-packages/IPython/extensions/autoreload.py\", line 245, in check\n",
      "    superreload(m, reload, self.old_objects)\n",
      "  File \"/home/ryan.zurrin001/miniconda3/envs/O/lib/python3.9/site-packages/IPython/extensions/autoreload.py\", line 394, in superreload\n",
      "    module = reload(module)\n",
      "  File \"/home/ryan.zurrin001/miniconda3/envs/O/lib/python3.9/imp.py\", line 314, in reload\n",
      "    return importlib.reload(module)\n",
      "  File \"/home/ryan.zurrin001/miniconda3/envs/O/lib/python3.9/importlib/__init__.py\", line 169, in reload\n",
      "    _bootstrap._exec(spec, module)\n",
      "  File \"<frozen importlib._bootstrap>\", line 613, in _exec\n",
      "  File \"<frozen importlib._bootstrap_external>\", line 846, in exec_module\n",
      "  File \"<frozen importlib._bootstrap_external>\", line 983, in get_code\n",
      "  File \"<frozen importlib._bootstrap_external>\", line 913, in source_to_code\n",
      "  File \"<frozen importlib._bootstrap>\", line 228, in _call_with_frames_removed\n",
      "  File \"/home/ryan.zurrin001/Projects/CS410-Omama/_EXPERIMENTS/GP2/../../gp2/runner.py\", line 100\n",
      "    self.discriminator_scores = []\n",
      "    ^\n",
      "IndentationError: expected an indented block\n",
      "]\n"
     ]
    },
    {
     "data": {
      "text/plain": [
       "[[0.6417630314826965, 0.16794344782829285],\n",
       " [0.6554505228996277, 0.16220250725746155],\n",
       " [0.5695234537124634, 0.1736798733472824],\n",
       " [0.5002044439315796, 0.18404240906238556],\n",
       " [0.5202838778495789, 0.17408281564712524]]"
      ]
     },
     "execution_count": 11,
     "metadata": {},
     "output_type": "execute_result"
    }
   ],
   "source": [
    "R.classifier_scores"
   ]
  },
  {
   "cell_type": "code",
   "execution_count": 12,
   "id": "35105656",
   "metadata": {},
   "outputs": [
    {
     "data": {
      "text/plain": [
       "[[0.0, 1.0], [0.0, 1.0], [0.0, 1.0], [0.0, 1.0], [0.0, 1.0]]"
      ]
     },
     "execution_count": 12,
     "metadata": {},
     "output_type": "execute_result"
    }
   ],
   "source": [
    "R.discriminator_scores"
   ]
  },
  {
   "cell_type": "code",
   "execution_count": 13,
   "id": "e83097e2",
   "metadata": {},
   "outputs": [
    {
     "data": {
      "image/png": "[encoded data removed]",
      "text/plain": [
       "<Figure size 240x240 with 1 Axes>"
      ]
     },
     "metadata": {
      "needs_background": "light"
     },
     "output_type": "display_data"
    }
   ],
   "source": [
    "R.plot()"
   ]
  },
  {
   "cell_type": "code",
   "execution_count": null,
   "id": "f5fc9a9c",
   "metadata": {},
   "outputs": [],
   "source": []
  },
  {
   "cell_type": "code",
   "execution_count": null,
   "id": "137c8ac9",
   "metadata": {},
   "outputs": [],
   "source": []
  },
  {
   "cell_type": "code",
   "execution_count": 16,
   "id": "be8ea54d",
   "metadata": {},
   "outputs": [
    {
     "data": {
      "image/png": "[encoded data removed]",
      "text/plain": [
       "<Figure size 240x240 with 1 Axes>"
      ]
     },
     "metadata": {
      "needs_background": "light"
     },
     "output_type": "display_data"
    }
   ],
   "source": [
    "R.plot()"
   ]
  },
  {
   "cell_type": "code",
   "execution_count": null,
   "id": "bbdae871",
   "metadata": {},
   "outputs": [],
   "source": []
  },
  {
   "cell_type": "code",
   "execution_count": null,
   "id": "7f1f6647",
   "metadata": {},
   "outputs": [],
   "source": []
  },
  {
   "cell_type": "code",
   "execution_count": null,
   "id": "d406fcf5",
   "metadata": {},
   "outputs": [],
   "source": []
  },
  {
   "cell_type": "code",
   "execution_count": 17,
   "id": "0a721a90",
   "metadata": {},
   "outputs": [
    {
     "data": {
      "image/png": "[encoded data removed]",
      "text/plain": [
       "<Figure size 240x240 with 1 Axes>"
      ]
     },
     "metadata": {
      "needs_background": "light"
     },
     "output_type": "display_data"
    }
   ],
   "source": [
    "R.plot()"
   ]
  },
  {
   "cell_type": "code",
   "execution_count": null,
   "id": "551de181",
   "metadata": {},
   "outputs": [],
   "source": []
  }
 ],
 "metadata": {
  "kernelspec": {
   "display_name": "Python 3 (ipykernel)",
   "language": "python",
   "name": "python3"
  },
  "language_info": {
   "codemirror_mode": {
    "name": "ipython",
    "version": 3
   },
   "file_extension": ".py",
   "mimetype": "text/x-python",
   "name": "python",
   "nbconvert_exporter": "python",
   "pygments_lexer": "ipython3",
   "version": "3.9.7"
  }
 },
 "nbformat": 4,
 "nbformat_minor": 5
}
