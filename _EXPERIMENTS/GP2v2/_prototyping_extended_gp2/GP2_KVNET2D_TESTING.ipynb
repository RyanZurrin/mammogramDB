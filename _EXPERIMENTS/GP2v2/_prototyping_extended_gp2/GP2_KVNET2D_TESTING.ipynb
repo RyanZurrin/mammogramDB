{
 "cells": [
  {
   "cell_type": "code",
   "execution_count": 2,
   "id": "06c4accc",
   "metadata": {},
   "outputs": [
    {
     "name": "stdout",
     "output_type": "stream",
     "text": [
      "Populating the interactive namespace from numpy and matplotlib\n"
     ]
    }
   ],
   "source": [
    "%pylab inline\n",
    "%load_ext autoreload\n",
    "%autoreload 2"
   ]
  },
  {
   "cell_type": "code",
   "execution_count": 3,
   "id": "861fc4c8",
   "metadata": {},
   "outputs": [],
   "source": [
    "import time\n",
    "import sys\n",
    "sys.path.insert(0,'../..')\n",
    "import gp2\n",
    "from gp2 import Runner\n",
    "from keras import losses, metrics\n",
    "from tensorflow.keras import optimizers"
   ]
  },
  {
   "cell_type": "code",
   "execution_count": 4,
   "id": "e4e87808",
   "metadata": {},
   "outputs": [
    {
     "name": "stdout",
     "output_type": "stream",
     "text": [
      "Help on class KVNet2D in module gp2.gp2.classifiers.k_vnet2d:\n",
      "\n",
      "class KVNet2D(gp2.gp2.classifiers.base_keras_segmentation_classifier.BaseKerasSegmentationClassifier)\n",
      " |  KVNet2D(input_size=(512, 512, 1), filter_num=None, n_labels=1, res_num_ini=1, res_num_max=2, activation='ReLU', output_activation='Sigmoid', batch_norm=True, pool=False, unpool=False, name='vnet', optimizer=None, loss=None, metric=None, verbose=False, workingdir='/tmp')\n",
      " |  \n",
      " |  KVNet2D for binary segmentation\n",
      " |  \n",
      " |  Method resolution order:\n",
      " |      KVNet2D\n",
      " |      gp2.gp2.classifiers.base_keras_segmentation_classifier.BaseKerasSegmentationClassifier\n",
      " |      gp2.gp2.classifiers.classifier.Classifier\n",
      " |      builtins.object\n",
      " |  \n",
      " |  Methods defined here:\n",
      " |  \n",
      " |  __init__(self, input_size=(512, 512, 1), filter_num=None, n_labels=1, res_num_ini=1, res_num_max=2, activation='ReLU', output_activation='Sigmoid', batch_norm=True, pool=False, unpool=False, name='vnet', optimizer=None, loss=None, metric=None, verbose=False, workingdir='/tmp')\n",
      " |      vnet 2d\n",
      " |      \n",
      " |      vnet_2d(input_size, filter_num, n_labels,\n",
      " |              res_num_ini=1, res_num_max=3,\n",
      " |              activation='ReLU', output_activation='Softmax',\n",
      " |              batch_norm=False, pool=True, unpool=True, name='vnet')\n",
      " |      \n",
      " |      Milletari, F., Navab, N. and Ahmadi, S.A., 2016, October. V-net: Fully convolutional neural\n",
      " |      networks for volumetric medical image segmentation. In 2016 fourth international conference\n",
      " |      on 3D vision (3DV) (pp. 565-571). IEEE.\n",
      " |      \n",
      " |      The Two-dimensional version is inspired by:\n",
      " |      https://github.com/FENGShuanglang/2D-Vnet-Keras\n",
      " |      \n",
      " |      Input\n",
      " |      ----------\n",
      " |          input_size: the size/shape of network input, e.g., `(128, 128, 3)`.\n",
      " |          filter_num: a list that defines the number of filters for each                         down- and upsampling levels. e.g., `[64, 128, 256, 512]`.\n",
      " |                      The depth is expected as `len(filter_num)`.\n",
      " |          n_labels: number of output labels.\n",
      " |          res_num_ini: number of convolutional layers of the first first residual block (before downsampling).\n",
      " |          res_num_max: the max number of convolutional layers within a residual block.\n",
      " |          activation: one of the `tensorflow.keras.layers` or `keras_unet_collection.activations` interfaces, e.g., 'ReLU'.\n",
      " |          output_activation: one of the `tensorflow.keras.layers` or `keras_unet_collection.activations` interface or 'Sigmoid'.\n",
      " |                             Default option is 'Softmax'.\n",
      " |                             if None is received, then linear activation is applied.\n",
      " |          batch_norm: True for batch normalization.\n",
      " |          pool: True or 'max' for MaxPooling2D.\n",
      " |                'ave' for AveragePooling2D.\n",
      " |                False for strided conv + batch norm + activation.\n",
      " |          unpool: True or 'bilinear' for Upsampling2D with bilinear interpolation.\n",
      " |                  'nearest' for Upsampling2D with nearest interpolation.\n",
      " |                  False for Conv2DTranspose + batch norm + activation.\n",
      " |          name: prefix of the created keras layers.\n",
      " |      \n",
      " |      Output\n",
      " |      ----------\n",
      " |          model: a keras model.\n",
      " |      \n",
      " |      * This is a modified version of V-net for 2-d inputw.\n",
      " |      * The original work supports `pool=False` only.\n",
      " |        If pool is True, 'max', or 'ave', an additional conv2d layer will be applied.\n",
      " |      * All the 5-by-5 convolutional kernels are changed (and fixed) to 3-by-3.\n",
      " |  \n",
      " |  ----------------------------------------------------------------------\n",
      " |  Methods inherited from gp2.gp2.classifiers.base_keras_segmentation_classifier.BaseKerasSegmentationClassifier:\n",
      " |  \n",
      " |  __str__(self)\n",
      " |      Return str(self).\n",
      " |  \n",
      " |  build(self)\n",
      " |  \n",
      " |  predict(self, X_test, y_pred, threshold=0.5)\n",
      " |  \n",
      " |  train(self, X_train, y_train, X_val, y_val, patience_counter=2, batch_size=64, epochs=100, call_backs=None)\n",
      " |  \n",
      " |  ----------------------------------------------------------------------\n",
      " |  Data descriptors inherited from gp2.gp2.classifiers.classifier.Classifier:\n",
      " |  \n",
      " |  __dict__\n",
      " |      dictionary for instance variables (if defined)\n",
      " |  \n",
      " |  __weakref__\n",
      " |      list of weak references to the object (if defined)\n",
      "\n"
     ]
    }
   ],
   "source": [
    "help(gp2.KVNet2D)"
   ]
  },
  {
   "cell_type": "code",
   "execution_count": 5,
   "id": "bdc75325",
   "metadata": {},
   "outputs": [
    {
     "name": "stderr",
     "output_type": "stream",
     "text": [
      "2023-04-23 14:51:33.709799: I tensorflow/core/platform/cpu_feature_guard.cc:142] This TensorFlow binary is optimized with oneAPI Deep Neural Network Library (oneDNN) to use the following CPU instructions in performance-critical operations:  AVX2 FMA\n",
      "To enable them in other operations, rebuild TensorFlow with the appropriate compiler flags.\n",
      "2023-04-23 14:51:34.035790: I tensorflow/core/common_runtime/gpu/gpu_device.cc:1733] Found device 0 with properties: \n",
      "pciBusID: 0000:07:00.0 name: A100-SXM4-40GB computeCapability: 8.0\n",
      "coreClock: 1.41GHz coreCount: 108 deviceMemorySize: 39.59GiB deviceMemoryBandwidth: 1.41TiB/s\n",
      "2023-04-23 14:51:34.038408: I tensorflow/core/common_runtime/gpu/gpu_device.cc:1733] Found device 1 with properties: \n",
      "pciBusID: 0000:0f:00.0 name: A100-SXM4-40GB computeCapability: 8.0\n",
      "coreClock: 1.41GHz coreCount: 108 deviceMemorySize: 39.59GiB deviceMemoryBandwidth: 1.41TiB/s\n",
      "2023-04-23 14:51:34.040781: I tensorflow/core/common_runtime/gpu/gpu_device.cc:1733] Found device 2 with properties: \n",
      "pciBusID: 0000:87:00.0 name: A100-SXM4-40GB computeCapability: 8.0\n",
      "coreClock: 1.41GHz coreCount: 108 deviceMemorySize: 39.59GiB deviceMemoryBandwidth: 1.41TiB/s\n",
      "2023-04-23 14:51:34.054882: I tensorflow/core/common_runtime/gpu/gpu_device.cc:1871] Adding visible gpu devices: 0, 1, 2\n",
      "2023-04-23 14:51:34.054941: I tensorflow/stream_executor/platform/default/dso_loader.cc:53] Successfully opened dynamic library libcudart.so.11.0\n",
      "2023-04-23 14:51:35.200674: I tensorflow/core/common_runtime/gpu/gpu_device.cc:1258] Device interconnect StreamExecutor with strength 1 edge matrix:\n",
      "2023-04-23 14:51:35.200724: I tensorflow/core/common_runtime/gpu/gpu_device.cc:1264]      0 1 2 \n",
      "2023-04-23 14:51:35.200730: I tensorflow/core/common_runtime/gpu/gpu_device.cc:1277] 0:   N Y Y \n",
      "2023-04-23 14:51:35.200734: I tensorflow/core/common_runtime/gpu/gpu_device.cc:1277] 1:   Y N Y \n",
      "2023-04-23 14:51:35.200737: I tensorflow/core/common_runtime/gpu/gpu_device.cc:1277] 2:   Y Y N \n",
      "2023-04-23 14:51:35.218006: I tensorflow/core/common_runtime/gpu/gpu_device.cc:1418] Created TensorFlow device (/job:localhost/replica:0/task:0/device:GPU:0 with 38425 MB memory) -> physical GPU (device: 0, name: A100-SXM4-40GB, pci bus id: 0000:07:00.0, compute capability: 8.0)\n",
      "2023-04-23 14:51:35.220645: I tensorflow/core/common_runtime/gpu/gpu_device.cc:1418] Created TensorFlow device (/job:localhost/replica:0/task:0/device:GPU:1 with 38425 MB memory) -> physical GPU (device: 1, name: A100-SXM4-40GB, pci bus id: 0000:0f:00.0, compute capability: 8.0)\n",
      "2023-04-23 14:51:35.223187: I tensorflow/core/common_runtime/gpu/gpu_device.cc:1418] Created TensorFlow device (/job:localhost/replica:0/task:0/device:GPU:2 with 38425 MB memory) -> physical GPU (device: 2, name: A100-SXM4-40GB, pci bus id: 0000:87:00.0, compute capability: 8.0)\n"
     ]
    },
    {
     "name": "stdout",
     "output_type": "stream",
     "text": [
      "*** GP2  KVNet2D ***\n",
      "Working directory: /tmp/tmpqyg2j1d9GP2\n",
      "Verbose mode active!\n",
      "{'verbose': True, 'workingdir': '/tmp/tmpqyg2j1d9GP2', 'input_size': (512, 512, 1), 'filter_num': [16, 32, 64, 128], 'n_labels': 1, 'res_num_ini': 1, 'res_num_max': 2, 'activation': 'ReLU', 'output_activation': 'Sigmoid', 'batch_norm': True, 'pool': False, 'unpool': False, 'name': 'vnet', 'optimizer': <tensorflow.python.keras.optimizer_v2.adam.Adam object at 0x7f34b3184190>, 'loss': <function binary_crossentropy at 0x7f35151678b0>, 'metric': [<function Util.dice_coef at 0x7f3514177280>], 'model': <tensorflow.python.keras.engine.functional.Functional object at 0x7f34b00ad6a0>}\n",
      "Model summary:\n",
      "Model: \"vnet_model\"\n",
      "__________________________________________________________________________________________________\n",
      "Layer (type)                    Output Shape         Param #     Connected to                     \n",
      "==================================================================================================\n",
      "input_1 (InputLayer)            [(None, 512, 512, 1) 0                                            \n",
      "__________________________________________________________________________________________________\n",
      "vnet_input_conv_0 (Conv2D)      (None, 512, 512, 16) 144         input_1[0][0]                    \n",
      "__________________________________________________________________________________________________\n",
      "vnet_input_conv_0_bn (BatchNorm (None, 512, 512, 16) 64          vnet_input_conv_0[0][0]          \n",
      "__________________________________________________________________________________________________\n",
      "vnet_input_conv_0_activation (R (None, 512, 512, 16) 0           vnet_input_conv_0_bn[0][0]       \n",
      "__________________________________________________________________________________________________\n",
      "vnet_down_0_0 (Conv2D)          (None, 512, 512, 16) 2304        vnet_input_conv_0_activation[0][0\n",
      "__________________________________________________________________________________________________\n",
      "vnet_down_0_0_bn (BatchNormaliz (None, 512, 512, 16) 64          vnet_down_0_0[0][0]              \n",
      "__________________________________________________________________________________________________\n",
      "vnet_down_0_0_activation (ReLU) (None, 512, 512, 16) 0           vnet_down_0_0_bn[0][0]           \n",
      "__________________________________________________________________________________________________\n",
      "vnet_down_0_add (Add)           (None, 512, 512, 16) 0           vnet_input_conv_0_activation[0][0\n",
      "                                                                 vnet_down_0_0_activation[0][0]   \n",
      "__________________________________________________________________________________________________\n",
      "vnet_down_0_add_activation (ReL (None, 512, 512, 16) 0           vnet_down_0_add[0][0]            \n",
      "__________________________________________________________________________________________________\n",
      "vnet_down_1_encode_stride_conv  (None, 256, 256, 32) 2048        vnet_down_0_add_activation[0][0] \n",
      "__________________________________________________________________________________________________\n",
      "vnet_down_1_encode_bn (BatchNor (None, 256, 256, 32) 128         vnet_down_1_encode_stride_conv[0]\n",
      "__________________________________________________________________________________________________\n",
      "vnet_down_1_encode_activation ( (None, 256, 256, 32) 0           vnet_down_1_encode_bn[0][0]      \n",
      "__________________________________________________________________________________________________\n",
      "vnet_down_1_res_conv_0 (Conv2D) (None, 256, 256, 32) 9216        vnet_down_1_encode_activation[0][\n",
      "__________________________________________________________________________________________________\n",
      "vnet_down_1_res_conv_0_bn (Batc (None, 256, 256, 32) 128         vnet_down_1_res_conv_0[0][0]     \n",
      "__________________________________________________________________________________________________\n",
      "vnet_down_1_res_conv_0_activati (None, 256, 256, 32) 0           vnet_down_1_res_conv_0_bn[0][0]  \n",
      "__________________________________________________________________________________________________\n",
      "vnet_down_1_res_conv_1 (Conv2D) (None, 256, 256, 32) 9216        vnet_down_1_res_conv_0_activation\n",
      "__________________________________________________________________________________________________\n",
      "vnet_down_1_res_conv_1_bn (Batc (None, 256, 256, 32) 128         vnet_down_1_res_conv_1[0][0]     \n",
      "__________________________________________________________________________________________________\n",
      "vnet_down_1_res_conv_1_activati (None, 256, 256, 32) 0           vnet_down_1_res_conv_1_bn[0][0]  \n",
      "__________________________________________________________________________________________________\n",
      "vnet_down_1_res_conv_add (Add)  (None, 256, 256, 32) 0           vnet_down_1_encode_activation[0][\n",
      "                                                                 vnet_down_1_res_conv_1_activation\n",
      "__________________________________________________________________________________________________\n",
      "vnet_down_1_res_conv_add_activa (None, 256, 256, 32) 0           vnet_down_1_res_conv_add[0][0]   \n",
      "__________________________________________________________________________________________________\n",
      "vnet_down_2_encode_stride_conv  (None, 128, 128, 64) 8192        vnet_down_1_res_conv_add_activati\n",
      "__________________________________________________________________________________________________\n",
      "vnet_down_2_encode_bn (BatchNor (None, 128, 128, 64) 256         vnet_down_2_encode_stride_conv[0]\n",
      "__________________________________________________________________________________________________\n",
      "vnet_down_2_encode_activation ( (None, 128, 128, 64) 0           vnet_down_2_encode_bn[0][0]      \n",
      "__________________________________________________________________________________________________\n",
      "vnet_down_2_res_conv_0 (Conv2D) (None, 128, 128, 64) 36864       vnet_down_2_encode_activation[0][\n",
      "__________________________________________________________________________________________________\n",
      "vnet_down_2_res_conv_0_bn (Batc (None, 128, 128, 64) 256         vnet_down_2_res_conv_0[0][0]     \n",
      "__________________________________________________________________________________________________\n",
      "vnet_down_2_res_conv_0_activati (None, 128, 128, 64) 0           vnet_down_2_res_conv_0_bn[0][0]  \n",
      "__________________________________________________________________________________________________\n",
      "vnet_down_2_res_conv_1 (Conv2D) (None, 128, 128, 64) 36864       vnet_down_2_res_conv_0_activation\n",
      "__________________________________________________________________________________________________\n",
      "vnet_down_2_res_conv_1_bn (Batc (None, 128, 128, 64) 256         vnet_down_2_res_conv_1[0][0]     \n",
      "__________________________________________________________________________________________________\n",
      "vnet_down_2_res_conv_1_activati (None, 128, 128, 64) 0           vnet_down_2_res_conv_1_bn[0][0]  \n",
      "__________________________________________________________________________________________________\n",
      "vnet_down_2_res_conv_add (Add)  (None, 128, 128, 64) 0           vnet_down_2_encode_activation[0][\n",
      "                                                                 vnet_down_2_res_conv_1_activation\n",
      "__________________________________________________________________________________________________\n",
      "vnet_down_2_res_conv_add_activa (None, 128, 128, 64) 0           vnet_down_2_res_conv_add[0][0]   \n",
      "__________________________________________________________________________________________________\n",
      "vnet_down_3_encode_stride_conv  (None, 64, 64, 128)  32768       vnet_down_2_res_conv_add_activati\n",
      "__________________________________________________________________________________________________\n",
      "vnet_down_3_encode_bn (BatchNor (None, 64, 64, 128)  512         vnet_down_3_encode_stride_conv[0]\n",
      "__________________________________________________________________________________________________\n",
      "vnet_down_3_encode_activation ( (None, 64, 64, 128)  0           vnet_down_3_encode_bn[0][0]      \n",
      "__________________________________________________________________________________________________\n",
      "vnet_down_3_res_conv_0 (Conv2D) (None, 64, 64, 128)  147456      vnet_down_3_encode_activation[0][\n",
      "__________________________________________________________________________________________________\n",
      "vnet_down_3_res_conv_0_bn (Batc (None, 64, 64, 128)  512         vnet_down_3_res_conv_0[0][0]     \n",
      "__________________________________________________________________________________________________\n",
      "vnet_down_3_res_conv_0_activati (None, 64, 64, 128)  0           vnet_down_3_res_conv_0_bn[0][0]  \n",
      "__________________________________________________________________________________________________\n",
      "vnet_down_3_res_conv_1 (Conv2D) (None, 64, 64, 128)  147456      vnet_down_3_res_conv_0_activation\n",
      "__________________________________________________________________________________________________\n",
      "vnet_down_3_res_conv_1_bn (Batc (None, 64, 64, 128)  512         vnet_down_3_res_conv_1[0][0]     \n",
      "__________________________________________________________________________________________________\n",
      "vnet_down_3_res_conv_1_activati (None, 64, 64, 128)  0           vnet_down_3_res_conv_1_bn[0][0]  \n",
      "__________________________________________________________________________________________________\n",
      "vnet_down_3_res_conv_add (Add)  (None, 64, 64, 128)  0           vnet_down_3_encode_activation[0][\n",
      "                                                                 vnet_down_3_res_conv_1_activation\n",
      "__________________________________________________________________________________________________\n",
      "vnet_down_3_res_conv_add_activa (None, 64, 64, 128)  0           vnet_down_3_res_conv_add[0][0]   \n",
      "__________________________________________________________________________________________________\n",
      "vnet_up_0_decode_trans_conv (Co (None, 128, 128, 64) 73792       vnet_down_3_res_conv_add_activati\n",
      "__________________________________________________________________________________________________\n",
      "vnet_up_0_decode_bn (BatchNorma (None, 128, 128, 64) 256         vnet_up_0_decode_trans_conv[0][0]\n",
      "__________________________________________________________________________________________________\n",
      "vnet_up_0_decode_activation (Re (None, 128, 128, 64) 0           vnet_up_0_decode_bn[0][0]        \n",
      "__________________________________________________________________________________________________\n",
      "vnet_up_0_concat (Concatenate)  (None, 128, 128, 128 0           vnet_up_0_decode_activation[0][0]\n",
      "                                                                 vnet_down_2_res_conv_add_activati\n",
      "__________________________________________________________________________________________________\n",
      "vnet_up_0_res_conv_0 (Conv2D)   (None, 128, 128, 64) 73728       vnet_up_0_concat[0][0]           \n",
      "__________________________________________________________________________________________________\n",
      "vnet_up_0_res_conv_0_bn (BatchN (None, 128, 128, 64) 256         vnet_up_0_res_conv_0[0][0]       \n",
      "__________________________________________________________________________________________________\n",
      "vnet_up_0_res_conv_0_activation (None, 128, 128, 64) 0           vnet_up_0_res_conv_0_bn[0][0]    \n",
      "__________________________________________________________________________________________________\n",
      "vnet_up_0_res_conv_1 (Conv2D)   (None, 128, 128, 64) 36864       vnet_up_0_res_conv_0_activation[0\n",
      "__________________________________________________________________________________________________\n",
      "vnet_up_0_res_conv_1_bn (BatchN (None, 128, 128, 64) 256         vnet_up_0_res_conv_1[0][0]       \n",
      "__________________________________________________________________________________________________\n",
      "vnet_up_0_res_conv_1_activation (None, 128, 128, 64) 0           vnet_up_0_res_conv_1_bn[0][0]    \n",
      "__________________________________________________________________________________________________\n",
      "vnet_up_0_res_conv_add (Add)    (None, 128, 128, 64) 0           vnet_up_0_decode_activation[0][0]\n",
      "                                                                 vnet_up_0_res_conv_1_activation[0\n",
      "__________________________________________________________________________________________________\n",
      "vnet_up_0_res_conv_add_activati (None, 128, 128, 64) 0           vnet_up_0_res_conv_add[0][0]     \n",
      "__________________________________________________________________________________________________\n",
      "vnet_up_1_decode_trans_conv (Co (None, 256, 256, 32) 18464       vnet_up_0_res_conv_add_activation\n",
      "__________________________________________________________________________________________________\n",
      "vnet_up_1_decode_bn (BatchNorma (None, 256, 256, 32) 128         vnet_up_1_decode_trans_conv[0][0]\n",
      "__________________________________________________________________________________________________\n",
      "vnet_up_1_decode_activation (Re (None, 256, 256, 32) 0           vnet_up_1_decode_bn[0][0]        \n",
      "__________________________________________________________________________________________________\n",
      "vnet_up_1_concat (Concatenate)  (None, 256, 256, 64) 0           vnet_up_1_decode_activation[0][0]\n",
      "                                                                 vnet_down_1_res_conv_add_activati\n",
      "__________________________________________________________________________________________________\n",
      "vnet_up_1_res_conv_0 (Conv2D)   (None, 256, 256, 32) 18432       vnet_up_1_concat[0][0]           \n",
      "__________________________________________________________________________________________________\n",
      "vnet_up_1_res_conv_0_bn (BatchN (None, 256, 256, 32) 128         vnet_up_1_res_conv_0[0][0]       \n",
      "__________________________________________________________________________________________________\n",
      "vnet_up_1_res_conv_0_activation (None, 256, 256, 32) 0           vnet_up_1_res_conv_0_bn[0][0]    \n",
      "__________________________________________________________________________________________________\n",
      "vnet_up_1_res_conv_1 (Conv2D)   (None, 256, 256, 32) 9216        vnet_up_1_res_conv_0_activation[0\n",
      "__________________________________________________________________________________________________\n",
      "vnet_up_1_res_conv_1_bn (BatchN (None, 256, 256, 32) 128         vnet_up_1_res_conv_1[0][0]       \n",
      "__________________________________________________________________________________________________\n",
      "vnet_up_1_res_conv_1_activation (None, 256, 256, 32) 0           vnet_up_1_res_conv_1_bn[0][0]    \n",
      "__________________________________________________________________________________________________\n",
      "vnet_up_1_res_conv_add (Add)    (None, 256, 256, 32) 0           vnet_up_1_decode_activation[0][0]\n",
      "                                                                 vnet_up_1_res_conv_1_activation[0\n",
      "__________________________________________________________________________________________________\n",
      "vnet_up_1_res_conv_add_activati (None, 256, 256, 32) 0           vnet_up_1_res_conv_add[0][0]     \n",
      "__________________________________________________________________________________________________\n",
      "vnet_up_2_decode_trans_conv (Co (None, 512, 512, 16) 4624        vnet_up_1_res_conv_add_activation\n",
      "__________________________________________________________________________________________________\n",
      "vnet_up_2_decode_bn (BatchNorma (None, 512, 512, 16) 64          vnet_up_2_decode_trans_conv[0][0]\n",
      "__________________________________________________________________________________________________\n",
      "vnet_up_2_decode_activation (Re (None, 512, 512, 16) 0           vnet_up_2_decode_bn[0][0]        \n",
      "__________________________________________________________________________________________________\n",
      "vnet_up_2_concat (Concatenate)  (None, 512, 512, 32) 0           vnet_up_2_decode_activation[0][0]\n",
      "                                                                 vnet_down_0_add_activation[0][0] \n",
      "__________________________________________________________________________________________________\n",
      "vnet_up_2_res_conv_0 (Conv2D)   (None, 512, 512, 16) 4608        vnet_up_2_concat[0][0]           \n",
      "__________________________________________________________________________________________________\n",
      "vnet_up_2_res_conv_0_bn (BatchN (None, 512, 512, 16) 64          vnet_up_2_res_conv_0[0][0]       \n",
      "__________________________________________________________________________________________________\n",
      "vnet_up_2_res_conv_0_activation (None, 512, 512, 16) 0           vnet_up_2_res_conv_0_bn[0][0]    \n",
      "__________________________________________________________________________________________________\n",
      "vnet_up_2_res_conv_add (Add)    (None, 512, 512, 16) 0           vnet_up_2_decode_activation[0][0]\n",
      "                                                                 vnet_up_2_res_conv_0_activation[0\n",
      "__________________________________________________________________________________________________\n",
      "vnet_up_2_res_conv_add_activati (None, 512, 512, 16) 0           vnet_up_2_res_conv_add[0][0]     \n",
      "__________________________________________________________________________________________________\n",
      "vnet_output (Conv2D)            (None, 512, 512, 1)  17          vnet_up_2_res_conv_add_activation\n",
      "__________________________________________________________________________________________________\n",
      "vnet_output_activation (Activat (None, 512, 512, 1)  0           vnet_output[0][0]                \n",
      "==================================================================================================\n",
      "Total params: 676,369\n",
      "Trainable params: 674,321\n",
      "Non-trainable params: 2,048\n",
      "__________________________________________________________________________________________________\n",
      "Using default discriminator (CNN)\n"
     ]
    }
   ],
   "source": [
    "R = Runner(verbose=True,\n",
    "           classifier='kvnet2d',\n",
    "           discriminator='cnn',\n",
    "           filter_num=[16, 32, 64, 128],\n",
    "           res_num_ini=1, \n",
    "           res_num_max=2, \n",
    "           activation='ReLU', \n",
    "           output_activation='Sigmoid', \n",
    "           batch_norm=True, \n",
    "           pool=False, \n",
    "           unpool=False,\n",
    "           optimizer=None, \n",
    "           loss=None, \n",
    "           metric=None,\n",
    "          )"
   ]
  },
  {
   "cell_type": "code",
   "execution_count": 6,
   "id": "87b0c65d",
   "metadata": {},
   "outputs": [],
   "source": [
    "# load our larger toy dataset (10k images and masks)\n",
    "images = np.load('/hpcstor6/scratch01/r/ryan.zurrin001/GP2TOYEXAMPLE_LARGE/images.npy')\n",
    "masks = np.load('/hpcstor6/scratch01/r/ryan.zurrin001/GP2TOYEXAMPLE_LARGE/masks.npy')"
   ]
  },
  {
   "cell_type": "code",
   "execution_count": 7,
   "id": "7330ad24",
   "metadata": {},
   "outputs": [],
   "source": [
    "images = images[:5000]\n",
    "masks = masks[:5000]"
   ]
  },
  {
   "cell_type": "code",
   "execution_count": 8,
   "id": "d5b4179a",
   "metadata": {},
   "outputs": [
    {
     "data": {
      "text/plain": [
       "(5000, 512, 512, 1)"
      ]
     },
     "execution_count": 8,
     "metadata": {},
     "output_type": "execute_result"
    }
   ],
   "source": [
    "images.shape"
   ]
  },
  {
   "cell_type": "code",
   "execution_count": 9,
   "id": "57033c4e",
   "metadata": {},
   "outputs": [
    {
     "data": {
      "text/plain": [
       "(5000, 512, 512, 1)"
      ]
     },
     "execution_count": 9,
     "metadata": {},
     "output_type": "execute_result"
    }
   ],
   "source": [
    "masks.shape"
   ]
  },
  {
   "cell_type": "code",
   "execution_count": 12,
   "id": "1dd71668",
   "metadata": {},
   "outputs": [],
   "source": [
    "weights = {\n",
    "    'A': 0.5,\n",
    "    'A_train': 0.1,\n",
    "    'A_val': 0.3,\n",
    "    'A_test': 0.6,\n",
    "    'B': 0.3,\n",
    "    'B_train': 0.7,\n",
    "    'B_val': 0.1,\n",
    "    'B_test': 0.2,\n",
    "    'Z': 0.2\n",
    "}"
   ]
  },
  {
   "cell_type": "code",
   "execution_count": null,
   "id": "d8ff85c4",
   "metadata": {
    "scrolled": true
   },
   "outputs": [
    {
     "name": "stdout",
     "output_type": "stream",
     "text": [
      "Weights OK!\n",
      "******\n",
      "Loop 0\n"
     ]
    },
    {
     "name": "stderr",
     "output_type": "stream",
     "text": [
      "2023-04-23 14:52:18.521141: I tensorflow/compiler/mlir/mlir_graph_optimization_pass.cc:176] None of the MLIR Optimization Passes are enabled (registered 2)\n",
      "2023-04-23 14:52:18.538994: I tensorflow/core/platform/profile_utils/cpu_utils.cc:114] CPU Frequency: 2245755000 Hz\n"
     ]
    },
    {
     "name": "stdout",
     "output_type": "stream",
     "text": [
      "Epoch 1/100\n"
     ]
    },
    {
     "name": "stderr",
     "output_type": "stream",
     "text": [
      "2023-04-23 14:52:20.831299: I tensorflow/stream_executor/platform/default/dso_loader.cc:53] Successfully opened dynamic library libcudnn.so.8\n",
      "2023-04-23 14:52:21.579937: I tensorflow/stream_executor/cuda/cuda_dnn.cc:359] Loaded cuDNN version 8201\n",
      "2023-04-23 14:52:22.336692: W tensorflow/stream_executor/gpu/asm_compiler.cc:191] Falling back to the CUDA driver for PTX compilation; ptxas does not support CC 8.0\n",
      "2023-04-23 14:52:22.336716: W tensorflow/stream_executor/gpu/asm_compiler.cc:194] Used ptxas at ptxas\n",
      "2023-04-23 14:52:22.336773: W tensorflow/stream_executor/gpu/redzone_allocator.cc:314] Unimplemented: ptxas ptxas too old. Falling back to the driver to compile.\n",
      "Relying on driver to perform ptx compilation. \n",
      "Modify $PATH to customize ptxas location.\n",
      "This message will be only logged once.\n",
      "2023-04-23 14:52:22.352462: I tensorflow/stream_executor/platform/default/dso_loader.cc:53] Successfully opened dynamic library libcublas.so.11\n",
      "2023-04-23 14:52:23.196414: I tensorflow/stream_executor/platform/default/dso_loader.cc:53] Successfully opened dynamic library libcublasLt.so.11\n"
     ]
    },
    {
     "name": "stdout",
     "output_type": "stream",
     "text": [
      "4/4 [==============================] - 24s 4s/step - loss: 0.8487 - dice_coef: 0.1516 - val_loss: 1.6684 - val_dice_coef: 0.1328\n"
     ]
    },
    {
     "name": "stderr",
     "output_type": "stream",
     "text": [
      "2023-04-23 14:52:45.196217: W tensorflow/python/util/util.cc:348] Sets are not currently considered sequences, but this may change in the future, so consider avoiding using them.\n",
      "/home/ryan.zurrin001/miniconda3/envs/O/lib/python3.9/site-packages/tensorflow/python/keras/utils/generic_utils.py:494: CustomMaskWarning: Custom mask layers require a config and must override get_config. When loading, the custom mask layer must be passed to the custom_objects argument.\n",
      "  warnings.warn('Custom mask layers require a config and must override '\n"
     ]
    },
    {
     "name": "stdout",
     "output_type": "stream",
     "text": [
      "Epoch 2/100\n",
      "4/4 [==============================] - 3s 859ms/step - loss: 0.8491 - dice_coef: 0.1516 - val_loss: 1.2843 - val_dice_coef: 0.1338\n"
     ]
    },
    {
     "name": "stderr",
     "output_type": "stream",
     "text": [
      "/home/ryan.zurrin001/miniconda3/envs/O/lib/python3.9/site-packages/tensorflow/python/keras/utils/generic_utils.py:494: CustomMaskWarning: Custom mask layers require a config and must override get_config. When loading, the custom mask layer must be passed to the custom_objects argument.\n",
      "  warnings.warn('Custom mask layers require a config and must override '\n"
     ]
    },
    {
     "name": "stdout",
     "output_type": "stream",
     "text": [
      "Epoch 3/100\n",
      "4/4 [==============================] - 3s 897ms/step - loss: 0.8490 - dice_coef: 0.1516 - val_loss: 1.1203 - val_dice_coef: 0.1352\n"
     ]
    },
    {
     "name": "stderr",
     "output_type": "stream",
     "text": [
      "/home/ryan.zurrin001/miniconda3/envs/O/lib/python3.9/site-packages/tensorflow/python/keras/utils/generic_utils.py:494: CustomMaskWarning: Custom mask layers require a config and must override get_config. When loading, the custom mask layer must be passed to the custom_objects argument.\n",
      "  warnings.warn('Custom mask layers require a config and must override '\n"
     ]
    },
    {
     "name": "stdout",
     "output_type": "stream",
     "text": [
      "Model saved to: /tmp/tmpqyg2j1d9GP2/vnet_0vnet_model\n",
      "History saved to: /tmp/tmpqyg2j1d9GP2/vnet_history_0.pkl\n",
      "Testing the classifier...\n",
      "Model saved to /tmp/cnnd_7.model\n",
      "History saved to /tmp/cnnd_history_7.pickle\n",
      "Testing the discriminator...\n",
      "10/10 [==============================] - 0s 21ms/step - loss: 0.0000e+00 - accuracy: 1.0000\n",
      "Found 132 machine labels.\n",
      "Machine labels [  1   4   6   8   9  11  12  13  18  19  21  24  26  28  29  31  34  36\n",
      "  38  39  41  42  44  45  46  48  51  53  54  55  56  57  59  60  62  63\n",
      "  64  65  70  71  74  75  80  83  85  87  89  92  94  96  99 100 104 110\n",
      " 114 119 120 123 130 131 132 133 135 137 138 139 141 143 144 145 150 153\n",
      " 154 156 161 162 165 172 174 176 178 180 181 183 185 186 187 188 191 194\n",
      " 195 196 199 201 202 204 206 210 211 215 220 221 227 229 230 232 237 246\n",
      " 247 248 249 251 253 258 264 265 267 269 271 275 277 278 279 282 283 284\n",
      " 290 292 293 296 297 299]\n",
      "D_ids ['24ad8d74-7564-4662-a058-09bbfe4e2514', '49a73d00-0974-4daf-a293-bcfe8a089382', 'c0b143b4-63c8-46ef-8db7-f10bbea1434a', 'dd861250-cbe1-458e-a870-5625a5d6e8c0', '7ed3814e-5d51-4457-ab4e-d04bd3dfee39', 'ab380cc2-e885-46bd-bcca-a56da016b418', 'd6686c77-e45e-499b-a56b-1ddfde98e8f2', 'a2a1e228-2edf-4fcf-82d7-f4ad50808733', 'b57355e6-5691-44b5-89ee-ccbb22aa15f1', '6c2951bb-5162-4506-897f-e307da42a1d8', 'b48aa072-dc62-4a05-8fd8-a69906c7ed4d', '5e791c00-82a2-407c-8f22-fa9637fdd526', '2726b814-9ebf-43dc-9e03-e6a6c9e8bd83', '73a6053e-722f-4eeb-957b-a199b4449677', 'a5428e7a-30a3-47c4-86f7-a1810d900f7c', 'd3c35744-7416-42c1-aa83-32fbb434a450', '6d100db8-5d21-4c0a-9a64-47e7069b360c', '20c12252-4293-47f9-ab01-7bb6d3160712', '41206931-dc08-405c-b0c1-f317cd53a7c3', '94751fc9-6f21-4f68-a3d7-57c9a2ab98c8', 'ddcf4193-f5ce-4a55-ab9e-3066631581df', '993170c4-bf3b-43d9-9659-bd31cc094516', '711d4098-cf64-4e45-94cd-f0f815ad08fc', '1620467e-fc82-4faa-ae50-942e4da025cc', 'a45a347b-c634-495a-b771-96011a281e71', '5e8a5378-1ce1-4a0f-9e64-f8641c0a3c3c', '15fd5326-9e80-496f-a6be-34bf4e4ac806', '2d1d1469-ecdb-41a5-b945-c6f9fdb04948', '7546b309-922c-497b-b5aa-687e3f9ed118', '375dca95-e441-4ee7-b53a-7c913a476a83', 'd4d0b7e3-d916-4ef7-9ddc-fd43d760f8ed', '93ff17b0-0df4-461c-bccc-684f133fc2b1', '7baa08e7-447f-41c2-af42-c2f820b49114', '611ccc01-1de0-4fa7-85b4-a106b819132c', '02b2e1c2-bc47-4e9a-813e-0a3c02a34f66', 'd6a8b7bd-bd68-4b81-8ff2-b9aa64d562ec', 'f5b01713-8b90-4683-ae8f-82008e70bd4a', '4100ae1e-d893-4909-b07c-05cd85b030ae', '12e6cdb0-8f9f-4d30-bd6b-b9c3d4a111df', '53ae5d19-c4a8-4a27-886f-ed829d4784fc', 'fe80f7ce-347c-4b2b-87a1-44afbc5058fd', '2abb5702-a19b-4bdb-a540-ecef5b345162', 'c1081c1d-6924-40c8-b1dc-de87a2f53c4f', '42574e5e-ad54-49e2-b179-0dbd2ff2f297', '61bfd0de-88ee-4c7c-93c2-63027795daac', '7d091d45-da53-420b-800f-10b064751938', 'c17b90ea-bfeb-4d46-a7e0-2770e16a2357', 'c88abc03-2de9-4e6d-b5c0-ff09124d7756', 'c1d37d1b-b92f-41ff-9e6e-e6d04558daf4', 'b70aebd0-fac8-404b-b842-15e62836fab3', 'b7416ab7-d553-4bc4-904a-cb5428b578ee', 'afedd227-1fd4-4ae5-8020-0285a6f01147', '55cddee7-89f0-45ab-a76f-84823975d111', '2627af48-31de-4033-a6c1-41782e8df2ce', '8bafafe1-1456-4432-9f93-b9d18beb7e60', 'ca69e867-5089-44ba-9001-5cfd77c66d43', '4e8a1b08-37df-4ae5-a7c8-9fb2ffa4d2bf', '7ddb77ee-faf9-4932-b2f3-5721e9b82185', '7a5f4a96-0e66-483e-887a-831e9d55de76', 'cd2ff31e-b28f-44ba-9491-66263482ddf6', 'e93aefdc-6be5-49ef-ba28-b7757025e844', '4b3b96d1-aa69-4110-900c-c64816df6abe', '62cd44b9-934c-4ca0-8a31-b50ce6d64177', '5745ba7e-f002-4c89-85d1-e2c0ef55cb5c', 'b7933c10-39b2-4f97-8fd4-b2f5cfa4ea67', '342acd9a-0bf8-4b13-b70e-f009ba10dc44', 'f0135335-7ea7-41b6-9ea6-a436df587649', '208e267d-fa23-4bb7-a18f-dc66828413a9', '44540da9-4206-46b9-aa76-c0fcbfd915fa', '57335c41-3cf4-454b-b9b0-3cdd8abd2bf9', '8b25ece7-17bb-4652-b7bc-151b0203a273', '0b7270c1-ea22-4204-aee5-1520f584a894', '3aaaf127-5860-4890-926a-5a4345aaa43c', 'd5e16673-85c0-414f-ae0e-9a3075c84cdf', '03b8ea65-adf2-460b-852e-dbafa99de30a', '111a7170-9bd2-4460-95ed-46836f3e9986', '12879dd3-2bb1-4d26-8b89-94e6323a9da2', '9f1ac848-4c92-4823-aad2-b60417f6236a', '5f733260-5094-4337-bfa6-d0ffcd7b3e8a', 'e95b3169-58ad-4ffa-b589-2dcd58b3a68c', '61247323-9d08-4ffb-9d6b-fcebd1e05229', 'a5a9a6a9-d693-4bea-a784-ea87a71e3bec', '7dc87d98-c1c8-4c8c-8d3f-501804b2bdb1', 'b99e59c9-d219-431b-90b2-7229b2ad1935', 'dcd78830-f402-4951-9ff0-e76d28a7e2cd', 'aed884ef-6837-47f2-97c7-8cb3b2e29c8f', 'c8a816cb-787e-4bc7-ae0b-db8b0139d336', '1bf5861e-95c0-44c4-aeb9-7ce0ff488f7f', '2385a697-3b37-4aa7-aaef-7c03b9e4b58c', 'af468c12-af27-4196-97bd-3183b57c1551', 'eb282d41-2f73-4df4-b1de-239cf4eac0f6', '440f60fc-702d-4590-8447-216f01498657', '830d918f-ee89-492b-b3a8-51a1fd932780', '4c957f48-35cb-4b3e-8384-41dd88615c24', '3908bb72-36da-4b31-a034-d11aeb595a45', 'f3438949-1fe3-4926-9466-2d366068ddd8', '5fa6487c-34b9-4508-96fc-2460e32694b6', 'cd1f058f-5b79-468b-bf25-da2bfb4a6c33', '70102ff6-1dda-4408-a7ba-042181244862', '802ed383-e059-4563-94c1-b96e048cdacf', 'cc7cb9ad-237c-46ce-a8c0-5c5da85d2191', '12133085-88f0-453a-b339-d36b93676b23', 'e8ae17eb-c124-4a4a-8a4c-7e1d1e8447e7', '5da718c6-fdd4-4968-84bf-dffb81b7f0eb', '019c5e2c-3a52-47df-8b10-00602f34606c', 'cbe58acd-5de4-4c62-85c8-6d67893c80ce', 'cb26985b-598e-429f-948a-82868e1da69b', '5a8e417e-b8bd-46dd-acf4-e4e235eda49d', '08d8346f-42d1-4ba7-b4ef-7e8dfa5d45f8', 'fe7f07fd-41d3-41a2-bb6d-54936990fbb9', 'eb01338d-c1a2-4dfa-8433-a649309a2f0f', 'eaa676b0-5d07-4224-af98-de8011ca9e91', '6454638f-fc21-43c3-b5fe-9591eee0cca0', '63420ec0-cb56-456c-a577-5fb7233dffd8', '422209c5-21ee-4b69-94ba-248472081018', 'b8b437d5-5240-4b38-a588-dbd0b0fa3250', '32268216-1a3d-475d-bf18-7a91c35ff39f', '5afe7c4c-0fec-4759-9fca-929c7108d79e', '2fb10cf9-7bc7-460a-99be-da3cee92b663', '2978f4fb-c6e3-4957-b6f0-cf713a364a05', 'dc6c6fb5-ccfa-4049-88f2-a9f635144e01', 'acb14f77-1430-4594-b8b5-407cc891a35a', 'f0e77e89-6d83-42f3-a571-b44b18b21cfa', '72fced0a-0448-456d-b965-c86f4999d66a', '90073d14-8015-4d80-9b6c-5867eca5ee1d', '67e6cd8c-2366-4a0a-9931-8108463c595b', 'afdc9c54-f2b6-4c41-a0f9-d5391c0d41a8', '37f05b58-6df0-4c79-bfb6-768258fec9e5', '84143b6c-a37f-4f68-a467-a25c3245627d', 'e758f592-1a69-4801-9fb5-209db86368b5', '75c40c80-5652-44b9-9971-8a9fb95e6c43', '7210f2cd-40d5-41a9-8cb8-3d6f2a79dae8']\n",
      "Replacing 44 from 132 !\n",
      "D_relabeled_ 44\n",
      "selected_ids ['61bfd0de-88ee-4c7c-93c2-63027795daac', '8b25ece7-17bb-4652-b7bc-151b0203a273', '6c2951bb-5162-4506-897f-e307da42a1d8', 'cd2ff31e-b28f-44ba-9491-66263482ddf6', 'a45a347b-c634-495a-b771-96011a281e71', '7546b309-922c-497b-b5aa-687e3f9ed118', 'dc6c6fb5-ccfa-4049-88f2-a9f635144e01', 'cc7cb9ad-237c-46ce-a8c0-5c5da85d2191', '2726b814-9ebf-43dc-9e03-e6a6c9e8bd83', 'af468c12-af27-4196-97bd-3183b57c1551', '4100ae1e-d893-4909-b07c-05cd85b030ae', '1620467e-fc82-4faa-ae50-942e4da025cc', '7baa08e7-447f-41c2-af42-c2f820b49114', '6454638f-fc21-43c3-b5fe-9591eee0cca0', '42574e5e-ad54-49e2-b179-0dbd2ff2f297', '61247323-9d08-4ffb-9d6b-fcebd1e05229', '70102ff6-1dda-4408-a7ba-042181244862', 'dcd78830-f402-4951-9ff0-e76d28a7e2cd', 'a2a1e228-2edf-4fcf-82d7-f4ad50808733', 'b48aa072-dc62-4a05-8fd8-a69906c7ed4d', '49a73d00-0974-4daf-a293-bcfe8a089382', '5fa6487c-34b9-4508-96fc-2460e32694b6', 'f0135335-7ea7-41b6-9ea6-a436df587649', '993170c4-bf3b-43d9-9659-bd31cc094516', '93ff17b0-0df4-461c-bccc-684f133fc2b1', 'b99e59c9-d219-431b-90b2-7229b2ad1935', 'b8b437d5-5240-4b38-a588-dbd0b0fa3250', '440f60fc-702d-4590-8447-216f01498657', '8bafafe1-1456-4432-9f93-b9d18beb7e60', '611ccc01-1de0-4fa7-85b4-a106b819132c', 'c1d37d1b-b92f-41ff-9e6e-e6d04558daf4', '5745ba7e-f002-4c89-85d1-e2c0ef55cb5c', 'b7416ab7-d553-4bc4-904a-cb5428b578ee', '4c957f48-35cb-4b3e-8384-41dd88615c24', '02b2e1c2-bc47-4e9a-813e-0a3c02a34f66', '0b7270c1-ea22-4204-aee5-1520f584a894', 'd6686c77-e45e-499b-a56b-1ddfde98e8f2', '5f733260-5094-4337-bfa6-d0ffcd7b3e8a', '20c12252-4293-47f9-ab01-7bb6d3160712', 'ab380cc2-e885-46bd-bcca-a56da016b418', '57335c41-3cf4-454b-b9b0-3cdd8abd2bf9', '08d8346f-42d1-4ba7-b4ef-7e8dfa5d45f8', '7d091d45-da53-420b-800f-10b064751938', '019c5e2c-3a52-47df-8b10-00602f34606c']\n",
      "dict_keys(['61bfd0de-88ee-4c7c-93c2-63027795daac', '8b25ece7-17bb-4652-b7bc-151b0203a273', '6c2951bb-5162-4506-897f-e307da42a1d8', 'cd2ff31e-b28f-44ba-9491-66263482ddf6', 'a45a347b-c634-495a-b771-96011a281e71', '7546b309-922c-497b-b5aa-687e3f9ed118', 'dc6c6fb5-ccfa-4049-88f2-a9f635144e01', 'cc7cb9ad-237c-46ce-a8c0-5c5da85d2191', '2726b814-9ebf-43dc-9e03-e6a6c9e8bd83', 'af468c12-af27-4196-97bd-3183b57c1551', '4100ae1e-d893-4909-b07c-05cd85b030ae', '1620467e-fc82-4faa-ae50-942e4da025cc', '7baa08e7-447f-41c2-af42-c2f820b49114', '6454638f-fc21-43c3-b5fe-9591eee0cca0', '42574e5e-ad54-49e2-b179-0dbd2ff2f297', '61247323-9d08-4ffb-9d6b-fcebd1e05229', '70102ff6-1dda-4408-a7ba-042181244862', 'dcd78830-f402-4951-9ff0-e76d28a7e2cd', 'a2a1e228-2edf-4fcf-82d7-f4ad50808733', 'b48aa072-dc62-4a05-8fd8-a69906c7ed4d', '49a73d00-0974-4daf-a293-bcfe8a089382', '5fa6487c-34b9-4508-96fc-2460e32694b6', 'f0135335-7ea7-41b6-9ea6-a436df587649', '993170c4-bf3b-43d9-9659-bd31cc094516', '93ff17b0-0df4-461c-bccc-684f133fc2b1', 'b99e59c9-d219-431b-90b2-7229b2ad1935', 'b8b437d5-5240-4b38-a588-dbd0b0fa3250', '440f60fc-702d-4590-8447-216f01498657', '8bafafe1-1456-4432-9f93-b9d18beb7e60', '611ccc01-1de0-4fa7-85b4-a106b819132c', 'c1d37d1b-b92f-41ff-9e6e-e6d04558daf4', '5745ba7e-f002-4c89-85d1-e2c0ef55cb5c', 'b7416ab7-d553-4bc4-904a-cb5428b578ee', '4c957f48-35cb-4b3e-8384-41dd88615c24', '02b2e1c2-bc47-4e9a-813e-0a3c02a34f66', '0b7270c1-ea22-4204-aee5-1520f584a894', 'd6686c77-e45e-499b-a56b-1ddfde98e8f2', '5f733260-5094-4337-bfa6-d0ffcd7b3e8a', '20c12252-4293-47f9-ab01-7bb6d3160712', 'ab380cc2-e885-46bd-bcca-a56da016b418', '57335c41-3cf4-454b-b9b0-3cdd8abd2bf9', '08d8346f-42d1-4ba7-b4ef-7e8dfa5d45f8', '7d091d45-da53-420b-800f-10b064751938', '019c5e2c-3a52-47df-8b10-00602f34606c'])\n",
      "point ids 44\n",
      "Removed: 44 Filled: 44\n",
      "TOOK 198.13553595542908 seconds\n",
      "==== DONE LOOP 0 ====\n",
      "******\n",
      "Loop 1\n"
     ]
    },
    {
     "name": "stdout",
     "output_type": "stream",
     "text": [
      "Epoch 1/100\n",
      "5/5 [==============================] - 9s 2s/step - loss: 0.8488 - dice_coef: 0.1519 - val_loss: 1.0161 - val_dice_coef: 0.1371\n"
     ]
    },
    {
     "name": "stderr",
     "output_type": "stream",
     "text": [
      "/home/ryan.zurrin001/miniconda3/envs/O/lib/python3.9/site-packages/tensorflow/python/keras/utils/generic_utils.py:494: CustomMaskWarning: Custom mask layers require a config and must override get_config. When loading, the custom mask layer must be passed to the custom_objects argument.\n",
      "  warnings.warn('Custom mask layers require a config and must override '\n"
     ]
    },
    {
     "name": "stdout",
     "output_type": "stream",
     "text": [
      "Epoch 2/100\n",
      "5/5 [==============================] - 3s 731ms/step - loss: 0.8489 - dice_coef: 0.1517 - val_loss: 0.9580 - val_dice_coef: 0.1390\n"
     ]
    },
    {
     "name": "stderr",
     "output_type": "stream",
     "text": [
      "/home/ryan.zurrin001/miniconda3/envs/O/lib/python3.9/site-packages/tensorflow/python/keras/utils/generic_utils.py:494: CustomMaskWarning: Custom mask layers require a config and must override get_config. When loading, the custom mask layer must be passed to the custom_objects argument.\n",
      "  warnings.warn('Custom mask layers require a config and must override '\n"
     ]
    },
    {
     "name": "stdout",
     "output_type": "stream",
     "text": [
      "Epoch 3/100\n",
      "5/5 [==============================] - 3s 736ms/step - loss: 0.8485 - dice_coef: 0.1530 - val_loss: 0.9216 - val_dice_coef: 0.1408\n"
     ]
    },
    {
     "name": "stderr",
     "output_type": "stream",
     "text": [
      "/home/ryan.zurrin001/miniconda3/envs/O/lib/python3.9/site-packages/tensorflow/python/keras/utils/generic_utils.py:494: CustomMaskWarning: Custom mask layers require a config and must override get_config. When loading, the custom mask layer must be passed to the custom_objects argument.\n",
      "  warnings.warn('Custom mask layers require a config and must override '\n"
     ]
    },
    {
     "name": "stdout",
     "output_type": "stream",
     "text": [
      "Epoch 4/100\n",
      "5/5 [==============================] - 3s 741ms/step - loss: 0.8489 - dice_coef: 0.1528 - val_loss: 0.8970 - val_dice_coef: 0.1425\n"
     ]
    },
    {
     "name": "stderr",
     "output_type": "stream",
     "text": [
      "/home/ryan.zurrin001/miniconda3/envs/O/lib/python3.9/site-packages/tensorflow/python/keras/utils/generic_utils.py:494: CustomMaskWarning: Custom mask layers require a config and must override get_config. When loading, the custom mask layer must be passed to the custom_objects argument.\n",
      "  warnings.warn('Custom mask layers require a config and must override '\n"
     ]
    },
    {
     "name": "stdout",
     "output_type": "stream",
     "text": [
      "Epoch 5/100\n",
      "5/5 [==============================] - 4s 788ms/step - loss: 0.8490 - dice_coef: 0.1525 - val_loss: 0.8791 - val_dice_coef: 0.1440\n"
     ]
    },
    {
     "name": "stderr",
     "output_type": "stream",
     "text": [
      "/home/ryan.zurrin001/miniconda3/envs/O/lib/python3.9/site-packages/tensorflow/python/keras/utils/generic_utils.py:494: CustomMaskWarning: Custom mask layers require a config and must override get_config. When loading, the custom mask layer must be passed to the custom_objects argument.\n",
      "  warnings.warn('Custom mask layers require a config and must override '\n"
     ]
    },
    {
     "name": "stdout",
     "output_type": "stream",
     "text": [
      "Model saved to: /tmp/tmpqyg2j1d9GP2/vnet_1vnet_model\n",
      "History saved to: /tmp/tmpqyg2j1d9GP2/vnet_history_1.pkl\n",
      "Testing the classifier...\n",
      "Model saved to /tmp/cnnd_8.model\n",
      "History saved to /tmp/cnnd_history_8.pickle\n",
      "Testing the discriminator...\n",
      "10/10 [==============================] - 0s 18ms/step - loss: 0.0000e+00 - accuracy: 1.0000\n",
      "Found 147 machine labels.\n",
      "Machine labels [  0   1   6  10  11  13  14  15  17  19  21  24  25  26  28  32  33  34\n",
      "  37  40  42  43  44  45  46  47  48  52  53  54  55  56  58  59  60  62\n",
      "  64  67  68  69  70  71  74  76  79  84  88  90  91  94  95  96  99 101\n",
      " 102 105 106 107 110 115 117 118 121 122 124 125 131 133 134 136 139 144\n",
      " 145 146 148 149 151 152 158 159 160 162 168 169 170 171 173 175 176 182\n",
      " 184 186 187 194 195 196 197 200 202 207 208 209 211 212 213 214 215 216\n",
      " 217 219 221 222 224 230 233 235 237 238 242 245 246 248 253 256 257 260\n",
      " 263 265 268 270 272 273 277 280 281 282 283 285 286 287 288 289 291 292\n",
      " 293 296 298]\n",
      "D_ids ['797dbcb2-7df2-4f77-802f-b63d28c310cc', '275fb7cc-31d2-46fc-b67d-20827e724f4a', 'a20caa6f-2b93-4083-8317-5372e2b4e905', '34782e34-dafd-49c9-8ffe-2c15e773811c', '6f6fa6e6-d48a-475b-88d4-18bc9269b3e1', '6a087d95-92a8-46a2-8e39-ec3c5d254f98', '971ecaa5-253d-46e8-b824-707965566a60', 'b6213a35-4b39-46c2-b07c-97dbfbcd1ec8', '13b6e5ac-55f7-4333-80bc-974a85871a2e', '501a7765-20f0-4e58-82f8-479ec3117f99', 'cbe7a148-9d10-41ec-97a2-301a38e78660', '50f8c589-acc3-4ca6-a6f2-1c6cf3da395b', '78d1edea-96e1-4fbb-95ab-f54d8a877954', '1e180e00-f76d-4ade-a5ac-fca5c0f40a79', '7c758a7c-e19e-471f-866f-411bd4fdf098', 'b75917df-810e-4014-85ba-ec6c4f862d38', 'f51859d4-cc54-49fa-bd94-eca2508eef99', '465d7169-ce0d-4cc8-84e3-92e89f96edda', '391ccd64-dee2-4105-a8b1-de84d1051cfa', '70f8a8ea-542f-4903-a1e7-f8ab0d632ca6', '07f7052c-b6fd-45c5-ae7f-1dd3091fdfb8', '3908bb72-36da-4b31-a034-d11aeb595a45', 'cc2c52ae-7999-4714-a477-415a995777a8', '925a72c3-0485-4374-af86-79489a0939e0', '558782ad-9eae-4d03-8499-18eaa3d208ab', '24a7b743-580c-4562-9f2e-b0211f2015ed', '54e052bb-7a7d-4dbc-b176-bf9430d2d21e', '6cf83a31-09f9-4977-97da-156e034f6209', '866efed9-78c3-40e7-abbe-df355f9646e4', 'e2ea1455-91a4-4d90-8577-1d18256d5d5b', 'b6a875db-89dc-4006-8353-a26806fecada', 'c22f4422-1f4c-4530-ab64-e5372267967f', 'dc091da7-dab6-4241-b7c3-aa5780504d21', '87f4dcc2-e70b-4349-bc92-176e7ffebf98', '3b4a5c04-3cc3-4bf8-964b-64bdd29977b5', 'afe40bf4-7a29-463d-a7a5-169d1870f715', 'ce92f54c-6c4c-4fca-8cc9-108c3a19814a', '291efba4-1499-4117-a22c-5c8a636519da', 'e3e8c441-b746-4de8-a28b-664d07554d6b', '0a99aa8e-faf9-421e-9cbe-da5076fd24e2', '05435904-46ca-4c6d-afbd-e4281db6fc89', 'bdd917ba-a65a-4586-9292-d527fbb0e50e', 'e9a49f18-79a8-4bcf-af5d-2dd706c3183c', 'c6400aa5-dea8-4e33-85a1-3a9613864294', 'd777bade-0ede-46d3-ab30-c41a6738d7ac', 'b0fdc8b5-4749-4b8c-97f2-6ff6b5f716bd', '1def342e-7695-47d3-bfdf-05f04b744d63', 'd373eaf2-cd91-4008-adcf-a95fe082f7e5', '15fd5326-9e80-496f-a6be-34bf4e4ac806', 'd2de666e-534b-4ab2-83a6-6dd6dc53f6f1', 'f469acae-3464-488b-8fb0-c42d33c44ccc', 'ca45a5f0-2c19-4b23-8c8f-7e7d24770427', 'a6779636-7673-46fb-a662-91b2a91dfe63', '2f08f548-655c-42e3-9748-10d812d53512', '9673adde-bd01-483d-87b1-788d6d1528c8', 'b13c045f-2054-42cb-a162-c2317defbd20', '0ceb5281-3bb0-403e-b936-acc18203da21', '02a0f7a9-5c9f-40e0-83e1-cbdd6be69e81', 'e62298d4-8383-4d49-83c9-b25d217404d1', '34a3b351-f56c-4d64-886e-33e063895b2e', 'c3ce3bb7-f3e9-4323-806a-f04ff455a6d8', 'fc646643-ce65-469a-9906-edc314a67c30', '19feed71-d23e-4553-8d83-a483c4b1bee6', 'e3620e2c-65ab-4758-aa05-aa570701d785', '38876f95-90ec-4bf2-a0fb-5f875f794a22', 'f8b4f952-6050-4d80-8201-07684888c9e0', '9d7e1200-236e-4e63-81a4-563429d55b35', 'c737125b-e2a6-462a-8d44-b191dd7c9c6f', '711d4098-cf64-4e45-94cd-f0f815ad08fc', 'ea484882-4869-4e3d-b820-4f287a0a8860', '10d50cfb-be1c-4510-864c-394a52e1dab1', '665793f1-a5d3-42e6-835f-a7b25917c211', '939ca8fc-a6c6-42fe-b5ff-300aa3623ef2', '4e893a4b-02f9-4b1b-9a94-a13713c62c8c', '99819eca-bf8a-43b3-8e10-ce6e38a07915', '0c962274-f355-4ebb-b3fd-9fc5d9865b29', 'a5428e7a-30a3-47c4-86f7-a1810d900f7c', 'ec2d42e8-6f33-473b-8d62-548fc150d295', '32ed13cc-743e-4f8c-b21d-257f800e6f02', '5e0343d1-5717-42fb-9af9-3c318622ef34', 'c8bf8a70-6b2f-43d8-b8f4-84380da7000d', 'e3356f4c-d570-4e75-be66-6a42dfab5aef', '08ac9d7e-49b6-42ab-8130-e8fd73e732b7', 'dd502a87-d79b-40ac-a0f4-cf8630af9af0', '281e79b5-8df9-47d2-a394-48cf8537f92b', '3f79dff8-92d6-4c14-a349-e034d5673cf0', '2a72f74a-77ef-4ca9-852e-1a29e34d3c1a', '341b594c-43ba-4b41-a5fe-7228204fd2c5', 'd14cbf7b-e588-48fe-98f5-61a73095d3a2', '89ac8ac5-aa00-4e19-b9f1-3ebac8823c7f', 'a1000261-bb58-45c0-87e6-9d0cc596c105', '5ce31d5a-9da9-4444-bc3b-456fe831b2c7', '15be28d1-f209-4f5d-b3d4-1dd5c08a8ee9', 'e83e5997-618d-404a-9521-a947f8301a2f', '6d5e019e-6f03-4f4f-ab7a-ba2ded6e3318', '89da4acc-3755-47cc-8e82-2179b443339e', 'e8d38969-8ce3-4d19-8665-788608e18328', 'b70356a1-d605-4d06-b5f7-c6f6cbee39cf', '7d21614e-00d7-4522-9bef-935975218b75', 'aeae5cc6-c3b5-4148-bd67-67b1cddba2a1', '84db49df-f143-4ed7-8c63-54ccaf53321f', '3cd2f5c7-8db1-4c6b-a810-cfdd01403351', '2cee7c42-23b6-40af-93ea-657da1635ef9', '218d5268-962e-4f58-bb28-0b567ca57707', '7ad5930f-9d2d-41e3-89b8-4ca3015457f1', 'cafbcac6-a10a-4b66-9c27-ba857a0f5249', '68743cce-f2b3-45ef-8560-4a96804634f3', '2874d17e-a4c5-4054-97ef-312b1a951e7b', '37ab3fa8-05c4-4d94-92a3-863e9a39b152', '121cbd56-cca5-4819-86e2-d2f934befce7', 'e09d0be9-fb7d-44fc-ba3c-5c6a1b8edfb2', 'eaa676b0-5d07-4224-af98-de8011ca9e91', 'dafb1659-1f94-4012-b51f-154bb1847f1a', 'c94df2dd-1ac4-4459-a38c-f9770167fb58', 'bac71f79-ec82-4b98-adcd-04260cf696ea', 'cf5357a8-5edd-40c5-9f1b-aeff25cb9fa3', '0577e359-46dd-43a1-8259-579d54769a04', '29e662fb-81c0-48e1-8afd-61e9cdfa0a59', 'a8832a2d-f0ca-46eb-9809-61900a2e034f', '6418964f-b0fb-488d-b797-b7f55e40ca63', 'ad059fd4-3f9b-4668-8e2b-cae90d4cca79', '43afecbd-8c03-419a-85fa-5c8ed5fd7078', '107ce52c-ece6-40cc-89ed-07cbb234321c', '2978f4fb-c6e3-4957-b6f0-cf713a364a05', '0976a89c-d6db-429c-8348-a052fc891f67', '466a717d-f9bd-4e3b-adec-16edcf8e98c8', '43e9f82e-a67e-4e69-b645-5c60cd294930', '2bf4ca2b-291d-4a91-9254-ee556e97c09c', 'c1e8ac0a-89f9-473b-9780-1849bb017e13', 'dcd34134-e92f-45e3-a2d2-a735566ef9c7', '3a863d34-46d0-41ef-9c27-687c9d4169da', '4e8a1b08-37df-4ae5-a7c8-9fb2ffa4d2bf', '19731cc5-fc1f-4077-85ed-335a2aafb053', 'e673266b-b912-4881-9d7e-c20acf138c98', '98f53f3e-f6c8-451f-b18c-040141f9163c', '8662f4ff-5313-4718-a40f-7bb3a38953ad', '13d2247c-fcc7-4665-966a-9b6cb7b90e64', 'e38e77fa-9359-45de-b0fa-6e2c97d9c2ed', '4bc165cd-a764-4d93-904d-b50fc9b7b824', 'c98a0620-df71-437b-b2bd-bc30948f7fd7', 'a0ffb880-d539-4260-9145-251e1bcd9a58', '88e5e002-394e-4731-be84-0065dc4dd359', '8234628b-1a3b-4b8f-9da0-51f2a997937f', '67aa66c1-9e13-495b-b6a8-4b80659adc56', 'b9b3f787-7a6f-43d3-ac80-d67e89aa7674', '69027849-c663-4ef8-8ed6-baf0f8999cd3', 'd0bdfd92-2b2b-4ccd-aa23-aba214611753']\n",
      "Replacing 49 from 147 !\n",
      "D_relabeled_ 49\n",
      "selected_ids ['aeae5cc6-c3b5-4148-bd67-67b1cddba2a1', '87f4dcc2-e70b-4349-bc92-176e7ffebf98', '13d2247c-fcc7-4665-966a-9b6cb7b90e64', 'e83e5997-618d-404a-9521-a947f8301a2f', '2f08f548-655c-42e3-9748-10d812d53512', 'ce92f54c-6c4c-4fca-8cc9-108c3a19814a', '24a7b743-580c-4562-9f2e-b0211f2015ed', '4e893a4b-02f9-4b1b-9a94-a13713c62c8c', 'e2ea1455-91a4-4d90-8577-1d18256d5d5b', 'cf5357a8-5edd-40c5-9f1b-aeff25cb9fa3', '6a087d95-92a8-46a2-8e39-ec3c5d254f98', '8234628b-1a3b-4b8f-9da0-51f2a997937f', '465d7169-ce0d-4cc8-84e3-92e89f96edda', '10d50cfb-be1c-4510-864c-394a52e1dab1', '43e9f82e-a67e-4e69-b645-5c60cd294930', '2bf4ca2b-291d-4a91-9254-ee556e97c09c', 'eaa676b0-5d07-4224-af98-de8011ca9e91', '218d5268-962e-4f58-bb28-0b567ca57707', '19feed71-d23e-4553-8d83-a483c4b1bee6', 'dc091da7-dab6-4241-b7c3-aa5780504d21', '37ab3fa8-05c4-4d94-92a3-863e9a39b152', '29e662fb-81c0-48e1-8afd-61e9cdfa0a59', 'c737125b-e2a6-462a-8d44-b191dd7c9c6f', 'a1000261-bb58-45c0-87e6-9d0cc596c105', '391ccd64-dee2-4105-a8b1-de84d1051cfa', 'c98a0620-df71-437b-b2bd-bc30948f7fd7', '0577e359-46dd-43a1-8259-579d54769a04', '08ac9d7e-49b6-42ab-8130-e8fd73e732b7', '2cee7c42-23b6-40af-93ea-657da1635ef9', 'd0bdfd92-2b2b-4ccd-aa23-aba214611753', 'd777bade-0ede-46d3-ab30-c41a6738d7ac', 'bdd917ba-a65a-4586-9292-d527fbb0e50e', 'ad059fd4-3f9b-4668-8e2b-cae90d4cca79', '665793f1-a5d3-42e6-835f-a7b25917c211', '88e5e002-394e-4731-be84-0065dc4dd359', 'c1e8ac0a-89f9-473b-9780-1849bb017e13', 'b6a875db-89dc-4006-8353-a26806fecada', 'e38e77fa-9359-45de-b0fa-6e2c97d9c2ed', '32ed13cc-743e-4f8c-b21d-257f800e6f02', 'f8b4f952-6050-4d80-8201-07684888c9e0', '971ecaa5-253d-46e8-b824-707965566a60', '7ad5930f-9d2d-41e3-89b8-4ca3015457f1', '15be28d1-f209-4f5d-b3d4-1dd5c08a8ee9', 'e3356f4c-d570-4e75-be66-6a42dfab5aef', '501a7765-20f0-4e58-82f8-479ec3117f99', '3f79dff8-92d6-4c14-a349-e034d5673cf0', 'e3620e2c-65ab-4758-aa05-aa570701d785', '4bc165cd-a764-4d93-904d-b50fc9b7b824', '07f7052c-b6fd-45c5-ae7f-1dd3091fdfb8']\n",
      "dict_keys(['aeae5cc6-c3b5-4148-bd67-67b1cddba2a1', '87f4dcc2-e70b-4349-bc92-176e7ffebf98', '13d2247c-fcc7-4665-966a-9b6cb7b90e64', 'e83e5997-618d-404a-9521-a947f8301a2f', '2f08f548-655c-42e3-9748-10d812d53512', 'ce92f54c-6c4c-4fca-8cc9-108c3a19814a', '24a7b743-580c-4562-9f2e-b0211f2015ed', '4e893a4b-02f9-4b1b-9a94-a13713c62c8c', 'e2ea1455-91a4-4d90-8577-1d18256d5d5b', 'cf5357a8-5edd-40c5-9f1b-aeff25cb9fa3', '6a087d95-92a8-46a2-8e39-ec3c5d254f98', '8234628b-1a3b-4b8f-9da0-51f2a997937f', '465d7169-ce0d-4cc8-84e3-92e89f96edda', '10d50cfb-be1c-4510-864c-394a52e1dab1', '43e9f82e-a67e-4e69-b645-5c60cd294930', '2bf4ca2b-291d-4a91-9254-ee556e97c09c', 'eaa676b0-5d07-4224-af98-de8011ca9e91', '218d5268-962e-4f58-bb28-0b567ca57707', '19feed71-d23e-4553-8d83-a483c4b1bee6', 'dc091da7-dab6-4241-b7c3-aa5780504d21', '37ab3fa8-05c4-4d94-92a3-863e9a39b152', '29e662fb-81c0-48e1-8afd-61e9cdfa0a59', 'c737125b-e2a6-462a-8d44-b191dd7c9c6f', 'a1000261-bb58-45c0-87e6-9d0cc596c105', '391ccd64-dee2-4105-a8b1-de84d1051cfa', 'c98a0620-df71-437b-b2bd-bc30948f7fd7', '0577e359-46dd-43a1-8259-579d54769a04', '08ac9d7e-49b6-42ab-8130-e8fd73e732b7', '2cee7c42-23b6-40af-93ea-657da1635ef9', 'd0bdfd92-2b2b-4ccd-aa23-aba214611753', 'd777bade-0ede-46d3-ab30-c41a6738d7ac', 'bdd917ba-a65a-4586-9292-d527fbb0e50e', 'ad059fd4-3f9b-4668-8e2b-cae90d4cca79', '665793f1-a5d3-42e6-835f-a7b25917c211', '88e5e002-394e-4731-be84-0065dc4dd359', 'c1e8ac0a-89f9-473b-9780-1849bb017e13', 'b6a875db-89dc-4006-8353-a26806fecada', 'e38e77fa-9359-45de-b0fa-6e2c97d9c2ed', '32ed13cc-743e-4f8c-b21d-257f800e6f02', 'f8b4f952-6050-4d80-8201-07684888c9e0', '971ecaa5-253d-46e8-b824-707965566a60', '7ad5930f-9d2d-41e3-89b8-4ca3015457f1', '15be28d1-f209-4f5d-b3d4-1dd5c08a8ee9', 'e3356f4c-d570-4e75-be66-6a42dfab5aef', '501a7765-20f0-4e58-82f8-479ec3117f99', '3f79dff8-92d6-4c14-a349-e034d5673cf0', 'e3620e2c-65ab-4758-aa05-aa570701d785', '4bc165cd-a764-4d93-904d-b50fc9b7b824', '07f7052c-b6fd-45c5-ae7f-1dd3091fdfb8'])\n",
      "point ids 49\n",
      "Removed: 49 Filled: 49\n",
      "TOOK 151.16106581687927 seconds\n",
      "==== DONE LOOP 1 ====\n",
      "******\n",
      "Loop 2\n"
     ]
    },
    {
     "name": "stdout",
     "output_type": "stream",
     "text": [
      "Epoch 1/100\n",
      "6/6 [==============================] - 7s 1s/step - loss: 0.8487 - dice_coef: 0.1530 - val_loss: 0.8643 - val_dice_coef: 0.1457\n"
     ]
    },
    {
     "name": "stderr",
     "output_type": "stream",
     "text": [
      "/home/ryan.zurrin001/miniconda3/envs/O/lib/python3.9/site-packages/tensorflow/python/keras/utils/generic_utils.py:494: CustomMaskWarning: Custom mask layers require a config and must override get_config. When loading, the custom mask layer must be passed to the custom_objects argument.\n",
      "  warnings.warn('Custom mask layers require a config and must override '\n"
     ]
    },
    {
     "name": "stdout",
     "output_type": "stream",
     "text": [
      "Epoch 2/100\n",
      "6/6 [==============================] - 4s 675ms/step - loss: 0.8487 - dice_coef: 0.1524 - val_loss: 0.8529 - val_dice_coef: 0.1472\n"
     ]
    },
    {
     "name": "stderr",
     "output_type": "stream",
     "text": [
      "/home/ryan.zurrin001/miniconda3/envs/O/lib/python3.9/site-packages/tensorflow/python/keras/utils/generic_utils.py:494: CustomMaskWarning: Custom mask layers require a config and must override get_config. When loading, the custom mask layer must be passed to the custom_objects argument.\n",
      "  warnings.warn('Custom mask layers require a config and must override '\n"
     ]
    },
    {
     "name": "stdout",
     "output_type": "stream",
     "text": [
      "Epoch 3/100\n",
      "6/6 [==============================] - 4s 707ms/step - loss: 0.8486 - dice_coef: 0.1523 - val_loss: 0.8444 - val_dice_coef: 0.1486\n"
     ]
    }
   ],
   "source": [
    "R.run(images=images, masks=masks, weights=weights, runs=3)"
   ]
  },
  {
   "cell_type": "code",
   "execution_count": null,
   "id": "dab6fd49",
   "metadata": {},
   "outputs": [],
   "source": []
  },
  {
   "cell_type": "code",
   "execution_count": null,
   "id": "00075332",
   "metadata": {},
   "outputs": [],
   "source": [
    "R.classifier_scores"
   ]
  },
  {
   "cell_type": "code",
   "execution_count": null,
   "id": "35105656",
   "metadata": {},
   "outputs": [],
   "source": [
    "R.discriminator_scores"
   ]
  },
  {
   "cell_type": "code",
   "execution_count": null,
   "id": "e256ed4d",
   "metadata": {},
   "outputs": [],
   "source": []
  },
  {
   "cell_type": "code",
   "execution_count": null,
   "id": "c83bb28d",
   "metadata": {},
   "outputs": [],
   "source": [
    "R.plot()"
   ]
  }
 ],
 "metadata": {
  "kernelspec": {
   "display_name": "Python 3 (ipykernel)",
   "language": "python",
   "name": "python3"
  },
  "language_info": {
   "codemirror_mode": {
    "name": "ipython",
    "version": 3
   },
   "file_extension": ".py",
   "mimetype": "text/x-python",
   "name": "python",
   "nbconvert_exporter": "python",
   "pygments_lexer": "ipython3",
   "version": "3.9.7"
  }
 },
 "nbformat": 4,
 "nbformat_minor": 5
}
