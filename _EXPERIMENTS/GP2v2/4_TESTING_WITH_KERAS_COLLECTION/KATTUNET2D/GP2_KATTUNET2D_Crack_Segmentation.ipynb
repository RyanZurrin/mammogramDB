{
 "cells": [
  {
   "cell_type": "code",
   "execution_count": 1,
   "id": "06c4accc",
   "metadata": {},
   "outputs": [
    {
     "name": "stdout",
     "output_type": "stream",
     "text": [
      "Populating the interactive namespace from numpy and matplotlib\n"
     ]
    }
   ],
   "source": [
    "%pylab inline\n",
    "%load_ext autoreload\n",
    "%autoreload 2"
   ]
  },
  {
   "cell_type": "code",
   "execution_count": 2,
   "id": "b9e78ed8",
   "metadata": {},
   "outputs": [
    {
     "name": "stdout",
     "output_type": "stream",
     "text": [
      "-----------------------------------------\n",
      "keras-unet init: TF version is >= 2.0.0 - using `tf.keras` instead of `Keras`\n",
      "-----------------------------------------\n"
     ]
    }
   ],
   "source": [
    "import time\n",
    "import sys\n",
    "sys.path.insert(0,'../../../..')\n",
    "from omama import gp2\n",
    "from omama.gp2 import Runner\n",
    "from keras import losses, metrics\n",
    "from tensorflow.keras import optimizers"
   ]
  },
  {
   "cell_type": "code",
   "execution_count": 3,
   "id": "bdc75325",
   "metadata": {},
   "outputs": [
    {
     "name": "stdout",
     "output_type": "stream",
     "text": [
      "*** GP2 KATTUnet2D ***\n",
      "Working directory: /tmp/tmpzsx2dalgGP2\n",
      "Using default discriminator (CNN)\n"
     ]
    }
   ],
   "source": [
    "R = Runner(classifier='kattunet2d',\n",
    "           filter_num=[16, 32, 64, 128, 256],\n",
    "           stack_num_down=2,\n",
    "           stack_num_up=2,\n",
    "           activation='ReLU',\n",
    "           atten_activation='ReLU',\n",
    "           attention='add',\n",
    "           output_activation='Sigmoid',\n",
    "           batch_norm=False,\n",
    "           pool=False,\n",
    "           unpool=False,\n",
    "           weights='imagenet',\n",
    "           optimizer= None, #None = default is optimizers.Adam(learning_rate=1e-3)\n",
    "           loss=None, #None = default is losses.binary_crossentropy\n",
    "           metric=None # None = default is Util.dice_coef\n",
    "          )"
   ]
  },
  {
   "cell_type": "code",
   "execution_count": 5,
   "id": "87b0c65d",
   "metadata": {},
   "outputs": [],
   "source": [
    "# load our larger toy dataset (10k images and masks)\n",
    "images = np.load('/hpcstor6/scratch01/p/poornendu.pabbati001/crack_segmentation_dataset/Crack_images_final.npy')\n",
    "masks = np.load('/hpcstor6/scratch01/p/poornendu.pabbati001/crack_segmentation_dataset/Crack_masks_final.npy')"
   ]
  },
  {
   "cell_type": "code",
   "execution_count": null,
   "id": "7330ad24",
   "metadata": {},
   "outputs": [],
   "source": []
  },
  {
   "cell_type": "code",
   "execution_count": 6,
   "id": "d5b4179a",
   "metadata": {},
   "outputs": [
    {
     "data": {
      "text/plain": [
       "(11298, 512, 512, 1)"
      ]
     },
     "execution_count": 6,
     "metadata": {},
     "output_type": "execute_result"
    }
   ],
   "source": [
    "images.shape"
   ]
  },
  {
   "cell_type": "code",
   "execution_count": 7,
   "id": "57033c4e",
   "metadata": {},
   "outputs": [
    {
     "data": {
      "text/plain": [
       "(11298, 512, 512, 1)"
      ]
     },
     "execution_count": 7,
     "metadata": {},
     "output_type": "execute_result"
    }
   ],
   "source": [
    "masks.shape"
   ]
  },
  {
   "cell_type": "code",
   "execution_count": 8,
   "id": "1dd71668",
   "metadata": {},
   "outputs": [],
   "source": [
    "weights = {\n",
    "    'A': 0.5,\n",
    "    'A_train': 0.1,\n",
    "    'A_val': 0.3,\n",
    "    'A_test': 0.6,\n",
    "    'B': 0.3,\n",
    "    'B_train': 0.7,\n",
    "    'B_val': 0.1,\n",
    "    'B_test': 0.2,\n",
    "    'Z': 0.2\n",
    "}"
   ]
  },
  {
   "cell_type": "code",
   "execution_count": 9,
   "id": "d8ff85c4",
   "metadata": {
    "scrolled": true
   },
   "outputs": [
    {
     "name": "stdout",
     "output_type": "stream",
     "text": [
      "Weights OK!\n",
      "******\n",
      "Loop 1\n",
      "Epoch 1/100\n",
      "9/9 [==============================] - 29s 2s/step - loss: 0.6786 - dice_coeff: 0.1014 - val_loss: 0.6734 - val_dice_coeff: 0.1371\n",
      "Epoch 2/100\n",
      "9/9 [==============================] - 8s 954ms/step - loss: 0.6662 - dice_coeff: 0.1018 - val_loss: 0.6572 - val_dice_coeff: 0.1373\n",
      "Epoch 3/100\n",
      "9/9 [==============================] - 8s 963ms/step - loss: 0.6425 - dice_coeff: 0.1021 - val_loss: 0.6238 - val_dice_coeff: 0.1377\n",
      "Epoch 4/100\n",
      "9/9 [==============================] - 8s 955ms/step - loss: 0.5893 - dice_coeff: 0.1022 - val_loss: 0.5310 - val_dice_coeff: 0.1391\n",
      "Epoch 5/100\n",
      "9/9 [==============================] - 8s 964ms/step - loss: 0.3742 - dice_coeff: 0.0992 - val_loss: 0.3598 - val_dice_coeff: 0.0563\n",
      "Epoch 6/100\n",
      "9/9 [==============================] - 8s 956ms/step - loss: 0.2421 - dice_coeff: 0.0690 - val_loss: 0.2590 - val_dice_coeff: 0.1362\n",
      "Epoch 7/100\n",
      "9/9 [==============================] - 8s 961ms/step - loss: 0.2144 - dice_coeff: 0.0989 - val_loss: 0.2535 - val_dice_coeff: 0.1124\n",
      "Epoch 8/100\n",
      "9/9 [==============================] - 8s 968ms/step - loss: 0.2018 - dice_coeff: 0.0878 - val_loss: 0.2422 - val_dice_coeff: 0.1268\n",
      "Epoch 9/100\n",
      "9/9 [==============================] - 8s 961ms/step - loss: 0.1964 - dice_coeff: 0.1004 - val_loss: 0.2400 - val_dice_coeff: 0.1276\n",
      "Epoch 10/100\n",
      "9/9 [==============================] - 8s 972ms/step - loss: 0.1941 - dice_coeff: 0.0965 - val_loss: 0.2387 - val_dice_coeff: 0.1282\n",
      "Epoch 11/100\n",
      "9/9 [==============================] - 8s 962ms/step - loss: 0.1921 - dice_coeff: 0.1037 - val_loss: 0.2361 - val_dice_coeff: 0.1331\n",
      "Epoch 12/100\n",
      "9/9 [==============================] - 8s 968ms/step - loss: 0.1903 - dice_coeff: 0.1023 - val_loss: 0.2352 - val_dice_coeff: 0.1346\n",
      "Epoch 13/100\n",
      "9/9 [==============================] - 9s 1s/step - loss: 0.1891 - dice_coeff: 0.1070 - val_loss: 0.2355 - val_dice_coeff: 0.1342\n",
      "Epoch 14/100\n",
      "9/9 [==============================] - 8s 962ms/step - loss: 0.1881 - dice_coeff: 0.1085 - val_loss: 0.2325 - val_dice_coeff: 0.1406\n",
      "Epoch 15/100\n",
      "9/9 [==============================] - 8s 977ms/step - loss: 0.1867 - dice_coeff: 0.1115 - val_loss: 0.2326 - val_dice_coeff: 0.1406\n",
      "Epoch 16/100\n",
      "9/9 [==============================] - 8s 968ms/step - loss: 0.1855 - dice_coeff: 0.1136 - val_loss: 0.2295 - val_dice_coeff: 0.1473\n",
      "Epoch 17/100\n",
      "9/9 [==============================] - 8s 972ms/step - loss: 0.1838 - dice_coeff: 0.1183 - val_loss: 0.2288 - val_dice_coeff: 0.1493\n",
      "Epoch 18/100\n",
      "9/9 [==============================] - 8s 972ms/step - loss: 0.1818 - dice_coeff: 0.1226 - val_loss: 0.2241 - val_dice_coeff: 0.1598\n",
      "Epoch 19/100\n",
      "9/9 [==============================] - 8s 969ms/step - loss: 0.1782 - dice_coeff: 0.1317 - val_loss: 0.2191 - val_dice_coeff: 0.1725\n",
      "Epoch 20/100\n",
      "9/9 [==============================] - 9s 1s/step - loss: 0.1730 - dice_coeff: 0.1472 - val_loss: 0.2102 - val_dice_coeff: 0.1967\n",
      "Epoch 21/100\n",
      "9/9 [==============================] - 9s 1s/step - loss: 0.1663 - dice_coeff: 0.1749 - val_loss: 0.2130 - val_dice_coeff: 0.2120\n",
      "Epoch 22/100\n",
      "9/9 [==============================] - 8s 969ms/step - loss: 0.1606 - dice_coeff: 0.2011 - val_loss: 0.1952 - val_dice_coeff: 0.2504\n",
      "Epoch 23/100\n",
      "9/9 [==============================] - 8s 970ms/step - loss: 0.1606 - dice_coeff: 0.2128 - val_loss: 0.1943 - val_dice_coeff: 0.2534\n",
      "Epoch 24/100\n",
      "9/9 [==============================] - 9s 1s/step - loss: 0.1547 - dice_coeff: 0.2217 - val_loss: 0.1936 - val_dice_coeff: 0.2649\n",
      "Epoch 25/100\n",
      "9/9 [==============================] - 8s 970ms/step - loss: 0.1516 - dice_coeff: 0.2346 - val_loss: 0.1931 - val_dice_coeff: 0.2710\n",
      "Epoch 26/100\n",
      "9/9 [==============================] - 9s 1s/step - loss: 0.1468 - dice_coeff: 0.2469 - val_loss: 0.1981 - val_dice_coeff: 0.2681\n",
      "Epoch 27/100\n",
      "9/9 [==============================] - 8s 976ms/step - loss: 0.1438 - dice_coeff: 0.2558 - val_loss: 0.1959 - val_dice_coeff: 0.2934\n",
      "Epoch 28/100\n",
      "9/9 [==============================] - 8s 967ms/step - loss: 0.1451 - dice_coeff: 0.2619 - val_loss: 0.1895 - val_dice_coeff: 0.2985\n",
      "Epoch 29/100\n",
      "9/9 [==============================] - 9s 1s/step - loss: 0.1413 - dice_coeff: 0.2660 - val_loss: 0.1888 - val_dice_coeff: 0.3010\n",
      "Epoch 30/100\n",
      "9/9 [==============================] - 8s 999ms/step - loss: 0.1367 - dice_coeff: 0.2826 - val_loss: 0.1918 - val_dice_coeff: 0.3205\n",
      "Epoch 31/100\n",
      "9/9 [==============================] - 8s 957ms/step - loss: 0.1364 - dice_coeff: 0.2952 - val_loss: 0.1802 - val_dice_coeff: 0.3212\n",
      "Epoch 32/100\n",
      "9/9 [==============================] - 8s 973ms/step - loss: 0.1341 - dice_coeff: 0.3039 - val_loss: 0.1904 - val_dice_coeff: 0.3090\n",
      "Epoch 33/100\n",
      "9/9 [==============================] - 8s 1s/step - loss: 0.1312 - dice_coeff: 0.3106 - val_loss: 0.1787 - val_dice_coeff: 0.3342\n",
      "Epoch 34/100\n",
      "9/9 [==============================] - 8s 974ms/step - loss: 0.1279 - dice_coeff: 0.3285 - val_loss: 0.1812 - val_dice_coeff: 0.3244\n",
      "Epoch 35/100\n",
      "9/9 [==============================] - 8s 969ms/step - loss: 0.1224 - dice_coeff: 0.3373 - val_loss: 0.1805 - val_dice_coeff: 0.3462\n",
      "Epoch 36/100\n",
      "9/9 [==============================] - 8s 1s/step - loss: 0.1195 - dice_coeff: 0.3483 - val_loss: 0.1787 - val_dice_coeff: 0.3617\n",
      "Epoch 37/100\n",
      "9/9 [==============================] - 8s 962ms/step - loss: 0.1214 - dice_coeff: 0.3474 - val_loss: 0.1718 - val_dice_coeff: 0.3541\n",
      "Epoch 38/100\n",
      "9/9 [==============================] - 8s 982ms/step - loss: 0.1175 - dice_coeff: 0.3525 - val_loss: 0.1740 - val_dice_coeff: 0.3569\n",
      "Epoch 39/100\n",
      "9/9 [==============================] - 8s 1s/step - loss: 0.1161 - dice_coeff: 0.3622 - val_loss: 0.1718 - val_dice_coeff: 0.3616\n",
      "Epoch 40/100\n",
      "9/9 [==============================] - 8s 981ms/step - loss: 0.1159 - dice_coeff: 0.3617 - val_loss: 0.1671 - val_dice_coeff: 0.3613\n",
      "Epoch 41/100\n",
      "9/9 [==============================] - 8s 985ms/step - loss: 0.1159 - dice_coeff: 0.3635 - val_loss: 0.1712 - val_dice_coeff: 0.3691\n",
      "Epoch 42/100\n",
      "9/9 [==============================] - 8s 981ms/step - loss: 0.1116 - dice_coeff: 0.3704 - val_loss: 0.1701 - val_dice_coeff: 0.3750\n",
      "Epoch 43/100\n",
      "9/9 [==============================] - 8s 978ms/step - loss: 0.1124 - dice_coeff: 0.3771 - val_loss: 0.1668 - val_dice_coeff: 0.3767\n",
      "Epoch 44/100\n",
      "9/9 [==============================] - 9s 1s/step - loss: 0.1127 - dice_coeff: 0.3711 - val_loss: 0.1672 - val_dice_coeff: 0.3665\n",
      "Model saved to: /tmp/tmpzsx2dalgGP2/attunet_0attunet_model\n",
      "History saved to: /tmp/tmpzsx2dalgGP2/attunet_history_0.pkl\n",
      "Testing the classifier...\n",
      "****** TRAINING DISCRIMINATOR ******\n",
      "Model saved to /tmp/tmpzsx2dalgGP2/cnnd_0.model\n",
      "History saved to /tmp/tmpzsx2dalgGP2/cnnd_history_0.pickle\n",
      "Testing the discriminator...\n",
      "22/22 [==============================] - 1s 39ms/step - loss: 0.0068 - accuracy: 0.9985\n",
      "Replacing 112 from 336 !\n",
      "D_relabeled_ 112\n",
      "point ids 112\n",
      "Removed: 112 Filled: 112\n",
      "TOOK 688.3457984924316 seconds\n",
      "==== DONE LOOP 1 ====\n",
      "******\n",
      "Loop 2\n",
      "Epoch 1/100\n",
      "11/11 [==============================] - 16s 2s/step - loss: 0.1254 - dice_coeff: 0.3511 - val_loss: 0.1630 - val_dice_coeff: 0.3637\n",
      "Epoch 2/100\n",
      "11/11 [==============================] - 9s 892ms/step - loss: 0.1216 - dice_coeff: 0.3654 - val_loss: 0.1656 - val_dice_coeff: 0.3743\n",
      "Epoch 3/100\n",
      "11/11 [==============================] - 9s 847ms/step - loss: 0.1198 - dice_coeff: 0.3677 - val_loss: 0.1717 - val_dice_coeff: 0.3710\n",
      "Epoch 4/100\n",
      "11/11 [==============================] - 9s 858ms/step - loss: 0.1173 - dice_coeff: 0.3729 - val_loss: 0.1739 - val_dice_coeff: 0.3699\n",
      "Epoch 5/100\n",
      "11/11 [==============================] - 9s 856ms/step - loss: 0.1175 - dice_coeff: 0.3780 - val_loss: 0.1636 - val_dice_coeff: 0.3662\n",
      "Epoch 6/100\n",
      "11/11 [==============================] - 9s 886ms/step - loss: 0.1195 - dice_coeff: 0.3679 - val_loss: 0.1593 - val_dice_coeff: 0.3808\n",
      "Model saved to: /tmp/tmpzsx2dalgGP2/attunet_1attunet_model\n",
      "History saved to: /tmp/tmpzsx2dalgGP2/attunet_history_1.pkl\n",
      "Testing the classifier...\n",
      "Testing the discriminator...\n",
      "22/22 [==============================] - 1s 39ms/step - loss: 0.1886 - accuracy: 0.9941\n",
      "Replacing 113 from 340 !\n",
      "D_relabeled_ 113\n",
      "point ids 113\n",
      "Removed: 113 Filled: 113\n",
      "TOOK 147.5601511001587 seconds\n",
      "==== DONE LOOP 2 ====\n",
      "******\n",
      "Loop 3\n",
      "Epoch 1/100\n",
      "13/13 [==============================] - 15s 1s/step - loss: 0.1249 - dice_coeff: 0.3624 - val_loss: 0.1732 - val_dice_coeff: 0.3639\n",
      "Epoch 2/100\n",
      "13/13 [==============================] - 10s 772ms/step - loss: 0.1248 - dice_coeff: 0.3602 - val_loss: 0.1762 - val_dice_coeff: 0.3654\n",
      "Epoch 3/100\n",
      "13/13 [==============================] - 10s 798ms/step - loss: 0.1206 - dice_coeff: 0.3742 - val_loss: 0.1573 - val_dice_coeff: 0.3905\n",
      "Epoch 4/100\n",
      "13/13 [==============================] - 10s 780ms/step - loss: 0.1206 - dice_coeff: 0.3728 - val_loss: 0.1681 - val_dice_coeff: 0.3797\n",
      "Epoch 5/100\n",
      "13/13 [==============================] - 10s 785ms/step - loss: 0.1169 - dice_coeff: 0.3864 - val_loss: 0.1561 - val_dice_coeff: 0.4002\n",
      "Epoch 6/100\n",
      "13/13 [==============================] - 10s 814ms/step - loss: 0.1172 - dice_coeff: 0.3889 - val_loss: 0.1640 - val_dice_coeff: 0.3956\n",
      "Epoch 7/100\n",
      "13/13 [==============================] - 10s 790ms/step - loss: 0.1134 - dice_coeff: 0.3988 - val_loss: 0.1541 - val_dice_coeff: 0.4171\n",
      "Epoch 8/100\n",
      "13/13 [==============================] - 11s 860ms/step - loss: 0.1112 - dice_coeff: 0.4106 - val_loss: 0.1617 - val_dice_coeff: 0.4001\n",
      "Epoch 9/100\n",
      "13/13 [==============================] - 10s 813ms/step - loss: 0.1083 - dice_coeff: 0.4178 - val_loss: 0.1656 - val_dice_coeff: 0.4038\n",
      "Epoch 10/100\n",
      "13/13 [==============================] - 10s 824ms/step - loss: 0.1120 - dice_coeff: 0.4112 - val_loss: 0.1766 - val_dice_coeff: 0.3816\n",
      "Epoch 11/100\n",
      "13/13 [==============================] - 10s 793ms/step - loss: 0.1106 - dice_coeff: 0.4115 - val_loss: 0.1540 - val_dice_coeff: 0.4171\n",
      "Model saved to: /tmp/tmpzsx2dalgGP2/attunet_2attunet_model\n",
      "History saved to: /tmp/tmpzsx2dalgGP2/attunet_history_2.pkl\n",
      "Testing the classifier...\n",
      "Testing the discriminator...\n",
      "22/22 [==============================] - 1s 42ms/step - loss: 32.9217 - accuracy: 0.6544\n",
      "Replacing 34 from 104 !\n",
      "D_relabeled_ 34\n",
      "point ids 34\n",
      "Removed: 34 Filled: 34\n",
      "TOOK 269.6500861644745 seconds\n",
      "==== DONE LOOP 3 ====\n",
      "******\n",
      "Loop 4\n",
      "Epoch 1/100\n",
      "13/13 [==============================] - 18s 1s/step - loss: 0.1061 - dice_coeff: 0.4260 - val_loss: 0.1454 - val_dice_coeff: 0.4288\n",
      "Epoch 2/100\n",
      "13/13 [==============================] - 10s 821ms/step - loss: 0.1043 - dice_coeff: 0.4348 - val_loss: 0.1605 - val_dice_coeff: 0.4152\n",
      "Epoch 3/100\n",
      "13/13 [==============================] - 10s 811ms/step - loss: 0.1033 - dice_coeff: 0.4363 - val_loss: 0.1551 - val_dice_coeff: 0.4393\n",
      "Epoch 4/100\n",
      "13/13 [==============================] - 10s 828ms/step - loss: 0.1040 - dice_coeff: 0.4375 - val_loss: 0.1821 - val_dice_coeff: 0.3922\n",
      "Epoch 5/100\n",
      "13/13 [==============================] - 10s 807ms/step - loss: 0.1013 - dice_coeff: 0.4506 - val_loss: 0.1459 - val_dice_coeff: 0.4575\n",
      "Epoch 6/100\n",
      "13/13 [==============================] - 10s 797ms/step - loss: 0.1015 - dice_coeff: 0.4589 - val_loss: 0.1507 - val_dice_coeff: 0.4540\n",
      "Epoch 7/100\n",
      "13/13 [==============================] - 11s 845ms/step - loss: 0.1020 - dice_coeff: 0.4598 - val_loss: 0.1532 - val_dice_coeff: 0.4403\n",
      "Model saved to: /tmp/tmpzsx2dalgGP2/attunet_3attunet_model\n",
      "History saved to: /tmp/tmpzsx2dalgGP2/attunet_history_3.pkl\n",
      "Testing the classifier...\n",
      "Testing the discriminator...\n",
      "22/22 [==============================] - 1s 44ms/step - loss: 29.9035 - accuracy: 0.6484\n",
      "Replacing 34 from 104 !\n",
      "D_relabeled_ 34\n",
      "point ids 34\n",
      "Removed: 34 Filled: 34\n",
      "TOOK 207.62111616134644 seconds\n",
      "==== DONE LOOP 4 ====\n",
      "******\n",
      "Loop 5\n",
      "Epoch 1/100\n",
      "14/14 [==============================] - 16s 1s/step - loss: 0.0969 - dice_coeff: 0.4864 - val_loss: 0.1527 - val_dice_coeff: 0.4794\n",
      "Epoch 2/100\n",
      "14/14 [==============================] - 10s 752ms/step - loss: 0.0945 - dice_coeff: 0.5152 - val_loss: 0.1487 - val_dice_coeff: 0.5098\n",
      "Epoch 3/100\n",
      "14/14 [==============================] - 11s 797ms/step - loss: 0.0952 - dice_coeff: 0.5144 - val_loss: 0.1543 - val_dice_coeff: 0.4837\n",
      "Epoch 4/100\n",
      "14/14 [==============================] - 10s 747ms/step - loss: 0.0916 - dice_coeff: 0.5448 - val_loss: 0.1542 - val_dice_coeff: 0.5133\n",
      "Epoch 5/100\n",
      "14/14 [==============================] - 10s 745ms/step - loss: 0.0934 - dice_coeff: 0.5504 - val_loss: 0.1565 - val_dice_coeff: 0.4741\n",
      "Epoch 6/100\n",
      "14/14 [==============================] - 11s 792ms/step - loss: 0.0902 - dice_coeff: 0.5524 - val_loss: 0.1387 - val_dice_coeff: 0.5540\n",
      "Epoch 7/100\n",
      "14/14 [==============================] - 11s 788ms/step - loss: 0.0889 - dice_coeff: 0.5548 - val_loss: 0.1453 - val_dice_coeff: 0.5318\n",
      "Epoch 8/100\n",
      "14/14 [==============================] - 11s 792ms/step - loss: 0.0871 - dice_coeff: 0.5682 - val_loss: 0.1503 - val_dice_coeff: 0.5158\n",
      "Epoch 9/100\n",
      "14/14 [==============================] - 10s 755ms/step - loss: 0.0864 - dice_coeff: 0.5755 - val_loss: 0.1375 - val_dice_coeff: 0.5418\n",
      "Epoch 10/100\n",
      "14/14 [==============================] - 11s 804ms/step - loss: 0.0841 - dice_coeff: 0.5797 - val_loss: 0.1428 - val_dice_coeff: 0.5424\n",
      "Epoch 11/100\n",
      "14/14 [==============================] - 10s 750ms/step - loss: 0.0830 - dice_coeff: 0.5859 - val_loss: 0.1383 - val_dice_coeff: 0.5461\n",
      "Epoch 12/100\n",
      "14/14 [==============================] - 11s 791ms/step - loss: 0.0836 - dice_coeff: 0.5885 - val_loss: 0.1680 - val_dice_coeff: 0.5175\n",
      "Epoch 13/100\n",
      "14/14 [==============================] - 10s 759ms/step - loss: 0.0820 - dice_coeff: 0.5944 - val_loss: 0.1427 - val_dice_coeff: 0.5635\n",
      "Epoch 14/100\n",
      "14/14 [==============================] - 11s 777ms/step - loss: 0.0816 - dice_coeff: 0.5934 - val_loss: 0.1488 - val_dice_coeff: 0.5360\n",
      "Epoch 15/100\n",
      "14/14 [==============================] - 10s 765ms/step - loss: 0.0804 - dice_coeff: 0.5976 - val_loss: 0.1474 - val_dice_coeff: 0.5518\n",
      "Epoch 16/100\n",
      "14/14 [==============================] - 10s 747ms/step - loss: 0.0816 - dice_coeff: 0.5989 - val_loss: 0.1765 - val_dice_coeff: 0.5101\n",
      "Epoch 17/100\n",
      "14/14 [==============================] - 11s 788ms/step - loss: 0.0806 - dice_coeff: 0.5967 - val_loss: 0.1379 - val_dice_coeff: 0.5423\n",
      "Model saved to: /tmp/tmpzsx2dalgGP2/attunet_4attunet_model\n",
      "History saved to: /tmp/tmpzsx2dalgGP2/attunet_history_4.pkl\n",
      "Testing the classifier...\n",
      "Testing the discriminator...\n",
      "22/22 [==============================] - 1s 37ms/step - loss: 33.9691 - accuracy: 0.6411\n",
      "Replacing 31 from 93 !\n",
      "D_relabeled_ 31\n",
      "point ids 31\n",
      "Removed: 31 Filled: 31\n",
      "TOOK 329.21340346336365 seconds\n",
      "==== DONE LOOP 5 ====\n",
      "******\n",
      "Loop 6\n",
      "Epoch 1/100\n",
      "14/14 [==============================] - 19s 1s/step - loss: 0.0793 - dice_coeff: 0.6016 - val_loss: 0.1422 - val_dice_coeff: 0.5640\n",
      "Epoch 2/100\n",
      "14/14 [==============================] - 11s 825ms/step - loss: 0.0785 - dice_coeff: 0.6040 - val_loss: 0.1460 - val_dice_coeff: 0.5411\n",
      "Epoch 3/100\n",
      "14/14 [==============================] - 11s 820ms/step - loss: 0.0764 - dice_coeff: 0.6133 - val_loss: 0.1466 - val_dice_coeff: 0.5486\n",
      "Epoch 4/100\n",
      "14/14 [==============================] - 11s 792ms/step - loss: 0.0760 - dice_coeff: 0.6137 - val_loss: 0.1532 - val_dice_coeff: 0.5599\n",
      "Epoch 5/100\n",
      "14/14 [==============================] - 11s 795ms/step - loss: 0.0775 - dice_coeff: 0.6114 - val_loss: 0.1507 - val_dice_coeff: 0.5290\n",
      "Epoch 6/100\n",
      "14/14 [==============================] - 11s 833ms/step - loss: 0.0759 - dice_coeff: 0.6108 - val_loss: 0.1373 - val_dice_coeff: 0.5818\n",
      "Epoch 7/100\n",
      "14/14 [==============================] - 11s 823ms/step - loss: 0.0758 - dice_coeff: 0.6174 - val_loss: 0.1326 - val_dice_coeff: 0.5603\n",
      "Epoch 8/100\n",
      "14/14 [==============================] - 11s 822ms/step - loss: 0.0759 - dice_coeff: 0.6105 - val_loss: 0.1698 - val_dice_coeff: 0.5496\n",
      "Epoch 9/100\n",
      "14/14 [==============================] - 11s 842ms/step - loss: 0.0760 - dice_coeff: 0.6127 - val_loss: 0.1680 - val_dice_coeff: 0.5123\n",
      "Model saved to: /tmp/tmpzsx2dalgGP2/attunet_5attunet_model\n",
      "History saved to: /tmp/tmpzsx2dalgGP2/attunet_history_5.pkl\n",
      "Testing the classifier...\n",
      "Testing the discriminator...\n",
      "22/22 [==============================] - 1s 40ms/step - loss: 21.0455 - accuracy: 0.7105\n",
      "Replacing 46 from 139 !\n",
      "D_relabeled_ 46\n",
      "point ids 46\n",
      "Removed: 46 Filled: 46\n",
      "TOOK 209.680428981781 seconds\n",
      "==== DONE LOOP 6 ====\n",
      "******\n",
      "Loop 7\n",
      "Epoch 1/100\n",
      "15/15 [==============================] - 17s 1s/step - loss: 0.0773 - dice_coeff: 0.5987 - val_loss: 0.1618 - val_dice_coeff: 0.5517\n",
      "Epoch 2/100\n",
      "15/15 [==============================] - 11s 761ms/step - loss: 0.0768 - dice_coeff: 0.6053 - val_loss: 0.1596 - val_dice_coeff: 0.5200\n",
      "Epoch 3/100\n",
      "15/15 [==============================] - 11s 748ms/step - loss: 0.0742 - dice_coeff: 0.6151 - val_loss: 0.1498 - val_dice_coeff: 0.5421\n",
      "Epoch 4/100\n",
      "15/15 [==============================] - 11s 762ms/step - loss: 0.0728 - dice_coeff: 0.6237 - val_loss: 0.1616 - val_dice_coeff: 0.5536\n",
      "Epoch 5/100\n",
      "15/15 [==============================] - 11s 743ms/step - loss: 0.0718 - dice_coeff: 0.6282 - val_loss: 0.1560 - val_dice_coeff: 0.5678\n",
      "Epoch 6/100\n",
      "15/15 [==============================] - 11s 752ms/step - loss: 0.0741 - dice_coeff: 0.6160 - val_loss: 0.1474 - val_dice_coeff: 0.5427\n",
      "Epoch 7/100\n",
      "15/15 [==============================] - 11s 749ms/step - loss: 0.0759 - dice_coeff: 0.6079 - val_loss: 0.1395 - val_dice_coeff: 0.5593\n",
      "Model saved to: /tmp/tmpzsx2dalgGP2/attunet_6attunet_model\n",
      "History saved to: /tmp/tmpzsx2dalgGP2/attunet_history_6.pkl\n",
      "Testing the classifier...\n",
      "Testing the discriminator...\n",
      "22/22 [==============================] - 1s 38ms/step - loss: 36.0527 - accuracy: 0.6115\n",
      "Replacing 26 from 78 !\n",
      "D_relabeled_ 26\n",
      "point ids 26\n",
      "Removed: 26 Filled: 26\n",
      "TOOK 207.413183927536 seconds\n",
      "==== DONE LOOP 7 ====\n",
      "******\n",
      "Loop 8\n",
      "Epoch 1/100\n",
      "15/15 [==============================] - 13s 821ms/step - loss: 0.0744 - dice_coeff: 0.6170 - val_loss: 0.1510 - val_dice_coeff: 0.5317\n",
      "Epoch 2/100\n",
      "15/15 [==============================] - 11s 743ms/step - loss: 0.0749 - dice_coeff: 0.6137 - val_loss: 0.1670 - val_dice_coeff: 0.5240\n",
      "Epoch 3/100\n",
      "15/15 [==============================] - 12s 801ms/step - loss: 0.0741 - dice_coeff: 0.6145 - val_loss: 0.1365 - val_dice_coeff: 0.5535\n",
      "Epoch 4/100\n",
      "15/15 [==============================] - 11s 750ms/step - loss: 0.0720 - dice_coeff: 0.6243 - val_loss: 0.1369 - val_dice_coeff: 0.5818\n",
      "Epoch 5/100\n",
      "15/15 [==============================] - 11s 787ms/step - loss: 0.0701 - dice_coeff: 0.6373 - val_loss: 0.1392 - val_dice_coeff: 0.5812\n",
      "Epoch 6/100\n",
      "15/15 [==============================] - 11s 762ms/step - loss: 0.0694 - dice_coeff: 0.6339 - val_loss: 0.1690 - val_dice_coeff: 0.5631\n",
      "Epoch 7/100\n",
      "15/15 [==============================] - 11s 784ms/step - loss: 0.0683 - dice_coeff: 0.6435 - val_loss: 0.1523 - val_dice_coeff: 0.5603\n",
      "Epoch 8/100\n",
      "15/15 [==============================] - 11s 753ms/step - loss: 0.0680 - dice_coeff: 0.6439 - val_loss: 0.1400 - val_dice_coeff: 0.5943\n",
      "Epoch 9/100\n",
      "15/15 [==============================] - 11s 785ms/step - loss: 0.0679 - dice_coeff: 0.6446 - val_loss: 0.1500 - val_dice_coeff: 0.5681\n",
      "Epoch 10/100\n",
      "15/15 [==============================] - 11s 757ms/step - loss: 0.0680 - dice_coeff: 0.6440 - val_loss: 0.2128 - val_dice_coeff: 0.4938\n",
      "Epoch 11/100\n",
      "15/15 [==============================] - 11s 786ms/step - loss: 0.0769 - dice_coeff: 0.6010 - val_loss: 0.1433 - val_dice_coeff: 0.5232\n",
      "Model saved to: /tmp/tmpzsx2dalgGP2/attunet_7attunet_model\n",
      "History saved to: /tmp/tmpzsx2dalgGP2/attunet_history_7.pkl\n",
      "Testing the classifier...\n",
      "Testing the discriminator...\n",
      "22/22 [==============================] - 1s 39ms/step - loss: 28.6177 - accuracy: 0.6691\n",
      "Replacing 32 from 97 !\n",
      "D_relabeled_ 32\n",
      "point ids 32\n",
      "Removed: 32 Filled: 32\n",
      "TOOK 210.87528038024902 seconds\n",
      "==== DONE LOOP 8 ====\n"
     ]
    }
   ],
   "source": [
    "R.run(images=images, masks=masks, weights=weights, runs=8)"
   ]
  },
  {
   "cell_type": "code",
   "execution_count": null,
   "id": "dab6fd49",
   "metadata": {},
   "outputs": [],
   "source": []
  },
  {
   "cell_type": "code",
   "execution_count": 10,
   "id": "00075332",
   "metadata": {},
   "outputs": [
    {
     "data": {
      "text/plain": [
       "[[0.19479462504386902, 0.2702828049659729],\n",
       " [0.1686946302652359, 0.28551185131073],\n",
       " [0.1466982066631317, 0.33107393980026245],\n",
       " [0.13403105735778809, 0.3823919892311096],\n",
       " [0.12340082228183746, 0.4712500274181366],\n",
       " [0.12337837368249893, 0.47757649421691895],\n",
       " [0.11946157366037369, 0.4944193363189697],\n",
       " [0.11608622223138809, 0.4748430848121643]]"
      ]
     },
     "execution_count": 10,
     "metadata": {},
     "output_type": "execute_result"
    }
   ],
   "source": [
    "R.classifier_scores"
   ]
  },
  {
   "cell_type": "code",
   "execution_count": 11,
   "id": "35105656",
   "metadata": {},
   "outputs": [
    {
     "data": {
      "text/plain": [
       "[[0.006838761270046234, 0.9985228776931763],\n",
       " [0.1886299103498459, 0.9940915703773499],\n",
       " [32.92172622680664, 0.6543574333190918],\n",
       " [29.90346908569336, 0.6484490633010864],\n",
       " [33.969058990478516, 0.6410635113716125],\n",
       " [21.045488357543945, 0.710487425327301],\n",
       " [36.05271911621094, 0.6115214228630066],\n",
       " [28.6176700592041, 0.6691285371780396]]"
      ]
     },
     "execution_count": 11,
     "metadata": {},
     "output_type": "execute_result"
    }
   ],
   "source": [
    "R.discriminator_scores"
   ]
  },
  {
   "cell_type": "code",
   "execution_count": null,
   "id": "e256ed4d",
   "metadata": {},
   "outputs": [],
   "source": []
  },
  {
   "cell_type": "code",
   "execution_count": 12,
   "id": "c83bb28d",
   "metadata": {},
   "outputs": [
    {
     "data": {
      "image/png": "[encoded data removed]",
      "text/plain": [
       "<Figure size 240x240 with 1 Axes>"
      ]
     },
     "metadata": {
      "needs_background": "light"
     },
     "output_type": "display_data"
    }
   ],
   "source": [
    "R.plot()"
   ]
  },
  {
   "cell_type": "code",
   "execution_count": null,
   "id": "7f3b4a58",
   "metadata": {},
   "outputs": [],
   "source": []
  }
 ],
 "metadata": {
  "kernelspec": {
   "display_name": "Python 3 (ipykernel)",
   "language": "python",
   "name": "python3"
  },
  "language_info": {
   "codemirror_mode": {
    "name": "ipython",
    "version": 3
   },
   "file_extension": ".py",
   "mimetype": "text/x-python",
   "name": "python",
   "nbconvert_exporter": "python",
   "pygments_lexer": "ipython3",
   "version": "3.9.7"
  }
 },
 "nbformat": 4,
 "nbformat_minor": 5
}
