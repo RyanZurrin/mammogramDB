{
 "cells": [
  {
   "cell_type": "code",
   "execution_count": 1,
   "id": "06c4accc",
   "metadata": {},
   "outputs": [
    {
     "name": "stdout",
     "output_type": "stream",
     "text": [
      "Populating the interactive namespace from numpy and matplotlib\n"
     ]
    }
   ],
   "source": [
    "%pylab inline\n",
    "%load_ext autoreload\n",
    "%autoreload 2"
   ]
  },
  {
   "cell_type": "code",
   "execution_count": 2,
   "id": "b9e78ed8",
   "metadata": {},
   "outputs": [],
   "source": [
    "import time\n",
    "import sys\n",
    "sys.path.insert(0,'../../../..')\n",
    "from omama import gp2\n",
    "from omama.gp2 import Runner\n",
    "from keras import losses, metrics\n",
    "from tensorflow.keras import optimizers"
   ]
  },
  {
   "cell_type": "code",
   "execution_count": 3,
   "id": "bdc75325",
   "metadata": {},
   "outputs": [
    {
     "name": "stdout",
     "output_type": "stream",
     "text": [
      "*** GP2 KATTUnet2D ***\n",
      "Working directory: /tmp/tmppe4_3pr4GP2\n"
     ]
    }
   ],
   "source": [
    "R = Runner(classifier='kattunet2d',\n",
    "           filter_num=[16, 32, 64, 128, 256],\n",
    "           stack_num_down=2,\n",
    "           stack_num_up=2,\n",
    "           activation='ReLU',\n",
    "           atten_activation='ReLU',\n",
    "           attention='add',\n",
    "           output_activation='Sigmoid',\n",
    "           batch_norm=False,\n",
    "           pool=False,\n",
    "           unpool=False,\n",
    "           weights='imagenet',\n",
    "           optimizer= None, #None = default is optimizers.Adam(learning_rate=1e-3)\n",
    "           loss=None, #None = default is losses.binary_crossentropy\n",
    "           metric=None # None = default is Util.dice_coef\n",
    "          )"
   ]
  },
  {
   "cell_type": "code",
   "execution_count": 4,
   "id": "87b0c65d",
   "metadata": {},
   "outputs": [],
   "source": [
    "# load our larger toy dataset (10k images and masks)\n",
    "images = np.load('/hpcstor6/scratch01/p/poornendu.pabbati001/COVID/Covid_images_unn.npy')\n",
    "masks = np.load('/hpcstor6/scratch01/p/poornendu.pabbati001/COVID/Covid_masks_unn.npy')"
   ]
  },
  {
   "cell_type": "code",
   "execution_count": null,
   "id": "7330ad24",
   "metadata": {},
   "outputs": [],
   "source": []
  },
  {
   "cell_type": "code",
   "execution_count": 5,
   "id": "d5b4179a",
   "metadata": {},
   "outputs": [
    {
     "data": {
      "text/plain": [
       "(3616, 512, 512, 1)"
      ]
     },
     "execution_count": 5,
     "metadata": {},
     "output_type": "execute_result"
    }
   ],
   "source": [
    "images.shape"
   ]
  },
  {
   "cell_type": "code",
   "execution_count": 6,
   "id": "57033c4e",
   "metadata": {},
   "outputs": [
    {
     "data": {
      "text/plain": [
       "(3616, 512, 512, 1)"
      ]
     },
     "execution_count": 6,
     "metadata": {},
     "output_type": "execute_result"
    }
   ],
   "source": [
    "masks.shape"
   ]
  },
  {
   "cell_type": "code",
   "execution_count": 7,
   "id": "1dd71668",
   "metadata": {},
   "outputs": [],
   "source": [
    "# weights = {\n",
    "#     'A': 0.5,\n",
    "#     'A_train': 0.1,\n",
    "#     'A_val': 0.3,\n",
    "#     'A_test': 0.6,\n",
    "#     'B': 0.3,\n",
    "#     'B_train': 0.7,\n",
    "#     'B_val': 0.1,\n",
    "#     'B_test': 0.2,\n",
    "#     'Z': 0.2\n",
    "# }"
   ]
  },
  {
   "cell_type": "code",
   "execution_count": 7,
   "id": "d8ff85c4",
   "metadata": {
    "scrolled": true
   },
   "outputs": [
    {
     "name": "stdout",
     "output_type": "stream",
     "text": [
      "Weights OK!\n",
      "******\n",
      "Loop 1\n",
      "Epoch 1/100\n",
      "3/3 [==============================] - 27s 6s/step - loss: 5.8241 - dice_coeff: 0.4452 - val_loss: 3.9523 - val_dice_coeff: 0.4400\n",
      "Epoch 2/100\n",
      "3/3 [==============================] - 3s 1s/step - loss: 3.0149 - dice_coeff: 0.4306 - val_loss: 1.2881 - val_dice_coeff: 0.3928\n",
      "Epoch 3/100\n",
      "3/3 [==============================] - 3s 1s/step - loss: 0.9248 - dice_coeff: 0.3471 - val_loss: 0.7322 - val_dice_coeff: 0.2305\n",
      "Epoch 4/100\n",
      "3/3 [==============================] - 3s 1s/step - loss: 0.8543 - dice_coeff: 0.1671 - val_loss: 1.0482 - val_dice_coeff: 0.1107\n",
      "Epoch 5/100\n",
      "3/3 [==============================] - 3s 1s/step - loss: 1.1227 - dice_coeff: 0.0892 - val_loss: 1.1791 - val_dice_coeff: 0.0837\n",
      "Epoch 6/100\n",
      "3/3 [==============================] - 3s 1s/step - loss: 1.2014 - dice_coeff: 0.0761 - val_loss: 1.1506 - val_dice_coeff: 0.0877\n",
      "Model saved to: /tmp/tmppe4_3pr4GP2/attunet_0attunet_model\n",
      "History saved to: /tmp/tmppe4_3pr4GP2/attunet_history_0.pkl\n",
      "Testing the classifier...\n",
      "****** TRAINING DISCRIMINATOR ******\n",
      "Model saved to /tmp/tmppe4_3pr4GP2/cnnd_0.model\n",
      "History saved to /tmp/tmppe4_3pr4GP2/cnnd_history_0.pickle\n",
      "Testing the discriminator...\n",
      "7/7 [==============================] - 0s 33ms/step - loss: 0.0000e+00 - accuracy: 1.0000\n",
      "Replacing 38 from 115 !\n",
      "D_relabeled_ 38\n",
      "point ids 38\n",
      "Removed: 38 Filled: 38\n",
      "TOOK 154.89199709892273 seconds\n",
      "==== DONE LOOP 1 ====\n",
      "******\n",
      "Loop 2\n",
      "Epoch 1/100\n",
      "4/4 [==============================] - 8s 3s/step - loss: 1.0922 - dice_coeff: 0.0953 - val_loss: 0.9574 - val_dice_coeff: 0.1298\n",
      "Epoch 2/100\n",
      "4/4 [==============================] - 3s 808ms/step - loss: 0.8728 - dice_coeff: 0.1555 - val_loss: 0.7102 - val_dice_coeff: 0.2302\n",
      "Epoch 3/100\n",
      "4/4 [==============================] - 3s 801ms/step - loss: 0.6670 - dice_coeff: 0.2668 - val_loss: 0.6466 - val_dice_coeff: 0.3335\n",
      "Epoch 4/100\n",
      "4/4 [==============================] - 3s 807ms/step - loss: 0.6840 - dice_coeff: 0.3391 - val_loss: 0.7336 - val_dice_coeff: 0.3575\n",
      "Epoch 5/100\n",
      "4/4 [==============================] - 3s 796ms/step - loss: 0.7086 - dice_coeff: 0.3457 - val_loss: 0.6436 - val_dice_coeff: 0.3362\n",
      "Model saved to: /tmp/tmppe4_3pr4GP2/attunet_1attunet_model\n",
      "History saved to: /tmp/tmppe4_3pr4GP2/attunet_history_1.pkl\n",
      "Testing the classifier...\n",
      "Testing the discriminator...\n",
      "7/7 [==============================] - 0s 34ms/step - loss: 6.8719 - accuracy: 0.9769\n",
      "Replacing 35 from 107 !\n",
      "D_relabeled_ 35\n",
      "point ids 35\n",
      "Removed: 35 Filled: 35\n",
      "TOOK 104.40856885910034 seconds\n",
      "==== DONE LOOP 2 ====\n",
      "******\n",
      "Loop 3\n",
      "Epoch 1/100\n",
      "4/4 [==============================] - 11s 4s/step - loss: 0.6245 - dice_coeff: 0.3085 - val_loss: 0.6221 - val_dice_coeff: 0.2906\n",
      "Epoch 2/100\n",
      "4/4 [==============================] - 3s 871ms/step - loss: 0.6259 - dice_coeff: 0.2686 - val_loss: 0.6406 - val_dice_coeff: 0.2661\n",
      "Epoch 3/100\n",
      "4/4 [==============================] - 3s 871ms/step - loss: 0.6318 - dice_coeff: 0.2587 - val_loss: 0.6242 - val_dice_coeff: 0.2783\n",
      "Model saved to: /tmp/tmppe4_3pr4GP2/attunet_2attunet_model\n",
      "History saved to: /tmp/tmppe4_3pr4GP2/attunet_history_2.pkl\n",
      "Testing the classifier...\n",
      "Testing the discriminator...\n",
      "7/7 [==============================] - 0s 35ms/step - loss: 0.3670 - accuracy: 0.9954\n",
      "Replacing 37 from 112 !\n",
      "D_relabeled_ 37\n",
      "point ids 37\n",
      "Removed: 37 Filled: 37\n",
      "TOOK 63.0672652721405 seconds\n",
      "==== DONE LOOP 3 ====\n",
      "******\n",
      "Loop 4\n",
      "Epoch 1/100\n",
      "5/5 [==============================] - 10s 2s/step - loss: 0.6040 - dice_coeff: 0.2814 - val_loss: 0.5993 - val_dice_coeff: 0.3146\n",
      "Epoch 2/100\n",
      "5/5 [==============================] - 3s 746ms/step - loss: 0.5925 - dice_coeff: 0.3085 - val_loss: 0.5969 - val_dice_coeff: 0.3230\n",
      "Epoch 3/100\n",
      "5/5 [==============================] - 3s 726ms/step - loss: 0.5846 - dice_coeff: 0.3088 - val_loss: 0.5843 - val_dice_coeff: 0.3130\n",
      "Epoch 4/100\n",
      "5/5 [==============================] - 3s 723ms/step - loss: 0.5731 - dice_coeff: 0.2950 - val_loss: 0.5790 - val_dice_coeff: 0.3036\n",
      "Epoch 5/100\n",
      "5/5 [==============================] - 3s 722ms/step - loss: 0.5668 - dice_coeff: 0.2919 - val_loss: 0.5721 - val_dice_coeff: 0.3069\n",
      "Epoch 6/100\n",
      "5/5 [==============================] - 3s 730ms/step - loss: 0.5585 - dice_coeff: 0.3007 - val_loss: 0.5648 - val_dice_coeff: 0.3176\n",
      "Epoch 7/100\n",
      "5/5 [==============================] - 3s 718ms/step - loss: 0.5524 - dice_coeff: 0.3102 - val_loss: 0.5597 - val_dice_coeff: 0.3225\n",
      "Epoch 8/100\n",
      "5/5 [==============================] - 3s 762ms/step - loss: 0.5470 - dice_coeff: 0.3092 - val_loss: 0.5564 - val_dice_coeff: 0.3192\n",
      "Epoch 9/100\n",
      "5/5 [==============================] - 3s 736ms/step - loss: 0.5418 - dice_coeff: 0.3090 - val_loss: 0.5533 - val_dice_coeff: 0.3175\n",
      "Epoch 10/100\n",
      "5/5 [==============================] - 3s 735ms/step - loss: 0.5346 - dice_coeff: 0.3126 - val_loss: 0.5373 - val_dice_coeff: 0.3324\n",
      "Epoch 11/100\n",
      "5/5 [==============================] - 4s 769ms/step - loss: 0.5513 - dice_coeff: 0.3197 - val_loss: 0.5535 - val_dice_coeff: 0.3489\n",
      "Epoch 12/100\n",
      "5/5 [==============================] - 3s 745ms/step - loss: 0.5543 - dice_coeff: 0.3286 - val_loss: 0.5604 - val_dice_coeff: 0.3260\n",
      "Model saved to: /tmp/tmppe4_3pr4GP2/attunet_3attunet_model\n",
      "History saved to: /tmp/tmppe4_3pr4GP2/attunet_history_3.pkl\n",
      "Testing the classifier...\n",
      "Testing the discriminator...\n",
      "7/7 [==============================] - 0s 38ms/step - loss: 73.3893 - accuracy: 0.8796\n",
      "Replacing 25 from 75 !\n",
      "D_relabeled_ 25\n",
      "point ids 25\n",
      "Removed: 25 Filled: 25\n",
      "TOOK 164.8110203742981 seconds\n",
      "==== DONE LOOP 4 ====\n",
      "******\n",
      "Loop 5\n",
      "Epoch 1/100\n",
      "5/5 [==============================] - 11s 3s/step - loss: 0.5498 - dice_coeff: 0.2991 - val_loss: 0.5659 - val_dice_coeff: 0.3035\n",
      "Epoch 2/100\n",
      "5/5 [==============================] - 4s 783ms/step - loss: 0.5468 - dice_coeff: 0.2942 - val_loss: 0.5548 - val_dice_coeff: 0.3178\n",
      "Epoch 3/100\n",
      "5/5 [==============================] - 4s 776ms/step - loss: 0.5345 - dice_coeff: 0.3095 - val_loss: 0.5528 - val_dice_coeff: 0.3157\n",
      "Epoch 4/100\n",
      "5/5 [==============================] - 4s 767ms/step - loss: 0.5272 - dice_coeff: 0.3144 - val_loss: 0.5428 - val_dice_coeff: 0.3416\n",
      "Epoch 5/100\n",
      "5/5 [==============================] - 3s 758ms/step - loss: 0.5187 - dice_coeff: 0.3251 - val_loss: 0.5316 - val_dice_coeff: 0.3443\n",
      "Epoch 6/100\n",
      "5/5 [==============================] - 4s 766ms/step - loss: 0.5054 - dice_coeff: 0.3335 - val_loss: 0.5218 - val_dice_coeff: 0.3420\n",
      "Epoch 7/100\n",
      "5/5 [==============================] - 4s 788ms/step - loss: 0.4856 - dice_coeff: 0.3467 - val_loss: 0.5225 - val_dice_coeff: 0.3860\n",
      "Epoch 8/100\n",
      "5/5 [==============================] - 4s 776ms/step - loss: 0.4756 - dice_coeff: 0.3759 - val_loss: 0.4787 - val_dice_coeff: 0.3962\n",
      "Epoch 9/100\n",
      "5/5 [==============================] - 4s 785ms/step - loss: 0.4466 - dice_coeff: 0.4080 - val_loss: 0.4374 - val_dice_coeff: 0.4691\n",
      "Epoch 10/100\n",
      "5/5 [==============================] - 4s 772ms/step - loss: 0.4300 - dice_coeff: 0.4314 - val_loss: 0.4342 - val_dice_coeff: 0.4835\n",
      "Epoch 11/100\n",
      "5/5 [==============================] - 4s 813ms/step - loss: 0.5115 - dice_coeff: 0.4201 - val_loss: 0.7083 - val_dice_coeff: 0.2392\n",
      "Epoch 12/100\n",
      "5/5 [==============================] - 3s 768ms/step - loss: 0.5927 - dice_coeff: 0.3685 - val_loss: 0.5040 - val_dice_coeff: 0.3788\n",
      "Model saved to: /tmp/tmppe4_3pr4GP2/attunet_4attunet_model\n",
      "History saved to: /tmp/tmppe4_3pr4GP2/attunet_history_4.pkl\n",
      "Testing the classifier...\n",
      "Testing the discriminator...\n",
      "7/7 [==============================] - 0s 39ms/step - loss: 772.1405 - accuracy: 0.5926\n",
      "Replacing 5 from 16 !\n",
      "D_relabeled_ 5\n",
      "point ids 5\n",
      "Removed: 5 Filled: 5\n",
      "TOOK 164.61180520057678 seconds\n",
      "==== DONE LOOP 5 ====\n",
      "******\n",
      "Loop 6\n",
      "Epoch 1/100\n",
      "5/5 [==============================] - 5s 873ms/step - loss: 0.5315 - dice_coeff: 0.2937 - val_loss: 0.5713 - val_dice_coeff: 0.2849\n",
      "Epoch 2/100\n",
      "5/5 [==============================] - 4s 768ms/step - loss: 0.5081 - dice_coeff: 0.3277 - val_loss: 0.5350 - val_dice_coeff: 0.3840\n",
      "Epoch 3/100\n",
      "5/5 [==============================] - 4s 784ms/step - loss: 0.4965 - dice_coeff: 0.3652 - val_loss: 0.5185 - val_dice_coeff: 0.3487\n",
      "Epoch 4/100\n",
      "5/5 [==============================] - 4s 776ms/step - loss: 0.4758 - dice_coeff: 0.3469 - val_loss: 0.4881 - val_dice_coeff: 0.3803\n",
      "Epoch 5/100\n",
      "5/5 [==============================] - 4s 768ms/step - loss: 0.4542 - dice_coeff: 0.3913 - val_loss: 0.4710 - val_dice_coeff: 0.4136\n",
      "Epoch 6/100\n",
      "5/5 [==============================] - 4s 783ms/step - loss: 0.4355 - dice_coeff: 0.4081 - val_loss: 0.4537 - val_dice_coeff: 0.4255\n",
      "Epoch 7/100\n",
      "5/5 [==============================] - 4s 827ms/step - loss: 0.4243 - dice_coeff: 0.4159 - val_loss: 0.4433 - val_dice_coeff: 0.4281\n",
      "Epoch 8/100\n",
      "5/5 [==============================] - 4s 773ms/step - loss: 0.4098 - dice_coeff: 0.4348 - val_loss: 0.4297 - val_dice_coeff: 0.4526\n",
      "Epoch 9/100\n",
      "5/5 [==============================] - 4s 843ms/step - loss: 0.3956 - dice_coeff: 0.4551 - val_loss: 0.4130 - val_dice_coeff: 0.4868\n",
      "Epoch 10/100\n",
      "5/5 [==============================] - 4s 780ms/step - loss: 0.3797 - dice_coeff: 0.4809 - val_loss: 0.3995 - val_dice_coeff: 0.4908\n",
      "Epoch 11/100\n",
      "5/5 [==============================] - 4s 812ms/step - loss: 0.3593 - dice_coeff: 0.5145 - val_loss: 0.3766 - val_dice_coeff: 0.5262\n",
      "Epoch 12/100\n",
      "5/5 [==============================] - 4s 795ms/step - loss: 0.3836 - dice_coeff: 0.4981 - val_loss: 0.3636 - val_dice_coeff: 0.5419\n",
      "Epoch 13/100\n",
      "5/5 [==============================] - 4s 785ms/step - loss: 0.4077 - dice_coeff: 0.4893 - val_loss: 0.4433 - val_dice_coeff: 0.4282\n",
      "Model saved to: /tmp/tmppe4_3pr4GP2/attunet_5attunet_model\n",
      "History saved to: /tmp/tmppe4_3pr4GP2/attunet_history_5.pkl\n",
      "Testing the classifier...\n",
      "Testing the discriminator...\n",
      "7/7 [==============================] - 0s 40ms/step - loss: 1498.3690 - accuracy: 0.5324\n",
      "Replacing 3 from 9 !\n",
      "D_relabeled_ 3\n",
      "point ids 3\n",
      "Removed: 3 Filled: 3\n",
      "TOOK 165.83416748046875 seconds\n",
      "==== DONE LOOP 6 ====\n",
      "******\n",
      "Loop 7\n",
      "Epoch 1/100\n",
      "6/6 [==============================] - 6s 1s/step - loss: 0.3910 - dice_coeff: 0.4989 - val_loss: 0.4241 - val_dice_coeff: 0.5090\n",
      "Epoch 2/100\n",
      "6/6 [==============================] - 4s 626ms/step - loss: 0.3557 - dice_coeff: 0.5536 - val_loss: 0.3578 - val_dice_coeff: 0.5664\n",
      "Epoch 3/100\n",
      "6/6 [==============================] - 4s 636ms/step - loss: 0.3338 - dice_coeff: 0.5705 - val_loss: 0.3372 - val_dice_coeff: 0.6018\n",
      "Epoch 4/100\n",
      "6/6 [==============================] - 4s 630ms/step - loss: 0.3134 - dice_coeff: 0.5979 - val_loss: 0.3186 - val_dice_coeff: 0.6296\n",
      "Epoch 5/100\n",
      "6/6 [==============================] - 4s 676ms/step - loss: 0.2920 - dice_coeff: 0.6437 - val_loss: 0.3083 - val_dice_coeff: 0.6543\n",
      "Epoch 6/100\n",
      "6/6 [==============================] - 4s 640ms/step - loss: 0.2798 - dice_coeff: 0.6782 - val_loss: 0.3168 - val_dice_coeff: 0.6739\n",
      "Epoch 7/100\n",
      "6/6 [==============================] - 4s 634ms/step - loss: 0.2803 - dice_coeff: 0.6712 - val_loss: 0.2941 - val_dice_coeff: 0.7002\n",
      "Epoch 8/100\n",
      "6/6 [==============================] - 4s 639ms/step - loss: 0.2731 - dice_coeff: 0.7049 - val_loss: 0.2819 - val_dice_coeff: 0.6884\n",
      "Epoch 9/100\n",
      "6/6 [==============================] - 4s 659ms/step - loss: 0.2579 - dice_coeff: 0.6966 - val_loss: 0.2718 - val_dice_coeff: 0.7252\n",
      "Epoch 10/100\n",
      "6/6 [==============================] - 4s 677ms/step - loss: 0.2480 - dice_coeff: 0.7315 - val_loss: 0.2684 - val_dice_coeff: 0.7200\n",
      "Epoch 11/100\n",
      "6/6 [==============================] - 4s 640ms/step - loss: 0.2389 - dice_coeff: 0.7387 - val_loss: 0.2649 - val_dice_coeff: 0.7309\n",
      "Epoch 12/100\n",
      "6/6 [==============================] - 4s 683ms/step - loss: 0.2342 - dice_coeff: 0.7439 - val_loss: 0.2580 - val_dice_coeff: 0.7390\n",
      "Epoch 13/100\n",
      "6/6 [==============================] - 4s 639ms/step - loss: 0.2272 - dice_coeff: 0.7396 - val_loss: 0.2552 - val_dice_coeff: 0.7450\n",
      "Epoch 14/100\n",
      "6/6 [==============================] - 4s 673ms/step - loss: 0.2233 - dice_coeff: 0.7553 - val_loss: 0.2770 - val_dice_coeff: 0.7246\n",
      "Epoch 15/100\n",
      "6/6 [==============================] - 4s 650ms/step - loss: 0.2405 - dice_coeff: 0.7599 - val_loss: 0.2565 - val_dice_coeff: 0.7402\n",
      "Epoch 16/100\n",
      "6/6 [==============================] - 4s 631ms/step - loss: 0.2277 - dice_coeff: 0.7359 - val_loss: 0.2950 - val_dice_coeff: 0.7173\n",
      "Model saved to: /tmp/tmppe4_3pr4GP2/attunet_6attunet_model\n",
      "History saved to: /tmp/tmppe4_3pr4GP2/attunet_history_6.pkl\n",
      "Testing the classifier...\n",
      "Testing the discriminator...\n",
      "7/7 [==============================] - 0s 35ms/step - loss: 3043.6753 - accuracy: 0.5602\n",
      "No machine labels found. Skipping step 6.\n",
      "No more machine labels.\n",
      "TOOK 164.73259234428406 seconds\n"
     ]
    }
   ],
   "source": [
    "R.run(images=images, masks=masks, runs=8)"
   ]
  },
  {
   "cell_type": "code",
   "execution_count": 8,
   "id": "dab6fd49",
   "metadata": {},
   "outputs": [
    {
     "data": {
      "image/png": "[encoded data removed]",
      "text/plain": [
       "<Figure size 240x240 with 1 Axes>"
      ]
     },
     "metadata": {
      "needs_background": "light"
     },
     "output_type": "display_data"
    }
   ],
   "source": [
    "R.plot()"
   ]
  },
  {
   "cell_type": "code",
   "execution_count": null,
   "id": "a370c1c1",
   "metadata": {},
   "outputs": [],
   "source": []
  },
  {
   "cell_type": "code",
   "execution_count": null,
   "id": "6b3104c3",
   "metadata": {},
   "outputs": [],
   "source": []
  },
  {
   "cell_type": "code",
   "execution_count": 9,
   "id": "00075332",
   "metadata": {},
   "outputs": [
    {
     "data": {
      "text/plain": [
       "[[0.2968302369117737, 0.5300824642181396],\n",
       " [0.182675302028656, 0.7841244339942932],\n",
       " [0.15716376900672913, 0.8109405636787415],\n",
       " [0.16013570129871368, 0.8051509261131287]]"
      ]
     },
     "execution_count": 9,
     "metadata": {},
     "output_type": "execute_result"
    }
   ],
   "source": [
    "R.classifier_scores"
   ]
  },
  {
   "cell_type": "code",
   "execution_count": 10,
   "id": "35105656",
   "metadata": {},
   "outputs": [
    {
     "data": {
      "text/plain": [
       "[[0.0, 1.0],\n",
       " [236.58493041992188, 0.6203703880310059],\n",
       " [339.5798645019531, 0.5648148059844971],\n",
       " [484.7742919921875, 0.49074074625968933]]"
      ]
     },
     "execution_count": 10,
     "metadata": {},
     "output_type": "execute_result"
    }
   ],
   "source": [
    "R.discriminator_scores"
   ]
  },
  {
   "cell_type": "code",
   "execution_count": null,
   "id": "e256ed4d",
   "metadata": {},
   "outputs": [],
   "source": []
  },
  {
   "cell_type": "code",
   "execution_count": 11,
   "id": "c83bb28d",
   "metadata": {},
   "outputs": [
    {
     "data": {
      "image/png": "[encoded data removed]",
      "text/plain": [
       "<Figure size 240x240 with 1 Axes>"
      ]
     },
     "metadata": {
      "needs_background": "light"
     },
     "output_type": "display_data"
    }
   ],
   "source": [
    "R.plot()"
   ]
  },
  {
   "cell_type": "code",
   "execution_count": null,
   "id": "7f3b4a58",
   "metadata": {},
   "outputs": [],
   "source": []
  }
 ],
 "metadata": {
  "kernelspec": {
   "display_name": "Python 3 (ipykernel)",
   "language": "python",
   "name": "python3"
  },
  "language_info": {
   "codemirror_mode": {
    "name": "ipython",
    "version": 3
   },
   "file_extension": ".py",
   "mimetype": "text/x-python",
   "name": "python",
   "nbconvert_exporter": "python",
   "pygments_lexer": "ipython3",
   "version": "3.9.7"
  }
 },
 "nbformat": 4,
 "nbformat_minor": 5
}
