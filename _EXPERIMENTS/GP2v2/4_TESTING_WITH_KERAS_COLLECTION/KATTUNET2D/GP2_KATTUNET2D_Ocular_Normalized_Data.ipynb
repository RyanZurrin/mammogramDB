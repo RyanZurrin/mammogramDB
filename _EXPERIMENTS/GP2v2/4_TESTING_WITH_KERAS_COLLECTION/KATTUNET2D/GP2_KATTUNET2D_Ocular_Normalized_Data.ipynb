{
 "cells": [
  {
   "cell_type": "code",
   "execution_count": 1,
   "id": "06c4accc",
   "metadata": {},
   "outputs": [
    {
     "name": "stdout",
     "output_type": "stream",
     "text": [
      "Populating the interactive namespace from numpy and matplotlib\n"
     ]
    }
   ],
   "source": [
    "%pylab inline\n",
    "%load_ext autoreload\n",
    "%autoreload 2"
   ]
  },
  {
   "cell_type": "code",
   "execution_count": 1,
   "id": "b9e78ed8",
   "metadata": {},
   "outputs": [],
   "source": [
    "import time\n",
    "import sys\n",
    "sys.path.insert(0,'../../../..')\n",
    "from omama import gp2\n",
    "from omama.gp2 import Runner\n",
    "from keras import losses, metrics\n",
    "from tensorflow.keras import optimizers"
   ]
  },
  {
   "cell_type": "code",
   "execution_count": 3,
   "id": "bdc75325",
   "metadata": {},
   "outputs": [
    {
     "name": "stdout",
     "output_type": "stream",
     "text": [
      "*** GP2 KATTUnet2D ***\n",
      "Working directory: /tmp/tmpmc1uz9xaGP2\n",
      "Using default discriminator (CNN)\n"
     ]
    }
   ],
   "source": [
    "R = Runner(classifier='kattunet2d',\n",
    "           filter_num=[16, 32, 64, 128, 256],\n",
    "           stack_num_down=2,\n",
    "           stack_num_up=2,\n",
    "           activation='ReLU',\n",
    "           atten_activation='ReLU',\n",
    "           attention='add',\n",
    "           output_activation='Sigmoid',\n",
    "           batch_norm=False,\n",
    "           pool=False,\n",
    "           unpool=False,\n",
    "           weights='imagenet',\n",
    "           optimizer= None, #None = default is optimizers.Adam(learning_rate=1e-3)\n",
    "           loss=None, #None = default is losses.binary_crossentropy\n",
    "           metric=None # None = default is Util.dice_coef\n",
    "          )"
   ]
  },
  {
   "cell_type": "code",
   "execution_count": 4,
   "id": "87b0c65d",
   "metadata": {},
   "outputs": [],
   "source": [
    "# load our larger toy dataset (10k images and masks)\n",
    "images = np.load('/hpcstor6/scratch01/r/ryan.zurrin001/gp2_ocular_normalized_images.npy')\n",
    "masks = np.load('/hpcstor6/scratch01/r/ryan.zurrin001/gp2_ocular_normalized_masks.npy')"
   ]
  },
  {
   "cell_type": "code",
   "execution_count": 5,
   "id": "7330ad24",
   "metadata": {},
   "outputs": [],
   "source": [
    "images = images[:6392]\n",
    "masks = masks[:6392]"
   ]
  },
  {
   "cell_type": "code",
   "execution_count": 6,
   "id": "d5b4179a",
   "metadata": {},
   "outputs": [
    {
     "data": {
      "text/plain": [
       "(6392, 512, 512, 1)"
      ]
     },
     "execution_count": 6,
     "metadata": {},
     "output_type": "execute_result"
    }
   ],
   "source": [
    "images.shape"
   ]
  },
  {
   "cell_type": "code",
   "execution_count": 7,
   "id": "57033c4e",
   "metadata": {},
   "outputs": [
    {
     "data": {
      "text/plain": [
       "(6392, 512, 512, 1)"
      ]
     },
     "execution_count": 7,
     "metadata": {},
     "output_type": "execute_result"
    }
   ],
   "source": [
    "masks.shape"
   ]
  },
  {
   "cell_type": "code",
   "execution_count": 8,
   "id": "1dd71668",
   "metadata": {},
   "outputs": [],
   "source": [
    "weights = {\n",
    "    'A': 0.5,\n",
    "    'A_train': 0.1,\n",
    "    'A_val': 0.3,\n",
    "    'A_test': 0.6,\n",
    "    'B': 0.3,\n",
    "    'B_train': 0.7,\n",
    "    'B_val': 0.1,\n",
    "    'B_test': 0.2,\n",
    "    'Z': 0.2\n",
    "}"
   ]
  },
  {
   "cell_type": "code",
   "execution_count": 9,
   "id": "d8ff85c4",
   "metadata": {
    "scrolled": true
   },
   "outputs": [
    {
     "name": "stdout",
     "output_type": "stream",
     "text": [
      "Weights OK!\n",
      "******\n",
      "Loop 1\n",
      "Epoch 1/100\n",
      "5/5 [==============================] - 27s 4s/step - loss: 0.6926 - dice_coeff: 0.3462 - val_loss: 0.6912 - val_dice_coeff: 0.2694\n",
      "Epoch 2/100\n",
      "5/5 [==============================] - 5s 1s/step - loss: 0.6915 - dice_coeff: 0.3449 - val_loss: 0.6895 - val_dice_coeff: 0.2685\n",
      "Epoch 3/100\n",
      "5/5 [==============================] - 5s 1s/step - loss: 0.6904 - dice_coeff: 0.3425 - val_loss: 0.6881 - val_dice_coeff: 0.2680\n",
      "Epoch 4/100\n",
      "5/5 [==============================] - 5s 1s/step - loss: 0.6895 - dice_coeff: 0.3438 - val_loss: 0.6868 - val_dice_coeff: 0.2676\n",
      "Epoch 5/100\n",
      "5/5 [==============================] - 5s 1s/step - loss: 0.6884 - dice_coeff: 0.3440 - val_loss: 0.6851 - val_dice_coeff: 0.2673\n",
      "Epoch 6/100\n",
      "5/5 [==============================] - 5s 1s/step - loss: 0.6869 - dice_coeff: 0.3430 - val_loss: 0.6832 - val_dice_coeff: 0.2670\n",
      "Epoch 7/100\n",
      "5/5 [==============================] - 5s 1s/step - loss: 0.6852 - dice_coeff: 0.3429 - val_loss: 0.6803 - val_dice_coeff: 0.2663\n",
      "Epoch 8/100\n",
      "5/5 [==============================] - 5s 1s/step - loss: 0.6827 - dice_coeff: 0.3415 - val_loss: 0.6765 - val_dice_coeff: 0.2660\n",
      "Epoch 9/100\n",
      "5/5 [==============================] - 5s 1s/step - loss: 0.6785 - dice_coeff: 0.3410 - val_loss: 0.6682 - val_dice_coeff: 0.2650\n",
      "Epoch 10/100\n",
      "5/5 [==============================] - 5s 1s/step - loss: 0.6700 - dice_coeff: 0.3379 - val_loss: 0.6466 - val_dice_coeff: 0.2590\n",
      "Epoch 11/100\n",
      "5/5 [==============================] - 5s 1s/step - loss: 0.6497 - dice_coeff: 0.3165 - val_loss: 0.5936 - val_dice_coeff: 0.2220\n",
      "Epoch 12/100\n",
      "5/5 [==============================] - 5s 1s/step - loss: 0.6169 - dice_coeff: 0.2806 - val_loss: 0.5239 - val_dice_coeff: 0.2475\n",
      "Epoch 13/100\n",
      "5/5 [==============================] - 5s 1s/step - loss: 0.5239 - dice_coeff: 0.3228 - val_loss: 0.3471 - val_dice_coeff: 0.3415\n",
      "Epoch 14/100\n",
      "5/5 [==============================] - 5s 1s/step - loss: 0.3984 - dice_coeff: 0.4365 - val_loss: 0.3158 - val_dice_coeff: 0.4178\n",
      "Epoch 15/100\n",
      "5/5 [==============================] - 5s 1s/step - loss: 0.3589 - dice_coeff: 0.4862 - val_loss: 0.2810 - val_dice_coeff: 0.4455\n",
      "Epoch 16/100\n",
      "5/5 [==============================] - 5s 1s/step - loss: 0.3345 - dice_coeff: 0.5095 - val_loss: 0.2682 - val_dice_coeff: 0.4894\n",
      "Epoch 17/100\n",
      "5/5 [==============================] - 5s 1s/step - loss: 0.3241 - dice_coeff: 0.5344 - val_loss: 0.2824 - val_dice_coeff: 0.4637\n",
      "Epoch 18/100\n",
      "5/5 [==============================] - 5s 1s/step - loss: 0.3356 - dice_coeff: 0.5209 - val_loss: 0.2611 - val_dice_coeff: 0.5056\n",
      "Epoch 19/100\n",
      "5/5 [==============================] - 5s 1s/step - loss: 0.3763 - dice_coeff: 0.5042 - val_loss: 0.3472 - val_dice_coeff: 0.4218\n",
      "Model saved to: /tmp/tmpmc1uz9xaGP2/attunet_0attunet_model\n",
      "History saved to: /tmp/tmpmc1uz9xaGP2/attunet_history_0.pkl\n",
      "Testing the classifier...\n",
      "****** TRAINING DISCRIMINATOR ******\n",
      "Model saved to /tmp/tmpmc1uz9xaGP2/cnnd_0.model\n",
      "History saved to /tmp/tmpmc1uz9xaGP2/cnnd_history_0.pickle\n",
      "Testing the discriminator...\n",
      "12/12 [==============================] - 1s 41ms/step - loss: 0.0262 - accuracy: 0.9922\n",
      "Replacing 73 from 221 !\n",
      "D_relabeled_ 73\n",
      "point ids 73\n",
      "Removed: 73 Filled: 73\n",
      "TOOK 290.9409785270691 seconds\n",
      "==== DONE LOOP 1 ====\n",
      "******\n",
      "Loop 2\n",
      "Epoch 1/100\n",
      "7/7 [==============================] - 8s 1s/step - loss: 0.3652 - dice_coeff: 0.5227 - val_loss: 0.3050 - val_dice_coeff: 0.4585\n",
      "Epoch 2/100\n",
      "7/7 [==============================] - 5s 800ms/step - loss: 0.3881 - dice_coeff: 0.4864 - val_loss: 0.2695 - val_dice_coeff: 0.4911\n",
      "Epoch 3/100\n",
      "7/7 [==============================] - 5s 807ms/step - loss: 0.3195 - dice_coeff: 0.5356 - val_loss: 0.2806 - val_dice_coeff: 0.4762\n",
      "Epoch 4/100\n",
      "7/7 [==============================] - 5s 786ms/step - loss: 0.3134 - dice_coeff: 0.5287 - val_loss: 0.2518 - val_dice_coeff: 0.5040\n",
      "Epoch 5/100\n",
      "7/7 [==============================] - 5s 825ms/step - loss: 0.2918 - dice_coeff: 0.5552 - val_loss: 0.2422 - val_dice_coeff: 0.5259\n",
      "Epoch 6/100\n",
      "7/7 [==============================] - 5s 782ms/step - loss: 0.2870 - dice_coeff: 0.5712 - val_loss: 0.2497 - val_dice_coeff: 0.5232\n",
      "Epoch 7/100\n",
      "7/7 [==============================] - 5s 799ms/step - loss: 0.2751 - dice_coeff: 0.5829 - val_loss: 0.2349 - val_dice_coeff: 0.5457\n",
      "Epoch 8/100\n",
      "7/7 [==============================] - 5s 808ms/step - loss: 0.2663 - dice_coeff: 0.5929 - val_loss: 0.2450 - val_dice_coeff: 0.5438\n",
      "Epoch 9/100\n",
      "7/7 [==============================] - 5s 781ms/step - loss: 0.2731 - dice_coeff: 0.5987 - val_loss: 0.2480 - val_dice_coeff: 0.5711\n",
      "Epoch 10/100\n",
      "7/7 [==============================] - 5s 790ms/step - loss: 0.2614 - dice_coeff: 0.6134 - val_loss: 0.2112 - val_dice_coeff: 0.5950\n",
      "Epoch 11/100\n",
      "7/7 [==============================] - 5s 826ms/step - loss: 0.2456 - dice_coeff: 0.6387 - val_loss: 0.2064 - val_dice_coeff: 0.6229\n",
      "Epoch 12/100\n",
      "7/7 [==============================] - 5s 765ms/step - loss: 0.2390 - dice_coeff: 0.6809 - val_loss: 0.2028 - val_dice_coeff: 0.6514\n",
      "Epoch 13/100\n",
      "7/7 [==============================] - 5s 817ms/step - loss: 0.2183 - dice_coeff: 0.7031 - val_loss: 0.2065 - val_dice_coeff: 0.6732\n",
      "Epoch 14/100\n",
      "7/7 [==============================] - 5s 788ms/step - loss: 0.2202 - dice_coeff: 0.6955 - val_loss: 0.1893 - val_dice_coeff: 0.6868\n",
      "Epoch 15/100\n",
      "7/7 [==============================] - 5s 815ms/step - loss: 0.2091 - dice_coeff: 0.7481 - val_loss: 0.1953 - val_dice_coeff: 0.7158\n",
      "Epoch 16/100\n",
      "7/7 [==============================] - 5s 779ms/step - loss: 0.2114 - dice_coeff: 0.7334 - val_loss: 0.1851 - val_dice_coeff: 0.6901\n",
      "Epoch 17/100\n",
      "7/7 [==============================] - 5s 777ms/step - loss: 0.2108 - dice_coeff: 0.7253 - val_loss: 0.1903 - val_dice_coeff: 0.7078\n",
      "Model saved to: /tmp/tmpmc1uz9xaGP2/attunet_1attunet_model\n",
      "History saved to: /tmp/tmpmc1uz9xaGP2/attunet_history_1.pkl\n",
      "Testing the classifier...\n",
      "Testing the discriminator...\n",
      "12/12 [==============================] - 1s 44ms/step - loss: 0.0195 - accuracy: 0.9948\n",
      "Replacing 61 from 185 !\n",
      "D_relabeled_ 61\n",
      "point ids 61\n",
      "Removed: 61 Filled: 61\n",
      "TOOK 245.2070426940918 seconds\n",
      "==== DONE LOOP 2 ====\n",
      "******\n",
      "Loop 3\n",
      "Epoch 1/100\n",
      "8/8 [==============================] - 8s 1s/step - loss: 0.2031 - dice_coeff: 0.7472 - val_loss: 0.2002 - val_dice_coeff: 0.7069\n",
      "Epoch 2/100\n",
      "8/8 [==============================] - 6s 753ms/step - loss: 0.2153 - dice_coeff: 0.7204 - val_loss: 0.1879 - val_dice_coeff: 0.7064\n",
      "Epoch 3/100\n",
      "8/8 [==============================] - 6s 722ms/step - loss: 0.2126 - dice_coeff: 0.7004 - val_loss: 0.1811 - val_dice_coeff: 0.6921\n",
      "Model saved to: /tmp/tmpmc1uz9xaGP2/attunet_2attunet_model\n",
      "History saved to: /tmp/tmpmc1uz9xaGP2/attunet_history_2.pkl\n",
      "Testing the classifier...\n",
      "Testing the discriminator...\n",
      "12/12 [==============================] - 1s 44ms/step - loss: 0.0251 - accuracy: 0.9922\n",
      "Replacing 63 from 191 !\n",
      "D_relabeled_ 63\n",
      "point ids 63\n",
      "Removed: 63 Filled: 63\n",
      "TOOK 84.09668326377869 seconds\n",
      "==== DONE LOOP 3 ====\n",
      "******\n",
      "Loop 4\n",
      "Epoch 1/100\n",
      "9/9 [==============================] - 9s 1s/step - loss: 0.2042 - dice_coeff: 0.7360 - val_loss: 0.1904 - val_dice_coeff: 0.7212\n",
      "Epoch 2/100\n",
      "9/9 [==============================] - 6s 686ms/step - loss: 0.1975 - dice_coeff: 0.7312 - val_loss: 0.1899 - val_dice_coeff: 0.6961\n",
      "Epoch 3/100\n",
      "9/9 [==============================] - 6s 735ms/step - loss: 0.2116 - dice_coeff: 0.7168 - val_loss: 0.1978 - val_dice_coeff: 0.6695\n",
      "Epoch 4/100\n",
      "9/9 [==============================] - 6s 693ms/step - loss: 0.2249 - dice_coeff: 0.7158 - val_loss: 0.1805 - val_dice_coeff: 0.7033\n",
      "Model saved to: /tmp/tmpmc1uz9xaGP2/attunet_3attunet_model\n",
      "History saved to: /tmp/tmpmc1uz9xaGP2/attunet_history_3.pkl\n",
      "Testing the classifier...\n",
      "Testing the discriminator...\n",
      "12/12 [==============================] - 1s 41ms/step - loss: 0.0146 - accuracy: 0.9948\n",
      "Replacing 68 from 204 !\n",
      "D_relabeled_ 68\n",
      "point ids 68\n",
      "Removed: 68 Filled: 68\n",
      "TOOK 125.63226914405823 seconds\n",
      "==== DONE LOOP 4 ====\n",
      "******\n",
      "Loop 5\n",
      "Epoch 1/100\n",
      "10/10 [==============================] - 7s 742ms/step - loss: 0.2003 - dice_coeff: 0.7382 - val_loss: 0.2014 - val_dice_coeff: 0.7103\n",
      "Epoch 2/100\n",
      "10/10 [==============================] - 6s 656ms/step - loss: 0.2155 - dice_coeff: 0.7232 - val_loss: 0.2089 - val_dice_coeff: 0.6885\n",
      "Epoch 3/100\n",
      "10/10 [==============================] - 6s 657ms/step - loss: 0.2105 - dice_coeff: 0.7354 - val_loss: 0.2070 - val_dice_coeff: 0.6999\n",
      "Model saved to: /tmp/tmpmc1uz9xaGP2/attunet_4attunet_model\n",
      "History saved to: /tmp/tmpmc1uz9xaGP2/attunet_history_4.pkl\n",
      "Testing the classifier...\n",
      "Testing the discriminator...\n",
      "12/12 [==============================] - 1s 43ms/step - loss: 0.0080 - accuracy: 1.0000\n",
      "Replacing 64 from 193 !\n",
      "D_relabeled_ 64\n",
      "point ids 64\n",
      "Removed: 64 Filled: 64\n",
      "TOOK 84.59021854400635 seconds\n",
      "==== DONE LOOP 5 ====\n",
      "******\n",
      "Loop 6\n",
      "Epoch 1/100\n",
      "11/11 [==============================] - 7s 696ms/step - loss: 0.2071 - dice_coeff: 0.7241 - val_loss: 0.2131 - val_dice_coeff: 0.6970\n",
      "Epoch 2/100\n",
      "11/11 [==============================] - 7s 633ms/step - loss: 0.2022 - dice_coeff: 0.7287 - val_loss: 0.1852 - val_dice_coeff: 0.7181\n",
      "Epoch 3/100\n",
      "11/11 [==============================] - 7s 641ms/step - loss: 0.2023 - dice_coeff: 0.7369 - val_loss: 0.1799 - val_dice_coeff: 0.7051\n",
      "Epoch 4/100\n",
      "11/11 [==============================] - 7s 674ms/step - loss: 0.1957 - dice_coeff: 0.7376 - val_loss: 0.1804 - val_dice_coeff: 0.7160\n",
      "Epoch 5/100\n",
      "11/11 [==============================] - 7s 643ms/step - loss: 0.1928 - dice_coeff: 0.7286 - val_loss: 0.1802 - val_dice_coeff: 0.7187\n",
      "Epoch 6/100\n",
      "11/11 [==============================] - 7s 643ms/step - loss: 0.1918 - dice_coeff: 0.7441 - val_loss: 0.1949 - val_dice_coeff: 0.7157\n",
      "Epoch 7/100\n",
      "11/11 [==============================] - 7s 643ms/step - loss: 0.1933 - dice_coeff: 0.7506 - val_loss: 0.1792 - val_dice_coeff: 0.7205\n",
      "Epoch 8/100\n",
      "11/11 [==============================] - 7s 655ms/step - loss: 0.1962 - dice_coeff: 0.7324 - val_loss: 0.1775 - val_dice_coeff: 0.7085\n",
      "Model saved to: /tmp/tmpmc1uz9xaGP2/attunet_5attunet_model\n",
      "History saved to: /tmp/tmpmc1uz9xaGP2/attunet_history_5.pkl\n",
      "Testing the classifier...\n",
      "Testing the discriminator...\n",
      "12/12 [==============================] - 1s 40ms/step - loss: 0.0115 - accuracy: 0.9974\n",
      "Replacing 63 from 189 !\n",
      "D_relabeled_ 63\n",
      "point ids 63\n",
      "Removed: 63 Filled: 63\n",
      "TOOK 186.16889667510986 seconds\n",
      "==== DONE LOOP 6 ====\n",
      "******\n",
      "Loop 7\n",
      "Epoch 1/100\n",
      "12/12 [==============================] - 10s 888ms/step - loss: 0.1913 - dice_coeff: 0.7484 - val_loss: 0.1904 - val_dice_coeff: 0.7262\n",
      "Epoch 2/100\n",
      "12/12 [==============================] - 7s 624ms/step - loss: 0.1915 - dice_coeff: 0.7405 - val_loss: 0.1830 - val_dice_coeff: 0.7209\n",
      "Epoch 3/100\n",
      "12/12 [==============================] - 8s 642ms/step - loss: 0.1881 - dice_coeff: 0.7535 - val_loss: 0.1774 - val_dice_coeff: 0.7236\n",
      "Epoch 4/100\n",
      "12/12 [==============================] - 7s 620ms/step - loss: 0.1890 - dice_coeff: 0.7435 - val_loss: 0.1823 - val_dice_coeff: 0.7251\n",
      "Epoch 5/100\n",
      "12/12 [==============================] - 7s 630ms/step - loss: 0.1868 - dice_coeff: 0.7432 - val_loss: 0.1854 - val_dice_coeff: 0.7296\n",
      "Epoch 6/100\n",
      "12/12 [==============================] - 7s 614ms/step - loss: 0.1869 - dice_coeff: 0.7543 - val_loss: 0.1740 - val_dice_coeff: 0.7203\n",
      "Epoch 7/100\n",
      "12/12 [==============================] - 8s 649ms/step - loss: 0.1890 - dice_coeff: 0.7478 - val_loss: 0.2045 - val_dice_coeff: 0.7178\n",
      "Model saved to: /tmp/tmpmc1uz9xaGP2/attunet_6attunet_model\n",
      "History saved to: /tmp/tmpmc1uz9xaGP2/attunet_history_6.pkl\n",
      "Testing the classifier...\n",
      "Testing the discriminator...\n",
      "12/12 [==============================] - 1s 46ms/step - loss: 0.0092 - accuracy: 1.0000\n",
      "Replacing 62 from 186 !\n",
      "D_relabeled_ 62\n",
      "point ids 62\n",
      "Removed: 62 Filled: 62\n",
      "TOOK 126.097092628479 seconds\n",
      "==== DONE LOOP 7 ====\n",
      "******\n",
      "Loop 8\n",
      "Epoch 1/100\n",
      "13/13 [==============================] - 9s 672ms/step - loss: 0.2001 - dice_coeff: 0.7469 - val_loss: 0.1784 - val_dice_coeff: 0.7001\n",
      "Epoch 2/100\n",
      "13/13 [==============================] - 8s 596ms/step - loss: 0.2022 - dice_coeff: 0.7344 - val_loss: 0.1933 - val_dice_coeff: 0.7100\n",
      "Epoch 3/100\n",
      "13/13 [==============================] - 8s 599ms/step - loss: 0.1988 - dice_coeff: 0.7370 - val_loss: 0.1812 - val_dice_coeff: 0.7221\n",
      "Epoch 4/100\n",
      "13/13 [==============================] - 8s 615ms/step - loss: 0.1880 - dice_coeff: 0.7600 - val_loss: 0.1741 - val_dice_coeff: 0.7195\n",
      "Epoch 5/100\n",
      "13/13 [==============================] - 8s 617ms/step - loss: 0.1917 - dice_coeff: 0.7471 - val_loss: 0.1749 - val_dice_coeff: 0.7247\n",
      "Epoch 6/100\n",
      "13/13 [==============================] - 8s 596ms/step - loss: 0.1897 - dice_coeff: 0.7607 - val_loss: 0.1716 - val_dice_coeff: 0.7205\n",
      "Model saved to: /tmp/tmpmc1uz9xaGP2/attunet_7attunet_model\n",
      "History saved to: /tmp/tmpmc1uz9xaGP2/attunet_history_7.pkl\n",
      "Testing the classifier...\n",
      "Testing the discriminator...\n",
      "12/12 [==============================] - 1s 41ms/step - loss: 0.0171 - accuracy: 0.9974\n",
      "Replacing 64 from 193 !\n",
      "D_relabeled_ 64\n",
      "point ids 64\n",
      "Removed: 64 Filled: 64\n",
      "TOOK 125.87998843193054 seconds\n",
      "==== DONE LOOP 8 ====\n"
     ]
    }
   ],
   "source": [
    "R.run(images=images, masks=masks, weights=weights, runs=8)"
   ]
  },
  {
   "cell_type": "code",
   "execution_count": null,
   "id": "dab6fd49",
   "metadata": {},
   "outputs": [],
   "source": []
  },
  {
   "cell_type": "code",
   "execution_count": 10,
   "id": "00075332",
   "metadata": {},
   "outputs": [
    {
     "data": {
      "text/plain": [
       "[[0.3575875759124756, 0.4168795645236969],\n",
       " [0.19258756935596466, 0.6965023279190063],\n",
       " [0.19068869948387146, 0.6799315810203552],\n",
       " [0.19186824560165405, 0.6887584328651428],\n",
       " [0.212528795003891, 0.6909768581390381],\n",
       " [0.19112567603588104, 0.6945109963417053],\n",
       " [0.21059393882751465, 0.711880087852478],\n",
       " [0.1856902837753296, 0.7064115405082703]]"
      ]
     },
     "execution_count": 10,
     "metadata": {},
     "output_type": "execute_result"
    }
   ],
   "source": [
    "R.classifier_scores"
   ]
  },
  {
   "cell_type": "code",
   "execution_count": 11,
   "id": "35105656",
   "metadata": {},
   "outputs": [
    {
     "data": {
      "text/plain": [
       "[[0.026193680241703987, 0.9921671152114868],\n",
       " [0.019516445696353912, 0.9947780966758728],\n",
       " [0.025140967220067978, 0.9921671152114868],\n",
       " [0.014620866626501083, 0.9947780966758728],\n",
       " [0.00801519863307476, 1.0],\n",
       " [0.011491724289953709, 0.997389018535614],\n",
       " [0.009176229126751423, 1.0],\n",
       " [0.017058392986655235, 0.997389018535614]]"
      ]
     },
     "execution_count": 11,
     "metadata": {},
     "output_type": "execute_result"
    }
   ],
   "source": [
    "R.discriminator_scores"
   ]
  },
  {
   "cell_type": "code",
   "execution_count": null,
   "id": "e256ed4d",
   "metadata": {},
   "outputs": [],
   "source": []
  },
  {
   "cell_type": "code",
   "execution_count": 12,
   "id": "c83bb28d",
   "metadata": {},
   "outputs": [
    {
     "data": {
      "image/png": "[encoded data removed]",
      "text/plain": [
       "<Figure size 240x240 with 1 Axes>"
      ]
     },
     "metadata": {
      "needs_background": "light"
     },
     "output_type": "display_data"
    }
   ],
   "source": [
    "R.plot()"
   ]
  },
  {
   "cell_type": "code",
   "execution_count": null,
   "id": "7f3b4a58",
   "metadata": {},
   "outputs": [],
   "source": []
  }
 ],
 "metadata": {
  "kernelspec": {
   "display_name": "Python 3 (ipykernel)",
   "language": "python",
   "name": "python3"
  },
  "language_info": {
   "codemirror_mode": {
    "name": "ipython",
    "version": 3
   },
   "file_extension": ".py",
   "mimetype": "text/x-python",
   "name": "python",
   "nbconvert_exporter": "python",
   "pygments_lexer": "ipython3",
   "version": "3.9.7"
  }
 },
 "nbformat": 4,
 "nbformat_minor": 5
}
