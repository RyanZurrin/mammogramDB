{
 "cells": [
  {
   "cell_type": "code",
   "execution_count": 1,
   "id": "06c4accc",
   "metadata": {},
   "outputs": [
    {
     "name": "stdout",
     "output_type": "stream",
     "text": [
      "Populating the interactive namespace from numpy and matplotlib\n"
     ]
    }
   ],
   "source": [
    "%pylab inline\n",
    "%load_ext autoreload\n",
    "%autoreload 2"
   ]
  },
  {
   "cell_type": "code",
   "execution_count": 2,
   "id": "b9e78ed8",
   "metadata": {},
   "outputs": [
    {
     "name": "stdout",
     "output_type": "stream",
     "text": [
      "-----------------------------------------\n",
      "keras-unet init: TF version is >= 2.0.0 - using `tf.keras` instead of `Keras`\n",
      "-----------------------------------------\n"
     ]
    }
   ],
   "source": [
    "import time\n",
    "import sys\n",
    "sys.path.insert(0,'../../../..')\n",
    "from omama import gp2\n",
    "from omama.gp2 import Runner\n",
    "from keras import losses, metrics\n",
    "from tensorflow.keras import optimizers"
   ]
  },
  {
   "cell_type": "code",
   "execution_count": 3,
   "id": "bdc75325",
   "metadata": {},
   "outputs": [
    {
     "name": "stdout",
     "output_type": "stream",
     "text": [
      "*** GP2 KATTUnet2D ***\n",
      "Working directory: /tmp/tmpir8c4hw9GP2\n",
      "Using default discriminator (CNN)\n"
     ]
    }
   ],
   "source": [
    "R = Runner(classifier='kattunet2d',\n",
    "           filter_num=[16, 32, 64, 128, 256],\n",
    "           stack_num_down=2,\n",
    "           stack_num_up=2,\n",
    "           activation='ReLU',\n",
    "           atten_activation='ReLU',\n",
    "           attention='add',\n",
    "           output_activation='Sigmoid',\n",
    "           batch_norm=False,\n",
    "           pool=False,\n",
    "           unpool=False,\n",
    "           weights='imagenet',\n",
    "           optimizer= None, #None = default is optimizers.Adam(learning_rate=1e-3)\n",
    "           loss=None, #None = default is losses.binary_crossentropy\n",
    "           metric=None # None = default is Util.dice_coef\n",
    "          )"
   ]
  },
  {
   "cell_type": "code",
   "execution_count": 4,
   "id": "87b0c65d",
   "metadata": {},
   "outputs": [],
   "source": [
    "# load our larger toy dataset (10k images and masks)\n",
    "images = np.load('/hpcstor6/scratch01/r/ryan.zurrin001/gp2_ocular_unnormalized_images.npy')\n",
    "masks = np.load('/hpcstor6/scratch01/r/ryan.zurrin001/gp2_ocular_unnormalized_masks.npy')"
   ]
  },
  {
   "cell_type": "code",
   "execution_count": 5,
   "id": "7330ad24",
   "metadata": {},
   "outputs": [],
   "source": [
    "images = images[:6392]\n",
    "masks = masks[:6392]"
   ]
  },
  {
   "cell_type": "code",
   "execution_count": 6,
   "id": "d5b4179a",
   "metadata": {},
   "outputs": [
    {
     "data": {
      "text/plain": [
       "(6392, 512, 512, 1)"
      ]
     },
     "execution_count": 6,
     "metadata": {},
     "output_type": "execute_result"
    }
   ],
   "source": [
    "images.shape"
   ]
  },
  {
   "cell_type": "code",
   "execution_count": 7,
   "id": "57033c4e",
   "metadata": {},
   "outputs": [
    {
     "data": {
      "text/plain": [
       "(6392, 512, 512, 1)"
      ]
     },
     "execution_count": 7,
     "metadata": {},
     "output_type": "execute_result"
    }
   ],
   "source": [
    "masks.shape"
   ]
  },
  {
   "cell_type": "code",
   "execution_count": 8,
   "id": "1dd71668",
   "metadata": {},
   "outputs": [],
   "source": [
    "weights = {\n",
    "    'A': 0.5,\n",
    "    'A_train': 0.1,\n",
    "    'A_val': 0.3,\n",
    "    'A_test': 0.6,\n",
    "    'B': 0.3,\n",
    "    'B_train': 0.7,\n",
    "    'B_val': 0.1,\n",
    "    'B_test': 0.2,\n",
    "    'Z': 0.2\n",
    "}"
   ]
  },
  {
   "cell_type": "code",
   "execution_count": 9,
   "id": "d8ff85c4",
   "metadata": {
    "scrolled": true
   },
   "outputs": [
    {
     "name": "stdout",
     "output_type": "stream",
     "text": [
      "Weights OK!\n",
      "******\n",
      "Loop 1\n",
      "Epoch 1/100\n",
      "5/5 [==============================] - 28s 4s/step - loss: 4.2051 - dice_coeff: 0.0078 - val_loss: 3.0921 - val_dice_coeff: 0.0076\n",
      "Epoch 2/100\n",
      "5/5 [==============================] - 5s 1s/step - loss: 4.1881 - dice_coeff: 0.0096 - val_loss: 3.0241 - val_dice_coeff: 0.0095\n",
      "Epoch 3/100\n",
      "5/5 [==============================] - 5s 1s/step - loss: 3.3852 - dice_coeff: 0.0128 - val_loss: 1.1407 - val_dice_coeff: 0.0305\n",
      "Epoch 4/100\n",
      "5/5 [==============================] - 5s 1s/step - loss: 0.8978 - dice_coeff: 0.1802 - val_loss: 0.5275 - val_dice_coeff: 0.2818\n",
      "Epoch 5/100\n",
      "5/5 [==============================] - 5s 1s/step - loss: 0.6019 - dice_coeff: 0.3570 - val_loss: 0.6021 - val_dice_coeff: 0.2956\n",
      "Epoch 6/100\n",
      "5/5 [==============================] - 5s 1s/step - loss: 0.6391 - dice_coeff: 0.3732 - val_loss: 0.6346 - val_dice_coeff: 0.3021\n",
      "Epoch 7/100\n",
      "5/5 [==============================] - 5s 1s/step - loss: 0.6524 - dice_coeff: 0.3824 - val_loss: 0.6438 - val_dice_coeff: 0.3053\n",
      "Model saved to: /tmp/tmpir8c4hw9GP2/attunet_0attunet_model\n",
      "History saved to: /tmp/tmpir8c4hw9GP2/attunet_history_0.pkl\n",
      "Testing the classifier...\n",
      "****** TRAINING DISCRIMINATOR ******\n",
      "Model saved to /tmp/tmpir8c4hw9GP2/cnnd_0.model\n",
      "History saved to /tmp/tmpir8c4hw9GP2/cnnd_history_0.pickle\n",
      "Testing the discriminator...\n",
      "12/12 [==============================] - 1s 46ms/step - loss: 1.2150 - accuracy: 0.8460\n",
      "Replacing 84 from 253 !\n",
      "D_relabeled_ 84\n",
      "point ids 84\n",
      "Removed: 84 Filled: 84\n",
      "TOOK 212.12591767311096 seconds\n",
      "==== DONE LOOP 1 ====\n",
      "******\n",
      "Loop 2\n",
      "Epoch 1/100\n",
      "7/7 [==============================] - 10s 2s/step - loss: 0.6541 - dice_coeff: 0.3646 - val_loss: 0.6401 - val_dice_coeff: 0.3035\n",
      "Epoch 2/100\n",
      "7/7 [==============================] - 5s 776ms/step - loss: 0.6472 - dice_coeff: 0.3687 - val_loss: 0.6287 - val_dice_coeff: 0.3019\n",
      "Epoch 3/100\n",
      "7/7 [==============================] - 5s 788ms/step - loss: 0.6365 - dice_coeff: 0.3643 - val_loss: 0.6157 - val_dice_coeff: 0.3018\n",
      "Epoch 4/100\n",
      "7/7 [==============================] - 5s 837ms/step - loss: 0.6238 - dice_coeff: 0.3668 - val_loss: 0.5968 - val_dice_coeff: 0.3057\n",
      "Epoch 5/100\n",
      "7/7 [==============================] - 5s 790ms/step - loss: 0.6056 - dice_coeff: 0.3768 - val_loss: 0.5695 - val_dice_coeff: 0.3140\n",
      "Epoch 6/100\n",
      "7/7 [==============================] - 5s 841ms/step - loss: 0.5779 - dice_coeff: 0.3889 - val_loss: 0.5284 - val_dice_coeff: 0.3331\n",
      "Epoch 7/100\n",
      "7/7 [==============================] - 5s 805ms/step - loss: 0.5345 - dice_coeff: 0.3990 - val_loss: 0.4626 - val_dice_coeff: 0.3640\n",
      "Epoch 8/100\n",
      "7/7 [==============================] - 5s 839ms/step - loss: 0.4703 - dice_coeff: 0.4320 - val_loss: 0.3845 - val_dice_coeff: 0.4211\n",
      "Epoch 9/100\n",
      "7/7 [==============================] - 5s 799ms/step - loss: 0.4058 - dice_coeff: 0.5138 - val_loss: 0.3553 - val_dice_coeff: 0.5157\n",
      "Epoch 10/100\n",
      "7/7 [==============================] - 6s 842ms/step - loss: 0.3694 - dice_coeff: 0.5758 - val_loss: 0.3437 - val_dice_coeff: 0.5271\n",
      "Epoch 11/100\n",
      "7/7 [==============================] - 5s 811ms/step - loss: 0.3456 - dice_coeff: 0.5760 - val_loss: 0.2821 - val_dice_coeff: 0.5460\n",
      "Epoch 12/100\n",
      "7/7 [==============================] - 5s 831ms/step - loss: 0.2971 - dice_coeff: 0.6174 - val_loss: 0.2440 - val_dice_coeff: 0.5845\n",
      "Epoch 13/100\n",
      "7/7 [==============================] - 5s 814ms/step - loss: 0.2689 - dice_coeff: 0.6528 - val_loss: 0.2231 - val_dice_coeff: 0.6304\n",
      "Epoch 14/100\n",
      "7/7 [==============================] - 5s 803ms/step - loss: 0.2564 - dice_coeff: 0.6798 - val_loss: 0.2143 - val_dice_coeff: 0.6435\n",
      "Epoch 15/100\n",
      "7/7 [==============================] - 5s 831ms/step - loss: 0.2480 - dice_coeff: 0.6787 - val_loss: 0.2244 - val_dice_coeff: 0.6518\n",
      "Epoch 16/100\n",
      "7/7 [==============================] - 5s 805ms/step - loss: 0.2348 - dice_coeff: 0.6958 - val_loss: 0.2252 - val_dice_coeff: 0.6532\n",
      "Epoch 17/100\n",
      "7/7 [==============================] - 5s 789ms/step - loss: 0.2341 - dice_coeff: 0.6964 - val_loss: 0.2122 - val_dice_coeff: 0.6656\n",
      "Epoch 18/100\n",
      "7/7 [==============================] - 5s 802ms/step - loss: 0.2269 - dice_coeff: 0.7082 - val_loss: 0.2028 - val_dice_coeff: 0.6694\n",
      "Epoch 19/100\n",
      "7/7 [==============================] - 5s 812ms/step - loss: 0.2227 - dice_coeff: 0.6985 - val_loss: 0.2031 - val_dice_coeff: 0.6660\n",
      "Epoch 20/100\n",
      "7/7 [==============================] - 5s 812ms/step - loss: 0.2404 - dice_coeff: 0.7017 - val_loss: 0.1982 - val_dice_coeff: 0.6718\n",
      "Epoch 21/100\n",
      "7/7 [==============================] - 5s 836ms/step - loss: 0.2288 - dice_coeff: 0.6928 - val_loss: 0.2276 - val_dice_coeff: 0.6642\n",
      "Model saved to: /tmp/tmpir8c4hw9GP2/attunet_1attunet_model\n",
      "History saved to: /tmp/tmpir8c4hw9GP2/attunet_history_1.pkl\n",
      "Testing the classifier...\n",
      "Testing the discriminator...\n",
      "12/12 [==============================] - 1s 40ms/step - loss: 15.7421 - accuracy: 0.4909\n",
      "Replacing 41 from 123 !\n",
      "D_relabeled_ 41\n",
      "point ids 41\n",
      "Removed: 41 Filled: 41\n",
      "TOOK 304.2513282299042 seconds\n",
      "==== DONE LOOP 2 ====\n",
      "******\n",
      "Loop 3\n",
      "Epoch 1/100\n",
      "7/7 [==============================] - 13s 2s/step - loss: 0.2163 - dice_coeff: 0.6894 - val_loss: 0.1952 - val_dice_coeff: 0.6672\n",
      "Epoch 2/100\n",
      "7/7 [==============================] - 5s 826ms/step - loss: 0.2107 - dice_coeff: 0.6991 - val_loss: 0.1941 - val_dice_coeff: 0.6755\n",
      "Epoch 3/100\n",
      "7/7 [==============================] - 6s 843ms/step - loss: 0.2068 - dice_coeff: 0.7042 - val_loss: 0.2079 - val_dice_coeff: 0.6844\n",
      "Epoch 4/100\n",
      "7/7 [==============================] - 6s 865ms/step - loss: 0.2034 - dice_coeff: 0.7130 - val_loss: 0.1994 - val_dice_coeff: 0.6906\n",
      "Epoch 5/100\n",
      "7/7 [==============================] - 5s 836ms/step - loss: 0.2001 - dice_coeff: 0.7190 - val_loss: 0.1913 - val_dice_coeff: 0.6938\n",
      "Epoch 6/100\n",
      "7/7 [==============================] - 6s 846ms/step - loss: 0.1993 - dice_coeff: 0.7190 - val_loss: 0.2100 - val_dice_coeff: 0.6845\n",
      "Epoch 7/100\n",
      "7/7 [==============================] - 5s 836ms/step - loss: 0.1988 - dice_coeff: 0.7202 - val_loss: 0.1913 - val_dice_coeff: 0.6989\n",
      "Epoch 8/100\n",
      "7/7 [==============================] - 5s 842ms/step - loss: 0.1952 - dice_coeff: 0.7281 - val_loss: 0.1878 - val_dice_coeff: 0.7010\n",
      "Epoch 9/100\n",
      "7/7 [==============================] - 6s 882ms/step - loss: 0.1976 - dice_coeff: 0.7293 - val_loss: 0.1865 - val_dice_coeff: 0.7064\n",
      "Epoch 10/100\n",
      "7/7 [==============================] - 6s 842ms/step - loss: 0.1980 - dice_coeff: 0.7280 - val_loss: 0.1889 - val_dice_coeff: 0.6905\n",
      "Model saved to: /tmp/tmpir8c4hw9GP2/attunet_2attunet_model\n",
      "History saved to: /tmp/tmpir8c4hw9GP2/attunet_history_2.pkl\n",
      "Testing the classifier...\n",
      "Testing the discriminator...\n",
      "12/12 [==============================] - 1s 41ms/step - loss: 12.3653 - accuracy: 0.5379\n",
      "Replacing 49 from 149 !\n",
      "D_relabeled_ 49\n",
      "point ids 49\n",
      "Removed: 49 Filled: 49\n",
      "TOOK 183.99291515350342 seconds\n",
      "==== DONE LOOP 3 ====\n",
      "******\n",
      "Loop 4\n",
      "Epoch 1/100\n",
      "8/8 [==============================] - 12s 2s/step - loss: 0.1885 - dice_coeff: 0.7128 - val_loss: 0.1925 - val_dice_coeff: 0.7054\n",
      "Epoch 2/100\n",
      "8/8 [==============================] - 6s 788ms/step - loss: 0.1839 - dice_coeff: 0.7222 - val_loss: 0.1853 - val_dice_coeff: 0.7035\n",
      "Epoch 3/100\n",
      "8/8 [==============================] - 6s 786ms/step - loss: 0.1828 - dice_coeff: 0.7213 - val_loss: 0.1872 - val_dice_coeff: 0.7106\n",
      "Epoch 4/100\n",
      "8/8 [==============================] - 6s 785ms/step - loss: 0.1814 - dice_coeff: 0.7281 - val_loss: 0.1911 - val_dice_coeff: 0.7121\n",
      "Epoch 5/100\n",
      "8/8 [==============================] - 6s 759ms/step - loss: 0.1810 - dice_coeff: 0.7301 - val_loss: 0.1934 - val_dice_coeff: 0.7115\n",
      "Epoch 6/100\n",
      "8/8 [==============================] - 6s 766ms/step - loss: 0.1833 - dice_coeff: 0.7251 - val_loss: 0.1968 - val_dice_coeff: 0.7112\n",
      "Epoch 7/100\n",
      "8/8 [==============================] - 6s 754ms/step - loss: 0.1896 - dice_coeff: 0.7205 - val_loss: 0.2184 - val_dice_coeff: 0.6945\n",
      "Model saved to: /tmp/tmpir8c4hw9GP2/attunet_3attunet_model\n",
      "History saved to: /tmp/tmpir8c4hw9GP2/attunet_history_3.pkl\n",
      "Testing the classifier...\n",
      "Testing the discriminator...\n",
      "12/12 [==============================] - 1s 46ms/step - loss: 17.5913 - accuracy: 0.4752\n",
      "Replacing 38 from 115 !\n",
      "D_relabeled_ 38\n",
      "point ids 38\n",
      "Removed: 38 Filled: 38\n",
      "TOOK 124.57834720611572 seconds\n",
      "==== DONE LOOP 4 ====\n",
      "******\n",
      "Loop 5\n",
      "Epoch 1/100\n",
      "9/9 [==============================] - 7s 805ms/step - loss: 0.1926 - dice_coeff: 0.7029 - val_loss: 0.2053 - val_dice_coeff: 0.6891\n",
      "Epoch 2/100\n",
      "9/9 [==============================] - 6s 696ms/step - loss: 0.1881 - dice_coeff: 0.6986 - val_loss: 0.1941 - val_dice_coeff: 0.6965\n",
      "Epoch 3/100\n",
      "9/9 [==============================] - 6s 707ms/step - loss: 0.1852 - dice_coeff: 0.7037 - val_loss: 0.2017 - val_dice_coeff: 0.6959\n",
      "Epoch 4/100\n",
      "9/9 [==============================] - 6s 719ms/step - loss: 0.1803 - dice_coeff: 0.7060 - val_loss: 0.1980 - val_dice_coeff: 0.7026\n",
      "Epoch 5/100\n",
      "9/9 [==============================] - 6s 726ms/step - loss: 0.1861 - dice_coeff: 0.7063 - val_loss: 0.1921 - val_dice_coeff: 0.7060\n",
      "Epoch 6/100\n",
      "9/9 [==============================] - 6s 701ms/step - loss: 0.1851 - dice_coeff: 0.7031 - val_loss: 0.1911 - val_dice_coeff: 0.7043\n",
      "Model saved to: /tmp/tmpir8c4hw9GP2/attunet_4attunet_model\n",
      "History saved to: /tmp/tmpir8c4hw9GP2/attunet_history_4.pkl\n",
      "Testing the classifier...\n",
      "Testing the discriminator...\n",
      "12/12 [==============================] - 1s 43ms/step - loss: 16.0673 - accuracy: 0.4752\n",
      "Replacing 37 from 111 !\n",
      "D_relabeled_ 37\n",
      "point ids 37\n",
      "Removed: 37 Filled: 37\n",
      "TOOK 124.52386260032654 seconds\n",
      "==== DONE LOOP 5 ====\n",
      "******\n",
      "Loop 6\n",
      "Epoch 1/100\n",
      "9/9 [==============================] - 14s 2s/step - loss: 0.1703 - dice_coeff: 0.7008 - val_loss: 0.2043 - val_dice_coeff: 0.7061\n",
      "Epoch 2/100\n",
      "9/9 [==============================] - 6s 736ms/step - loss: 0.2100 - dice_coeff: 0.6886 - val_loss: 0.2086 - val_dice_coeff: 0.6805\n",
      "Epoch 3/100\n",
      "9/9 [==============================] - 6s 743ms/step - loss: 0.1812 - dice_coeff: 0.7120 - val_loss: 0.1974 - val_dice_coeff: 0.7119\n",
      "Model saved to: /tmp/tmpir8c4hw9GP2/attunet_5attunet_model\n",
      "History saved to: /tmp/tmpir8c4hw9GP2/attunet_history_5.pkl\n",
      "Testing the classifier...\n",
      "Testing the discriminator...\n",
      "12/12 [==============================] - 1s 47ms/step - loss: 14.0782 - accuracy: 0.4830\n",
      "Replacing 41 from 125 !\n",
      "D_relabeled_ 41\n",
      "point ids 41\n",
      "Removed: 41 Filled: 41\n",
      "TOOK 84.13907170295715 seconds\n",
      "==== DONE LOOP 6 ====\n",
      "******\n",
      "Loop 7\n",
      "Epoch 1/100\n",
      "10/10 [==============================] - 12s 1s/step - loss: 0.1733 - dice_coeff: 0.7071 - val_loss: 0.1972 - val_dice_coeff: 0.7097\n",
      "Epoch 2/100\n",
      "10/10 [==============================] - 7s 688ms/step - loss: 0.1715 - dice_coeff: 0.7064 - val_loss: 0.1880 - val_dice_coeff: 0.7051\n",
      "Epoch 3/100\n",
      "10/10 [==============================] - 7s 683ms/step - loss: 0.1765 - dice_coeff: 0.6937 - val_loss: 0.1889 - val_dice_coeff: 0.6966\n",
      "Epoch 4/100\n",
      "10/10 [==============================] - 7s 687ms/step - loss: 0.1767 - dice_coeff: 0.6828 - val_loss: 0.2200 - val_dice_coeff: 0.6830\n",
      "Model saved to: /tmp/tmpir8c4hw9GP2/attunet_6attunet_model\n",
      "History saved to: /tmp/tmpir8c4hw9GP2/attunet_history_6.pkl\n",
      "Testing the classifier...\n",
      "Testing the discriminator...\n",
      "12/12 [==============================] - 1s 43ms/step - loss: 18.5664 - accuracy: 0.4726\n",
      "Replacing 37 from 112 !\n",
      "D_relabeled_ 37\n",
      "point ids 37\n",
      "Removed: 37 Filled: 37\n",
      "TOOK 124.87253665924072 seconds\n",
      "==== DONE LOOP 7 ====\n",
      "******\n",
      "Loop 8\n",
      "Epoch 1/100\n",
      "11/11 [==============================] - 10s 939ms/step - loss: 0.1743 - dice_coeff: 0.6832 - val_loss: 0.2216 - val_dice_coeff: 0.6764\n",
      "Epoch 2/100\n",
      "11/11 [==============================] - 7s 631ms/step - loss: 0.1727 - dice_coeff: 0.6703 - val_loss: 0.1913 - val_dice_coeff: 0.6919\n",
      "Epoch 3/100\n",
      "11/11 [==============================] - 7s 659ms/step - loss: 0.1644 - dice_coeff: 0.6801 - val_loss: 0.1840 - val_dice_coeff: 0.7037\n",
      "Epoch 4/100\n",
      "11/11 [==============================] - 7s 652ms/step - loss: 0.1641 - dice_coeff: 0.6919 - val_loss: 0.2036 - val_dice_coeff: 0.6728\n",
      "Epoch 5/100\n",
      "11/11 [==============================] - 7s 637ms/step - loss: 0.1776 - dice_coeff: 0.6806 - val_loss: 0.1850 - val_dice_coeff: 0.6738\n",
      "Epoch 6/100\n",
      "11/11 [==============================] - 7s 634ms/step - loss: 0.1686 - dice_coeff: 0.6704 - val_loss: 0.1824 - val_dice_coeff: 0.6922\n",
      "Model saved to: /tmp/tmpir8c4hw9GP2/attunet_7attunet_model\n",
      "History saved to: /tmp/tmpir8c4hw9GP2/attunet_history_7.pkl\n",
      "Testing the classifier...\n",
      "Testing the discriminator...\n",
      "12/12 [==============================] - 1s 48ms/step - loss: 17.6481 - accuracy: 0.4830\n",
      "Replacing 39 from 119 !\n",
      "D_relabeled_ 39\n",
      "point ids 39\n",
      "Removed: 39 Filled: 39\n",
      "TOOK 124.92587995529175 seconds\n",
      "==== DONE LOOP 8 ====\n"
     ]
    }
   ],
   "source": [
    "R.run(images=images, masks=masks, weights=weights, runs=8)"
   ]
  },
  {
   "cell_type": "code",
   "execution_count": null,
   "id": "dab6fd49",
   "metadata": {},
   "outputs": [],
   "source": []
  },
  {
   "cell_type": "code",
   "execution_count": 10,
   "id": "00075332",
   "metadata": {},
   "outputs": [
    {
     "data": {
      "text/plain": [
       "[[0.6514642834663391, 0.30352783203125],\n",
       " [0.22988735139369965, 0.6541996598243713],\n",
       " [0.2037448287010193, 0.6699594259262085],\n",
       " [0.22138427197933197, 0.6877594590187073],\n",
       " [0.19987085461616516, 0.6924228668212891],\n",
       " [0.20685172080993652, 0.7038483023643494],\n",
       " [0.22850368916988373, 0.6807165145874023],\n",
       " [0.19919294118881226, 0.6836764216423035]]"
      ]
     },
     "execution_count": 10,
     "metadata": {},
     "output_type": "execute_result"
    }
   ],
   "source": [
    "R.classifier_scores"
   ]
  },
  {
   "cell_type": "code",
   "execution_count": 11,
   "id": "35105656",
   "metadata": {},
   "outputs": [
    {
     "data": {
      "text/plain": [
       "[[1.2150136232376099, 0.8459529876708984],\n",
       " [15.742097854614258, 0.4908616244792938],\n",
       " [12.365279197692871, 0.5378590226173401],\n",
       " [17.591264724731445, 0.47519582509994507],\n",
       " [16.067283630371094, 0.47519582509994507],\n",
       " [14.078239440917969, 0.48302870988845825],\n",
       " [18.566375732421875, 0.4725848436355591],\n",
       " [17.6480712890625, 0.48302870988845825]]"
      ]
     },
     "execution_count": 11,
     "metadata": {},
     "output_type": "execute_result"
    }
   ],
   "source": [
    "R.discriminator_scores"
   ]
  },
  {
   "cell_type": "code",
   "execution_count": null,
   "id": "e256ed4d",
   "metadata": {},
   "outputs": [],
   "source": []
  },
  {
   "cell_type": "code",
   "execution_count": 12,
   "id": "c83bb28d",
   "metadata": {},
   "outputs": [
    {
     "data": {
      "image/png": "[encoded data removed]",
      "text/plain": [
       "<Figure size 240x240 with 1 Axes>"
      ]
     },
     "metadata": {
      "needs_background": "light"
     },
     "output_type": "display_data"
    }
   ],
   "source": [
    "R.plot()"
   ]
  },
  {
   "cell_type": "code",
   "execution_count": null,
   "id": "7f3b4a58",
   "metadata": {},
   "outputs": [],
   "source": []
  }
 ],
 "metadata": {
  "kernelspec": {
   "display_name": "Python 3 (ipykernel)",
   "language": "python",
   "name": "python3"
  },
  "language_info": {
   "codemirror_mode": {
    "name": "ipython",
    "version": 3
   },
   "file_extension": ".py",
   "mimetype": "text/x-python",
   "name": "python",
   "nbconvert_exporter": "python",
   "pygments_lexer": "ipython3",
   "version": "3.9.7"
  }
 },
 "nbformat": 4,
 "nbformat_minor": 5
}
