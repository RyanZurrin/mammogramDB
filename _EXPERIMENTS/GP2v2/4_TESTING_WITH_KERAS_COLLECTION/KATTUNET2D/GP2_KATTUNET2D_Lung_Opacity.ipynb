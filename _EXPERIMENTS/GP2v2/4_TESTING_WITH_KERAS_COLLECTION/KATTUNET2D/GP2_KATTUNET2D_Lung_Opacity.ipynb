{
 "cells": [
  {
   "cell_type": "code",
   "execution_count": 1,
   "id": "06c4accc",
   "metadata": {},
   "outputs": [
    {
     "name": "stdout",
     "output_type": "stream",
     "text": [
      "Populating the interactive namespace from numpy and matplotlib\n"
     ]
    }
   ],
   "source": [
    "%pylab inline\n",
    "%load_ext autoreload\n",
    "%autoreload 2"
   ]
  },
  {
   "cell_type": "code",
   "execution_count": 2,
   "id": "b9e78ed8",
   "metadata": {},
   "outputs": [],
   "source": [
    "import time\n",
    "import sys\n",
    "sys.path.insert(0,'../../../..')\n",
    "from omama import gp2\n",
    "from omama.gp2 import Runner\n",
    "from keras import losses, metrics\n",
    "from tensorflow.keras import optimizers"
   ]
  },
  {
   "cell_type": "code",
   "execution_count": null,
   "id": "bdc75325",
   "metadata": {},
   "outputs": [],
   "source": [
    "R = Runner(classifier='kattunet2d',\n",
    "           filter_num=[16, 32, 64, 128, 256],\n",
    "           stack_num_down=2,\n",
    "           stack_num_up=2,\n",
    "           activation='ReLU',\n",
    "           atten_activation='ReLU',\n",
    "           attention='add',\n",
    "           output_activation='Sigmoid',\n",
    "           batch_norm=False,\n",
    "           pool=False,\n",
    "           unpool=False,\n",
    "           weights='imagenet',\n",
    "           optimizer= None, #None = default is optimizers.Adam(learning_rate=1e-3)\n",
    "           loss=None, #None = default is losses.binary_crossentropy\n",
    "           metric=None # None = default is Util.dice_coef\n",
    "          )"
   ]
  },
  {
   "cell_type": "code",
   "execution_count": 4,
   "id": "87b0c65d",
   "metadata": {},
   "outputs": [],
   "source": [
    "# load our larger toy dataset (10k images and masks)\n",
    "images = np.load('/hpcstor6/scratch01/p/poornendu.pabbati001/Lung_Opacity/Lung_images_final.npy')\n",
    "masks = np.load('/hpcstor6/scratch01/p/poornendu.pabbati001/Lung_Opacity/Lung_masks_final.npy')"
   ]
  },
  {
   "cell_type": "code",
   "execution_count": null,
   "id": "7330ad24",
   "metadata": {},
   "outputs": [],
   "source": []
  },
  {
   "cell_type": "code",
   "execution_count": 5,
   "id": "d5b4179a",
   "metadata": {},
   "outputs": [
    {
     "data": {
      "text/plain": [
       "(6012, 512, 512, 1)"
      ]
     },
     "execution_count": 5,
     "metadata": {},
     "output_type": "execute_result"
    }
   ],
   "source": [
    "images.shape"
   ]
  },
  {
   "cell_type": "code",
   "execution_count": 6,
   "id": "57033c4e",
   "metadata": {},
   "outputs": [
    {
     "data": {
      "text/plain": [
       "(6012, 512, 512, 1)"
      ]
     },
     "execution_count": 6,
     "metadata": {},
     "output_type": "execute_result"
    }
   ],
   "source": [
    "masks.shape"
   ]
  },
  {
   "cell_type": "code",
   "execution_count": 7,
   "id": "1dd71668",
   "metadata": {},
   "outputs": [],
   "source": [
    "weights = {\n",
    "    'A': 0.5,\n",
    "    'A_train': 0.1,\n",
    "    'A_val': 0.3,\n",
    "    'A_test': 0.6,\n",
    "    'B': 0.3,\n",
    "    'B_train': 0.7,\n",
    "    'B_val': 0.1,\n",
    "    'B_test': 0.2,\n",
    "    'Z': 0.2\n",
    "}"
   ]
  },
  {
   "cell_type": "code",
   "execution_count": 8,
   "id": "d8ff85c4",
   "metadata": {
    "scrolled": true
   },
   "outputs": [
    {
     "name": "stdout",
     "output_type": "stream",
     "text": [
      "Weights OK!\n",
      "******\n",
      "Loop 1\n",
      "Epoch 1/100\n",
      "5/5 [==============================] - 24s 3s/step - loss: 0.6910 - dice_coeff: 0.3113 - val_loss: 0.6894 - val_dice_coeff: 0.3057\n",
      "Epoch 2/100\n",
      "5/5 [==============================] - 4s 992ms/step - loss: 0.6887 - dice_coeff: 0.3104 - val_loss: 0.6870 - val_dice_coeff: 0.3054\n",
      "Epoch 3/100\n",
      "5/5 [==============================] - 4s 985ms/step - loss: 0.6864 - dice_coeff: 0.3105 - val_loss: 0.6845 - val_dice_coeff: 0.3050\n",
      "Epoch 4/100\n",
      "5/5 [==============================] - 4s 980ms/step - loss: 0.6839 - dice_coeff: 0.3103 - val_loss: 0.6819 - val_dice_coeff: 0.3047\n",
      "Epoch 5/100\n",
      "5/5 [==============================] - 5s 1s/step - loss: 0.6813 - dice_coeff: 0.3098 - val_loss: 0.6790 - val_dice_coeff: 0.3042\n",
      "Epoch 6/100\n",
      "5/5 [==============================] - 4s 973ms/step - loss: 0.6783 - dice_coeff: 0.3090 - val_loss: 0.6756 - val_dice_coeff: 0.3037\n",
      "Epoch 7/100\n",
      "5/5 [==============================] - 4s 969ms/step - loss: 0.6750 - dice_coeff: 0.3085 - val_loss: 0.6720 - val_dice_coeff: 0.3032\n",
      "Epoch 8/100\n",
      "5/5 [==============================] - 4s 980ms/step - loss: 0.6713 - dice_coeff: 0.3089 - val_loss: 0.6676 - val_dice_coeff: 0.3024\n",
      "Epoch 9/100\n",
      "5/5 [==============================] - 4s 957ms/step - loss: 0.6667 - dice_coeff: 0.3073 - val_loss: 0.6623 - val_dice_coeff: 0.3016\n",
      "Epoch 10/100\n",
      "5/5 [==============================] - 4s 956ms/step - loss: 0.6613 - dice_coeff: 0.3068 - val_loss: 0.6559 - val_dice_coeff: 0.3004\n",
      "Epoch 11/100\n",
      "5/5 [==============================] - 4s 998ms/step - loss: 0.6545 - dice_coeff: 0.3050 - val_loss: 0.6476 - val_dice_coeff: 0.2989\n",
      "Epoch 12/100\n",
      "5/5 [==============================] - 4s 975ms/step - loss: 0.6456 - dice_coeff: 0.3034 - val_loss: 0.6361 - val_dice_coeff: 0.2966\n",
      "Epoch 13/100\n",
      "5/5 [==============================] - 5s 1s/step - loss: 0.6320 - dice_coeff: 0.2998 - val_loss: 0.6152 - val_dice_coeff: 0.2913\n",
      "Epoch 14/100\n",
      "5/5 [==============================] - 4s 999ms/step - loss: 0.6007 - dice_coeff: 0.2881 - val_loss: 0.5506 - val_dice_coeff: 0.2515\n",
      "Epoch 15/100\n",
      "5/5 [==============================] - 5s 1s/step - loss: 0.5573 - dice_coeff: 0.2221 - val_loss: 0.5418 - val_dice_coeff: 0.2380\n",
      "Epoch 16/100\n",
      "5/5 [==============================] - 4s 980ms/step - loss: 0.5501 - dice_coeff: 0.2509 - val_loss: 0.5404 - val_dice_coeff: 0.2454\n",
      "Epoch 17/100\n",
      "5/5 [==============================] - 4s 987ms/step - loss: 0.5450 - dice_coeff: 0.2380 - val_loss: 0.5370 - val_dice_coeff: 0.2220\n",
      "Epoch 18/100\n",
      "5/5 [==============================] - 5s 1s/step - loss: 0.5431 - dice_coeff: 0.2327 - val_loss: 0.5336 - val_dice_coeff: 0.2375\n",
      "Epoch 19/100\n",
      "5/5 [==============================] - 4s 983ms/step - loss: 0.5402 - dice_coeff: 0.2407 - val_loss: 0.5312 - val_dice_coeff: 0.2337\n",
      "Epoch 20/100\n",
      "5/5 [==============================] - 5s 1s/step - loss: 0.5377 - dice_coeff: 0.2346 - val_loss: 0.5284 - val_dice_coeff: 0.2312\n",
      "Epoch 21/100\n",
      "5/5 [==============================] - 4s 977ms/step - loss: 0.5344 - dice_coeff: 0.2360 - val_loss: 0.5238 - val_dice_coeff: 0.2340\n",
      "Epoch 22/100\n",
      "5/5 [==============================] - 4s 974ms/step - loss: 0.5274 - dice_coeff: 0.2362 - val_loss: 0.5108 - val_dice_coeff: 0.2335\n",
      "Epoch 23/100\n",
      "5/5 [==============================] - 5s 1s/step - loss: 0.5042 - dice_coeff: 0.2435 - val_loss: 0.5136 - val_dice_coeff: 0.1994\n",
      "Epoch 24/100\n",
      "5/5 [==============================] - 4s 965ms/step - loss: 0.4978 - dice_coeff: 0.2538 - val_loss: 0.4780 - val_dice_coeff: 0.2706\n",
      "Epoch 25/100\n",
      "5/5 [==============================] - 4s 980ms/step - loss: 0.4639 - dice_coeff: 0.2766 - val_loss: 0.4284 - val_dice_coeff: 0.3025\n",
      "Epoch 26/100\n",
      "5/5 [==============================] - 5s 1s/step - loss: 0.4318 - dice_coeff: 0.3147 - val_loss: 0.4205 - val_dice_coeff: 0.3258\n",
      "Epoch 27/100\n",
      "5/5 [==============================] - 4s 993ms/step - loss: 0.4224 - dice_coeff: 0.3373 - val_loss: 0.4123 - val_dice_coeff: 0.3402\n",
      "Epoch 28/100\n",
      "5/5 [==============================] - 4s 987ms/step - loss: 0.4139 - dice_coeff: 0.3426 - val_loss: 0.4080 - val_dice_coeff: 0.3480\n",
      "Epoch 29/100\n",
      "5/5 [==============================] - 5s 1s/step - loss: 0.4076 - dice_coeff: 0.3525 - val_loss: 0.4256 - val_dice_coeff: 0.2987\n",
      "Epoch 30/100\n",
      "5/5 [==============================] - 4s 985ms/step - loss: 0.4237 - dice_coeff: 0.3453 - val_loss: 0.4189 - val_dice_coeff: 0.3550\n",
      "Epoch 31/100\n",
      "5/5 [==============================] - 4s 972ms/step - loss: 0.4185 - dice_coeff: 0.3634 - val_loss: 0.4071 - val_dice_coeff: 0.3617\n",
      "Model saved to: /tmp/tmpvroy2hk1GP2/attunet_0attunet_model\n",
      "History saved to: /tmp/tmpvroy2hk1GP2/attunet_history_0.pkl\n",
      "Testing the classifier...\n",
      "****** TRAINING DISCRIMINATOR ******\n",
      "Model saved to /tmp/tmpvroy2hk1GP2/cnnd_0.model\n",
      "History saved to /tmp/tmpvroy2hk1GP2/cnnd_history_0.pickle\n",
      "Testing the discriminator...\n",
      "12/12 [==============================] - 1s 41ms/step - loss: 1.7650e-07 - accuracy: 1.0000\n",
      "Replacing 58 from 176 !\n",
      "D_relabeled_ 58\n",
      "point ids 58\n",
      "Removed: 58 Filled: 58\n",
      "TOOK 567.9884881973267 seconds\n",
      "==== DONE LOOP 1 ====\n",
      "******\n",
      "Loop 2\n",
      "Epoch 1/100\n",
      "6/6 [==============================] - 11s 2s/step - loss: 0.4072 - dice_coeff: 0.3650 - val_loss: 0.4011 - val_dice_coeff: 0.3587\n",
      "Epoch 2/100\n",
      "6/6 [==============================] - 5s 881ms/step - loss: 0.4022 - dice_coeff: 0.3603 - val_loss: 0.3956 - val_dice_coeff: 0.3610\n",
      "Epoch 3/100\n",
      "6/6 [==============================] - 5s 860ms/step - loss: 0.3975 - dice_coeff: 0.3647 - val_loss: 0.3904 - val_dice_coeff: 0.3637\n",
      "Epoch 4/100\n",
      "6/6 [==============================] - 5s 889ms/step - loss: 0.3926 - dice_coeff: 0.3667 - val_loss: 0.3842 - val_dice_coeff: 0.3673\n",
      "Epoch 5/100\n",
      "6/6 [==============================] - 5s 876ms/step - loss: 0.3855 - dice_coeff: 0.3741 - val_loss: 0.3873 - val_dice_coeff: 0.3553\n",
      "Epoch 6/100\n",
      "6/6 [==============================] - 5s 881ms/step - loss: 0.3961 - dice_coeff: 0.3799 - val_loss: 0.3964 - val_dice_coeff: 0.3837\n",
      "Epoch 7/100\n",
      "6/6 [==============================] - 5s 855ms/step - loss: 0.3995 - dice_coeff: 0.3747 - val_loss: 0.4087 - val_dice_coeff: 0.3696\n",
      "Model saved to: /tmp/tmpvroy2hk1GP2/attunet_1attunet_model\n",
      "History saved to: /tmp/tmpvroy2hk1GP2/attunet_history_1.pkl\n",
      "Testing the classifier...\n",
      "Testing the discriminator...\n",
      "12/12 [==============================] - 1s 45ms/step - loss: 1.7517e-07 - accuracy: 1.0000\n",
      "Replacing 58 from 176 !\n",
      "D_relabeled_ 58\n",
      "point ids 58\n",
      "Removed: 58 Filled: 58\n",
      "TOOK 116.72851324081421 seconds\n",
      "==== DONE LOOP 2 ====\n",
      "******\n",
      "Loop 3\n",
      "Epoch 1/100\n",
      "7/7 [==============================] - 9s 1s/step - loss: 0.3964 - dice_coeff: 0.3775 - val_loss: 0.3781 - val_dice_coeff: 0.3875\n",
      "Epoch 2/100\n",
      "7/7 [==============================] - 5s 810ms/step - loss: 0.3814 - dice_coeff: 0.3819 - val_loss: 0.3798 - val_dice_coeff: 0.3862\n",
      "Epoch 3/100\n",
      "7/7 [==============================] - 5s 784ms/step - loss: 0.3748 - dice_coeff: 0.3917 - val_loss: 0.3682 - val_dice_coeff: 0.3951\n",
      "Epoch 4/100\n",
      "7/7 [==============================] - 5s 781ms/step - loss: 0.3663 - dice_coeff: 0.4030 - val_loss: 0.3596 - val_dice_coeff: 0.3976\n",
      "Epoch 5/100\n",
      "7/7 [==============================] - 5s 782ms/step - loss: 0.3591 - dice_coeff: 0.4123 - val_loss: 0.3622 - val_dice_coeff: 0.4034\n",
      "Epoch 6/100\n",
      "7/7 [==============================] - 5s 788ms/step - loss: 0.3701 - dice_coeff: 0.4088 - val_loss: 0.3576 - val_dice_coeff: 0.3990\n",
      "Epoch 7/100\n",
      "7/7 [==============================] - 5s 801ms/step - loss: 0.3576 - dice_coeff: 0.4125 - val_loss: 0.3488 - val_dice_coeff: 0.4184\n",
      "Epoch 8/100\n",
      "7/7 [==============================] - 5s 816ms/step - loss: 0.3488 - dice_coeff: 0.4290 - val_loss: 0.3420 - val_dice_coeff: 0.4331\n",
      "Epoch 9/100\n",
      "7/7 [==============================] - 5s 782ms/step - loss: 0.3460 - dice_coeff: 0.4394 - val_loss: 0.3412 - val_dice_coeff: 0.4348\n",
      "Epoch 10/100\n",
      "7/7 [==============================] - 5s 838ms/step - loss: 0.3456 - dice_coeff: 0.4334 - val_loss: 0.3386 - val_dice_coeff: 0.4364\n",
      "Epoch 11/100\n",
      "7/7 [==============================] - 5s 780ms/step - loss: 0.3401 - dice_coeff: 0.4455 - val_loss: 0.3358 - val_dice_coeff: 0.4391\n",
      "Epoch 12/100\n",
      "7/7 [==============================] - 5s 831ms/step - loss: 0.3362 - dice_coeff: 0.4466 - val_loss: 0.3306 - val_dice_coeff: 0.4528\n",
      "Epoch 13/100\n",
      "7/7 [==============================] - 5s 780ms/step - loss: 0.3301 - dice_coeff: 0.4561 - val_loss: 0.3238 - val_dice_coeff: 0.4578\n",
      "Epoch 14/100\n",
      "7/7 [==============================] - 6s 863ms/step - loss: 0.3283 - dice_coeff: 0.4600 - val_loss: 0.3338 - val_dice_coeff: 0.4517\n",
      "Epoch 15/100\n",
      "7/7 [==============================] - 5s 786ms/step - loss: 0.3303 - dice_coeff: 0.4561 - val_loss: 0.3182 - val_dice_coeff: 0.4621\n",
      "Epoch 16/100\n",
      "7/7 [==============================] - 5s 823ms/step - loss: 0.3240 - dice_coeff: 0.4623 - val_loss: 0.3136 - val_dice_coeff: 0.4688\n",
      "Epoch 17/100\n",
      "7/7 [==============================] - 5s 795ms/step - loss: 0.3153 - dice_coeff: 0.4746 - val_loss: 0.3190 - val_dice_coeff: 0.4665\n",
      "Epoch 18/100\n",
      "7/7 [==============================] - 5s 788ms/step - loss: 0.3125 - dice_coeff: 0.4785 - val_loss: 0.3061 - val_dice_coeff: 0.4844\n",
      "Epoch 19/100\n",
      "7/7 [==============================] - 6s 858ms/step - loss: 0.3071 - dice_coeff: 0.4861 - val_loss: 0.3087 - val_dice_coeff: 0.4835\n",
      "Epoch 20/100\n",
      "7/7 [==============================] - 5s 795ms/step - loss: 0.3113 - dice_coeff: 0.4866 - val_loss: 0.2996 - val_dice_coeff: 0.4900\n",
      "Epoch 21/100\n",
      "7/7 [==============================] - 5s 826ms/step - loss: 0.3010 - dice_coeff: 0.4929 - val_loss: 0.2940 - val_dice_coeff: 0.4990\n",
      "Epoch 22/100\n",
      "7/7 [==============================] - 5s 802ms/step - loss: 0.3002 - dice_coeff: 0.4998 - val_loss: 0.2958 - val_dice_coeff: 0.5019\n",
      "Epoch 23/100\n",
      "7/7 [==============================] - 5s 789ms/step - loss: 0.3025 - dice_coeff: 0.4968 - val_loss: 0.2949 - val_dice_coeff: 0.5003\n",
      "Epoch 24/100\n",
      "7/7 [==============================] - 5s 815ms/step - loss: 0.2995 - dice_coeff: 0.4999 - val_loss: 0.2880 - val_dice_coeff: 0.5111\n",
      "Epoch 25/100\n",
      "7/7 [==============================] - 5s 809ms/step - loss: 0.2957 - dice_coeff: 0.5095 - val_loss: 0.3004 - val_dice_coeff: 0.4914\n",
      "Epoch 26/100\n",
      "7/7 [==============================] - 5s 787ms/step - loss: 0.2927 - dice_coeff: 0.5112 - val_loss: 0.2819 - val_dice_coeff: 0.5222\n",
      "Epoch 27/100\n",
      "7/7 [==============================] - 5s 834ms/step - loss: 0.2848 - dice_coeff: 0.5220 - val_loss: 0.2814 - val_dice_coeff: 0.5312\n",
      "Epoch 28/100\n",
      "7/7 [==============================] - 5s 786ms/step - loss: 0.2824 - dice_coeff: 0.5248 - val_loss: 0.2743 - val_dice_coeff: 0.5382\n",
      "Epoch 29/100\n",
      "7/7 [==============================] - 6s 837ms/step - loss: 0.2777 - dice_coeff: 0.5368 - val_loss: 0.2705 - val_dice_coeff: 0.5309\n",
      "Epoch 30/100\n",
      "7/7 [==============================] - 5s 784ms/step - loss: 0.2749 - dice_coeff: 0.5422 - val_loss: 0.2707 - val_dice_coeff: 0.5393\n",
      "Epoch 31/100\n",
      "7/7 [==============================] - 5s 815ms/step - loss: 0.2707 - dice_coeff: 0.5490 - val_loss: 0.2599 - val_dice_coeff: 0.5575\n",
      "Epoch 32/100\n",
      "7/7 [==============================] - 5s 795ms/step - loss: 0.2641 - dice_coeff: 0.5566 - val_loss: 0.2555 - val_dice_coeff: 0.5690\n",
      "Epoch 33/100\n",
      "7/7 [==============================] - 5s 828ms/step - loss: 0.2572 - dice_coeff: 0.5709 - val_loss: 0.2464 - val_dice_coeff: 0.5803\n",
      "Epoch 34/100\n",
      "7/7 [==============================] - 5s 798ms/step - loss: 0.2505 - dice_coeff: 0.5837 - val_loss: 0.2486 - val_dice_coeff: 0.5840\n",
      "Epoch 35/100\n",
      "7/7 [==============================] - 5s 784ms/step - loss: 0.2465 - dice_coeff: 0.5988 - val_loss: 0.2335 - val_dice_coeff: 0.6153\n",
      "Epoch 36/100\n",
      "7/7 [==============================] - 5s 830ms/step - loss: 0.2327 - dice_coeff: 0.6233 - val_loss: 0.2265 - val_dice_coeff: 0.6342\n",
      "Epoch 37/100\n",
      "7/7 [==============================] - 5s 800ms/step - loss: 0.2506 - dice_coeff: 0.6392 - val_loss: 0.2267 - val_dice_coeff: 0.6584\n",
      "Epoch 38/100\n",
      "7/7 [==============================] - 5s 807ms/step - loss: 0.2361 - dice_coeff: 0.6505 - val_loss: 0.2153 - val_dice_coeff: 0.6733\n",
      "Model saved to: /tmp/tmpvroy2hk1GP2/attunet_2attunet_model\n",
      "History saved to: /tmp/tmpvroy2hk1GP2/attunet_history_2.pkl\n",
      "Testing the classifier...\n",
      "Testing the discriminator...\n",
      "12/12 [==============================] - 1s 42ms/step - loss: 542.1539 - accuracy: 0.5250\n",
      "No machine labels found. Skipping step 6.\n",
      "No more machine labels.\n",
      "TOOK 416.59327149391174 seconds\n"
     ]
    }
   ],
   "source": [
    "R.run(images=images, masks=masks, weights=weights, runs=8)"
   ]
  },
  {
   "cell_type": "code",
   "execution_count": null,
   "id": "dab6fd49",
   "metadata": {},
   "outputs": [],
   "source": []
  },
  {
   "cell_type": "code",
   "execution_count": 9,
   "id": "00075332",
   "metadata": {},
   "outputs": [
    {
     "data": {
      "text/plain": [
       "[[0.4080337584018707, 0.3629685342311859],\n",
       " [0.40755781531333923, 0.3712144196033478],\n",
       " [0.21809253096580505, 0.6690277457237244]]"
      ]
     },
     "execution_count": 9,
     "metadata": {},
     "output_type": "execute_result"
    }
   ],
   "source": [
    "R.classifier_scores"
   ]
  },
  {
   "cell_type": "code",
   "execution_count": 10,
   "id": "35105656",
   "metadata": {},
   "outputs": [
    {
     "data": {
      "text/plain": [
       "[[1.7649595918101113e-07, 1.0],\n",
       " [1.751714080455713e-07, 1.0],\n",
       " [542.1539306640625, 0.5249999761581421]]"
      ]
     },
     "execution_count": 10,
     "metadata": {},
     "output_type": "execute_result"
    }
   ],
   "source": [
    "R.discriminator_scores"
   ]
  },
  {
   "cell_type": "code",
   "execution_count": null,
   "id": "e256ed4d",
   "metadata": {},
   "outputs": [],
   "source": []
  },
  {
   "cell_type": "code",
   "execution_count": 11,
   "id": "c83bb28d",
   "metadata": {},
   "outputs": [
    {
     "data": {
      "image/png": "[encoded data removed]",
      "text/plain": [
       "<Figure size 240x240 with 1 Axes>"
      ]
     },
     "metadata": {
      "needs_background": "light"
     },
     "output_type": "display_data"
    }
   ],
   "source": [
    "R.plot()"
   ]
  },
  {
   "cell_type": "code",
   "execution_count": null,
   "id": "7f3b4a58",
   "metadata": {},
   "outputs": [],
   "source": []
  }
 ],
 "metadata": {
  "kernelspec": {
   "display_name": "Python 3 (ipykernel)",
   "language": "python",
   "name": "python3"
  },
  "language_info": {
   "codemirror_mode": {
    "name": "ipython",
    "version": 3
   },
   "file_extension": ".py",
   "mimetype": "text/x-python",
   "name": "python",
   "nbconvert_exporter": "python",
   "pygments_lexer": "ipython3",
   "version": "3.9.7"
  }
 },
 "nbformat": 4,
 "nbformat_minor": 5
}
