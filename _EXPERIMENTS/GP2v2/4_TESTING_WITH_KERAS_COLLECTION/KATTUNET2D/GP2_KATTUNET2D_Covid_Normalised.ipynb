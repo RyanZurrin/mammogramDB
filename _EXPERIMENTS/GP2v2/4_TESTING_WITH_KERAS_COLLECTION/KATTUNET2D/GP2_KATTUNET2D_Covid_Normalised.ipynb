{
 "cells": [
  {
   "cell_type": "code",
   "execution_count": 1,
   "id": "06c4accc",
   "metadata": {},
   "outputs": [
    {
     "name": "stdout",
     "output_type": "stream",
     "text": [
      "Populating the interactive namespace from numpy and matplotlib\n"
     ]
    }
   ],
   "source": [
    "%pylab inline\n",
    "%load_ext autoreload\n",
    "%autoreload 2"
   ]
  },
  {
   "cell_type": "code",
   "execution_count": 3,
   "id": "b9e78ed8",
   "metadata": {},
   "outputs": [],
   "source": [
    "import time\n",
    "import sys\n",
    "sys.path.insert(0,'../../../..')\n",
    "from omama import gp2\n",
    "from omama.gp2 import Runner\n",
    "from keras import losses, metrics\n",
    "from tensorflow.keras import optimizers"
   ]
  },
  {
   "cell_type": "code",
   "execution_count": 3,
   "id": "bdc75325",
   "metadata": {},
   "outputs": [
    {
     "name": "stdout",
     "output_type": "stream",
     "text": [
      "*** GP2 KATTUnet2D ***\n",
      "Working directory: /tmp/tmpur466i7gGP2\n",
      "Using default discriminator (CNN)\n"
     ]
    }
   ],
   "source": [
    "R = Runner(classifier='kattunet2d',\n",
    "           filter_num=[16, 32, 64, 128, 256],\n",
    "           stack_num_down=2,\n",
    "           stack_num_up=2,\n",
    "           activation='ReLU',\n",
    "           atten_activation='ReLU',\n",
    "           attention='add',\n",
    "           output_activation='Sigmoid',\n",
    "           batch_norm=False,\n",
    "           pool=False,\n",
    "           unpool=False,\n",
    "           weights='imagenet',\n",
    "           optimizer= None, #None = default is optimizers.Adam(learning_rate=1e-3)\n",
    "           loss=None, #None = default is losses.binary_crossentropy\n",
    "           metric=None # None = default is Util.dice_coef\n",
    "          )"
   ]
  },
  {
   "cell_type": "code",
   "execution_count": 4,
   "id": "87b0c65d",
   "metadata": {},
   "outputs": [],
   "source": [
    "# load our larger toy dataset (10k images and masks)\n",
    "images = np.load('/hpcstor6/scratch01/p/poornendu.pabbati001/COVID/Covid_images_norm.npy')\n",
    "masks = np.load('/hpcstor6/scratch01/p/poornendu.pabbati001/COVID/Covid_masks_norm.npy')"
   ]
  },
  {
   "cell_type": "code",
   "execution_count": null,
   "id": "7330ad24",
   "metadata": {},
   "outputs": [],
   "source": []
  },
  {
   "cell_type": "code",
   "execution_count": 5,
   "id": "d5b4179a",
   "metadata": {},
   "outputs": [
    {
     "data": {
      "text/plain": [
       "(3616, 512, 512, 1)"
      ]
     },
     "execution_count": 5,
     "metadata": {},
     "output_type": "execute_result"
    }
   ],
   "source": [
    "images.shape"
   ]
  },
  {
   "cell_type": "code",
   "execution_count": 6,
   "id": "57033c4e",
   "metadata": {},
   "outputs": [
    {
     "data": {
      "text/plain": [
       "(3616, 512, 512, 1)"
      ]
     },
     "execution_count": 6,
     "metadata": {},
     "output_type": "execute_result"
    }
   ],
   "source": [
    "masks.shape"
   ]
  },
  {
   "cell_type": "code",
   "execution_count": 7,
   "id": "1dd71668",
   "metadata": {},
   "outputs": [],
   "source": [
    "weights = {\n",
    "    'A': 0.5,\n",
    "    'A_train': 0.1,\n",
    "    'A_val': 0.3,\n",
    "    'A_test': 0.6,\n",
    "    'B': 0.3,\n",
    "    'B_train': 0.7,\n",
    "    'B_val': 0.1,\n",
    "    'B_test': 0.2,\n",
    "    'Z': 0.2\n",
    "}"
   ]
  },
  {
   "cell_type": "code",
   "execution_count": 8,
   "id": "d8ff85c4",
   "metadata": {
    "scrolled": true
   },
   "outputs": [
    {
     "name": "stdout",
     "output_type": "stream",
     "text": [
      "Weights OK!\n",
      "******\n",
      "Loop 1\n",
      "Epoch 1/100\n",
      "3/3 [==============================] - 24s 6s/step - loss: 0.6942 - dice_coeff: 0.3593 - val_loss: 0.6938 - val_dice_coeff: 0.3623\n",
      "Epoch 2/100\n",
      "3/3 [==============================] - 3s 1s/step - loss: 0.6935 - dice_coeff: 0.3595 - val_loss: 0.6931 - val_dice_coeff: 0.3622\n",
      "Epoch 3/100\n",
      "3/3 [==============================] - 3s 1s/step - loss: 0.6929 - dice_coeff: 0.3602 - val_loss: 0.6926 - val_dice_coeff: 0.3621\n",
      "Epoch 4/100\n",
      "3/3 [==============================] - 3s 1s/step - loss: 0.6924 - dice_coeff: 0.3601 - val_loss: 0.6921 - val_dice_coeff: 0.3619\n",
      "Epoch 5/100\n",
      "3/3 [==============================] - 3s 1s/step - loss: 0.6918 - dice_coeff: 0.3587 - val_loss: 0.6914 - val_dice_coeff: 0.3617\n",
      "Epoch 6/100\n",
      "3/3 [==============================] - 3s 1s/step - loss: 0.6910 - dice_coeff: 0.3580 - val_loss: 0.6905 - val_dice_coeff: 0.3615\n",
      "Epoch 7/100\n",
      "3/3 [==============================] - 3s 1s/step - loss: 0.6901 - dice_coeff: 0.3591 - val_loss: 0.6895 - val_dice_coeff: 0.3613\n",
      "Epoch 8/100\n",
      "3/3 [==============================] - 3s 1s/step - loss: 0.6892 - dice_coeff: 0.3583 - val_loss: 0.6885 - val_dice_coeff: 0.3611\n",
      "Epoch 9/100\n",
      "3/3 [==============================] - 3s 1s/step - loss: 0.6881 - dice_coeff: 0.3585 - val_loss: 0.6874 - val_dice_coeff: 0.3608\n",
      "Epoch 10/100\n",
      "3/3 [==============================] - 3s 1s/step - loss: 0.6869 - dice_coeff: 0.3578 - val_loss: 0.6861 - val_dice_coeff: 0.3605\n",
      "Epoch 11/100\n",
      "3/3 [==============================] - 3s 1s/step - loss: 0.6856 - dice_coeff: 0.3574 - val_loss: 0.6846 - val_dice_coeff: 0.3602\n",
      "Epoch 12/100\n",
      "3/3 [==============================] - 3s 1s/step - loss: 0.6841 - dice_coeff: 0.3569 - val_loss: 0.6829 - val_dice_coeff: 0.3598\n",
      "Epoch 13/100\n",
      "3/3 [==============================] - 3s 1s/step - loss: 0.6823 - dice_coeff: 0.3569 - val_loss: 0.6808 - val_dice_coeff: 0.3593\n",
      "Epoch 14/100\n",
      "3/3 [==============================] - 3s 1s/step - loss: 0.6801 - dice_coeff: 0.3561 - val_loss: 0.6783 - val_dice_coeff: 0.3587\n",
      "Epoch 15/100\n",
      "3/3 [==============================] - 3s 1s/step - loss: 0.6774 - dice_coeff: 0.3557 - val_loss: 0.6751 - val_dice_coeff: 0.3579\n",
      "Epoch 16/100\n",
      "3/3 [==============================] - 3s 1s/step - loss: 0.6740 - dice_coeff: 0.3553 - val_loss: 0.6709 - val_dice_coeff: 0.3569\n",
      "Epoch 17/100\n",
      "3/3 [==============================] - 3s 1s/step - loss: 0.6694 - dice_coeff: 0.3532 - val_loss: 0.6651 - val_dice_coeff: 0.3554\n",
      "Epoch 18/100\n",
      "3/3 [==============================] - 3s 1s/step - loss: 0.6629 - dice_coeff: 0.3519 - val_loss: 0.6565 - val_dice_coeff: 0.3531\n",
      "Epoch 19/100\n",
      "3/3 [==============================] - 3s 1s/step - loss: 0.6530 - dice_coeff: 0.3484 - val_loss: 0.6426 - val_dice_coeff: 0.3488\n",
      "Epoch 20/100\n",
      "3/3 [==============================] - 3s 1s/step - loss: 0.6366 - dice_coeff: 0.3426 - val_loss: 0.6186 - val_dice_coeff: 0.3388\n",
      "Epoch 21/100\n",
      "3/3 [==============================] - 3s 1s/step - loss: 0.6096 - dice_coeff: 0.3267 - val_loss: 0.5895 - val_dice_coeff: 0.3007\n",
      "Epoch 22/100\n",
      "3/3 [==============================] - 3s 1s/step - loss: 0.5965 - dice_coeff: 0.2783 - val_loss: 0.5912 - val_dice_coeff: 0.2809\n",
      "Epoch 23/100\n",
      "3/3 [==============================] - 3s 1s/step - loss: 0.5903 - dice_coeff: 0.2851 - val_loss: 0.5826 - val_dice_coeff: 0.3065\n",
      "Epoch 24/100\n",
      "3/3 [==============================] - 3s 1s/step - loss: 0.5852 - dice_coeff: 0.3041 - val_loss: 0.5821 - val_dice_coeff: 0.3123\n",
      "Epoch 25/100\n",
      "3/3 [==============================] - 3s 1s/step - loss: 0.5833 - dice_coeff: 0.3060 - val_loss: 0.5782 - val_dice_coeff: 0.3071\n",
      "Epoch 26/100\n",
      "3/3 [==============================] - 3s 1s/step - loss: 0.5798 - dice_coeff: 0.2983 - val_loss: 0.5754 - val_dice_coeff: 0.2975\n",
      "Epoch 27/100\n",
      "3/3 [==============================] - 3s 1s/step - loss: 0.5781 - dice_coeff: 0.2889 - val_loss: 0.5741 - val_dice_coeff: 0.2934\n",
      "Epoch 28/100\n",
      "3/3 [==============================] - 3s 1s/step - loss: 0.5762 - dice_coeff: 0.2892 - val_loss: 0.5717 - val_dice_coeff: 0.2986\n",
      "Epoch 29/100\n",
      "3/3 [==============================] - 3s 1s/step - loss: 0.5738 - dice_coeff: 0.2949 - val_loss: 0.5701 - val_dice_coeff: 0.3045\n",
      "Epoch 30/100\n",
      "3/3 [==============================] - 3s 1s/step - loss: 0.5719 - dice_coeff: 0.2994 - val_loss: 0.5680 - val_dice_coeff: 0.3050\n",
      "Epoch 31/100\n",
      "3/3 [==============================] - 3s 1s/step - loss: 0.5694 - dice_coeff: 0.2985 - val_loss: 0.5655 - val_dice_coeff: 0.3019\n",
      "Epoch 32/100\n",
      "3/3 [==============================] - 3s 1s/step - loss: 0.5668 - dice_coeff: 0.2950 - val_loss: 0.5630 - val_dice_coeff: 0.3006\n",
      "Epoch 33/100\n",
      "3/3 [==============================] - 3s 1s/step - loss: 0.5640 - dice_coeff: 0.2953 - val_loss: 0.5598 - val_dice_coeff: 0.3036\n",
      "Epoch 34/100\n",
      "3/3 [==============================] - 3s 1s/step - loss: 0.5600 - dice_coeff: 0.2994 - val_loss: 0.5554 - val_dice_coeff: 0.3068\n",
      "Epoch 35/100\n",
      "3/3 [==============================] - 3s 1s/step - loss: 0.5543 - dice_coeff: 0.3027 - val_loss: 0.5479 - val_dice_coeff: 0.3092\n",
      "Epoch 36/100\n",
      "3/3 [==============================] - 3s 1s/step - loss: 0.5446 - dice_coeff: 0.3071 - val_loss: 0.5379 - val_dice_coeff: 0.3077\n",
      "Epoch 37/100\n",
      "3/3 [==============================] - 3s 1s/step - loss: 0.5322 - dice_coeff: 0.3136 - val_loss: 0.5201 - val_dice_coeff: 0.3217\n",
      "Epoch 38/100\n",
      "3/3 [==============================] - 3s 1s/step - loss: 0.5114 - dice_coeff: 0.3295 - val_loss: 0.5022 - val_dice_coeff: 0.3385\n",
      "Epoch 39/100\n",
      "3/3 [==============================] - 3s 1s/step - loss: 0.5013 - dice_coeff: 0.3493 - val_loss: 0.5036 - val_dice_coeff: 0.3452\n",
      "Epoch 40/100\n",
      "3/3 [==============================] - 3s 1s/step - loss: 0.4917 - dice_coeff: 0.3628 - val_loss: 0.4700 - val_dice_coeff: 0.3874\n",
      "Epoch 41/100\n",
      "3/3 [==============================] - 3s 1s/step - loss: 0.4722 - dice_coeff: 0.3767 - val_loss: 0.4787 - val_dice_coeff: 0.3955\n",
      "Epoch 42/100\n",
      "3/3 [==============================] - 3s 1s/step - loss: 0.4650 - dice_coeff: 0.3957 - val_loss: 0.4824 - val_dice_coeff: 0.3782\n",
      "Epoch 43/100\n",
      "3/3 [==============================] - 3s 1s/step - loss: 0.4706 - dice_coeff: 0.3918 - val_loss: 0.4580 - val_dice_coeff: 0.4122\n",
      "Epoch 44/100\n",
      "3/3 [==============================] - 3s 1s/step - loss: 0.4558 - dice_coeff: 0.4019 - val_loss: 0.4420 - val_dice_coeff: 0.4176\n",
      "Epoch 45/100\n",
      "3/3 [==============================] - 3s 1s/step - loss: 0.4518 - dice_coeff: 0.4128 - val_loss: 0.4390 - val_dice_coeff: 0.4208\n",
      "Epoch 46/100\n",
      "3/3 [==============================] - 3s 1s/step - loss: 0.4424 - dice_coeff: 0.4137 - val_loss: 0.4405 - val_dice_coeff: 0.4292\n",
      "Epoch 47/100\n",
      "3/3 [==============================] - 3s 1s/step - loss: 0.4354 - dice_coeff: 0.4280 - val_loss: 0.4352 - val_dice_coeff: 0.4291\n",
      "Epoch 48/100\n",
      "3/3 [==============================] - 3s 1s/step - loss: 0.4320 - dice_coeff: 0.4305 - val_loss: 0.4335 - val_dice_coeff: 0.4394\n",
      "Epoch 49/100\n",
      "3/3 [==============================] - 3s 1s/step - loss: 0.4281 - dice_coeff: 0.4360 - val_loss: 0.4242 - val_dice_coeff: 0.4443\n",
      "Epoch 50/100\n",
      "3/3 [==============================] - 3s 1s/step - loss: 0.4207 - dice_coeff: 0.4431 - val_loss: 0.4226 - val_dice_coeff: 0.4490\n",
      "Epoch 51/100\n",
      "3/3 [==============================] - 3s 1s/step - loss: 0.4174 - dice_coeff: 0.4467 - val_loss: 0.4188 - val_dice_coeff: 0.4509\n",
      "Epoch 52/100\n",
      "3/3 [==============================] - 3s 1s/step - loss: 0.4153 - dice_coeff: 0.4495 - val_loss: 0.4203 - val_dice_coeff: 0.4469\n",
      "Epoch 53/100\n",
      "3/3 [==============================] - 3s 1s/step - loss: 0.4139 - dice_coeff: 0.4513 - val_loss: 0.4141 - val_dice_coeff: 0.4592\n",
      "Epoch 54/100\n",
      "3/3 [==============================] - 3s 1s/step - loss: 0.4086 - dice_coeff: 0.4563 - val_loss: 0.4138 - val_dice_coeff: 0.4613\n",
      "Epoch 55/100\n",
      "3/3 [==============================] - 3s 1s/step - loss: 0.4060 - dice_coeff: 0.4606 - val_loss: 0.4106 - val_dice_coeff: 0.4624\n",
      "Epoch 56/100\n",
      "3/3 [==============================] - 3s 1s/step - loss: 0.4048 - dice_coeff: 0.4629 - val_loss: 0.4105 - val_dice_coeff: 0.4606\n",
      "Epoch 57/100\n",
      "3/3 [==============================] - 3s 1s/step - loss: 0.4037 - dice_coeff: 0.4616 - val_loss: 0.4221 - val_dice_coeff: 0.4625\n",
      "Epoch 58/100\n",
      "3/3 [==============================] - 3s 1s/step - loss: 0.4080 - dice_coeff: 0.4608 - val_loss: 0.4074 - val_dice_coeff: 0.4680\n",
      "Epoch 59/100\n",
      "3/3 [==============================] - 3s 1s/step - loss: 0.4016 - dice_coeff: 0.4654 - val_loss: 0.4073 - val_dice_coeff: 0.4660\n",
      "Epoch 60/100\n",
      "3/3 [==============================] - 3s 1s/step - loss: 0.3982 - dice_coeff: 0.4683 - val_loss: 0.4129 - val_dice_coeff: 0.4680\n",
      "Epoch 61/100\n",
      "3/3 [==============================] - 3s 1s/step - loss: 0.3990 - dice_coeff: 0.4692 - val_loss: 0.4033 - val_dice_coeff: 0.4695\n",
      "Epoch 62/100\n",
      "3/3 [==============================] - 3s 1s/step - loss: 0.3954 - dice_coeff: 0.4719 - val_loss: 0.4002 - val_dice_coeff: 0.4746\n",
      "Epoch 63/100\n",
      "3/3 [==============================] - 3s 1s/step - loss: 0.3907 - dice_coeff: 0.4757 - val_loss: 0.3997 - val_dice_coeff: 0.4755\n",
      "Epoch 64/100\n",
      "3/3 [==============================] - 3s 1s/step - loss: 0.3911 - dice_coeff: 0.4773 - val_loss: 0.3985 - val_dice_coeff: 0.4788\n",
      "Epoch 65/100\n",
      "3/3 [==============================] - 3s 1s/step - loss: 0.3917 - dice_coeff: 0.4749 - val_loss: 0.4116 - val_dice_coeff: 0.4720\n",
      "Model saved to: /tmp/tmpur466i7gGP2/attunet_0attunet_model\n",
      "History saved to: /tmp/tmpur466i7gGP2/attunet_history_0.pkl\n",
      "Testing the classifier...\n",
      "****** TRAINING DISCRIMINATOR ******\n",
      "Model saved to /tmp/tmpur466i7gGP2/cnnd_0.model\n",
      "History saved to /tmp/tmpur466i7gGP2/cnnd_history_0.pickle\n",
      "Testing the discriminator...\n",
      "7/7 [==============================] - 0s 52ms/step - loss: 0.0000e+00 - accuracy: 1.0000\n",
      "Replacing 36 from 108 !\n",
      "D_relabeled_ 36\n",
      "point ids 36\n",
      "Removed: 36 Filled: 36\n",
      "TOOK 577.6786329746246 seconds\n",
      "==== DONE LOOP 1 ====\n",
      "******\n",
      "Loop 2\n",
      "Epoch 1/100\n",
      "4/4 [==============================] - 8s 2s/step - loss: 0.3928 - dice_coeff: 0.4649 - val_loss: 0.4026 - val_dice_coeff: 0.4765\n",
      "Epoch 2/100\n",
      "4/4 [==============================] - 3s 832ms/step - loss: 0.3856 - dice_coeff: 0.4739 - val_loss: 0.3920 - val_dice_coeff: 0.4803\n",
      "Epoch 3/100\n",
      "4/4 [==============================] - 3s 840ms/step - loss: 0.3840 - dice_coeff: 0.4729 - val_loss: 0.3891 - val_dice_coeff: 0.4851\n",
      "Epoch 4/100\n",
      "4/4 [==============================] - 3s 848ms/step - loss: 0.3767 - dice_coeff: 0.4847 - val_loss: 0.3861 - val_dice_coeff: 0.4878\n",
      "Epoch 5/100\n",
      "4/4 [==============================] - 3s 837ms/step - loss: 0.3734 - dice_coeff: 0.4876 - val_loss: 0.3849 - val_dice_coeff: 0.4873\n",
      "Epoch 6/100\n",
      "4/4 [==============================] - 3s 866ms/step - loss: 0.3702 - dice_coeff: 0.4892 - val_loss: 0.3867 - val_dice_coeff: 0.4923\n",
      "Epoch 7/100\n",
      "4/4 [==============================] - 3s 808ms/step - loss: 0.3748 - dice_coeff: 0.4872 - val_loss: 0.4082 - val_dice_coeff: 0.4795\n",
      "Epoch 8/100\n",
      "4/4 [==============================] - 3s 806ms/step - loss: 0.3758 - dice_coeff: 0.4843 - val_loss: 0.3819 - val_dice_coeff: 0.4927\n",
      "Model saved to: /tmp/tmpur466i7gGP2/attunet_1attunet_model\n",
      "History saved to: /tmp/tmpur466i7gGP2/attunet_history_1.pkl\n",
      "Testing the classifier...\n",
      "Testing the discriminator...\n",
      "7/7 [==============================] - 0s 42ms/step - loss: 324.7096 - accuracy: 0.5231\n",
      "No machine labels found. Skipping step 6.\n",
      "No more machine labels.\n",
      "TOOK 107.16265082359314 seconds\n"
     ]
    }
   ],
   "source": [
    "R.run(images=images, masks=masks, weights=weights, runs=8)"
   ]
  },
  {
   "cell_type": "code",
   "execution_count": null,
   "id": "dab6fd49",
   "metadata": {},
   "outputs": [],
   "source": []
  },
  {
   "cell_type": "code",
   "execution_count": 9,
   "id": "00075332",
   "metadata": {},
   "outputs": [
    {
     "data": {
      "text/plain": [
       "[[0.3712693750858307, 0.4465622007846832],\n",
       " [0.3394429087638855, 0.47218817472457886]]"
      ]
     },
     "execution_count": 9,
     "metadata": {},
     "output_type": "execute_result"
    }
   ],
   "source": [
    "R.classifier_scores"
   ]
  },
  {
   "cell_type": "code",
   "execution_count": 10,
   "id": "35105656",
   "metadata": {},
   "outputs": [
    {
     "data": {
      "text/plain": [
       "[[0.0, 1.0], [324.7096252441406, 0.5231481194496155]]"
      ]
     },
     "execution_count": 10,
     "metadata": {},
     "output_type": "execute_result"
    }
   ],
   "source": [
    "R.discriminator_scores"
   ]
  },
  {
   "cell_type": "code",
   "execution_count": null,
   "id": "e256ed4d",
   "metadata": {},
   "outputs": [],
   "source": []
  },
  {
   "cell_type": "code",
   "execution_count": 11,
   "id": "c83bb28d",
   "metadata": {},
   "outputs": [
    {
     "data": {
      "image/png": "[encoded data removed]",
      "text/plain": [
       "<Figure size 240x240 with 1 Axes>"
      ]
     },
     "metadata": {
      "needs_background": "light"
     },
     "output_type": "display_data"
    }
   ],
   "source": [
    "R.plot()"
   ]
  },
  {
   "cell_type": "code",
   "execution_count": null,
   "id": "7f3b4a58",
   "metadata": {},
   "outputs": [],
   "source": []
  }
 ],
 "metadata": {
  "kernelspec": {
   "display_name": "Python 3 (ipykernel)",
   "language": "python",
   "name": "python3"
  },
  "language_info": {
   "codemirror_mode": {
    "name": "ipython",
    "version": 3
   },
   "file_extension": ".py",
   "mimetype": "text/x-python",
   "name": "python",
   "nbconvert_exporter": "python",
   "pygments_lexer": "ipython3",
   "version": "3.9.7"
  }
 },
 "nbformat": 4,
 "nbformat_minor": 5
}
