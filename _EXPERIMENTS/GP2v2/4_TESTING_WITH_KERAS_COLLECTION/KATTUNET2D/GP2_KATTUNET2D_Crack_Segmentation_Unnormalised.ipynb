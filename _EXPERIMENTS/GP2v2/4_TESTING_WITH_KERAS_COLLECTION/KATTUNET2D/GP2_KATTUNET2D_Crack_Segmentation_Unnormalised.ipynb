{
 "cells": [
  {
   "cell_type": "code",
   "execution_count": 1,
   "id": "06c4accc",
   "metadata": {},
   "outputs": [
    {
     "name": "stdout",
     "output_type": "stream",
     "text": [
      "Populating the interactive namespace from numpy and matplotlib\n"
     ]
    }
   ],
   "source": [
    "%pylab inline\n",
    "%load_ext autoreload\n",
    "%autoreload 2"
   ]
  },
  {
   "cell_type": "code",
   "execution_count": 2,
   "id": "b9e78ed8",
   "metadata": {},
   "outputs": [],
   "source": [
    "import time\n",
    "import sys\n",
    "sys.path.insert(0,'../../../..')\n",
    "from omama import gp2\n",
    "from omama.gp2 import Runner\n",
    "from keras import losses, metrics\n",
    "from tensorflow.keras import optimizers"
   ]
  },
  {
   "cell_type": "code",
   "execution_count": 3,
   "id": "bdc75325",
   "metadata": {},
   "outputs": [
    {
     "name": "stdout",
     "output_type": "stream",
     "text": [
      "*** GP2 KATTUnet2D ***\n",
      "Working directory: /tmp/tmpt4e69y9dGP2\n",
      "Using default discriminator (CNN)\n"
     ]
    }
   ],
   "source": [
    "R = Runner(classifier='kattunet2d',\n",
    "           filter_num=[16, 32, 64, 128, 256],\n",
    "           stack_num_down=2,\n",
    "           stack_num_up=2,\n",
    "           activation='ReLU',\n",
    "           atten_activation='ReLU',\n",
    "           attention='add',\n",
    "           output_activation='Sigmoid',\n",
    "           batch_norm=False,\n",
    "           pool=False,\n",
    "           unpool=False,\n",
    "           weights='imagenet',\n",
    "           optimizer= None, #None = default is optimizers.Adam(learning_rate=1e-3)\n",
    "           loss=None, #None = default is losses.binary_crossentropy\n",
    "           metric=None # None = default is Util.dice_coef\n",
    "          )"
   ]
  },
  {
   "cell_type": "code",
   "execution_count": 4,
   "id": "87b0c65d",
   "metadata": {},
   "outputs": [],
   "source": [
    "# load our larger toy dataset (10k images and masks)\n",
    "images = np.load('/hpcstor6/scratch01/p/poornendu.pabbati001/crack_segmentation_dataset/Crack_images_final_unn.npy')\n",
    "masks = np.load('/hpcstor6/scratch01/p/poornendu.pabbati001/crack_segmentation_dataset/Crack_masks_final_unn.npy')"
   ]
  },
  {
   "cell_type": "code",
   "execution_count": null,
   "id": "7330ad24",
   "metadata": {},
   "outputs": [],
   "source": []
  },
  {
   "cell_type": "code",
   "execution_count": 5,
   "id": "d5b4179a",
   "metadata": {},
   "outputs": [
    {
     "data": {
      "text/plain": [
       "(11298, 512, 512, 1)"
      ]
     },
     "execution_count": 5,
     "metadata": {},
     "output_type": "execute_result"
    }
   ],
   "source": [
    "images.shape"
   ]
  },
  {
   "cell_type": "code",
   "execution_count": 6,
   "id": "57033c4e",
   "metadata": {},
   "outputs": [
    {
     "data": {
      "text/plain": [
       "(11298, 512, 512, 1)"
      ]
     },
     "execution_count": 6,
     "metadata": {},
     "output_type": "execute_result"
    }
   ],
   "source": [
    "masks.shape"
   ]
  },
  {
   "cell_type": "code",
   "execution_count": 7,
   "id": "1dd71668",
   "metadata": {},
   "outputs": [],
   "source": [
    "weights = {\n",
    "    'A': 0.5,\n",
    "    'A_train': 0.1,\n",
    "    'A_val': 0.3,\n",
    "    'A_test': 0.6,\n",
    "    'B': 0.3,\n",
    "    'B_train': 0.7,\n",
    "    'B_val': 0.1,\n",
    "    'B_test': 0.2,\n",
    "    'Z': 0.2\n",
    "}"
   ]
  },
  {
   "cell_type": "code",
   "execution_count": 8,
   "id": "d8ff85c4",
   "metadata": {
    "scrolled": true
   },
   "outputs": [
    {
     "name": "stdout",
     "output_type": "stream",
     "text": [
      "Weights OK!\n",
      "******\n",
      "Loop 1\n",
      "Epoch 1/100\n",
      "9/9 [==============================] - 29s 2s/step - loss: 0.2568 - dice_coeff: 0.1093 - val_loss: 0.2902 - val_dice_coeff: 0.1292\n",
      "Epoch 2/100\n",
      "9/9 [==============================] - 8s 962ms/step - loss: 0.2231 - dice_coeff: 0.0969 - val_loss: 0.2741 - val_dice_coeff: 0.1201\n",
      "Epoch 3/100\n",
      "9/9 [==============================] - 8s 963ms/step - loss: 0.2122 - dice_coeff: 0.1015 - val_loss: 0.2600 - val_dice_coeff: 0.1347\n",
      "Epoch 4/100\n",
      "9/9 [==============================] - 8s 956ms/step - loss: 0.2042 - dice_coeff: 0.1132 - val_loss: 0.2549 - val_dice_coeff: 0.1381\n",
      "Epoch 5/100\n",
      "9/9 [==============================] - 8s 997ms/step - loss: 0.1991 - dice_coeff: 0.1189 - val_loss: 0.2497 - val_dice_coeff: 0.1414\n",
      "Epoch 6/100\n",
      "9/9 [==============================] - 8s 970ms/step - loss: 0.1947 - dice_coeff: 0.1238 - val_loss: 0.2432 - val_dice_coeff: 0.1485\n",
      "Epoch 7/100\n",
      "9/9 [==============================] - 8s 977ms/step - loss: 0.1915 - dice_coeff: 0.1287 - val_loss: 0.2421 - val_dice_coeff: 0.1492\n",
      "Epoch 8/100\n",
      "9/9 [==============================] - 8s 969ms/step - loss: 0.1892 - dice_coeff: 0.1341 - val_loss: 0.2392 - val_dice_coeff: 0.1535\n",
      "Epoch 9/100\n",
      "9/9 [==============================] - 8s 957ms/step - loss: 0.1872 - dice_coeff: 0.1389 - val_loss: 0.2376 - val_dice_coeff: 0.1557\n",
      "Epoch 10/100\n",
      "9/9 [==============================] - 8s 970ms/step - loss: 0.1857 - dice_coeff: 0.1414 - val_loss: 0.2324 - val_dice_coeff: 0.1626\n",
      "Epoch 11/100\n",
      "9/9 [==============================] - 8s 972ms/step - loss: 0.1834 - dice_coeff: 0.1455 - val_loss: 0.2308 - val_dice_coeff: 0.1691\n",
      "Epoch 12/100\n",
      "9/9 [==============================] - 9s 1s/step - loss: 0.1802 - dice_coeff: 0.1544 - val_loss: 0.2275 - val_dice_coeff: 0.1812\n",
      "Epoch 13/100\n",
      "9/9 [==============================] - 9s 1s/step - loss: 0.1786 - dice_coeff: 0.1644 - val_loss: 0.2229 - val_dice_coeff: 0.1863\n",
      "Epoch 14/100\n",
      "9/9 [==============================] - 8s 969ms/step - loss: 0.1758 - dice_coeff: 0.1766 - val_loss: 0.2327 - val_dice_coeff: 0.2022\n",
      "Epoch 15/100\n",
      "9/9 [==============================] - 8s 987ms/step - loss: 0.1770 - dice_coeff: 0.1752 - val_loss: 0.2219 - val_dice_coeff: 0.1867\n",
      "Epoch 16/100\n",
      "9/9 [==============================] - 9s 1s/step - loss: 0.1698 - dice_coeff: 0.1802 - val_loss: 0.2164 - val_dice_coeff: 0.2114\n",
      "Epoch 17/100\n",
      "9/9 [==============================] - 8s 989ms/step - loss: 0.1599 - dice_coeff: 0.2132 - val_loss: 0.2054 - val_dice_coeff: 0.2498\n",
      "Epoch 18/100\n",
      "9/9 [==============================] - 8s 991ms/step - loss: 0.1695 - dice_coeff: 0.2052 - val_loss: 0.2100 - val_dice_coeff: 0.2185\n",
      "Epoch 19/100\n",
      "9/9 [==============================] - 8s 985ms/step - loss: 0.1599 - dice_coeff: 0.2228 - val_loss: 0.2166 - val_dice_coeff: 0.2412\n",
      "Epoch 20/100\n",
      "9/9 [==============================] - 9s 1s/step - loss: 0.1582 - dice_coeff: 0.2464 - val_loss: 0.2096 - val_dice_coeff: 0.2483\n",
      "Epoch 21/100\n",
      "9/9 [==============================] - 8s 963ms/step - loss: 0.1500 - dice_coeff: 0.2569 - val_loss: 0.1993 - val_dice_coeff: 0.2858\n",
      "Epoch 22/100\n",
      "9/9 [==============================] - 8s 987ms/step - loss: 0.1335 - dice_coeff: 0.3156 - val_loss: 0.2054 - val_dice_coeff: 0.3311\n",
      "Epoch 23/100\n",
      "9/9 [==============================] - 9s 1s/step - loss: 0.1422 - dice_coeff: 0.3359 - val_loss: 0.1986 - val_dice_coeff: 0.3231\n",
      "Epoch 24/100\n",
      "9/9 [==============================] - 8s 986ms/step - loss: 0.1394 - dice_coeff: 0.3078 - val_loss: 0.1941 - val_dice_coeff: 0.3160\n",
      "Model saved to: /tmp/tmpt4e69y9dGP2/attunet_0attunet_model\n",
      "History saved to: /tmp/tmpt4e69y9dGP2/attunet_history_0.pkl\n",
      "Testing the classifier...\n",
      "****** TRAINING DISCRIMINATOR ******\n",
      "Model saved to /tmp/tmpt4e69y9dGP2/cnnd_0.model\n",
      "History saved to /tmp/tmpt4e69y9dGP2/cnnd_history_0.pickle\n",
      "Testing the discriminator...\n",
      "22/22 [==============================] - 1s 46ms/step - loss: 0.0256 - accuracy: 0.9941\n",
      "Replacing 118 from 354 !\n",
      "D_relabeled_ 118\n",
      "point ids 118\n",
      "Removed: 118 Filled: 118\n",
      "TOOK 544.8406217098236 seconds\n",
      "==== DONE LOOP 1 ====\n",
      "******\n",
      "Loop 2\n",
      "Epoch 1/100\n",
      "11/11 [==============================] - 16s 2s/step - loss: 0.1432 - dice_coeff: 0.3186 - val_loss: 0.1898 - val_dice_coeff: 0.3397\n",
      "Epoch 2/100\n",
      "11/11 [==============================] - 9s 896ms/step - loss: 0.1363 - dice_coeff: 0.3246 - val_loss: 0.1907 - val_dice_coeff: 0.3383\n",
      "Epoch 3/100\n",
      "11/11 [==============================] - 9s 852ms/step - loss: 0.1364 - dice_coeff: 0.3461 - val_loss: 0.2141 - val_dice_coeff: 0.3133\n",
      "Epoch 4/100\n",
      "11/11 [==============================] - 9s 857ms/step - loss: 0.1396 - dice_coeff: 0.3280 - val_loss: 0.1811 - val_dice_coeff: 0.3388\n",
      "Model saved to: /tmp/tmpt4e69y9dGP2/attunet_1attunet_model\n",
      "History saved to: /tmp/tmpt4e69y9dGP2/attunet_history_1.pkl\n",
      "Testing the classifier...\n",
      "Testing the discriminator...\n",
      "22/22 [==============================] - 1s 49ms/step - loss: 0.0281 - accuracy: 0.9911\n",
      "Replacing 114 from 343 !\n",
      "D_relabeled_ 114\n",
      "point ids 114\n",
      "Removed: 114 Filled: 114\n",
      "TOOK 148.2532467842102 seconds\n",
      "==== DONE LOOP 2 ====\n",
      "******\n",
      "Loop 3\n",
      "Epoch 1/100\n",
      "13/13 [==============================] - 16s 1s/step - loss: 0.1407 - dice_coeff: 0.3424 - val_loss: 0.1766 - val_dice_coeff: 0.3663\n",
      "Epoch 2/100\n",
      "13/13 [==============================] - 10s 791ms/step - loss: 0.1322 - dice_coeff: 0.3591 - val_loss: 0.1768 - val_dice_coeff: 0.3862\n",
      "Epoch 3/100\n",
      "13/13 [==============================] - 10s 770ms/step - loss: 0.1285 - dice_coeff: 0.3867 - val_loss: 0.1876 - val_dice_coeff: 0.3693\n",
      "Epoch 4/100\n",
      "13/13 [==============================] - 10s 771ms/step - loss: 0.1278 - dice_coeff: 0.3888 - val_loss: 0.1763 - val_dice_coeff: 0.3705\n",
      "Epoch 5/100\n",
      "13/13 [==============================] - 10s 807ms/step - loss: 0.1247 - dice_coeff: 0.4044 - val_loss: 0.1835 - val_dice_coeff: 0.3989\n",
      "Epoch 6/100\n",
      "13/13 [==============================] - 10s 788ms/step - loss: 0.1220 - dice_coeff: 0.4091 - val_loss: 0.1646 - val_dice_coeff: 0.4398\n",
      "Epoch 7/100\n",
      "13/13 [==============================] - 10s 811ms/step - loss: 0.1259 - dice_coeff: 0.4126 - val_loss: 0.1686 - val_dice_coeff: 0.4008\n",
      "Epoch 8/100\n",
      "13/13 [==============================] - 10s 783ms/step - loss: 0.1178 - dice_coeff: 0.4360 - val_loss: 0.1607 - val_dice_coeff: 0.4464\n",
      "Epoch 9/100\n",
      "13/13 [==============================] - 10s 808ms/step - loss: 0.1144 - dice_coeff: 0.4625 - val_loss: 0.1640 - val_dice_coeff: 0.4197\n",
      "Epoch 10/100\n",
      "13/13 [==============================] - 10s 800ms/step - loss: 0.1101 - dice_coeff: 0.4696 - val_loss: 0.1617 - val_dice_coeff: 0.4752\n",
      "Epoch 11/100\n",
      "13/13 [==============================] - 10s 780ms/step - loss: 0.1078 - dice_coeff: 0.4878 - val_loss: 0.1613 - val_dice_coeff: 0.4508\n",
      "Epoch 12/100\n",
      "13/13 [==============================] - 10s 808ms/step - loss: 0.1056 - dice_coeff: 0.4903 - val_loss: 0.1677 - val_dice_coeff: 0.4833\n",
      "Epoch 13/100\n",
      "13/13 [==============================] - 10s 795ms/step - loss: 0.1065 - dice_coeff: 0.5016 - val_loss: 0.1754 - val_dice_coeff: 0.4195\n",
      "Epoch 14/100\n",
      "13/13 [==============================] - 10s 773ms/step - loss: 0.1040 - dice_coeff: 0.4983 - val_loss: 0.1768 - val_dice_coeff: 0.4180\n",
      "Epoch 15/100\n",
      "13/13 [==============================] - 10s 808ms/step - loss: 0.1029 - dice_coeff: 0.5075 - val_loss: 0.1532 - val_dice_coeff: 0.4855\n",
      "Epoch 16/100\n",
      "13/13 [==============================] - 10s 797ms/step - loss: 0.0989 - dice_coeff: 0.5236 - val_loss: 0.1795 - val_dice_coeff: 0.4445\n",
      "Epoch 17/100\n",
      "13/13 [==============================] - 10s 810ms/step - loss: 0.0986 - dice_coeff: 0.5296 - val_loss: 0.1631 - val_dice_coeff: 0.4688\n",
      "Epoch 18/100\n",
      "13/13 [==============================] - 10s 781ms/step - loss: 0.0956 - dice_coeff: 0.5427 - val_loss: 0.1493 - val_dice_coeff: 0.4969\n",
      "Epoch 19/100\n",
      "13/13 [==============================] - 10s 814ms/step - loss: 0.0955 - dice_coeff: 0.5407 - val_loss: 0.1511 - val_dice_coeff: 0.5027\n",
      "Epoch 20/100\n",
      "13/13 [==============================] - 10s 796ms/step - loss: 0.0946 - dice_coeff: 0.5476 - val_loss: 0.1496 - val_dice_coeff: 0.5031\n",
      "Epoch 21/100\n",
      "13/13 [==============================] - 10s 799ms/step - loss: 0.0918 - dice_coeff: 0.5593 - val_loss: 0.1650 - val_dice_coeff: 0.4821\n",
      "Epoch 22/100\n",
      "13/13 [==============================] - 10s 798ms/step - loss: 0.0905 - dice_coeff: 0.5606 - val_loss: 0.1695 - val_dice_coeff: 0.4516\n",
      "Epoch 23/100\n",
      "13/13 [==============================] - 10s 784ms/step - loss: 0.0903 - dice_coeff: 0.5666 - val_loss: 0.1437 - val_dice_coeff: 0.5299\n",
      "Epoch 24/100\n",
      "13/13 [==============================] - 10s 822ms/step - loss: 0.0890 - dice_coeff: 0.5706 - val_loss: 0.1683 - val_dice_coeff: 0.4714\n",
      "Epoch 25/100\n",
      "13/13 [==============================] - 10s 781ms/step - loss: 0.0881 - dice_coeff: 0.5748 - val_loss: 0.1935 - val_dice_coeff: 0.4612\n",
      "Epoch 26/100\n",
      "13/13 [==============================] - 10s 803ms/step - loss: 0.0924 - dice_coeff: 0.5580 - val_loss: 0.1592 - val_dice_coeff: 0.5034\n",
      "Epoch 27/100\n",
      "13/13 [==============================] - 10s 790ms/step - loss: 0.0900 - dice_coeff: 0.5683 - val_loss: 0.1583 - val_dice_coeff: 0.4991\n",
      "Model saved to: /tmp/tmpt4e69y9dGP2/attunet_2attunet_model\n",
      "History saved to: /tmp/tmpt4e69y9dGP2/attunet_history_2.pkl\n",
      "Testing the classifier...\n",
      "Testing the discriminator...\n",
      "22/22 [==============================] - 1s 44ms/step - loss: 0.7486 - accuracy: 0.9808\n",
      "Replacing 109 from 327 !\n",
      "D_relabeled_ 109\n",
      "point ids 109\n",
      "Removed: 109 Filled: 109\n",
      "TOOK 388.2735438346863 seconds\n",
      "==== DONE LOOP 3 ====\n",
      "******\n",
      "Loop 4\n",
      "Epoch 1/100\n",
      "15/15 [==============================] - 15s 1s/step - loss: 0.0963 - dice_coeff: 0.5437 - val_loss: 0.1402 - val_dice_coeff: 0.5294\n",
      "Epoch 2/100\n",
      "15/15 [==============================] - 11s 726ms/step - loss: 0.0956 - dice_coeff: 0.5571 - val_loss: 0.1395 - val_dice_coeff: 0.5266\n",
      "Epoch 3/100\n",
      "15/15 [==============================] - 11s 771ms/step - loss: 0.0907 - dice_coeff: 0.5726 - val_loss: 0.1614 - val_dice_coeff: 0.4918\n",
      "Epoch 4/100\n",
      "15/15 [==============================] - 11s 724ms/step - loss: 0.0908 - dice_coeff: 0.5754 - val_loss: 0.1714 - val_dice_coeff: 0.4884\n",
      "Epoch 5/100\n",
      "15/15 [==============================] - 11s 719ms/step - loss: 0.0902 - dice_coeff: 0.5758 - val_loss: 0.1511 - val_dice_coeff: 0.5186\n",
      "Epoch 6/100\n",
      "15/15 [==============================] - 10s 719ms/step - loss: 0.0885 - dice_coeff: 0.5823 - val_loss: 0.1539 - val_dice_coeff: 0.5253\n",
      "Epoch 7/100\n",
      "15/15 [==============================] - 11s 768ms/step - loss: 0.0901 - dice_coeff: 0.5780 - val_loss: 0.1865 - val_dice_coeff: 0.4685\n",
      "Epoch 8/100\n",
      "15/15 [==============================] - 11s 739ms/step - loss: 0.0922 - dice_coeff: 0.5626 - val_loss: 0.1581 - val_dice_coeff: 0.5037\n",
      "Model saved to: /tmp/tmpt4e69y9dGP2/attunet_3attunet_model\n",
      "History saved to: /tmp/tmpt4e69y9dGP2/attunet_history_3.pkl\n",
      "Testing the classifier...\n",
      "Testing the discriminator...\n",
      "22/22 [==============================] - 1s 42ms/step - loss: 1.0744 - accuracy: 0.9705\n",
      "Replacing 105 from 316 !\n",
      "D_relabeled_ 105\n",
      "point ids 105\n",
      "Removed: 105 Filled: 105\n",
      "TOOK 209.21732091903687 seconds\n",
      "==== DONE LOOP 4 ====\n",
      "******\n",
      "Loop 5\n",
      "Epoch 1/100\n",
      "16/16 [==============================] - 19s 1s/step - loss: 0.0922 - dice_coeff: 0.5624 - val_loss: 0.1363 - val_dice_coeff: 0.5506\n",
      "Epoch 2/100\n",
      "16/16 [==============================] - 12s 759ms/step - loss: 0.0886 - dice_coeff: 0.5803 - val_loss: 0.1481 - val_dice_coeff: 0.5176\n",
      "Epoch 3/100\n",
      "16/16 [==============================] - 12s 763ms/step - loss: 0.0886 - dice_coeff: 0.5781 - val_loss: 0.1450 - val_dice_coeff: 0.5213\n",
      "Epoch 4/100\n",
      "16/16 [==============================] - 12s 740ms/step - loss: 0.0849 - dice_coeff: 0.5887 - val_loss: 0.1513 - val_dice_coeff: 0.5176\n",
      "Epoch 5/100\n",
      "16/16 [==============================] - 12s 749ms/step - loss: 0.0844 - dice_coeff: 0.5972 - val_loss: 0.1425 - val_dice_coeff: 0.5558\n",
      "Epoch 6/100\n",
      "16/16 [==============================] - 12s 766ms/step - loss: 0.0829 - dice_coeff: 0.5984 - val_loss: 0.1456 - val_dice_coeff: 0.5344\n",
      "Epoch 7/100\n",
      "16/16 [==============================] - 12s 760ms/step - loss: 0.0835 - dice_coeff: 0.6018 - val_loss: 0.1467 - val_dice_coeff: 0.5453\n",
      "Epoch 8/100\n",
      "16/16 [==============================] - 12s 769ms/step - loss: 0.0812 - dice_coeff: 0.6102 - val_loss: 0.1361 - val_dice_coeff: 0.5593\n",
      "Epoch 9/100\n",
      "16/16 [==============================] - 12s 765ms/step - loss: 0.0820 - dice_coeff: 0.6024 - val_loss: 0.1435 - val_dice_coeff: 0.5508\n",
      "Epoch 10/100\n",
      "16/16 [==============================] - 12s 778ms/step - loss: 0.0803 - dice_coeff: 0.6128 - val_loss: 0.1458 - val_dice_coeff: 0.5337\n",
      "Epoch 11/100\n",
      "16/16 [==============================] - 12s 768ms/step - loss: 0.0780 - dice_coeff: 0.6207 - val_loss: 0.1357 - val_dice_coeff: 0.5648\n",
      "Epoch 12/100\n",
      "16/16 [==============================] - 12s 776ms/step - loss: 0.0790 - dice_coeff: 0.6207 - val_loss: 0.1603 - val_dice_coeff: 0.5285\n",
      "Epoch 13/100\n",
      "16/16 [==============================] - 12s 746ms/step - loss: 0.0788 - dice_coeff: 0.6182 - val_loss: 0.1283 - val_dice_coeff: 0.5910\n",
      "Model saved to: /tmp/tmpt4e69y9dGP2/attunet_4attunet_model\n",
      "History saved to: /tmp/tmpt4e69y9dGP2/attunet_history_4.pkl\n",
      "Testing the classifier...\n",
      "Testing the discriminator...\n",
      "22/22 [==============================] - 1s 44ms/step - loss: 2.5550 - accuracy: 0.9394\n",
      "Replacing 101 from 304 !\n",
      "D_relabeled_ 101\n",
      "point ids 101\n",
      "Removed: 101 Filled: 101\n",
      "TOOK 267.40437388420105 seconds\n",
      "==== DONE LOOP 5 ====\n",
      "******\n",
      "Loop 6\n",
      "Epoch 1/100\n",
      "18/18 [==============================] - 17s 984ms/step - loss: 0.0803 - dice_coeff: 0.6122 - val_loss: 0.1727 - val_dice_coeff: 0.5192\n",
      "Epoch 2/100\n",
      "18/18 [==============================] - 12s 671ms/step - loss: 0.0790 - dice_coeff: 0.6139 - val_loss: 0.1463 - val_dice_coeff: 0.5489\n",
      "Epoch 3/100\n",
      "18/18 [==============================] - 12s 680ms/step - loss: 0.0769 - dice_coeff: 0.6268 - val_loss: 0.1397 - val_dice_coeff: 0.5673\n",
      "Epoch 4/100\n",
      "18/18 [==============================] - 13s 716ms/step - loss: 0.0774 - dice_coeff: 0.6239 - val_loss: 0.1506 - val_dice_coeff: 0.5609\n",
      "Epoch 5/100\n",
      "18/18 [==============================] - 12s 676ms/step - loss: 0.0779 - dice_coeff: 0.6226 - val_loss: 0.1405 - val_dice_coeff: 0.5735\n",
      "Model saved to: /tmp/tmpt4e69y9dGP2/attunet_5attunet_model\n",
      "History saved to: /tmp/tmpt4e69y9dGP2/attunet_history_5.pkl\n",
      "Testing the classifier...\n",
      "Testing the discriminator...\n",
      "22/22 [==============================] - 1s 43ms/step - loss: 3.4165 - accuracy: 0.9247\n",
      "Replacing 94 from 284 !\n",
      "D_relabeled_ 94\n",
      "point ids 94\n",
      "Removed: 94 Filled: 94\n",
      "TOOK 208.83876776695251 seconds\n",
      "==== DONE LOOP 6 ====\n",
      "******\n",
      "Loop 7\n",
      "Epoch 1/100\n",
      "19/19 [==============================] - 21s 1s/step - loss: 0.0788 - dice_coeff: 0.6150 - val_loss: 0.1499 - val_dice_coeff: 0.5486\n",
      "Epoch 2/100\n",
      "19/19 [==============================] - 13s 681ms/step - loss: 0.0757 - dice_coeff: 0.6287 - val_loss: 0.1657 - val_dice_coeff: 0.5526\n",
      "Epoch 3/100\n",
      "19/19 [==============================] - 13s 681ms/step - loss: 0.0769 - dice_coeff: 0.6244 - val_loss: 0.1638 - val_dice_coeff: 0.5323\n",
      "Epoch 4/100\n",
      "19/19 [==============================] - 13s 697ms/step - loss: 0.0757 - dice_coeff: 0.6288 - val_loss: 0.1557 - val_dice_coeff: 0.5683\n",
      "Epoch 5/100\n",
      "19/19 [==============================] - 13s 695ms/step - loss: 0.0744 - dice_coeff: 0.6342 - val_loss: 0.1543 - val_dice_coeff: 0.5678\n",
      "Epoch 6/100\n",
      "19/19 [==============================] - 13s 703ms/step - loss: 0.0720 - dice_coeff: 0.6460 - val_loss: 0.1393 - val_dice_coeff: 0.5929\n",
      "Epoch 7/100\n",
      "19/19 [==============================] - 14s 725ms/step - loss: 0.0709 - dice_coeff: 0.6492 - val_loss: 0.1509 - val_dice_coeff: 0.5799\n",
      "Epoch 8/100\n",
      "19/19 [==============================] - 13s 697ms/step - loss: 0.0732 - dice_coeff: 0.6443 - val_loss: 0.1459 - val_dice_coeff: 0.5577\n",
      "Epoch 9/100\n",
      "19/19 [==============================] - 13s 693ms/step - loss: 0.0708 - dice_coeff: 0.6497 - val_loss: 0.1463 - val_dice_coeff: 0.5820\n",
      "Epoch 10/100\n",
      "19/19 [==============================] - 13s 703ms/step - loss: 0.0673 - dice_coeff: 0.6667 - val_loss: 0.1383 - val_dice_coeff: 0.5891\n",
      "Epoch 11/100\n",
      "19/19 [==============================] - 13s 717ms/step - loss: 0.0686 - dice_coeff: 0.6619 - val_loss: 0.1676 - val_dice_coeff: 0.5577\n",
      "Epoch 12/100\n",
      "19/19 [==============================] - 13s 692ms/step - loss: 0.0667 - dice_coeff: 0.6677 - val_loss: 0.1404 - val_dice_coeff: 0.5990\n",
      "Epoch 13/100\n"
     ]
    },
    {
     "name": "stdout",
     "output_type": "stream",
     "text": [
      "19/19 [==============================] - 13s 702ms/step - loss: 0.0664 - dice_coeff: 0.6673 - val_loss: 0.1486 - val_dice_coeff: 0.5947\n",
      "Epoch 14/100\n",
      "19/19 [==============================] - 13s 690ms/step - loss: 0.0642 - dice_coeff: 0.6813 - val_loss: 0.1866 - val_dice_coeff: 0.5480\n",
      "Epoch 15/100\n",
      "19/19 [==============================] - 13s 698ms/step - loss: 0.0643 - dice_coeff: 0.6791 - val_loss: 0.1565 - val_dice_coeff: 0.5988\n",
      "Epoch 16/100\n",
      "19/19 [==============================] - 13s 697ms/step - loss: 0.0655 - dice_coeff: 0.6761 - val_loss: 0.1407 - val_dice_coeff: 0.5973\n",
      "Model saved to: /tmp/tmpt4e69y9dGP2/attunet_6attunet_model\n",
      "History saved to: /tmp/tmpt4e69y9dGP2/attunet_history_6.pkl\n",
      "Testing the classifier...\n",
      "Testing the discriminator...\n",
      "22/22 [==============================] - 1s 58ms/step - loss: 2.7377 - accuracy: 0.9350\n",
      "Replacing 102 from 307 !\n",
      "D_relabeled_ 102\n",
      "point ids 102\n",
      "Removed: 102 Filled: 102\n",
      "TOOK 327.7331964969635 seconds\n",
      "==== DONE LOOP 7 ====\n",
      "******\n",
      "Loop 8\n",
      "Epoch 1/100\n",
      "21/21 [==============================] - 19s 924ms/step - loss: 0.0689 - dice_coeff: 0.6543 - val_loss: 0.1629 - val_dice_coeff: 0.5646\n",
      "Epoch 2/100\n",
      "21/21 [==============================] - 13s 652ms/step - loss: 0.0658 - dice_coeff: 0.6703 - val_loss: 0.1655 - val_dice_coeff: 0.5625\n",
      "Epoch 3/100\n",
      "21/21 [==============================] - 14s 674ms/step - loss: 0.0644 - dice_coeff: 0.6743 - val_loss: 0.1513 - val_dice_coeff: 0.5759\n",
      "Epoch 4/100\n",
      "21/21 [==============================] - 14s 659ms/step - loss: 0.0645 - dice_coeff: 0.6751 - val_loss: 0.1598 - val_dice_coeff: 0.5874\n",
      "Epoch 5/100\n",
      "21/21 [==============================] - 14s 660ms/step - loss: 0.0615 - dice_coeff: 0.6897 - val_loss: 0.1827 - val_dice_coeff: 0.5427\n",
      "Epoch 6/100\n",
      "21/21 [==============================] - 14s 671ms/step - loss: 0.0631 - dice_coeff: 0.6828 - val_loss: 0.1833 - val_dice_coeff: 0.5669\n",
      "Epoch 7/100\n",
      "21/21 [==============================] - 14s 670ms/step - loss: 0.0621 - dice_coeff: 0.6848 - val_loss: 0.1388 - val_dice_coeff: 0.6033\n",
      "Model saved to: /tmp/tmpt4e69y9dGP2/attunet_7attunet_model\n",
      "History saved to: /tmp/tmpt4e69y9dGP2/attunet_history_7.pkl\n",
      "Testing the classifier...\n",
      "Testing the discriminator...\n",
      "22/22 [==============================] - 1s 47ms/step - loss: 5.9126 - accuracy: 0.9114\n",
      "Replacing 90 from 272 !\n",
      "D_relabeled_ 90\n",
      "point ids 90\n",
      "Removed: 90 Filled: 90\n",
      "TOOK 210.00099992752075 seconds\n",
      "==== DONE LOOP 8 ====\n"
     ]
    }
   ],
   "source": [
    "R.run(images=images, masks=masks, weights=weights, runs=8)"
   ]
  },
  {
   "cell_type": "code",
   "execution_count": null,
   "id": "dab6fd49",
   "metadata": {},
   "outputs": [],
   "source": []
  },
  {
   "cell_type": "code",
   "execution_count": 9,
   "id": "00075332",
   "metadata": {},
   "outputs": [
    {
     "data": {
      "text/plain": [
       "[[0.18992279469966888, 0.25495755672454834],\n",
       " [0.18500176072120667, 0.2769104838371277],\n",
       " [0.1287761628627777, 0.4494818449020386],\n",
       " [0.12320691347122192, 0.4627113342285156],\n",
       " [0.11357276886701584, 0.51361083984375],\n",
       " [0.11097171157598495, 0.5087186694145203],\n",
       " [0.10533429682254791, 0.5380011200904846],\n",
       " [0.10586469620466232, 0.5308372378349304]]"
      ]
     },
     "execution_count": 9,
     "metadata": {},
     "output_type": "execute_result"
    }
   ],
   "source": [
    "R.classifier_scores"
   ]
  },
  {
   "cell_type": "code",
   "execution_count": 10,
   "id": "35105656",
   "metadata": {},
   "outputs": [
    {
     "data": {
      "text/plain": [
       "[[0.025649605318903923, 0.9940915703773499],\n",
       " [0.02806372568011284, 0.9911373853683472],\n",
       " [0.7486496567726135, 0.9807976484298706],\n",
       " [1.0744441747665405, 0.970457911491394],\n",
       " [2.5550074577331543, 0.9394387006759644],\n",
       " [3.416522741317749, 0.9246676564216614],\n",
       " [2.7376868724823, 0.9350073933601379],\n",
       " [5.912562370300293, 0.9113737344741821]]"
      ]
     },
     "execution_count": 10,
     "metadata": {},
     "output_type": "execute_result"
    }
   ],
   "source": [
    "R.discriminator_scores"
   ]
  },
  {
   "cell_type": "code",
   "execution_count": null,
   "id": "e256ed4d",
   "metadata": {},
   "outputs": [],
   "source": []
  },
  {
   "cell_type": "code",
   "execution_count": 11,
   "id": "c83bb28d",
   "metadata": {},
   "outputs": [
    {
     "data": {
      "image/png": "[encoded data removed]",
      "text/plain": [
       "<Figure size 240x240 with 1 Axes>"
      ]
     },
     "metadata": {
      "needs_background": "light"
     },
     "output_type": "display_data"
    }
   ],
   "source": [
    "R.plot()"
   ]
  },
  {
   "cell_type": "code",
   "execution_count": null,
   "id": "7f3b4a58",
   "metadata": {},
   "outputs": [],
   "source": []
  }
 ],
 "metadata": {
  "kernelspec": {
   "display_name": "Python 3 (ipykernel)",
   "language": "python",
   "name": "python3"
  },
  "language_info": {
   "codemirror_mode": {
    "name": "ipython",
    "version": 3
   },
   "file_extension": ".py",
   "mimetype": "text/x-python",
   "name": "python",
   "nbconvert_exporter": "python",
   "pygments_lexer": "ipython3",
   "version": "3.9.7"
  }
 },
 "nbformat": 4,
 "nbformat_minor": 5
}
