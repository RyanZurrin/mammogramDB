{
 "cells": [
  {
   "cell_type": "code",
   "execution_count": 1,
   "id": "06c4accc",
   "metadata": {},
   "outputs": [
    {
     "name": "stdout",
     "output_type": "stream",
     "text": [
      "Populating the interactive namespace from numpy and matplotlib\n"
     ]
    }
   ],
   "source": [
    "%pylab inline\n",
    "%load_ext autoreload\n",
    "%autoreload 2"
   ]
  },
  {
   "cell_type": "code",
   "execution_count": 2,
   "id": "b9e78ed8",
   "metadata": {},
   "outputs": [],
   "source": [
    "import time\n",
    "import sys\n",
    "sys.path.insert(0,'../../../..')\n",
    "from omama import gp2\n",
    "from omama.gp2 import Runner\n",
    "from keras import losses, metrics\n",
    "from tensorflow.keras import optimizers"
   ]
  },
  {
   "cell_type": "code",
   "execution_count": 3,
   "id": "bdc75325",
   "metadata": {},
   "outputs": [
    {
     "name": "stdout",
     "output_type": "stream",
     "text": [
      "*** GP2  KUNetPlus2D ***\n",
      "Working directory: /tmp/tmpz_p1bj__GP2\n"
     ]
    }
   ],
   "source": [
    "R = Runner(verbose=False, \n",
    "           classifier='kunetplus2d',\n",
    "#            discriminator='cnnplus',\n",
    "           filter_num= [16, 32, 64, 128, 256, 512],\n",
    "           stack_num_down=3, \n",
    "           stack_num_up=3, \n",
    "           activation='ReLU', \n",
    "           output_activation='Sigmoid', \n",
    "           batch_norm=True, \n",
    "           pool=True, \n",
    "           unpool=False, \n",
    "           deep_supervision=False,\n",
    "           weights=None, \n",
    "           freeze_backbone=True, \n",
    "           freeze_batch_norm=True,\n",
    "           optimizer=None, \n",
    "           loss=None, \n",
    "           metric=None           \n",
    "          )"
   ]
  },
  {
   "cell_type": "code",
   "execution_count": 4,
   "id": "87b0c65d",
   "metadata": {},
   "outputs": [],
   "source": [
    "images = np.load('/hpcstor6/scratch01/r/ryan.zurrin001/EBHI-SEG/EBHI_images.npy')\n",
    "masks = np.load('/hpcstor6/scratch01/r/ryan.zurrin001/EBHI-SEG/EBHI_masks.npy')"
   ]
  },
  {
   "cell_type": "code",
   "execution_count": null,
   "id": "7330ad24",
   "metadata": {},
   "outputs": [],
   "source": []
  },
  {
   "cell_type": "code",
   "execution_count": 5,
   "id": "d5b4179a",
   "metadata": {},
   "outputs": [
    {
     "data": {
      "text/plain": [
       "(2180, 512, 512, 1)"
      ]
     },
     "execution_count": 5,
     "metadata": {},
     "output_type": "execute_result"
    }
   ],
   "source": [
    "images.shape"
   ]
  },
  {
   "cell_type": "code",
   "execution_count": 6,
   "id": "57033c4e",
   "metadata": {},
   "outputs": [
    {
     "data": {
      "text/plain": [
       "(2180, 512, 512, 1)"
      ]
     },
     "execution_count": 6,
     "metadata": {},
     "output_type": "execute_result"
    }
   ],
   "source": [
    "masks.shape"
   ]
  },
  {
   "cell_type": "code",
   "execution_count": 7,
   "id": "d8ff85c4",
   "metadata": {
    "scrolled": true
   },
   "outputs": [
    {
     "name": "stdout",
     "output_type": "stream",
     "text": [
      "Number of devices: 3\n",
      "Weights OK!\n",
      "******\n",
      "Loop 1\n",
      "Epoch 1/100\n",
      "2/2 [==============================] - 17s 7s/step - loss: 0.7217 - dice_coeff: 0.5884 - val_loss: 0.6927 - val_dice_coeff: 0.5796\n",
      "Epoch 2/100\n",
      "2/2 [==============================] - 3s 2s/step - loss: 0.6981 - dice_coeff: 0.5923 - val_loss: 0.6924 - val_dice_coeff: 0.5800\n",
      "Epoch 3/100\n",
      "2/2 [==============================] - 3s 2s/step - loss: 0.6848 - dice_coeff: 0.5945 - val_loss: 0.6920 - val_dice_coeff: 0.5803\n",
      "Epoch 4/100\n",
      "2/2 [==============================] - 3s 2s/step - loss: 0.6791 - dice_coeff: 0.5938 - val_loss: 0.6916 - val_dice_coeff: 0.5807\n",
      "Epoch 5/100\n",
      "2/2 [==============================] - 3s 2s/step - loss: 0.6743 - dice_coeff: 0.5974 - val_loss: 0.6912 - val_dice_coeff: 0.5811\n",
      "Epoch 6/100\n",
      "2/2 [==============================] - 3s 2s/step - loss: 0.6678 - dice_coeff: 0.6009 - val_loss: 0.6906 - val_dice_coeff: 0.5816\n",
      "Epoch 7/100\n",
      "2/2 [==============================] - 3s 2s/step - loss: 0.6616 - dice_coeff: 0.6045 - val_loss: 0.6901 - val_dice_coeff: 0.5822\n",
      "Epoch 8/100\n",
      "2/2 [==============================] - 3s 2s/step - loss: 0.6551 - dice_coeff: 0.6090 - val_loss: 0.6894 - val_dice_coeff: 0.5828\n",
      "Epoch 9/100\n",
      "2/2 [==============================] - 3s 2s/step - loss: 0.6477 - dice_coeff: 0.6150 - val_loss: 0.6887 - val_dice_coeff: 0.5835\n",
      "Epoch 10/100\n",
      "2/2 [==============================] - 3s 2s/step - loss: 0.6396 - dice_coeff: 0.6193 - val_loss: 0.6878 - val_dice_coeff: 0.5844\n",
      "Epoch 11/100\n",
      "2/2 [==============================] - 3s 2s/step - loss: 0.6294 - dice_coeff: 0.6262 - val_loss: 0.6868 - val_dice_coeff: 0.5853\n",
      "Epoch 12/100\n",
      "2/2 [==============================] - 3s 2s/step - loss: 0.6177 - dice_coeff: 0.6344 - val_loss: 0.6857 - val_dice_coeff: 0.5864\n",
      "Epoch 13/100\n",
      "2/2 [==============================] - 3s 2s/step - loss: 0.6063 - dice_coeff: 0.6413 - val_loss: 0.6845 - val_dice_coeff: 0.5876\n",
      "Epoch 14/100\n",
      "2/2 [==============================] - 3s 2s/step - loss: 0.5925 - dice_coeff: 0.6505 - val_loss: 0.6831 - val_dice_coeff: 0.5890\n",
      "Epoch 15/100\n",
      "2/2 [==============================] - 3s 2s/step - loss: 0.5770 - dice_coeff: 0.6636 - val_loss: 0.6816 - val_dice_coeff: 0.5905\n",
      "Epoch 16/100\n",
      "2/2 [==============================] - 3s 2s/step - loss: 0.5584 - dice_coeff: 0.6730 - val_loss: 0.6799 - val_dice_coeff: 0.5923\n",
      "Epoch 17/100\n",
      "2/2 [==============================] - 3s 2s/step - loss: 0.5373 - dice_coeff: 0.6878 - val_loss: 0.6780 - val_dice_coeff: 0.5942\n",
      "Epoch 18/100\n",
      "2/2 [==============================] - 3s 2s/step - loss: 0.5140 - dice_coeff: 0.7020 - val_loss: 0.6761 - val_dice_coeff: 0.5962\n",
      "Epoch 19/100\n",
      "2/2 [==============================] - 3s 2s/step - loss: 0.4876 - dice_coeff: 0.7159 - val_loss: 0.6742 - val_dice_coeff: 0.5983\n",
      "Epoch 20/100\n",
      "2/2 [==============================] - 3s 2s/step - loss: 0.4662 - dice_coeff: 0.7284 - val_loss: 0.6722 - val_dice_coeff: 0.6004\n",
      "Epoch 21/100\n",
      "2/2 [==============================] - 3s 2s/step - loss: 0.4425 - dice_coeff: 0.7397 - val_loss: 0.6702 - val_dice_coeff: 0.6026\n",
      "Epoch 22/100\n",
      "2/2 [==============================] - 3s 2s/step - loss: 0.4272 - dice_coeff: 0.7491 - val_loss: 0.6682 - val_dice_coeff: 0.6048\n",
      "Epoch 23/100\n",
      "2/2 [==============================] - 3s 2s/step - loss: 0.4031 - dice_coeff: 0.7602 - val_loss: 0.6662 - val_dice_coeff: 0.6071\n",
      "Epoch 24/100\n",
      "2/2 [==============================] - 3s 2s/step - loss: 0.3849 - dice_coeff: 0.7700 - val_loss: 0.6642 - val_dice_coeff: 0.6095\n",
      "Epoch 25/100\n",
      "2/2 [==============================] - 3s 2s/step - loss: 0.3615 - dice_coeff: 0.7819 - val_loss: 0.6621 - val_dice_coeff: 0.6120\n",
      "Epoch 26/100\n",
      "2/2 [==============================] - 3s 2s/step - loss: 0.3498 - dice_coeff: 0.7888 - val_loss: 0.6600 - val_dice_coeff: 0.6145\n",
      "Epoch 27/100\n",
      "2/2 [==============================] - 3s 2s/step - loss: 0.3363 - dice_coeff: 0.7949 - val_loss: 0.6579 - val_dice_coeff: 0.6171\n",
      "Epoch 28/100\n",
      "2/2 [==============================] - 3s 2s/step - loss: 0.3180 - dice_coeff: 0.8044 - val_loss: 0.6559 - val_dice_coeff: 0.6197\n",
      "Epoch 29/100\n",
      "2/2 [==============================] - 3s 2s/step - loss: 0.3070 - dice_coeff: 0.8115 - val_loss: 0.6538 - val_dice_coeff: 0.6225\n",
      "Epoch 30/100\n",
      "2/2 [==============================] - 3s 2s/step - loss: 0.2961 - dice_coeff: 0.8169 - val_loss: 0.6518 - val_dice_coeff: 0.6253\n",
      "Epoch 31/100\n",
      "2/2 [==============================] - 3s 2s/step - loss: 0.2920 - dice_coeff: 0.8196 - val_loss: 0.6498 - val_dice_coeff: 0.6281\n",
      "Epoch 32/100\n",
      "2/2 [==============================] - 3s 2s/step - loss: 0.2817 - dice_coeff: 0.8247 - val_loss: 0.6478 - val_dice_coeff: 0.6310\n",
      "Epoch 33/100\n",
      "2/2 [==============================] - 3s 2s/step - loss: 0.2701 - dice_coeff: 0.8316 - val_loss: 0.6459 - val_dice_coeff: 0.6339\n",
      "Epoch 34/100\n",
      "2/2 [==============================] - 3s 2s/step - loss: 0.2606 - dice_coeff: 0.8372 - val_loss: 0.6440 - val_dice_coeff: 0.6368\n",
      "Epoch 35/100\n",
      "2/2 [==============================] - 3s 2s/step - loss: 0.2560 - dice_coeff: 0.8395 - val_loss: 0.6423 - val_dice_coeff: 0.6397\n",
      "Epoch 36/100\n",
      "2/2 [==============================] - 3s 2s/step - loss: 0.2489 - dice_coeff: 0.8431 - val_loss: 0.6407 - val_dice_coeff: 0.6425\n",
      "Epoch 37/100\n",
      "2/2 [==============================] - 3s 2s/step - loss: 0.2438 - dice_coeff: 0.8465 - val_loss: 0.6392 - val_dice_coeff: 0.6453\n",
      "Epoch 38/100\n",
      "2/2 [==============================] - 3s 2s/step - loss: 0.2363 - dice_coeff: 0.8510 - val_loss: 0.6378 - val_dice_coeff: 0.6482\n",
      "Epoch 39/100\n",
      "2/2 [==============================] - 3s 2s/step - loss: 0.2432 - dice_coeff: 0.8494 - val_loss: 0.6365 - val_dice_coeff: 0.6509\n",
      "Epoch 40/100\n",
      "2/2 [==============================] - 3s 2s/step - loss: 0.2307 - dice_coeff: 0.8544 - val_loss: 0.6352 - val_dice_coeff: 0.6537\n",
      "Epoch 41/100\n",
      "2/2 [==============================] - 3s 2s/step - loss: 0.2295 - dice_coeff: 0.8567 - val_loss: 0.6341 - val_dice_coeff: 0.6565\n",
      "Epoch 42/100\n",
      "2/2 [==============================] - 3s 2s/step - loss: 0.2266 - dice_coeff: 0.8586 - val_loss: 0.6330 - val_dice_coeff: 0.6593\n",
      "Epoch 43/100\n",
      "2/2 [==============================] - 3s 2s/step - loss: 0.2185 - dice_coeff: 0.8624 - val_loss: 0.6321 - val_dice_coeff: 0.6621\n",
      "Epoch 44/100\n",
      "2/2 [==============================] - 3s 2s/step - loss: 0.2125 - dice_coeff: 0.8649 - val_loss: 0.6312 - val_dice_coeff: 0.6648\n",
      "Epoch 45/100\n",
      "2/2 [==============================] - 3s 2s/step - loss: 0.2078 - dice_coeff: 0.8676 - val_loss: 0.6305 - val_dice_coeff: 0.6675\n",
      "Epoch 46/100\n",
      "2/2 [==============================] - 3s 2s/step - loss: 0.2102 - dice_coeff: 0.8669 - val_loss: 0.6299 - val_dice_coeff: 0.6701\n",
      "Epoch 47/100\n",
      "2/2 [==============================] - 3s 2s/step - loss: 0.2131 - dice_coeff: 0.8665 - val_loss: 0.6294 - val_dice_coeff: 0.6727\n",
      "Model saved to: /tmp/tmpz_p1bj__GP2/kunetplus2d_0kunetplus2d_model\n",
      "History saved to: /tmp/tmpz_p1bj__GP2/kunetplus2d_history_0.pkl\n",
      "Testing the classifier...\n",
      "****** TRAINING DISCRIMINATOR ******\n",
      "Model saved to /tmp/tmpz_p1bj__GP2/cnnd_0.model\n",
      "History saved to /tmp/tmpz_p1bj__GP2/cnnd_history_0.pickle\n",
      "Testing the discriminator...\n",
      "5/5 [==============================] - 0s 34ms/step - loss: 5.0644e-06 - accuracy: 1.0000\n",
      "Replacing 19 from 58 !\n",
      "D_relabeled_ 19\n",
      "point ids 19\n",
      "Removed: 19 Filled: 19\n",
      "TOOK 845.1464252471924 seconds\n",
      "==== DONE LOOP 1 ====\n",
      "******\n",
      "Loop 2\n",
      "Epoch 1/100\n",
      "2/2 [==============================] - 5s 2s/step - loss: 0.2384 - dice_coeff: 0.8594 - val_loss: 0.6291 - val_dice_coeff: 0.6752\n",
      "Epoch 2/100\n",
      "2/2 [==============================] - 3s 2s/step - loss: 0.2294 - dice_coeff: 0.8626 - val_loss: 0.6288 - val_dice_coeff: 0.6778\n",
      "Epoch 3/100\n",
      "2/2 [==============================] - 3s 2s/step - loss: 0.2292 - dice_coeff: 0.8628 - val_loss: 0.6286 - val_dice_coeff: 0.6802\n",
      "Epoch 4/100\n",
      "2/2 [==============================] - 3s 2s/step - loss: 0.2131 - dice_coeff: 0.8681 - val_loss: 0.6285 - val_dice_coeff: 0.6826\n",
      "Epoch 5/100\n",
      "2/2 [==============================] - 3s 2s/step - loss: 0.2023 - dice_coeff: 0.8723 - val_loss: 0.6285 - val_dice_coeff: 0.6850\n",
      "Epoch 6/100\n",
      "2/2 [==============================] - 3s 2s/step - loss: 0.2035 - dice_coeff: 0.8726 - val_loss: 0.6287 - val_dice_coeff: 0.6873\n",
      "Epoch 7/100\n"
     ]
    },
    {
     "name": "stdout",
     "output_type": "stream",
     "text": [
      "2/2 [==============================] - 3s 2s/step - loss: 0.1997 - dice_coeff: 0.8745 - val_loss: 0.6289 - val_dice_coeff: 0.6895\n",
      "Epoch 8/100\n",
      "2/2 [==============================] - 3s 2s/step - loss: 0.1942 - dice_coeff: 0.8766 - val_loss: 0.6292 - val_dice_coeff: 0.6917\n",
      "Epoch 9/100\n",
      "2/2 [==============================] - 3s 2s/step - loss: 0.1920 - dice_coeff: 0.8777 - val_loss: 0.6296 - val_dice_coeff: 0.6938\n",
      "Epoch 10/100\n",
      "2/2 [==============================] - 3s 2s/step - loss: 0.1895 - dice_coeff: 0.8792 - val_loss: 0.6300 - val_dice_coeff: 0.6959\n",
      "Epoch 11/100\n",
      "2/2 [==============================] - 3s 2s/step - loss: 0.1917 - dice_coeff: 0.8791 - val_loss: 0.6306 - val_dice_coeff: 0.6980\n",
      "Epoch 12/100\n",
      "2/2 [==============================] - 3s 2s/step - loss: 0.1857 - dice_coeff: 0.8812 - val_loss: 0.6313 - val_dice_coeff: 0.7000\n",
      "Epoch 13/100\n",
      "2/2 [==============================] - 3s 2s/step - loss: 0.1865 - dice_coeff: 0.8809 - val_loss: 0.6320 - val_dice_coeff: 0.7019\n",
      "Epoch 14/100\n",
      "2/2 [==============================] - 3s 2s/step - loss: 0.1826 - dice_coeff: 0.8827 - val_loss: 0.6328 - val_dice_coeff: 0.7039\n",
      "Epoch 15/100\n",
      "2/2 [==============================] - 3s 2s/step - loss: 0.1801 - dice_coeff: 0.8845 - val_loss: 0.6337 - val_dice_coeff: 0.7058\n",
      "Epoch 16/100\n",
      "2/2 [==============================] - 3s 2s/step - loss: 0.1765 - dice_coeff: 0.8859 - val_loss: 0.6346 - val_dice_coeff: 0.7077\n",
      "Epoch 17/100\n",
      "2/2 [==============================] - 3s 2s/step - loss: 0.1763 - dice_coeff: 0.8861 - val_loss: 0.6357 - val_dice_coeff: 0.7096\n",
      "Epoch 18/100\n",
      "2/2 [==============================] - 3s 2s/step - loss: 0.1745 - dice_coeff: 0.8868 - val_loss: 0.6368 - val_dice_coeff: 0.7114\n",
      "Epoch 19/100\n",
      "2/2 [==============================] - 3s 2s/step - loss: 0.1706 - dice_coeff: 0.8883 - val_loss: 0.6379 - val_dice_coeff: 0.7131\n",
      "Epoch 20/100\n",
      "2/2 [==============================] - 3s 2s/step - loss: 0.1733 - dice_coeff: 0.8877 - val_loss: 0.6391 - val_dice_coeff: 0.7148\n",
      "Epoch 21/100\n",
      "2/2 [==============================] - 3s 2s/step - loss: 0.1721 - dice_coeff: 0.8887 - val_loss: 0.6404 - val_dice_coeff: 0.7165\n",
      "Model saved to: /tmp/tmpz_p1bj__GP2/kunetplus2d_1kunetplus2d_model\n",
      "History saved to: /tmp/tmpz_p1bj__GP2/kunetplus2d_history_1.pkl\n",
      "Testing the classifier...\n",
      "Testing the discriminator...\n",
      "5/5 [==============================] - 0s 62ms/step - loss: 9.5271e-07 - accuracy: 1.0000\n",
      "Replacing 20 from 60 !\n",
      "D_relabeled_ 20\n",
      "point ids 20\n",
      "Removed: 20 Filled: 20\n",
      "TOOK 157.42509269714355 seconds\n",
      "==== DONE LOOP 2 ====\n",
      "******\n",
      "Loop 3\n",
      "Epoch 1/100\n",
      "3/3 [==============================] - 6s 2s/step - loss: 0.2333 - dice_coeff: 0.8693 - val_loss: 0.6425 - val_dice_coeff: 0.7190\n",
      "Epoch 2/100\n",
      "3/3 [==============================] - 3s 1s/step - loss: 0.2097 - dice_coeff: 0.8744 - val_loss: 0.6447 - val_dice_coeff: 0.7214\n",
      "Epoch 3/100\n",
      "3/3 [==============================] - 3s 1s/step - loss: 0.2059 - dice_coeff: 0.8764 - val_loss: 0.6470 - val_dice_coeff: 0.7238\n",
      "Epoch 4/100\n",
      "3/3 [==============================] - 3s 1s/step - loss: 0.1995 - dice_coeff: 0.8763 - val_loss: 0.6493 - val_dice_coeff: 0.7259\n",
      "Epoch 5/100\n",
      "3/3 [==============================] - 3s 1s/step - loss: 0.1950 - dice_coeff: 0.8799 - val_loss: 0.6518 - val_dice_coeff: 0.7280\n",
      "Epoch 6/100\n",
      "3/3 [==============================] - 3s 1s/step - loss: 0.1949 - dice_coeff: 0.8812 - val_loss: 0.6544 - val_dice_coeff: 0.7301\n",
      "Epoch 7/100\n",
      "3/3 [==============================] - 3s 1s/step - loss: 0.1840 - dice_coeff: 0.8845 - val_loss: 0.6569 - val_dice_coeff: 0.7320\n",
      "Epoch 8/100\n",
      "3/3 [==============================] - 3s 1s/step - loss: 0.1876 - dice_coeff: 0.8828 - val_loss: 0.6595 - val_dice_coeff: 0.7338\n",
      "Epoch 9/100\n",
      "3/3 [==============================] - 3s 1s/step - loss: 0.1864 - dice_coeff: 0.8839 - val_loss: 0.6623 - val_dice_coeff: 0.7357\n",
      "Model saved to: /tmp/tmpz_p1bj__GP2/kunetplus2d_2kunetplus2d_model\n",
      "History saved to: /tmp/tmpz_p1bj__GP2/kunetplus2d_history_2.pkl\n",
      "Testing the classifier...\n",
      "Testing the discriminator...\n",
      "5/5 [==============================] - 0s 32ms/step - loss: 1.5147e-06 - accuracy: 1.0000\n",
      "Replacing 19 from 59 !\n",
      "D_relabeled_ 19\n",
      "point ids 19\n",
      "Removed: 19 Filled: 19\n",
      "TOOK 95.72636580467224 seconds\n",
      "==== DONE LOOP 3 ====\n",
      "******\n",
      "Loop 4\n",
      "Epoch 1/100\n",
      "3/3 [==============================] - 7s 3s/step - loss: 0.2057 - dice_coeff: 0.8788 - val_loss: 0.6650 - val_dice_coeff: 0.7374\n",
      "Epoch 2/100\n",
      "3/3 [==============================] - 3s 1s/step - loss: 0.1996 - dice_coeff: 0.8805 - val_loss: 0.6677 - val_dice_coeff: 0.7390\n",
      "Epoch 3/100\n",
      "3/3 [==============================] - 3s 1s/step - loss: 0.1903 - dice_coeff: 0.8836 - val_loss: 0.6704 - val_dice_coeff: 0.7405\n",
      "Epoch 4/100\n",
      "3/3 [==============================] - 3s 1s/step - loss: 0.1860 - dice_coeff: 0.8863 - val_loss: 0.6734 - val_dice_coeff: 0.7421\n",
      "Epoch 5/100\n",
      "3/3 [==============================] - 3s 1s/step - loss: 0.1779 - dice_coeff: 0.8892 - val_loss: 0.6764 - val_dice_coeff: 0.7437\n",
      "Epoch 6/100\n",
      "3/3 [==============================] - 3s 1s/step - loss: 0.1745 - dice_coeff: 0.8901 - val_loss: 0.6793 - val_dice_coeff: 0.7451\n",
      "Epoch 7/100\n",
      "3/3 [==============================] - 3s 1s/step - loss: 0.1714 - dice_coeff: 0.8916 - val_loss: 0.6821 - val_dice_coeff: 0.7464\n",
      "Epoch 8/100\n",
      "3/3 [==============================] - 3s 1s/step - loss: 0.1682 - dice_coeff: 0.8930 - val_loss: 0.6850 - val_dice_coeff: 0.7477\n",
      "Epoch 9/100\n",
      "3/3 [==============================] - 3s 1s/step - loss: 0.1634 - dice_coeff: 0.8955 - val_loss: 0.6879 - val_dice_coeff: 0.7490\n",
      "Epoch 10/100\n",
      "3/3 [==============================] - 4s 1s/step - loss: 0.1615 - dice_coeff: 0.8963 - val_loss: 0.6908 - val_dice_coeff: 0.7502\n",
      "Epoch 11/100\n",
      "3/3 [==============================] - 4s 1s/step - loss: 0.1592 - dice_coeff: 0.8975 - val_loss: 0.6939 - val_dice_coeff: 0.7515\n",
      "Epoch 12/100\n",
      "3/3 [==============================] - 3s 1s/step - loss: 0.1574 - dice_coeff: 0.8983 - val_loss: 0.6968 - val_dice_coeff: 0.7526\n",
      "Epoch 13/100\n",
      "3/3 [==============================] - 3s 1s/step - loss: 0.1638 - dice_coeff: 0.8969 - val_loss: 0.6997 - val_dice_coeff: 0.7537\n",
      "Epoch 14/100\n",
      "3/3 [==============================] - 4s 1s/step - loss: 0.1530 - dice_coeff: 0.9005 - val_loss: 0.7020 - val_dice_coeff: 0.7544\n",
      "Epoch 15/100\n",
      "3/3 [==============================] - 3s 1s/step - loss: 0.1528 - dice_coeff: 0.9011 - val_loss: 0.7057 - val_dice_coeff: 0.7558\n",
      "Epoch 16/100\n",
      "3/3 [==============================] - 4s 1s/step - loss: 0.1554 - dice_coeff: 0.9000 - val_loss: 0.7096 - val_dice_coeff: 0.7571\n",
      "Epoch 17/100\n",
      "3/3 [==============================] - 3s 1s/step - loss: 0.1519 - dice_coeff: 0.9013 - val_loss: 0.7134 - val_dice_coeff: 0.7584\n",
      "Epoch 18/100\n",
      "3/3 [==============================] - 4s 1s/step - loss: 0.1486 - dice_coeff: 0.9032 - val_loss: 0.7171 - val_dice_coeff: 0.7596\n",
      "Epoch 19/100\n",
      "3/3 [==============================] - 3s 1s/step - loss: 0.1500 - dice_coeff: 0.9035 - val_loss: 0.7204 - val_dice_coeff: 0.7606\n",
      "Epoch 20/100\n",
      "3/3 [==============================] - 4s 1s/step - loss: 0.1486 - dice_coeff: 0.9041 - val_loss: 0.7230 - val_dice_coeff: 0.7614\n",
      "Epoch 21/100\n",
      "3/3 [==============================] - 3s 1s/step - loss: 0.1484 - dice_coeff: 0.9036 - val_loss: 0.7261 - val_dice_coeff: 0.7623\n",
      "Epoch 22/100\n",
      "3/3 [==============================] - 4s 1s/step - loss: 0.1458 - dice_coeff: 0.9055 - val_loss: 0.7292 - val_dice_coeff: 0.7631\n",
      "Epoch 23/100\n",
      "3/3 [==============================] - 3s 1s/step - loss: 0.1439 - dice_coeff: 0.9066 - val_loss: 0.7320 - val_dice_coeff: 0.7639\n",
      "Epoch 24/100\n",
      "3/3 [==============================] - 4s 1s/step - loss: 0.1429 - dice_coeff: 0.9066 - val_loss: 0.7348 - val_dice_coeff: 0.7646\n",
      "Epoch 25/100\n",
      "3/3 [==============================] - 3s 1s/step - loss: 0.1430 - dice_coeff: 0.9070 - val_loss: 0.7377 - val_dice_coeff: 0.7654\n",
      "Epoch 26/100\n",
      "3/3 [==============================] - 3s 1s/step - loss: 0.1481 - dice_coeff: 0.9052 - val_loss: 0.7408 - val_dice_coeff: 0.7662\n",
      "Model saved to: /tmp/tmpz_p1bj__GP2/kunetplus2d_3kunetplus2d_model\n",
      "History saved to: /tmp/tmpz_p1bj__GP2/kunetplus2d_history_3.pkl\n",
      "Testing the classifier...\n",
      "Testing the discriminator...\n"
     ]
    },
    {
     "name": "stdout",
     "output_type": "stream",
     "text": [
      "5/5 [==============================] - 0s 31ms/step - loss: 8.4363e-08 - accuracy: 1.0000\n",
      "Replacing 22 from 67 !\n",
      "D_relabeled_ 22\n",
      "point ids 22\n",
      "Removed: 22 Filled: 22\n",
      "TOOK 156.0484437942505 seconds\n",
      "==== DONE LOOP 4 ====\n",
      "******\n",
      "Loop 5\n",
      "Epoch 1/100\n",
      "3/3 [==============================] - 8s 4s/step - loss: 0.1777 - dice_coeff: 0.8974 - val_loss: 0.7434 - val_dice_coeff: 0.7668\n",
      "Epoch 2/100\n",
      "3/3 [==============================] - 4s 1s/step - loss: 0.1695 - dice_coeff: 0.8978 - val_loss: 0.7458 - val_dice_coeff: 0.7674\n",
      "Epoch 3/100\n",
      "3/3 [==============================] - 4s 1s/step - loss: 0.1591 - dice_coeff: 0.9023 - val_loss: 0.7489 - val_dice_coeff: 0.7681\n",
      "Epoch 4/100\n",
      "3/3 [==============================] - 4s 1s/step - loss: 0.1536 - dice_coeff: 0.9046 - val_loss: 0.7514 - val_dice_coeff: 0.7687\n",
      "Epoch 5/100\n",
      "3/3 [==============================] - 4s 1s/step - loss: 0.1482 - dice_coeff: 0.9058 - val_loss: 0.7534 - val_dice_coeff: 0.7692\n",
      "Epoch 6/100\n",
      "3/3 [==============================] - 4s 1s/step - loss: 0.1460 - dice_coeff: 0.9064 - val_loss: 0.7552 - val_dice_coeff: 0.7695\n",
      "Epoch 7/100\n",
      "3/3 [==============================] - 4s 1s/step - loss: 0.1527 - dice_coeff: 0.9051 - val_loss: 0.7582 - val_dice_coeff: 0.7702\n",
      "Epoch 8/100\n",
      "3/3 [==============================] - 4s 1s/step - loss: 0.1433 - dice_coeff: 0.9086 - val_loss: 0.7613 - val_dice_coeff: 0.7709\n",
      "Epoch 9/100\n",
      "3/3 [==============================] - 4s 1s/step - loss: 0.1424 - dice_coeff: 0.9091 - val_loss: 0.7634 - val_dice_coeff: 0.7713\n",
      "Epoch 10/100\n",
      "3/3 [==============================] - 4s 1s/step - loss: 0.1439 - dice_coeff: 0.9087 - val_loss: 0.7658 - val_dice_coeff: 0.7718\n",
      "Epoch 11/100\n",
      "3/3 [==============================] - 4s 1s/step - loss: 0.1411 - dice_coeff: 0.9097 - val_loss: 0.7683 - val_dice_coeff: 0.7723\n",
      "Epoch 12/100\n",
      "3/3 [==============================] - 4s 1s/step - loss: 0.1365 - dice_coeff: 0.9119 - val_loss: 0.7721 - val_dice_coeff: 0.7732\n",
      "Epoch 13/100\n",
      "3/3 [==============================] - 4s 1s/step - loss: 0.1353 - dice_coeff: 0.9126 - val_loss: 0.7732 - val_dice_coeff: 0.7737\n",
      "Epoch 14/100\n",
      "3/3 [==============================] - 4s 1s/step - loss: 0.1387 - dice_coeff: 0.9117 - val_loss: 0.7757 - val_dice_coeff: 0.7737\n",
      "Epoch 15/100\n",
      "3/3 [==============================] - 4s 1s/step - loss: 0.1380 - dice_coeff: 0.9120 - val_loss: 0.7786 - val_dice_coeff: 0.7744\n",
      "Model saved to: /tmp/tmpz_p1bj__GP2/kunetplus2d_4kunetplus2d_model\n",
      "History saved to: /tmp/tmpz_p1bj__GP2/kunetplus2d_history_4.pkl\n",
      "Testing the classifier...\n",
      "Testing the discriminator...\n",
      "5/5 [==============================] - 0s 32ms/step - loss: 7.3360e-09 - accuracy: 1.0000\n",
      "Replacing 24 from 73 !\n",
      "D_relabeled_ 24\n",
      "point ids 24\n",
      "Removed: 24 Filled: 24\n",
      "TOOK 95.76593136787415 seconds\n",
      "==== DONE LOOP 5 ====\n",
      "******\n",
      "Loop 6\n",
      "Epoch 1/100\n",
      "4/4 [==============================] - 7s 2s/step - loss: 0.1604 - dice_coeff: 0.9059 - val_loss: 0.7816 - val_dice_coeff: 0.7749\n",
      "Epoch 2/100\n",
      "4/4 [==============================] - 4s 1s/step - loss: 0.1569 - dice_coeff: 0.9057 - val_loss: 0.7842 - val_dice_coeff: 0.7754\n",
      "Epoch 3/100\n",
      "4/4 [==============================] - 4s 1s/step - loss: 0.1536 - dice_coeff: 0.9057 - val_loss: 0.7778 - val_dice_coeff: 0.7765\n",
      "Epoch 4/100\n",
      "4/4 [==============================] - 4s 1s/step - loss: 0.1539 - dice_coeff: 0.9068 - val_loss: 0.7600 - val_dice_coeff: 0.7750\n",
      "Epoch 5/100\n",
      "4/4 [==============================] - 4s 1s/step - loss: 0.1503 - dice_coeff: 0.9062 - val_loss: 0.7939 - val_dice_coeff: 0.7771\n",
      "Epoch 6/100\n",
      "4/4 [==============================] - 4s 1s/step - loss: 0.1538 - dice_coeff: 0.9070 - val_loss: 0.7933 - val_dice_coeff: 0.7776\n",
      "Epoch 7/100\n",
      "4/4 [==============================] - 4s 1s/step - loss: 0.1450 - dice_coeff: 0.9100 - val_loss: 0.7569 - val_dice_coeff: 0.7717\n",
      "Epoch 8/100\n",
      "4/4 [==============================] - 4s 1s/step - loss: 0.1439 - dice_coeff: 0.9097 - val_loss: 0.7990 - val_dice_coeff: 0.7782\n",
      "Epoch 9/100\n",
      "4/4 [==============================] - 4s 1s/step - loss: 0.1401 - dice_coeff: 0.9118 - val_loss: 0.7967 - val_dice_coeff: 0.7786\n",
      "Epoch 10/100\n",
      "4/4 [==============================] - 4s 1s/step - loss: 0.1397 - dice_coeff: 0.9119 - val_loss: 0.7947 - val_dice_coeff: 0.7788\n",
      "Epoch 11/100\n",
      "4/4 [==============================] - 4s 1s/step - loss: 0.1371 - dice_coeff: 0.9134 - val_loss: 0.8002 - val_dice_coeff: 0.7789\n",
      "Epoch 12/100\n",
      "4/4 [==============================] - 4s 1s/step - loss: 0.1397 - dice_coeff: 0.9101 - val_loss: 0.8048 - val_dice_coeff: 0.7791\n",
      "Epoch 13/100\n",
      "4/4 [==============================] - 4s 1s/step - loss: 0.1418 - dice_coeff: 0.9127 - val_loss: 0.7270 - val_dice_coeff: 0.7756\n",
      "Model saved to: /tmp/tmpz_p1bj__GP2/kunetplus2d_5kunetplus2d_model\n",
      "History saved to: /tmp/tmpz_p1bj__GP2/kunetplus2d_history_5.pkl\n",
      "Testing the classifier...\n",
      "Testing the discriminator...\n",
      "5/5 [==============================] - 0s 35ms/step - loss: 9.8118e-08 - accuracy: 1.0000\n",
      "Replacing 19 from 58 !\n",
      "D_relabeled_ 19\n",
      "point ids 19\n",
      "Removed: 19 Filled: 19\n",
      "TOOK 156.06021523475647 seconds\n",
      "==== DONE LOOP 6 ====\n",
      "******\n",
      "Loop 7\n",
      "Epoch 1/100\n",
      "4/4 [==============================] - 8s 2s/step - loss: 0.1593 - dice_coeff: 0.9082 - val_loss: 0.7883 - val_dice_coeff: 0.7798\n",
      "Epoch 2/100\n",
      "4/4 [==============================] - 4s 1s/step - loss: 0.1532 - dice_coeff: 0.9084 - val_loss: 0.8001 - val_dice_coeff: 0.7804\n",
      "Epoch 3/100\n",
      "4/4 [==============================] - 5s 1s/step - loss: 0.1460 - dice_coeff: 0.9108 - val_loss: 0.7879 - val_dice_coeff: 0.7806\n",
      "Epoch 4/100\n",
      "4/4 [==============================] - 4s 1s/step - loss: 0.1461 - dice_coeff: 0.9111 - val_loss: 0.7987 - val_dice_coeff: 0.7810\n",
      "Epoch 5/100\n",
      "4/4 [==============================] - 4s 1s/step - loss: 0.1367 - dice_coeff: 0.9145 - val_loss: 0.8156 - val_dice_coeff: 0.7809\n",
      "Epoch 6/100\n",
      "4/4 [==============================] - 4s 1s/step - loss: 0.1383 - dice_coeff: 0.9137 - val_loss: 0.7995 - val_dice_coeff: 0.7814\n",
      "Epoch 7/100\n",
      "4/4 [==============================] - 5s 1s/step - loss: 0.1321 - dice_coeff: 0.9168 - val_loss: 0.7881 - val_dice_coeff: 0.7815\n",
      "Epoch 8/100\n",
      "4/4 [==============================] - 5s 1s/step - loss: 0.1293 - dice_coeff: 0.9182 - val_loss: 0.7593 - val_dice_coeff: 0.7813\n",
      "Epoch 9/100\n",
      "4/4 [==============================] - 4s 1s/step - loss: 0.1288 - dice_coeff: 0.9184 - val_loss: 0.7945 - val_dice_coeff: 0.7820\n",
      "Epoch 10/100\n",
      "4/4 [==============================] - 4s 1s/step - loss: 0.1322 - dice_coeff: 0.9175 - val_loss: 0.8080 - val_dice_coeff: 0.7819\n",
      "Epoch 11/100\n",
      "4/4 [==============================] - 4s 1s/step - loss: 0.1278 - dice_coeff: 0.9192 - val_loss: 0.8020 - val_dice_coeff: 0.7824\n",
      "Epoch 12/100\n",
      "4/4 [==============================] - 4s 1s/step - loss: 0.1246 - dice_coeff: 0.9206 - val_loss: 0.7973 - val_dice_coeff: 0.7827\n",
      "Epoch 13/100\n",
      "4/4 [==============================] - 5s 1s/step - loss: 0.1242 - dice_coeff: 0.9206 - val_loss: 0.8003 - val_dice_coeff: 0.7829\n",
      "Epoch 14/100\n",
      "4/4 [==============================] - 4s 1s/step - loss: 0.1275 - dice_coeff: 0.9200 - val_loss: 0.7982 - val_dice_coeff: 0.7833\n",
      "Epoch 15/100\n",
      "4/4 [==============================] - 4s 1s/step - loss: 0.1221 - dice_coeff: 0.9218 - val_loss: 0.7983 - val_dice_coeff: 0.7833\n",
      "Epoch 16/100\n",
      "4/4 [==============================] - 4s 1s/step - loss: 0.1243 - dice_coeff: 0.9211 - val_loss: 0.8042 - val_dice_coeff: 0.7835\n",
      "Epoch 17/100\n",
      "4/4 [==============================] - 4s 1s/step - loss: 0.1213 - dice_coeff: 0.9227 - val_loss: 0.7803 - val_dice_coeff: 0.7839\n",
      "Epoch 18/100\n",
      "4/4 [==============================] - 4s 1s/step - loss: 0.1247 - dice_coeff: 0.9217 - val_loss: 0.8130 - val_dice_coeff: 0.7838\n",
      "Epoch 19/100\n",
      "4/4 [==============================] - 5s 1s/step - loss: 0.1194 - dice_coeff: 0.9236 - val_loss: 0.7929 - val_dice_coeff: 0.7846\n",
      "Epoch 20/100\n",
      "4/4 [==============================] - 4s 1s/step - loss: 0.1199 - dice_coeff: 0.9233 - val_loss: 0.7916 - val_dice_coeff: 0.7852\n",
      "Epoch 21/100\n",
      "4/4 [==============================] - 4s 1s/step - loss: 0.1188 - dice_coeff: 0.9242 - val_loss: 0.7963 - val_dice_coeff: 0.7852\n",
      "Epoch 22/100\n",
      "4/4 [==============================] - 4s 1s/step - loss: 0.1175 - dice_coeff: 0.9248 - val_loss: 0.7836 - val_dice_coeff: 0.7860\n",
      "Epoch 23/100\n"
     ]
    },
    {
     "name": "stdout",
     "output_type": "stream",
     "text": [
      "4/4 [==============================] - 4s 1s/step - loss: 0.1166 - dice_coeff: 0.9252 - val_loss: 0.7948 - val_dice_coeff: 0.7859\n",
      "Epoch 24/100\n",
      "4/4 [==============================] - 4s 1s/step - loss: 0.1178 - dice_coeff: 0.9251 - val_loss: 0.8004 - val_dice_coeff: 0.7861\n",
      "Epoch 25/100\n",
      "4/4 [==============================] - 4s 1s/step - loss: 0.1182 - dice_coeff: 0.9246 - val_loss: 0.7833 - val_dice_coeff: 0.7868\n",
      "Model saved to: /tmp/tmpz_p1bj__GP2/kunetplus2d_6kunetplus2d_model\n",
      "History saved to: /tmp/tmpz_p1bj__GP2/kunetplus2d_history_6.pkl\n",
      "Testing the classifier...\n",
      "Testing the discriminator...\n",
      "5/5 [==============================] - 0s 32ms/step - loss: 5.8611e-06 - accuracy: 1.0000\n",
      "Replacing 20 from 61 !\n",
      "D_relabeled_ 20\n",
      "point ids 20\n",
      "Removed: 20 Filled: 20\n",
      "TOOK 215.84261178970337 seconds\n",
      "==== DONE LOOP 7 ====\n",
      "******\n",
      "Loop 8\n",
      "Epoch 1/100\n",
      "4/4 [==============================] - 9s 3s/step - loss: 0.1329 - dice_coeff: 0.9211 - val_loss: 0.7866 - val_dice_coeff: 0.7875\n",
      "Epoch 2/100\n",
      "4/4 [==============================] - 5s 1s/step - loss: 0.1304 - dice_coeff: 0.9216 - val_loss: 0.8145 - val_dice_coeff: 0.7869\n",
      "Epoch 3/100\n",
      "4/4 [==============================] - 5s 1s/step - loss: 0.1249 - dice_coeff: 0.9230 - val_loss: 0.8203 - val_dice_coeff: 0.7869\n",
      "Epoch 4/100\n",
      "4/4 [==============================] - 5s 1s/step - loss: 0.1204 - dice_coeff: 0.9247 - val_loss: 0.8025 - val_dice_coeff: 0.7885\n",
      "Epoch 5/100\n",
      "4/4 [==============================] - 5s 1s/step - loss: 0.1180 - dice_coeff: 0.9254 - val_loss: 0.7830 - val_dice_coeff: 0.7897\n",
      "Epoch 6/100\n",
      "4/4 [==============================] - 5s 1s/step - loss: 0.1217 - dice_coeff: 0.9241 - val_loss: 0.7800 - val_dice_coeff: 0.7901\n",
      "Epoch 7/100\n",
      "4/4 [==============================] - 5s 1s/step - loss: 0.1164 - dice_coeff: 0.9266 - val_loss: 0.7898 - val_dice_coeff: 0.7904\n",
      "Epoch 8/100\n",
      "4/4 [==============================] - 5s 1s/step - loss: 0.1164 - dice_coeff: 0.9265 - val_loss: 0.7349 - val_dice_coeff: 0.7948\n",
      "Epoch 9/100\n",
      "4/4 [==============================] - 5s 1s/step - loss: 0.1139 - dice_coeff: 0.9275 - val_loss: 0.7315 - val_dice_coeff: 0.7954\n",
      "Epoch 10/100\n",
      "4/4 [==============================] - 5s 1s/step - loss: 0.1112 - dice_coeff: 0.9287 - val_loss: 0.7500 - val_dice_coeff: 0.7955\n",
      "Epoch 11/100\n",
      "4/4 [==============================] - 5s 1s/step - loss: 0.1118 - dice_coeff: 0.9286 - val_loss: 0.7149 - val_dice_coeff: 0.7992\n",
      "Epoch 12/100\n",
      "4/4 [==============================] - 5s 1s/step - loss: 0.1103 - dice_coeff: 0.9294 - val_loss: 0.7450 - val_dice_coeff: 0.7968\n",
      "Epoch 13/100\n",
      "4/4 [==============================] - 5s 1s/step - loss: 0.1102 - dice_coeff: 0.9296 - val_loss: 0.7251 - val_dice_coeff: 0.7999\n",
      "Epoch 14/100\n",
      "4/4 [==============================] - 5s 1s/step - loss: 0.1088 - dice_coeff: 0.9300 - val_loss: 0.7200 - val_dice_coeff: 0.8012\n",
      "Epoch 15/100\n",
      "4/4 [==============================] - 5s 1s/step - loss: 0.1097 - dice_coeff: 0.9302 - val_loss: 0.7232 - val_dice_coeff: 0.8009\n",
      "Epoch 16/100\n",
      "4/4 [==============================] - 5s 1s/step - loss: 0.1083 - dice_coeff: 0.9303 - val_loss: 0.6883 - val_dice_coeff: 0.8060\n",
      "Epoch 17/100\n",
      "4/4 [==============================] - 5s 1s/step - loss: 0.1073 - dice_coeff: 0.9312 - val_loss: 0.7293 - val_dice_coeff: 0.8014\n",
      "Epoch 18/100\n",
      "4/4 [==============================] - 5s 1s/step - loss: 0.1098 - dice_coeff: 0.9307 - val_loss: 0.7046 - val_dice_coeff: 0.8058\n",
      "Epoch 19/100\n",
      "4/4 [==============================] - 5s 1s/step - loss: 0.1147 - dice_coeff: 0.9282 - val_loss: 0.7029 - val_dice_coeff: 0.8053\n",
      "Model saved to: /tmp/tmpz_p1bj__GP2/kunetplus2d_7kunetplus2d_model\n",
      "History saved to: /tmp/tmpz_p1bj__GP2/kunetplus2d_history_7.pkl\n",
      "Testing the classifier...\n",
      "Testing the discriminator...\n",
      "5/5 [==============================] - 0s 31ms/step - loss: 3.1453e-07 - accuracy: 1.0000\n",
      "Replacing 21 from 65 !\n",
      "D_relabeled_ 21\n",
      "point ids 21\n",
      "Removed: 21 Filled: 21\n",
      "TOOK 216.2302224636078 seconds\n",
      "==== DONE LOOP 8 ====\n"
     ]
    }
   ],
   "source": [
    "R.run(images=images, masks=masks, runs=8, use_multi_gpu=True)"
   ]
  },
  {
   "cell_type": "code",
   "execution_count": 8,
   "id": "43962eca",
   "metadata": {},
   "outputs": [
    {
     "data": {
      "text/plain": [
       "[[0.628838837146759, 0.6665307283401489],\n",
       " [0.6385427713394165, 0.7109232544898987],\n",
       " [0.6578446626663208, 0.7312838435173035],\n",
       " [0.7369908094406128, 0.7588167786598206],\n",
       " [0.7753242254257202, 0.7684971690177917],\n",
       " [0.732273280620575, 0.7716783881187439],\n",
       " [0.7835935354232788, 0.7800859808921814],\n",
       " [0.7161715030670166, 0.7954901456832886]]"
      ]
     },
     "execution_count": 8,
     "metadata": {},
     "output_type": "execute_result"
    }
   ],
   "source": [
    "R.classifier_scores"
   ]
  },
  {
   "cell_type": "code",
   "execution_count": 9,
   "id": "b9a4279a",
   "metadata": {},
   "outputs": [
    {
     "data": {
      "text/plain": [
       "[[5.0643789109017234e-06, 1.0],\n",
       " [9.527092856842501e-07, 1.0],\n",
       " [1.5147337535381666e-06, 1.0],\n",
       " [8.436327902927587e-08, 1.0],\n",
       " [7.335955398701799e-09, 1.0],\n",
       " [9.811800794068404e-08, 1.0],\n",
       " [5.861145382368704e-06, 1.0],\n",
       " [3.1452651683139266e-07, 1.0]]"
      ]
     },
     "execution_count": 9,
     "metadata": {},
     "output_type": "execute_result"
    }
   ],
   "source": [
    "R.discriminator_scores"
   ]
  },
  {
   "cell_type": "code",
   "execution_count": 10,
   "id": "5ae5e8a2",
   "metadata": {},
   "outputs": [
    {
     "data": {
      "image/png": "[encoded data removed]",
      "text/plain": [
       "<Figure size 240x240 with 1 Axes>"
      ]
     },
     "metadata": {
      "needs_background": "light"
     },
     "output_type": "display_data"
    }
   ],
   "source": [
    "R.plot()"
   ]
  },
  {
   "cell_type": "code",
   "execution_count": null,
   "id": "2e11a96a",
   "metadata": {},
   "outputs": [],
   "source": []
  },
  {
   "cell_type": "code",
   "execution_count": null,
   "id": "cbd6f1f0",
   "metadata": {},
   "outputs": [],
   "source": []
  },
  {
   "cell_type": "code",
   "execution_count": 8,
   "id": "dab6fd49",
   "metadata": {},
   "outputs": [
    {
     "data": {
      "text/plain": [
       "[[0.6341278553009033, 0.6748772263526917],\n",
       " [0.6460309028625488, 0.7003777623176575],\n",
       " [0.6539644598960876, 0.7137933969497681],\n",
       " [0.6865182518959045, 0.719549834728241],\n",
       " [0.7327281832695007, 0.734499454498291],\n",
       " [0.7364838123321533, 0.7138306498527527],\n",
       " [0.7695868611335754, 0.743782103061676],\n",
       " [0.7354027032852173, 0.7375100255012512]]"
      ]
     },
     "execution_count": 8,
     "metadata": {},
     "output_type": "execute_result"
    }
   ],
   "source": [
    "R.classifier_scores"
   ]
  },
  {
   "cell_type": "code",
   "execution_count": 9,
   "id": "b044837f",
   "metadata": {},
   "outputs": [
    {
     "data": {
      "text/plain": [
       "[[0.0, 1.0],\n",
       " [0.0, 1.0],\n",
       " [0.0, 1.0],\n",
       " [0.0, 1.0],\n",
       " [0.0, 1.0],\n",
       " [0.0, 1.0],\n",
       " [0.0, 1.0],\n",
       " [0.0, 1.0]]"
      ]
     },
     "execution_count": 9,
     "metadata": {},
     "output_type": "execute_result"
    }
   ],
   "source": [
    "R.discriminator_scores"
   ]
  },
  {
   "cell_type": "code",
   "execution_count": 10,
   "id": "a326f80b",
   "metadata": {},
   "outputs": [
    {
     "data": {
      "image/png": "[encoded data removed]",
      "text/plain": [
       "<Figure size 240x240 with 1 Axes>"
      ]
     },
     "metadata": {
      "needs_background": "light"
     },
     "output_type": "display_data"
    }
   ],
   "source": [
    "R.plot()"
   ]
  },
  {
   "cell_type": "code",
   "execution_count": null,
   "id": "f90108ab",
   "metadata": {},
   "outputs": [],
   "source": []
  },
  {
   "cell_type": "code",
   "execution_count": null,
   "id": "7f3b4a58",
   "metadata": {},
   "outputs": [],
   "source": []
  }
 ],
 "metadata": {
  "kernelspec": {
   "display_name": "Python 3 (ipykernel)",
   "language": "python",
   "name": "python3"
  },
  "language_info": {
   "codemirror_mode": {
    "name": "ipython",
    "version": 3
   },
   "file_extension": ".py",
   "mimetype": "text/x-python",
   "name": "python",
   "nbconvert_exporter": "python",
   "pygments_lexer": "ipython3",
   "version": "3.9.7"
  }
 },
 "nbformat": 4,
 "nbformat_minor": 5
}
