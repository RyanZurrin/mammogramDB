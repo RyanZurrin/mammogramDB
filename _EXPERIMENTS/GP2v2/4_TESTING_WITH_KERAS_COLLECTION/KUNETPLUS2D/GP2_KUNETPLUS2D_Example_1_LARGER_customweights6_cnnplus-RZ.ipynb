{
 "cells": [
  {
   "cell_type": "code",
   "execution_count": 1,
   "id": "06c4accc",
   "metadata": {},
   "outputs": [
    {
     "name": "stdout",
     "output_type": "stream",
     "text": [
      "Populating the interactive namespace from numpy and matplotlib\n"
     ]
    }
   ],
   "source": [
    "%pylab inline\n",
    "%load_ext autoreload\n",
    "%autoreload 2"
   ]
  },
  {
   "cell_type": "code",
   "execution_count": 2,
   "id": "b9e78ed8",
   "metadata": {},
   "outputs": [],
   "source": [
    "import time\n",
    "import sys\n",
    "sys.path.insert(0,'../../../..')\n",
    "from omama import gp2\n",
    "from omama.gp2 import Runner\n",
    "from keras import losses, metrics\n",
    "from tensorflow.keras import optimizers"
   ]
  },
  {
   "cell_type": "code",
   "execution_count": 3,
   "id": "bdc75325",
   "metadata": {},
   "outputs": [
    {
     "name": "stdout",
     "output_type": "stream",
     "text": [
      "*** GP2  KUNetPlus2D ***\n",
      "Working directory: /tmp/tmp3ulrxntbGP2\n"
     ]
    }
   ],
   "source": [
    "R = Runner(verbose=False, \n",
    "           classifier='kunetplus2d',\n",
    "           discriminator='cnnplus',\n",
    "           filter_num= [16, 32, 64, 128, 256, 512],\n",
    "           stack_num_down=3, \n",
    "           stack_num_up=3, \n",
    "           activation='ReLU', \n",
    "           output_activation='Sigmoid', \n",
    "           batch_norm=True, \n",
    "           pool=True, \n",
    "           unpool=False, \n",
    "           deep_supervision=False,\n",
    "           weights=None, \n",
    "           freeze_backbone=True, \n",
    "           freeze_batch_norm=True,\n",
    "           optimizer=None, \n",
    "           loss=None, \n",
    "           metric=None           \n",
    "          )"
   ]
  },
  {
   "cell_type": "code",
   "execution_count": 5,
   "id": "87b0c65d",
   "metadata": {},
   "outputs": [],
   "source": [
    "images = np.load('/hpcstor6/scratch01/r/ryan.zurrin001/GP2TOYEXAMPLE_LARGE/images.npy')\n",
    "masks = np.load('/hpcstor6/scratch01/r/ryan.zurrin001/GP2TOYEXAMPLE_LARGE/masks.npy')"
   ]
  },
  {
   "cell_type": "code",
   "execution_count": null,
   "id": "7330ad24",
   "metadata": {},
   "outputs": [],
   "source": []
  },
  {
   "cell_type": "code",
   "execution_count": 6,
   "id": "d5b4179a",
   "metadata": {},
   "outputs": [
    {
     "data": {
      "text/plain": [
       "(10000, 512, 512, 1)"
      ]
     },
     "execution_count": 6,
     "metadata": {},
     "output_type": "execute_result"
    }
   ],
   "source": [
    "images.shape"
   ]
  },
  {
   "cell_type": "code",
   "execution_count": 7,
   "id": "57033c4e",
   "metadata": {},
   "outputs": [
    {
     "data": {
      "text/plain": [
       "(10000, 512, 512, 1)"
      ]
     },
     "execution_count": 7,
     "metadata": {},
     "output_type": "execute_result"
    }
   ],
   "source": [
    "masks.shape"
   ]
  },
  {
   "cell_type": "code",
   "execution_count": 8,
   "id": "d8ff85c4",
   "metadata": {
    "scrolled": true
   },
   "outputs": [
    {
     "name": "stdout",
     "output_type": "stream",
     "text": [
      "Number of devices: 2\n",
      "Weights OK!\n",
      "******\n",
      "Loop 1\n",
      "Epoch 1/100\n",
      "8/8 [==============================] - 28s 2s/step - loss: 0.5131 - dice_coeff: 0.1470 - val_loss: 0.6843 - val_dice_coeff: 0.1627\n",
      "Epoch 2/100\n",
      "8/8 [==============================] - 12s 2s/step - loss: 0.4926 - dice_coeff: 0.1515 - val_loss: 0.6750 - val_dice_coeff: 0.1623\n",
      "Epoch 3/100\n",
      "8/8 [==============================] - 12s 2s/step - loss: 0.4820 - dice_coeff: 0.1552 - val_loss: 0.6672 - val_dice_coeff: 0.1621\n",
      "Epoch 4/100\n",
      "8/8 [==============================] - 11s 2s/step - loss: 0.4687 - dice_coeff: 0.1616 - val_loss: 0.6609 - val_dice_coeff: 0.1618\n",
      "Epoch 5/100\n",
      "8/8 [==============================] - 12s 2s/step - loss: 0.4497 - dice_coeff: 0.1730 - val_loss: 0.6551 - val_dice_coeff: 0.1616\n",
      "Epoch 6/100\n",
      "8/8 [==============================] - 12s 2s/step - loss: 0.4218 - dice_coeff: 0.1974 - val_loss: 0.6493 - val_dice_coeff: 0.1614\n",
      "Epoch 7/100\n",
      "8/8 [==============================] - 12s 2s/step - loss: 0.3907 - dice_coeff: 0.2214 - val_loss: 0.6450 - val_dice_coeff: 0.1612\n",
      "Epoch 8/100\n",
      "8/8 [==============================] - 12s 2s/step - loss: 0.3609 - dice_coeff: 0.2503 - val_loss: 0.6414 - val_dice_coeff: 0.1610\n",
      "Epoch 9/100\n",
      "8/8 [==============================] - 12s 2s/step - loss: 0.3354 - dice_coeff: 0.2794 - val_loss: 0.6373 - val_dice_coeff: 0.1608\n",
      "Epoch 10/100\n",
      "8/8 [==============================] - 12s 2s/step - loss: 0.3141 - dice_coeff: 0.3069 - val_loss: 0.6354 - val_dice_coeff: 0.1606\n",
      "Epoch 11/100\n",
      "8/8 [==============================] - 12s 2s/step - loss: 0.2952 - dice_coeff: 0.3346 - val_loss: 0.6385 - val_dice_coeff: 0.1607\n",
      "Epoch 12/100\n",
      "8/8 [==============================] - 12s 2s/step - loss: 0.2785 - dice_coeff: 0.3588 - val_loss: 0.6420 - val_dice_coeff: 0.1608\n",
      "Epoch 13/100\n",
      "8/8 [==============================] - 12s 2s/step - loss: 0.2653 - dice_coeff: 0.3775 - val_loss: 0.6429 - val_dice_coeff: 0.1607\n",
      "Epoch 14/100\n",
      "8/8 [==============================] - 12s 2s/step - loss: 0.2549 - dice_coeff: 0.3904 - val_loss: 0.6424 - val_dice_coeff: 0.1606\n",
      "Epoch 15/100\n",
      "8/8 [==============================] - 12s 2s/step - loss: 0.2466 - dice_coeff: 0.4022 - val_loss: 0.6418 - val_dice_coeff: 0.1605\n",
      "Epoch 16/100\n",
      "8/8 [==============================] - 12s 2s/step - loss: 0.2396 - dice_coeff: 0.4112 - val_loss: 0.6392 - val_dice_coeff: 0.1603\n",
      "Epoch 17/100\n",
      "8/8 [==============================] - 12s 2s/step - loss: 0.2348 - dice_coeff: 0.4183 - val_loss: 0.6338 - val_dice_coeff: 0.1601\n",
      "Epoch 18/100\n",
      "8/8 [==============================] - 12s 2s/step - loss: 0.2297 - dice_coeff: 0.4252 - val_loss: 0.6278 - val_dice_coeff: 0.1598\n",
      "Epoch 19/100\n",
      "8/8 [==============================] - 12s 2s/step - loss: 0.2240 - dice_coeff: 0.4334 - val_loss: 0.6168 - val_dice_coeff: 0.1592\n",
      "Epoch 20/100\n",
      "8/8 [==============================] - 12s 2s/step - loss: 0.2196 - dice_coeff: 0.4398 - val_loss: 0.6080 - val_dice_coeff: 0.1588\n",
      "Epoch 21/100\n",
      "8/8 [==============================] - 12s 2s/step - loss: 0.2160 - dice_coeff: 0.4455 - val_loss: 0.5977 - val_dice_coeff: 0.1583\n",
      "Epoch 22/100\n",
      "8/8 [==============================] - 12s 2s/step - loss: 0.2123 - dice_coeff: 0.4501 - val_loss: 0.5843 - val_dice_coeff: 0.1575\n",
      "Epoch 23/100\n",
      "8/8 [==============================] - 12s 2s/step - loss: 0.2092 - dice_coeff: 0.4556 - val_loss: 0.5679 - val_dice_coeff: 0.1567\n",
      "Epoch 24/100\n",
      "8/8 [==============================] - 12s 2s/step - loss: 0.2064 - dice_coeff: 0.4601 - val_loss: 0.5549 - val_dice_coeff: 0.1560\n",
      "Epoch 25/100\n",
      "8/8 [==============================] - 12s 2s/step - loss: 0.2015 - dice_coeff: 0.4684 - val_loss: 0.5423 - val_dice_coeff: 0.1553\n",
      "Epoch 26/100\n",
      "8/8 [==============================] - 12s 2s/step - loss: 0.1982 - dice_coeff: 0.4741 - val_loss: 0.5239 - val_dice_coeff: 0.1541\n",
      "Epoch 27/100\n",
      "8/8 [==============================] - 13s 2s/step - loss: 0.1949 - dice_coeff: 0.4800 - val_loss: 0.5137 - val_dice_coeff: 0.1534\n",
      "Epoch 28/100\n",
      "8/8 [==============================] - 12s 2s/step - loss: 0.1917 - dice_coeff: 0.4857 - val_loss: 0.4998 - val_dice_coeff: 0.1524\n",
      "Epoch 29/100\n",
      "8/8 [==============================] - 12s 2s/step - loss: 0.1886 - dice_coeff: 0.4927 - val_loss: 0.4865 - val_dice_coeff: 0.1527\n",
      "Epoch 30/100\n",
      "8/8 [==============================] - 12s 2s/step - loss: 0.1866 - dice_coeff: 0.4961 - val_loss: 0.4712 - val_dice_coeff: 0.1512\n",
      "Epoch 31/100\n",
      "8/8 [==============================] - 12s 2s/step - loss: 0.1823 - dice_coeff: 0.5057 - val_loss: 0.4618 - val_dice_coeff: 0.1501\n",
      "Epoch 32/100\n",
      "8/8 [==============================] - 13s 2s/step - loss: 0.1787 - dice_coeff: 0.5113 - val_loss: 0.4481 - val_dice_coeff: 0.1520\n",
      "Epoch 33/100\n",
      "8/8 [==============================] - 12s 2s/step - loss: 0.1759 - dice_coeff: 0.5168 - val_loss: 0.4323 - val_dice_coeff: 0.1559\n",
      "Epoch 34/100\n",
      "8/8 [==============================] - 12s 2s/step - loss: 0.1721 - dice_coeff: 0.5238 - val_loss: 0.4227 - val_dice_coeff: 0.1609\n",
      "Epoch 35/100\n",
      "8/8 [==============================] - 12s 2s/step - loss: 0.1695 - dice_coeff: 0.5274 - val_loss: 0.3923 - val_dice_coeff: 0.2036\n",
      "Epoch 36/100\n",
      "8/8 [==============================] - 12s 2s/step - loss: 0.1674 - dice_coeff: 0.5324 - val_loss: 0.3881 - val_dice_coeff: 0.2036\n",
      "Epoch 37/100\n",
      "8/8 [==============================] - 12s 2s/step - loss: 0.1649 - dice_coeff: 0.5357 - val_loss: 0.3737 - val_dice_coeff: 0.2194\n",
      "Epoch 38/100\n",
      "8/8 [==============================] - 12s 2s/step - loss: 0.1640 - dice_coeff: 0.5365 - val_loss: 0.3471 - val_dice_coeff: 0.2590\n",
      "Epoch 39/100\n",
      "8/8 [==============================] - 12s 2s/step - loss: 0.1621 - dice_coeff: 0.5409 - val_loss: 0.3187 - val_dice_coeff: 0.3000\n",
      "Epoch 40/100\n",
      "8/8 [==============================] - 12s 2s/step - loss: 0.1606 - dice_coeff: 0.5440 - val_loss: 0.3021 - val_dice_coeff: 0.3250\n",
      "Epoch 41/100\n",
      "8/8 [==============================] - 12s 2s/step - loss: 0.1573 - dice_coeff: 0.5484 - val_loss: 0.2898 - val_dice_coeff: 0.3419\n",
      "Epoch 42/100\n",
      "8/8 [==============================] - 12s 2s/step - loss: 0.1559 - dice_coeff: 0.5506 - val_loss: 0.2704 - val_dice_coeff: 0.3728\n",
      "Epoch 43/100\n",
      "8/8 [==============================] - 12s 2s/step - loss: 0.1549 - dice_coeff: 0.5532 - val_loss: 0.2725 - val_dice_coeff: 0.3636\n",
      "Epoch 44/100\n",
      "8/8 [==============================] - 12s 2s/step - loss: 0.1534 - dice_coeff: 0.5545 - val_loss: 0.2660 - val_dice_coeff: 0.3684\n",
      "Epoch 45/100\n",
      "8/8 [==============================] - 12s 2s/step - loss: 0.1527 - dice_coeff: 0.5562 - val_loss: 0.2470 - val_dice_coeff: 0.3997\n",
      "Epoch 46/100\n",
      "8/8 [==============================] - 12s 2s/step - loss: 0.1502 - dice_coeff: 0.5604 - val_loss: 0.2429 - val_dice_coeff: 0.4055\n",
      "Epoch 47/100\n",
      "8/8 [==============================] - 12s 2s/step - loss: 0.1494 - dice_coeff: 0.5613 - val_loss: 0.2248 - val_dice_coeff: 0.4399\n",
      "Epoch 48/100\n",
      "8/8 [==============================] - 12s 2s/step - loss: 0.1487 - dice_coeff: 0.5635 - val_loss: 0.2174 - val_dice_coeff: 0.4504\n",
      "Epoch 49/100\n",
      "8/8 [==============================] - 12s 2s/step - loss: 0.1472 - dice_coeff: 0.5660 - val_loss: 0.2212 - val_dice_coeff: 0.4346\n",
      "Epoch 50/100\n",
      "8/8 [==============================] - 12s 2s/step - loss: 0.1448 - dice_coeff: 0.5692 - val_loss: 0.2168 - val_dice_coeff: 0.4397\n",
      "Epoch 51/100\n",
      "8/8 [==============================] - 12s 2s/step - loss: 0.1426 - dice_coeff: 0.5726 - val_loss: 0.2078 - val_dice_coeff: 0.4574\n",
      "Epoch 52/100\n",
      "8/8 [==============================] - 12s 2s/step - loss: 0.1412 - dice_coeff: 0.5756 - val_loss: 0.1992 - val_dice_coeff: 0.4762\n",
      "Epoch 53/100\n",
      "8/8 [==============================] - 12s 2s/step - loss: 0.1403 - dice_coeff: 0.5775 - val_loss: 0.1930 - val_dice_coeff: 0.4919\n",
      "Epoch 54/100\n",
      "8/8 [==============================] - 12s 2s/step - loss: 0.1400 - dice_coeff: 0.5781 - val_loss: 0.2000 - val_dice_coeff: 0.4691\n",
      "Epoch 55/100\n",
      "8/8 [==============================] - 12s 2s/step - loss: 0.1391 - dice_coeff: 0.5796 - val_loss: 0.1904 - val_dice_coeff: 0.4895\n",
      "Epoch 56/100\n",
      "8/8 [==============================] - 12s 2s/step - loss: 0.1374 - dice_coeff: 0.5819 - val_loss: 0.1853 - val_dice_coeff: 0.4976\n",
      "Epoch 57/100\n"
     ]
    },
    {
     "name": "stdout",
     "output_type": "stream",
     "text": [
      "8/8 [==============================] - 12s 2s/step - loss: 0.1357 - dice_coeff: 0.5858 - val_loss: 0.1813 - val_dice_coeff: 0.5098\n",
      "Epoch 58/100\n",
      "8/8 [==============================] - 12s 2s/step - loss: 0.1344 - dice_coeff: 0.5877 - val_loss: 0.1801 - val_dice_coeff: 0.5075\n",
      "Epoch 59/100\n",
      "8/8 [==============================] - 12s 2s/step - loss: 0.1336 - dice_coeff: 0.5890 - val_loss: 0.1841 - val_dice_coeff: 0.4924\n",
      "Epoch 60/100\n",
      "8/8 [==============================] - 12s 2s/step - loss: 0.1321 - dice_coeff: 0.5914 - val_loss: 0.1751 - val_dice_coeff: 0.5160\n",
      "Epoch 61/100\n",
      "8/8 [==============================] - 12s 2s/step - loss: 0.1316 - dice_coeff: 0.5926 - val_loss: 0.1697 - val_dice_coeff: 0.5294\n",
      "Epoch 62/100\n",
      "8/8 [==============================] - 12s 2s/step - loss: 0.1298 - dice_coeff: 0.5964 - val_loss: 0.1697 - val_dice_coeff: 0.5341\n",
      "Epoch 63/100\n",
      "8/8 [==============================] - 12s 2s/step - loss: 0.1294 - dice_coeff: 0.5970 - val_loss: 0.1663 - val_dice_coeff: 0.5389\n",
      "Epoch 64/100\n",
      "8/8 [==============================] - 12s 2s/step - loss: 0.1282 - dice_coeff: 0.5990 - val_loss: 0.1659 - val_dice_coeff: 0.5312\n",
      "Epoch 65/100\n",
      "8/8 [==============================] - 12s 2s/step - loss: 0.1271 - dice_coeff: 0.6015 - val_loss: 0.1636 - val_dice_coeff: 0.5362\n",
      "Epoch 66/100\n",
      "8/8 [==============================] - 12s 2s/step - loss: 0.1259 - dice_coeff: 0.6039 - val_loss: 0.1617 - val_dice_coeff: 0.5425\n",
      "Epoch 67/100\n",
      "8/8 [==============================] - 12s 2s/step - loss: 0.1244 - dice_coeff: 0.6063 - val_loss: 0.1644 - val_dice_coeff: 0.5321\n",
      "Epoch 68/100\n",
      "8/8 [==============================] - 12s 2s/step - loss: 0.1259 - dice_coeff: 0.6043 - val_loss: 0.1668 - val_dice_coeff: 0.5221\n",
      "Epoch 69/100\n",
      "8/8 [==============================] - 12s 2s/step - loss: 0.1238 - dice_coeff: 0.6078 - val_loss: 0.1587 - val_dice_coeff: 0.5427\n",
      "Epoch 70/100\n",
      "8/8 [==============================] - 12s 2s/step - loss: 0.1231 - dice_coeff: 0.6087 - val_loss: 0.1549 - val_dice_coeff: 0.5580\n",
      "Epoch 71/100\n",
      "8/8 [==============================] - 12s 2s/step - loss: 0.1235 - dice_coeff: 0.6089 - val_loss: 0.1559 - val_dice_coeff: 0.5629\n",
      "Epoch 72/100\n",
      "8/8 [==============================] - 12s 2s/step - loss: 0.1218 - dice_coeff: 0.6125 - val_loss: 0.1524 - val_dice_coeff: 0.5630\n",
      "Epoch 73/100\n",
      "8/8 [==============================] - 12s 2s/step - loss: 0.1195 - dice_coeff: 0.6161 - val_loss: 0.1510 - val_dice_coeff: 0.5676\n",
      "Epoch 74/100\n",
      "8/8 [==============================] - 12s 2s/step - loss: 0.1183 - dice_coeff: 0.6184 - val_loss: 0.1502 - val_dice_coeff: 0.5701\n",
      "Epoch 75/100\n",
      "8/8 [==============================] - 12s 2s/step - loss: 0.1171 - dice_coeff: 0.6212 - val_loss: 0.1504 - val_dice_coeff: 0.5676\n",
      "Epoch 76/100\n",
      "8/8 [==============================] - 12s 2s/step - loss: 0.1172 - dice_coeff: 0.6212 - val_loss: 0.1490 - val_dice_coeff: 0.5679\n",
      "Epoch 77/100\n",
      "8/8 [==============================] - 12s 2s/step - loss: 0.1164 - dice_coeff: 0.6227 - val_loss: 0.1473 - val_dice_coeff: 0.5705\n",
      "Epoch 78/100\n",
      "8/8 [==============================] - 12s 2s/step - loss: 0.1164 - dice_coeff: 0.6231 - val_loss: 0.1458 - val_dice_coeff: 0.5823\n",
      "Epoch 79/100\n",
      "8/8 [==============================] - 12s 2s/step - loss: 0.1137 - dice_coeff: 0.6277 - val_loss: 0.1451 - val_dice_coeff: 0.5841\n",
      "Epoch 80/100\n",
      "8/8 [==============================] - 12s 2s/step - loss: 0.1129 - dice_coeff: 0.6296 - val_loss: 0.1461 - val_dice_coeff: 0.5858\n",
      "Epoch 81/100\n",
      "8/8 [==============================] - 12s 2s/step - loss: 0.1122 - dice_coeff: 0.6314 - val_loss: 0.1426 - val_dice_coeff: 0.5815\n",
      "Epoch 82/100\n",
      "8/8 [==============================] - 12s 2s/step - loss: 0.1113 - dice_coeff: 0.6326 - val_loss: 0.1404 - val_dice_coeff: 0.5900\n",
      "Epoch 83/100\n",
      "8/8 [==============================] - 12s 2s/step - loss: 0.1108 - dice_coeff: 0.6341 - val_loss: 0.1409 - val_dice_coeff: 0.5924\n",
      "Epoch 84/100\n",
      "8/8 [==============================] - 12s 2s/step - loss: 0.1101 - dice_coeff: 0.6362 - val_loss: 0.1407 - val_dice_coeff: 0.5961\n",
      "Epoch 85/100\n",
      "8/8 [==============================] - 12s 2s/step - loss: 0.1084 - dice_coeff: 0.6385 - val_loss: 0.1383 - val_dice_coeff: 0.5972\n",
      "Epoch 86/100\n",
      "8/8 [==============================] - 12s 2s/step - loss: 0.1081 - dice_coeff: 0.6399 - val_loss: 0.1363 - val_dice_coeff: 0.5967\n",
      "Epoch 87/100\n",
      "8/8 [==============================] - 12s 2s/step - loss: 0.1070 - dice_coeff: 0.6423 - val_loss: 0.1362 - val_dice_coeff: 0.5960\n",
      "Epoch 88/100\n",
      "8/8 [==============================] - 12s 2s/step - loss: 0.1063 - dice_coeff: 0.6436 - val_loss: 0.1351 - val_dice_coeff: 0.5962\n",
      "Epoch 89/100\n",
      "8/8 [==============================] - 12s 2s/step - loss: 0.1056 - dice_coeff: 0.6453 - val_loss: 0.1343 - val_dice_coeff: 0.5952\n",
      "Epoch 90/100\n",
      "8/8 [==============================] - 12s 2s/step - loss: 0.1048 - dice_coeff: 0.6473 - val_loss: 0.1336 - val_dice_coeff: 0.5954\n",
      "Epoch 91/100\n",
      "8/8 [==============================] - 12s 2s/step - loss: 0.1054 - dice_coeff: 0.6464 - val_loss: 0.1322 - val_dice_coeff: 0.6017\n",
      "Epoch 92/100\n",
      "8/8 [==============================] - 12s 2s/step - loss: 0.1034 - dice_coeff: 0.6506 - val_loss: 0.1308 - val_dice_coeff: 0.6050\n",
      "Epoch 93/100\n",
      "8/8 [==============================] - 12s 2s/step - loss: 0.1030 - dice_coeff: 0.6513 - val_loss: 0.1314 - val_dice_coeff: 0.6001\n",
      "Epoch 94/100\n",
      "8/8 [==============================] - 11s 2s/step - loss: 0.1013 - dice_coeff: 0.6546 - val_loss: 0.1291 - val_dice_coeff: 0.6072\n",
      "Epoch 95/100\n",
      "8/8 [==============================] - 12s 2s/step - loss: 0.1009 - dice_coeff: 0.6559 - val_loss: 0.1289 - val_dice_coeff: 0.6155\n",
      "Epoch 96/100\n",
      "8/8 [==============================] - 12s 2s/step - loss: 0.1013 - dice_coeff: 0.6554 - val_loss: 0.1280 - val_dice_coeff: 0.6149\n",
      "Epoch 97/100\n",
      "8/8 [==============================] - 12s 2s/step - loss: 0.0995 - dice_coeff: 0.6592 - val_loss: 0.1265 - val_dice_coeff: 0.6145\n",
      "Epoch 98/100\n",
      "8/8 [==============================] - 12s 2s/step - loss: 0.0989 - dice_coeff: 0.6607 - val_loss: 0.1292 - val_dice_coeff: 0.6033\n",
      "Epoch 99/100\n",
      "8/8 [==============================] - 12s 2s/step - loss: 0.0981 - dice_coeff: 0.6621 - val_loss: 0.1275 - val_dice_coeff: 0.6087\n",
      "Epoch 100/100\n",
      "8/8 [==============================] - 12s 2s/step - loss: 0.0973 - dice_coeff: 0.6640 - val_loss: 0.1253 - val_dice_coeff: 0.6163\n",
      "Model saved to: /tmp/tmp3ulrxntbGP2/kunetplus2d_0kunetplus2d_model\n",
      "History saved to: /tmp/tmp3ulrxntbGP2/kunetplus2d_history_0.pkl\n",
      "Testing the classifier...\n",
      "****** TRAINING DISCRIMINATOR ******\n",
      "Model saved to /tmp/tmp3ulrxntbGP2/cnnd_0.model\n",
      "History saved to /tmp/tmp3ulrxntbGP2/cnnd_history_0.pickle\n",
      "Testing the discriminator...\n",
      "19/19 [==============================] - 0s 24ms/step - loss: 8.8025 - accuracy: 0.4783\n",
      "No machine labels found. Skipping step 6.\n",
      "No more machine labels.\n",
      "TOOK 2273.527174949646 seconds\n"
     ]
    }
   ],
   "source": [
    "R.run(images=images, masks=masks, runs=8, use_multi_gpu=True)"
   ]
  },
  {
   "cell_type": "code",
   "execution_count": 9,
   "id": "dab6fd49",
   "metadata": {},
   "outputs": [
    {
     "data": {
      "text/plain": [
       "[[0.12479136139154434, 0.6150396466255188]]"
      ]
     },
     "execution_count": 9,
     "metadata": {},
     "output_type": "execute_result"
    }
   ],
   "source": [
    "R.classifier_scores"
   ]
  },
  {
   "cell_type": "code",
   "execution_count": 10,
   "id": "b044837f",
   "metadata": {},
   "outputs": [
    {
     "data": {
      "text/plain": [
       "[[8.80250072479248, 0.47833332419395447]]"
      ]
     },
     "execution_count": 10,
     "metadata": {},
     "output_type": "execute_result"
    }
   ],
   "source": [
    "R.discriminator_scores"
   ]
  },
  {
   "cell_type": "code",
   "execution_count": 11,
   "id": "a326f80b",
   "metadata": {},
   "outputs": [
    {
     "data": {
      "image/png": "[encoded data removed]",
      "text/plain": [
       "<Figure size 240x240 with 1 Axes>"
      ]
     },
     "metadata": {
      "needs_background": "light"
     },
     "output_type": "display_data"
    }
   ],
   "source": [
    "R.plot()"
   ]
  },
  {
   "cell_type": "code",
   "execution_count": null,
   "id": "f90108ab",
   "metadata": {},
   "outputs": [],
   "source": []
  },
  {
   "cell_type": "code",
   "execution_count": null,
   "id": "7f3b4a58",
   "metadata": {},
   "outputs": [],
   "source": []
  }
 ],
 "metadata": {
  "kernelspec": {
   "display_name": "Python 3 (ipykernel)",
   "language": "python",
   "name": "python3"
  },
  "language_info": {
   "codemirror_mode": {
    "name": "ipython",
    "version": 3
   },
   "file_extension": ".py",
   "mimetype": "text/x-python",
   "name": "python",
   "nbconvert_exporter": "python",
   "pygments_lexer": "ipython3",
   "version": "3.9.7"
  }
 },
 "nbformat": 4,
 "nbformat_minor": 5
}
