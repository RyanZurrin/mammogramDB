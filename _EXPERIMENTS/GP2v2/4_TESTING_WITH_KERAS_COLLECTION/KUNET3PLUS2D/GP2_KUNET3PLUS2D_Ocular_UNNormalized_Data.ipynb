{
 "cells": [
  {
   "cell_type": "code",
   "execution_count": 1,
   "id": "06c4accc",
   "metadata": {},
   "outputs": [
    {
     "name": "stdout",
     "output_type": "stream",
     "text": [
      "Populating the interactive namespace from numpy and matplotlib\n"
     ]
    }
   ],
   "source": [
    "%pylab inline\n",
    "%load_ext autoreload\n",
    "%autoreload 2"
   ]
  },
  {
   "cell_type": "code",
   "execution_count": 2,
   "id": "b9e78ed8",
   "metadata": {},
   "outputs": [
    {
     "name": "stdout",
     "output_type": "stream",
     "text": [
      "-----------------------------------------\n",
      "keras-unet init: TF version is >= 2.0.0 - using `tf.keras` instead of `Keras`\n",
      "-----------------------------------------\n"
     ]
    }
   ],
   "source": [
    "import time\n",
    "import sys\n",
    "sys.path.insert(0,'../../..')\n",
    "from omama import gp2\n",
    "from omama.gp2 import Runner\n",
    "from keras import losses, metrics\n",
    "from tensorflow.keras import optimizers"
   ]
  },
  {
   "cell_type": "code",
   "execution_count": 3,
   "id": "bdc75325",
   "metadata": {},
   "outputs": [
    {
     "name": "stdout",
     "output_type": "stream",
     "text": [
      "KUNet3Plus2D: None, None, None\n",
      "*** GP2  KUNet3Plus2D ***\n",
      "Working directory: /tmp/tmpv219wmgfGP2\n",
      "Using  discriminator (CNN+)\n"
     ]
    }
   ],
   "source": [
    "R = Runner(classifier='kunet3plus2d',\n",
    "           discriminator='cnnplus',\n",
    "           filter_num_down=[16, 32, 64, 128, 256], \n",
    "           filter_num_skip=[16, 16, 16, 16], \n",
    "           filter_num_aggregate=32, \n",
    "           stack_num_down=2, \n",
    "           stack_num_up=1, \n",
    "           activation='ReLU', \n",
    "           output_activation='Sigmoid', \n",
    "           batch_norm=False, \n",
    "           pool=False, \n",
    "           unpool=False, \n",
    "           deep_supervision=False, \n",
    "           optimizer=None, \n",
    "           loss=None,\n",
    "           metric=None\n",
    "          )"
   ]
  },
  {
   "cell_type": "code",
   "execution_count": 4,
   "id": "87b0c65d",
   "metadata": {},
   "outputs": [],
   "source": [
    "# load our larger toy dataset (10k images and masks)\n",
    "images = np.load('/hpcstor6/scratch01/r/ryan.zurrin001/gp2_ocular_unnormalized_images.npy')\n",
    "masks = np.load('/hpcstor6/scratch01/r/ryan.zurrin001/gp2_ocular_unnormalized_masks.npy')"
   ]
  },
  {
   "cell_type": "code",
   "execution_count": 5,
   "id": "7330ad24",
   "metadata": {},
   "outputs": [],
   "source": [
    "images = images[:6392]\n",
    "masks = masks[:6392]"
   ]
  },
  {
   "cell_type": "code",
   "execution_count": 6,
   "id": "d5b4179a",
   "metadata": {},
   "outputs": [
    {
     "data": {
      "text/plain": [
       "(6392, 512, 512, 1)"
      ]
     },
     "execution_count": 6,
     "metadata": {},
     "output_type": "execute_result"
    }
   ],
   "source": [
    "images.shape"
   ]
  },
  {
   "cell_type": "code",
   "execution_count": 7,
   "id": "57033c4e",
   "metadata": {},
   "outputs": [
    {
     "data": {
      "text/plain": [
       "(6392, 512, 512, 1)"
      ]
     },
     "execution_count": 7,
     "metadata": {},
     "output_type": "execute_result"
    }
   ],
   "source": [
    "masks.shape"
   ]
  },
  {
   "cell_type": "code",
   "execution_count": 8,
   "id": "1dd71668",
   "metadata": {},
   "outputs": [],
   "source": [
    "weights = {\n",
    "    'A': 0.5,\n",
    "    'A_train': 0.1,\n",
    "    'A_val': 0.3,\n",
    "    'A_test': 0.6,\n",
    "    'B': 0.3,\n",
    "    'B_train': 0.7,\n",
    "    'B_val': 0.1,\n",
    "    'B_test': 0.2,\n",
    "    'Z': 0.2\n",
    "}"
   ]
  },
  {
   "cell_type": "code",
   "execution_count": 9,
   "id": "d8ff85c4",
   "metadata": {
    "scrolled": false
   },
   "outputs": [
    {
     "name": "stdout",
     "output_type": "stream",
     "text": [
      "Weights OK!\n",
      "******\n",
      "Loop 1\n",
      "Epoch 1/100\n",
      "5/5 [==============================] - 35s 5s/step - loss: 0.6613 - dice_coeff: 0.4084 - val_loss: 0.7020 - val_dice_coeff: 0.2803\n",
      "Epoch 2/100\n",
      "5/5 [==============================] - 7s 1s/step - loss: 0.5768 - dice_coeff: 0.4519 - val_loss: 0.7113 - val_dice_coeff: 0.2902\n",
      "Epoch 3/100\n",
      "5/5 [==============================] - 7s 2s/step - loss: 0.5212 - dice_coeff: 0.4888 - val_loss: 0.7187 - val_dice_coeff: 0.2980\n",
      "Epoch 4/100\n",
      "5/5 [==============================] - 7s 1s/step - loss: 0.4795 - dice_coeff: 0.5140 - val_loss: 0.7241 - val_dice_coeff: 0.3043\n",
      "Epoch 5/100\n",
      "5/5 [==============================] - 7s 1s/step - loss: 0.4403 - dice_coeff: 0.5385 - val_loss: 0.7276 - val_dice_coeff: 0.3092\n",
      "Epoch 6/100\n",
      "5/5 [==============================] - 7s 2s/step - loss: 0.4063 - dice_coeff: 0.5607 - val_loss: 0.7287 - val_dice_coeff: 0.3132\n",
      "Epoch 7/100\n",
      "5/5 [==============================] - 7s 1s/step - loss: 0.3758 - dice_coeff: 0.5824 - val_loss: 0.7300 - val_dice_coeff: 0.3176\n",
      "Epoch 8/100\n",
      "5/5 [==============================] - 7s 1s/step - loss: 0.3507 - dice_coeff: 0.6008 - val_loss: 0.7308 - val_dice_coeff: 0.3219\n",
      "Epoch 9/100\n",
      "5/5 [==============================] - 7s 1s/step - loss: 0.3302 - dice_coeff: 0.6186 - val_loss: 0.7305 - val_dice_coeff: 0.3259\n",
      "Epoch 10/100\n",
      "5/5 [==============================] - 7s 1s/step - loss: 0.3174 - dice_coeff: 0.6314 - val_loss: 0.7299 - val_dice_coeff: 0.3301\n",
      "Epoch 11/100\n",
      "5/5 [==============================] - 7s 1s/step - loss: 0.3000 - dice_coeff: 0.6488 - val_loss: 0.7217 - val_dice_coeff: 0.3313\n",
      "Epoch 12/100\n",
      "5/5 [==============================] - 7s 1s/step - loss: 0.2864 - dice_coeff: 0.6617 - val_loss: 0.7195 - val_dice_coeff: 0.3356\n",
      "Epoch 13/100\n",
      "5/5 [==============================] - 7s 1s/step - loss: 0.2821 - dice_coeff: 0.6657 - val_loss: 0.7147 - val_dice_coeff: 0.3389\n",
      "Epoch 14/100\n",
      "5/5 [==============================] - 7s 1s/step - loss: 0.2694 - dice_coeff: 0.6798 - val_loss: 0.7040 - val_dice_coeff: 0.3408\n",
      "Epoch 15/100\n",
      "5/5 [==============================] - 7s 1s/step - loss: 0.2623 - dice_coeff: 0.6860 - val_loss: 0.6915 - val_dice_coeff: 0.3416\n",
      "Epoch 16/100\n",
      "5/5 [==============================] - 7s 2s/step - loss: 0.2563 - dice_coeff: 0.6926 - val_loss: 0.6896 - val_dice_coeff: 0.3467\n",
      "Epoch 17/100\n",
      "5/5 [==============================] - 7s 2s/step - loss: 0.2527 - dice_coeff: 0.6966 - val_loss: 0.6774 - val_dice_coeff: 0.3486\n",
      "Epoch 18/100\n",
      "5/5 [==============================] - 7s 2s/step - loss: 0.2454 - dice_coeff: 0.7037 - val_loss: 0.6687 - val_dice_coeff: 0.3524\n",
      "Epoch 19/100\n",
      "5/5 [==============================] - 7s 2s/step - loss: 0.2424 - dice_coeff: 0.7076 - val_loss: 0.6561 - val_dice_coeff: 0.3547\n",
      "Epoch 20/100\n",
      "5/5 [==============================] - 7s 1s/step - loss: 0.2444 - dice_coeff: 0.7041 - val_loss: 0.6653 - val_dice_coeff: 0.3644\n",
      "Epoch 21/100\n",
      "5/5 [==============================] - 7s 2s/step - loss: 0.2377 - dice_coeff: 0.7149 - val_loss: 0.6386 - val_dice_coeff: 0.3629\n",
      "Epoch 22/100\n",
      "5/5 [==============================] - 7s 2s/step - loss: 0.2399 - dice_coeff: 0.7140 - val_loss: 0.6313 - val_dice_coeff: 0.3689\n",
      "Epoch 23/100\n",
      "5/5 [==============================] - 7s 2s/step - loss: 0.2364 - dice_coeff: 0.7160 - val_loss: 0.6090 - val_dice_coeff: 0.3689\n",
      "Epoch 24/100\n",
      "5/5 [==============================] - 7s 2s/step - loss: 0.2286 - dice_coeff: 0.7248 - val_loss: 0.6100 - val_dice_coeff: 0.3737\n",
      "Epoch 25/100\n",
      "5/5 [==============================] - 7s 1s/step - loss: 0.2324 - dice_coeff: 0.7193 - val_loss: 0.5926 - val_dice_coeff: 0.3774\n",
      "Epoch 26/100\n",
      "5/5 [==============================] - 7s 2s/step - loss: 0.2234 - dice_coeff: 0.7291 - val_loss: 0.5665 - val_dice_coeff: 0.3777\n",
      "Epoch 27/100\n",
      "5/5 [==============================] - 7s 1s/step - loss: 0.2186 - dice_coeff: 0.7327 - val_loss: 0.5622 - val_dice_coeff: 0.3852\n",
      "Epoch 28/100\n",
      "5/5 [==============================] - 7s 2s/step - loss: 0.2178 - dice_coeff: 0.7336 - val_loss: 0.5416 - val_dice_coeff: 0.3864\n",
      "Epoch 29/100\n",
      "5/5 [==============================] - 7s 2s/step - loss: 0.2164 - dice_coeff: 0.7367 - val_loss: 0.5244 - val_dice_coeff: 0.3878\n",
      "Epoch 30/100\n",
      "5/5 [==============================] - 7s 2s/step - loss: 0.2135 - dice_coeff: 0.7395 - val_loss: 0.5360 - val_dice_coeff: 0.4055\n",
      "Epoch 31/100\n",
      "5/5 [==============================] - 7s 1s/step - loss: 0.2283 - dice_coeff: 0.7289 - val_loss: 0.5085 - val_dice_coeff: 0.4055\n",
      "Epoch 32/100\n",
      "5/5 [==============================] - 7s 2s/step - loss: 0.2187 - dice_coeff: 0.7368 - val_loss: 0.4904 - val_dice_coeff: 0.4089\n",
      "Model saved to: /tmp/tmpv219wmgfGP2/unet3plus_0unet3plus_model\n",
      "History saved to: /tmp/tmpv219wmgfGP2/unet3plus_history_0.pkl\n",
      "Testing the classifier...\n",
      "****** TRAINING DISCRIMINATOR ******\n",
      "Model saved to /tmp/tmpv219wmgfGP2/cnnd_0.model\n",
      "History saved to /tmp/tmpv219wmgfGP2/cnnd_history_0.pickle\n",
      "Testing the discriminator...\n",
      "12/12 [==============================] - 1s 38ms/step - loss: 0.6379 - accuracy: 0.9791\n",
      "Replacing 66 from 198 !\n",
      "D_relabeled_ 66\n",
      "point ids 66\n",
      "Removed: 66 Filled: 66\n",
      "TOOK 522.4961671829224 seconds\n",
      "==== DONE LOOP 1 ====\n",
      "******\n",
      "Loop 2\n",
      "Epoch 1/100\n",
      "7/7 [==============================] - 10s 2s/step - loss: 0.2128 - dice_coeff: 0.7409 - val_loss: 0.4903 - val_dice_coeff: 0.4228\n",
      "Epoch 2/100\n",
      "7/7 [==============================] - 7s 1s/step - loss: 0.2081 - dice_coeff: 0.6467 - val_loss: 0.4437 - val_dice_coeff: 0.3917\n",
      "Epoch 3/100\n",
      "7/7 [==============================] - 8s 1s/step - loss: 0.2136 - dice_coeff: 0.6839 - val_loss: 0.4329 - val_dice_coeff: 0.4090\n",
      "Epoch 4/100\n",
      "7/7 [==============================] - 8s 1s/step - loss: 0.2131 - dice_coeff: 0.7091 - val_loss: 0.4102 - val_dice_coeff: 0.3968\n",
      "Model saved to: /tmp/tmpv219wmgfGP2/unet3plus_1unet3plus_model\n",
      "History saved to: /tmp/tmpv219wmgfGP2/unet3plus_history_1.pkl\n",
      "Testing the classifier...\n",
      "Testing the discriminator...\n",
      "12/12 [==============================] - 0s 36ms/step - loss: 0.2861 - accuracy: 0.9817\n",
      "Replacing 61 from 185 !\n",
      "D_relabeled_ 61\n",
      "point ids 61\n",
      "Removed: 61 Filled: 61\n",
      "TOOK 124.99399948120117 seconds\n",
      "==== DONE LOOP 2 ====\n",
      "******\n",
      "Loop 3\n",
      "Epoch 1/100\n",
      "7/7 [==============================] - 14s 2s/step - loss: 0.2124 - dice_coeff: 0.7064 - val_loss: 0.3982 - val_dice_coeff: 0.4190\n",
      "Epoch 2/100\n",
      "7/7 [==============================] - 8s 1s/step - loss: 0.2124 - dice_coeff: 0.7140 - val_loss: 0.3905 - val_dice_coeff: 0.4386\n",
      "Epoch 3/100\n",
      "7/7 [==============================] - 8s 1s/step - loss: 0.2088 - dice_coeff: 0.7144 - val_loss: 0.3734 - val_dice_coeff: 0.4450\n",
      "Epoch 4/100\n",
      "7/7 [==============================] - 8s 1s/step - loss: 0.2038 - dice_coeff: 0.7232 - val_loss: 0.3629 - val_dice_coeff: 0.4557\n",
      "Epoch 5/100\n",
      "7/7 [==============================] - 8s 1s/step - loss: 0.2057 - dice_coeff: 0.7221 - val_loss: 0.3495 - val_dice_coeff: 0.4593\n",
      "Epoch 6/100\n",
      "7/7 [==============================] - 8s 1s/step - loss: 0.1972 - dice_coeff: 0.7294 - val_loss: 0.3346 - val_dice_coeff: 0.4646\n",
      "Epoch 7/100\n",
      "7/7 [==============================] - 9s 1s/step - loss: 0.1961 - dice_coeff: 0.7321 - val_loss: 0.3195 - val_dice_coeff: 0.4640\n",
      "Epoch 8/100\n",
      "7/7 [==============================] - 8s 1s/step - loss: 0.1987 - dice_coeff: 0.7302 - val_loss: 0.3106 - val_dice_coeff: 0.4817\n",
      "Epoch 9/100\n",
      "7/7 [==============================] - 8s 1s/step - loss: 0.1996 - dice_coeff: 0.7317 - val_loss: 0.3085 - val_dice_coeff: 0.5009\n",
      "Model saved to: /tmp/tmpv219wmgfGP2/unet3plus_2unet3plus_model\n",
      "History saved to: /tmp/tmpv219wmgfGP2/unet3plus_history_2.pkl\n",
      "Testing the classifier...\n",
      "Testing the discriminator...\n",
      "12/12 [==============================] - 0s 36ms/step - loss: 0.1891 - accuracy: 0.9843\n",
      "Replacing 66 from 198 !\n",
      "D_relabeled_ 66\n",
      "point ids 66\n",
      "Removed: 66 Filled: 66\n",
      "TOOK 245.02129673957825 seconds\n",
      "==== DONE LOOP 3 ====\n",
      "******\n",
      "Loop 4\n",
      "Epoch 1/100\n",
      "8/8 [==============================] - 11s 1s/step - loss: 0.1888 - dice_coeff: 0.7376 - val_loss: 0.2895 - val_dice_coeff: 0.4689\n",
      "Epoch 2/100\n",
      "8/8 [==============================] - 9s 1s/step - loss: 0.1918 - dice_coeff: 0.7334 - val_loss: 0.2734 - val_dice_coeff: 0.4989\n",
      "Epoch 3/100\n",
      "8/8 [==============================] - 9s 1s/step - loss: 0.1857 - dice_coeff: 0.7403 - val_loss: 0.2653 - val_dice_coeff: 0.5212\n",
      "Epoch 4/100\n",
      "8/8 [==============================] - 9s 1s/step - loss: 0.1874 - dice_coeff: 0.7391 - val_loss: 0.2569 - val_dice_coeff: 0.5229\n",
      "Epoch 5/100\n",
      "8/8 [==============================] - 9s 1s/step - loss: 0.1835 - dice_coeff: 0.7435 - val_loss: 0.2540 - val_dice_coeff: 0.5063\n",
      "Epoch 6/100\n",
      "8/8 [==============================] - 9s 1s/step - loss: 0.1865 - dice_coeff: 0.7416 - val_loss: 0.2383 - val_dice_coeff: 0.5445\n",
      "Epoch 7/100\n",
      "8/8 [==============================] - 9s 1s/step - loss: 0.1856 - dice_coeff: 0.7445 - val_loss: 0.2369 - val_dice_coeff: 0.5333\n",
      "Model saved to: /tmp/tmpv219wmgfGP2/unet3plus_3unet3plus_model\n",
      "History saved to: /tmp/tmpv219wmgfGP2/unet3plus_history_3.pkl\n",
      "Testing the classifier...\n",
      "Testing the discriminator...\n",
      "12/12 [==============================] - 0s 37ms/step - loss: 0.2794 - accuracy: 0.9817\n",
      "Replacing 62 from 188 !\n",
      "D_relabeled_ 62\n",
      "point ids 62\n",
      "Removed: 62 Filled: 62\n",
      "TOOK 186.1856927871704 seconds\n",
      "==== DONE LOOP 4 ====\n",
      "******\n",
      "Loop 5\n",
      "Epoch 1/100\n",
      "9/9 [==============================] - 10s 1s/step - loss: 0.1865 - dice_coeff: 0.7405 - val_loss: 0.2237 - val_dice_coeff: 0.5606\n",
      "Epoch 2/100\n",
      "9/9 [==============================] - 9s 1s/step - loss: 0.1860 - dice_coeff: 0.7388 - val_loss: 0.2247 - val_dice_coeff: 0.5481\n",
      "Epoch 3/100\n",
      "9/9 [==============================] - 10s 1s/step - loss: 0.1900 - dice_coeff: 0.7392 - val_loss: 0.2215 - val_dice_coeff: 0.5736\n",
      "Epoch 4/100\n",
      "9/9 [==============================] - 10s 1s/step - loss: 0.1819 - dice_coeff: 0.7469 - val_loss: 0.2191 - val_dice_coeff: 0.5555\n",
      "Epoch 5/100\n",
      "9/9 [==============================] - 10s 1s/step - loss: 0.1811 - dice_coeff: 0.7458 - val_loss: 0.1983 - val_dice_coeff: 0.6157\n",
      "Epoch 6/100\n",
      "9/9 [==============================] - 10s 1s/step - loss: 0.1752 - dice_coeff: 0.7525 - val_loss: 0.1964 - val_dice_coeff: 0.6166\n",
      "Epoch 7/100\n",
      "9/9 [==============================] - 10s 1s/step - loss: 0.1786 - dice_coeff: 0.7521 - val_loss: 0.1977 - val_dice_coeff: 0.6035\n",
      "Epoch 8/100\n",
      "9/9 [==============================] - 10s 1s/step - loss: 0.1722 - dice_coeff: 0.7560 - val_loss: 0.2084 - val_dice_coeff: 0.5812\n",
      "Epoch 9/100\n",
      "9/9 [==============================] - 10s 1s/step - loss: 0.1707 - dice_coeff: 0.7587 - val_loss: 0.1902 - val_dice_coeff: 0.6270\n",
      "Epoch 10/100\n",
      "9/9 [==============================] - 10s 1s/step - loss: 0.1818 - dice_coeff: 0.7498 - val_loss: 0.2062 - val_dice_coeff: 0.5885\n",
      "Epoch 11/100\n",
      "9/9 [==============================] - 10s 1s/step - loss: 0.1706 - dice_coeff: 0.7621 - val_loss: 0.1821 - val_dice_coeff: 0.6483\n",
      "Epoch 12/100\n",
      "9/9 [==============================] - 10s 1s/step - loss: 0.1761 - dice_coeff: 0.7568 - val_loss: 0.2118 - val_dice_coeff: 0.5852\n",
      "Epoch 13/100\n",
      "9/9 [==============================] - 10s 1s/step - loss: 0.1683 - dice_coeff: 0.7627 - val_loss: 0.1801 - val_dice_coeff: 0.6496\n",
      "Epoch 14/100\n",
      "9/9 [==============================] - 10s 1s/step - loss: 0.1796 - dice_coeff: 0.7536 - val_loss: 0.1767 - val_dice_coeff: 0.6501\n",
      "Epoch 15/100\n",
      "9/9 [==============================] - 10s 1s/step - loss: 0.1739 - dice_coeff: 0.7593 - val_loss: 0.1898 - val_dice_coeff: 0.6302\n",
      "Model saved to: /tmp/tmpv219wmgfGP2/unet3plus_4unet3plus_model\n",
      "History saved to: /tmp/tmpv219wmgfGP2/unet3plus_history_4.pkl\n",
      "Testing the classifier...\n",
      "Testing the discriminator...\n",
      "12/12 [==============================] - 1s 45ms/step - loss: 3.3907 - accuracy: 0.8616\n",
      "Replacing 51 from 153 !\n",
      "D_relabeled_ 51\n",
      "point ids 51\n",
      "Removed: 51 Filled: 51\n",
      "TOOK 305.90464520454407 seconds\n",
      "==== DONE LOOP 5 ====\n",
      "******\n",
      "Loop 6\n",
      "Epoch 1/100\n",
      "10/10 [==============================] - 19s 2s/step - loss: 0.1699 - dice_coeff: 0.7575 - val_loss: 0.2435 - val_dice_coeff: 0.6871\n",
      "Epoch 2/100\n",
      "10/10 [==============================] - 10s 1s/step - loss: 0.1645 - dice_coeff: 0.7636 - val_loss: 0.1780 - val_dice_coeff: 0.6561\n",
      "Epoch 3/100\n",
      "10/10 [==============================] - 10s 1s/step - loss: 0.1654 - dice_coeff: 0.7619 - val_loss: 0.1619 - val_dice_coeff: 0.6977\n",
      "Epoch 4/100\n",
      "10/10 [==============================] - 10s 1s/step - loss: 0.1674 - dice_coeff: 0.7596 - val_loss: 0.1630 - val_dice_coeff: 0.7034\n",
      "Model saved to: /tmp/tmpv219wmgfGP2/unet3plus_5unet3plus_model\n",
      "History saved to: /tmp/tmpv219wmgfGP2/unet3plus_history_5.pkl\n",
      "Testing the classifier...\n",
      "Testing the discriminator...\n",
      "12/12 [==============================] - 0s 36ms/step - loss: 2.2468 - accuracy: 0.8903\n",
      "Replacing 52 from 156 !\n",
      "D_relabeled_ 52\n",
      "point ids 52\n",
      "Removed: 52 Filled: 52\n",
      "TOOK 125.69079852104187 seconds\n",
      "==== DONE LOOP 6 ====\n",
      "******\n",
      "Loop 7\n",
      "Epoch 1/100\n",
      "11/11 [==============================] - 18s 2s/step - loss: 0.1667 - dice_coeff: 0.7639 - val_loss: 0.1913 - val_dice_coeff: 0.6247\n",
      "Epoch 2/100\n",
      "11/11 [==============================] - 11s 987ms/step - loss: 0.1671 - dice_coeff: 0.7618 - val_loss: 0.1645 - val_dice_coeff: 0.7240\n",
      "Epoch 3/100\n",
      "11/11 [==============================] - 11s 1s/step - loss: 0.1632 - dice_coeff: 0.7632 - val_loss: 0.2421 - val_dice_coeff: 0.5635\n",
      "Epoch 4/100\n",
      "11/11 [==============================] - 11s 987ms/step - loss: 0.1665 - dice_coeff: 0.7627 - val_loss: 0.1612 - val_dice_coeff: 0.7172\n",
      "Epoch 5/100\n",
      "11/11 [==============================] - 11s 1s/step - loss: 0.1632 - dice_coeff: 0.7605 - val_loss: 0.2072 - val_dice_coeff: 0.6136\n",
      "Epoch 6/100\n",
      "11/11 [==============================] - 11s 1s/step - loss: 0.1659 - dice_coeff: 0.7618 - val_loss: 0.2168 - val_dice_coeff: 0.5953\n",
      "Epoch 7/100\n",
      "11/11 [==============================] - 11s 1s/step - loss: 0.1634 - dice_coeff: 0.7635 - val_loss: 0.1795 - val_dice_coeff: 0.7279\n",
      "Model saved to: /tmp/tmpv219wmgfGP2/unet3plus_6unet3plus_model\n",
      "History saved to: /tmp/tmpv219wmgfGP2/unet3plus_history_6.pkl\n",
      "Testing the classifier...\n",
      "Testing the discriminator...\n",
      "12/12 [==============================] - 1s 41ms/step - loss: 7.0271 - accuracy: 0.7990\n",
      "Replacing 41 from 123 !\n",
      "D_relabeled_ 41\n",
      "point ids 41\n",
      "Removed: 41 Filled: 41\n",
      "TOOK 186.27926969528198 seconds\n",
      "==== DONE LOOP 7 ====\n",
      "******\n",
      "Loop 8\n",
      "Epoch 1/100\n",
      "12/12 [==============================] - 16s 1s/step - loss: 0.1630 - dice_coeff: 0.7645 - val_loss: 0.1876 - val_dice_coeff: 0.6500\n",
      "Epoch 2/100\n",
      "12/12 [==============================] - 11s 959ms/step - loss: 0.1585 - dice_coeff: 0.7660 - val_loss: 0.1606 - val_dice_coeff: 0.7375\n",
      "Epoch 3/100\n",
      "12/12 [==============================] - 12s 990ms/step - loss: 0.1641 - dice_coeff: 0.7504 - val_loss: 0.1659 - val_dice_coeff: 0.6807\n",
      "Epoch 4/100\n",
      "12/12 [==============================] - 11s 961ms/step - loss: 0.1595 - dice_coeff: 0.7624 - val_loss: 0.1560 - val_dice_coeff: 0.7192\n",
      "Model saved to: /tmp/tmpv219wmgfGP2/unet3plus_7unet3plus_model\n",
      "History saved to: /tmp/tmpv219wmgfGP2/unet3plus_history_7.pkl\n",
      "Testing the classifier...\n",
      "Testing the discriminator...\n",
      "12/12 [==============================] - 1s 39ms/step - loss: 6.6046 - accuracy: 0.8042\n",
      "Replacing 45 from 137 !\n",
      "D_relabeled_ 45\n",
      "point ids 45\n",
      "Removed: 45 Filled: 45\n",
      "TOOK 127.20071411132812 seconds\n",
      "==== DONE LOOP 8 ====\n"
     ]
    }
   ],
   "source": [
    "R.run(images=images, masks=masks, weights=weights, runs=8)"
   ]
  },
  {
   "cell_type": "code",
   "execution_count": null,
   "id": "dab6fd49",
   "metadata": {},
   "outputs": [],
   "source": []
  },
  {
   "cell_type": "code",
   "execution_count": 10,
   "id": "00075332",
   "metadata": {},
   "outputs": [
    {
     "data": {
      "text/plain": [
       "[[0.5009759068489075, 0.40262946486473083],\n",
       " [0.41936391592025757, 0.38937872648239136],\n",
       " [0.31825223565101624, 0.49813249707221985],\n",
       " [0.2543030381202698, 0.5226679444313049],\n",
       " [0.21487830579280853, 0.6082583069801331],\n",
       " [0.17822550237178802, 0.6963765025138855],\n",
       " [0.1901296079158783, 0.7252477407455444],\n",
       " [0.1769774854183197, 0.7049188613891602]]"
      ]
     },
     "execution_count": 10,
     "metadata": {},
     "output_type": "execute_result"
    }
   ],
   "source": [
    "R.classifier_scores"
   ]
  },
  {
   "cell_type": "code",
   "execution_count": 11,
   "id": "35105656",
   "metadata": {},
   "outputs": [
    {
     "data": {
      "text/plain": [
       "[[0.6379176378250122, 0.9791122674942017],\n",
       " [0.28614917397499084, 0.9817232489585876],\n",
       " [0.18912599980831146, 0.9843342304229736],\n",
       " [0.2793976664543152, 0.9817232489585876],\n",
       " [3.390721321105957, 0.8616188168525696],\n",
       " [2.246811628341675, 0.8903394341468811],\n",
       " [7.0270538330078125, 0.7989556193351746],\n",
       " [6.604609489440918, 0.8041775226593018]]"
      ]
     },
     "execution_count": 11,
     "metadata": {},
     "output_type": "execute_result"
    }
   ],
   "source": [
    "R.discriminator_scores"
   ]
  },
  {
   "cell_type": "code",
   "execution_count": 12,
   "id": "e256ed4d",
   "metadata": {},
   "outputs": [
    {
     "data": {
      "image/png": "[encoded data removed]",
      "text/plain": [
       "<Figure size 240x240 with 1 Axes>"
      ]
     },
     "metadata": {
      "needs_background": "light"
     },
     "output_type": "display_data"
    }
   ],
   "source": [
    "R.plot()"
   ]
  },
  {
   "cell_type": "code",
   "execution_count": null,
   "id": "7dca2275",
   "metadata": {},
   "outputs": [],
   "source": []
  },
  {
   "cell_type": "code",
   "execution_count": null,
   "id": "b1ec788d",
   "metadata": {},
   "outputs": [],
   "source": []
  },
  {
   "cell_type": "code",
   "execution_count": null,
   "id": "0553618c",
   "metadata": {},
   "outputs": [],
   "source": []
  },
  {
   "cell_type": "code",
   "execution_count": null,
   "id": "40efc1ca",
   "metadata": {},
   "outputs": [],
   "source": []
  },
  {
   "cell_type": "code",
   "execution_count": null,
   "id": "52194054",
   "metadata": {},
   "outputs": [],
   "source": []
  },
  {
   "cell_type": "code",
   "execution_count": null,
   "id": "af59bc12",
   "metadata": {},
   "outputs": [],
   "source": []
  },
  {
   "cell_type": "code",
   "execution_count": null,
   "id": "0a721a90",
   "metadata": {},
   "outputs": [],
   "source": []
  },
  {
   "cell_type": "code",
   "execution_count": null,
   "id": "551de181",
   "metadata": {},
   "outputs": [],
   "source": []
  }
 ],
 "metadata": {
  "kernelspec": {
   "display_name": "Python 3 (ipykernel)",
   "language": "python",
   "name": "python3"
  },
  "language_info": {
   "codemirror_mode": {
    "name": "ipython",
    "version": 3
   },
   "file_extension": ".py",
   "mimetype": "text/x-python",
   "name": "python",
   "nbconvert_exporter": "python",
   "pygments_lexer": "ipython3",
   "version": "3.9.7"
  }
 },
 "nbformat": 4,
 "nbformat_minor": 5
}
