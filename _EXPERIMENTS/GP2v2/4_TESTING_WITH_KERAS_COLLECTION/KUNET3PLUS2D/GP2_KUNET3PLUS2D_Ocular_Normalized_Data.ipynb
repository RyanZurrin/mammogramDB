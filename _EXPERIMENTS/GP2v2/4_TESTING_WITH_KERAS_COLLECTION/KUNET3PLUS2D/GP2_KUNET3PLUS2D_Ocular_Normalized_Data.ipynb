{
 "cells": [
  {
   "cell_type": "code",
   "execution_count": 1,
   "id": "06c4accc",
   "metadata": {},
   "outputs": [
    {
     "name": "stdout",
     "output_type": "stream",
     "text": [
      "Populating the interactive namespace from numpy and matplotlib\n"
     ]
    }
   ],
   "source": [
    "%pylab inline\n",
    "%load_ext autoreload\n",
    "%autoreload 2"
   ]
  },
  {
   "cell_type": "code",
   "execution_count": 3,
   "id": "b9e78ed8",
   "metadata": {},
   "outputs": [
    {
     "name": "stdout",
     "output_type": "stream",
     "text": [
      "-----------------------------------------\n",
      "keras-unet init: TF version is >= 2.0.0 - using `tf.keras` instead of `Keras`\n",
      "-----------------------------------------\n"
     ]
    }
   ],
   "source": [
    "import time\n",
    "import sys\n",
    "sys.path.insert(0,'../../..')\n",
    "from omama import gp2\n",
    "from omama.gp2 import Runner\n",
    "from keras import losses, metrics\n",
    "from tensorflow.keras import optimizers"
   ]
  },
  {
   "cell_type": "code",
   "execution_count": 4,
   "id": "bdc75325",
   "metadata": {},
   "outputs": [
    {
     "name": "stdout",
     "output_type": "stream",
     "text": [
      "KUNet3Plus2D: None, None, None\n",
      "*** GP2  KUNet3Plus2D ***\n",
      "Working directory: /tmp/tmpb9jgxtfnGP2\n",
      "Using  discriminator (CNN+)\n"
     ]
    }
   ],
   "source": [
    "R = Runner(classifier='kunet3plus2d',\n",
    "           discriminator='cnnplus',\n",
    "           filter_num_down=[16, 32, 64, 128, 256], \n",
    "           filter_num_skip=[16, 16, 16, 16], \n",
    "           filter_num_aggregate=32, \n",
    "           stack_num_down=2, \n",
    "           stack_num_up=1, \n",
    "           activation='ReLU', \n",
    "           output_activation='Sigmoid', \n",
    "           batch_norm=False, \n",
    "           pool=False, \n",
    "           unpool=False, \n",
    "           deep_supervision=False, \n",
    "           optimizer=None, \n",
    "           loss=None,\n",
    "           metric=None\n",
    "          )"
   ]
  },
  {
   "cell_type": "code",
   "execution_count": 5,
   "id": "87b0c65d",
   "metadata": {},
   "outputs": [],
   "source": [
    "# load our larger toy dataset (10k images and masks)\n",
    "images = np.load('/hpcstor6/scratch01/r/ryan.zurrin001/gp2_ocular_normalized_images.npy')\n",
    "masks = np.load('/hpcstor6/scratch01/r/ryan.zurrin001/gp2_ocular_normalized_masks.npy')"
   ]
  },
  {
   "cell_type": "code",
   "execution_count": 6,
   "id": "7330ad24",
   "metadata": {},
   "outputs": [],
   "source": [
    "images = images[:6392]\n",
    "masks = masks[:6392]"
   ]
  },
  {
   "cell_type": "code",
   "execution_count": 7,
   "id": "d5b4179a",
   "metadata": {},
   "outputs": [
    {
     "data": {
      "text/plain": [
       "(6392, 512, 512, 1)"
      ]
     },
     "execution_count": 7,
     "metadata": {},
     "output_type": "execute_result"
    }
   ],
   "source": [
    "images.shape"
   ]
  },
  {
   "cell_type": "code",
   "execution_count": 8,
   "id": "57033c4e",
   "metadata": {},
   "outputs": [
    {
     "data": {
      "text/plain": [
       "(6392, 512, 512, 1)"
      ]
     },
     "execution_count": 8,
     "metadata": {},
     "output_type": "execute_result"
    }
   ],
   "source": [
    "masks.shape"
   ]
  },
  {
   "cell_type": "code",
   "execution_count": 9,
   "id": "1dd71668",
   "metadata": {},
   "outputs": [],
   "source": [
    "weights = {\n",
    "    'A': 0.5,\n",
    "    'A_train': 0.1,\n",
    "    'A_val': 0.3,\n",
    "    'A_test': 0.6,\n",
    "    'B': 0.3,\n",
    "    'B_train': 0.7,\n",
    "    'B_val': 0.1,\n",
    "    'B_test': 0.2,\n",
    "    'Z': 0.2\n",
    "}"
   ]
  },
  {
   "cell_type": "code",
   "execution_count": 10,
   "id": "d8ff85c4",
   "metadata": {
    "scrolled": false
   },
   "outputs": [
    {
     "name": "stdout",
     "output_type": "stream",
     "text": [
      "Weights OK!\n",
      "******\n",
      "Loop 1\n",
      "Epoch 1/100\n",
      "5/5 [==============================] - 35s 5s/step - loss: 0.6638 - dice_coeff: 0.3193 - val_loss: 0.6917 - val_dice_coeff: 0.2704\n",
      "Epoch 2/100\n",
      "5/5 [==============================] - 7s 1s/step - loss: 0.5638 - dice_coeff: 0.3722 - val_loss: 0.6893 - val_dice_coeff: 0.2702\n",
      "Epoch 3/100\n",
      "5/5 [==============================] - 7s 1s/step - loss: 0.4946 - dice_coeff: 0.4247 - val_loss: 0.6860 - val_dice_coeff: 0.2699\n",
      "Epoch 4/100\n",
      "5/5 [==============================] - 7s 1s/step - loss: 0.4310 - dice_coeff: 0.4818 - val_loss: 0.6820 - val_dice_coeff: 0.2694\n",
      "Epoch 5/100\n",
      "5/5 [==============================] - 7s 2s/step - loss: 0.3796 - dice_coeff: 0.5363 - val_loss: 0.6774 - val_dice_coeff: 0.2689\n",
      "Epoch 6/100\n",
      "5/5 [==============================] - 7s 1s/step - loss: 0.3454 - dice_coeff: 0.5774 - val_loss: 0.6720 - val_dice_coeff: 0.2683\n",
      "Epoch 7/100\n",
      "5/5 [==============================] - 7s 1s/step - loss: 0.3120 - dice_coeff: 0.6178 - val_loss: 0.6660 - val_dice_coeff: 0.2676\n",
      "Epoch 8/100\n",
      "5/5 [==============================] - 7s 1s/step - loss: 0.2940 - dice_coeff: 0.6441 - val_loss: 0.6594 - val_dice_coeff: 0.2668\n",
      "Epoch 9/100\n",
      "5/5 [==============================] - 7s 1s/step - loss: 0.2806 - dice_coeff: 0.6616 - val_loss: 0.6522 - val_dice_coeff: 0.2659\n",
      "Epoch 10/100\n",
      "5/5 [==============================] - 7s 2s/step - loss: 0.2702 - dice_coeff: 0.6766 - val_loss: 0.6447 - val_dice_coeff: 0.2648\n",
      "Epoch 11/100\n",
      "5/5 [==============================] - 7s 2s/step - loss: 0.2678 - dice_coeff: 0.6818 - val_loss: 0.6370 - val_dice_coeff: 0.2636\n",
      "Epoch 12/100\n",
      "5/5 [==============================] - 7s 2s/step - loss: 0.2575 - dice_coeff: 0.6941 - val_loss: 0.6289 - val_dice_coeff: 0.2624\n",
      "Epoch 13/100\n",
      "5/5 [==============================] - 7s 1s/step - loss: 0.2528 - dice_coeff: 0.7025 - val_loss: 0.6203 - val_dice_coeff: 0.2611\n",
      "Epoch 14/100\n",
      "5/5 [==============================] - 7s 2s/step - loss: 0.2525 - dice_coeff: 0.7021 - val_loss: 0.6112 - val_dice_coeff: 0.2598\n",
      "Epoch 15/100\n",
      "5/5 [==============================] - 7s 2s/step - loss: 0.2443 - dice_coeff: 0.7127 - val_loss: 0.6019 - val_dice_coeff: 0.2582\n",
      "Epoch 16/100\n",
      "5/5 [==============================] - 7s 2s/step - loss: 0.2391 - dice_coeff: 0.7156 - val_loss: 0.5927 - val_dice_coeff: 0.2564\n",
      "Epoch 17/100\n",
      "5/5 [==============================] - 7s 2s/step - loss: 0.2385 - dice_coeff: 0.7186 - val_loss: 0.5835 - val_dice_coeff: 0.2546\n",
      "Epoch 18/100\n",
      "5/5 [==============================] - 7s 1s/step - loss: 0.2419 - dice_coeff: 0.7165 - val_loss: 0.5747 - val_dice_coeff: 0.2525\n",
      "Epoch 19/100\n",
      "5/5 [==============================] - 7s 2s/step - loss: 0.2311 - dice_coeff: 0.7264 - val_loss: 0.5661 - val_dice_coeff: 0.2503\n",
      "Epoch 20/100\n",
      "5/5 [==============================] - 7s 1s/step - loss: 0.2389 - dice_coeff: 0.7191 - val_loss: 0.5579 - val_dice_coeff: 0.2483\n",
      "Epoch 21/100\n",
      "5/5 [==============================] - 7s 2s/step - loss: 0.2346 - dice_coeff: 0.7233 - val_loss: 0.5498 - val_dice_coeff: 0.2459\n",
      "Model saved to: /tmp/tmpb9jgxtfnGP2/unet3plus_0unet3plus_model\n",
      "History saved to: /tmp/tmpb9jgxtfnGP2/unet3plus_history_0.pkl\n",
      "Testing the classifier...\n",
      "****** TRAINING DISCRIMINATOR ******\n",
      "Model saved to /tmp/tmpb9jgxtfnGP2/cnnd_0.model\n",
      "History saved to /tmp/tmpb9jgxtfnGP2/cnnd_history_0.pickle\n",
      "Testing the discriminator...\n",
      "12/12 [==============================] - 1s 40ms/step - loss: 5.2701e-05 - accuracy: 1.0000\n",
      "Replacing 64 from 194 !\n",
      "D_relabeled_ 64\n",
      "point ids 64\n",
      "Removed: 64 Filled: 64\n",
      "TOOK 463.4213876724243 seconds\n",
      "==== DONE LOOP 1 ====\n",
      "******\n",
      "Loop 2\n",
      "Epoch 1/100\n",
      "6/6 [==============================] - 8s 1s/step - loss: 0.2271 - dice_coeff: 0.7258 - val_loss: 0.5408 - val_dice_coeff: 0.2425\n",
      "Epoch 2/100\n",
      "6/6 [==============================] - 8s 1s/step - loss: 0.2328 - dice_coeff: 0.7197 - val_loss: 0.5322 - val_dice_coeff: 0.2394\n",
      "Epoch 3/100\n",
      "6/6 [==============================] - 7s 1s/step - loss: 0.2243 - dice_coeff: 0.7261 - val_loss: 0.5247 - val_dice_coeff: 0.2354\n",
      "Epoch 4/100\n",
      "6/6 [==============================] - 8s 1s/step - loss: 0.2208 - dice_coeff: 0.7295 - val_loss: 0.5177 - val_dice_coeff: 0.2316\n",
      "Epoch 5/100\n",
      "6/6 [==============================] - 8s 1s/step - loss: 0.2287 - dice_coeff: 0.7239 - val_loss: 0.5108 - val_dice_coeff: 0.2287\n",
      "Epoch 6/100\n",
      "6/6 [==============================] - 8s 1s/step - loss: 0.2166 - dice_coeff: 0.7318 - val_loss: 0.5052 - val_dice_coeff: 0.2244\n",
      "Epoch 7/100\n",
      "6/6 [==============================] - 8s 1s/step - loss: 0.2304 - dice_coeff: 0.7219 - val_loss: 0.5006 - val_dice_coeff: 0.2198\n",
      "Epoch 8/100\n",
      "6/6 [==============================] - 8s 1s/step - loss: 0.2163 - dice_coeff: 0.7329 - val_loss: 0.4948 - val_dice_coeff: 0.2174\n",
      "Epoch 9/100\n",
      "6/6 [==============================] - 8s 1s/step - loss: 0.2159 - dice_coeff: 0.7341 - val_loss: 0.4914 - val_dice_coeff: 0.2126\n",
      "Epoch 10/100\n",
      "6/6 [==============================] - 8s 1s/step - loss: 0.2155 - dice_coeff: 0.7344 - val_loss: 0.4895 - val_dice_coeff: 0.2067\n",
      "Epoch 11/100\n",
      "6/6 [==============================] - 8s 1s/step - loss: 0.2149 - dice_coeff: 0.7341 - val_loss: 0.4860 - val_dice_coeff: 0.2036\n",
      "Epoch 12/100\n",
      "6/6 [==============================] - 8s 1s/step - loss: 0.2099 - dice_coeff: 0.7381 - val_loss: 0.4852 - val_dice_coeff: 0.1981\n",
      "Epoch 13/100\n",
      "6/6 [==============================] - 8s 1s/step - loss: 0.2124 - dice_coeff: 0.7373 - val_loss: 0.4846 - val_dice_coeff: 0.1931\n",
      "Epoch 14/100\n",
      "6/6 [==============================] - 8s 1s/step - loss: 0.2089 - dice_coeff: 0.7392 - val_loss: 0.4849 - val_dice_coeff: 0.1879\n",
      "Epoch 15/100\n",
      "6/6 [==============================] - 8s 1s/step - loss: 0.2048 - dice_coeff: 0.7444 - val_loss: 0.4863 - val_dice_coeff: 0.1823\n",
      "Epoch 16/100\n",
      "6/6 [==============================] - 7s 1s/step - loss: 0.2028 - dice_coeff: 0.7470 - val_loss: 0.4885 - val_dice_coeff: 0.1764\n",
      "Epoch 17/100\n",
      "6/6 [==============================] - 7s 1s/step - loss: 0.2073 - dice_coeff: 0.7434 - val_loss: 0.4910 - val_dice_coeff: 0.1710\n",
      "Epoch 18/100\n",
      "6/6 [==============================] - 8s 1s/step - loss: 0.2049 - dice_coeff: 0.7462 - val_loss: 0.4925 - val_dice_coeff: 0.1667\n",
      "Model saved to: /tmp/tmpb9jgxtfnGP2/unet3plus_1unet3plus_model\n",
      "History saved to: /tmp/tmpb9jgxtfnGP2/unet3plus_history_1.pkl\n",
      "Testing the classifier...\n",
      "Testing the discriminator...\n",
      "12/12 [==============================] - 0s 36ms/step - loss: 2.4862e-05 - accuracy: 1.0000\n",
      "Replacing 61 from 185 !\n",
      "D_relabeled_ 61\n",
      "point ids 61\n",
      "Removed: 61 Filled: 61\n",
      "TOOK 307.3774425983429 seconds\n",
      "==== DONE LOOP 2 ====\n",
      "******\n",
      "Loop 3\n",
      "Epoch 1/100\n",
      "7/7 [==============================] - 18s 3s/step - loss: 0.2021 - dice_coeff: 0.7417 - val_loss: 0.4969 - val_dice_coeff: 0.1603\n",
      "Epoch 2/100\n",
      "7/7 [==============================] - 8s 1s/step - loss: 0.2063 - dice_coeff: 0.7389 - val_loss: 0.5010 - val_dice_coeff: 0.1546\n",
      "Epoch 3/100\n",
      "7/7 [==============================] - 8s 1s/step - loss: 0.1993 - dice_coeff: 0.7433 - val_loss: 0.5062 - val_dice_coeff: 0.1487\n",
      "Epoch 4/100\n",
      "7/7 [==============================] - 8s 1s/step - loss: 0.2033 - dice_coeff: 0.7399 - val_loss: 0.5129 - val_dice_coeff: 0.1421\n",
      "Epoch 5/100\n",
      "7/7 [==============================] - 8s 1s/step - loss: 0.1935 - dice_coeff: 0.7464 - val_loss: 0.5175 - val_dice_coeff: 0.1374\n",
      "Epoch 6/100\n",
      "7/7 [==============================] - 8s 1s/step - loss: 0.1961 - dice_coeff: 0.7467 - val_loss: 0.5272 - val_dice_coeff: 0.1299\n",
      "Epoch 7/100\n",
      "7/7 [==============================] - 8s 1s/step - loss: 0.1932 - dice_coeff: 0.7489 - val_loss: 0.5332 - val_dice_coeff: 0.1252\n",
      "Epoch 8/100\n",
      "7/7 [==============================] - 8s 1s/step - loss: 0.1889 - dice_coeff: 0.7552 - val_loss: 0.5410 - val_dice_coeff: 0.1196\n",
      "Epoch 9/100\n",
      "7/7 [==============================] - 8s 1s/step - loss: 0.2121 - dice_coeff: 0.7336 - val_loss: 0.5392 - val_dice_coeff: 0.1199\n",
      "Epoch 10/100\n",
      "7/7 [==============================] - 8s 1s/step - loss: 0.1959 - dice_coeff: 0.7491 - val_loss: 0.5438 - val_dice_coeff: 0.1165\n",
      "Model saved to: /tmp/tmpb9jgxtfnGP2/unet3plus_2unet3plus_model\n",
      "History saved to: /tmp/tmpb9jgxtfnGP2/unet3plus_history_2.pkl\n",
      "Testing the classifier...\n",
      "Testing the discriminator...\n",
      "12/12 [==============================] - 1s 38ms/step - loss: 2.4539e-05 - accuracy: 1.0000\n",
      "Replacing 67 from 201 !\n",
      "D_relabeled_ 67\n",
      "point ids 67\n",
      "Removed: 67 Filled: 67\n",
      "TOOK 185.57730889320374 seconds\n",
      "==== DONE LOOP 3 ====\n"
     ]
    }
   ],
   "source": [
    "R.run(images=images, masks=masks, weights=weights, runs=3)"
   ]
  },
  {
   "cell_type": "code",
   "execution_count": null,
   "id": "dab6fd49",
   "metadata": {},
   "outputs": [],
   "source": []
  },
  {
   "cell_type": "code",
   "execution_count": 11,
   "id": "00075332",
   "metadata": {},
   "outputs": [
    {
     "data": {
      "text/plain": [
       "[[0.5476122498512268, 0.24668613076210022],\n",
       " [0.4907791316509247, 0.16880707442760468],\n",
       " [0.5499818325042725, 0.11754066497087479]]"
      ]
     },
     "execution_count": 11,
     "metadata": {},
     "output_type": "execute_result"
    }
   ],
   "source": [
    "R.classifier_scores"
   ]
  },
  {
   "cell_type": "code",
   "execution_count": 12,
   "id": "35105656",
   "metadata": {},
   "outputs": [
    {
     "data": {
      "text/plain": [
       "[[5.270109249977395e-05, 1.0],\n",
       " [2.4861581550794654e-05, 1.0],\n",
       " [2.4538629077142105e-05, 1.0]]"
      ]
     },
     "execution_count": 12,
     "metadata": {},
     "output_type": "execute_result"
    }
   ],
   "source": [
    "R.discriminator_scores"
   ]
  },
  {
   "cell_type": "code",
   "execution_count": 13,
   "id": "e256ed4d",
   "metadata": {},
   "outputs": [
    {
     "data": {
      "image/png": "[encoded data removed]",
      "text/plain": [
       "<Figure size 240x240 with 1 Axes>"
      ]
     },
     "metadata": {
      "needs_background": "light"
     },
     "output_type": "display_data"
    }
   ],
   "source": [
    "R.plot()"
   ]
  },
  {
   "cell_type": "code",
   "execution_count": null,
   "id": "7dca2275",
   "metadata": {},
   "outputs": [],
   "source": []
  },
  {
   "cell_type": "code",
   "execution_count": 14,
   "id": "b1ec788d",
   "metadata": {},
   "outputs": [
    {
     "data": {
      "image/png": "[encoded data removed]",
      "text/plain": [
       "<Figure size 240x240 with 1 Axes>"
      ]
     },
     "metadata": {
      "needs_background": "light"
     },
     "output_type": "display_data"
    }
   ],
   "source": [
    "R.plot()"
   ]
  },
  {
   "cell_type": "code",
   "execution_count": null,
   "id": "0553618c",
   "metadata": {},
   "outputs": [],
   "source": []
  },
  {
   "cell_type": "code",
   "execution_count": null,
   "id": "40efc1ca",
   "metadata": {},
   "outputs": [],
   "source": []
  },
  {
   "cell_type": "code",
   "execution_count": null,
   "id": "52194054",
   "metadata": {},
   "outputs": [],
   "source": []
  },
  {
   "cell_type": "code",
   "execution_count": null,
   "id": "af59bc12",
   "metadata": {},
   "outputs": [],
   "source": []
  },
  {
   "cell_type": "code",
   "execution_count": null,
   "id": "0a721a90",
   "metadata": {},
   "outputs": [],
   "source": []
  },
  {
   "cell_type": "code",
   "execution_count": null,
   "id": "551de181",
   "metadata": {},
   "outputs": [],
   "source": []
  }
 ],
 "metadata": {
  "kernelspec": {
   "display_name": "Python 3 (ipykernel)",
   "language": "python",
   "name": "python3"
  },
  "language_info": {
   "codemirror_mode": {
    "name": "ipython",
    "version": 3
   },
   "file_extension": ".py",
   "mimetype": "text/x-python",
   "name": "python",
   "nbconvert_exporter": "python",
   "pygments_lexer": "ipython3",
   "version": "3.9.7"
  }
 },
 "nbformat": 4,
 "nbformat_minor": 5
}
